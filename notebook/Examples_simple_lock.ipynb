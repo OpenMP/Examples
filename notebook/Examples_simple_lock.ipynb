{
 "cells": [
{
 "cell_type": "markdown",
 "metadata": {},
 "source": [
  " #### Simple Lock Routines"
   ]
  },
{
 "cell_type": "markdown",
 "metadata": {},
 "source": [
  " In the following example, the lock routines cause the threads to be idle while  waiting for entry to the first critical section, but to do other work while waiting  for entry to the second. The  `omp_set_lock`  function blocks, but the  `omp_test_lock`   function does not, allowing the work in  `skip`  to be done. "
   ]
  },
{
 "cell_type": "markdown",
 "metadata": {},
 "source": [
  " Note that the argument to the lock routines should have type  `omp_lock_t` ,  and that there is no need to flush it. "
   ]
  },
{
 "cell_type": "code",
 "execution_count": null,
 "metadata": {},
 "outputs": [],
 "source": [
 "%load ../sources/Example_simple_lock.1.c"
   ]
  },
{
 "cell_type": "markdown",
 "metadata": {},
 "source": [
  " Note that there is no need to flush the lock variable. "
   ]
  },
{
 "cell_type": "code",
 "execution_count": null,
 "metadata": {},
 "outputs": [],
 "source": [
 "%load ../sources/Example_simple_lock.1.f"
   ]
  },
{
 "cell_type": "markdown",
 "metadata": {},
 "source": [
  "---end---"
   ]
  }
],
"metadata": {
 "kernelspec": {
  "display_name": "C",
  "language": "c",
  "name": "c"
 },
 "language_info": {
  "file_extension": ".c",
  "mimetype": "text/plain",
  "name": "c"
 }
},
"nbformat": 4,
"nbformat_minor": 2
}
