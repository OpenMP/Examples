{
 "cells": [
{
 "cell_type": "markdown",
 "metadata": {},
 "source": [
  " ### The  `copyin`  Clause"
   ]
  },
{
 "cell_type": "markdown",
 "metadata": {},
 "source": [
  " The  `copyin`  clause is used to initialize threadprivate data upon entry  to a  `parallel`  region. The value of the threadprivate variable in the master  thread is copied to the threadprivate variable of each other team member."
   ]
  },
{
 "cell_type": "code",
 "execution_count": null,
 "metadata": {},
 "outputs": [],
 "source": [
 "%load ../sources/Example_copyin.1.c"
   ]
  },
{
 "cell_type": "code",
 "execution_count": null,
 "metadata": {},
 "outputs": [],
 "source": [
 "%load ../sources/Example_copyin.1.f"
   ]
  },
{
 "cell_type": "markdown",
 "metadata": {},
 "source": [
  "---end---"
   ]
  }
],
"metadata": {
 "kernelspec": {
  "display_name": "C",
  "language": "c",
  "name": "c"
 },
 "language_info": {
  "file_extension": ".c",
  "mimetype": "text/plain",
  "name": "c"
 }
},
"nbformat": 4,
"nbformat_minor": 2
}
