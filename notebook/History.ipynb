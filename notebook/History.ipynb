{
 "cells": [
  {
   "cell_type": "markdown",
   "metadata": {},
   "source": [
    " ## Document Revision History "
   ]
  },
  {
   "cell_type": "markdown",
   "metadata": {},
   "source": [
    " ### Changes from 4.0.2 to 4.5.0 "
   ]
  },
  {
   "cell_type": "markdown",
   "metadata": {},
   "source": [
    "  \n",
"* Reorganized into chapters of major topics \n",
"* Included file extensions in example labels to indicate source type \n",
"* Applied the explicit  `map(tofrom)`  for scalar variables  in a number of examples to comply with  the change of the default behavior for scalar variables from   `map(tofrom)`  to  `firstprivate`  in the 4.5 specification \n",
"* Added the following new examples:  \n",
"*  `linear`  clause in loop constructs () \n",
"* task priority () \n",
"*  `taskloop`  construct () \n",
"*  _directive-name_  modifier in multiple  `if`  clauses on a combined construct () \n",
"* unstructured data mapping () \n",
"*  `link`  clause for  `declare` ~ `target`  directive  () \n",
"* asynchronous target execution with  `nowait`  clause () \n",
"* device memory routines and device pointers () \n",
"* doacross loop nest () \n",
"* locks with hints () \n",
"* C/C++ array reduction () \n",
"* C++ reference types in data sharing clauses ()   "
   ]
  },
  {
   "cell_type": "markdown",
   "metadata": {},
   "source": [
    " ### Changes from 4.0.1 to 4.0.2 "
   ]
  },
  {
   "cell_type": "markdown",
   "metadata": {},
   "source": [
    "  \n",
"* Names of examples were changed from numbers to mnemonics \n",
"* Added SIMD examples () \n",
"* Applied miscellaneous fixes in several source codes \n",
"* Added the revision history  "
   ]
  },
  {
   "cell_type": "markdown",
   "metadata": {},
   "source": [
    " ### Changes from 4.0 to 4.0.1 "
   ]
  },
  {
   "cell_type": "markdown",
   "metadata": {},
   "source": [
    " Added the following new examples:  \n",
"* the  `proc_bind`  clause () \n",
"* the  `taskgroup`  construct ()  "
   ]
  },
  {
   "cell_type": "markdown",
   "metadata": {},
   "source": [
    " ### Changes from 3.1 to 4.0 "
   ]
  },
  {
   "cell_type": "markdown",
   "metadata": {},
   "source": [
    " Beginning with OpenMP 4.0, examples were placed in a separate document from the specification document. "
   ]
  },
  {
   "cell_type": "markdown",
   "metadata": {},
   "source": [
    " Version 4.0 added the following new examples:  \n",
"* task dependences () \n",
"*  `target`  construct () \n",
"*  `target`   `data`  construct () \n",
"*  `target`   `update`  construct () \n",
"*  `declare`   `target`  construct () \n",
"*  `teams`  constructs () \n",
"* asynchronous execution of a  `target`  region using tasks  () \n",
"* array sections in device constructs () \n",
"* device runtime routines () \n",
"* Fortran ASSOCIATE construct () \n",
"* cancellation constructs ()  "
   ]
  },
  {
   "cell_type": "markdown",
   "metadata": {},
   "source": [
    "---end--- "
   ]
  }
 ],
 "metadata": {
  "kernelspec": {
   "display_name": "C",
   "language": "c",
   "name": "c"
  },
  "language_info": {
   "file_extension": ".c",
   "mimetype": "text/plain",
   "name": "c"
  }
 },
 "nbformat": 4,
 "nbformat_minor": 2
}
