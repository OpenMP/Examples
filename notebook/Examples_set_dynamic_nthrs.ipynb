{
 "cells": [
 {
  "cell_type": "markdown",
  "metadata": {},
  "source": [
   "section{The  `omp_set_dynamic`  and  "
   ]
  },
 {
  "cell_type": "markdown",
  "metadata": {},
  "source": [
   "  `omp_set_num_threads`  Routines} "
   ]
  },
 {
  "cell_type": "markdown",
  "metadata": {},
  "source": [
   " Some programs rely on a fixed, prespecified number of threads to execute correctly.  Because the default setting for the dynamic adjustment of the number of threads  is implementation defined, such programs can choose to turn off the dynamic threads  capability and set the number of threads explicitly to ensure portability. The  following example shows how to do this using  `omp_set_dynamic` , and  `omp_set_num_threads` . "
   ]
  },
 {
  "cell_type": "markdown",
  "metadata": {},
  "source": [
   " In this example, the program executes correctly only if it is executed by 16 threads.  If the implementation is not capable of supporting 16 threads, the behavior of  this example is implementation defined. Note that the number of threads executing  a  `parallel`  region remains constant during the region, regardless of the  dynamic threads setting. The dynamic threads mechanism determines the number of  threads to use at the start of the  `parallel`  region and keeps it constant  for the duration of the region. "
   ]
  },
 {
  "cell_type": "code",
  "execution_count": null,
  "metadata": {},
  "outputs": [],
  "source": [
   "%load ../sources/Example_set_dynamic_nthrs.1.c "
   ]
  },
 {
  "cell_type": "code",
  "execution_count": null,
  "metadata": {},
  "outputs": [],
  "source": [
   "%load ../sources/Example_set_dynamic_nthrs.1.f "
   ]
  },
 {
  "cell_type": "markdown",
  "metadata": {},
  "source": [
   "---end--- "
   ]
  }
 ],
 "metadata": {
  "kernelspec": {
   "display_name": "C",
   "language": "c",
   "name": "c"
  },
  "language_info": {
   "file_extension": ".c",
   "mimetype": "text/plain",
   "name": "c"
  }
 },
 "nbformat": 4,
 "nbformat_minor": 2
}
