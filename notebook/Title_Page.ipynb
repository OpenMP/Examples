{
 "cells": [
  {
   "cell_type": "markdown",
   "metadata": {},
   "source": [
    " \n",
"\n",
"\n",
"\n",
"\n",
"\n",
"\n",
"\n",
"\n",
"\n",
"\n",
"\n",
"\n",
"\n",
"\n",
"\n",
"\n",
"\n",
"\n",
"\n",
"\n",
"\n",
"\n",
"\n",
"\n",
"\n",
"\n",
"\n",
"\n",
"\n",
"\n",
"\n",
"\n",
"\n",
"\n",
"\n",
"\n",
"\n",
"\n",
"\n",
"\n",
"\n",
"\n",
"\n",
"\n",
"\n",
"\n",
"\n",
"\n",
"\n",
"\n",
"\n",
"\n",
"\n",
"\n",
"\n",
"\n",
"\n",
"\n",
"\n",
"\n",
"\n",
"\n",
"\n",
"\n",
"\n",
"\n",
"\n",
"\n",
"\n",
"\n",
"\n",
"\n",
"\n",
"\n",
"\n",
"\n",
"\n",
"\n",
"\n",
"\n",
"\n",
"\n",
"\n",
"\n",
"\n",
"\n",
"\n",
"\n",
"\n",
"\n",
"\n",
"\n",
"\n",
" \n",
" Title page"
   ]
  },
  {
   "cell_type": "markdown",
   "metadata": {},
   "source": [
    "              hspace{-6em} includegraphics[width=0.4textwidth]{openmp-logo.png}     "
   ]
  },
  {
   "cell_type": "markdown",
   "metadata": {},
   "source": [
    "     {-0.75in}{0in}            Huge       textsf{OpenMPApplication ProgrammingInterface}"
   ]
  },
  {
   "cell_type": "markdown",
   "metadata": {},
   "source": [
    "       \n",
" An optional subtitle can go here:       vspace{0.5in}textsf{Examples}vspace{-0.7in}       normalsize"
   ]
  },
  {
   "cell_type": "markdown",
   "metadata": {},
   "source": [
    "       vspace{1.0in}"
   ]
  },
  {
   "cell_type": "markdown",
   "metadata": {},
   "source": [
    "       textbf{Version VER{} -- VERDATE}          "
   ]
  },
  {
   "cell_type": "markdown",
   "metadata": {},
   "source": [
    "     vspace{2.3in} \n",
"was 3.0"
   ]
  },
  {
   "cell_type": "markdown",
   "metadata": {},
   "source": [
    " Source codes for OpenMP VER{} Examples can be downloaded from   https://github.com/OpenMP/Examples/tree/vVER {github}."
   ]
  },
  {
   "cell_type": "markdown",
   "metadata": {},
   "source": [
    " {0pt}{1em}setlength{parskip}{0.25baselineskip}\n",
" Copyright © 1997-2016 OpenMP Architecture Review Board. Permission to copy without fee all or part of this material is granted, provided the OpenMP Architecture Review Board copyright notice and the title of this document appear. Notice is given that copying is by permission of OpenMP Architecture Review Board."
   ]
  },
  {
   "cell_type": "markdown",
   "metadata": {},
   "source": [
    "   "
   ]
  },
  {
   "cell_type": "markdown",
   "metadata": {},
   "source": [
    " \n",
" Blank page"
   ]
  },
  {
   "cell_type": "markdown",
   "metadata": {},
   "source": [
    " clearpage thispagestyle{empty} phantom{a} emph{This page intentionally left blank}"
   ]
  },
  {
   "cell_type": "markdown",
   "metadata": {},
   "source": [
    " \n",
"This working version enacted the following tickets: 180, 295, 299, 342, 381,  \n",
"and a few other editorial changes. vfill"
   ]
  },
  {
   "cell_type": "markdown",
   "metadata": {},
   "source": [
    "---end---"
   ]
  }
 ],
 "metadata": {
  "kernelspec": {
   "display_name": "C",
   "language": "c",
   "name": "c"
  },
  "language_info": {
   "file_extension": ".c",
   "mimetype": "text/plain",
   "name": "c"
  }
 },
 "nbformat": 4,
 "nbformat_minor": 2
}