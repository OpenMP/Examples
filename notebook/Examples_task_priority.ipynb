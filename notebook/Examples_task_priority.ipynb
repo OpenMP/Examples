{
 "cells": [
 {
  "cell_type": "markdown",
  "metadata": {},
  "source": [
   " ### Task Priority "
   ]
  },
 {
  "cell_type": "markdown",
  "metadata": {},
  "source": [
   " \n",
" #### Task Priority \n",
" "
   ]
  },
 {
  "cell_type": "markdown",
  "metadata": {},
  "source": [
   " In this example we compute arrays in a matrix through a  _compute_array_  routine. Each task has a priority value equal to the value of the loop variable  _i_  at the moment of its creation. A higher priority on a task means that a task is a candidate to run sooner. "
   ]
  },
 {
  "cell_type": "markdown",
  "metadata": {},
  "source": [
   " The creation of tasks occurs in ascending order (according to the iteration space of the loop) but a hint, by means of the  `priority`  clause, is provided to reverse the execution order. "
   ]
  },
 {
  "cell_type": "code",
  "execution_count": null,
  "metadata": {},
  "outputs": [],
  "source": [
   "%load ../sources/Example_task_priority.1.c "
   ]
  },
 {
  "cell_type": "code",
  "execution_count": null,
  "metadata": {},
  "outputs": [],
  "source": [
   "%load ../sources/Example_task_priority.1.f90 "
   ]
  },
 {
  "cell_type": "markdown",
  "metadata": {},
  "source": [
   "---end--- "
   ]
  }
 ],
 "metadata": {
  "kernelspec": {
   "display_name": "C",
   "language": "c",
   "name": "c"
  },
  "language_info": {
   "file_extension": ".c",
   "mimetype": "text/plain",
   "name": "c"
  }
 },
 "nbformat": 4,
 "nbformat_minor": 2
}
