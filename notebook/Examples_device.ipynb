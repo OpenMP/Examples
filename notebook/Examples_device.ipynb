{
 "cells": [
 {
  "cell_type": "markdown",
  "metadata": {},
  "source": [
   " ### Device Routines "
   ]
  },
 {
  "cell_type": "markdown",
  "metadata": {},
  "source": [
   " ####  `omp_is_initial_device`  Routine "
   ]
  },
 {
  "cell_type": "markdown",
  "metadata": {},
  "source": [
   " The following example shows how the  `omp_is_initial_device`  runtime library routine  can be used to query if a code is executing on the initial host device or on a  target device. The example then sets the number of threads in the  `parallel`   region based on where the code is executing. "
   ]
  },
 {
  "cell_type": "code",
  "execution_count": null,
  "metadata": {},
  "outputs": [],
  "source": [
  "%load ../sources/Example_device.1.c "
   ]
  },
 {
  "cell_type": "code",
  "execution_count": null,
  "metadata": {},
  "outputs": [],
  "source": [
  "%load ../sources/Example_device.1.f90 "
   ]
  },
 {
  "cell_type": "markdown",
  "metadata": {},
  "source": [
   " ####  `omp_get_num_devices`  Routine "
   ]
  },
 {
  "cell_type": "markdown",
  "metadata": {},
  "source": [
   " The following example shows how the  `omp_get_num_devices`  runtime library routine  can be used to determine the number of devices. "
   ]
  },
 {
  "cell_type": "code",
  "execution_count": null,
  "metadata": {},
  "outputs": [],
  "source": [
  "%load ../sources/Example_device.2.c "
   ]
  },
 {
  "cell_type": "code",
  "execution_count": null,
  "metadata": {},
  "outputs": [],
  "source": [
  "%load ../sources/Example_device.2.f90 "
   ]
  },
 {
  "cell_type": "markdown",
  "metadata": {},
  "source": [
   "subsection{ `omp_set_default_device`  and  "
   ]
  },
 {
  "cell_type": "markdown",
  "metadata": {},
  "source": [
   "  `omp_get_default_device`  Routines} "
   ]
  },
 {
  "cell_type": "markdown",
  "metadata": {},
  "source": [
   " The following example shows how the  `omp_set_default_device`  and  `omp_get_default_device`   runtime library routines can be used to set the default device and determine the  default device respectively. "
   ]
  },
 {
  "cell_type": "code",
  "execution_count": null,
  "metadata": {},
  "outputs": [],
  "source": [
  "%load ../sources/Example_device.3.c "
   ]
  },
 {
  "cell_type": "code",
  "execution_count": null,
  "metadata": {},
  "outputs": [],
  "source": [
  "%load ../sources/Example_device.3.f90 "
   ]
  },
 {
  "cell_type": "markdown",
  "metadata": {},
  "source": [
   "   #### Target Memory and Device Pointers Routines "
   ]
  },
 {
  "cell_type": "markdown",
  "metadata": {},
  "source": [
   " The following example shows how to create space on a device, transfer data to and from that space, and free the space, using API calls. The API calls directly execute allocation, copy and free operations on the device, without invoking any mapping through a  `target`  directive. The  `omp_target_alloc`  routine allocates space and returns a device pointer for referencing the space in the  `omp_target_memcpy`  API routine on the host. The  `omp_target_free`  routine frees the space on the device. "
   ]
  },
 {
  "cell_type": "markdown",
  "metadata": {},
  "source": [
   " The example also illustrates how to access that space in a  `target`  region by exposing the device pointer in an  `is_device_ptr`  clause. "
   ]
  },
 {
  "cell_type": "markdown",
  "metadata": {},
  "source": [
   " The example creates an array of cosine values on the default device, to be used on the host device. The function fails if a default device is not available. "
   ]
  },
 {
  "cell_type": "code",
  "execution_count": null,
  "metadata": {},
  "outputs": [],
  "source": [
  "%load ../sources/Example_device.4.c "
   ]
  },
 {
  "cell_type": "markdown",
  "metadata": {},
  "source": [
   "---end--- "
   ]
  }
],
"metadata": {
 "kernelspec": {
  "display_name": "C",
  "language": "c",
  "name": "c"
 },
 "language_info": {
  "file_extension": ".c",
  "mimetype": "text/plain",
  "name": "c"
 }
},
"nbformat": 4,
"nbformat_minor": 2
}
