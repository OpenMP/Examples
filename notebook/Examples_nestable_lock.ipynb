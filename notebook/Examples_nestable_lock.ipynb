{
 "cells": [
 {
  "cell_type": "markdown",
  "metadata": {},
  "source": [
   " #### Nestable Lock Routines "
   ]
  },
 {
  "cell_type": "markdown",
  "metadata": {},
  "source": [
   " The following example demonstrates how a nestable lock can be used to synchronize  updates both to a whole structure and to one of its members. "
   ]
  },
 {
  "cell_type": "code",
  "execution_count": null,
  "metadata": {},
  "outputs": [],
  "source": [
  "%load ../sources/Example_nestable_lock.1.c "
   ]
  },
 {
  "cell_type": "code",
  "execution_count": null,
  "metadata": {},
  "outputs": [],
  "source": [
  "%load ../sources/Example_nestable_lock.1.f "
   ]
  },
 {
  "cell_type": "markdown",
  "metadata": {},
  "source": [
   "---end--- "
   ]
  }
],
"metadata": {
 "kernelspec": {
  "display_name": "C",
  "language": "c",
  "name": "c"
 },
 "language_info": {
  "file_extension": ".c",
  "mimetype": "text/plain",
  "name": "c"
 }
},
"nbformat": 4,
"nbformat_minor": 2
}
