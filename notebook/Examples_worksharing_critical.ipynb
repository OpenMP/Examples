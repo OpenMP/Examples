{
 "cells": [
 {
  "cell_type": "markdown",
  "metadata": {},
  "source": [
   " ### Worksharing Constructs Inside a  `critical`  Construct "
   ]
  },
 {
  "cell_type": "markdown",
  "metadata": {},
  "source": [
   " The following example demonstrates using a worksharing construct inside a  `critical`   construct. This example is conforming because the worksharing  `single`    region is not closely nested inside the  `critical`  region. A single thread  executes the one and only section in the  `sections`  region, and executes  the  `critical`  region. The same thread encounters the nested  `parallel`   region, creates a new team of threads, and becomes the master of the new team.  One of the threads in the new team enters the  `single`  region and increments   `i`  by  `1` . At the end of this example  `i`  is equal to  `2` . "
   ]
  },
 {
  "cell_type": "code",
  "execution_count": null,
  "metadata": {},
  "outputs": [],
  "source": [
  "%load ../sources/Example_worksharing_critical.1.c "
   ]
  },
 {
  "cell_type": "code",
  "execution_count": null,
  "metadata": {},
  "outputs": [],
  "source": [
  "%load ../sources/Example_worksharing_critical.1.f "
   ]
  },
 {
  "cell_type": "markdown",
  "metadata": {},
  "source": [
   "---end--- "
   ]
  }
],
"metadata": {
 "kernelspec": {
  "display_name": "C",
  "language": "c",
  "name": "c"
 },
 "language_info": {
  "file_extension": ".c",
  "mimetype": "text/plain",
  "name": "c"
 }
},
"nbformat": 4,
"nbformat_minor": 2
}
