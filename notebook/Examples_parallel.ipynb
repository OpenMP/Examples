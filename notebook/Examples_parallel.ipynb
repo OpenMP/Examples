{
 "cells": [
 {
  "cell_type": "markdown",
  "metadata": {},
  "source": [
   " ### The  `parallel`  Construct "
   ]
  },
 {
  "cell_type": "markdown",
  "metadata": {},
  "source": [
   " The  `parallel`  construct  can be used in coarse-grain parallel programs.  In the following example, each thread in the  `parallel`  region decides what  part of the global array  _x_  to work on, based on the thread number: "
   ]
  },
 {
  "cell_type": "code",
  "execution_count": null,
  "metadata": {},
  "outputs": [],
  "source": [
   "%load ../sources/Example_parallel.1.c "
   ]
  },
 {
  "cell_type": "code",
  "execution_count": null,
  "metadata": {},
  "outputs": [],
  "source": [
   "%load ../sources/Example_parallel.1.f "
   ]
  },
 {
  "cell_type": "markdown",
  "metadata": {},
  "source": [
   "---end--- "
   ]
  }
 ],
 "metadata": {
  "kernelspec": {
   "display_name": "C",
   "language": "c",
   "name": "c"
  },
  "language_info": {
   "file_extension": ".c",
   "mimetype": "text/plain",
   "name": "c"
  }
 },
 "nbformat": 4,
 "nbformat_minor": 2
}
