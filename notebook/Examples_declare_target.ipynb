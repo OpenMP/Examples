{
 "cells": [
  {
   "cell_type": "markdown",
   "metadata": {},
   "source": [
    " ###  `declare`   `target`  Construct"
   ]
  },
  {
   "cell_type": "markdown",
   "metadata": {},
   "source": [
    " ####  `declare`   `target`  and  `end`   `declare`   `target`  for a Function"
   ]
  },
  {
   "cell_type": "markdown",
   "metadata": {},
   "source": [
    " The following example shows how the  `declare`   `target`  directive  is used to indicate that the corresponding call inside a  `target`  region  is to a  `fib`  function that can execute on the default target device."
   ]
  },
  {
   "cell_type": "markdown",
   "metadata": {},
   "source": [
    " A version of the function is also available on the host device. When the  `if`   clause conditional expression on the  `target`  construct evaluates to  _false_ ,  the  `target`  region (thus  `fib` ) will execute on the host device."
   ]
  },
  {
   "cell_type": "markdown",
   "metadata": {},
   "source": [
    " For C/C++ codes the declaration of the function  `fib`  appears between the  `declare`    `target`  and  `end`   `declare`   `target`  directives."
   ]
  },
  {
   "cell_type": "code",
   "execution_count": null,
   "metadata": {},
   "outputs": [],
   "source": [
    "%load ../sources/Example_declare_target.1.c"
   ]
  },
  {
   "cell_type": "markdown",
   "metadata": {},
   "source": [
    " The Fortran  `fib`  subroutine contains a  `declare`   `target`  declaration  to indicate to the compiler to create an device executable version of the procedure.  The subroutine name has not been included on the  `declare`   `target`   directive and is, therefore, implicitly assumed."
   ]
  },
  {
   "cell_type": "markdown",
   "metadata": {},
   "source": [
    " The program uses the  `module_fib`  module, which presents an explicit interface to  the compiler with the  `declare`   `target`  declarations for processing  the  `fib`  call."
   ]
  },
  {
   "cell_type": "code",
   "execution_count": null,
   "metadata": {},
   "outputs": [],
   "source": [
    "%load ../sources/Example_declare_target.1.f90"
   ]
  },
  {
   "cell_type": "markdown",
   "metadata": {},
   "source": [
    " The next Fortran example shows the use of an external subroutine. Without an explicit  interface (through module use or an interface block) the  `declare`   `target`   declarations within a external subroutine are unknown to the main program unit;  therefore, a  `declare`   `target`  must be provided within the program  scope for the compiler to determine that a target binary should be available."
   ]
  },
  {
   "cell_type": "code",
   "execution_count": null,
   "metadata": {},
   "outputs": [],
   "source": [
    "%load ../sources/Example_declare_target.2.f90"
   ]
  },
  {
   "cell_type": "markdown",
   "metadata": {},
   "source": [
    " ####  `declare`   `target`  Construct for Class Type"
   ]
  },
  {
   "cell_type": "code",
   "execution_count": null,
   "metadata": {},
   "outputs": [],
   "source": [
    "%load ../sources/Example_cppspecificstart"
   ]
  },
  {
   "cell_type": "markdown",
   "metadata": {},
   "source": [
    " The following example shows how the  `declare`   `target`  and  `end`    `declare`   `target`  directives are used to enclose the declaration  of a variable  _varY_  with a class type  `typeY` . The member function  `typeY::foo()`  cannot  be accessed on a target device because its declaration did not appear between  `declare`    `target`  and  `end`   `declare`   `target`  directives."
   ]
  },
  {
   "cell_type": "code",
   "execution_count": null,
   "metadata": {},
   "outputs": [],
   "source": [
    "%load ../sources/Example_cppnexampledeclare_target2"
   ]
  },
  {
   "cell_type": "code",
   "execution_count": null,
   "metadata": {},
   "outputs": [],
   "source": [
    "%load ../sources/Example_cppspecificend"
   ]
  },
  {
   "cell_type": "markdown",
   "metadata": {},
   "source": [
    " ####  `declare`   `target`  and  `end`   `declare`   `target`  for Variables"
   ]
  },
  {
   "cell_type": "markdown",
   "metadata": {},
   "source": [
    " The following examples show how the  `declare`   `target`  and  `end`    `declare`   `target`  directives are used to indicate that global variables  are mapped to the implicit device data environment of each target device."
   ]
  },
  {
   "cell_type": "markdown",
   "metadata": {},
   "source": [
    " In the following example, the declarations of the variables  _p_ ,  _v1_ , and  _v2_  appear  between  `declare`   `target`  and  `end`   `declare`   `target`   directives indicating that the variables are mapped to the implicit device data  environment of each target device. The  `target`   `update`  directive  is then used to manage the consistency of the variables  _p_ ,  _v1_ , and  _v2_  between the  data environment of the encountering host device task and the implicit device data  environment of the default target device."
   ]
  },
  {
   "cell_type": "code",
   "execution_count": null,
   "metadata": {},
   "outputs": [],
   "source": [
    "%load ../sources/Example_declare_target.3.c"
   ]
  },
  {
   "cell_type": "markdown",
   "metadata": {},
   "source": [
    " The Fortran version of the above C code uses a different syntax. Fortran modules  use a list syntax on the  `declare`   `target`  directive to declare  mapped variables."
   ]
  },
  {
   "cell_type": "code",
   "execution_count": null,
   "metadata": {},
   "outputs": [],
   "source": [
    "%load ../sources/Example_declare_target.3.f90"
   ]
  },
  {
   "cell_type": "markdown",
   "metadata": {},
   "source": [
    " The following example also indicates that the function  `Pfun()`  is available on the  target device, as well as the variable  _Q_ , which is mapped to the implicit device  data environment of each target device. The  `target`   `update`  directive  is then used to manage the consistency of the variable  _Q_  between the data environment  of the encountering host device task and the implicit device data environment of  the default target device."
   ]
  },
  {
   "cell_type": "markdown",
   "metadata": {},
   "source": [
    " In the following example, the function and variable declarations appear between  the  `declare`   `target`  and  `end`   `declare`   `target`   directives."
   ]
  },
  {
   "cell_type": "code",
   "execution_count": null,
   "metadata": {},
   "outputs": [],
   "source": [
    "%load ../sources/Example_declare_target.4.c"
   ]
  },
  {
   "cell_type": "markdown",
   "metadata": {},
   "source": [
    " The Fortran version of the above C code uses a different syntax. In Fortran modules  a list syntax on the  `declare`   `target`  directive is used to declare  mapped variables and procedures. The  _N_  and  _Q_  variables are declared as a comma  separated list. When the  `declare`   `target`  directive is used to  declare just the procedure, the procedure name need not be listed -- it is implicitly  assumed, as illustrated in the  `Pfun()`  function."
   ]
  },
  {
   "cell_type": "code",
   "execution_count": null,
   "metadata": {},
   "outputs": [],
   "source": [
    "%load ../sources/Example_declare_target.4.f90"
   ]
  },
  {
   "cell_type": "markdown",
   "metadata": {},
   "source": [
    " ####  `declare`   `target`  and  `end`   `declare`   `target`  with  `declare`   `simd` "
   ]
  },
  {
   "cell_type": "markdown",
   "metadata": {},
   "source": [
    " The following example shows how the  `declare`   `target`  and  `end`    `declare`   `target`  directives are used to indicate that a function  is available on a target device. The  `declare`   `simd`  directive indicates  that there is a SIMD version of the function  `P()`  that is available on the target  device as well as one that is available on the host device."
   ]
  },
  {
   "cell_type": "code",
   "execution_count": null,
   "metadata": {},
   "outputs": [],
   "source": [
    "%load ../sources/Example_declare_target.5.c"
   ]
  },
  {
   "cell_type": "markdown",
   "metadata": {},
   "source": [
    " The Fortran version of the above C code uses a different syntax. Fortran modules  use a list syntax of the  `declare`   `target`  declaration for the mapping.  Here the  _N_  and  _Q_  variables are declared in the list form as a comma separated list.  The function declaration does not use a list and implicitly assumes the function  name. In this Fortran example row and column indices are reversed relative to the  C/C++ example, as is usual for codes optimized for memory access."
   ]
  },
  {
   "cell_type": "code",
   "execution_count": null,
   "metadata": {},
   "outputs": [],
   "source": [
    "%load ../sources/Example_declare_target.5.f90"
   ]
  },
  {
   "cell_type": "markdown",
   "metadata": {},
   "source": [
    " ####  `declare` ~ `target`  Directive with  `link`  Clause"
   ]
  },
  {
   "cell_type": "markdown",
   "metadata": {},
   "source": [
    " In the OpenMP 4.5 standard the  `declare` ~ `target`  directive was extended to allow static data to be mapped, emph{when needed}, through a  `link`  clause."
   ]
  },
  {
   "cell_type": "markdown",
   "metadata": {},
   "source": [
    " Data storage for items listed in the  `link`  clause becomes available on the device when it is mapped implicitly or explicitly in a  `map`  clause, and it persists for the scope of the mapping (as specified by a  `target`  construct,  a  `target` ~ `data`  construct, or   `target` ~ `enter/exit` ~ `data`  constructs)."
   ]
  },
  {
   "cell_type": "markdown",
   "metadata": {},
   "source": [
    " Tip: When all the global data items will not fit on a device and are not needed simultaneously, use the  `link`  clause and map the data only when it is needed."
   ]
  },
  {
   "cell_type": "markdown",
   "metadata": {},
   "source": [
    " The following C and Fortran examples show two sets of data (single precision and double precision) that are global on the host for the entire execution on the host; but are only used globally on the device for part of the program execution. The single precision data are allocated and persist only for the first  `target`  region. Similarly, the double precision data are in scope on the device only for the second  `target`  region."
   ]
  },
  {
   "cell_type": "code",
   "execution_count": null,
   "metadata": {},
   "outputs": [],
   "source": [
    "%load ../sources/Example_declare_target.6.c"
   ]
  },
  {
   "cell_type": "code",
   "execution_count": null,
   "metadata": {},
   "outputs": [],
   "source": [
    "%load ../sources/Example_declare_target.6.f90"
   ]
  },
  {
   "cell_type": "markdown",
   "metadata": {},
   "source": [
    "---end---"
   ]
  }
 ],
 "metadata": {
  "kernelspec": {
   "display_name": "C",
   "language": "c",
   "name": "c"
  },
  "language_info": {
   "file_extension": ".c",
   "mimetype": "text/plain",
   "name": "c"
  }
 },
 "nbformat": 4,
 "nbformat_minor": 2
}