{
 "cells": [
{
 "cell_type": "markdown",
 "metadata": {},
 "source": [
  " ### Fortran Restrictions on  `shared`  and  `private`  Clauses with Common Blocks"
   ]
  },
{
 "cell_type": "markdown",
 "metadata": {},
 "source": [
  " fortranspecificstart"
   ]
  },
{
 "cell_type": "markdown",
 "metadata": {},
 "source": [
  " When a named common block is specified in a  `private` ,  `firstprivate` ,  or  `lastprivate`  clause of a construct, none of its members may be declared  in another data-sharing attribute clause on that construct. The following examples  illustrate this point. "
   ]
  },
{
 "cell_type": "markdown",
 "metadata": {},
 "source": [
  " The following example is conforming:"
   ]
  },
{
 "cell_type": "code",
 "execution_count": null,
 "metadata": {},
 "outputs": [],
 "source": [
 "%load ../sources/Example_fort_sp_common.1.f"
   ]
  },
{
 "cell_type": "markdown",
 "metadata": {},
 "source": [
  " The following example is also conforming:"
   ]
  },
{
 "cell_type": "code",
 "execution_count": null,
 "metadata": {},
 "outputs": [],
 "source": [
 "%load ../sources/Example_fort_sp_common.2.f"
   ]
  },
{
 "cell_type": "markdown",
 "metadata": {},
 "source": [
  " \n",
" blue line floater at top of this page for 'Fortran, cont.' [t!] linewitharrows{-1}{dashed}{Fortran (cont.)}{8em} "
   ]
  },
{
 "cell_type": "markdown",
 "metadata": {},
 "source": [
  " The following example is conforming:"
   ]
  },
{
 "cell_type": "code",
 "execution_count": null,
 "metadata": {},
 "outputs": [],
 "source": [
 "%load ../sources/Example_fort_sp_common.3.f"
   ]
  },
{
 "cell_type": "markdown",
 "metadata": {},
 "source": [
  " The following example is non-conforming because  `x`  is a constituent element  of  `c` :"
   ]
  },
{
 "cell_type": "code",
 "execution_count": null,
 "metadata": {},
 "outputs": [],
 "source": [
 "%load ../sources/Example_fort_sp_common.4.f"
   ]
  },
{
 "cell_type": "markdown",
 "metadata": {},
 "source": [
  " The following example is non-conforming because a common block may not be declared  both shared and private:"
   ]
  },
{
 "cell_type": "code",
 "execution_count": null,
 "metadata": {},
 "outputs": [],
 "source": [
 "%load ../sources/Example_fort_sp_common.5.f"
   ]
  },
{
 "cell_type": "markdown",
 "metadata": {},
 "source": [
  " fortranspecificend"
   ]
  },
{
 "cell_type": "markdown",
 "metadata": {},
 "source": [
  "---end---"
   ]
  }
],
"metadata": {
 "kernelspec": {
  "display_name": "C",
  "language": "c",
  "name": "c"
 },
 "language_info": {
  "file_extension": ".c",
  "mimetype": "text/plain",
  "name": "c"
 }
},
"nbformat": 4,
"nbformat_minor": 2
}
