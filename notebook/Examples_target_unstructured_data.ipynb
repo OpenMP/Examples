{
 "cells": [
 {
  "cell_type": "markdown",
  "metadata": {},
  "source": [
   " \n",
"begin  "
   ]
  },
 {
  "cell_type": "markdown",
  "metadata": {},
  "source": [
   " ###  `target`   `enter`   `data`  and  `target`   `exit`   `data`  Constructs "
   ]
  },
 {
  "cell_type": "markdown",
  "metadata": {},
  "source": [
   " \n",
" ### Simple target enter data and target exit data Constructs "
   ]
  },
 {
  "cell_type": "markdown",
  "metadata": {},
  "source": [
   " The structured data construct ( `target` ~ `data` ) provides persistent data on a device for subsequent  `target`  constructs as shown in the   `target` ~ `data`  examples above. This is accomplished by creating a single  `target` ~ `data`  region containing  `target`  constructs. "
   ]
  },
 {
  "cell_type": "markdown",
  "metadata": {},
  "source": [
   " The unstructured data constructs allow the creation and deletion of data on the device at any appropriate point within the host code, as shown below  with the  `target` ~ `enter` ~ `data`  and  `target` ~ `exit` ~ `data`  constructs. "
   ]
  },
 {
  "cell_type": "markdown",
  "metadata": {},
  "source": [
   " The following C++ code creates/deletes a vector in a constructor/destructor  of a class. The constructor creates a vector with  `target` ~ `enter` ~ `data`  and uses an  `alloc`  modifier in the  `map`  clause to avoid copying values to the device. The destructor deletes the data ( `target` ~ `exit` ~ `data` ) and uses the  `delete`  modifier in the  `map`  clause to avoid copying data back to the host. Note, the stand-alone  `target` ~ `enter` ~ `data`  occurs  after the host vector is created, and the  `target` ~ `exit` ~ `data`  construct occurs before the host data is deleted. "
   ]
  },
 {
  "cell_type": "code",
  "execution_count": null,
  "metadata": {},
  "outputs": [],
  "source": [
  "%load ../sources/Example_target_unstructured_data.1.cpp "
   ]
  },
 {
  "cell_type": "markdown",
  "metadata": {},
  "source": [
   " The following C code allocates and frees the data member of a Matrix structure. The  `init_matrix`  function allocates the memory used in the structure and uses the  `target` ~ `enter` ~ `data`  directive to map it to the target device. The  `free_matrix`  function removes the mapped array from the target device and then frees the memory on the host.  Note, the stand-alone   `target` ~ `enter` ~ `data`  occurs after the host memory is allocated, and the   `target` ~ `exit` ~ `data`  construct occurs before the host data is freed. "
   ]
  },
 {
  "cell_type": "code",
  "execution_count": null,
  "metadata": {},
  "outputs": [],
  "source": [
  "%load ../sources/Example_target_unstructured_data.1.c "
   ]
  },
 {
  "cell_type": "markdown",
  "metadata": {},
  "source": [
   " The following Fortran code allocates and deallocates a module array.  The  `initialize`  subroutine allocates the module array and uses the  `target` ~ `enter` ~ `data`  directive to map it to the target device. The  `finalize`  subroutine removes the mapped array from the target device and then deallocates the array on the host.  Note, the stand-alone   `target` ~ `enter` ~ `data`  occurs after the host memory is allocated, and the   `target` ~ `exit` ~ `data`  construct occurs before the host data is deallocated. "
   ]
  },
 {
  "cell_type": "code",
  "execution_count": null,
  "metadata": {},
  "outputs": [],
  "source": [
  "%load ../sources/Example_target_unstructured_data.1.f90 "
   ]
  },
 {
  "cell_type": "markdown",
  "metadata": {},
  "source": [
   " \n",
"end "
   ]
  },
 {
  "cell_type": "markdown",
  "metadata": {},
  "source": [
   "---end--- "
   ]
  }
],
"metadata": {
 "kernelspec": {
  "display_name": "C",
  "language": "c",
  "name": "c"
 },
 "language_info": {
  "file_extension": ".c",
  "mimetype": "text/plain",
  "name": "c"
 }
},
"nbformat": 4,
"nbformat_minor": 2
}
