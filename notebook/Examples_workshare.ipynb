{
 "cells": [
  {
   "cell_type": "markdown",
   "metadata": {},
   "source": [
    " ### The  `workshare`  Construct "
   ]
  },
  {
   "cell_type": "markdown",
   "metadata": {},
   "source": [
    " fortranspecificstart "
   ]
  },
  {
   "cell_type": "markdown",
   "metadata": {},
   "source": [
    " The following are examples of the  `workshare`  construct.  "
   ]
  },
  {
   "cell_type": "markdown",
   "metadata": {},
   "source": [
    " In the following example,  `workshare`  spreads work across the threads executing  the  `parallel`  region, and there is a barrier after the last statement.  Implementations must enforce Fortran execution rules inside of the  `workshare`   block. "
   ]
  },
  {
   "cell_type": "code",
   "execution_count": null,
   "metadata": {},
   "outputs": [],
   "source": [
    "%load ../sources/Example_workshare.1.f "
   ]
  },
  {
   "cell_type": "markdown",
   "metadata": {},
   "source": [
    " In the following example, the barrier at the end of the first  `workshare`   region is eliminated with a  `nowait`  clause. Threads doing  `CC =  DD`  immediately begin work on  `EE = FF`  when they are done with  `CC  = DD` . "
   ]
  },
  {
   "cell_type": "code",
   "execution_count": null,
   "metadata": {},
   "outputs": [],
   "source": [
    "%load ../sources/Example_workshare.2.f "
   ]
  },
  {
   "cell_type": "markdown",
   "metadata": {},
   "source": [
    " \n",
" blue line floater at top of this page for 'Fortran, cont.' [t!] linewitharrows{-1}{dashed}{Fortran (cont.)}{8em}  "
   ]
  },
  {
   "cell_type": "markdown",
   "metadata": {},
   "source": [
    " The following example shows the use of an  `atomic`  directive inside a  `workshare`   construct. The computation of  `SUM(AA)`  is workshared, but the update to   `R`  is atomic. "
   ]
  },
  {
   "cell_type": "code",
   "execution_count": null,
   "metadata": {},
   "outputs": [],
   "source": [
    "%load ../sources/Example_workshare.3.f "
   ]
  },
  {
   "cell_type": "markdown",
   "metadata": {},
   "source": [
    " Fortran  `WHERE`  and  `FORALL`  statements are emph{compound statements},  made up of a emph{control} part and a emph{statement} part. When  `workshare`   is applied to one of these compound statements, both the control and the statement  parts are workshared. The following example shows the use of a  `WHERE`  statement  in a  `workshare`  construct. "
   ]
  },
  {
   "cell_type": "markdown",
   "metadata": {},
   "source": [
    " Each task gets worked on in order by the threads: "
   ]
  },
  {
   "cell_type": "markdown",
   "metadata": {},
   "source": [
    "  `AA = BB`  then   `CC = DD`  then   `EE .ne. 0`  then   `FF = 1 / EE`  then   `GG = HH`  "
   ]
  },
  {
   "cell_type": "code",
   "execution_count": null,
   "metadata": {},
   "outputs": [],
   "source": [
    "%load ../sources/Example_workshare.4.f "
   ]
  },
  {
   "cell_type": "markdown",
   "metadata": {},
   "source": [
    " \n",
" blue line floater at top of this page for 'Fortran, cont.' [t!] linewitharrows{-1}{dashed}{Fortran (cont.)}{8em}  "
   ]
  },
  {
   "cell_type": "markdown",
   "metadata": {},
   "source": [
    " In the following example, an assignment to a shared scalar variable is performed  by one thread in a  `workshare`  while all other threads in the team wait. "
   ]
  },
  {
   "cell_type": "code",
   "execution_count": null,
   "metadata": {},
   "outputs": [],
   "source": [
    "%load ../sources/Example_workshare.5.f "
   ]
  },
  {
   "cell_type": "markdown",
   "metadata": {},
   "source": [
    " The following example contains an assignment to a private scalar variable, which  is performed by one thread in a  `workshare`  while all other threads wait.  It is non-conforming because the private scalar variable is undefined after the  assignment statement.  "
   ]
  },
  {
   "cell_type": "code",
   "execution_count": null,
   "metadata": {},
   "outputs": [],
   "source": [
    "%load ../sources/Example_workshare.6.f "
   ]
  },
  {
   "cell_type": "markdown",
   "metadata": {},
   "source": [
    " Fortran execution rules must be enforced inside a  `workshare`  construct.  In the following example, the same result is produced in the following program  fragment regardless of whether the code is executed sequentially or inside an OpenMP  program with multiple threads: "
   ]
  },
  {
   "cell_type": "code",
   "execution_count": null,
   "metadata": {},
   "outputs": [],
   "source": [
    "%load ../sources/Example_workshare.7.f "
   ]
  },
  {
   "cell_type": "markdown",
   "metadata": {},
   "source": [
    " fortranspecificend "
   ]
  },
  {
   "cell_type": "markdown",
   "metadata": {},
   "source": [
    "---end--- "
   ]
  }
 ],
 "metadata": {
  "kernelspec": {
   "display_name": "C",
   "language": "c",
   "name": "c"
  },
  "language_info": {
   "file_extension": ".c",
   "mimetype": "text/plain",
   "name": "c"
  }
 },
 "nbformat": 4,
 "nbformat_minor": 2
}
