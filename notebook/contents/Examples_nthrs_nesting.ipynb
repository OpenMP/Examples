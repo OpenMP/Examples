{
 "cells": [
  {
   "cell_type": "markdown",
   "metadata": {},
   "source": [
    ""
   ]
  },
  {
   "cell_type": "markdown",
   "metadata": {},
   "source": [
    "## Controlling the Number of Threads on Multiple Nesting Levels"
   ]
  },
  {
   "cell_type": "markdown",
   "metadata": {},
   "source": [
    ""
   ]
  },
  {
   "cell_type": "markdown",
   "metadata": {},
   "source": [
    "The following examples demonstrate how to use the `OMP_NUM_THREADS` environment  variable  to control the number of threads on multiple nesting levels:"
   ]
  },
  {
   "cell_type": "markdown",
   "metadata": {},
   "source": [
    ""
   ]
  },
  {
   "cell_type": "code",
   "execution_count": null,
   "metadata": {},
   "outputs": [],
   "source": [
    "//%compiler: clang\n",
 "//%cflags: -fopenmp\n",
 "\n",
    "/*\n",
    "* name: nthrs_nesting.1c\n",
    "* type: C\n",
    "*/\n",
    "#include <stdio.h>\n",
    "#include <omp.h>\n",
    "int main (void)\n",
    "{\n",
    "   omp_set_nested(1);\n",
    "   omp_set_dynamic(0);\n",
    "   #pragma omp parallel\n",
    "   {\n",
    "      #pragma omp parallel\n",
    "      {\n",
    "         #pragma omp single\n",
    "         {\n",
    "         /*\n",
    "         * If OMP_NUM_THREADS=2,3 was set, the following should print:\n",
    "         * Inner: num_thds=3\n",
    "         * Inner: num_thds=3\n",
    "         *\n",
    "         * If nesting is not supported, the following should print:\n",
    "         * Inner: num_thds=1\n",
    "         * Inner: num_thds=1\n",
    "         */\n",
    "            printf (\"Inner: num_thds=%d\\n\", omp_get_num_threads());\n",
    "         }\n",
    "      }\n",
    "      #pragma omp barrier\n",
    "      omp_set_nested(0);\n",
    "      #pragma omp parallel\n",
    "      {\n",
    "         #pragma omp single\n",
    "         {\n",
    "         /*\n",
    "         * Even if OMP_NUM_THREADS=2,3 was set, the following should\n",
    "         * print, because nesting is disabled:\n",
    "         * Inner: num_thds=1\n",
    "         * Inner: num_thds=1\n",
    "         */\n",
    "            printf (\"Inner: num_thds=%d\\n\", omp_get_num_threads());\n",
    "         }\n",
    "      }\n",
    "      #pragma omp barrier\n",
    "      #pragma omp single\n",
    "      {\n",
    "         /*\n",
    "         * If OMP_NUM_THREADS=2,3 was set, the following should print:\n",
    "         * Outer: num_thds=2\n",
    "         */\n",
    "         printf (\"Outer: num_thds=%d\\n\", omp_get_num_threads());\n",
    "      }\n",
    "   }\n",
    "   return 0;\n",
    "}\n",
    "\n"
   ]
  },
  {
   "cell_type": "markdown",
   "metadata": {},
   "source": [
    ""
   ]
  },
  {
   "cell_type": "markdown",
   "metadata": {},
   "source": [
    ""
   ]
  },
  {
   "cell_type": "code",
   "execution_count": null,
   "metadata": {},
   "outputs": [],
   "source": [
    "\n",
    "! name: nthrs_nesting.1f\n",
    "! type: F-fixed\n",
    " program icv\n",
    " use omp_lib\n",
    " call omp_set_nested(.true.)\n",
    " call omp_set_dynamic(.false.)\n",
    "!$omp parallel\n",
    "!$omp parallel\n",
    "!$omp single\n",
    " ! If OMP_NUM_THREADS=2,3 was set, the following should print:\n",
    " ! Inner: num_thds= 3\n",
    " ! Inner: num_thds= 3\n",
    " ! If nesting is not supported, the following should print:\n",
    " ! Inner: num_thds= 1\n",
    " ! Inner: num_thds= 1\n",
    " print *, \"Inner: num_thds=\", omp_get_num_threads()\n",
    "!$omp end single\n",
    "!$omp end parallel\n",
    "!$omp barrier\n",
    " call omp_set_nested(.false.)\n",
    "!$omp parallel\n",
    "!$omp single\n",
    " ! Even if OMP_NUM_THREADS=2,3 was set, the following should print,\n",
    " ! because nesting is disabled:\n",
    " ! Inner: num_thds= 1\n",
    " ! Inner: num_thds= 1\n",
    " print *, \"Inner: num_thds=\", omp_get_num_threads()\n",
    "!$omp end single\n",
    "!$omp end parallel\n",
    "!$omp barrier\n",
    "!$omp single\n",
    " ! If OMP_NUM_THREADS=2,3 was set, the following should print:\n",
    " ! Outer: num_thds= 2\n",
    " print *, \"Outer: num_thds=\", omp_get_num_threads()\n",
    "!$omp end single\n",
    "!$omp end parallel\n",
    " end\n",
    "\n"
   ]
  },
  {
   "cell_type": "markdown",
   "metadata": {},
   "source": [
    ""
   ]
  },
  {
   "cell_type": "markdown",
   "metadata": {},
   "source": [
    ""
   ]
  },
  {
   "cell_type": "markdown",
   "metadata": {},
   "source": [
    ""
   ]
  }
 ],
 "metadata": {
  "kernelspec": {
   "display_name": "Native",
   "language": "native",
   "name": "native"
  },
  "language_info": {
   "file_extension": ".c",
   "mimetype": "text/plain",
   "name": "none"
  }
 },
 "nbformat": 4,
 "nbformat_minor": 2
}