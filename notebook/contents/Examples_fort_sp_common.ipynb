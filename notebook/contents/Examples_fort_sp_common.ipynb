{
 "cells": [
  {
   "cell_type": "markdown",
   "metadata": {},
   "source": [
    ""
   ]
  },
  {
   "cell_type": "markdown",
   "metadata": {},
   "source": [
    "## Fortran Restrictions on `shared` and `private` Clauses with Common Blocks"
   ]
  },
  {
   "cell_type": "markdown",
   "metadata": {},
   "source": [
    ""
   ]
  },
  {
   "cell_type": "markdown",
   "metadata": {},
   "source": [
    "When a named common block is specified in a `private`, `firstprivate`,  or `lastprivate` clause of a construct, none of its members may be declared  in another data-sharing attribute clause on that construct. The following examples  illustrate this point."
   ]
  },
  {
   "cell_type": "markdown",
   "metadata": {},
   "source": [
    "The following example is conforming:"
   ]
  },
  {
   "cell_type": "markdown",
   "metadata": {},
   "source": [
    ""
   ]
  },
  {
   "cell_type": "code",
   "execution_count": null,
   "metadata": {},
   "outputs": [],
   "source": [
    "\n",
    "! name: fort_sp_common.1f\n",
    "! type: F-fixed\n",
    "      SUBROUTINE COMMON_GOOD()\n",
    "        COMMON /C/ X,Y\n",
    "        REAL X, Y\n",
    "\n",
    "!$OMP   PARALLEL PRIVATE (/C/)\n",
    "          ! do work here\n",
    "!$OMP   END PARALLEL\n",
    "!$OMP   PARALLEL SHARED (X,Y)\n",
    "          ! do work here\n",
    "!$OMP   END PARALLEL\n",
    "      END SUBROUTINE COMMON_GOOD\n",
    "\n"
   ]
  },
  {
   "cell_type": "markdown",
   "metadata": {},
   "source": [
    ""
   ]
  },
  {
   "cell_type": "markdown",
   "metadata": {},
   "source": [
    "The following example is also conforming:"
   ]
  },
  {
   "cell_type": "markdown",
   "metadata": {},
   "source": [
    ""
   ]
  },
  {
   "cell_type": "code",
   "execution_count": null,
   "metadata": {},
   "outputs": [],
   "source": [
    "\n",
    "! name: fort_sp_common.2f\n",
    "! type: F-fixed\n",
    "      SUBROUTINE COMMON_GOOD2()\n",
    "        COMMON /C/ X,Y\n",
    "        REAL X, Y\n",
    "        INTEGER I\n",
    "!$OMP   PARALLEL\n",
    "!$OMP     DO PRIVATE(/C/)\n",
    "          DO I=1,1000\n",
    "            ! do work here\n",
    "          ENDDO\n",
    "!$OMP     END DO\n",
    "!$OMP     DO PRIVATE(X)\n",
    "          DO I=1,1000\n",
    "            ! do work here\n",
    "          ENDDO\n",
    "!$OMP     END DO\n",
    "!$OMP   END PARALLEL\n",
    "      END SUBROUTINE COMMON_GOOD2\n",
    "\n"
   ]
  },
  {
   "cell_type": "markdown",
   "metadata": {},
   "source": [
    ""
   ]
  },
  {
   "cell_type": "markdown",
   "metadata": {},
   "source": [
    "The following example is conforming:"
   ]
  },
  {
   "cell_type": "markdown",
   "metadata": {},
   "source": [
    ""
   ]
  },
  {
   "cell_type": "code",
   "execution_count": null,
   "metadata": {},
   "outputs": [],
   "source": [
    "\n",
    "! name: fort_sp_common.3f\n",
    "! type: F-fixed\n",
    "      SUBROUTINE COMMON_GOOD3()\n",
    "        COMMON /C/ X,Y\n",
    "!$OMP   PARALLEL PRIVATE (/C/)\n",
    "          ! do work here\n",
    "!$OMP   END PARALLEL\n",
    "!$OMP   PARALLEL SHARED (/C/)\n",
    "          ! do work here\n",
    "!$OMP   END PARALLEL\n",
    "      END SUBROUTINE COMMON_GOOD3\n",
    "\n"
   ]
  },
  {
   "cell_type": "markdown",
   "metadata": {},
   "source": [
    ""
   ]
  },
  {
   "cell_type": "markdown",
   "metadata": {},
   "source": [
    "The following example is non-conforming because `x` is a constituent element  of `c`:"
   ]
  },
  {
   "cell_type": "markdown",
   "metadata": {},
   "source": [
    ""
   ]
  },
  {
   "cell_type": "code",
   "execution_count": null,
   "metadata": {},
   "outputs": [],
   "source": [
    "\n",
    "! name: fort_sp_common.4f\n",
    "! type: F-fixed\n",
    "      SUBROUTINE COMMON_WRONG()\n",
    "        COMMON /C/ X,Y\n",
    "! Incorrect because X is a constituent element of C\n",
    "!$OMP   PARALLEL PRIVATE(/C/), SHARED(X)\n",
    "          ! do work here\n",
    "!$OMP   END PARALLEL\n",
    "      END SUBROUTINE COMMON_WRONG\n",
    "\n"
   ]
  },
  {
   "cell_type": "markdown",
   "metadata": {},
   "source": [
    ""
   ]
  },
  {
   "cell_type": "markdown",
   "metadata": {},
   "source": [
    "The following example is non-conforming because a common block may not be declared  both shared and private:"
   ]
  },
  {
   "cell_type": "markdown",
   "metadata": {},
   "source": [
    ""
   ]
  },
  {
   "cell_type": "code",
   "execution_count": null,
   "metadata": {},
   "outputs": [],
   "source": [
    "\n",
    "! name: fort_sp_common.5f\n",
    "! type: F-fixed\n",
    "      SUBROUTINE COMMON_WRONG2()\n",
    "        COMMON /C/ X,Y\n",
    "! Incorrect: common block C cannot be declared both\n",
    "! shared and private\n",
    "!$OMP   PARALLEL PRIVATE (/C/), SHARED(/C/)\n",
    "          ! do work here\n",
    "!$OMP   END PARALLEL\n",
    "\n",
    "      END SUBROUTINE COMMON_WRONG2\n",
    "\n"
   ]
  },
  {
   "cell_type": "markdown",
   "metadata": {},
   "source": [
    ""
   ]
  },
  {
   "cell_type": "markdown",
   "metadata": {},
   "source": [
    ""
   ]
  },
  {
   "cell_type": "markdown",
   "metadata": {},
   "source": [
    ""
   ]
  }
 ],
 "metadata": {
  "kernelspec": {
   "display_name": "Native",
   "language": "native",
   "name": "native"
  },
  "language_info": {
   "file_extension": ".c",
   "mimetype": "text/plain",
   "name": "none"
  }
 },
 "nbformat": 4,
 "nbformat_minor": 2
}