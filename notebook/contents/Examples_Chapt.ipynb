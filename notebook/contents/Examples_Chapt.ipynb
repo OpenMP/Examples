{
 "cells": [
  {
   "cell_type": "markdown",
   "metadata": {},
   "source": [
    "\bchapter{Examples}"
   ]
  },
  {
   "cell_type": "markdown",
   "metadata": {},
   "source": [
    "The following are examples of the OpenMP API directives, constructs, and routines.  A statement following a directive is compound only when necessary, and a  non-compound statement is indented with respect to a directive preceding it."
   ]
  },
  {
   "cell_type": "markdown",
   "metadata": {},
   "source": [
    "Each example is labeled as  _ename.seqno.ext_ , where  _ename_  is  the example name,  _seqno_  is the sequence number in a section, and   _ext_  is the source file extension to indicate the code type and  source form.   _ext_  is one of the following: [noitemsep,labelindent=5mm,widest=f90]"
   ]
  },
  {
   "cell_type": "markdown",
   "metadata": {},
   "source": [
    "* [ _c_ ] -- \ C code,"
   ]
  },
  {
   "cell_type": "markdown",
   "metadata": {},
   "source": [
    "* [ _cpp_ ] -- \ C++ code,"
   ]
  },
  {
   "cell_type": "markdown",
   "metadata": {},
   "source": [
    "* [ _f_ ] -- \ Fortran code in fixed form, and"
   ]
  },
  {
   "cell_type": "markdown",
   "metadata": {},
   "source": [
    "* [ _f90_ ] -- \ Fortran code in free form."
   ]
  },
  {
   "cell_type": "markdown",
   "metadata": {},
   "source": [
    "Some of the example labels may include version information  (`omp_ _verno_ `) to indicate features that are illustrated by an example for a specific OpenMP version, such as \" _scan.1.c_   (`omp_5.0`).''"
   ]
  },
  {
   "cell_type": "markdown",
   "metadata": {},
   "source": [
    ""
   ]
  }
 ],
 "metadata": {
  "kernelspec": {
   "display_name": "Native",
   "language": "native",
   "name": "native"
  },
  "language_info": {
   "file_extension": ".c",
   "mimetype": "text/plain",
   "name": "none"
  }
 },
 "nbformat": 4,
 "nbformat_minor": 2
}