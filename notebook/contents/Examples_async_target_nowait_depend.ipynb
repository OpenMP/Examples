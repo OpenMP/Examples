{
 "cells": [
  {
   "cell_type": "markdown",
   "metadata": {},
   "source": [
    ""
   ]
  },
  {
   "cell_type": "markdown",
   "metadata": {},
   "source": [
    "### Asynchronous `target` with `nowait` and `depend` Clauses"
   ]
  },
  {
   "cell_type": "markdown",
   "metadata": {},
   "source": [
    ""
   ]
  },
  {
   "cell_type": "markdown",
   "metadata": {},
   "source": [
    "More details on dependences can be found in  task_depend , Task  Dependences. In this example, there are three flow dependences.  In the first two dependences the target task does not execute until the preceding explicit tasks have finished.   These  dependences are produced by arrays  _v1_  and  _v2_   with the `out` dependence type in the first two tasks, and the `in` dependence type in the target task."
   ]
  },
  {
   "cell_type": "markdown",
   "metadata": {},
   "source": [
    "The last dependence is produced by array  _p_   with the `out` dependence type in the target task, and the `in` dependence type in the last task.  The last task does not execute until the target task finishes."
   ]
  },
  {
   "cell_type": "markdown",
   "metadata": {},
   "source": [
    "The `nowait` clause on the `target` construct creates a deferrable  _target task_ , allowing the encountering task to continue execution without waiting for the completion of the  _target task_ ."
   ]
  },
  {
   "cell_type": "markdown",
   "metadata": {},
   "source": [
    ""
   ]
  },
  {
   "cell_type": "code",
   "execution_count": null,
   "metadata": {},
   "outputs": [],
   "source": [
    "//%compiler: clang\n",
 "//%cflags: -fopenmp\n",
 "\n",
    "/*\n",
    "* name: target.4c\n",
    "* type: C\n",
    "* version: omp_4.5\n",
    "*/\n",
    "\n",
    "extern void init(  float*, int);\n",
    "extern void output(float*, int);\n",
    "\n",
    "void vec_mult(int N)\n",
    "{\n",
    "   int i;\n",
    "   float p[N], v1[N], v2[N];\n",
    "\n",
    "   #pragma omp parallel num_threads(2)\n",
    "   {\n",
    "      #pragma omp single\n",
    "      {\n",
    "         #pragma omp task depend(out:v1)\n",
    "         init(v1, N);\n",
    "\n",
    "         #pragma omp task depend(out:v2)\n",
    "         init(v2, N);\n",
    "\n",
    "         #pragma omp target nowait depend(in:v1,v2) depend(out:p) \\\n",
    "                                      map(to:v1,v2) map( from: p)\n",
    "         #pragma omp parallel for private(i)\n",
    "         for (i=0; i<N; i++)\n",
    "            p[i] = v1[i] * v2[i];\n",
    "\n",
    "         #pragma omp task depend(in:p)\n",
    "         output(p, N);\n",
    "      }\n",
    "   }\n",
    "}\n",
    "\n"
   ]
  },
  {
   "cell_type": "markdown",
   "metadata": {},
   "source": [
    ""
   ]
  },
  {
   "cell_type": "markdown",
   "metadata": {},
   "source": [
    ""
   ]
  },
  {
   "cell_type": "code",
   "execution_count": null,
   "metadata": {},
   "outputs": [],
   "source": [
    "\n",
    "! name: target.4f90\n",
    "! type: F-free\n",
    "! version: omp_4.5\n",
    "\n",
    "subroutine vec_mult(N)\n",
    "   implicit none\n",
    "   integer           :: i, N\n",
    "   real, allocatable :: p(:), v1(:), v2(:)\n",
    "   allocate( p(N), v1(N), v2(N) )\n",
    "\n",
    "   !$omp parallel num_threads(2)\n",
    "\n",
    "      !$omp single\n",
    "\n",
    "         !$omp task depend(out:v1)\n",
    "         call init(v1, N)\n",
    "         !$omp end task\n",
    "\n",
    "         !$omp task depend(out:v2)\n",
    "         call init(v2, N)\n",
    "         !$omp end task\n",
    "\n",
    "         !$omp target nowait depend(in:v1,v2) depend(out:p) &\n",
    "         !$omp&                 map(to:v1,v2)  map(from: p)\n",
    "         !$omp parallel do\n",
    "         do i=1,N\n",
    "            p(i) = v1(i) * v2(i)\n",
    "         end do\n",
    "         !$omp end target\n",
    "\n",
    "\n",
    "         !$omp task depend(in:p)\n",
    "         call output(p, N)\n",
    "         !$omp end task\n",
    "\n",
    "     !$omp end single\n",
    "   !$omp end parallel\n",
    "\n",
    "   deallocate( p, v1, v2 )\n",
    "\n",
    "end subroutine\n",
    "\n"
   ]
  },
  {
   "cell_type": "markdown",
   "metadata": {},
   "source": [
    ""
   ]
  },
  {
   "cell_type": "markdown",
   "metadata": {},
   "source": [
    ""
   ]
  }
 ],
 "metadata": {
  "kernelspec": {
   "display_name": "Native",
   "language": "native",
   "name": "native"
  },
  "language_info": {
   "file_extension": ".c",
   "mimetype": "text/plain",
   "name": "none"
  }
 },
 "nbformat": 4,
 "nbformat_minor": 2
}