{
 "cells": [
  {
   "cell_type": "markdown",
   "metadata": {},
   "source": [
    ""
   ]
  },
  {
   "cell_type": "markdown",
   "metadata": {},
   "source": [
    "## Nested Loop Constructs"
   ]
  },
  {
   "cell_type": "markdown",
   "metadata": {},
   "source": [
    ""
   ]
  },
  {
   "cell_type": "markdown",
   "metadata": {},
   "source": [
    "The following example of loop construct nesting is conforming because the inner  and outer loop regions bind to different `parallel` regions:"
   ]
  },
  {
   "cell_type": "markdown",
   "metadata": {},
   "source": [
    ""
   ]
  },
  {
   "cell_type": "code",
   "execution_count": null,
   "metadata": {},
   "outputs": [],
   "source": [
    "//%compiler: clang\n",
 "//%cflags: -fopenmp\n",
 "\n",
    "/*\n",
    "* name: nested_loop.1c\n",
    "* type: C\n",
    "*/\n",
    "void work(int i, int j) {}\n",
    "\n",
    "void good_nesting(int n)\n",
    "{\n",
    "  int i, j;\n",
    "  #pragma omp parallel default(shared)\n",
    "  {\n",
    "    #pragma omp for\n",
    "    for (i=0; i<n; i++) {\n",
    "      #pragma omp parallel shared(i, n)\n",
    "      {\n",
    "        #pragma omp for\n",
    "        for (j=0; j < n; j++)\n",
    "          work(i, j);\n",
    "      }\n",
    "    }\n",
    "  }\n",
    "}\n",
    "\n"
   ]
  },
  {
   "cell_type": "markdown",
   "metadata": {},
   "source": [
    ""
   ]
  },
  {
   "cell_type": "markdown",
   "metadata": {},
   "source": [
    ""
   ]
  },
  {
   "cell_type": "code",
   "execution_count": null,
   "metadata": {},
   "outputs": [],
   "source": [
    "\n",
    "! name: nested_loop.1f\n",
    "! type: F-fixed\n",
    "      SUBROUTINE WORK(I, J)\n",
    "      INTEGER I, J\n",
    "      END SUBROUTINE WORK\n",
    "\n",
    "      SUBROUTINE GOOD_NESTING(N)\n",
    "      INTEGER N\n",
    "\n",
    "        INTEGER I\n",
    "!$OMP   PARALLEL DEFAULT(SHARED)\n",
    "!$OMP     DO\n",
    "          DO I = 1, N\n",
    "!$OMP       PARALLEL SHARED(I,N)\n",
    "!$OMP         DO\n",
    "              DO J = 1, N\n",
    "                CALL WORK(I,J)\n",
    "              END DO\n",
    "!$OMP       END PARALLEL\n",
    "          END DO\n",
    "!$OMP   END PARALLEL\n",
    "      END SUBROUTINE GOOD_NESTING\n",
    "\n"
   ]
  },
  {
   "cell_type": "markdown",
   "metadata": {},
   "source": [
    ""
   ]
  },
  {
   "cell_type": "markdown",
   "metadata": {},
   "source": [
    "The following variation of the preceding example is also conforming:"
   ]
  },
  {
   "cell_type": "markdown",
   "metadata": {},
   "source": [
    ""
   ]
  },
  {
   "cell_type": "code",
   "execution_count": null,
   "metadata": {},
   "outputs": [],
   "source": [
    "//%compiler: clang\n",
 "//%cflags: -fopenmp\n",
 "\n",
    "/*\n",
    "* name: nested_loop.2c\n",
    "* type: C\n",
    "*/\n",
    "void work(int i, int j) {}\n",
    "\n",
    "\n",
    "void work1(int i, int n)\n",
    "{\n",
    "  int j;\n",
    "  #pragma omp parallel default(shared)\n",
    "  {\n",
    "    #pragma omp for\n",
    "    for (j=0; j<n; j++)\n",
    "      work(i, j);\n",
    "  }\n",
    "}\n",
    "\n",
    "\n",
    "void good_nesting2(int n)\n",
    "{\n",
    "  int i;\n",
    "  #pragma omp parallel default(shared)\n",
    "  {\n",
    "    #pragma omp for\n",
    "    for (i=0; i<n; i++)\n",
    "      work1(i, n);\n",
    "  }\n",
    "}\n",
    "\n"
   ]
  },
  {
   "cell_type": "markdown",
   "metadata": {},
   "source": [
    ""
   ]
  },
  {
   "cell_type": "markdown",
   "metadata": {},
   "source": [
    ""
   ]
  },
  {
   "cell_type": "code",
   "execution_count": null,
   "metadata": {},
   "outputs": [],
   "source": [
    "\n",
    "! name: nested_loop.2f\n",
    "! type: F-fixed\n",
    "      SUBROUTINE WORK(I, J)\n",
    "      INTEGER I, J\n",
    "      END SUBROUTINE WORK\n",
    "\n",
    "      SUBROUTINE WORK1(I, N)\n",
    "      INTEGER J\n",
    "!$OMP PARALLEL DEFAULT(SHARED)\n",
    "!$OMP DO\n",
    "        DO J = 1, N\n",
    "          CALL WORK(I,J)\n",
    "        END DO\n",
    "!$OMP END PARALLEL\n",
    "      END SUBROUTINE WORK1\n",
    "\n",
    "      SUBROUTINE GOOD_NESTING2(N)\n",
    "      INTEGER N\n",
    "!$OMP PARALLEL DEFAULT(SHARED)\n",
    "!$OMP DO\n",
    "      DO I = 1, N\n",
    "         CALL WORK1(I, N)\n",
    "      END DO\n",
    "!$OMP END PARALLEL\n",
    "      END SUBROUTINE GOOD_NESTING2\n",
    "\n"
   ]
  },
  {
   "cell_type": "markdown",
   "metadata": {},
   "source": [
    ""
   ]
  },
  {
   "cell_type": "markdown",
   "metadata": {},
   "source": [
    ""
   ]
  },
  {
   "cell_type": "markdown",
   "metadata": {},
   "source": [
    ""
   ]
  }
 ],
 "metadata": {
  "kernelspec": {
   "display_name": "Native",
   "language": "native",
   "name": "native"
  },
  "language_info": {
   "file_extension": ".c",
   "mimetype": "text/plain",
   "name": "none"
  }
 },
 "nbformat": 4,
 "nbformat_minor": 2
}