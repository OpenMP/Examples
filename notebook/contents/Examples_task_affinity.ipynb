{
 "cells": [
  {
   "cell_type": "markdown",
   "metadata": {},
   "source": [
    ""
   ]
  },
  {
   "cell_type": "markdown",
   "metadata": {},
   "source": [
    "## Task Affinity"
   ]
  },
  {
   "cell_type": "markdown",
   "metadata": {},
   "source": [
    ""
   ]
  },
  {
   "cell_type": "markdown",
   "metadata": {},
   "source": [
    "The next example illustrates the use of the `affinity` clause with a `task` construct. The variables in the `affinity` clause provide a hint to the runtime that the task should execute \"close\" to the physical storage location of the variables. For example, on a two-socket platform with a local memory component close to each processor socket, the runtime will attempt to schedule the task execution on the socket where the storage is located."
   ]
  },
  {
   "cell_type": "markdown",
   "metadata": {},
   "source": [
    "Because the C/C++ code employs a pointer, an array section is used in the `affinity` clause. Fortran code can use an array reference to specify the storage, as shown here."
   ]
  },
  {
   "cell_type": "markdown",
   "metadata": {},
   "source": [
    "Note, in the second task of the C/C++ code the  _B_  pointer is declared shared.  Otherwise, by default, it would be firstprivate since it is a local variable, and would probably be saved for the second task before being assigned a storage address by the first task.  Also, one might think it reasonable to use the `affinity` clause  _affinity(B[:N])_  on the second `task` construct. However, the storage behind  _B_  is created in the first task, and the  array section reference may not be valid when the second task is generated. The use of the  _A_  array is sufficient for this case, because one would expect the storage for  _A_  and  _B_  would be physically \"close\" (as provided by the hint in the first task)."
   ]
  },
  {
   "cell_type": "markdown",
   "metadata": {},
   "source": [
    ""
   ]
  },
  {
   "cell_type": "code",
   "execution_count": null,
   "metadata": {},
   "outputs": [],
   "source": [
    "//%compiler: clang\n",
 "//%cflags: -fopenmp\n",
 "\n",
    "/*\n",
    "* name: affinity.1.c\n",
    "* type: C\n",
    "* version: omp_5.0\n",
    "*/\n",
    "\n",
    "double * alloc_init_B(double *A, int N);\n",
    "void     compute_on_B(double *B, int N);\n",
    "\n",
    "void task_affinity(double *A, int N)\n",
    "{\n",
    "   double * B;\n",
    "   #pragma omp task depend(out:B) shared(B) affinity(A[0:N])\n",
    "   {\n",
    "     B = alloc_init_B(A,N);\n",
    "   }\n",
    "\n",
    "   #pragma omp task depend( in:B) shared(B) affinity(A[0:N])\n",
    "   {\n",
    "     compute_on_B(B,N);\n",
    "   }\n",
    "\n",
    "   #pragma omp taskwait\n",
    "}\n",
    "\n",
    "\n"
   ]
  },
  {
   "cell_type": "markdown",
   "metadata": {},
   "source": [
    ""
   ]
  },
  {
   "cell_type": "markdown",
   "metadata": {},
   "source": [
    ""
   ]
  },
  {
   "cell_type": "code",
   "execution_count": null,
   "metadata": {},
   "outputs": [],
   "source": [
    "\n",
    "! name:       affinity.6f\n",
    "! type:       F-free\n",
    "! version: omp_5.0\n",
    "\n",
    "subroutine task_affinity(A, N)\n",
    "\n",
    "  external alloc_init_B\n",
    "  external compute_on_B\n",
    "  double precision, allocatable :: B(:)\n",
    "\n",
    "   !$omp task depend(out:B) shared(B) affinity(A)\n",
    "     call alloc_init_B(B,A)\n",
    "   !$omp end task\n",
    "\n",
    "   !$omp task depend(in:B) shared(B) affinity(A)\n",
    "     call compute_on_B(B)\n",
    "   !$omp end task\n",
    "\n",
    "   !$omp taskwait\n",
    "\n",
    "end subroutine\n",
    "\n",
    "\n"
   ]
  },
  {
   "cell_type": "markdown",
   "metadata": {},
   "source": [
    ""
   ]
  },
  {
   "cell_type": "markdown",
   "metadata": {},
   "source": [
    ""
   ]
  }
 ],
 "metadata": {
  "kernelspec": {
   "display_name": "Native",
   "language": "native",
   "name": "native"
  },
  "language_info": {
   "file_extension": ".c",
   "mimetype": "text/plain",
   "name": "none"
  }
 },
 "nbformat": 4,
 "nbformat_minor": 2
}