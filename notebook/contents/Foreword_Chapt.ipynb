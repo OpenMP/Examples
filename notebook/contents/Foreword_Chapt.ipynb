{
 "cells": [
  {
   "cell_type": "markdown",
   "metadata": {},
   "source": [
    ""
   ]
  },
  {
   "cell_type": "markdown",
   "metadata": {},
   "source": [
    "# Foreword"
   ]
  },
  {
   "cell_type": "markdown",
   "metadata": {},
   "source": [
    ""
   ]
  },
  {
   "cell_type": "markdown",
   "metadata": {},
   "source": [
    "The OpenMP Examples document has been updated with new features found in the OpenMP 5.0 Specification. The additional examples and updates are referenced in the Document Revision History of the Appendix on page  **history** ."
   ]
  },
  {
   "cell_type": "markdown",
   "metadata": {},
   "source": [
    "Text describing an example with a 5.0 feature specifically states that the feature support begins in the OpenMP 5.0 Specification.  Also, an ` omp_5.0` keyword has been added to metadata in the source code. These distinctions are presented to remind readers that a 5.0 compliant  OpenMP implementation is necessary to use these features in codes."
   ]
  },
  {
   "cell_type": "markdown",
   "metadata": {},
   "source": [
    "Examples for most of the 5.0 features are included in this document, and incremental releases will become available as more feature examples and updates are submitted, and approved by the OpenMP Examples Subcommittee."
   ]
  },
  {
   "cell_type": "markdown",
   "metadata": {},
   "source": [
    ""
   ]
  },
  {
   "cell_type": "markdown",
   "metadata": {},
   "source": [
    ""
   ]
  },
  {
   "cell_type": "markdown",
   "metadata": {},
   "source": [
    "Examples Subcommitee Co-chairs:"
   ]
  },
  {
   "cell_type": "markdown",
   "metadata": {},
   "source": [
    ""
   ]
  },
  {
   "cell_type": "markdown",
   "metadata": {},
   "source": [
    "Henry Jin ( **NASA**  Ames Research Center)"
   ]
  },
  {
   "cell_type": "markdown",
   "metadata": {},
   "source": [
    "Kent Milfeld ( **TACC** , Texas Advanced Research Center)"
   ]
  },
  {
   "cell_type": "markdown",
   "metadata": {},
   "source": [
    ""
   ]
  }
 ],
 "metadata": {
  "kernelspec": {
   "display_name": "Native",
   "language": "native",
   "name": "native"
  },
  "language_info": {
   "file_extension": ".c",
   "mimetype": "text/plain",
   "name": "none"
  }
 },
 "nbformat": 4,
 "nbformat_minor": 2
}