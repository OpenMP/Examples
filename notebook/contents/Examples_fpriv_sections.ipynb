{
 "cells": [
  {
   "cell_type": "markdown",
   "metadata": {},
   "source": [
    ""
   ]
  },
  {
   "cell_type": "markdown",
   "metadata": {},
   "source": [
    "## The `firstprivate` Clause and the `sections` Construct"
   ]
  },
  {
   "cell_type": "markdown",
   "metadata": {},
   "source": [
    ""
   ]
  },
  {
   "cell_type": "markdown",
   "metadata": {},
   "source": [
    "In the following example of the `sections` construct  the `firstprivate`  clause is used to initialize the private copy of `section_count` of each  thread. The problem is that the `section` constructs modify `section_count`,  which breaks the independence of the `section` constructs. When different  threads execute each section, both sections will print the value 1. When the same  thread executes the two sections, one section will print the value 1 and the other  will print the value 2. Since the order of execution of the two sections in this  case is unspecified, it is unspecified which section prints which value."
   ]
  },
  {
   "cell_type": "markdown",
   "metadata": {},
   "source": [
    ""
   ]
  },
  {
   "cell_type": "code",
   "execution_count": null,
   "metadata": {},
   "outputs": [],
   "source": [
    "//%compiler: clang\n",
 "//%cflags: -fopenmp\n",
 "\n",
    "/*\n",
    "* name: fpriv_sections.1c\n",
    "* type: C\n",
    "*/\n",
    "#include <omp.h>\n",
    "#include <stdio.h>\n",
    "#define NT 4\n",
    "int main( ) {\n",
    "    int section_count = 0;\n",
    "    omp_set_dynamic(0);\n",
    "    omp_set_num_threads(NT);\n",
    "#pragma omp parallel\n",
    "#pragma omp sections firstprivate( section_count )\n",
    "{\n",
    "#pragma omp section\n",
    "    {\n",
    "        section_count++;\n",
    "        /* may print the number one or two */\n",
    "        printf( \"section_count %d\\n\", section_count );\n",
    "    }\n",
    "#pragma omp section\n",
    "    {\n",
    "        section_count++;\n",
    "        /* may print the number one or two */\n",
    "        printf( \"section_count %d\\n\", section_count );\n",
    "    }\n",
    "}\n",
    "    return 0;\n",
    "}\n",
    "\n"
   ]
  },
  {
   "cell_type": "markdown",
   "metadata": {},
   "source": [
    ""
   ]
  },
  {
   "cell_type": "markdown",
   "metadata": {},
   "source": [
    ""
   ]
  },
  {
   "cell_type": "code",
   "execution_count": null,
   "metadata": {},
   "outputs": [],
   "source": [
    "\n",
    "! name: fpriv_sections.1f\n",
    "! type: F-free\n",
    "program section\n",
    "    use omp_lib\n",
    "    integer :: section_count = 0\n",
    "    integer, parameter :: NT = 4\n",
    "    call omp_set_dynamic(.false.)\n",
    "    call omp_set_num_threads(NT)\n",
    "!$omp parallel\n",
    "!$omp sections firstprivate ( section_count )\n",
    "!$omp section\n",
    "    section_count = section_count + 1\n",
    "! may print the number one or two\n",
    "    print *, 'section_count', section_count\n",
    "!$omp section\n",
    "    section_count = section_count + 1\n",
    "! may print the number one or two\n",
    "    print *, 'section_count', section_count\n",
    "!$omp end sections\n",
    "!$omp end parallel\n",
    "end program section\n",
    "\n"
   ]
  },
  {
   "cell_type": "markdown",
   "metadata": {},
   "source": [
    ""
   ]
  },
  {
   "cell_type": "markdown",
   "metadata": {},
   "source": [
    ""
   ]
  },
  {
   "cell_type": "markdown",
   "metadata": {},
   "source": [
    ""
   ]
  }
 ],
 "metadata": {
  "kernelspec": {
   "display_name": "Native",
   "language": "native",
   "name": "native"
  },
  "language_info": {
   "file_extension": ".c",
   "mimetype": "text/plain",
   "name": "none"
  }
 },
 "nbformat": 4,
 "nbformat_minor": 2
}