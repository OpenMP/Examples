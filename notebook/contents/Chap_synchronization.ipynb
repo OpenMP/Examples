{
 "cells": [
  {
   "cell_type": "markdown",
   "metadata": {},
   "source": [
    ""
   ]
  },
  {
   "cell_type": "markdown",
   "metadata": {},
   "source": [
    "# Synchronization"
   ]
  },
  {
   "cell_type": "markdown",
   "metadata": {},
   "source": [
    "{synchronization}"
   ]
  },
  {
   "cell_type": "markdown",
   "metadata": {},
   "source": [
    "The `barrier` construct is a stand-alone directive that requires all threads of a team (within a contention group) to execute the barrier and complete execution of all tasks within the region, before continuing past the barrier."
   ]
  },
  {
   "cell_type": "markdown",
   "metadata": {},
   "source": [
    "The `critical` construct is a directive that contains a structured block.  The construct allows only a single thread at a time to execute the structured block (region). Multiple critical regions may exist in a parallel region, and may act cooperatively (only one thread at a time in all `critical` regions), or separately (only one thread at a time in each `critical` regions when a unique name is supplied on each `critical` construct). An optional (lock) `hint` clause may be specified on a named `critical`  construct to provide the OpenMP runtime guidance in selection a locking  mechanism."
   ]
  },
  {
   "cell_type": "markdown",
   "metadata": {},
   "source": [
    "On a finer scale the `atomic` construct allows only a single thread at  a time to have atomic access to a storage location involving a single read,  write, update or capture statement, and a limited number of combinations  when specifying the `capture`  _atomic-clause_  clause.  The  _atomic-clause_  clause is required for some expression statements, but is not required for `update` statements. The  _memory-order_  clause can be used to specify the degree of memory ordering enforced by an `atomic` construct. From weakest to strongest, they are `relaxed` (the default), acquire and/or release clauses (specified with `acquire`, `release`, or `acq_rel`), and `seq_cst`.  Please see the details in the  _atomic Construct_  subsection of the  _Directives_  chapter in the OpenMP Specifications document."
   ]
  },
  {
   "cell_type": "markdown",
   "metadata": {},
   "source": [
    "The `ordered` construct either specifies a structured block in a loop,  simd, or loop SIMD region that will be executed in the order of the loop  iterations.  The ordered construct sequentializes and orders the execution  of ordered regions while allowing code outside the region to run in parallel."
   ]
  },
  {
   "cell_type": "markdown",
   "metadata": {},
   "source": [
    "Since OpenMP 4.5 the `ordered` construct can also be a stand-alone  directive that specifies cross-iteration dependences in a doacross loop nest.   The `depend` clause uses a `sink`  _dependence-type_ , along with an  iteration vector argument (vec) to indicate the iteration that satisfies the  dependence.  The `depend` clause with a `source`  _dependence-type_  specifies dependence satisfaction."
   ]
  },
  {
   "cell_type": "markdown",
   "metadata": {},
   "source": [
    "The `flush` directive is a stand-alone construct for enforcing consistency between a thread's view of memory and the view of memory for other threads (see the Memory Model chapter of this document for more details). When the construct is used with an explicit variable list, a  _strong flush_  that forces a thread's temporary view of memory to be consistent with the actual memory is applied to all listed variables. When the construct is used without an explicit variable list and without a  _memory-order_  clause, a strong flush is applied to all locally thread-visible data as defined by the base language, and additionally the construct provides both acquire and release memory ordering semantics.  When an explicit variable list is not present and a  _memory-order_  clause is present, the construct provides acquire and/or release memory ordering semantics according to the  _memory-order_  clause, but no strong flush is performed. A resulting strong flush that applies to a set of variables effectively ensures that no memory (load or store) operation for the affected variables may be reordered across the `flush` directive."
   ]
  },
  {
   "cell_type": "markdown",
   "metadata": {},
   "source": [
    "General-purpose routines provide mutual exclusion semantics through locks,  represented by lock variables.   The semantics allows a task to  _set_ , and hence   _own_  a lock, until it is  _unset_  by the task that set it. A   _nestable_  lock can be set multiple times by a task, and is used when in code requires nested control of locks.  A  _simple lock_  can only be set once by the owning task. There are specific calls for the two types of locks, and the variable of a specific lock type cannot be used by the other lock type."
   ]
  },
  {
   "cell_type": "markdown",
   "metadata": {},
   "source": [
    "Any explicit task will observe the synchronization prescribed in a  `barrier` construct and an implied barrier.  Also, additional synchronizations  are available for tasks.  All children of a task will wait at a `taskwait` (for  their siblings to complete).  A `taskgroup` construct creates a region in which the current task is suspended at the end of the region until all sibling tasks,  and their descendants, have completed.  Scheduling constraints on task execution can be prescribed by the `depend` clause to enforce dependence on previously generated tasks. More details on controlling task executions can be found in the  _Tasking_  Chapter in the OpenMP Specifications document."
   ]
  },
  {
   "cell_type": "markdown",
   "metadata": {},
   "source": [
    ""
   ]
  },
  {
   "cell_type": "markdown",
   "metadata": {},
   "source": [
    ""
   ]
  },
  {
   "cell_type": "markdown",
   "metadata": {},
   "source": [
    ""
   ]
  },
  {
   "cell_type": "markdown",
   "metadata": {},
   "source": [
    "## `critical` Construct"
   ]
  },
  {
   "cell_type": "markdown",
   "metadata": {},
   "source": [
    "\index{constructs!critical@`critical`} \index{critical construct@`critical` construct} \index{critical construct@`critical` construct!hint clause@`hint` clause} \index{clauses!hint@`hint`} \index{hint clause@`hint` clause}"
   ]
  },
  {
   "cell_type": "markdown",
   "metadata": {},
   "source": [
    "The following example includes several `critical` constructs. The example  illustrates a queuing model in which a task is dequeued and worked on. To guard  against multiple threads dequeuing the same task, the dequeuing operation must  be in a `critical` region. Because the two queues in this example are independent,  they are protected by `critical` constructs with different names,  _xaxis_   and  _yaxis_ ."
   ]
  },
  {
   "cell_type": "markdown",
   "metadata": {},
   "source": [
    ""
   ]
  },
  {
   "cell_type": "code",
   "execution_count": null,
   "metadata": {},
   "outputs": [],
   "source": [
    "//%compiler: clang\n",
 "//%cflags: -fopenmp\n",
 "\n",
    "/*\n",
    "* name: critical.1\n",
    "* type: C\n",
    "*/\n",
    "int dequeue(float *a);\n",
    "void work(int i, float *a);\n",
    "\n",
    "void critical_example(float *x, float *y)\n",
    "{\n",
    "  int ix_next, iy_next;\n",
    "\n",
    "  #pragma omp parallel shared(x, y) private(ix_next, iy_next)\n",
    "  {\n",
    "    #pragma omp critical (xaxis)\n",
    "      ix_next = dequeue(x);\n",
    "    work(ix_next, x);\n",
    "\n",
    "    #pragma omp critical (yaxis)\n",
    "      iy_next = dequeue(y);\n",
    "    work(iy_next, y);\n",
    "  }\n",
    "\n",
    "}\n",
    "\n"
   ]
  },
  {
   "cell_type": "markdown",
   "metadata": {},
   "source": [
    ""
   ]
  },
  {
   "cell_type": "markdown",
   "metadata": {},
   "source": [
    ""
   ]
  },
  {
   "cell_type": "code",
   "execution_count": null,
   "metadata": {},
   "outputs": [],
   "source": [
    "\n",
    "! name: critical.1\n",
    "! type: F-fixed\n",
    "      SUBROUTINE CRITICAL_EXAMPLE(X, Y)\n",
    "\n",
    "        REAL X(*), Y(*)\n",
    "        INTEGER IX_NEXT, IY_NEXT\n",
    "\n",
    "!$OMP PARALLEL SHARED(X, Y) PRIVATE(IX_NEXT, IY_NEXT)\n",
    "\n",
    "!$OMP CRITICAL(XAXIS)\n",
    "        CALL DEQUEUE(IX_NEXT, X)\n",
    "!$OMP END CRITICAL(XAXIS)\n",
    "        CALL WORK(IX_NEXT, X)\n",
    "\n",
    "!$OMP CRITICAL(YAXIS)\n",
    "        CALL DEQUEUE(IY_NEXT,Y)\n",
    "!$OMP END CRITICAL(YAXIS)\n",
    "        CALL WORK(IY_NEXT, Y)\n",
    "\n",
    "!$OMP END PARALLEL\n",
    "\n",
    "      END SUBROUTINE CRITICAL_EXAMPLE\n",
    "\n"
   ]
  },
  {
   "cell_type": "markdown",
   "metadata": {},
   "source": [
    ""
   ]
  },
  {
   "cell_type": "markdown",
   "metadata": {},
   "source": [
    "The following example extends the previous example by adding the `hint` clause to the `critical` constructs."
   ]
  },
  {
   "cell_type": "markdown",
   "metadata": {},
   "source": [
    ""
   ]
  },
  {
   "cell_type": "code",
   "execution_count": null,
   "metadata": {},
   "outputs": [],
   "source": [
    "//%compiler: clang\n",
 "//%cflags: -fopenmp\n",
 "\n",
    "/*\n",
    "* name: critical.2\n",
    "* type: C\n",
    "* version: omp_5.0\n",
    "*/\n",
    "#include <omp.h>\n",
    "\n",
    "int dequeue(float *a);\n",
    "void work(int i, float *a);\n",
    "\n",
    "void critical_example(float *x, float *y)\n",
    "{\n",
    "  int ix_next, iy_next;\n",
    "\n",
    "  #pragma omp parallel shared(x, y) private(ix_next, iy_next)\n",
    "  {\n",
    "    #pragma omp critical (xaxis) hint(omp_sync_hint_contended)\n",
    "      ix_next = dequeue(x);\n",
    "    work(ix_next, x);\n",
    "\n",
    "    #pragma omp critical (yaxis) hint(omp_sync_hint_contended)\n",
    "      iy_next = dequeue(y);\n",
    "    work(iy_next, y);\n",
    "  }\n",
    "\n",
    "}\n",
    "\n"
   ]
  },
  {
   "cell_type": "markdown",
   "metadata": {},
   "source": [
    ""
   ]
  },
  {
   "cell_type": "markdown",
   "metadata": {},
   "source": [
    ""
   ]
  },
  {
   "cell_type": "code",
   "execution_count": null,
   "metadata": {},
   "outputs": [],
   "source": [
    "\n",
    "! name: critical.2\n",
    "! type: F-fixed\n",
    "! version: omp_5.0\n",
    "      SUBROUTINE CRITICAL_EXAMPLE(X, Y)\n",
    "        USE OMP_LIB        ! or INCLUDE \"omp_lib.h\"\n",
    "\n",
    "        REAL X(*), Y(*)\n",
    "        INTEGER IX_NEXT, IY_NEXT\n",
    "\n",
    "!$OMP PARALLEL SHARED(X, Y) PRIVATE(IX_NEXT, IY_NEXT)\n",
    "\n",
    "!$OMP CRITICAL(XAXIS) HINT(OMP_SYNC_HINT_CONTENDED)\n",
    "        CALL DEQUEUE(IX_NEXT, X)\n",
    "!$OMP END CRITICAL(XAXIS)\n",
    "        CALL WORK(IX_NEXT, X)\n",
    "\n",
    "!$OMP CRITICAL(YAXIS) HINT(OMP_SYNC_HINT_CONTENDED)\n",
    "        CALL DEQUEUE(IY_NEXT,Y)\n",
    "!$OMP END CRITICAL(YAXIS)\n",
    "        CALL WORK(IY_NEXT, Y)\n",
    "\n",
    "!$OMP END PARALLEL\n",
    "\n",
    "      END SUBROUTINE CRITICAL_EXAMPLE\n",
    "\n"
   ]
  },
  {
   "cell_type": "markdown",
   "metadata": {},
   "source": [
    "../../synchronization/critical.tex"
   ]
  },
  {
   "cell_type": "markdown",
   "metadata": {},
   "source": [
    ""
   ]
  },
  {
   "cell_type": "markdown",
   "metadata": {},
   "source": [
    "## Worksharing Constructs Inside a `critical` Construct"
   ]
  },
  {
   "cell_type": "markdown",
   "metadata": {},
   "source": [
    "\index{constructs!worksharing} \index{constructs!critical@`critical`} \index{critical construct@`critical` construct}"
   ]
  },
  {
   "cell_type": "markdown",
   "metadata": {},
   "source": [
    "The following example demonstrates using a worksharing construct inside a `critical`  construct. This example is conforming because the worksharing `single`   region is not closely nested inside the `critical` region. A single thread  executes the one and only section in the `sections` region, and executes  the `critical` region. The same thread encounters the nested `parallel`  region, creates a new team of threads, and becomes the primary thread of the new team.  One of the threads in the new team enters the `single` region and increments  `i` by `1`. At the end of this example `i` is equal to `2`."
   ]
  },
  {
   "cell_type": "markdown",
   "metadata": {},
   "source": [
    ""
   ]
  },
  {
   "cell_type": "code",
   "execution_count": null,
   "metadata": {},
   "outputs": [],
   "source": [
    "//%compiler: clang\n",
 "//%cflags: -fopenmp\n",
 "\n",
    "/*\n",
    "* name: worksharing_critical.1\n",
    "* type: C\n",
    "*/\n",
    "void critical_work()\n",
    "{\n",
    "  int i = 1;\n",
    "  #pragma omp parallel sections\n",
    "  {\n",
    "    #pragma omp section\n",
    "    {\n",
    "      #pragma omp critical (name)\n",
    "      {\n",
    "        #pragma omp parallel\n",
    "        {\n",
    "          #pragma omp single\n",
    "          {\n",
    "            i++;\n",
    "          }\n",
    "        }\n",
    "      }\n",
    "    }\n",
    "  }\n",
    "}\n",
    "\n"
   ]
  },
  {
   "cell_type": "markdown",
   "metadata": {},
   "source": [
    ""
   ]
  },
  {
   "cell_type": "markdown",
   "metadata": {},
   "source": [
    ""
   ]
  },
  {
   "cell_type": "code",
   "execution_count": null,
   "metadata": {},
   "outputs": [],
   "source": [
    "\n",
    "! name: worksharing_critical.1\n",
    "! type: F-fixed\n",
    "      SUBROUTINE CRITICAL_WORK()\n",
    "\n",
    "        INTEGER I\n",
    "        I = 1\n",
    "\n",
    "!$OMP   PARALLEL SECTIONS\n",
    "!$OMP     SECTION\n",
    "!$OMP       CRITICAL (NAME)\n",
    "!$OMP         PARALLEL\n",
    "!$OMP           SINGLE\n",
    "                  I = I + 1\n",
    "!$OMP           END SINGLE\n",
    "!$OMP         END PARALLEL\n",
    "!$OMP       END CRITICAL (NAME)\n",
    "!$OMP   END PARALLEL SECTIONS\n",
    "      END SUBROUTINE CRITICAL_WORK\n",
    "\n"
   ]
  },
  {
   "cell_type": "markdown",
   "metadata": {},
   "source": [
    ""
   ]
  },
  {
   "cell_type": "markdown",
   "metadata": {},
   "source": [
    ""
   ]
  },
  {
   "cell_type": "markdown",
   "metadata": {},
   "source": [
    "../../synchronization/worksharing_critical.tex"
   ]
  },
  {
   "cell_type": "markdown",
   "metadata": {},
   "source": [
    ""
   ]
  },
  {
   "cell_type": "markdown",
   "metadata": {},
   "source": [
    "## Binding of `barrier` Regions"
   ]
  },
  {
   "cell_type": "markdown",
   "metadata": {},
   "source": [
    "\index{binding!barrier regions@`barrier` regions}"
   ]
  },
  {
   "cell_type": "markdown",
   "metadata": {},
   "source": [
    "The binding rules call for a `barrier` region to bind to the closest enclosing  `parallel` region."
   ]
  },
  {
   "cell_type": "markdown",
   "metadata": {},
   "source": [
    "In the following example, the call from the main program to  _sub2_  is conforming  because the `barrier` region (in  _sub3_ ) binds to the `parallel`  region in  _sub2_ . The call from the main program to  _sub1_  is conforming  because the `barrier` region binds to the `parallel` region in subroutine   _sub2_ ."
   ]
  },
  {
   "cell_type": "markdown",
   "metadata": {},
   "source": [
    "The call from the main program to  _sub3_  is conforming because the `barrier`  region binds to the implicit inactive `parallel` region enclosing the sequential  part. Also note that the `barrier` region in  _sub3_  when called from   _sub2_  only synchronizes the team of threads in the enclosing `parallel`  region and not all the threads created in  _sub1_ ."
   ]
  },
  {
   "cell_type": "markdown",
   "metadata": {},
   "source": [
    ""
   ]
  },
  {
   "cell_type": "code",
   "execution_count": null,
   "metadata": {},
   "outputs": [],
   "source": [
    "//%compiler: clang\n",
 "//%cflags: -fopenmp\n",
 "\n",
    "/*\n",
    "* name: barrier_regions.1\n",
    "* type: C\n",
    "*/\n",
    "void work(int n) {}\n",
    "\n",
    "void sub3(int n)\n",
    "{\n",
    "  work(n);\n",
    "  #pragma omp barrier\n",
    "  work(n);\n",
    "}\n",
    "\n",
    "void sub2(int k)\n",
    "{\n",
    "  #pragma omp parallel shared(k)\n",
    "    sub3(k);\n",
    "}\n",
    "\n",
    "void sub1(int n)\n",
    "{\n",
    "  int i;\n",
    "  #pragma omp parallel private(i) shared(n)\n",
    "  {\n",
    "    #pragma omp for\n",
    "    for (i=0; i<n; i++)\n",
    "      sub2(i);\n",
    "  }\n",
    "}\n",
    "\n",
    "int main()\n",
    "{\n",
    "  sub1(2);\n",
    "  sub2(2);\n",
    "  sub3(2);\n",
    "  return 0;\n",
    "}\n",
    "\n"
   ]
  },
  {
   "cell_type": "markdown",
   "metadata": {},
   "source": [
    ""
   ]
  },
  {
   "cell_type": "markdown",
   "metadata": {},
   "source": [
    ""
   ]
  },
  {
   "cell_type": "code",
   "execution_count": null,
   "metadata": {},
   "outputs": [],
   "source": [
    "\n",
    "! name: barrier_regions.1\n",
    "! type: F-fixed\n",
    "      SUBROUTINE WORK(N)\n",
    "        INTEGER N\n",
    "      END SUBROUTINE WORK\n",
    "\n",
    "      SUBROUTINE SUB3(N)\n",
    "      INTEGER N\n",
    "        CALL WORK(N)\n",
    "!$OMP   BARRIER\n",
    "        CALL WORK(N)\n",
    "      END SUBROUTINE SUB3\n",
    "\n",
    "      SUBROUTINE SUB2(K)\n",
    "      INTEGER K\n",
    "!$OMP   PARALLEL SHARED(K)\n",
    "          CALL SUB3(K)\n",
    "!$OMP   END PARALLEL\n",
    "      END SUBROUTINE SUB2\n",
    "\n",
    "\n",
    "      SUBROUTINE SUB1(N)\n",
    "      INTEGER N\n",
    "        INTEGER I\n",
    "!$OMP   PARALLEL PRIVATE(I) SHARED(N)\n",
    "!$OMP     DO\n",
    "          DO I = 1, N\n",
    "            CALL SUB2(I)\n",
    "          END DO\n",
    "!$OMP   END PARALLEL\n",
    "      END SUBROUTINE SUB1\n",
    "\n",
    "      PROGRAM EXAMPLE\n",
    "        CALL SUB1(2)\n",
    "        CALL SUB2(2)\n",
    "        CALL SUB3(2)\n",
    "      END PROGRAM EXAMPLE\n",
    "\n"
   ]
  },
  {
   "cell_type": "markdown",
   "metadata": {},
   "source": [
    ""
   ]
  },
  {
   "cell_type": "markdown",
   "metadata": {},
   "source": [
    ""
   ]
  },
  {
   "cell_type": "markdown",
   "metadata": {},
   "source": [
    "../../synchronization/barrier_regions.tex"
   ]
  },
  {
   "cell_type": "markdown",
   "metadata": {},
   "source": [
    ""
   ]
  },
  {
   "cell_type": "markdown",
   "metadata": {},
   "source": [
    "## `atomic` Construct"
   ]
  },
  {
   "cell_type": "markdown",
   "metadata": {},
   "source": [
    "\index{constructs!atomic@`atomic`} \index{atomic construct@`atomic` construct} \index{atomic construct@`atomic` construct!update clause@`update` clause} \index{clauses!update@`update`} \index{update clause@`update` clause}"
   ]
  },
  {
   "cell_type": "markdown",
   "metadata": {},
   "source": [
    "The following example avoids race conditions (simultaneous updates of an element  of  _x_  by multiple threads) by using the `atomic` construct ."
   ]
  },
  {
   "cell_type": "markdown",
   "metadata": {},
   "source": [
    "The advantage of using the `atomic` construct in this example is that it  allows updates of two different elements of  _x_  to occur in parallel. If  a `critical` construct were used instead, then all updates to elements of   _x_  would be executed serially (though not in any guaranteed order)."
   ]
  },
  {
   "cell_type": "markdown",
   "metadata": {},
   "source": [
    "Note that the `atomic` directive applies only to the statement immediately  following it. As a result, elements of  _y_  are not updated atomically in  this example."
   ]
  },
  {
   "cell_type": "markdown",
   "metadata": {},
   "source": [
    ""
   ]
  },
  {
   "cell_type": "code",
   "execution_count": null,
   "metadata": {},
   "outputs": [],
   "source": [
    "//%compiler: clang\n",
 "//%cflags: -fopenmp\n",
 "\n",
    "/*\n",
    "* name: atomic.1\n",
    "* type: C\n",
    "* version: omp_3.1\n",
    "*/\n",
    "float work1(int i)\n",
    "{\n",
    "  return 1.0 * i;\n",
    "}\n",
    "\n",
    "float work2(int i)\n",
    "{\n",
    "   return 2.0 * i;\n",
    "}\n",
    "\n",
    "void atomic_example(float *x, float *y, int *index, int n)\n",
    "{\n",
    "  int i;\n",
    "\n",
    "  #pragma omp parallel for shared(x, y, index, n)\n",
    "    for (i=0; i<n; i++) {\n",
    "      #pragma omp atomic update\n",
    "      x[index[i]] += work1(i);\n",
    "      y[i] += work2(i);\n",
    "     }\n",
    "}\n",
    "\n",
    "int main()\n",
    "{\n",
    "  float x[1000];\n",
    "  float y[10000];\n",
    "  int index[10000];\n",
    "  int i;\n",
    "\n",
    "  for (i = 0; i < 10000; i++) {\n",
    "    index[i] = i % 1000;\n",
    "    y[i]=0.0;\n",
    "  }\n",
    "  for (i = 0; i < 1000; i++)\n",
    "    x[i] = 0.0;\n",
    "  atomic_example(x, y, index, 10000);\n",
    "  return 0;\n",
    "}\n",
    "\n"
   ]
  },
  {
   "cell_type": "markdown",
   "metadata": {},
   "source": [
    ""
   ]
  },
  {
   "cell_type": "markdown",
   "metadata": {},
   "source": [
    ""
   ]
  },
  {
   "cell_type": "code",
   "execution_count": null,
   "metadata": {},
   "outputs": [],
   "source": [
    "\n",
    "! name: atomic.1\n",
    "! type: F-fixed\n",
    "! version: omp_3.1\n",
    "      REAL FUNCTION WORK1(I)\n",
    "        INTEGER I\n",
    "        WORK1 = 1.0 * I\n",
    "        RETURN\n",
    "      END FUNCTION WORK1\n",
    "\n",
    "      REAL FUNCTION WORK2(I)\n",
    "        INTEGER I\n",
    "        WORK2 = 2.0 * I\n",
    "        RETURN\n",
    "      END FUNCTION WORK2\n",
    "\n",
    "      SUBROUTINE SUB(X, Y, INDEX, N)\n",
    "        REAL X(*), Y(*)\n",
    "        INTEGER INDEX(*), N\n",
    "\n",
    "        INTEGER I\n",
    "\n",
    "!$OMP   PARALLEL DO SHARED(X, Y, INDEX, N)\n",
    "          DO I=1,N\n",
    "!$OMP       ATOMIC UPDATE\n",
    "              X(INDEX(I)) = X(INDEX(I)) + WORK1(I)\n",
    "            Y(I) = Y(I) + WORK2(I)\n",
    "          ENDDO\n",
    "\n",
    "      END SUBROUTINE SUB\n",
    "\n",
    "      PROGRAM ATOMIC_EXAMPLE\n",
    "        REAL X(1000), Y(10000)\n",
    "        INTEGER INDEX(10000)\n",
    "        INTEGER I\n",
    "\n",
    "        DO I=1,10000\n",
    "          INDEX(I) = MOD(I, 1000) + 1\n",
    "          Y(I) = 0.0\n",
    "        ENDDO\n",
    "\n",
    "        DO I = 1,1000\n",
    "          X(I) = 0.0\n",
    "        ENDDO\n",
    "\n",
    "        CALL SUB(X, Y, INDEX, 10000)\n",
    "\n",
    "      END PROGRAM ATOMIC_EXAMPLE\n",
    "\n"
   ]
  },
  {
   "cell_type": "markdown",
   "metadata": {},
   "source": [
    ""
   ]
  },
  {
   "cell_type": "markdown",
   "metadata": {},
   "source": [
    "\index{atomic construct@`atomic` construct!write clause@`write` clause} \index{atomic construct@`atomic` construct!read clause@`read` clause} \index{write clause@`write` clause} \index{clauses!write@`write`} \index{read clause@`read` clause} \index{clauses!read@`read`} The following example illustrates the `read` and `write`  clauses  for the `atomic` directive. These clauses ensure that the given variable  is read or written, respectively, as a whole. Otherwise, some other thread might  read or write part of the variable while the current thread was reading or writing  another part of the variable. Note that most hardware provides atomic reads and  writes for some set of properly aligned variables of specific sizes, but not necessarily  for all the variable types supported by the OpenMP API."
   ]
  },
  {
   "cell_type": "markdown",
   "metadata": {},
   "source": [
    ""
   ]
  },
  {
   "cell_type": "code",
   "execution_count": null,
   "metadata": {},
   "outputs": [],
   "source": [
    "//%compiler: clang\n",
 "//%cflags: -fopenmp\n",
 "\n",
    "/*\n",
    "* name: atomic.2\n",
    "* type: C\n",
    "* version: omp_3.1\n",
    "*/\n",
    "int atomic_read(const int *p)\n",
    "{\n",
    "    int value;\n",
    "/* Guarantee that the entire value of *p is read atomically. No part of\n",
    " * *p can change during the read operation.\n",
    " */\n",
    "#pragma omp atomic read\n",
    "     value = *p;\n",
    "     return value;\n",
    "}\n",
    "\n",
    "void atomic_write(int *p, int value)\n",
    "{\n",
    "/* Guarantee that value is stored atomically into *p. No part of *p can\n",
    "change\n",
    " * until after the entire write operation is completed.\n",
    " */\n",
    "#pragma omp atomic write\n",
    "    *p = value;\n",
    "}\n",
    "\n"
   ]
  },
  {
   "cell_type": "markdown",
   "metadata": {},
   "source": [
    ""
   ]
  },
  {
   "cell_type": "markdown",
   "metadata": {},
   "source": [
    ""
   ]
  },
  {
   "cell_type": "code",
   "execution_count": null,
   "metadata": {},
   "outputs": [],
   "source": [
    "\n",
    "! name: atomic.2\n",
    "! type: F-fixed\n",
    "! version: omp_3.1\n",
    "       function atomic_read(p)\n",
    "       integer :: atomic_read\n",
    "       integer, intent(in) :: p\n",
    "! Guarantee that the entire value of p is read atomically. No part of\n",
    "! p can change during the read operation.\n",
    "\n",
    "!$omp atomic read\n",
    "       atomic_read = p\n",
    "       return\n",
    "       end function atomic_read\n",
    "\n",
    "       subroutine atomic_write(p, value)\n",
    "       integer, intent(out) :: p\n",
    "       integer, intent(in) :: value\n",
    "! Guarantee that value is stored atomically into p. No part of p can change\n",
    "! until after the entire write operation is completed.\n",
    "!$omp atomic write\n",
    "       p = value\n",
    "       end subroutine atomic_write\n",
    "\n"
   ]
  },
  {
   "cell_type": "markdown",
   "metadata": {},
   "source": [
    ""
   ]
  },
  {
   "cell_type": "markdown",
   "metadata": {},
   "source": [
    "\index{atomic construct@`atomic` construct!capture clause@`capture` clause} \index{capture clause@`capture` clause} \index{clauses!capture@`capture`} The following example illustrates the `capture` clause for the `atomic`  directive. In this case the value of a variable is captured, and then the variable  is incremented. These operations occur atomically. This example could  be implemented using the fetch-and-add instruction available on many kinds of hardware.  The example also shows a way to implement a spin lock using the `capture`   and `read` clauses."
   ]
  },
  {
   "cell_type": "markdown",
   "metadata": {},
   "source": [
    ""
   ]
  },
  {
   "cell_type": "code",
   "execution_count": null,
   "metadata": {},
   "outputs": [],
   "source": [
    "//%compiler: clang\n",
 "//%cflags: -fopenmp\n",
 "\n",
    "/*\n",
    "* name: atomic.3\n",
    "* type: C\n",
    "* version: omp_3.1\n",
    "*/\n",
    "int fetch_and_add(int *p)\n",
    "{\n",
    "   /* Atomically read the value of *p and then increment it. The\n",
    "      previous value is returned. This can be used to implement a\n",
    "      simple lock as shown below.\n",
    "    */\n",
    "   int old;\n",
    "#pragma omp atomic capture\n",
    "   { old = *p; (*p)++; }\n",
    "   return old;\n",
    "}\n",
    "\n",
    "/*\n",
    " * Use fetch_and_add to implement a lock\n",
    " */\n",
    "struct locktype {\n",
    "   int ticketnumber;\n",
    "   int turn;\n",
    "};\n",
    "void do_locked_work(struct locktype *lock)\n",
    "{\n",
    "   int atomic_read(const int *p);\n",
    "   void work();\n",
    "\n",
    "   // Obtain the lock\n",
    "   int myturn = fetch_and_add(&lock->ticketnumber);\n",
    "   while (atomic_read(&lock->turn) != myturn)\n",
    "      ;\n",
    "   // Do some work. The flush is needed to ensure visibility of\n",
    "   // variables not involved in atomic directives\n",
    "\n",
    "   #pragma omp flush\n",
    "   work();\n",
    "   #pragma omp flush\n",
    "   // Release the lock\n",
    "   fetch_and_add(&lock->turn);\n",
    "}\n",
    "\n"
   ]
  },
  {
   "cell_type": "markdown",
   "metadata": {},
   "source": [
    ""
   ]
  },
  {
   "cell_type": "markdown",
   "metadata": {},
   "source": [
    ""
   ]
  },
  {
   "cell_type": "code",
   "execution_count": null,
   "metadata": {},
   "outputs": [],
   "source": [
    "\n",
    "! name: atomic.3\n",
    "! type: F-fixed\n",
    "! version: omp_3.1\n",
    "       function fetch_and_add(p)\n",
    "       integer:: fetch_and_add\n",
    "       integer, intent(inout) :: p\n",
    "\n",
    "! Atomically read the value of p and then increment it. The previous value\n",
    "! is returned. This can be used to implement a simple lock as shown below.\n",
    "!$omp atomic capture\n",
    "       fetch_and_add = p\n",
    "       p = p + 1\n",
    "!$omp end atomic\n",
    "       end function fetch_and_add\n",
    "       module m\n",
    "       interface\n",
    "         function fetch_and_add(p)\n",
    "           integer :: fetch_and_add\n",
    "           integer, intent(inout) :: p\n",
    "         end function\n",
    "         function atomic_read(p)\n",
    "           integer :: atomic_read\n",
    "           integer, intent(in) :: p\n",
    "         end function\n",
    "       end interface\n",
    "       type locktype\n",
    "          integer ticketnumber\n",
    "          integer turn\n",
    "       end type\n",
    "       contains\n",
    "       subroutine do_locked_work(lock)\n",
    "       type(locktype), intent(inout) :: lock\n",
    "       integer myturn\n",
    "       integer junk\n",
    "! obtain the lock\n",
    "        myturn = fetch_and_add(lock%ticketnumber)\n",
    "        do while (atomic_read(lock%turn) .ne. myturn)\n",
    "          continue\n",
    "        enddo\n",
    "! Do some work. The flush is needed to ensure visibility of variables\n",
    "! not involved in atomic directives\n",
    "!$omp flush\n",
    "       call work\n",
    "!$omp flush\n",
    "! Release the lock\n",
    "       junk = fetch_and_add(lock%turn)\n",
    "       end subroutine\n",
    "       end module\n",
    "\n"
   ]
  },
  {
   "cell_type": "markdown",
   "metadata": {},
   "source": [
    ""
   ]
  },
  {
   "cell_type": "markdown",
   "metadata": {},
   "source": [
    ""
   ]
  },
  {
   "cell_type": "markdown",
   "metadata": {},
   "source": [
    "../../synchronization/atomic.tex"
   ]
  },
  {
   "cell_type": "markdown",
   "metadata": {},
   "source": [
    ""
   ]
  },
  {
   "cell_type": "markdown",
   "metadata": {},
   "source": [
    "## Restrictions on the `atomic` Construct"
   ]
  },
  {
   "cell_type": "markdown",
   "metadata": {},
   "source": [
    "\index{constructs!atomic@`atomic`} \index{atomic construct@`atomic` construct}"
   ]
  },
  {
   "cell_type": "markdown",
   "metadata": {},
   "source": [
    "The following non-conforming examples illustrate the restrictions on the `atomic`  construct."
   ]
  },
  {
   "cell_type": "markdown",
   "metadata": {},
   "source": [
    ""
   ]
  },
  {
   "cell_type": "code",
   "execution_count": null,
   "metadata": {},
   "outputs": [],
   "source": [
    "//%compiler: clang\n",
 "//%cflags: -fopenmp\n",
 "\n",
    "/*\n",
    "* name: atomic_restrict.1\n",
    "* type: C\n",
    "* version: omp_3.1\n",
    "*/\n",
    "void atomic_wrong ()\n",
    "{\n",
    " union {int n; float x;} u;\n",
    "\n",
    "#pragma omp parallel\n",
    "  {\n",
    "#pragma omp atomic update\n",
    "    u.n++;\n",
    "\n",
    "#pragma omp atomic update\n",
    "    u.x += 1.0;\n",
    "\n",
    "/* Incorrect because the atomic constructs reference the same location\n",
    "   through incompatible types */\n",
    "  }\n",
    "}\n",
    "\n"
   ]
  },
  {
   "cell_type": "markdown",
   "metadata": {},
   "source": [
    ""
   ]
  },
  {
   "cell_type": "markdown",
   "metadata": {},
   "source": [
    ""
   ]
  },
  {
   "cell_type": "code",
   "execution_count": null,
   "metadata": {},
   "outputs": [],
   "source": [
    "\n",
    "! name: atomic_restrict.1\n",
    "! type: F-fixed\n",
    "! version: omp_3.1\n",
    "      SUBROUTINE ATOMIC_WRONG()\n",
    "        INTEGER:: I\n",
    "        REAL:: R\n",
    "        EQUIVALENCE(I,R)\n",
    "\n",
    "!$OMP   PARALLEL\n",
    "!$OMP     ATOMIC UPDATE\n",
    "            I = I + 1\n",
    "!$OMP     ATOMIC UPDATE\n",
    "            R = R + 1.0\n",
    "! incorrect because I and R reference the same location\n",
    "! but have different types\n",
    "!$OMP   END PARALLEL\n",
    "      END SUBROUTINE ATOMIC_WRONG\n",
    "\n"
   ]
  },
  {
   "cell_type": "markdown",
   "metadata": {},
   "source": [
    ""
   ]
  },
  {
   "cell_type": "markdown",
   "metadata": {},
   "source": [
    ""
   ]
  },
  {
   "cell_type": "code",
   "execution_count": null,
   "metadata": {},
   "outputs": [],
   "source": [
    "//%compiler: clang\n",
 "//%cflags: -fopenmp\n",
 "\n",
    "/*\n",
    "* name: atomic_restrict.2\n",
    "* type: C\n",
    "* version: omp_3.1\n",
    "*/\n",
    "void atomic_wrong2 ()\n",
    "{\n",
    " int  x;\n",
    " int *i;\n",
    " float   *r;\n",
    "\n",
    " i = &x;\n",
    " r = (float *)&x;\n",
    "\n",
    "#pragma omp parallel\n",
    "  {\n",
    "#pragma omp atomic update\n",
    "    *i += 1;\n",
    "\n",
    "#pragma omp atomic update\n",
    "    *r += 1.0;\n",
    "\n",
    "/* Incorrect because the atomic constructs reference the same location\n",
    "   through incompatible types */\n",
    "\n",
    "  }\n",
    "}\n",
    "\n"
   ]
  },
  {
   "cell_type": "markdown",
   "metadata": {},
   "source": [
    ""
   ]
  },
  {
   "cell_type": "markdown",
   "metadata": {},
   "source": [
    "The following example is non-conforming because `I` and `R` reference  the same location but have different types."
   ]
  },
  {
   "cell_type": "markdown",
   "metadata": {},
   "source": [
    ""
   ]
  },
  {
   "cell_type": "code",
   "execution_count": null,
   "metadata": {},
   "outputs": [],
   "source": [
    "\n",
    "! name: atomic_restrict.2\n",
    "! type: F-fixed\n",
    "! version: omp_3.1\n",
    "      SUBROUTINE SUB()\n",
    "        COMMON /BLK/ R\n",
    "        REAL R\n",
    "\n",
    "!$OMP   ATOMIC UPDATE\n",
    "          R = R + 1.0\n",
    "      END SUBROUTINE SUB\n",
    "\n",
    "      SUBROUTINE ATOMIC_WRONG2()\n",
    "        COMMON /BLK/ I\n",
    "        INTEGER I\n",
    "\n",
    "!$OMP   PARALLEL\n",
    "\n",
    "!$OMP     ATOMIC UPDATE\n",
    "            I = I + 1\n",
    "          CALL SUB()\n",
    "!$OMP   END PARALLEL\n",
    "      END SUBROUTINE ATOMIC_WRONG2\n",
    "\n"
   ]
  },
  {
   "cell_type": "markdown",
   "metadata": {},
   "source": [
    ""
   ]
  },
  {
   "cell_type": "markdown",
   "metadata": {},
   "source": [
    "Although the following example might work on some implementations, this is also  non-conforming:"
   ]
  },
  {
   "cell_type": "markdown",
   "metadata": {},
   "source": [
    ""
   ]
  },
  {
   "cell_type": "code",
   "execution_count": null,
   "metadata": {},
   "outputs": [],
   "source": [
    "\n",
    "! name: atomic_restrict.3\n",
    "! type: F-fixed\n",
    "! version: omp_3.1\n",
    "      SUBROUTINE ATOMIC_WRONG3\n",
    "        INTEGER:: I\n",
    "        REAL:: R\n",
    "        EQUIVALENCE(I,R)\n",
    "\n",
    "!$OMP   PARALLEL\n",
    "!$OMP     ATOMIC UPDATE\n",
    "            I = I + 1\n",
    "! incorrect because I and R reference the same location\n",
    "! but have different types\n",
    "!$OMP   END PARALLEL\n",
    "\n",
    "!$OMP   PARALLEL\n",
    "!$OMP     ATOMIC UPDATE\n",
    "            R = R + 1.0\n",
    "! incorrect because I and R reference the same location\n",
    "! but have different types\n",
    "!$OMP   END PARALLEL\n",
    "\n",
    "      END SUBROUTINE ATOMIC_WRONG3\n",
    "\n"
   ]
  },
  {
   "cell_type": "markdown",
   "metadata": {},
   "source": [
    ""
   ]
  },
  {
   "cell_type": "markdown",
   "metadata": {},
   "source": [
    "../../synchronization/atomic_restrict.tex"
   ]
  },
  {
   "cell_type": "markdown",
   "metadata": {},
   "source": [
    ""
   ]
  },
  {
   "cell_type": "markdown",
   "metadata": {},
   "source": [
    "## `flush` Construct without a List"
   ]
  },
  {
   "cell_type": "markdown",
   "metadata": {},
   "source": [
    "\index{constructs!flush@`flush`} \index{flush construct@`flush` construct} \index{flushes!flush without a list}"
   ]
  },
  {
   "cell_type": "markdown",
   "metadata": {},
   "source": [
    "The following example distinguishes the shared variables affected by a `flush`  construct with no list from the shared objects that are not affected:"
   ]
  },
  {
   "cell_type": "markdown",
   "metadata": {},
   "source": [
    ""
   ]
  },
  {
   "cell_type": "code",
   "execution_count": null,
   "metadata": {},
   "outputs": [],
   "source": [
    "//%compiler: clang\n",
 "//%cflags: -fopenmp\n",
 "\n",
    "/*\n",
    "* name: flush_nolist.1\n",
    "* type: C\n",
    "*/\n",
    "int x, *p = &x;\n",
    "\n",
    "void f1(int *q)\n",
    "{\n",
    "  *q = 1;\n",
    "  #pragma omp flush\n",
    "  /* x, p, and *q are flushed */\n",
    "  /* because they are shared and accessible */\n",
    "  /* q is not flushed because it is not shared. */\n",
    "}\n",
    "\n",
    "void f2(int *q)\n",
    "{\n",
    "  #pragma omp barrier\n",
    "  *q = 2;\n",
    "  #pragma omp barrier\n",
    "\n",
    "  /* a barrier implies a flush */\n",
    "  /* x, p, and *q are flushed */\n",
    "  /* because they are shared and accessible */\n",
    "  /* q is not flushed because it is not shared. */\n",
    "}\n",
    "\n",
    "int g(int n)\n",
    "{\n",
    "  int i = 1, j, sum = 0;\n",
    "  *p = 1;\n",
    "  #pragma omp parallel reduction(+: sum) num_threads(10)\n",
    "  {\n",
    "    f1(&j);\n",
    "\n",
    "    /* i, n and sum were not flushed */\n",
    "    /* because they were not accessible in f1 */\n",
    "    /* j was flushed because it was accessible */\n",
    "    sum += j;\n",
    "\n",
    "    f2(&j);\n",
    "\n",
    "    /* i, n, and sum were not flushed */\n",
    "    /* because they were not accessible in f2 */\n",
    "    /* j was flushed because it was accessible */\n",
    "    sum += i + j + *p + n;\n",
    "  }\n",
    "  return sum;\n",
    "}\n",
    "\n",
    "int main()\n",
    "{\n",
    "  int result = g(7);\n",
    "  return result;\n",
    "}\n",
    "\n"
   ]
  },
  {
   "cell_type": "markdown",
   "metadata": {},
   "source": [
    ""
   ]
  },
  {
   "cell_type": "markdown",
   "metadata": {},
   "source": [
    ""
   ]
  },
  {
   "cell_type": "code",
   "execution_count": null,
   "metadata": {},
   "outputs": [],
   "source": [
    "\n",
    "! name: flush_nolist.1\n",
    "! type: F-fixed\n",
    "      SUBROUTINE F1(Q)\n",
    "        COMMON /DATA/ X, P\n",
    "        INTEGER, TARGET  :: X\n",
    "        INTEGER, POINTER :: P\n",
    "        INTEGER Q\n",
    "\n",
    "        Q = 1\n",
    "!$OMP   FLUSH\n",
    "        ! X, P and Q are flushed\n",
    "        ! because they are shared and accessible\n",
    "      END SUBROUTINE F1\n",
    "\n",
    "      SUBROUTINE F2(Q)\n",
    "        COMMON /DATA/ X, P\n",
    "        INTEGER, TARGET  :: X\n",
    "        INTEGER, POINTER :: P\n",
    "        INTEGER Q\n",
    "\n",
    "!$OMP   BARRIER\n",
    "          Q = 2\n",
    "!$OMP   BARRIER\n",
    "          ! a barrier implies a flush\n",
    "          ! X, P and Q are flushed\n",
    "          ! because they are shared and accessible\n",
    "      END SUBROUTINE F2\n",
    "\n",
    "      INTEGER FUNCTION G(N)\n",
    "        COMMON /DATA/ X, P\n",
    "        INTEGER, TARGET  :: X\n",
    "        INTEGER, POINTER :: P\n",
    "        INTEGER N\n",
    "        INTEGER I, J, SUM\n",
    "\n",
    "        I = 1\n",
    "        SUM = 0\n",
    "        P = 1\n",
    "!$OMP   PARALLEL REDUCTION(+: SUM) NUM_THREADS(10)\n",
    "          CALL F1(J)\n",
    "            ! I, N and SUM were not flushed\n",
    "            !   because they were not accessible in F1\n",
    "            ! J was flushed because it was accessible\n",
    "          SUM = SUM + J\n",
    "\n",
    "          CALL F2(J)\n",
    "            ! I, N, and SUM were not flushed\n",
    "            !   because they were not accessible in f2\n",
    "            ! J was flushed because it was accessible\n",
    "          SUM = SUM + I + J + P + N\n",
    "!$OMP   END PARALLEL\n",
    "\n",
    "        G = SUM\n",
    "      END FUNCTION G\n",
    "\n",
    "      PROGRAM FLUSH_NOLIST\n",
    "        COMMON /DATA/ X, P\n",
    "        INTEGER, TARGET  :: X\n",
    "        INTEGER, POINTER :: P\n",
    "        INTEGER RESULT, G\n",
    "\n",
    "        P => X\n",
    "        RESULT = G(7)\n",
    "        PRINT *, RESULT\n",
    "      END PROGRAM FLUSH_NOLIST\n",
    "\n"
   ]
  },
  {
   "cell_type": "markdown",
   "metadata": {},
   "source": [
    ""
   ]
  },
  {
   "cell_type": "markdown",
   "metadata": {},
   "source": [
    ""
   ]
  },
  {
   "cell_type": "markdown",
   "metadata": {},
   "source": [
    "../../synchronization/flush_nolist.tex"
   ]
  },
  {
   "cell_type": "markdown",
   "metadata": {},
   "source": [
    ""
   ]
  },
  {
   "cell_type": "markdown",
   "metadata": {},
   "source": [
    "## Synchronization Based on Acquire/Release Semantics"
   ]
  },
  {
   "cell_type": "markdown",
   "metadata": {},
   "source": [
    ""
   ]
  },
  {
   "cell_type": "markdown",
   "metadata": {},
   "source": [
    ""
   ]
  },
  {
   "cell_type": "markdown",
   "metadata": {},
   "source": [
    ""
   ]
  },
  {
   "cell_type": "markdown",
   "metadata": {},
   "source": [
    "\index{flushes!acquire} \index{flushes!release} \index{clauses!memory ordering clauses} \index{memory ordering clauses!acquire@`acquire`} \index{acquire clause@`acquire` clause} \index{memory ordering clauses!release@`release`} \index{release clause@`release` clause} \index{memory ordering clauses!acq_rel@\scode{acq_rel}} \index{acq_rel clause@\scode{acq_rel} clause} \index{flush construct@`flush` construct} \index{atomic construct@`atomic` construct} \index{clauses!acquire@`acquire`} \index{clauses!release@`release`} \index{clauses!acq_rel@\scode{acq_rel}} As explained in the Memory Model chapter of this document, a flush operation may be an **acquire flush** and/or a **release flush**, and OpenMP 5.0 defines acquire/release semantics in terms of these fundamental flush operations.  For any synchronization between two threads that is specified by OpenMP, a release flush logically occurs at the source of the synchronization and an acquire flush logically occurs at the sink of the synchronization. OpenMP 5.0 added memory ordering clauses -- `acquire`, `release`, and `acq_rel` -- to the `flush` and `atomic` constructs for explicitly requesting acquire/release semantics.  Furthermore, implicit flushes for all OpenMP constructs and runtime routines that synchronize OpenMP threads in some manner were redefined in terms of synchronizing release and acquire flushes to avoid the requirement of strong memory fences (see the  _Flush Synchronization and Happens Before_  and  _Implicit Flushes_  sections of the OpenMP Specifications document)."
   ]
  },
  {
   "cell_type": "markdown",
   "metadata": {},
   "source": [
    "The examples that follow in this section illustrate how acquire and release flushes may be employed, implicitly or explicitly, for synchronizing threads. A `flush` directive without a list and without any memory ordering clause can also function as both an acquire and release flush for facilitating thread synchronization.  Flushes implied on entry to, or exit from, an atomic operation (specified by an `atomic` construct) may function as an acquire flush or a release flush if a memory ordering clause appears on the construct. On entry to and exit from a `critical` construct there is now an implicit acquire flush and release flush, respectively."
   ]
  },
  {
   "cell_type": "markdown",
   "metadata": {},
   "source": [
    ""
   ]
  },
  {
   "cell_type": "markdown",
   "metadata": {},
   "source": [
    "\index{constructs!critical@`critical`} \index{critical construct@`critical` construct} \index{flushes!implicit} The first example illustrates how the release and acquire flushes implied by a `critical` region guarantee a value written by the first thread is visible to a read of the value on the second thread. Thread 0 writes to  _x_  and then executes a `critical` region in which it writes to  _y_ ; the write to  _x_  happens before the execution of the `critical` region, consistent with the program order of the thread.  Meanwhile, thread 1 executes a `critical` region in a loop until it reads a non-zero value from  _y_  in the `critical` region, after which it prints the value of  _x_ ; again, the execution of the `critical` regions happen before the read from  _x_  based on the program order of the thread. The `critical` regions executed by the two threads execute in a serial manner, with a pairwise synchronization from the exit of one `critical` region to the entry to the next `critical` region.  These pairwise synchronizations result from the implicit release flushes that occur on exit from `critical` regions and the implicit acquire flushes that occur on entry to `critical` regions; hence, the execution of each `critical` region in the sequence happens before the execution of the next `critical` region. A \"happens before'' order is therefore established between the assignment to  _x_  by thread 0 and the read from  _x_  by thread 1, and so thread 1 must see that  _x_  equals 10."
   ]
  },
  {
   "cell_type": "markdown",
   "metadata": {},
   "source": [
    ""
   ]
  },
  {
   "cell_type": "code",
   "execution_count": null,
   "metadata": {},
   "outputs": [],
   "source": [
    "//%compiler: clang\n",
 "//%cflags: -fopenmp\n",
 "\n",
    "/*\n",
    "* name: acquire_release.1\n",
    "* type: C\n",
    "* version: omp_5.0\n",
    "*/\n",
    "\n",
    "#include <stdio.h>\n",
    "#include <omp.h>\n",
    "\n",
    "int main()\n",
    "{\n",
    "   int x = 0, y = 0;\n",
    "   #pragma omp parallel num_threads(2)\n",
    "   {\n",
    "      int thrd = omp_get_thread_num();\n",
    "      if (thrd == 0) {\n",
    "         x = 10;\n",
    "         #pragma omp critical\n",
    "         { y = 1; }\n",
    "      } else {\n",
    "         int tmp = 0;\n",
    "         while (tmp == 0) {\n",
    "           #pragma omp critical\n",
    "           { tmp = y; }\n",
    "         }\n",
    "         printf(\"x = %d\\n\", x); // always \"x = 10\"\n",
    "      }\n",
    "   }\n",
    "   return 0;\n",
    "}\n",
    "\n"
   ]
  },
  {
   "cell_type": "markdown",
   "metadata": {},
   "source": [
    ""
   ]
  },
  {
   "cell_type": "code",
   "execution_count": null,
   "metadata": {},
   "outputs": [],
   "source": [
    "\n",
    "! name: acquire_release.1\n",
    "! type: F-free\n",
    "! version: omp_5.0\n",
    "\n",
    "program rel_acq_ex1\n",
    "   use omp_lib\n",
    "   integer :: x, y, thrd, tmp\n",
    "   x = 0\n",
    "   y = 0\n",
    "   !$omp parallel num_threads(2) private(thrd, tmp)\n",
    "      thrd = omp_get_thread_num()\n",
    "      if (thrd == 0) then\n",
    "         x = 10\n",
    "         !$omp critical\n",
    "         y = 1\n",
    "         !$omp end critical\n",
    "      else\n",
    "         tmp = 0\n",
    "         do while (tmp == 0)\n",
    "            !$omp critical\n",
    "            tmp = y\n",
    "            !$omp end critical\n",
    "         end do\n",
    "         print *, \"x = \", x  !! always \"x = 10\"\n",
    "      end if\n",
    "   !$omp end parallel\n",
    "end program\n",
    "\n"
   ]
  },
  {
   "cell_type": "markdown",
   "metadata": {},
   "source": [
    ""
   ]
  },
  {
   "cell_type": "markdown",
   "metadata": {},
   "source": [
    "\index{constructs!atomic@`atomic`} \index{atomic construct@`atomic` construct} \index{atomic construct@`atomic` construct!write clause@`write` clause} \index{atomic construct@`atomic` construct!read clause@`read` clause} \index{atomic construct@`atomic` construct!memory ordering clauses} \index{write clause@`write` clause} \index{read clause@`read` clause} \index{clauses!write@`write`} \index{clauses!read@`read`} \index{memory ordering clauses!seq_cst@\scode{seq_cst}} \index{seq_cst clause@\scode{seq_cst} clause} \index{clauses!seq_cst@\scode{seq_cst}} In the second example, the `critical` constructs are exchanged with `atomic` constructs that have \textit{explicit} memory ordering specified. When the atomic read operation on thread 1 reads a non-zero value from  _y_ , this results in a release/acquire synchronization that in turn implies that the assignment to  _x_  on thread 0 happens before the read of  _x_  on thread 1. Therefore, thread 1 will print \"x = 10''."
   ]
  },
  {
   "cell_type": "markdown",
   "metadata": {},
   "source": [
    ""
   ]
  },
  {
   "cell_type": "code",
   "execution_count": null,
   "metadata": {},
   "outputs": [],
   "source": [
    "//%compiler: clang\n",
 "//%cflags: -fopenmp\n",
 "\n",
    "/*\n",
    "* name: acquire_release.2\n",
    "* type: C\n",
    "* version: omp_5.0\n",
    "*/\n",
    "\n",
    "#include <stdio.h>\n",
    "#include <omp.h>\n",
    "\n",
    "int main()\n",
    "{\n",
    "   int x = 0, y = 0;\n",
    "   #pragma omp parallel num_threads(2)\n",
    "   {\n",
    "      int thrd = omp_get_thread_num();\n",
    "       if (thrd == 0) {\n",
    "          x = 10;\n",
    "          #pragma omp atomic write release // or seq_cst\n",
    "          y = 1;\n",
    "       } else {\n",
    "          int tmp = 0;\n",
    "          while (tmp == 0) {\n",
    "            #pragma omp atomic read acquire // or seq_cst\n",
    "            tmp = y;\n",
    "          }\n",
    "          printf(\"x = %d\\n\", x); // always \"x = 10\"\n",
    "       }\n",
    "   }\n",
    "   return 0;\n",
    "}\n",
    "\n"
   ]
  },
  {
   "cell_type": "markdown",
   "metadata": {},
   "source": [
    ""
   ]
  },
  {
   "cell_type": "code",
   "execution_count": null,
   "metadata": {},
   "outputs": [],
   "source": [
    "\n",
    "! name: acquire_release.2\n",
    "! type: F-free\n",
    "! version: omp_5.0\n",
    "\n",
    "program rel_acq_ex2\n",
    "   use omp_lib\n",
    "   integer :: x, y, thrd, tmp\n",
    "   x = 0\n",
    "   y = 0\n",
    "   !$omp parallel num_threads(2) private(thrd, tmp)\n",
    "      thrd = omp_get_thread_num()\n",
    "      if (thrd == 0) then\n",
    "         x = 10\n",
    "         !$omp atomic write release ! or seq_cst\n",
    "          y = 1\n",
    "         !$omp end atomic\n",
    "      else\n",
    "         tmp = 0\n",
    "         do while (tmp == 0)\n",
    "            !$omp atomic read acquire ! or seq_cst\n",
    "            tmp = y\n",
    "            !$omp end atomic\n",
    "         end do\n",
    "         print *, \"x = \", x  !! always \"x = 10\"\n",
    "      end if\n",
    "   !$omp end parallel\n",
    "end program\n",
    "\n"
   ]
  },
  {
   "cell_type": "markdown",
   "metadata": {},
   "source": [
    ""
   ]
  },
  {
   "cell_type": "markdown",
   "metadata": {},
   "source": [
    "\index{constructs!atomic@`atomic`} \index{atomic construct@`atomic` construct!relaxed atomic operations} \index{flush construct@`flush` construct} In the third example, `atomic` constructs that specify relaxed atomic operations are used with explicit `flush` directives to enforce memory ordering between the two threads. The explicit `flush` directive on thread 0 must specify a release flush and the explicit `flush` directive on thread 1 must specify an acquire flush to establish a release/acquire synchronization between the two threads. The `flush` and `atomic` constructs encountered by thread 0 can be replaced by the `atomic` construct used in Example 2 for thread 0, and similarly the `flush` and `atomic` constructs encountered by thread 1 can be replaced by the `atomic` construct used in Example 2 for thread 1."
   ]
  },
  {
   "cell_type": "markdown",
   "metadata": {},
   "source": [
    ""
   ]
  },
  {
   "cell_type": "markdown",
   "metadata": {},
   "source": [
    ""
   ]
  },
  {
   "cell_type": "code",
   "execution_count": null,
   "metadata": {},
   "outputs": [],
   "source": [
    "//%compiler: clang\n",
 "//%cflags: -fopenmp\n",
 "\n",
    "/*\n",
    "* name: acquire_release.3\n",
    "* type: C\n",
    "* version: omp_5.0\n",
    "*/\n",
    "\n",
    "#include <stdio.h>\n",
    "#include <omp.h>\n",
    "\n",
    "int main()\n",
    "{\n",
    "   int x = 0, y = 0;\n",
    "   #pragma omp parallel num_threads(2)\n",
    "   {\n",
    "      int thrd = omp_get_thread_num();\n",
    "      if (thrd == 0) {\n",
    "         x = 10;\n",
    "         #pragma omp flush // or with acq_rel or release clause\n",
    "         #pragma omp atomic write // or with relaxed clause\n",
    "         y = 1;\n",
    "      } else {\n",
    "         int tmp = 0;\n",
    "         while (tmp == 0) {\n",
    "           #pragma omp atomic read // or with relaxed clause\n",
    "           tmp = y;\n",
    "         }\n",
    "         #pragma omp flush // or with acq_rel or acquire clause\n",
    "         printf(\"x = %d\\n\", x);  // always \"x = 10\"\n",
    "      }\n",
    "   }\n",
    "   return 0;\n",
    "}\n",
    "\n"
   ]
  },
  {
   "cell_type": "markdown",
   "metadata": {},
   "source": [
    ""
   ]
  },
  {
   "cell_type": "code",
   "execution_count": null,
   "metadata": {},
   "outputs": [],
   "source": [
    "\n",
    "! name: acquire_release.3\n",
    "! type: F-free\n",
    "! version: omp_5.0\n",
    "\n",
    "program rel_acq_ex3\n",
    "   use omp_lib\n",
    "   integer :: x, y, thrd, tmp\n",
    "   x = 0\n",
    "   y = 0\n",
    "   !$omp parallel num_threads(2) private(thrd, tmp)\n",
    "      thrd = omp_get_thread_num()\n",
    "      if (thrd == 0) then\n",
    "         x = 10\n",
    "         !$omp flush ! or with acq_rel or release clause\n",
    "         !$omp atomic write\n",
    "         y = 1\n",
    "         !$omp end atomic\n",
    "      else\n",
    "         tmp = 0\n",
    "         do while (tmp == 0)\n",
    "            !$omp atomic read\n",
    "            tmp = y\n",
    "            !$omp end atomic\n",
    "         end do\n",
    "         !$omp flush ! or with acq_rel or acquire clause\n",
    "         print *, \"x = \", x  !! always \"x = 10\"\n",
    "      end if\n",
    "   !$omp end parallel\n",
    "end program\n",
    "\n"
   ]
  },
  {
   "cell_type": "markdown",
   "metadata": {},
   "source": [
    ""
   ]
  },
  {
   "cell_type": "markdown",
   "metadata": {},
   "source": [
    "Example 4 will fail to order the write to  _x_  on thread 0 before the read from  _x_  on thread 1. Importantly, the implicit release flush on exit from the `critical` region will not synchronize with the acquire flush that occurs on the atomic read operation performed by thread 1. This is because implicit release flushes that occur on a given construct may only synchronize with implicit acquire flushes on a compatible construct (and vice-versa) that internally makes use of the same synchronization variable. For a `critical` construct, this might correspond to a  _lock_  object that is used by a given implementation (for the synchronization semantics of other constructs due to implicit release and acquire flushes, refer to the  _Implicit Flushes_  section of the OpenMP Specifications document).  Either an explicit `flush` directive that provides a release flush (i.e., a flush without a list that does not have the `acquire` clause) must be specified between the `critical` construct and the atomic write, or an atomic operation that modifies  _y_  and provides release semantics must be specified."
   ]
  },
  {
   "cell_type": "markdown",
   "metadata": {},
   "source": [
    ""
   ]
  },
  {
   "cell_type": "markdown",
   "metadata": {},
   "source": [
    ""
   ]
  },
  {
   "cell_type": "code",
   "execution_count": null,
   "metadata": {},
   "outputs": [],
   "source": [
    "//%compiler: clang\n",
 "//%cflags: -fopenmp\n",
 "\n",
    "/*\n",
    "* name: acquire_release_broke.4\n",
    "* type: C\n",
    "* version: omp_5.0\n",
    "*/\n",
    "\n",
    "#include <stdio.h>\n",
    "#include <omp.h>\n",
    "\n",
    "int main()\n",
    "{\n",
    "\n",
    "// !!! THIS CODE WILL FAIL TO PRODUCE CONSISTENT RESULTS !!!!!!!\n",
    "// !!! DO NOT PROGRAM SYNCHRONIZATION THIS WAY !!!!!!!\n",
    "\n",
    "   int x = 0, y;\n",
    "   #pragma omp parallel num_threads(2)\n",
    "   {\n",
    "      int thrd = omp_get_thread_num();\n",
    "      if (thrd == 0) {\n",
    "         #pragma omp critical\n",
    "         { x = 10; }\n",
    "         // an explicit flush directive that provides\n",
    "         // release semantics is needed here\n",
    "         // to complete the synchronization.\n",
    "         #pragma omp atomic write\n",
    "         y = 1;\n",
    "      } else {\n",
    "         int tmp = 0;\n",
    "         while (tmp == 0) {\n",
    "            #pragma omp atomic read acquire // or seq_cst\n",
    "            tmp = y;\n",
    "         }\n",
    "         #pragma omp critical\n",
    "         { printf(\"x = %d\\n\", x); }  // !! NOT ALWAYS 10\n",
    "      }\n",
    "   }\n",
    "   return 0;\n",
    "}\n",
    "\n"
   ]
  },
  {
   "cell_type": "markdown",
   "metadata": {},
   "source": [
    ""
   ]
  },
  {
   "cell_type": "code",
   "execution_count": null,
   "metadata": {},
   "outputs": [],
   "source": [
    "\n",
    "! name: acquire_release_broke.4\n",
    "! type: F-free\n",
    "! version: omp_5.0\n",
    "\n",
    "program rel_acq_ex4\n",
    "   use omp_lib\n",
    "   integer :: x, y, thrd\n",
    "   integer :: tmp\n",
    "   x = 0\n",
    "\n",
    "!! !!! THIS CODE WILL FAIL TO PRODUCE CONSISTENT RESULTS !!!!!!!\n",
    "!! !!! DO NOT PROGRAM SYNCHRONIZATION THIS WAY !!!!!!!\n",
    "\n",
    "   !$omp parallel num_threads(2) private(thrd) private(tmp)\n",
    "      thrd = omp_get_thread_num()\n",
    "      if (thrd == 0) then\n",
    "         !$omp critical\n",
    "         x = 10\n",
    "         !$omp end critical\n",
    "         ! an explicit flush directive that provides\n",
    "         ! release semantics is needed here to\n",
    "         ! complete the synchronization.\n",
    "         !$omp atomic write\n",
    "         y = 1\n",
    "         !$omp end atomic\n",
    "      else\n",
    "         tmp = 0\n",
    "         do while(tmp == 0)\n",
    "           !$omp atomic read acquire ! or seq_cst\n",
    "           tmp = x\n",
    "           !$omp end atomic\n",
    "         end do\n",
    "         !$omp critical\n",
    "         print *, \"x = \", x  !! !! NOT ALWAYS 10\n",
    "         !$omp end critical\n",
    "      end if\n",
    "   !$omp end parallel\n",
    "end program\n",
    "\n"
   ]
  },
  {
   "cell_type": "markdown",
   "metadata": {},
   "source": [
    "../../synchronization/acquire_release.tex"
   ]
  },
  {
   "cell_type": "markdown",
   "metadata": {},
   "source": [
    ""
   ]
  },
  {
   "cell_type": "markdown",
   "metadata": {},
   "source": [
    "## `ordered` Clause and `ordered` Construct"
   ]
  },
  {
   "cell_type": "markdown",
   "metadata": {},
   "source": [
    "\index{clauses!ordered@`ordered`} \index{ordered clause@`ordered` clause} \index{constructs!ordered@`ordered`} \index{ordered construct@`ordered` construct}"
   ]
  },
  {
   "cell_type": "markdown",
   "metadata": {},
   "source": [
    "Ordered constructs  are useful for sequentially ordering the output from work that  is done in parallel. The following program prints out the indices in sequential  order:"
   ]
  },
  {
   "cell_type": "markdown",
   "metadata": {},
   "source": [
    ""
   ]
  },
  {
   "cell_type": "code",
   "execution_count": null,
   "metadata": {},
   "outputs": [],
   "source": [
    "//%compiler: clang\n",
 "//%cflags: -fopenmp\n",
 "\n",
    "/*\n",
    "* name: ordered.1\n",
    "* type: C\n",
    "*/\n",
    "#include <stdio.h>\n",
    "\n",
    "void work(int k)\n",
    "{\n",
    "  #pragma omp ordered\n",
    "    printf(\" %d\\n\", k);\n",
    "}\n",
    "\n",
    "void ordered_example(int lb, int ub, int stride)\n",
    "{\n",
    "  int i;\n",
    "\n",
    "  #pragma omp parallel for ordered schedule(dynamic)\n",
    "  for (i=lb; i<ub; i+=stride)\n",
    "    work(i);\n",
    "}\n",
    "\n",
    "int main()\n",
    "{\n",
    "  ordered_example(0, 100, 5);\n",
    "  return 0;\n",
    "}\n",
    "\n"
   ]
  },
  {
   "cell_type": "markdown",
   "metadata": {},
   "source": [
    ""
   ]
  },
  {
   "cell_type": "markdown",
   "metadata": {},
   "source": [
    ""
   ]
  },
  {
   "cell_type": "code",
   "execution_count": null,
   "metadata": {},
   "outputs": [],
   "source": [
    "\n",
    "! name: ordered.1\n",
    "! type: F-fixed\n",
    "      SUBROUTINE WORK(K)\n",
    "        INTEGER k\n",
    "\n",
    "!$OMP ORDERED\n",
    "        WRITE(*,*) K\n",
    "!$OMP END ORDERED\n",
    "\n",
    "      END SUBROUTINE WORK\n",
    "\n",
    "      SUBROUTINE SUB(LB, UB, STRIDE)\n",
    "        INTEGER LB, UB, STRIDE\n",
    "        INTEGER I\n",
    "\n",
    "!$OMP PARALLEL DO ORDERED SCHEDULE(DYNAMIC)\n",
    "        DO I=LB,UB,STRIDE\n",
    "          CALL WORK(I)\n",
    "        END DO\n",
    "!$OMP END PARALLEL DO\n",
    "\n",
    "      END SUBROUTINE SUB\n",
    "\n",
    "      PROGRAM ORDERED_EXAMPLE\n",
    "        CALL SUB(1,100,5)\n",
    "      END PROGRAM ORDERED_EXAMPLE\n",
    "\n"
   ]
  },
  {
   "cell_type": "markdown",
   "metadata": {},
   "source": [
    ""
   ]
  },
  {
   "cell_type": "markdown",
   "metadata": {},
   "source": [
    "It is possible to have multiple `ordered` constructs within a loop region  with the `ordered` clause specified. The first example is non-conforming  because all iterations execute two `ordered` regions. An iteration of a  loop must not execute more than one `ordered` region:"
   ]
  },
  {
   "cell_type": "markdown",
   "metadata": {},
   "source": [
    ""
   ]
  },
  {
   "cell_type": "code",
   "execution_count": null,
   "metadata": {},
   "outputs": [],
   "source": [
    "//%compiler: clang\n",
 "//%cflags: -fopenmp\n",
 "\n",
    "/*\n",
    "* name: ordered.2\n",
    "* type: C\n",
    "*/\n",
    "void work(int i) {}\n",
    "\n",
    "void ordered_wrong(int n)\n",
    "{\n",
    "  int i;\n",
    "  #pragma omp for ordered\n",
    "  for (i=0; i<n; i++) {\n",
    "/* incorrect because an iteration may not execute more than one\n",
    "   ordered region */\n",
    "    #pragma omp ordered\n",
    "      work(i);\n",
    "    #pragma omp ordered\n",
    "      work(i+1);\n",
    "  }\n",
    "}\n",
    "\n"
   ]
  },
  {
   "cell_type": "markdown",
   "metadata": {},
   "source": [
    ""
   ]
  },
  {
   "cell_type": "markdown",
   "metadata": {},
   "source": [
    ""
   ]
  },
  {
   "cell_type": "code",
   "execution_count": null,
   "metadata": {},
   "outputs": [],
   "source": [
    "\n",
    "! name: ordered.2\n",
    "! type: F-fixed\n",
    "      SUBROUTINE WORK(I)\n",
    "      INTEGER I\n",
    "      END SUBROUTINE WORK\n",
    "\n",
    "      SUBROUTINE ORDERED_WRONG(N)\n",
    "      INTEGER N\n",
    "\n",
    "        INTEGER I\n",
    "!$OMP   DO ORDERED\n",
    "        DO I = 1, N\n",
    "! incorrect because an iteration may not execute more than one\n",
    "! ordered region\n",
    "!$OMP     ORDERED\n",
    "            CALL WORK(I)\n",
    "!$OMP     END ORDERED\n",
    "\n",
    "!$OMP     ORDERED\n",
    "            CALL WORK(I+1)\n",
    "!$OMP     END ORDERED\n",
    "        END DO\n",
    "      END SUBROUTINE ORDERED_WRONG\n",
    "\n"
   ]
  },
  {
   "cell_type": "markdown",
   "metadata": {},
   "source": [
    ""
   ]
  },
  {
   "cell_type": "markdown",
   "metadata": {},
   "source": [
    "The following is a conforming example with more than one `ordered` construct.  Each iteration will execute only one `ordered` region:"
   ]
  },
  {
   "cell_type": "markdown",
   "metadata": {},
   "source": [
    ""
   ]
  },
  {
   "cell_type": "code",
   "execution_count": null,
   "metadata": {},
   "outputs": [],
   "source": [
    "//%compiler: clang\n",
 "//%cflags: -fopenmp\n",
 "\n",
    "/*\n",
    "* name: ordered.3\n",
    "* type: C\n",
    "*/\n",
    "void work(int i) {}\n",
    "void ordered_good(int n)\n",
    "{\n",
    "  int i;\n",
    "#pragma omp for ordered\n",
    "  for (i=0; i<n; i++) {\n",
    "    if (i <= 10) {\n",
    "      #pragma omp ordered\n",
    "         work(i);\n",
    "    }\n",
    "    if (i > 10) {\n",
    "      #pragma omp ordered\n",
    "        work(i+1);\n",
    "    }\n",
    "  }\n",
    "}\n",
    "\n"
   ]
  },
  {
   "cell_type": "markdown",
   "metadata": {},
   "source": [
    ""
   ]
  },
  {
   "cell_type": "markdown",
   "metadata": {},
   "source": [
    ""
   ]
  },
  {
   "cell_type": "code",
   "execution_count": null,
   "metadata": {},
   "outputs": [],
   "source": [
    "\n",
    "! name: ordered.3\n",
    "! type: F-fixed\n",
    "      SUBROUTINE ORDERED_GOOD(N)\n",
    "      INTEGER N\n",
    "\n",
    "!$OMP   DO ORDERED\n",
    "        DO I = 1,N\n",
    "          IF (I <= 10) THEN\n",
    "!$OMP       ORDERED\n",
    "              CALL WORK(I)\n",
    "!$OMP       END ORDERED\n",
    "          ENDIF\n",
    "\n",
    "          IF (I > 10) THEN\n",
    "!$OMP       ORDERED\n",
    "              CALL WORK(I+1)\n",
    "!$OMP       END ORDERED\n",
    "          ENDIF\n",
    "        ENDDO\n",
    "      END SUBROUTINE ORDERED_GOOD\n",
    "\n"
   ]
  },
  {
   "cell_type": "markdown",
   "metadata": {},
   "source": [
    ""
   ]
  },
  {
   "cell_type": "markdown",
   "metadata": {},
   "source": [
    "../../synchronization/ordered.tex"
   ]
  },
  {
   "cell_type": "markdown",
   "metadata": {},
   "source": [
    ""
   ]
  },
  {
   "cell_type": "markdown",
   "metadata": {},
   "source": [
    "## `depobj` Construct"
   ]
  },
  {
   "cell_type": "markdown",
   "metadata": {},
   "source": [
    "\index{constructs!depobj@`depobj`} \index{depobj construct@`depobj` construct} \index{depobj construct@`depobj` construct!depend clause@`depend` clause} \index{depend clause@`depend` clause} \index{clauses!depend@`depend`}"
   ]
  },
  {
   "cell_type": "markdown",
   "metadata": {},
   "source": [
    "The stand-alone `depobj` construct provides a mechanism  to create a  _depend object_  that expresses a dependence to be  used subsequently in the `depend` clause of another construct. The dependence is created from a dependence type and a storage location, within a `depend` clause of an `depobj` construct;  and it is stored in the depend object. The depend object is represented by a variable of type `omp_depend_t`  in C/C++ (by a scalar variable of integer kind `omp_depend_kind` in Fortran)."
   ]
  },
  {
   "cell_type": "markdown",
   "metadata": {},
   "source": [
    "\index{depobj construct@`depobj` construct!update clause@`update` clause} \index{update clause@`update` clause} \index{clauses!update@`update`} \index{depobj construct@`depobj` construct!destroy clause@`destroy` clause} \index{destroy clause@`destroy` clause} \index{clauses!destroy@`destroy`} In the example below the stand-alone `depobj` construct uses the  `depend`, `update` and `destroy` clauses to   _initialize_ ,  _update_  and  _uninitialize_  a depend object (`obj`)."
   ]
  },
  {
   "cell_type": "markdown",
   "metadata": {},
   "source": [
    "The first `depobj` construct initializes the `obj`  depend object with  an `inout` dependence type with a storage  location defined by variable `a`.   This dependence is passed into the  _driver_   routine via the `obj` depend object."
   ]
  },
  {
   "cell_type": "markdown",
   "metadata": {},
   "source": [
    "In the first  _driver_  routine call, **Task 1** uses the dependence of the object (`inout`),  while **Task 2** uses an `in` dependence specified  directly in a `depend` clause. For these task dependences **Task 1** must execute and  complete before **Task 2** begins."
   ]
  },
  {
   "cell_type": "markdown",
   "metadata": {},
   "source": [
    "Before the second call to  _driver_ , `obj` is updated  using the `depobj` construct to represent an `in` dependence.  Hence, in the second call to  _driver_ , **Task 1** will have an `in` dependence; and **Task 1** and  **Task 2** can execute simultaneously. Note: in an `update` clause, only the dependence type can be (is) updated."
   ]
  },
  {
   "cell_type": "markdown",
   "metadata": {},
   "source": [
    "The third `depobj` construct uses the `destroy` clause. It frees resources as it puts the depend object in an uninitialized state-- effectively destroying the depend object. After an object has been uninitialized it can be initialized again with a new dependence type **and** a new variable."
   ]
  },
  {
   "cell_type": "markdown",
   "metadata": {},
   "source": [
    ""
   ]
  },
  {
   "cell_type": "code",
   "execution_count": null,
   "metadata": {},
   "outputs": [],
   "source": [
    "//%compiler: clang\n",
 "//%cflags: -fopenmp\n",
 "\n",
    "/*\n",
    "* name:       depobj.1\n",
    "* type:       C\n",
    "* version:    omp_5.2\n",
    "*/\n",
    "\n",
    "#include <stdio.h>\n",
    "#include <omp.h>\n",
    "\n",
    "#define N 100\n",
    "#define TRUE  1\n",
    "#define FALSE 0\n",
    "\n",
    "void driver(int update, float a[], float b[], int n, omp_depend_t *obj);\n",
    "\n",
    "void update_copy(int update, float a[], float b[], int n);\n",
    "void checkpoint(float a[],int n);\n",
    "void init(float a[], int n);\n",
    "\n",
    "\n",
    "int main(){\n",
    "\n",
    "   float a[N],b[N];\n",
    "   omp_depend_t obj;\n",
    "\n",
    "   init(a, N);\n",
    "\n",
    "   #pragma omp depobj(obj) depend(inout: a)\n",
    "\n",
    "   driver(TRUE,  a,b,N, &obj);  // updating a occurs\n",
    "\n",
    "   #pragma omp depobj(obj) update(in)\n",
    "\n",
    "   driver(FALSE, a,b,N, &obj);  // no updating of a\n",
    "\n",
    "   #pragma omp depobj(obj) destroy(obj)  // obj is set to uninitialized\n",
    "                                         // state, resources are freed\n",
    "   return 0;\n",
    "\n",
    "}\n",
    "\n",
    "void driver(int update, float a[], float b[], int n, omp_depend_t *obj)\n",
    "{\n",
    "   #pragma omp parallel num_threads(2)\n",
    "   #pragma omp single\n",
    "   {\n",
    "\n",
    "      #pragma omp task depend(depobj: *obj) // Task 1, uses depend object\n",
    "         update_copy(update, a,b,n); // may update a, always copy a to b\n",
    "\n",
    "     #pragma omp task depend(in: a[:n])     // Task 2, only read a\n",
    "         checkpoint(a,n);\n",
    "   }\n",
    "}\n",
    "\n",
    "void update_copy(int update, float a[], float b[], int n)\n",
    "{\n",
    "   if(update) for(int i=0;i<n;i++) a[i]+=1.0f;\n",
    "\n",
    "   for(int i=0;i<n;i++) b[i]=a[i];\n",
    "}\n",
    "\n",
    "void checkpoint(float a[], int n)\n",
    "{\n",
    "   for(int i=0;i<n;i++) printf(\" %f \",a[i]);\n",
    "   printf(\"\\n\");\n",
    "}\n",
    "\n",
    "void init(float a[], int n)\n",
    "{\n",
    "   for(int i=0;i<n;i++) a[i]=i;\n",
    "}\n",
    "\n",
    "\n"
   ]
  },
  {
   "cell_type": "markdown",
   "metadata": {},
   "source": [
    ""
   ]
  },
  {
   "cell_type": "markdown",
   "metadata": {},
   "source": [
    ""
   ]
  },
  {
   "cell_type": "code",
   "execution_count": null,
   "metadata": {},
   "outputs": [],
   "source": [
    "\n",
    "! name:       depobj.1\n",
    "! type:       F-free\n",
    "! version: omp_5.2\n",
    "\n",
    "program main\n",
    "    use omp_lib\n",
    "    implicit none\n",
    "\n",
    "    integer,parameter        :: N=100\n",
    "    real                     :: a(N),b(N)\n",
    "    integer(omp_depend_kind) :: obj\n",
    "\n",
    "    call init(a, N)\n",
    "\n",
    "    !$omp depobj(obj) depend(inout: a)\n",
    "\n",
    "    call driver(.true.,  a,b,N, obj)  !! updating occurs\n",
    "\n",
    "    !$omp depobj(obj) update(in)\n",
    "\n",
    "    call driver(.false., a,b,N, obj)  !! no updating\n",
    "\n",
    "    !$omp depobj(obj) destroy(obj)    !! obj is set to uninitialized\n",
    "                                      !! state, resources are freed\n",
    "\n",
    "end program\n",
    "\n",
    "subroutine driver(update, a, b, n, obj)\n",
    "   use omp_lib\n",
    "   implicit none\n",
    "   logical :: update\n",
    "   real    :: a(n), b(n)\n",
    "   integer :: n\n",
    "   integer(omp_depend_kind) :: obj\n",
    "\n",
    "   !$omp parallel num_threads(2)\n",
    "\n",
    "     !$omp single\n",
    "\n",
    "       !$omp task depend(depobj: obj)       !! Task 1, uses depend object\n",
    "         call update_copy(update, a,b,n)\n",
    "              !! update a or not, always copy a to b\n",
    "       !$omp end task\n",
    "\n",
    "       !$omp task depend(in: a)             !! Task 2, only read a\n",
    "         call checkpoint(a,n)\n",
    "       !$omp end task\n",
    "\n",
    "     !$omp end single\n",
    "\n",
    "   !$omp end parallel\n",
    "\n",
    "end subroutine\n",
    "\n",
    "subroutine update_copy(update, a, b, n)\n",
    "   implicit none\n",
    "   logical :: update\n",
    "   real    :: a(n), b(n)\n",
    "   integer :: n\n",
    "\n",
    "   if (update) a = a + 1.0\n",
    "\n",
    "   b = a\n",
    "\n",
    "end subroutine\n",
    "\n",
    "subroutine checkpoint( a, n)\n",
    "   implicit none\n",
    "   integer :: n\n",
    "   real    :: a(n)\n",
    "   integer :: i\n",
    "\n",
    "   write(*,'( *(f5.0) )') (a(i), i=1,n)\n",
    "end subroutine\n",
    "\n",
    "subroutine init(a,n)\n",
    "   implicit none\n",
    "   integer :: n\n",
    "   real    :: a(n)\n",
    "   integer :: i\n",
    "\n",
    "   a=[ (i, i=1,n) ]\n",
    "end subroutine\n",
    "\n"
   ]
  },
  {
   "cell_type": "markdown",
   "metadata": {},
   "source": [
    "../../synchronization/depobj.tex"
   ]
  },
  {
   "cell_type": "markdown",
   "metadata": {},
   "source": [
    ""
   ]
  },
  {
   "cell_type": "markdown",
   "metadata": {},
   "source": [
    "## Doacross Loop Nest"
   ]
  },
  {
   "cell_type": "markdown",
   "metadata": {},
   "source": [
    "\index{dependences!doacross loop nest} \index{doacross loop nest!ordered construct@`ordered` construct} \index{ordered construct@`ordered` construct!doacross loop nest} \index{doacross loop nest!doacross clause@`doacross` clause} \index{constructs!ordered@`ordered`} \index{clauses!doacross@`doacross`} \index{doacross clause@`doacross` clause}"
   ]
  },
  {
   "cell_type": "markdown",
   "metadata": {},
   "source": [
    "An `ordered` clause can be used on a loop construct with an integer parameter argument to define the number of associated loops within  a  _doacross loop nest_  where cross-iteration dependences exist. A `doacross` clause on an `ordered` construct within an ordered  loop describes the dependences of the  _doacross_  loops."
   ]
  },
  {
   "cell_type": "markdown",
   "metadata": {},
   "source": [
    "In the code below, the `doacross(sink:i-1)` clause defines an  _i-1_   to  _i_  cross-iteration dependence that specifies a wait point for  the completion of computation from iteration  _i-1_  before proceeding  to the subsequent statements. The \scode{doacross(source:omp_cur_iteration)}  or \scode{doacross(source:)} clause indicates  the completion of computation from the current iteration ( _i_ )  to satisfy the cross-iteration dependence that arises from the iteration. The \scode{omp_cur_iteration} keyword is optional for the \scode{source} dependence type. For this example the same sequential ordering could have been achieved  with an `ordered` clause without a parameter, on the loop directive,  and a single `ordered` directive without the `doacross` clause specified for the statement executing the  _bar_  function."
   ]
  },
  {
   "cell_type": "markdown",
   "metadata": {},
   "source": [
    ""
   ]
  },
  {
   "cell_type": "code",
   "execution_count": null,
   "metadata": {},
   "outputs": [],
   "source": [
    "//%compiler: clang\n",
 "//%cflags: -fopenmp\n",
 "\n",
    "/*\n",
    "* name: doacross.1\n",
    "* type: C\n",
    "* version: omp_5.2\n",
    "*/\n",
    "\n",
    "float foo(int i);\n",
    "float bar(float a, float b);\n",
    "float baz(float b);\n",
    "\n",
    "void work( int N, float *A, float *B, float *C )\n",
    "{\n",
    "  int i;\n",
    "\n",
    "  #pragma omp for ordered(1)\n",
    "  for (i=1; i<N; i++)\n",
    "  {\n",
    "    A[i] = foo(i);\n",
    "\n",
    "  #pragma omp ordered doacross(sink: i-1)\n",
    "    B[i] = bar(A[i], B[i-1]);\n",
    "  #pragma omp ordered doacross(source: omp_cur_iteration)\n",
    "\n",
    "    C[i] = baz(B[i]);\n",
    "  }\n",
    "}\n",
    "\n"
   ]
  },
  {
   "cell_type": "markdown",
   "metadata": {},
   "source": [
    ""
   ]
  },
  {
   "cell_type": "markdown",
   "metadata": {},
   "source": [
    ""
   ]
  },
  {
   "cell_type": "code",
   "execution_count": null,
   "metadata": {},
   "outputs": [],
   "source": [
    "\n",
    "! name: doacross.1\n",
    "! type: F-free\n",
    "! version:    omp_5.2\n",
    "\n",
    "subroutine work( N, A, B, C )\n",
    "  integer :: N, i\n",
    "  real, dimension(N) :: A, B, C\n",
    "  real, external :: foo, bar, baz\n",
    "\n",
    "  !$omp do ordered(1)\n",
    "  do i=2, N\n",
    "    A(i) = foo(i)\n",
    "\n",
    "  !$omp ordered doacross(sink: i-1)\n",
    "    B(i) = bar(A(i), B(i-1))\n",
    "  !$omp ordered doacross(source: omp_cur_iteration)\n",
    "\n",
    "    C(i) = baz(B(i))\n",
    "  end do\n",
    "end subroutine\n",
    "\n"
   ]
  },
  {
   "cell_type": "markdown",
   "metadata": {},
   "source": [
    ""
   ]
  },
  {
   "cell_type": "markdown",
   "metadata": {},
   "source": [
    "The following code is similar to the previous example but with   _doacross loop nest_  extended to two nested loops,  _i_  and  _j_ ,  as specified by the `ordered(2)` clause on the loop directive.  In the C/C++ code, the  _i_  and  _j_  loops are the first and second associated loops, respectively, whereas in the Fortran code, the  _j_  and  _i_  loops are the first and second associated loops, respectively. The `doacross(sink:i-1,j)` and `doacross(sink:i,j-1)` clauses in  the C/C++ code define cross-iteration dependences in two dimensions from  iterations ( _i-1, j_ ) and ( _i, j-1_ ) to iteration ( _i, j_ ).   Likewise, the `doacross(sink:j-1,i)` and `doacross(sink:j,i-1)` clauses  in the Fortran code define cross-iteration dependences from iterations  ( _j-1, i_ ) and ( _j, i-1_ ) to iteration ( _j, i_ )."
   ]
  },
  {
   "cell_type": "markdown",
   "metadata": {},
   "source": [
    ""
   ]
  },
  {
   "cell_type": "code",
   "execution_count": null,
   "metadata": {},
   "outputs": [],
   "source": [
    "//%compiler: clang\n",
 "//%cflags: -fopenmp\n",
 "\n",
    "/*\n",
    "* name: doacross.2\n",
    "* type: C\n",
    "* version: omp_5.2\n",
    "*/\n",
    "\n",
    "float foo(int i, int j);\n",
    "float bar(float a, float b, float c);\n",
    "float baz(float b);\n",
    "\n",
    "void work( int N, int M, float **A, float **B, float **C )\n",
    "{\n",
    "  int i, j;\n",
    "\n",
    "  #pragma omp for ordered(2)\n",
    "  for (i=1; i<N; i++)\n",
    "  {\n",
    "    for (j=1; j<M; j++)\n",
    "    {\n",
    "      A[i][j] = foo(i, j);\n",
    "\n",
    "  #pragma omp ordered doacross(sink: i-1,j) doacross(sink: i,j-1)\n",
    "      B[i][j] = bar(A[i][j], B[i-1][j], B[i][j-1]);\n",
    "  #pragma omp ordered doacross(source:)\n",
    "\n",
    "      C[i][j] = baz(B[i][j]);\n",
    "    }\n",
    "  }\n",
    "}\n",
    "\n"
   ]
  },
  {
   "cell_type": "markdown",
   "metadata": {},
   "source": [
    ""
   ]
  },
  {
   "cell_type": "markdown",
   "metadata": {},
   "source": [
    ""
   ]
  },
  {
   "cell_type": "code",
   "execution_count": null,
   "metadata": {},
   "outputs": [],
   "source": [
    "\n",
    "! name: doacross.2\n",
    "! type: F-free\n",
    "! version:    omp_5.2\n",
    "\n",
    "subroutine work( N, M, A, B, C )\n",
    "  integer :: N, M, i, j\n",
    "  real, dimension(M,N) :: A, B, C\n",
    "  real, external :: foo, bar, baz\n",
    "\n",
    "  !$omp do ordered(2)\n",
    "  do j=2, N\n",
    "    do i=2, M\n",
    "      A(i,j) = foo(i, j)\n",
    "\n",
    "    !$omp ordered doacross(sink: j-1,i) doacross(sink: j,i-1)\n",
    "      B(i,j) = bar(A(i,j), B(i-1,j), B(i,j-1))\n",
    "    !$omp ordered doacross(source:)\n",
    "\n",
    "      C(i,j) = baz(B(i,j))\n",
    "    end do\n",
    "  end do\n",
    "end subroutine\n",
    "\n"
   ]
  },
  {
   "cell_type": "markdown",
   "metadata": {},
   "source": [
    ""
   ]
  },
  {
   "cell_type": "markdown",
   "metadata": {},
   "source": [
    ""
   ]
  },
  {
   "cell_type": "markdown",
   "metadata": {},
   "source": [
    "The following example shows the incorrect use of the `ordered`  directive with a `doacross` clause.  There are two issues with the code.   The first issue is a missing `ordered` `doacross(source:)` directive, which could cause a deadlock.   The second issue is the `doacross(sink:i+1,j)` and `doacross(sink:i,j+1)`  clauses define dependences on lexicographically later  source iterations ( _i+1, j_ ) and ( _i, j+1_ ), which could cause  a deadlock as well since they may not start to execute until the current iteration completes."
   ]
  },
  {
   "cell_type": "markdown",
   "metadata": {},
   "source": [
    ""
   ]
  },
  {
   "cell_type": "code",
   "execution_count": null,
   "metadata": {},
   "outputs": [],
   "source": [
    "//%compiler: clang\n",
 "//%cflags: -fopenmp\n",
 "\n",
    "/*\n",
    "* name: doacross.3\n",
    "* type: C\n",
    "* version: omp_5.2\n",
    "*/\n",
    "\n",
    "#define N 100\n",
    "\n",
    "void work_wrong(double p[][N][N])\n",
    "{\n",
    "  int i, j, k;\n",
    "\n",
    "  #pragma omp parallel for ordered(2) private(i,j,k)\n",
    "  for (i=1; i<N-1; i++)\n",
    "  {\n",
    "    for (j=1; j<N-1; j++)\n",
    "    {\n",
    "  #pragma omp ordered doacross(sink: i-1,j) doacross(sink: i+1,j) \\\n",
    "                      doacross(sink: i,j-1) doacross(sink: i,j+1)\n",
    "      for (k=1; k<N-1; k++)\n",
    "      {\n",
    "        double tmp1 = p[i-1][j][k] + p[i+1][j][k];\n",
    "        double tmp2 = p[i][j-1][k] + p[i][j+1][k];\n",
    "        double tmp3 = p[i][j][k-1] + p[i][j][k+1];\n",
    "        p[i][j][k] = (tmp1 + tmp2 + tmp3) / 6.0;\n",
    "      }\n",
    "/* missing #pragma omp ordered doacross(source:) */\n",
    "    }\n",
    "  }\n",
    "}\n",
    "\n"
   ]
  },
  {
   "cell_type": "markdown",
   "metadata": {},
   "source": [
    ""
   ]
  },
  {
   "cell_type": "markdown",
   "metadata": {},
   "source": [
    ""
   ]
  },
  {
   "cell_type": "code",
   "execution_count": null,
   "metadata": {},
   "outputs": [],
   "source": [
    "\n",
    "! name: doacross.3\n",
    "! type: F-free\n",
    "! version:    omp_5.2\n",
    "\n",
    "subroutine work_wrong(N, p)\n",
    "  integer :: N\n",
    "  real(8), dimension(N,N,N) :: p\n",
    "  integer :: i, j, k\n",
    "  real(8) :: tmp1, tmp2, tmp3\n",
    "\n",
    "!$omp parallel do ordered(2) private(i,j,k,tmp1,tmp2,tmp3)\n",
    "  do i=2, N-1\n",
    "    do j=2, N-1\n",
    "    !$omp ordered doacross(sink: i-1,j) doacross(sink: i+1,j) &\n",
    "    !$omp&        doacross(sink: i,j-1) doacross(sink: i,j+1)\n",
    "      do k=2, N-1\n",
    "        tmp1 = p(k-1,j,i) + p(k+1,j,i)\n",
    "        tmp2 = p(k,j-1,i) + p(k,j+1,i)\n",
    "        tmp3 = p(k,j,i-1) + p(k,j,i+1)\n",
    "        p(k,j,i) = (tmp1 + tmp2 + tmp3) / 6.0\n",
    "      end do\n",
    "! missing !$omp ordered doacross(source:)\n",
    "    end do\n",
    "  end do\n",
    "end subroutine\n",
    "\n"
   ]
  },
  {
   "cell_type": "markdown",
   "metadata": {},
   "source": [
    ""
   ]
  },
  {
   "cell_type": "markdown",
   "metadata": {},
   "source": [
    ""
   ]
  },
  {
   "cell_type": "markdown",
   "metadata": {},
   "source": [
    "The following example illustrates the use of the `collapse` clause for a  _doacross loop nest_ .  The  _i_  and  _j_  loops are the associated loops for the collapsed loop as well as for the  _doacross loop nest_ . The example also shows a compliant usage of the dependence source directive placed before the corresponding sink directive. Checking the completion of computation from previous iterations at the sink point can occur after the source statement."
   ]
  },
  {
   "cell_type": "markdown",
   "metadata": {},
   "source": [
    ""
   ]
  },
  {
   "cell_type": "code",
   "execution_count": null,
   "metadata": {},
   "outputs": [],
   "source": [
    "//%compiler: clang\n",
 "//%cflags: -fopenmp\n",
 "\n",
    "/*\n",
    "* name: doacross.4\n",
    "* type: C\n",
    "* version: omp_5.2\n",
    "*/\n",
    "\n",
    "double foo(int i, int j);\n",
    "\n",
    "void work( int N, int M, double **A, double **B, double **C )\n",
    "{\n",
    "  int i, j;\n",
    "  double alpha = 1.2;\n",
    "\n",
    "  #pragma omp for collapse(2) ordered(2)\n",
    "  for (i = 1; i < N-1; i++)\n",
    "  {\n",
    "    for (j = 1; j < M-1; j++)\n",
    "    {\n",
    "      A[i][j] = foo(i, j);\n",
    "  #pragma omp ordered doacross(source:)\n",
    "\n",
    "      B[i][j] = alpha * A[i][j];\n",
    "\n",
    "  #pragma omp ordered doacross(sink: i-1,j) doacross(sink: i,j-1)\n",
    "      C[i][j] = 0.2 * (A[i-1][j] + A[i+1][j] +\n",
    "                A[i][j-1] + A[i][j+1] + A[i][j]);\n",
    "    }\n",
    "  }\n",
    "}\n",
    "\n"
   ]
  },
  {
   "cell_type": "markdown",
   "metadata": {},
   "source": [
    ""
   ]
  },
  {
   "cell_type": "markdown",
   "metadata": {},
   "source": [
    ""
   ]
  },
  {
   "cell_type": "code",
   "execution_count": null,
   "metadata": {},
   "outputs": [],
   "source": [
    "\n",
    "! name: doacross.4\n",
    "! type: F-free\n",
    "! version:    omp_5.2\n",
    "\n",
    "subroutine work( N, M, A, B, C )\n",
    "  integer :: N, M\n",
    "  real(8), dimension(M, N) :: A, B, C\n",
    "  real(8), external :: foo\n",
    "  integer :: i, j\n",
    "  real(8) :: alpha = 1.2\n",
    "\n",
    "  !$omp do collapse(2) ordered(2)\n",
    "  do j=2, N-1\n",
    "    do i=2, M-1\n",
    "      A(i,j) = foo(i, j)\n",
    "    !$omp ordered doacross(source:)\n",
    "\n",
    "      B(i,j) = alpha * A(i,j)\n",
    "\n",
    "    !$omp ordered doacross(sink: j,i-1) doacross(sink: j-1,i)\n",
    "      C(i,j) = 0.2 * (A(i-1,j) + A(i+1,j) +  &\n",
    "               A(i,j-1) + A(i,j+1) + A(i,j))\n",
    "    end do\n",
    "  end do\n",
    "end subroutine\n",
    "\n"
   ]
  },
  {
   "cell_type": "markdown",
   "metadata": {},
   "source": [
    "../../synchronization/doacross.tex"
   ]
  },
  {
   "cell_type": "markdown",
   "metadata": {},
   "source": [
    ""
   ]
  },
  {
   "cell_type": "markdown",
   "metadata": {},
   "source": [
    "## Lock Routines"
   ]
  },
  {
   "cell_type": "markdown",
   "metadata": {},
   "source": [
    ""
   ]
  },
  {
   "cell_type": "markdown",
   "metadata": {},
   "source": [
    "This section is about the use of lock routines for synchronization. ../../synchronization/locks.tex"
   ]
  },
  {
   "cell_type": "markdown",
   "metadata": {},
   "source": [
    ""
   ]
  },
  {
   "cell_type": "markdown",
   "metadata": {},
   "source": [
    "### `omp_init_lock` Routine"
   ]
  },
  {
   "cell_type": "markdown",
   "metadata": {},
   "source": [
    ""
   ]
  },
  {
   "cell_type": "markdown",
   "metadata": {},
   "source": [
    "\index{routines!omp_init_lock@\scode{omp_init_lock}} \index{omp_init_lock routine@\scode{omp_init_lock} routine} The following example demonstrates how to initialize an array of locks in a `parallel`  region by using `omp_init_lock`."
   ]
  },
  {
   "cell_type": "markdown",
   "metadata": {},
   "source": [
    ""
   ]
  },
  {
   "cell_type": "code",
   "execution_count": null,
   "metadata": {},
   "outputs": [],
   "source": [
    "//%compiler: clang\n",
 "//%cflags: -fopenmp\n",
 "\n",
    "/*\n",
    "* name: init_lock.1\n",
    "* type: C++\n",
    "*/\n",
    "#include <omp.h>\n",
    "\n",
    "omp_lock_t *new_locks() {\n",
    "  int i;\n",
    "  omp_lock_t *lock = new omp_lock_t[1000];\n",
    "\n",
    "  #pragma omp parallel for private(i)\n",
    "    for (i=0; i<1000; i++)\n",
    "    { omp_init_lock(&lock[i]); }\n",
    "\n",
    "    return lock;\n",
    "}\n",
    "\n"
   ]
  },
  {
   "cell_type": "markdown",
   "metadata": {},
   "source": [
    ""
   ]
  },
  {
   "cell_type": "markdown",
   "metadata": {},
   "source": [
    ""
   ]
  },
  {
   "cell_type": "code",
   "execution_count": null,
   "metadata": {},
   "outputs": [],
   "source": [
    "\n",
    "! name: init_lock.1\n",
    "! type: F-fixed\n",
    "      FUNCTION NEW_LOCKS()\n",
    "        USE OMP_LIB        ! or INCLUDE \"omp_lib.h\"\n",
    "        INTEGER(OMP_LOCK_KIND), DIMENSION(1000) :: NEW_LOCKS\n",
    "        INTEGER I\n",
    "\n",
    "!$OMP   PARALLEL DO PRIVATE(I)\n",
    "          DO I=1,1000\n",
    "            CALL OMP_INIT_LOCK(NEW_LOCKS(I))\n",
    "          END DO\n",
    "!$OMP   END PARALLEL DO\n",
    "\n",
    "      END FUNCTION NEW_LOCKS\n",
    "\n"
   ]
  },
  {
   "cell_type": "markdown",
   "metadata": {},
   "source": [
    ""
   ]
  },
  {
   "cell_type": "markdown",
   "metadata": {},
   "source": [
    "../../synchronization/init_lock.tex"
   ]
  },
  {
   "cell_type": "markdown",
   "metadata": {},
   "source": [
    ""
   ]
  },
  {
   "cell_type": "markdown",
   "metadata": {},
   "source": [
    "### `omp_init_lock_with_hint` Routine"
   ]
  },
  {
   "cell_type": "markdown",
   "metadata": {},
   "source": [
    ""
   ]
  },
  {
   "cell_type": "markdown",
   "metadata": {},
   "source": [
    "\index{routines!omp_init_lock_with_hint@\scode{omp_init_lock_with_hint}} \index{omp_init_lock_with_hint routine@\scode{omp_init_lock_with_hint} routine} The following example demonstrates how to initialize an array of locks in a `parallel` region by using `omp_init_lock_with_hint`. Note, hints are combined with an `|` or `+` operator in C/C++ and a `+` operator in Fortran."
   ]
  },
  {
   "cell_type": "markdown",
   "metadata": {},
   "source": [
    ""
   ]
  },
  {
   "cell_type": "code",
   "execution_count": null,
   "metadata": {},
   "outputs": [],
   "source": [
    "//%compiler: clang\n",
 "//%cflags: -fopenmp\n",
 "\n",
    "/*\n",
    "* name: init_lock_with_hint.1\n",
    "* type: C++\n",
    "* version: omp_5.0\n",
    "*/\n",
    "#include <omp.h>\n",
    "\n",
    "omp_lock_t *new_locks()\n",
    "{\n",
    "  int i;\n",
    "  omp_lock_t *lock = new omp_lock_t[1000];\n",
    "\n",
    "  #pragma omp parallel for private(i)\n",
    "    for (i=0; i<1000; i++)\n",
    "    {\n",
    "      omp_init_lock_with_hint(&lock[i],\n",
    "        static_cast<omp_lock_hint_t>(omp_sync_hint_contended |\n",
    "                                     omp_sync_hint_speculative));\n",
    "    }\n",
    "    return lock;\n",
    "}\n",
    "\n"
   ]
  },
  {
   "cell_type": "markdown",
   "metadata": {},
   "source": [
    ""
   ]
  },
  {
   "cell_type": "markdown",
   "metadata": {},
   "source": [
    ""
   ]
  },
  {
   "cell_type": "code",
   "execution_count": null,
   "metadata": {},
   "outputs": [],
   "source": [
    "\n",
    "! name: init_lock_with_hint.1\n",
    "! type: F-fixed\n",
    "! version: omp_5.0\n",
    "      FUNCTION NEW_LOCKS()\n",
    "        USE OMP_LIB        ! or INCLUDE \"omp_lib.h\"\n",
    "        INTEGER(OMP_LOCK_KIND), DIMENSION(1000) :: NEW_LOCKS\n",
    "\n",
    "        INTEGER I\n",
    "\n",
    "!$OMP   PARALLEL DO PRIVATE(I)\n",
    "          DO I=1,1000\n",
    "            CALL OMP_INIT_LOCK_WITH_HINT(NEW_LOCKS(I),\n",
    "     &             OMP_SYNC_HINT_CONTENDED + OMP_SYNC_HINT_SPECULATIVE)\n",
    "          END DO\n",
    "!$OMP   END PARALLEL DO\n",
    "\n",
    "      END FUNCTION NEW_LOCKS\n",
    "\n"
   ]
  },
  {
   "cell_type": "markdown",
   "metadata": {},
   "source": [
    "../../synchronization/init_lock_with_hint.tex"
   ]
  },
  {
   "cell_type": "markdown",
   "metadata": {},
   "source": [
    ""
   ]
  },
  {
   "cell_type": "markdown",
   "metadata": {},
   "source": [
    "### Ownership of Locks"
   ]
  },
  {
   "cell_type": "markdown",
   "metadata": {},
   "source": [
    ""
   ]
  },
  {
   "cell_type": "markdown",
   "metadata": {},
   "source": [
    "\index{routines!omp_unset_lock@\scode{omp_unset_lock}} \index{omp_unset_lock routine@\scode{omp_unset_lock} routine} Ownership of locks has changed since OpenMP 2.5. In OpenMP 2.5, locks are owned  by threads; so a lock released by the `omp_unset_lock` routine must be  owned by the same thread executing the routine.  Beginning with OpenMP 3.0, locks are owned  by task regions; so a lock released by the `omp_unset_lock` routine in  a task region must be owned by the same task region."
   ]
  },
  {
   "cell_type": "markdown",
   "metadata": {},
   "source": [
    "This change in ownership requires extra care when using locks. The following program  is conforming in OpenMP 2.5 because the thread that releases the lock `lck`  in the parallel region is the same thread that acquired the lock in the sequential  part of the program (primary thread of parallel region and the initial thread are  the same). However, it is not conforming beginning with OpenMP 3.0, because the task  region that releases the lock `lck` is different from the task region that  acquires the lock."
   ]
  },
  {
   "cell_type": "markdown",
   "metadata": {},
   "source": [
    ""
   ]
  },
  {
   "cell_type": "code",
   "execution_count": null,
   "metadata": {},
   "outputs": [],
   "source": [
    "//%compiler: clang\n",
 "//%cflags: -fopenmp\n",
 "\n",
    "/*\n",
    "* name: lock_owner.1\n",
    "* type: C\n",
    "* version:    omp_5.1\n",
    "*/\n",
    "#include <stdlib.h>\n",
    "#include <stdio.h>\n",
    "#include <omp.h>\n",
    "\n",
    "int main()\n",
    "{\n",
    "  int x;\n",
    "  omp_lock_t lck;\n",
    "\n",
    "  omp_init_lock (&lck);\n",
    "  omp_set_lock (&lck);\n",
    "  x = 0;\n",
    "\n",
    "#pragma omp parallel shared (x)\n",
    "  {\n",
    "    #pragma omp masked\n",
    "      {\n",
    "        x = x + 1;\n",
    "        omp_unset_lock (&lck);\n",
    "      }\n",
    "\n",
    "    /* Some more stuff. */\n",
    "  }\n",
    "  omp_destroy_lock (&lck);\n",
    "  return 0;\n",
    "}\n",
    "\n"
   ]
  },
  {
   "cell_type": "markdown",
   "metadata": {},
   "source": [
    ""
   ]
  },
  {
   "cell_type": "markdown",
   "metadata": {},
   "source": [
    ""
   ]
  },
  {
   "cell_type": "code",
   "execution_count": null,
   "metadata": {},
   "outputs": [],
   "source": [
    "\n",
    "! name: lock_owner.1\n",
    "! type: F-fixed\n",
    "! version:    omp_5.1\n",
    "        program lock\n",
    "        use omp_lib\n",
    "        integer :: x\n",
    "        integer (kind=omp_lock_kind) :: lck\n",
    "\n",
    "        call omp_init_lock (lck)\n",
    "        call omp_set_lock(lck)\n",
    "        x = 0\n",
    "\n",
    "!$omp parallel shared (x)\n",
    "!$omp masked\n",
    "        x = x + 1\n",
    "        call omp_unset_lock(lck)\n",
    "!$omp end masked\n",
    "\n",
    "!       Some more stuff.\n",
    "!$omp end parallel\n",
    "\n",
    "        call omp_destroy_lock(lck)\n",
    "\n",
    "        end\n",
    "\n"
   ]
  },
  {
   "cell_type": "markdown",
   "metadata": {},
   "source": [
    ""
   ]
  },
  {
   "cell_type": "markdown",
   "metadata": {},
   "source": [
    ""
   ]
  },
  {
   "cell_type": "markdown",
   "metadata": {},
   "source": [
    "../../synchronization/lock_owner.tex"
   ]
  },
  {
   "cell_type": "markdown",
   "metadata": {},
   "source": [
    ""
   ]
  },
  {
   "cell_type": "markdown",
   "metadata": {},
   "source": [
    "### Simple Lock Routines"
   ]
  },
  {
   "cell_type": "markdown",
   "metadata": {},
   "source": [
    ""
   ]
  },
  {
   "cell_type": "markdown",
   "metadata": {},
   "source": [
    "\index{routines!omp_set_lock@\scode{omp_set_lock}} \index{omp_set_lock routine@\scode{omp_set_lock} routine} \index{routines!omp_test_lock@\scode{omp_test_lock}} \index{omp_test_lock routine@\scode{omp_test_lock} routine} In the following example, the lock routines cause the threads to be idle while  waiting for entry to the first critical section, but to do other work while waiting  for entry to the second. The `omp_set_lock` function blocks, but the \scode{omp_test_lock}  function does not, allowing the work in `skip` to be done."
   ]
  },
  {
   "cell_type": "markdown",
   "metadata": {},
   "source": [
    "Note that the argument to the lock routines should have type  \scode{omp_lock_t} (or \scode{omp_lock_kind} in Fortran),  and that there is no need to flush the lock variable ( _lck_ )."
   ]
  },
  {
   "cell_type": "markdown",
   "metadata": {},
   "source": [
    ""
   ]
  },
  {
   "cell_type": "code",
   "execution_count": null,
   "metadata": {},
   "outputs": [],
   "source": [
    "//%compiler: clang\n",
 "//%cflags: -fopenmp\n",
 "\n",
    "/*\n",
    "* name: simple_lock.1\n",
    "* type: C\n",
    "*/\n",
    "#include <stdio.h>\n",
    "#include <omp.h>\n",
    "void skip(int i) {}\n",
    "void work(int i) {}\n",
    "int main()\n",
    "{\n",
    "  omp_lock_t lck;\n",
    "  int id;\n",
    "  omp_init_lock(&lck);\n",
    "\n",
    "  #pragma omp parallel shared(lck) private(id)\n",
    "  {\n",
    "    id = omp_get_thread_num();\n",
    "\n",
    "    omp_set_lock(&lck);\n",
    "    /*  only one thread at a time can execute this printf */\n",
    "    printf(\"My thread id is %d.\\n\", id);\n",
    "    omp_unset_lock(&lck);\n",
    "\n",
    "    while (! omp_test_lock(&lck)) {\n",
    "      skip(id);   /* we do not yet have the lock,\n",
    "                     so we must do something else */\n",
    "    }\n",
    "\n",
    "    work(id);      /* we now have the lock\n",
    "                      and can do the work */\n",
    "\n",
    "    omp_unset_lock(&lck);\n",
    "  }\n",
    "  omp_destroy_lock(&lck);\n",
    "\n",
    "  return 0;\n",
    "}\n",
    "\n"
   ]
  },
  {
   "cell_type": "markdown",
   "metadata": {},
   "source": [
    ""
   ]
  },
  {
   "cell_type": "markdown",
   "metadata": {},
   "source": [
    ""
   ]
  },
  {
   "cell_type": "code",
   "execution_count": null,
   "metadata": {},
   "outputs": [],
   "source": [
    "\n",
    "! name: simple_lock.1\n",
    "! type: F-fixed\n",
    "      SUBROUTINE SKIP(ID)\n",
    "      END SUBROUTINE SKIP\n",
    "\n",
    "      SUBROUTINE WORK(ID)\n",
    "      END SUBROUTINE WORK\n",
    "\n",
    "      PROGRAM SIMPLELOCK\n",
    "\n",
    "        INCLUDE \"omp_lib.h\"     ! or USE OMP_LIB\n",
    "\n",
    "        INTEGER(OMP_LOCK_KIND) LCK\n",
    "        INTEGER ID\n",
    "\n",
    "        CALL OMP_INIT_LOCK(LCK)\n",
    "\n",
    "!$OMP   PARALLEL SHARED(LCK) PRIVATE(ID)\n",
    "          ID = OMP_GET_THREAD_NUM()\n",
    "          CALL OMP_SET_LOCK(LCK)\n",
    "          PRINT *, 'My thread id is ', ID\n",
    "          CALL OMP_UNSET_LOCK(LCK)\n",
    "\n",
    "          DO WHILE (.NOT. OMP_TEST_LOCK(LCK))\n",
    "            CALL SKIP(ID)     ! We do not yet have the lock\n",
    "                              ! so we must do something else\n",
    "          END DO\n",
    "\n",
    "          CALL WORK(ID)       ! We now have the lock\n",
    "                              ! and can do the work\n",
    "\n",
    "          CALL OMP_UNSET_LOCK( LCK )\n",
    "\n",
    "!$OMP   END PARALLEL\n",
    "\n",
    "        CALL OMP_DESTROY_LOCK( LCK )\n",
    "\n",
    "      END PROGRAM SIMPLELOCK\n",
    "\n"
   ]
  },
  {
   "cell_type": "markdown",
   "metadata": {},
   "source": [
    ""
   ]
  },
  {
   "cell_type": "markdown",
   "metadata": {},
   "source": [
    ""
   ]
  },
  {
   "cell_type": "markdown",
   "metadata": {},
   "source": [
    "../../synchronization/simple_lock.tex"
   ]
  },
  {
   "cell_type": "markdown",
   "metadata": {},
   "source": [
    ""
   ]
  },
  {
   "cell_type": "markdown",
   "metadata": {},
   "source": [
    "### Nestable Lock Routines"
   ]
  },
  {
   "cell_type": "markdown",
   "metadata": {},
   "source": [
    ""
   ]
  },
  {
   "cell_type": "markdown",
   "metadata": {},
   "source": [
    "\index{nestable lock} The following example demonstrates how a nestable lock can be used to synchronize  updates both to a whole structure and to one of its members."
   ]
  },
  {
   "cell_type": "markdown",
   "metadata": {},
   "source": [
    ""
   ]
  },
  {
   "cell_type": "code",
   "execution_count": null,
   "metadata": {},
   "outputs": [],
   "source": [
    "//%compiler: clang\n",
 "//%cflags: -fopenmp\n",
 "\n",
    "/*\n",
    "* name: nestable_lock.1\n",
    "* type: C\n",
    "*/\n",
    "\n",
    "#include <omp.h>\n",
    "\n",
    "typedef struct {\n",
    "   int a,b;\n",
    "   omp_nest_lock_t lck;\n",
    "} pair;\n",
    "\n",
    "int work1();\n",
    "int work2();\n",
    "int work3();\n",
    "\n",
    "void incr_a(pair *p, int a)\n",
    "{\n",
    "\n",
    "  /* Called only from incr_pair, no need to lock. */\n",
    "  p->a += a;\n",
    "\n",
    "}\n",
    "\n",
    "void incr_b(pair *p, int b)\n",
    "{\n",
    "\n",
    "  /* Called both from incr_pair and elsewhere, */\n",
    "  /* so need a nestable lock. */\n",
    "\n",
    "  omp_set_nest_lock(&p->lck);\n",
    "  p->b += b;\n",
    "  omp_unset_nest_lock(&p->lck);\n",
    "\n",
    "}\n",
    "\n",
    "void incr_pair(pair *p, int a, int b)\n",
    "{\n",
    "\n",
    "  omp_set_nest_lock(&p->lck);\n",
    "  incr_a(p, a);\n",
    "  incr_b(p, b);\n",
    "  omp_unset_nest_lock(&p->lck);\n",
    "\n",
    "}\n",
    "\n",
    "void nestlock(pair *p)\n",
    "{\n",
    "\n",
    "  #pragma omp parallel sections\n",
    "  {\n",
    "    #pragma omp section\n",
    "      incr_pair(p, work1(), work2());\n",
    "    #pragma omp section\n",
    "      incr_b(p, work3());\n",
    "  }\n",
    "\n",
    "}\n",
    "\n"
   ]
  },
  {
   "cell_type": "markdown",
   "metadata": {},
   "source": [
    ""
   ]
  },
  {
   "cell_type": "markdown",
   "metadata": {},
   "source": [
    ""
   ]
  },
  {
   "cell_type": "code",
   "execution_count": null,
   "metadata": {},
   "outputs": [],
   "source": [
    "\n",
    "! name: nestable_lock.1\n",
    "! type: F-fixed\n",
    "      MODULE DATA\n",
    "        USE OMP_LIB, ONLY: OMP_NEST_LOCK_KIND\n",
    "        TYPE LOCKED_PAIR\n",
    "          INTEGER A\n",
    "          INTEGER B\n",
    "          INTEGER (OMP_NEST_LOCK_KIND) LCK\n",
    "       END TYPE\n",
    "      END MODULE DATA\n",
    "\n",
    "      SUBROUTINE INCR_A(P, A)\n",
    "        ! called only from INCR_PAIR, no need to lock\n",
    "        USE DATA\n",
    "        TYPE(LOCKED_PAIR) :: P\n",
    "        INTEGER A\n",
    "        P%A = P%A + A\n",
    "      END SUBROUTINE INCR_A\n",
    "\n",
    "      SUBROUTINE INCR_B(P, B)\n",
    "        ! called from both INCR_PAIR and elsewhere,\n",
    "        ! so we need a nestable lock\n",
    "        USE OMP_LIB       ! or INCLUDE \"omp_lib.h\"\n",
    "        USE DATA\n",
    "        TYPE(LOCKED_PAIR) :: P\n",
    "        INTEGER B\n",
    "        CALL OMP_SET_NEST_LOCK(P%LCK)\n",
    "        P%B = P%B + B\n",
    "        CALL OMP_UNSET_NEST_LOCK(P%LCK)\n",
    "      END SUBROUTINE INCR_B\n",
    "\n",
    "      SUBROUTINE INCR_PAIR(P, A, B)\n",
    "        USE OMP_LIB        ! or INCLUDE \"omp_lib.h\"\n",
    "        USE DATA\n",
    "        TYPE(LOCKED_PAIR) :: P\n",
    "        INTEGER A\n",
    "        INTEGER B\n",
    "\n",
    "        CALL OMP_SET_NEST_LOCK(P%LCK)\n",
    "        CALL INCR_A(P, A)\n",
    "        CALL INCR_B(P, B)\n",
    "        CALL OMP_UNSET_NEST_LOCK(P%LCK)\n",
    "      END SUBROUTINE INCR_PAIR\n",
    "\n",
    "      SUBROUTINE NESTLOCK(P)\n",
    "        USE OMP_LIB        ! or INCLUDE \"omp_lib.h\"\n",
    "        USE DATA\n",
    "        TYPE(LOCKED_PAIR) :: P\n",
    "        INTEGER WORK1, WORK2, WORK3\n",
    "        EXTERNAL WORK1, WORK2, WORK3\n",
    "\n",
    "!$OMP   PARALLEL SECTIONS\n",
    "\n",
    "!$OMP   SECTION\n",
    "          CALL INCR_PAIR(P, WORK1(), WORK2())\n",
    "!$OMP   SECTION\n",
    "          CALL INCR_B(P, WORK3())\n",
    "!$OMP   END PARALLEL SECTIONS\n",
    "\n",
    "      END SUBROUTINE NESTLOCK\n",
    "\n"
   ]
  },
  {
   "cell_type": "markdown",
   "metadata": {},
   "source": [
    ""
   ]
  },
  {
   "cell_type": "markdown",
   "metadata": {},
   "source": [
    "../../synchronization/nestable_lock.tex"
   ]
  },
  {
   "cell_type": "markdown",
   "metadata": {},
   "source": [
    ""
   ]
  }
 ],
 "metadata": {
  "kernelspec": {
   "display_name": "Native",
   "language": "native",
   "name": "native"
  },
  "language_info": {
   "file_extension": ".c",
   "mimetype": "text/plain",
   "name": "none"
  }
 },
 "nbformat": 4,
 "nbformat_minor": 2
}