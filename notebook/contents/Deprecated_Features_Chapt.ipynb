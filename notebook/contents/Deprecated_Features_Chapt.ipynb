{
 "cells": [
  {
   "cell_type": "markdown",
   "metadata": {},
   "source": [
    "\bchapter{Deprecated Features}"
   ]
  },
  {
   "cell_type": "markdown",
   "metadata": {},
   "source": [
    "Deprecation of features began in OpenMP 5.0.  Examples that use a deprecated feature have been updated with an equivalent replacement feature."
   ]
  },
  {
   "cell_type": "markdown",
   "metadata": {},
   "source": [
    "Deprecations affecting examples are the following: [labelindent=5mm,font=\normalfont]"
   ]
  },
  {
   "cell_type": "markdown",
   "metadata": {},
   "source": [
    "* [5.1] -- \ \scode{masked} construct          replaces \scode{master} construct."
   ]
  },
  {
   "cell_type": "markdown",
   "metadata": {},
   "source": [
    "* [5.1] -- \ \scode{primary} affinity policy   replaces \scode{master} affinity policy."
   ]
  },
  {
   "cell_type": "markdown",
   "metadata": {},
   "source": [
    "* [5.0] -- \ \scode{omp_sync_hint_*} constants replace  \scode{omp_lock_hint_*} constants."
   ]
  },
  {
   "cell_type": "markdown",
   "metadata": {},
   "source": [
    "These replacements appear in examples that illustrate, otherwise, earlier features. When using a compiler that is compliant with a version prior to  the indicated version, the earlier form of an example is restored by a C-style conditional compilation using the \scode{_OPENMP} macro."
   ]
  },
  {
   "cell_type": "markdown",
   "metadata": {},
   "source": [
    "Since Fortran compilers do not preprocess codes by default, a Fortran preprocessor flag will be required to compile Fortran examples with the C-style conditional  compilation statements."
   ]
  },
  {
   "cell_type": "markdown",
   "metadata": {},
   "source": [
    ""
   ]
  }
 ],
 "metadata": {
  "kernelspec": {
   "display_name": "Native",
   "language": "native",
   "name": "native"
  },
  "language_info": {
   "file_extension": ".c",
   "mimetype": "text/plain",
   "name": "none"
  }
 },
 "nbformat": 4,
 "nbformat_minor": 2
}