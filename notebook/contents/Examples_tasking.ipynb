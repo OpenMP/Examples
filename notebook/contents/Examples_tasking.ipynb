{
 "cells": [
  {
   "cell_type": "markdown",
   "metadata": {},
   "source": [
    ""
   ]
  },
  {
   "cell_type": "markdown",
   "metadata": {},
   "source": [
    "## The `task` and `taskwait` Constructs"
   ]
  },
  {
   "cell_type": "markdown",
   "metadata": {},
   "source": [
    ""
   ]
  },
  {
   "cell_type": "markdown",
   "metadata": {},
   "source": [
    "The following example shows how to traverse a tree-like structure using explicit  tasks. Note that the `traverse` function should be called from within a  parallel region for the different specified tasks to be executed in parallel. Also  note that the tasks will be executed in no specified order because there are no  synchronization directives. Thus, assuming that the traversal will be done in post  order, as in the sequential code, is wrong."
   ]
  },
  {
   "cell_type": "markdown",
   "metadata": {},
   "source": [
    ""
   ]
  },
  {
   "cell_type": "code",
   "execution_count": null,
   "metadata": {},
   "outputs": [],
   "source": [
    "//%compiler: clang\n",
 "//%cflags: -fopenmp\n",
 "\n",
    "/*\n",
    "* name: tasking.1c\n",
    "* type: C\n",
    "* version: omp_3.0\n",
    "*/\n",
    "\n",
    "struct node {\n",
    "  struct node *left;\n",
    "  struct node *right;\n",
    "};\n",
    "\n",
    "extern void process(struct node *);\n",
    "\n",
    "void traverse( struct node *p )\n",
    "{\n",
    "  if (p->left)\n",
    "#pragma omp task   // p is firstprivate by default\n",
    "      traverse(p->left);\n",
    "  if (p->right)\n",
    "#pragma omp task    // p is firstprivate by default\n",
    "      traverse(p->right);\n",
    "  process(p);\n",
    "}\n",
    "\n"
   ]
  },
  {
   "cell_type": "markdown",
   "metadata": {},
   "source": [
    ""
   ]
  },
  {
   "cell_type": "markdown",
   "metadata": {},
   "source": [
    ""
   ]
  },
  {
   "cell_type": "code",
   "execution_count": null,
   "metadata": {},
   "outputs": [],
   "source": [
    "\n",
    "! name: tasking.1f\n",
    "! type: F-free\n",
    "! version:    omp_3.0\n",
    "\n",
    "       RECURSIVE SUBROUTINE traverse ( P )\n",
    "          TYPE Node\n",
    "             TYPE(Node), POINTER :: left, right\n",
    "          END TYPE Node\n",
    "          TYPE(Node) :: P\n",
    "\n",
    "          IF (associated(P%left)) THEN\n",
    "             !$OMP TASK     ! P is firstprivate by default\n",
    "                 CALL traverse(P%left)\n",
    "             !$OMP END TASK\n",
    "          ENDIF\n",
    "          IF (associated(P%right)) THEN\n",
    "             !$OMP TASK     ! P is firstprivate by default\n",
    "                 CALL traverse(P%right)\n",
    "             !$OMP END TASK\n",
    "          ENDIF\n",
    "          CALL process ( P )\n",
    "\n",
    "       END SUBROUTINE\n",
    "\n"
   ]
  },
  {
   "cell_type": "markdown",
   "metadata": {},
   "source": [
    ""
   ]
  },
  {
   "cell_type": "markdown",
   "metadata": {},
   "source": [
    "In the next example, we force a postorder traversal of the tree by adding a `taskwait`  directive. Now, we can safely assume that the left and right sons have been executed  before we process the current node."
   ]
  },
  {
   "cell_type": "markdown",
   "metadata": {},
   "source": [
    ""
   ]
  },
  {
   "cell_type": "code",
   "execution_count": null,
   "metadata": {},
   "outputs": [],
   "source": [
    "//%compiler: clang\n",
 "//%cflags: -fopenmp\n",
 "\n",
    "/*\n",
    "* name: tasking.2c\n",
    "* type: C\n",
    "* version: omp_3.0\n",
    "*/\n",
    "struct node {\n",
    "  struct node *left;\n",
    "  struct node *right;\n",
    "};\n",
    "extern void process(struct node *);\n",
    "void postorder_traverse( struct node *p ) {\n",
    "    if (p->left)\n",
    "       #pragma omp task    // p is firstprivate by default\n",
    "           postorder_traverse(p->left);\n",
    "    if (p->right)\n",
    "       #pragma omp task   // p is firstprivate by default\n",
    "           postorder_traverse(p->right);\n",
    "    #pragma omp taskwait\n",
    "    process(p);\n",
    "}\n",
    "\n"
   ]
  },
  {
   "cell_type": "markdown",
   "metadata": {},
   "source": [
    ""
   ]
  },
  {
   "cell_type": "markdown",
   "metadata": {},
   "source": [
    ""
   ]
  },
  {
   "cell_type": "code",
   "execution_count": null,
   "metadata": {},
   "outputs": [],
   "source": [
    "\n",
    "! name: tasking.2f\n",
    "! type: F-free\n",
    "! version:    omp_3.0\n",
    "      RECURSIVE SUBROUTINE traverse ( P )\n",
    "         TYPE Node\n",
    "             TYPE(Node), POINTER :: left, right\n",
    "         END TYPE Node\n",
    "         TYPE(Node) :: P\n",
    "         IF (associated(P%left)) THEN\n",
    "             !$OMP TASK    ! P is firstprivate by default\n",
    "                 CALL traverse(P%left)\n",
    "             !$OMP END TASK\n",
    "         ENDIF\n",
    "         IF (associated(P%right)) THEN\n",
    "             !$OMP TASK    ! P is firstprivate by default\n",
    "                 CALL traverse(P%right)\n",
    "             !$OMP END TASK\n",
    "         ENDIF\n",
    "         !$OMP TASKWAIT\n",
    "         CALL process ( P )\n",
    "      END SUBROUTINE\n",
    "\n"
   ]
  },
  {
   "cell_type": "markdown",
   "metadata": {},
   "source": [
    ""
   ]
  },
  {
   "cell_type": "markdown",
   "metadata": {},
   "source": [
    "The following example demonstrates how to use the `task` construct to process  elements of a linked list in parallel. The thread executing the `single`  region generates all of the explicit tasks, which are then executed by the threads  in the current team. The pointer  _p_  is `firstprivate` by default  on the `task` construct so it is not necessary to specify it in a `firstprivate`  clause."
   ]
  },
  {
   "cell_type": "markdown",
   "metadata": {},
   "source": [
    ""
   ]
  },
  {
   "cell_type": "code",
   "execution_count": null,
   "metadata": {},
   "outputs": [],
   "source": [
    "//%compiler: clang\n",
 "//%cflags: -fopenmp\n",
 "\n",
    "/*\n",
    "* name: tasking.3c\n",
    "* type: C\n",
    "* version: omp_3.0\n",
    "*/\n",
    "\n",
    "typedef struct node node;\n",
    "struct node {\n",
    "      int data;\n",
    "      node * next;\n",
    "};\n",
    "\n",
    "void process(node * p)\n",
    "{\n",
    "    /* do work here */\n",
    "}\n",
    "\n",
    "void increment_list_items(node * head)\n",
    "{\n",
    "    #pragma omp parallel\n",
    "    {\n",
    "        #pragma omp single\n",
    "            {\n",
    "               node * p = head;\n",
    "               while (p) {\n",
    "                    #pragma omp task\n",
    "                     // p is firstprivate by default\n",
    "                           process(p);\n",
    "                     p = p->next;\n",
    "                  }\n",
    "            }\n",
    "     }\n",
    "}\n",
    "\n"
   ]
  },
  {
   "cell_type": "markdown",
   "metadata": {},
   "source": [
    ""
   ]
  },
  {
   "cell_type": "markdown",
   "metadata": {},
   "source": [
    ""
   ]
  },
  {
   "cell_type": "code",
   "execution_count": null,
   "metadata": {},
   "outputs": [],
   "source": [
    "\n",
    "! name: tasking.3f\n",
    "! type: F-free\n",
    "! version:    omp_3.0\n",
    "\n",
    "      MODULE LIST\n",
    "          TYPE NODE\n",
    "             INTEGER :: PAYLOAD\n",
    "             TYPE (NODE), POINTER :: NEXT\n",
    "          END TYPE NODE\n",
    "      CONTAINS\n",
    "\n",
    "          SUBROUTINE PROCESS(p)\n",
    "             TYPE (NODE), POINTER :: P\n",
    "                 ! do work here\n",
    "          END SUBROUTINE\n",
    "\n",
    "          SUBROUTINE INCREMENT_LIST_ITEMS (HEAD)\n",
    "\n",
    "             TYPE (NODE), POINTER :: HEAD\n",
    "             TYPE (NODE), POINTER :: P\n",
    "             !$OMP PARALLEL PRIVATE(P)\n",
    "                 !$OMP SINGLE\n",
    "                     P => HEAD\n",
    "                     DO\n",
    "                        !$OMP TASK\n",
    "                            ! P is firstprivate by default\n",
    "                            CALL PROCESS(P)\n",
    "                        !$OMP END TASK\n",
    "                        P => P%NEXT\n",
    "                        IF ( .NOT. ASSOCIATED (P) ) EXIT\n",
    "                     END DO\n",
    "                 !$OMP END SINGLE\n",
    "             !$OMP END PARALLEL\n",
    "\n",
    "          END SUBROUTINE\n",
    "\n",
    "      END MODULE\n",
    "\n"
   ]
  },
  {
   "cell_type": "markdown",
   "metadata": {},
   "source": [
    ""
   ]
  },
  {
   "cell_type": "markdown",
   "metadata": {},
   "source": [
    "The `fib()` function should be called from within a `parallel`  region  for the different specified tasks to be executed in parallel. Also, only one thread  of the `parallel` region should call `fib()` unless multiple concurrent  Fibonacci computations are desired."
   ]
  },
  {
   "cell_type": "markdown",
   "metadata": {},
   "source": [
    ""
   ]
  },
  {
   "cell_type": "code",
   "execution_count": null,
   "metadata": {},
   "outputs": [],
   "source": [
    "//%compiler: clang\n",
 "//%cflags: -fopenmp\n",
 "\n",
    "/*\n",
    "* name: tasking.4c\n",
    "* type: C\n",
    "* version: omp_3.0\n",
    "*/\n",
    "     int fib(int n) {\n",
    "        int i, j;\n",
    "        if (n<2)\n",
    "          return n;\n",
    "        else {\n",
    "           #pragma omp task shared(i)\n",
    "              i=fib(n-1);\n",
    "           #pragma omp task shared(j)\n",
    "              j=fib(n-2);\n",
    "           #pragma omp taskwait\n",
    "              return i+j;\n",
    "        }\n",
    "     }\n",
    "\n"
   ]
  },
  {
   "cell_type": "markdown",
   "metadata": {},
   "source": [
    ""
   ]
  },
  {
   "cell_type": "markdown",
   "metadata": {},
   "source": [
    ""
   ]
  },
  {
   "cell_type": "code",
   "execution_count": null,
   "metadata": {},
   "outputs": [],
   "source": [
    "\n",
    "! name: tasking.4f\n",
    "! type: F-fixed\n",
    "! version: omp_3.0\n",
    "      RECURSIVE INTEGER FUNCTION fib(n) RESULT(res)\n",
    "      INTEGER n, i, j\n",
    "      IF ( n .LT. 2) THEN\n",
    "        res = n\n",
    "      ELSE\n",
    "!$OMP TASK SHARED(i)\n",
    "        i = fib( n-1 )\n",
    "!$OMP END TASK\n",
    "!$OMP TASK SHARED(j)\n",
    "        j = fib( n-2 )\n",
    "!$OMP END TASK\n",
    "!$OMP TASKWAIT\n",
    "        res = i+j\n",
    "      END IF\n",
    "      END FUNCTION\n",
    "\n"
   ]
  },
  {
   "cell_type": "markdown",
   "metadata": {},
   "source": [
    ""
   ]
  },
  {
   "cell_type": "markdown",
   "metadata": {},
   "source": [
    "Note: There are more efficient algorithms for computing Fibonacci numbers. This  classic recursion algorithm is for illustrative purposes."
   ]
  },
  {
   "cell_type": "markdown",
   "metadata": {},
   "source": [
    "The following example demonstrates a way to generate a large number of tasks with  one thread and execute them with the threads in the team. While generating these  tasks, the implementation may reach its limit on unassigned tasks.  If it does,  the implementation is allowed to cause the thread executing the task generating  loop to suspend its task at the task scheduling point in the `task` directive,  and start executing unassigned tasks.  Once the number of unassigned tasks is sufficiently  low, the thread may resume execution of the task generating loop."
   ]
  },
  {
   "cell_type": "markdown",
   "metadata": {},
   "source": [
    ""
   ]
  },
  {
   "cell_type": "code",
   "execution_count": null,
   "metadata": {},
   "outputs": [],
   "source": [
    "//%compiler: clang\n",
 "//%cflags: -fopenmp\n",
 "\n",
    "/*\n",
    "* name: tasking.5c\n",
    "* type: C\n",
    "* version: omp_3.0\n",
    "*/\n",
    "#define LARGE_NUMBER 10000000\n",
    "double item[LARGE_NUMBER];\n",
    "extern void process(double);\n",
    "\n",
    "int main()\n",
    "{\n",
    "#pragma omp parallel\n",
    "  {\n",
    "    #pragma omp single\n",
    "    {\n",
    "      int i;\n",
    "      for (i=0; i<LARGE_NUMBER; i++)\n",
    "             #pragma omp task    // i is firstprivate, item is shared\n",
    "                  process(item[i]);\n",
    "    }\n",
    "  }\n",
    "}\n",
    "\n"
   ]
  },
  {
   "cell_type": "markdown",
   "metadata": {},
   "source": [
    ""
   ]
  },
  {
   "cell_type": "markdown",
   "metadata": {},
   "source": [
    ""
   ]
  },
  {
   "cell_type": "code",
   "execution_count": null,
   "metadata": {},
   "outputs": [],
   "source": [
    "\n",
    "! name: tasking.5f\n",
    "! type: F-fixed\n",
    "! version: omp_3.0\n",
    "       real*8 item(10000000)\n",
    "       integer i\n",
    "\n",
    "!$omp parallel\n",
    "!$omp single ! loop iteration variable i is private\n",
    "       do i=1,10000000\n",
    "!$omp task\n",
    "         ! i is firstprivate, item is shared\n",
    "          call process(item(i))\n",
    "!$omp end task\n",
    "       end do\n",
    "!$omp end single\n",
    "!$omp end parallel\n",
    "\n",
    "       end\n",
    "\n"
   ]
  },
  {
   "cell_type": "markdown",
   "metadata": {},
   "source": [
    ""
   ]
  },
  {
   "cell_type": "markdown",
   "metadata": {},
   "source": [
    "The following example is the same as the previous one, except that the tasks are  generated in an untied task. While generating the tasks, the implementation may  reach its limit on unassigned tasks. If it does, the implementation is allowed  to cause the thread executing the task generating loop to suspend its task at the  task scheduling point in the `task` directive, and start executing unassigned  tasks.  If that thread begins execution of a task that takes a long time to complete,  the other threads may complete all the other tasks before it is finished."
   ]
  },
  {
   "cell_type": "markdown",
   "metadata": {},
   "source": [
    "In this case, since the loop is in an untied task, any other thread is eligible  to resume the task generating loop. In the previous examples, the other threads  would be forced to idle until the generating thread finishes its long task, since  the task generating loop was in a tied task."
   ]
  },
  {
   "cell_type": "markdown",
   "metadata": {},
   "source": [
    ""
   ]
  },
  {
   "cell_type": "code",
   "execution_count": null,
   "metadata": {},
   "outputs": [],
   "source": [
    "//%compiler: clang\n",
 "//%cflags: -fopenmp\n",
 "\n",
    "/*\n",
    "* name: tasking.6c\n",
    "* type: C\n",
    "* version: omp_3.0\n",
    "*/\n",
    "#define LARGE_NUMBER 10000000\n",
    "double item[LARGE_NUMBER];\n",
    "extern void process(double);\n",
    "int main() {\n",
    "#pragma omp parallel\n",
    "  {\n",
    "    #pragma omp single\n",
    "    {\n",
    "      int i;\n",
    "      #pragma omp task untied\n",
    "      // i is firstprivate, item is shared\n",
    "      {\n",
    "         for (i=0; i<LARGE_NUMBER; i++)\n",
    "             #pragma omp task\n",
    "                  process(item[i]);\n",
    "      }\n",
    "    }\n",
    "  }\n",
    "  return 0;\n",
    "}\n",
    "\n"
   ]
  },
  {
   "cell_type": "markdown",
   "metadata": {},
   "source": [
    ""
   ]
  },
  {
   "cell_type": "markdown",
   "metadata": {},
   "source": [
    ""
   ]
  },
  {
   "cell_type": "code",
   "execution_count": null,
   "metadata": {},
   "outputs": [],
   "source": [
    "\n",
    "! name: tasking.6f\n",
    "! type: F-fixed\n",
    "! version: omp_3.0\n",
    "       real*8 item(10000000)\n",
    "!$omp parallel\n",
    "!$omp single\n",
    "!$omp task untied\n",
    "       ! loop iteration variable i is private\n",
    "       do i=1,10000000\n",
    "!$omp task ! i is firstprivate, item is shared\n",
    "          call process(item(i))\n",
    "!$omp end task\n",
    "       end do\n",
    "!$omp end task\n",
    "!$omp end single\n",
    "!$omp end parallel\n",
    "       end\n",
    "\n"
   ]
  },
  {
   "cell_type": "markdown",
   "metadata": {},
   "source": [
    ""
   ]
  },
  {
   "cell_type": "markdown",
   "metadata": {},
   "source": [
    "The following two examples demonstrate how the scheduling rules illustrated in  Section 2.11.3 of the OpenMP 4.0 specification affect the usage of  `threadprivate` variables in tasks. A `threadprivate`  variable can be modified by another task that is executed by the same thread. Thus,  the value of a `threadprivate` variable cannot be assumed to be unchanged  across a task scheduling point. In untied tasks, task scheduling points may be  added in any place by the implementation."
   ]
  },
  {
   "cell_type": "markdown",
   "metadata": {},
   "source": [
    "A task switch may occur at a task scheduling point. A single thread may execute  both of the task regions that modify `tp`. The parts of these task regions  in which `tp` is modified may be executed in any order so the resulting  value of `var` can be either 1 or 2."
   ]
  },
  {
   "cell_type": "markdown",
   "metadata": {},
   "source": [
    ""
   ]
  },
  {
   "cell_type": "code",
   "execution_count": null,
   "metadata": {},
   "outputs": [],
   "source": [
    "//%compiler: clang\n",
 "//%cflags: -fopenmp\n",
 "\n",
    "/*\n",
    "* name: tasking.7c\n",
    "* type: C\n",
    "* version: omp_3.0\n",
    "*/\n",
    "\n",
    "int tp;\n",
    "#pragma omp threadprivate(tp)\n",
    "int var;\n",
    "void work()\n",
    "{\n",
    "#pragma omp task\n",
    "    {\n",
    "        /* do work here */\n",
    "#pragma omp task\n",
    "        {\n",
    "            tp = 1;\n",
    "            /* do work here */\n",
    "#pragma omp task\n",
    "            {\n",
    "                /* no modification of tp */\n",
    "            }\n",
    "            var = tp; //value of tp can be 1 or 2\n",
    "        }\n",
    "        tp = 2;\n",
    "    }\n",
    "}\n",
    "\n"
   ]
  },
  {
   "cell_type": "markdown",
   "metadata": {},
   "source": [
    ""
   ]
  },
  {
   "cell_type": "markdown",
   "metadata": {},
   "source": [
    ""
   ]
  },
  {
   "cell_type": "markdown",
   "metadata": {},
   "source": [
    ""
   ]
  },
  {
   "cell_type": "code",
   "execution_count": null,
   "metadata": {},
   "outputs": [],
   "source": [
    "\n",
    "! name: tasking.7f\n",
    "! type: F-fixed\n",
    "! version: omp_3.0\n",
    "      module example\n",
    "      integer tp\n",
    "!$omp threadprivate(tp)\n",
    "      integer var\n",
    "      contains\n",
    "      subroutine work\n",
    "!$omp task\n",
    "         ! do work here\n",
    "!$omp task\n",
    "         tp = 1\n",
    "         ! do work here\n",
    "!$omp task\n",
    "           ! no modification of tp\n",
    "!$omp end task\n",
    "         var = tp    ! value of var can be 1 or 2\n",
    "!$omp end task\n",
    "        tp = 2\n",
    "!$omp end task\n",
    "      end subroutine\n",
    "      end module\n",
    "\n"
   ]
  },
  {
   "cell_type": "markdown",
   "metadata": {},
   "source": [
    ""
   ]
  },
  {
   "cell_type": "markdown",
   "metadata": {},
   "source": [
    "In this example, scheduling constraints prohibit a thread in the team from executing  a new task that modifies `tp`  while another such task region tied to the  same thread is suspended. Therefore, the value written will persist across the  task scheduling point."
   ]
  },
  {
   "cell_type": "markdown",
   "metadata": {},
   "source": [
    ""
   ]
  },
  {
   "cell_type": "code",
   "execution_count": null,
   "metadata": {},
   "outputs": [],
   "source": [
    "//%compiler: clang\n",
 "//%cflags: -fopenmp\n",
 "\n",
    "/*\n",
    "* name: tasking.8c\n",
    "* type: C\n",
    "* version: omp_3.0\n",
    "*/\n",
    "\n",
    "int tp;\n",
    "#pragma omp threadprivate(tp)\n",
    "int var;\n",
    "void work()\n",
    "{\n",
    "#pragma omp parallel\n",
    "    {\n",
    "        /* do work here */\n",
    "#pragma omp task\n",
    "        {\n",
    "            tp++;\n",
    "            /* do work here */\n",
    "#pragma omp task\n",
    "            {\n",
    "                /* do work here but don't modify tp */\n",
    "            }\n",
    "            var = tp; //Value does not change after write above\n",
    "        }\n",
    "    }\n",
    "}\n",
    "\n"
   ]
  },
  {
   "cell_type": "markdown",
   "metadata": {},
   "source": [
    ""
   ]
  },
  {
   "cell_type": "markdown",
   "metadata": {},
   "source": [
    ""
   ]
  },
  {
   "cell_type": "markdown",
   "metadata": {},
   "source": [
    ""
   ]
  },
  {
   "cell_type": "code",
   "execution_count": null,
   "metadata": {},
   "outputs": [],
   "source": [
    "\n",
    "! name: tasking.8f\n",
    "! type: F-fixed\n",
    "! version: omp_3.0\n",
    "      module example\n",
    "      integer tp\n",
    "!$omp threadprivate(tp)\n",
    "      integer var\n",
    "      contains\n",
    "      subroutine work\n",
    "!$omp parallel\n",
    "         ! do work here\n",
    "!$omp task\n",
    "         tp = tp + 1\n",
    "         ! do work here\n",
    "!$omp task\n",
    "           ! do work here but don't modify tp\n",
    "!$omp end task\n",
    "         var = tp    ! value does not change after write above\n",
    "!$omp end task\n",
    "!$omp end parallel\n",
    "      end subroutine\n",
    "      end module\n",
    "\n"
   ]
  },
  {
   "cell_type": "markdown",
   "metadata": {},
   "source": [
    ""
   ]
  },
  {
   "cell_type": "markdown",
   "metadata": {},
   "source": [
    "The following two examples demonstrate how the scheduling rules illustrated in  Section 2.11.3 of the OpenMP 4.0 specification affect the usage of locks  and critical sections in tasks.  If a lock is held  across a task scheduling point, no attempt should be made to acquire the same lock  in any code that may be interleaved.  Otherwise, a deadlock is possible."
   ]
  },
  {
   "cell_type": "markdown",
   "metadata": {},
   "source": [
    "In the example below, suppose the thread executing task 1 defers task 2.  When  it encounters the task scheduling point at task 3, it could suspend task 1 and  begin task 2 which will result in a deadlock when it tries to enter critical region  1."
   ]
  },
  {
   "cell_type": "markdown",
   "metadata": {},
   "source": [
    ""
   ]
  },
  {
   "cell_type": "code",
   "execution_count": null,
   "metadata": {},
   "outputs": [],
   "source": [
    "//%compiler: clang\n",
 "//%cflags: -fopenmp\n",
 "\n",
    "/*\n",
    "* name: tasking.9c\n",
    "* type: C\n",
    "* version: omp_3.0\n",
    "*/\n",
    "void work()\n",
    "{\n",
    "   #pragma omp task\n",
    "   { //Task 1\n",
    "       #pragma omp task\n",
    "       { //Task 2\n",
    "            #pragma omp critical //Critical region 1\n",
    "            {/*do work here */ }\n",
    "       }\n",
    "       #pragma omp critical //Critical Region 2\n",
    "       {\n",
    "           //Capture data for the following task\n",
    "           #pragma omp task\n",
    "           { /* do work here */ } //Task 3\n",
    "       }\n",
    "   }\n",
    "}\n",
    "\n"
   ]
  },
  {
   "cell_type": "markdown",
   "metadata": {},
   "source": [
    ""
   ]
  },
  {
   "cell_type": "markdown",
   "metadata": {},
   "source": [
    ""
   ]
  },
  {
   "cell_type": "markdown",
   "metadata": {},
   "source": [
    ""
   ]
  },
  {
   "cell_type": "code",
   "execution_count": null,
   "metadata": {},
   "outputs": [],
   "source": [
    "\n",
    "! name: tasking.9f\n",
    "! type: F-fixed\n",
    "! version: omp_3.0\n",
    "       module example\n",
    "       contains\n",
    "       subroutine work\n",
    "!$omp task\n",
    "       ! Task 1\n",
    "!$omp task\n",
    "       ! Task 2\n",
    "!$omp critical\n",
    "       ! Critical region 1\n",
    "       ! do work here\n",
    "!$omp end critical\n",
    "!$omp end task\n",
    "!$omp critical\n",
    "       ! Critical region 2\n",
    "       ! Capture data for the following task\n",
    "!$omp task\n",
    "       !Task 3\n",
    "       ! do work here\n",
    "!$omp end task\n",
    "!$omp end critical\n",
    "!$omp end task\n",
    "      end subroutine\n",
    "      end module\n",
    "\n"
   ]
  },
  {
   "cell_type": "markdown",
   "metadata": {},
   "source": [
    ""
   ]
  },
  {
   "cell_type": "markdown",
   "metadata": {},
   "source": [
    "In the following example, `lock` is held across a task scheduling point.   However, according to the scheduling restrictions, the executing thread can't  begin executing one of the non-descendant tasks that also acquires `lock` before  the task region is complete.  Therefore, no deadlock is possible."
   ]
  },
  {
   "cell_type": "markdown",
   "metadata": {},
   "source": [
    ""
   ]
  },
  {
   "cell_type": "code",
   "execution_count": null,
   "metadata": {},
   "outputs": [],
   "source": [
    "//%compiler: clang\n",
 "//%cflags: -fopenmp\n",
 "\n",
    "/*\n",
    "* name: tasking.10c\n",
    "* type: C\n",
    "* version: omp_3.0\n",
    "*/\n",
    "#include <omp.h>\n",
    "void work() {\n",
    "    omp_lock_t lock;\n",
    "    omp_init_lock(&lock);\n",
    "#pragma omp parallel\n",
    "    {\n",
    "        int i;\n",
    "#pragma omp for\n",
    "        for (i = 0; i < 100; i++) {\n",
    "#pragma omp task\n",
    "            {\n",
    " // lock is shared by default in the task\n",
    " omp_set_lock(&lock);\n",
    "                // Capture data for the following task\n",
    "#pragma omp task\n",
    " // Task Scheduling Point 1\n",
    "                { /* do work here */ }\n",
    "                omp_unset_lock(&lock);\n",
    "            }\n",
    "        }\n",
    "    }\n",
    "    omp_destroy_lock(&lock);\n",
    "}\n",
    "\n"
   ]
  },
  {
   "cell_type": "markdown",
   "metadata": {},
   "source": [
    ""
   ]
  },
  {
   "cell_type": "markdown",
   "metadata": {},
   "source": [
    ""
   ]
  },
  {
   "cell_type": "code",
   "execution_count": null,
   "metadata": {},
   "outputs": [],
   "source": [
    "\n",
    "! name: tasking.10f\n",
    "! type: F-free\n",
    "! version:    omp_3.0\n",
    "      module example\n",
    "      include 'omp_lib.h'\n",
    "      integer (kind=omp_lock_kind) lock\n",
    "      integer i\n",
    "\n",
    "      contains\n",
    "\n",
    "      subroutine work\n",
    "      call omp_init_lock(lock)\n",
    "!$omp parallel\n",
    "     !$omp do\n",
    "      do i=1,100\n",
    "         !$omp task\n",
    "              ! Outer task\n",
    "              call omp_set_lock(lock)    ! lock is shared by\n",
    "                                         ! default in the task\n",
    "                     ! Capture data for the following task\n",
    "                     !$omp task     ! Task Scheduling Point 1\n",
    "                              ! do work here\n",
    "                     !$omp end task\n",
    "               call omp_unset_lock(lock)\n",
    "         !$omp end task\n",
    "      end do\n",
    "!$omp end parallel\n",
    "      call omp_destroy_lock(lock)\n",
    "      end subroutine\n",
    "\n",
    "      end module\n",
    "\n"
   ]
  },
  {
   "cell_type": "markdown",
   "metadata": {},
   "source": [
    ""
   ]
  },
  {
   "cell_type": "markdown",
   "metadata": {},
   "source": [
    "The following examples illustrate the use of the `mergeable` clause in the  `task` construct. In this first example, the `task` construct has  been annotated with the `mergeable`  clause. The addition of this clause  allows the implementation to reuse the data environment (including the ICVs) of  the parent task for the task inside `foo` if the task is included or undeferred.  Thus, the result of the execution may differ depending on whether the task is merged  or not. Therefore the mergeable clause needs to be used with caution. In this example,  the use of the mergeable clause is safe. As `x` is a shared variable the  outcome does not depend on whether or not the task is merged (that is, the task  will always increment the same variable and will always compute the same value  for `x`)."
   ]
  },
  {
   "cell_type": "markdown",
   "metadata": {},
   "source": [
    ""
   ]
  },
  {
   "cell_type": "code",
   "execution_count": null,
   "metadata": {},
   "outputs": [],
   "source": [
    "//%compiler: clang\n",
 "//%cflags: -fopenmp\n",
 "\n",
    "/*\n",
    "* name: tasking.11c\n",
    "* type: C\n",
    "* version: omp_3.1\n",
    "*/\n",
    "#include <stdio.h>\n",
    "void foo ( )\n",
    "{\n",
    "   int x = 2;\n",
    "   #pragma omp task shared(x) mergeable\n",
    "   {\n",
    "      x++;\n",
    "   }\n",
    "   #pragma omp taskwait\n",
    "   printf(\"%d\\n\",x);  // prints 3\n",
    "}\n",
    "\n"
   ]
  },
  {
   "cell_type": "markdown",
   "metadata": {},
   "source": [
    ""
   ]
  },
  {
   "cell_type": "markdown",
   "metadata": {},
   "source": [
    ""
   ]
  },
  {
   "cell_type": "code",
   "execution_count": null,
   "metadata": {},
   "outputs": [],
   "source": [
    "\n",
    "! name: tasking.11f\n",
    "! type: F-free\n",
    "! version:    omp_3.1\n",
    "subroutine foo()\n",
    "  integer :: x\n",
    "  x = 2\n",
    "!$omp task shared(x) mergeable\n",
    "  x = x + 1\n",
    "!$omp end task\n",
    "!$omp taskwait\n",
    "  print *, x     ! prints 3\n",
    "end subroutine\n",
    "\n"
   ]
  },
  {
   "cell_type": "markdown",
   "metadata": {},
   "source": [
    ""
   ]
  },
  {
   "cell_type": "markdown",
   "metadata": {},
   "source": [
    "This second example shows an incorrect use of the `mergeable` clause. In  this example, the created task will access different instances of the variable  `x` if the task is not merged, as `x` is `firstprivate`, but  it will access the same variable `x` if the task is merged. As a result,  the behavior of the program is unspecified and it can print two different values  for `x` depending on the decisions taken by the implementation."
   ]
  },
  {
   "cell_type": "markdown",
   "metadata": {},
   "source": [
    ""
   ]
  },
  {
   "cell_type": "code",
   "execution_count": null,
   "metadata": {},
   "outputs": [],
   "source": [
    "//%compiler: clang\n",
 "//%cflags: -fopenmp\n",
 "\n",
    "/*\n",
    "* name: tasking.12c\n",
    "* type: C\n",
    "* version: omp_3.1\n",
    "*/\n",
    "#include <stdio.h>\n",
    "void foo ( )\n",
    "{\n",
    "   int x = 2;\n",
    "   #pragma omp task mergeable\n",
    "   {\n",
    "      x++;\n",
    "   }\n",
    "   #pragma omp taskwait\n",
    "   printf(\"%d\\n\",x);  // prints 2 or 3\n",
    "}\n",
    "\n"
   ]
  },
  {
   "cell_type": "markdown",
   "metadata": {},
   "source": [
    ""
   ]
  },
  {
   "cell_type": "markdown",
   "metadata": {},
   "source": [
    ""
   ]
  },
  {
   "cell_type": "code",
   "execution_count": null,
   "metadata": {},
   "outputs": [],
   "source": [
    "\n",
    "! name: tasking.12f\n",
    "! type: F-free\n",
    "! version:    omp_3.1\n",
    "subroutine foo()\n",
    "  integer :: x\n",
    "  x = 2\n",
    "!$omp task mergeable\n",
    "  x = x + 1\n",
    "!$omp end task\n",
    "!$omp taskwait\n",
    "  print *, x   ! prints 2 or 3\n",
    "end subroutine\n",
    "\n"
   ]
  },
  {
   "cell_type": "markdown",
   "metadata": {},
   "source": [
    ""
   ]
  },
  {
   "cell_type": "markdown",
   "metadata": {},
   "source": [
    "The following example shows the use of the `final` clause and the `omp_in_final`  API call in a recursive binary search program. To reduce overhead, once a certain  depth of recursion is reached the program uses the `final` clause to create  only included tasks, which allow additional optimizations."
   ]
  },
  {
   "cell_type": "markdown",
   "metadata": {},
   "source": [
    "The use of the `omp_in_final` API call allows programmers to optimize  their code by specifying which parts of the program are not necessary when a task  can create only included tasks (that is, the code is inside a `final` task).  In this example, the use of a different state variable is not necessary so once  the program reaches the part of the computation that is finalized and copying from  the parent state to the new state is eliminated. The allocation of `new_state`  in the stack could also be avoided but it would make this example less clear. The  `final` clause is most effective when used in conjunction with the `mergeable`  clause since all tasks created in a `final` task region are included tasks  that can be merged if the `mergeable` clause is present."
   ]
  },
  {
   "cell_type": "markdown",
   "metadata": {},
   "source": [
    ""
   ]
  },
  {
   "cell_type": "code",
   "execution_count": null,
   "metadata": {},
   "outputs": [],
   "source": [
    "//%compiler: clang\n",
 "//%cflags: -fopenmp\n",
 "\n",
    "/*\n",
    "* name: tasking.13c\n",
    "* type: C\n",
    "* version: omp_3.1\n",
    "*/\n",
    "#include <string.h>\n",
    "#include <omp.h>\n",
    "#define LIMIT  3 /* arbitrary limit on recursion depth */\n",
    "void check_solution(char *);\n",
    "void bin_search (int pos, int n, char *state)\n",
    "{\n",
    "   if ( pos == n ) {\n",
    "      check_solution(state);\n",
    "      return;\n",
    "   }\n",
    "   #pragma omp task final( pos > LIMIT ) mergeable\n",
    "   {\n",
    "      char new_state[n];\n",
    "      if (!omp_in_final() ) {\n",
    "        memcpy(new_state, state, pos );\n",
    "        state = new_state;\n",
    "      }\n",
    "      state[pos] = 0;\n",
    "      bin_search(pos+1, n, state );\n",
    "   }\n",
    "   #pragma omp task final( pos > LIMIT ) mergeable\n",
    "   {\n",
    "      char new_state[n];\n",
    "      if (! omp_in_final() ) {\n",
    "        memcpy(new_state, state, pos );\n",
    "        state = new_state;\n",
    "      }\n",
    "      state[pos] = 1;\n",
    "      bin_search(pos+1, n, state );\n",
    "   }\n",
    "   #pragma omp taskwait\n",
    "}\n",
    "\n"
   ]
  },
  {
   "cell_type": "markdown",
   "metadata": {},
   "source": [
    ""
   ]
  },
  {
   "cell_type": "markdown",
   "metadata": {},
   "source": [
    ""
   ]
  },
  {
   "cell_type": "code",
   "execution_count": null,
   "metadata": {},
   "outputs": [],
   "source": [
    "\n",
    "! name: tasking.13f\n",
    "! type: F-free\n",
    "! version:    omp_3.1\n",
    "recursive subroutine bin_search(pos, n, state)\n",
    "  use omp_lib\n",
    "  integer :: pos, n\n",
    "  character, pointer :: state(:)\n",
    "  character, target, dimension(n) :: new_state1, new_state2\n",
    "  integer, parameter :: LIMIT = 3\n",
    "  if (pos .eq. n) then\n",
    "    call check_solution(state)\n",
    "    return\n",
    "  endif\n",
    "!$omp task final(pos > LIMIT) mergeable\n",
    "  if (.not. omp_in_final()) then\n",
    "    new_state1(1:pos) = state(1:pos)\n",
    "    state => new_state1\n",
    "  endif\n",
    "  state(pos+1) = 'z'\n",
    "  call bin_search(pos+1, n, state)\n",
    "!$omp end task\n",
    "!$omp task final(pos > LIMIT) mergeable\n",
    "  if (.not. omp_in_final()) then\n",
    "    new_state2(1:pos) = state(1:pos)\n",
    "    state => new_state2\n",
    "  endif\n",
    "  state(pos+1) = 'y'\n",
    "  call bin_search(pos+1, n, state)\n",
    "!$omp end task\n",
    "!$omp taskwait\n",
    "end subroutine\n",
    "\n"
   ]
  },
  {
   "cell_type": "markdown",
   "metadata": {},
   "source": [
    ""
   ]
  },
  {
   "cell_type": "markdown",
   "metadata": {},
   "source": [
    "The following example illustrates the difference between the `if`  and the  `final` clauses. The `if` clause has a local effect. In the first  nest of tasks, the one that has the `if`  clause will be undeferred but  the task nested inside that task will not be affected by the `if` clause  and will be created as usual. Alternatively, the `final` clause affects  all `task` constructs in the `final` task region but not the `final`  task itself. In the second nest of tasks, the nested tasks will be created as included  tasks. Note also that the conditions for the `if` and `final` clauses  are usually the opposite."
   ]
  },
  {
   "cell_type": "markdown",
   "metadata": {},
   "source": [
    ""
   ]
  },
  {
   "cell_type": "code",
   "execution_count": null,
   "metadata": {},
   "outputs": [],
   "source": [
    "//%compiler: clang\n",
 "//%cflags: -fopenmp\n",
 "\n",
    "/*\n",
    "* name: tasking.14c\n",
    "* type: C\n",
    "* version: omp_3.1\n",
    "*/\n",
    "void bar(void);\n",
    "\n",
    "void foo ( )\n",
    "{\n",
    "   int i;\n",
    "   #pragma omp task if(0)  // This task is undeferred\n",
    "   {\n",
    "      #pragma omp task     // This task is a regular task\n",
    "      for (i = 0; i < 3; i++) {\n",
    "          #pragma omp task     // This task is a regular task\n",
    "          bar();\n",
    "      }\n",
    "   }\n",
    "   #pragma omp task final(1) // This task is a regular task\n",
    "   {\n",
    "      #pragma omp task  // This task is included\n",
    "      for (i = 0; i < 3; i++) {\n",
    "          #pragma omp task     // This task is also included\n",
    "          bar();\n",
    "      }\n",
    "   }\n",
    "}\n",
    "\n"
   ]
  },
  {
   "cell_type": "markdown",
   "metadata": {},
   "source": [
    ""
   ]
  },
  {
   "cell_type": "markdown",
   "metadata": {},
   "source": [
    ""
   ]
  },
  {
   "cell_type": "code",
   "execution_count": null,
   "metadata": {},
   "outputs": [],
   "source": [
    "\n",
    "! name: tasking.14f\n",
    "! type: F-free\n",
    "! version:    omp_3.1\n",
    "subroutine foo()\n",
    "integer i\n",
    "!$omp task if(.FALSE.) ! This task is undeferred\n",
    "!$omp task             ! This task is a regular task\n",
    "  do i = 1, 3\n",
    "    !$omp task             ! This task is a regular task\n",
    "      call bar()\n",
    "    !$omp end task\n",
    "  enddo\n",
    "!$omp end task\n",
    "!$omp end task\n",
    "!$omp task final(.TRUE.) ! This task is a regular task\n",
    "!$omp task               ! This task is included\n",
    "  do i = 1, 3\n",
    "    !$omp task               ! This task is also included\n",
    "     call bar()\n",
    "    !$omp end task\n",
    "  enddo\n",
    "!$omp end task\n",
    "!$omp end task\n",
    "end subroutine\n",
    "\n"
   ]
  },
  {
   "cell_type": "markdown",
   "metadata": {},
   "source": [
    ""
   ]
  },
  {
   "cell_type": "markdown",
   "metadata": {},
   "source": [
    ""
   ]
  }
 ],
 "metadata": {
  "kernelspec": {
   "display_name": "Native",
   "language": "native",
   "name": "native"
  },
  "language_info": {
   "file_extension": ".c",
   "mimetype": "text/plain",
   "name": "none"
  }
 },
 "nbformat": 4,
 "nbformat_minor": 2
}