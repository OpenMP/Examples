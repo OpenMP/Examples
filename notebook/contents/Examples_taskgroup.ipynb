{
 "cells": [
  {
   "cell_type": "markdown",
   "metadata": {},
   "source": [
    ""
   ]
  },
  {
   "cell_type": "markdown",
   "metadata": {},
   "source": [
    "## The `taskgroup` Construct"
   ]
  },
  {
   "cell_type": "markdown",
   "metadata": {},
   "source": [
    ""
   ]
  },
  {
   "cell_type": "markdown",
   "metadata": {},
   "source": [
    "In this example, tasks are grouped and synchronized using the `taskgroup`  construct."
   ]
  },
  {
   "cell_type": "markdown",
   "metadata": {},
   "source": [
    "Initially, one task (the task executing the `start_background_work()`  call) is created in the `parallel` region, and later a parallel tree traversal  is started (the task executing the root of the recursive `compute_tree()`  calls). While synchronizing tasks at the end of each tree traversal, using the  `taskgroup` construct ensures that the formerly started background task  does not participate in the synchronization, and is left free to execute in parallel.  This is opposed to the behavior of the `taskwait` construct, which would  include the background tasks in the synchronization."
   ]
  },
  {
   "cell_type": "markdown",
   "metadata": {},
   "source": [
    ""
   ]
  },
  {
   "cell_type": "code",
   "execution_count": null,
   "metadata": {},
   "outputs": [],
   "source": [
    "//%compiler: clang\n",
 "//%cflags: -fopenmp\n",
 "\n",
    "/*\n",
    "* name: taskgroup.1c\n",
    "* type: C\n",
    "* version: omp_4.0\n",
    "*/\n",
    "extern void start_background_work(void);\n",
    "extern void check_step(void);\n",
    "extern void print_results(void);\n",
    "struct tree_node\n",
    "{\n",
    "   struct tree_node *left;\n",
    "   struct tree_node *right;\n",
    "};\n",
    "typedef struct tree_node* tree_type;\n",
    "extern void init_tree(tree_type);\n",
    "#define max_steps 100\n",
    "void compute_something(tree_type tree)\n",
    "{\n",
    "   // some computation\n",
    "}\n",
    "void compute_tree(tree_type tree)\n",
    "{\n",
    "   if (tree->left)\n",
    "   {\n",
    "     #pragma omp task\n",
    "       compute_tree(tree->left);\n",
    "   }\n",
    "   if (tree->right)\n",
    "   {\n",
    "     #pragma omp task\n",
    "       compute_tree(tree->right);\n",
    "   }\n",
    "   #pragma omp task\n",
    "   compute_something(tree);\n",
    "}\n",
    "int main()\n",
    "{\n",
    "  int i;\n",
    "  tree_type tree;\n",
    "  init_tree(tree);\n",
    "  #pragma omp parallel\n",
    "  #pragma omp single\n",
    "  {\n",
    "    #pragma omp task\n",
    "      start_background_work();\n",
    "    for (i = 0; i < max_steps; i++)\n",
    "    {\n",
    "        #pragma omp taskgroup\n",
    "        {\n",
    "           #pragma omp task\n",
    "             compute_tree(tree);\n",
    "        } // wait on tree traversal in this step\n",
    "        check_step();\n",
    "    }\n",
    "  } // only now is background work required to be complete\n",
    "  print_results();\n",
    "  return 0;\n",
    "}\n",
    "\n"
   ]
  },
  {
   "cell_type": "markdown",
   "metadata": {},
   "source": [
    ""
   ]
  },
  {
   "cell_type": "markdown",
   "metadata": {},
   "source": [
    ""
   ]
  },
  {
   "cell_type": "code",
   "execution_count": null,
   "metadata": {},
   "outputs": [],
   "source": [
    "\n",
    "! name: taskgroup.1f\n",
    "! type: F-free\n",
    "! version:    omp_4.0\n",
    "module tree_type_mod\n",
    "  integer, parameter :: max_steps=100\n",
    "  type tree_type\n",
    "    type(tree_type), pointer :: left, right\n",
    "  end type\n",
    "  contains\n",
    "    subroutine compute_something(tree)\n",
    "      type(tree_type), pointer :: tree\n",
    "! some computation\n",
    "    end subroutine\n",
    "    recursive subroutine compute_tree(tree)\n",
    "      type(tree_type), pointer :: tree\n",
    "      if (associated(tree%left)) then\n",
    "!$omp task\n",
    "        call compute_tree(tree%left)\n",
    "!$omp end task\n",
    "      endif\n",
    "      if (associated(tree%right)) then\n",
    "!$omp task\n",
    "        call compute_tree(tree%right)\n",
    "!$omp end task\n",
    "      endif\n",
    "!$omp task\n",
    "      call compute_something(tree)\n",
    "!$omp end task\n",
    "    end subroutine\n",
    "end module\n",
    "program main\n",
    "  use tree_type_mod\n",
    "  type(tree_type), pointer :: tree\n",
    "  call init_tree(tree);\n",
    "!$omp parallel\n",
    "!$omp single\n",
    "!$omp task\n",
    "  call start_background_work()\n",
    "!$omp end task\n",
    "  do i=1, max_steps\n",
    "!$omp taskgroup\n",
    "!$omp task\n",
    "    call compute_tree(tree)\n",
    "!$omp end task\n",
    "!$omp end taskgroup ! wait on tree traversal in this step\n",
    "    call check_step()\n",
    "  enddo\n",
    "!$omp end single\n",
    "!$omp end parallel    ! only now is background work required to be complete\n",
    "  call print_results()\n",
    "end program\n",
    "\n"
   ]
  },
  {
   "cell_type": "markdown",
   "metadata": {},
   "source": [
    ""
   ]
  },
  {
   "cell_type": "markdown",
   "metadata": {},
   "source": [
    ""
   ]
  }
 ],
 "metadata": {
  "kernelspec": {
   "display_name": "Native",
   "language": "native",
   "name": "native"
  },
  "language_info": {
   "file_extension": ".c",
   "mimetype": "text/plain",
   "name": "none"
  }
 },
 "nbformat": 4,
 "nbformat_minor": 2
}