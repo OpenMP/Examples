{
 "cells": [
  {
   "cell_type": "markdown",
   "metadata": {},
   "source": [
    ""
   ]
  },
  {
   "cell_type": "markdown",
   "metadata": {},
   "source": [
    "# SIMD"
   ]
  },
  {
   "cell_type": "markdown",
   "metadata": {},
   "source": [
    "{SIMD}"
   ]
  },
  {
   "cell_type": "markdown",
   "metadata": {},
   "source": [
    "Single instruction, multiple data (SIMD) is a form of parallel execution  in which the same operation is performed on multiple data elements  independently in hardware vector processing units (VPU), also called SIMD units. The addition of two vectors to form a third vector is a SIMD operation. Many processors have SIMD (vector) units that can perform simultaneously  2, 4, 8 or more executions of the same operation (by a single SIMD unit)."
   ]
  },
  {
   "cell_type": "markdown",
   "metadata": {},
   "source": [
    "Loops without loop-carried backward dependency (or with dependency preserved using  ordered simd) are candidates for vectorization by the compiler for  execution with SIMD units. In addition, with state-of-the-art vectorization  technology and `declare simd` directive extensions for function vectorization in the OpenMP 4.5 specification, loops with function calls can be vectorized as well.  The basic idea is that a scalar function call in a loop can be replaced by a vector version  of the function, and the loop can be vectorized simultaneously by combining a loop  vectorization (`simd` directive on the loop) and a function  vectorization (`declare simd` directive on the function)."
   ]
  },
  {
   "cell_type": "markdown",
   "metadata": {},
   "source": [
    "A `simd` construct states that SIMD operations be performed on the data within the loop.  A number of clauses are available to provide data-sharing attributes (`private`, `linear`, `reduction` and  `lastprivate`).  Other clauses provide vector length preference/restrictions  (`simdlen` / `safelen`), loop fusion (`collapse`), and data  alignment (`aligned`)."
   ]
  },
  {
   "cell_type": "markdown",
   "metadata": {},
   "source": [
    "The `declare simd` directive designates that a vector version of the function should also be constructed for  execution within loops that contain the function and have a `simd`  directive.  Clauses provide argument specifications (`linear`, `uniform`, and `aligned`), a requested vector length  (`simdlen`), and designate whether the function is always/never  called conditionally in a loop (`notinbranch`/`inbranch`).  The latter is for optimizing performance."
   ]
  },
  {
   "cell_type": "markdown",
   "metadata": {},
   "source": [
    "Also, the `simd` construct has been combined with the worksharing loop  constructs (`for simd` and `do simd`) to enable simultaneous thread  execution in different SIMD units."
   ]
  },
  {
   "cell_type": "markdown",
   "metadata": {},
   "source": [
    ""
   ]
  },
  {
   "cell_type": "markdown",
   "metadata": {},
   "source": [
    ""
   ]
  },
  {
   "cell_type": "markdown",
   "metadata": {},
   "source": [
    ""
   ]
  },
  {
   "cell_type": "markdown",
   "metadata": {},
   "source": [
    "## `simd` and `declare` `simd` Directives"
   ]
  },
  {
   "cell_type": "markdown",
   "metadata": {},
   "source": [
    ""
   ]
  },
  {
   "cell_type": "markdown",
   "metadata": {},
   "source": [
    "\index{constructs!simd@`simd`} \index{simd construct@`simd` construct} The following example illustrates the basic use of the `simd` construct  to assure the compiler that the loop can be vectorized."
   ]
  },
  {
   "cell_type": "markdown",
   "metadata": {},
   "source": [
    ""
   ]
  },
  {
   "cell_type": "code",
   "execution_count": null,
   "metadata": {},
   "outputs": [],
   "source": [
    "//%compiler: clang\n",
 "//%cflags: -fopenmp\n",
 "\n",
    "/*\n",
    "* name: SIMD.1\n",
    "* type: C\n",
    "* version: omp_4.0\n",
    "*/\n",
    "void star( double *a, double *b, double *c, int n, int *ioff )\n",
    "{\n",
    "   int i;\n",
    "   #pragma omp simd\n",
    "   for ( i = 0; i < n; i++ )\n",
    "      a[i] *= b[i] * c[i+ *ioff];\n",
    "}\n",
    "\n"
   ]
  },
  {
   "cell_type": "markdown",
   "metadata": {},
   "source": [
    ""
   ]
  },
  {
   "cell_type": "markdown",
   "metadata": {},
   "source": [
    ""
   ]
  },
  {
   "cell_type": "code",
   "execution_count": null,
   "metadata": {},
   "outputs": [],
   "source": [
    "\n",
    "! name: SIMD.1\n",
    "! type: F-free\n",
    "! version: omp_4.0\n",
    "subroutine star(a,b,c,n,ioff_ptr)\n",
    "   implicit none\n",
    "   double precision :: a(*),b(*),c(*)\n",
    "   integer          :: n, i\n",
    "   integer, pointer :: ioff_ptr\n",
    "\n",
    "   !$omp simd\n",
    "   do i = 1,n\n",
    "      a(i) = a(i) * b(i) * c(i+ioff_ptr)\n",
    "   end do\n",
    "\n",
    "end subroutine\n",
    "\n"
   ]
  },
  {
   "cell_type": "markdown",
   "metadata": {},
   "source": [
    ""
   ]
  },
  {
   "cell_type": "markdown",
   "metadata": {},
   "source": [
    ""
   ]
  },
  {
   "cell_type": "markdown",
   "metadata": {},
   "source": [
    "\index{directives!declare simd@`declare` `simd`} \index{declare simd directive@`declare` `simd` directive} \index{clauses!uniform@`uniform`} \index{uniform clause@`uniform` clause} \index{clauses!linear@`linear`} \index{linear clause@`linear` clause} When a function can be inlined within a loop the compiler has an opportunity to  vectorize the loop. By guaranteeing SIMD behavior of a function's operations,  characterizing the arguments of the function and privatizing temporary  variables of the loop, the compiler can often create faster, vector code for  the loop. In the examples below the `declare` `simd` directive is  used on the  _add1_  and  _add2_  functions to enable creation of their  corresponding SIMD function versions for execution within the associated SIMD  loop. The functions characterize two different approaches of accessing data  within the function: by a single variable and as an element in a data array,  respectively. The  _add3_  C function uses dereferencing."
   ]
  },
  {
   "cell_type": "markdown",
   "metadata": {},
   "source": [
    "The `declare` `simd` directives also illustrate the use of  `uniform` and `linear` clauses.  The `uniform(fact)` clause  indicates that the variable  _fact_  is invariant across the SIMD lanes. In  the  _add2_  function  _a_  and  _b_  are included in the `uniform`  list because the C pointer and the Fortran array references are constant.  The   _i_  index used in the  _add2_  function is included in a `linear`  clause with a constant-linear-step of 1, to guarantee a unity increment of the  associated loop. In the `declare` `simd` directive for the  _add3_   C function the  `linear(a,b:1)` clause instructs the compiler to generate  unit-stride loads across the SIMD lanes; otherwise,  costly **gather**  instructions would be generated for the unknown sequence of access of the  pointer dereferences."
   ]
  },
  {
   "cell_type": "markdown",
   "metadata": {},
   "source": [
    "In the `simd` constructs for the loops the `private(tmp)` clause is  necessary to assure that the each vector operation has its own  _tmp_   variable."
   ]
  },
  {
   "cell_type": "markdown",
   "metadata": {},
   "source": [
    ""
   ]
  },
  {
   "cell_type": "code",
   "execution_count": null,
   "metadata": {},
   "outputs": [],
   "source": [
    "//%compiler: clang\n",
 "//%cflags: -fopenmp\n",
 "\n",
    "/*\n",
    "* name: SIMD.2\n",
    "* type: C\n",
    "* version: omp_4.0\n",
    "*/\n",
    "#include <stdio.h>\n",
    "\n",
    "#pragma omp declare simd uniform(fact)\n",
    "double add1(double a, double b, double fact)\n",
    "{\n",
    "   double c;\n",
    "   c = a + b + fact;\n",
    "   return c;\n",
    "}\n",
    "\n",
    "#pragma omp declare simd uniform(a,b,fact) linear(i:1)\n",
    "double add2(double *a, double *b, int i, double fact)\n",
    "{\n",
    "   double c;\n",
    "   c = a[i] + b[i] + fact;\n",
    "   return c;\n",
    "}\n",
    "\n",
    "#pragma omp declare simd uniform(fact) linear(a,b:1)\n",
    "double add3(double *a, double *b, double fact)\n",
    "{\n",
    "   double c;\n",
    "   c = *a + *b + fact;\n",
    "   return c;\n",
    "}\n",
    "\n",
    "void work( double *a, double *b, int n )\n",
    "{\n",
    "   int i;\n",
    "   double tmp;\n",
    "   #pragma omp simd private(tmp)\n",
    "   for ( i = 0; i < n; i++ ) {\n",
    "      tmp  = add1( a[i],  b[i], 1.0);\n",
    "      a[i] = add2( a,     b, i, 1.0) + tmp;\n",
    "      a[i] = add3(&a[i], &b[i], 1.0);\n",
    "   }\n",
    "}\n",
    "\n",
    "int main(){\n",
    "   int i;\n",
    "   const int N=32;\n",
    "   double a[N], b[N];\n",
    "\n",
    "   for ( i=0; i<N; i++ ) {\n",
    "      a[i] = i; b[i] = N-i;\n",
    "   }\n",
    "\n",
    "   work(a, b, N );\n",
    "\n",
    "   for ( i=0; i<N; i++ ) {\n",
    "      printf(\"%d %f\\n\", i, a[i]);\n",
    "   }\n",
    "\n",
    "   return 0;\n",
    "}\n",
    "\n"
   ]
  },
  {
   "cell_type": "markdown",
   "metadata": {},
   "source": [
    ""
   ]
  },
  {
   "cell_type": "markdown",
   "metadata": {},
   "source": [
    ""
   ]
  },
  {
   "cell_type": "code",
   "execution_count": null,
   "metadata": {},
   "outputs": [],
   "source": [
    "\n",
    "! name: SIMD.2\n",
    "! type: F-free\n",
    "! version: omp_4.0\n",
    "program main\n",
    "   implicit none\n",
    "   integer, parameter :: N=32\n",
    "   integer :: i\n",
    "   double precision   :: a(N), b(N)\n",
    "   do i = 1,N\n",
    "      a(i) = i-1\n",
    "      b(i) = N-(i-1)\n",
    "   end do\n",
    "   call work(a, b, N )\n",
    "   do i = 1,N\n",
    "      print*, i,a(i)\n",
    "   end do\n",
    "end program\n",
    "\n",
    "function add1(a,b,fact) result(c)\n",
    "   implicit none\n",
    "!$omp declare simd(add1) uniform(fact)\n",
    "   double precision :: a,b,fact, c\n",
    "   c = a + b + fact\n",
    "end function\n",
    "\n",
    "function add2(a,b,i, fact) result(c)\n",
    "   implicit none\n",
    "!$omp declare simd(add2) uniform(a,b,fact) linear(i:1)\n",
    "   integer          :: i\n",
    "   double precision :: a(*),b(*),fact, c\n",
    "   c = a(i) + b(i) + fact\n",
    "end function\n",
    "\n",
    "subroutine work(a, b, n )\n",
    "   implicit none\n",
    "   double precision           :: a(n),b(n), tmp\n",
    "   integer                    :: n, i\n",
    "   double precision, external :: add1, add2\n",
    "\n",
    "   !$omp simd private(tmp)\n",
    "   do i = 1,n\n",
    "      tmp  = add1(a(i), b(i), 1.0d0)\n",
    "      a(i) = add2(a,    b, i, 1.0d0) + tmp\n",
    "      a(i) = a(i) + b(i) + 1.0d0\n",
    "   end do\n",
    "end subroutine\n",
    "\n"
   ]
  },
  {
   "cell_type": "markdown",
   "metadata": {},
   "source": [
    ""
   ]
  },
  {
   "cell_type": "markdown",
   "metadata": {},
   "source": [
    "\index{clauses!private@`private`} \index{private clause@`private` clause} \index{clauses!reduction@`reduction`} \index{reduction clause@`reduction` clause} \index{reductions!reduction clause@`reduction` clause} A thread that encounters a SIMD construct executes a vectorized code of the  iterations. Similar to the concerns of a worksharing loop a loop vectorized  with a SIMD construct must assure that temporary and reduction variables are  privatized and declared as reductions with clauses.  The example below  illustrates the use of `private` and `reduction` clauses in a SIMD  construct."
   ]
  },
  {
   "cell_type": "markdown",
   "metadata": {},
   "source": [
    ""
   ]
  },
  {
   "cell_type": "code",
   "execution_count": null,
   "metadata": {},
   "outputs": [],
   "source": [
    "//%compiler: clang\n",
 "//%cflags: -fopenmp\n",
 "\n",
    "/*\n",
    "* name: SIMD.3\n",
    "* type: C\n",
    "* version: omp_4.0\n",
    "*/\n",
    "double work( double *a, double *b, int n )\n",
    "{\n",
    "   int i;\n",
    "   double tmp, sum;\n",
    "   sum = 0.0;\n",
    "   #pragma omp simd private(tmp) reduction(+:sum)\n",
    "   for (i = 0; i < n; i++) {\n",
    "      tmp = a[i] + b[i];\n",
    "      sum += tmp;\n",
    "   }\n",
    "   return sum;\n",
    "}\n",
    "\n"
   ]
  },
  {
   "cell_type": "markdown",
   "metadata": {},
   "source": [
    ""
   ]
  },
  {
   "cell_type": "markdown",
   "metadata": {},
   "source": [
    ""
   ]
  },
  {
   "cell_type": "code",
   "execution_count": null,
   "metadata": {},
   "outputs": [],
   "source": [
    "\n",
    "! name: SIMD.3\n",
    "! type: F-free\n",
    "! version: omp_4.0\n",
    "subroutine work( a, b, n, sum )\n",
    "   implicit none\n",
    "   integer :: i, n\n",
    "   double precision :: a(n), b(n), sum, tmp\n",
    "\n",
    "   sum = 0.0d0\n",
    "   !$omp simd private(tmp) reduction(+:sum)\n",
    "   do i = 1,n\n",
    "      tmp = a(i) + b(i)\n",
    "      sum = sum + tmp\n",
    "   end do\n",
    "\n",
    "end subroutine work\n",
    "\n"
   ]
  },
  {
   "cell_type": "markdown",
   "metadata": {},
   "source": [
    ""
   ]
  },
  {
   "cell_type": "markdown",
   "metadata": {},
   "source": [
    ""
   ]
  },
  {
   "cell_type": "markdown",
   "metadata": {},
   "source": [
    "\index{clauses!safelen@`safelen`} \index{safelen clause@`safelen` clause} A `safelen(N)` clause in a `simd` construct assures the compiler that  there are no loop-carried dependencies for vectors of size  _N_  or below. If  the `safelen` clause is not specified, then the default safelen value is  the number of loop iterations."
   ]
  },
  {
   "cell_type": "markdown",
   "metadata": {},
   "source": [
    "The `safelen(16)` clause in the example below guarantees that the vector  code is safe for vectors up to and including size 16.  In the loop,  _m_  can  be 16 or greater, for correct code execution.  If the value of  _m_  is less  than 16, the behavior is undefined."
   ]
  },
  {
   "cell_type": "markdown",
   "metadata": {},
   "source": [
    ""
   ]
  },
  {
   "cell_type": "code",
   "execution_count": null,
   "metadata": {},
   "outputs": [],
   "source": [
    "//%compiler: clang\n",
 "//%cflags: -fopenmp\n",
 "\n",
    "/*\n",
    "* name: SIMD.4\n",
    "* type: C\n",
    "* version: omp_4.0\n",
    "*/\n",
    "void work( float *b, int n, int m )\n",
    "{\n",
    "   int i;\n",
    "   #pragma omp simd safelen(16)\n",
    "   for (i = m; i < n; i++)\n",
    "      b[i] = b[i-m] - 1.0f;\n",
    "}\n",
    "\n"
   ]
  },
  {
   "cell_type": "markdown",
   "metadata": {},
   "source": [
    ""
   ]
  },
  {
   "cell_type": "markdown",
   "metadata": {},
   "source": [
    ""
   ]
  },
  {
   "cell_type": "code",
   "execution_count": null,
   "metadata": {},
   "outputs": [],
   "source": [
    "\n",
    "! name: SIMD.4\n",
    "! type: F-free\n",
    "! version: omp_4.0\n",
    "subroutine work( b, n, m )\n",
    "   implicit none\n",
    "   real       :: b(n)\n",
    "   integer    :: i,n,m\n",
    "\n",
    "   !$omp simd safelen(16)\n",
    "   do i = m+1, n\n",
    "      b(i) = b(i-m) - 1.0\n",
    "   end do\n",
    "end subroutine work\n",
    "\n"
   ]
  },
  {
   "cell_type": "markdown",
   "metadata": {},
   "source": [
    ""
   ]
  },
  {
   "cell_type": "markdown",
   "metadata": {},
   "source": [
    "\index{clauses!collapse@`collapse`} \index{collapse clause@`collapse` clause} The following SIMD construct instructs the compiler to collapse the  _i_  and   _j_  loops into a single SIMD loop in which SIMD chunks are executed by  threads of the team. Within the workshared loop chunks of a thread, the SIMD  chunks are executed in the lanes of the vector units."
   ]
  },
  {
   "cell_type": "markdown",
   "metadata": {},
   "source": [
    ""
   ]
  },
  {
   "cell_type": "code",
   "execution_count": null,
   "metadata": {},
   "outputs": [],
   "source": [
    "//%compiler: clang\n",
 "//%cflags: -fopenmp\n",
 "\n",
    "/*\n",
    "* name: SIMD.5\n",
    "* type: C\n",
    "* version: omp_4.0\n",
    "*/\n",
    "void work( double **a, double **b, double **c, int n )\n",
    "{\n",
    "   int i, j;\n",
    "   double tmp;\n",
    "   #pragma omp for simd collapse(2) private(tmp)\n",
    "   for (i = 0; i < n; i++) {\n",
    "      for (j = 0; j < n; j++) {\n",
    "         tmp = a[i][j] + b[i][j];\n",
    "         c[i][j] = tmp;\n",
    "      }\n",
    "   }\n",
    "}\n",
    "\n"
   ]
  },
  {
   "cell_type": "markdown",
   "metadata": {},
   "source": [
    ""
   ]
  },
  {
   "cell_type": "markdown",
   "metadata": {},
   "source": [
    ""
   ]
  },
  {
   "cell_type": "code",
   "execution_count": null,
   "metadata": {},
   "outputs": [],
   "source": [
    "\n",
    "! name: SIMD.5\n",
    "! type: F-free\n",
    "! version: omp_4.0\n",
    "subroutine work( a, b, c,  n )\n",
    "   implicit none\n",
    "   integer :: i,j,n\n",
    "   double precision :: a(n,n), b(n,n), c(n,n), tmp\n",
    "\n",
    "   !$omp do simd collapse(2) private(tmp)\n",
    "   do j = 1,n\n",
    "      do i = 1,n\n",
    "         tmp = a(i,j) + b(i,j)\n",
    "         c(i,j) = tmp\n",
    "      end do\n",
    "   end do\n",
    "\n",
    "end subroutine work\n",
    "\n"
   ]
  },
  {
   "cell_type": "markdown",
   "metadata": {},
   "source": [
    ""
   ]
  },
  {
   "cell_type": "markdown",
   "metadata": {},
   "source": [
    ""
   ]
  },
  {
   "cell_type": "markdown",
   "metadata": {},
   "source": [
    ""
   ]
  },
  {
   "cell_type": "markdown",
   "metadata": {},
   "source": [
    "## `inbranch` and `notinbranch` Clauses"
   ]
  },
  {
   "cell_type": "markdown",
   "metadata": {},
   "source": [
    "\index{clauses!inbranch@`inbranch`} \index{inbranch clause@`inbranch` clause} \index{clauses!notinbranch@`notinbranch`} \index{notinbranch clause@`notinbranch` clause}"
   ]
  },
  {
   "cell_type": "markdown",
   "metadata": {},
   "source": [
    "The following examples illustrate the use of the `declare` `simd`  directive with the `inbranch` and `notinbranch` clauses. The  `notinbranch` clause informs the compiler that the function  _foo_  is  never called conditionally in the SIMD loop of the function  _myaddint_ . On  the other hand, the `inbranch` clause for the function goo indicates that  the function is always called conditionally in the SIMD loop inside  the function  _myaddfloat_ ."
   ]
  },
  {
   "cell_type": "markdown",
   "metadata": {},
   "source": [
    ""
   ]
  },
  {
   "cell_type": "code",
   "execution_count": null,
   "metadata": {},
   "outputs": [],
   "source": [
    "//%compiler: clang\n",
 "//%cflags: -fopenmp\n",
 "\n",
    "/*\n",
    "* name: SIMD.6\n",
    "* type: C\n",
    "* version: omp_4.0\n",
    "*/\n",
    "#pragma omp declare simd linear(p:1) notinbranch\n",
    "int foo(int *p){\n",
    "  *p = *p + 10;\n",
    "  return *p;\n",
    "}\n",
    "\n",
    "int myaddint(int *a, int *b, int n)\n",
    "{\n",
    "#pragma omp simd\n",
    "  for (int i=0; i<n; i++){\n",
    "      a[i]  = foo(&b[i]);  /* foo is not called under a condition */\n",
    "  }\n",
    "  return a[n-1];\n",
    "}\n",
    "\n",
    "#pragma omp declare simd linear(p:1) inbranch\n",
    "float goo(float *p){\n",
    "  *p = *p + 18.5f;\n",
    "  return *p;\n",
    "}\n",
    "\n",
    "int myaddfloat(float *x, float *y, int n)\n",
    "{\n",
    "#pragma omp simd\n",
    "  for (int i=0; i<n; i++){\n",
    "     x[i] = (x[i] > y[i]) ? goo(&y[i]) : y[i];\n",
    "       /* goo is called under the condition (or within a branch) */\n",
    "  }\n",
    "  return x[n-1];\n",
    "}\n",
    "\n"
   ]
  },
  {
   "cell_type": "markdown",
   "metadata": {},
   "source": [
    ""
   ]
  },
  {
   "cell_type": "markdown",
   "metadata": {},
   "source": [
    ""
   ]
  },
  {
   "cell_type": "code",
   "execution_count": null,
   "metadata": {},
   "outputs": [],
   "source": [
    "\n",
    "! name: SIMD.6\n",
    "! type: F-free\n",
    "! version: omp_4.0\n",
    "function foo(p) result(r)\n",
    "  implicit none\n",
    "!$omp declare simd(foo) notinbranch\n",
    "  integer :: p, r\n",
    "  p = p + 10\n",
    "  r = p\n",
    "end function foo\n",
    "\n",
    "function myaddint(a, b,  n) result(r)\n",
    "  implicit none\n",
    "  integer :: a(*), b(*), n, r\n",
    "  integer :: i\n",
    "  integer, external :: foo\n",
    "\n",
    "  !$omp simd\n",
    "  do i=1, n\n",
    "      a(i) = foo(b(i))  ! foo is not called under a condition\n",
    "  end do\n",
    "  r = a(n)\n",
    "\n",
    "end function myaddint\n",
    "\n",
    "function goo(p) result(r)\n",
    "  implicit none\n",
    "!$omp declare simd(goo) inbranch\n",
    "  real :: p, r\n",
    "  p = p + 18.5\n",
    "  r = p\n",
    "end function goo\n",
    "\n",
    "function myaddfloat(x, y, n) result(r)\n",
    "  implicit none\n",
    "  real :: x(*), y(*), r\n",
    "  integer :: n\n",
    "  integer :: i\n",
    "  real, external :: goo\n",
    "\n",
    "  !$omp simd\n",
    "  do i=1, n\n",
    "     if (x(i) > y(i)) then\n",
    "        x(i) = goo(y(i))\n",
    "        ! goo is called under the condition (or within a branch)\n",
    "     else\n",
    "        x(i) = y(i)\n",
    "     endif\n",
    "  end do\n",
    "\n",
    "  r = x(n)\n",
    "end function myaddfloat\n",
    "\n"
   ]
  },
  {
   "cell_type": "markdown",
   "metadata": {},
   "source": [
    ""
   ]
  },
  {
   "cell_type": "markdown",
   "metadata": {},
   "source": [
    ""
   ]
  },
  {
   "cell_type": "markdown",
   "metadata": {},
   "source": [
    "In the code below, the function  _fib()_  is called in the main program and  also recursively called in the function  _fib()_  within an `if`  condition. The compiler creates a masked vector version and a non-masked vector  version for the function  _fib()_  while retaining the original scalar  version of the  _fib()_  function."
   ]
  },
  {
   "cell_type": "markdown",
   "metadata": {},
   "source": [
    ""
   ]
  },
  {
   "cell_type": "code",
   "execution_count": null,
   "metadata": {},
   "outputs": [],
   "source": [
    "//%compiler: clang\n",
 "//%cflags: -fopenmp\n",
 "\n",
    "/*\n",
    "* name: SIMD.7\n",
    "* type: C\n",
    "* version: omp_4.0\n",
    "*/\n",
    "#include <stdio.h>\n",
    "#include <stdlib.h>\n",
    "\n",
    "#define N 45\n",
    "int a[N], b[N], c[N];\n",
    "\n",
    "#pragma omp declare simd inbranch\n",
    "int fib( int n )\n",
    "{\n",
    "   if (n <= 1)\n",
    "      return n;\n",
    "   else {\n",
    "      return fib(n-1) + fib(n-2);\n",
    "   }\n",
    "}\n",
    "\n",
    "int main(void)\n",
    "{\n",
    "   int i;\n",
    "\n",
    "   #pragma omp simd\n",
    "   for (i=0; i < N; i++) b[i] = i;\n",
    "\n",
    "   #pragma omp simd\n",
    "   for (i=0; i < N; i++) {\n",
    "      a[i] = fib(b[i]);\n",
    "   }\n",
    "   printf(\"Done a[%d] = %d\\n\", N-1, a[N-1]);\n",
    "   return 0;\n",
    "}\n",
    "\n"
   ]
  },
  {
   "cell_type": "markdown",
   "metadata": {},
   "source": [
    ""
   ]
  },
  {
   "cell_type": "markdown",
   "metadata": {},
   "source": [
    ""
   ]
  },
  {
   "cell_type": "code",
   "execution_count": null,
   "metadata": {},
   "outputs": [],
   "source": [
    "\n",
    "! name: SIMD.7\n",
    "! type: F-free\n",
    "! version: omp_4.0\n",
    "program fibonacci\n",
    "   implicit none\n",
    "   integer,parameter :: N=45\n",
    "   integer           :: a(0:N-1), b(0:N-1)\n",
    "   integer           :: i\n",
    "   integer, external :: fib\n",
    "\n",
    "   !$omp simd\n",
    "   do i = 0,N-1\n",
    "      b(i) = i\n",
    "   end do\n",
    "\n",
    "   !$omp simd\n",
    "   do i=0,N-1\n",
    "      a(i) = fib(b(i))\n",
    "   end do\n",
    "\n",
    "   write(*,*) \"Done a(\", N-1, \") = \", a(N-1)\n",
    "                        ! 44  701408733\n",
    "end program\n",
    "\n",
    "recursive function fib(n) result(r)\n",
    "   implicit none\n",
    "!$omp declare simd(fib) inbranch\n",
    "   integer  :: n, r\n",
    "\n",
    "   if (n <= 1) then\n",
    "      r = n\n",
    "   else\n",
    "      r = fib(n-1) + fib(n-2)\n",
    "   endif\n",
    "\n",
    "end function fib\n",
    "\n"
   ]
  },
  {
   "cell_type": "markdown",
   "metadata": {},
   "source": [
    ""
   ]
  },
  {
   "cell_type": "markdown",
   "metadata": {},
   "source": [
    ""
   ]
  },
  {
   "cell_type": "markdown",
   "metadata": {},
   "source": [
    ""
   ]
  },
  {
   "cell_type": "markdown",
   "metadata": {},
   "source": [
    ""
   ]
  },
  {
   "cell_type": "markdown",
   "metadata": {},
   "source": [
    "## Loop-Carried Lexical Forward Dependence"
   ]
  },
  {
   "cell_type": "markdown",
   "metadata": {},
   "source": [
    "\index{dependences!loop-carried lexical forward}"
   ]
  },
  {
   "cell_type": "markdown",
   "metadata": {},
   "source": [
    ""
   ]
  },
  {
   "cell_type": "markdown",
   "metadata": {},
   "source": [
    "The following example tests the restriction on an SIMD loop with the loop-carried lexical forward-dependence. This dependence must be preserved for the correct execution of SIMD loops."
   ]
  },
  {
   "cell_type": "markdown",
   "metadata": {},
   "source": [
    "A loop can be vectorized even though the iterations are not completely independent when it has loop-carried dependences that are forward lexical dependences, indicated in the code below by the read of  _A[j+1]_  and the write to  _A[j]_  in C/C++ code (or  _A(j+1)_  and  _A(j)_  in Fortran). That is, the read of  _A[j+1]_  (or  _A(j+1)_  in Fortran) before the write to  _A[j]_  (or  _A(j)_  in Fortran) ordering must be preserved for each iteration in  _j_  for valid SIMD code generation."
   ]
  },
  {
   "cell_type": "markdown",
   "metadata": {},
   "source": [
    "This test assures that the compiler preserves the loop carried lexical forward-dependence for generating a correct SIMD code."
   ]
  },
  {
   "cell_type": "markdown",
   "metadata": {},
   "source": [
    ""
   ]
  },
  {
   "cell_type": "code",
   "execution_count": null,
   "metadata": {},
   "outputs": [],
   "source": [
    "//%compiler: clang\n",
 "//%cflags: -fopenmp\n",
 "\n",
    "/*\n",
    "* name: SIMD.8\n",
    "* type: C\n",
    "* version: omp_4.0\n",
    "*/\n",
    "#include <stdio.h>\n",
    "#include <math.h>\n",
    "\n",
    "int   P[1000];\n",
    "float A[1000];\n",
    "\n",
    "float do_work(float *arr)\n",
    "{\n",
    "  float pri;\n",
    "  int i;\n",
    "#pragma omp simd lastprivate(pri)\n",
    "  for (i = 0; i < 999; ++i) {\n",
    "    int j = P[i];\n",
    "\n",
    "    pri = 0.5f;\n",
    "    if (j % 2 == 0) {\n",
    "      pri = A[j+1] + arr[i];\n",
    "    }\n",
    "    A[j] = pri * 1.5f;\n",
    "    pri = pri + A[j];\n",
    "  }\n",
    "  return pri;\n",
    "}\n",
    "\n",
    "int main(void)\n",
    "{\n",
    "  float pri, arr[1000];\n",
    "  int i;\n",
    "\n",
    "  for (i = 0; i < 1000; ++i) {\n",
    "     P[i]   = i;\n",
    "     A[i]   = i * 1.5f;\n",
    "     arr[i] = i * 1.8f;\n",
    "  }\n",
    "  pri = do_work(&arr[0]);\n",
    "  if (pri == 8237.25) {\n",
    "    printf(\"passed: result pri = %7.2f (8237.25) \\n\", pri);\n",
    "  }\n",
    "  else {\n",
    "    printf(\"failed: result pri = %7.2f (8237.25) \\n\", pri);\n",
    "  }\n",
    "  return 0;\n",
    "}\n",
    "\n"
   ]
  },
  {
   "cell_type": "markdown",
   "metadata": {},
   "source": [
    ""
   ]
  },
  {
   "cell_type": "markdown",
   "metadata": {},
   "source": [
    ""
   ]
  },
  {
   "cell_type": "code",
   "execution_count": null,
   "metadata": {},
   "outputs": [],
   "source": [
    "\n",
    "! name: SIMD.8\n",
    "! type: F-free\n",
    "! version: omp_4.0\n",
    "module work\n",
    "\n",
    "integer :: P(1000)\n",
    "real    :: A(1000)\n",
    "\n",
    "contains\n",
    "function do_work(arr) result(pri)\n",
    "  implicit none\n",
    "  real, dimension(*) :: arr\n",
    "\n",
    "  real :: pri\n",
    "  integer :: i, j\n",
    "\n",
    "  !$omp simd private(j) lastprivate(pri)\n",
    "  do i = 1, 999\n",
    "    j = P(i)\n",
    "\n",
    "    pri = 0.5\n",
    "    if (mod(j-1, 2) == 0) then\n",
    "      pri = A(j+1) + arr(i)\n",
    "    endif\n",
    "    A(j) = pri * 1.5\n",
    "    pri = pri + A(j)\n",
    "  end do\n",
    "\n",
    "end function do_work\n",
    "\n",
    "end module work\n",
    "\n",
    "program simd_8f\n",
    "  use work\n",
    "  implicit none\n",
    "  real :: pri, arr(1000)\n",
    "  integer :: i\n",
    "\n",
    "  do i = 1, 1000\n",
    "     P(i)   = i\n",
    "     A(i)   = (i-1) * 1.5\n",
    "     arr(i) = (i-1) * 1.8\n",
    "  end do\n",
    "  pri = do_work(arr)\n",
    "  if (pri == 8237.25) then\n",
    "    print 2, \"passed\", pri\n",
    "  else\n",
    "    print 2, \"failed\", pri\n",
    "  endif\n",
    "2 format(a, \": result pri = \", f7.2, \" (8237.25)\")\n",
    "\n",
    "end program\n",
    "\n"
   ]
  },
  {
   "cell_type": "markdown",
   "metadata": {},
   "source": [
    ""
   ]
  },
  {
   "cell_type": "markdown",
   "metadata": {},
   "source": [
    "../../SIMD/SIMD.tex"
   ]
  },
  {
   "cell_type": "markdown",
   "metadata": {},
   "source": [
    ""
   ]
  },
  {
   "cell_type": "markdown",
   "metadata": {},
   "source": [
    "## `ref`, `val`, `uval` Modifiers for `linear` Clause"
   ]
  },
  {
   "cell_type": "markdown",
   "metadata": {},
   "source": [
    "\index{modifiers, linear@modifiers, `linear`!ref@`ref`} \index{modifiers, linear@modifiers, `linear`!val@`val`} \index{modifiers, linear@modifiers, `linear`!uval@`uval`} \index{clauses!linear@`linear`} \index{linear clause@`linear` clause}"
   ]
  },
  {
   "cell_type": "markdown",
   "metadata": {},
   "source": [
    "When generating vector functions from `declare` `simd` directives,  it is important for a compiler to know the proper types of function arguments in order to generate efficient codes. This is especially true for C++ reference types and Fortran arguments."
   ]
  },
  {
   "cell_type": "markdown",
   "metadata": {},
   "source": [
    "In the following example, the function  _add_one2_  has a C++ reference parameter (or Fortran argument)  _p_ .  Variable  _p_  gets incremented by 1 in the function. The caller loop  _i_  in the main program passes  a variable  _k_  as a reference to the function  _add_one2_  call.    The `ref` modifier for the `linear` clause on the  `declare` `simd` directive specifies that the  reference-type parameter  _p_  is to match the property of the variable   _k_  in the loop.   This use of reference type is equivalent to the second call to   _add_one2_  with a direct passing of the array element  _a[i]_ .   In the example, the preferred vector  length 8 is specified for both the caller loop and the callee function."
   ]
  },
  {
   "cell_type": "markdown",
   "metadata": {},
   "source": [
    "When `linear(p: ref)` is applied to an argument passed by reference,  it tells the compiler that the addresses in its vector argument are consecutive, and so the compiler can generate a single vector load or store instead of  a gather or scatter. This allows more efficient SIMD code to be generated with  less source changes."
   ]
  },
  {
   "cell_type": "markdown",
   "metadata": {},
   "source": [
    ""
   ]
  },
  {
   "cell_type": "code",
   "execution_count": null,
   "metadata": {},
   "outputs": [],
   "source": [
    "//%compiler: clang\n",
 "//%cflags: -fopenmp\n",
 "\n",
    "/*\n",
    "* name: linear_modifier.1\n",
    "* type: C++\n",
    "* version: omp_5.1\n",
    "*/\n",
    "#include <stdio.h>\n",
    "\n",
    "#define NN 1023\n",
    "int a[NN];\n",
    "\n",
    "#pragma omp declare simd linear(p: ref) simdlen(8)\n",
    "void add_one2(int& p)\n",
    "{\n",
    "   p += 1;\n",
    "}\n",
    "\n",
    "int main(void)\n",
    "{\n",
    "   int i;\n",
    "   int* p = a;\n",
    "\n",
    "   for (i = 0; i < NN; i++) {\n",
    "      a[i] = i;\n",
    "   }\n",
    "\n",
    "#pragma omp simd linear(p) simdlen(8)\n",
    "   for (i = 0; i < NN; i++) {\n",
    "      int& k = *p;\n",
    "      add_one2(k);\n",
    "      add_one2(a[i]);\n",
    "      p++;\n",
    "   }\n",
    "\n",
    "   for (i = 0; i < NN; i++) {\n",
    "      if (a[i] != i+2) {\n",
    "         printf(\"failed\\n\");\n",
    "         return 1;\n",
    "      }\n",
    "   }\n",
    "   printf(\"passed\\n\");\n",
    "   return 0;\n",
    "}\n",
    "\n"
   ]
  },
  {
   "cell_type": "markdown",
   "metadata": {},
   "source": [
    ""
   ]
  },
  {
   "cell_type": "code",
   "execution_count": null,
   "metadata": {},
   "outputs": [],
   "source": [
    "\n",
    "! name: linear_modifier.1\n",
    "! type: F-free\n",
    "! version: omp_5.2\n",
    "module m\n",
    "   integer, parameter :: NN = 1023\n",
    "   integer :: a(NN)\n",
    "\n",
    " contains\n",
    "   subroutine add_one2(p)\n",
    "   !$omp declare simd(add_one2) linear(p: ref) simdlen(8)\n",
    "   implicit none\n",
    "   integer :: p\n",
    "\n",
    "   p = p + 1\n",
    "   end subroutine\n",
    "end module\n",
    "\n",
    "program main\n",
    "   use m\n",
    "   implicit none\n",
    "   integer :: i, p\n",
    "\n",
    "   do i = 1, NN\n",
    "      a(i) = i\n",
    "   end do\n",
    "\n",
    "   p = 1\n",
    "   !$omp simd linear(p) simdlen(8)\n",
    "   do i = 1, NN\n",
    "      associate(k => a(p))\n",
    "         call add_one2(k)\n",
    "      end associate\n",
    "      call add_one2(a(i))\n",
    "      p = p + 1\n",
    "   end do\n",
    "\n",
    "   do i = 1, NN\n",
    "      if (a(i) /= i+2) then\n",
    "         print *, \"failed\"\n",
    "         stop\n",
    "      endif\n",
    "   end do\n",
    "   print *, \"passed\"\n",
    "end program\n",
    "\n",
    "\n"
   ]
  },
  {
   "cell_type": "markdown",
   "metadata": {},
   "source": [
    ""
   ]
  },
  {
   "cell_type": "markdown",
   "metadata": {},
   "source": [
    ""
   ]
  },
  {
   "cell_type": "markdown",
   "metadata": {},
   "source": [
    "The following example is a variant of the above example. The function  _add_one2_   in the C++ code includes an additional C++ reference parameter  _i_ .  The loop index  _i_  of the caller loop  _i_  in the main program  is passed as a reference to the function  _add_one2_  call.    The loop index  _i_  has a uniform address with linear value of step 1 across SIMD lanes.  Thus, the `uval` modifier is used for the `linear` clause  to specify that the C++ reference-type parameter  _i_  is to match  the property of loop index  _i_ ."
   ]
  },
  {
   "cell_type": "markdown",
   "metadata": {},
   "source": [
    "In the corresponding Fortran code the arguments  _p_  and  _i_  in the routine  _add_on2_  are passed by references.  Similar modifiers are used for these variables in the `linear` clauses to match with the property at the caller loop in the main program."
   ]
  },
  {
   "cell_type": "markdown",
   "metadata": {},
   "source": [
    "When `linear(i: uval)` is applied to an argument passed by reference, it  tells the compiler that its addresses in the vector argument are uniform  so that the compiler can generate a scalar load or scalar store and create  linear values. This allows more efficient SIMD code to be generated with  less source changes."
   ]
  },
  {
   "cell_type": "markdown",
   "metadata": {},
   "source": [
    ""
   ]
  },
  {
   "cell_type": "code",
   "execution_count": null,
   "metadata": {},
   "outputs": [],
   "source": [
    "//%compiler: clang\n",
 "//%cflags: -fopenmp\n",
 "\n",
    "/*\n",
    "* name: linear_modifier.2\n",
    "* type: C++\n",
    "* version: omp_5.2\n",
    "*/\n",
    "#include <stdio.h>\n",
    "\n",
    "#define NN 1023\n",
    "int a[NN];\n",
    "\n",
    "#pragma omp declare simd linear(p: ref) linear(i: uval)\n",
    "void add_one2(int& p, const int& i)\n",
    "{\n",
    "   p += i;\n",
    "}\n",
    "\n",
    "int main(void)\n",
    "{\n",
    "   int i;\n",
    "   int* p = a;\n",
    "\n",
    "   for (i = 0; i < NN; i++) {\n",
    "      a[i] = i;\n",
    "   }\n",
    "\n",
    "   #pragma omp simd linear(p)\n",
    "   for (i = 0; i < NN; i++) {\n",
    "      int& k = *p;\n",
    "      add_one2(k, i);\n",
    "      p++;\n",
    "   }\n",
    "\n",
    "   for (i = 0; i < NN; i++) {\n",
    "      if (a[i] != i*2) {\n",
    "         printf(\"failed\\n\");\n",
    "         return 1;\n",
    "      }\n",
    "   }\n",
    "   printf(\"passed\\n\");\n",
    "   return 0;\n",
    "}\n",
    "\n"
   ]
  },
  {
   "cell_type": "markdown",
   "metadata": {},
   "source": [
    ""
   ]
  },
  {
   "cell_type": "code",
   "execution_count": null,
   "metadata": {},
   "outputs": [],
   "source": [
    "\n",
    "! name: linear_modifier.2\n",
    "! type: F-free\n",
    "! version: omp_5.2\n",
    "module m\n",
    "   integer, parameter :: NN = 1023\n",
    "   integer :: a(NN)\n",
    "\n",
    " contains\n",
    "   subroutine add_one2(p, i)\n",
    "   !$omp declare simd(add_one2) linear(p: ref) linear(i: uval)\n",
    "   implicit none\n",
    "   integer :: p\n",
    "   integer, intent(in) :: i\n",
    "\n",
    "   p = p + i\n",
    "   end subroutine\n",
    "end module\n",
    "\n",
    "program main\n",
    "   use m\n",
    "   implicit none\n",
    "   integer :: i, p\n",
    "\n",
    "   do i = 1, NN\n",
    "      a(i) = i\n",
    "   end do\n",
    "\n",
    "   p = 1\n",
    "   !$omp simd linear(p)\n",
    "   do i = 1, NN\n",
    "      call add_one2(a(p), i)\n",
    "      p = p + 1\n",
    "   end do\n",
    "\n",
    "   do i = 1, NN\n",
    "      if (a(i) /= i*2) then\n",
    "         print *, \"failed\"\n",
    "         stop\n",
    "      endif\n",
    "   end do\n",
    "   print *, \"passed\"\n",
    "end program\n",
    "\n"
   ]
  },
  {
   "cell_type": "markdown",
   "metadata": {},
   "source": [
    ""
   ]
  },
  {
   "cell_type": "markdown",
   "metadata": {},
   "source": [
    "In the following example, the function  _func_  takes arrays  _x_  and  _y_   as arguments, and accesses the array elements referenced by the index  _i_ . The caller loop  _i_  in the main program passes a linear copy of the variable  _k_  to the function  _func_ . The `val` modifier is used for the `linear` clause  in the `declare` `simd` directive for the function  _func_  to specify that the argument  _i_  is to match the property of  the actual argument  _k_  passed in the SIMD loop. Arrays  _x_  and  _y_  have uniform addresses across SIMD lanes."
   ]
  },
  {
   "cell_type": "markdown",
   "metadata": {},
   "source": [
    "When `linear(i: val,step(1))` is applied to an argument,  it tells the compiler that its addresses in the vector argument may not be  consecutive, however, their values are linear (with stride 1 here). When the value of  _i_  is used  in subscript of array references (e.g.,  _x[i]_ ), the compiler can generate  a vector load or store instead of a gather or scatter. This allows more  efficient SIMD code to be generated with less source changes."
   ]
  },
  {
   "cell_type": "markdown",
   "metadata": {},
   "source": [
    ""
   ]
  },
  {
   "cell_type": "code",
   "execution_count": null,
   "metadata": {},
   "outputs": [],
   "source": [
    "//%compiler: clang\n",
 "//%cflags: -fopenmp\n",
 "\n",
    "/*\n",
    "* name: linear_modifier.3\n",
    "* type: C\n",
    "* version: omp_5.2\n",
    "*/\n",
    "#include <stdio.h>\n",
    "\n",
    "#define N 128\n",
    "\n",
    "#pragma omp declare simd simdlen(4) uniform(x, y) linear(i:val,step(1))\n",
    "double func(double x[], double y[], int i)\n",
    "{\n",
    "   return (x[i] + y[i]);\n",
    "}\n",
    "\n",
    "int main(void)\n",
    "{\n",
    "   double x[N], y[N], z1[N], z2;\n",
    "   int i, k;\n",
    "\n",
    "   for (i = 0; i < N; i++) {\n",
    "      x[i] = (double)i;\n",
    "      y[i] = (double)i*2;\n",
    "   }\n",
    "\n",
    "   k = 0;\n",
    "#pragma omp simd linear(k)\n",
    "   for (i = 0; i < N; i++) {\n",
    "      z1[i] = func(x, y, k);\n",
    "      k++;\n",
    "   }\n",
    "\n",
    "   for (i = 0; i < N; i++) {\n",
    "      z2 = (double)(i + i*2);\n",
    "      if (z1[i] != z2) {\n",
    "         printf(\"failed\\n\");\n",
    "         return 1;\n",
    "      }\n",
    "   }\n",
    "   printf(\"passed\\n\");\n",
    "   return 0;\n",
    "}\n",
    "\n"
   ]
  },
  {
   "cell_type": "markdown",
   "metadata": {},
   "source": [
    ""
   ]
  },
  {
   "cell_type": "code",
   "execution_count": null,
   "metadata": {},
   "outputs": [],
   "source": [
    "\n",
    "! name: linear_modifier.3\n",
    "! type: F-free\n",
    "! version: omp_5.2\n",
    "module func_mod\n",
    "contains\n",
    "   real(8) function func(x, y, i)\n",
    "!$omp declare simd(func) simdlen(4) uniform(x, y) linear(i:val,step(1))\n",
    "      implicit none\n",
    "      real(8), intent(in) :: x(*), y(*)\n",
    "      integer, intent(in) :: i\n",
    "\n",
    "      func = x(i) + y(i)\n",
    "\n",
    "   end function func\n",
    "end module func_mod\n",
    "\n",
    "program main\n",
    "   use func_mod\n",
    "   implicit none\n",
    "   integer, parameter :: n = 128\n",
    "   real(8) :: x(n), y(n), z1(n), z2\n",
    "   integer :: i, k\n",
    "\n",
    "   do i=1, n\n",
    "      x(i) = real(i, kind=8)\n",
    "      y(i) = real(i*2, kind=8)\n",
    "   enddo\n",
    "\n",
    "   k = 1\n",
    "!$omp simd linear(k)\n",
    "   do i=1, n\n",
    "      z1(i) = func(x, y, k)\n",
    "      k = k + 1\n",
    "   enddo\n",
    "\n",
    "   do i=1, n\n",
    "      z2 = real(i+i*2, kind=8)\n",
    "      if (z1(i) /= z2) then\n",
    "         print *, 'failed'\n",
    "         stop\n",
    "      endif\n",
    "   enddo\n",
    "   print *, 'passed'\n",
    "end program main\n",
    "\n"
   ]
  },
  {
   "cell_type": "markdown",
   "metadata": {},
   "source": [
    ""
   ]
  },
  {
   "cell_type": "markdown",
   "metadata": {},
   "source": [
    ""
   ]
  },
  {
   "cell_type": "markdown",
   "metadata": {},
   "source": [
    "../../SIMD/linear_modifier.tex"
   ]
  },
  {
   "cell_type": "markdown",
   "metadata": {},
   "source": [
    ""
   ]
  },
  {
   "cell_type": "markdown",
   "metadata": {},
   "source": [
    ""
   ]
  }
 ],
 "metadata": {
  "kernelspec": {
   "display_name": "Native",
   "language": "native",
   "name": "native"
  },
  "language_info": {
   "file_extension": ".c",
   "mimetype": "text/plain",
   "name": "none"
  }
 },
 "nbformat": 4,
 "nbformat_minor": 2
}