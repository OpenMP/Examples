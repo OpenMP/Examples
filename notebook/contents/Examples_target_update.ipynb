{
 "cells": [
  {
   "cell_type": "markdown",
   "metadata": {},
   "source": [
    ""
   ]
  },
  {
   "cell_type": "markdown",
   "metadata": {},
   "source": [
    "## `target` `update` Construct"
   ]
  },
  {
   "cell_type": "markdown",
   "metadata": {},
   "source": [
    ""
   ]
  },
  {
   "cell_type": "markdown",
   "metadata": {},
   "source": [
    ""
   ]
  },
  {
   "cell_type": "markdown",
   "metadata": {},
   "source": [
    "### Simple `target` `data` and `target` `update` Constructs"
   ]
  },
  {
   "cell_type": "markdown",
   "metadata": {},
   "source": [
    ""
   ]
  },
  {
   "cell_type": "markdown",
   "metadata": {},
   "source": [
    "The following example shows how the `target` `update` construct updates  variables in a device data environment."
   ]
  },
  {
   "cell_type": "markdown",
   "metadata": {},
   "source": [
    "The `target` `data` construct maps array sections  _v1[:N]_  and  _v2[:N]_   (arrays  _v1_  and  _v2_  in the Fortran code) into a device data environment."
   ]
  },
  {
   "cell_type": "markdown",
   "metadata": {},
   "source": [
    "The task executing on the host device encounters the first `target` region  and waits for the completion of the region."
   ]
  },
  {
   "cell_type": "markdown",
   "metadata": {},
   "source": [
    "After the execution of the first `target` region, the task executing on  the host device then assigns new values to  _v1[:N]_  and  _v2[:N]_  ( _v1_  and  _v2_  arrays  in Fortran code) in the task's data environment by calling the function `init_again()`."
   ]
  },
  {
   "cell_type": "markdown",
   "metadata": {},
   "source": [
    "The `target` `update` construct assigns the new values of  _v1_  and   _v2_  from the task's data environment to the corresponding mapped array sections  in the device data environment of the `target` `data` construct."
   ]
  },
  {
   "cell_type": "markdown",
   "metadata": {},
   "source": [
    "The task executing on the host device then encounters the second `target`  region and waits for the completion of the region."
   ]
  },
  {
   "cell_type": "markdown",
   "metadata": {},
   "source": [
    "The second `target` region uses the updated values of  _v1[:N]_  and  _v2[:N]_ ."
   ]
  },
  {
   "cell_type": "markdown",
   "metadata": {},
   "source": [
    ""
   ]
  },
  {
   "cell_type": "code",
   "execution_count": null,
   "metadata": {},
   "outputs": [],
   "source": [
    "//%compiler: clang\n",
 "//%cflags: -fopenmp\n",
 "\n",
    "/*\n",
    "* name: target_update.1c\n",
    "* type: C\n",
    "* version: omp_4.0\n",
    "*/\n",
    "extern void init(float *, float *, int);\n",
    "extern void init_again(float *, float *, int);\n",
    "extern void output(float *, int);\n",
    "void vec_mult(float *p, float *v1, float *v2, int N)\n",
    "{\n",
    "   int i;\n",
    "   init(v1, v2, N);\n",
    "   #pragma omp target data map(to: v1[:N], v2[:N]) map(from: p[0:N])\n",
    "   {\n",
    "      #pragma omp target\n",
    "      #pragma omp parallel for\n",
    "      for (i=0; i<N; i++)\n",
    " p[i] = v1[i] * v2[i];\n",
    "      init_again(v1, v2, N);\n",
    "      #pragma omp target update to(v1[:N], v2[:N])\n",
    "      #pragma omp target\n",
    "      #pragma omp parallel for\n",
    "      for (i=0; i<N; i++)\n",
    " p[i] = p[i] + (v1[i] * v2[i]);\n",
    "   }\n",
    "   output(p, N);\n",
    "}\n",
    "\n"
   ]
  },
  {
   "cell_type": "markdown",
   "metadata": {},
   "source": [
    ""
   ]
  },
  {
   "cell_type": "markdown",
   "metadata": {},
   "source": [
    ""
   ]
  },
  {
   "cell_type": "code",
   "execution_count": null,
   "metadata": {},
   "outputs": [],
   "source": [
    "\n",
    "! name: target_update.1f\n",
    "! type: F-free\n",
    "! version:     omp_4.0\n",
    "subroutine vec_mult(p, v1, v2, N)\n",
    "   real    ::  p(N), v1(N), v2(N)\n",
    "   integer ::  i\n",
    "   call init(v1, v2, N)\n",
    "   !$omp target data map(to: v1, v2) map(from: p)\n",
    "      !$omp target\n",
    "      !$omp parallel do\n",
    "         do i=1,N\n",
    "            p(i) = v1(i) * v2(i)\n",
    "         end do\n",
    "      !$omp end target\n",
    "      call init_again(v1, v2, N)\n",
    "      !$omp target update to(v1, v2)\n",
    "      !$omp target\n",
    "      !$omp parallel do\n",
    "         do i=1,N\n",
    "            p(i) = p(i) + v1(i) * v2(i)\n",
    "         end do\n",
    "      !$omp end target\n",
    "   !$omp end target data\n",
    "   call output(p, N)\n",
    "end subroutine\n",
    "\n"
   ]
  },
  {
   "cell_type": "markdown",
   "metadata": {},
   "source": [
    ""
   ]
  },
  {
   "cell_type": "markdown",
   "metadata": {},
   "source": [
    ""
   ]
  },
  {
   "cell_type": "markdown",
   "metadata": {},
   "source": [
    "### `target` `update` Construct with `if` Clause"
   ]
  },
  {
   "cell_type": "markdown",
   "metadata": {},
   "source": [
    ""
   ]
  },
  {
   "cell_type": "markdown",
   "metadata": {},
   "source": [
    "The following example shows how the `target` `update` construct updates  variables in a device data environment."
   ]
  },
  {
   "cell_type": "markdown",
   "metadata": {},
   "source": [
    "The `target` `data` construct maps array sections  _v1[:N]_  and  _v2[:N]_   (arrays  _v1_  and  _v2_  in the Fortran code) into a device data environment. In between  the two `target` regions, the task executing on the host device conditionally  assigns new values to  _v1_  and  _v2_  in the task's data environment. The function `maybe_init_again()`  returns  _true_  if new data is written."
   ]
  },
  {
   "cell_type": "markdown",
   "metadata": {},
   "source": [
    "When the conditional expression (the return value of `maybe_init_again()`) in the  `if` clause is  _true_ , the `target` `update` construct  assigns the new values of  _v1_  and  _v2_  from the task's data environment to the corresponding  mapped array sections in the `target` `data` construct's device data  environment."
   ]
  },
  {
   "cell_type": "markdown",
   "metadata": {},
   "source": [
    ""
   ]
  },
  {
   "cell_type": "code",
   "execution_count": null,
   "metadata": {},
   "outputs": [],
   "source": [
    "//%compiler: clang\n",
 "//%cflags: -fopenmp\n",
 "\n",
    "/*\n",
    "* name: target_update.2c\n",
    "* type: C\n",
    "* version: omp_4.0\n",
    "*/\n",
    "extern void init(float *, float *, int);\n",
    "extern int maybe_init_again(float *, int);\n",
    "extern void output(float *, int);\n",
    "void vec_mult(float *p, float *v1, float *v2, int N)\n",
    "{\n",
    "   int i;\n",
    "   init(v1, v2, N);\n",
    "   #pragma omp target data map(to: v1[:N], v2[:N]) map(from: p[0:N])\n",
    "   {\n",
    "      int changed;\n",
    "      #pragma omp target\n",
    "      #pragma omp parallel for\n",
    "      for (i=0; i<N; i++)\n",
    "        p[i] = v1[i] * v2[i];\n",
    "      changed = maybe_init_again(v1,  N);\n",
    "      #pragma omp target update if (changed) to(v1[:N])\n",
    "      changed = maybe_init_again(v2,  N);\n",
    "      #pragma omp target update if (changed) to(v2[:N])\n",
    "      #pragma omp target\n",
    "      #pragma omp parallel for\n",
    "      for (i=0; i<N; i++)\n",
    "        p[i] = p[i] + (v1[i] * v2[i]);\n",
    "   }\n",
    "   output(p, N);\n",
    "}\n",
    "\n"
   ]
  },
  {
   "cell_type": "markdown",
   "metadata": {},
   "source": [
    ""
   ]
  },
  {
   "cell_type": "markdown",
   "metadata": {},
   "source": [
    ""
   ]
  },
  {
   "cell_type": "code",
   "execution_count": null,
   "metadata": {},
   "outputs": [],
   "source": [
    "\n",
    "! name: target_update.2f\n",
    "! type: F-free\n",
    "! version:     omp_4.0\n",
    "subroutine vec_mult(p, v1, v2, N)\n",
    "   interface\n",
    "      logical function maybe_init_again (v1, N)\n",
    "      real :: v1(N)\n",
    "      integer :: N\n",
    "      end function\n",
    "   end interface\n",
    "   real    ::  p(N), v1(N), v2(N)\n",
    "   integer ::  i\n",
    "   logical :: changed\n",
    "   call init(v1, v2, N)\n",
    "   !$omp target data map(to: v1, v2) map(from: p)\n",
    "      !$omp target\n",
    "         !$omp parallel do\n",
    "         do i=1, N\n",
    "            p(i) = v1(i) * v2(i)\n",
    "         end do\n",
    "      !$omp end target\n",
    "      changed = maybe_init_again(v1, N)\n",
    "      !$omp target update if(changed) to(v1(:N))\n",
    "      changed = maybe_init_again(v2, N)\n",
    "      !$omp target update if(changed) to(v2(:N))\n",
    "      !$omp target\n",
    "         !$omp parallel do\n",
    "         do i=1, N\n",
    "            p(i) = p(i) + v1(i) * v2(i)\n",
    "         end do\n",
    "      !$omp end target\n",
    "   !$omp end target data\n",
    "   call output(p, N)\n",
    "end subroutine\n",
    "\n"
   ]
  },
  {
   "cell_type": "markdown",
   "metadata": {},
   "source": [
    ""
   ]
  },
  {
   "cell_type": "markdown",
   "metadata": {},
   "source": [
    ""
   ]
  }
 ],
 "metadata": {
  "kernelspec": {
   "display_name": "Native",
   "language": "native",
   "name": "native"
  },
  "language_info": {
   "file_extension": ".c",
   "mimetype": "text/plain",
   "name": "none"
  }
 },
 "nbformat": 4,
 "nbformat_minor": 2
}