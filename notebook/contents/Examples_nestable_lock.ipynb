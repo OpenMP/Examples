{
 "cells": [
  {
   "cell_type": "markdown",
   "metadata": {},
   "source": [
    ""
   ]
  },
  {
   "cell_type": "markdown",
   "metadata": {},
   "source": [
    "### Nestable Lock Routines"
   ]
  },
  {
   "cell_type": "markdown",
   "metadata": {},
   "source": [
    ""
   ]
  },
  {
   "cell_type": "markdown",
   "metadata": {},
   "source": [
    "The following example demonstrates how a nestable lock can be used to synchronize  updates both to a whole structure and to one of its members."
   ]
  },
  {
   "cell_type": "markdown",
   "metadata": {},
   "source": [
    ""
   ]
  },
  {
   "cell_type": "code",
   "execution_count": null,
   "metadata": {},
   "outputs": [],
   "source": [
    "//%compiler: clang\n",
 "//%cflags: -fopenmp\n",
 "\n",
    "/*\n",
    "* name: nestable_lock.1c\n",
    "* type: C\n",
    "*/\n",
    "\n",
    "#include <omp.h>\n",
    "\n",
    "typedef struct {\n",
    "   int a,b;\n",
    "   omp_nest_lock_t lck;\n",
    "} pair;\n",
    "\n",
    "int work1();\n",
    "int work2();\n",
    "int work3();\n",
    "\n",
    "void incr_a(pair *p, int a)\n",
    "{\n",
    "\n",
    "  /* Called only from incr_pair, no need to lock. */\n",
    "  p->a += a;\n",
    "\n",
    "}\n",
    "\n",
    "void incr_b(pair *p, int b)\n",
    "{\n",
    "\n",
    "  /* Called both from incr_pair and elsewhere, */\n",
    "  /* so need a nestable lock. */\n",
    "\n",
    "  omp_set_nest_lock(&p->lck);\n",
    "  p->b += b;\n",
    "  omp_unset_nest_lock(&p->lck);\n",
    "\n",
    "}\n",
    "\n",
    "void incr_pair(pair *p, int a, int b)\n",
    "{\n",
    "\n",
    "  omp_set_nest_lock(&p->lck);\n",
    "  incr_a(p, a);\n",
    "  incr_b(p, b);\n",
    "  omp_unset_nest_lock(&p->lck);\n",
    "\n",
    "}\n",
    "\n",
    "void nestlock(pair *p)\n",
    "{\n",
    "\n",
    "  #pragma omp parallel sections\n",
    "  {\n",
    "    #pragma omp section\n",
    "      incr_pair(p, work1(), work2());\n",
    "    #pragma omp section\n",
    "      incr_b(p, work3());\n",
    "  }\n",
    "\n",
    "}\n",
    "\n"
   ]
  },
  {
   "cell_type": "markdown",
   "metadata": {},
   "source": [
    ""
   ]
  },
  {
   "cell_type": "markdown",
   "metadata": {},
   "source": [
    ""
   ]
  },
  {
   "cell_type": "code",
   "execution_count": null,
   "metadata": {},
   "outputs": [],
   "source": [
    "\n",
    "! name: nestable_lock.1f\n",
    "! type: F-fixed\n",
    "      MODULE DATA\n",
    "        USE OMP_LIB, ONLY: OMP_NEST_LOCK_KIND\n",
    "        TYPE LOCKED_PAIR\n",
    "          INTEGER A\n",
    "          INTEGER B\n",
    "          INTEGER (OMP_NEST_LOCK_KIND) LCK\n",
    "       END TYPE\n",
    "      END MODULE DATA\n",
    "\n",
    "      SUBROUTINE INCR_A(P, A)\n",
    "        ! called only from INCR_PAIR, no need to lock\n",
    "        USE DATA\n",
    "        TYPE(LOCKED_PAIR) :: P\n",
    "        INTEGER A\n",
    "        P%A = P%A + A\n",
    "      END SUBROUTINE INCR_A\n",
    "\n",
    "      SUBROUTINE INCR_B(P, B)\n",
    "        ! called from both INCR_PAIR and elsewhere,\n",
    "        ! so we need a nestable lock\n",
    "        USE OMP_LIB       ! or INCLUDE \"omp_lib.h\"\n",
    "        USE DATA\n",
    "        TYPE(LOCKED_PAIR) :: P\n",
    "        INTEGER B\n",
    "        CALL OMP_SET_NEST_LOCK(P%LCK)\n",
    "        P%B = P%B + B\n",
    "        CALL OMP_UNSET_NEST_LOCK(P%LCK)\n",
    "      END SUBROUTINE INCR_B\n",
    "\n",
    "      SUBROUTINE INCR_PAIR(P, A, B)\n",
    "        USE OMP_LIB        ! or INCLUDE \"omp_lib.h\"\n",
    "        USE DATA\n",
    "        TYPE(LOCKED_PAIR) :: P\n",
    "        INTEGER A\n",
    "        INTEGER B\n",
    "\n",
    "        CALL OMP_SET_NEST_LOCK(P%LCK)\n",
    "        CALL INCR_A(P, A)\n",
    "        CALL INCR_B(P, B)\n",
    "        CALL OMP_UNSET_NEST_LOCK(P%LCK)\n",
    "      END SUBROUTINE INCR_PAIR\n",
    "\n",
    "      SUBROUTINE NESTLOCK(P)\n",
    "        USE OMP_LIB        ! or INCLUDE \"omp_lib.h\"\n",
    "        USE DATA\n",
    "        TYPE(LOCKED_PAIR) :: P\n",
    "        INTEGER WORK1, WORK2, WORK3\n",
    "        EXTERNAL WORK1, WORK2, WORK3\n",
    "\n",
    "!$OMP   PARALLEL SECTIONS\n",
    "\n",
    "!$OMP   SECTION\n",
    "          CALL INCR_PAIR(P, WORK1(), WORK2())\n",
    "!$OMP   SECTION\n",
    "          CALL INCR_B(P, WORK3())\n",
    "!$OMP   END PARALLEL SECTIONS\n",
    "\n",
    "      END SUBROUTINE NESTLOCK\n",
    "\n"
   ]
  },
  {
   "cell_type": "markdown",
   "metadata": {},
   "source": [
    ""
   ]
  },
  {
   "cell_type": "markdown",
   "metadata": {},
   "source": [
    ""
   ]
  }
 ],
 "metadata": {
  "kernelspec": {
   "display_name": "Native",
   "language": "native",
   "name": "native"
  },
  "language_info": {
   "file_extension": ".c",
   "mimetype": "text/plain",
   "name": "none"
  }
 },
 "nbformat": 4,
 "nbformat_minor": 2
}