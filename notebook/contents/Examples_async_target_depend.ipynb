{
 "cells": [
  {
   "cell_type": "markdown",
   "metadata": {},
   "source": [
    ""
   ]
  },
  {
   "cell_type": "markdown",
   "metadata": {},
   "source": [
    "## Asynchronous `target` Execution and Dependences"
   ]
  },
  {
   "cell_type": "markdown",
   "metadata": {},
   "source": [
    ""
   ]
  },
  {
   "cell_type": "markdown",
   "metadata": {},
   "source": [
    "Asynchronous execution of a `target` region can be accomplished by creating an explicit task around the `target` region. Examples with explicit tasks are shown at the beginning of this section."
   ]
  },
  {
   "cell_type": "markdown",
   "metadata": {},
   "source": [
    "As of OpenMP 4.5 and beyond the `nowait` clause can be used on the `target` directive for asynchronous execution. Examples with  `nowait` clauses follow the explicit `task` examples."
   ]
  },
  {
   "cell_type": "markdown",
   "metadata": {},
   "source": [
    "This section also shows the use of `depend` clauses to order  executions through dependences."
   ]
  },
  {
   "cell_type": "markdown",
   "metadata": {},
   "source": [
    ""
   ]
  }
 ],
 "metadata": {
  "kernelspec": {
   "display_name": "Native",
   "language": "native",
   "name": "native"
  },
  "language_info": {
   "file_extension": ".c",
   "mimetype": "text/plain",
   "name": "none"
  }
 },
 "nbformat": 4,
 "nbformat_minor": 2
}