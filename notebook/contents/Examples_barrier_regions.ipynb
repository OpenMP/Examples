{
 "cells": [
  {
   "cell_type": "markdown",
   "metadata": {},
   "source": [
    ""
   ]
  },
  {
   "cell_type": "markdown",
   "metadata": {},
   "source": [
    "## Binding of `barrier` Regions"
   ]
  },
  {
   "cell_type": "markdown",
   "metadata": {},
   "source": [
    ""
   ]
  },
  {
   "cell_type": "markdown",
   "metadata": {},
   "source": [
    "The binding rules call for a `barrier` region to bind to the closest enclosing  `parallel` region."
   ]
  },
  {
   "cell_type": "markdown",
   "metadata": {},
   "source": [
    "In the following example, the call from the main program to  _sub2_  is conforming  because the `barrier` region (in  _sub3_ ) binds to the `parallel`  region in  _sub2_ . The call from the main program to  _sub1_  is conforming  because the `barrier` region binds to the `parallel` region in subroutine   _sub2_ ."
   ]
  },
  {
   "cell_type": "markdown",
   "metadata": {},
   "source": [
    "The call from the main program to  _sub3_  is conforming because the `barrier`  region binds to the implicit inactive `parallel` region enclosing the sequential  part. Also note that the `barrier` region in  _sub3_  when called from   _sub2_  only synchronizes the team of threads in the enclosing `parallel`  region and not all the threads created in  _sub1_ ."
   ]
  },
  {
   "cell_type": "markdown",
   "metadata": {},
   "source": [
    ""
   ]
  },
  {
   "cell_type": "code",
   "execution_count": null,
   "metadata": {},
   "outputs": [],
   "source": [
    "//%compiler: clang\n",
 "//%cflags: -fopenmp\n",
 "\n",
    "/*\n",
    "* name: barrier_regions.1c\n",
    "* type: C\n",
    "*/\n",
    "void work(int n) {}\n",
    "\n",
    "void sub3(int n)\n",
    "{\n",
    "  work(n);\n",
    "  #pragma omp barrier\n",
    "  work(n);\n",
    "}\n",
    "\n",
    "void sub2(int k)\n",
    "{\n",
    "  #pragma omp parallel shared(k)\n",
    "    sub3(k);\n",
    "}\n",
    "\n",
    "void sub1(int n)\n",
    "{\n",
    "  int i;\n",
    "  #pragma omp parallel private(i) shared(n)\n",
    "  {\n",
    "    #pragma omp for\n",
    "    for (i=0; i<n; i++)\n",
    "      sub2(i);\n",
    "  }\n",
    "}\n",
    "\n",
    "int main()\n",
    "{\n",
    "  sub1(2);\n",
    "  sub2(2);\n",
    "  sub3(2);\n",
    "  return 0;\n",
    "}\n",
    "\n"
   ]
  },
  {
   "cell_type": "markdown",
   "metadata": {},
   "source": [
    ""
   ]
  },
  {
   "cell_type": "markdown",
   "metadata": {},
   "source": [
    ""
   ]
  },
  {
   "cell_type": "code",
   "execution_count": null,
   "metadata": {},
   "outputs": [],
   "source": [
    "\n",
    "! name: barrier_regions.1f\n",
    "! type: F-fixed\n",
    "      SUBROUTINE WORK(N)\n",
    "        INTEGER N\n",
    "      END SUBROUTINE WORK\n",
    "\n",
    "      SUBROUTINE SUB3(N)\n",
    "      INTEGER N\n",
    "        CALL WORK(N)\n",
    "!$OMP   BARRIER\n",
    "        CALL WORK(N)\n",
    "      END SUBROUTINE SUB3\n",
    "\n",
    "      SUBROUTINE SUB2(K)\n",
    "      INTEGER K\n",
    "!$OMP   PARALLEL SHARED(K)\n",
    "          CALL SUB3(K)\n",
    "!$OMP   END PARALLEL\n",
    "      END SUBROUTINE SUB2\n",
    "\n",
    "\n",
    "      SUBROUTINE SUB1(N)\n",
    "      INTEGER N\n",
    "        INTEGER I\n",
    "!$OMP   PARALLEL PRIVATE(I) SHARED(N)\n",
    "!$OMP     DO\n",
    "          DO I = 1, N\n",
    "            CALL SUB2(I)\n",
    "          END DO\n",
    "!$OMP   END PARALLEL\n",
    "      END SUBROUTINE SUB1\n",
    "\n",
    "      PROGRAM EXAMPLE\n",
    "        CALL SUB1(2)\n",
    "        CALL SUB2(2)\n",
    "        CALL SUB3(2)\n",
    "      END PROGRAM EXAMPLE\n",
    "\n"
   ]
  },
  {
   "cell_type": "markdown",
   "metadata": {},
   "source": [
    ""
   ]
  },
  {
   "cell_type": "markdown",
   "metadata": {},
   "source": [
    ""
   ]
  },
  {
   "cell_type": "markdown",
   "metadata": {},
   "source": [
    ""
   ]
  }
 ],
 "metadata": {
  "kernelspec": {
   "display_name": "Native",
   "language": "native",
   "name": "native"
  },
  "language_info": {
   "file_extension": ".c",
   "mimetype": "text/plain",
   "name": "none"
  }
 },
 "nbformat": 4,
 "nbformat_minor": 2
}