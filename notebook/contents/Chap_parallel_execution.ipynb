{
 "cells": [
  {
   "cell_type": "markdown",
   "metadata": {},
   "source": [
    ""
   ]
  },
  {
   "cell_type": "markdown",
   "metadata": {},
   "source": [
    "# Parallel Execution"
   ]
  },
  {
   "cell_type": "markdown",
   "metadata": {},
   "source": [
    "{parallel_execution}"
   ]
  },
  {
   "cell_type": "markdown",
   "metadata": {},
   "source": [
    "A single thread, the  _initial thread_ , begins sequential execution of  an OpenMP enabled program, as if the whole program is in an implicit parallel region consisting of an implicit task executed by the  _initial thread_ ."
   ]
  },
  {
   "cell_type": "markdown",
   "metadata": {},
   "source": [
    "A `parallel` construct encloses code,  forming a parallel region.  An  _initial thread_  encountering a `parallel`  region forks (creates) a team of threads at the beginning of the  `parallel` region, and joins them (removes from execution) at the  end of the region.  The initial thread becomes the primary thread of the team in a  `parallel` region with a  _thread_  number equal to zero, the other  threads are numbered from 1 to number of threads minus 1.  A team may be comprised of just a single thread."
   ]
  },
  {
   "cell_type": "markdown",
   "metadata": {},
   "source": [
    "Each thread of a team is assigned an implicit task consisting of code within the  parallel region. The task that creates a parallel region is suspended while the tasks of the team are executed.  A thread is tied to its task; that is, only the thread assigned to the task can execute that task.  After completion  of the `parallel` region, the primary thread resumes execution of the generating task."
   ]
  },
  {
   "cell_type": "markdown",
   "metadata": {},
   "source": [
    ""
   ]
  },
  {
   "cell_type": "markdown",
   "metadata": {},
   "source": [
    "Any task within a `parallel` region is allowed to encounter another `parallel` region to form a nested `parallel` region. The  parallelism of a nested `parallel` region (whether it forks additional  threads, or is executed serially by the encountering task) can be controlled by the `OMP_NESTED` environment variable or the `omp_set_nested()`  API routine with arguments indicating true or false."
   ]
  },
  {
   "cell_type": "markdown",
   "metadata": {},
   "source": [
    "The number of threads of a `parallel` region can be set by the `OMP_NUM_THREADS` environment variable, the `omp_set_num_threads()` routine, or on the `parallel`  directive with the `num_threads` clause. The routine overrides the environment variable, and the clause overrides all.  Use the `OMP_DYNAMIC` or the `omp_set_dynamic()` function to specify that the OpenMP implementation dynamically adjust the number of threads for `parallel` regions.  The default setting for dynamic adjustment is implementation defined. When dynamic adjustment is on and the number of threads is specified, the number of threads becomes an upper limit for the number of threads to be provided by the OpenMP runtime."
   ]
  },
  {
   "cell_type": "markdown",
   "metadata": {},
   "source": [
    ""
   ]
  },
  {
   "cell_type": "markdown",
   "metadata": {},
   "source": [
    ""
   ]
  },
  {
   "cell_type": "markdown",
   "metadata": {},
   "source": [
    "WORKSHARING CONSTRUCTS"
   ]
  },
  {
   "cell_type": "markdown",
   "metadata": {},
   "source": [
    "A worksharing construct distributes the execution of the associated region among the members of the team that encounter it.  There is an implied barrier at the end of the worksharing region (there is no barrier at the beginning). The worksharing constructs are:"
   ]
  },
  {
   "cell_type": "markdown",
   "metadata": {},
   "source": [
    ""
   ]
  },
  {
   "cell_type": "markdown",
   "metadata": {},
   "source": [
    ""
   ]
  },
  {
   "cell_type": "markdown",
   "metadata": {},
   "source": [
    "*  loop constructs: {`for` and `do` }"
   ]
  },
  {
   "cell_type": "markdown",
   "metadata": {},
   "source": [
    "*  `sections`"
   ]
  },
  {
   "cell_type": "markdown",
   "metadata": {},
   "source": [
    "*  `single`"
   ]
  },
  {
   "cell_type": "markdown",
   "metadata": {},
   "source": [
    "*  `workshare`"
   ]
  },
  {
   "cell_type": "markdown",
   "metadata": {},
   "source": [
    ""
   ]
  },
  {
   "cell_type": "markdown",
   "metadata": {},
   "source": [
    "The `for` and `do` constructs (loop constructs) create a region  consisting of a loop.  A loop controlled by a loop construct is called  an  _associated_  loop.  Nested loops can form a single region when the  `collapse` clause (with an integer argument) designates the number of   _associated_  loops to be executed in parallel, by forming a  \"single iteration space\" for the specified number of nested loops.   The `ordered` clause can also control multiple associated loops."
   ]
  },
  {
   "cell_type": "markdown",
   "metadata": {},
   "source": [
    "An associated loop must adhere to a \"canonical form\" (specified in the   _Canonical Loop Form_  of the OpenMP Specifications document) which allows the  iteration count (of all associated loops) to be computed before the  (outermost) loop is executed. Most common loops comply with the canonical form, including C++ iterators."
   ]
  },
  {
   "cell_type": "markdown",
   "metadata": {},
   "source": [
    "A `single` construct forms a region in which only one thread (any one  of the team) executes the region.  The other threads wait at the implied  barrier at the end, unless the `nowait` clause is specified."
   ]
  },
  {
   "cell_type": "markdown",
   "metadata": {},
   "source": [
    "The `sections` construct forms a region that contains one or more  structured blocks.  Each block of a `sections` directive is  constructed with a `section` construct, and executed once by  one of the threads (any one) in the team.  (If only one block is  formed in the region, the `section` construct, which is used to separate blocks, is not required.) The other threads wait at the implied  barrier at the end, unless the `nowait` clause is specified."
   ]
  },
  {
   "cell_type": "markdown",
   "metadata": {},
   "source": [
    ""
   ]
  },
  {
   "cell_type": "markdown",
   "metadata": {},
   "source": [
    "The `workshare` construct is a Fortran feature that consists of a region with a single structure block (section of code). Statements in the `workshare` region are divided into units of work, and executed (once) by threads of the team."
   ]
  },
  {
   "cell_type": "markdown",
   "metadata": {},
   "source": [
    ""
   ]
  },
  {
   "cell_type": "markdown",
   "metadata": {},
   "source": [
    ""
   ]
  },
  {
   "cell_type": "markdown",
   "metadata": {},
   "source": [
    "MASKED CONSTRUCT"
   ]
  },
  {
   "cell_type": "markdown",
   "metadata": {},
   "source": [
    "The `masked` construct is not a worksharing construct.  The `masked` region is executed only by the primary thread. There is no implicit barrier (and flush)  at the end of the `masked` region; hence the other threads of the team continue execution beyond code statements beyond the `masked` region. The `master` construct, which has been deprecated in OpenMP 5.1, has identical semantics to the `masked` construct with no `filter` clause."
   ]
  },
  {
   "cell_type": "markdown",
   "metadata": {},
   "source": [
    ""
   ]
  },
  {
   "cell_type": "markdown",
   "metadata": {},
   "source": [
    ""
   ]
  },
  {
   "cell_type": "markdown",
   "metadata": {},
   "source": [
    ""
   ]
  },
  {
   "cell_type": "markdown",
   "metadata": {},
   "source": [
    "## A Simple Parallel Loop"
   ]
  },
  {
   "cell_type": "markdown",
   "metadata": {},
   "source": [
    "\index{combined constructs!parallel worksharing-loop} \index{constructs!parallel@`parallel`} \index{parallel construct@`parallel` construct} \index{worksharing-loop constructs!for@`for`} \index{worksharing-loop constructs!do@`do`} \index{constructs!for@`for`} \index{constructs!do@`do`} \index{for construct@`for` construct} \index{do construct@`do` construct}"
   ]
  },
  {
   "cell_type": "markdown",
   "metadata": {},
   "source": [
    "The following example demonstrates how to parallelize a simple loop  using the parallel worksharing-loop construct. The loop iteration variable is private by default, so it is not  necessary to specify it explicitly in a `private` clause."
   ]
  },
  {
   "cell_type": "markdown",
   "metadata": {},
   "source": [
    ""
   ]
  },
  {
   "cell_type": "code",
   "execution_count": null,
   "metadata": {},
   "outputs": [],
   "source": [
    "//%compiler: clang\n",
 "//%cflags: -fopenmp\n",
 "\n",
    "/*\n",
    "* name: ploop.1\n",
    "* type: C\n",
    "*/\n",
    "void simple(int n, float *a, float *b)\n",
    "{\n",
    "    int i;\n",
    "\n",
    "#pragma omp parallel for\n",
    "    for (i=1; i<n; i++) /* i is private by default */\n",
    "        b[i] = (a[i] + a[i-1]) / 2.0;\n",
    "}\n",
    "\n"
   ]
  },
  {
   "cell_type": "markdown",
   "metadata": {},
   "source": [
    ""
   ]
  },
  {
   "cell_type": "markdown",
   "metadata": {},
   "source": [
    ""
   ]
  },
  {
   "cell_type": "code",
   "execution_count": null,
   "metadata": {},
   "outputs": [],
   "source": [
    "\n",
    "! name: ploop.1\n",
    "! type: F-fixed\n",
    "      SUBROUTINE SIMPLE(N, A, B)\n",
    "\n",
    "      INTEGER I, N\n",
    "      REAL B(N), A(N)\n",
    "\n",
    "!$OMP PARALLEL DO  !I is private by default\n",
    "      DO I=2,N\n",
    "          B(I) = (A(I) + A(I-1)) / 2.0\n",
    "      ENDDO\n",
    "!$OMP END PARALLEL DO\n",
    "\n",
    "      END SUBROUTINE SIMPLE\n",
    "\n"
   ]
  },
  {
   "cell_type": "markdown",
   "metadata": {},
   "source": [
    ""
   ]
  },
  {
   "cell_type": "markdown",
   "metadata": {},
   "source": [
    "../../parallel_execution/ploop.tex"
   ]
  },
  {
   "cell_type": "markdown",
   "metadata": {},
   "source": [
    ""
   ]
  },
  {
   "cell_type": "markdown",
   "metadata": {},
   "source": [
    "## `parallel` Construct"
   ]
  },
  {
   "cell_type": "markdown",
   "metadata": {},
   "source": [
    "\index{constructs!parallel@`parallel`} \index{parallel construct@`parallel` construct}"
   ]
  },
  {
   "cell_type": "markdown",
   "metadata": {},
   "source": [
    "The `parallel` construct  can be used in coarse-grain parallel programs.  In the following example, each thread in the `parallel` region decides what  part of the global array  _x_  to work on, based on the thread number:"
   ]
  },
  {
   "cell_type": "markdown",
   "metadata": {},
   "source": [
    ""
   ]
  },
  {
   "cell_type": "code",
   "execution_count": null,
   "metadata": {},
   "outputs": [],
   "source": [
    "//%compiler: clang\n",
 "//%cflags: -fopenmp\n",
 "\n",
    "/*\n",
    "* name: parallel.1\n",
    "* type: C\n",
    "*/\n",
    "#include <omp.h>\n",
    "\n",
    "void subdomain(float *x, int istart, int ipoints)\n",
    "{\n",
    "  int i;\n",
    "\n",
    "  for (i = 0; i < ipoints; i++)\n",
    "      x[istart+i] = 123.456;\n",
    "}\n",
    "\n",
    "void sub(float *x, int npoints)\n",
    "{\n",
    "    int iam, nt, ipoints, istart;\n",
    "\n",
    "#pragma omp parallel default(shared) private(iam,nt,ipoints,istart)\n",
    "    {\n",
    "        iam = omp_get_thread_num();\n",
    "        nt =  omp_get_num_threads();\n",
    "        ipoints = npoints / nt;    /* size of partition */\n",
    "        istart = iam * ipoints;  /* starting array index */\n",
    "        if (iam == nt-1)     /* last thread may do more */\n",
    "          ipoints = npoints - istart;\n",
    "        subdomain(x, istart, ipoints);\n",
    "    }\n",
    "}\n",
    "\n",
    "int main()\n",
    "{\n",
    "    float array[10000];\n",
    "\n",
    "    sub(array, 10000);\n",
    "\n",
    "    return 0;\n",
    "}\n",
    "\n"
   ]
  },
  {
   "cell_type": "markdown",
   "metadata": {},
   "source": [
    ""
   ]
  },
  {
   "cell_type": "markdown",
   "metadata": {},
   "source": [
    ""
   ]
  },
  {
   "cell_type": "code",
   "execution_count": null,
   "metadata": {},
   "outputs": [],
   "source": [
    "\n",
    "! name: parallel.1\n",
    "! type: F-fixed\n",
    "      SUBROUTINE SUBDOMAIN(X, ISTART, IPOINTS)\n",
    "          INTEGER ISTART, IPOINTS\n",
    "          REAL X(*)\n",
    "\n",
    "          INTEGER I\n",
    "\n",
    "          DO 100 I=1,IPOINTS\n",
    "             X(ISTART+I) = 123.456\n",
    " 100      CONTINUE\n",
    "\n",
    "      END SUBROUTINE SUBDOMAIN\n",
    "\n",
    "      SUBROUTINE SUB(X, NPOINTS)\n",
    "          INCLUDE \"omp_lib.h\"     ! or USE OMP_LIB\n",
    "\n",
    "          REAL X(*)\n",
    "          INTEGER NPOINTS\n",
    "          INTEGER IAM, NT, IPOINTS, ISTART\n",
    "\n",
    "!$OMP PARALLEL DEFAULT(PRIVATE) SHARED(X,NPOINTS)\n",
    "\n",
    "          IAM = OMP_GET_THREAD_NUM()\n",
    "          NT =  OMP_GET_NUM_THREADS()\n",
    "          IPOINTS = NPOINTS/NT\n",
    "          ISTART = IAM * IPOINTS\n",
    "          IF (IAM .EQ. NT-1) THEN\n",
    "              IPOINTS = NPOINTS - ISTART\n",
    "          ENDIF\n",
    "          CALL SUBDOMAIN(X,ISTART,IPOINTS)\n",
    "\n",
    "!$OMP END PARALLEL\n",
    "      END SUBROUTINE SUB\n",
    "\n",
    "      PROGRAM PAREXAMPLE\n",
    "          REAL ARRAY(10000)\n",
    "          CALL SUB(ARRAY, 10000)\n",
    "      END PROGRAM PAREXAMPLE\n",
    "\n"
   ]
  },
  {
   "cell_type": "markdown",
   "metadata": {},
   "source": [
    ""
   ]
  },
  {
   "cell_type": "markdown",
   "metadata": {},
   "source": [
    "../../parallel_execution/parallel.tex"
   ]
  },
  {
   "cell_type": "markdown",
   "metadata": {},
   "source": [
    ""
   ]
  },
  {
   "cell_type": "markdown",
   "metadata": {},
   "source": [
    "## `teams` Construct on Host"
   ]
  },
  {
   "cell_type": "markdown",
   "metadata": {},
   "source": [
    "\index{constructs!teams@`teams`} \index{teams construct@`teams` construct}"
   ]
  },
  {
   "cell_type": "markdown",
   "metadata": {},
   "source": [
    "Originally the `teams` construct was created for devices (such as GPUs) for independent executions of a structured block by teams within a league (on SMs). It was only available through offloading with the `target` construct, and the execution of a `teams` region could only be directed to host execution by various means such as `if` and `device` clauses, and the `OMP_TARGET_OFFLOAD` environment variable."
   ]
  },
  {
   "cell_type": "markdown",
   "metadata": {},
   "source": [
    "In OpenMP 5.0 the `teams` construct was extended to enable the host to execute a `teams` region (without an associated `target` construct),  with anticipation of further affinity and threading controls in future OpenMP releases."
   ]
  },
  {
   "cell_type": "markdown",
   "metadata": {},
   "source": [
    "In the example below the `teams` construct is used to create two teams, one to execute single precision code, and the other to execute double precision code. Two teams are required, and the thread limit for each team is set to 1/2 of the number of  available processors."
   ]
  },
  {
   "cell_type": "markdown",
   "metadata": {},
   "source": [
    ""
   ]
  },
  {
   "cell_type": "code",
   "execution_count": null,
   "metadata": {},
   "outputs": [],
   "source": [
    "//%compiler: clang\n",
 "//%cflags: -fopenmp\n",
 "\n",
    "/*\n",
    "* name: host_teams.1\n",
    "* type: C\n",
    "* version: omp_5.0\n",
    "*/\n",
    "#include <stdio.h>\n",
    "#include <stdlib.h>\n",
    "#include  <math.h>\n",
    "#include   <omp.h>\n",
    "#define    N 1000\n",
    "\n",
    "int main(){\n",
    "   int     nteams_required=2, max_thrds, tm_id;\n",
    "   float   sp_x[N], sp_y[N], sp_a=0.0001e0;\n",
    "   double  dp_x[N], dp_y[N], dp_a=0.0001e0;\n",
    "\n",
    "   max_thrds = omp_get_num_procs()/nteams_required;\n",
    "\n",
    "   // Create 2 teams, each team works in a different precision\n",
    "   #pragma omp teams num_teams(nteams_required) \\\n",
    "                     thread_limit(max_thrds)  private(tm_id)\n",
    "   {\n",
    "      tm_id = omp_get_team_num();\n",
    "\n",
    "      if( omp_get_num_teams() != 2 )   //if only getting 1, quit\n",
    "      { printf(\"error: Insufficient teams on host, 2 required\\n\");\n",
    "        exit(0);\n",
    "      }\n",
    "\n",
    "      if(tm_id == 0)  // Do Single Precision Work (SAXPY) with this team\n",
    "      {\n",
    "         #pragma omp parallel\n",
    "         {\n",
    "            #pragma omp for                             //init\n",
    "            for(int i=0; i<N; i++){sp_x[i] = i*0.0001;  sp_y[i]=i; }\n",
    "\n",
    "            #pragma omp for simd simdlen(8)\n",
    "            for(int i=0; i<N; i++){sp_x[i] = sp_a*sp_x[i] + sp_y[i];}\n",
    "         }\n",
    "      }\n",
    "\n",
    "      if(tm_id == 1)  // Do Double Precision Work (DAXPY) with this team\n",
    "      {\n",
    "         #pragma omp parallel\n",
    "         {\n",
    "            #pragma omp for                             //init\n",
    "            for(int i=0; i<N; i++){dp_x[i] = i*0.0001;  dp_y[i]=i; }\n",
    "\n",
    "            #pragma omp for simd simdlen(4)\n",
    "            for(int i=0; i<N; i++){dp_x[i] = dp_a*dp_x[i] + dp_y[i];}\n",
    "         }\n",
    "      }\n",
    "   }\n",
    "\n",
    "   printf(\"i=%d  sp|dp  %f %f \\n\",N-1, sp_x[N-1], dp_x[N-1]);\n",
    "   printf(\"i=%d  sp|dp  %f %f \\n\",N/2, sp_x[N/2], dp_x[N/2]);\n",
    " //OUTPUT1:i=999  sp|dp  999.000000 999.000010\n",
    " //OUTPUT2:i=500  sp|dp  500.000000 500.000005\n",
    "\n",
    "   return 0;\n",
    "}\n",
    "\n"
   ]
  },
  {
   "cell_type": "markdown",
   "metadata": {},
   "source": [
    ""
   ]
  },
  {
   "cell_type": "markdown",
   "metadata": {},
   "source": [
    ""
   ]
  },
  {
   "cell_type": "code",
   "execution_count": null,
   "metadata": {},
   "outputs": [],
   "source": [
    "\n",
    "! name: host_teams.1\n",
    "! type: F-free\n",
    "! version: omp_5.0\n",
    "\n",
    "program main\n",
    "   use omp_lib\n",
    "   integer           :: nteams_required=2, max_thrds, tm_id\n",
    "   integer,parameter ::  N=1000\n",
    "   real              :: sp_x(N), sp_y(N), sp_a=0.0001e0\n",
    "   double precision  :: dp_x(N), dp_y(N), dp_a=0.0001d0\n",
    "\n",
    "   max_thrds = omp_get_num_procs()/nteams_required\n",
    "\n",
    "   !! Create 2 teams, each team works in a different precision\n",
    "   !$omp teams num_teams(nteams_required) thread_limit(max_thrds) \\\n",
    "               private(tm_id)\n",
    "\n",
    "      tm_id = omp_get_team_num()\n",
    "\n",
    "      if( omp_get_num_teams() /= 2 ) then   !! if only getting 1, quit\n",
    "         stop \"error: Insufficient teams on host, 2 required.\"\n",
    "      endif\n",
    "\n",
    "      !! Do Single Precision Work (SAXPY) with this team\n",
    "      if(tm_id == 0) then\n",
    "\n",
    "         !$omp parallel\n",
    "            !$omp do         !! init\n",
    "            do i = 1,N\n",
    "               sp_x(i) = i*0.0001e0\n",
    "               sp_y(i) = i\n",
    "            end do\n",
    "\n",
    "            !$omp do simd simdlen(8)\n",
    "            do i = 1,N\n",
    "               sp_x(i) = sp_a*sp_x(i) + sp_y(i)\n",
    "            end do\n",
    "         !$omp end parallel\n",
    "\n",
    "      endif\n",
    "\n",
    "      !! Do Double Precision Work (DAXPY) with this team\n",
    "      if(tm_id == 1) then\n",
    "\n",
    "         !$omp parallel\n",
    "            !$omp do         !! init\n",
    "            do i = 1,N\n",
    "               dp_x(i) = i*0.0001d0\n",
    "               dp_y(i) = i\n",
    "            end do\n",
    "\n",
    "            !$omp do simd simdlen(4)\n",
    "            do i = 1,N\n",
    "               dp_x(i) = dp_a*dp_x(i) + dp_y(i)\n",
    "            end do\n",
    "         !$omp end parallel\n",
    "\n",
    "      endif\n",
    "   !$omp end teams\n",
    "\n",
    "   write(*,'( \"i=\",i4,\" sp|dp= \", e15.7, d25.16  )') &\n",
    "            N, sp_x(N), dp_x(N)\n",
    "   write(*,'( \"i=\",i4,\" sp|dp= \", e15.7, d25.16  )') &\n",
    "            N/2, sp_x(N/2), dp_x(N/2)\n",
    "            !! i=1000 sp|dp=   0.1000000E+04   0.1000000010000000D+04\n",
    "            !! i= 500 sp|dp=   0.5000000E+03   0.5000000050000000D+03\n",
    "end program\n",
    "\n"
   ]
  },
  {
   "cell_type": "markdown",
   "metadata": {},
   "source": [
    ""
   ]
  },
  {
   "cell_type": "markdown",
   "metadata": {},
   "source": [
    "../../parallel_execution/host_teams.tex"
   ]
  },
  {
   "cell_type": "markdown",
   "metadata": {},
   "source": [
    ""
   ]
  },
  {
   "cell_type": "markdown",
   "metadata": {},
   "source": [
    "## Controlling the Number of Threads on Multiple Nesting Levels"
   ]
  },
  {
   "cell_type": "markdown",
   "metadata": {},
   "source": [
    "\index{environment variables!OMP_NUM_THREADS@\scode{OMP_NUM_THREADS}} \index{OMP_NUM_THREADS@\scode{OMP_NUM_THREADS}}"
   ]
  },
  {
   "cell_type": "markdown",
   "metadata": {},
   "source": [
    "The following examples demonstrate how to use the `OMP_NUM_THREADS` environment  variable  to control the number of threads on multiple nesting levels:"
   ]
  },
  {
   "cell_type": "markdown",
   "metadata": {},
   "source": [
    ""
   ]
  },
  {
   "cell_type": "code",
   "execution_count": null,
   "metadata": {},
   "outputs": [],
   "source": [
    "//%compiler: clang\n",
 "//%cflags: -fopenmp\n",
 "\n",
    "/*\n",
    "* name: nthrs_nesting.1\n",
    "* type: C\n",
    "*/\n",
    "#include <stdio.h>\n",
    "#include <omp.h>\n",
    "int main (void)\n",
    "{\n",
    "   omp_set_nested(1);\n",
    "   omp_set_dynamic(0);\n",
    "   #pragma omp parallel\n",
    "   {\n",
    "      #pragma omp parallel\n",
    "      {\n",
    "         #pragma omp single\n",
    "         {\n",
    "         /*\n",
    "         * If OMP_NUM_THREADS=2,3 was set, the following should print:\n",
    "         * Inner: num_thds=3\n",
    "         * Inner: num_thds=3\n",
    "         *\n",
    "         * If nesting is not supported, the following should print:\n",
    "         * Inner: num_thds=1\n",
    "         * Inner: num_thds=1\n",
    "         */\n",
    "            printf (\"Inner: num_thds=%d\\n\", omp_get_num_threads());\n",
    "         }\n",
    "      }\n",
    "      #pragma omp barrier\n",
    "      omp_set_nested(0);\n",
    "      #pragma omp parallel\n",
    "      {\n",
    "         #pragma omp single\n",
    "         {\n",
    "         /*\n",
    "         * Even if OMP_NUM_THREADS=2,3 was set, the following should\n",
    "         * print, because nesting is disabled:\n",
    "         * Inner: num_thds=1\n",
    "         * Inner: num_thds=1\n",
    "         */\n",
    "            printf (\"Inner: num_thds=%d\\n\", omp_get_num_threads());\n",
    "         }\n",
    "      }\n",
    "      #pragma omp barrier\n",
    "      #pragma omp single\n",
    "      {\n",
    "         /*\n",
    "         * If OMP_NUM_THREADS=2,3 was set, the following should print:\n",
    "         * Outer: num_thds=2\n",
    "         */\n",
    "         printf (\"Outer: num_thds=%d\\n\", omp_get_num_threads());\n",
    "      }\n",
    "   }\n",
    "   return 0;\n",
    "}\n",
    "\n"
   ]
  },
  {
   "cell_type": "markdown",
   "metadata": {},
   "source": [
    ""
   ]
  },
  {
   "cell_type": "markdown",
   "metadata": {},
   "source": [
    ""
   ]
  },
  {
   "cell_type": "code",
   "execution_count": null,
   "metadata": {},
   "outputs": [],
   "source": [
    "\n",
    "! name: nthrs_nesting.1\n",
    "! type: F-fixed\n",
    " program icv\n",
    " use omp_lib\n",
    " call omp_set_nested(.true.)\n",
    " call omp_set_dynamic(.false.)\n",
    "!$omp parallel\n",
    "!$omp parallel\n",
    "!$omp single\n",
    " ! If OMP_NUM_THREADS=2,3 was set, the following should print:\n",
    " ! Inner: num_thds= 3\n",
    " ! Inner: num_thds= 3\n",
    " ! If nesting is not supported, the following should print:\n",
    " ! Inner: num_thds= 1\n",
    " ! Inner: num_thds= 1\n",
    " print *, \"Inner: num_thds=\", omp_get_num_threads()\n",
    "!$omp end single\n",
    "!$omp end parallel\n",
    "!$omp barrier\n",
    " call omp_set_nested(.false.)\n",
    "!$omp parallel\n",
    "!$omp single\n",
    " ! Even if OMP_NUM_THREADS=2,3 was set, the following should print,\n",
    " ! because nesting is disabled:\n",
    " ! Inner: num_thds= 1\n",
    " ! Inner: num_thds= 1\n",
    " print *, \"Inner: num_thds=\", omp_get_num_threads()\n",
    "!$omp end single\n",
    "!$omp end parallel\n",
    "!$omp barrier\n",
    "!$omp single\n",
    " ! If OMP_NUM_THREADS=2,3 was set, the following should print:\n",
    " ! Outer: num_thds= 2\n",
    " print *, \"Outer: num_thds=\", omp_get_num_threads()\n",
    "!$omp end single\n",
    "!$omp end parallel\n",
    " end\n",
    "\n"
   ]
  },
  {
   "cell_type": "markdown",
   "metadata": {},
   "source": [
    ""
   ]
  },
  {
   "cell_type": "markdown",
   "metadata": {},
   "source": [
    ""
   ]
  },
  {
   "cell_type": "markdown",
   "metadata": {},
   "source": [
    "../../parallel_execution/nthrs_nesting.tex"
   ]
  },
  {
   "cell_type": "markdown",
   "metadata": {},
   "source": [
    ""
   ]
  },
  {
   "cell_type": "markdown",
   "metadata": {},
   "source": [
    "## Interaction Between the `num_threads` Clause and `omp_set_dynamic`"
   ]
  },
  {
   "cell_type": "markdown",
   "metadata": {},
   "source": [
    "\index{clauses!num_threads@\scode{num_threads}} \index{num_threads clause@\scode{num_threads} clause} \index{routines!omp_set_dynamic@\scode{omp_set_dynamic}} \index{omp_set_dynamic routine@\scode{omp_set_dynamic} routine}"
   ]
  },
  {
   "cell_type": "markdown",
   "metadata": {},
   "source": [
    "The following example demonstrates the `num_threads` clause  and the effect  of the  `omp_set_dynamic` routine  on it."
   ]
  },
  {
   "cell_type": "markdown",
   "metadata": {},
   "source": [
    "The call to the `omp_set_dynamic` routine with argument `0` in  C/C++, or `.FALSE.` in Fortran, disables the dynamic adjustment of the number  of threads in OpenMP implementations that support it. In this case, 10 threads  are provided. Note that in case of an error the OpenMP implementation is free to  abort the program or to supply any number of threads available."
   ]
  },
  {
   "cell_type": "markdown",
   "metadata": {},
   "source": [
    ""
   ]
  },
  {
   "cell_type": "code",
   "execution_count": null,
   "metadata": {},
   "outputs": [],
   "source": [
    "//%compiler: clang\n",
 "//%cflags: -fopenmp\n",
 "\n",
    "/*\n",
    "* name: nthrs_dynamic.1\n",
    "* type: C\n",
    "*/\n",
    "#include <omp.h>\n",
    "int main()\n",
    "{\n",
    "  omp_set_dynamic(0);\n",
    "  #pragma omp parallel num_threads(10)\n",
    "  {\n",
    "    /* do work here */\n",
    "  }\n",
    "  return 0;\n",
    "}\n",
    "\n"
   ]
  },
  {
   "cell_type": "markdown",
   "metadata": {},
   "source": [
    ""
   ]
  },
  {
   "cell_type": "markdown",
   "metadata": {},
   "source": [
    ""
   ]
  },
  {
   "cell_type": "code",
   "execution_count": null,
   "metadata": {},
   "outputs": [],
   "source": [
    "\n",
    "! name: nthrs_dynamic.1\n",
    "! type: F-fixed\n",
    "      PROGRAM EXAMPLE\n",
    "        INCLUDE \"omp_lib.h\"      ! or USE OMP_LIB\n",
    "        CALL OMP_SET_DYNAMIC(.FALSE.)\n",
    "!$OMP     PARALLEL NUM_THREADS(10)\n",
    "            ! do work here\n",
    "!$OMP     END PARALLEL\n",
    "      END PROGRAM EXAMPLE\n",
    "\n"
   ]
  },
  {
   "cell_type": "markdown",
   "metadata": {},
   "source": [
    ""
   ]
  },
  {
   "cell_type": "markdown",
   "metadata": {},
   "source": [
    "The call to the `omp_set_dynamic` routine with a non-zero argument in  C/C++, or `.TRUE.` in Fortran, allows the OpenMP implementation to choose  any number of threads between 1 and 10."
   ]
  },
  {
   "cell_type": "markdown",
   "metadata": {},
   "source": [
    ""
   ]
  },
  {
   "cell_type": "code",
   "execution_count": null,
   "metadata": {},
   "outputs": [],
   "source": [
    "//%compiler: clang\n",
 "//%cflags: -fopenmp\n",
 "\n",
    "/*\n",
    "* name: nthrs_dynamic.2\n",
    "* type: C\n",
    "*/\n",
    "#include <omp.h>\n",
    "int main()\n",
    "{\n",
    "  omp_set_dynamic(1);\n",
    "  #pragma omp parallel num_threads(10)\n",
    "  {\n",
    "    /* do work here */\n",
    "  }\n",
    "  return 0;\n",
    "}\n",
    "\n"
   ]
  },
  {
   "cell_type": "markdown",
   "metadata": {},
   "source": [
    ""
   ]
  },
  {
   "cell_type": "markdown",
   "metadata": {},
   "source": [
    ""
   ]
  },
  {
   "cell_type": "code",
   "execution_count": null,
   "metadata": {},
   "outputs": [],
   "source": [
    "\n",
    "! name: nthrs_dynamic.2\n",
    "! type: F-fixed\n",
    "      PROGRAM EXAMPLE\n",
    "        INCLUDE \"omp_lib.h\"      ! or USE OMP_LIB\n",
    "        CALL OMP_SET_DYNAMIC(.TRUE.)\n",
    "!$OMP     PARALLEL NUM_THREADS(10)\n",
    "            ! do work here\n",
    "!$OMP     END PARALLEL\n",
    "      END PROGRAM EXAMPLE\n",
    "\n"
   ]
  },
  {
   "cell_type": "markdown",
   "metadata": {},
   "source": [
    ""
   ]
  },
  {
   "cell_type": "markdown",
   "metadata": {},
   "source": [
    "It is good practice to set the  _dyn-var_  ICV explicitly by calling the `omp_set_dynamic`  routine, as its default setting is implementation defined."
   ]
  },
  {
   "cell_type": "markdown",
   "metadata": {},
   "source": [
    ""
   ]
  },
  {
   "cell_type": "markdown",
   "metadata": {},
   "source": [
    "../../parallel_execution/nthrs_dynamic.tex"
   ]
  },
  {
   "cell_type": "markdown",
   "metadata": {},
   "source": [
    ""
   ]
  },
  {
   "cell_type": "markdown",
   "metadata": {},
   "source": [
    "## Fortran Restrictions on the `do` Construct"
   ]
  },
  {
   "cell_type": "markdown",
   "metadata": {},
   "source": [
    "\index{constructs!do@`do`} \index{do construct@`do` construct}"
   ]
  },
  {
   "cell_type": "markdown",
   "metadata": {},
   "source": [
    "If an `end do` directive follows a  _do-construct_   in which several  `DO` statements share a `DO` termination statement, then a  `do`  directive can only be specified for the outermost of these `DO` statements.  The following example contains correct usages of loop constructs:"
   ]
  },
  {
   "cell_type": "markdown",
   "metadata": {},
   "source": [
    ""
   ]
  },
  {
   "cell_type": "code",
   "execution_count": null,
   "metadata": {},
   "outputs": [],
   "source": [
    "\n",
    "! name: fort_do.1\n",
    "! type: F-fixed\n",
    "      SUBROUTINE WORK(I, J)\n",
    "      INTEGER I,J\n",
    "      END SUBROUTINE WORK\n",
    "\n",
    "      SUBROUTINE DO_GOOD()\n",
    "        INTEGER I, J\n",
    "        REAL A(1000)\n",
    "\n",
    "        DO 100 I = 1,10\n",
    "!$OMP     DO\n",
    "          DO 100 J = 1,10\n",
    "            CALL WORK(I,J)\n",
    "100     CONTINUE      !  !$OMP ENDDO implied here\n",
    "\n",
    "!$OMP   DO\n",
    "        DO 200 J = 1,10\n",
    "200       A(I) = I + 1\n",
    "!$OMP   ENDDO\n",
    "\n",
    "!$OMP   DO\n",
    "        DO 300 I = 1,10\n",
    "          DO 300 J = 1,10\n",
    "            CALL WORK(I,J)\n",
    "300     CONTINUE\n",
    "!$OMP   ENDDO\n",
    "      END SUBROUTINE DO_GOOD\n",
    "\n"
   ]
  },
  {
   "cell_type": "markdown",
   "metadata": {},
   "source": [
    ""
   ]
  },
  {
   "cell_type": "markdown",
   "metadata": {},
   "source": [
    "The following example is non-conforming because the matching `do` directive  for the `end do` does not precede the outermost loop:"
   ]
  },
  {
   "cell_type": "markdown",
   "metadata": {},
   "source": [
    ""
   ]
  },
  {
   "cell_type": "code",
   "execution_count": null,
   "metadata": {},
   "outputs": [],
   "source": [
    "\n",
    "! name: fort_do.2\n",
    "! type: F-fixed\n",
    "      SUBROUTINE WORK(I, J)\n",
    "      INTEGER I,J\n",
    "      END SUBROUTINE WORK\n",
    "\n",
    "      SUBROUTINE DO_WRONG\n",
    "        INTEGER I, J\n",
    "\n",
    "        DO 100 I = 1,10\n",
    "!$OMP     DO\n",
    "          DO 100 J = 1,10\n",
    "            CALL WORK(I,J)\n",
    "100     CONTINUE\n",
    "!$OMP   ENDDO\n",
    "      END SUBROUTINE DO_WRONG\n",
    "\n"
   ]
  },
  {
   "cell_type": "markdown",
   "metadata": {},
   "source": [
    ""
   ]
  },
  {
   "cell_type": "markdown",
   "metadata": {},
   "source": [
    ""
   ]
  },
  {
   "cell_type": "markdown",
   "metadata": {},
   "source": [
    "../../parallel_execution/fort_do.tex"
   ]
  },
  {
   "cell_type": "markdown",
   "metadata": {},
   "source": [
    ""
   ]
  },
  {
   "cell_type": "markdown",
   "metadata": {},
   "source": [
    "## `nowait` Clause"
   ]
  },
  {
   "cell_type": "markdown",
   "metadata": {},
   "source": [
    "\index{clauses!nowait@`nowait`} \index{nowait clause@`nowait` clause}"
   ]
  },
  {
   "cell_type": "markdown",
   "metadata": {},
   "source": [
    "If there are multiple independent loops within a `parallel` region, you  can use the `nowait` clause to avoid the implied barrier at the end of the  loop construct, as follows:"
   ]
  },
  {
   "cell_type": "markdown",
   "metadata": {},
   "source": [
    ""
   ]
  },
  {
   "cell_type": "code",
   "execution_count": null,
   "metadata": {},
   "outputs": [],
   "source": [
    "//%compiler: clang\n",
 "//%cflags: -fopenmp\n",
 "\n",
    "/*\n",
    "* name: nowait.1\n",
    "* type: C\n",
    "*/\n",
    "#include <math.h>\n",
    "\n",
    "void nowait_example(int n, int m, float *a, float *b, float *y, float *z)\n",
    "{\n",
    "  int i;\n",
    "  #pragma omp parallel\n",
    "  {\n",
    "    #pragma omp for nowait\n",
    "      for (i=1; i<n; i++)\n",
    "        b[i] = (a[i] + a[i-1]) / 2.0;\n",
    "\n",
    "    #pragma omp for nowait\n",
    "      for (i=0; i<m; i++)\n",
    "        y[i] = sqrt(z[i]);\n",
    "  }\n",
    "}\n",
    "\n"
   ]
  },
  {
   "cell_type": "markdown",
   "metadata": {},
   "source": [
    ""
   ]
  },
  {
   "cell_type": "markdown",
   "metadata": {},
   "source": [
    ""
   ]
  },
  {
   "cell_type": "code",
   "execution_count": null,
   "metadata": {},
   "outputs": [],
   "source": [
    "\n",
    "! name: nowait.1\n",
    "! type: F-fixed\n",
    "        SUBROUTINE NOWAIT_EXAMPLE(N, M, A, B, Y, Z)\n",
    "\n",
    "        INTEGER N, M\n",
    "        REAL A(*), B(*), Y(*), Z(*)\n",
    "\n",
    "        INTEGER I\n",
    "\n",
    "!$OMP PARALLEL\n",
    "\n",
    "!$OMP DO\n",
    "        DO I=2,N\n",
    "          B(I) = (A(I) + A(I-1)) / 2.0\n",
    "        ENDDO\n",
    "!$OMP END DO NOWAIT\n",
    "\n",
    "!$OMP DO\n",
    "        DO I=1,M\n",
    "          Y(I) = SQRT(Z(I))\n",
    "        ENDDO\n",
    "!$OMP END DO NOWAIT\n",
    "\n",
    "!$OMP END PARALLEL\n",
    "\n",
    "        END SUBROUTINE NOWAIT_EXAMPLE\n",
    "\n"
   ]
  },
  {
   "cell_type": "markdown",
   "metadata": {},
   "source": [
    ""
   ]
  },
  {
   "cell_type": "markdown",
   "metadata": {},
   "source": [
    "\index{loop scheduling!static} \index{static scheduling} In the following example, static scheduling distributes the same logical iteration  numbers to the threads that execute the three loop regions. This allows the `nowait`  clause to be used, even though there is a data dependence between the loops. The  dependence is satisfied as long the same thread executes the same logical iteration  numbers in each loop."
   ]
  },
  {
   "cell_type": "markdown",
   "metadata": {},
   "source": [
    "Note that the iteration count of the loops must be the same. The example satisfies  this requirement, since the iteration space of the first two loops is from `0`  to `n-1` (from `1` to `N` in the Fortran version), while the  iteration space of the last loop is from `1` to `n` (`2` to  `N+1` in the Fortran version)."
   ]
  },
  {
   "cell_type": "markdown",
   "metadata": {},
   "source": [
    ""
   ]
  },
  {
   "cell_type": "code",
   "execution_count": null,
   "metadata": {},
   "outputs": [],
   "source": [
    "//%compiler: clang\n",
 "//%cflags: -fopenmp\n",
 "\n",
    "/*\n",
    "* name: nowait.2\n",
    "* type: C\n",
    "*/\n",
    "\n",
    "#include <math.h>\n",
    "void nowait_example2(int n, float *a, float *b, float *c, float *y, float\n",
    "*z)\n",
    "{\n",
    "   int i;\n",
    "#pragma omp parallel\n",
    "   {\n",
    "#pragma omp for schedule(static) nowait\n",
    "   for (i=0; i<n; i++)\n",
    "      c[i] = (a[i] + b[i]) / 2.0f;\n",
    "#pragma omp for schedule(static) nowait\n",
    "   for (i=0; i<n; i++)\n",
    "      z[i] = sqrtf(c[i]);\n",
    "#pragma omp for schedule(static) nowait\n",
    "   for (i=1; i<=n; i++)\n",
    "      y[i] = z[i-1] + a[i];\n",
    "   }\n",
    "}\n",
    "\n"
   ]
  },
  {
   "cell_type": "markdown",
   "metadata": {},
   "source": [
    ""
   ]
  },
  {
   "cell_type": "markdown",
   "metadata": {},
   "source": [
    ""
   ]
  },
  {
   "cell_type": "code",
   "execution_count": null,
   "metadata": {},
   "outputs": [],
   "source": [
    "\n",
    "! name: nowait.2\n",
    "! type: F-free\n",
    "   SUBROUTINE NOWAIT_EXAMPLE2(N, A, B, C, Y, Z)\n",
    "   INTEGER N\n",
    "   REAL A(*), B(*), C(*), Y(*), Z(*)\n",
    "   INTEGER I\n",
    "!$OMP PARALLEL\n",
    "!$OMP DO SCHEDULE(STATIC)\n",
    "   DO I=1,N\n",
    "      C(I) = (A(I) + B(I)) / 2.0\n",
    "   ENDDO\n",
    "!$OMP END DO NOWAIT\n",
    "!$OMP DO SCHEDULE(STATIC)\n",
    "   DO I=1,N\n",
    "      Z(I) = SQRT(C(I))\n",
    "   ENDDO\n",
    "!$OMP END DO NOWAIT\n",
    "!$OMP DO SCHEDULE(STATIC)\n",
    "   DO I=2,N+1\n",
    "      Y(I) = Z(I-1) + A(I)\n",
    "   ENDDO\n",
    "!$OMP END DO NOWAIT\n",
    "!$OMP END PARALLEL\n",
    "   END SUBROUTINE NOWAIT_EXAMPLE2\n",
    "\n"
   ]
  },
  {
   "cell_type": "markdown",
   "metadata": {},
   "source": [
    ""
   ]
  },
  {
   "cell_type": "markdown",
   "metadata": {},
   "source": [
    "../../parallel_execution/nowait.tex"
   ]
  },
  {
   "cell_type": "markdown",
   "metadata": {},
   "source": [
    ""
   ]
  },
  {
   "cell_type": "markdown",
   "metadata": {},
   "source": [
    "## `collapse` Clause"
   ]
  },
  {
   "cell_type": "markdown",
   "metadata": {},
   "source": [
    "\index{clauses!collapse@`collapse`} \index{collapse clause@`collapse` clause}"
   ]
  },
  {
   "cell_type": "markdown",
   "metadata": {},
   "source": [
    "In the following example, the `k` and `j` loops are associated with  the loop construct. So the iterations of the `k` and `j` loops are  collapsed into one loop with a larger iteration space, and that loop is then divided  among the threads in the current team. Since the `i` loop is not associated  with the loop construct, it is not collapsed, and the `i` loop is executed  sequentially in its entirety in every iteration of the collapsed `k` and  `j` loop."
   ]
  },
  {
   "cell_type": "markdown",
   "metadata": {},
   "source": [
    "The variable `j` can be omitted from the `private`  clause when the  `collapse` clause is used since it is implicitly private. However, if the  `collapse` clause is omitted then `j` will be shared if it is omitted  from the `private` clause. In either case, `k` is implicitly private  and could be omitted from the `private`  clause."
   ]
  },
  {
   "cell_type": "markdown",
   "metadata": {},
   "source": [
    ""
   ]
  },
  {
   "cell_type": "code",
   "execution_count": null,
   "metadata": {},
   "outputs": [],
   "source": [
    "//%compiler: clang\n",
 "//%cflags: -fopenmp\n",
 "\n",
    "/*\n",
    "* name: collapse.1\n",
    "* type: C\n",
    "* version: omp_3.0\n",
    "*/\n",
    "\n",
    "void bar(float *a, int i, int j, int k);\n",
    "\n",
    "int kl, ku, ks, jl, ju, js, il, iu,is;\n",
    "\n",
    "void sub(float *a)\n",
    "{\n",
    "    int i, j, k;\n",
    "\n",
    "    #pragma omp for collapse(2) private(i, k, j)\n",
    "    for (k=kl; k<=ku; k+=ks)\n",
    "       for (j=jl; j<=ju; j+=js)\n",
    "          for (i=il; i<=iu; i+=is)\n",
    "             bar(a,i,j,k);\n",
    "}\n",
    "\n"
   ]
  },
  {
   "cell_type": "markdown",
   "metadata": {},
   "source": [
    ""
   ]
  },
  {
   "cell_type": "markdown",
   "metadata": {},
   "source": [
    ""
   ]
  },
  {
   "cell_type": "code",
   "execution_count": null,
   "metadata": {},
   "outputs": [],
   "source": [
    "\n",
    "! name: collapse.1\n",
    "! type: F-fixed\n",
    "! version: omp_3.0\n",
    "\n",
    "      subroutine sub(a)\n",
    "\n",
    "      real a(*)\n",
    "      integer kl, ku, ks, jl, ju, js, il, iu, is\n",
    "      common /csub/ kl, ku, ks, jl, ju, js, il, iu, is\n",
    "      integer i, j, k\n",
    "\n",
    "!$omp do collapse(2) private(i,j,k)\n",
    "       do k = kl, ku, ks\n",
    "         do j = jl, ju, js\n",
    "           do i = il, iu, is\n",
    "             call bar(a,i,j,k)\n",
    "          enddo\n",
    "        enddo\n",
    "      enddo\n",
    "!$omp end do\n",
    "\n",
    "      end subroutine\n",
    "\n"
   ]
  },
  {
   "cell_type": "markdown",
   "metadata": {},
   "source": [
    ""
   ]
  },
  {
   "cell_type": "markdown",
   "metadata": {},
   "source": [
    "In the next example, the `k` and `j` loops are associated with the  loop construct. So the iterations of the `k` and `j` loops are collapsed  into one loop with a larger iteration space, and that loop is then divided among  the threads in the current team."
   ]
  },
  {
   "cell_type": "markdown",
   "metadata": {},
   "source": [
    "The sequential execution of the iterations in the `k` and `j` loops  determines the order of the iterations in the collapsed iteration space. This implies  that in the sequentially last iteration of the collapsed iteration space, `k`  will have the value `2` and `j` will have the value `3`. Since  `klast` and `jlast` are `lastprivate`, their values are assigned  by the sequentially last iteration of the collapsed `k` and `j` loop.  This example prints: `2 3`."
   ]
  },
  {
   "cell_type": "markdown",
   "metadata": {},
   "source": [
    ""
   ]
  },
  {
   "cell_type": "code",
   "execution_count": null,
   "metadata": {},
   "outputs": [],
   "source": [
    "//%compiler: clang\n",
 "//%cflags: -fopenmp\n",
 "\n",
    "/*\n",
    "* name: collapse.2\n",
    "* type: C\n",
    "* version: omp_3.0\n",
    "*/\n",
    "\n",
    "#include <stdio.h>\n",
    "void test()\n",
    "{\n",
    "   int j, k, jlast, klast;\n",
    "   #pragma omp parallel\n",
    "   {\n",
    "      #pragma omp for collapse(2) lastprivate(jlast, klast)\n",
    "      for (k=1; k<=2; k++)\n",
    "         for (j=1; j<=3; j++)\n",
    "         {\n",
    "            jlast=j;\n",
    "            klast=k;\n",
    "         }\n",
    "      #pragma omp single\n",
    "      printf(\"%d %d\\n\", klast, jlast);\n",
    "   }\n",
    "}\n",
    "\n"
   ]
  },
  {
   "cell_type": "markdown",
   "metadata": {},
   "source": [
    ""
   ]
  },
  {
   "cell_type": "markdown",
   "metadata": {},
   "source": [
    ""
   ]
  },
  {
   "cell_type": "code",
   "execution_count": null,
   "metadata": {},
   "outputs": [],
   "source": [
    "\n",
    "! name: collapse.2\n",
    "! type: F-fixed\n",
    "! version: omp_3.0\n",
    "\n",
    "      program test\n",
    "!$omp parallel\n",
    "!$omp do private(j,k) collapse(2) lastprivate(jlast, klast)\n",
    "      do k = 1,2\n",
    "        do j = 1,3\n",
    "          jlast=j\n",
    "          klast=k\n",
    "        enddo\n",
    "      enddo\n",
    "!$omp end do\n",
    "!$omp single\n",
    "      print *, klast, jlast\n",
    "!$omp end single\n",
    "!$omp end parallel\n",
    "      end program test\n",
    "\n"
   ]
  },
  {
   "cell_type": "markdown",
   "metadata": {},
   "source": [
    ""
   ]
  },
  {
   "cell_type": "markdown",
   "metadata": {},
   "source": [
    "\index{clauses!collapse@`collapse`} \index{collapse clause@`collapse` clause} \index{clauses!ordered@`ordered`} \index{ordered clause@`ordered` clause} The next example illustrates the interaction of the `collapse` and `ordered`   clauses."
   ]
  },
  {
   "cell_type": "markdown",
   "metadata": {},
   "source": [
    "In the example, the loop construct has both a `collapse` clause and an `ordered`  clause. The `collapse` clause causes the iterations of the `k` and  `j` loops to be collapsed into one loop with a larger iteration space, and  that loop is divided among the threads in the current team. An `ordered`  clause is added to the loop construct because an ordered region binds to the loop  region arising from the loop construct."
   ]
  },
  {
   "cell_type": "markdown",
   "metadata": {},
   "source": [
    "According to Section 2.12.8 of the OpenMP 4.0 specification,  a thread must not execute more than one ordered region that binds  to the same loop region. So the `collapse` clause is required for the example  to be conforming. With the `collapse` clause, the iterations of the `k`  and `j` loops are collapsed into one loop, and therefore only one ordered  region will bind to the collapsed `k` and `j` loop. Without the `collapse`  clause, there would be two ordered regions that bind to each iteration of the `k`  loop (one arising from the first iteration of the `j` loop, and the other  arising from the second iteration of the `j` loop)."
   ]
  },
  {
   "cell_type": "markdown",
   "metadata": {},
   "source": [
    "The code prints"
   ]
  },
  {
   "cell_type": "markdown",
   "metadata": {},
   "source": [
    "`0 1 1`  `0 1 2`  `0 2 1`  `1 2 2`  `1 3 1`  `1 3 2`"
   ]
  },
  {
   "cell_type": "markdown",
   "metadata": {},
   "source": [
    ""
   ]
  },
  {
   "cell_type": "code",
   "execution_count": null,
   "metadata": {},
   "outputs": [],
   "source": [
    "//%compiler: clang\n",
 "//%cflags: -fopenmp\n",
 "\n",
    "/*\n",
    "* name: collapse.3\n",
    "* type: C\n",
    "* version: omp_3.0\n",
    "*/\n",
    "#include <omp.h>\n",
    "#include <stdio.h>\n",
    "void work(int a, int j, int k);\n",
    "void sub()\n",
    "{\n",
    "   int j, k, a;\n",
    "   #pragma omp parallel num_threads(2)\n",
    "   {\n",
    "      #pragma omp for collapse(2) ordered private(j,k) schedule(static,3)\n",
    "      for (k=1; k<=3; k++)\n",
    "         for (j=1; j<=2; j++)\n",
    "         {\n",
    "            #pragma omp ordered\n",
    "            printf(\"%d %d %d\\n\", omp_get_thread_num(), k, j);\n",
    "            /* end ordered */\n",
    "            work(a,j,k);\n",
    "         }\n",
    "   }\n",
    "}\n",
    "\n"
   ]
  },
  {
   "cell_type": "markdown",
   "metadata": {},
   "source": [
    ""
   ]
  },
  {
   "cell_type": "markdown",
   "metadata": {},
   "source": [
    ""
   ]
  },
  {
   "cell_type": "code",
   "execution_count": null,
   "metadata": {},
   "outputs": [],
   "source": [
    "\n",
    "! name: collapse.3\n",
    "! type: F-fixed\n",
    "! version: omp_3.0\n",
    "      program test\n",
    "      include 'omp_lib.h'\n",
    "!$omp parallel num_threads(2)\n",
    "!$omp do collapse(2) ordered private(j,k) schedule(static,3)\n",
    "      do k = 1,3\n",
    "        do j = 1,2\n",
    "!$omp ordered\n",
    "          print *, omp_get_thread_num(), k, j\n",
    "!$omp end ordered\n",
    "          call work(a,j,k)\n",
    "        enddo\n",
    "      enddo\n",
    "!$omp end do\n",
    "!$omp end parallel\n",
    "      end program test\n",
    "\n"
   ]
  },
  {
   "cell_type": "markdown",
   "metadata": {},
   "source": [
    ""
   ]
  },
  {
   "cell_type": "markdown",
   "metadata": {},
   "source": [
    ""
   ]
  },
  {
   "cell_type": "markdown",
   "metadata": {},
   "source": [
    "\index{non-rectangular loop nest} The following example illustrates the collapse of a non-rectangular loop nest, a new feature in OpenMP 5.0. In a loop nest, a non-rectangular loop has a loop bound that references the iteration variable of an enclosing loop."
   ]
  },
  {
   "cell_type": "markdown",
   "metadata": {},
   "source": [
    "The motivation for this feature is illustrated in the example below that creates a symmetric correlation matrix for a set of variables. Note that the initial value of the second loop depends on the index variable of the first loop for the loops to be collapsed. Here the data are represented by a 2D array, each row corresponds to a variable and each column corresponds to a sample of the variable -- the last two columns are the sample mean and standard deviation (for Fortran, rows and columns are swapped)."
   ]
  },
  {
   "cell_type": "markdown",
   "metadata": {},
   "source": [
    ""
   ]
  },
  {
   "cell_type": "code",
   "execution_count": null,
   "metadata": {},
   "outputs": [],
   "source": [
    "//%compiler: clang\n",
 "//%cflags: -fopenmp\n",
 "\n",
    "/*\n",
    "* name: collapse.4\n",
    "* type: C\n",
    "* version: omp_5.0\n",
    "*/\n",
    "#include <stdio.h>\n",
    "#define N 20\n",
    "#define M 10\n",
    "\n",
    "// routine to calculate a\n",
    "// For variable a[i]:\n",
    "// a[i][0],...,a[i][n-1]   contains the n samples\n",
    "// a[i][n]                 contains the sample mean\n",
    "// a[i][n+1]               contains the standard deviation\n",
    "extern void calc_a(int n,int m, float a[][N+2]);\n",
    "\n",
    "int main(){\n",
    "  float a[M][N+2], b[M][M];\n",
    "\n",
    "  calc_a(N,M,a);\n",
    "\n",
    "  #pragma omp parallel for collapse(2)\n",
    "  for (int i = 0; i < M; i++)\n",
    "     for (int j = i; j < M; j++)\n",
    "     {\n",
    "        float temp = 0.0f;\n",
    "        for (int k = 0; k < N; k++)\n",
    "           temp += (a[i][k]-a[i][N])*(a[j][k]-a[j][N]);\n",
    "\n",
    "        b[i][j] = temp / (a[i][N+1] * a[j][N+1] * (N - 1));\n",
    "        b[j][i] = b[i][j];\n",
    "     }\n",
    "\n",
    "  printf(\"b[0][0] = %f, b[M-1][M-1] = %f\\n\", b[0][0], b[M-1][M-1]);\n",
    "\n",
    "  return 0;\n",
    "}\n",
    "\n"
   ]
  },
  {
   "cell_type": "markdown",
   "metadata": {},
   "source": [
    ""
   ]
  },
  {
   "cell_type": "markdown",
   "metadata": {},
   "source": [
    ""
   ]
  },
  {
   "cell_type": "code",
   "execution_count": null,
   "metadata": {},
   "outputs": [],
   "source": [
    "\n",
    "! name: collapse.4\n",
    "! type: F-free\n",
    "! version: omp_5.0\n",
    "module calc_m\n",
    "  interface\n",
    "  subroutine calc_a(n, m, a)\n",
    "  integer n, m\n",
    "  real a(n+2,m)\n",
    "  ! routine to calculate a\n",
    "  ! For variable a(*,j):\n",
    "  ! a(1,j),...,a(n,j)  contains the n samples\n",
    "  ! a(n+1,j)           contains the sample mean\n",
    "  ! a(n+2,j)           contains the standard deviation\n",
    "  end subroutine\n",
    "  end interface\n",
    "end module\n",
    "\n",
    "program main\n",
    "  use calc_m\n",
    "  integer, parameter :: N=20, M=10\n",
    "  real a(N+2,M), b(M,M)\n",
    "  real temp\n",
    "  integer i, j, k\n",
    "\n",
    "  call calc_a(N,M,a)\n",
    "\n",
    "  !$omp parallel do collapse(2) private(k,temp)\n",
    "  do i = 1, M\n",
    "     do j = i, M\n",
    "        temp = 0.0\n",
    "        do k = 1, N\n",
    "           temp = temp + (a(k,i)-a(N+1,i))*(a(k,j)-a(N+1,j))\n",
    "        end do\n",
    "\n",
    "        b(i,j) = temp / (a(N+2,i) * a(N+2,j) * (N - 1))\n",
    "        b(j,i) = b(i,j)\n",
    "     end do\n",
    "  end do\n",
    "\n",
    "  print *,\"b(1,1) = \",b(1,1),\", b(M,M) = \",b(M,M)\n",
    "\n",
    "end program\n",
    "\n"
   ]
  },
  {
   "cell_type": "markdown",
   "metadata": {},
   "source": [
    "../../parallel_execution/collapse.tex"
   ]
  },
  {
   "cell_type": "markdown",
   "metadata": {},
   "source": [
    ""
   ]
  },
  {
   "cell_type": "markdown",
   "metadata": {},
   "source": [
    "## `linear` Clause in Loop Constructs"
   ]
  },
  {
   "cell_type": "markdown",
   "metadata": {},
   "source": [
    "\index{clauses!linear@`linear`} \index{linear clause@`linear` clause}"
   ]
  },
  {
   "cell_type": "markdown",
   "metadata": {},
   "source": [
    "The following example shows the use of the `linear` clause in a loop  construct to allow the proper parallelization of a loop that contains  an induction variable ( _j_ ).  At the end of the execution of  the loop construct, the original variable  _j_  is updated with  the value  _N/2_  from the last iteration of the loop."
   ]
  },
  {
   "cell_type": "markdown",
   "metadata": {},
   "source": [
    ""
   ]
  },
  {
   "cell_type": "code",
   "execution_count": null,
   "metadata": {},
   "outputs": [],
   "source": [
    "//%compiler: clang\n",
 "//%cflags: -fopenmp\n",
 "\n",
    "/*\n",
    "* name: linear_in_loop.1\n",
    "* type: C\n",
    "* version: omp_4.5\n",
    "*/\n",
    "#include <stdio.h>\n",
    "\n",
    "#define N 100\n",
    "int main(void)\n",
    "{\n",
    "   float a[N], b[N/2];\n",
    "   int i, j;\n",
    "\n",
    "   for ( i = 0; i < N; i++ )\n",
    "      a[i] = i + 1;\n",
    "\n",
    "   j = 0;\n",
    "   #pragma omp parallel\n",
    "   #pragma omp for linear(j:1)\n",
    "   for ( i = 0; i < N; i += 2 ) {\n",
    "      b[j] = a[i] * 2.0f;\n",
    "      j++;\n",
    "   }\n",
    "\n",
    "   printf( \"%d %f %f\\n\", j, b[0], b[j-1] );\n",
    "   /* print out: 50 2.0 198.0 */\n",
    "\n",
    "   return 0;\n",
    "}\n",
    "\n"
   ]
  },
  {
   "cell_type": "markdown",
   "metadata": {},
   "source": [
    ""
   ]
  },
  {
   "cell_type": "markdown",
   "metadata": {},
   "source": [
    ""
   ]
  },
  {
   "cell_type": "code",
   "execution_count": null,
   "metadata": {},
   "outputs": [],
   "source": [
    "\n",
    "! name: linear_in_loop.1\n",
    "! type: F-free\n",
    "! version:    omp_4.5\n",
    "program linear_loop\n",
    "   implicit none\n",
    "   integer, parameter :: N = 100\n",
    "   real :: a(N), b(N/2)\n",
    "   integer :: i, j\n",
    "\n",
    "   do i = 1, N\n",
    "      a(i) = i\n",
    "   end do\n",
    "\n",
    "   j = 0\n",
    "   !$omp parallel\n",
    "   !$omp do linear(j:1)\n",
    "   do i = 1, N, 2\n",
    "      j = j + 1\n",
    "      b(j) = a(i) * 2.0\n",
    "   end do\n",
    "   !$omp end parallel\n",
    "\n",
    "   print *, j, b(1), b(j)\n",
    "   ! print out: 50 2.0 198.0\n",
    "\n",
    "end program\n",
    "\n"
   ]
  },
  {
   "cell_type": "markdown",
   "metadata": {},
   "source": [
    ""
   ]
  },
  {
   "cell_type": "markdown",
   "metadata": {},
   "source": [
    "../../parallel_execution/linear_in_loop.tex"
   ]
  },
  {
   "cell_type": "markdown",
   "metadata": {},
   "source": [
    ""
   ]
  },
  {
   "cell_type": "markdown",
   "metadata": {},
   "source": [
    "## `parallel` `sections` Construct"
   ]
  },
  {
   "cell_type": "markdown",
   "metadata": {},
   "source": [
    "\index{combined constructs!parallel sections@`parallel` `sections`} \index{parallel sections construct@`parallel` `sections` construct}"
   ]
  },
  {
   "cell_type": "markdown",
   "metadata": {},
   "source": [
    "In the following example routines `XAXIS`, `YAXIS`, and `ZAXIS` can  be executed concurrently. The first `section` directive is optional. Note  that all `section` directives need to appear in the  `parallel` `sections` construct."
   ]
  },
  {
   "cell_type": "markdown",
   "metadata": {},
   "source": [
    ""
   ]
  },
  {
   "cell_type": "code",
   "execution_count": null,
   "metadata": {},
   "outputs": [],
   "source": [
    "//%compiler: clang\n",
 "//%cflags: -fopenmp\n",
 "\n",
    "/*\n",
    "* name: psections.1\n",
    "* type: C\n",
    "*/\n",
    "void XAXIS();\n",
    "void YAXIS();\n",
    "void ZAXIS();\n",
    "\n",
    "void sect_example()\n",
    "{\n",
    "  #pragma omp parallel sections\n",
    "  {\n",
    "    #pragma omp section\n",
    "      XAXIS();\n",
    "\n",
    "    #pragma omp section\n",
    "      YAXIS();\n",
    "\n",
    "    #pragma omp section\n",
    "      ZAXIS();\n",
    "  }\n",
    "}\n",
    "\n"
   ]
  },
  {
   "cell_type": "markdown",
   "metadata": {},
   "source": [
    ""
   ]
  },
  {
   "cell_type": "markdown",
   "metadata": {},
   "source": [
    ""
   ]
  },
  {
   "cell_type": "code",
   "execution_count": null,
   "metadata": {},
   "outputs": [],
   "source": [
    "\n",
    "! name: psections.1\n",
    "! type: F-fixed\n",
    "      SUBROUTINE SECT_EXAMPLE()\n",
    "!$OMP PARALLEL SECTIONS\n",
    "!$OMP SECTION\n",
    "        CALL XAXIS()\n",
    "!$OMP SECTION\n",
    "        CALL YAXIS()\n",
    "\n",
    "!$OMP SECTION\n",
    "        CALL ZAXIS()\n",
    "\n",
    "!$OMP END PARALLEL SECTIONS\n",
    "      END SUBROUTINE SECT_EXAMPLE\n",
    "\n"
   ]
  },
  {
   "cell_type": "markdown",
   "metadata": {},
   "source": [
    ""
   ]
  },
  {
   "cell_type": "markdown",
   "metadata": {},
   "source": [
    "../../parallel_execution/psections.tex"
   ]
  },
  {
   "cell_type": "markdown",
   "metadata": {},
   "source": [
    ""
   ]
  },
  {
   "cell_type": "markdown",
   "metadata": {},
   "source": [
    "## `firstprivate` Clause and `sections` Construct"
   ]
  },
  {
   "cell_type": "markdown",
   "metadata": {},
   "source": [
    "\index{constructs!sections@`sections`} \index{sections construct@`sections` construct} \index{constructs!section@`section`} \index{section construct@`section` construct} \index{clauses!firstprivate@`firstprivate`} \index{firstprivate clause@`firstprivate` clause}"
   ]
  },
  {
   "cell_type": "markdown",
   "metadata": {},
   "source": [
    "In the following example of the `sections` construct  the `firstprivate`  clause is used to initialize the private copy of `section_count` of each  thread. The problem is that the `section` constructs modify `section_count`,  which breaks the independence of the `section` constructs. When different  threads execute each section, both sections will print the value 1. When the same  thread executes the two sections, one section will print the value 1 and the other  will print the value 2. Since the order of execution of the two sections in this  case is unspecified, it is unspecified which section prints which value."
   ]
  },
  {
   "cell_type": "markdown",
   "metadata": {},
   "source": [
    ""
   ]
  },
  {
   "cell_type": "code",
   "execution_count": null,
   "metadata": {},
   "outputs": [],
   "source": [
    "//%compiler: clang\n",
 "//%cflags: -fopenmp\n",
 "\n",
    "/*\n",
    "* name: fpriv_sections.1\n",
    "* type: C\n",
    "*/\n",
    "#include <omp.h>\n",
    "#include <stdio.h>\n",
    "#define NT 4\n",
    "int main( ) {\n",
    "    int section_count = 0;\n",
    "    omp_set_dynamic(0);\n",
    "    omp_set_num_threads(NT);\n",
    "#pragma omp parallel\n",
    "#pragma omp sections firstprivate( section_count )\n",
    "{\n",
    "#pragma omp section\n",
    "    {\n",
    "        section_count++;\n",
    "        /* may print the number one or two */\n",
    "        printf( \"section_count %d\\n\", section_count );\n",
    "    }\n",
    "#pragma omp section\n",
    "    {\n",
    "        section_count++;\n",
    "        /* may print the number one or two */\n",
    "        printf( \"section_count %d\\n\", section_count );\n",
    "    }\n",
    "}\n",
    "    return 0;\n",
    "}\n",
    "\n"
   ]
  },
  {
   "cell_type": "markdown",
   "metadata": {},
   "source": [
    ""
   ]
  },
  {
   "cell_type": "markdown",
   "metadata": {},
   "source": [
    ""
   ]
  },
  {
   "cell_type": "code",
   "execution_count": null,
   "metadata": {},
   "outputs": [],
   "source": [
    "\n",
    "! name: fpriv_sections.1\n",
    "! type: F-free\n",
    "program section\n",
    "    use omp_lib\n",
    "    integer :: section_count = 0\n",
    "    integer, parameter :: NT = 4\n",
    "    call omp_set_dynamic(.false.)\n",
    "    call omp_set_num_threads(NT)\n",
    "!$omp parallel\n",
    "!$omp sections firstprivate ( section_count )\n",
    "!$omp section\n",
    "    section_count = section_count + 1\n",
    "! may print the number one or two\n",
    "    print *, 'section_count', section_count\n",
    "!$omp section\n",
    "    section_count = section_count + 1\n",
    "! may print the number one or two\n",
    "    print *, 'section_count', section_count\n",
    "!$omp end sections\n",
    "!$omp end parallel\n",
    "end program section\n",
    "\n"
   ]
  },
  {
   "cell_type": "markdown",
   "metadata": {},
   "source": [
    ""
   ]
  },
  {
   "cell_type": "markdown",
   "metadata": {},
   "source": [
    ""
   ]
  },
  {
   "cell_type": "markdown",
   "metadata": {},
   "source": [
    "../../parallel_execution/fpriv_sections.tex"
   ]
  },
  {
   "cell_type": "markdown",
   "metadata": {},
   "source": [
    ""
   ]
  },
  {
   "cell_type": "markdown",
   "metadata": {},
   "source": [
    "## `single` Construct"
   ]
  },
  {
   "cell_type": "markdown",
   "metadata": {},
   "source": [
    "\index{constructs!single@`single`} \index{single construct@`single` construct}"
   ]
  },
  {
   "cell_type": "markdown",
   "metadata": {},
   "source": [
    "The following example demonstrates the `single` construct. In the example,  only one thread prints each of the progress messages. All other threads will skip  the `single` region and stop at the barrier at the end of the `single`  construct until all threads in the team have reached the barrier. If other threads  can proceed without waiting for the thread executing the `single` region,  a `nowait` clause can be specified, as is done in the third `single`  construct in this example. The user must not make any assumptions as to which thread  will execute a `single` region."
   ]
  },
  {
   "cell_type": "markdown",
   "metadata": {},
   "source": [
    ""
   ]
  },
  {
   "cell_type": "code",
   "execution_count": null,
   "metadata": {},
   "outputs": [],
   "source": [
    "//%compiler: clang\n",
 "//%cflags: -fopenmp\n",
 "\n",
    "/*\n",
    "* name: single.1\n",
    "* type: C\n",
    "*/\n",
    "#include <stdio.h>\n",
    "\n",
    "void work1() {}\n",
    "void work2() {}\n",
    "\n",
    "void single_example()\n",
    "{\n",
    "  #pragma omp parallel\n",
    "  {\n",
    "    #pragma omp single\n",
    "      printf(\"Beginning work1.\\n\");\n",
    "\n",
    "    work1();\n",
    "\n",
    "    #pragma omp single\n",
    "      printf(\"Finishing work1.\\n\");\n",
    "\n",
    "    #pragma omp single nowait\n",
    "      printf(\"Finished work1 and beginning work2.\\n\");\n",
    "\n",
    "    work2();\n",
    "  }\n",
    "}\n",
    "\n"
   ]
  },
  {
   "cell_type": "markdown",
   "metadata": {},
   "source": [
    ""
   ]
  },
  {
   "cell_type": "markdown",
   "metadata": {},
   "source": [
    ""
   ]
  },
  {
   "cell_type": "code",
   "execution_count": null,
   "metadata": {},
   "outputs": [],
   "source": [
    "\n",
    "! name: single.1\n",
    "! type: F-fixed\n",
    "      SUBROUTINE WORK1()\n",
    "      END SUBROUTINE WORK1\n",
    "\n",
    "      SUBROUTINE WORK2()\n",
    "      END SUBROUTINE WORK2\n",
    "\n",
    "      PROGRAM SINGLE_EXAMPLE\n",
    "!$OMP PARALLEL\n",
    "\n",
    "!$OMP SINGLE\n",
    "        print *, \"Beginning work1.\"\n",
    "!$OMP END SINGLE\n",
    "\n",
    "        CALL WORK1()\n",
    "\n",
    "!$OMP SINGLE\n",
    "        print *, \"Finishing work1.\"\n",
    "!$OMP END SINGLE\n",
    "\n",
    "!$OMP SINGLE\n",
    "        print *, \"Finished work1 and beginning work2.\"\n",
    "!$OMP END SINGLE NOWAIT\n",
    "\n",
    "        CALL WORK2()\n",
    "\n",
    "!$OMP END PARALLEL\n",
    "\n",
    "      END PROGRAM SINGLE_EXAMPLE\n",
    "\n"
   ]
  },
  {
   "cell_type": "markdown",
   "metadata": {},
   "source": [
    ""
   ]
  },
  {
   "cell_type": "markdown",
   "metadata": {},
   "source": [
    ""
   ]
  },
  {
   "cell_type": "markdown",
   "metadata": {},
   "source": [
    "../../parallel_execution/single.tex"
   ]
  },
  {
   "cell_type": "markdown",
   "metadata": {},
   "source": [
    ""
   ]
  },
  {
   "cell_type": "markdown",
   "metadata": {},
   "source": [
    "## `workshare` Construct"
   ]
  },
  {
   "cell_type": "markdown",
   "metadata": {},
   "source": [
    "\index{constructs!workshare@`workshare`} \index{workshare construct@`workshare` construct}"
   ]
  },
  {
   "cell_type": "markdown",
   "metadata": {},
   "source": [
    "The following are examples of the `workshare` construct."
   ]
  },
  {
   "cell_type": "markdown",
   "metadata": {},
   "source": [
    "In the following example, `workshare` spreads work across the threads executing  the `parallel` region, and there is a barrier after the last statement.  Implementations must enforce Fortran execution rules inside of the `workshare`  block."
   ]
  },
  {
   "cell_type": "markdown",
   "metadata": {},
   "source": [
    ""
   ]
  },
  {
   "cell_type": "code",
   "execution_count": null,
   "metadata": {},
   "outputs": [],
   "source": [
    "\n",
    "! name: workshare.1\n",
    "! type: F-fixed\n",
    "      SUBROUTINE WSHARE1(AA, BB, CC, DD, EE, FF, N)\n",
    "      INTEGER N\n",
    "      REAL AA(N,N), BB(N,N), CC(N,N), DD(N,N), EE(N,N), FF(N,N)\n",
    "\n",
    "!$OMP    PARALLEL\n",
    "!$OMP     WORKSHARE\n",
    "            AA = BB\n",
    "            CC = DD\n",
    "            EE = FF\n",
    "!$OMP     END WORKSHARE\n",
    "!$OMP   END PARALLEL\n",
    "\n",
    "      END SUBROUTINE WSHARE1\n",
    "\n"
   ]
  },
  {
   "cell_type": "markdown",
   "metadata": {},
   "source": [
    ""
   ]
  },
  {
   "cell_type": "markdown",
   "metadata": {},
   "source": [
    "In the following example, the barrier at the end of the first `workshare`  region is eliminated with a `nowait` clause. Threads doing `CC =  DD` immediately begin work on `EE = FF` when they are done with `CC  = DD`."
   ]
  },
  {
   "cell_type": "markdown",
   "metadata": {},
   "source": [
    ""
   ]
  },
  {
   "cell_type": "code",
   "execution_count": null,
   "metadata": {},
   "outputs": [],
   "source": [
    "\n",
    "! name: workshare.2\n",
    "! type: F-fixed\n",
    "      SUBROUTINE WSHARE2(AA, BB, CC, DD, EE, FF, N)\n",
    "      INTEGER N\n",
    "      REAL AA(N,N), BB(N,N), CC(N,N)\n",
    "      REAL DD(N,N), EE(N,N), FF(N,N)\n",
    "\n",
    "!$OMP   PARALLEL\n",
    "!$OMP     WORKSHARE\n",
    "            AA = BB\n",
    "            CC = DD\n",
    "!$OMP     END WORKSHARE NOWAIT\n",
    "!$OMP     WORKSHARE\n",
    "            EE = FF\n",
    "!$OMP     END WORKSHARE\n",
    "!$OMP   END PARALLEL\n",
    "       END SUBROUTINE WSHARE2\n",
    "\n"
   ]
  },
  {
   "cell_type": "markdown",
   "metadata": {},
   "source": [
    ""
   ]
  },
  {
   "cell_type": "markdown",
   "metadata": {},
   "source": [
    "The following example shows the use of an `atomic` directive inside a `workshare`  construct. The computation of `SUM(AA)` is workshared, but the update to  `R` is atomic."
   ]
  },
  {
   "cell_type": "markdown",
   "metadata": {},
   "source": [
    ""
   ]
  },
  {
   "cell_type": "code",
   "execution_count": null,
   "metadata": {},
   "outputs": [],
   "source": [
    "\n",
    "! name: workshare.3\n",
    "! type: F-fixed\n",
    "      SUBROUTINE WSHARE3(AA, BB, CC, DD, N)\n",
    "      INTEGER N\n",
    "      REAL AA(N,N), BB(N,N), CC(N,N), DD(N,N)\n",
    "      REAL R\n",
    "        R=0\n",
    "!$OMP   PARALLEL\n",
    "!$OMP     WORKSHARE\n",
    "            AA = BB\n",
    "!$OMP       ATOMIC UPDATE\n",
    "              R = R + SUM(AA)\n",
    "            CC = DD\n",
    "!$OMP     END WORKSHARE\n",
    "!$OMP   END PARALLEL\n",
    "      END SUBROUTINE WSHARE3\n",
    "\n"
   ]
  },
  {
   "cell_type": "markdown",
   "metadata": {},
   "source": [
    ""
   ]
  },
  {
   "cell_type": "markdown",
   "metadata": {},
   "source": [
    "Fortran `WHERE` and `FORALL` statements are **compound statements**,  made up of a **control** part and a **statement** part. When `workshare`  is applied to one of these compound statements, both the control and the statement  parts are workshared. The following example shows the use of a `WHERE` statement  in a `workshare` construct."
   ]
  },
  {
   "cell_type": "markdown",
   "metadata": {},
   "source": [
    "Each task gets worked on in order by the threads:"
   ]
  },
  {
   "cell_type": "markdown",
   "metadata": {},
   "source": [
    "`AA = BB` then  `CC = DD` then  `EE .ne. 0` then  `FF = 1 / EE` then  `GG = HH`"
   ]
  },
  {
   "cell_type": "markdown",
   "metadata": {},
   "source": [
    ""
   ]
  },
  {
   "cell_type": "code",
   "execution_count": null,
   "metadata": {},
   "outputs": [],
   "source": [
    "\n",
    "! name: workshare.4\n",
    "! type: F-fixed\n",
    "      SUBROUTINE WSHARE4(AA, BB, CC, DD, EE, FF, GG, HH, N)\n",
    "      INTEGER N\n",
    "      REAL AA(N,N), BB(N,N), CC(N,N)\n",
    "      REAL DD(N,N), EE(N,N), FF(N,N)\n",
    "      REAL GG(N,N), HH(N,N)\n",
    "\n",
    "!$OMP   PARALLEL\n",
    "!$OMP     WORKSHARE\n",
    "            AA = BB\n",
    "            CC = DD\n",
    "            WHERE (EE .ne. 0) FF = 1 / EE\n",
    "            GG = HH\n",
    "!$OMP     END WORKSHARE\n",
    "!$OMP   END PARALLEL\n",
    "\n",
    "      END SUBROUTINE WSHARE4\n",
    "\n"
   ]
  },
  {
   "cell_type": "markdown",
   "metadata": {},
   "source": [
    ""
   ]
  },
  {
   "cell_type": "markdown",
   "metadata": {},
   "source": [
    "In the following example, an assignment to a shared scalar variable is performed  by one thread in a `workshare` while all other threads in the team wait."
   ]
  },
  {
   "cell_type": "markdown",
   "metadata": {},
   "source": [
    ""
   ]
  },
  {
   "cell_type": "code",
   "execution_count": null,
   "metadata": {},
   "outputs": [],
   "source": [
    "\n",
    "! name: workshare.5\n",
    "! type: F-fixed\n",
    "      SUBROUTINE WSHARE5(AA, BB, CC, DD, N)\n",
    "      INTEGER N\n",
    "      REAL AA(N,N), BB(N,N), CC(N,N), DD(N,N)\n",
    "\n",
    "        INTEGER SHR\n",
    "\n",
    "!$OMP   PARALLEL SHARED(SHR)\n",
    "!$OMP     WORKSHARE\n",
    "            AA = BB\n",
    "            SHR = 1\n",
    "            CC = DD * SHR\n",
    "!$OMP     END WORKSHARE\n",
    "!$OMP   END PARALLEL\n",
    "\n",
    "      END SUBROUTINE WSHARE5\n",
    "\n"
   ]
  },
  {
   "cell_type": "markdown",
   "metadata": {},
   "source": [
    ""
   ]
  },
  {
   "cell_type": "markdown",
   "metadata": {},
   "source": [
    "The following example contains an assignment to a private scalar variable, which  is performed by one thread in a `workshare` while all other threads wait.  It is non-conforming because the private scalar variable is undefined after the  assignment statement."
   ]
  },
  {
   "cell_type": "markdown",
   "metadata": {},
   "source": [
    ""
   ]
  },
  {
   "cell_type": "code",
   "execution_count": null,
   "metadata": {},
   "outputs": [],
   "source": [
    "\n",
    "! name: workshare.6\n",
    "! type: F-fixed\n",
    "      SUBROUTINE WSHARE6_WRONG(AA, BB, CC, DD, N)\n",
    "      INTEGER N\n",
    "      REAL AA(N,N), BB(N,N), CC(N,N), DD(N,N)\n",
    "\n",
    "        INTEGER PRI\n",
    "\n",
    "!$OMP   PARALLEL PRIVATE(PRI)\n",
    "!$OMP     WORKSHARE\n",
    "            AA = BB\n",
    "            PRI = 1\n",
    "            CC = DD * PRI\n",
    "!$OMP     END WORKSHARE\n",
    "!$OMP   END PARALLEL\n",
    "\n",
    "      END SUBROUTINE WSHARE6_WRONG\n",
    "\n"
   ]
  },
  {
   "cell_type": "markdown",
   "metadata": {},
   "source": [
    ""
   ]
  },
  {
   "cell_type": "markdown",
   "metadata": {},
   "source": [
    "Fortran execution rules must be enforced inside a `workshare` construct.  In the following example, the same result is produced in the following program  fragment regardless of whether the code is executed sequentially or inside an OpenMP  program with multiple threads:"
   ]
  },
  {
   "cell_type": "markdown",
   "metadata": {},
   "source": [
    ""
   ]
  },
  {
   "cell_type": "code",
   "execution_count": null,
   "metadata": {},
   "outputs": [],
   "source": [
    "\n",
    "! name: workshare.7\n",
    "! type: F-fixed\n",
    "      SUBROUTINE WSHARE7(AA, BB, CC, N)\n",
    "      INTEGER N\n",
    "      REAL AA(N), BB(N), CC(N)\n",
    "\n",
    "!$OMP   PARALLEL\n",
    "!$OMP     WORKSHARE\n",
    "            AA(1:50)  = BB(11:60)\n",
    "            CC(11:20) = AA(1:10)\n",
    "!$OMP     END WORKSHARE\n",
    "!$OMP   END PARALLEL\n",
    "\n",
    "      END SUBROUTINE WSHARE7\n",
    "\n"
   ]
  },
  {
   "cell_type": "markdown",
   "metadata": {},
   "source": [
    ""
   ]
  },
  {
   "cell_type": "markdown",
   "metadata": {},
   "source": [
    ""
   ]
  },
  {
   "cell_type": "markdown",
   "metadata": {},
   "source": [
    "../../parallel_execution/workshare.tex"
   ]
  },
  {
   "cell_type": "markdown",
   "metadata": {},
   "source": [
    ""
   ]
  },
  {
   "cell_type": "markdown",
   "metadata": {},
   "source": [
    "## `masked` Construct"
   ]
  },
  {
   "cell_type": "markdown",
   "metadata": {},
   "source": [
    "\index{constructs!masked@`masked`} \index{masked construct@`masked` construct} \index{masked construct@`masked` construct!filter clause@`filter` clause} \index{clauses!filter@`filter`} \index{filter clause@`filter` clause}"
   ]
  },
  {
   "cell_type": "markdown",
   "metadata": {},
   "source": [
    "The following example demonstrates the `masked` construct.  In the example, the primary thread (thread number 0)  keeps track of how many iterations have been executed and prints out  a progress report in the iteration loop. The other threads skip the `masked` region without waiting.  The `filter` clause can be used to specify a thread number other  than the primary thread to execute a structured block, as illustrated by the second `masked` construct after the iteration loop. If the thread specified in a \scode{filter} clause does not exist  in the team then the structured block is not executed by any thread."
   ]
  },
  {
   "cell_type": "markdown",
   "metadata": {},
   "source": [
    ""
   ]
  },
  {
   "cell_type": "code",
   "execution_count": null,
   "metadata": {},
   "outputs": [],
   "source": [
    "//%compiler: clang\n",
 "//%cflags: -fopenmp\n",
 "\n",
    "/*\n",
    "* name: masked.1\n",
    "* type: C\n",
    "* version:    omp_5.1\n",
    "*/\n",
    "#include <stdio.h>\n",
    "\n",
    "extern float average(float,float,float);\n",
    "\n",
    "void masked_example( float* x, float* xold, int n, float tol )\n",
    "{\n",
    "  int c, i, toobig;\n",
    "  float error, y;\n",
    "  c = 0;\n",
    "  #pragma omp parallel\n",
    "  {\n",
    "    do {\n",
    "      #pragma omp for private(i)\n",
    "      for( i = 1; i < n-1; ++i ){\n",
    "        xold[i] = x[i];\n",
    "      }\n",
    "      #pragma omp single\n",
    "      {\n",
    "        toobig = 0;\n",
    "      }\n",
    "      #pragma omp for private(i,y,error) reduction(+:toobig)\n",
    "      for( i = 1; i < n-1; ++i ){\n",
    "        y = x[i];\n",
    "        x[i] = average( xold[i-1], x[i], xold[i+1] );\n",
    "        error = y - x[i];\n",
    "        if( error > tol || error < -tol ) ++toobig;\n",
    "      }\n",
    "      #pragma omp masked          // primary thread (thread 0)\n",
    "      {\n",
    "        ++c;\n",
    "        printf( \"iteration %d, toobig=%d\\n\", c, toobig );\n",
    "      }\n",
    "    } while( toobig > 0 );\n",
    "    #pragma omp barrier\n",
    "    #pragma omp masked filter(1)  // thread 1\n",
    "    {\n",
    "      // The printf statement will not be executed\n",
    "      // if the number of threads is less than 2.\n",
    "      printf( \"total number of iterations = %d\\n\", c );\n",
    "    }\n",
    "  }\n",
    "}\n",
    "\n"
   ]
  },
  {
   "cell_type": "markdown",
   "metadata": {},
   "source": [
    ""
   ]
  },
  {
   "cell_type": "markdown",
   "metadata": {},
   "source": [
    ""
   ]
  },
  {
   "cell_type": "code",
   "execution_count": null,
   "metadata": {},
   "outputs": [],
   "source": [
    "\n",
    "! name: masked.1\n",
    "! type: F-fixed\n",
    "! version:    omp_5.1\n",
    "      SUBROUTINE MASKED_EXAMPLE( X, XOLD, N, TOL )\n",
    "      REAL X(*), XOLD(*), TOL\n",
    "      INTEGER N\n",
    "      INTEGER C, I, TOOBIG\n",
    "      REAL ERROR, Y, AVERAGE\n",
    "      EXTERNAL AVERAGE\n",
    "      C = 0\n",
    "      TOOBIG = 1\n",
    "!$OMP PARALLEL\n",
    "        DO WHILE( TOOBIG > 0 )\n",
    "!$OMP     DO PRIVATE(I)\n",
    "            DO I = 2, N-1\n",
    "              XOLD(I) = X(I)\n",
    "            ENDDO\n",
    "!$OMP     SINGLE\n",
    "            TOOBIG = 0\n",
    "!$OMP     END SINGLE\n",
    "!$OMP     DO PRIVATE(I,Y,ERROR), REDUCTION(+:TOOBIG)\n",
    "            DO I = 2, N-1\n",
    "              Y = X(I)\n",
    "              X(I) = AVERAGE( XOLD(I-1), X(I), XOLD(I+1) )\n",
    "              ERROR = Y-X(I)\n",
    "              IF( ERROR > TOL .OR. ERROR < -TOL ) TOOBIG = TOOBIG+1\n",
    "            ENDDO\n",
    "!$OMP     MASKED            ! primary thread (thread 0)\n",
    "            C = C + 1\n",
    "            PRINT *, 'Iteration ', C, 'TOOBIG=', TOOBIG\n",
    "!$OMP     END MASKED\n",
    "        ENDDO\n",
    "!$OMP   BARRIER\n",
    "!$OMP   MASKED FILTER(1)    ! thread 1\n",
    "          ! The print statement will not be executed\n",
    "          ! if the number of threads is less than 2.\n",
    "          PRINT *, 'Total number of iterations =', C\n",
    "!$OMP   END MASKED\n",
    "!$OMP END PARALLEL\n",
    "      END SUBROUTINE MASKED_EXAMPLE\n",
    "\n"
   ]
  },
  {
   "cell_type": "markdown",
   "metadata": {},
   "source": [
    ""
   ]
  },
  {
   "cell_type": "markdown",
   "metadata": {},
   "source": [
    ""
   ]
  },
  {
   "cell_type": "markdown",
   "metadata": {},
   "source": [
    "../../parallel_execution/masked.tex"
   ]
  },
  {
   "cell_type": "markdown",
   "metadata": {},
   "source": [
    ""
   ]
  },
  {
   "cell_type": "markdown",
   "metadata": {},
   "source": [
    "## `loop` Construct"
   ]
  },
  {
   "cell_type": "markdown",
   "metadata": {},
   "source": [
    "\index{constructs!loop@`loop`} \index{loop construct@`loop` construct}"
   ]
  },
  {
   "cell_type": "markdown",
   "metadata": {},
   "source": [
    "The following example illustrates the use of the OpenMP 5.0 `loop` construct for the execution of a loop. The `loop` construct asserts to the compiler that the iterations  of the loop are free of data dependencies and may be executed concurrently. It allows the compiler to use heuristics to select the parallelization scheme and compiler-level optimizations for the concurrency."
   ]
  },
  {
   "cell_type": "markdown",
   "metadata": {},
   "source": [
    ""
   ]
  },
  {
   "cell_type": "code",
   "execution_count": null,
   "metadata": {},
   "outputs": [],
   "source": [
    "//%compiler: clang\n",
 "//%cflags: -fopenmp\n",
 "\n",
    "/*\n",
    "* name: loop.1\n",
    "* type: C\n",
    "* version: omp_5.0\n",
    "*/\n",
    "#include  <stdio.h>\n",
    "#define N 100\n",
    "int main()\n",
    "{\n",
    "  float x[N], y[N];\n",
    "  float a = 2.0;\n",
    "  for(int i=0;i<N;i++){ x[i]=i; y[i]=0;}   // initialize\n",
    "\n",
    "  #pragma omp parallel\n",
    "  {\n",
    "    #pragma omp loop\n",
    "    for(int i = 0; i < N; ++i) y[i] = a*x[i] + y[i];\n",
    "  }\n",
    "  if(y[N-1] != (N-1)*2.0) printf(\"Error: 2*(N-1) != y[N-1]=%f\",y[N-1]);\n",
    "}\n",
    "\n"
   ]
  },
  {
   "cell_type": "markdown",
   "metadata": {},
   "source": [
    ""
   ]
  },
  {
   "cell_type": "code",
   "execution_count": null,
   "metadata": {},
   "outputs": [],
   "source": [
    "\n",
    "! name:       loop.1\n",
    "! type:       F-free\n",
    "! version:    omp_5.0\n",
    "\n",
    "program main\n",
    "  integer, parameter :: N=100\n",
    "  real :: x(N), y(N)\n",
    "  real :: a = 2.0e0\n",
    "\n",
    "  x=(/ (i,i=1,N) /); y=1.0e0                    !! initialize\n",
    "\n",
    "  !$omp parallel\n",
    "    !$omp loop\n",
    "       do i=1,N; y(i) = a*x(i) + y(i); enddo\n",
    "  !$omp end parallel\n",
    "\n",
    "  if(y(N) /= N*2.0e0) print*,\"Error: 2*N /= y(N); y(N)=\",y(N)\n",
    "end program\n",
    "\n"
   ]
  },
  {
   "cell_type": "markdown",
   "metadata": {},
   "source": [
    "../../parallel_execution/loop.tex"
   ]
  },
  {
   "cell_type": "markdown",
   "metadata": {},
   "source": [
    ""
   ]
  },
  {
   "cell_type": "markdown",
   "metadata": {},
   "source": [
    "## Parallel Random Access Iterator Loop"
   ]
  },
  {
   "cell_type": "markdown",
   "metadata": {},
   "source": [
    "\index{random access iterator, C++}"
   ]
  },
  {
   "cell_type": "markdown",
   "metadata": {},
   "source": [
    "The following example shows a parallel random access iterator loop."
   ]
  },
  {
   "cell_type": "markdown",
   "metadata": {},
   "source": [
    ""
   ]
  },
  {
   "cell_type": "code",
   "execution_count": null,
   "metadata": {},
   "outputs": [],
   "source": [
    "//%compiler: clang\n",
 "//%cflags: -fopenmp\n",
 "\n",
    "/*\n",
    "* name: pra_iterator.1\n",
    "* type: C++\n",
    "* version: omp_3.0\n",
    "*/\n",
    "#include <vector>\n",
    "void iterator_example()\n",
    "{\n",
    "  std::vector<int> vec(23);\n",
    "  std::vector<int>::iterator it;\n",
    "#pragma omp parallel for default(none) shared(vec)\n",
    "  for (it = vec.begin(); it < vec.end(); it++)\n",
    "  {\n",
    "    // do work with *it //\n",
    "  }\n",
    "}\n",
    "\n"
   ]
  },
  {
   "cell_type": "markdown",
   "metadata": {},
   "source": [
    ""
   ]
  },
  {
   "cell_type": "markdown",
   "metadata": {},
   "source": [
    ""
   ]
  },
  {
   "cell_type": "markdown",
   "metadata": {},
   "source": [
    "../../parallel_execution/pra_iterator.tex"
   ]
  },
  {
   "cell_type": "markdown",
   "metadata": {},
   "source": [
    ""
   ]
  },
  {
   "cell_type": "markdown",
   "metadata": {},
   "source": [
    "## `omp_set_dynamic` and  `omp_set_num_threads` Routines"
   ]
  },
  {
   "cell_type": "markdown",
   "metadata": {},
   "source": [
    "\index{routines!omp_set_dynamic@\scode{omp_set_dynamic}} \index{omp_set_dynamic routine@\scode{omp_set_dynamic} routine} \index{routines!omp_set_num_threads@\scode{omp_set_num_threads}} \index{omp_set_num_threads routine@\scode{omp_set_num_threads} routine}"
   ]
  },
  {
   "cell_type": "markdown",
   "metadata": {},
   "source": [
    "Some programs rely on a fixed, prespecified number of threads to execute correctly.  Because the default setting for the dynamic adjustment of the number of threads  is implementation defined, such programs can choose to turn off the dynamic threads  capability and set the number of threads explicitly to ensure portability. The  following example shows how to do this using `omp_set_dynamic`, and `omp_set_num_threads`."
   ]
  },
  {
   "cell_type": "markdown",
   "metadata": {},
   "source": [
    "In this example, the program executes correctly only if it is executed by 16 threads.  If the implementation is not capable of supporting 16 threads, the behavior of  this example is implementation defined. Note that the number of threads executing  a `parallel` region remains constant during the region, regardless of the  dynamic threads setting. The dynamic threads mechanism determines the number of  threads to use at the start of the `parallel` region and keeps it constant  for the duration of the region."
   ]
  },
  {
   "cell_type": "markdown",
   "metadata": {},
   "source": [
    ""
   ]
  },
  {
   "cell_type": "code",
   "execution_count": null,
   "metadata": {},
   "outputs": [],
   "source": [
    "//%compiler: clang\n",
 "//%cflags: -fopenmp\n",
 "\n",
    "/*\n",
    "* name: set_dynamic_nthrs.1\n",
    "* type: C\n",
    "*/\n",
    "#include <omp.h>\n",
    "#include <stdlib.h>\n",
    "\n",
    "void do_by_16(float *x, int iam, int ipoints) {}\n",
    "\n",
    "void dynthreads(float *x, int npoints)\n",
    "{\n",
    "  int iam, ipoints;\n",
    "\n",
    "  omp_set_dynamic(0);\n",
    "  omp_set_num_threads(16);\n",
    "\n",
    "  #pragma omp parallel shared(x, npoints) private(iam, ipoints)\n",
    "  {\n",
    "    if (omp_get_num_threads() != 16)\n",
    "      abort();\n",
    "\n",
    "    iam = omp_get_thread_num();\n",
    "    ipoints = npoints/16;\n",
    "    do_by_16(x, iam, ipoints);\n",
    "  }\n",
    "}\n",
    "\n"
   ]
  },
  {
   "cell_type": "markdown",
   "metadata": {},
   "source": [
    ""
   ]
  },
  {
   "cell_type": "markdown",
   "metadata": {},
   "source": [
    ""
   ]
  },
  {
   "cell_type": "code",
   "execution_count": null,
   "metadata": {},
   "outputs": [],
   "source": [
    "\n",
    "! name: set_dynamic_nthrs.1\n",
    "! type: F-fixed\n",
    "      SUBROUTINE DO_BY_16(X, IAM, IPOINTS)\n",
    "        REAL X(*)\n",
    "        INTEGER IAM, IPOINTS\n",
    "      END SUBROUTINE DO_BY_16\n",
    "\n",
    "      SUBROUTINE DYNTHREADS(X, NPOINTS)\n",
    "\n",
    "        INCLUDE \"omp_lib.h\"      ! or USE OMP_LIB\n",
    "\n",
    "        INTEGER NPOINTS\n",
    "        REAL X(NPOINTS)\n",
    "\n",
    "        INTEGER IAM, IPOINTS\n",
    "\n",
    "        CALL OMP_SET_DYNAMIC(.FALSE.)\n",
    "        CALL OMP_SET_NUM_THREADS(16)\n",
    "\n",
    "!$OMP   PARALLEL SHARED(X,NPOINTS) PRIVATE(IAM, IPOINTS)\n",
    "\n",
    "          IF (OMP_GET_NUM_THREADS() .NE. 16) THEN\n",
    "            STOP\n",
    "          ENDIF\n",
    "\n",
    "          IAM = OMP_GET_THREAD_NUM()\n",
    "          IPOINTS = NPOINTS/16\n",
    "          CALL DO_BY_16(X,IAM,IPOINTS)\n",
    "\n",
    "!$OMP   END PARALLEL\n",
    "\n",
    "      END SUBROUTINE DYNTHREADS\n",
    "\n"
   ]
  },
  {
   "cell_type": "markdown",
   "metadata": {},
   "source": [
    ""
   ]
  },
  {
   "cell_type": "markdown",
   "metadata": {},
   "source": [
    ""
   ]
  },
  {
   "cell_type": "markdown",
   "metadata": {},
   "source": [
    "../../parallel_execution/set_dynamic_nthrs.tex"
   ]
  },
  {
   "cell_type": "markdown",
   "metadata": {},
   "source": [
    ""
   ]
  },
  {
   "cell_type": "markdown",
   "metadata": {},
   "source": [
    "## `omp_get_num_threads` Routine"
   ]
  },
  {
   "cell_type": "markdown",
   "metadata": {},
   "source": [
    "\index{routines!omp_get_num_threads@\scode{omp_get_num_threads}} \index{omp_get_num_threads routine@\scode{omp_get_num_threads} routine}"
   ]
  },
  {
   "cell_type": "markdown",
   "metadata": {},
   "source": [
    "In the following example, the `omp_get_num_threads` call returns 1 in  the sequential part of the code, so `np` will always be equal to 1. To determine  the number of threads that will be deployed for the `parallel` region, the  call should be inside the `parallel` region."
   ]
  },
  {
   "cell_type": "markdown",
   "metadata": {},
   "source": [
    ""
   ]
  },
  {
   "cell_type": "code",
   "execution_count": null,
   "metadata": {},
   "outputs": [],
   "source": [
    "//%compiler: clang\n",
 "//%cflags: -fopenmp\n",
 "\n",
    "/*\n",
    "* name: get_nthrs.1\n",
    "* type: C\n",
    "*/\n",
    "#include <omp.h>\n",
    "void work(int i);\n",
    "\n",
    "void incorrect() {\n",
    "  int np, i;\n",
    "\n",
    "  np = omp_get_num_threads();  /* misplaced */\n",
    "\n",
    "  #pragma omp parallel for schedule(static)\n",
    "  for (i=0; i < np; i++)\n",
    "    work(i);\n",
    "}\n",
    "\n"
   ]
  },
  {
   "cell_type": "markdown",
   "metadata": {},
   "source": [
    ""
   ]
  },
  {
   "cell_type": "markdown",
   "metadata": {},
   "source": [
    ""
   ]
  },
  {
   "cell_type": "code",
   "execution_count": null,
   "metadata": {},
   "outputs": [],
   "source": [
    "\n",
    "! name: get_nthrs.1\n",
    "! type: F-fixed\n",
    "      SUBROUTINE WORK(I)\n",
    "      INTEGER I\n",
    "        I = I + 1\n",
    "      END SUBROUTINE WORK\n",
    "\n",
    "      SUBROUTINE INCORRECT()\n",
    "        INCLUDE \"omp_lib.h\"      ! or USE OMP_LIB\n",
    "        INTEGER I, NP\n",
    "\n",
    "        NP = OMP_GET_NUM_THREADS()   !misplaced: will return 1\n",
    "!$OMP   PARALLEL DO SCHEDULE(STATIC)\n",
    "          DO I = 0, NP-1\n",
    "            CALL WORK(I)\n",
    "          ENDDO\n",
    "!$OMP   END PARALLEL DO\n",
    "      END SUBROUTINE INCORRECT\n",
    "\n"
   ]
  },
  {
   "cell_type": "markdown",
   "metadata": {},
   "source": [
    ""
   ]
  },
  {
   "cell_type": "markdown",
   "metadata": {},
   "source": [
    "The following example shows how to rewrite this program without including a query  for the number of threads:"
   ]
  },
  {
   "cell_type": "markdown",
   "metadata": {},
   "source": [
    ""
   ]
  },
  {
   "cell_type": "code",
   "execution_count": null,
   "metadata": {},
   "outputs": [],
   "source": [
    "//%compiler: clang\n",
 "//%cflags: -fopenmp\n",
 "\n",
    "/*\n",
    "* name: get_nthrs.2\n",
    "* type: C\n",
    "*/\n",
    "#include <omp.h>\n",
    "void work(int i);\n",
    "\n",
    "void correct()\n",
    "{\n",
    "  int i;\n",
    "\n",
    "  #pragma omp parallel private(i)\n",
    "  {\n",
    "    i = omp_get_thread_num();\n",
    "    work(i);\n",
    "  }\n",
    "}\n",
    "\n"
   ]
  },
  {
   "cell_type": "markdown",
   "metadata": {},
   "source": [
    ""
   ]
  },
  {
   "cell_type": "markdown",
   "metadata": {},
   "source": [
    ""
   ]
  },
  {
   "cell_type": "code",
   "execution_count": null,
   "metadata": {},
   "outputs": [],
   "source": [
    "\n",
    "! name: get_nthrs.2\n",
    "! type: F-fixed\n",
    "      SUBROUTINE WORK(I)\n",
    "        INTEGER I\n",
    "\n",
    "        I = I + 1\n",
    "\n",
    "      END SUBROUTINE WORK\n",
    "\n",
    "      SUBROUTINE CORRECT()\n",
    "        INCLUDE \"omp_lib.h\"     ! or USE OMP_LIB\n",
    "        INTEGER I\n",
    "\n",
    "!$OMP    PARALLEL PRIVATE(I)\n",
    "          I = OMP_GET_THREAD_NUM()\n",
    "          CALL WORK(I)\n",
    "!$OMP   END PARALLEL\n",
    "\n",
    "      END SUBROUTINE CORRECT\n",
    "\n"
   ]
  },
  {
   "cell_type": "markdown",
   "metadata": {},
   "source": [
    ""
   ]
  },
  {
   "cell_type": "markdown",
   "metadata": {},
   "source": [
    ""
   ]
  },
  {
   "cell_type": "markdown",
   "metadata": {},
   "source": [
    "../../parallel_execution/get_nthrs.tex"
   ]
  },
  {
   "cell_type": "markdown",
   "metadata": {},
   "source": [
    ""
   ]
  }
 ],
 "metadata": {
  "kernelspec": {
   "display_name": "Native",
   "language": "native",
   "name": "native"
  },
  "language_info": {
   "file_extension": ".c",
   "mimetype": "text/plain",
   "name": "none"
  }
 },
 "nbformat": 4,
 "nbformat_minor": 2
}