{
 "cells": [
  {
   "cell_type": "markdown",
   "metadata": {},
   "source": [
    ""
   ]
  },
  {
   "cell_type": "markdown",
   "metadata": {},
   "source": [
    "# Parallel Execution"
   ]
  },
  {
   "cell_type": "markdown",
   "metadata": {},
   "source": [
    ""
   ]
  },
  {
   "cell_type": "markdown",
   "metadata": {},
   "source": [
    "A single thread, the  _initial thread_ , begins sequential execution of  an OpenMP enabled program, as if the whole program is in an implicit parallel region consisting of an implicit task executed by the  _initial thread_ ."
   ]
  },
  {
   "cell_type": "markdown",
   "metadata": {},
   "source": [
    "A `parallel` construct encloses code,  forming a parallel region.  An  _initial thread_  encountering a `parallel`  region forks (creates) a team of threads at the beginning of the  `parallel` region, and joins them (removes from execution) at the  end of the region.  The initial thread becomes the master thread of the team in a  `parallel` region with a  _thread_  number equal to zero, the other  threads are numbered from 1 to number of threads minus 1.  A team may be comprised of just a single thread."
   ]
  },
  {
   "cell_type": "markdown",
   "metadata": {},
   "source": [
    "Each thread of a team is assigned an implicit task consisting of code within the  parallel region. The task that creates a parallel region is suspended while the tasks of the team are executed.  A thread is tied to its task; that is, only the thread assigned to the task can execute that task.  After completion  of the `parallel` region, the master thread resumes execution of the generating task."
   ]
  },
  {
   "cell_type": "markdown",
   "metadata": {},
   "source": [
    ""
   ]
  },
  {
   "cell_type": "markdown",
   "metadata": {},
   "source": [
    "Any task within a `parallel` region is allowed to encounter another `parallel` region to form a nested `parallel` region. The  parallelism of a nested `parallel` region (whether it forks additional  threads, or is executed serially by the encountering task) can be controlled by the `OMP_NESTED` environment variable or the `omp_set_nested()`  API routine with arguments indicating true or false."
   ]
  },
  {
   "cell_type": "markdown",
   "metadata": {},
   "source": [
    "The number of threads of a `parallel` region can be set by the `OMP_NUM_THREADS` environment variable, the `omp_set_num_threads()` routine, or on the `parallel`  directive with the `num_threads` clause. The routine overrides the environment variable, and the clause overrides all.  Use the `OMP_DYNAMIC` or the `omp_set_dynamic()` function to specify that the OpenMP implementation dynamically adjust the number of threads for `parallel` regions.  The default setting for dynamic adjustment is implementation defined. When dynamic adjustment is on and the number of threads is specified, the number of threads becomes an upper limit for the number of threads to be provided by the OpenMP runtime."
   ]
  },
  {
   "cell_type": "markdown",
   "metadata": {},
   "source": [
    "WORKSHARING CONSTRUCTS"
   ]
  },
  {
   "cell_type": "markdown",
   "metadata": {},
   "source": [
    "A worksharing construct distributes the execution of the associated region among the members of the team that encounter it.  There is an implied barrier at the end of the worksharing region (there is no barrier at the beginning). The worksharing constructs are:"
   ]
  },
  {
   "cell_type": "markdown",
   "metadata": {},
   "source": [
    ""
   ]
  },
  {
   "cell_type": "markdown",
   "metadata": {},
   "source": [
    ""
   ]
  },
  {
   "cell_type": "markdown",
   "metadata": {},
   "source": [
    "*  loop constructs: {`for` and `do` }"
   ]
  },
  {
   "cell_type": "markdown",
   "metadata": {},
   "source": [
    "*  `sections`"
   ]
  },
  {
   "cell_type": "markdown",
   "metadata": {},
   "source": [
    "*  `single`"
   ]
  },
  {
   "cell_type": "markdown",
   "metadata": {},
   "source": [
    "*  `workshare`"
   ]
  },
  {
   "cell_type": "markdown",
   "metadata": {},
   "source": [
    ""
   ]
  },
  {
   "cell_type": "markdown",
   "metadata": {},
   "source": [
    "The `for` and `do` constructs (loop constructs) create a region  consisting of a loop.  A loop controlled by a loop construct is called  an  _associated_  loop.  Nested loops can form a single region when the  `collapse` clause (with an integer argument) designates the number of   _associated_  loops to be executed in parallel, by forming a  \"single iteration space\" for the specified number of nested loops.   The `ordered` clause can also control multiple associated loops."
   ]
  },
  {
   "cell_type": "markdown",
   "metadata": {},
   "source": [
    "An associated loop must adhere to a \"canonical form\" (specified in the   _Canonical Loop Form_  of the OpenMP Specifications document) which allows the  iteration count (of all associated loops) to be computed before the  (outermost) loop is executed. Most common loops comply with the canonical form, including C++ iterators."
   ]
  },
  {
   "cell_type": "markdown",
   "metadata": {},
   "source": [
    "A `single` construct forms a region in which only one thread (any one  of the team) executes the region.  The other threads wait at the implied  barrier at the end, unless the `nowait` clause is specified."
   ]
  },
  {
   "cell_type": "markdown",
   "metadata": {},
   "source": [
    "The `sections` construct forms a region that contains one or more  structured blocks.  Each block of a `sections` directive is  constructed with a `section` construct, and executed once by  one of the threads (any one) in the team.  (If only one block is  formed in the region, the `section` construct, which is used to separate blocks, is not required.) The other threads wait at the implied  barrier at the end, unless the `nowait` clause is specified."
   ]
  },
  {
   "cell_type": "markdown",
   "metadata": {},
   "source": [
    ""
   ]
  },
  {
   "cell_type": "markdown",
   "metadata": {},
   "source": [
    "The `workshare` construct is a Fortran feature that consists of a region with a single structure block (section of code). Statements in the `workshare` region are divided into units of work, and executed (once) by threads of the team."
   ]
  },
  {
   "cell_type": "markdown",
   "metadata": {},
   "source": [
    ""
   ]
  },
  {
   "cell_type": "markdown",
   "metadata": {},
   "source": [
    ""
   ]
  },
  {
   "cell_type": "markdown",
   "metadata": {},
   "source": [
    "MASTER CONSTRUCT"
   ]
  },
  {
   "cell_type": "markdown",
   "metadata": {},
   "source": [
    "The `master` construct is not a worksharing construct.  The master region is is executed only by the master thread. There is no implicit barrier (and flush)  at the end of the `master` region; hence the other threads of the team continue execution beyond code statements beyond the `master` region."
   ]
  },
  {
   "cell_type": "markdown",
   "metadata": {},
   "source": [
    ""
   ]
  }
 ],
 "metadata": {
  "kernelspec": {
   "display_name": "Native",
   "language": "native",
   "name": "native"
  },
  "language_info": {
   "file_extension": ".c",
   "mimetype": "text/plain",
   "name": "none"
  }
 },
 "nbformat": 4,
 "nbformat_minor": 2
}