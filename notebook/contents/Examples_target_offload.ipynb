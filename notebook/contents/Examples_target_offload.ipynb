{
 "cells": [
  {
   "cell_type": "markdown",
   "metadata": {},
   "source": [
    " ### Target Offload"
   ]
  },
  {
   "cell_type": "markdown",
   "metadata": {},
   "source": [
    " In the OpenMP 5.0 implementation the  `OMP_TARGET_OFFLOAD`  environment variable was defined to change  _default_  offload behavior.  By  _default_  the target  (region) is executed on the host if the target device  does not exist or the implementation does not support the target device.   \n",
"Last sentence uses words of the 5.0 spec pg. 21 lines 7-8"
   ]
  },
  {
   "cell_type": "markdown",
   "metadata": {},
   "source": [
    " In an OpenMP 5.0 compliant implementation, setting the   `OMP_TARGET_OFFLOAD`  variable to  `MANDATORY`  will  force the program to terminate execution when a  `target`   construct is encountered and the target device is not supported or is not available. With a value  `DEFAULT`  the target region will execute on a device if the  device exists and is supported by the implementation, otherwise it will execute on the host. Support for the  `DISABLED`  value is optional; when it is supported the behavior is as if only the  host device exists (other devices are considered non-existent to the runtime),  and target regions are executed on the host.  "
   ]
  },
  {
   "cell_type": "markdown",
   "metadata": {},
   "source": [
    " The following example reports execution behavior for different  values of the  `OMP_TARGET_OFFLOAD`  variable. A handy routine  for extracting the  `OMP_TARGET_OFFLOAD`  environment variable value is deployed here, because the OpenMP API does not have a routine  for obtaining the value. \n",
"({yet})."
   ]
  },
  {
   "cell_type": "markdown",
   "metadata": {},
   "source": [
    " Note:  The example issues a warning when a pre-5.0 implementation is used, indicating that the  `OMP_TARGET_OFFLOAD`  is ignored. The value of the  `OMP_TARGET_OFFLOAD`  variable is reported  when the  `OMP_DISPLAY_ENV`   environment variable is set to  `TRUE`  or  `5.0.1BOSE` ."
   ]
  },
  {
   "cell_type": "markdown",
   "metadata": {},
   "source": [
    " \n",
"cexample[5.0]{target_offload_control}{1}"
   ]
  },
  {
   "cell_type": "markdown",
   "metadata": {},
   "source": [
    " \n",
"ffreeexample[5.0]{target_offload_control}{1}"
   ]
  },
  {
   "cell_type": "markdown",
   "metadata": {},
   "source": [
    " "
   ]
  },
  {
   "cell_type": "markdown",
   "metadata": {},
   "source": [
    ""
   ]
  }
 ],
 "metadata": {
  "kernelspec": {
   "display_name": "Native",
   "language": "native",
   "name": "native"
  },
  "language_info": {
   "file_extension": ".c",
   "mimetype": "text/plain",
   "name": "c"
  }
 },
 "nbformat": 4,
 "nbformat_minor": 2
}