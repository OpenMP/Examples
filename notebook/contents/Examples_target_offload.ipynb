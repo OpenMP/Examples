{
 "cells": [
  {
   "cell_type": "markdown",
   "metadata": {},
   "source": [
    ""
   ]
  },
  {
   "cell_type": "markdown",
   "metadata": {},
   "source": [
    "## Target Offload"
   ]
  },
  {
   "cell_type": "markdown",
   "metadata": {},
   "source": [
    ""
   ]
  },
  {
   "cell_type": "markdown",
   "metadata": {},
   "source": [
    "In the OpenMP 5.0 implementation the `OMP_TARGET_OFFLOAD` environment variable was defined to change  _default_  offload behavior.  By  _default_  the target code (region) is executed on the host if the target device  does not exist or the implementation does not support the target device."
   ]
  },
  {
   "cell_type": "markdown",
   "metadata": {},
   "source": [
    "In an OpenMP 5.0 compliant implementation, setting the  `OMP_TARGET_OFFLOAD` variable to `MANDATORY` will  force the program to terminate execution when a `target`  construct is encountered and the target device is not supported or is not available. With a value `DEFAULT` the target region will execute on a device if the  device exists and is supported by the implementation, otherwise it will execute on the host. Support for the `DISABLED` value is optional; when it is supported the behavior is as if only the  host device exists (other devices are considered non-existent to the runtime),  and target regions are executed on the host."
   ]
  },
  {
   "cell_type": "markdown",
   "metadata": {},
   "source": [
    "The following example reports execution behavior for different  values of the `OMP_TARGET_OFFLOAD` variable. A handy routine  for extracting the `OMP_TARGET_OFFLOAD` environment variable value is deployed here, because the OpenMP API does not have a routine  for obtaining the value."
   ]
  },
  {
   "cell_type": "markdown",
   "metadata": {},
   "source": [
    "Note:  The example issues a warning when a pre-5.0 implementation is used, indicating that the `OMP_TARGET_OFFLOAD` is ignored. The value of the `OMP_TARGET_OFFLOAD` variable is reported  when the `OMP_DISPLAY_ENV`  environment variable is set to `TRUE` or `VERBOSE`."
   ]
  },
  {
   "cell_type": "markdown",
   "metadata": {},
   "source": [
    ""
   ]
  },
  {
   "cell_type": "code",
   "execution_count": null,
   "metadata": {},
   "outputs": [],
   "source": [
    "//%compiler: clang\n",
 "//%cflags: -fopenmp\n",
 "\n",
    "/*\n",
    "* name: target_offload_control.1c\n",
    "* type: C\n",
    "* version: omp_5.0\n",
    "*/\n",
    "\n",
    "#include    <omp.h>\n",
    "#include  <stdio.h>\n",
    "#include  <ctype.h>\n",
    "#include <stdlib.h>\n",
    "#include <string.h>\n",
    "\n",
    "typedef enum offload_policy\n",
    "{MANDATORY, DISABLED, DEFAULT, UNKNOWN, NOTSET} offload_policy_t;\n",
    "\n",
    "\n",
    "offload_policy_t get_offload_policy()\n",
    "{\n",
    "   char *env, *end;\n",
    "   size_t n;\n",
    "\n",
    "   env = getenv(\"OMP_TARGET_OFFLOAD\");\n",
    "   if(env  == NULL) return NOTSET;\n",
    "\n",
    "   end = env + strlen(env);                //Find trimmed beginning/end\n",
    "   while (      *env && isspace(*(env  )) ) env++;\n",
    "   while (end != env && isspace(*(end-1)) ) end--;\n",
    "   n = (int)(end - env);\n",
    "\n",
    "                    //Find ONLY string -nothing more, case insensitive\n",
    "   if      (n == 9 && !strncasecmp(env, \"MANDATORY\",n)) return MANDATORY;\n",
    "   else if (n == 8 && !strncasecmp(env, \"DISABLED\" ,n)) return DISABLED ;\n",
    "   else if (n == 7 && !strncasecmp(env, \"DEFAULT\"  ,n)) return DEFAULT  ;\n",
    "   else                                                 return UNKNOWN  ;\n",
    "}\n",
    "\n",
    "\n",
    "int main()\n",
    "{\n",
    "   int i;\n",
    "   int device_num, on_init_dev;\n",
    "\n",
    "                              // get policy from OMP_TARGET_OFFLOAD variable\n",
    "   offload_policy_t policy = get_offload_policy();\n",
    "\n",
    "   if(_OPENMP< 201811)\n",
    "   {\n",
    "      printf(\"Warning: OMP_TARGET_OFFLOAD NOT supported by VER. %d\\n\",_OPENMP );\n",
    "      printf(\"         If OMP_TARGET_OFFLOAD is set, it will be ignored.\\n\");\n",
    "   }\n",
    "\n",
    "                              // Set target device number to an unavailable\n",
    "                              // device to test offload policy.\n",
    "   device_num = omp_get_num_devices() + 1;\n",
    "\n",
    "                                   // Policy:\n",
    "   printf(\"OMP_TARGET_OFFLOAD Policy:  \");\n",
    "   if     (policy==MANDATORY) printf(\"MANDATORY-Terminate if dev. not avail\\n\");\n",
    "   else if(policy==DISABLED ) printf(\"DISABLED -(if supported) Only on Host\\n\");\n",
    "   else if(policy==DEFAULT  ) printf(\"DEFAULT  -On host if device not avail\\n\");\n",
    "   else if(policy==UNKNOWN  ) printf(\"OMP_TARGET_OFFLOAD has unknown value\\n\" );\n",
    "   else if(policy==NOTSET   ) printf(\"OMP_TARGET_OFFLOAD not set\\n\" );\n",
    "\n",
    "\n",
    "   on_init_dev = 1;\n",
    "                                         // device# out of range--not supported\n",
    "   #pragma omp target device(device_num) map(tofrom: on_init_dev)\n",
    "     on_init_dev=omp_is_initial_device();\n",
    "\n",
    "   if (policy == MANDATORY && _OPENMP >= 201811)\n",
    "      printf(\"ERROR: OpenMP 5.0 implementation ignored MANDATORY policy.\\n\");\n",
    "\n",
    "   printf(\"Target region executed on init dev %s\\n\", on_init_dev ? \"TRUE\":\"FALSE\");\n",
    "\n",
    "   return 0;\n",
    "}\n",
    "\n"
   ]
  },
  {
   "cell_type": "markdown",
   "metadata": {},
   "source": [
    ""
   ]
  },
  {
   "cell_type": "markdown",
   "metadata": {},
   "source": [
    ""
   ]
  },
  {
   "cell_type": "code",
   "execution_count": null,
   "metadata": {},
   "outputs": [],
   "source": [
    "\n",
    "! name: target_offload_control.1f90\n",
    "! type: F-free\n",
    "! version: omp_5.0\n",
    "\n",
    "\n",
    "module offload_policy\n",
    "  implicit none\n",
    "  integer, parameter :: LEN_POLICY=10\n",
    "contains\n",
    "  character(LEN_POLICY) function get_offload_policy()\n",
    "     character(64) :: env\n",
    "     integer       :: length, i\n",
    "     env=repeat(' ',len(env))\n",
    "                                    !policy is blank if not found *\n",
    "     call get_environment_variable(\"OMP_TARGET_OFFLOAD\",env,length)\n",
    "\n",
    "     do i = 1,len(env)              !Makes a-z upper case\n",
    "        if(iachar(env(i:i))>96) env(i:i)=achar(iachar(env(i:i))-32)\n",
    "     end do\n",
    "\n",
    "     get_offload_policy = trim(adjustl(env)) !remove peripheral spaces\n",
    "\n",
    "     if(length==0) get_offload_policy=\"NOTSET\"\n",
    "\n",
    "     return\n",
    "\n",
    "  end function\n",
    "\n",
    "end module\n",
    "\n",
    "program policy_test\n",
    "\n",
    "  use omp_lib\n",
    "  use offload_policy\n",
    "\n",
    "  integer                :: i, device_num\n",
    "  logical                :: on_init_dev\n",
    "  character(LEN_POLICY)  :: policy\n",
    "\n",
    "  policy = get_offload_policy() !!Get OMP_TARGET_OFFLOAD value\n",
    "\n",
    "  if (OPENMP_VERSION < 201811) then\n",
    "     print*,\"Warning: OMP_TARGET_OFFLOAD NOT supported by VER.\",OPENMP_VERSION\n",
    "     print*,\"         If OMP_TARGET_OFFLOAD is set, it will be ignored.\"\n",
    "  endif\n",
    "\n",
    "     !Set target device number to an unavailable device to test offload policy.\n",
    "  device_num = omp_get_num_devices() + 1\n",
    "\n",
    "                      !!Report OMP_TARGET_OFFOAD value\n",
    "  select CASE (policy)\n",
    "     case(\"MANDATORY\")\n",
    "                     print*,\"Policy:  MANDATORY-Terminate if dev. not avail.\"\n",
    "     case(\"DISABLED\")\n",
    "                     print*,\"Policy:  DISABLED-(if supported) Only on Host.\"\n",
    "     case(\"DEFAULT\")\n",
    "                     print*,\"Policy:  DEFAULT On host if device not avail.\"\n",
    "     case(\"NOTSET\")\n",
    "                     print*,\"         OMP_TARGET_OFFLOAD is not set.\"\n",
    "     case DEFAULT\n",
    "                     print*,\"         OMP_TARGET_OFFLOAD has unknown value.\"\n",
    "                     print*,\"         UPPER CASE VALUE=\",policy\n",
    "  end select\n",
    "\n",
    "\n",
    "  on_init_dev = .FALSE.\n",
    "                                      !! device# out of range--not supported\n",
    "  !$omp target  device(device_num) map(tofrom: on_init_dev)\n",
    "     on_init_dev=omp_is_initial_device()\n",
    "  !$omp end target\n",
    "\n",
    "  if (policy==\"MANDATORY\" .and. OPENMP_VERSION>=201811) then\n",
    "     print*,\"OMP ERROR: OpenMP 5.0 implementation ignored MANDATORY policy.\"\n",
    "     print*,\"           Termination should have occurred at target directive.\"\n",
    "  endif\n",
    "\n",
    "  print*, \"Target executed on init dev (T|F): \", on_init_dev\n",
    "\n",
    "end program policy_test\n",
    "\n"
   ]
  },
  {
   "cell_type": "markdown",
   "metadata": {},
   "source": [
    ""
   ]
  },
  {
   "cell_type": "markdown",
   "metadata": {},
   "source": [
    ""
   ]
  },
  {
   "cell_type": "markdown",
   "metadata": {},
   "source": [
    ""
   ]
  }
 ],
 "metadata": {
  "kernelspec": {
   "display_name": "Native",
   "language": "native",
   "name": "native"
  },
  "language_info": {
   "file_extension": ".c",
   "mimetype": "text/plain",
   "name": "none"
  }
 },
 "nbformat": 4,
 "nbformat_minor": 2
}