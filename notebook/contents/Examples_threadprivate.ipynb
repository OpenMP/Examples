{
 "cells": [
  {
   "cell_type": "markdown",
   "metadata": {},
   "source": [
    ""
   ]
  },
  {
   "cell_type": "markdown",
   "metadata": {},
   "source": [
    "## The `threadprivate` Directive"
   ]
  },
  {
   "cell_type": "markdown",
   "metadata": {},
   "source": [
    ""
   ]
  },
  {
   "cell_type": "markdown",
   "metadata": {},
   "source": [
    "The following examples demonstrate how to use the `threadprivate` directive   to give each thread a separate counter."
   ]
  },
  {
   "cell_type": "markdown",
   "metadata": {},
   "source": [
    ""
   ]
  },
  {
   "cell_type": "code",
   "execution_count": null,
   "metadata": {},
   "outputs": [],
   "source": [
    "//%compiler: clang\n",
 "//%cflags: -fopenmp\n",
 "\n",
    "/*\n",
    "* name: threadprivate.1c\n",
    "* type: C\n",
    "*/\n",
    "int counter = 0;\n",
    "#pragma omp threadprivate(counter)\n",
    "\n",
    "int increment_counter()\n",
    "{\n",
    "  counter++;\n",
    "  return(counter);\n",
    "}\n",
    "\n"
   ]
  },
  {
   "cell_type": "markdown",
   "metadata": {},
   "source": [
    ""
   ]
  },
  {
   "cell_type": "markdown",
   "metadata": {},
   "source": [
    ""
   ]
  },
  {
   "cell_type": "code",
   "execution_count": null,
   "metadata": {},
   "outputs": [],
   "source": [
    "\n",
    "! name: threadprivate.1f\n",
    "! type: F-fixed\n",
    "      INTEGER FUNCTION INCREMENT_COUNTER()\n",
    "        COMMON/INC_COMMON/COUNTER\n",
    "!$OMP   THREADPRIVATE(/INC_COMMON/)\n",
    "\n",
    "        COUNTER = COUNTER +1\n",
    "        INCREMENT_COUNTER = COUNTER\n",
    "        RETURN\n",
    "      END FUNCTION INCREMENT_COUNTER\n",
    "\n"
   ]
  },
  {
   "cell_type": "markdown",
   "metadata": {},
   "source": [
    ""
   ]
  },
  {
   "cell_type": "markdown",
   "metadata": {},
   "source": [
    "The following example uses `threadprivate` on a static variable:"
   ]
  },
  {
   "cell_type": "markdown",
   "metadata": {},
   "source": [
    ""
   ]
  },
  {
   "cell_type": "code",
   "execution_count": null,
   "metadata": {},
   "outputs": [],
   "source": [
    "//%compiler: clang\n",
 "//%cflags: -fopenmp\n",
 "\n",
    "/*\n",
    "* name: threadprivate.2c\n",
    "* type: C\n",
    "*/\n",
    "int increment_counter_2()\n",
    "{\n",
    "  static int counter = 0;\n",
    "  #pragma omp threadprivate(counter)\n",
    "  counter++;\n",
    "  return(counter);\n",
    "}\n",
    "\n"
   ]
  },
  {
   "cell_type": "markdown",
   "metadata": {},
   "source": [
    ""
   ]
  },
  {
   "cell_type": "markdown",
   "metadata": {},
   "source": [
    "The following example demonstrates unspecified behavior for the initialization  of a `threadprivate` variable. A `threadprivate`  variable is initialized  once at an unspecified point before its first reference. Because `a` is  constructed using the value of `x`  (which is modified by the statement  `x++`), the value of `a.val`  at the start of the `parallel`  region could be either 1 or 2. This problem is avoided for `b`, which uses  an auxiliary `const` variable and a copy-constructor."
   ]
  },
  {
   "cell_type": "markdown",
   "metadata": {},
   "source": [
    ""
   ]
  },
  {
   "cell_type": "code",
   "execution_count": null,
   "metadata": {},
   "outputs": [],
   "source": [
    "//%compiler: clang\n",
 "//%cflags: -fopenmp\n",
 "\n",
    "/*\n",
    "* name: threadprivate.3c\n",
    "* type: C++\n",
    "*/\n",
    "class T {\n",
    "  public:\n",
    "    int val;\n",
    "    T (int);\n",
    "    T (const T&);\n",
    "};\n",
    "\n",
    "T :: T (int v){\n",
    "   val = v;\n",
    "}\n",
    "\n",
    "T :: T (const T& t) {\n",
    "   val = t.val;\n",
    "}\n",
    "\n",
    "void g(T a, T b){\n",
    "   a.val += b.val;\n",
    "}\n",
    "\n",
    "int x = 1;\n",
    "T a(x);\n",
    "const T b_aux(x); /* Capture value of x = 1 */\n",
    "T b(b_aux);\n",
    "#pragma omp threadprivate(a, b)\n",
    "\n",
    "void f(int n) {\n",
    "   x++;\n",
    "   #pragma omp parallel for\n",
    "   /* In each thread:\n",
    "    * a is constructed from x (with value 1 or 2?)\n",
    "    * b is copy-constructed from b_aux\n",
    "    */\n",
    "\n",
    "   for (int i=0; i<n; i++) {\n",
    "       g(a, b); /* Value of a is unspecified. */\n",
    "   }\n",
    "}\n",
    "\n"
   ]
  },
  {
   "cell_type": "markdown",
   "metadata": {},
   "source": [
    ""
   ]
  },
  {
   "cell_type": "markdown",
   "metadata": {},
   "source": [
    "The following examples show non-conforming uses and correct uses of the `threadprivate`  directive."
   ]
  },
  {
   "cell_type": "markdown",
   "metadata": {},
   "source": [
    "The following example is non-conforming because the common block is not declared  local to the subroutine that refers to it:"
   ]
  },
  {
   "cell_type": "markdown",
   "metadata": {},
   "source": [
    ""
   ]
  },
  {
   "cell_type": "code",
   "execution_count": null,
   "metadata": {},
   "outputs": [],
   "source": [
    "\n",
    "! name: threadprivate.2f\n",
    "! type: F-fixed\n",
    "      MODULE INC_MODULE\n",
    "        COMMON /T/ A\n",
    "      END MODULE INC_MODULE\n",
    "\n",
    "      SUBROUTINE INC_MODULE_WRONG()\n",
    "        USE INC_MODULE\n",
    "!$OMP   THREADPRIVATE(/T/)\n",
    "      !non-conforming because /T/ not declared in INC_MODULE_WRONG\n",
    "      END SUBROUTINE INC_MODULE_WRONG\n",
    "\n"
   ]
  },
  {
   "cell_type": "markdown",
   "metadata": {},
   "source": [
    ""
   ]
  },
  {
   "cell_type": "markdown",
   "metadata": {},
   "source": [
    "The following example is also non-conforming because the common block is not declared  local to the subroutine that refers to it:"
   ]
  },
  {
   "cell_type": "markdown",
   "metadata": {},
   "source": [
    ""
   ]
  },
  {
   "cell_type": "code",
   "execution_count": null,
   "metadata": {},
   "outputs": [],
   "source": [
    "\n",
    "! name: threadprivate.3f\n",
    "! type: F-fixed\n",
    "      SUBROUTINE INC_WRONG()\n",
    "        COMMON /T/ A\n",
    "!$OMP   THREADPRIVATE(/T/)\n",
    "\n",
    "        CONTAINS\n",
    "          SUBROUTINE INC_WRONG_SUB()\n",
    "!$OMP       PARALLEL COPYIN(/T/)\n",
    "      !non-conforming because /T/ not declared in INC_WRONG_SUB\n",
    "!$OMP       END PARALLEL\n",
    "          END SUBROUTINE INC_WRONG_SUB\n",
    "      END SUBROUTINE INC_WRONG\n",
    "\n"
   ]
  },
  {
   "cell_type": "markdown",
   "metadata": {},
   "source": [
    ""
   ]
  },
  {
   "cell_type": "markdown",
   "metadata": {},
   "source": [
    "The following example is a correct rewrite of the previous example:"
   ]
  },
  {
   "cell_type": "markdown",
   "metadata": {},
   "source": [
    ""
   ]
  },
  {
   "cell_type": "code",
   "execution_count": null,
   "metadata": {},
   "outputs": [],
   "source": [
    "\n",
    "! name: threadprivate.4f\n",
    "! type: F-fixed\n",
    "       SUBROUTINE INC_GOOD()\n",
    "        COMMON /T/ A\n",
    "!$OMP   THREADPRIVATE(/T/)\n",
    "\n",
    "        CONTAINS\n",
    "          SUBROUTINE INC_GOOD_SUB()\n",
    "            COMMON /T/ A\n",
    "!$OMP       THREADPRIVATE(/T/)\n",
    "\n",
    "!$OMP       PARALLEL COPYIN(/T/)\n",
    "!$OMP       END PARALLEL\n",
    "         END SUBROUTINE INC_GOOD_SUB\n",
    "       END SUBROUTINE INC_GOOD\n",
    "\n"
   ]
  },
  {
   "cell_type": "markdown",
   "metadata": {},
   "source": [
    ""
   ]
  },
  {
   "cell_type": "markdown",
   "metadata": {},
   "source": [
    "The following is an example of the use of `threadprivate` for local variables:"
   ]
  },
  {
   "cell_type": "markdown",
   "metadata": {},
   "source": [
    ""
   ]
  },
  {
   "cell_type": "code",
   "execution_count": null,
   "metadata": {},
   "outputs": [],
   "source": [
    "\n",
    "! name: threadprivate.5f\n",
    "! type: F-fixed\n",
    "      PROGRAM INC_GOOD2\n",
    "        INTEGER, ALLOCATABLE, SAVE :: A(:)\n",
    "        INTEGER, POINTER, SAVE :: PTR\n",
    "        INTEGER, SAVE :: I\n",
    "        INTEGER, TARGET :: TARG\n",
    "        LOGICAL :: FIRSTIN = .TRUE.\n",
    "!$OMP   THREADPRIVATE(A, I, PTR)\n",
    "\n",
    "        ALLOCATE (A(3))\n",
    "        A = (/1,2,3/)\n",
    "        PTR => TARG\n",
    "        I = 5\n",
    "\n",
    "!$OMP   PARALLEL COPYIN(I, PTR)\n",
    "!$OMP     CRITICAL\n",
    "            IF (FIRSTIN) THEN\n",
    "              TARG = 4           ! Update target of ptr\n",
    "              I = I + 10\n",
    "              IF (ALLOCATED(A)) A = A + 10\n",
    "              FIRSTIN = .FALSE.\n",
    "            END IF\n",
    "\n",
    "            IF (ALLOCATED(A)) THEN\n",
    "              PRINT *, 'a = ', A\n",
    "            ELSE\n",
    "              PRINT *, 'A is not allocated'\n",
    "            END IF\n",
    "\n",
    "            PRINT *, 'ptr = ', PTR\n",
    "            PRINT *, 'i = ', I\n",
    "            PRINT *\n",
    "\n",
    "!$OMP     END CRITICAL\n",
    "!$OMP   END PARALLEL\n",
    "      END PROGRAM INC_GOOD2\n",
    "\n"
   ]
  },
  {
   "cell_type": "markdown",
   "metadata": {},
   "source": [
    ""
   ]
  },
  {
   "cell_type": "markdown",
   "metadata": {},
   "source": [
    "The above program, if executed by two threads, will print one of the following  two sets of output:"
   ]
  },
  {
   "cell_type": "markdown",
   "metadata": {},
   "source": [
    "`a = 11 12 13`  `ptr = 4`  `i = 15`"
   ]
  },
  {
   "cell_type": "markdown",
   "metadata": {},
   "source": [
    "`A is not allocated`  `ptr = 4`  `i = 5`"
   ]
  },
  {
   "cell_type": "markdown",
   "metadata": {},
   "source": [
    "or"
   ]
  },
  {
   "cell_type": "markdown",
   "metadata": {},
   "source": [
    "`A is not allocated`  `ptr = 4`  `i = 15`"
   ]
  },
  {
   "cell_type": "markdown",
   "metadata": {},
   "source": [
    "`a = 1 2 3`  `ptr = 4`  `i = 5`"
   ]
  },
  {
   "cell_type": "markdown",
   "metadata": {},
   "source": [
    "The following is an example of the use of `threadprivate` for module variables:"
   ]
  },
  {
   "cell_type": "markdown",
   "metadata": {},
   "source": [
    ""
   ]
  },
  {
   "cell_type": "code",
   "execution_count": null,
   "metadata": {},
   "outputs": [],
   "source": [
    "\n",
    "! name: threadprivate.6f\n",
    "! type: F-fixed\n",
    "      MODULE INC_MODULE_GOOD3\n",
    "        REAL, POINTER :: WORK(:)\n",
    "        SAVE WORK\n",
    "!$OMP   THREADPRIVATE(WORK)\n",
    "      END MODULE INC_MODULE_GOOD3\n",
    "\n",
    "      SUBROUTINE SUB1(N)\n",
    "      USE INC_MODULE_GOOD3\n",
    "!$OMP   PARALLEL PRIVATE(THE_SUM)\n",
    "        ALLOCATE(WORK(N))\n",
    "        CALL SUB2(THE_SUM)\n",
    "       WRITE(*,*)THE_SUM\n",
    "!$OMP   END PARALLEL\n",
    "      END SUBROUTINE SUB1\n",
    "\n",
    "      SUBROUTINE SUB2(THE_SUM)\n",
    "        USE INC_MODULE_GOOD3\n",
    "        WORK(:) = 10\n",
    "        THE_SUM=SUM(WORK)\n",
    "      END SUBROUTINE SUB2\n",
    "\n",
    "      PROGRAM INC_GOOD3\n",
    "        N = 10\n",
    "        CALL SUB1(N)\n",
    "      END PROGRAM INC_GOOD3\n",
    "\n"
   ]
  },
  {
   "cell_type": "markdown",
   "metadata": {},
   "source": [
    ""
   ]
  },
  {
   "cell_type": "markdown",
   "metadata": {},
   "source": [
    "The following example illustrates initialization of `threadprivate` variables  for class-type `T`. `t1` is default constructed, `t2` is constructed  taking a constructor accepting one argument of integer type, `t3` is copy  constructed with argument `f()`:"
   ]
  },
  {
   "cell_type": "markdown",
   "metadata": {},
   "source": [
    ""
   ]
  },
  {
   "cell_type": "code",
   "execution_count": null,
   "metadata": {},
   "outputs": [],
   "source": [
    "//%compiler: clang\n",
 "//%cflags: -fopenmp\n",
 "\n",
    "/*\n",
    "* name: threadprivate.4c\n",
    "* type: C++\n",
    "*/\n",
    "struct T { T (); T (int); ~T (); int t; };\n",
    "int f();\n",
    "static T t1;\n",
    "#pragma omp threadprivate(t1)\n",
    "static T t2( 23 );\n",
    "#pragma omp threadprivate(t2)\n",
    "static T t3 = f();\n",
    "#pragma omp threadprivate(t3)\n",
    "\n"
   ]
  },
  {
   "cell_type": "markdown",
   "metadata": {},
   "source": [
    ""
   ]
  },
  {
   "cell_type": "markdown",
   "metadata": {},
   "source": [
    "The following example illustrates the use of `threadprivate` for static  class members. The `threadprivate` directive for a static class member must  be placed inside the class definition."
   ]
  },
  {
   "cell_type": "markdown",
   "metadata": {},
   "source": [
    ""
   ]
  },
  {
   "cell_type": "code",
   "execution_count": null,
   "metadata": {},
   "outputs": [],
   "source": [
    "//%compiler: clang\n",
 "//%cflags: -fopenmp\n",
 "\n",
    "/*\n",
    "* name: threadprivate.5c\n",
    "* type: C++\n",
    "*/\n",
    "class T {\n",
    " public:\n",
    "  static int i;\n",
    "#pragma omp threadprivate(i)\n",
    "};\n",
    "\n"
   ]
  },
  {
   "cell_type": "markdown",
   "metadata": {},
   "source": [
    ""
   ]
  },
  {
   "cell_type": "markdown",
   "metadata": {},
   "source": [
    ""
   ]
  }
 ],
 "metadata": {
  "kernelspec": {
   "display_name": "Native",
   "language": "native",
   "name": "native"
  },
  "language_info": {
   "file_extension": ".c",
   "mimetype": "text/plain",
   "name": "none"
  }
 },
 "nbformat": 4,
 "nbformat_minor": 2
}