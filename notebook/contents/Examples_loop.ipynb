{
 "cells": [
  {
   "cell_type": "markdown",
   "metadata": {},
   "source": [
    ""
   ]
  },
  {
   "cell_type": "markdown",
   "metadata": {},
   "source": [
    "## The `loop` Construct"
   ]
  },
  {
   "cell_type": "markdown",
   "metadata": {},
   "source": [
    ""
   ]
  },
  {
   "cell_type": "markdown",
   "metadata": {},
   "source": [
    "The following example illustrates the use of the OpenMP 5.0 `loop` construct for the execution of a loop. The `loop` construct asserts to the compiler that the iterations  of the loop are free of data dependencies and may be executed concurrently. It allows the compiler to use heuristics to select the parallelization scheme and compiler-level optimizations for the concurrency."
   ]
  },
  {
   "cell_type": "markdown",
   "metadata": {},
   "source": [
    ""
   ]
  },
  {
   "cell_type": "code",
   "execution_count": null,
   "metadata": {},
   "outputs": [],
   "source": [
    "//%compiler: clang\n",
 "//%cflags: -fopenmp\n",
 "\n",
    "/*\n",
    "* name: loop.2c\n",
    "* type: C\n",
    "* version: omp_5.0\n",
    "*/\n",
    "#include  <stdio.h>\n",
    "#define N 100\n",
    "int main()\n",
    "{\n",
    "  float x[N], y[N];\n",
    "  float a = 2.0;\n",
    "  for(int i=0;i<N;i++){ x[i]=i; y[i]=0;}   // initialize\n",
    "\n",
    "  #pragma omp parallel\n",
    "  {\n",
    "    #pragma omp loop\n",
    "    for(int i = 0; i < N; ++i) y[i] = a*x[i] + y[i];\n",
    "  }\n",
    "  if(y[N-1] != (N-1)*2.0) printf(\"Error: 2*(N-1) != y[N-1]=%f\",y[N-1]);\n",
    "}\n",
    "\n"
   ]
  },
  {
   "cell_type": "markdown",
   "metadata": {},
   "source": [
    ""
   ]
  },
  {
   "cell_type": "code",
   "execution_count": null,
   "metadata": {},
   "outputs": [],
   "source": [
    "\n",
    "! name:       loop.2f90\n",
    "! type:       F-free\n",
    "! version:    omp_5.0\n",
    "\n",
    "program main\n",
    "  integer, parameter :: N=100\n",
    "  real :: x(N), y(N)\n",
    "  real :: a = 2.0e0\n",
    "\n",
    "  x=(/ (i,i=1,N) /); y=1.0e0                    !! initialize\n",
    "\n",
    "  !$omp parallel\n",
    "    !$omp loop\n",
    "       do i=1,N; y(i) = a*x(i) + y(i); enddo\n",
    "  !$omp end parallel\n",
    "\n",
    "  if(y(N) /= N*2.0e0) print*,\"Error: 2*N /= y(N); y(N)=\",y(N)\n",
    "end program\n",
    "\n"
   ]
  },
  {
   "cell_type": "markdown",
   "metadata": {},
   "source": [
    ""
   ]
  },
  {
   "cell_type": "markdown",
   "metadata": {},
   "source": [
    ""
   ]
  }
 ],
 "metadata": {
  "kernelspec": {
   "display_name": "Native",
   "language": "native",
   "name": "native"
  },
  "language_info": {
   "file_extension": ".c",
   "mimetype": "text/plain",
   "name": "none"
  }
 },
 "nbformat": 4,
 "nbformat_minor": 2
}