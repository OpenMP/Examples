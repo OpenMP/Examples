{
 "cells": [
  {
   "cell_type": "markdown",
   "metadata": {},
   "source": [
    ""
   ]
  },
  {
   "cell_type": "markdown",
   "metadata": {},
   "source": [
    "## `target` `data` Construct"
   ]
  },
  {
   "cell_type": "markdown",
   "metadata": {},
   "source": [
    ""
   ]
  },
  {
   "cell_type": "markdown",
   "metadata": {},
   "source": [
    ""
   ]
  },
  {
   "cell_type": "markdown",
   "metadata": {},
   "source": [
    "### Simple `target` `data` Construct"
   ]
  },
  {
   "cell_type": "markdown",
   "metadata": {},
   "source": [
    ""
   ]
  },
  {
   "cell_type": "markdown",
   "metadata": {},
   "source": [
    "This example shows how the `target` `data` construct maps variables  to a device data environment. The `target` `data` construct creates  a new device data environment and maps the variables  _v1_ ,  _v2_ , and  _p_  to the new device  data environment. The `target` construct enclosed in the `target`  `data` region creates a new device data environment, which inherits the  variables  _v1_ ,  _v2_ , and  _p_  from the enclosing device data environment. The variable   _N_  is mapped into the new device data environment from the encountering task's data  environment."
   ]
  },
  {
   "cell_type": "markdown",
   "metadata": {},
   "source": [
    ""
   ]
  },
  {
   "cell_type": "code",
   "execution_count": null,
   "metadata": {},
   "outputs": [],
   "source": [
    "//%compiler: clang\n",
 "//%cflags: -fopenmp\n",
 "\n",
    "/*\n",
    "* name: target_data.1c\n",
    "* type: C\n",
    "* version: omp_4.0\n",
    "*/\n",
    "extern void init(float*, float*, int);\n",
    "extern void output(float*, int);\n",
    "void vec_mult(float *p, float *v1, float *v2, int N)\n",
    "{\n",
    "   int i;\n",
    "   init(v1, v2, N);\n",
    "   #pragma omp target data map(to: v1[0:N], v2[:N]) map(from: p[0:N])\n",
    "   {\n",
    "      #pragma omp target\n",
    "      #pragma omp parallel for\n",
    "      for (i=0; i<N; i++)\n",
    " p[i] = v1[i] * v2[i];\n",
    "   }\n",
    "   output(p, N);\n",
    "}\n",
    "\n"
   ]
  },
  {
   "cell_type": "markdown",
   "metadata": {},
   "source": [
    ""
   ]
  },
  {
   "cell_type": "markdown",
   "metadata": {},
   "source": [
    "The Fortran code passes a reference and specifies the extent of the arrays in the  declaration. No length information is necessary in the map clause, as is required  with C/C++ pointers."
   ]
  },
  {
   "cell_type": "markdown",
   "metadata": {},
   "source": [
    ""
   ]
  },
  {
   "cell_type": "code",
   "execution_count": null,
   "metadata": {},
   "outputs": [],
   "source": [
    "\n",
    "! name: target_data.1f\n",
    "! type: F-free\n",
    "! version:    omp_4.0\n",
    "subroutine vec_mult(p, v1, v2, N)\n",
    "   real    ::  p(N), v1(N), v2(N)\n",
    "   integer ::  i\n",
    "   call init(v1, v2, N)\n",
    "   !$omp target data map(to: v1, v2) map(from: p)\n",
    "   !$omp target\n",
    "   !$omp parallel do\n",
    "      do i=1,N\n",
    "  p(i) = v1(i) * v2(i)\n",
    "      end do\n",
    "   !$omp end target\n",
    "   !$omp end target data\n",
    "   call output(p, N)\n",
    "end subroutine\n",
    "\n"
   ]
  },
  {
   "cell_type": "markdown",
   "metadata": {},
   "source": [
    ""
   ]
  },
  {
   "cell_type": "markdown",
   "metadata": {},
   "source": [
    ""
   ]
  },
  {
   "cell_type": "markdown",
   "metadata": {},
   "source": [
    "### `target` `data` Region Enclosing Multiple `target` Regions"
   ]
  },
  {
   "cell_type": "markdown",
   "metadata": {},
   "source": [
    ""
   ]
  },
  {
   "cell_type": "markdown",
   "metadata": {},
   "source": [
    "The following examples show how the `target` `data` construct maps  variables to a device data environment of a `target` region. The `target`  `data` construct creates a device data environment and encloses `target`  regions, which have their own device data environments. The device data environment  of the `target` `data` region is inherited by the device data environment  of an enclosed `target` region. The `target` `data` construct  is used to create variables that will persist throughout the `target` `data`  region."
   ]
  },
  {
   "cell_type": "markdown",
   "metadata": {},
   "source": [
    "In the following example the variables  _v1_  and  _v2_  are mapped at each `target`  construct. Instead of mapping the variable  _p_  twice, once at each `target`  construct,  _p_  is mapped once by the `target` `data` construct."
   ]
  },
  {
   "cell_type": "markdown",
   "metadata": {},
   "source": [
    ""
   ]
  },
  {
   "cell_type": "code",
   "execution_count": null,
   "metadata": {},
   "outputs": [],
   "source": [
    "//%compiler: clang\n",
 "//%cflags: -fopenmp\n",
 "\n",
    "/*\n",
    "* name: target_data.2c\n",
    "* type: C\n",
    "* version: omp_4.0\n",
    "*/\n",
    "extern void init(float*, float*, int);\n",
    "extern void init_again(float*, float*, int);\n",
    "extern void output(float*, int);\n",
    "void vec_mult(float *p, float *v1, float *v2, int N)\n",
    "{\n",
    "   int i;\n",
    "   init(v1, v2, N);\n",
    "   #pragma omp target data map(from: p[0:N])\n",
    "   {\n",
    "      #pragma omp target map(to: v1[:N], v2[:N])\n",
    "      #pragma omp parallel for\n",
    "      for (i=0; i<N; i++)\n",
    " p[i] = v1[i] * v2[i];\n",
    "      init_again(v1, v2, N);\n",
    "      #pragma omp target map(to: v1[:N], v2[:N])\n",
    "      #pragma omp parallel for\n",
    "      for (i=0; i<N; i++)\n",
    " p[i] = p[i] + (v1[i] * v2[i]);\n",
    "   }\n",
    "   output(p, N);\n",
    "}\n",
    "\n"
   ]
  },
  {
   "cell_type": "markdown",
   "metadata": {},
   "source": [
    ""
   ]
  },
  {
   "cell_type": "markdown",
   "metadata": {},
   "source": [
    ""
   ]
  },
  {
   "cell_type": "markdown",
   "metadata": {},
   "source": [
    "The Fortran code uses reference and specifies the extent of the  _p_ ,  _v1_  and  _v2_  arrays.  No length information is necessary in the `map` clause, as is required with  C/C++ pointers. The arrays  _v1_  and  _v2_  are mapped at each `target` construct.  Instead of mapping the array  _p_  twice, once at each target construct,  _p_  is mapped  once by the `target` `data` construct."
   ]
  },
  {
   "cell_type": "markdown",
   "metadata": {},
   "source": [
    ""
   ]
  },
  {
   "cell_type": "code",
   "execution_count": null,
   "metadata": {},
   "outputs": [],
   "source": [
    "\n",
    "! name: target_data.2f\n",
    "! type: F-free\n",
    "! version:    omp_4.0\n",
    "subroutine vec_mult(p, v1, v2, N)\n",
    "   real    ::  p(N), v1(N), v2(N)\n",
    "   integer ::  i\n",
    "   call init(v1, v2, N)\n",
    "   !$omp target data map(from: p)\n",
    "      !$omp target map(to: v1, v2 )\n",
    "         !$omp parallel do\n",
    "         do i=1,N\n",
    "            p(i) = v1(i) * v2(i)\n",
    "         end do\n",
    "      !$omp end target\n",
    "      call init_again(v1, v2, N)\n",
    "      !$omp target map(to: v1, v2 )\n",
    "         !$omp parallel do\n",
    "         do i=1,N\n",
    "            p(i) = p(i) + v1(i) * v2(i)\n",
    "         end do\n",
    "      !$omp end target\n",
    "   !$omp end target data\n",
    "   call output(p, N)\n",
    "end subroutine\n",
    "\n"
   ]
  },
  {
   "cell_type": "markdown",
   "metadata": {},
   "source": [
    ""
   ]
  },
  {
   "cell_type": "markdown",
   "metadata": {},
   "source": [
    "In the following example, the array  _Q_  is mapped once at the enclosing  `target` `data` region instead of at each `target` construct.  In OpenMP 4.0, a scalar variable is implicitly mapped with the `tofrom` map-type. But since OpenMP 4.5, a scalar variable, such as the  _tmp_  variable, has to be explicitly mapped with  the `tofrom` map-type at the first `target` construct in order to return  its reduced value from the parallel loop construct to the host. The variable defaults to firstprivate at the second `target` construct."
   ]
  },
  {
   "cell_type": "markdown",
   "metadata": {},
   "source": [
    ""
   ]
  },
  {
   "cell_type": "code",
   "execution_count": null,
   "metadata": {},
   "outputs": [],
   "source": [
    "//%compiler: clang\n",
 "//%cflags: -fopenmp\n",
 "\n",
    "/*\n",
    "* name: target_data.3c\n",
    "* type: C\n",
    "* version: omp_4.0\n",
    "*/\n",
    "\n",
    "#include <math.h>\n",
    "#define COLS 100\n",
    "\n",
    "void gramSchmidt(float Q[][COLS], const int rows)\n",
    "{\n",
    "    int cols = COLS;\n",
    "    #pragma omp target data map(Q[0:rows][0:cols])\n",
    "    for(int k=0; k < cols; k++)\n",
    "    {\n",
    "        double tmp = 0.0;\n",
    "\n",
    "        #pragma omp target map(tofrom: tmp)\n",
    "        #pragma omp parallel for reduction(+:tmp)\n",
    "        for(int i=0; i < rows; i++)\n",
    "            tmp += (Q[i][k] * Q[i][k]);\n",
    "\n",
    "        tmp = 1/sqrt(tmp);\n",
    "\n",
    "        #pragma omp target\n",
    "        #pragma omp parallel for\n",
    "        for(int i=0; i < rows; i++)\n",
    "            Q[i][k] *= tmp;\n",
    "    }\n",
    "}\n",
    "\n",
    "/* Note:  The variable tmp is now mapped with tofrom, for correct\n",
    "   execution with 4.5 (and pre-4.5) compliant compilers. See Devices Intro.\n",
    " */\n",
    "\n"
   ]
  },
  {
   "cell_type": "markdown",
   "metadata": {},
   "source": [
    ""
   ]
  },
  {
   "cell_type": "markdown",
   "metadata": {},
   "source": [
    ""
   ]
  },
  {
   "cell_type": "code",
   "execution_count": null,
   "metadata": {},
   "outputs": [],
   "source": [
    "\n",
    "! name: target_data.3f\n",
    "! type: F-free\n",
    "! version:    omp_4.0\n",
    "subroutine gramSchmidt(Q,rows,cols)\n",
    "integer             ::   rows,cols,  i,k\n",
    "double precision    :: Q(rows,cols), tmp\n",
    "      !$omp target data map(Q)\n",
    "      do k=1,cols\n",
    "         tmp = 0.0d0\n",
    "        !$omp target map(tofrom: tmp)\n",
    "           !$omp parallel do reduction(+:tmp)\n",
    "           do i=1,rows\n",
    "              tmp = tmp + (Q(i,k) * Q(i,k))\n",
    "           end do\n",
    "        !$omp end target\n",
    "\n",
    "          tmp = 1.0d0/sqrt(tmp)\n",
    "\n",
    "        !$omp target\n",
    "           !$omp parallel do\n",
    "           do i=1,rows\n",
    "               Q(i,k) = Q(i,k)*tmp\n",
    "           enddo\n",
    "        !$omp end target\n",
    "      end do\n",
    "      !$omp end target data\n",
    "end subroutine\n",
    "\n",
    "! Note:  The variable tmp is now mapped with tofrom, for correct\n",
    "! execution with 4.5 (and pre-4.5) compliant compilers. See Devices Intro.\n",
    "\n"
   ]
  },
  {
   "cell_type": "markdown",
   "metadata": {},
   "source": [
    ""
   ]
  },
  {
   "cell_type": "markdown",
   "metadata": {},
   "source": [
    ""
   ]
  },
  {
   "cell_type": "markdown",
   "metadata": {},
   "source": [
    "### `target` `data` Construct with Orphaned Call"
   ]
  },
  {
   "cell_type": "markdown",
   "metadata": {},
   "source": [
    ""
   ]
  },
  {
   "cell_type": "markdown",
   "metadata": {},
   "source": [
    "The following two examples show how the `target` `data` construct  maps variables to a device data environment. The `target` `data`  construct's device data environment encloses the `target` construct's device  data environment in the function `vec_mult()`."
   ]
  },
  {
   "cell_type": "markdown",
   "metadata": {},
   "source": [
    "When the type of the variable appearing in an array section is pointer, the pointer  variable and the storage location of the corresponding array section are mapped  to the device data environment. The pointer variable is treated as if it had appeared  in a `map` clause with a map-type of `alloc`. The array section's  storage location is mapped according to the map-type in the `map` clause  (the default map-type is `tofrom`)."
   ]
  },
  {
   "cell_type": "markdown",
   "metadata": {},
   "source": [
    "The `target` construct's device data environment inherits the storage locations  of the array sections  _v1[0:N]_ ,  _v2[:n]_ , and  _p0[0:N]_  from the enclosing target data  construct's device data environment. Neither initialization nor assignment is performed  for the array sections in the new device data environment."
   ]
  },
  {
   "cell_type": "markdown",
   "metadata": {},
   "source": [
    "The pointer variables  _p1_ ,  _v3_ , and  _v4_  are mapped into the target construct's device  data environment with an implicit map-type of alloc and they are assigned the address  of the storage location associated with their corresponding array sections. Note  that the following pairs of array section storage locations are equivalent ( _p0[:N]_ ,   _p1[:N]_ ), ( _v1[:N]_ , _v3[:N]_ ), and ( _v2[:N]_ , _v4[:N]_ )."
   ]
  },
  {
   "cell_type": "markdown",
   "metadata": {},
   "source": [
    ""
   ]
  },
  {
   "cell_type": "code",
   "execution_count": null,
   "metadata": {},
   "outputs": [],
   "source": [
    "//%compiler: clang\n",
 "//%cflags: -fopenmp\n",
 "\n",
    "/*\n",
    "* name: target_data.4c\n",
    "* type: C\n",
    "* version: omp_4.0\n",
    "*/\n",
    "\n",
    "\n",
    "void vec_mult(float*, float*, float*, int);\n",
    "\n",
    "extern void init(float*, float*, int);\n",
    "extern void output(float*, int);\n",
    "\n",
    "\n",
    "void foo(float *p0, float *v1, float *v2, int N)\n",
    "{\n",
    "   init(v1, v2, N);\n",
    "\n",
    "   #pragma omp target data map(to: v1[0:N], v2[:N]) map(from: p0[0:N])\n",
    "   {\n",
    "      vec_mult(p0, v1, v2, N);\n",
    "   }\n",
    "\n",
    "   output(p0, N);\n",
    "}\n",
    "\n",
    "\n",
    "\n",
    "void vec_mult(float *p1, float *v3, float *v4, int N)\n",
    "{\n",
    "   int i;\n",
    "   #pragma omp target map(to: v3[0:N], v4[:N]) map(from: p1[0:N])\n",
    "   #pragma omp parallel for\n",
    "   for (i=0; i<N; i++)\n",
    "   {\n",
    "     p1[i] = v3[i] * v4[i];\n",
    "   }\n",
    "}\n",
    "\n",
    "\n"
   ]
  },
  {
   "cell_type": "markdown",
   "metadata": {},
   "source": [
    ""
   ]
  },
  {
   "cell_type": "markdown",
   "metadata": {},
   "source": [
    "The Fortran code maps the pointers and storage in an identical manner (same extent,  but uses indices from 1 to  _N_ )."
   ]
  },
  {
   "cell_type": "markdown",
   "metadata": {},
   "source": [
    "The `target` construct's device data environment inherits the storage locations  of the arrays  _v1_ ,  _v2_  and  _p0_  from the enclosing `target` `data` constructs's  device data environment. However, in Fortran the associated data of the pointer  is known, and the shape is not required."
   ]
  },
  {
   "cell_type": "markdown",
   "metadata": {},
   "source": [
    "The pointer variables  _p1_ ,  _v3_ , and  _v4_  are mapped into the `target` construct's  device data environment with an implicit map-type of `alloc` and they are  assigned the address of the storage location associated with their corresponding  array sections. Note that the following pair of array storage locations are equivalent  ( _p0_ , _p1_ ), ( _v1_ , _v3_ ), and ( _v2_ , _v4_ )."
   ]
  },
  {
   "cell_type": "markdown",
   "metadata": {},
   "source": [
    ""
   ]
  },
  {
   "cell_type": "code",
   "execution_count": null,
   "metadata": {},
   "outputs": [],
   "source": [
    "\n",
    "! name: target_data.4f\n",
    "! type: F-free\n",
    "! version:    omp_4.0\n",
    "\n",
    "module mults\n",
    "contains\n",
    "subroutine foo(p0,v1,v2,N)\n",
    "real,pointer,dimension(:) :: p0, v1, v2\n",
    "integer                   :: N,i\n",
    "\n",
    "   call init(v1, v2, N)\n",
    "\n",
    "   !$omp target data map(to: v1, v2) map(from: p0)\n",
    "    call vec_mult(p0,v1,v2,N)\n",
    "   !$omp end target data\n",
    "\n",
    "   call output(p0, N)\n",
    "\n",
    "end subroutine\n",
    "\n",
    "subroutine vec_mult(p1,v3,v4,N)\n",
    "real,pointer,dimension(:) :: p1, v3, v4\n",
    "integer                   :: N,i\n",
    "\n",
    "   !$omp target map(to: v3, v4) map(from: p1)\n",
    "   !$omp parallel do\n",
    "   do i=1,N\n",
    "      p1(i) = v3(i) * v4(i)\n",
    "   end do\n",
    "   !$omp end target\n",
    "\n",
    "end subroutine\n",
    "end module\n",
    "\n"
   ]
  },
  {
   "cell_type": "markdown",
   "metadata": {},
   "source": [
    ""
   ]
  },
  {
   "cell_type": "markdown",
   "metadata": {},
   "source": [
    ""
   ]
  },
  {
   "cell_type": "markdown",
   "metadata": {},
   "source": [
    "In the following example, the variables  _p1_ ,  _v3_ , and  _v4_  are references to the pointer  variables  _p0_ ,  _v1_  and  _v2_  respectively. The `target` construct's device data  environment inherits the pointer variables  _p0_ ,  _v1_ , and  _v2_  from the enclosing `target`  `data` construct's device data environment. Thus,  _p1_ ,  _v3_ , and  _v4_  are already  present in the device data environment."
   ]
  },
  {
   "cell_type": "markdown",
   "metadata": {},
   "source": [
    ""
   ]
  },
  {
   "cell_type": "code",
   "execution_count": null,
   "metadata": {},
   "outputs": [],
   "source": [
    "//%compiler: clang\n",
 "//%cflags: -fopenmp\n",
 "\n",
    "/*\n",
    "* name: target_data.5c\n",
    "* type: C++\n",
    "* version: omp_4.0\n",
    "*/\n",
    "void vec_mult(float* &, float* &, float* &, int &);\n",
    "extern void init(float*, float*, int);\n",
    "extern void output(float*, int);\n",
    "void foo(float *p0, float *v1, float *v2, int N)\n",
    "{\n",
    "   init(v1, v2, N);\n",
    "   #pragma omp target data map(to: v1[0:N], v2[:N]) map(from: p0[0:N])\n",
    "   {\n",
    "      vec_mult(p0, v1, v2, N);\n",
    "   }\n",
    "   output(p0, N);\n",
    "}\n",
    "void vec_mult(float* &p1, float* &v3, float* &v4, int &N)\n",
    "{\n",
    "   int i;\n",
    "   #pragma omp target map(to: v3[0:N], v4[:N]) map(from: p1[0:N])\n",
    "   #pragma omp parallel for\n",
    "   for (i=0; i<N; i++)\n",
    "     p1[i] = v3[i] * v4[i];\n",
    "}\n",
    "\n"
   ]
  },
  {
   "cell_type": "markdown",
   "metadata": {},
   "source": [
    ""
   ]
  },
  {
   "cell_type": "markdown",
   "metadata": {},
   "source": [
    "In the following example, the usual Fortran approach is used for dynamic memory.  The  _p0_ ,  _v1_ , and  _v2_  arrays are allocated in the main program and passed as references  from one routine to another. In `vec_mult`,  _p1_ ,  _v3_  and  _v4_  are references to the   _p0_ ,  _v1_ , and  _v2_  arrays, respectively. The `target` construct's device data  environment inherits the arrays  _p0_ ,  _v1_ , and  _v2_  from the enclosing target data construct's  device data environment. Thus,  _p1_ ,  _v3_ , and  _v4_  are already present in the device  data environment."
   ]
  },
  {
   "cell_type": "markdown",
   "metadata": {},
   "source": [
    ""
   ]
  },
  {
   "cell_type": "code",
   "execution_count": null,
   "metadata": {},
   "outputs": [],
   "source": [
    "\n",
    "! name: target_data.5f\n",
    "! type: F-free\n",
    "! version:    omp_4.0\n",
    "module my_mult\n",
    "contains\n",
    "subroutine foo(p0,v1,v2,N)\n",
    "real,dimension(:) :: p0, v1, v2\n",
    "integer           :: N,i\n",
    "   call init(v1, v2, N)\n",
    "   !$omp target data map(to: v1, v2) map(from: p0)\n",
    "    call vec_mult(p0,v1,v2,N)\n",
    "   !$omp end target data\n",
    "   call output(p0, N)\n",
    "end subroutine\n",
    "subroutine vec_mult(p1,v3,v4,N)\n",
    "real,dimension(:) :: p1, v3, v4\n",
    "integer           :: N,i\n",
    "   !$omp target map(to: v3, v4) map(from: p1)\n",
    "   !$omp parallel do\n",
    "   do i=1,N\n",
    "      p1(i) = v3(i) * v4(i)\n",
    "   end do\n",
    "   !$omp end target\n",
    "end subroutine\n",
    "end module\n",
    "program main\n",
    "use my_mult\n",
    "integer, parameter :: N=1024\n",
    "real,allocatable, dimension(:) :: p, v1, v2\n",
    "   allocate( p(N), v1(N), v2(N) )\n",
    "   call foo(p,v1,v2,N)\n",
    "end program\n",
    "\n"
   ]
  },
  {
   "cell_type": "markdown",
   "metadata": {},
   "source": [
    ""
   ]
  },
  {
   "cell_type": "markdown",
   "metadata": {},
   "source": [
    ""
   ]
  },
  {
   "cell_type": "markdown",
   "metadata": {},
   "source": [
    "### `target` `data` Construct with `if` Clause"
   ]
  },
  {
   "cell_type": "markdown",
   "metadata": {},
   "source": [
    ""
   ]
  },
  {
   "cell_type": "markdown",
   "metadata": {},
   "source": [
    "The following two examples show how the `target` `data` construct  maps variables to a device data environment."
   ]
  },
  {
   "cell_type": "markdown",
   "metadata": {},
   "source": [
    "In the following example, the if clause on the `target` `data` construct  indicates that if the variable  _N_  is smaller than a given threshold, then the `target`  `data` construct will not create a device data environment."
   ]
  },
  {
   "cell_type": "markdown",
   "metadata": {},
   "source": [
    "The `target` constructs enclosed in the `target` `data` region  must also use an `if` clause on the same condition, otherwise the pointer  variable  _p_  is implicitly mapped with a map-type of `tofrom`, but the storage  location for the array section  _p[0:N]_  will not be mapped in the device data environments  of the `target` constructs."
   ]
  },
  {
   "cell_type": "markdown",
   "metadata": {},
   "source": [
    ""
   ]
  },
  {
   "cell_type": "code",
   "execution_count": null,
   "metadata": {},
   "outputs": [],
   "source": [
    "//%compiler: clang\n",
 "//%cflags: -fopenmp\n",
 "\n",
    "/*\n",
    "* name: target_data.6c\n",
    "* type: C\n",
    "* version: omp_4.0\n",
    "*/\n",
    "#define THRESHOLD 1000000\n",
    "extern void init(float*, float*, int);\n",
    "extern void init_again(float*, float*, int);\n",
    "extern void output(float*, int);\n",
    "void vec_mult(float *p, float *v1, float *v2, int N)\n",
    "{\n",
    "   int i;\n",
    "   init(v1, v2, N);\n",
    "   #pragma omp target data if(N>THRESHOLD) map(from: p[0:N])\n",
    "   {\n",
    "      #pragma omp target if (N>THRESHOLD) map(to: v1[:N], v2[:N])\n",
    "      #pragma omp parallel for\n",
    "      for (i=0; i<N; i++)\n",
    "        p[i] = v1[i] * v2[i];\n",
    "      init_again(v1, v2, N);\n",
    "      #pragma omp target if (N>THRESHOLD) map(to: v1[:N], v2[:N])\n",
    "      #pragma omp parallel for\n",
    "      for (i=0; i<N; i++)\n",
    "        p[i] = p[i] + (v1[i] * v2[i]);\n",
    "   }\n",
    "   output(p, N);\n",
    "}\n",
    "\n"
   ]
  },
  {
   "cell_type": "markdown",
   "metadata": {},
   "source": [
    ""
   ]
  },
  {
   "cell_type": "markdown",
   "metadata": {},
   "source": [
    "The `if` clauses work the same way for the following Fortran code. The `target`  constructs enclosed in the `target` `data` region should also use  an `if` clause with the same condition, so that the `target` `data`  region and the `target` region are either both created for the device, or  are both ignored."
   ]
  },
  {
   "cell_type": "markdown",
   "metadata": {},
   "source": [
    ""
   ]
  },
  {
   "cell_type": "code",
   "execution_count": null,
   "metadata": {},
   "outputs": [],
   "source": [
    "\n",
    "! name: target_data.6f\n",
    "! type: F-free\n",
    "! version:    omp_4.0\n",
    "module params\n",
    "integer,parameter :: THRESHOLD=1000000\n",
    "end module\n",
    "subroutine vec_mult(p, v1, v2, N)\n",
    "   use params\n",
    "   real    ::  p(N), v1(N), v2(N)\n",
    "   integer ::  i\n",
    "   call init(v1, v2, N)\n",
    "   !$omp target data if(N>THRESHOLD) map(from: p)\n",
    "      !$omp target if(N>THRESHOLD) map(to: v1, v2)\n",
    "         !$omp parallel do\n",
    "         do i=1,N\n",
    "            p(i) = v1(i) * v2(i)\n",
    "         end do\n",
    "      !$omp end target\n",
    "      call init_again(v1, v2, N)\n",
    "      !$omp target if(N>THRESHOLD) map(to: v1, v2)\n",
    "         !$omp parallel do\n",
    "         do i=1,N\n",
    "            p(i) = p(i) + v1(i) * v2(i)\n",
    "         end do\n",
    "      !$omp end target\n",
    "   !$omp end target data\n",
    "   call output(p, N)\n",
    "end subroutine\n",
    "\n"
   ]
  },
  {
   "cell_type": "markdown",
   "metadata": {},
   "source": [
    ""
   ]
  },
  {
   "cell_type": "markdown",
   "metadata": {},
   "source": [
    "In the following example, when the `if` clause conditional expression on  the `target` construct evaluates to  _false_ , the target region will  execute on the host device. However, the `target` `data` construct  created an enclosing device data environment that mapped  _p[0:N]_  to a device data  environment on the default device. At the end of the `target` `data`  region the array section  _p[0:N]_  will be assigned from the device data environment  to the corresponding variable in the data environment of the task that encountered  the `target` `data` construct, resulting in undefined values in  _p[0:N]_ ."
   ]
  },
  {
   "cell_type": "markdown",
   "metadata": {},
   "source": [
    ""
   ]
  },
  {
   "cell_type": "code",
   "execution_count": null,
   "metadata": {},
   "outputs": [],
   "source": [
    "//%compiler: clang\n",
 "//%cflags: -fopenmp\n",
 "\n",
    "/*\n",
    "* name: target_data.7c\n",
    "* type: C\n",
    "* version: omp_4.0\n",
    "*/\n",
    "#define THRESHOLD 1000000\n",
    "extern void init(float*, float*, int);\n",
    "extern void output(float*, int);\n",
    "void vec_mult(float *p, float *v1, float *v2, int N)\n",
    "{\n",
    "   int i;\n",
    "   init(v1, v2, N);\n",
    "   #pragma omp target data map(from: p[0:N])\n",
    "   {\n",
    "      #pragma omp target if (N>THRESHOLD) map(to: v1[:N], v2[:N])\n",
    "      #pragma omp parallel for\n",
    "      for (i=0; i<N; i++)\n",
    "        p[i] = v1[i] * v2[i];\n",
    "   } /* UNDEFINED behavior if N<=THRESHOLD */\n",
    "   output(p, N);\n",
    "}\n",
    "\n"
   ]
  },
  {
   "cell_type": "markdown",
   "metadata": {},
   "source": [
    ""
   ]
  },
  {
   "cell_type": "markdown",
   "metadata": {},
   "source": [
    "The `if` clauses work the same way for the following Fortran code. When  the `if` clause conditional expression on the `target` construct  evaluates to  _false_ , the `target` region will execute on the host  device. However, the `target` `data` construct created an enclosing  device data environment that mapped the  _p_  array (and  _v1_  and  _v2_ ) to a device data  environment on the default target device. At the end of the `target` `data`  region the  _p_  array will be assigned from the device data environment to the corresponding  variable in the data environment of the task that encountered the `target`  `data` construct, resulting in undefined values in  _p_ ."
   ]
  },
  {
   "cell_type": "markdown",
   "metadata": {},
   "source": [
    ""
   ]
  },
  {
   "cell_type": "code",
   "execution_count": null,
   "metadata": {},
   "outputs": [],
   "source": [
    "\n",
    "! name: target_data.7f\n",
    "! type: F-free\n",
    "! version:    omp_4.0\n",
    "module params\n",
    "integer, parameter :: THRESHOLD=1000000\n",
    "end module\n",
    "subroutine vec_mult(p, v1, v2, N)\n",
    "   use params\n",
    "   real    ::  p(N), v1(N), v2(N)\n",
    "   integer ::  i\n",
    "   call init(v1, v2, N)\n",
    "   !$omp target data map(from: p)\n",
    "      !$omp target if(N>THRESHOLD) map(to: v1, v2)\n",
    "         !$omp parallel do\n",
    "         do i=1,N\n",
    "            p(i) = v1(i) * v2(i)\n",
    "         end do\n",
    "      !$omp end target\n",
    "   !$omp end target data\n",
    "   call output(p, N)  !*** UNDEFINED behavior if N<=THRESHOLD\n",
    "end subroutine\n",
    "\n"
   ]
  },
  {
   "cell_type": "markdown",
   "metadata": {},
   "source": [
    ""
   ]
  },
  {
   "cell_type": "markdown",
   "metadata": {},
   "source": [
    ""
   ]
  }
 ],
 "metadata": {
  "kernelspec": {
   "display_name": "Native",
   "language": "native",
   "name": "native"
  },
  "language_info": {
   "file_extension": ".c",
   "mimetype": "text/plain",
   "name": "none"
  }
 },
 "nbformat": 4,
 "nbformat_minor": 2
}