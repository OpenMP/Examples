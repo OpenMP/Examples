{
 "cells": [
  {
   "cell_type": "markdown",
   "metadata": {},
   "source": [
    ""
   ]
  },
  {
   "cell_type": "markdown",
   "metadata": {},
   "source": [
    "\hspace{-6em} \includegraphics[width=0.4\textwidth]{openmp-logo.png}"
   ]
  },
  {
   "cell_type": "markdown",
   "metadata": {},
   "source": [
    "{-0.75in}{0in}            \Huge       \textsf{OpenMPApplication ProgrammingInterface}"
   ]
  },
  {
   "cell_type": "markdown",
   "metadata": {},
   "source": [
    "\vspace{0.5in}\textsf{Examples}\vspace{-0.7in}       \normalsize"
   ]
  },
  {
   "cell_type": "markdown",
   "metadata": {},
   "source": [
    "\vspace{1.0in}"
   ]
  },
  {
   "cell_type": "markdown",
   "metadata": {},
   "source": [
    "\texttt{Version \PVER{} -- 5.0.1DATE}"
   ]
  },
  {
   "cell_type": "markdown",
   "metadata": {},
   "source": [
    "\vspace{2.3in}"
   ]
  },
  {
   "cell_type": "markdown",
   "metadata": {},
   "source": [
    "Source codes for OpenMP 5.0.1 Examples are available at  [https://github.com/OpenMP/Examples/tree/v5.0.1] {github (https://github.com/OpenMP/Examples/tree/v5.0.1)}."
   ]
  },
  {
   "cell_type": "markdown",
   "metadata": {},
   "source": [
    "{0pt}{1em}\setlength{\parskip}{0.25\baselineskip}Copyright \copyright{} 1997-2022 OpenMP Architecture Review Board. Permission to copy without fee all or part of this material is granted, provided the OpenMP Architecture Review Board copyright notice and the title of this document appear. Notice is given that copying is by permission of OpenMP Architecture Review Board."
   ]
  },
  {
   "cell_type": "markdown",
   "metadata": {},
   "source": [
    ""
   ]
  },
  {
   "cell_type": "markdown",
   "metadata": {},
   "source": [
    ""
   ]
  },
  {
   "cell_type": "markdown",
   "metadata": {},
   "source": [
    ""
   ]
  },
  {
   "cell_type": "markdown",
   "metadata": {},
   "source": [
    ""
   ]
  },
  {
   "cell_type": "markdown",
   "metadata": {},
   "source": [
    ""
   ]
  }
 ],
 "metadata": {
  "kernelspec": {
   "display_name": "Native",
   "language": "native",
   "name": "native"
  },
  "language_info": {
   "file_extension": ".c",
   "mimetype": "text/plain",
   "name": "none"
  }
 },
 "nbformat": 4,
 "nbformat_minor": 2
}