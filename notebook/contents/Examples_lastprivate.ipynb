{
 "cells": [
  {
   "cell_type": "markdown",
   "metadata": {},
   "source": [
    ""
   ]
  },
  {
   "cell_type": "markdown",
   "metadata": {},
   "source": [
    "## The `lastprivate` Clause"
   ]
  },
  {
   "cell_type": "markdown",
   "metadata": {},
   "source": [
    ""
   ]
  },
  {
   "cell_type": "markdown",
   "metadata": {},
   "source": [
    "Correct execution sometimes depends on the value that the last iteration of a loop  assigns to a variable. Such programs must list all such variables in a `lastprivate`  clause  so that the values of the variables are the same as when the loop is executed  sequentially."
   ]
  },
  {
   "cell_type": "markdown",
   "metadata": {},
   "source": [
    ""
   ]
  },
  {
   "cell_type": "code",
   "execution_count": null,
   "metadata": {},
   "outputs": [],
   "source": [
    "//%compiler: clang\n",
 "//%cflags: -fopenmp\n",
 "\n",
    "/*\n",
    "* name: lastprivate.1c\n",
    "* type: C\n",
    "*/\n",
    "void lastpriv (int n, float *a, float *b)\n",
    "{\n",
    "  int i;\n",
    "\n",
    "  #pragma omp parallel\n",
    "  {\n",
    "    #pragma omp for lastprivate(i)\n",
    "    for (i=0; i<n-1; i++)\n",
    "      a[i] = b[i] + b[i+1];\n",
    "  }\n",
    "\n",
    "  a[i]=b[i];      /* i == n-1 here */\n",
    "}\n",
    "\n"
   ]
  },
  {
   "cell_type": "markdown",
   "metadata": {},
   "source": [
    ""
   ]
  },
  {
   "cell_type": "markdown",
   "metadata": {},
   "source": [
    ""
   ]
  },
  {
   "cell_type": "code",
   "execution_count": null,
   "metadata": {},
   "outputs": [],
   "source": [
    "\n",
    "! name: lastprivate.1f\n",
    "! type: F-fixed\n",
    "      SUBROUTINE LASTPRIV(N, A, B)\n",
    "\n",
    "        INTEGER N\n",
    "        REAL A(*), B(*)\n",
    "        INTEGER I\n",
    "!$OMP PARALLEL\n",
    "!$OMP DO LASTPRIVATE(I)\n",
    "\n",
    "        DO I=1,N-1\n",
    "          A(I) = B(I) + B(I+1)\n",
    "        ENDDO\n",
    "\n",
    "!$OMP END PARALLEL\n",
    "        A(I) = B(I)      ! I has the value of N here\n",
    "\n",
    "      END SUBROUTINE LASTPRIV\n",
    "\n"
   ]
  },
  {
   "cell_type": "markdown",
   "metadata": {},
   "source": [
    ""
   ]
  },
  {
   "cell_type": "markdown",
   "metadata": {},
   "source": [
    "The next example illustrates the use of the `conditional` modifier in a `lastprivate` clause to return the last value when it may not come from the last iteration of a loop. That is, users can preserve the serial equivalence semantics of the loop. The conditional lastprivate ensures the final value of the variable after the loop  is as if the loop iterations were executed in a sequential order."
   ]
  },
  {
   "cell_type": "markdown",
   "metadata": {},
   "source": [
    ""
   ]
  },
  {
   "cell_type": "code",
   "execution_count": null,
   "metadata": {},
   "outputs": [],
   "source": [
    "//%compiler: clang\n",
 "//%cflags: -fopenmp\n",
 "\n",
    "/*\n",
    "* name: lastprivate.2c\n",
    "* type: C\n",
    "* version: omp_5.0\n",
    "*/\n",
    "#include <math.h>\n",
    "\n",
    "float condlastprivate(float *a, int n)\n",
    "{\n",
    "   float x = 0.0f;\n",
    "\n",
    "   #pragma omp parallel for simd lastprivate(conditional: x)\n",
    "   for (int k = 0; k < n; k++) {\n",
    "      if (a[k] < 108.5 || a[k] > 208.5) {\n",
    "         x = sinf(a[k]);\n",
    "      }\n",
    "   }\n",
    "\n",
    "   return x;\n",
    "}\n",
    "\n"
   ]
  },
  {
   "cell_type": "markdown",
   "metadata": {},
   "source": [
    ""
   ]
  },
  {
   "cell_type": "markdown",
   "metadata": {},
   "source": [
    ""
   ]
  },
  {
   "cell_type": "code",
   "execution_count": null,
   "metadata": {},
   "outputs": [],
   "source": [
    "\n",
    "! name: lastprivate.2f\n",
    "! type: F-free\n",
    "! version: omp_5.0\n",
    "function condlastprivate(a, n) result(x)\n",
    "   implicit none\n",
    "   real a(*), x\n",
    "   integer n, k\n",
    "\n",
    "   x = 0.0\n",
    "\n",
    "   !$omp parallel do simd lastprivate(conditional: x)\n",
    "   do k = 1, n\n",
    "      if (a(k) < 108.5 .or. a(k) > 208.5) then\n",
    "         x = sin(a(k))\n",
    "      endif\n",
    "   end do\n",
    "\n",
    "end function condlastprivate\n",
    "\n"
   ]
  },
  {
   "cell_type": "markdown",
   "metadata": {},
   "source": [
    ""
   ]
  },
  {
   "cell_type": "markdown",
   "metadata": {},
   "source": [
    ""
   ]
  }
 ],
 "metadata": {
  "kernelspec": {
   "display_name": "Native",
   "language": "native",
   "name": "native"
  },
  "language_info": {
   "file_extension": ".c",
   "mimetype": "text/plain",
   "name": "none"
  }
 },
 "nbformat": 4,
 "nbformat_minor": 2
}