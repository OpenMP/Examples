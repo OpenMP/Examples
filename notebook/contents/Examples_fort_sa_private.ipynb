{
 "cells": [
  {
   "cell_type": "markdown",
   "metadata": {},
   "source": [
    ""
   ]
  },
  {
   "cell_type": "markdown",
   "metadata": {},
   "source": [
    "## Fortran Restrictions on Storage Association with the `private` Clause"
   ]
  },
  {
   "cell_type": "markdown",
   "metadata": {},
   "source": [
    ""
   ]
  },
  {
   "cell_type": "markdown",
   "metadata": {},
   "source": [
    "The following non-conforming examples illustrate the implications of the `private`  clause rules with regard to storage association."
   ]
  },
  {
   "cell_type": "markdown",
   "metadata": {},
   "source": [
    ""
   ]
  },
  {
   "cell_type": "code",
   "execution_count": null,
   "metadata": {},
   "outputs": [],
   "source": [
    "\n",
    "! name: fort_sa_private.1f\n",
    "! type: F-fixed\n",
    "       SUBROUTINE SUB()\n",
    "       COMMON /BLOCK/ X\n",
    "       PRINT *,X             ! X is undefined\n",
    "       END SUBROUTINE SUB\n",
    "\n",
    "       PROGRAM PRIV_RESTRICT\n",
    "         COMMON /BLOCK/ X\n",
    "         X = 1.0\n",
    "!$OMP    PARALLEL PRIVATE (X)\n",
    "         X = 2.0\n",
    "         CALL SUB()\n",
    "!$OMP    END PARALLEL\n",
    "      END PROGRAM PRIV_RESTRICT\n",
    "\n"
   ]
  },
  {
   "cell_type": "markdown",
   "metadata": {},
   "source": [
    ""
   ]
  },
  {
   "cell_type": "markdown",
   "metadata": {},
   "source": [
    ""
   ]
  },
  {
   "cell_type": "code",
   "execution_count": null,
   "metadata": {},
   "outputs": [],
   "source": [
    "\n",
    "! name: fort_sa_private.2f\n",
    "! type: F-fixed\n",
    "      PROGRAM PRIV_RESTRICT2\n",
    "        COMMON /BLOCK2/ X\n",
    "        X = 1.0\n",
    "\n",
    "!$OMP   PARALLEL PRIVATE (X)\n",
    "          X = 2.0\n",
    "          CALL SUB()\n",
    "!$OMP   END PARALLEL\n",
    "\n",
    "       CONTAINS\n",
    "\n",
    "          SUBROUTINE SUB()\n",
    "          COMMON /BLOCK2/ Y\n",
    "\n",
    "          PRINT *,X               ! X is undefined\n",
    "          PRINT *,Y               ! Y is undefined\n",
    "          END SUBROUTINE SUB\n",
    "\n",
    "       END PROGRAM PRIV_RESTRICT2\n",
    "\n"
   ]
  },
  {
   "cell_type": "markdown",
   "metadata": {},
   "source": [
    ""
   ]
  },
  {
   "cell_type": "markdown",
   "metadata": {},
   "source": [
    ""
   ]
  },
  {
   "cell_type": "code",
   "execution_count": null,
   "metadata": {},
   "outputs": [],
   "source": [
    "\n",
    "! name: fort_sa_private.3f\n",
    "! type: F-fixed\n",
    "      PROGRAM PRIV_RESTRICT3\n",
    "        EQUIVALENCE (X,Y)\n",
    "        X = 1.0\n",
    "\n",
    "!$OMP   PARALLEL PRIVATE(X)\n",
    "          PRINT *,Y                  ! Y is undefined\n",
    "          Y = 10\n",
    "          PRINT *,X                  ! X is undefined\n",
    "!$OMP   END PARALLEL\n",
    "      END PROGRAM PRIV_RESTRICT3\n",
    "\n"
   ]
  },
  {
   "cell_type": "markdown",
   "metadata": {},
   "source": [
    ""
   ]
  },
  {
   "cell_type": "markdown",
   "metadata": {},
   "source": [
    ""
   ]
  },
  {
   "cell_type": "code",
   "execution_count": null,
   "metadata": {},
   "outputs": [],
   "source": [
    "\n",
    "! name: fort_sa_private.4f\n",
    "! type: F-fixed\n",
    "      PROGRAM PRIV_RESTRICT4\n",
    "        INTEGER I, J\n",
    "        INTEGER A(100), B(100)\n",
    "        EQUIVALENCE (A(51), B(1))\n",
    "\n",
    "!$OMP PARALLEL DO DEFAULT(PRIVATE) PRIVATE(I,J) LASTPRIVATE(A)\n",
    "          DO I=1,100\n",
    "             DO J=1,100\n",
    "               B(J) = J - 1\n",
    "             ENDDO\n",
    "\n",
    "             DO J=1,100\n",
    "               A(J) = J   ! B becomes undefined at this point\n",
    "             ENDDO\n",
    "\n",
    "             DO J=1,50\n",
    "               B(J) = B(J) + 1  ! B is undefined\n",
    "                         ! A becomes undefined at this point\n",
    "             ENDDO\n",
    "          ENDDO\n",
    "!$OMP END PARALLEL DO       ! The LASTPRIVATE write for A has\n",
    "                            ! undefined results\n",
    "\n",
    "         PRINT *, B    ! B is undefined since the LASTPRIVATE\n",
    "                       ! write of A was not defined\n",
    "       END PROGRAM PRIV_RESTRICT4\n",
    "\n"
   ]
  },
  {
   "cell_type": "markdown",
   "metadata": {},
   "source": [
    ""
   ]
  },
  {
   "cell_type": "markdown",
   "metadata": {},
   "source": [
    ""
   ]
  },
  {
   "cell_type": "code",
   "execution_count": null,
   "metadata": {},
   "outputs": [],
   "source": [
    "\n",
    "! name: fort_sa_private.5f\n",
    "! type: F-fixed\n",
    "      SUBROUTINE SUB1(X)\n",
    "        DIMENSION X(10)\n",
    "\n",
    "        ! This use of X does not conform to the\n",
    "        ! specification. It would be legal Fortran 90,\n",
    "        ! but the OpenMP private directive allows the\n",
    "        ! compiler to break the sequence association that\n",
    "        ! A had with the rest of the common block.\n",
    "\n",
    "        FORALL (I = 1:10) X(I) = I\n",
    "      END SUBROUTINE SUB1\n",
    "\n",
    "      PROGRAM PRIV_RESTRICT5\n",
    "        COMMON /BLOCK5/ A\n",
    "\n",
    "        DIMENSION B(10)\n",
    "        EQUIVALENCE (A,B(1))\n",
    "\n",
    "        ! the common block has to be at least 10 words\n",
    "        A = 0\n",
    "\n",
    "!$OMP   PARALLEL PRIVATE(/BLOCK5/)\n",
    "\n",
    "          ! Without the private clause,\n",
    "          ! we would be passing a member of a sequence\n",
    "          ! that is at least ten elements long.\n",
    "          ! With the private clause, A may no longer be\n",
    "          ! sequence-associated.\n",
    "\n",
    "          CALL SUB1(A)\n",
    "!$OMP     MASTER\n",
    "            PRINT *, A\n",
    "!$OMP     END MASTER\n",
    "\n",
    "!$OMP   END PARALLEL\n",
    "      END PROGRAM PRIV_RESTRICT5\n",
    "\n"
   ]
  },
  {
   "cell_type": "markdown",
   "metadata": {},
   "source": [
    ""
   ]
  },
  {
   "cell_type": "markdown",
   "metadata": {},
   "source": [
    ""
   ]
  }
 ],
 "metadata": {
  "kernelspec": {
   "display_name": "Native",
   "language": "native",
   "name": "native"
  },
  "language_info": {
   "file_extension": ".c",
   "mimetype": "text/plain",
   "name": "none"
  }
 },
 "nbformat": 4,
 "nbformat_minor": 2
}