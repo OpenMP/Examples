{
 "cells": [
  {
   "cell_type": "markdown",
   "metadata": {},
   "source": [
    ""
   ]
  },
  {
   "cell_type": "markdown",
   "metadata": {},
   "source": [
    "##  Memory Allocators"
   ]
  },
  {
   "cell_type": "markdown",
   "metadata": {},
   "source": [
    ""
   ]
  },
  {
   "cell_type": "markdown",
   "metadata": {},
   "source": [
    "OpenMP memory allocators can be used to allocate memory with specific allocator traits.  In the following example an OpenMP allocator is used to specify an alignment for arrays  _x_  and  _y_ . The general approach for attributing traits to variables allocated by OpenMP is to create or specify a pre-defined  _memory space_ , create an array of  _traits_ , and then form an  _allocator_  from the memory space and trait. The allocator is then specified in an OpenMP allocation (using an API  _omp_alloc()_  function for C/C++ code and an `allocate` directive for Fortran code in the allocators.1 example)."
   ]
  },
  {
   "cell_type": "markdown",
   "metadata": {},
   "source": [
    "In the example below the  _xy_memspace_  variable is declared and assigned the default memory space ( _omp_default_mem_space_ ). Next, an array for  _traits_  is created. Since only one trait will be used, the array size is  _1_ . A trait is a structure in C/C++ and a derived type in Fortran, containing 2 components: a key and a corresponding value (key-value pair). The trait key used here is  _omp_atk_alignment_  (an enum for C/C++ and a parameter for Fortran) and the trait value of 64 is specified in the  _xy_traits_  declaration. These declarations are followed by a call to the  _omp_init_allocator()_  function to combine the memory space ( _xy_memspace_ ) and the traits ( _xy_traits_ ) to form an allocator ( _xy_alloc_ )."
   ]
  },
  {
   "cell_type": "markdown",
   "metadata": {},
   "source": [
    ""
   ]
  },
  {
   "cell_type": "markdown",
   "metadata": {},
   "source": [
    "In the C/C++ code the API   _omp_allocate()_  function is used to allocate space, similar to  _malloc_ , except that the allocator is specified as the second argument. In Fortran an `allocate` directive is used to specify an allocator for a following Fortran  _allocate_  statement. A variable list may be supplied if the allocator is to be applied to a subset of variables in the Fortran allocate statement. Specifying the complete list is optional. Here, the  _xy_alloc_  allocator is specified in the `allocator` clause, and the set of all variables used in the allocate statement is specified in the list."
   ]
  },
  {
   "cell_type": "markdown",
   "metadata": {},
   "source": [
    ""
   ]
  },
  {
   "cell_type": "markdown",
   "metadata": {},
   "source": [
    ""
   ]
  },
  {
   "cell_type": "markdown",
   "metadata": {},
   "source": [
    ""
   ]
  },
  {
   "cell_type": "code",
   "execution_count": null,
   "metadata": {},
   "outputs": [],
   "source": [
    "//%compiler: clang\n",
 "//%cflags: -fopenmp\n",
 "\n",
    "/*\n",
    "* name: allocators.1c\n",
    "* type: C\n",
    "* version: omp_5.0\n",
    "*/\n",
    "#include    <omp.h>\n",
    "#include  <stdio.h>\n",
    "#include <stdlib.h>\n",
    "#include <stdint.h>\n",
    "#define N 1000\n",
    "\n",
    "int main()\n",
    "{\n",
    "   float  *x, *y;\n",
    "   float s=2.0;\n",
    "\n",
    "omp_memspace_handle_t  xy_memspace = omp_default_mem_space;\n",
    "omp_alloctrait_t       xy_traits[1]={omp_atk_alignment, 64};\n",
    "omp_allocator_handle_t xy_alloc    = omp_init_allocator(xy_memspace,1,xy_traits);\n",
    "\n",
    "\n",
    "   x=(float *)omp_alloc(N*sizeof(float), xy_alloc);\n",
    "   y=(float *)omp_alloc(N*sizeof(float), xy_alloc);\n",
    "\n",
    "   if( ((intptr_t)(y))%64 != 0 || ((intptr_t)(x))%64 != 0 )\n",
    "   { printf(\"ERROR: x|y not 64-Byte aligned\\n\"); exit(1); }\n",
    "\n",
    "   #pragma omp parallel\n",
    "   {\n",
    "      #pragma omp for simd simdlen(16) aligned(x,y:64)\n",
    "      for(int i=0; i<N; i++){ x[i]=i+1; y[i]=i+1; } // initialize\n",
    "\n",
    "      #pragma omp for simd simdlen(16) aligned(x,y:64)\n",
    "      for(int i=0; i<N; i++) y[i] = s*x[i] + y[i];\n",
    "    }\n",
    "\n",
    "\n",
    "   printf(\"y[0],y[N-1]: %5.0f %5.0f\\n\",y[0],y[N-1]); //output: y...   3  3000\n",
    "\n",
    "   omp_free(x, xy_alloc);\n",
    "   omp_free(y, xy_alloc);\n",
    "   omp_destroy_allocator(xy_alloc);\n",
    "\n",
    "   return 0;\n",
    "}\n",
    "\n"
   ]
  },
  {
   "cell_type": "markdown",
   "metadata": {},
   "source": [
    ""
   ]
  },
  {
   "cell_type": "code",
   "execution_count": null,
   "metadata": {},
   "outputs": [],
   "source": [
    "\n",
    "! name: allocators.1f90\n",
    "! type: F-free\n",
    "! version: omp_5.0\n",
    "\n",
    "program main\n",
    " use omp_lib\n",
    "\n",
    " integer, parameter :: N=1000, align=64\n",
    " real, allocatable  :: x(:),y(:)\n",
    " real               :: s = 2.0e0\n",
    " integer            :: i\n",
    "\n",
    " integer(omp_memspace_handle_kind ) :: xy_memspace = omp_default_mem_space\n",
    " type(   omp_alloctrait           ) :: xy_traits(1) = &\n",
    "                                          [omp_alloctrait(omp_atk_alignment,64)]\n",
    " integer(omp_allocator_handle_kind) :: xy_alloc\n",
    "\n",
    "   xy_alloc   =    omp_init_allocator(   xy_memspace, 1, xy_traits)\n",
    "\n",
    "   !$omp allocate(x,y) allocator(xy_alloc)\n",
    "   allocate(x(N),y(N))\n",
    "                         !! loc is non-standard, but found everywhere\n",
    "                         !! remove these lines if not available\n",
    "   if(modulo(loc(x),align) /= 0 .and. modulo(loc(y),align) /=0 ) then\n",
    "      print*,\"ERROR: x|y not 64-byte aligned\"; stop\n",
    "   endif\n",
    "\n",
    "   !$omp parallel\n",
    "\n",
    "      !$omp do simd simdlen(16) aligned(x,y: 64) !! 64B aligned\n",
    "      do i=1,N  !! initialize\n",
    "        x(i)=i\n",
    "        y(i)=i\n",
    "      end do\n",
    "\n",
    "      !$omp do simd simdlen(16) aligned(x,y: 64) !! 64B aligned\n",
    "      do i = 1,N\n",
    "         y(i) = s*x(i) + y(i)\n",
    "      end do\n",
    "\n",
    "   !$omp end parallel\n",
    "\n",
    "   write(*,'(\"y(1),y(N):\",2f6.0)') y(1),y(N) !!output: y... 3. 3000.\n",
    "\n",
    "   deallocate(x,y)\n",
    "   call omp_destroy_allocator(xy_alloc)\n",
    "\n",
    "end program\n",
    "\n",
    "\n"
   ]
  },
  {
   "cell_type": "markdown",
   "metadata": {},
   "source": [
    ""
   ]
  },
  {
   "cell_type": "markdown",
   "metadata": {},
   "source": [
    ""
   ]
  },
  {
   "cell_type": "markdown",
   "metadata": {},
   "source": [
    ""
   ]
  }
 ],
 "metadata": {
  "kernelspec": {
   "display_name": "Native",
   "language": "native",
   "name": "native"
  },
  "language_info": {
   "file_extension": ".c",
   "mimetype": "text/plain",
   "name": "none"
  }
 },
 "nbformat": 4,
 "nbformat_minor": 2
}