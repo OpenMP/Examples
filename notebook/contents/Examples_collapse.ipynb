{
 "cells": [
  {
   "cell_type": "markdown",
   "metadata": {},
   "source": [
    ""
   ]
  },
  {
   "cell_type": "markdown",
   "metadata": {},
   "source": [
    "## The `collapse` Clause"
   ]
  },
  {
   "cell_type": "markdown",
   "metadata": {},
   "source": [
    ""
   ]
  },
  {
   "cell_type": "markdown",
   "metadata": {},
   "source": [
    "In the following example, the `k` and `j` loops are associated with  the loop construct. So the iterations of the `k` and `j` loops are  collapsed into one loop with a larger iteration space, and that loop is then divided  among the threads in the current team. Since the `i` loop is not associated  with the loop construct, it is not collapsed, and the `i` loop is executed  sequentially in its entirety in every iteration of the collapsed `k` and  `j` loop."
   ]
  },
  {
   "cell_type": "markdown",
   "metadata": {},
   "source": [
    "The variable `j` can be omitted from the `private`  clause when the  `collapse` clause is used since it is implicitly private. However, if the  `collapse` clause is omitted then `j` will be shared if it is omitted  from the `private` clause. In either case, `k` is implicitly private  and could be omitted from the `private`  clause."
   ]
  },
  {
   "cell_type": "markdown",
   "metadata": {},
   "source": [
    ""
   ]
  },
  {
   "cell_type": "code",
   "execution_count": null,
   "metadata": {},
   "outputs": [],
   "source": [
    "//%compiler: clang\n",
 "//%cflags: -fopenmp\n",
 "\n",
    "/*\n",
    "* name: collapse.1c\n",
    "* type: C\n",
    "* version: omp_3.0\n",
    "*/\n",
    "\n",
    "void bar(float *a, int i, int j, int k);\n",
    "\n",
    "int kl, ku, ks, jl, ju, js, il, iu,is;\n",
    "\n",
    "void sub(float *a)\n",
    "{\n",
    "    int i, j, k;\n",
    "\n",
    "    #pragma omp for collapse(2) private(i, k, j)\n",
    "    for (k=kl; k<=ku; k+=ks)\n",
    "       for (j=jl; j<=ju; j+=js)\n",
    "          for (i=il; i<=iu; i+=is)\n",
    "             bar(a,i,j,k);\n",
    "}\n",
    "\n"
   ]
  },
  {
   "cell_type": "markdown",
   "metadata": {},
   "source": [
    ""
   ]
  },
  {
   "cell_type": "markdown",
   "metadata": {},
   "source": [
    ""
   ]
  },
  {
   "cell_type": "code",
   "execution_count": null,
   "metadata": {},
   "outputs": [],
   "source": [
    "\n",
    "! name: collapse.1f\n",
    "! type: F-fixed\n",
    "! version: omp_3.0\n",
    "\n",
    "      subroutine sub(a)\n",
    "\n",
    "      real a(*)\n",
    "      integer kl, ku, ks, jl, ju, js, il, iu, is\n",
    "      common /csub/ kl, ku, ks, jl, ju, js, il, iu, is\n",
    "      integer i, j, k\n",
    "\n",
    "!$omp do collapse(2) private(i,j,k)\n",
    "       do k = kl, ku, ks\n",
    "         do j = jl, ju, js\n",
    "           do i = il, iu, is\n",
    "             call bar(a,i,j,k)\n",
    "          enddo\n",
    "        enddo\n",
    "      enddo\n",
    "!$omp end do\n",
    "\n",
    "      end subroutine\n",
    "\n"
   ]
  },
  {
   "cell_type": "markdown",
   "metadata": {},
   "source": [
    ""
   ]
  },
  {
   "cell_type": "markdown",
   "metadata": {},
   "source": [
    "In the next example, the `k` and `j` loops are associated with the  loop construct. So the iterations of the `k` and `j` loops are collapsed  into one loop with a larger iteration space, and that loop is then divided among  the threads in the current team."
   ]
  },
  {
   "cell_type": "markdown",
   "metadata": {},
   "source": [
    "The sequential execution of the iterations in the `k` and `j` loops  determines the order of the iterations in the collapsed iteration space. This implies  that in the sequentially last iteration of the collapsed iteration space, `k`  will have the value `2` and `j` will have the value `3`. Since  `klast` and `jlast` are `lastprivate`, their values are assigned  by the sequentially last iteration of the collapsed `k` and `j` loop.  This example prints: `2 3`."
   ]
  },
  {
   "cell_type": "markdown",
   "metadata": {},
   "source": [
    ""
   ]
  },
  {
   "cell_type": "code",
   "execution_count": null,
   "metadata": {},
   "outputs": [],
   "source": [
    "//%compiler: clang\n",
 "//%cflags: -fopenmp\n",
 "\n",
    "/*\n",
    "* name: collapse.2c\n",
    "* type: C\n",
    "* version: omp_3.0\n",
    "*/\n",
    "\n",
    "#include <stdio.h>\n",
    "void test()\n",
    "{\n",
    "   int j, k, jlast, klast;\n",
    "   #pragma omp parallel\n",
    "   {\n",
    "      #pragma omp for collapse(2) lastprivate(jlast, klast)\n",
    "      for (k=1; k<=2; k++)\n",
    "         for (j=1; j<=3; j++)\n",
    "         {\n",
    "            jlast=j;\n",
    "            klast=k;\n",
    "         }\n",
    "      #pragma omp single\n",
    "      printf(\"%d %d\\n\", klast, jlast);\n",
    "   }\n",
    "}\n",
    "\n"
   ]
  },
  {
   "cell_type": "markdown",
   "metadata": {},
   "source": [
    ""
   ]
  },
  {
   "cell_type": "markdown",
   "metadata": {},
   "source": [
    ""
   ]
  },
  {
   "cell_type": "code",
   "execution_count": null,
   "metadata": {},
   "outputs": [],
   "source": [
    "\n",
    "! name: collapse.2f\n",
    "! type: F-fixed\n",
    "! version: omp_3.0\n",
    "\n",
    "      program test\n",
    "!$omp parallel\n",
    "!$omp do private(j,k) collapse(2) lastprivate(jlast, klast)\n",
    "      do k = 1,2\n",
    "        do j = 1,3\n",
    "          jlast=j\n",
    "          klast=k\n",
    "        enddo\n",
    "      enddo\n",
    "!$omp end do\n",
    "!$omp single\n",
    "      print *, klast, jlast\n",
    "!$omp end single\n",
    "!$omp end parallel\n",
    "      end program test\n",
    "\n"
   ]
  },
  {
   "cell_type": "markdown",
   "metadata": {},
   "source": [
    ""
   ]
  },
  {
   "cell_type": "markdown",
   "metadata": {},
   "source": [
    "The next example illustrates the interaction of the `collapse` and `ordered`   clauses."
   ]
  },
  {
   "cell_type": "markdown",
   "metadata": {},
   "source": [
    "In the example, the loop construct has both a `collapse` clause and an `ordered`  clause. The `collapse` clause causes the iterations of the `k` and  `j` loops to be collapsed into one loop with a larger iteration space, and  that loop is divided among the threads in the current team. An `ordered`  clause is added to the loop construct, because an ordered region binds to the loop  region arising from the loop construct."
   ]
  },
  {
   "cell_type": "markdown",
   "metadata": {},
   "source": [
    "According to Section 2.12.8 of the OpenMP 4.0 specification,  a thread must not execute more than one ordered region that binds  to the same loop region. So the `collapse` clause is required for the example  to be conforming. With the `collapse` clause, the iterations of the `k`  and `j` loops are collapsed into one loop, and therefore only one ordered  region will bind to the collapsed `k` and `j` loop. Without the `collapse`  clause, there would be two ordered regions that bind to each iteration of the `k`  loop (one arising from the first iteration of the `j` loop, and the other  arising from the second iteration of the `j` loop)."
   ]
  },
  {
   "cell_type": "markdown",
   "metadata": {},
   "source": [
    "The code prints"
   ]
  },
  {
   "cell_type": "markdown",
   "metadata": {},
   "source": [
    "`0 1 1`  `0 1 2`  `0 2 1`  `1 2 2`  `1 3 1`  `1 3 2`"
   ]
  },
  {
   "cell_type": "markdown",
   "metadata": {},
   "source": [
    ""
   ]
  },
  {
   "cell_type": "code",
   "execution_count": null,
   "metadata": {},
   "outputs": [],
   "source": [
    "//%compiler: clang\n",
 "//%cflags: -fopenmp\n",
 "\n",
    "/*\n",
    "* name: collapse.3c\n",
    "* type: C\n",
    "* version: omp_3.0\n",
    "*/\n",
    "#include <omp.h>\n",
    "#include <stdio.h>\n",
    "void work(int a, int j, int k);\n",
    "void sub()\n",
    "{\n",
    "   int j, k, a;\n",
    "   #pragma omp parallel num_threads(2)\n",
    "   {\n",
    "      #pragma omp for collapse(2) ordered private(j,k) schedule(static,3)\n",
    "      for (k=1; k<=3; k++)\n",
    "         for (j=1; j<=2; j++)\n",
    "         {\n",
    "            #pragma omp ordered\n",
    "            printf(\"%d %d %d\\n\", omp_get_thread_num(), k, j);\n",
    "            /* end ordered */\n",
    "            work(a,j,k);\n",
    "         }\n",
    "   }\n",
    "}\n",
    "\n"
   ]
  },
  {
   "cell_type": "markdown",
   "metadata": {},
   "source": [
    ""
   ]
  },
  {
   "cell_type": "markdown",
   "metadata": {},
   "source": [
    ""
   ]
  },
  {
   "cell_type": "code",
   "execution_count": null,
   "metadata": {},
   "outputs": [],
   "source": [
    "\n",
    "! name: collapse.3f\n",
    "! type: F-fixed\n",
    "! version: omp_3.0\n",
    "      program test\n",
    "      include 'omp_lib.h'\n",
    "!$omp parallel num_threads(2)\n",
    "!$omp do collapse(2) ordered private(j,k) schedule(static,3)\n",
    "      do k = 1,3\n",
    "        do j = 1,2\n",
    "!$omp ordered\n",
    "          print *, omp_get_thread_num(), k, j\n",
    "!$omp end ordered\n",
    "          call work(a,j,k)\n",
    "        enddo\n",
    "      enddo\n",
    "!$omp end do\n",
    "!$omp end parallel\n",
    "      end program test\n",
    "\n"
   ]
  },
  {
   "cell_type": "markdown",
   "metadata": {},
   "source": [
    ""
   ]
  },
  {
   "cell_type": "markdown",
   "metadata": {},
   "source": [
    ""
   ]
  },
  {
   "cell_type": "markdown",
   "metadata": {},
   "source": [
    ""
   ]
  }
 ],
 "metadata": {
  "kernelspec": {
   "display_name": "Native",
   "language": "native",
   "name": "native"
  },
  "language_info": {
   "file_extension": ".c",
   "mimetype": "text/plain",
   "name": "none"
  }
 },
 "nbformat": 4,
 "nbformat_minor": 2
}