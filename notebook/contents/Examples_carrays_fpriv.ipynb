{
 "cells": [
  {
   "cell_type": "markdown",
   "metadata": {},
   "source": [
    ""
   ]
  },
  {
   "cell_type": "markdown",
   "metadata": {},
   "source": [
    "## C/C++ Arrays in a `firstprivate` Clause"
   ]
  },
  {
   "cell_type": "markdown",
   "metadata": {},
   "source": [
    ""
   ]
  },
  {
   "cell_type": "markdown",
   "metadata": {},
   "source": [
    "The following example illustrates the size and value of list items of array or  pointer type in a `firstprivate` clause . The size of new list items is  based on the type of the corresponding original list item, as determined by the  base language."
   ]
  },
  {
   "cell_type": "markdown",
   "metadata": {},
   "source": [
    "In this example:"
   ]
  },
  {
   "cell_type": "markdown",
   "metadata": {},
   "source": [
    ""
   ]
  },
  {
   "cell_type": "markdown",
   "metadata": {},
   "source": [
    "*  The type of `A` is array of two arrays of two ints."
   ]
  },
  {
   "cell_type": "markdown",
   "metadata": {},
   "source": [
    ""
   ]
  },
  {
   "cell_type": "markdown",
   "metadata": {},
   "source": [
    "*   The type of `B` is adjusted to pointer to array of `n`  ints, because it is a function parameter."
   ]
  },
  {
   "cell_type": "markdown",
   "metadata": {},
   "source": [
    ""
   ]
  },
  {
   "cell_type": "markdown",
   "metadata": {},
   "source": [
    "*   The type of `C` is adjusted to pointer to int, because  it is a function parameter."
   ]
  },
  {
   "cell_type": "markdown",
   "metadata": {},
   "source": [
    ""
   ]
  },
  {
   "cell_type": "markdown",
   "metadata": {},
   "source": [
    "*   The type of `D` is array of two arrays of two ints."
   ]
  },
  {
   "cell_type": "markdown",
   "metadata": {},
   "source": [
    ""
   ]
  },
  {
   "cell_type": "markdown",
   "metadata": {},
   "source": [
    "*   The type of `E` is array of `n` arrays of `n`  ints."
   ]
  },
  {
   "cell_type": "markdown",
   "metadata": {},
   "source": [
    "Note that  `B` and `E` involve variable length array types."
   ]
  },
  {
   "cell_type": "markdown",
   "metadata": {},
   "source": [
    "The new items of array type are initialized as if each integer element of the original  array is assigned to the corresponding element of the new array. Those of pointer  type are initialized as if by assignment from the original item to the new item."
   ]
  },
  {
   "cell_type": "markdown",
   "metadata": {},
   "source": [
    ""
   ]
  },
  {
   "cell_type": "code",
   "execution_count": null,
   "metadata": {},
   "outputs": [],
   "source": [
    "//%compiler: clang\n",
 "//%cflags: -fopenmp\n",
 "\n",
    "/*\n",
    "* name: carrays_fpriv.1c\n",
    "* type: C\n",
    "*/\n",
    "#include <assert.h>\n",
    "\n",
    "int A[2][2] = {1, 2, 3, 4};\n",
    "\n",
    "void f(int n, int B[n][n], int C[])\n",
    "{\n",
    "  int D[2][2] = {1, 2, 3, 4};\n",
    "  int E[n][n];\n",
    "\n",
    "  assert(n >= 2);\n",
    "  E[1][1] = 4;\n",
    "\n",
    "  #pragma omp parallel firstprivate(B, C, D, E)\n",
    "  {\n",
    "    assert(sizeof(B) == sizeof(int (*)[n]));\n",
    "    assert(sizeof(C) == sizeof(int*));\n",
    "    assert(sizeof(D) == 4 * sizeof(int));\n",
    "    assert(sizeof(E) == n * n * sizeof(int));\n",
    "\n",
    "    /* Private B and C have values of original B and C. */\n",
    "    assert(&B[1][1] == &A[1][1]);\n",
    "    assert(&C[3] == &A[1][1]);\n",
    "    assert(D[1][1] == 4);\n",
    "    assert(E[1][1] == 4);\n",
    "  }\n",
    "}\n",
    "\n",
    "int main() {\n",
    "  f(2, A, A[0]);\n",
    "  return 0;\n",
    "}\n",
    "\n"
   ]
  },
  {
   "cell_type": "markdown",
   "metadata": {},
   "source": [
    ""
   ]
  },
  {
   "cell_type": "markdown",
   "metadata": {},
   "source": [
    ""
   ]
  },
  {
   "cell_type": "markdown",
   "metadata": {},
   "source": [
    ""
   ]
  }
 ],
 "metadata": {
  "kernelspec": {
   "display_name": "Native",
   "language": "native",
   "name": "native"
  },
  "language_info": {
   "file_extension": ".c",
   "mimetype": "text/plain",
   "name": "none"
  }
 },
 "nbformat": 4,
 "nbformat_minor": 2
}