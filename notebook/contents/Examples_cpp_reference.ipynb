{
 "cells": [
  {
   "cell_type": "markdown",
   "metadata": {},
   "source": [
    ""
   ]
  },
  {
   "cell_type": "markdown",
   "metadata": {},
   "source": [
    "## C++ Reference in Data-Sharing Clauses"
   ]
  },
  {
   "cell_type": "markdown",
   "metadata": {},
   "source": [
    ""
   ]
  },
  {
   "cell_type": "markdown",
   "metadata": {},
   "source": [
    "C++ reference types are allowed in data-sharing attribute clauses as of OpenMP 4.5, except for the `threadprivate`, `copyin` and `copyprivate` clauses.   (See the Data-Sharing Attribute Clauses Section of the 4.5 OpenMP specification.) When a variable with C++ reference type is privatized, the object the reference refers to is privatized in addition to the reference itself. The following example shows the use of reference types in data-sharing clauses in the usual way. Additionally it shows how the data-sharing of formal arguments with a C++ reference type on an orphaned task generating construct is determined implicitly. (See the Data-sharing Attribute Rules for Variables Referenced in a Construct Section of the 4.5 OpenMP specification.)"
   ]
  },
  {
   "cell_type": "markdown",
   "metadata": {},
   "source": [
    ""
   ]
  },
  {
   "cell_type": "markdown",
   "metadata": {},
   "source": [
    ""
   ]
  },
  {
   "cell_type": "code",
   "execution_count": null,
   "metadata": {},
   "outputs": [],
   "source": [
    "//%compiler: clang\n",
 "//%cflags: -fopenmp\n",
 "\n",
    "/*\n",
    "* name: cpp_reference.1c\n",
    "* type: C++\n",
    "* version: omp_4.5\n",
    "*/\n",
    "\n",
    "void task_body (int &);\n",
    "void gen_task (int &x) { // on orphaned task construct reference argument\n",
    "  #pragma omp task // x is implicitly determined firstprivate(x)\n",
    "  task_body (x);\n",
    "}\n",
    "void test (int &y, int &z) {\n",
    "  #pragma omp parallel private(y)\n",
    "  {\n",
    "    y = z + 2;\n",
    "    gen_task (y); // no matter if the argument is determined private\n",
    "    gen_task (z); // or shared in the enclosing context.\n",
    "\n",
    "    y++;          // each thread has its own int object y refers to\n",
    "    gen_task (y);\n",
    "  }\n",
    "}\n",
    "\n",
    "\n"
   ]
  },
  {
   "cell_type": "markdown",
   "metadata": {},
   "source": [
    ""
   ]
  },
  {
   "cell_type": "markdown",
   "metadata": {},
   "source": [
    ""
   ]
  }
 ],
 "metadata": {
  "kernelspec": {
   "display_name": "Native",
   "language": "native",
   "name": "native"
  },
  "language_info": {
   "file_extension": ".c",
   "mimetype": "text/plain",
   "name": "none"
  }
 },
 "nbformat": 4,
 "nbformat_minor": 2
}