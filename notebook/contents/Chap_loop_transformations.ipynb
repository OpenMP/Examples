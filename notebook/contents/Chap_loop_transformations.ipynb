{
 "cells": [
  {
   "cell_type": "markdown",
   "metadata": {},
   "source": [
    ""
   ]
  },
  {
   "cell_type": "markdown",
   "metadata": {},
   "source": [
    "# Loop Transformations"
   ]
  },
  {
   "cell_type": "markdown",
   "metadata": {},
   "source": [
    "{loop_transformations}"
   ]
  },
  {
   "cell_type": "markdown",
   "metadata": {},
   "source": [
    "To obtain better performance on a platform, code may need to be restructured  relative to the way it is written (which is often for best readability). User-directed loop transformations accomplish this goal by providing a means  to separate code semantics and its optimization."
   ]
  },
  {
   "cell_type": "markdown",
   "metadata": {},
   "source": [
    "A loop transformation construct states that a transformation operation is to be  performed on set of nested loops.  This directive approach can target specific loops for transformation, rather than applying more time-consuming general compiler  heuristics methods with compiler options that may not be able to discover  optimal transformations."
   ]
  },
  {
   "cell_type": "markdown",
   "metadata": {},
   "source": [
    "Loop transformations can be augmented by preprocessor support or OpenMP `metadirective`  directives, to select optimal dimension and size parameters for specific platforms, facilitating a single code base for multiple platforms. Moreover, directive-based transformations make experimenting easier:  whereby specific hot spots can be affected by transformation directives."
   ]
  },
  {
   "cell_type": "markdown",
   "metadata": {},
   "source": [
    ""
   ]
  },
  {
   "cell_type": "markdown",
   "metadata": {},
   "source": [
    ""
   ]
  },
  {
   "cell_type": "markdown",
   "metadata": {},
   "source": [
    ""
   ]
  },
  {
   "cell_type": "markdown",
   "metadata": {},
   "source": [
    "## `tile` Construct"
   ]
  },
  {
   "cell_type": "markdown",
   "metadata": {},
   "source": [
    "\index{constructs!tile@`tile`} \index{tile construct@`tile` construct} \index{tile construct@`tile` construct!sizes clause@`sizes` clause} \index{sizes clause@`sizes` clause} \index{clauses!sizes@`sizes`}"
   ]
  },
  {
   "cell_type": "markdown",
   "metadata": {},
   "source": [
    "In the following example a `tile` construct transforms two nested loops within the  **func1**  function into four nested loops. The tile sizes in the `sizes` clause are applied from outermost to innermost loops (left-to-right). The effective tiling operation is illustrated in the  **func2**  function.  (For easier illustration, tile sizes for all examples in this section evenly  divide the iteration counts so that there are no remainders.)"
   ]
  },
  {
   "cell_type": "markdown",
   "metadata": {},
   "source": [
    "In the following C/C++ code the inner loop traverses columns and the outer loop traverses the rows of a 100x128 (row x column) matrix.   The `sizes(5,16)` clause of the `tile` construct specifies a 5x16 blocking, applied to the outer (row) and inner (column) loops. The worksharing-loop construct before the `tile` construct is applied after the transform."
   ]
  },
  {
   "cell_type": "markdown",
   "metadata": {},
   "source": [
    ""
   ]
  },
  {
   "cell_type": "code",
   "execution_count": null,
   "metadata": {},
   "outputs": [],
   "source": [
    "//%compiler: clang\n",
 "//%cflags: -fopenmp\n",
 "\n",
    "/*\n",
    "* name:       tile.1\n",
    "* type:       C\n",
    "* version:    omp_5.1\n",
    "*/\n",
    "void func1(int A[100][128])\n",
    "{\n",
    "   #pragma omp parallel for\n",
    "   #pragma omp tile sizes(5,16)\n",
    "   for (int i = 0; i < 100; ++i)\n",
    "       for (int j = 0; j < 128; ++j)\n",
    "           A[i][j] = i*1000 + j;\n",
    "}\n",
    "\n",
    "void func2(int A[100][128])\n",
    "{\n",
    "   #pragma omp parallel for\n",
    "   for (int i1 = 0; i1 < 100; i1+=5)\n",
    "       for (int j1 = 0; j1 < 128; j1+=16)\n",
    "           for (int i2 = i1; i2 < i1+5; ++i2)\n",
    "               for (int j2 = j1; j2 < j1+16; ++j2)\n",
    "                  A[i2][j2] = i2*1000 + j2;\n",
    "}\n",
    "\n"
   ]
  },
  {
   "cell_type": "markdown",
   "metadata": {},
   "source": [
    ""
   ]
  },
  {
   "cell_type": "markdown",
   "metadata": {},
   "source": [
    "In the following Fortran code the inner loop traverses rows  and the outer loop traverses the columns of a 128x100 (row x column) matrix.   The  `sizes(5,16)` clause of the `tile` construct specifies  a 5x16 blocking, applied to the outer (column) and inner (row) loops. The worksharing-loop construct before the `tile` construct is applied after the transform."
   ]
  },
  {
   "cell_type": "markdown",
   "metadata": {},
   "source": [
    ""
   ]
  },
  {
   "cell_type": "code",
   "execution_count": null,
   "metadata": {},
   "outputs": [],
   "source": [
    "\n",
    "! name:       tile.1\n",
    "! type:       F-free\n",
    "! version:    omp_5.1\n",
    "\n",
    "subroutine func1(A)\n",
    "    integer :: A(128,100)\n",
    "    integer :: i, j\n",
    "    !$omp parallel do\n",
    "    !$omp tile sizes(5,16)\n",
    "    do i = 1, 100\n",
    "    do j = 1, 128\n",
    "        A(j,i) = j*1000 + i\n",
    "    end do; end do\n",
    "end subroutine\n",
    "\n",
    "subroutine func2(A)\n",
    "    integer :: A(128,100)\n",
    "    integer :: i1, j1, i2, j2\n",
    "    !$omp parallel do\n",
    "    do i1 = 1, 100,5\n",
    "    do j1 = 1, 128,16\n",
    "       do i2 = i1, i1+( 5-1)\n",
    "       do j2 = j1, j1+(16-1)\n",
    "          A(j2,i2) = j2*1000 + i2\n",
    "       end do; end do\n",
    "    end do; end do\n",
    "end subroutine\n",
    "\n"
   ]
  },
  {
   "cell_type": "markdown",
   "metadata": {},
   "source": [
    ""
   ]
  },
  {
   "cell_type": "markdown",
   "metadata": {},
   "source": [
    "This example illustrates transformation nesting. Here, a 4x4 \"outer''  `tile` construct is applied to the \"inner'' tile transform shown in the example above. The effect of the inner loop is shown in  **func2**  (cf.\  **func2**  in tile.1.c). The outer `tile` construct's `sizes(4,4)` clause applies a 4x4 tile upon the resulting blocks of the inner transform.  The effective looping is shown in  **func3** ."
   ]
  },
  {
   "cell_type": "markdown",
   "metadata": {},
   "source": [
    ""
   ]
  },
  {
   "cell_type": "code",
   "execution_count": null,
   "metadata": {},
   "outputs": [],
   "source": [
    "//%compiler: clang\n",
 "//%cflags: -fopenmp\n",
 "\n",
    "/*\n",
    "* name:       tile.2\n",
    "* type:       C\n",
    "* version:    omp_5.1\n",
    "*/\n",
    "void func1(int A[100][128])\n",
    "{\n",
    "   #pragma omp tile sizes(4, 4)\n",
    "   #pragma omp tile sizes(5,16)\n",
    "   for (int i = 0; i < 100; ++i)\n",
    "       for (int j = 0; j < 128; ++j)\n",
    "           A[i][j] = i*1000 + j;\n",
    "}\n",
    "\n",
    "void func2(int A[100][128])\n",
    "{\n",
    "   #pragma omp tile sizes(4,4)\n",
    "   for (int i1 = 0; i1 < 100; i1+=5)\n",
    "       for (int j1 = 0; j1 < 128; j1+=16)\n",
    "           for (int i2 = i1; i2 < i1+5; ++i2)\n",
    "               for (int j2 = j1; j2 < j1+16; ++j2)\n",
    "                  A[i2][j2] = i2*1000 + j2;\n",
    "}\n",
    "\n",
    "void func3(int A[100][128])\n",
    "{\n",
    "   for (int i11 = 0; i11 < 100; i11+= 5*4)\n",
    "   for (int j11 = 0; j11 < 128; j11+=16*4)\n",
    "\n",
    "       for (int i12 = i11; i12 < i11+( 5*4); i12+= 5)\n",
    "       for (int j12 = j11; j12 < j11+(16*4); j12+=16)\n",
    "\n",
    "           for (int i2 = i12; i2 < i12+ 5; ++i2)\n",
    "           for (int j2 = j12; j2 < j12+16; ++j2)\n",
    "              A[i2][j2] = i2*1000 + j2;\n",
    "}\n",
    "\n"
   ]
  },
  {
   "cell_type": "markdown",
   "metadata": {},
   "source": [
    ""
   ]
  },
  {
   "cell_type": "code",
   "execution_count": null,
   "metadata": {},
   "outputs": [],
   "source": [
    "\n",
    "! name:       tile.2\n",
    "! type:       F-free\n",
    "! version:    omp_5.1\n",
    "\n",
    "subroutine func1(A)\n",
    "    integer :: A(128,100)\n",
    "    integer :: i, j\n",
    "    !$omp tile sizes(4, 4)\n",
    "    !$omp tile sizes(5,16)\n",
    "    do i = 1, 100\n",
    "    do j = 1, 128\n",
    "       A(j,i) = j*1000 + i\n",
    "    end do; end do\n",
    "end subroutine\n",
    "\n",
    "subroutine func2(A)\n",
    "    integer :: A(128,100)\n",
    "    integer :: i1, j1, i2, j2\n",
    "    !$omp tile sizes(4,4)\n",
    "    do i1 = 1, 100,5\n",
    "    do j1 = 1, 128,16\n",
    "       do i2 = i1, i1+( 5-1)\n",
    "       do j2 = j1, j1+(16-1)\n",
    "          A(j2,i2) = j2*1000 + i2\n",
    "       end do; end do\n",
    "    end do; end do\n",
    "\n",
    "end subroutine\n",
    "\n",
    "subroutine func3(A)\n",
    "    integer :: A(128,100)\n",
    "    integer :: i11, j11, i12, j12, i2, j2\n",
    "    do i11 = 1, 100,  5*4\n",
    "    do j11 = 1, 128, 16*4\n",
    "       do i12 = i11, i11+( 5*4-1),  5\n",
    "       do j12 = j11, j11+(16*4-1), 16\n",
    "          do i2 = i12, i12+ 5-1\n",
    "          do j2 = j12, j12+16-1\n",
    "             A(j2,i2) = j2*1000 + i2\n",
    "          enddo; enddo;\n",
    "       enddo; enddo;\n",
    "    enddo; enddo\n",
    "\n",
    "end subroutine\n",
    "\n"
   ]
  },
  {
   "cell_type": "markdown",
   "metadata": {},
   "source": [
    "../../loop_transformations/tile.tex"
   ]
  },
  {
   "cell_type": "markdown",
   "metadata": {},
   "source": [
    ""
   ]
  },
  {
   "cell_type": "markdown",
   "metadata": {},
   "source": [
    "## `unroll` Construct"
   ]
  },
  {
   "cell_type": "markdown",
   "metadata": {},
   "source": [
    "\index{constructs!unroll@`unroll`} \index{unroll construct@`unroll` construct} \index{unroll construct@`unroll` construct!full clause@`full` clause} \index{full clause@`full` clause} \index{clauses!full@`full`} \index{unroll construct@`unroll` construct!partial clause@`partial` clause} \index{partial clause@`partial` clause} \index{clauses!partial@`partial`}"
   ]
  },
  {
   "cell_type": "markdown",
   "metadata": {},
   "source": [
    "The `unroll` construct is a loop transformation that increases the  number of loop blocks in a loop, while reducing the number of iterations. The `full` clause specifies that the loop is to be completely unrolled.   That is, a loop block for each iteration is created, and the loop is removed. A `partial` clause  with a  _unroll-factor_  specifies that the number of  iterations will be reduced multiplicatively by the factor while the number of  blocks will be increased by the same factor.   Operationally, the loop is tiled by the factor, and the tiled loop is  fully expanded, resulting in a single loop with multiple blocks."
   ]
  },
  {
   "cell_type": "markdown",
   "metadata": {},
   "source": [
    "Unrolling can reduce control-flow overhead and provide additional optimization opportunities for the compiler and the processor pipeline. Nevertheless, unrolling can increase the code size, and saturate the instruction cache. Hence, the trade-off may need to be assessed. Unrolling a loop does not change the code's semantics. Also, compilers may unroll loops without explicit directives, at various optimization levels."
   ]
  },
  {
   "cell_type": "markdown",
   "metadata": {},
   "source": [
    "In the example below, the `unroll` construct is used without any clause, and then with a `full` clause, in the first two functions, respectively. When no clause is used, it is up to the implementation (compiler)  to decide if and how the loop is to be unrolled.   The iteration count can have a run time value.   In the second function, the `unroll` construct uses a `full` clause to completely unroll the loop.  A compile-time constant is required for the iteration count. The statements in the third function ( _unroll_full_equivalent_ ) illustrates equivalent code for the full unrolling in the second function."
   ]
  },
  {
   "cell_type": "markdown",
   "metadata": {},
   "source": [
    ""
   ]
  },
  {
   "cell_type": "code",
   "execution_count": null,
   "metadata": {},
   "outputs": [],
   "source": [
    "//%compiler: clang\n",
 "//%cflags: -fopenmp\n",
 "\n",
    "/*\n",
    "* name: unroll.1\n",
    "* type: C\n",
    "* version:    omp_5.1\n",
    "*/\n",
    "void unroll(double A[], int n)\n",
    "{\n",
    "   #pragma omp unroll\n",
    "   for (int i = 0; i < n; ++i)\n",
    "      A[i] = 0;\n",
    "}\n",
    "\n",
    "void unroll_full(double A[])\n",
    "{\n",
    "   #pragma omp unroll full\n",
    "   for (int i = 0; i < 4; ++i)\n",
    "      A[i] = 0;\n",
    "}\n",
    "\n",
    "void unroll_full_equivalent(double A[])\n",
    "{\n",
    "   A[0] = 0;\n",
    "   A[1] = 0;\n",
    "   A[2] = 0;\n",
    "   A[3] = 0;\n",
    "}\n",
    "\n",
    "\n"
   ]
  },
  {
   "cell_type": "markdown",
   "metadata": {},
   "source": [
    ""
   ]
  },
  {
   "cell_type": "code",
   "execution_count": null,
   "metadata": {},
   "outputs": [],
   "source": [
    "\n",
    "! name:       unroll.1\n",
    "! type:       F-free\n",
    "! version:    omp_5.1\n",
    "subroutine unroll(A, n)\n",
    "   implicit none\n",
    "   integer          :: i,n\n",
    "   double precision :: A(n)\n",
    "\n",
    "   !$omp unroll\n",
    "   do i = 1,n\n",
    "      A(i) = 0.0d0\n",
    "   end do\n",
    "end subroutine\n",
    "\n",
    "subroutine unroll_full(A)\n",
    "   implicit none\n",
    "   integer :: i\n",
    "   double precision :: A(*)\n",
    "\n",
    "   !$omp unroll full\n",
    "   do i = 1,4\n",
    "      A(i) = 0.0d0\n",
    "   end do\n",
    "end subroutine\n",
    "\n",
    "subroutine unroll_full_equivalent(A)\n",
    "   implicit none\n",
    "   double precision :: A(*)\n",
    "\n",
    "   A(1) = 0.0d0\n",
    "   A(2) = 0.0d0\n",
    "   A(3) = 0.0d0\n",
    "   A(4) = 0.0d0\n",
    "end subroutine\n",
    "\n"
   ]
  },
  {
   "cell_type": "markdown",
   "metadata": {},
   "source": [
    ""
   ]
  },
  {
   "cell_type": "markdown",
   "metadata": {},
   "source": [
    ""
   ]
  },
  {
   "cell_type": "markdown",
   "metadata": {},
   "source": [
    "The next example shows cases when it is incorrect to use full unrolling."
   ]
  },
  {
   "cell_type": "markdown",
   "metadata": {},
   "source": [
    ""
   ]
  },
  {
   "cell_type": "code",
   "execution_count": null,
   "metadata": {},
   "outputs": [],
   "source": [
    "//%compiler: clang\n",
 "//%cflags: -fopenmp\n",
 "\n",
    "/*\n",
    "* name: unroll.2\n",
    "* type: C\n",
    "* version:    omp_5.1\n",
    "*/\n",
    "void illegal_2a(double A[])\n",
    "{\n",
    "    #pragma omp for\n",
    "    #pragma omp unroll full  // ERROR: No loop left after full unrolling.\n",
    "    for (int i = 0; i < 12; ++i)\n",
    "        A[i] = 0;\n",
    "}\n",
    "\n",
    "void illegal_2b(double A[])\n",
    "{\n",
    "    // Loop might be fully unrolled (or a partially unrolled loop\n",
    "    // replacement). Hence, no canonical for-loop, resulting in\n",
    "    // non-compliant code. Implementations may suggest adding a\n",
    "    // \"partial\" clause.\n",
    "\n",
    "    #pragma omp for          //        Requires a canonical loop\n",
    "    #pragma omp unroll       // ERROR: may result in non-compliant code\n",
    "    for (int i = 0; i < 12; ++i)\n",
    "        A[i] = 0;\n",
    "}\n",
    "\n",
    "void illegal_2c(int n, double A[])\n",
    "{\n",
    "    #pragma omp unroll full  // ERROR: Constant iteration count required.\n",
    "    for (int i = 0; i < n; ++i)\n",
    "        A[i] = 0;\n",
    "}\n",
    "\n"
   ]
  },
  {
   "cell_type": "markdown",
   "metadata": {},
   "source": [
    ""
   ]
  },
  {
   "cell_type": "code",
   "execution_count": null,
   "metadata": {},
   "outputs": [],
   "source": [
    "\n",
    "! name:       unroll.2\n",
    "! type:       F-free\n",
    "! version:    omp_5.1\n",
    "subroutine illegal_2a(A)\n",
    "   implicit none\n",
    "   double precision :: A(*)\n",
    "   integer :: i\n",
    "\n",
    "   !$omp do\n",
    "   !$omp unroll full  !! ERROR: No loop left after full unrolling\n",
    "   do i = 1,12\n",
    "      A(i) = 0.0d0\n",
    "   end do\n",
    "end subroutine\n",
    "\n",
    "subroutine illegal_2b(A)\n",
    "   implicit none\n",
    "   double precision :: A(*)\n",
    "   integer :: i\n",
    "\n",
    "   !! Loop might be fully unrolled (or a partially unrolled loop\n",
    "   !! replacement).  Hence, no canonical do-loop will exist,\n",
    "   !! resulting in non-compliant code.\n",
    "   !! Implementations may suggest to adding a \"partial\" clause.\n",
    "\n",
    "   !$omp do           !!        Requires a canonical loop\n",
    "   !$omp unroll       !! ERROR: may result in non-compliant code\n",
    "   do i = 1,12\n",
    "      A(i) = 0.0d0\n",
    "   end do\n",
    "end subroutine\n",
    "\n",
    "subroutine illegal_2c(n, A)\n",
    "   implicit none\n",
    "   integer          :: i,n\n",
    "   double precision :: A(*)\n",
    "\n",
    "   !$omp unroll full  !! Full unroll requires constant iteration count\n",
    "   do i = 1,n\n",
    "      A(i) = 0.0d0\n",
    "   end do\n",
    "end subroutine\n",
    "\n"
   ]
  },
  {
   "cell_type": "markdown",
   "metadata": {},
   "source": [
    ""
   ]
  },
  {
   "cell_type": "markdown",
   "metadata": {},
   "source": [
    "In many cases, when the iteration count is large and/or dynamic, it is reasonable to partially unroll a loop by including a `partial` clause. In the  _unroll3_partial_  function below, the  _unroll-factor_  value of 4 is used to create a tile size of 4 that is unrolled to create 4 unrolled statements. The equivalent \"hand unrolled'' loop code is presented in the   _unroll3_partial_equivalent_  function. If the  _unroll-factor_  is omitted, as in the  _unroll3_partial_nofactor_   function, the implementation may optimally select a factor from 1  (no unrolling) to the iteration count (full unrolling).   In the latter case the construct generates a loop with a single iteration."
   ]
  },
  {
   "cell_type": "markdown",
   "metadata": {},
   "source": [
    ""
   ]
  },
  {
   "cell_type": "code",
   "execution_count": null,
   "metadata": {},
   "outputs": [],
   "source": [
    "//%compiler: clang\n",
 "//%cflags: -fopenmp\n",
 "\n",
    "/*\n",
    "* name: unroll.3\n",
    "* type: C\n",
    "* version:    omp_5.1\n",
    "*/\n",
    "void unroll3_partial(double A[])\n",
    "{\n",
    "   #pragma omp unroll partial(4)\n",
    "   for (int i = 0; i < 128; ++i)\n",
    "       A[i] = 0;\n",
    "}\n",
    "\n",
    "void unroll3_partial_equivalent(double A[])\n",
    "{\n",
    "   for (int i_iv = 0; i_iv < 32; ++i_iv) {\n",
    "       A[i_iv * 4 + 0] = 0;\n",
    "       A[i_iv * 4 + 1] = 0;\n",
    "       A[i_iv * 4 + 2] = 0;\n",
    "       A[i_iv * 4 + 3] = 0;\n",
    "  }\n",
    "}\n",
    "\n",
    "void unroll3_partial_nofactor(double A[])\n",
    "{\n",
    "   #pragma omp unroll partial\n",
    "   for (int i = 0; i < 128; ++i)\n",
    "       A[i] = 0;\n",
    "}\n",
    "\n"
   ]
  },
  {
   "cell_type": "markdown",
   "metadata": {},
   "source": [
    ""
   ]
  },
  {
   "cell_type": "code",
   "execution_count": null,
   "metadata": {},
   "outputs": [],
   "source": [
    "\n",
    "! name:       unroll.3\n",
    "! type:       F-free\n",
    "! version:    omp_5.1\n",
    "subroutine unroll3_partial(A)\n",
    "   implicit none\n",
    "   double precision :: A(*)\n",
    "   integer :: i\n",
    "\n",
    "   !$omp unroll partial(4)\n",
    "   do i = 1,128\n",
    "      A(i) = 0\n",
    "   end do\n",
    "end subroutine\n",
    "\n",
    "subroutine unroll3_partial_equivalent(A)\n",
    "   implicit none\n",
    "   double precision :: A(*)\n",
    "   integer :: i_iv\n",
    "\n",
    "   do i_iv = 0, 31\n",
    "      A(i_iv * 4 + 1) = 0\n",
    "      A(i_iv * 4 + 2) = 0\n",
    "      A(i_iv * 4 + 3) = 0\n",
    "      A(i_iv * 4 + 4) = 0\n",
    "  end do\n",
    "end subroutine\n",
    "\n",
    "subroutine unroll3_partial_nofactor(A)\n",
    "   implicit none\n",
    "   double precision :: A(*)\n",
    "   integer :: i\n",
    "\n",
    "   !$omp unroll partial\n",
    "   do i = 1, 128\n",
    "      A(i) = 0\n",
    "   end do\n",
    "end subroutine\n",
    "\n"
   ]
  },
  {
   "cell_type": "markdown",
   "metadata": {},
   "source": [
    ""
   ]
  },
  {
   "cell_type": "markdown",
   "metadata": {},
   "source": [
    "When the iteration count is not a multiple of the  _unroll-factor_ , iterations that should not produce executions must be conditionally protected from execution. In this example, the first function unrolls a loop that has a variable iteraction count. Since the `unroll` construct uses a `partial(`  _4_  `)` clause, the compiler will need to create code that can account for cases when the iteration count is not a multiple of 4. A brute-force, simple-to-understand approach for implementing  the conditionals is shown in the  _unroll_partial_remainder_option1_  function."
   ]
  },
  {
   "cell_type": "markdown",
   "metadata": {},
   "source": [
    "The remaining two functions show more optimal algorithms the compiler  may select to implement the transformation. Optimal approaches may reduce the number of conditionals as shown in   _unroll_partial_remainder_option2_ , and  may eliminate conditionals completely by peeling off a \"remainder''  into a separate loop as in  _unroll_partial_remainder_option3_ ."
   ]
  },
  {
   "cell_type": "markdown",
   "metadata": {},
   "source": [
    "Regardless of the optimization, implementations must ensure that the semantics remain the same, especially when additional directives are applied to the unrolled loop. For the case in the  _unroll_partial_remainder_option3_  function, the fission of the worksharing-loop construct may result in a different distribution of threads to the iterations. Since no reproducible scheduling is specified on the work-sharing construct, the worksharing-loop and unrolling are compliant."
   ]
  },
  {
   "cell_type": "markdown",
   "metadata": {},
   "source": [
    ""
   ]
  },
  {
   "cell_type": "code",
   "execution_count": null,
   "metadata": {},
   "outputs": [],
   "source": [
    "//%compiler: clang\n",
 "//%cflags: -fopenmp\n",
 "\n",
    "/*\n",
    "* name: unroll.4\n",
    "* type: C\n",
    "* version:    omp_5.1\n",
    "*/\n",
    "void unroll_partial_remainder(int n, int A[])\n",
    "{\n",
    "    #pragma omp parallel for\n",
    "    #pragma omp unroll partial(4)\n",
    "    for (int i = 0; i < n; ++i)\n",
    "        A[i] = i;\n",
    "}\n",
    "\n",
    "void unroll_partial_remainder_option1(int n, int A[])\n",
    "{\n",
    "    #pragma omp parallel for\n",
    "    for (int i_iv = 0; i_iv < (n+3)/4; ++i_iv) {\n",
    "                              A[i_iv * 4 + 0] = i_iv * 4 + 0;\n",
    "        if (i_iv * 4 + 1 < n) A[i_iv * 4 + 1] = i_iv * 4 + 1;\n",
    "        if (i_iv * 4 + 2 < n) A[i_iv * 4 + 2] = i_iv * 4 + 2;\n",
    "        if (i_iv * 4 + 3 < n) A[i_iv * 4 + 3] = i_iv * 4 + 3;\n",
    "   }\n",
    "}\n",
    "\n",
    "void unroll_partial_remainder_option2(int n, int A[])\n",
    "{\n",
    "    #pragma omp parallel for\n",
    "    for (int i_iv = 0; i_iv < (n+3)/4; ++i_iv) {\n",
    "        if (i_iv < n/4) {\n",
    "            A[i_iv * 4 + 0] = i_iv * 4 + 0;\n",
    "            A[i_iv * 4 + 1] = i_iv * 4 + 1;\n",
    "            A[i_iv * 4 + 2] = i_iv * 4 + 2;\n",
    "            A[i_iv * 4 + 3] = i_iv * 4 + 3;\n",
    "        } else {\n",
    "            // remainder loop\n",
    "            for (int i_rem = i_iv*4; i_rem < n; ++i_rem)\n",
    "                A[i_rem] = i_rem;\n",
    "        }\n",
    "    }\n",
    "}\n",
    "\n",
    "void unroll_partial_remainder_option3(int n, int A[])\n",
    "{\n",
    "    // main loop\n",
    "    #pragma omp parallel for\n",
    "    for (int i_iv = 0; i_iv < n/4; ++i_iv) {\n",
    "        A[i_iv * 4 + 0] = i_iv * 4 + 0;\n",
    "        A[i_iv * 4 + 1] = i_iv * 4 + 1;\n",
    "        A[i_iv * 4 + 2] = i_iv * 4 + 2;\n",
    "        A[i_iv * 4 + 3] = i_iv * 4 + 3;\n",
    "    }\n",
    "\n",
    "    // remainder loop\n",
    "    #pragma omp parallel for\n",
    "    for (int i_rem = (n/4)*4; i_rem < n; ++i_rem)\n",
    "        A[i_rem] = i_rem;\n",
    "}\n",
    "\n",
    "#include <stdio.h>\n",
    "#define NT 12\n",
    "\n",
    "int main(){\n",
    "int error=0, A[NT],C[NT];\n",
    "for(int i = 0; i<NT; i++){ A[i]=0; C[i]=i; }\n",
    "\n",
    "    for(int i = 0; i<NT; i++) A[i]=0.0;\n",
    "    unroll_partial_remainder(NT,A);\n",
    "    for(int i = 0; i<NT; i++) if(A[i] != C[i]) error=1;\n",
    "\n",
    "    for(int i = 0; i<NT; i++) A[i]=0.0;\n",
    "    unroll_partial_remainder_option1(NT,A);\n",
    "    for(int i = 0; i<NT; i++) if(A[i] != C[i]) error=1;\n",
    "\n",
    "    for(int i = 0; i<NT; i++) A[i]=0.0;\n",
    "    unroll_partial_remainder_option2(NT,A);\n",
    "    for(int i = 0; i<NT; i++) if(A[i] != C[i]) error=1;\n",
    "\n",
    "    for(int i = 0; i<NT; i++) A[i]=0.0;\n",
    "    unroll_partial_remainder_option3(NT,A);\n",
    "    for(int i = 0; i<NT; i++) if(A[i] != C[i]) error=1;\n",
    "\n",
    "  if(!error) printf(\"OUT: Passed\\n\");\n",
    "  if( error) printf(\"OUT: Failed\\n\");\n",
    "}\n",
    "\n"
   ]
  },
  {
   "cell_type": "markdown",
   "metadata": {},
   "source": [
    ""
   ]
  },
  {
   "cell_type": "code",
   "execution_count": null,
   "metadata": {},
   "outputs": [],
   "source": [
    "\n",
    "! name:       unroll.4\n",
    "! type:       F-free\n",
    "! version:    omp_5.1\n",
    "subroutine unroll_partial_remainder(n, A)\n",
    "   implicit none\n",
    "   integer :: n, i\n",
    "   integer :: A(*)\n",
    "\n",
    "    !$omp parallel do\n",
    "    !$omp unroll partial(4)\n",
    "    do i = 1, n\n",
    "       A(i) = i\n",
    "    end do\n",
    "\n",
    "end subroutine\n",
    "\n",
    "subroutine unroll_partial_remainder_option1(n, A)\n",
    "   implicit none\n",
    "   integer :: n, i_iv\n",
    "   integer :: A(*)\n",
    "\n",
    "   !$omp parallel do\n",
    "   do i_iv = 0,(n+3)/4 -1\n",
    "                               A(i_iv * 4 + 1) = i_iv * 4 + 1\n",
    "        if (i_iv * 4 + 2 <= n) A(i_iv * 4 + 2) = i_iv * 4 + 2\n",
    "        if (i_iv * 4 + 3 <= n) A(i_iv * 4 + 3) = i_iv * 4 + 3\n",
    "        if (i_iv * 4 + 4 <= n) A(i_iv * 4 + 4) = i_iv * 4 + 4\n",
    "   end do\n",
    "\n",
    "end subroutine\n",
    "\n",
    "subroutine unroll_partial_remainder_option2(n, A)\n",
    "   implicit none\n",
    "   integer :: n, i_iv, i_rem\n",
    "   integer :: A(*)\n",
    "\n",
    "    !$omp parallel do\n",
    "    do i_iv = 0, (n+3)/4 -1\n",
    "        if (i_iv < n/4) then\n",
    "            A(i_iv * 4 + 1) = i_iv * 4 + 1\n",
    "            A(i_iv * 4 + 2) = i_iv * 4 + 2\n",
    "            A(i_iv * 4 + 3) = i_iv * 4 + 3\n",
    "            A(i_iv * 4 + 4) = i_iv * 4 + 4\n",
    "        else\n",
    "           !! remainder loop\n",
    "           do i_rem = i_iv*4 +1, n\n",
    "              A(i_rem) = i_rem\n",
    "           end do\n",
    "        end if\n",
    "    end do\n",
    "\n",
    "end subroutine\n",
    "\n",
    "subroutine unroll_partial_remainder_option3(n, A)\n",
    "   implicit none\n",
    "   integer :: n, i_iv, i_rem\n",
    "   integer :: A(*)\n",
    "\n",
    "    !$omp parallel do\n",
    "    do i_iv = 0, (n/4) -1\n",
    "\n",
    "       A(i_iv * 4 + 1) = i_iv * 4 + 1\n",
    "       A(i_iv * 4 + 2) = i_iv * 4 + 2\n",
    "       A(i_iv * 4 + 3) = i_iv * 4 + 3\n",
    "       A(i_iv * 4 + 4) = i_iv * 4 + 4\n",
    "    end do\n",
    "\n",
    "    !! remainder loop\n",
    "    !$omp parallel do\n",
    "    do i_rem = (n/4)*4 +1, n\n",
    "       A(i_rem) = i_rem\n",
    "    end do\n",
    "\n",
    "end subroutine\n",
    "\n",
    "program main\n",
    "implicit none\n",
    "integer, parameter :: NT=12\n",
    "\n",
    "integer :: i\n",
    "logical :: error=.false.\n",
    "integer   :: A(NT), C(NT)=[ (i, i=1,NT) ]\n",
    "\n",
    "    A(1:NT)=0\n",
    "    call unroll_partial_remainder(NT, A)\n",
    "    if( .not. all(A(1:NT) == C(1:NT)) ) error = .true.\n",
    "\n",
    "    A(1:NT)=0\n",
    "    call unroll_partial_remainder_option1(NT, A)\n",
    "    if( .not. all(A(1:NT) == C(1:NT)) ) error = .true.\n",
    "\n",
    "    A(1:NT)=0\n",
    "    call unroll_partial_remainder_option2(NT, A)\n",
    "    if( .not. all(A(1:NT) == C(1:NT)) ) error = .true.\n",
    "\n",
    "    A(1:NT)=0\n",
    "    call unroll_partial_remainder_option3(NT, A)\n",
    "    if( .not. all(A(1:NT) == C(1:NT)) ) error = .true.\n",
    "\n",
    "    if(.not. error) print*, \"OUT: Passed.\"\n",
    "    if(      error) print*, \"OUT: Failed\"\n",
    "end program\n",
    "\n"
   ]
  },
  {
   "cell_type": "markdown",
   "metadata": {},
   "source": [
    "../../loop_transformations/unroll.tex"
   ]
  },
  {
   "cell_type": "markdown",
   "metadata": {},
   "source": [
    ""
   ]
  },
  {
   "cell_type": "markdown",
   "metadata": {},
   "source": [
    "## Incomplete Tiles"
   ]
  },
  {
   "cell_type": "markdown",
   "metadata": {},
   "source": [
    ""
   ]
  },
  {
   "cell_type": "markdown",
   "metadata": {},
   "source": [
    "Optimal performance for tiled loops is achieved when the loop iteration count is a multiple of the tile size. When this condition does not exist, the implementation is free to execute the partial loops in a manner that optimizes performance, while preserving the specified order of iterations in the complete-tile loops."
   ]
  },
  {
   "cell_type": "markdown",
   "metadata": {},
   "source": [
    "Figure \ref{fig:2d_tiling} shows an example of a 2-by-2 tiling for a 5-by-5 iteration space. There are nine resulting tiles. Four are **complete** 2-by-2 tiles, and the remaining five tiles are  _partial_  tiles."
   ]
  },
  {
   "cell_type": "markdown",
   "metadata": {},
   "source": [
    "[H] [b]{.5\textwidth} \includegraphics[width=0.8\textwidth]{figs/tile-2d_tiling} \centering \caption{2-dimensional tiling with partial tiles} [b]{.5\textwidth} \includegraphics[width=0.85\textwidth]{figs/tile-Example_tile2} \vspace*{2mm} \centering \caption{Partial tiles of Example **partial_tile.1**}  \caption{Tiling illustrations}"
   ]
  },
  {
   "cell_type": "markdown",
   "metadata": {},
   "source": [
    "In the following example, function  _func1_  uses the `tile` construct with a `sizes(4,16)` tiling clause.  Because the second tile dimension of 16 does not evenly divide into the iteration count of the j-loop, the iterations corresponding to the remainder for the j-loop correspond to partial tiles as shown in Figure \ref{fig:Example_tile2}. Each remaining function illustrates a code implementation that a compiler may generate to implement the `tile` construct in  _func1_ ."
   ]
  },
  {
   "cell_type": "markdown",
   "metadata": {},
   "source": [
    "The order of tile execution relative to other tiles can be changed, but execution order of  iterations within the same tile must be preserved. Implementations must ensure that dependencies that are valid with any tile size need to be preserved (including tile size of 1 and tiles as large as the iteration space)."
   ]
  },
  {
   "cell_type": "markdown",
   "metadata": {},
   "source": [
    "Functions  _func2_  through  _func6_  are valid implementations of  _func1_ . In \splc{func2} the unrolling is illustrated as a pair of nested loops with a simple adjustment in the size of the final iteration block in the \splc{j2} iteration space for the partial tile."
   ]
  },
  {
   "cell_type": "markdown",
   "metadata": {},
   "source": [
    "Performance of the implementation depends on the hardware architecture, the instruction set and compiler optimization goals. Functions  _func3_ ,  _func4_ , and   _func5_  have the advantage that the innermost loop for the complete tile is a constant size and can be replaced with SIMD instructions. If the target platform has masked SIMD instructions with no overhead, then avoiding the construction of a remainder loop, as in  _func5_ , might be the best option. Another option is to use a remainder loop without tiling, as shown in  _func6_ , to reduce control-flow overhead."
   ]
  },
  {
   "cell_type": "markdown",
   "metadata": {},
   "source": [
    ""
   ]
  },
  {
   "cell_type": "code",
   "execution_count": null,
   "metadata": {},
   "outputs": [],
   "source": [
    "//%compiler: clang\n",
 "//%cflags: -fopenmp\n",
 "\n",
    "/*\n",
    "* name:       partial_tile.1\n",
    "* type:       C\n",
    "* version:    omp_5.1\n",
    "*/\n",
    "int min(int a, int b){ return (a < b)? a : b; }\n",
    "\n",
    "void func1(double A[100][100])\n",
    "{\n",
    "   #pragma omp tile sizes(4,16)\n",
    "   for (int i = 0; i < 100; ++i)\n",
    "       for (int j = 0; j < 100; ++j)\n",
    "          A[i][j] = A[i][j] + 1;\n",
    "}\n",
    "\n",
    "void func2(double A[100][100])\n",
    "{\n",
    "   for (int i1 = 0; i1 < 100; i1+=4)\n",
    "       for (int j1 = 0; j1 < 100; j1+=16)\n",
    "           for (int i2 = i1; i2 < i1+4; ++i2)\n",
    "               for (int j2 = j1; j2 < min(j1+16,100); ++j2)\n",
    "                  A[i2][j2] = A[i2][j2] + 1;\n",
    "}\n",
    "\n",
    "void func3(double A[100][100])\n",
    "{\n",
    "   // complete tiles\n",
    "   for (int i1 = 0; i1 < 100; i1+=4)\n",
    "       for (int j1 = 0; j1 < 96; j1+=16)\n",
    "           for (int i2 = i1; i2 < i1+4; ++i2)\n",
    "               for (int j2 = j1; j2 < j1+16; ++j2)\n",
    "                  A[i2][j2] = A[i2][j2] + 1;\n",
    "   // partial tiles / remainder\n",
    "   for (int i1 = 0; i1 < 100; i1+=4)\n",
    "       for (int i2 = i1; i2 < i1+4; ++i2)\n",
    "           for (int j = 96; j < 100; j+=1)\n",
    "                  A[i2][j] = A[i2][j] + 1;\n",
    "}\n",
    "\n",
    "void func4(double A[100][100])\n",
    "{\n",
    "   for (int i1 = 0; i1 < 100; i1+=4) {\n",
    "       // complete tiles\n",
    "       for (int j1 = 0; j1 < 96; j1+=16)\n",
    "           for (int i2 = i1; i2 < i1+4; ++i2)\n",
    "               for (int j2 = j1; j2 < j1+16; ++j2)\n",
    "                  A[i2][j2] = A[i2][j2] + 1;\n",
    "       // partial tiles\n",
    "       for (int i2 = i1; i2 < i1+4; ++i2)\n",
    "           for (int j = 96; j < 100; j+=1)\n",
    "                  A[i2][j] = A[i2][j] + 1;\n",
    "   }\n",
    "}\n",
    "\n",
    "void func5(double A[100][100])\n",
    "{\n",
    "   for (int i1 = 0; i1 < 100; i1+=4)\n",
    "       for (int j1 = 0; j1 < 100; j1+=16)\n",
    "           for (int i2 = i1; i2 < i1+4; ++i2)\n",
    "               for (int j2 = j1; j2 <j1+16; ++j2)\n",
    "                  if (j2 < 100)\n",
    "                      A[i2][j2] = A[i2][j2] + 1;\n",
    "}\n",
    "\n",
    "void func6(double A[100][100])\n",
    "{\n",
    "   // complete tiles\n",
    "   for (int i1 = 0; i1 < 100; i1+=4)\n",
    "       for (int j1 = 0; j1 < 96; j1+=16)\n",
    "           for (int i2 = i1; i2 < i1+4; ++i2)\n",
    "               for (int j2 = j1; j2 < j1+16; ++j2)\n",
    "                  A[i2][j2] = A[i2][j2] + 1;\n",
    "   // partial tiles / remainder (not tiled)\n",
    "   for (int i = 0; i < 100; ++i)\n",
    "       for (int j = 96; j < 100; ++j)\n",
    "                  A[i][j] = A[i][j] + 1;\n",
    "}\n",
    "\n"
   ]
  },
  {
   "cell_type": "markdown",
   "metadata": {},
   "source": [
    ""
   ]
  },
  {
   "cell_type": "code",
   "execution_count": null,
   "metadata": {},
   "outputs": [],
   "source": [
    "\n",
    "! name:       partial_tile.1\n",
    "! type:       F-free\n",
    "! version:    omp_5.1\n",
    "\n",
    "subroutine func1(A)\n",
    "   implicit none\n",
    "   double precision   :: A(100,100)\n",
    "   integer            :: i,j\n",
    "\n",
    "   !$omp tile sizes(4,16)\n",
    "   do i = 1, 100\n",
    "   do j = 1, 100\n",
    "      A(j,i)  = A(j,i) + 1\n",
    "   end do; end do\n",
    "\n",
    "end subroutine\n",
    "\n",
    "\n",
    "subroutine func2(A)\n",
    "   implicit none\n",
    "   double precision   :: A(100,100)\n",
    "   integer            :: i1,i2,j1,j2\n",
    "\n",
    "   do i1 =  1, 100,  4\n",
    "   do j1 =  1, 100, 16\n",
    "   do i2 = i1,  i1 + 3\n",
    "   do j2 = j1, min(j1+15,100)\n",
    "      A(j2,i2) = A(j2,i2) + 1\n",
    "   end do; end do; end do; end do\n",
    "\n",
    "end subroutine\n",
    "\n",
    "\n",
    "subroutine func3(A)\n",
    "   implicit none\n",
    "   double precision   :: A(100,100)\n",
    "   integer            :: i1,i2,j1,j2, j\n",
    "\n",
    "   !! complete tiles\n",
    "   do i1 =  1, 100,  4\n",
    "   do j1 =  1,  96, 16\n",
    "   do i2 = i1,  i1 + 3\n",
    "   do j2 = j1,  j1 +15\n",
    "      A(j2,i2) = A(j2,i2) + 1\n",
    "   end do; end do; end do; end do\n",
    "\n",
    "   !! partial tiles / remainder\n",
    "   do i1 =  1, 100, 4\n",
    "   do i2 = i1,  i1 +3\n",
    "   do  j = 97, 100\n",
    "      A(j,i2) = A(j,i2) + 1\n",
    "   end do; end do; end do\n",
    "\n",
    "end subroutine\n",
    "\n",
    "\n",
    "subroutine func4(A)\n",
    "   implicit none\n",
    "   double precision   :: A(100,100)\n",
    "   integer            :: i1,i2,j1,j2, j\n",
    "\n",
    "   do i1 =  1, 100,  4\n",
    "\n",
    "      !! complete tiles\n",
    "      do j1 =  1,  96, 16\n",
    "      do i2 = i1,  i1 + 3\n",
    "      do j2 = j1,  j1 +15\n",
    "         A(j2,i2) = A(j2,i2) + 1\n",
    "      end do; end do; end do\n",
    "\n",
    "      !! partial tiles\n",
    "      do i2 = i1,  i1 +3\n",
    "      do  j = 97, 100\n",
    "         A(j,i2) = A(j,i2) + 1\n",
    "      end do; end do\n",
    "\n",
    "   end do\n",
    "\n",
    "end subroutine\n",
    "\n",
    "\n",
    "subroutine func5(A)\n",
    "   implicit none\n",
    "   double precision   :: A(100,100)\n",
    "   integer            :: i1,i2,j1,j2\n",
    "\n",
    "   do i1 =  1, 100,  4\n",
    "   do j1 =  1, 100, 16\n",
    "   do i2 = i1,  i1 + 3\n",
    "   do j2 = j1,  j1 +15\n",
    "      if (j2 < 101) A(j2,i2) = A(j2,i2) + 1\n",
    "   end do; end do; end do; end do\n",
    "\n",
    "end subroutine\n",
    "\n",
    "\n",
    "subroutine func6(A)\n",
    "   implicit none\n",
    "   double precision   :: A(100,100)\n",
    "   integer            :: i1,i2,j1,j2, i,j\n",
    "\n",
    "   !! complete tiles\n",
    "   do i1 =  1, 100,  4\n",
    "   do j1 =  1,  96, 16\n",
    "   do i2 = i1,  i1 + 3\n",
    "   do j2 = j1,  j1 +15\n",
    "      A(j2,i2) = A(j2,i2) + 1\n",
    "   end do; end do; end do; end do\n",
    "\n",
    "   !! partial tiles / remainder (not tiled)\n",
    "   do i =  1, 100\n",
    "   do j = 97, 100\n",
    "      A(j,i) = A(j,i) + 1\n",
    "   end do; end do\n",
    "\n",
    "end subroutine\n",
    "\n"
   ]
  },
  {
   "cell_type": "markdown",
   "metadata": {},
   "source": [
    ""
   ]
  },
  {
   "cell_type": "markdown",
   "metadata": {},
   "source": [
    ""
   ]
  },
  {
   "cell_type": "markdown",
   "metadata": {},
   "source": [
    "In the following example, function  _func7_  tiles nested loops with a size of (4,16), resulting in partial tiles that cover the last 4 iterations of the j-loop, as in the previous example.  However, the outer loop is parallelized with a `parallel` worksharing-loop construct."
   ]
  },
  {
   "cell_type": "markdown",
   "metadata": {},
   "source": [
    "Functions  _func8_  and  _func9_  illustrate two implementations of the tiling with `parallel` and worksharing-loop directives.  Function  _func8_  uses a single outer loop, with a  _min_  function to accommodate the partial tiles. Function  _func9_  uses two sets of nested loops, the first iterates over the complete tiles and the second covers iterations from the partial tiles. When fissioning loops that are in a `parallel` worksharing-loop region, each iteration of each workshared loop must be executed on the same thread as in an un-fissioned loop.  The `schedule(static)` clause in  _func7_  forces the implementation to use static scheduling and allows the fission in function  _func8_ . When dynamic scheduling is prescribed, fissioning is not allowed.  When no scheduling is specified, the compiler implementation will select a scheduling  _kind_  and adhere to its restrictions."
   ]
  },
  {
   "cell_type": "markdown",
   "metadata": {},
   "source": [
    ""
   ]
  },
  {
   "cell_type": "code",
   "execution_count": null,
   "metadata": {},
   "outputs": [],
   "source": [
    "//%compiler: clang\n",
 "//%cflags: -fopenmp\n",
 "\n",
    "/*\n",
    "* name: partial_tile.2\n",
    "* type: C\n",
    "* version: omp_5.1\n",
    "*/\n",
    "int min(int a, int b){ return (a < b)? a : b; }\n",
    "\n",
    "void func7(double A[100][100])\n",
    "{\n",
    "   #pragma omp parallel for schedule(static)\n",
    "   #pragma omp tile sizes(4,16)\n",
    "   for (int i = 0; i < 100; ++i)\n",
    "       for (int j = 0; j < 100; ++j)\n",
    "           A[i][j] = A[i][j] + 1;\n",
    "}\n",
    "\n",
    "void func8(double A[100][100])\n",
    "{\n",
    "   #pragma omp parallel for schedule(static)\n",
    "   for (int i1 = 0; i1 < 100; i1+=4)\n",
    "       for (int j1 = 0; j1 < 100; j1+=16)\n",
    "           for (int i2 = i1; i2 < i1+4; ++i2)\n",
    "               for (int j2 = j1; j2 < min(j1+16,100); ++j2)\n",
    "                  A[i2][j2] = A[i2][j2] + 1;\n",
    "}\n",
    "\n",
    "void func9(double A[100][100])\n",
    "{\n",
    "   #pragma omp parallel\n",
    "   {\n",
    "       #pragma omp for schedule(static) nowait\n",
    "       for (int i1 = 0; i1 < 100; i1+=4)\n",
    "           for (int j1 = 0; j1 < 96; j1+=16)\n",
    "               for (int i2 = i1; i2 < i1+4; ++i2)\n",
    "                   for (int j2 = j1; j2 < j1+16; ++j2)\n",
    "                      A[i2][j2] = A[i2][j2] + 1;\n",
    "       #pragma omp for schedule(static)\n",
    "       for (int i1 = 0; i1 < 100; i1+=4)\n",
    "           for (int i2 = i1; i2 < i1+4; ++i2)\n",
    "               for (int j = 96; j < 100; j+=1)\n",
    "                   A[i2][j] = A[i2][j] + 1;\n",
    "    }\n",
    "}\n",
    "\n"
   ]
  },
  {
   "cell_type": "markdown",
   "metadata": {},
   "source": [
    ""
   ]
  },
  {
   "cell_type": "code",
   "execution_count": null,
   "metadata": {},
   "outputs": [],
   "source": [
    "\n",
    "! name:       partial_tile.2\n",
    "! type:       F-free\n",
    "! version:    omp_5.1\n",
    "\n",
    "subroutine func7(A)\n",
    "   implicit none\n",
    "   double precision   :: A(100,100)\n",
    "   integer            :: i,j\n",
    "\n",
    "   !$omp parallel do schedule(static)\n",
    "   !$omp tile sizes(4,16)\n",
    "   do i=1,100\n",
    "   do j = 1, 100\n",
    "      A(j,i)  = A(j,i) + 1\n",
    "   end do; end do\n",
    "\n",
    "end subroutine\n",
    "\n",
    "subroutine func8(A)\n",
    "   implicit none\n",
    "   double precision   :: A(100,100)\n",
    "   integer            :: i1,i2,j1,j2\n",
    "\n",
    "   do i1 =  1, 100,  4\n",
    "   do j1 =  1, 100, 16\n",
    "   do i2 = i1,  i1 + 3\n",
    "   do j2 = j1, min(j1+15,100)\n",
    "      A(j2,i2) = A(j2,i2) + 1\n",
    "   end do; end do; end do; end do\n",
    "\n",
    "end subroutine\n",
    "\n",
    "subroutine func9(A)\n",
    "   implicit none\n",
    "   double precision   :: A(100,100)\n",
    "   integer            :: i1,i2,j1,j2,j\n",
    "\n",
    "   !$omp parallel\n",
    "\n",
    "      !$omp do schedule(static)\n",
    "      do i1 =  1, 100,  4\n",
    "      do j1 =  1,  96, 16\n",
    "      do i2 = i1,  i1 + 3\n",
    "      do j2 = j1,  j1 +15\n",
    "         A(j2,i2) = A(j2,i2) + 1\n",
    "      end do; end do; end do; end do\n",
    "      !$omp end do nowait\n",
    "\n",
    "      !$omp do schedule(static)\n",
    "      do i1 =  1, 100, 4\n",
    "      do i2 = i1,  i1 +3\n",
    "      do  j = 97, 100\n",
    "         A(j,i2) = A(j,i2) + 1\n",
    "      end do; end do; end do;\n",
    "\n",
    "   !$omp end parallel\n",
    "\n",
    "end subroutine\n",
    "\n"
   ]
  },
  {
   "cell_type": "markdown",
   "metadata": {},
   "source": [
    "../../loop_transformations/partial_tile.tex"
   ]
  },
  {
   "cell_type": "markdown",
   "metadata": {},
   "source": [
    ""
   ]
  }
 ],
 "metadata": {
  "kernelspec": {
   "display_name": "Native",
   "language": "native",
   "name": "native"
  },
  "language_info": {
   "file_extension": ".c",
   "mimetype": "text/plain",
   "name": "none"
  }
 },
 "nbformat": 4,
 "nbformat_minor": 2
}