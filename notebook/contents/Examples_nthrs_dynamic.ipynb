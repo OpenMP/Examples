{
 "cells": [
  {
   "cell_type": "markdown",
   "metadata": {},
   "source": [
    ""
   ]
  },
  {
   "cell_type": "markdown",
   "metadata": {},
   "source": [
    "## Interaction Between the `num_threads` Clause and `omp_set_dynamic`"
   ]
  },
  {
   "cell_type": "markdown",
   "metadata": {},
   "source": [
    ""
   ]
  },
  {
   "cell_type": "markdown",
   "metadata": {},
   "source": [
    "The following example demonstrates the `num_threads` clause  and the effect  of the  `omp_set_dynamic` routine  on it."
   ]
  },
  {
   "cell_type": "markdown",
   "metadata": {},
   "source": [
    "The call to the `omp_set_dynamic` routine with argument `0` in  C/C++, or `.FALSE.` in Fortran, disables the dynamic adjustment of the number  of threads in OpenMP implementations that support it. In this case, 10 threads  are provided. Note that in case of an error the OpenMP implementation is free to  abort the program or to supply any number of threads available."
   ]
  },
  {
   "cell_type": "markdown",
   "metadata": {},
   "source": [
    ""
   ]
  },
  {
   "cell_type": "code",
   "execution_count": null,
   "metadata": {},
   "outputs": [],
   "source": [
    "//%compiler: clang\n",
 "//%cflags: -fopenmp\n",
 "\n",
    "/*\n",
    "* name: nthrs_dynamic.1c\n",
    "* type: C\n",
    "*/\n",
    "#include <omp.h>\n",
    "int main()\n",
    "{\n",
    "  omp_set_dynamic(0);\n",
    "  #pragma omp parallel num_threads(10)\n",
    "  {\n",
    "    /* do work here */\n",
    "  }\n",
    "  return 0;\n",
    "}\n",
    "\n"
   ]
  },
  {
   "cell_type": "markdown",
   "metadata": {},
   "source": [
    ""
   ]
  },
  {
   "cell_type": "markdown",
   "metadata": {},
   "source": [
    ""
   ]
  },
  {
   "cell_type": "code",
   "execution_count": null,
   "metadata": {},
   "outputs": [],
   "source": [
    "\n",
    "! name: nthrs_dynamic.1f\n",
    "! type: F-fixed\n",
    "      PROGRAM EXAMPLE\n",
    "        INCLUDE \"omp_lib.h\"      ! or USE OMP_LIB\n",
    "        CALL OMP_SET_DYNAMIC(.FALSE.)\n",
    "!$OMP     PARALLEL NUM_THREADS(10)\n",
    "            ! do work here\n",
    "!$OMP     END PARALLEL\n",
    "      END PROGRAM EXAMPLE\n",
    "\n"
   ]
  },
  {
   "cell_type": "markdown",
   "metadata": {},
   "source": [
    ""
   ]
  },
  {
   "cell_type": "markdown",
   "metadata": {},
   "source": [
    "The call to the `omp_set_dynamic` routine with a non-zero argument in  C/C++, or `.TRUE.` in Fortran, allows the OpenMP implementation to choose  any number of threads between 1 and 10."
   ]
  },
  {
   "cell_type": "markdown",
   "metadata": {},
   "source": [
    ""
   ]
  },
  {
   "cell_type": "code",
   "execution_count": null,
   "metadata": {},
   "outputs": [],
   "source": [
    "//%compiler: clang\n",
 "//%cflags: -fopenmp\n",
 "\n",
    "/*\n",
    "* name: nthrs_dynamic.2c\n",
    "* type: C\n",
    "*/\n",
    "#include <omp.h>\n",
    "int main()\n",
    "{\n",
    "  omp_set_dynamic(1);\n",
    "  #pragma omp parallel num_threads(10)\n",
    "  {\n",
    "    /* do work here */\n",
    "  }\n",
    "  return 0;\n",
    "}\n",
    "\n"
   ]
  },
  {
   "cell_type": "markdown",
   "metadata": {},
   "source": [
    ""
   ]
  },
  {
   "cell_type": "markdown",
   "metadata": {},
   "source": [
    ""
   ]
  },
  {
   "cell_type": "code",
   "execution_count": null,
   "metadata": {},
   "outputs": [],
   "source": [
    "\n",
    "! name: nthrs_dynamic.2f\n",
    "! type: F-fixed\n",
    "      PROGRAM EXAMPLE\n",
    "        INCLUDE \"omp_lib.h\"      ! or USE OMP_LIB\n",
    "        CALL OMP_SET_DYNAMIC(.TRUE.)\n",
    "!$OMP     PARALLEL NUM_THREADS(10)\n",
    "            ! do work here\n",
    "!$OMP     END PARALLEL\n",
    "      END PROGRAM EXAMPLE\n",
    "\n"
   ]
  },
  {
   "cell_type": "markdown",
   "metadata": {},
   "source": [
    ""
   ]
  },
  {
   "cell_type": "markdown",
   "metadata": {},
   "source": [
    "It is good practice to set the  _dyn-var_  ICV explicitly by calling the `omp_set_dynamic`  routine, as its default setting is implementation defined."
   ]
  },
  {
   "cell_type": "markdown",
   "metadata": {},
   "source": [
    ""
   ]
  },
  {
   "cell_type": "markdown",
   "metadata": {},
   "source": [
    ""
   ]
  }
 ],
 "metadata": {
  "kernelspec": {
   "display_name": "Native",
   "language": "native",
   "name": "native"
  },
  "language_info": {
   "file_extension": ".c",
   "mimetype": "text/plain",
   "name": "none"
  }
 },
 "nbformat": 4,
 "nbformat_minor": 2
}