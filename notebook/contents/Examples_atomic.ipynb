{
 "cells": [
  {
   "cell_type": "markdown",
   "metadata": {},
   "source": [
    ""
   ]
  },
  {
   "cell_type": "markdown",
   "metadata": {},
   "source": [
    "## The `atomic` Construct"
   ]
  },
  {
   "cell_type": "markdown",
   "metadata": {},
   "source": [
    ""
   ]
  },
  {
   "cell_type": "markdown",
   "metadata": {},
   "source": [
    "The following example avoids race conditions (simultaneous updates of an element  of  _x_  by multiple threads) by using the `atomic` construct ."
   ]
  },
  {
   "cell_type": "markdown",
   "metadata": {},
   "source": [
    "The advantage of using the `atomic` construct in this example is that it  allows updates of two different elements of  _x_  to occur in parallel. If  a `critical` construct were used instead, then all updates to elements of   _x_  would be executed serially (though not in any guaranteed order)."
   ]
  },
  {
   "cell_type": "markdown",
   "metadata": {},
   "source": [
    "Note that the `atomic` directive applies only to the statement immediately  following it. As a result, elements of  _y_  are not updated atomically in  this example."
   ]
  },
  {
   "cell_type": "markdown",
   "metadata": {},
   "source": [
    ""
   ]
  },
  {
   "cell_type": "code",
   "execution_count": null,
   "metadata": {},
   "outputs": [],
   "source": [
    "//%compiler: clang\n",
 "//%cflags: -fopenmp\n",
 "\n",
    "/*\n",
    "* name: atomic.1c\n",
    "* type: C\n",
    "* version: omp_3.1\n",
    "*/\n",
    "float work1(int i)\n",
    "{\n",
    "  return 1.0 * i;\n",
    "}\n",
    "\n",
    "float work2(int i)\n",
    "{\n",
    "   return 2.0 * i;\n",
    "}\n",
    "\n",
    "void atomic_example(float *x, float *y, int *index, int n)\n",
    "{\n",
    "  int i;\n",
    "\n",
    "  #pragma omp parallel for shared(x, y, index, n)\n",
    "    for (i=0; i<n; i++) {\n",
    "      #pragma omp atomic update\n",
    "      x[index[i]] += work1(i);\n",
    "      y[i] += work2(i);\n",
    "     }\n",
    "}\n",
    "\n",
    "int main()\n",
    "{\n",
    "  float x[1000];\n",
    "  float y[10000];\n",
    "  int index[10000];\n",
    "  int i;\n",
    "\n",
    "  for (i = 0; i < 10000; i++) {\n",
    "    index[i] = i % 1000;\n",
    "    y[i]=0.0;\n",
    "  }\n",
    "  for (i = 0; i < 1000; i++)\n",
    "    x[i] = 0.0;\n",
    "  atomic_example(x, y, index, 10000);\n",
    "  return 0;\n",
    "}\n",
    "\n"
   ]
  },
  {
   "cell_type": "markdown",
   "metadata": {},
   "source": [
    ""
   ]
  },
  {
   "cell_type": "markdown",
   "metadata": {},
   "source": [
    ""
   ]
  },
  {
   "cell_type": "code",
   "execution_count": null,
   "metadata": {},
   "outputs": [],
   "source": [
    "\n",
    "! name: atomic.1f\n",
    "! type: F-fixed\n",
    "! version: omp_3.1\n",
    "      REAL FUNCTION WORK1(I)\n",
    "        INTEGER I\n",
    "        WORK1 = 1.0 * I\n",
    "        RETURN\n",
    "      END FUNCTION WORK1\n",
    "\n",
    "      REAL FUNCTION WORK2(I)\n",
    "        INTEGER I\n",
    "        WORK2 = 2.0 * I\n",
    "        RETURN\n",
    "      END FUNCTION WORK2\n",
    "\n",
    "      SUBROUTINE SUB(X, Y, INDEX, N)\n",
    "        REAL X(*), Y(*)\n",
    "        INTEGER INDEX(*), N\n",
    "\n",
    "        INTEGER I\n",
    "\n",
    "!$OMP   PARALLEL DO SHARED(X, Y, INDEX, N)\n",
    "          DO I=1,N\n",
    "!$OMP       ATOMIC UPDATE\n",
    "              X(INDEX(I)) = X(INDEX(I)) + WORK1(I)\n",
    "            Y(I) = Y(I) + WORK2(I)\n",
    "          ENDDO\n",
    "\n",
    "      END SUBROUTINE SUB\n",
    "\n",
    "      PROGRAM ATOMIC_EXAMPLE\n",
    "        REAL X(1000), Y(10000)\n",
    "        INTEGER INDEX(10000)\n",
    "        INTEGER I\n",
    "\n",
    "        DO I=1,10000\n",
    "          INDEX(I) = MOD(I, 1000) + 1\n",
    "          Y(I) = 0.0\n",
    "        ENDDO\n",
    "\n",
    "        DO I = 1,1000\n",
    "          X(I) = 0.0\n",
    "        ENDDO\n",
    "\n",
    "        CALL SUB(X, Y, INDEX, 10000)\n",
    "\n",
    "      END PROGRAM ATOMIC_EXAMPLE\n",
    "\n"
   ]
  },
  {
   "cell_type": "markdown",
   "metadata": {},
   "source": [
    ""
   ]
  },
  {
   "cell_type": "markdown",
   "metadata": {},
   "source": [
    "The following example illustrates the `read` and `write`  clauses  for the `atomic` directive. These clauses ensure that the given variable  is read or written, respectively, as a whole. Otherwise, some other thread might  read or write part of the variable while the current thread was reading or writing  another part of the variable. Note that most hardware provides atomic reads and  writes for some set of properly aligned variables of specific sizes, but not necessarily  for all the variable types supported by the OpenMP API."
   ]
  },
  {
   "cell_type": "markdown",
   "metadata": {},
   "source": [
    ""
   ]
  },
  {
   "cell_type": "code",
   "execution_count": null,
   "metadata": {},
   "outputs": [],
   "source": [
    "//%compiler: clang\n",
 "//%cflags: -fopenmp\n",
 "\n",
    "/*\n",
    "* name: atomic.2c\n",
    "* type: C\n",
    "* version: omp_3.1\n",
    "*/\n",
    "int atomic_read(const int *p)\n",
    "{\n",
    "    int value;\n",
    "/* Guarantee that the entire value of *p is read atomically. No part of\n",
    " * *p can change during the read operation.\n",
    " */\n",
    "#pragma omp atomic read\n",
    "     value = *p;\n",
    "     return value;\n",
    "}\n",
    "\n",
    "void atomic_write(int *p, int value)\n",
    "{\n",
    "/* Guarantee that value is stored atomically into *p. No part of *p can\n",
    "change\n",
    " * until after the entire write operation is completed.\n",
    " */\n",
    "#pragma omp atomic write\n",
    "    *p = value;\n",
    "}\n",
    "\n"
   ]
  },
  {
   "cell_type": "markdown",
   "metadata": {},
   "source": [
    ""
   ]
  },
  {
   "cell_type": "markdown",
   "metadata": {},
   "source": [
    ""
   ]
  },
  {
   "cell_type": "code",
   "execution_count": null,
   "metadata": {},
   "outputs": [],
   "source": [
    "\n",
    "! name: atomic.2f\n",
    "! type: F-fixed\n",
    "! version: omp_3.1\n",
    "       function atomic_read(p)\n",
    "       integer :: atomic_read\n",
    "       integer, intent(in) :: p\n",
    "! Guarantee that the entire value of p is read atomically. No part of\n",
    "! p can change during the read operation.\n",
    "\n",
    "!$omp atomic read\n",
    "       atomic_read = p\n",
    "       return\n",
    "       end function atomic_read\n",
    "\n",
    "       subroutine atomic_write(p, value)\n",
    "       integer, intent(out) :: p\n",
    "       integer, intent(in) :: value\n",
    "! Guarantee that value is stored atomically into p. No part of p can change\n",
    "! until after the entire write operation is completed.\n",
    "!$omp atomic write\n",
    "       p = value\n",
    "       end subroutine atomic_write\n",
    "\n"
   ]
  },
  {
   "cell_type": "markdown",
   "metadata": {},
   "source": [
    ""
   ]
  },
  {
   "cell_type": "markdown",
   "metadata": {},
   "source": [
    "The following example illustrates the `capture` clause for the `atomic`  directive. In this case the value of a variable is captured, and then the variable  is incremented. These operations occur atomically. This particular example could  be implemented using the fetch-and-add instruction available on many kinds of hardware.  The example also shows a way to implement a spin lock using the `capture`   and `read` clauses."
   ]
  },
  {
   "cell_type": "markdown",
   "metadata": {},
   "source": [
    ""
   ]
  },
  {
   "cell_type": "code",
   "execution_count": null,
   "metadata": {},
   "outputs": [],
   "source": [
    "//%compiler: clang\n",
 "//%cflags: -fopenmp\n",
 "\n",
    "/*\n",
    "* name: atomic.3c\n",
    "* type: C\n",
    "* version: omp_3.1\n",
    "*/\n",
    "int fetch_and_add(int *p)\n",
    "{\n",
    "/* Atomically read the value of *p and then increment it. The previous value\n",
    "is\n",
    " * returned. This can be used to implement a simple lock as shown below.\n",
    " */\n",
    "    int old;\n",
    "#pragma omp atomic capture\n",
    "    { old = *p; (*p)++; }\n",
    "    return old;\n",
    "}\n",
    "\n",
    "/*\n",
    " * Use fetch_and_add to implement a lock\n",
    " */\n",
    "struct locktype {\n",
    "    int ticketnumber;\n",
    "    int turn;\n",
    "};\n",
    "void do_locked_work(struct locktype *lock)\n",
    "{\n",
    "    int atomic_read(const int *p);\n",
    "    void work();\n",
    "\n",
    "    // Obtain the lock\n",
    "    int myturn = fetch_and_add(&lock->ticketnumber);\n",
    "    while (atomic_read(&lock->turn) != myturn)\n",
    "       ;\n",
    "    // Do some work. The flush is needed to ensure visibility of\n",
    "    // variables not involved in atomic directives\n",
    "\n",
    "#pragma omp flush\n",
    "    work();\n",
    "#pragma omp flush\n",
    "    // Release the lock\n",
    "    fetch_and_add(&lock->turn);\n",
    "}\n",
    "\n"
   ]
  },
  {
   "cell_type": "markdown",
   "metadata": {},
   "source": [
    ""
   ]
  },
  {
   "cell_type": "markdown",
   "metadata": {},
   "source": [
    ""
   ]
  },
  {
   "cell_type": "code",
   "execution_count": null,
   "metadata": {},
   "outputs": [],
   "source": [
    "\n",
    "! name: atomic.3f\n",
    "! type: F-fixed\n",
    "! version: omp_3.1\n",
    "       function fetch_and_add(p)\n",
    "       integer:: fetch_and_add\n",
    "       integer, intent(inout) :: p\n",
    "\n",
    "! Atomically read the value of p and then increment it. The previous value is\n",
    "! returned. This can be used to implement a simple lock as shown below.\n",
    "!$omp atomic capture\n",
    "       fetch_and_add = p\n",
    "       p = p + 1\n",
    "!$omp end atomic\n",
    "       end function fetch_and_add\n",
    "       module m\n",
    "       interface\n",
    "         function fetch_and_add(p)\n",
    "           integer :: fetch_and_add\n",
    "           integer, intent(inout) :: p\n",
    "         end function\n",
    "         function atomic_read(p)\n",
    "           integer :: atomic_read\n",
    "           integer, intent(in) :: p\n",
    "         end function\n",
    "       end interface\n",
    "       type locktype\n",
    "          integer ticketnumber\n",
    "          integer turn\n",
    "       end type\n",
    "       contains\n",
    "       subroutine do_locked_work(lock)\n",
    "       type(locktype), intent(inout) :: lock\n",
    "       integer myturn\n",
    "       integer junk\n",
    "! obtain the lock\n",
    "        myturn = fetch_and_add(lock%ticketnumber)\n",
    "        do while (atomic_read(lock%turn) .ne. myturn)\n",
    "          continue\n",
    "        enddo\n",
    "! Do some work. The flush is needed to ensure visibility of variables\n",
    "! not involved in atomic directives\n",
    "!$omp flush\n",
    "       call work\n",
    "!$omp flush\n",
    "! Release the lock\n",
    "       junk = fetch_and_add(lock%turn)\n",
    "       end subroutine\n",
    "       end module\n",
    "\n"
   ]
  },
  {
   "cell_type": "markdown",
   "metadata": {},
   "source": [
    ""
   ]
  },
  {
   "cell_type": "markdown",
   "metadata": {},
   "source": [
    ""
   ]
  },
  {
   "cell_type": "markdown",
   "metadata": {},
   "source": [
    ""
   ]
  }
 ],
 "metadata": {
  "kernelspec": {
   "display_name": "Native",
   "language": "native",
   "name": "native"
  },
  "language_info": {
   "file_extension": ".c",
   "mimetype": "text/plain",
   "name": "none"
  }
 },
 "nbformat": 4,
 "nbformat_minor": 2
}