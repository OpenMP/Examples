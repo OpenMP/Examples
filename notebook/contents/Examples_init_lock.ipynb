{
 "cells": [
  {
   "cell_type": "markdown",
   "metadata": {},
   "source": [
    ""
   ]
  },
  {
   "cell_type": "markdown",
   "metadata": {},
   "source": [
    "### The `omp_init_lock` Routine"
   ]
  },
  {
   "cell_type": "markdown",
   "metadata": {},
   "source": [
    ""
   ]
  },
  {
   "cell_type": "markdown",
   "metadata": {},
   "source": [
    "The following example demonstrates how to initialize an array of locks in a `parallel`  region by using `omp_init_lock`."
   ]
  },
  {
   "cell_type": "markdown",
   "metadata": {},
   "source": [
    ""
   ]
  },
  {
   "cell_type": "code",
   "execution_count": null,
   "metadata": {},
   "outputs": [],
   "source": [
    "//%compiler: clang\n",
 "//%cflags: -fopenmp\n",
 "\n",
    "/*\n",
    "* name: init_lock.1c\n",
    "* type: C++\n",
    "*/\n",
    "#include <omp.h>\n",
    "\n",
    "omp_lock_t *new_locks() {\n",
    "  int i;\n",
    "  omp_lock_t *lock = new omp_lock_t[1000];\n",
    "\n",
    "  #pragma omp parallel for private(i)\n",
    "    for (i=0; i<1000; i++)\n",
    "    { omp_init_lock(&lock[i]); }\n",
    "\n",
    "    return lock;\n",
    "}\n",
    "\n"
   ]
  },
  {
   "cell_type": "markdown",
   "metadata": {},
   "source": [
    ""
   ]
  },
  {
   "cell_type": "markdown",
   "metadata": {},
   "source": [
    ""
   ]
  },
  {
   "cell_type": "code",
   "execution_count": null,
   "metadata": {},
   "outputs": [],
   "source": [
    "\n",
    "! name: init_lock.1f\n",
    "! type: F-fixed\n",
    "      FUNCTION NEW_LOCKS()\n",
    "        USE OMP_LIB        ! or INCLUDE \"omp_lib.h\"\n",
    "        INTEGER(OMP_LOCK_KIND), DIMENSION(1000) :: NEW_LOCKS\n",
    "        INTEGER I\n",
    "\n",
    "!$OMP   PARALLEL DO PRIVATE(I)\n",
    "          DO I=1,1000\n",
    "            CALL OMP_INIT_LOCK(NEW_LOCKS(I))\n",
    "          END DO\n",
    "!$OMP   END PARALLEL DO\n",
    "\n",
    "      END FUNCTION NEW_LOCKS\n",
    "\n"
   ]
  },
  {
   "cell_type": "markdown",
   "metadata": {},
   "source": [
    ""
   ]
  },
  {
   "cell_type": "markdown",
   "metadata": {},
   "source": [
    ""
   ]
  }
 ],
 "metadata": {
  "kernelspec": {
   "display_name": "Native",
   "language": "native",
   "name": "native"
  },
  "language_info": {
   "file_extension": ".c",
   "mimetype": "text/plain",
   "name": "none"
  }
 },
 "nbformat": 4,
 "nbformat_minor": 2
}