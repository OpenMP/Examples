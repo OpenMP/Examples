{
 "cells": [
  {
   "cell_type": "markdown",
   "metadata": {},
   "source": [
    ""
   ]
  },
  {
   "cell_type": "markdown",
   "metadata": {},
   "source": [
    "## Task Priority"
   ]
  },
  {
   "cell_type": "markdown",
   "metadata": {},
   "source": [
    ""
   ]
  },
  {
   "cell_type": "markdown",
   "metadata": {},
   "source": [
    ""
   ]
  },
  {
   "cell_type": "markdown",
   "metadata": {},
   "source": [
    ""
   ]
  },
  {
   "cell_type": "markdown",
   "metadata": {},
   "source": [
    ""
   ]
  },
  {
   "cell_type": "markdown",
   "metadata": {},
   "source": [
    "In this example we compute arrays in a matrix through a  _compute_array_  routine. Each task has a priority value equal to the value of the loop variable  _i_  at the moment of its creation. A higher priority on a task means that a task is a candidate to run sooner."
   ]
  },
  {
   "cell_type": "markdown",
   "metadata": {},
   "source": [
    "The creation of tasks occurs in ascending order (according to the iteration space of the loop) but a hint, by means of the `priority` clause, is provided to reverse the execution order."
   ]
  },
  {
   "cell_type": "markdown",
   "metadata": {},
   "source": [
    ""
   ]
  },
  {
   "cell_type": "code",
   "execution_count": null,
   "metadata": {},
   "outputs": [],
   "source": [
    "//%compiler: clang\n",
 "//%cflags: -fopenmp\n",
 "\n",
    "/*\n",
    "* name:       task_priority.1c\n",
    "* type:       C\n",
    "* version:    omp_4.5\n",
    "*/\n",
    "void compute_array (float *node, int M);\n",
    "\n",
    "void compute_matrix (float *array, int N, int M)\n",
    "{\n",
    "   int i;\n",
    "   #pragma omp parallel private(i)\n",
    "   #pragma omp single\n",
    "   {\n",
    "      for (i=0;i<N; i++) {\n",
    "         #pragma omp task priority(i)\n",
    "         compute_array(&array[i*M], M);\n",
    "      }\n",
    "   }\n",
    "}\n",
    "\n"
   ]
  },
  {
   "cell_type": "markdown",
   "metadata": {},
   "source": [
    ""
   ]
  },
  {
   "cell_type": "markdown",
   "metadata": {},
   "source": [
    ""
   ]
  },
  {
   "cell_type": "code",
   "execution_count": null,
   "metadata": {},
   "outputs": [],
   "source": [
    "\n",
    "! name: task_priority.1f\n",
    "! type: F-free\n",
    "! version:    omp_4.5\n",
    "subroutine compute_matrix(matrix, M, N)\n",
    "   implicit none\n",
    "   integer :: M, N\n",
    "   real :: matrix(M, N)\n",
    "   integer :: i\n",
    "   interface\n",
    "      subroutine compute_array(node, M)\n",
    "      implicit none\n",
    "      integer :: M\n",
    "      real :: node(M)\n",
    "      end subroutine\n",
    "   end interface\n",
    "   !$omp parallel private(i)\n",
    "   !$omp single\n",
    "   do i=1,N\n",
    "      !$omp task priority(i)\n",
    "      call compute_array(matrix(:, i), M)\n",
    "      !$omp end task\n",
    "   enddo\n",
    "   !$omp end single\n",
    "   !$omp end parallel\n",
    "end subroutine compute_matrix\n",
    "\n"
   ]
  },
  {
   "cell_type": "markdown",
   "metadata": {},
   "source": [
    ""
   ]
  },
  {
   "cell_type": "markdown",
   "metadata": {},
   "source": [
    ""
   ]
  }
 ],
 "metadata": {
  "kernelspec": {
   "display_name": "Native",
   "language": "native",
   "name": "native"
  },
  "language_info": {
   "file_extension": ".c",
   "mimetype": "text/plain",
   "name": "none"
  }
 },
 "nbformat": 4,
 "nbformat_minor": 2
}