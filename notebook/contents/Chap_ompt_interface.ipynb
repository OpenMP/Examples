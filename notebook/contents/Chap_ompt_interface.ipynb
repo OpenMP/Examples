{
 "cells": [
  {
   "cell_type": "markdown",
   "metadata": {},
   "source": [
    ""
   ]
  },
  {
   "cell_type": "markdown",
   "metadata": {},
   "source": [
    "# OMPT Interface"
   ]
  },
  {
   "cell_type": "markdown",
   "metadata": {},
   "source": [
    "{ompt_interface}  OMPT defines mechanisms and an API for interfacing with tools in the OpenMP program."
   ]
  },
  {
   "cell_type": "markdown",
   "metadata": {},
   "source": [
    "The OMPT API provides the following functionality:    \addtolength{"
   ]
  },
  {
   "cell_type": "markdown",
   "metadata": {},
   "source": [
    "* indent}{1cm}"
   ]
  },
  {
   "cell_type": "markdown",
   "metadata": {},
   "source": [
    "*   examines the state associated with an OpenMP thread"
   ]
  },
  {
   "cell_type": "markdown",
   "metadata": {},
   "source": [
    "*   interprets the call stack of an OpenMP thread"
   ]
  },
  {
   "cell_type": "markdown",
   "metadata": {},
   "source": [
    "*   receives notification about OpenMP events"
   ]
  },
  {
   "cell_type": "markdown",
   "metadata": {},
   "source": [
    "*   traces activity on OpenMP target devices"
   ]
  },
  {
   "cell_type": "markdown",
   "metadata": {},
   "source": [
    "*   assesses implementation-dependent details"
   ]
  },
  {
   "cell_type": "markdown",
   "metadata": {},
   "source": [
    "*   controls a tool from an OpenMP application"
   ]
  },
  {
   "cell_type": "markdown",
   "metadata": {},
   "source": [
    "The following sections will illustrate basic mechanisms and operations of the OMPT API."
   ]
  },
  {
   "cell_type": "markdown",
   "metadata": {},
   "source": [
    ""
   ]
  },
  {
   "cell_type": "markdown",
   "metadata": {},
   "source": [
    ""
   ]
  },
  {
   "cell_type": "markdown",
   "metadata": {},
   "source": [
    "../../ompt_interface/ompt_start.tex"
   ]
  },
  {
   "cell_type": "markdown",
   "metadata": {},
   "source": [
    ""
   ]
  }
 ],
 "metadata": {
  "kernelspec": {
   "display_name": "Native",
   "language": "native",
   "name": "native"
  },
  "language_info": {
   "file_extension": ".c",
   "mimetype": "text/plain",
   "name": "none"
  }
 },
 "nbformat": 4,
 "nbformat_minor": 2
}