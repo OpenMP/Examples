{
 "cells": [
  {
   "cell_type": "markdown",
   "metadata": {},
   "source": [
    ""
   ]
  },
  {
   "cell_type": "markdown",
   "metadata": {},
   "source": [
    "# OMPT Interface"
   ]
  },
  {
   "cell_type": "markdown",
   "metadata": {},
   "source": [
    "{ompt_interface}  OMPT defines mechanisms and an API for interfacing with tools in the OpenMP program."
   ]
  },
  {
   "cell_type": "markdown",
   "metadata": {},
   "source": [
    "The OMPT API provides the following functionality:    \addtolength{"
   ]
  },
  {
   "cell_type": "markdown",
   "metadata": {},
   "source": [
    "* indent}{1cm}"
   ]
  },
  {
   "cell_type": "markdown",
   "metadata": {},
   "source": [
    "*   examines the state associated with an OpenMP thread"
   ]
  },
  {
   "cell_type": "markdown",
   "metadata": {},
   "source": [
    "*   interprets the call stack of an OpenMP thread"
   ]
  },
  {
   "cell_type": "markdown",
   "metadata": {},
   "source": [
    "*   receives notification about OpenMP events"
   ]
  },
  {
   "cell_type": "markdown",
   "metadata": {},
   "source": [
    "*   traces activity on OpenMP target devices"
   ]
  },
  {
   "cell_type": "markdown",
   "metadata": {},
   "source": [
    "*   assesses implementation-dependent details"
   ]
  },
  {
   "cell_type": "markdown",
   "metadata": {},
   "source": [
    "*   controls a tool from an OpenMP application"
   ]
  },
  {
   "cell_type": "markdown",
   "metadata": {},
   "source": [
    "The following sections will illustrate basic mechanisms and operations of the OMPT API."
   ]
  },
  {
   "cell_type": "markdown",
   "metadata": {},
   "source": [
    ""
   ]
  },
  {
   "cell_type": "markdown",
   "metadata": {},
   "source": [
    ""
   ]
  },
  {
   "cell_type": "markdown",
   "metadata": {},
   "source": [
    ""
   ]
  },
  {
   "cell_type": "markdown",
   "metadata": {},
   "source": [
    "## OMPT Start"
   ]
  },
  {
   "cell_type": "markdown",
   "metadata": {},
   "source": [
    ""
   ]
  },
  {
   "cell_type": "markdown",
   "metadata": {},
   "source": [
    "There are three steps an OpenMP implementation takes to activate a tool. This section explains how the tool and an OpenMP implementation interact to accomplish tool activation."
   ]
  },
  {
   "cell_type": "markdown",
   "metadata": {},
   "source": [
    "\index{OMPT interface!activating} \index{OMPT interface!ompt_start_tool routine@\scode{ompt_start_tool} routine} \index{routines!ompt_start_tool@\scode{ompt_start_tool}} \index{ompt_start_tool routine@\scode{ompt_start_tool} routine} Step 1. **Determine Whether to Initialize** {2.5em}{0pt} A tool is activated by the OMPT interface when it returns a non-NULL pointer to an `ompt_start_tool_result_t` structure on a call to `ompt_start_tool` by the OpenMP implementation. There are three ways that a tool can provide a definition of `ompt_start_tool` to an OpenMP implementation: (1) Statically linking the tool's definition of `ompt_start_tool` into an OpenMP application. (2) Introducing a dynamically linked library that includes the tool's definition of `ompt_start_tool` into the application's address space. (3) Providing the name of a dynamically linked library appropriate for the architecture and operating system used by the application in the  _tool-libraries-var_  ICV."
   ]
  },
  {
   "cell_type": "markdown",
   "metadata": {},
   "source": [
    "Step 2. **Initializing a First-Party tool** {2.5em}{0pt} If a tool-provided implementation of `ompt_start_tool` returns a non-NULL pointer to an `ompt_start_tool_result_t` structure, the OpenMP implementation will invoke the tool initializer specified in this structure prior to the occurrence of any OpenMP event."
   ]
  },
  {
   "cell_type": "markdown",
   "metadata": {},
   "source": [
    ""
   ]
  },
  {
   "cell_type": "markdown",
   "metadata": {},
   "source": [
    "\index{OMPT interface!ompt_set_callback routine@\scode{ompt_set_callback} routine} \index{routines!ompt_set_callback@\scode{ompt_set_callback}} \index{ompt_set_callback routine@\scode{ompt_set_callback} routine} Step 3. **Monitoring Activity on the Host** {2.5em}{0pt} To monitor execution of an OpenMP program on the host device, a tool's initializer must register to receive notification of events that occur as an OpenMP program executes. A tool can register callbacks for OpenMP events using the runtime entry point known as `ompt_set_callback`, which has the following possible return codes: \hfill \break  `ompt_set_error`,  `ompt_set_never`,  `ompt_set_impossible`,  `ompt_set_sometimes`,  `ompt_set_sometimes_paired`,  `ompt_set_always`."
   ]
  },
  {
   "cell_type": "markdown",
   "metadata": {},
   "source": [
    "If the `ompt_set_callback` runtime entry point is called outside a tool's initializer, registration of supported callbacks may fail with a return code of `ompt_set_error`. All callbacks registered with `ompt_set_callback` or returned by `ompt_get_callback` use the dummy type signature `ompt_callback_t`. While this is a compromise, it is better than providing unique runtime entry points with precise type signatures to set and get the callback for each unique runtime entry point type signature."
   ]
  },
  {
   "cell_type": "markdown",
   "metadata": {},
   "source": [
    "----------------"
   ]
  },
  {
   "cell_type": "markdown",
   "metadata": {},
   "source": [
    "To use the OMPT interface a tool must provide a globally-visible implementation of the `ompt_start_tool` function. The function returns a pointer to an `ompt_start_tool_result_t` structure  that contains callback pointers for tool initialization and finalization as well  as a data word,  _tool_data_ , that is to be passed by reference to these callbacks. A `NULL` return indicates the tool will not use the OMPT interface. The runtime execution of `ompt_start_tool` is triggered by the first OpenMP  directive or OpenMP API routine call."
   ]
  },
  {
   "cell_type": "markdown",
   "metadata": {},
   "source": [
    ""
   ]
  },
  {
   "cell_type": "markdown",
   "metadata": {},
   "source": [
    "In the example below, the user-provided `ompt_start_tool` function performs a check to make sure the runtime OpenMP version that OMPT supports  (provided by the  **omp_version**  argument) is identical to the  OpenMP implementation (compile-time) version. Also, a `NULL` is returned to indicate that the OMPT interface is not used (no callbacks and tool data are specified)."
   ]
  },
  {
   "cell_type": "markdown",
   "metadata": {},
   "source": [
    "**Note**: The  **omp-tools.h**  file is included."
   ]
  },
  {
   "cell_type": "markdown",
   "metadata": {},
   "source": [
    ""
   ]
  },
  {
   "cell_type": "code",
   "execution_count": null,
   "metadata": {},
   "outputs": [],
   "source": [
    "//%compiler: clang\n",
 "//%cflags: -fopenmp\n",
 "\n",
    "/*\n",
    "* name:       ompt_start.1\n",
    "* type:       C\n",
    "* version:    omp_5.0\n",
    "*/\n",
    "#include <stdio.h>\n",
    "#include <omp.h>\n",
    "#include <omp-tools.h>\n",
    "\n",
    "ompt_start_tool_result_t *ompt_start_tool(\n",
    "unsigned int omp_version,\n",
    "const char *runtime_version\n",
    "){\n",
    "  if(omp_version != _OPENMP)\n",
    "    printf(\"Warning: OpenMP runtime version (%i) \"\n",
    "           \"does not match the compile time version (%i)\"\n",
    "           \" for runtime identifying as %s\\n\",\n",
    "           omp_version, _OPENMP, runtime_version);\n",
    "  // Returning NULL will disable this as an OMPT tool,\n",
    "  // allowing other tools to be loaded\n",
    "  return NULL;\n",
    "}\n",
    "\n",
    "int main(void){\n",
    "  printf(\"Running with %i threads\\n\", omp_get_max_threads());\n",
    "  return 0;\n",
    "}\n",
    "\n"
   ]
  },
  {
   "cell_type": "markdown",
   "metadata": {},
   "source": [
    "../../ompt_interface/ompt_start.tex"
   ]
  },
  {
   "cell_type": "markdown",
   "metadata": {},
   "source": [
    ""
   ]
  }
 ],
 "metadata": {
  "kernelspec": {
   "display_name": "Native",
   "language": "native",
   "name": "native"
  },
  "language_info": {
   "file_extension": ".c",
   "mimetype": "text/plain",
   "name": "none"
  }
 },
 "nbformat": 4,
 "nbformat_minor": 2
}