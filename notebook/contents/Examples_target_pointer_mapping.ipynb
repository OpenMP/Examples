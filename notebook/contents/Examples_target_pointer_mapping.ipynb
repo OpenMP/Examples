{
 "cells": [
  {
   "cell_type": "markdown",
   "metadata": {},
   "source": [
    ""
   ]
  },
  {
   "cell_type": "markdown",
   "metadata": {},
   "source": [
    "## Pointer mapping"
   ]
  },
  {
   "cell_type": "markdown",
   "metadata": {},
   "source": [
    ""
   ]
  },
  {
   "cell_type": "markdown",
   "metadata": {},
   "source": [
    "Pointers that contain host addresses require that those addresses are translated to device addresses for them to be useful in the context of a device data environment. Broadly speaking, there are two scenarios where this is important."
   ]
  },
  {
   "cell_type": "markdown",
   "metadata": {},
   "source": [
    "The first scenario is where the pointer is mapped to the device data environment, such that references to the pointer inside a `target` region are to the corresponding pointer. Pointer attachment ensures that the corresponding pointer will contain a device address when all of the following conditions are true:"
   ]
  },
  {
   "cell_type": "markdown",
   "metadata": {},
   "source": [
    "*  the pointer is mapped by directive  A  to a device;"
   ]
  },
  {
   "cell_type": "markdown",
   "metadata": {},
   "source": [
    "*  a list item that uses the pointer as its base pointer (call it the **pointee**) is mapped, to the same device, by directive  B , which may be the same as  A ;"
   ]
  },
  {
   "cell_type": "markdown",
   "metadata": {},
   "source": [
    "*  the effect of directive  B  is to create either the corresponding pointer or pointee in the device data environment of the device."
   ]
  },
  {
   "cell_type": "markdown",
   "metadata": {},
   "source": [
    "Given the above conditions, pointer attachment is initiated as a result of directive  B  and subsequent references to the pointee list item in a target region that use the pointer will access the corresponding pointee. The corresponding pointer remains in this **attached** state until it is removed from the device data environment."
   ]
  },
  {
   "cell_type": "markdown",
   "metadata": {},
   "source": [
    "The second scenario, which is only applicable for C/C++, is where the pointer is implicitly privatized inside a `target` construct when it appears as the base pointer to a list item on the construct and does not appear explicitly as a list item in a `map` clause, `is_device_ptr` clause, or data-sharing attribute clause. This scenario can be further split into two cases: the list item is a zero-length array section (e.g.,  _p[:0]_ ) or it is not."
   ]
  },
  {
   "cell_type": "markdown",
   "metadata": {},
   "source": [
    "If it is a zero-length array section, this will trigger a runtime check on entry to the `target` region for a previously mapped list item where the value of the pointer falls within the range of its base address and ending address. If such a match is found the private pointer is initialized to the device address corresponding to the value of the original pointer, and otherwise it is initialized to NULL (or retains its original value if the `unified_address` requirement is specified for that compilation unit)."
   ]
  },
  {
   "cell_type": "markdown",
   "metadata": {},
   "source": [
    "If the list item (again, call it the **pointee**) is not a zero-length array section, the private pointer will be initialized such that references in the `target` region to the pointee list item that use the pointer will access the corresponding pointee."
   ]
  },
  {
   "cell_type": "markdown",
   "metadata": {},
   "source": [
    "The following example shows the basics of mapping pointers with and without associated storage on the host."
   ]
  },
  {
   "cell_type": "markdown",
   "metadata": {},
   "source": [
    "Storage for pointers  _ptr1_  and  _ptr2_  is created on the host.  To map storage that is associated with a pointer on the host, the data can be explicitly mapped as an array section so that the compiler knows  the amount of data to be assigned in the device (to the \"corresponding\" data storage area). On the `target` construct array sections are mapped; however, the pointer  _ptr1_  is mapped, while  _ptr2_  is not. Since  _ptr2_  is not explicitly mapped, it is firstprivate.  This creates a subtle difference in the way these pointers can be used."
   ]
  },
  {
   "cell_type": "markdown",
   "metadata": {},
   "source": [
    "As a firstprivate pointer,  _ptr2_  can be manipulated on the device; however, as an explicitly mapped pointer,   _ptr1_  becomes an **attached** pointer and cannot be manipulated. In both cases the host pointer is not updated with the device pointer  address---as one would expect for distributed memory.  The storage data on the host is updated from the corresponding device data at the end of the `target` region."
   ]
  },
  {
   "cell_type": "markdown",
   "metadata": {},
   "source": [
    "As a comparison, note that the  _aray_  array is automatically mapped,  since the compiler knows the extent of the array."
   ]
  },
  {
   "cell_type": "markdown",
   "metadata": {},
   "source": [
    "The pointer  _ptr3_  is used inside the `target` construct, but it does not appear in a data-mapping or data-sharing clause. Nor is there a `defaultmap` clause on the construct to indicate what its implicit data-mapping or data-sharing attribute should be. For such a case,  _ptr3_  will be implicitly privatized within the construct and there will be a runtime check to see if the host memory to which it is pointing has corresponding memory in the device data environment. If this runtime check passes, the private  _ptr3_  would be initialized to point to the corresponding memory. But in this case the check does not pass and so it is initialized to null. Since  _ptr3_  is private, the value to which it is assigned in the `target` region is not returned into the original  _ptr3_  on the host."
   ]
  },
  {
   "cell_type": "markdown",
   "metadata": {},
   "source": [
    ""
   ]
  },
  {
   "cell_type": "code",
   "execution_count": null,
   "metadata": {},
   "outputs": [],
   "source": [
    "//%compiler: clang\n",
 "//%cflags: -fopenmp\n",
 "\n",
    "/*\n",
    "* name:       target_ptr_map.1\n",
    "* type:       C\n",
    "* version: omp_5.0\n",
    "*/\n",
    "#include <stdio.h>\n",
    "#include <stdlib.h>\n",
    "#define N 100\n",
    "\n",
    "int main()\n",
    "{\n",
    "  int *ptr1;\n",
    "  int *ptr2;\n",
    "  int *ptr3;\n",
    "  int aray[N];\n",
    "\n",
    "  ptr1 = (int *)malloc(sizeof(int)*N);\n",
    "  ptr2 = (int *)malloc(sizeof(int)*N);\n",
    "\n",
    "  #pragma omp target map(ptr1, ptr1[:N]) map(ptr2[:N] )\n",
    "  {\n",
    "     for (int i=0; i<N; i++)\n",
    "     {\n",
    "         ptr1[i] = i;\n",
    "         ptr2[i] = i;\n",
    "         aray[i] = i;\n",
    "     }\n",
    "\n",
    "   //*(++ptr1) = 9;  //NOT ALLOWED since ptr1 is an attached pointer\n",
    "     *(++ptr2) = 9;  //    allowed since ptr2 is firstprivate\n",
    "\n",
    "     ptr3=(int *)malloc(sizeof(int)*N); // ptr3 is firstprivate\n",
    "                                        // ptr3 value not returned\n",
    "     for (int i=0; i<N; i++) ptr3[i] = 5;\n",
    "\n",
    "     for (int i=0; i<N; i++) ptr1[i] += ptr3[i];\n",
    "\n",
    "     free(ptr3);     // explicitly free allocated storage on device\n",
    "   }\n",
    "\n",
    "   printf(\" %d %d\\n\",ptr1[1],ptr2[1]);\n",
    "   //        6  9\n",
    "\n",
    "   free(ptr1);\n",
    "   free(ptr2);\n",
    "   return 0;\n",
    "}\n",
    "\n"
   ]
  },
  {
   "cell_type": "markdown",
   "metadata": {},
   "source": [
    ""
   ]
  },
  {
   "cell_type": "markdown",
   "metadata": {},
   "source": [
    "In the following example the global pointer  _p_  appears in a `declare` `target` directive.  Hence, the pointer  _p_  will  persist on the device throughout executions in all `target` regions."
   ]
  },
  {
   "cell_type": "markdown",
   "metadata": {},
   "source": [
    "The pointer is also used in an array section of a `map` clause on  a `target` construct.  When storage associated with  a `declare` `target` pointer is mapped, as for the array section  _p[:N]_  in the `target` construct, the array section on the device is **attached** to the device pointer  _p_  on entry to the construct, and the value of the device pointer  _p_  becomes undefined on exit.  (Of course, storage allocation for the array section on the device will occur before the  pointer on the device is **attached**.)"
   ]
  },
  {
   "cell_type": "markdown",
   "metadata": {},
   "source": [
    ""
   ]
  },
  {
   "cell_type": "code",
   "execution_count": null,
   "metadata": {},
   "outputs": [],
   "source": [
    "//%compiler: clang\n",
 "//%cflags: -fopenmp\n",
 "\n",
    "/*\n",
    "* name:       target_ptr_map.2c\n",
    "* type:       C\n",
    "* version: omp_5.0\n",
    "*/\n",
    "#include <stdio.h>\n",
    "#include <stdlib.h>\n",
    "#define N 100\n",
    "\n",
    "#pragma omp declare target\n",
    "int *p;\n",
    "extern void use_arg_p(int *p, int n);\n",
    "extern void use_global_p(     int n);\n",
    "#pragma omp end declare target\n",
    "\n",
    "int main()\n",
    "{\n",
    "  int i;\n",
    "  p = (int *)malloc(sizeof(int)*N);\n",
    "\n",
    "  #pragma omp target map(p[:N])  // device p attached to array section\n",
    "  {\n",
    "    for (i=0; i<N; i++) p[i] = i;\n",
    "    use_arg_p(p, N);\n",
    "    use_global_p(N);\n",
    "  }                              // value of host p is preserved\n",
    "\n",
    "  printf(\" %3.3d %3.3d\\n\", p[1], p[N-1]);\n",
    "         // 003   297   <- output\n",
    "\n",
    "  free(p);\n",
    "  return 0;\n",
    "}\n",
    "\n",
    "//#pragma omp declare target (optional here because of prototype spec)\n",
    "void use_arg_p(int *q, int n)\n",
    "{\n",
    "  int i;\n",
    "  for (i=0; i<n; i++)\n",
    "    q[i] *= 2;\n",
    "}\n",
    "\n",
    "void use_global_p(int n)\n",
    "{\n",
    "  int i;\n",
    "  for (i=0; i<n; i++)\n",
    "    p[i] += i;   // valid since p is in declare target and called from\n",
    "                 // inside target region where p was attached to valid memory\n",
    "}\n",
    "//#pragma omp end declare target (optional here because of prototype spec)\n",
    "\n"
   ]
  },
  {
   "cell_type": "markdown",
   "metadata": {},
   "source": [
    ""
   ]
  },
  {
   "cell_type": "markdown",
   "metadata": {},
   "source": [
    "The following two examples illustrate subtle differences in pointer attachment to device address because of the order of data mapping."
   ]
  },
  {
   "cell_type": "markdown",
   "metadata": {},
   "source": [
    "In example  _target_ptr_map.3a_   the global pointer  _p1_  points to array  _x_  and  _p2_  points to array  _y_  on the host. The array section  _x[:N]_  is mapped by the `target` `enter` `data` directive while array  _y_  is mapped on the `target` construct.  Since the `declare` `target` directive is applied to the declaration of  _p1_ ,  _p1_  is a treated like a mapped variable on the `target` construct and references to  _p1_  inside the construct will be to the corresponding  _p1_  that exists on the device.  However, the corresponding  _p1_  will be undefined since there is no pointer attachment for it. Pointer attachment for  _p1_  would require that (1)  _p1_  (or an lvalue expression that refers to the same storage as  _p1_ ) appears as a base pointer to a list item in a `map` clause, and (2) the construct that has the `map` clause causes the list item to transition from **not mapped** to **mapped**. The conditions are clearly not satisifed for this example."
   ]
  },
  {
   "cell_type": "markdown",
   "metadata": {},
   "source": [
    "The problem for  _p2_  in this example is also subtle. It will be privatized inside the `target` construct, with a runtime check for whether the memory to which it is pointing has corresponding memory that is accessible on the device. If this check is successful then the  _p2_  inside the construct would be appropriately initialized to point to that corresponding memory. Unfortunately, despite there being an implicit map of the array  _y_  (to which  _p2_  is pointing) on the construct, the order of this map relative to the initialization of  _p2_  is unspecified. Therefore, the initial value of  _p2_  will also be undefined."
   ]
  },
  {
   "cell_type": "markdown",
   "metadata": {},
   "source": [
    "Thus, referencing values via either  _p1_  or  _p2_  inside the `target` region would be invalid."
   ]
  },
  {
   "cell_type": "markdown",
   "metadata": {},
   "source": [
    ""
   ]
  },
  {
   "cell_type": "code",
   "execution_count": null,
   "metadata": {},
   "outputs": [],
   "source": [
    "//%compiler: clang\n",
 "//%cflags: -fopenmp\n",
 "\n",
    "/*\n",
    "* name:       target_ptr_map.3a.c\n",
    "* type:       C\n",
    "* version: omp_5.0\n",
    "*/\n",
    "#define N 100\n",
    "\n",
    "int x[N], y[N];\n",
    "#pragma omp declare target\n",
    "int *p1;\n",
    "#pragma omp end declare target\n",
    "int *p2;\n",
    "\n",
    "int foo()\n",
    "{\n",
    "  p1 = &x[0];\n",
    "  p2 = &y[0];\n",
    "\n",
    "  // Explicitly map array section x[:N]\n",
    "  #pragma omp target enter data map(x[:N])\n",
    "\n",
    "  #pragma omp target  // as if .. map(p1) map(p1[:0]) map(p2[:0]) map(y)\n",
    "  {\n",
    "    // Accessing the mapped arrays x,y is OK here.\n",
    "    x[0] = 1;\n",
    "    y[1] = 2;\n",
    "\n",
    "    // Pointer attachment for p1 does not occur here\n",
    "    //   because p1[:0] does not allocate a new array section and\n",
    "    //   array x is present on the target construct as it was mapped\n",
    "    //   before by the target enter data directive.\n",
    "    p1[0] = 3;      // accessing p1 is undefined\n",
    "\n",
    "    // The initial value of p2 in the target region is undefined\n",
    "    //   because map(y) may occur after map(p2[:0]).\n",
    "    p2[1] = 4;      // accessing p2 is undefined\n",
    "  }\n",
    "\n",
    "  return 0;\n",
    "}\n",
    "\n"
   ]
  },
  {
   "cell_type": "markdown",
   "metadata": {},
   "source": [
    ""
   ]
  },
  {
   "cell_type": "markdown",
   "metadata": {},
   "source": [
    "In example  _target_ptr_map.3b_  the mapping orders for arrays  _x_  and  _y_  were rearranged to allow proper pointer attachments. On the `target` construct, the `map(x)` clause triggers pointer attachment for  _p1_  to the device address of  _x_ .  Pointer  _p2_  is assigned the device address of the previously mapped  array  _y_ . Referencing values via either  _p1_  or  _p2_  inside the `target` region is now valid."
   ]
  },
  {
   "cell_type": "markdown",
   "metadata": {},
   "source": [
    ""
   ]
  },
  {
   "cell_type": "code",
   "execution_count": null,
   "metadata": {},
   "outputs": [],
   "source": [
    "//%compiler: clang\n",
 "//%cflags: -fopenmp\n",
 "\n",
    "/*\n",
    "* name:       target_ptr_map.3b.c\n",
    "* type:       C\n",
    "* version: omp_5.0\n",
    "*/\n",
    "#define N 100\n",
    "\n",
    "int x[N], y[N];\n",
    "#pragma omp declare target\n",
    "int *p1;\n",
    "#pragma omp end declare target\n",
    "int *p2;\n",
    "\n",
    "int foo()\n",
    "{\n",
    "  p1 = &x[0];\n",
    "  p2 = &y[0];\n",
    "\n",
    "  // Explicitly map array section y[:N]\n",
    "  #pragma omp target enter data map(y[:N])\n",
    "\n",
    "  #pragma omp target map(x[:N]) map(p1[:N]) map(p2[:0])\n",
    "  {\n",
    "    // Accessing the mapped arrays x,y is OK here.\n",
    "    x[0] = 1;\n",
    "    y[1] = 2;\n",
    "\n",
    "    // Pointer attachment for p1 occurs here when array x is mapped\n",
    "    //   on the target construct (as p1 = &x[0] on the device)\n",
    "    p1[0] = 3;      // accessing p1 is OK\n",
    "\n",
    "    // p2 in the target region is initialized to &y[0]\n",
    "    p2[1] = 4;      // accessing p2 is OK\n",
    "  }\n",
    "\n",
    "  return 0;\n",
    "}\n",
    "\n"
   ]
  },
  {
   "cell_type": "markdown",
   "metadata": {},
   "source": [
    ""
   ]
  },
  {
   "cell_type": "markdown",
   "metadata": {},
   "source": [
    ""
   ]
  }
 ],
 "metadata": {
  "kernelspec": {
   "display_name": "Native",
   "language": "native",
   "name": "native"
  },
  "language_info": {
   "file_extension": ".c",
   "mimetype": "text/plain",
   "name": "none"
  }
 },
 "nbformat": 4,
 "nbformat_minor": 2
}