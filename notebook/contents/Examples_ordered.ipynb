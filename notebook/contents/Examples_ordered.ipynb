{
 "cells": [
  {
   "cell_type": "markdown",
   "metadata": {},
   "source": [
    ""
   ]
  },
  {
   "cell_type": "markdown",
   "metadata": {},
   "source": [
    "## The `ordered` Clause and the `ordered` Construct"
   ]
  },
  {
   "cell_type": "markdown",
   "metadata": {},
   "source": [
    ""
   ]
  },
  {
   "cell_type": "markdown",
   "metadata": {},
   "source": [
    "Ordered constructs  are useful for sequentially ordering the output from work that  is done in parallel. The following program prints out the indices in sequential  order:"
   ]
  },
  {
   "cell_type": "markdown",
   "metadata": {},
   "source": [
    ""
   ]
  },
  {
   "cell_type": "code",
   "execution_count": null,
   "metadata": {},
   "outputs": [],
   "source": [
    "//%compiler: clang\n",
 "//%cflags: -fopenmp\n",
 "\n",
    "/*\n",
    "* name: ordered.1c\n",
    "* type: C\n",
    "*/\n",
    "#include <stdio.h>\n",
    "\n",
    "void work(int k)\n",
    "{\n",
    "  #pragma omp ordered\n",
    "    printf(\" %d\\n\", k);\n",
    "}\n",
    "\n",
    "void ordered_example(int lb, int ub, int stride)\n",
    "{\n",
    "  int i;\n",
    "\n",
    "  #pragma omp parallel for ordered schedule(dynamic)\n",
    "  for (i=lb; i<ub; i+=stride)\n",
    "    work(i);\n",
    "}\n",
    "\n",
    "int main()\n",
    "{\n",
    "  ordered_example(0, 100, 5);\n",
    "  return 0;\n",
    "}\n",
    "\n"
   ]
  },
  {
   "cell_type": "markdown",
   "metadata": {},
   "source": [
    ""
   ]
  },
  {
   "cell_type": "markdown",
   "metadata": {},
   "source": [
    ""
   ]
  },
  {
   "cell_type": "code",
   "execution_count": null,
   "metadata": {},
   "outputs": [],
   "source": [
    "\n",
    "! name: ordered.1f\n",
    "! type: F-fixed\n",
    "      SUBROUTINE WORK(K)\n",
    "        INTEGER k\n",
    "\n",
    "!$OMP ORDERED\n",
    "        WRITE(*,*) K\n",
    "!$OMP END ORDERED\n",
    "\n",
    "      END SUBROUTINE WORK\n",
    "\n",
    "      SUBROUTINE SUB(LB, UB, STRIDE)\n",
    "        INTEGER LB, UB, STRIDE\n",
    "        INTEGER I\n",
    "\n",
    "!$OMP PARALLEL DO ORDERED SCHEDULE(DYNAMIC)\n",
    "        DO I=LB,UB,STRIDE\n",
    "          CALL WORK(I)\n",
    "        END DO\n",
    "!$OMP END PARALLEL DO\n",
    "\n",
    "      END SUBROUTINE SUB\n",
    "\n",
    "      PROGRAM ORDERED_EXAMPLE\n",
    "        CALL SUB(1,100,5)\n",
    "      END PROGRAM ORDERED_EXAMPLE\n",
    "\n"
   ]
  },
  {
   "cell_type": "markdown",
   "metadata": {},
   "source": [
    ""
   ]
  },
  {
   "cell_type": "markdown",
   "metadata": {},
   "source": [
    "It is possible to have multiple `ordered` constructs within a loop region  with the `ordered` clause specified. The first example is non-conforming  because all iterations execute two `ordered` regions. An iteration of a  loop must not execute more than one `ordered` region:"
   ]
  },
  {
   "cell_type": "markdown",
   "metadata": {},
   "source": [
    ""
   ]
  },
  {
   "cell_type": "code",
   "execution_count": null,
   "metadata": {},
   "outputs": [],
   "source": [
    "//%compiler: clang\n",
 "//%cflags: -fopenmp\n",
 "\n",
    "/*\n",
    "* name: ordered.2c\n",
    "* type: C\n",
    "*/\n",
    "void work(int i) {}\n",
    "\n",
    "void ordered_wrong(int n)\n",
    "{\n",
    "  int i;\n",
    "  #pragma omp for ordered\n",
    "  for (i=0; i<n; i++) {\n",
    "/* incorrect because an iteration may not execute more than one\n",
    "   ordered region */\n",
    "    #pragma omp ordered\n",
    "      work(i);\n",
    "    #pragma omp ordered\n",
    "      work(i+1);\n",
    "  }\n",
    "}\n",
    "\n"
   ]
  },
  {
   "cell_type": "markdown",
   "metadata": {},
   "source": [
    ""
   ]
  },
  {
   "cell_type": "markdown",
   "metadata": {},
   "source": [
    ""
   ]
  },
  {
   "cell_type": "code",
   "execution_count": null,
   "metadata": {},
   "outputs": [],
   "source": [
    "\n",
    "! name: ordered.2f\n",
    "! type: F-fixed\n",
    "      SUBROUTINE WORK(I)\n",
    "      INTEGER I\n",
    "      END SUBROUTINE WORK\n",
    "\n",
    "      SUBROUTINE ORDERED_WRONG(N)\n",
    "      INTEGER N\n",
    "\n",
    "        INTEGER I\n",
    "!$OMP   DO ORDERED\n",
    "        DO I = 1, N\n",
    "! incorrect because an iteration may not execute more than one\n",
    "! ordered region\n",
    "!$OMP     ORDERED\n",
    "            CALL WORK(I)\n",
    "!$OMP     END ORDERED\n",
    "\n",
    "!$OMP     ORDERED\n",
    "            CALL WORK(I+1)\n",
    "!$OMP     END ORDERED\n",
    "        END DO\n",
    "      END SUBROUTINE ORDERED_WRONG\n",
    "\n"
   ]
  },
  {
   "cell_type": "markdown",
   "metadata": {},
   "source": [
    ""
   ]
  },
  {
   "cell_type": "markdown",
   "metadata": {},
   "source": [
    "The following is a conforming example with more than one `ordered` construct.  Each iteration will execute only one `ordered` region:"
   ]
  },
  {
   "cell_type": "markdown",
   "metadata": {},
   "source": [
    ""
   ]
  },
  {
   "cell_type": "code",
   "execution_count": null,
   "metadata": {},
   "outputs": [],
   "source": [
    "//%compiler: clang\n",
 "//%cflags: -fopenmp\n",
 "\n",
    "/*\n",
    "* name: ordered.3c\n",
    "* type: C\n",
    "*/\n",
    "void work(int i) {}\n",
    "void ordered_good(int n)\n",
    "{\n",
    "  int i;\n",
    "#pragma omp for ordered\n",
    "  for (i=0; i<n; i++) {\n",
    "    if (i <= 10) {\n",
    "      #pragma omp ordered\n",
    "         work(i);\n",
    "    }\n",
    "    if (i > 10) {\n",
    "      #pragma omp ordered\n",
    "        work(i+1);\n",
    "    }\n",
    "  }\n",
    "}\n",
    "\n"
   ]
  },
  {
   "cell_type": "markdown",
   "metadata": {},
   "source": [
    ""
   ]
  },
  {
   "cell_type": "markdown",
   "metadata": {},
   "source": [
    ""
   ]
  },
  {
   "cell_type": "code",
   "execution_count": null,
   "metadata": {},
   "outputs": [],
   "source": [
    "\n",
    "! name: ordered.3f\n",
    "! type: F-fixed\n",
    "      SUBROUTINE ORDERED_GOOD(N)\n",
    "      INTEGER N\n",
    "\n",
    "!$OMP   DO ORDERED\n",
    "        DO I = 1,N\n",
    "          IF (I <= 10) THEN\n",
    "!$OMP       ORDERED\n",
    "              CALL WORK(I)\n",
    "!$OMP       END ORDERED\n",
    "          ENDIF\n",
    "\n",
    "          IF (I > 10) THEN\n",
    "!$OMP       ORDERED\n",
    "              CALL WORK(I+1)\n",
    "!$OMP       END ORDERED\n",
    "          ENDIF\n",
    "        ENDDO\n",
    "      END SUBROUTINE ORDERED_GOOD\n",
    "\n"
   ]
  },
  {
   "cell_type": "markdown",
   "metadata": {},
   "source": [
    ""
   ]
  },
  {
   "cell_type": "markdown",
   "metadata": {},
   "source": [
    ""
   ]
  }
 ],
 "metadata": {
  "kernelspec": {
   "display_name": "Native",
   "language": "native",
   "name": "native"
  },
  "language_info": {
   "file_extension": ".c",
   "mimetype": "text/plain",
   "name": "none"
  }
 },
 "nbformat": 4,
 "nbformat_minor": 2
}