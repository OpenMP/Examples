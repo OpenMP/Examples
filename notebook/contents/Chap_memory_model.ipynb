{
 "cells": [
  {
   "cell_type": "markdown",
   "metadata": {},
   "source": [
    ""
   ]
  },
  {
   "cell_type": "markdown",
   "metadata": {},
   "source": [
    "# Memory Model"
   ]
  },
  {
   "cell_type": "markdown",
   "metadata": {},
   "source": [
    "{memory_model}"
   ]
  },
  {
   "cell_type": "markdown",
   "metadata": {},
   "source": [
    "OpenMP provides a shared-memory model that allows all threads on a given device shared access to **memory**. For a given OpenMP region that may be executed by more than one thread or SIMD lane, variables in memory may be **shared** or **private** with respect to those threads or SIMD lanes. A variable's data-sharing attribute indicates whether it is shared (the **shared** attribute) or private (the **private**, **firstprivate**, **lastprivate**, **linear**, and **reduction** attributes) in the data environment of an OpenMP region. While private variables in an OpenMP region are new copies of the original variable (with same name) that may then be concurrently accessed or modified by their respective threads or SIMD lanes, a shared variable in an OpenMP region is the same as the variable of the same name in the enclosing region. Concurrent accesses or modifications to a shared variable may therefore require synchronization to avoid data races."
   ]
  },
  {
   "cell_type": "markdown",
   "metadata": {},
   "source": [
    "OpenMP's memory model also includes a **temporary view** of memory that is associated with each thread. Two different threads may see different values for a given variable in their respective temporary views. Threads may employ flush operations for the purposes of making their temporary view of a variable consistent with the value of the variable in memory. The effect of a given flush operation is characterized by its flush properties -- some combination of **strong**, **release**, and **acquire** -- and, for **strong** flushes, a **flush-set**."
   ]
  },
  {
   "cell_type": "markdown",
   "metadata": {},
   "source": [
    "A **strong** flush will force consistency between the temporary view and the memory for all variables in its **flush-set**.  Furthermore, all strong flushes in a program that have intersecting flush-sets will execute in some total order, and within a thread strong flushes may not be reordered with respect to other memory operations on variables in its flush-set. **Release** and **acquire** flushes operate in pairs. A release flush may \"synchronize'' with an acquire flush, and when it does so the local memory operations that precede the release flush will appear to have been completed before the local memory operations on the same variables that follow the acquire flush."
   ]
  },
  {
   "cell_type": "markdown",
   "metadata": {},
   "source": [
    "Flush operations arise from explicit `flush` directives, implicit `flush` directives, and also from the execution of `atomic` constructs. The `flush` directive forces a  consistent view of local variables of the thread executing the `flush`.  When a list is supplied on the directive, only the items (variables) in the list are guaranteed to be flushed.  Implied flushes exist at prescribed locations of certain constructs. For the complete list of these locations and associated constructs, please refer to the  _flush Construct_  section of the OpenMP Specifications document."
   ]
  },
  {
   "cell_type": "markdown",
   "metadata": {},
   "source": [
    "In this chapter, examples illustrate how race conditions may arise for accesses to variables with a  _shared_  data-sharing attribute when flush operations are not properly employed.  A race condition can exist when two or more threads are involved in accessing a variable and at least one of the accesses modifies the variable.  In particular, a data race will arise when conflicting accesses do not have a well-defined **completion order**.  The existence of data races in OpenMP programs result in undefined behavior, and so they should generally be avoided for programs to be correct.  The completion order of accesses to a shared variable is guaranteed in OpenMP through a set of memory consistency rules that are described in the  _OpenMP Memory Consistency_  section of the OpenMP Specifications document."
   ]
  },
  {
   "cell_type": "markdown",
   "metadata": {},
   "source": [
    ""
   ]
  },
  {
   "cell_type": "markdown",
   "metadata": {},
   "source": [
    ""
   ]
  },
  {
   "cell_type": "markdown",
   "metadata": {},
   "source": [
    ""
   ]
  },
  {
   "cell_type": "markdown",
   "metadata": {},
   "source": [
    ""
   ]
  },
  {
   "cell_type": "markdown",
   "metadata": {},
   "source": [
    ""
   ]
  },
  {
   "cell_type": "markdown",
   "metadata": {},
   "source": [
    ""
   ]
  },
  {
   "cell_type": "markdown",
   "metadata": {},
   "source": [
    ""
   ]
  },
  {
   "cell_type": "markdown",
   "metadata": {},
   "source": [
    ""
   ]
  },
  {
   "cell_type": "markdown",
   "metadata": {},
   "source": [
    ""
   ]
  },
  {
   "cell_type": "markdown",
   "metadata": {},
   "source": [
    "## OpenMP Memory Model"
   ]
  },
  {
   "cell_type": "markdown",
   "metadata": {},
   "source": [
    ""
   ]
  },
  {
   "cell_type": "markdown",
   "metadata": {},
   "source": [
    "The following examples illustrate two major concerns for concurrent thread execution: ordering of thread execution and memory accesses that may or may not lead to race conditions."
   ]
  },
  {
   "cell_type": "markdown",
   "metadata": {},
   "source": [
    "In the following example, at Print 1, the value of `xval` could be either 2 or 5, depending on the timing of the threads. The `atomic` directives are necessary for the accesses to `x` by threads 1 and 2 to avoid a data race. If the atomic write completes before the atomic read, thread 1 is guaranteed to see 5 in `xval`. Otherwise, thread 1 is guaranteed to see 2 in `xval`."
   ]
  },
  {
   "cell_type": "markdown",
   "metadata": {},
   "source": [
    "\index{flushes!implicit} \index{atomic construct@`atomic` construct} \index{constructs!atomic@`atomic`} The barrier after Print 1 contains implicit flushes on all threads, as well as a thread synchronization, so the programmer is guaranteed that the value 5 will be printed by both Print 2 and Print 3. Since neither Print 2 or Print 3 are modifying `x`, they may concurrently access `x` without requiring `atomic` directives to avoid a data race."
   ]
  },
  {
   "cell_type": "markdown",
   "metadata": {},
   "source": [
    ""
   ]
  },
  {
   "cell_type": "code",
   "execution_count": null,
   "metadata": {},
   "outputs": [],
   "source": [
    "//%compiler: clang\n",
 "//%cflags: -fopenmp\n",
 "\n",
    "/*\n",
    "* name: mem_model.1\n",
    "* type: C\n",
    "* version: omp_3.1\n",
    "*/\n",
    "#include <stdio.h>\n",
    "#include <omp.h>\n",
    "\n",
    "int main(){\n",
    "  int x;\n",
    "\n",
    "  x = 2;\n",
    "  #pragma omp parallel num_threads(2) shared(x)\n",
    "  {\n",
    "\n",
    "    if (omp_get_thread_num() == 0) {\n",
    "       #pragma omp atomic write\n",
    "       x = 5;\n",
    "    } else {\n",
    "      int xval;\n",
    "      #pragma omp atomic read\n",
    "      xval = x;\n",
    "    /* Print 1: xval can be 2 or 5 */\n",
    "      printf(\"1: Thread# %d: x = %d\\n\", omp_get_thread_num(), xval);\n",
    "    }\n",
    "\n",
    "    #pragma omp barrier\n",
    "\n",
    "    if (omp_get_thread_num() == 0) {\n",
    "    /* Print 2 */\n",
    "      printf(\"2: Thread# %d: x = %d\\n\", omp_get_thread_num(), x);\n",
    "    } else {\n",
    "    /* Print 3 */\n",
    "      printf(\"3: Thread# %d: x = %d\\n\", omp_get_thread_num(), x);\n",
    "    }\n",
    "  }\n",
    "  return 0;\n",
    "}\n",
    "\n"
   ]
  },
  {
   "cell_type": "markdown",
   "metadata": {},
   "source": [
    ""
   ]
  },
  {
   "cell_type": "markdown",
   "metadata": {},
   "source": [
    ""
   ]
  },
  {
   "cell_type": "code",
   "execution_count": null,
   "metadata": {},
   "outputs": [],
   "source": [
    "\n",
    "! name: mem_model.1\n",
    "! type: F-free\n",
    "! version: omp_3.1\n",
    "PROGRAM MEMMODEL\n",
    "  INCLUDE \"omp_lib.h\"      ! or USE OMP_LIB\n",
    "  INTEGER X, XVAL\n",
    "\n",
    "  X = 2\n",
    "!$OMP PARALLEL NUM_THREADS(2) SHARED(X)\n",
    "\n",
    "    IF (OMP_GET_THREAD_NUM() .EQ. 0) THEN\n",
    "    !$OMP ATOMIC WRITE\n",
    "       X = 5\n",
    "    ELSE\n",
    "    !$OMP ATOMIC READ\n",
    "      XVAL = X\n",
    "    ! PRINT 1: XVAL can be 2 or 5\n",
    "      PRINT *,\"1: THREAD# \", OMP_GET_THREAD_NUM(), \"X = \", XVAL\n",
    "    ENDIF\n",
    "\n",
    " !$OMP BARRIER\n",
    "\n",
    "    IF (OMP_GET_THREAD_NUM() .EQ. 0) THEN\n",
    "    ! PRINT 2\n",
    "      PRINT *,\"2: THREAD# \", OMP_GET_THREAD_NUM(), \"X = \", X\n",
    "    ELSE\n",
    "    ! PRINT 3\n",
    "      PRINT *,\"3: THREAD# \", OMP_GET_THREAD_NUM(), \"X = \", X\n",
    "    ENDIF\n",
    "\n",
    "!$OMP END PARALLEL\n",
    "\n",
    "END PROGRAM MEMMODEL\n",
    "\n"
   ]
  },
  {
   "cell_type": "markdown",
   "metadata": {},
   "source": [
    ""
   ]
  },
  {
   "cell_type": "markdown",
   "metadata": {},
   "source": [
    "\index{flushes!flush construct@`flush` construct} \index{flush construct@`flush` construct} \index{constructs!flush@`flush`} The following example demonstrates why synchronization is difficult to perform correctly through variables. The write to `flag` on thread 0 and the read from `flag` in the loop on thread 1 must be atomic to avoid a data race. When thread 1 breaks out of the loop, `flag` will have the value of 1. However, `data` will still be undefined at the first print statement. Only after the flush of both `flag` and `data` after the first print statement will `data` have the well-defined value of 42."
   ]
  },
  {
   "cell_type": "markdown",
   "metadata": {},
   "source": [
    ""
   ]
  },
  {
   "cell_type": "code",
   "execution_count": null,
   "metadata": {},
   "outputs": [],
   "source": [
    "//%compiler: clang\n",
 "//%cflags: -fopenmp\n",
 "\n",
    "/*\n",
    "* name: mem_model.2\n",
    "* type: C\n",
    "* version: omp_3.1\n",
    "*/\n",
    "#include <omp.h>\n",
    "#include <stdio.h>\n",
    "int main()\n",
    "{\n",
    "    int data;\n",
    "    int flag=0;\n",
    "    #pragma omp parallel num_threads(2)\n",
    "    {\n",
    "      if (omp_get_thread_num()==0)\n",
    "      {\n",
    "      /* Write to the data buffer that will be\n",
    "       * read by thread */\n",
    "          data = 42;\n",
    "      /* Flush data to thread 1 and strictly order\n",
    "       * the write to data relative to the write to the flag */\n",
    "          #pragma omp flush(flag, data)\n",
    "      /* Set flag to release thread 1 */\n",
    "          #pragma omp atomic write\n",
    "          flag = 1;\n",
    "      }\n",
    "      else if(omp_get_thread_num()==1)\n",
    "      {\n",
    "      /* Loop until we see the update to the flag */\n",
    "          #pragma omp flush(flag, data)\n",
    "          int flag_val = 0;\n",
    "          while (flag_val < 1)\n",
    "          {\n",
    "             #pragma omp atomic read\n",
    "             flag_val = flag;\n",
    "          }\n",
    "      /* Value of flag is 1; value of data is undefined */\n",
    "          printf(\"flag=%d data=%d\\n\", flag, data);\n",
    "          #pragma omp flush(flag, data)\n",
    "      /* Value of flag is 1; value of data is 42 */\n",
    "          printf(\"flag=%d data=%d\\n\", flag, data);\n",
    "      }\n",
    "    }\n",
    "    return 0;\n",
    "}\n",
    "\n"
   ]
  },
  {
   "cell_type": "markdown",
   "metadata": {},
   "source": [
    ""
   ]
  },
  {
   "cell_type": "markdown",
   "metadata": {},
   "source": [
    ""
   ]
  },
  {
   "cell_type": "code",
   "execution_count": null,
   "metadata": {},
   "outputs": [],
   "source": [
    "\n",
    "! name: mem_model.2\n",
    "! type: F-fixed\n",
    "! version: omp_3.1\n",
    "       PROGRAM EXAMPLE\n",
    "       INCLUDE \"omp_lib.h\" ! or USE OMP_LIB\n",
    "       INTEGER DATA\n",
    "       INTEGER FLAG, FLAG_VAL\n",
    "\n",
    "       FLAG = 0\n",
    "!$OMP  PARALLEL NUM_THREADS(2)\n",
    "         IF(OMP_GET_THREAD_NUM() .EQ. 0) THEN\n",
    "         ! Write to the data buffer that will be read by thread 1\n",
    "            DATA = 42\n",
    "\n",
    "         ! Flush DATA to thread 1 and strictly order the write to DATA\n",
    "         ! relative to the write to the FLAG\n",
    "!$OMP       FLUSH(FLAG, DATA)\n",
    "\n",
    "         ! Set FLAG to release thread 1\n",
    "!$OMP       ATOMIC WRITE\n",
    "            FLAG = 1\n",
    "\n",
    "         ELSE IF(OMP_GET_THREAD_NUM() .EQ. 1) THEN\n",
    "         ! Loop until we see the update to the FLAG\n",
    "!$OMP       FLUSH(FLAG, DATA)\n",
    "            FLAG_VAL = 0\n",
    "            DO WHILE(FLAG_VAL .LT. 1)\n",
    "!$OMP          ATOMIC READ\n",
    "               FLAG_VAL = FLAG\n",
    "            ENDDO\n",
    "\n",
    "         ! Value of FLAG is 1; value of DATA is undefined\n",
    "            PRINT *, 'FLAG=', FLAG, ' DATA=', DATA\n",
    "\n",
    "!$OMP       FLUSH(FLAG, DATA)\n",
    "         ! Value of FLAG is 1; value of DATA is 42\n",
    "            PRINT *, 'FLAG=', FLAG, ' DATA=', DATA\n",
    "\n",
    "         ENDIF\n",
    "!$OMP  END PARALLEL\n",
    "       END\n",
    "\n"
   ]
  },
  {
   "cell_type": "markdown",
   "metadata": {},
   "source": [
    ""
   ]
  },
  {
   "cell_type": "markdown",
   "metadata": {},
   "source": [
    "\index{flushes!flush with a list} The next example demonstrates why synchronization is difficult to perform correctly through variables. As in the preceding example, the updates to `flag` and the reading of `flag` in the loops on threads 1 and 2 are performed atomically to avoid data races on `flag`. However, the code still contains data race due to the incorrect use of \"flush with a list'' after the assignment to `data1` on thread 1. By not including `flag` in the flush-set of that `flush` directive, the assignment can be reordered with respect to the subsequent atomic update to `flag`. Consequentially, `data1` is undefined at the print statement on thread 2."
   ]
  },
  {
   "cell_type": "markdown",
   "metadata": {},
   "source": [
    ""
   ]
  },
  {
   "cell_type": "code",
   "execution_count": null,
   "metadata": {},
   "outputs": [],
   "source": [
    "//%compiler: clang\n",
 "//%cflags: -fopenmp\n",
 "\n",
    "/*\n",
    "* name: mem_model.3\n",
    "* type: C\n",
    "* version: omp_3.1\n",
    "*/\n",
    "#include <omp.h>\n",
    "#include <stdio.h>\n",
    "\n",
    "int data0 = 0, data1 = 0;\n",
    "\n",
    "int main()\n",
    "{\n",
    "   int flag=0;\n",
    "\n",
    "   #pragma omp parallel num_threads(3)\n",
    "   {\n",
    "      if(omp_get_thread_num()==0)\n",
    "      {\n",
    "         data0 = 17;\n",
    "         #pragma omp flush\n",
    "         /* Set flag to release thread 1 */\n",
    "         #pragma omp atomic update\n",
    "         flag++;\n",
    "         /* Flush of flag is implied by the atomic directive */\n",
    "      }\n",
    "      else if(omp_get_thread_num()==1)\n",
    "      {\n",
    "         int flag_val = 0;\n",
    "         /* Loop until we see that flag reaches 1*/\n",
    "         while(flag_val < 0)\n",
    "         {\n",
    "            #pragma omp atomic read\n",
    "            flag_val = flag;\n",
    "         }\n",
    "         #pragma omp flush(data0)\n",
    "         /* data0 is 17 here */\n",
    "         printf(\"Thread 1 awoken (data0 = %d)\\n\", data0);\n",
    "         data1 = 42;\n",
    "         #pragma omp flush(data1)\n",
    "         /* Set flag to release thread 2 */\n",
    "         #pragma omp atomic update\n",
    "         flag++;\n",
    "         /* Flush of flag is implied by the atomic directive */\n",
    "      }\n",
    "      else if(omp_get_thread_num()==2)\n",
    "      {\n",
    "         int flag_val = 0;\n",
    "         /* Loop until we see that flag reaches 2 */\n",
    "         while(flag_val < 2)\n",
    "         {\n",
    "            #pragma omp atomic read\n",
    "            flag_val = flag;\n",
    "         }\n",
    "         #pragma omp flush(data0,data1)\n",
    "         /* there is a data race here;\n",
    "            data0 is 17 and data1 is undefined */\n",
    "         printf(\"Thread 2 awoken (data0 = %d, data1 = %d)\\n\",\n",
    "               data0, data1);\n",
    "      }\n",
    "   }\n",
    "   return 0;\n",
    "}\n",
    "\n"
   ]
  },
  {
   "cell_type": "markdown",
   "metadata": {},
   "source": [
    ""
   ]
  },
  {
   "cell_type": "markdown",
   "metadata": {},
   "source": [
    ""
   ]
  },
  {
   "cell_type": "code",
   "execution_count": null,
   "metadata": {},
   "outputs": [],
   "source": [
    "\n",
    "! name: mem_model.3\n",
    "! type: F-fixed\n",
    "! version: omp_3.1\n",
    "       PROGRAM EXAMPLE\n",
    "       INCLUDE \"omp_lib.h\" ! or USE OMP_LIB\n",
    "       INTEGER FLAG, FLAG_VAL\n",
    "       INTEGER DATA0, DATA1\n",
    "\n",
    "       FLAG = 0\n",
    "!$OMP  PARALLEL NUM_THREADS(3)\n",
    "         IF(OMP_GET_THREAD_NUM() .EQ. 0) THEN\n",
    "             DATA0 = 17\n",
    "!$OMP        FLUSH\n",
    "\n",
    "         ! Set flag to release thread 1\n",
    "!$OMP        ATOMIC UPDATE\n",
    "             FLAG = FLAG + 1\n",
    "         ! Flush of FLAG is implied by the atomic directive\n",
    "\n",
    "         ELSE IF(OMP_GET_THREAD_NUM() .EQ. 1) THEN\n",
    "         ! Loop until we see that FLAG reaches 1\n",
    "!$OMP        FLUSH(FLAG, DATA)\n",
    "             FLAG_VAL = 0\n",
    "             DO WHILE(FLAG_VAL .LT. 1)\n",
    "!$OMP           ATOMIC READ\n",
    "                FLAG_VAL = FLAG\n",
    "             ENDDO\n",
    "!$OMP        FLUSH\n",
    "\n",
    "         ! DATA0 is 17 here\n",
    "             PRINT *, 'Thread 1 awoken. DATA0 = ', DATA0\n",
    "\n",
    "             DATA1 = 42\n",
    "!$OMP        FLUSH(DATA1)\n",
    "\n",
    "         ! Set FLAG to release thread 2\n",
    "!$OMP        ATOMIC UPDATE\n",
    "             FLAG = FLAG + 1\n",
    "         ! Flush of FLAG is implied by the atomic directive\n",
    "\n",
    "         ELSE IF(OMP_GET_THREAD_NUM() .EQ. 2) THEN\n",
    "         ! Loop until we see that FLAG reaches 2\n",
    "             FLAG_VAL = 0\n",
    "             DO WHILE(FLAG_VAL .LT. 2)\n",
    "!$OMP           ATOMIC READ\n",
    "                FLAG_VAL = FLAG\n",
    "             ENDDO\n",
    "!$OMP        FLUSH(DATA0, DATA1)\n",
    "\n",
    "         ! There is a data race here; data0 is 17 and data1 is undefined\n",
    "             PRINT *, 'Thread 2 awoken. DATA0 = ', DATA0,\n",
    "     &                ' and DATA1 = ', DATA1\n",
    "\n",
    "         ENDIF\n",
    "!$OMP  END PARALLEL\n",
    "       END\n",
    "\n"
   ]
  },
  {
   "cell_type": "markdown",
   "metadata": {},
   "source": [
    ""
   ]
  },
  {
   "cell_type": "markdown",
   "metadata": {},
   "source": [
    ""
   ]
  },
  {
   "cell_type": "markdown",
   "metadata": {},
   "source": [
    "The following two examples illustrate the ordering properties of  the  _flush_  operation. The  _flush_  operations are strong flushes  that are applied to the specified flush lists.  However, use of a `flush` construct with a list is extremely error  prone and users are strongly discouraged from attempting it.  In the codes the programmer intends to prevent simultaneous  execution of the protected section by the two threads. The atomic directives in the codes ensure that the accesses to shared variables  _a_  and  _b_  are atomic write and atomic read operations. Otherwise both examples would contain data races and automatically result  in unspecified behavior."
   ]
  },
  {
   "cell_type": "markdown",
   "metadata": {},
   "source": [
    "In the following incorrect code example, operations on variables  _a_  and  _b_  are not ordered with respect to each other. For instance, nothing prevents the compiler from moving the flush of  _b_  on thread 0 or the flush of  _a_  on thread 1 to a position completely after the protected section (assuming that the protected section on thread 0 does not reference  _b_  and the protected section on thread 1 does not reference  _a_ ). If either re-ordering happens, both threads can simultaneously execute the protected section. Any shared data accessed in the protected section is not guaranteed to  be current or consistent during or after the protected section."
   ]
  },
  {
   "cell_type": "markdown",
   "metadata": {},
   "source": [
    ""
   ]
  },
  {
   "cell_type": "code",
   "execution_count": null,
   "metadata": {},
   "outputs": [],
   "source": [
    "//%compiler: clang\n",
 "//%cflags: -fopenmp\n",
 "\n",
    "/*\n",
    "* name: mem_model.4a\n",
    "* type: C\n",
    "* version: omp_3.1\n",
    "*/\n",
    "#include <omp.h>\n",
    "\n",
    "void flush_incorrect()\n",
    "{\n",
    "  int a, b;\n",
    "  a = b = 0;\n",
    "  #pragma omp parallel num_threads(2)\n",
    "  {\n",
    "    int myid = omp_get_thread_num();\n",
    "    int tmp;\n",
    "\n",
    "    if ( myid == 0 ) {        // thread 0\n",
    "      #pragma omp atomic write\n",
    "        b = 1;\n",
    "      #pragma omp flush(b)    // flushes are not ordered\n",
    "      #pragma omp flush(a)    // compiler may move them around\n",
    "      #pragma omp atomic read\n",
    "        tmp = a;\n",
    "    }\n",
    "    else {                    // thread 1\n",
    "      #pragma omp atomic write\n",
    "        a = 1;\n",
    "      #pragma omp flush(a)    // flushes are not ordered\n",
    "      #pragma omp flush(b)    // compiler may move them around\n",
    "      #pragma omp atomic read\n",
    "        tmp = b;\n",
    "    }\n",
    "    if ( tmp == 0 ) {         // exclusive access not guaranteed\n",
    "      /* protected section */\n",
    "    }\n",
    "  }\n",
    "}\n",
    "\n"
   ]
  },
  {
   "cell_type": "markdown",
   "metadata": {},
   "source": [
    ""
   ]
  },
  {
   "cell_type": "code",
   "execution_count": null,
   "metadata": {},
   "outputs": [],
   "source": [
    "\n",
    "! name: mem_model.4a\n",
    "! type: F-free\n",
    "! version: omp_3.1\n",
    "subroutine flush_incorrect\n",
    "  use omp_lib\n",
    "  implicit none\n",
    "  integer a, b, tmp\n",
    "  integer myid\n",
    "\n",
    "  a = 0; b = 0\n",
    "  !$omp parallel private(myid,tmp) num_threads(2)\n",
    "    myid = omp_get_thread_num()\n",
    "\n",
    "    if ( myid == 0 ) then     ! thread 0\n",
    "      !$omp atomic write\n",
    "        b = 1\n",
    "      !$omp flush(b)          ! flushes are not ordered\n",
    "      !$omp flush(a)          ! compiler may move them around\n",
    "      !$omp atomic read\n",
    "        tmp = a\n",
    "    else                      ! thread 1\n",
    "      !$omp atomic write\n",
    "        a = 1\n",
    "      !$omp flush(a)          ! flushes are not ordered\n",
    "      !$omp flush(b)          ! compiler may move them around\n",
    "      !$omp atomic read\n",
    "        tmp = b\n",
    "    endif\n",
    "    if ( tmp == 0 ) then      ! exclusive access not guaranteed\n",
    "      !! protected section\n",
    "    endif\n",
    "  !$omp end parallel\n",
    "end subroutine\n",
    "\n"
   ]
  },
  {
   "cell_type": "markdown",
   "metadata": {},
   "source": [
    ""
   ]
  },
  {
   "cell_type": "markdown",
   "metadata": {},
   "source": [
    ""
   ]
  },
  {
   "cell_type": "markdown",
   "metadata": {},
   "source": [
    "The following code example correctly ensures that the protected section is executed by only one thread at a time. Execution of the protected section by neither thread is considered correct in this example. This occurs if both flushes complete prior to either thread executing its `if` statement for the protected section. The compiler is prohibited from moving the flush at all for either thread, ensuring that the respective assignment is complete and the data is flushed before the `if` statement is executed."
   ]
  },
  {
   "cell_type": "markdown",
   "metadata": {},
   "source": [
    ""
   ]
  },
  {
   "cell_type": "code",
   "execution_count": null,
   "metadata": {},
   "outputs": [],
   "source": [
    "//%compiler: clang\n",
 "//%cflags: -fopenmp\n",
 "\n",
    "/*\n",
    "* name: mem_model.4b\n",
    "* type: C\n",
    "* version: omp_3.1\n",
    "*/\n",
    "#include <omp.h>\n",
    "\n",
    "void flush_correct()\n",
    "{\n",
    "  int a, b;\n",
    "  a = b = 0;\n",
    "  #pragma omp parallel num_threads(2)\n",
    "  {\n",
    "    int myid = omp_get_thread_num();\n",
    "    int tmp;\n",
    "\n",
    "    if ( myid == 0 ) {          // thread 0\n",
    "      #pragma omp atomic write\n",
    "        b = 1;\n",
    "      #pragma omp flush(a,b)    // flushes are ordered\n",
    "      #pragma omp atomic read\n",
    "        tmp = a;\n",
    "    }\n",
    "    else {                      // thread 1\n",
    "      #pragma omp atomic write\n",
    "        a = 1;\n",
    "      #pragma omp flush(a,b)    // flushes are ordered\n",
    "      #pragma omp atomic read\n",
    "        tmp = b;\n",
    "    }\n",
    "    if ( tmp == 0 ) {           // access by single thread\n",
    "      /* protected section */\n",
    "    }\n",
    "  }\n",
    "}\n",
    "\n"
   ]
  },
  {
   "cell_type": "markdown",
   "metadata": {},
   "source": [
    ""
   ]
  },
  {
   "cell_type": "code",
   "execution_count": null,
   "metadata": {},
   "outputs": [],
   "source": [
    "\n",
    "! name: mem_model.4b\n",
    "! type: F-free\n",
    "! version: omp_3.1\n",
    "subroutine flush_correct\n",
    "  use omp_lib\n",
    "  implicit none\n",
    "  integer a, b, tmp\n",
    "  integer myid\n",
    "\n",
    "  a = 0; b = 0\n",
    "  !$omp parallel private(myid,tmp) num_threads(2)\n",
    "    myid = omp_get_thread_num()\n",
    "\n",
    "    if ( myid == 0 ) then     ! thread 0\n",
    "      !$omp atomic write\n",
    "        b = 1\n",
    "      !$omp flush(a,b)        ! flushes are ordered\n",
    "      !$omp atomic read\n",
    "        tmp = a\n",
    "    else                      ! thread 1\n",
    "      !$omp atomic write\n",
    "        a = 1\n",
    "      !$omp flush(a,b)        ! flushes are ordered\n",
    "      !$omp atomic read\n",
    "        tmp = b\n",
    "    endif\n",
    "    if ( tmp == 0 ) then      ! access by single thread\n",
    "      !! protected section\n",
    "    endif\n",
    "  !$omp end parallel\n",
    "end subroutine\n",
    "\n"
   ]
  },
  {
   "cell_type": "markdown",
   "metadata": {},
   "source": [
    ""
   ]
  },
  {
   "cell_type": "markdown",
   "metadata": {},
   "source": [
    "../../memory_model/mem_model.tex"
   ]
  },
  {
   "cell_type": "markdown",
   "metadata": {},
   "source": [
    ""
   ]
  },
  {
   "cell_type": "markdown",
   "metadata": {},
   "source": [
    "## Memory Allocators"
   ]
  },
  {
   "cell_type": "markdown",
   "metadata": {},
   "source": [
    ""
   ]
  },
  {
   "cell_type": "markdown",
   "metadata": {},
   "source": [
    "\index{memory allocators!allocator traits} \index{memory allocators!memory space} \index{memory allocators!omp_alloc routine@\scode{omp_alloc} routine} \index{memory allocators!allocators directive@\scode{allocators} directive}"
   ]
  },
  {
   "cell_type": "markdown",
   "metadata": {},
   "source": [
    "\index{omp_alloc routine@\scode{omp_alloc} routine} \index{routines!omp_alloc@\scode{omp_alloc}}"
   ]
  },
  {
   "cell_type": "markdown",
   "metadata": {},
   "source": [
    "\index{directives!allocators@`allocators`} \index{allocators directive@`allocators` directive} \index{allocators directive@`allocators` directive!allocator clause@`allocator` clause}"
   ]
  },
  {
   "cell_type": "markdown",
   "metadata": {},
   "source": [
    "\index{clauses!allocator@`allocator`} \index{allocator clause@`allocator` clause} \index{omp_init_allocator routine@\scode{omp_init_allocator} routine} \index{routines!omp_init_allocator@\scode{omp_init_allocator}}"
   ]
  },
  {
   "cell_type": "markdown",
   "metadata": {},
   "source": [
    "OpenMP memory allocators can be used to allocate memory with specific allocator traits.  In the following example an OpenMP allocator is used to specify an alignment for arrays  _x_  and  _y_ . The general approach for attributing traits to variables allocated by OpenMP is to create or specify a pre-defined  _memory space_ , create an array of  _traits_ , and then form an  _allocator_  from the memory space and trait. The allocator is then specified in an OpenMP allocation (using an API  _omp_alloc()_  function for C/C++ code and an `allocators` directive for Fortran code in the \splc{allocators.1} example)."
   ]
  },
  {
   "cell_type": "markdown",
   "metadata": {},
   "source": [
    "In the example below the  _xy_memspace_  variable is declared and assigned the default memory space ( _omp_default_mem_space_ ). Next, an array for  _traits_  is created. Since only one trait will be used, the array size is  _1_ . A trait is a structure in C/C++ and a derived type in Fortran, containing 2 components: a key and a corresponding value (key-value pair). The trait key used here is  _omp_atk_alignment_  (an enum for C/C++ and a parameter for Fortran) and the trait value of 64 is specified in the  _xy_traits_  declaration. These declarations are followed by a call to the  _omp_init_allocator()_  function to combine the memory space ( _xy_memspace_ ) and the traits ( _xy_traits_ ) to form an allocator ( _xy_alloc_ )."
   ]
  },
  {
   "cell_type": "markdown",
   "metadata": {},
   "source": [
    ""
   ]
  },
  {
   "cell_type": "markdown",
   "metadata": {},
   "source": [
    "In the C/C++ code the API   _omp_allocate()_  function is used to allocate space, similar to  _malloc_ , except that the allocator is specified as the second argument. In Fortran an `allocators` directive is used to specify an allocator for the following Fortran  _allocate_  statement. A variable list in the \scode{allocate} clause may be supplied if the allocator is to be applied to a subset of variables in the Fortran allocate statement. Here, the  _xy_alloc_  allocator is specified in the modifier of the `allocator` clause, and the set of all variables used in the  _allocate_  statement is specified in the list."
   ]
  },
  {
   "cell_type": "markdown",
   "metadata": {},
   "source": [
    ""
   ]
  },
  {
   "cell_type": "markdown",
   "metadata": {},
   "source": [
    ""
   ]
  },
  {
   "cell_type": "markdown",
   "metadata": {},
   "source": [
    ""
   ]
  },
  {
   "cell_type": "code",
   "execution_count": null,
   "metadata": {},
   "outputs": [],
   "source": [
    "//%compiler: clang\n",
 "//%cflags: -fopenmp\n",
 "\n",
    "/*\n",
    "* name: allocators.1\n",
    "* type: C\n",
    "* version: omp_5.0\n",
    "*/\n",
    "#include    <omp.h>\n",
    "#include  <stdio.h>\n",
    "#include <stdlib.h>\n",
    "#include <stdint.h>\n",
    "#define N 1000\n",
    "\n",
    "int main()\n",
    "{\n",
    "   float  *x, *y;\n",
    "   float s=2.0;\n",
    "\n",
    "   omp_memspace_handle_t  xy_memspace = omp_default_mem_space;\n",
    "   omp_alloctrait_t       xy_traits[1]= {omp_atk_alignment, 64};\n",
    "   omp_allocator_handle_t xy_alloc    =\n",
    "                           omp_init_allocator(xy_memspace,1,xy_traits);\n",
    "\n",
    "\n",
    "   x=(float *)omp_alloc(N*sizeof(float), xy_alloc);\n",
    "   y=(float *)omp_alloc(N*sizeof(float), xy_alloc);\n",
    "\n",
    "   if( ((intptr_t)(y))%64 != 0 || ((intptr_t)(x))%64 != 0 )\n",
    "   { printf(\"ERROR: x|y not 64-Byte aligned\\n\"); exit(1); }\n",
    "\n",
    "   #pragma omp parallel\n",
    "   {\n",
    "      #pragma omp for simd simdlen(16) aligned(x,y:64)\n",
    "      for(int i=0; i<N; i++){ x[i]=i+1; y[i]=i+1; } // initialize\n",
    "\n",
    "      #pragma omp for simd simdlen(16) aligned(x,y:64)\n",
    "      for(int i=0; i<N; i++) y[i] = s*x[i] + y[i];\n",
    "    }\n",
    "\n",
    "   printf(\"y[0],y[N-1]: %5.0f %5.0f\\n\",y[0],y[N-1]);\n",
    "   // output y[0],y[N-1]: 3 3000\n",
    "\n",
    "   omp_free(x, xy_alloc);\n",
    "   omp_free(y, xy_alloc);\n",
    "   omp_destroy_allocator(xy_alloc);\n",
    "\n",
    "   return 0;\n",
    "}\n",
    "\n"
   ]
  },
  {
   "cell_type": "markdown",
   "metadata": {},
   "source": [
    ""
   ]
  },
  {
   "cell_type": "code",
   "execution_count": null,
   "metadata": {},
   "outputs": [],
   "source": [
    "\n",
    "! name: allocators.1\n",
    "! type: F-free\n",
    "! version: omp_5.2\n",
    "program main\n",
    " use omp_lib\n",
    "\n",
    " integer, parameter :: N=1000\n",
    " real, allocatable  :: x(:),y(:)\n",
    " real               :: s = 2.0e0\n",
    " integer            :: i\n",
    "\n",
    " integer(omp_memspace_handle_kind ) :: xy_memspace = omp_default_mem_space\n",
    " type(   omp_alloctrait           ) :: xy_traits(1) = &\n",
    "                                    [omp_alloctrait(omp_atk_alignment,64)]\n",
    " integer(omp_allocator_handle_kind) :: xy_alloc\n",
    "\n",
    "   xy_alloc   =    omp_init_allocator(   xy_memspace, 1, xy_traits)\n",
    "\n",
    "   !$omp allocators allocate(allocator(xy_alloc): x, y)\n",
    "   allocate(x(N),y(N))\n",
    "                         !! loc is non-standard, but found everywhere\n",
    "                         !! remove these lines if not available\n",
    "   if(modulo(loc(x),64) /= 0 .and. modulo(loc(y),64) /=0 ) then\n",
    "      print*,\"ERROR: x|y not 64-byte aligned\"; stop\n",
    "   endif\n",
    "\n",
    "   !$omp parallel\n",
    "\n",
    "      !$omp do simd simdlen(16) aligned(x,y: 64) !! 64B aligned\n",
    "      do i=1,N  !! initialize\n",
    "        x(i)=i\n",
    "        y(i)=i\n",
    "      end do\n",
    "\n",
    "      !$omp do simd simdlen(16) aligned(x,y: 64) !! 64B aligned\n",
    "      do i = 1,N\n",
    "         y(i) = s*x(i) + y(i)\n",
    "      end do\n",
    "\n",
    "   !$omp end parallel\n",
    "\n",
    "   write(*,'(\"y(1),y(N):\",2f6.0)') y(1),y(N) !!output: y... 3. 3000.\n",
    "\n",
    "   deallocate(x,y)\n",
    "   call omp_destroy_allocator(xy_alloc)\n",
    "\n",
    "end program\n",
    "\n",
    "\n"
   ]
  },
  {
   "cell_type": "markdown",
   "metadata": {},
   "source": [
    ""
   ]
  },
  {
   "cell_type": "markdown",
   "metadata": {},
   "source": [
    ""
   ]
  },
  {
   "cell_type": "markdown",
   "metadata": {},
   "source": [
    "When using the \scode{allocators} construct with optional clauses in Fortran code,  users should be aware of the behavior of a reallocation."
   ]
  },
  {
   "cell_type": "markdown",
   "metadata": {},
   "source": [
    "In the following example, the \splc{a} variable is allocated with 64-byte alignment through the \scode{align} clause of the \scode{allocators} construct. The alignment of the newly allocated object, \splc{a}, in the (reallocation) assignment \splc{a = b} will not be reallocated with the 64-byte alignment, but with the 32-byte alignment prescribed by the trait of the \splc{my_alloctr}  allocator. It is best to avoid this problem by constructing and using an allocator (not the \scode{align} clause) with the required alignment in  the \scode{allocators} construct. Note that in the subsequent deallocation of \splc{a} the deallocation must precede the destruction of the allocator used in the allocation of \splc{a}."
   ]
  },
  {
   "cell_type": "markdown",
   "metadata": {},
   "source": [
    ""
   ]
  },
  {
   "cell_type": "code",
   "execution_count": null,
   "metadata": {},
   "outputs": [],
   "source": [
    "\n",
    "! name: allocators.2\n",
    "! type: F-free\n",
    "! version: omp_5.2\n",
    "program main\n",
    "   use omp_lib\n",
    "   implicit none\n",
    "\n",
    "   integer, parameter :: align_32=32\n",
    "   real, allocatable  :: a(:,:)\n",
    "   real               :: b(10,10)\n",
    "\n",
    "   integer(omp_memspace_handle_kind ) :: my_memspace\n",
    "   type(   omp_alloctrait           ) :: my_traits(1)\n",
    "   integer(omp_allocator_handle_kind) :: my_alloctr\n",
    "\n",
    "   my_memspace  =  omp_default_mem_space\n",
    "   my_traits    = [omp_alloctrait(omp_atk_alignment,align_32)]\n",
    "!                                     allocator alignment ^^\n",
    "   my_alloctr   =  omp_init_allocator(my_memspace, 1, my_traits)\n",
    "\n",
    "   !$omp allocators allocate(allocator(my_alloctr), align(64): a)\n",
    "   allocate(a(5,5)) ! 64-byte aligned by clause <---------^^\n",
    "\n",
    "   a = b  ! reallocation occurs with 32-byte alignment\n",
    "          ! uses just my_alloctr (32-byte align from allocator)\n",
    "\n",
    "   deallocate(a)  ! Uses my_alloctr in deallocation.\n",
    "   call omp_destroy_allocator(my_alloctr)\n",
    "\n",
    "end program main\n",
    "\n"
   ]
  },
  {
   "cell_type": "markdown",
   "metadata": {},
   "source": [
    ""
   ]
  },
  {
   "cell_type": "markdown",
   "metadata": {},
   "source": [
    "When creating and using an \scode{allocators} construct within a Fortran procedure for allocating storage (and subsequently freeing the allocator storage with an  \scode{omp_destroy_allocator} construct), users should be aware of the necessity of using an explicit Fortran deallocation instead of relying on auto-deallocation."
   ]
  },
  {
   "cell_type": "markdown",
   "metadata": {},
   "source": [
    "In the following example, a user-defined allocator is used in the allocation of the \splc{c} variable, and then the allocator is destroyed. Auto-deallocation at the end of the \splc{broken_auto_deallocation} procedure will fail without the allocator, hence an explicit deallocation should be used  (before the \scode{omp_destroy_allocator} construct). Note that an allocator may be specified directly in the \scode{allocate} clause without using the \scode{allocator} complex modifier, so long as no other modifier  is specified in the clause."
   ]
  },
  {
   "cell_type": "markdown",
   "metadata": {},
   "source": [
    ""
   ]
  },
  {
   "cell_type": "code",
   "execution_count": null,
   "metadata": {},
   "outputs": [],
   "source": [
    "\n",
    "! name: allocators.3\n",
    "! type: F-free\n",
    "! version: omp_5.2\n",
    "subroutine broken_auto_deallocation\n",
    "   use omp_lib\n",
    "   implicit none\n",
    "   integer, parameter :: align_32=32\n",
    "   real, allocatable  :: c(:)\n",
    "\n",
    "   integer(omp_memspace_handle_kind ) :: my_memspace\n",
    "   type(   omp_alloctrait           ) :: my_traits(1)\n",
    "   integer(omp_allocator_handle_kind) :: my_alloctr\n",
    "\n",
    "   my_memspace  =  omp_default_mem_space\n",
    "   my_traits    = [omp_alloctrait(omp_atk_alignment,align_32)]\n",
    "   my_alloctr   =  omp_init_allocator(my_memspace, 1, my_traits)\n",
    "\n",
    "   !$omp allocators allocate(my_alloctr: c)\n",
    "   allocate(c(100))\n",
    "\n",
    "   !...\n",
    "\n",
    "   call omp_destroy_allocator(my_alloctr)\n",
    "   ! Auto-deallocation of c fails,\n",
    "   ! because my_alloctr is no longer available.\n",
    "\n",
    "end subroutine\n",
    "\n"
   ]
  },
  {
   "cell_type": "markdown",
   "metadata": {},
   "source": [
    ""
   ]
  },
  {
   "cell_type": "markdown",
   "metadata": {},
   "source": [
    "\index{directives!allocate@`allocate`} \index{allocate directive@`allocate` directive} \index{allocate directive@`allocate` directive!allocator clause@`allocator` clause}"
   ]
  },
  {
   "cell_type": "markdown",
   "metadata": {},
   "source": [
    "The \scode{allocate} directive is a convenient way to apply an OpenMP  allocator to the allocation of declared variables."
   ]
  },
  {
   "cell_type": "markdown",
   "metadata": {},
   "source": [
    "This example illustrates the allocation of specific types of storage in a program  for use in libraries, privatized variables, and with offloading."
   ]
  },
  {
   "cell_type": "markdown",
   "metadata": {},
   "source": [
    "Two groups of variables, { _v1, v2_ } and { _v3, v4_ }, are used with the \scode{allocate}  directive, and the { _v5, v6_ } pair is used with the \scode{allocate} clause.  Here we explicitly use predefined allocators \scode{omp_high_bw_mem_alloc} and \scode{omp_default_mem_alloc} with the \scode{allocate} directive in CASE 1. Similar effects are achieved for private variables of a task by using the \scode{allocate} clause, as shown in CASE 2."
   ]
  },
  {
   "cell_type": "markdown",
   "metadata": {},
   "source": [
    "Note, when the \scode{allocate} directive does not specify an \scode{allocator} clause, an implementation-defined default, stored in the \splc{def-allocator-var} ICV, is used (not illustrated here). Users can set and get the default allocator with the \scode{omp_set_default_allocator} and \scode{omp_get_default_allocator} API routines."
   ]
  },
  {
   "cell_type": "markdown",
   "metadata": {},
   "source": [
    ""
   ]
  },
  {
   "cell_type": "code",
   "execution_count": null,
   "metadata": {},
   "outputs": [],
   "source": [
    "//%compiler: clang\n",
 "//%cflags: -fopenmp\n",
 "\n",
    "/*\n",
    "* name: allocators.4\n",
    "* type: C\n",
    "* version: omp_5.1\n",
    "*/\n",
    "#include <omp.h>\n",
    "#include <stdio.h>\n",
    "\n",
    "void my_init(double *,double *,int, double *,double *,int, \\\n",
    "             double *,double *,int);\n",
    "void lib_saxpy(double *,double *,double,int);\n",
    "void my_gather(double *,double *,int);\n",
    "\n",
    "#pragma omp begin declare target\n",
    "void my_gpu_vxv(double *, double *, int);\n",
    "#pragma omp end  declare target\n",
    "\n",
    "#define Nhb 1024*1024      // high bandwith\n",
    "#define Nbg 1024*1024*64   // big memory, default\n",
    "#define Nll 1024*1024      // low latency memory\n",
    "\n",
    "void test_allocate() {\n",
    "\n",
    "  double  v1[Nhb], v2[Nhb];\n",
    "  double  v3[Nbg], v4[Nbg];\n",
    "  double  v5[Nll], v6[Nll];\n",
    "\n",
    "/*** CASE 1: USING ALLOCATE DIRECTIVE ***/\n",
    "  #pragma omp allocate(v1,v2) allocator(omp_high_bw_mem_alloc)\n",
    "  #pragma omp allocate(v3,v4) allocator(omp_default_mem_alloc)\n",
    "\n",
    "  my_init(v1,v2,Nhb, v3,v4,Nbg, v5,v6,Nll);\n",
    "\n",
    "  lib_saxpy(v1,v2,5.0,Nhb);\n",
    "\n",
    "  #pragma omp target map(to: v3[0:Nbg], v4[0:Nbg]) map(from:v3[0:Nbg])\n",
    "  my_gpu_vxv(v3,v4,Nbg);\n",
    "\n",
    "/*** CASE 2: USING ALLOCATE CLAUSE ***/\n",
    "  #pragma omp task private(v5,v6) \\\n",
    "                   allocate(allocator(omp_low_lat_mem_alloc): v5,v6)\n",
    "  {\n",
    "    my_gather(v5,v6,Nll);\n",
    "  }\n",
    "\n",
    "}\n",
    "\n"
   ]
  },
  {
   "cell_type": "markdown",
   "metadata": {},
   "source": [
    ""
   ]
  },
  {
   "cell_type": "code",
   "execution_count": null,
   "metadata": {},
   "outputs": [],
   "source": [
    "\n",
    "! name: allocators.4\n",
    "! type: F-free\n",
    "! version: omp_5.1\n",
    "subroutine test_allocate\n",
    "   use omp_lib\n",
    "\n",
    "   interface\n",
    "     subroutine my_gpu_vxv(va,vb,n)\n",
    "     !$omp declare target\n",
    "     integer :: n\n",
    "     double precision  :: va(n), vb(n)\n",
    "     end subroutine\n",
    "   end interface\n",
    "\n",
    "   integer,parameter :: Nhb=1024*1024,   & !! high bandwith\n",
    "                        Nbg=1024*1024*64,& !! big memory, default\n",
    "                        Nll=1024*1024      !! low latency memory\n",
    "\n",
    "   double precision  ::  v1(Nhb), v2(Nhb)\n",
    "   double precision  ::  v3(Nbg), v4(Nbg)\n",
    "   double precision  ::  v5(Nll), v6(Nll)\n",
    "\n",
    " !*** CASE 1: USING ALLOCATE DIRECTIVE ***!\n",
    "   !$omp allocate(v1,v2) allocator(omp_high_bw_mem_alloc)\n",
    "   !$omp allocate(v3,v4) allocator(omp_default_mem_alloc)\n",
    "\n",
    "   call my_init(v1,v2,Nhb, v3,v4,Nbg, v5,v6,Nll)\n",
    "\n",
    "   call lib_saxpy(v1,v2,5.0,Nhb)\n",
    "\n",
    "   !$omp target map(to: v3, v4) map(from:v3)\n",
    "      call my_gpu_vxv(v3,v4,Nbg)\n",
    "   !$omp end target\n",
    "\n",
    " !*** CASE 2: USING ALLOCATE CLAUSE ***!\n",
    "   !$omp task private(v5,v6) &\n",
    "   !$omp&     allocate(allocator(omp_low_lat_mem_alloc): v5,v6)\n",
    "      call my_gather(v5,v6,Nll)\n",
    "   !$omp end task\n",
    "\n",
    "end subroutine test_allocate\n",
    "\n"
   ]
  },
  {
   "cell_type": "markdown",
   "metadata": {},
   "source": [
    "../../memory_model/allocators.tex"
   ]
  },
  {
   "cell_type": "markdown",
   "metadata": {},
   "source": [
    ""
   ]
  },
  {
   "cell_type": "markdown",
   "metadata": {},
   "source": [
    "## Race Conditions Caused by Implied Copies of Shared Variables in Fortran"
   ]
  },
  {
   "cell_type": "markdown",
   "metadata": {},
   "source": [
    "\index{shared variables!race conditions}"
   ]
  },
  {
   "cell_type": "markdown",
   "metadata": {},
   "source": [
    "The following example contains a race condition, because the shared variable, which  is an array section, is passed as an actual argument to a routine that has an assumed-size  array as its dummy argument. The subroutine call passing an array section argument  may cause the compiler to copy the argument into a temporary location prior to  the call and copy from the temporary location into the original variable when the  subroutine returns. This copying would cause races in the `parallel` region."
   ]
  },
  {
   "cell_type": "markdown",
   "metadata": {},
   "source": [
    ""
   ]
  },
  {
   "cell_type": "code",
   "execution_count": null,
   "metadata": {},
   "outputs": [],
   "source": [
    "\n",
    "! name: fort_race.1\n",
    "! type: F-free\n",
    "SUBROUTINE SHARED_RACE\n",
    "\n",
    "  INCLUDE \"omp_lib.h\"      ! or USE OMP_LIB\n",
    "\n",
    "  REAL A(20)\n",
    "  INTEGER MYTHREAD\n",
    "\n",
    "!$OMP PARALLEL SHARED(A) PRIVATE(MYTHREAD)\n",
    "\n",
    "  MYTHREAD = OMP_GET_THREAD_NUM()\n",
    "  IF (MYTHREAD .EQ. 0) THEN\n",
    "     CALL SUB(A(1:10)) ! compiler may introduce writes to A(6:10)\n",
    "  ELSE\n",
    "     A(6:10) = 12\n",
    "  ENDIF\n",
    "\n",
    "!$OMP END PARALLEL\n",
    "\n",
    "END SUBROUTINE SHARED_RACE\n",
    "\n",
    "SUBROUTINE SUB(X)\n",
    "  REAL X(*)\n",
    "  X(1:5) = 4\n",
    "END SUBROUTINE SUB\n",
    "\n"
   ]
  },
  {
   "cell_type": "markdown",
   "metadata": {},
   "source": [
    ""
   ]
  },
  {
   "cell_type": "markdown",
   "metadata": {},
   "source": [
    ""
   ]
  },
  {
   "cell_type": "markdown",
   "metadata": {},
   "source": [
    "../../memory_model/fort_race.tex"
   ]
  },
  {
   "cell_type": "markdown",
   "metadata": {},
   "source": [
    ""
   ]
  }
 ],
 "metadata": {
  "kernelspec": {
   "display_name": "Native",
   "language": "native",
   "name": "native"
  },
  "language_info": {
   "file_extension": ".c",
   "mimetype": "text/plain",
   "name": "none"
  }
 },
 "nbformat": 4,
 "nbformat_minor": 2
}