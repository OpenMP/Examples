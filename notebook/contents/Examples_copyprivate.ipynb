{
 "cells": [
  {
   "cell_type": "markdown",
   "metadata": {},
   "source": [
    ""
   ]
  },
  {
   "cell_type": "markdown",
   "metadata": {},
   "source": [
    "## The `copyprivate` Clause"
   ]
  },
  {
   "cell_type": "markdown",
   "metadata": {},
   "source": [
    ""
   ]
  },
  {
   "cell_type": "markdown",
   "metadata": {},
   "source": [
    "The `copyprivate` clause can be used to broadcast values acquired by a single  thread directly to all instances of the private variables in the other threads.  In this example, if the routine is called from the sequential part, its behavior  is not affected by the presence of the directives. If it is called from a `parallel`  region, then the actual arguments with which `a` and `b` are associated  must be private."
   ]
  },
  {
   "cell_type": "markdown",
   "metadata": {},
   "source": [
    "The thread that executes the structured block associated with the `single`   construct broadcasts the values of the private variables `a`, `b`,  `x`, and  `y` from its implicit task's data environment to the data environments  of the other implicit tasks in the thread team. The broadcast completes before  any of the threads have left the barrier at the end of the construct."
   ]
  },
  {
   "cell_type": "markdown",
   "metadata": {},
   "source": [
    ""
   ]
  },
  {
   "cell_type": "code",
   "execution_count": null,
   "metadata": {},
   "outputs": [],
   "source": [
    "//%compiler: clang\n",
 "//%cflags: -fopenmp\n",
 "\n",
    "/*\n",
    "* name: copyprivate.1c\n",
    "* type: C\n",
    "*/\n",
    "#include <stdio.h>\n",
    "float x, y;\n",
    "#pragma omp threadprivate(x, y)\n",
    "\n",
    "void init(float a, float b ) {\n",
    "    #pragma omp single copyprivate(a,b,x,y)\n",
    "    {\n",
    "        scanf(\"%f %f %f %f\", &a, &b, &x, &y);\n",
    "    }\n",
    "}\n",
    "\n"
   ]
  },
  {
   "cell_type": "markdown",
   "metadata": {},
   "source": [
    ""
   ]
  },
  {
   "cell_type": "markdown",
   "metadata": {},
   "source": [
    ""
   ]
  },
  {
   "cell_type": "code",
   "execution_count": null,
   "metadata": {},
   "outputs": [],
   "source": [
    "\n",
    "! name: copyprivate.1f\n",
    "! type: F-fixed\n",
    "      SUBROUTINE INIT(A,B)\n",
    "      REAL A, B\n",
    "        COMMON /XY/ X,Y\n",
    "!$OMP   THREADPRIVATE (/XY/)\n",
    "\n",
    "!$OMP   SINGLE\n",
    "          READ (11) A,B,X,Y\n",
    "!$OMP   END SINGLE COPYPRIVATE (A,B,/XY/)\n",
    "\n",
    "      END SUBROUTINE INIT\n",
    "\n"
   ]
  },
  {
   "cell_type": "markdown",
   "metadata": {},
   "source": [
    ""
   ]
  },
  {
   "cell_type": "markdown",
   "metadata": {},
   "source": [
    "In this example, assume that the input must be performed by the master thread.  Since the `master` construct does not support the `copyprivate` clause,  it cannot broadcast the input value that is read. However, `copyprivate`  is used to broadcast an address where the input value is stored."
   ]
  },
  {
   "cell_type": "markdown",
   "metadata": {},
   "source": [
    ""
   ]
  },
  {
   "cell_type": "code",
   "execution_count": null,
   "metadata": {},
   "outputs": [],
   "source": [
    "//%compiler: clang\n",
 "//%cflags: -fopenmp\n",
 "\n",
    "/*\n",
    "* name: copyprivate.2c\n",
    "* type: C\n",
    "*/\n",
    "#include <stdio.h>\n",
    "#include <stdlib.h>\n",
    "\n",
    "float read_next( ) {\n",
    "  float * tmp;\n",
    "  float return_val;\n",
    "\n",
    "  #pragma omp single copyprivate(tmp)\n",
    "  {\n",
    "    tmp = (float *) malloc(sizeof(float));\n",
    "  }  /* copies the pointer only */\n",
    "\n",
    "\n",
    "  #pragma omp master\n",
    "  {\n",
    "    scanf(\"%f\", tmp);\n",
    "  }\n",
    "\n",
    "  #pragma omp barrier\n",
    "  return_val = *tmp;\n",
    "  #pragma omp barrier\n",
    "\n",
    "  #pragma omp single nowait\n",
    "  {\n",
    "    free(tmp);\n",
    "  }\n",
    "\n",
    "  return return_val;\n",
    "}\n",
    "\n"
   ]
  },
  {
   "cell_type": "markdown",
   "metadata": {},
   "source": [
    ""
   ]
  },
  {
   "cell_type": "markdown",
   "metadata": {},
   "source": [
    ""
   ]
  },
  {
   "cell_type": "code",
   "execution_count": null,
   "metadata": {},
   "outputs": [],
   "source": [
    "\n",
    "! name: copyprivate.2f\n",
    "! type: F-fixed\n",
    "        REAL FUNCTION READ_NEXT()\n",
    "        REAL, POINTER :: TMP\n",
    "\n",
    "!$OMP   SINGLE\n",
    "          ALLOCATE (TMP)\n",
    "!$OMP   END SINGLE COPYPRIVATE (TMP)  ! copies the pointer only\n",
    "\n",
    "!$OMP   MASTER\n",
    "          READ (11) TMP\n",
    "!$OMP   END MASTER\n",
    "\n",
    "!$OMP   BARRIER\n",
    "          READ_NEXT = TMP\n",
    "!$OMP   BARRIER\n",
    "\n",
    "!$OMP   SINGLE\n",
    "          DEALLOCATE (TMP)\n",
    "!$OMP   END SINGLE NOWAIT\n",
    "        END FUNCTION READ_NEXT\n",
    "\n"
   ]
  },
  {
   "cell_type": "markdown",
   "metadata": {},
   "source": [
    ""
   ]
  },
  {
   "cell_type": "markdown",
   "metadata": {},
   "source": [
    "Suppose that the number of lock variables required within a `parallel` region  cannot easily be determined prior to entering it. The `copyprivate` clause  can be used to provide access to shared lock variables that are allocated within  that `parallel` region."
   ]
  },
  {
   "cell_type": "markdown",
   "metadata": {},
   "source": [
    ""
   ]
  },
  {
   "cell_type": "code",
   "execution_count": null,
   "metadata": {},
   "outputs": [],
   "source": [
    "//%compiler: clang\n",
 "//%cflags: -fopenmp\n",
 "\n",
    "/*\n",
    "* name: copyprivate.3c\n",
    "* type: C\n",
    "*/\n",
    "#include <stdio.h>\n",
    "#include <stdlib.h>\n",
    "#include <omp.h>\n",
    "\n",
    "omp_lock_t *new_lock()\n",
    "{\n",
    "  omp_lock_t *lock_ptr;\n",
    "\n",
    "  #pragma omp single copyprivate(lock_ptr)\n",
    "  {\n",
    "    lock_ptr = (omp_lock_t *) malloc(sizeof(omp_lock_t));\n",
    "    omp_init_lock( lock_ptr );\n",
    "  }\n",
    "\n",
    "  return lock_ptr;\n",
    "}\n",
    "\n"
   ]
  },
  {
   "cell_type": "markdown",
   "metadata": {},
   "source": [
    ""
   ]
  },
  {
   "cell_type": "markdown",
   "metadata": {},
   "source": [
    ""
   ]
  },
  {
   "cell_type": "code",
   "execution_count": null,
   "metadata": {},
   "outputs": [],
   "source": [
    "\n",
    "! name: copyprivate.3f\n",
    "! type: F-fixed\n",
    "      FUNCTION NEW_LOCK()\n",
    "      USE OMP_LIB       ! or INCLUDE \"omp_lib.h\"\n",
    "        INTEGER(OMP_LOCK_KIND), POINTER :: NEW_LOCK\n",
    "\n",
    "!$OMP   SINGLE\n",
    "          ALLOCATE(NEW_LOCK)\n",
    "          CALL OMP_INIT_LOCK(NEW_LOCK)\n",
    "!$OMP   END SINGLE COPYPRIVATE(NEW_LOCK)\n",
    "      END FUNCTION NEW_LOCK\n",
    "\n"
   ]
  },
  {
   "cell_type": "markdown",
   "metadata": {},
   "source": [
    ""
   ]
  },
  {
   "cell_type": "markdown",
   "metadata": {},
   "source": [
    "Note that the effect of the `copyprivate` clause on a variable with the  `allocatable` attribute is different than on a variable with the `pointer`  attribute. The value of `A` is copied (as if by intrinsic assignment) and  the pointer `B` is copied (as if by pointer assignment) to the corresponding  list items in the other implicit tasks belonging to the `parallel` region."
   ]
  },
  {
   "cell_type": "markdown",
   "metadata": {},
   "source": [
    ""
   ]
  },
  {
   "cell_type": "code",
   "execution_count": null,
   "metadata": {},
   "outputs": [],
   "source": [
    "\n",
    "! name: copyprivate.4f\n",
    "! type: F-fixed\n",
    "      SUBROUTINE S(N)\n",
    "      INTEGER N\n",
    "\n",
    "        REAL, DIMENSION(:), ALLOCATABLE :: A\n",
    "        REAL, DIMENSION(:), POINTER :: B\n",
    "\n",
    "        ALLOCATE (A(N))\n",
    "!$OMP   SINGLE\n",
    "          ALLOCATE (B(N))\n",
    "          READ (11) A,B\n",
    "!$OMP   END SINGLE COPYPRIVATE(A,B)\n",
    "        ! Variable A is private and is\n",
    "        ! assigned the same value in each thread\n",
    "        ! Variable B is shared\n",
    "\n",
    "!$OMP   BARRIER\n",
    "!$OMP   SINGLE\n",
    "          DEALLOCATE (B)\n",
    "!$OMP   END SINGLE NOWAIT\n",
    "      END SUBROUTINE S\n",
    "\n"
   ]
  },
  {
   "cell_type": "markdown",
   "metadata": {},
   "source": [
    ""
   ]
  },
  {
   "cell_type": "markdown",
   "metadata": {},
   "source": [
    ""
   ]
  },
  {
   "cell_type": "markdown",
   "metadata": {},
   "source": [
    ""
   ]
  }
 ],
 "metadata": {
  "kernelspec": {
   "display_name": "Native",
   "language": "native",
   "name": "native"
  },
  "language_info": {
   "file_extension": ".c",
   "mimetype": "text/plain",
   "name": "none"
  }
 },
 "nbformat": 4,
 "nbformat_minor": 2
}