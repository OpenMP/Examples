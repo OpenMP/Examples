{
 "cells": [
  {
   "cell_type": "markdown",
   "metadata": {},
   "source": [
    ""
   ]
  },
  {
   "cell_type": "markdown",
   "metadata": {},
   "source": [
    "## The `taskloop` Construct"
   ]
  },
  {
   "cell_type": "markdown",
   "metadata": {},
   "source": [
    ""
   ]
  },
  {
   "cell_type": "markdown",
   "metadata": {},
   "source": [
    "The following example illustrates how to execute a long running task concurrently with tasks created with a `taskloop` directive for a loop having unbalanced amounts of work for its iterations."
   ]
  },
  {
   "cell_type": "markdown",
   "metadata": {},
   "source": [
    "The `grainsize` clause specifies that each task is to execute at least 500 iterations of the loop."
   ]
  },
  {
   "cell_type": "markdown",
   "metadata": {},
   "source": [
    "The `nogroup` clause removes the implicit taskgroup of the `taskloop` construct; the explicit `taskgroup` construct in the example ensures that the function is not exited before the long-running task and the loops have finished execution."
   ]
  },
  {
   "cell_type": "markdown",
   "metadata": {},
   "source": [
    ""
   ]
  },
  {
   "cell_type": "code",
   "execution_count": null,
   "metadata": {},
   "outputs": [],
   "source": [
    "//%compiler: clang\n",
 "//%cflags: -fopenmp\n",
 "\n",
    "/*\n",
    "* name: taskloop.c\n",
    "* type: C\n",
    "* version: omp_4.5\n",
    "*/\n",
    "void long_running_task(void);\n",
    "void loop_body(int i, int j);\n",
    "\n",
    "void parallel_work(void) {\n",
    "   int i, j;\n",
    "#pragma omp taskgroup\n",
    "   {\n",
    "#pragma omp task\n",
    "      long_running_task(); // can execute concurrently\n",
    "\n",
    "#pragma omp taskloop private(j) grainsize(500) nogroup\n",
    "      for (i = 0; i < 10000; i++) { // can execute concurrently\n",
    "         for (j = 0; j < i; j++) {\n",
    "            loop_body(i, j);\n",
    "         }\n",
    "      }\n",
    "   }\n",
    "}\n",
    "\n"
   ]
  },
  {
   "cell_type": "markdown",
   "metadata": {},
   "source": [
    ""
   ]
  },
  {
   "cell_type": "markdown",
   "metadata": {},
   "source": [
    ""
   ]
  },
  {
   "cell_type": "code",
   "execution_count": null,
   "metadata": {},
   "outputs": [],
   "source": [
    "\n",
    "! name: taskloop.1f\n",
    "! type: F-free\n",
    "! version:    omp_4.5\n",
    "subroutine parallel_work\n",
    "   integer i\n",
    "   integer j\n",
    "!$omp taskgroup\n",
    "\n",
    "!$omp task\n",
    "   call long_running_task()\n",
    "!$omp end task\n",
    "\n",
    "!$omp taskloop private(j) grainsize(500) nogroup\n",
    "   do i=1,10000\n",
    "      do j=1,i\n",
    "         call loop_body(i, j)\n",
    "      end do\n",
    "   end do\n",
    "!$omp end taskloop\n",
    "\n",
    "!$omp end taskgroup\n",
    "end subroutine\n",
    "\n"
   ]
  },
  {
   "cell_type": "markdown",
   "metadata": {},
   "source": [
    ""
   ]
  },
  {
   "cell_type": "markdown",
   "metadata": {},
   "source": [
    ""
   ]
  },
  {
   "cell_type": "markdown",
   "metadata": {},
   "source": [
    "Because a `taskloop` construct encloses a loop, it is often incorrectly  perceived as a worksharing construct (when it is directly nested in  a `parallel` region)."
   ]
  },
  {
   "cell_type": "markdown",
   "metadata": {},
   "source": [
    "While a worksharing construct distributes the loop iterations across all threads in a team, the entire loop of a `taskloop` construct is executed by every thread of the team."
   ]
  },
  {
   "cell_type": "markdown",
   "metadata": {},
   "source": [
    "In the example below the first taskloop occurs closely nested within  a `parallel` region and the entire loop is executed by each of the  _T_  threads;  hence the reduction sum is executed  _T_ * _N_  times."
   ]
  },
  {
   "cell_type": "markdown",
   "metadata": {},
   "source": [
    "The loop of the second taskloop is within a `single` region and is executed by a single thread so that only  _N_  reduction sums occur.  (The other  _N_ -1 threads of the `parallel` region will participate in executing the  tasks. This is the common use case for the `taskloop` construct.)"
   ]
  },
  {
   "cell_type": "markdown",
   "metadata": {},
   "source": [
    "In the example, the code thus prints `x1 = 16384` ( _T_ * _N_ ) and  `x2 = 1024` ( _N_ )."
   ]
  },
  {
   "cell_type": "markdown",
   "metadata": {},
   "source": [
    ""
   ]
  },
  {
   "cell_type": "code",
   "execution_count": null,
   "metadata": {},
   "outputs": [],
   "source": [
    "//%compiler: clang\n",
 "//%cflags: -fopenmp\n",
 "\n",
    "/*\n",
    "* name:   taskloop.2c\n",
    "* type:   C\n",
    "* version: omp_4.5\n",
    "*/\n",
    "#include <stdio.h>\n",
    "\n",
    "#define T 16\n",
    "#define N 1024\n",
    "\n",
    "void parallel_work() {\n",
    "    int x1 = 0, x2 = 0;\n",
    "\n",
    "    #pragma omp parallel shared(x1,x2) num_threads(T)\n",
    "    {\n",
    "        #pragma omp taskloop\n",
    "        for (int i = 0; i < N; ++i) {\n",
    "            #pragma omp atomic\n",
    "            x1++;          // executed T*N times\n",
    "        }\n",
    "\n",
    "        #pragma omp single\n",
    "        #pragma omp taskloop\n",
    "        for (int i = 0; i < N; ++i) {\n",
    "            #pragma omp atomic\n",
    "            x2++;          // executed N times\n",
    "        }\n",
    "    }\n",
    "\n",
    "    printf(\"x1 = %d, x2 = %d\\n\", x1, x2);\n",
    "}\n",
    "\n"
   ]
  },
  {
   "cell_type": "markdown",
   "metadata": {},
   "source": [
    ""
   ]
  },
  {
   "cell_type": "markdown",
   "metadata": {},
   "source": [
    ""
   ]
  },
  {
   "cell_type": "code",
   "execution_count": null,
   "metadata": {},
   "outputs": [],
   "source": [
    "\n",
    "! name:   taskloop.2f\n",
    "! type:   F-free\n",
    "! version: omp_4.5\n",
    "subroutine parallel_work\n",
    "    implicit none\n",
    "    integer :: x1, x2\n",
    "    integer :: i\n",
    "    integer, parameter :: T = 16\n",
    "    integer, parameter :: N = 1024\n",
    "\n",
    "    x1 = 0\n",
    "    x2 = 0\n",
    "    !$omp parallel shared(x1,x2) num_threads(T)\n",
    "    !$omp taskloop\n",
    "    do i = 1,N\n",
    "        !$omp atomic\n",
    "        x1 = x1 + 1     ! executed T*N times\n",
    "        !$omp end atomic\n",
    "    end do\n",
    "    !$omp end taskloop\n",
    "\n",
    "    !$omp single\n",
    "    !$omp taskloop\n",
    "    do i = 1,N\n",
    "        !$omp atomic\n",
    "        x2 = x2 + 1     ! executed N times\n",
    "        !$omp end atomic\n",
    "    end do\n",
    "    !$omp end taskloop\n",
    "    !$omp end single\n",
    "    !$omp end parallel\n",
    "\n",
    "    write (*,'(A,I0,A,I0)') 'x1 = ', x1, ', x2 = ',x2\n",
    "end subroutine\n",
    "\n"
   ]
  },
  {
   "cell_type": "markdown",
   "metadata": {},
   "source": [
    ""
   ]
  },
  {
   "cell_type": "markdown",
   "metadata": {},
   "source": [
    ""
   ]
  }
 ],
 "metadata": {
  "kernelspec": {
   "display_name": "Native",
   "language": "native",
   "name": "native"
  },
  "language_info": {
   "file_extension": ".c",
   "mimetype": "text/plain",
   "name": "none"
  }
 },
 "nbformat": 4,
 "nbformat_minor": 2
}