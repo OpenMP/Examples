{
 "cells": [
  {
   "cell_type": "markdown",
   "metadata": {},
   "source": [
    ""
   ]
  },
  {
   "cell_type": "markdown",
   "metadata": {},
   "source": [
    "### The `omp_init_lock_with_hint` Routine"
   ]
  },
  {
   "cell_type": "markdown",
   "metadata": {},
   "source": [
    ""
   ]
  },
  {
   "cell_type": "markdown",
   "metadata": {},
   "source": [
    "The following example demonstrates how to initialize an array of locks in a `parallel` region by using `omp_init_lock_with_hint`. Note, hints are combined with an `|` or `+` operator in C/C++ and a `+` operator in Fortran."
   ]
  },
  {
   "cell_type": "markdown",
   "metadata": {},
   "source": [
    ""
   ]
  },
  {
   "cell_type": "code",
   "execution_count": null,
   "metadata": {},
   "outputs": [],
   "source": [
    "//%compiler: clang\n",
 "//%cflags: -fopenmp\n",
 "\n",
    "/*\n",
    "* name: init_lock.1c\n",
    "* type: C++\n",
    "* version: omp_4.5\n",
    "*/\n",
    "#include <omp.h>\n",
    "\n",
    "omp_lock_t *new_locks()\n",
    "{\n",
    "  int i;\n",
    "  omp_lock_t *lock = new omp_lock_t[1000];\n",
    "\n",
    "  #pragma omp parallel for private(i)\n",
    "    for (i=0; i<1000; i++)\n",
    "    {\n",
    "      omp_init_lock_with_hint(&lock[i],\n",
    "        static_cast<omp_lock_hint_t>(omp_lock_hint_contended |\n",
    "                                     omp_lock_hint_speculative));\n",
    "    }\n",
    "    return lock;\n",
    "}\n",
    "\n"
   ]
  },
  {
   "cell_type": "markdown",
   "metadata": {},
   "source": [
    ""
   ]
  },
  {
   "cell_type": "markdown",
   "metadata": {},
   "source": [
    ""
   ]
  },
  {
   "cell_type": "code",
   "execution_count": null,
   "metadata": {},
   "outputs": [],
   "source": [
    "\n",
    "! name: init_lock.1f\n",
    "! type: F-fixed\n",
    "! version: omp_4.5\n",
    "      FUNCTION NEW_LOCKS()\n",
    "        USE OMP_LIB        ! or INCLUDE \"omp_lib.h\"\n",
    "        INTEGER(OMP_LOCK_KIND), DIMENSION(1000) :: NEW_LOCKS\n",
    "\n",
    "        INTEGER I\n",
    "\n",
    "!$OMP   PARALLEL DO PRIVATE(I)\n",
    "          DO I=1,1000\n",
    "            CALL OMP_INIT_LOCK_WITH_HINT(NEW_LOCKS(I),\n",
    "     &             OMP_LOCK_HINT_CONTENDED + OMP_LOCK_HINT_SPECULATIVE)\n",
    "          END DO\n",
    "!$OMP   END PARALLEL DO\n",
    "\n",
    "      END FUNCTION NEW_LOCKS\n",
    "\n"
   ]
  },
  {
   "cell_type": "markdown",
   "metadata": {},
   "source": [
    ""
   ]
  },
  {
   "cell_type": "markdown",
   "metadata": {},
   "source": [
    ""
   ]
  }
 ],
 "metadata": {
  "kernelspec": {
   "display_name": "Native",
   "language": "native",
   "name": "native"
  },
  "language_info": {
   "file_extension": ".c",
   "mimetype": "text/plain",
   "name": "none"
  }
 },
 "nbformat": 4,
 "nbformat_minor": 2
}