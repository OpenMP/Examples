{
 "cells": [
  {
   "cell_type": "markdown",
   "metadata": {},
   "source": [
    ""
   ]
  },
  {
   "cell_type": "markdown",
   "metadata": {},
   "source": [
    "## The `private` Clause"
   ]
  },
  {
   "cell_type": "markdown",
   "metadata": {},
   "source": [
    ""
   ]
  },
  {
   "cell_type": "markdown",
   "metadata": {},
   "source": [
    "In the following example, the values of original list items  _i_  and  _j_   are retained on exit from the `parallel` region, while the private list  items  _i_  and  _j_  are modified within the `parallel` construct."
   ]
  },
  {
   "cell_type": "markdown",
   "metadata": {},
   "source": [
    ""
   ]
  },
  {
   "cell_type": "code",
   "execution_count": null,
   "metadata": {},
   "outputs": [],
   "source": [
    "//%compiler: clang\n",
 "//%cflags: -fopenmp\n",
 "\n",
    "/*\n",
    "* name: private.1c\n",
    "* type: C\n",
    "*/\n",
    "#include <stdio.h>\n",
    "#include <assert.h>\n",
    "\n",
    "int main()\n",
    "{\n",
    "  int i, j;\n",
    "  int *ptr_i, *ptr_j;\n",
    "\n",
    "  i = 1;\n",
    "  j = 2;\n",
    "\n",
    "  ptr_i = &i;\n",
    "  ptr_j = &j;\n",
    "\n",
    "  #pragma omp parallel private(i) firstprivate(j)\n",
    "  {\n",
    "    i = 3;\n",
    "    j = j + 2;\n",
    "    assert (*ptr_i == 1 && *ptr_j == 2);\n",
    "  }\n",
    "\n",
    "  assert(i == 1 && j == 2);\n",
    "\n",
    "  return 0;\n",
    "}\n",
    "\n"
   ]
  },
  {
   "cell_type": "markdown",
   "metadata": {},
   "source": [
    ""
   ]
  },
  {
   "cell_type": "markdown",
   "metadata": {},
   "source": [
    ""
   ]
  },
  {
   "cell_type": "code",
   "execution_count": null,
   "metadata": {},
   "outputs": [],
   "source": [
    "\n",
    "! name: private.1f\n",
    "! type: F-fixed\n",
    "      PROGRAM PRIV_EXAMPLE\n",
    "        INTEGER I, J\n",
    "\n",
    "        I = 1\n",
    "        J = 2\n",
    "\n",
    "!$OMP   PARALLEL PRIVATE(I) FIRSTPRIVATE(J)\n",
    "          I = 3\n",
    "          J = J + 2\n",
    "!$OMP   END PARALLEL\n",
    "\n",
    "        PRINT *, I, J  ! I .eq. 1 .and. J .eq. 2\n",
    "      END PROGRAM PRIV_EXAMPLE\n",
    "\n"
   ]
  },
  {
   "cell_type": "markdown",
   "metadata": {},
   "source": [
    ""
   ]
  },
  {
   "cell_type": "markdown",
   "metadata": {},
   "source": [
    "In the following example, all uses of the variable  _a_  within the loop construct  in the routine  _f_  refer to a private list item  _a_ , while it is  unspecified whether references to  _a_  in the routine  _g_  are to a  private list item or the original list item."
   ]
  },
  {
   "cell_type": "markdown",
   "metadata": {},
   "source": [
    ""
   ]
  },
  {
   "cell_type": "code",
   "execution_count": null,
   "metadata": {},
   "outputs": [],
   "source": [
    "//%compiler: clang\n",
 "//%cflags: -fopenmp\n",
 "\n",
    "/*\n",
    "* name: private.2c\n",
    "* type: C\n",
    "*/\n",
    "int a;\n",
    "\n",
    "void g(int k) {\n",
    "  a = k; /* Accessed in the region but outside of the construct;\n",
    "          * therefore unspecified whether original or private list\n",
    "          * item is modified. */\n",
    "}\n",
    "\n",
    "\n",
    "void f(int n) {\n",
    "  int a = 0;\n",
    "\n",
    "  #pragma omp parallel for private(a)\n",
    "   for (int i=1; i<n; i++) {\n",
    "       a = i;\n",
    "       g(a*2);     /* Private copy of \"a\" */\n",
    "    }\n",
    "}\n",
    "\n"
   ]
  },
  {
   "cell_type": "markdown",
   "metadata": {},
   "source": [
    ""
   ]
  },
  {
   "cell_type": "markdown",
   "metadata": {},
   "source": [
    ""
   ]
  },
  {
   "cell_type": "code",
   "execution_count": null,
   "metadata": {},
   "outputs": [],
   "source": [
    "\n",
    "! name: private.2f\n",
    "! type: F-fixed\n",
    "      MODULE PRIV_EXAMPLE2\n",
    "        REAL A\n",
    "\n",
    "        CONTAINS\n",
    "\n",
    "          SUBROUTINE G(K)\n",
    "            REAL K\n",
    "            A = K  ! Accessed in the region but outside of the\n",
    "                   ! construct; therefore unspecified whether\n",
    "                   ! original or private list item is modified.\n",
    "          END SUBROUTINE G\n",
    "\n",
    "          SUBROUTINE F(N)\n",
    "          INTEGER N\n",
    "          REAL A\n",
    "\n",
    "            INTEGER I\n",
    "!$OMP       PARALLEL DO PRIVATE(A)\n",
    "              DO I = 1,N\n",
    "                A = I\n",
    "                CALL G(A*2)\n",
    "              ENDDO\n",
    "!$OMP       END PARALLEL DO\n",
    "          END SUBROUTINE F\n",
    "\n",
    "      END MODULE PRIV_EXAMPLE2\n",
    "\n"
   ]
  },
  {
   "cell_type": "markdown",
   "metadata": {},
   "source": [
    ""
   ]
  },
  {
   "cell_type": "markdown",
   "metadata": {},
   "source": [
    "The following example demonstrates that a list item that appears in a `private`   clause in a `parallel` construct may also appear in a `private`   clause in an enclosed worksharing construct, which results in an additional private  copy."
   ]
  },
  {
   "cell_type": "markdown",
   "metadata": {},
   "source": [
    ""
   ]
  },
  {
   "cell_type": "code",
   "execution_count": null,
   "metadata": {},
   "outputs": [],
   "source": [
    "//%compiler: clang\n",
 "//%cflags: -fopenmp\n",
 "\n",
    "/*\n",
    "* name: private.3c\n",
    "* type: C\n",
    "*/\n",
    "#include <assert.h>\n",
    "void priv_example3()\n",
    "{\n",
    "  int i, a;\n",
    "\n",
    "  #pragma omp parallel private(a)\n",
    "  {\n",
    "     a = 1;\n",
    "    #pragma omp parallel for private(a)\n",
    "      for (i=0; i<10; i++)\n",
    "     {\n",
    "       a = 2;\n",
    "     }\n",
    "    assert(a == 1);\n",
    "  }\n",
    "}\n",
    "\n"
   ]
  },
  {
   "cell_type": "markdown",
   "metadata": {},
   "source": [
    ""
   ]
  },
  {
   "cell_type": "markdown",
   "metadata": {},
   "source": [
    ""
   ]
  },
  {
   "cell_type": "code",
   "execution_count": null,
   "metadata": {},
   "outputs": [],
   "source": [
    "\n",
    "! name: private.3f\n",
    "! type: F-fixed\n",
    "      SUBROUTINE PRIV_EXAMPLE3()\n",
    "        INTEGER I, A\n",
    "\n",
    "!$OMP   PARALLEL PRIVATE(A)\n",
    "         A = 1\n",
    "!$OMP     PARALLEL DO PRIVATE(A)\n",
    "          DO I = 1, 10\n",
    "            A = 2\n",
    "          END DO\n",
    "!$OMP     END PARALLEL DO\n",
    "        PRINT *, A ! Outer A still has value 1\n",
    "!$OMP   END PARALLEL\n",
    "      END SUBROUTINE PRIV_EXAMPLE3\n",
    "\n"
   ]
  },
  {
   "cell_type": "markdown",
   "metadata": {},
   "source": [
    ""
   ]
  },
  {
   "cell_type": "markdown",
   "metadata": {},
   "source": [
    ""
   ]
  },
  {
   "cell_type": "markdown",
   "metadata": {},
   "source": [
    ""
   ]
  }
 ],
 "metadata": {
  "kernelspec": {
   "display_name": "Native",
   "language": "native",
   "name": "native"
  },
  "language_info": {
   "file_extension": ".c",
   "mimetype": "text/plain",
   "name": "none"
  }
 },
 "nbformat": 4,
 "nbformat_minor": 2
}