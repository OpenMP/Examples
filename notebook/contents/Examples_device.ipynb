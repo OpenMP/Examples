{
 "cells": [
  {
   "cell_type": "markdown",
   "metadata": {},
   "source": [
    ""
   ]
  },
  {
   "cell_type": "markdown",
   "metadata": {},
   "source": [
    "## Device Routines"
   ]
  },
  {
   "cell_type": "markdown",
   "metadata": {},
   "source": [
    ""
   ]
  },
  {
   "cell_type": "markdown",
   "metadata": {},
   "source": [
    ""
   ]
  },
  {
   "cell_type": "markdown",
   "metadata": {},
   "source": [
    "### `omp_is_initial_device` Routine"
   ]
  },
  {
   "cell_type": "markdown",
   "metadata": {},
   "source": [
    ""
   ]
  },
  {
   "cell_type": "markdown",
   "metadata": {},
   "source": [
    "The following example shows how the `omp_is_initial_device` runtime library routine  can be used to query if a code is executing on the initial host device or on a  target device. The example then sets the number of threads in the `parallel`  region based on where the code is executing."
   ]
  },
  {
   "cell_type": "markdown",
   "metadata": {},
   "source": [
    ""
   ]
  },
  {
   "cell_type": "code",
   "execution_count": null,
   "metadata": {},
   "outputs": [],
   "source": [
    "//%compiler: clang\n",
 "//%cflags: -fopenmp\n",
 "\n",
    "/*\n",
    "* name: device.1c\n",
    "* type: C\n",
    "* version: omp_4.0\n",
    "*/\n",
    "#include <stdio.h>\n",
    "#include <omp.h>\n",
    "\n",
    "#pragma omp declare target\n",
    "void vec_mult(float *p, float *v1, float *v2, int N);\n",
    "extern float *p, *v1, *v2;\n",
    "extern int N;\n",
    "#pragma omp end declare target\n",
    "\n",
    "extern void init_vars(float *, float *, int);\n",
    "extern void output(float *, int);\n",
    "\n",
    "void foo()\n",
    "{\n",
    "   init_vars(v1, v2, N);\n",
    "   #pragma omp target device(42) map(p[:N], v1[:N], v2[:N])\n",
    "   {\n",
    "      vec_mult(p, v1, v2, N);\n",
    "   }\n",
    "   output(p, N);\n",
    "}\n",
    "\n",
    "void vec_mult(float *p, float *v1, float *v2, int N)\n",
    "{\n",
    "   int i;\n",
    "   int nthreads;\n",
    "   if (!omp_is_initial_device())\n",
    "   {\n",
    "      printf(\"1024 threads on target device\\n\");\n",
    "      nthreads = 1024;\n",
    "   }\n",
    "   else\n",
    "   {\n",
    "      printf(\"8 threads on initial device\\n\");\n",
    "      nthreads = 8;\n",
    "   }\n",
    "   #pragma omp parallel for private(i) num_threads(nthreads)\n",
    "   for (i=0; i<N; i++)\n",
    "     p[i] = v1[i] * v2[i];\n",
    "}\n",
    "\n"
   ]
  },
  {
   "cell_type": "markdown",
   "metadata": {},
   "source": [
    ""
   ]
  },
  {
   "cell_type": "markdown",
   "metadata": {},
   "source": [
    ""
   ]
  },
  {
   "cell_type": "code",
   "execution_count": null,
   "metadata": {},
   "outputs": [],
   "source": [
    "\n",
    "! name: device.1f\n",
    "! type: F-free\n",
    "! version:    omp_4.0\n",
    "module params\n",
    "   integer,parameter :: N=1024\n",
    "end module params\n",
    "module vmult\n",
    "contains\n",
    "   subroutine vec_mult(p, v1, v2, N)\n",
    "   use omp_lib, ONLY : omp_is_initial_device\n",
    "   !$omp declare target\n",
    "   real    :: p(N), v1(N), v2(N)\n",
    "   integer :: i, nthreads, N\n",
    "      if (.not. omp_is_initial_device()) then\n",
    "         print*, \"1024 threads on target device\"\n",
    "         nthreads = 1024\n",
    "      else\n",
    "         print*, \"8 threads on initial device\"\n",
    "         nthreads = 8\n",
    "      endif\n",
    "      !$omp parallel do private(i) num_threads(nthreads)\n",
    "      do i = 1,N\n",
    "        p(i) = v1(i) * v2(i)\n",
    "      end do\n",
    "   end subroutine vec_mult\n",
    "end module vmult\n",
    "program prog_vec_mult\n",
    "use params\n",
    "use vmult\n",
    "real :: p(N), v1(N), v2(N)\n",
    "   call init(v1,v2,N)\n",
    "   !$omp target device(42) map(p, v1, v2)\n",
    "      call vec_mult(p, v1, v2, N)\n",
    "   !$omp end target\n",
    "   call output(p, N)\n",
    "end program\n",
    "\n"
   ]
  },
  {
   "cell_type": "markdown",
   "metadata": {},
   "source": [
    ""
   ]
  },
  {
   "cell_type": "markdown",
   "metadata": {},
   "source": [
    ""
   ]
  },
  {
   "cell_type": "markdown",
   "metadata": {},
   "source": [
    "### `omp_get_num_devices` Routine"
   ]
  },
  {
   "cell_type": "markdown",
   "metadata": {},
   "source": [
    ""
   ]
  },
  {
   "cell_type": "markdown",
   "metadata": {},
   "source": [
    "The following example shows how the `omp_get_num_devices` runtime library routine  can be used to determine the number of devices."
   ]
  },
  {
   "cell_type": "markdown",
   "metadata": {},
   "source": [
    ""
   ]
  },
  {
   "cell_type": "code",
   "execution_count": null,
   "metadata": {},
   "outputs": [],
   "source": [
    "//%compiler: clang\n",
 "//%cflags: -fopenmp\n",
 "\n",
    "/*\n",
    "* name: device.2c\n",
    "* type: C\n",
    "* version: omp_4.0\n",
    "*/\n",
    "#include <omp.h>\n",
    "extern void init(float *, float *, int);\n",
    "extern void output(float *, int);\n",
    "void vec_mult(float *p, float *v1, float *v2, int N)\n",
    "{\n",
    "   int i;\n",
    "   init(v1, v2, N);\n",
    "   int ndev = omp_get_num_devices();\n",
    "   int do_offload = (ndev>0 && N>1000000);\n",
    "   #pragma omp target if(do_offload) map(to: v1[0:N], v2[:N]) map(from: p[0:N])\n",
    "   #pragma omp parallel for if(N>1000) private(i)\n",
    "   for (i=0; i<N; i++)\n",
    "     p[i] = v1[i] * v2[i];\n",
    "   output(p, N);\n",
    "}\n",
    "\n"
   ]
  },
  {
   "cell_type": "markdown",
   "metadata": {},
   "source": [
    ""
   ]
  },
  {
   "cell_type": "markdown",
   "metadata": {},
   "source": [
    ""
   ]
  },
  {
   "cell_type": "code",
   "execution_count": null,
   "metadata": {},
   "outputs": [],
   "source": [
    "\n",
    "! name: device.2f\n",
    "! type: F-free\n",
    "! version:    omp_4.0\n",
    "subroutine vec_mult(p, v1, v2, N)\n",
    "use omp_lib, ONLY : omp_get_num_devices\n",
    "real    :: p(N), v1(N), v2(N)\n",
    "integer :: N, i, ndev\n",
    "logical :: do_offload\n",
    "   call init(v1, v2, N)\n",
    "   ndev = omp_get_num_devices()\n",
    "   do_offload = (ndev>0) .and. (N>1000000)\n",
    "   !$omp target if(do_offload) map(to: v1, v2) map(from: p)\n",
    "   !$omp parallel do if(N>1000)\n",
    "      do i=1,N\n",
    "         p(i) = v1(i) * v2(i)\n",
    "      end do\n",
    "   !$omp end target\n",
    "   call output(p, N)\n",
    "end subroutine\n",
    "\n"
   ]
  },
  {
   "cell_type": "markdown",
   "metadata": {},
   "source": [
    ""
   ]
  },
  {
   "cell_type": "markdown",
   "metadata": {},
   "source": [
    ""
   ]
  },
  {
   "cell_type": "markdown",
   "metadata": {},
   "source": [
    "### `omp_set_default_device` and  `omp_get_default_device` Routines"
   ]
  },
  {
   "cell_type": "markdown",
   "metadata": {},
   "source": [
    ""
   ]
  },
  {
   "cell_type": "markdown",
   "metadata": {},
   "source": [
    "The following example shows how the `omp_set_default_device` and `omp_get_default_device`  runtime library routines can be used to set the default device and determine the  default device respectively."
   ]
  },
  {
   "cell_type": "markdown",
   "metadata": {},
   "source": [
    ""
   ]
  },
  {
   "cell_type": "code",
   "execution_count": null,
   "metadata": {},
   "outputs": [],
   "source": [
    "//%compiler: clang\n",
 "//%cflags: -fopenmp\n",
 "\n",
    "/*\n",
    "* name: device.3c\n",
    "* type: C\n",
    "* version: omp_4.0\n",
    "*/\n",
    "#include <omp.h>\n",
    "#include <stdio.h>\n",
    "void foo(void)\n",
    "{\n",
    "   int default_device = omp_get_default_device();\n",
    "   printf(\"Default device = %d\\n\", default_device);\n",
    "   omp_set_default_device(default_device+1);\n",
    "   if (omp_get_default_device() != default_device+1)\n",
    "      printf(\"Default device is still = %d\\n\", default_device);\n",
    "}\n",
    "\n"
   ]
  },
  {
   "cell_type": "markdown",
   "metadata": {},
   "source": [
    ""
   ]
  },
  {
   "cell_type": "markdown",
   "metadata": {},
   "source": [
    ""
   ]
  },
  {
   "cell_type": "code",
   "execution_count": null,
   "metadata": {},
   "outputs": [],
   "source": [
    "\n",
    "! name: device.3f\n",
    "! type: F-free\n",
    "! version:    omp_4.0\n",
    "program foo\n",
    "use omp_lib, ONLY : omp_get_default_device, omp_set_default_device\n",
    "integer :: old_default_device, new_default_device\n",
    "   old_default_device = omp_get_default_device()\n",
    "   print*, \"Default device = \", old_default_device\n",
    "   new_default_device = old_default_device + 1\n",
    "   call omp_set_default_device(new_default_device)\n",
    "   if (omp_get_default_device() == old_default_device) &\n",
    "      print*,\"Default device is STILL = \", old_default_device\n",
    "end program\n",
    "\n"
   ]
  },
  {
   "cell_type": "markdown",
   "metadata": {},
   "source": [
    ""
   ]
  },
  {
   "cell_type": "markdown",
   "metadata": {},
   "source": [
    ""
   ]
  },
  {
   "cell_type": "markdown",
   "metadata": {},
   "source": [
    ""
   ]
  },
  {
   "cell_type": "markdown",
   "metadata": {},
   "source": [
    "### Target Memory and Device Pointers Routines"
   ]
  },
  {
   "cell_type": "markdown",
   "metadata": {},
   "source": [
    ""
   ]
  },
  {
   "cell_type": "markdown",
   "metadata": {},
   "source": [
    "The following example shows how to create space on a device, transfer data to and from that space, and free the space, using API calls. The API calls directly execute allocation, copy and free operations on the device, without invoking any mapping through a `target` directive. The `omp_target_alloc` routine allocates space and returns a device pointer for referencing the space in the `omp_target_memcpy` API routine on the host. The `omp_target_free` routine frees the space on the device."
   ]
  },
  {
   "cell_type": "markdown",
   "metadata": {},
   "source": [
    "The example also illustrates how to access that space in a `target` region by exposing the device pointer in an `is_device_ptr` clause."
   ]
  },
  {
   "cell_type": "markdown",
   "metadata": {},
   "source": [
    "The example creates an array of cosine values on the default device, to be used on the host device. The function fails if a default device is not available."
   ]
  },
  {
   "cell_type": "markdown",
   "metadata": {},
   "source": [
    ""
   ]
  },
  {
   "cell_type": "code",
   "execution_count": null,
   "metadata": {},
   "outputs": [],
   "source": [
    "//%compiler: clang\n",
 "//%cflags: -fopenmp\n",
 "\n",
    "/*\n",
    "* name: device.6c\n",
    "* type: C\n",
    "* version: omp_4.5\n",
    "*/\n",
    "#include <stdio.h>\n",
    "#include <math.h>\n",
    "#include <stdlib.h>\n",
    "#include <omp.h>\n",
    "\n",
    "void get_dev_cos(double *mem, size_t s)\n",
    "{\n",
    "   int h, t, i;\n",
    "   double * mem_dev_cpy;\n",
    "   h = omp_get_initial_device();\n",
    "   t = omp_get_default_device();\n",
    "\n",
    "   if (omp_get_num_devices() < 1 || t < 0){\n",
    "      printf(\" ERROR: No device found.\\n\");\n",
    "      exit(1);\n",
    "   }\n",
    "\n",
    "   mem_dev_cpy = (double *)omp_target_alloc( sizeof(double) * s, t);\n",
    "   if(mem_dev_cpy == NULL){\n",
    "      printf(\" ERROR: No space left on device.\\n\");\n",
    "      exit(1);\n",
    "   }\n",
    "\n",
    "                          /* dst  src */\n",
    "   omp_target_memcpy(mem_dev_cpy, mem, sizeof(double)*s,\n",
    "                              0,    0,\n",
    "                              t,   h);\n",
    "\n",
    "   #pragma omp target is_device_ptr(mem_dev_cpy) device(t)\n",
    "   #pragma omp teams distribute parallel for\n",
    "     for(i=0;i<s;i++){ mem_dev_cpy[i] = cos((double)i); } /* init data */\n",
    "\n",
    "                   /* dst  src */\n",
    "    omp_target_memcpy(mem, mem_dev_cpy, sizeof(double)*s,\n",
    "                      0,             0,\n",
    "                      h,             t);\n",
    "\n",
    "    omp_target_free(mem_dev_cpy, t);\n",
    "}\n",
    "\n"
   ]
  },
  {
   "cell_type": "markdown",
   "metadata": {},
   "source": [
    ""
   ]
  },
  {
   "cell_type": "markdown",
   "metadata": {},
   "source": [
    ""
   ]
  }
 ],
 "metadata": {
  "kernelspec": {
   "display_name": "Native",
   "language": "native",
   "name": "native"
  },
  "language_info": {
   "file_extension": ".c",
   "mimetype": "text/plain",
   "name": "none"
  }
 },
 "nbformat": 4,
 "nbformat_minor": 2
}