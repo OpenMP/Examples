{
 "cells": [
  {
   "cell_type": "markdown",
   "metadata": {},
   "source": [
    ""
   ]
  },
  {
   "cell_type": "markdown",
   "metadata": {},
   "source": [
    "## `linear` Clause in Loop Constructs"
   ]
  },
  {
   "cell_type": "markdown",
   "metadata": {},
   "source": [
    ""
   ]
  },
  {
   "cell_type": "markdown",
   "metadata": {},
   "source": [
    "The following example shows the use of the `linear` clause in a loop  construct to allow the proper parallelization of a loop that contains  an induction variable ( _j_ ).  At the end of the execution of  the loop construct, the original variable  _j_  is updated with  the value  _N/2_  from the last iteration of the loop."
   ]
  },
  {
   "cell_type": "markdown",
   "metadata": {},
   "source": [
    ""
   ]
  },
  {
   "cell_type": "code",
   "execution_count": null,
   "metadata": {},
   "outputs": [],
   "source": [
    "//%compiler: clang\n",
 "//%cflags: -fopenmp\n",
 "\n",
    "/*\n",
    "* name: linear_in_loop.1c\n",
    "* type: C\n",
    "* version: omp_4.5\n",
    "*/\n",
    "#include <stdio.h>\n",
    "\n",
    "#define N 100\n",
    "int main(void)\n",
    "{\n",
    "   float a[N], b[N/2];\n",
    "   int i, j;\n",
    "\n",
    "   for ( i = 0; i < N; i++ )\n",
    "      a[i] = i + 1;\n",
    "\n",
    "   j = 0;\n",
    "   #pragma omp parallel\n",
    "   #pragma omp for linear(j:1)\n",
    "   for ( i = 0; i < N; i += 2 ) {\n",
    "      b[j] = a[i] * 2.0f;\n",
    "      j++;\n",
    "   }\n",
    "\n",
    "   printf( \"%d %f %f\\n\", j, b[0], b[j-1] );\n",
    "   /* print out: 50 2.0 198.0 */\n",
    "\n",
    "   return 0;\n",
    "}\n",
    "\n"
   ]
  },
  {
   "cell_type": "markdown",
   "metadata": {},
   "source": [
    ""
   ]
  },
  {
   "cell_type": "markdown",
   "metadata": {},
   "source": [
    ""
   ]
  },
  {
   "cell_type": "code",
   "execution_count": null,
   "metadata": {},
   "outputs": [],
   "source": [
    "\n",
    "! name: linear_in_loop.1f\n",
    "! type: F-free\n",
    "! version:    omp_4.5\n",
    "program linear_loop\n",
    "   implicit none\n",
    "   integer, parameter :: N = 100\n",
    "   real :: a(N), b(N/2)\n",
    "   integer :: i, j\n",
    "\n",
    "   do i = 1, N\n",
    "      a(i) = i\n",
    "   end do\n",
    "\n",
    "   j = 0\n",
    "   !$omp parallel\n",
    "   !$omp do linear(j:1)\n",
    "   do i = 1, N, 2\n",
    "      j = j + 1\n",
    "      b(j) = a(i) * 2.0\n",
    "   end do\n",
    "   !$omp end parallel\n",
    "\n",
    "   print *, j, b(1), b(j)\n",
    "   ! print out: 50 2.0 198.0\n",
    "\n",
    "end program\n",
    "\n"
   ]
  },
  {
   "cell_type": "markdown",
   "metadata": {},
   "source": [
    ""
   ]
  },
  {
   "cell_type": "markdown",
   "metadata": {},
   "source": [
    ""
   ]
  }
 ],
 "metadata": {
  "kernelspec": {
   "display_name": "Native",
   "language": "native",
   "name": "native"
  },
  "language_info": {
   "file_extension": ".c",
   "mimetype": "text/plain",
   "name": "none"
  }
 },
 "nbformat": 4,
 "nbformat_minor": 2
}