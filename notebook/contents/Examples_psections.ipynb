{
 "cells": [
  {
   "cell_type": "markdown",
   "metadata": {},
   "source": [
    ""
   ]
  },
  {
   "cell_type": "markdown",
   "metadata": {},
   "source": [
    "## The `parallel` `sections` Construct"
   ]
  },
  {
   "cell_type": "markdown",
   "metadata": {},
   "source": [
    ""
   ]
  },
  {
   "cell_type": "markdown",
   "metadata": {},
   "source": [
    "In the following example routines `XAXIS`, `YAXIS`, and `ZAXIS` can  be executed concurrently. The first `section` directive is optional. Note  that all `section` directives need to appear in the `parallel sections`  construct."
   ]
  },
  {
   "cell_type": "markdown",
   "metadata": {},
   "source": [
    ""
   ]
  },
  {
   "cell_type": "code",
   "execution_count": null,
   "metadata": {},
   "outputs": [],
   "source": [
    "//%compiler: clang\n",
 "//%cflags: -fopenmp\n",
 "\n",
    "/*\n",
    "* name: psections.1c\n",
    "* type: C\n",
    "*/\n",
    "void XAXIS();\n",
    "void YAXIS();\n",
    "void ZAXIS();\n",
    "\n",
    "void sect_example()\n",
    "{\n",
    "  #pragma omp parallel sections\n",
    "  {\n",
    "    #pragma omp section\n",
    "      XAXIS();\n",
    "\n",
    "    #pragma omp section\n",
    "      YAXIS();\n",
    "\n",
    "    #pragma omp section\n",
    "      ZAXIS();\n",
    "  }\n",
    "}\n",
    "\n"
   ]
  },
  {
   "cell_type": "markdown",
   "metadata": {},
   "source": [
    ""
   ]
  },
  {
   "cell_type": "markdown",
   "metadata": {},
   "source": [
    ""
   ]
  },
  {
   "cell_type": "code",
   "execution_count": null,
   "metadata": {},
   "outputs": [],
   "source": [
    "\n",
    "! name: psections.1f\n",
    "! type: F-fixed\n",
    "      SUBROUTINE SECT_EXAMPLE()\n",
    "!$OMP PARALLEL SECTIONS\n",
    "!$OMP SECTION\n",
    "        CALL XAXIS()\n",
    "!$OMP SECTION\n",
    "        CALL YAXIS()\n",
    "\n",
    "!$OMP SECTION\n",
    "        CALL ZAXIS()\n",
    "\n",
    "!$OMP END PARALLEL SECTIONS\n",
    "      END SUBROUTINE SECT_EXAMPLE\n",
    "\n"
   ]
  },
  {
   "cell_type": "markdown",
   "metadata": {},
   "source": [
    ""
   ]
  },
  {
   "cell_type": "markdown",
   "metadata": {},
   "source": [
    ""
   ]
  }
 ],
 "metadata": {
  "kernelspec": {
   "display_name": "Native",
   "language": "native",
   "name": "native"
  },
  "language_info": {
   "file_extension": ".c",
   "mimetype": "text/plain",
   "name": "none"
  }
 },
 "nbformat": 4,
 "nbformat_minor": 2
}