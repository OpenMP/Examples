{
 "cells": [
  {
   "cell_type": "markdown",
   "metadata": {},
   "source": [
    ""
   ]
  },
  {
   "cell_type": "markdown",
   "metadata": {},
   "source": [
    "## `defaultmap` Clause"
   ]
  },
  {
   "cell_type": "markdown",
   "metadata": {},
   "source": [
    ""
   ]
  },
  {
   "cell_type": "markdown",
   "metadata": {},
   "source": [
    "The implicitly-determined, data-mapping and data-sharing attribute rules of variables referenced in a `target` construct can be changed by the `defaultmap` clause introduced in OpenMP 5.0. The implicit behavior is specified as `alloc`, `to`, `from`, `tofrom`, `firstprivate`, `none`, `default` or `present`, and is applied to a variable-category, where `scalar`, `aggregate`, `allocatable`, and `pointer` are the variable categories."
   ]
  },
  {
   "cell_type": "markdown",
   "metadata": {},
   "source": [
    "In OpenMP, a \"category'' has a common data-mapping and data-sharing  behavior for variable types within the category. In C/C++, `scalar` refers to base-language scalar variables, except pointers. In Fortran it refers to a scalar variable, as defined by the base language,  with intrinsic type, and excludes character type."
   ]
  },
  {
   "cell_type": "markdown",
   "metadata": {},
   "source": [
    "Also, `aggregate` refers to arrays and structures (C/C++) and derived types (Fortran). Fortran has the additional category of `allocatable`."
   ]
  },
  {
   "cell_type": "markdown",
   "metadata": {},
   "source": [
    "In the example below, the first `target` construct uses  `defaultmap` clauses to set data-mapping and possibly data-sharing attributes that reproduce  the default implicit mapping (data-mapping and data-sharing attributes).  That is,  if the `defaultmap` clauses were removed, the results would be identical."
   ]
  },
  {
   "cell_type": "markdown",
   "metadata": {},
   "source": [
    "In the second `target` construct all implicit behavior is removed by specifying the `none` implicit behavior in the `defaultmap` clause. Hence, all variables must be explicitly mapped.   In the C/C++ code a scalar ( **s** ), an array ( **A** ) and a structure  ( **S** ) are explicitly mapped `tofrom`.   The Fortran code uses a derived type ( **D** ) in lieu of structure."
   ]
  },
  {
   "cell_type": "markdown",
   "metadata": {},
   "source": [
    "The third `target` construct shows another usual case for using the `defaultmap` clause. The default mapping for (non-pointer) scalar variables is specified as `tofrom`. Here, the default implicit mapping for  **s3**  is `tofrom` as specified  in the `defaultmap` clause, and  **s1**  and  **s2**  are explicitly  mapped with the `firstprivate` data-sharing attribute."
   ]
  },
  {
   "cell_type": "markdown",
   "metadata": {},
   "source": [
    "In the fourth `target` construct all arrays, structures (C/C++) and derived  types (Fortran) are mapped with `firstprivate` data-sharing behavior by a  `defaultmap` clause with an `aggregate` variable category. For the  **H**  allocated array in the Fortran code, the `allocable`  category must be used in a separate `defaultmap` clause to acquire  `firsprivate` data-sharing behavior ( **H**  has the Fortran allocatable attribute)."
   ]
  },
  {
   "cell_type": "markdown",
   "metadata": {},
   "source": [
    ""
   ]
  },
  {
   "cell_type": "code",
   "execution_count": null,
   "metadata": {},
   "outputs": [],
   "source": [
    "//%compiler: clang\n",
 "//%cflags: -fopenmp\n",
 "\n",
    "/*\n",
    "* name:       target_defaultmap.1.c\n",
    "* type:       C\n",
    "* version: omp_5.0\n",
    "*/\n",
    "#include <stdlib.h>\n",
    "#include <stdio.h>\n",
    "#define N 2\n",
    "\n",
    "int main(){\n",
    "  typedef struct S_struct { int s; int A[N]; } S_struct_t;\n",
    "\n",
    "\n",
    "  int         s;       //scalar int variable (scalar)\n",
    "  int         A[N];    //aggregate variable  (array)\n",
    "  S_struct_t  S;       //aggregate variable  (structure)\n",
    "  int         *ptr;    //scalar, pointer variable (pointer)\n",
    "\n",
    "  int         s1, s2, s3;\n",
    "\n",
    "// Initialize everything to zero;\n",
    "   s=2; s1=s2=s3=0;\n",
    "   A[0]=0; A[1]=0;\n",
    "   S.s=0; S.A[0]=0; S.A[1]=0;\n",
    "\n",
    "// Target Region 1\n",
    "                   // Uses defaultmap to set scalars, aggregates & pointers\n",
    "                   // to normal defaults.\n",
    "    #pragma omp target \\\n",
    "            defaultmap(firstprivate: scalar)     //could also be default \\\n",
    "            defaultmap(tofrom:       aggregate)  //could also be default \\\n",
    "            defaultmap(default:      pointer)    //must be default       \\\n",
    "            map(ptr2m[:N])\n",
    "    {\n",
    "        s       = 3;               // SCALAR firstprivate, value not returned\n",
    "\n",
    "        A[0]    = 3;  A[1] = 3;    // AGGREGATE array, default map tofrom\n",
    "\n",
    "                                    // AGGREGATE structure, default tofrom\n",
    "        S.s     = 2;\n",
    "        S.A[0]  = 2;  S.A[1] = 2;\n",
    "\n",
    "        ptr = &A[0];                // POINTER is private\n",
    "        ptr[0] = 2;   ptr[1] = 2;\n",
    "\n",
    "    }\n",
    "   if(s==2 && A[0]==2 && S.s==2 && S.A[0]==2)\n",
    "      printf(\" PASSED 1 of 4\\n\");\n",
    "\n",
    "\n",
    "// Target Region 2\n",
    "                   // no implicit mapping allowed.\n",
    "    #pragma omp target defaultmap(none) map(tofrom: s, A, S)\n",
    "    {\n",
    "        s     +=5;           // All variables must be explicitly mapped\n",
    "        A[0]  +=5; A[1]+=5;\n",
    "        S.s   +=5;\n",
    "        S.A[0]+=5; S.A[1]+=5;\n",
    "    }\n",
    "    if(s==7 && A[0]==7 && S.s==7 && S.A[0]==7) printf(\" PASSED 2 of 4\\n\");\n",
    "\n",
    "\n",
    "// Target Region 3\n",
    "                  // defaultmap & explicit map with variables in same category\n",
    "    s1=s2=s3=1;\n",
    "    #pragma  omp defaultmap(tofrom: scalar) map(firstprivate: s1,s2)\n",
    "    {\n",
    "        s1 += 5;           // firstprivate (s1 value not returned to host)\n",
    "        s2 += 5;           // firstprivate (s2 value not returned to host)\n",
    "        s3 += s1 + s2;     // mapped as tofrom\n",
    "    }\n",
    "    if(s1==1 && s2==1 && s3==13 ) printf(\" PASSED 3 of 4\\n\");\n",
    "\n",
    "\n",
    "// Target Region 4\n",
    "    A[0]=0; A[1]=0;\n",
    "    S.A[0]=0; S.A[1]=0;\n",
    "\n",
    "    // arrays and structure are firstprivate, and scalars are from\n",
    "    #pragma omp target defaultmap(firstprivate: aggregate) map(from: s1, s2)\n",
    "    {\n",
    "\n",
    "        A[0]+=1; S.A[0]+=1; //Aggregate changes not returned to host\n",
    "        A[1]+=1; S.A[1]+=1; //Aggregate changes not returned to host\n",
    "        s1 = A[0]+S.A[0]; //s1 value returned to host\n",
    "        s2 = A[1]+S.A[1]; //s1 value returned to host\n",
    "    }\n",
    "    if( A[0]==0 && S.A[0]==0 && s1==2 ) printf(\" PASSED 4 of 4\\n\");\n",
    "\n",
    "}\n",
    "\n"
   ]
  },
  {
   "cell_type": "markdown",
   "metadata": {},
   "source": [
    ""
   ]
  },
  {
   "cell_type": "markdown",
   "metadata": {},
   "source": [
    ""
   ]
  },
  {
   "cell_type": "code",
   "execution_count": null,
   "metadata": {},
   "outputs": [],
   "source": [
    "\n",
    "! name:       defaultmap.1f90\n",
    "! type:       F-free\n",
    "! version:    omp_5.0\n",
    "program defaultmap\n",
    "  integer, parameter :: N=2\n",
    "\n",
    "  type DDT_sA\n",
    "    integer  :: s\n",
    "    integer  :: A(N)\n",
    "  end type\n",
    "\n",
    "  integer             :: s,s1,s2,s3 !! SCALAR: variable (integer)\n",
    "\n",
    "  integer,target      :: A(N)       !! AGGREGATE: Array\n",
    "  type(DDT_sA)        :: D          !! AGGREGATE: Derived Data Type (D)\n",
    "\n",
    "  integer,allocatable :: H(:)       !! ALLOCATABLE: Heap allocated array\n",
    "\n",
    "  integer,pointer     :: ptrA(:)    !! POINTER: points to Array\n",
    "\n",
    "  ! Assign vaues to scalar, Array, Allocatable, and Pointers\n",
    "\n",
    "    s=2;\n",
    "    s1=0;   s2=0;     s3=0\n",
    "    D%s=0;  D%A(1)=0; D%A(2)=0\n",
    "    A(1)=0; A(2)=0\n",
    "\n",
    "    allocate( H(2) )\n",
    "    H(1)=0; H(2)=0\n",
    "\n",
    "!! Target Region 1\n",
    "                   !! Using defaultmap to set scalars, aggregates & pointers\n",
    "                   !! and allocatables to normal defaults.\n",
    "    !$omp target                                        &\n",
    "    !$omp&       defaultmap( firstprivate: scalar)      &\n",
    "    !$omp&       defaultmap( tofrom:       aggregate)   &\n",
    "    !$omp&       defaultmap( tofrom:       allocatable) &\n",
    "    !$omp&       defaultmap( default:      pointer)\n",
    "\n",
    "        s = 3                     !! SCALAR firstprivate, value not returned\n",
    "\n",
    "        A(1) = 3                  !! AGGREGATE array, default map tofrom\n",
    "        A(2) = 3\n",
    "\n",
    "        D%s = 2                   !! AGGR. Derived Types, default map tofrom\n",
    "        D%A(1) = 2;  D%A(2) = 2\n",
    "\n",
    "        H(1) = 2;    H(2) = 2     !! ALLOCATABLE, default map tofrom\n",
    "\n",
    "        ptrA=>A                   !! POINTER is private\n",
    "        ptrA(1) = 2; ptrA(2) = 2\n",
    "\n",
    "    !$omp end target\n",
    "\n",
    "    if(s==2 .and. A(1)==2 .and. D%s==2 .and. D%A(1)==2 .and. H(1) == 2) &\n",
    "       print*,\" PASSED 1 of 4\"\n",
    "\n",
    "!! Target Region 2\n",
    "                   !! no implicit mapping allowed\n",
    "    !$omp target defaultmap(none) map(tofrom: s, A, D)\n",
    "\n",
    "        s=s+5                     !! All variables must be explicitly mapped\n",
    "        A(1)=A(1)+5;       A(2)=A(2)+5\n",
    "        D%s=D%s+5\n",
    "        D%A(1)=D%A(1)+5; D%A(2)=D%A(2)+5\n",
    "\n",
    "    !$omp end target\n",
    "    if(s==7 .and. A(1)==7 .and. D%s==7 .and. D%A(1)==7) print*,\" PASSED 2 of 4\"\n",
    "\n",
    "!! Target Region 3\n",
    "                   !!defaultmap & explicit map with variables in same category\n",
    "    s1=1; s2=1; s3=1\n",
    "    !$omp defaultmap(tofrom: scalar) map(firstprivate: s1,s2)\n",
    "\n",
    "        s1 = s1+5;           !! firstprivate (s1 value not returned to host)\n",
    "        s2 = s2+5;           !! firstprivate (s2 value not returned to host)\n",
    "        s3 = s3 +s1 + s2;    !! mapped as tofrom\n",
    "\n",
    "    !$omp end target\n",
    "    if(s1==1 .and. s2==1 .and. s3==13) print*,\" PASSED 3 of 4\"\n",
    "\n",
    "!! Target Region 4\n",
    "    A(1)=0;   A(2)=0\n",
    "    D%A(1)=0; D%A(2)=0\n",
    "    H(1)=0;   H(2)=0\n",
    "                 !! non-allocated arrays & derived types are in AGGREGATE cat.\n",
    "                 !! Allocatable Arrays are in ALLOCATABLE category\n",
    "                 !! Scalars are explicitly mapped from\n",
    "    !$omp target defaultmap(firstprivate: aggregate )  &\n",
    "    !$omp&       defaultmap(firstprivate: allocatable) &\n",
    "    !$omp&       map(from: s1, s2)\n",
    "\n",
    "        A(1)=A(1)+1; D%A(1)=D%A(1)+1; H(1)=H(1)+1 !!changes not returned to host\n",
    "        A(2)=A(2)+1; D%A(2)=D%A(2)+1; H(2)=H(2)+1 !!changes not returned to host\n",
    "        s1 = A(1)+D%A(1)+H(1)                   !!s1 returned to host\n",
    "        s2 = A(2)+D%A(2)+H(1)                   !!s2 returned to host\n",
    "\n",
    "    !$omp end target\n",
    "    if(A(1)==0 .and. D%A(1)==0 .and. H(1)==0 .and. s1==3) &\n",
    "       print*,\" PASSED 4 of 4\"\n",
    "\n",
    "end program\n",
    "\n"
   ]
  },
  {
   "cell_type": "markdown",
   "metadata": {},
   "source": [
    ""
   ]
  },
  {
   "cell_type": "markdown",
   "metadata": {},
   "source": [
    ""
   ]
  }
 ],
 "metadata": {
  "kernelspec": {
   "display_name": "Native",
   "language": "native",
   "name": "native"
  },
  "language_info": {
   "file_extension": ".c",
   "mimetype": "text/plain",
   "name": "none"
  }
 },
 "nbformat": 4,
 "nbformat_minor": 2
}