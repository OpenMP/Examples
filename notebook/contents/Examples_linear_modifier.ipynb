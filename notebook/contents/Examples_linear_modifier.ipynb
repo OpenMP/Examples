{
 "cells": [
  {
   "cell_type": "markdown",
   "metadata": {},
   "source": [
    ""
   ]
  },
  {
   "cell_type": "markdown",
   "metadata": {},
   "source": [
    "## `ref`, `val`, `uval` Modifiers for `linear` Clause"
   ]
  },
  {
   "cell_type": "markdown",
   "metadata": {},
   "source": [
    ""
   ]
  },
  {
   "cell_type": "markdown",
   "metadata": {},
   "source": [
    "When generating vector functions from `declare` `simd` directives, it is important for a compiler to know the proper types of function arguments in order to generate efficient codes. This is especially true for C++ reference types and Fortran arguments."
   ]
  },
  {
   "cell_type": "markdown",
   "metadata": {},
   "source": [
    "In the following example, the function  _add_one2_  has a C++ reference parameter (or Fortran argument)  _p_ .  Variable  _p_  gets incremented by 1 in the function. The caller loop  _i_  in the main program passes  a variable  _k_  as a reference to the function  _add_one2_  call.    The `ref` modifier for the `linear` clause on the  `declare` `simd` directive is used to annotate the  reference-type parameter  _p_  to match the property of the variable   _k_  in the loop.   This use of reference type is equivalent to the second call to   _add_one2_  with a direct passing of the array element  _a[i]_ .   In the example, the preferred vector  length 8 is specified for both the caller loop and the callee function."
   ]
  },
  {
   "cell_type": "markdown",
   "metadata": {},
   "source": [
    "When `linear(ref(p))` is applied to an argument passed by reference,  it tells the compiler that the addresses in its vector argument are consecutive, and so the compiler can generate a single vector load or store instead of  a gather or scatter. This allows more efficient SIMD code to be generated with  less source changes."
   ]
  },
  {
   "cell_type": "markdown",
   "metadata": {},
   "source": [
    ""
   ]
  },
  {
   "cell_type": "code",
   "execution_count": null,
   "metadata": {},
   "outputs": [],
   "source": [
    "//%compiler: clang\n",
 "//%cflags: -fopenmp\n",
 "\n",
    "/*\n",
    "* name: linear_modifier.1cpp\n",
    "* type: C++\n",
    "* version: omp_4.5\n",
    "*/\n",
    "#include <stdio.h>\n",
    "\n",
    "#define NN 1023\n",
    "int a[NN];\n",
    "\n",
    "#pragma omp declare simd linear(ref(p)) simdlen(8)\n",
    "void add_one2(int& p)\n",
    "{\n",
    "   p += 1;\n",
    "}\n",
    "\n",
    "int main(void)\n",
    "{\n",
    "   int i;\n",
    "   int* p = a;\n",
    "\n",
    "   for (i = 0; i < NN; i++) {\n",
    "      a[i] = i;\n",
    "   }\n",
    "\n",
    "#pragma omp simd linear(p) simdlen(8)\n",
    "   for (i = 0; i < NN; i++) {\n",
    "      int& k = *p;\n",
    "      add_one2(k);\n",
    "      add_one2(a[i]);\n",
    "      p++;\n",
    "   }\n",
    "\n",
    "   for (i = 0; i < NN; i++) {\n",
    "      if (a[i] != i+2) {\n",
    "         printf(\"failed\\n\");\n",
    "         return 1;\n",
    "      }\n",
    "   }\n",
    "   printf(\"passed\\n\");\n",
    "   return 0;\n",
    "}\n",
    "\n"
   ]
  },
  {
   "cell_type": "markdown",
   "metadata": {},
   "source": [
    ""
   ]
  },
  {
   "cell_type": "code",
   "execution_count": null,
   "metadata": {},
   "outputs": [],
   "source": [
    "\n",
    "! name: linear_modifier.1.f90\n",
    "! type: F-free\n",
    "! version: omp_4.5\n",
    "module m\n",
    "   integer, parameter :: NN = 1023\n",
    "   integer :: a(NN)\n",
    "\n",
    " contains\n",
    "   subroutine add_one2(p)\n",
    "   !$omp declare simd(add_one2) linear(ref(p)) simdlen(8)\n",
    "   implicit none\n",
    "   integer :: p\n",
    "\n",
    "   p = p + 1\n",
    "   end subroutine\n",
    "end module\n",
    "\n",
    "program main\n",
    "   use m\n",
    "   implicit none\n",
    "   integer :: i, p\n",
    "\n",
    "   do i = 1, NN\n",
    "      a(i) = i\n",
    "   end do\n",
    "\n",
    "   p = 1\n",
    "   !$omp simd linear(p) simdlen(8)\n",
    "   do i = 1, NN\n",
    "      associate(k => a(p))\n",
    "         call add_one2(k)\n",
    "      end associate\n",
    "      call add_one2(a(i))\n",
    "      p = p + 1\n",
    "   end do\n",
    "\n",
    "   do i = 1, NN\n",
    "      if (a(i) /= i+2) then\n",
    "         print *, \"failed\"\n",
    "         stop\n",
    "      endif\n",
    "   end do\n",
    "   print *, \"passed\"\n",
    "end program\n",
    "\n",
    "\n"
   ]
  },
  {
   "cell_type": "markdown",
   "metadata": {},
   "source": [
    ""
   ]
  },
  {
   "cell_type": "markdown",
   "metadata": {},
   "source": [
    ""
   ]
  },
  {
   "cell_type": "markdown",
   "metadata": {},
   "source": [
    "The following example is a variant of the above example. The function  _add_one2_  in the C++ code includes an additional C++ reference parameter  _i_ .  The loop index  _i_  of the caller loop  _i_  in the main program  is passed as a reference to the function  _add_one2_  call.    The loop index  _i_  has a uniform address with linear value of step 1 across SIMD lanes.  Thus, the `uval` modifier is used for the `linear` clause  to annotate the C++ reference-type parameter  _i_  to match  the property of loop index  _i_ ."
   ]
  },
  {
   "cell_type": "markdown",
   "metadata": {},
   "source": [
    "In the correponding Fortran code the arguments  _p_  and  _i_  in the routine  _add_on2_  are passed by references.  Similar modifiers are used for these variables in the `linear` clauses to match with the property at the caller loop in the main program."
   ]
  },
  {
   "cell_type": "markdown",
   "metadata": {},
   "source": [
    "When `linear(uval(i))` is applied to an argument passed by reference, it  tells the compiler that its addresses in the vector argument are uniform  so that the compiler can generate a scalar load or scalar store and create  linear values. This allows more efficient SIMD code to be generated with  less source changes."
   ]
  },
  {
   "cell_type": "markdown",
   "metadata": {},
   "source": [
    ""
   ]
  },
  {
   "cell_type": "code",
   "execution_count": null,
   "metadata": {},
   "outputs": [],
   "source": [
    "//%compiler: clang\n",
 "//%cflags: -fopenmp\n",
 "\n",
    "/*\n",
    "* name: linear_modifier.2cpp\n",
    "* type: C++\n",
    "* version: omp_4.5\n",
    "*/\n",
    "#include <stdio.h>\n",
    "\n",
    "#define NN 1023\n",
    "int a[NN];\n",
    "\n",
    "#pragma omp declare simd linear(ref(p)) linear(uval(i))\n",
    "void add_one2(int& p, const int& i)\n",
    "{\n",
    "   p += i;\n",
    "}\n",
    "\n",
    "int main(void)\n",
    "{\n",
    "   int i;\n",
    "   int* p = a;\n",
    "\n",
    "   for (i = 0; i < NN; i++) {\n",
    "      a[i] = i;\n",
    "   }\n",
    "\n",
    "   #pragma omp simd linear(p)\n",
    "   for (i = 0; i < NN; i++) {\n",
    "      int& k = *p;\n",
    "      add_one2(k, i);\n",
    "      p++;\n",
    "   }\n",
    "\n",
    "   for (i = 0; i < NN; i++) {\n",
    "      if (a[i] != i*2) {\n",
    "         printf(\"failed\\n\");\n",
    "         return 1;\n",
    "      }\n",
    "   }\n",
    "   printf(\"passed\\n\");\n",
    "   return 0;\n",
    "}\n",
    "\n"
   ]
  },
  {
   "cell_type": "markdown",
   "metadata": {},
   "source": [
    ""
   ]
  },
  {
   "cell_type": "code",
   "execution_count": null,
   "metadata": {},
   "outputs": [],
   "source": [
    "\n",
    "! name: linear_modifier.2f90\n",
    "! type: F-free\n",
    "! version: omp_4.5\n",
    "module m\n",
    "   integer, parameter :: NN = 1023\n",
    "   integer :: a(NN)\n",
    "\n",
    " contains\n",
    "   subroutine add_one2(p, i)\n",
    "   !$omp declare simd(add_one2) linear(ref(p)) linear(uval(i))\n",
    "   implicit none\n",
    "   integer :: p\n",
    "   integer, intent(in) :: i\n",
    "\n",
    "   p = p + i\n",
    "   end subroutine\n",
    "end module\n",
    "\n",
    "program main\n",
    "   use m\n",
    "   implicit none\n",
    "   integer :: i, p\n",
    "\n",
    "   do i = 1, NN\n",
    "      a(i) = i\n",
    "   end do\n",
    "\n",
    "   p = 1\n",
    "   !$omp simd linear(p)\n",
    "   do i = 1, NN\n",
    "      call add_one2(a(p), i)\n",
    "      p = p + 1\n",
    "   end do\n",
    "\n",
    "   do i = 1, NN\n",
    "      if (a(i) /= i*2) then\n",
    "         print *, \"failed\"\n",
    "         stop\n",
    "      endif\n",
    "   end do\n",
    "   print *, \"passed\"\n",
    "end program\n",
    "\n"
   ]
  },
  {
   "cell_type": "markdown",
   "metadata": {},
   "source": [
    ""
   ]
  },
  {
   "cell_type": "markdown",
   "metadata": {},
   "source": [
    "In the following example, the function  _func_  takes arrays  _x_  and  _y_  as arguments, and accesses the array elements referenced by  the index  _i_ . The caller loop  _i_  in the main program passes a linear copy of the variable  _k_  to the function  _func_ . The `val` modifier is used for the `linear` clause  in the `declare` `simd` directive for the function  _func_  to annotate argument  _i_  to match the property of  the actual argument  _k_  passed in the SIMD loop. Arrays  _x_  and  _y_  have uniform addresses across SIMD lanes."
   ]
  },
  {
   "cell_type": "markdown",
   "metadata": {},
   "source": [
    "When `linear(val(i):1)` is applied to an argument,  it tells the compiler that its addresses in the vector argument may not be  consecutive, however, their values are linear (with stride 1 here). When the value of  _i_  is used  in subscript of array references (e.g.,  _x[i]_ ), the compiler can generate  a vector load or store instead of a gather or scatter. This allows more  efficient SIMD code to be generated with less source changes."
   ]
  },
  {
   "cell_type": "markdown",
   "metadata": {},
   "source": [
    ""
   ]
  },
  {
   "cell_type": "code",
   "execution_count": null,
   "metadata": {},
   "outputs": [],
   "source": [
    "//%compiler: clang\n",
 "//%cflags: -fopenmp\n",
 "\n",
    "/*\n",
    "* name: linear_modifier.3c\n",
    "* type: C\n",
    "* version: omp_4.5\n",
    "*/\n",
    "#include <stdio.h>\n",
    "\n",
    "#define N 128\n",
    "\n",
    "#pragma omp declare simd simdlen(4) uniform(x, y) linear(val(i):1)\n",
    "double func(double x[], double y[], int i)\n",
    "{\n",
    "   return (x[i] + y[i]);\n",
    "}\n",
    "\n",
    "int main(void)\n",
    "{\n",
    "   double x[N], y[N], z1[N], z2;\n",
    "   int i, k;\n",
    "\n",
    "   for (i = 0; i < N; i++) {\n",
    "      x[i] = (double)i;\n",
    "      y[i] = (double)i*2;\n",
    "   }\n",
    "\n",
    "   k = 0;\n",
    "#pragma omp simd linear(k)\n",
    "   for (i = 0; i < N; i++) {\n",
    "      z1[i] = func(x, y, k);\n",
    "      k++;\n",
    "   }\n",
    "\n",
    "   for (i = 0; i < N; i++) {\n",
    "      z2 = (double)(i + i*2);\n",
    "      if (z1[i] != z2) {\n",
    "         printf(\"failed\\n\");\n",
    "         return 1;\n",
    "      }\n",
    "   }\n",
    "   printf(\"passed\\n\");\n",
    "   return 0;\n",
    "}\n",
    "\n"
   ]
  },
  {
   "cell_type": "markdown",
   "metadata": {},
   "source": [
    ""
   ]
  },
  {
   "cell_type": "code",
   "execution_count": null,
   "metadata": {},
   "outputs": [],
   "source": [
    "\n",
    "! name: linear_modifier.3f\n",
    "! type: F-free\n",
    "! version: omp_4.5\n",
    "module func_mod\n",
    "contains\n",
    "   real(8) function func(x, y, i)\n",
    "!$omp declare simd(func) simdlen(4) uniform(x, y) linear(val(i):1)\n",
    "      implicit none\n",
    "      real(8), intent(in) :: x(*), y(*)\n",
    "      integer, intent(in) :: i\n",
    "\n",
    "      func = x(i) + y(i)\n",
    "\n",
    "   end function func\n",
    "end module func_mod\n",
    "\n",
    "program main\n",
    "   use func_mod\n",
    "   implicit none\n",
    "   integer, parameter :: n = 128\n",
    "   real(8) :: x(n), y(n), z1(n), z2\n",
    "   integer :: i, k\n",
    "\n",
    "   do i=1, n\n",
    "      x(i) = real(i, kind=8)\n",
    "      y(i) = real(i*2, kind=8)\n",
    "   enddo\n",
    "\n",
    "   k = 1\n",
    "!$omp simd linear(k)\n",
    "   do i=1, n\n",
    "      z1(i) = func(x, y, k)\n",
    "      k = k + 1\n",
    "   enddo\n",
    "\n",
    "   do i=1, n\n",
    "      z2 = real(i+i*2, kind=8)\n",
    "      if (z1(i) /= z2) then\n",
    "         print *, 'failed'\n",
    "         stop\n",
    "      endif\n",
    "   enddo\n",
    "   print *, 'passed'\n",
    "end program main\n",
    "\n"
   ]
  },
  {
   "cell_type": "markdown",
   "metadata": {},
   "source": [
    ""
   ]
  },
  {
   "cell_type": "markdown",
   "metadata": {},
   "source": [
    ""
   ]
  },
  {
   "cell_type": "markdown",
   "metadata": {},
   "source": [
    ""
   ]
  }
 ],
 "metadata": {
  "kernelspec": {
   "display_name": "Native",
   "language": "native",
   "name": "native"
  },
  "language_info": {
   "file_extension": ".c",
   "mimetype": "text/plain",
   "name": "none"
  }
 },
 "nbformat": 4,
 "nbformat_minor": 2
}