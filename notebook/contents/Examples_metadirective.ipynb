{
 "cells": [
  {
   "cell_type": "markdown",
   "metadata": {},
   "source": [
    ""
   ]
  },
  {
   "cell_type": "markdown",
   "metadata": {},
   "source": [
    "## Metadirective Directive"
   ]
  },
  {
   "cell_type": "markdown",
   "metadata": {},
   "source": [
    ""
   ]
  },
  {
   "cell_type": "markdown",
   "metadata": {},
   "source": [
    "A `metadirective` directive provides a mechanism to select a directive in a `when` clause to be used, depending upon one or more contexts:   implementation, available devices and the present enclosing construct.  The directive in a `default` clause is used when a directive of the  `when` clause is not selected."
   ]
  },
  {
   "cell_type": "markdown",
   "metadata": {},
   "source": [
    "In the `when` clause the  _context selector_  (or just  _selector_ ) defines traits that are evaluated for selection of the directive that follows the selector.  This \"selectable\" directive is called a  _directive variant_ . Traits are grouped by  _construct_ ,  _implementation_  and   _device_   _sets_  to be used by a selector of the same name."
   ]
  },
  {
   "cell_type": "markdown",
   "metadata": {},
   "source": [
    "In the first example the architecture trait  _arch_  of the   _device_  selector set specifies that if an  _nvptx_  (NVIDIA) architecture is active in the OpenMP context, then the `teams` `loop`   _directive variant_  is selected as the directive; otherwise, the `parallel` `loop`  _directive variant_  of the `default` clause is selected as the directive. That is, if a  _device_  of  _nvptx_  architecture is supported by the implementation within the enclosing `target` construct, its  _directive variant_  is selected. The architecture names, such as  _nvptx_ , are implementation defined. Also, note that  _device_  as used in a `target` construct specifies a device number, while  _device_ , as used in the `metadirective` directive as selector set, has traits of  _kind_ ,  _isa_  and  _arch_ ."
   ]
  },
  {
   "cell_type": "markdown",
   "metadata": {},
   "source": [
    ""
   ]
  },
  {
   "cell_type": "markdown",
   "metadata": {},
   "source": [
    ""
   ]
  },
  {
   "cell_type": "markdown",
   "metadata": {},
   "source": [
    ""
   ]
  },
  {
   "cell_type": "code",
   "execution_count": null,
   "metadata": {},
   "outputs": [],
   "source": [
    "//%compiler: clang\n",
 "//%cflags: -fopenmp\n",
 "\n",
    "/*\n",
    "* name: metadirective.1c\n",
    "* type: C\n",
    "* version: omp_5.0\n",
    "*/\n",
    "\n",
    "#define N 100\n",
    "#include <stdio.h>\n",
    "\n",
    "int main()\n",
    "{\n",
    "   int v1[N], v2[N], v3[N];\n",
    "   for(int i=0; i<N; i++){ v1[i]=(i+1); v2[i]=-(i+1); }\n",
    "\n",
    "   #pragma omp target map(to:v1,v2) map(from:v3) device(0)\n",
    "   #pragma omp metadirective \\\n",
    "                   when(   device={arch(\"nvptx\")}: teams loop) \\\n",
    "                   default(                     parallel loop)\n",
    "     for (int i= 0; i< N; i++)  v3[i] = v1[i] * v2[i];\n",
    "\n",
    "   printf(\" %d  %d\\n\",v3[0],v3[N-1]); //output: -1  -10000\n",
    "\n",
    "   return 0;\n",
    "}\n",
    "\n"
   ]
  },
  {
   "cell_type": "markdown",
   "metadata": {},
   "source": [
    ""
   ]
  },
  {
   "cell_type": "markdown",
   "metadata": {},
   "source": [
    ""
   ]
  },
  {
   "cell_type": "code",
   "execution_count": null,
   "metadata": {},
   "outputs": [],
   "source": [
    "\n",
    "! name: metadirective.2f90\n",
    "! type: F-free\n",
    "! version: omp_5.0\n",
    "\n",
    "program main\n",
    "   integer, parameter :: N= 100\n",
    "   integer ::  v1(N), v2(N), v3(N);\n",
    "\n",
    "   do i=1,N;  v1(i)=i; v2(i)=-i;  enddo   ! initialize\n",
    "\n",
    "   !$omp  target map(to:v1,v2) map(from:v3) device(0)\n",
    "   !$omp  metadirective &\n",
    "   !$omp&     when(   device={arch(\"nvptx\")}: teams loop) &\n",
    "   !$omp&     default(                     parallel loop)\n",
    "     do i= 1,N; v3(i) = v1(i) * v2(i); enddo\n",
    "   !$omp  end target\n",
    "\n",
    "   print *, v3(1),v3(N) !!output: -1  -10000\n",
    "end program\n",
    "\n"
   ]
  },
  {
   "cell_type": "markdown",
   "metadata": {},
   "source": [
    ""
   ]
  },
  {
   "cell_type": "markdown",
   "metadata": {},
   "source": [
    "In the second example, the  _implementation_  selector set is specified in the `when` clause to distinguish between AMD and NVIDIA platforms.  Additionally, specific architectures are specified with the  _device_   selector set."
   ]
  },
  {
   "cell_type": "markdown",
   "metadata": {},
   "source": [
    "In the code, different `teams` constructs are employed as determined by the `metadirective` directive. The number of teams is restricted by a `num_teams` clause and a thread limit is also set by a `thread_limit` clause for   _vendor_  AMD and NVIDIA platforms and specific architecture traits.  Otherwise, just the `teams` construct is used without any clauses, as prescribed by the `default` clause."
   ]
  },
  {
   "cell_type": "markdown",
   "metadata": {},
   "source": [
    ""
   ]
  },
  {
   "cell_type": "markdown",
   "metadata": {},
   "source": [
    ""
   ]
  },
  {
   "cell_type": "code",
   "execution_count": null,
   "metadata": {},
   "outputs": [],
   "source": [
    "//%compiler: clang\n",
 "//%cflags: -fopenmp\n",
 "\n",
    "/*\n",
    "* name: metadirective.2c\n",
    "* type: C\n",
    "* version: omp_5.0\n",
    "*/\n",
    "\n",
    "#define N 100\n",
    "#include <stdio.h>\n",
    "#include <omp.h>\n",
    "\n",
    "void work_on_chunk(int idev, int i);\n",
    "\n",
    "int main()                    //Driver\n",
    "{\n",
    "   int i,idev;\n",
    "\n",
    "   for (idev=0; idev<omp_get_num_devices(); idev++)\n",
    "   {\n",
    "      #pragma omp target device(idev)\n",
    "      #pragma omp metadirective \\\n",
    "                  when( implementation={vendor(nvidia)}, device={arch(\"kepler\")}: \\\n",
    "                        teams num_teams(512) thread_limit(32) )                   \\\n",
    "                  when( implementation={vendor(amd)},    device={arch(\"fiji\"  )}: \\\n",
    "                        teams num_teams(512) thread_limit(64) )                   \\\n",
    "                  default(                                                        \\\n",
    "                        teams)\n",
    "      #pragma omp distribute parallel for\n",
    "      for (i=0; i<N; i++) work_on_chunk(idev,i);\n",
    "   }\n",
    "   return 0;\n",
    "}\n",
    "\n",
    "\n"
   ]
  },
  {
   "cell_type": "markdown",
   "metadata": {},
   "source": [
    ""
   ]
  },
  {
   "cell_type": "markdown",
   "metadata": {},
   "source": [
    ""
   ]
  },
  {
   "cell_type": "code",
   "execution_count": null,
   "metadata": {},
   "outputs": [],
   "source": [
    "\n",
    "! name: metadirective.2f90\n",
    "! type: F-free\n",
    "! version: omp_5.0\n",
    "\n",
    "program main                    !!Driver\n",
    "  use omp_lib\n",
    "  implicit none\n",
    "  integer, parameter :: N=1000\n",
    "  external           :: work_on_chunk\n",
    "  integer            :: i,idev\n",
    "\n",
    "  do idev=0,omp_get_num_devices()-1\n",
    "\n",
    "    !$omp target device(idev)\n",
    "    !$omp begin metadirective &\n",
    "    !$omp&  when( implementation={vendor(nvidia)}, device={arch(\"kepler\")}: &\n",
    "    !$omp&        teams num_teams(512) thread_limit(32) )                   &\n",
    "    !$omp&  when( implementation={vendor(amd)},    device={arch(\"fiji\"  )}: &\n",
    "    !$omp&        teams num_teams(512) thread_limit(64) )                   &\n",
    "    !$omp&  default(                                                        &\n",
    "    !$omp&        teams)\n",
    "    !$omp distribute parallel for\n",
    "    do i=1,N\n",
    "       call work_on_chunk(idev,i)\n",
    "    end do\n",
    "    !$omp end metadirective\n",
    "    !$omp end target\n",
    "\n",
    "  end do\n",
    "\n",
    "end program\n",
    "\n",
    "\n"
   ]
  },
  {
   "cell_type": "markdown",
   "metadata": {},
   "source": [
    ""
   ]
  },
  {
   "cell_type": "markdown",
   "metadata": {},
   "source": [
    ""
   ]
  },
  {
   "cell_type": "markdown",
   "metadata": {},
   "source": [
    "In the third example, a  _construct_  selector set is specified in the `when` clause.   Here, a `metadirective` directive is used within a function that is also compiled as a function for a target device as directed by the `declare` `target` directive. The  _target_  directive name of the `construct` selector ensures that the `distribute` `parallel` `for/do` construct is employed for the target compilation. Otherwise, for the host-compiled version the `parallel` `for/do` `simd` construct is used."
   ]
  },
  {
   "cell_type": "markdown",
   "metadata": {},
   "source": [
    "In the first call to the  _exp_pi_diff()_  routine the context is a `target` `teams` construct and the `distribute` `parallel` `for/do` construct version of the function is invoked, while in the second call the `parallel` `for/do` `simd` construct version is used."
   ]
  },
  {
   "cell_type": "markdown",
   "metadata": {},
   "source": [
    "This case illustrates an important point for users that may want to hoist the  `target` directive out of a function that contains the usual  `target` `teams` `distribute` `parallel` `for/do` construct (for providing alternate constructs through the `metadirective` directive as here). While this combined construct can be decomposed into a `target` and `teams distribute parallel for/do` constructs, the OpenMP 5.0 specification has the restriction: \"If a `teams` construct is nested within a `target` construct, that `target` construct must contain no statements, declarations or directives outside of the `teams` construct''. So, the `teams` construct must immediately follow the `target` construct without any intervening code statements (which includes function calls).   Since the `target` construct alone cannot be hoisted out of a function,  the `target` `teams` construct has been hoisted out of the function, and the  `distribute` `parallel` `for/do` construct is used as the  _variant_  directive of the `metadirective` directive within the function."
   ]
  },
  {
   "cell_type": "markdown",
   "metadata": {},
   "source": [
    ""
   ]
  },
  {
   "cell_type": "code",
   "execution_count": null,
   "metadata": {},
   "outputs": [],
   "source": [
    "//%compiler: clang\n",
 "//%cflags: -fopenmp\n",
 "\n",
    "/*\n",
    "* name: metadirective.3c\n",
    "* type: C\n",
    "* version: omp_5.0\n",
    "*/\n",
    "#include <stdio.h>\n",
    "#include  <math.h>\n",
    "#define      N 1000\n",
    "\n",
    "#pragma omp declare target\n",
    "void exp_pi_diff(double *d, double my_pi){\n",
    "   #pragma omp metadirective \\\n",
    "               when( construct={target}: distribute parallel for  ) \\\n",
    "               default(                             parallel for simd)\n",
    "   for(int i = 0; i<N; i++) d[i] = exp( (M_PI-my_pi)*i );\n",
    "}\n",
    "#pragma omp end declare target\n",
    "\n",
    "int main()\n",
    "{\n",
    "  //Calculates sequence of exponentials: (M_PI-my_pi) * index\n",
    "  //M_PI is from math.h, and my_pi is user provided.\n",
    "\n",
    "  double d[N];\n",
    "  double my_pi=3.14159265358979e0;\n",
    "\n",
    "      #pragma omp target teams map(tofrom: d[0:N])\n",
    "      exp_pi_diff(d,my_pi);\n",
    "                                           // value should be near 1\n",
    "      printf(\"d[N-1] = %20.14f\\n\",d[N-1]); // ...= 1.00000000000311\n",
    "\n",
    "      exp_pi_diff(d,my_pi);                // value should be near 1\n",
    "      printf(\"d[N-1] = %20.14f\\n\",d[N-1]); // ...= 1.00000000000311\n",
    "}\n",
    "\n"
   ]
  },
  {
   "cell_type": "markdown",
   "metadata": {},
   "source": [
    ""
   ]
  },
  {
   "cell_type": "markdown",
   "metadata": {},
   "source": [
    ""
   ]
  },
  {
   "cell_type": "code",
   "execution_count": null,
   "metadata": {},
   "outputs": [],
   "source": [
    "\n",
    "! name: metadirective.3f90\n",
    "! type: F-free\n",
    "! version: omp_5.0\n",
    "\n",
    "module params\n",
    "   integer, parameter :: N=1000\n",
    "   DOUBLE PRECISION, PARAMETER::M_PI=4.0d0*DATAN(1.0d0) !3.1415926535897932_8\n",
    "end module\n",
    "\n",
    "\n",
    "subroutine exp_pi_diff(d,    my_pi)\n",
    "  use params\n",
    "  implicit none\n",
    "  integer          ::  i\n",
    "  double precision ::  d(N), my_pi\n",
    "  !$omp declare target\n",
    "\n",
    "  !$omp   metadirective &\n",
    "  !$omp&      when( construct={target}: distribute parallel do  )  &\n",
    "  !$omp&      default(                             parallel do simd)\n",
    "\n",
    "  do i = 1,size(d)\n",
    "     d(i) = exp( (M_PI-my_pi)*i )\n",
    "  end do\n",
    "\n",
    "end subroutine\n",
    "\n",
    "program main\n",
    "  ! Calculates sequence of exponentials: (M_PI-my_pi) * index\n",
    "  ! M_PI is from usual way, and my_pi is user provided.\n",
    "  ! Fortran Standard does not provide PI\n",
    "\n",
    "  use params\n",
    "  implicit none\n",
    "  double precision   :: d(N)\n",
    "  double precision   :: my_pi=3.14159265358979d0\n",
    "\n",
    "      !$omp target teams map(from: d)\n",
    "      call exp_pi_diff(d,my_pi)\n",
    "      !$omp end target teams\n",
    "                                  ! value should be near 1\n",
    "      print*, \"d(N) = \",d(N)      ! 1.00000000000311\n",
    "\n",
    "      call exp_pi_diff(d,my_pi) ! value should be near 1\n",
    "      print*, \"d(N) = \",d(N)      ! 1.00000000000311\n",
    "\n",
    "end program\n",
    "\n"
   ]
  },
  {
   "cell_type": "markdown",
   "metadata": {},
   "source": [
    ""
   ]
  },
  {
   "cell_type": "markdown",
   "metadata": {},
   "source": [
    ""
   ]
  }
 ],
 "metadata": {
  "kernelspec": {
   "display_name": "Native",
   "language": "native",
   "name": "native"
  },
  "language_info": {
   "file_extension": ".c",
   "mimetype": "text/plain",
   "name": "none"
  }
 },
 "nbformat": 4,
 "nbformat_minor": 2
}