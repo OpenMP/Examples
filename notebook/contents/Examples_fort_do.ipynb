{
 "cells": [
  {
   "cell_type": "markdown",
   "metadata": {},
   "source": [
    ""
   ]
  },
  {
   "cell_type": "markdown",
   "metadata": {},
   "source": [
    "## Fortran Restrictions on the `do` Construct"
   ]
  },
  {
   "cell_type": "markdown",
   "metadata": {},
   "source": [
    ""
   ]
  },
  {
   "cell_type": "markdown",
   "metadata": {},
   "source": [
    "If an `end do` directive follows a  _do-construct_   in which several  `DO` statements share a `DO` termination statement, then a  `do`  directive can only be specified for the outermost of these `DO` statements.  The following example contains correct usages of loop constructs:"
   ]
  },
  {
   "cell_type": "markdown",
   "metadata": {},
   "source": [
    ""
   ]
  },
  {
   "cell_type": "code",
   "execution_count": null,
   "metadata": {},
   "outputs": [],
   "source": [
    "\n",
    "! name: fort_do.1f\n",
    "! type: F-fixed\n",
    "      SUBROUTINE WORK(I, J)\n",
    "      INTEGER I,J\n",
    "      END SUBROUTINE WORK\n",
    "\n",
    "      SUBROUTINE DO_GOOD()\n",
    "        INTEGER I, J\n",
    "        REAL A(1000)\n",
    "\n",
    "        DO 100 I = 1,10\n",
    "!$OMP     DO\n",
    "          DO 100 J = 1,10\n",
    "            CALL WORK(I,J)\n",
    "100     CONTINUE      !  !$OMP ENDDO implied here\n",
    "\n",
    "!$OMP   DO\n",
    "        DO 200 J = 1,10\n",
    "200       A(I) = I + 1\n",
    "!$OMP   ENDDO\n",
    "\n",
    "!$OMP   DO\n",
    "        DO 300 I = 1,10\n",
    "          DO 300 J = 1,10\n",
    "            CALL WORK(I,J)\n",
    "300     CONTINUE\n",
    "!$OMP   ENDDO\n",
    "      END SUBROUTINE DO_GOOD\n",
    "\n"
   ]
  },
  {
   "cell_type": "markdown",
   "metadata": {},
   "source": [
    ""
   ]
  },
  {
   "cell_type": "markdown",
   "metadata": {},
   "source": [
    "The following example is non-conforming because the matching `do` directive  for the `end do` does not precede the outermost loop:"
   ]
  },
  {
   "cell_type": "markdown",
   "metadata": {},
   "source": [
    ""
   ]
  },
  {
   "cell_type": "code",
   "execution_count": null,
   "metadata": {},
   "outputs": [],
   "source": [
    "\n",
    "! name: fort_do.2f\n",
    "! type: F-fixed\n",
    "      SUBROUTINE WORK(I, J)\n",
    "      INTEGER I,J\n",
    "      END SUBROUTINE WORK\n",
    "\n",
    "      SUBROUTINE DO_WRONG\n",
    "        INTEGER I, J\n",
    "\n",
    "        DO 100 I = 1,10\n",
    "!$OMP     DO\n",
    "          DO 100 J = 1,10\n",
    "            CALL WORK(I,J)\n",
    "100     CONTINUE\n",
    "!$OMP   ENDDO\n",
    "      END SUBROUTINE DO_WRONG\n",
    "\n"
   ]
  },
  {
   "cell_type": "markdown",
   "metadata": {},
   "source": [
    ""
   ]
  },
  {
   "cell_type": "markdown",
   "metadata": {},
   "source": [
    ""
   ]
  },
  {
   "cell_type": "markdown",
   "metadata": {},
   "source": [
    ""
   ]
  }
 ],
 "metadata": {
  "kernelspec": {
   "display_name": "Native",
   "language": "native",
   "name": "native"
  },
  "language_info": {
   "file_extension": ".c",
   "mimetype": "text/plain",
   "name": "none"
  }
 },
 "nbformat": 4,
 "nbformat_minor": 2
}