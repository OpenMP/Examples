{
 "cells": [
  {
   "cell_type": "markdown",
   "metadata": {},
   "source": [
    ""
   ]
  },
  {
   "cell_type": "markdown",
   "metadata": {},
   "source": [
    "## The `taskyield` Construct"
   ]
  },
  {
   "cell_type": "markdown",
   "metadata": {},
   "source": [
    ""
   ]
  },
  {
   "cell_type": "markdown",
   "metadata": {},
   "source": [
    "The following example illustrates the use of the `taskyield`  directive.  The tasks in the example compute something useful and then do some computation  that must be done in a critical region. By using `taskyield` when a task  cannot get access to the `critical` region the implementation can suspend  the current task and schedule some other task that can do something useful."
   ]
  },
  {
   "cell_type": "markdown",
   "metadata": {},
   "source": [
    ""
   ]
  },
  {
   "cell_type": "code",
   "execution_count": null,
   "metadata": {},
   "outputs": [],
   "source": [
    "//%compiler: clang\n",
 "//%cflags: -fopenmp\n",
 "\n",
    "/*\n",
    "* name: taskyield.1c\n",
    "* type: C\n",
    "* version: omp_3.1\n",
    "*/\n",
    "#include <omp.h>\n",
    "\n",
    "void something_useful ( void );\n",
    "void something_critical ( void );\n",
    "void foo ( omp_lock_t * lock, int n )\n",
    "{\n",
    "   int i;\n",
    "\n",
    "   for ( i = 0; i < n; i++ )\n",
    "      #pragma omp task\n",
    "      {\n",
    "          something_useful();\n",
    "          while ( !omp_test_lock(lock) ) {\n",
    "             #pragma omp taskyield\n",
    "          }\n",
    "          something_critical();\n",
    "          omp_unset_lock(lock);\n",
    "      }\n",
    "}\n",
    "\n"
   ]
  },
  {
   "cell_type": "markdown",
   "metadata": {},
   "source": [
    ""
   ]
  },
  {
   "cell_type": "markdown",
   "metadata": {},
   "source": [
    ""
   ]
  },
  {
   "cell_type": "code",
   "execution_count": null,
   "metadata": {},
   "outputs": [],
   "source": [
    "\n",
    "! name: taskyield.1f\n",
    "! type: F-free\n",
    "! version:    omp_3.1\n",
    "subroutine foo ( lock, n )\n",
    "   use omp_lib\n",
    "   integer (kind=omp_lock_kind) :: lock\n",
    "   integer n\n",
    "   integer i\n",
    "\n",
    "   do i = 1, n\n",
    "     !$omp task\n",
    "       call something_useful()\n",
    "       do while ( .not. omp_test_lock(lock) )\n",
    "         !$omp taskyield\n",
    "       end do\n",
    "       call something_critical()\n",
    "       call omp_unset_lock(lock)\n",
    "     !$omp end task\n",
    "   end do\n",
    "\n",
    "end subroutine\n",
    "\n"
   ]
  },
  {
   "cell_type": "markdown",
   "metadata": {},
   "source": [
    ""
   ]
  },
  {
   "cell_type": "markdown",
   "metadata": {},
   "source": [
    ""
   ]
  }
 ],
 "metadata": {
  "kernelspec": {
   "display_name": "Native",
   "language": "native",
   "name": "native"
  },
  "language_info": {
   "file_extension": ".c",
   "mimetype": "text/plain",
   "name": "none"
  }
 },
 "nbformat": 4,
 "nbformat_minor": 2
}