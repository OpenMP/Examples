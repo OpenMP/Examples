{
 "cells": [
  {
   "cell_type": "markdown",
   "metadata": {},
   "source": [
    ""
   ]
  },
  {
   "cell_type": "markdown",
   "metadata": {},
   "source": [
    "## `teams` Construct on Host"
   ]
  },
  {
   "cell_type": "markdown",
   "metadata": {},
   "source": [
    ""
   ]
  },
  {
   "cell_type": "markdown",
   "metadata": {},
   "source": [
    "Originally the `teams` construct was created for devices (such as GPUs) for independent executions of a structured block by teams within a league (on SMs). It was only available through offloading with the `target` construct, and the execution of a `teams` region could only be directed to host execution by various means such as `if` and `device` clauses, and the `OMP_TARGET_OFFLOAD` environment variable."
   ]
  },
  {
   "cell_type": "markdown",
   "metadata": {},
   "source": [
    "In OpenMP 5.0 the `teams` construct was extended to enable the host to execute a `teams` region (without an associated `target` construct),  with anticipation of further affinity and threading controls in future OpenMP releases."
   ]
  },
  {
   "cell_type": "markdown",
   "metadata": {},
   "source": [
    "In the example below the `teams` construct is used to create two teams, one to execute single precision code, and the other to execute double precision code. Two teams are required, and the thread limit for each team is set to 1/2 of the number of  available processors."
   ]
  },
  {
   "cell_type": "markdown",
   "metadata": {},
   "source": [
    ""
   ]
  },
  {
   "cell_type": "code",
   "execution_count": null,
   "metadata": {},
   "outputs": [],
   "source": [
    "//%compiler: clang\n",
 "//%cflags: -fopenmp\n",
 "\n",
    "/*\n",
    "* name: host_teams.2.c\n",
    "* type: C\n",
    "* version: omp_5.0\n",
    "*/\n",
    "#include <stdio.h>\n",
    "#include <stdlib.h>\n",
    "#include  <math.h>\n",
    "#include   <omp.h>\n",
    "#define    N 1000\n",
    "\n",
    "int main(){\n",
    "   int     nteams_required=2, max_thrds, tm_id;\n",
    "   float   sp_x[N], sp_y[N], sp_a=0.0001e0;\n",
    "   double  dp_x[N], dp_y[N], dp_a=0.0001e0;\n",
    "\n",
    "   // Create 2 teams, each team works in a different precision\n",
    "   #pragma omp teams num_teams(nteams_required) \\\n",
    "                     thread_limit(max_thrds)  private(tm_id)\n",
    "   {\n",
    "      tm_id = omp_get_team_num();\n",
    "\n",
    "      if( omp_get_num_teams() != 2 )   //if only getting 1, quit\n",
    "      { printf(\"error: Insufficient teams on host, 2 required\\n\");\n",
    "        exit(0);\n",
    "      }\n",
    "\n",
    "      if(tm_id == 0)    // Do Single Precision Work (SAXPY) with this team\n",
    "      {\n",
    "         #pragma omp parallel\n",
    "         {\n",
    "            #pragma omp for                             //init\n",
    "            for(int i=0; i<N; i++){sp_x[i] = i*0.0001;  sp_y[i]=i; }\n",
    "\n",
    "            #pragma omp for simd simdlen(8)\n",
    "            for(int i=0; i<N; i++){sp_x[i] = sp_a*sp_x[i] + sp_y[i];}\n",
    "         }\n",
    "      }\n",
    "\n",
    "      if(tm_id == 1)    // Do Double Precision Work (DAXPY) with this team\n",
    "      {\n",
    "         #pragma omp parallel\n",
    "         {\n",
    "            #pragma omp for                             //init\n",
    "            for(int i=0; i<N; i++){dp_x[i] = i*0.0001;  dp_y[i]=i; }\n",
    "\n",
    "            #pragma omp for simd simdlen(4)\n",
    "            for(int i=0; i<N; i++){dp_x[i] = dp_a*dp_x[i] + dp_y[i];}\n",
    "         }\n",
    "      }\n",
    "   }\n",
    "\n",
    "   printf(\"i=%d  sp|dp  %f %f \\n\",N-1, sp_x[N-1], dp_x[N-1]);\n",
    "   printf(\"i=%d  sp|dp  %f %f \\n\",N/2, sp_x[N/2], dp_x[N/2]);\n",
    " //OUTPUT1:i=999  sp|dp  999.000000 999.000010\n",
    " //OUTPUT2:i=500  sp|dp  500.000000 500.000005\n",
    "\n",
    "   return 0;\n",
    "}\n",
    "\n"
   ]
  },
  {
   "cell_type": "markdown",
   "metadata": {},
   "source": [
    ""
   ]
  },
  {
   "cell_type": "markdown",
   "metadata": {},
   "source": [
    ""
   ]
  },
  {
   "cell_type": "code",
   "execution_count": null,
   "metadata": {},
   "outputs": [],
   "source": [
    "\n",
    "! name: host_teams.2.f90\n",
    "! type: F-free\n",
    "! version: omp_5.0\n",
    "\n",
    "program main\n",
    "   use omp_lib\n",
    "   integer           :: nteams_required=2, max_thrds, tm_id\n",
    "   integer,parameter ::  N=1000\n",
    "   real              :: sp_x(N), sp_y(N), sp_a=0.0001e0\n",
    "   double precision  :: dp_x(N), dp_y(N), dp_a=0.0001d0\n",
    "\n",
    "   max_thrds  = omp_get_num_procs()/nteams_required\n",
    "\n",
    "   !! Create 2 teams, each team works in a different precision\n",
    "   !$omp teams num_teams(nteams_required) thread_limit(max_thrds) private(tm_id)\n",
    "\n",
    "      tm_id = omp_get_team_num()\n",
    "\n",
    "      if( omp_get_num_teams() /= 2 ) then   !! if only getting 1, quit\n",
    "         stop \"error: Insufficient teams on host, 2 required.\"\n",
    "      endif\n",
    "\n",
    "      if(tm_id == 0) then    !! Do Single Precision Work (SAXPY) with this team\n",
    "\n",
    "         !$omp parallel\n",
    "            !$omp do         !! init\n",
    "            do i = 1,N\n",
    "               sp_x(i) = i*0.0001e0\n",
    "               sp_y(i) = i\n",
    "            end do\n",
    "\n",
    "            !$omp do simd simdlen(8)\n",
    "            do i = 1,N\n",
    "               sp_x(i) = sp_a*sp_x(i) + sp_y(i)\n",
    "            end do\n",
    "         !$omp end parallel\n",
    "\n",
    "      endif\n",
    "\n",
    "      if(tm_id == 1) then    !! Do Double Precision Work (DAXPY) with this team\n",
    "\n",
    "         !$omp parallel\n",
    "            !$omp do         !! init\n",
    "            do i = 1,N\n",
    "               dp_x(i) = i*0.0001d0\n",
    "               dp_y(i) = i\n",
    "            end do\n",
    "\n",
    "            !$omp do simd simdlen(4)\n",
    "            do i = 1,N\n",
    "               dp_x(i) = dp_a*dp_x(i) + dp_y(i)\n",
    "            end do\n",
    "         !$omp end parallel\n",
    "\n",
    "      endif\n",
    "   !$omp end teams\n",
    "\n",
    "   write(*,'( \"i=\",i4,\" sp|dp= \", e15.7, d25.16  )') N, sp_x(N), dp_x(N)\n",
    "   write(*,'( \"i=\",i4,\" sp|dp= \", e15.7, d25.16  )') N/2, sp_x(N/2), dp_x(N/2)\n",
    "            !! i=1000 sp|dp=   0.1000000E+04   0.1000000010000000D+04\n",
    "            !! i= 500 sp|dp=   0.5000000E+03   0.5000000050000000D+03\n",
    "end program\n",
    "\n"
   ]
  },
  {
   "cell_type": "markdown",
   "metadata": {},
   "source": [
    ""
   ]
  },
  {
   "cell_type": "markdown",
   "metadata": {},
   "source": [
    ""
   ]
  }
 ],
 "metadata": {
  "kernelspec": {
   "display_name": "Native",
   "language": "native",
   "name": "native"
  },
  "language_info": {
   "file_extension": ".c",
   "mimetype": "text/plain",
   "name": "none"
  }
 },
 "nbformat": 4,
 "nbformat_minor": 2
}