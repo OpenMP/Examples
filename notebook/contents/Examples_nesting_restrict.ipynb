{
 "cells": [
  {
   "cell_type": "markdown",
   "metadata": {},
   "source": [
    ""
   ]
  },
  {
   "cell_type": "markdown",
   "metadata": {},
   "source": [
    "## Restrictions on Nesting of Regions"
   ]
  },
  {
   "cell_type": "markdown",
   "metadata": {},
   "source": [
    ""
   ]
  },
  {
   "cell_type": "markdown",
   "metadata": {},
   "source": [
    "The examples in this section illustrate the region nesting rules."
   ]
  },
  {
   "cell_type": "markdown",
   "metadata": {},
   "source": [
    "The following example is non-conforming because the inner and outer loop regions  are closely nested:"
   ]
  },
  {
   "cell_type": "markdown",
   "metadata": {},
   "source": [
    ""
   ]
  },
  {
   "cell_type": "code",
   "execution_count": null,
   "metadata": {},
   "outputs": [],
   "source": [
    "//%compiler: clang\n",
 "//%cflags: -fopenmp\n",
 "\n",
    "/*\n",
    "* name: nesting_restrict.1c\n",
    "* type: C\n",
    "*/\n",
    "\n",
    "void work(int i, int j) {}\n",
    "\n",
    "void wrong1(int n)\n",
    "{\n",
    "\n",
    "  #pragma omp parallel default(shared)\n",
    "  {\n",
    "    int i, j;\n",
    "    #pragma omp for\n",
    "    for (i=0; i<n; i++) {\n",
    "       /* incorrect nesting of loop regions */\n",
    "       #pragma omp for\n",
    "         for (j=0; j<n; j++)\n",
    "           work(i, j);\n",
    "    }\n",
    "  }\n",
    "\n",
    "}\n",
    "\n"
   ]
  },
  {
   "cell_type": "markdown",
   "metadata": {},
   "source": [
    ""
   ]
  },
  {
   "cell_type": "markdown",
   "metadata": {},
   "source": [
    ""
   ]
  },
  {
   "cell_type": "code",
   "execution_count": null,
   "metadata": {},
   "outputs": [],
   "source": [
    "\n",
    "! name: nesting_restrict.1f\n",
    "! type: F-fixed\n",
    "\n",
    "      SUBROUTINE WORK(I, J)\n",
    "      INTEGER I, J\n",
    "\n",
    "      END SUBROUTINE WORK\n",
    "\n",
    "      SUBROUTINE WRONG1(N)\n",
    "\n",
    "      INTEGER N\n",
    "      INTEGER I,J\n",
    "!$OMP   PARALLEL DEFAULT(SHARED)\n",
    "!$OMP     DO\n",
    "          DO I = 1, N\n",
    "!$OMP       DO             ! incorrect nesting of loop regions\n",
    "            DO J = 1, N\n",
    "              CALL WORK(I,J)\n",
    "            END DO\n",
    "          END DO\n",
    "!$OMP   END PARALLEL\n",
    "\n",
    "      END SUBROUTINE WRONG1\n",
    "\n"
   ]
  },
  {
   "cell_type": "markdown",
   "metadata": {},
   "source": [
    ""
   ]
  },
  {
   "cell_type": "markdown",
   "metadata": {},
   "source": [
    "The following orphaned version of the preceding example is also non-conforming:"
   ]
  },
  {
   "cell_type": "markdown",
   "metadata": {},
   "source": [
    ""
   ]
  },
  {
   "cell_type": "code",
   "execution_count": null,
   "metadata": {},
   "outputs": [],
   "source": [
    "//%compiler: clang\n",
 "//%cflags: -fopenmp\n",
 "\n",
    "/*\n",
    "* name: nesting_restrict.2c\n",
    "* type: C\n",
    "*/\n",
    "void work(int i, int j) {}\n",
    "void work1(int i, int n)\n",
    "{\n",
    "  int j;\n",
    "/* incorrect nesting of loop regions */\n",
    "  #pragma omp for\n",
    "    for (j=0; j<n; j++)\n",
    "      work(i, j);\n",
    "}\n",
    "\n",
    "void wrong2(int n)\n",
    "{\n",
    "  #pragma omp parallel default(shared)\n",
    "  {\n",
    "    int i;\n",
    "    #pragma omp for\n",
    "      for (i=0; i<n; i++)\n",
    "         work1(i, n);\n",
    "  }\n",
    "}\n",
    "\n"
   ]
  },
  {
   "cell_type": "markdown",
   "metadata": {},
   "source": [
    ""
   ]
  },
  {
   "cell_type": "markdown",
   "metadata": {},
   "source": [
    ""
   ]
  },
  {
   "cell_type": "code",
   "execution_count": null,
   "metadata": {},
   "outputs": [],
   "source": [
    "\n",
    "! name: nesting_restrict.2f\n",
    "! type: F-fixed\n",
    "       SUBROUTINE WORK1(I,N)\n",
    "       INTEGER I, N\n",
    "       INTEGER J\n",
    "!$OMP   DO      ! incorrect nesting of loop regions\n",
    "        DO J = 1, N\n",
    "          CALL WORK(I,J)\n",
    "        END DO\n",
    "       END SUBROUTINE WORK1\n",
    "       SUBROUTINE WRONG2(N)\n",
    "       INTEGER N\n",
    "       INTEGER I\n",
    "!$OMP   PARALLEL DEFAULT(SHARED)\n",
    "!$OMP     DO\n",
    "          DO I = 1, N\n",
    "            CALL WORK1(I,N)\n",
    "          END DO\n",
    "!$OMP   END PARALLEL\n",
    "       END SUBROUTINE WRONG2\n",
    "\n"
   ]
  },
  {
   "cell_type": "markdown",
   "metadata": {},
   "source": [
    ""
   ]
  },
  {
   "cell_type": "markdown",
   "metadata": {},
   "source": [
    "The following example is non-conforming because the loop and `single` regions  are closely nested:"
   ]
  },
  {
   "cell_type": "markdown",
   "metadata": {},
   "source": [
    ""
   ]
  },
  {
   "cell_type": "code",
   "execution_count": null,
   "metadata": {},
   "outputs": [],
   "source": [
    "//%compiler: clang\n",
 "//%cflags: -fopenmp\n",
 "\n",
    "/*\n",
    "* name: nesting_restrict.3c\n",
    "* type: C\n",
    "*/\n",
    "void work(int i, int j) {}\n",
    "void wrong3(int n)\n",
    "{\n",
    "  #pragma omp parallel default(shared)\n",
    "  {\n",
    "    int i;\n",
    "    #pragma omp for\n",
    "      for (i=0; i<n; i++) {\n",
    "/* incorrect nesting of regions */\n",
    "        #pragma omp single\n",
    "          work(i, 0);\n",
    "      }\n",
    "  }\n",
    "}\n",
    "\n"
   ]
  },
  {
   "cell_type": "markdown",
   "metadata": {},
   "source": [
    ""
   ]
  },
  {
   "cell_type": "markdown",
   "metadata": {},
   "source": [
    ""
   ]
  },
  {
   "cell_type": "code",
   "execution_count": null,
   "metadata": {},
   "outputs": [],
   "source": [
    "\n",
    "! name: nesting_restrict.3f\n",
    "! type: F-fixed\n",
    "      SUBROUTINE WRONG3(N)\n",
    "      INTEGER N\n",
    "\n",
    "        INTEGER I\n",
    "!$OMP   PARALLEL DEFAULT(SHARED)\n",
    "!$OMP     DO\n",
    "          DO I = 1, N\n",
    "!$OMP       SINGLE            ! incorrect nesting of regions\n",
    "              CALL WORK(I, 1)\n",
    "!$OMP       END SINGLE\n",
    "          END DO\n",
    "!$OMP   END PARALLEL\n",
    "      END SUBROUTINE WRONG3\n",
    "\n"
   ]
  },
  {
   "cell_type": "markdown",
   "metadata": {},
   "source": [
    ""
   ]
  },
  {
   "cell_type": "markdown",
   "metadata": {},
   "source": [
    "The following example is non-conforming because a `barrier` region cannot  be closely nested inside a loop region:"
   ]
  },
  {
   "cell_type": "markdown",
   "metadata": {},
   "source": [
    ""
   ]
  },
  {
   "cell_type": "code",
   "execution_count": null,
   "metadata": {},
   "outputs": [],
   "source": [
    "//%compiler: clang\n",
 "//%cflags: -fopenmp\n",
 "\n",
    "/*\n",
    "* name: nesting_restrict.4c\n",
    "* type: C\n",
    "*/\n",
    "void work(int i, int j) {}\n",
    "void wrong4(int n)\n",
    "{\n",
    "\n",
    "  #pragma omp parallel default(shared)\n",
    "  {\n",
    "    int i;\n",
    "    #pragma omp for\n",
    "      for (i=0; i<n; i++) {\n",
    "        work(i, 0);\n",
    "/* incorrect nesting of barrier region in a loop region */\n",
    "        #pragma omp barrier\n",
    "        work(i, 1);\n",
    "      }\n",
    "  }\n",
    "}\n",
    "\n"
   ]
  },
  {
   "cell_type": "markdown",
   "metadata": {},
   "source": [
    ""
   ]
  },
  {
   "cell_type": "markdown",
   "metadata": {},
   "source": [
    ""
   ]
  },
  {
   "cell_type": "code",
   "execution_count": null,
   "metadata": {},
   "outputs": [],
   "source": [
    "\n",
    "! name: nesting_restrict.4f\n",
    "! type: F-fixed\n",
    "      SUBROUTINE WRONG4(N)\n",
    "      INTEGER N\n",
    "\n",
    "        INTEGER I\n",
    "!$OMP   PARALLEL DEFAULT(SHARED)\n",
    "!$OMP     DO\n",
    "          DO I = 1, N\n",
    "            CALL WORK(I, 1)\n",
    "! incorrect nesting of barrier region in a loop region\n",
    "!$OMP       BARRIER\n",
    "            CALL WORK(I, 2)\n",
    "          END DO\n",
    "!$OMP   END PARALLEL\n",
    "      END SUBROUTINE WRONG4\n",
    "\n"
   ]
  },
  {
   "cell_type": "markdown",
   "metadata": {},
   "source": [
    ""
   ]
  },
  {
   "cell_type": "markdown",
   "metadata": {},
   "source": [
    "The following example is non-conforming because the `barrier` region cannot  be closely nested inside the `critical` region. If this were permitted,  it would result in deadlock due to the fact that only one thread at a time can  enter the `critical` region:"
   ]
  },
  {
   "cell_type": "markdown",
   "metadata": {},
   "source": [
    ""
   ]
  },
  {
   "cell_type": "code",
   "execution_count": null,
   "metadata": {},
   "outputs": [],
   "source": [
    "//%compiler: clang\n",
 "//%cflags: -fopenmp\n",
 "\n",
    "/*\n",
    "* name: nesting_restrict.5c\n",
    "* type: C\n",
    "*/\n",
    "void work(int i, int j) {}\n",
    "void wrong5(int n)\n",
    "{\n",
    "  #pragma omp parallel\n",
    "  {\n",
    "    #pragma omp critical\n",
    "    {\n",
    "       work(n, 0);\n",
    "/* incorrect nesting of barrier region in a critical region */\n",
    "       #pragma omp barrier\n",
    "       work(n, 1);\n",
    "    }\n",
    "  }\n",
    "}\n",
    "\n"
   ]
  },
  {
   "cell_type": "markdown",
   "metadata": {},
   "source": [
    ""
   ]
  },
  {
   "cell_type": "markdown",
   "metadata": {},
   "source": [
    ""
   ]
  },
  {
   "cell_type": "code",
   "execution_count": null,
   "metadata": {},
   "outputs": [],
   "source": [
    "\n",
    "! name: nesting_restrict.5f\n",
    "! type: F-fixed\n",
    "      SUBROUTINE WRONG5(N)\n",
    "      INTEGER N\n",
    "\n",
    "!$OMP   PARALLEL DEFAULT(SHARED)\n",
    "!$OMP     CRITICAL\n",
    "            CALL WORK(N,1)\n",
    "! incorrect nesting of barrier region in a critical region\n",
    "!$OMP       BARRIER\n",
    "            CALL WORK(N,2)\n",
    "!$OMP     END CRITICAL\n",
    "!$OMP   END PARALLEL\n",
    "      END SUBROUTINE WRONG5\n",
    "\n"
   ]
  },
  {
   "cell_type": "markdown",
   "metadata": {},
   "source": [
    ""
   ]
  },
  {
   "cell_type": "markdown",
   "metadata": {},
   "source": [
    "The following example is non-conforming because the `barrier` region cannot  be closely nested inside the `single` region. If this were permitted, it  would result in deadlock due to the fact that only one thread executes the `single`  region:"
   ]
  },
  {
   "cell_type": "markdown",
   "metadata": {},
   "source": [
    ""
   ]
  },
  {
   "cell_type": "code",
   "execution_count": null,
   "metadata": {},
   "outputs": [],
   "source": [
    "//%compiler: clang\n",
 "//%cflags: -fopenmp\n",
 "\n",
    "/*\n",
    "* name: nesting_restrict.6c\n",
    "* type: C\n",
    "*/\n",
    "void work(int i, int j) {}\n",
    "void wrong6(int n)\n",
    "{\n",
    "  #pragma omp parallel\n",
    "  {\n",
    "    #pragma omp single\n",
    "    {\n",
    "      work(n, 0);\n",
    "/* incorrect nesting of barrier region in a single region */\n",
    "      #pragma omp barrier\n",
    "      work(n, 1);\n",
    "    }\n",
    "  }\n",
    "}\n",
    "\n"
   ]
  },
  {
   "cell_type": "markdown",
   "metadata": {},
   "source": [
    ""
   ]
  },
  {
   "cell_type": "markdown",
   "metadata": {},
   "source": [
    ""
   ]
  },
  {
   "cell_type": "code",
   "execution_count": null,
   "metadata": {},
   "outputs": [],
   "source": [
    "\n",
    "! name: nesting_restrict.6f\n",
    "! type: F-fixed\n",
    "      SUBROUTINE WRONG6(N)\n",
    "      INTEGER N\n",
    "\n",
    "!$OMP   PARALLEL DEFAULT(SHARED)\n",
    "!$OMP     SINGLE\n",
    "            CALL WORK(N,1)\n",
    "! incorrect nesting of barrier region in a single region\n",
    "!$OMP       BARRIER\n",
    "            CALL WORK(N,2)\n",
    "!$OMP     END SINGLE\n",
    "!$OMP   END PARALLEL\n",
    "      END SUBROUTINE WRONG6\n",
    "\n"
   ]
  },
  {
   "cell_type": "markdown",
   "metadata": {},
   "source": [
    ""
   ]
  },
  {
   "cell_type": "markdown",
   "metadata": {},
   "source": [
    ""
   ]
  },
  {
   "cell_type": "markdown",
   "metadata": {},
   "source": [
    ""
   ]
  }
 ],
 "metadata": {
  "kernelspec": {
   "display_name": "Native",
   "language": "native",
   "name": "native"
  },
  "language_info": {
   "file_extension": ".c",
   "mimetype": "text/plain",
   "name": "none"
  }
 },
 "nbformat": 4,
 "nbformat_minor": 2
}