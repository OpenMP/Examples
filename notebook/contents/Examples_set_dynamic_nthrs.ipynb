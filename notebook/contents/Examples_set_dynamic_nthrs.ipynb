{
 "cells": [
  {
   "cell_type": "markdown",
   "metadata": {},
   "source": [
    ""
   ]
  },
  {
   "cell_type": "markdown",
   "metadata": {},
   "source": [
    "## The `omp_set_dynamic` and  `omp_set_num_threads` Routines"
   ]
  },
  {
   "cell_type": "markdown",
   "metadata": {},
   "source": [
    ""
   ]
  },
  {
   "cell_type": "markdown",
   "metadata": {},
   "source": [
    "Some programs rely on a fixed, prespecified number of threads to execute correctly.  Because the default setting for the dynamic adjustment of the number of threads  is implementation defined, such programs can choose to turn off the dynamic threads  capability and set the number of threads explicitly to ensure portability. The  following example shows how to do this using `omp_set_dynamic`, and `omp_set_num_threads`."
   ]
  },
  {
   "cell_type": "markdown",
   "metadata": {},
   "source": [
    "In this example, the program executes correctly only if it is executed by 16 threads.  If the implementation is not capable of supporting 16 threads, the behavior of  this example is implementation defined. Note that the number of threads executing  a `parallel` region remains constant during the region, regardless of the  dynamic threads setting. The dynamic threads mechanism determines the number of  threads to use at the start of the `parallel` region and keeps it constant  for the duration of the region."
   ]
  },
  {
   "cell_type": "markdown",
   "metadata": {},
   "source": [
    ""
   ]
  },
  {
   "cell_type": "code",
   "execution_count": null,
   "metadata": {},
   "outputs": [],
   "source": [
    "//%compiler: clang\n",
 "//%cflags: -fopenmp\n",
 "\n",
    "/*\n",
    "* name: set_dynamic_nthrs.1c\n",
    "* type: C\n",
    "*/\n",
    "#include <omp.h>\n",
    "#include <stdlib.h>\n",
    "\n",
    "void do_by_16(float *x, int iam, int ipoints) {}\n",
    "\n",
    "void dynthreads(float *x, int npoints)\n",
    "{\n",
    "  int iam, ipoints;\n",
    "\n",
    "  omp_set_dynamic(0);\n",
    "  omp_set_num_threads(16);\n",
    "\n",
    "  #pragma omp parallel shared(x, npoints) private(iam, ipoints)\n",
    "  {\n",
    "    if (omp_get_num_threads() != 16)\n",
    "      abort();\n",
    "\n",
    "    iam = omp_get_thread_num();\n",
    "    ipoints = npoints/16;\n",
    "    do_by_16(x, iam, ipoints);\n",
    "  }\n",
    "}\n",
    "\n"
   ]
  },
  {
   "cell_type": "markdown",
   "metadata": {},
   "source": [
    ""
   ]
  },
  {
   "cell_type": "markdown",
   "metadata": {},
   "source": [
    ""
   ]
  },
  {
   "cell_type": "code",
   "execution_count": null,
   "metadata": {},
   "outputs": [],
   "source": [
    "\n",
    "! name: set_dynamic_nthrs.1f\n",
    "! type: F-fixed\n",
    "      SUBROUTINE DO_BY_16(X, IAM, IPOINTS)\n",
    "        REAL X(*)\n",
    "        INTEGER IAM, IPOINTS\n",
    "      END SUBROUTINE DO_BY_16\n",
    "\n",
    "      SUBROUTINE DYNTHREADS(X, NPOINTS)\n",
    "\n",
    "        INCLUDE \"omp_lib.h\"      ! or USE OMP_LIB\n",
    "\n",
    "        INTEGER NPOINTS\n",
    "        REAL X(NPOINTS)\n",
    "\n",
    "        INTEGER IAM, IPOINTS\n",
    "\n",
    "        CALL OMP_SET_DYNAMIC(.FALSE.)\n",
    "        CALL OMP_SET_NUM_THREADS(16)\n",
    "\n",
    "!$OMP   PARALLEL SHARED(X,NPOINTS) PRIVATE(IAM, IPOINTS)\n",
    "\n",
    "          IF (OMP_GET_NUM_THREADS() .NE. 16) THEN\n",
    "            STOP\n",
    "          ENDIF\n",
    "\n",
    "          IAM = OMP_GET_THREAD_NUM()\n",
    "          IPOINTS = NPOINTS/16\n",
    "          CALL DO_BY_16(X,IAM,IPOINTS)\n",
    "\n",
    "!$OMP   END PARALLEL\n",
    "\n",
    "      END SUBROUTINE DYNTHREADS\n",
    "\n"
   ]
  },
  {
   "cell_type": "markdown",
   "metadata": {},
   "source": [
    ""
   ]
  },
  {
   "cell_type": "markdown",
   "metadata": {},
   "source": [
    ""
   ]
  },
  {
   "cell_type": "markdown",
   "metadata": {},
   "source": [
    ""
   ]
  }
 ],
 "metadata": {
  "kernelspec": {
   "display_name": "Native",
   "language": "native",
   "name": "native"
  },
  "language_info": {
   "file_extension": ".c",
   "mimetype": "text/plain",
   "name": "none"
  }
 },
 "nbformat": 4,
 "nbformat_minor": 2
}