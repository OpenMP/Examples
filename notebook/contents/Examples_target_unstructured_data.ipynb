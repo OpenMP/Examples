{
 "cells": [
  {
   "cell_type": "markdown",
   "metadata": {},
   "source": [
    ""
   ]
  },
  {
   "cell_type": "markdown",
   "metadata": {},
   "source": [
    "## `target` `enter` `data` and `target` `exit` `data` Constructs"
   ]
  },
  {
   "cell_type": "markdown",
   "metadata": {},
   "source": [
    ""
   ]
  },
  {
   "cell_type": "markdown",
   "metadata": {},
   "source": [
    "The structured data construct (`target` `data`) provides persistent data on a device for subsequent `target` constructs as shown in the  `target` `data` examples above. This is accomplished by creating a single `target` `data` region containing `target` constructs."
   ]
  },
  {
   "cell_type": "markdown",
   "metadata": {},
   "source": [
    "The unstructured data constructs allow the creation and deletion of data on the device at any appropriate point within the host code, as shown below  with the `target` `enter` `data` and `target` `exit` `data` constructs."
   ]
  },
  {
   "cell_type": "markdown",
   "metadata": {},
   "source": [
    "The following C++ code creates/deletes a vector in a constructor/destructor  of a class. The constructor creates a vector with `target` `enter` `data` and uses an `alloc` modifier in the `map` clause to avoid copying values to the device. The destructor deletes the data (`target` `exit` `data`) and uses the `delete` modifier in the `map` clause to avoid copying data back to the host. Note, the stand-alone `target` `enter` `data` occurs  after the host vector is created, and the `target` `exit` `data` construct occurs before the host data is deleted."
   ]
  },
  {
   "cell_type": "markdown",
   "metadata": {},
   "source": [
    ""
   ]
  },
  {
   "cell_type": "code",
   "execution_count": null,
   "metadata": {},
   "outputs": [],
   "source": [
    "//%compiler: clang\n",
 "//%cflags: -fopenmp\n",
 "\n",
    "/*\n",
    "* name:        target-unstructured-data.1.cpp\n",
    "* type:        C++\n",
    "* version:     omp_4.5\n",
    "*/\n",
    "class Matrix\n",
    "{\n",
    "\n",
    "  Matrix(int n) {\n",
    "    len = n;\n",
    "    v = new double[len];\n",
    "    #pragma omp target enter data map(alloc:v[0:len])\n",
    "  }\n",
    "\n",
    "  ~Matrix() {\n",
    "    // NOTE: delete map type should be used, since the corresponding\n",
    "    // host data will cease to exist after the deconstructor is called.\n",
    "\n",
    "    #pragma omp target exit data map(delete:v[0:len])\n",
    "    delete[] v;\n",
    "  }\n",
    "\n",
    "  private:\n",
    "  double* v;\n",
    "  int len;\n",
    "\n",
    "};\n",
    "\n"
   ]
  },
  {
   "cell_type": "markdown",
   "metadata": {},
   "source": [
    ""
   ]
  },
  {
   "cell_type": "markdown",
   "metadata": {},
   "source": [
    "The following C code allocates and frees the data member of a Matrix structure. The `init_matrix` function allocates the memory used in the structure and uses the `target` `enter` `data` directive to map it to the target device. The `free_matrix` function removes the mapped array from the target device and then frees the memory on the host.  Note, the stand-alone  `target` `enter` `data` occurs after the host memory is allocated, and the  `target` `exit` `data` construct occurs before the host data is freed."
   ]
  },
  {
   "cell_type": "markdown",
   "metadata": {},
   "source": [
    ""
   ]
  },
  {
   "cell_type": "code",
   "execution_count": null,
   "metadata": {},
   "outputs": [],
   "source": [
    "//%compiler: clang\n",
 "//%cflags: -fopenmp\n",
 "\n",
    "/*\n",
    " * name:        target-unstructured-data.1.c\n",
    " * type:        C\n",
    " * version:     omp_4.5\n",
    " */\n",
    "#include <stdlib.h>\n",
    "typedef struct {\n",
    "  double *A;\n",
    "  int N;\n",
    "} Matrix;\n",
    "\n",
    "void init_matrix(Matrix *mat, int n)\n",
    "{\n",
    "  mat->A = (double *)malloc(n*sizeof(double));\n",
    "  mat->N = n;\n",
    "  #pragma omp target enter data map(alloc:mat->A[:n])\n",
    "}\n",
    "\n",
    "void free_matrix(Matrix *mat)\n",
    "{\n",
    "  #pragma omp target exit data map(delete:mat->A[:mat->N])\n",
    "  mat->N = 0;\n",
    "  free(mat->A);\n",
    "  mat->A = NULL;\n",
    "}\n",
    "\n"
   ]
  },
  {
   "cell_type": "markdown",
   "metadata": {},
   "source": [
    ""
   ]
  },
  {
   "cell_type": "markdown",
   "metadata": {},
   "source": [
    "The following Fortran code allocates and deallocates a module array.  The `initialize` subroutine allocates the module array and uses the `target` `enter` `data` directive to map it to the target device. The `finalize` subroutine removes the mapped array from the target device and then deallocates the array on the host.  Note, the stand-alone  `target` `enter` `data` occurs after the host memory is allocated, and the  `target` `exit` `data` construct occurs before the host data is deallocated."
   ]
  },
  {
   "cell_type": "markdown",
   "metadata": {},
   "source": [
    ""
   ]
  },
  {
   "cell_type": "code",
   "execution_count": null,
   "metadata": {},
   "outputs": [],
   "source": [
    "\n",
    "! name:        target-unstructured-data.1.f\n",
    "! type:        F-free\n",
    "! version:     omp_4.5\n",
    "module example\n",
    "  real(8), allocatable :: A(:)\n",
    "\n",
    "  contains\n",
    "    subroutine initialize(N)\n",
    "      integer :: N\n",
    "\n",
    "      allocate(A(N))\n",
    "      !$omp target enter data map(alloc:A)\n",
    "\n",
    "    end subroutine initialize\n",
    "\n",
    "    subroutine finalize()\n",
    "\n",
    "      !$omp target exit data map(delete:A)\n",
    "      deallocate(A)\n",
    "\n",
    "    end subroutine finalize\n",
    "end module example\n",
    "\n"
   ]
  },
  {
   "cell_type": "markdown",
   "metadata": {},
   "source": [
    ""
   ]
  },
  {
   "cell_type": "markdown",
   "metadata": {},
   "source": [
    ""
   ]
  }
 ],
 "metadata": {
  "kernelspec": {
   "display_name": "Native",
   "language": "native",
   "name": "native"
  },
  "language_info": {
   "file_extension": ".c",
   "mimetype": "text/plain",
   "name": "none"
  }
 },
 "nbformat": 4,
 "nbformat_minor": 2
}