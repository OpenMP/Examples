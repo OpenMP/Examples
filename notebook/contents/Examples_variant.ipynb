{
 "cells": [
  {
   "cell_type": "markdown",
   "metadata": {},
   "source": [
    " ###  `declare` ~ `variant`  Directive"
   ]
  },
  {
   "cell_type": "markdown",
   "metadata": {},
   "source": [
    " \n",
"A  `declare variant`  directive specifies that the following function is an alternate function,  \n",
"a  _function variant_ , to be used in place of the specified  _base function_   \n",
"when the trait within the  `match`  clause has a valid context."
   ]
  },
  {
   "cell_type": "markdown",
   "metadata": {},
   "source": [
    " A  `declare` ~ `variant`  directive specifies an alternate function,   _function variant_ , to be used in place of the  _base function_   \n",
"when the trait within the  `match`  clause has a valid context. when the trait within the  `match`  clause matches the OpenMP context at a given call site. The base function follows the directive in the C and C++ languages. In Fortran, either a subroutine or function may be used as the  _base function_ , and the  `declare` ~ `variant`  directive must be in the specification  part of a subroutine or function (unless a  _base-proc-name_  modifier is used, as in the case of a procedure declaration statement). See the OpenMP 5.0 Specification for details on the modifier."
   ]
  },
  {
   "cell_type": "markdown",
   "metadata": {},
   "source": [
    " When multiple  `declare` ~ `variant`  directives are used  a function variant becomes a candidate for replacing the base function if the \n",
"base function call context matches the traits of all selectors in the  `match`  clause. context at the base function call matches the traits of all selectors in the  `match`  clause. If there are multiple candidates, a score is assigned with rules for each of the selector traits. The scoring algorithm can be found in the OpenMP 5.0 Specification."
   ]
  },
  {
   "cell_type": "markdown",
   "metadata": {},
   "source": [
    " In the first example the  _vxv()_  function is called within a  `parallel`  region, a  `target`  region, and in a sequential part of the program.  Two function variants,  _p_vxv()_  and  _t_vxv()_ , are defined for the first two regions by using  _parallel_  and  _target_  selectors (within the  _construct_  trait set) in a  `match`  clause.  The  _p_vxv()_  function variant includes a  `for`  construct ( `do`  construct for Fortran) for the  `parallel`  region,  while  _t_vxv()_  includes a  `distribute` ~ `simd`  construct for the  `target`  region. The  _t_vxv()_  function is explicitly compiled for the device using a  `declare` ~ `target`  directive."
   ]
  },
  {
   "cell_type": "markdown",
   "metadata": {},
   "source": [
    " Since the two  `declare` ~ `variant`  directives have no selectors that match traits for the context of the base function call in the sequential part of the program, the base  _vxv()_  function is used there,  as expected. (The vectors in the  _p_vxv_  and  _t_vxv_  functions have been multiplied by 3 and 2, respectively, for checking the validity of the replacement. Normally the purpose of a function variant is to produce the same results by a different method.)"
   ]
  },
  {
   "cell_type": "markdown",
   "metadata": {},
   "source": [
    " \n",
"Note: a  `target teams`  construct is used to direct execution onto a device, with a \n",
" `distribute simd`  construct in the function variant. As of the OpenMP 5.0 implementation \n",
"no intervening  is allowed between a  `target`  and  `teams`  construct. So \n",
"using a  `target`  construct to direct execution onto a device, and including  \n",
" `teams distribute simd`  in the variant function would produce non conforming ."
   ]
  },
  {
   "cell_type": "markdown",
   "metadata": {},
   "source": [
    " \n",
"cexample[5.0]{declare_variant}{1}"
   ]
  },
  {
   "cell_type": "code",
   "execution_count": null,
   "metadata": {},
   "outputs": [],
   "source": [
    "\n",
    "! name: declare_variant.1f90\n",
    "! type: F-free\n",
    "! version: omp_5.0\n",
    "\n",
    "module subs\n",
    "  use omp_lib\n",
    "contains\n",
    "   subroutine vxv(v1, v2, v3)             !! base function\n",
    "      integer,intent(in)  :: v1(:),v2(:)\n",
    "      integer,intent(out) :: v3(:)\n",
    "      integer             :: i,n\n",
    "      !$omp  declare variant( p_vxv ) match( construct={parallel} )\n",
    "      !$omp  declare variant( t_vxv ) match( construct={target}   )\n",
    "\n",
    "      n=size(v1)\n",
    "      do i = 1,n; v3(i) = v1(i) * v2(i); enddo\n",
    "\n",
    "   end subroutine\n",
    "\n",
    "   subroutine p_vxv(v1, v2, v3)            !! function variant\n",
    "      integer,intent(in)  :: v1(:),v2(:)\n",
    "      integer,intent(out) :: v3(:)\n",
    "      integer             :: i,n\n",
    "      n=size(v1)\n",
    "\n",
    "      !$omp do\n",
    "      do i = 1,n; v3(i) = v1(i) * v2(i) * 3; enddo\n",
    "\n",
    "   end subroutine\n",
    "\n",
    "   subroutine t_vxv(v1, v2, v3)            !! function variant\n",
    "      integer,intent(in)  :: v1(:),v2(:)\n",
    "      integer,intent(out) :: v3(:)\n",
    "      integer             :: i,n\n",
    "      !$omp declare target\n",
    "      n=size(v1)\n",
    "\n",
    "      !$omp distribute simd\n",
    "      do i = 1,n; v3(i) = v1(i) * v2(i) * 2; enddo\n",
    "\n",
    "   end subroutine\n",
    "\n",
    "end module subs\n",
    "\n",
    "\n",
    "program main\n",
    "   use omp_lib\n",
    "   use subs\n",
    "   integer,parameter :: N = 100\n",
    "   integer           :: v1(N), v2(N), v3(N)\n",
    "\n",
    "   do i= 1,N; v1(i)= i; v2(i)= -i; v3(i)= 0;  enddo  !! init\n",
    "\n",
    "   !$omp parallel\n",
    "      call vxv(v1,v2,v3)\n",
    "   !$omp end parallel\n",
    "   print *, v3(1),v3(N)    !! from p_vxv -- output: -3  -30000\n",
    "\n",
    "   !$omp target teams map(to: v1,v2) map(from: v3)\n",
    "      call vxv(v1,v2,v3)\n",
    "   !$omp end target teams\n",
    "   print *, v3(1),v3(N)    !! from t_vxv -- output: -2  -20000\n",
    "\n",
    "   call vxv(v1,v2,v3)\n",
    "   print *, v3(1),v3(N)    !! from   vxv -- output: -1  -10000\n",
    "\n",
    "end program\n",
    "\n"
   ]
  },
  {
   "cell_type": "markdown",
   "metadata": {},
   "source": [
    " \n",
""
   ]
  },
  {
   "cell_type": "markdown",
   "metadata": {},
   "source": [
    " In this example, traits from the  _device_  set are used to select a function variant. In the  `declare` ~ `variant`  directive, an  _isa_  selector specifies that if the implementation of the \" _core-avx512_ ''  instruction set is detected at compile time the  _avx512_saxpy()_  variant function is used for the call to  _base_saxpy()_ .  "
   ]
  },
  {
   "cell_type": "markdown",
   "metadata": {},
   "source": [
    " A compilation of  _avx512_saxpy()_  is aware of the AVX-512 instruction set that supports 512-bit vector extensions (for Xeon or Xeon Phi architectures).  Within  _avx512_saxpy()_ , the  `parallel` ~ `for` ~ `simd`  construct performs parallel execution, and takes advantage of 64-byte data alignment.  When the  _avx512_saxpy()_  function variant is not selected, the base  _base_saxpy()_  function variant containing only a basic  `parallel` ~ `for`  construct is used for the call to  _base_saxpy()_ ."
   ]
  },
  {
   "cell_type": "markdown",
   "metadata": {},
   "source": [
    " \n",
"Note: \n",
"An allocator is used to set the alignment to 64 bytes when an OpenMP compilation is performed.   \n",
"Details about allocator variable declarations and functions \n",
"can be found in the allocator example of the Memory Management Chapter."
   ]
  },
  {
   "cell_type": "markdown",
   "metadata": {},
   "source": [
    " \n",
"cexample[5.0]{declare_variant}{2}"
   ]
  },
  {
   "cell_type": "code",
   "execution_count": null,
   "metadata": {},
   "outputs": [],
   "source": [
    "\n",
    "! name: declare_variant.2f90\n",
    "! type: F-free\n",
    "! version: omp_5.0\n",
    "\n",
    "module subs\n",
    "  use omp_lib\n",
    "contains\n",
    "\n",
    "   subroutine base_saxpy(s,x,y)              !! base function\n",
    "      real,intent(inout) :: s,x(:),y(:)\n",
    "     !$omp  declare variant( avx512_saxpy ) &\n",
    "     !$omp&           match( device={isa(\"core-avx512\")} )\n",
    "\n",
    "      y = s*x + y\n",
    "\n",
    "   end subroutine\n",
    "\n",
    "   subroutine avx512_saxpy(s,x,y)               !! function variant\n",
    "      real,intent(inout) :: s,x(:),y(:)\n",
    "      integer            :: i,n\n",
    "      n=size(x)\n",
    "                             !!assume 64-byte alignment for AVX-512\n",
    "      !$omp parallel do simd simdlen(16) aligned(x,y: 64)\n",
    "      do i = 1,n\n",
    "         y(i) = s*x(i) + y(i)\n",
    "      end do\n",
    "\n",
    "   end subroutine\n",
    "\n",
    "end module subs\n",
    "\n",
    "\n",
    "program main\n",
    "   use omp_lib\n",
    "   use subs\n",
    "\n",
    "   integer, parameter :: N=1000, align=64\n",
    "   real, allocatable  :: x(:),y(:)\n",
    "   real               :: s = 2.0e0\n",
    "   integer            :: i\n",
    "\n",
    "   allocate(x(N),y(N))   !! Assumes allocation is 64-byte aligned\n",
    "                         !! (using compiler options, or another\n",
    "                         !! allocation method).\n",
    "\n",
    "                         !! loc is non-standard, but found everywhere\n",
    "                         !! remove these lines if not available\n",
    "   if(modulo(loc(x),align) /= 0 .and. modulo(loc(y),align) /=0 ) then\n",
    "      print*,\"ERROR: x|y not 64-byte aligned\"; stop\n",
    "   endif\n",
    "\n",
    "   do i=1,N  !! initialize\n",
    "     x(i)=i\n",
    "     y(i)=i\n",
    "   end do\n",
    "\n",
    "   call base_saxpy(s,x,y)\n",
    "\n",
    "   write(*,'(\"y(1),y(N):\",2f6.0)') y(1),y(N) !!output: y... 3. 3000.\n",
    "\n",
    "   deallocate(x,y)\n",
    "\n",
    "end program\n",
    "\n"
   ]
  },
  {
   "cell_type": "markdown",
   "metadata": {},
   "source": [
    ""
   ]
  }
 ],
 "metadata": {
  "kernelspec": {
   "display_name": "Native",
   "language": "native",
   "name": "native"
  },
  "language_info": {
   "file_extension": ".c",
   "mimetype": "text/plain",
   "name": "c"
  }
 },
 "nbformat": 4,
 "nbformat_minor": 2
}