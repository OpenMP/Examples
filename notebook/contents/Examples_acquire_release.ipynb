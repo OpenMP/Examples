{
 "cells": [
  {
   "cell_type": "markdown",
   "metadata": {},
   "source": [
    ""
   ]
  },
  {
   "cell_type": "markdown",
   "metadata": {},
   "source": [
    "## Synchronization Based on Acquire/Release Semantics"
   ]
  },
  {
   "cell_type": "markdown",
   "metadata": {},
   "source": [
    ""
   ]
  },
  {
   "cell_type": "markdown",
   "metadata": {},
   "source": [
    ""
   ]
  },
  {
   "cell_type": "markdown",
   "metadata": {},
   "source": [
    ""
   ]
  },
  {
   "cell_type": "markdown",
   "metadata": {},
   "source": [
    "As explained in the Memory Model chapter of this document, a flush operation may be an **acquire flush** and/or a **release flush**, and OpenMP 5.0 defines acquire/release semantics in terms of these fundamental flush operations.  For any synchronization between two threads that is specified by OpenMP, a release flush logically occurs at the source of the synchronization and an acquire flush logically occurs at the sink of the synchronization. OpenMP 5.0 added memory ordering clauses -- `acquire`, `release`, and `acq_rel` -- to the `flush` and `atomic` constructs for explicitly requesting acquire/release semantics.  Furthermore, implicit flushes for all OpenMP constructs and runtime routines that synchronize OpenMP threads in some manner were redefined in terms of synchronizing release and acquire flushes to avoid the requirement of strong memory fences (see the  _Flush Synchronization and Happens Before_  and  _Implicit Flushes_  sections of the OpenMP Specifications document)."
   ]
  },
  {
   "cell_type": "markdown",
   "metadata": {},
   "source": [
    "The examples that follow in this section illustrate how acquire and release flushes may be employed, implicitly or explicitly, for synchronizing threads. A `flush` directive without a list and without any memory ordering clause can also function as both an acquire and release flush for facilitating thread synchronization.  Flushes implied on entry to, or exit from, an atomic operation (specified by an `atomic` construct) may function as an acquire flush or a release flush if a memory ordering clause appears on the construct. On entry to and exit from a `critical` construct there is now an implicit acquire flush and release flush, respectively."
   ]
  },
  {
   "cell_type": "markdown",
   "metadata": {},
   "source": [
    ""
   ]
  },
  {
   "cell_type": "markdown",
   "metadata": {},
   "source": [
    "The first example illustrates how the release and acquire flushes implied by a `critical` region guarantee a value written by the first thread is visible to a read of the value on the second thread. Thread 0 writes to  _x_  and then executes a `critical` region in which it writes to  _y_ ; the write to  _x_  happens before the execution of the `critical` region, consistent with the program order of the thread.  Meanwhile, thread 1 executes a `critical` region in a loop until it reads a non-zero value from  _y_  in the `critical` region, after which it prints the value of  _x_ ; again, the execution of the `critical` regions happen before the read from  _x_  based on the program order of the thread. The `critical` regions executed by the two threads execute in a serial manner, with a pair-wise synchronization from the exit of one `critical` region to the entry to the next `critical` region.  These pair-wise synchronizations result from the implicit release flushes that occur on exit from `critical` regions and the implicit acquire flushes that occur on entry to `critical` regions; hence, the execution of each `critical` region in the sequence happens before the execution of the next `critical` region. A \"happens before'' order is therefore established between the assignment to  _x_  by thread 0 and the read from  _x_  by thread 1, and so thread 1 must see that  _x_  equals 10."
   ]
  },
  {
   "cell_type": "markdown",
   "metadata": {},
   "source": [
    ""
   ]
  },
  {
   "cell_type": "code",
   "execution_count": null,
   "metadata": {},
   "outputs": [],
   "source": [
    "//%compiler: clang\n",
 "//%cflags: -fopenmp\n",
 "\n",
    "/*\n",
    "* name: acquire_release.1.c\n",
    "* type: C\n",
    "* version: omp_5.0\n",
    "*/\n",
    "\n",
    "#include <stdio.h>\n",
    "#include <omp.h>\n",
    "\n",
    "int main()\n",
    "{\n",
    "   int x = 0, y = 0;\n",
    "   #pragma omp parallel num_threads(2)\n",
    "   {\n",
    "      int thrd = omp_get_thread_num();\n",
    "      if (thrd == 0) {\n",
    "         x = 10;\n",
    "         #pragma omp critical\n",
    "         { y = 1; }\n",
    "      } else {\n",
    "         int tmp = 0;\n",
    "         while (tmp == 0) {\n",
    "           #pragma omp critical\n",
    "           { tmp = y; }\n",
    "         }\n",
    "         printf(\"x = %d\\n\", x); // always \"x = 10\"\n",
    "      }\n",
    "   }\n",
    "   return 0;\n",
    "}\n",
    "\n"
   ]
  },
  {
   "cell_type": "markdown",
   "metadata": {},
   "source": [
    ""
   ]
  },
  {
   "cell_type": "code",
   "execution_count": null,
   "metadata": {},
   "outputs": [],
   "source": [
    "\n",
    "! name: acquire_release.1.f90\n",
    "! type: F-free\n",
    "! version: omp_5.0\n",
    "\n",
    "program rel_acq_ex1\n",
    "   use omp_lib\n",
    "   integer :: x, y, thrd, tmp\n",
    "   x = 0\n",
    "   y = 0\n",
    "   !$omp parallel num_threads(2) private(thrd, tmp)\n",
    "      thrd = omp_get_thread_num()\n",
    "      if (thrd == 0) then\n",
    "         x = 10\n",
    "         !$omp critical\n",
    "         y = 1\n",
    "         !$omp end critical\n",
    "      else\n",
    "         tmp = 0\n",
    "         do while (tmp == 0)\n",
    "            !$omp critical\n",
    "            tmp = y\n",
    "            !$omp end critical\n",
    "         end do\n",
    "         print *, \"x = \", x  !! always \"x = 10\"\n",
    "      end if\n",
    "   !$omp end parallel\n",
    "end program\n",
    "\n"
   ]
  },
  {
   "cell_type": "markdown",
   "metadata": {},
   "source": [
    ""
   ]
  },
  {
   "cell_type": "markdown",
   "metadata": {},
   "source": [
    "In the second example, the `critical` constructs are exchanged with `atomic` constructs that have \textit{explicit} memory ordering specified. When the atomic read operation on thread 1 reads a non-zero value from  _y_ , this results in a release/acquire synchronization that in turn implies that the assignment to  _x_  on thread 0 happens before the read of  _x_  on thread 1. Therefore, thread 1 will print \"x = 10''."
   ]
  },
  {
   "cell_type": "markdown",
   "metadata": {},
   "source": [
    ""
   ]
  },
  {
   "cell_type": "code",
   "execution_count": null,
   "metadata": {},
   "outputs": [],
   "source": [
    "//%compiler: clang\n",
 "//%cflags: -fopenmp\n",
 "\n",
    "/*\n",
    "* name: acquire_release.2.c\n",
    "* type: C\n",
    "* version: omp_5.0\n",
    "*/\n",
    "\n",
    "#include <stdio.h>\n",
    "#include <omp.h>\n",
    "\n",
    "int main()\n",
    "{\n",
    "   int x = 0, y = 0;\n",
    "   #pragma omp parallel num_threads(2)\n",
    "   {\n",
    "      int thrd = omp_get_thread_num();\n",
    "       if (thrd == 0) {\n",
    "          x = 10;\n",
    "          #pragma omp atomic write release // or seq_cst\n",
    "          y = 1;\n",
    "       } else {\n",
    "          int tmp = 0;\n",
    "          while (tmp == 0) {\n",
    "            #pragma omp atomic read acquire // or seq_cst\n",
    "            tmp = y;\n",
    "          }\n",
    "          printf(\"x = %d\\n\", x); // always \"x = 10\"\n",
    "       }\n",
    "   }\n",
    "   return 0;\n",
    "}\n",
    "\n"
   ]
  },
  {
   "cell_type": "markdown",
   "metadata": {},
   "source": [
    ""
   ]
  },
  {
   "cell_type": "code",
   "execution_count": null,
   "metadata": {},
   "outputs": [],
   "source": [
    "\n",
    "! name: acquire_release.2.f90\n",
    "! type: F-free\n",
    "! version: omp_5.0\n",
    "\n",
    "program rel_acq_ex2\n",
    "   use omp_lib\n",
    "   integer :: x, y, thrd, tmp\n",
    "   x = 0\n",
    "   y = 0\n",
    "   !$omp parallel num_threads(2) private(thrd, tmp)\n",
    "      thrd = omp_get_thread_num()\n",
    "      if (thrd == 0) then\n",
    "         x = 10\n",
    "         !$omp atomic write release ! or seq_cst\n",
    "          y = 1\n",
    "         !$omp end atomic\n",
    "      else\n",
    "         tmp = 0\n",
    "         do while (tmp == 0)\n",
    "            !$omp atomic read acquire ! or seq_cst\n",
    "            tmp = y\n",
    "            !$omp end atomic\n",
    "         end do\n",
    "         print *, \"x = \", x  !! always \"x = 10\"\n",
    "      end if\n",
    "   !$omp end parallel\n",
    "end program\n",
    "\n"
   ]
  },
  {
   "cell_type": "markdown",
   "metadata": {},
   "source": [
    ""
   ]
  },
  {
   "cell_type": "markdown",
   "metadata": {},
   "source": [
    "In the third example, `atomic` constructs that specify relaxed atomic operations are used with explicit `flush` directives to enforce memory ordering between the two threads. The explicit `flush` directive on thread 0 must specify a release flush and the explicit `flush` directive on thread 1 must specify an acquire flush to establish a release/acquire synchronization between the two threads. The `flush` and `atomic` constructs encountered by thread 0 can be replaced by the `atomic` construct used in Example 2 for thread 0, and similarly the `flush` and `atomic` constructs encountered by thread 1 can be replaced by the `atomic` construct used in Example 2 for thread 1."
   ]
  },
  {
   "cell_type": "markdown",
   "metadata": {},
   "source": [
    ""
   ]
  },
  {
   "cell_type": "markdown",
   "metadata": {},
   "source": [
    ""
   ]
  },
  {
   "cell_type": "code",
   "execution_count": null,
   "metadata": {},
   "outputs": [],
   "source": [
    "//%compiler: clang\n",
 "//%cflags: -fopenmp\n",
 "\n",
    "/*\n",
    "* name: acquire_release.3.c\n",
    "* type: C\n",
    "* version: omp_5.0\n",
    "*/\n",
    "\n",
    "#include <stdio.h>\n",
    "#include <omp.h>\n",
    "\n",
    "int main()\n",
    "{\n",
    "   int x = 0, y = 0;\n",
    "   #pragma omp parallel num_threads(2)\n",
    "   {\n",
    "      int thrd = omp_get_thread_num();\n",
    "      if (thrd == 0) {\n",
    "         x = 10;\n",
    "         #pragma omp flush // or with acq_rel or release clause\n",
    "         #pragma omp atomic write // or with relaxed clause\n",
    "         y = 1;\n",
    "      } else {\n",
    "         int tmp = 0;\n",
    "         while (tmp == 0) {\n",
    "           #pragma omp atomic read // or with relaxed clause\n",
    "           tmp = y;\n",
    "         }\n",
    "         #pragma omp flush // or with acq_rel or acquire clause\n",
    "         printf(\"x = %d\\n\", x);  // always \"x = 10\"\n",
    "      }\n",
    "   }\n",
    "   return 0;\n",
    "}\n",
    "\n"
   ]
  },
  {
   "cell_type": "markdown",
   "metadata": {},
   "source": [
    ""
   ]
  },
  {
   "cell_type": "code",
   "execution_count": null,
   "metadata": {},
   "outputs": [],
   "source": [
    "\n",
    "! name: acquire_release.3.f90\n",
    "! type: F-free\n",
    "! version: omp_5.0\n",
    "\n",
    "program rel_acq_ex3\n",
    "   use omp_lib\n",
    "   integer :: x, y, thrd, tmp\n",
    "   x = 0\n",
    "   y = 0\n",
    "   !$omp parallel num_threads(2) private(thrd, tmp)\n",
    "      thrd = omp_get_thread_num()\n",
    "      if (thrd == 0) then\n",
    "         x = 10\n",
    "         !$omp flush ! or with acq_rel or release clause\n",
    "         !$omp atomic write\n",
    "         y = 1\n",
    "         !$omp end atomic\n",
    "      else\n",
    "         tmp = 0\n",
    "         do while (tmp == 0)\n",
    "            !$omp atomic read\n",
    "            tmp = y\n",
    "            !$omp end atomic\n",
    "         end do\n",
    "         !$omp flush ! or with acq_rel or acquire clause\n",
    "         print *, \"x = \", x  !! always \"x = 10\"\n",
    "      end if\n",
    "   !$omp end parallel\n",
    "end program\n",
    "\n"
   ]
  },
  {
   "cell_type": "markdown",
   "metadata": {},
   "source": [
    ""
   ]
  },
  {
   "cell_type": "markdown",
   "metadata": {},
   "source": [
    "Example 4 will fail to order the write to  _x_  on thread 0 before the read from  _x_  on thread 1. Importantly, the implicit release flush on exit from the `critical` region will not synchronize with the acquire flush that occurs on the atomic read operation performed by thread 1. This is because implicit release flushes that occur on a given construct may only synchronize with implicit acquire flushes on a compatible construct (and vice-versa) that internally makes use of the same synchronization variable. For a `critical` construct, this might correspond to a  _lock_  object that is used by a given implementation (for the synchronization semantics of other constructs due to implicit release and acquire flushes, refer to the  _Implicit Flushes_  section of the OpenMP Specifications document).  Either an explicit `flush` directive that provides a release flush (i.e., a flush without a list that does not have the `acquire` clause) must be specified between the `critical` construct and the atomic write, or an atomic operation that modifies  _y_  and provides release semantics must be specified."
   ]
  },
  {
   "cell_type": "markdown",
   "metadata": {},
   "source": [
    ""
   ]
  },
  {
   "cell_type": "markdown",
   "metadata": {},
   "source": [
    ""
   ]
  },
  {
   "cell_type": "code",
   "execution_count": null,
   "metadata": {},
   "outputs": [],
   "source": [
    "//%compiler: clang\n",
 "//%cflags: -fopenmp\n",
 "\n",
    "/*\n",
    "* name: acquire_release.4.c\n",
    "* type: C\n",
    "* version: omp_5.0\n",
    "*/\n",
    "\n",
    "#include <stdio.h>\n",
    "#include <omp.h>\n",
    "\n",
    "int main()\n",
    "{\n",
    "\n",
    "// !!! THIS CODE WILL FAIL TO PRODUCE CONSISTENT RESULTS !!!!!!!\n",
    "// !!! DO NOT PROGRAM SYNCHRONIZATION THIS WAY !!!!!!!\n",
    "\n",
    "   int x = 0, y;\n",
    "   #pragma omp parallel num_threads(2)\n",
    "   {\n",
    "      int thrd = omp_get_thread_num();\n",
    "      if (thrd == 0) {\n",
    "         #pragma omp critical\n",
    "         { x = 10; }\n",
    "         // an explicit flush directive that provides\n",
    "         // release semantics is needed here\n",
    "         // to complete the synchronization.\n",
    "         #pragma omp atomic write\n",
    "         y = 1;\n",
    "      } else {\n",
    "         int tmp = 0;\n",
    "         while (tmp == 0) {\n",
    "            #pragma omp atomic read acquire // or seq_cst\n",
    "            tmp = y;\n",
    "         }\n",
    "         #pragma omp critical\n",
    "         { printf(\"x = %d\\n\", x); }  // !! NOT ALWAYS 10\n",
    "      }\n",
    "   }\n",
    "   return 0;\n",
    "}\n",
    "\n"
   ]
  },
  {
   "cell_type": "markdown",
   "metadata": {},
   "source": [
    ""
   ]
  },
  {
   "cell_type": "code",
   "execution_count": null,
   "metadata": {},
   "outputs": [],
   "source": [
    "\n",
    "! name: acquire_release.4.f90\n",
    "! type: F-free\n",
    "! version: omp_5.0\n",
    "\n",
    "program rel_acq_ex4\n",
    "   use omp_lib\n",
    "   integer :: x, y, thrd\n",
    "   integer :: tmp\n",
    "   x = 0\n",
    "\n",
    "!! !!! THIS CODE WILL FAIL TO PRODUCE CONSISTENT RESULTS !!!!!!!\n",
    "!! !!! DO NOT PROGRAM SYNCHRONIZATION THIS WAY !!!!!!!\n",
    "\n",
    "   !$omp parallel num_threads(2) private(thrd) private(tmp)\n",
    "      thrd = omp_get_thread_num()\n",
    "      if (thrd == 0) then\n",
    "         !$omp critical\n",
    "         x = 10\n",
    "         !$omp end critical\n",
    "         ! an explicit flush directive that provides\n",
    "         ! release semantics is needed here to\n",
    "         ! complete the synchronization.\n",
    "         !$omp atomic write\n",
    "         y = 1\n",
    "         !$omp end atomic\n",
    "      else\n",
    "         tmp = 0\n",
    "         do while(tmp == 0)\n",
    "           !$omp atomic read acquire ! or seq_cst\n",
    "           tmp = x\n",
    "           !$omp end atomic\n",
    "         end do\n",
    "         !$omp critical\n",
    "         print *, \"x = \", x  !! !! NOT ALWAYS 10\n",
    "         !$omp end critical\n",
    "      end if\n",
    "   !$omp end parallel\n",
    "end program\n",
    "\n"
   ]
  },
  {
   "cell_type": "markdown",
   "metadata": {},
   "source": [
    ""
   ]
  },
  {
   "cell_type": "markdown",
   "metadata": {},
   "source": [
    ""
   ]
  }
 ],
 "metadata": {
  "kernelspec": {
   "display_name": "Native",
   "language": "native",
   "name": "native"
  },
  "language_info": {
   "file_extension": ".c",
   "mimetype": "text/plain",
   "name": "none"
  }
 },
 "nbformat": 4,
 "nbformat_minor": 2
}