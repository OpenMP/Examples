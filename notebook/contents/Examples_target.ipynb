{
 "cells": [
  {
   "cell_type": "markdown",
   "metadata": {},
   "source": [
    ""
   ]
  },
  {
   "cell_type": "markdown",
   "metadata": {},
   "source": [
    "## `target` Construct"
   ]
  },
  {
   "cell_type": "markdown",
   "metadata": {},
   "source": [
    ""
   ]
  },
  {
   "cell_type": "markdown",
   "metadata": {},
   "source": [
    ""
   ]
  },
  {
   "cell_type": "markdown",
   "metadata": {},
   "source": [
    "### `target` Construct on `parallel` Construct"
   ]
  },
  {
   "cell_type": "markdown",
   "metadata": {},
   "source": [
    ""
   ]
  },
  {
   "cell_type": "markdown",
   "metadata": {},
   "source": [
    "This following example shows how the `target` construct offloads a code  region to a target device. The variables  _p_ ,  _v1_ ,  _v2_ , and  _N_  are implicitly mapped  to the target device."
   ]
  },
  {
   "cell_type": "markdown",
   "metadata": {},
   "source": [
    ""
   ]
  },
  {
   "cell_type": "code",
   "execution_count": null,
   "metadata": {},
   "outputs": [],
   "source": [
    "//%compiler: clang\n",
 "//%cflags: -fopenmp\n",
 "\n",
    "/*\n",
    "* name: target.1c\n",
    "* type: C\n",
    "* version: omp_4.0\n",
    "*/\n",
    "extern void init(float*, float*, int);\n",
    "extern void output(float*, int);\n",
    "void vec_mult(int N)\n",
    "{\n",
    "   int i;\n",
    "   float p[N], v1[N], v2[N];\n",
    "   init(v1, v2, N);\n",
    "   #pragma omp target\n",
    "   #pragma omp parallel for private(i)\n",
    "   for (i=0; i<N; i++)\n",
    "     p[i] = v1[i] * v2[i];\n",
    "   output(p, N);\n",
    "}\n",
    "\n"
   ]
  },
  {
   "cell_type": "markdown",
   "metadata": {},
   "source": [
    ""
   ]
  },
  {
   "cell_type": "markdown",
   "metadata": {},
   "source": [
    ""
   ]
  },
  {
   "cell_type": "code",
   "execution_count": null,
   "metadata": {},
   "outputs": [],
   "source": [
    "\n",
    "! name: target.1f\n",
    "! type: F-free\n",
    "! version:    omp_4.0\n",
    "subroutine vec_mult(N)\n",
    "   integer ::  i,N\n",
    "   real    ::  p(N), v1(N), v2(N)\n",
    "   call init(v1, v2, N)\n",
    "   !$omp target\n",
    "   !$omp parallel do\n",
    "   do i=1,N\n",
    "      p(i) = v1(i) * v2(i)\n",
    "   end do\n",
    "   !$omp end target\n",
    "   call output(p, N)\n",
    "end subroutine\n",
    "\n"
   ]
  },
  {
   "cell_type": "markdown",
   "metadata": {},
   "source": [
    ""
   ]
  },
  {
   "cell_type": "markdown",
   "metadata": {},
   "source": [
    ""
   ]
  },
  {
   "cell_type": "markdown",
   "metadata": {},
   "source": [
    "### `target` Construct with `map` Clause"
   ]
  },
  {
   "cell_type": "markdown",
   "metadata": {},
   "source": [
    ""
   ]
  },
  {
   "cell_type": "markdown",
   "metadata": {},
   "source": [
    "This following example shows how the `target` construct offloads a code  region to a target device. The variables  _p_ ,  _v1_  and  _v2_  are explicitly mapped to the  target device using the `map` clause. The variable  _N_  is implicitly mapped to  the target device."
   ]
  },
  {
   "cell_type": "markdown",
   "metadata": {},
   "source": [
    ""
   ]
  },
  {
   "cell_type": "code",
   "execution_count": null,
   "metadata": {},
   "outputs": [],
   "source": [
    "//%compiler: clang\n",
 "//%cflags: -fopenmp\n",
 "\n",
    "/*\n",
    "* name: target.2c\n",
    "* type: C\n",
    "* version: omp_4.0\n",
    "*/\n",
    "extern void init(float*, float*, int);\n",
    "extern void output(float*, int);\n",
    "void vec_mult(int N)\n",
    "{\n",
    "   int i;\n",
    "   float p[N], v1[N], v2[N];\n",
    "   init(v1, v2, N);\n",
    "   #pragma omp target map(v1, v2, p)\n",
    "   #pragma omp parallel for\n",
    "   for (i=0; i<N; i++)\n",
    "     p[i] = v1[i] * v2[i];\n",
    "   output(p, N);\n",
    "}\n",
    "\n"
   ]
  },
  {
   "cell_type": "markdown",
   "metadata": {},
   "source": [
    ""
   ]
  },
  {
   "cell_type": "markdown",
   "metadata": {},
   "source": [
    ""
   ]
  },
  {
   "cell_type": "code",
   "execution_count": null,
   "metadata": {},
   "outputs": [],
   "source": [
    "\n",
    "! name: target.2f\n",
    "! type: F-free\n",
    "! version:    omp_4.0\n",
    "subroutine vec_mult(N)\n",
    "   integer ::  i,N\n",
    "   real    ::  p(N), v1(N), v2(N)\n",
    "   call init(v1, v2, N)\n",
    "   !$omp target map(v1,v2,p)\n",
    "   !$omp parallel do\n",
    "   do i=1,N\n",
    "      p(i) = v1(i) * v2(i)\n",
    "   end do\n",
    "   !$omp end target\n",
    "   call output(p, N)\n",
    "end subroutine\n",
    "\n"
   ]
  },
  {
   "cell_type": "markdown",
   "metadata": {},
   "source": [
    ""
   ]
  },
  {
   "cell_type": "markdown",
   "metadata": {},
   "source": [
    ""
   ]
  },
  {
   "cell_type": "markdown",
   "metadata": {},
   "source": [
    "### `map` Clause with `to`/`from` map-types"
   ]
  },
  {
   "cell_type": "markdown",
   "metadata": {},
   "source": [
    ""
   ]
  },
  {
   "cell_type": "markdown",
   "metadata": {},
   "source": [
    "The following example shows how the `target` construct offloads a code region  to a target device. In the `map` clause, the `to` and `from`  map-types define the mapping between the original (host) data and the target (device)  data. The `to` map-type specifies that the data will only be read on the  device, and the `from` map-type specifies that the data will only be written  to on the device. By specifying a guaranteed access on the device, data transfers  can be reduced for the `target` region."
   ]
  },
  {
   "cell_type": "markdown",
   "metadata": {},
   "source": [
    "The `to` map-type indicates that at the start of the `target` region  the variables  _v1_  and  _v2_  are initialized with the values of the corresponding variables  on the host device, and at the end of the `target` region the variables   _v1_  and  _v2_  are not assigned to their corresponding variables on the host device."
   ]
  },
  {
   "cell_type": "markdown",
   "metadata": {},
   "source": [
    "The `from` map-type indicates that at the start of the `target` region  the variable  _p_  is not initialized with the value of the corresponding variable  on the host device, and at the end of the `target` region the variable  _p_   is assigned to the corresponding variable on the host device."
   ]
  },
  {
   "cell_type": "markdown",
   "metadata": {},
   "source": [
    ""
   ]
  },
  {
   "cell_type": "code",
   "execution_count": null,
   "metadata": {},
   "outputs": [],
   "source": [
    "//%compiler: clang\n",
 "//%cflags: -fopenmp\n",
 "\n",
    "/*\n",
    "* name: target.3c\n",
    "* type: C\n",
    "* version: omp_4.0\n",
    "*/\n",
    "extern void init(float*, float*, int);\n",
    "extern void output(float*, int);\n",
    "void vec_mult(int N)\n",
    "{\n",
    "   int i;\n",
    "   float p[N], v1[N], v2[N];\n",
    "   init(v1, v2, N);\n",
    "   #pragma omp target map(to: v1, v2) map(from: p)\n",
    "   #pragma omp parallel for\n",
    "   for (i=0; i<N; i++)\n",
    "     p[i] = v1[i] * v2[i];\n",
    "   output(p, N);\n",
    "}\n",
    "\n"
   ]
  },
  {
   "cell_type": "markdown",
   "metadata": {},
   "source": [
    ""
   ]
  },
  {
   "cell_type": "markdown",
   "metadata": {},
   "source": [
    "The `to` and `from` map-types allow programmers to optimize data  motion. Since data for the  _v_  arrays are not returned, and data for the  _p_  array  are not transferred to the device, only one-half of the data is moved, compared  to the default behavior of an implicit mapping."
   ]
  },
  {
   "cell_type": "markdown",
   "metadata": {},
   "source": [
    ""
   ]
  },
  {
   "cell_type": "code",
   "execution_count": null,
   "metadata": {},
   "outputs": [],
   "source": [
    "\n",
    "! name: target.3f\n",
    "! type: F-free\n",
    "! version:    omp_4.0\n",
    "subroutine vec_mult(N)\n",
    "   integer ::  i,N\n",
    "   real    ::  p(N), v1(N), v2(N)\n",
    "   call init(v1, v2, N)\n",
    "   !$omp target map(to: v1,v2) map(from: p)\n",
    "   !$omp parallel do\n",
    "   do i=1,N\n",
    "      p(i) = v1(i) * v2(i)\n",
    "   end do\n",
    "   !$omp end target\n",
    "   call output(p, N)\n",
    "end subroutine\n",
    "\n"
   ]
  },
  {
   "cell_type": "markdown",
   "metadata": {},
   "source": [
    ""
   ]
  },
  {
   "cell_type": "markdown",
   "metadata": {},
   "source": [
    ""
   ]
  },
  {
   "cell_type": "markdown",
   "metadata": {},
   "source": [
    "### `map` Clause with Array Sections"
   ]
  },
  {
   "cell_type": "markdown",
   "metadata": {},
   "source": [
    ""
   ]
  },
  {
   "cell_type": "markdown",
   "metadata": {},
   "source": [
    "The following example shows how the `target` construct offloads a code region  to a target device. In the `map` clause, map-types are used to optimize  the mapping of variables to the target device. Because variables  _p_ ,  _v1_  and  _v2_  are  pointers, array section notation must be used to map the arrays. The notation `:N`  is equivalent to `0:N`."
   ]
  },
  {
   "cell_type": "markdown",
   "metadata": {},
   "source": [
    ""
   ]
  },
  {
   "cell_type": "code",
   "execution_count": null,
   "metadata": {},
   "outputs": [],
   "source": [
    "//%compiler: clang\n",
 "//%cflags: -fopenmp\n",
 "\n",
    "/*\n",
    "* name: target.4c\n",
    "* type: C\n",
    "* version: omp_4.0\n",
    "*/\n",
    "extern void init(float*, float*, int);\n",
    "extern void output(float*, int);\n",
    "void vec_mult(float *p, float *v1, float *v2, int N)\n",
    "{\n",
    "   int i;\n",
    "   init(v1, v2, N);\n",
    "   #pragma omp target map(to: v1[0:N], v2[:N]) map(from: p[0:N])\n",
    "   #pragma omp parallel for\n",
    "   for (i=0; i<N; i++)\n",
    "     p[i] = v1[i] * v2[i];\n",
    "   output(p, N);\n",
    "}\n",
    "\n"
   ]
  },
  {
   "cell_type": "markdown",
   "metadata": {},
   "source": [
    ""
   ]
  },
  {
   "cell_type": "markdown",
   "metadata": {},
   "source": [
    "In C, the length of the pointed-to array must be specified. In Fortran the extent  of the array is known and the length need not be specified. A section of the array  can be specified with the usual Fortran syntax, as shown in the following example.  The value 1 is assumed for the lower bound for array section  _v2(:N)_ ."
   ]
  },
  {
   "cell_type": "markdown",
   "metadata": {},
   "source": [
    ""
   ]
  },
  {
   "cell_type": "code",
   "execution_count": null,
   "metadata": {},
   "outputs": [],
   "source": [
    "\n",
    "! name: target.4f\n",
    "! type: F-free\n",
    "! version:    omp_4.0\n",
    "module mults\n",
    "contains\n",
    "subroutine vec_mult(p,v1,v2,N)\n",
    "   real,pointer,dimension(:) :: p, v1, v2\n",
    "   integer                   :: N,i\n",
    "   call init(v1, v2, N)\n",
    "   !$omp target map(to: v1(1:N), v2(:N)) map(from: p(1:N))\n",
    "   !$omp parallel do\n",
    "   do i=1,N\n",
    "      p(i) = v1(i) * v2(i)\n",
    "   end do\n",
    "   !$omp end target\n",
    "   call output(p, N)\n",
    "end subroutine\n",
    "end module\n",
    "\n"
   ]
  },
  {
   "cell_type": "markdown",
   "metadata": {},
   "source": [
    ""
   ]
  },
  {
   "cell_type": "markdown",
   "metadata": {},
   "source": [
    "A more realistic situation in which an assumed-size array is passed to `vec_mult`  requires that the length of the arrays be specified, because the compiler does  not know the size of the storage. A section of the array must be specified with  the usual Fortran syntax, as shown in the following example. The value 1 is assumed  for the lower bound for array section  _v2(:N)_ ."
   ]
  },
  {
   "cell_type": "markdown",
   "metadata": {},
   "source": [
    ""
   ]
  },
  {
   "cell_type": "code",
   "execution_count": null,
   "metadata": {},
   "outputs": [],
   "source": [
    "\n",
    "! name: target.4bf\n",
    "! type: F-free\n",
    "! version:    omp_4.0\n",
    "module mults\n",
    "contains\n",
    "subroutine vec_mult(p,v1,v2,N)\n",
    "   real,dimension(*) :: p, v1, v2\n",
    "   integer           :: N,i\n",
    "   call init(v1, v2, N)\n",
    "   !$omp target map(to: v1(1:N), v2(:N)) map(from: p(1:N))\n",
    "   !$omp parallel do\n",
    "   do i=1,N\n",
    "      p(i) = v1(i) * v2(i)\n",
    "   end do\n",
    "   !$omp end target\n",
    "   call output(p, N)\n",
    "end subroutine\n",
    "end module\n",
    "\n"
   ]
  },
  {
   "cell_type": "markdown",
   "metadata": {},
   "source": [
    ""
   ]
  },
  {
   "cell_type": "markdown",
   "metadata": {},
   "source": [
    ""
   ]
  },
  {
   "cell_type": "markdown",
   "metadata": {},
   "source": [
    "### `target` Construct with `if` Clause"
   ]
  },
  {
   "cell_type": "markdown",
   "metadata": {},
   "source": [
    ""
   ]
  },
  {
   "cell_type": "markdown",
   "metadata": {},
   "source": [
    "The following example shows how the `target` construct offloads a code region  to a target device."
   ]
  },
  {
   "cell_type": "markdown",
   "metadata": {},
   "source": [
    "The `if` clause on the `target` construct indicates that if the variable   _N_  is smaller than a given threshold, then the `target` region will be executed  by the host device."
   ]
  },
  {
   "cell_type": "markdown",
   "metadata": {},
   "source": [
    "The `if` clause on the `parallel` construct indicates that if the  variable  _N_  is smaller than a second threshold then the `parallel` region  is inactive."
   ]
  },
  {
   "cell_type": "markdown",
   "metadata": {},
   "source": [
    ""
   ]
  },
  {
   "cell_type": "code",
   "execution_count": null,
   "metadata": {},
   "outputs": [],
   "source": [
    "//%compiler: clang\n",
 "//%cflags: -fopenmp\n",
 "\n",
    "/*\n",
    "* name: target.5c\n",
    "* type: C\n",
    "* version: omp_4.0\n",
    "*/\n",
    "#define THRESHOLD1 1000000\n",
    "#define THRESHOLD2 1000\n",
    "\n",
    "extern void init(float*, float*, int);\n",
    "extern void output(float*, int);\n",
    "\n",
    "void vec_mult(float *p, float *v1, float *v2, int N)\n",
    "{\n",
    "   int i;\n",
    "\n",
    "   init(v1, v2, N);\n",
    "\n",
    "   #pragma omp target if(N>THRESHOLD1) map(to: v1[0:N], v2[:N])\\\n",
    " map(from: p[0:N])\n",
    "   #pragma omp parallel for if(N>THRESHOLD2)\n",
    "   for (i=0; i<N; i++)\n",
    "     p[i] = v1[i] * v2[i];\n",
    "\n",
    "   output(p, N);\n",
    "}\n",
    "\n"
   ]
  },
  {
   "cell_type": "markdown",
   "metadata": {},
   "source": [
    ""
   ]
  },
  {
   "cell_type": "markdown",
   "metadata": {},
   "source": [
    ""
   ]
  },
  {
   "cell_type": "code",
   "execution_count": null,
   "metadata": {},
   "outputs": [],
   "source": [
    "\n",
    "! name: target.5f\n",
    "! type: F-free\n",
    "! version:    omp_4.0\n",
    "module params\n",
    "integer,parameter :: THRESHOLD1=1000000, THRESHHOLD2=1000\n",
    "end module\n",
    "\n",
    "subroutine vec_mult(p, v1, v2, N)\n",
    "   use params\n",
    "   real    ::  p(N), v1(N), v2(N)\n",
    "   integer ::  i\n",
    "\n",
    "   call init(v1, v2, N)\n",
    "\n",
    "   !$omp target if(N>THRESHHOLD1) map(to: v1, v2 ) map(from: p)\n",
    "      !$omp parallel do if(N>THRESHOLD2)\n",
    "      do i=1,N\n",
    "  p(i) = v1(i) * v2(i)\n",
    "      end do\n",
    "   !$omp end target\n",
    "\n",
    "   call output(p, N)\n",
    "end subroutine\n",
    "\n"
   ]
  },
  {
   "cell_type": "markdown",
   "metadata": {},
   "source": [
    ""
   ]
  },
  {
   "cell_type": "markdown",
   "metadata": {},
   "source": [
    "The following example is a modification of the above  _target.5_  code to show the combined `target` and parallel loop directives. It uses the  _directive-name_  modifier in multiple `if` clauses to specify the component directive to which it applies."
   ]
  },
  {
   "cell_type": "markdown",
   "metadata": {},
   "source": [
    "The `if` clause with the `target` modifier applies to the `target` component of the  combined directive, and the `if` clause with the `parallel` modifier applies  to the `parallel` component of the combined directive."
   ]
  },
  {
   "cell_type": "markdown",
   "metadata": {},
   "source": [
    ""
   ]
  },
  {
   "cell_type": "code",
   "execution_count": null,
   "metadata": {},
   "outputs": [],
   "source": [
    "//%compiler: clang\n",
 "//%cflags: -fopenmp\n",
 "\n",
    "/*\n",
    "* name: target.6c\n",
    "* type: C\n",
    "* version: omp_4.5\n",
    "*/\n",
    "#define THRESHOLD1 1000000\n",
    "#define THRESHOLD2 1000\n",
    "\n",
    "extern void init(float*, float*, int);\n",
    "extern void output(float*, int);\n",
    "\n",
    "void vec_mult(float *p, float *v1, float *v2, int N)\n",
    "{\n",
    "   int i;\n",
    "\n",
    "   init(v1, v2, N);\n",
    "\n",
    "   #pragma omp target parallel for \\\n",
    "        if(target: N>THRESHOLD1) if(parallel: N>THRESHOLD2) \\\n",
    "        map(to: v1[0:N], v2[:N]) map(from: p[0:N])\n",
    "   for (i=0; i<N; i++)\n",
    "     p[i] = v1[i] * v2[i];\n",
    "\n",
    "   output(p, N);\n",
    "}\n",
    "\n"
   ]
  },
  {
   "cell_type": "markdown",
   "metadata": {},
   "source": [
    ""
   ]
  },
  {
   "cell_type": "markdown",
   "metadata": {},
   "source": [
    ""
   ]
  },
  {
   "cell_type": "code",
   "execution_count": null,
   "metadata": {},
   "outputs": [],
   "source": [
    "\n",
    "! name: target.6f90\n",
    "! type: F-free\n",
    "! version:    omp_4.5\n",
    "module params\n",
    "integer,parameter :: THRESHOLD1=1000000, THRESHHOLD2=1000\n",
    "end module\n",
    "\n",
    "subroutine vec_mult(p, v1, v2, N)\n",
    "   use params\n",
    "   real    ::  p(N), v1(N), v2(N)\n",
    "   integer ::  i\n",
    "\n",
    "   call init(v1, v2, N)\n",
    "\n",
    "   !$omp target parallel do  &\n",
    "   !$omp&   if(target: N>THRESHHOLD1) if(parallel: N>THRESHOLD2) &\n",
    "   !$omp&   map(to: v1, v2 ) map(from: p)\n",
    "      do i=1,N\n",
    "  p(i) = v1(i) * v2(i)\n",
    "      end do\n",
    "   !$omp end target parallel do\n",
    "\n",
    "   call output(p, N)\n",
    "end subroutine\n",
    "\n"
   ]
  },
  {
   "cell_type": "markdown",
   "metadata": {},
   "source": [
    ""
   ]
  },
  {
   "cell_type": "markdown",
   "metadata": {},
   "source": [
    ""
   ]
  },
  {
   "cell_type": "markdown",
   "metadata": {},
   "source": [
    "### target Reverse Offload"
   ]
  },
  {
   "cell_type": "markdown",
   "metadata": {},
   "source": [
    ""
   ]
  },
  {
   "cell_type": "markdown",
   "metadata": {},
   "source": [
    "Beginning with OpenMP 5.0, implementations are allowed to offload back to the host (reverse offload)."
   ]
  },
  {
   "cell_type": "markdown",
   "metadata": {},
   "source": [
    "In the example below the  _error_handler_  function is executed back on the host, if an erroneous value is detected in the  _A_  array on the device."
   ]
  },
  {
   "cell_type": "markdown",
   "metadata": {},
   "source": [
    "This is accomplished by specifying the  _device-modifier_  `ancestor` modifier, along with a device number of `1`, to indicate that the execution is to be performed on the immediate parent ( _1st ancestor_ )-- the host."
   ]
  },
  {
   "cell_type": "markdown",
   "metadata": {},
   "source": [
    "The `requires` directive (another 5.0 feature) uses the `reverse_offload` clause to guarantee that the reverse offload is implemented."
   ]
  },
  {
   "cell_type": "markdown",
   "metadata": {},
   "source": [
    "Note that the `declare target` directive uses the `device_type` clause (another 5.0 feature) to specify that the  _error_handler_  function is compiled to execute on the  _host_  only. This ensures that no attempt will be made to create a device version of the function.  This feature may be necessary if the function exists in another compile unit."
   ]
  },
  {
   "cell_type": "markdown",
   "metadata": {},
   "source": [
    ""
   ]
  },
  {
   "cell_type": "markdown",
   "metadata": {},
   "source": [
    ""
   ]
  },
  {
   "cell_type": "code",
   "execution_count": null,
   "metadata": {},
   "outputs": [],
   "source": [
    "//%compiler: clang\n",
 "//%cflags: -fopenmp\n",
 "\n",
    "/*\n",
    "* name: target_reverse_offload.1c\n",
    "* type: C\n",
    "* version: omp_5.0\n",
    "*/\n",
    "\n",
    "#include <stdio.h>\n",
    "#include <stdlib.h>\n",
    "\n",
    "#define N 100\n",
    "\n",
    "#pragma omp requires reverse_offload\n",
    "\n",
    "void error_handler(int wrong_value, int index)\n",
    "{\n",
    "   printf(\" Error in offload: A[%d]=%d\\n\", index,wrong_value);\n",
    "   printf(\"        Expecting: A[i ]=i\\n\");\n",
    "   exit(1);\n",
    "// output:  Error in offload: A[99]=-1\n",
    "//                 Expecting: A[i ]=i\n",
    "\n",
    "}\n",
    "#pragma omp declare target device_type(host) to(error_handler)\n",
    "\n",
    "int main()\n",
    "{\n",
    "   int A[N];\n",
    "\n",
    "   for (int i=0; i<N; i++) A[i] = i;\n",
    "\n",
    "   A[N-1]=-1;\n",
    "\n",
    "   #pragma omp target map(A)\n",
    "   {\n",
    "      for (int i=0; i<N; i++)\n",
    "      {\n",
    "         if (A[i] != i)\n",
    "         {\n",
    "            #pragma omp target device(ancestor: 1) map(always,to: A[i:1])\n",
    "               error_handler(A[i], i);\n",
    "         }\n",
    "      }\n",
    "   }\n",
    "   return 0;\n",
    "}\n",
    "\n"
   ]
  },
  {
   "cell_type": "markdown",
   "metadata": {},
   "source": [
    ""
   ]
  },
  {
   "cell_type": "markdown",
   "metadata": {},
   "source": [
    ""
   ]
  },
  {
   "cell_type": "code",
   "execution_count": null,
   "metadata": {},
   "outputs": [],
   "source": [
    "\n",
    "! name:       target_reverse_offload.1f\n",
    "! type:       F-free\n",
    "! version:    omp_5.0\n",
    "\n",
    "!$omp requires reverse_offload\n",
    "\n",
    "subroutine error_handler(wrong_value, index)\n",
    "  integer :: wrong_value,index\n",
    "  !$omp declare target device_type(host)\n",
    "\n",
    "   write( *,'(\"Error in offload: A(\",i3,\")=\",i3)' ) index,wrong_value\n",
    "   write( *,'(\"       Expecting: A(  i)=  i\")'    )\n",
    "   stop\n",
    "     !!output: Error in offload: A( 99)= -1\n",
    "     !!               Expecting: A(  i)=  i\n",
    "end subroutine\n",
    "\n",
    "program rev_off\n",
    "  use omp_lib\n",
    "  integer, parameter :: N=100\n",
    "  integer            :: A(N) = (/ (i, i=1,100) /)\n",
    "\n",
    "   A(N-1)=-1\n",
    "\n",
    "   !$omp target map(A)\n",
    "      do i=1,N\n",
    "         if (A(i) /= i)  then\n",
    "           !$omp target device(ancestor: 1) map(always,to :A(i))\n",
    "               call error_handler(A(i), i)\n",
    "           !$omp end target\n",
    "         endif\n",
    "      end do\n",
    "   !$omp end target\n",
    "\n",
    "end program\n",
    "\n"
   ]
  },
  {
   "cell_type": "markdown",
   "metadata": {},
   "source": [
    ""
   ]
  },
  {
   "cell_type": "markdown",
   "metadata": {},
   "source": [
    ""
   ]
  }
 ],
 "metadata": {
  "kernelspec": {
   "display_name": "Native",
   "language": "native",
   "name": "native"
  },
  "language_info": {
   "file_extension": ".c",
   "mimetype": "text/plain",
   "name": "none"
  }
 },
 "nbformat": 4,
 "nbformat_minor": 2
}