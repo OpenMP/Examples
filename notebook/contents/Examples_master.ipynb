{
 "cells": [
  {
   "cell_type": "markdown",
   "metadata": {},
   "source": [
    ""
   ]
  },
  {
   "cell_type": "markdown",
   "metadata": {},
   "source": [
    "## The `master` Construct"
   ]
  },
  {
   "cell_type": "markdown",
   "metadata": {},
   "source": [
    ""
   ]
  },
  {
   "cell_type": "markdown",
   "metadata": {},
   "source": [
    "The following example demonstrates the master construct . In the example, the master  keeps track of how many iterations have been executed and prints out a progress  report. The other threads skip the master region without waiting."
   ]
  },
  {
   "cell_type": "markdown",
   "metadata": {},
   "source": [
    ""
   ]
  },
  {
   "cell_type": "code",
   "execution_count": null,
   "metadata": {},
   "outputs": [],
   "source": [
    "//%compiler: clang\n",
 "//%cflags: -fopenmp\n",
 "\n",
    "/*\n",
    "* name: master.1c\n",
    "* type: C\n",
    "*/\n",
    "#include <stdio.h>\n",
    "\n",
    "extern float average(float,float,float);\n",
    "\n",
    "void master_example( float* x, float* xold, int n, float tol )\n",
    "{\n",
    "  int c, i, toobig;\n",
    "  float error, y;\n",
    "  c = 0;\n",
    "  #pragma omp parallel\n",
    "  {\n",
    "    do{\n",
    "      #pragma omp for private(i)\n",
    "      for( i = 1; i < n-1; ++i ){\n",
    "        xold[i] = x[i];\n",
    "      }\n",
    "      #pragma omp single\n",
    "      {\n",
    "        toobig = 0;\n",
    "      }\n",
    "      #pragma omp for private(i,y,error) reduction(+:toobig)\n",
    "      for( i = 1; i < n-1; ++i ){\n",
    "        y = x[i];\n",
    "        x[i] = average( xold[i-1], x[i], xold[i+1] );\n",
    "        error = y - x[i];\n",
    "        if( error > tol || error < -tol ) ++toobig;\n",
    "      }\n",
    "      #pragma omp master\n",
    "      {\n",
    "        ++c;\n",
    "        printf( \"iteration %d, toobig=%d\\n\", c, toobig );\n",
    "      }\n",
    "    }while( toobig > 0 );\n",
    "  }\n",
    "}\n",
    "\n"
   ]
  },
  {
   "cell_type": "markdown",
   "metadata": {},
   "source": [
    ""
   ]
  },
  {
   "cell_type": "markdown",
   "metadata": {},
   "source": [
    ""
   ]
  },
  {
   "cell_type": "code",
   "execution_count": null,
   "metadata": {},
   "outputs": [],
   "source": [
    "\n",
    "! name: master.1f\n",
    "! type: F-fixed\n",
    "      SUBROUTINE MASTER_EXAMPLE( X, XOLD, N, TOL )\n",
    "      REAL X(*), XOLD(*), TOL\n",
    "      INTEGER N\n",
    "      INTEGER C, I, TOOBIG\n",
    "      REAL ERROR, Y, AVERAGE\n",
    "      EXTERNAL AVERAGE\n",
    "      C = 0\n",
    "      TOOBIG = 1\n",
    "!$OMP PARALLEL\n",
    "        DO WHILE( TOOBIG > 0 )\n",
    "!$OMP     DO PRIVATE(I)\n",
    "            DO I = 2, N-1\n",
    "              XOLD(I) = X(I)\n",
    "            ENDDO\n",
    "!$OMP     SINGLE\n",
    "            TOOBIG = 0\n",
    "!$OMP     END SINGLE\n",
    "!$OMP     DO PRIVATE(I,Y,ERROR), REDUCTION(+:TOOBIG)\n",
    "            DO I = 2, N-1\n",
    "              Y = X(I)\n",
    "              X(I) = AVERAGE( XOLD(I-1), X(I), XOLD(I+1) )\n",
    "              ERROR = Y-X(I)\n",
    "              IF( ERROR > TOL .OR. ERROR < -TOL ) TOOBIG = TOOBIG+1\n",
    "            ENDDO\n",
    "!$OMP     MASTER\n",
    "            C = C + 1\n",
    "            PRINT *, 'Iteration ', C, 'TOOBIG=', TOOBIG\n",
    "!$OMP     END MASTER\n",
    "        ENDDO\n",
    "!$OMP END PARALLEL\n",
    "      END SUBROUTINE MASTER_EXAMPLE\n",
    "\n"
   ]
  },
  {
   "cell_type": "markdown",
   "metadata": {},
   "source": [
    ""
   ]
  },
  {
   "cell_type": "markdown",
   "metadata": {},
   "source": [
    ""
   ]
  },
  {
   "cell_type": "markdown",
   "metadata": {},
   "source": [
    ""
   ]
  }
 ],
 "metadata": {
  "kernelspec": {
   "display_name": "Native",
   "language": "native",
   "name": "native"
  },
  "language_info": {
   "file_extension": ".c",
   "mimetype": "text/plain",
   "name": "none"
  }
 },
 "nbformat": 4,
 "nbformat_minor": 2
}