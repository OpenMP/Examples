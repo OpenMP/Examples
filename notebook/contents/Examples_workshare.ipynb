{
 "cells": [
  {
   "cell_type": "markdown",
   "metadata": {},
   "source": [
    ""
   ]
  },
  {
   "cell_type": "markdown",
   "metadata": {},
   "source": [
    "## The `workshare` Construct"
   ]
  },
  {
   "cell_type": "markdown",
   "metadata": {},
   "source": [
    ""
   ]
  },
  {
   "cell_type": "markdown",
   "metadata": {},
   "source": [
    "The following are examples of the `workshare` construct."
   ]
  },
  {
   "cell_type": "markdown",
   "metadata": {},
   "source": [
    "In the following example, `workshare` spreads work across the threads executing  the `parallel` region, and there is a barrier after the last statement.  Implementations must enforce Fortran execution rules inside of the `workshare`  block."
   ]
  },
  {
   "cell_type": "markdown",
   "metadata": {},
   "source": [
    ""
   ]
  },
  {
   "cell_type": "code",
   "execution_count": null,
   "metadata": {},
   "outputs": [],
   "source": [
    "\n",
    "! name: workshare.1f\n",
    "! type: F-fixed\n",
    "      SUBROUTINE WSHARE1(AA, BB, CC, DD, EE, FF, N)\n",
    "      INTEGER N\n",
    "      REAL AA(N,N), BB(N,N), CC(N,N), DD(N,N), EE(N,N), FF(N,N)\n",
    "\n",
    "!$OMP    PARALLEL\n",
    "!$OMP     WORKSHARE\n",
    "            AA = BB\n",
    "            CC = DD\n",
    "            EE = FF\n",
    "!$OMP     END WORKSHARE\n",
    "!$OMP   END PARALLEL\n",
    "\n",
    "      END SUBROUTINE WSHARE1\n",
    "\n"
   ]
  },
  {
   "cell_type": "markdown",
   "metadata": {},
   "source": [
    ""
   ]
  },
  {
   "cell_type": "markdown",
   "metadata": {},
   "source": [
    "In the following example, the barrier at the end of the first `workshare`  region is eliminated with a `nowait` clause. Threads doing `CC =  DD` immediately begin work on `EE = FF` when they are done with `CC  = DD`."
   ]
  },
  {
   "cell_type": "markdown",
   "metadata": {},
   "source": [
    ""
   ]
  },
  {
   "cell_type": "code",
   "execution_count": null,
   "metadata": {},
   "outputs": [],
   "source": [
    "\n",
    "! name: workshare.2f\n",
    "! type: F-fixed\n",
    "      SUBROUTINE WSHARE2(AA, BB, CC, DD, EE, FF, N)\n",
    "      INTEGER N\n",
    "      REAL AA(N,N), BB(N,N), CC(N,N)\n",
    "      REAL DD(N,N), EE(N,N), FF(N,N)\n",
    "\n",
    "!$OMP   PARALLEL\n",
    "!$OMP     WORKSHARE\n",
    "            AA = BB\n",
    "            CC = DD\n",
    "!$OMP     END WORKSHARE NOWAIT\n",
    "!$OMP     WORKSHARE\n",
    "            EE = FF\n",
    "!$OMP     END WORKSHARE\n",
    "!$OMP   END PARALLEL\n",
    "       END SUBROUTINE WSHARE2\n",
    "\n"
   ]
  },
  {
   "cell_type": "markdown",
   "metadata": {},
   "source": [
    ""
   ]
  },
  {
   "cell_type": "markdown",
   "metadata": {},
   "source": [
    "The following example shows the use of an `atomic` directive inside a `workshare`  construct. The computation of `SUM(AA)` is workshared, but the update to  `R` is atomic."
   ]
  },
  {
   "cell_type": "markdown",
   "metadata": {},
   "source": [
    ""
   ]
  },
  {
   "cell_type": "code",
   "execution_count": null,
   "metadata": {},
   "outputs": [],
   "source": [
    "\n",
    "! name: workshare.3f\n",
    "! type: F-fixed\n",
    "      SUBROUTINE WSHARE3(AA, BB, CC, DD, N)\n",
    "      INTEGER N\n",
    "      REAL AA(N,N), BB(N,N), CC(N,N), DD(N,N)\n",
    "      REAL R\n",
    "        R=0\n",
    "!$OMP   PARALLEL\n",
    "!$OMP     WORKSHARE\n",
    "            AA = BB\n",
    "!$OMP       ATOMIC UPDATE\n",
    "              R = R + SUM(AA)\n",
    "            CC = DD\n",
    "!$OMP     END WORKSHARE\n",
    "!$OMP   END PARALLEL\n",
    "      END SUBROUTINE WSHARE3\n",
    "\n"
   ]
  },
  {
   "cell_type": "markdown",
   "metadata": {},
   "source": [
    ""
   ]
  },
  {
   "cell_type": "markdown",
   "metadata": {},
   "source": [
    "Fortran `WHERE` and `FORALL` statements are **compound statements**,  made up of a **control** part and a **statement** part. When `workshare`  is applied to one of these compound statements, both the control and the statement  parts are workshared. The following example shows the use of a `WHERE` statement  in a `workshare` construct."
   ]
  },
  {
   "cell_type": "markdown",
   "metadata": {},
   "source": [
    "Each task gets worked on in order by the threads:"
   ]
  },
  {
   "cell_type": "markdown",
   "metadata": {},
   "source": [
    "`AA = BB` then  `CC = DD` then  `EE .ne. 0` then  `FF = 1 / EE` then  `GG = HH`"
   ]
  },
  {
   "cell_type": "markdown",
   "metadata": {},
   "source": [
    ""
   ]
  },
  {
   "cell_type": "code",
   "execution_count": null,
   "metadata": {},
   "outputs": [],
   "source": [
    "\n",
    "! name: workshare.4f\n",
    "! type: F-fixed\n",
    "      SUBROUTINE WSHARE4(AA, BB, CC, DD, EE, FF, GG, HH, N)\n",
    "      INTEGER N\n",
    "      REAL AA(N,N), BB(N,N), CC(N,N)\n",
    "      REAL DD(N,N), EE(N,N), FF(N,N)\n",
    "      REAL GG(N,N), HH(N,N)\n",
    "\n",
    "!$OMP   PARALLEL\n",
    "!$OMP     WORKSHARE\n",
    "            AA = BB\n",
    "            CC = DD\n",
    "            WHERE (EE .ne. 0) FF = 1 / EE\n",
    "            GG = HH\n",
    "!$OMP     END WORKSHARE\n",
    "!$OMP   END PARALLEL\n",
    "\n",
    "      END SUBROUTINE WSHARE4\n",
    "\n"
   ]
  },
  {
   "cell_type": "markdown",
   "metadata": {},
   "source": [
    ""
   ]
  },
  {
   "cell_type": "markdown",
   "metadata": {},
   "source": [
    "In the following example, an assignment to a shared scalar variable is performed  by one thread in a `workshare` while all other threads in the team wait."
   ]
  },
  {
   "cell_type": "markdown",
   "metadata": {},
   "source": [
    ""
   ]
  },
  {
   "cell_type": "code",
   "execution_count": null,
   "metadata": {},
   "outputs": [],
   "source": [
    "\n",
    "! name: workshare.5f\n",
    "! type: F-fixed\n",
    "      SUBROUTINE WSHARE5(AA, BB, CC, DD, N)\n",
    "      INTEGER N\n",
    "      REAL AA(N,N), BB(N,N), CC(N,N), DD(N,N)\n",
    "\n",
    "        INTEGER SHR\n",
    "\n",
    "!$OMP   PARALLEL SHARED(SHR)\n",
    "!$OMP     WORKSHARE\n",
    "            AA = BB\n",
    "            SHR = 1\n",
    "            CC = DD * SHR\n",
    "!$OMP     END WORKSHARE\n",
    "!$OMP   END PARALLEL\n",
    "\n",
    "      END SUBROUTINE WSHARE5\n",
    "\n"
   ]
  },
  {
   "cell_type": "markdown",
   "metadata": {},
   "source": [
    ""
   ]
  },
  {
   "cell_type": "markdown",
   "metadata": {},
   "source": [
    "The following example contains an assignment to a private scalar variable, which  is performed by one thread in a `workshare` while all other threads wait.  It is non-conforming because the private scalar variable is undefined after the  assignment statement."
   ]
  },
  {
   "cell_type": "markdown",
   "metadata": {},
   "source": [
    ""
   ]
  },
  {
   "cell_type": "code",
   "execution_count": null,
   "metadata": {},
   "outputs": [],
   "source": [
    "\n",
    "! name: workshare.6f\n",
    "! type: F-fixed\n",
    "      SUBROUTINE WSHARE6_WRONG(AA, BB, CC, DD, N)\n",
    "      INTEGER N\n",
    "      REAL AA(N,N), BB(N,N), CC(N,N), DD(N,N)\n",
    "\n",
    "        INTEGER PRI\n",
    "\n",
    "!$OMP   PARALLEL PRIVATE(PRI)\n",
    "!$OMP     WORKSHARE\n",
    "            AA = BB\n",
    "            PRI = 1\n",
    "            CC = DD * PRI\n",
    "!$OMP     END WORKSHARE\n",
    "!$OMP   END PARALLEL\n",
    "\n",
    "      END SUBROUTINE WSHARE6_WRONG\n",
    "\n"
   ]
  },
  {
   "cell_type": "markdown",
   "metadata": {},
   "source": [
    ""
   ]
  },
  {
   "cell_type": "markdown",
   "metadata": {},
   "source": [
    "Fortran execution rules must be enforced inside a `workshare` construct.  In the following example, the same result is produced in the following program  fragment regardless of whether the code is executed sequentially or inside an OpenMP  program with multiple threads:"
   ]
  },
  {
   "cell_type": "markdown",
   "metadata": {},
   "source": [
    ""
   ]
  },
  {
   "cell_type": "code",
   "execution_count": null,
   "metadata": {},
   "outputs": [],
   "source": [
    "\n",
    "! name: workshare.7f\n",
    "! type: F-fixed\n",
    "      SUBROUTINE WSHARE7(AA, BB, CC, N)\n",
    "      INTEGER N\n",
    "      REAL AA(N), BB(N), CC(N)\n",
    "\n",
    "!$OMP   PARALLEL\n",
    "!$OMP     WORKSHARE\n",
    "            AA(1:50)  = BB(11:60)\n",
    "            CC(11:20) = AA(1:10)\n",
    "!$OMP     END WORKSHARE\n",
    "!$OMP   END PARALLEL\n",
    "\n",
    "      END SUBROUTINE WSHARE7\n",
    "\n"
   ]
  },
  {
   "cell_type": "markdown",
   "metadata": {},
   "source": [
    ""
   ]
  },
  {
   "cell_type": "markdown",
   "metadata": {},
   "source": [
    ""
   ]
  },
  {
   "cell_type": "markdown",
   "metadata": {},
   "source": [
    ""
   ]
  }
 ],
 "metadata": {
  "kernelspec": {
   "display_name": "Native",
   "language": "native",
   "name": "native"
  },
  "language_info": {
   "file_extension": ".c",
   "mimetype": "text/plain",
   "name": "none"
  }
 },
 "nbformat": 4,
 "nbformat_minor": 2
}