{
 "cells": [
  {
   "cell_type": "markdown",
   "metadata": {},
   "source": [
    ""
   ]
  },
  {
   "cell_type": "markdown",
   "metadata": {},
   "source": [
    "# Document Revision History"
   ]
  },
  {
   "cell_type": "markdown",
   "metadata": {},
   "source": [
    ""
   ]
  },
  {
   "cell_type": "markdown",
   "metadata": {},
   "source": [
    ""
   ]
  },
  {
   "cell_type": "markdown",
   "metadata": {},
   "source": [
    "## Changes from 5.0.0 to 5.0.1"
   ]
  },
  {
   "cell_type": "markdown",
   "metadata": {},
   "source": [
    ""
   ]
  },
  {
   "cell_type": "markdown",
   "metadata": {},
   "source": [
    ""
   ]
  },
  {
   "cell_type": "markdown",
   "metadata": {},
   "source": [
    "*  Added version tags (`omp_` _x.y_ ) in example labels  and the corresponding source codes for all examples that feature OpenMP 3.0 and later."
   ]
  },
  {
   "cell_type": "markdown",
   "metadata": {},
   "source": [
    ""
   ]
  },
  {
   "cell_type": "markdown",
   "metadata": {},
   "source": [
    "*  Included additional examples for the 5.0 features:"
   ]
  },
  {
   "cell_type": "markdown",
   "metadata": {},
   "source": [
    ""
   ]
  },
  {
   "cell_type": "markdown",
   "metadata": {},
   "source": [
    "*  Extension to the `defaultmap` clause ( defaultmap )"
   ]
  },
  {
   "cell_type": "markdown",
   "metadata": {},
   "source": [
    "*  Transferring noncontiguous data with the `target` `update` directive in Fortran ( array-shaping )"
   ]
  },
  {
   "cell_type": "markdown",
   "metadata": {},
   "source": [
    "*  `conditional` modifier for the `lastprivate` clause                             ( lastprivate )"
   ]
  },
  {
   "cell_type": "markdown",
   "metadata": {},
   "source": [
    "*  `task` modifier for the `reduction` clause                                      ( task_reduction )"
   ]
  },
  {
   "cell_type": "markdown",
   "metadata": {},
   "source": [
    "*  Reduction on combined target constructs                                                     ( target_reduction )"
   ]
  },
  {
   "cell_type": "markdown",
   "metadata": {},
   "source": [
    "*  Task reduction with target constructs     ( target_task_reduction )"
   ]
  },
  {
   "cell_type": "markdown",
   "metadata": {},
   "source": [
    "*  `scan` directive for returning the **prefix sum** of a reduction                  ( scan )"
   ]
  },
  {
   "cell_type": "markdown",
   "metadata": {},
   "source": [
    ""
   ]
  },
  {
   "cell_type": "markdown",
   "metadata": {},
   "source": [
    ""
   ]
  },
  {
   "cell_type": "markdown",
   "metadata": {},
   "source": [
    "*  Included additional examples for the 4.x features:"
   ]
  },
  {
   "cell_type": "markdown",
   "metadata": {},
   "source": [
    ""
   ]
  },
  {
   "cell_type": "markdown",
   "metadata": {},
   "source": [
    "*  Dependence for undeferred tasks ( depend_undefer_task )"
   ]
  },
  {
   "cell_type": "markdown",
   "metadata": {},
   "source": [
    "*  `ref`, `val`, `uval` modifiers for `linear` clause ( linear_modifier )"
   ]
  },
  {
   "cell_type": "markdown",
   "metadata": {},
   "source": [
    ""
   ]
  },
  {
   "cell_type": "markdown",
   "metadata": {},
   "source": [
    ""
   ]
  },
  {
   "cell_type": "markdown",
   "metadata": {},
   "source": [
    "*  Clarified the description of pointer mapping and pointer attachment in   pointer_mapping ."
   ]
  },
  {
   "cell_type": "markdown",
   "metadata": {},
   "source": [
    "*  Clarified the description of memory model examples in  mem_model ."
   ]
  },
  {
   "cell_type": "markdown",
   "metadata": {},
   "source": [
    ""
   ]
  },
  {
   "cell_type": "markdown",
   "metadata": {},
   "source": [
    ""
   ]
  },
  {
   "cell_type": "markdown",
   "metadata": {},
   "source": [
    ""
   ]
  },
  {
   "cell_type": "markdown",
   "metadata": {},
   "source": [
    "## Changes from 4.5.0 to 5.0.0"
   ]
  },
  {
   "cell_type": "markdown",
   "metadata": {},
   "source": [
    ""
   ]
  },
  {
   "cell_type": "markdown",
   "metadata": {},
   "source": [
    ""
   ]
  },
  {
   "cell_type": "markdown",
   "metadata": {},
   "source": [
    "*  Added the following examples for the 5.0 features:"
   ]
  },
  {
   "cell_type": "markdown",
   "metadata": {},
   "source": [
    ""
   ]
  },
  {
   "cell_type": "markdown",
   "metadata": {},
   "source": [
    "*  Extended `teams` construct for host execution     ( host_teams )"
   ]
  },
  {
   "cell_type": "markdown",
   "metadata": {},
   "source": [
    "*  `loop` and `teams` `loop` constructs specify loop iterations that can execute concurrently                                                               ( loop )"
   ]
  },
  {
   "cell_type": "markdown",
   "metadata": {},
   "source": [
    "*  Task data affinity is indicated by `affinity` clause of `task` construct                                                              (  task_affinity )"
   ]
  },
  {
   "cell_type": "markdown",
   "metadata": {},
   "source": [
    "*  Display thread affinity with `OMP_DISPLAY_AFFINITY` environment variable or `omp_display_affinity()` API routine                                                              ( affinity_display )"
   ]
  },
  {
   "cell_type": "markdown",
   "metadata": {},
   "source": [
    "*  `taskwait` with dependences                       ( taskwait_depend )"
   ]
  },
  {
   "cell_type": "markdown",
   "metadata": {},
   "source": [
    "*  `mutexinoutset` task dependences                  ( task_dep_mutexinoutset )"
   ]
  },
  {
   "cell_type": "markdown",
   "metadata": {},
   "source": [
    "*  Multidependence Iterators (in `depend` clauses)   ( depend_iterator )"
   ]
  },
  {
   "cell_type": "markdown",
   "metadata": {},
   "source": [
    "*  Combined constructs: `parallel` `master` `taskloop` and `parallel` `master` `taskloop` `simd`                                                                                   ( parallel_master_taskloop )"
   ]
  },
  {
   "cell_type": "markdown",
   "metadata": {},
   "source": [
    "*  Reverse Offload through  _ancestor_  modifier of `device` clause.    ( target_reverse_offload )"
   ]
  },
  {
   "cell_type": "markdown",
   "metadata": {},
   "source": [
    "*  Pointer Mapping  - behavior of mapped pointers                              ( pointer_mapping )"
   ]
  },
  {
   "cell_type": "markdown",
   "metadata": {},
   "source": [
    "*  Structure Mapping  - behavior of mapped structures                          ( structure_mapping )"
   ]
  },
  {
   "cell_type": "markdown",
   "metadata": {},
   "source": [
    "*  Array Shaping with the  _shape-operator_                                  ( array-shaping )"
   ]
  },
  {
   "cell_type": "markdown",
   "metadata": {},
   "source": [
    "*  The `declare` `mapper` construct                                  ( declare_mapper )"
   ]
  },
  {
   "cell_type": "markdown",
   "metadata": {},
   "source": [
    "*  Acquire and Release Semantics Synchronization: Memory ordering        clauses `acquire`, `release`, and `acq_rel` were added       to flush and atomic constructs                                                                                   ( acquire_and_release_semantics )"
   ]
  },
  {
   "cell_type": "markdown",
   "metadata": {},
   "source": [
    "*  `depobj` construct provides dependence objects for subsequent use in `depend` clauses                                                                                   ( depobj )"
   ]
  },
  {
   "cell_type": "markdown",
   "metadata": {},
   "source": [
    "*  `reduction` clause for `task` construct                           ( task_reduction )"
   ]
  },
  {
   "cell_type": "markdown",
   "metadata": {},
   "source": [
    "*  `reduction` clause for `taskloop` construct                       ( taskloop_reduction )"
   ]
  },
  {
   "cell_type": "markdown",
   "metadata": {},
   "source": [
    "*  `reduction` clause for `taskloop` `simd` construct           ( taskloop_reduction )"
   ]
  },
  {
   "cell_type": "markdown",
   "metadata": {},
   "source": [
    "*  Memory Allocators for making OpenMP memory requests with traits             ( allocators )"
   ]
  },
  {
   "cell_type": "markdown",
   "metadata": {},
   "source": [
    "*  `requires` directive specifies required features of implementation     ( requires )"
   ]
  },
  {
   "cell_type": "markdown",
   "metadata": {},
   "source": [
    "*  `declare` `variant` directive - for function variants             ( declare_variant )"
   ]
  },
  {
   "cell_type": "markdown",
   "metadata": {},
   "source": [
    "*  `metadirective` directive  - for directive variants                    ( metadirective )"
   ]
  },
  {
   "cell_type": "markdown",
   "metadata": {},
   "source": [
    "*  `OMP_TARGET_OFFLOAD` Environment Variable  - controls offload behavior ( target_offload )"
   ]
  },
  {
   "cell_type": "markdown",
   "metadata": {},
   "source": [
    ""
   ]
  },
  {
   "cell_type": "markdown",
   "metadata": {},
   "source": [
    "*  Included the following additional examples for the 4.x features:"
   ]
  },
  {
   "cell_type": "markdown",
   "metadata": {},
   "source": [
    "*  more taskloop examples ( taskloop )"
   ]
  },
  {
   "cell_type": "markdown",
   "metadata": {},
   "source": [
    "*  user-defined reduction (UDR) ( UDR )"
   ]
  },
  {
   "cell_type": "markdown",
   "metadata": {},
   "source": [
    ""
   ]
  },
  {
   "cell_type": "markdown",
   "metadata": {},
   "source": [
    ""
   ]
  },
  {
   "cell_type": "markdown",
   "metadata": {},
   "source": [
    "## Changes from 4.0.2 to 4.5.0"
   ]
  },
  {
   "cell_type": "markdown",
   "metadata": {},
   "source": [
    ""
   ]
  },
  {
   "cell_type": "markdown",
   "metadata": {},
   "source": [
    "*  Reorganized into chapters of major topics"
   ]
  },
  {
   "cell_type": "markdown",
   "metadata": {},
   "source": [
    "*  Included file extensions in example labels to indicate source type"
   ]
  },
  {
   "cell_type": "markdown",
   "metadata": {},
   "source": [
    "*  Applied the explicit `map(tofrom)` for scalar variables        in a number of examples to comply with        the change of the default behavior for scalar variables from        `map(tofrom)` to `firstprivate` in the 4.5 specification"
   ]
  },
  {
   "cell_type": "markdown",
   "metadata": {},
   "source": [
    "*  Added the following new examples:"
   ]
  },
  {
   "cell_type": "markdown",
   "metadata": {},
   "source": [
    ""
   ]
  },
  {
   "cell_type": "markdown",
   "metadata": {},
   "source": [
    "*  `linear` clause in loop constructs     ( linear_in_loop )"
   ]
  },
  {
   "cell_type": "markdown",
   "metadata": {},
   "source": [
    "*  `priority` clause for `task` construct ( task_priority )"
   ]
  },
  {
   "cell_type": "markdown",
   "metadata": {},
   "source": [
    "*  `taskloop` construct                   ( taskloop )"
   ]
  },
  {
   "cell_type": "markdown",
   "metadata": {},
   "source": [
    "*   _directive-name_  modifier in multiple `if` clauses on a combined construct                              ( target_if )"
   ]
  },
  {
   "cell_type": "markdown",
   "metadata": {},
   "source": [
    "*  unstructured data mapping                   ( target_enter_exit_data )"
   ]
  },
  {
   "cell_type": "markdown",
   "metadata": {},
   "source": [
    "*  `link` clause for `declare` `target` directive                                                    ( declare_target_link )"
   ]
  },
  {
   "cell_type": "markdown",
   "metadata": {},
   "source": [
    "*  asynchronous target execution with `nowait` clause ( async_target_exec_depend )"
   ]
  },
  {
   "cell_type": "markdown",
   "metadata": {},
   "source": [
    "*  device memory routines and device pointers  ( target_mem_and_device_ptrs )"
   ]
  },
  {
   "cell_type": "markdown",
   "metadata": {},
   "source": [
    "*  doacross loop nest                          ( doacross )"
   ]
  },
  {
   "cell_type": "markdown",
   "metadata": {},
   "source": [
    "*  locks with hints                            ( locks )"
   ]
  },
  {
   "cell_type": "markdown",
   "metadata": {},
   "source": [
    "*  C/C++ array reduction                       ( reduction )"
   ]
  },
  {
   "cell_type": "markdown",
   "metadata": {},
   "source": [
    "*  C++ reference types in data sharing clauses ( cpp_reference )"
   ]
  },
  {
   "cell_type": "markdown",
   "metadata": {},
   "source": [
    ""
   ]
  },
  {
   "cell_type": "markdown",
   "metadata": {},
   "source": [
    ""
   ]
  },
  {
   "cell_type": "markdown",
   "metadata": {},
   "source": [
    "## Changes from 4.0.1 to 4.0.2"
   ]
  },
  {
   "cell_type": "markdown",
   "metadata": {},
   "source": [
    ""
   ]
  },
  {
   "cell_type": "markdown",
   "metadata": {},
   "source": [
    ""
   ]
  },
  {
   "cell_type": "markdown",
   "metadata": {},
   "source": [
    "*  Names of examples were changed from numbers to mnemonics"
   ]
  },
  {
   "cell_type": "markdown",
   "metadata": {},
   "source": [
    "*  Added SIMD examples                         ( SIMD )"
   ]
  },
  {
   "cell_type": "markdown",
   "metadata": {},
   "source": [
    "*  Applied miscellaneous fixes in several source codes"
   ]
  },
  {
   "cell_type": "markdown",
   "metadata": {},
   "source": [
    "*  Added the revision history"
   ]
  },
  {
   "cell_type": "markdown",
   "metadata": {},
   "source": [
    ""
   ]
  },
  {
   "cell_type": "markdown",
   "metadata": {},
   "source": [
    "## Changes from 4.0 to 4.0.1"
   ]
  },
  {
   "cell_type": "markdown",
   "metadata": {},
   "source": [
    ""
   ]
  },
  {
   "cell_type": "markdown",
   "metadata": {},
   "source": [
    "Added the following new examples:"
   ]
  },
  {
   "cell_type": "markdown",
   "metadata": {},
   "source": [
    "*  the `proc_bind` clause   ( affinity )"
   ]
  },
  {
   "cell_type": "markdown",
   "metadata": {},
   "source": [
    "*  the `taskgroup` construct ( taskgroup )"
   ]
  },
  {
   "cell_type": "markdown",
   "metadata": {},
   "source": [
    ""
   ]
  },
  {
   "cell_type": "markdown",
   "metadata": {},
   "source": [
    "## Changes from 3.1 to 4.0"
   ]
  },
  {
   "cell_type": "markdown",
   "metadata": {},
   "source": [
    ""
   ]
  },
  {
   "cell_type": "markdown",
   "metadata": {},
   "source": [
    ""
   ]
  },
  {
   "cell_type": "markdown",
   "metadata": {},
   "source": [
    "*  Beginning with OpenMP 4.0, examples were placed in a separate document       from the specification document."
   ]
  },
  {
   "cell_type": "markdown",
   "metadata": {},
   "source": [
    "*  Version 4.0 added the following new examples:"
   ]
  },
  {
   "cell_type": "markdown",
   "metadata": {},
   "source": [
    ""
   ]
  },
  {
   "cell_type": "markdown",
   "metadata": {},
   "source": [
    "*  task dependences                       ( task_depend )"
   ]
  },
  {
   "cell_type": "markdown",
   "metadata": {},
   "source": [
    "*  `target` construct                ( target )"
   ]
  },
  {
   "cell_type": "markdown",
   "metadata": {},
   "source": [
    "*  array sections in device constructs    ( array_sections )"
   ]
  },
  {
   "cell_type": "markdown",
   "metadata": {},
   "source": [
    "*  `target` `data` construct    ( target_data )"
   ]
  },
  {
   "cell_type": "markdown",
   "metadata": {},
   "source": [
    "*  `target` `update` construct  ( target_update )"
   ]
  },
  {
   "cell_type": "markdown",
   "metadata": {},
   "source": [
    "*  `declare` `target` construct ( declare_target )"
   ]
  },
  {
   "cell_type": "markdown",
   "metadata": {},
   "source": [
    "*  `teams` constructs                ( teams )"
   ]
  },
  {
   "cell_type": "markdown",
   "metadata": {},
   "source": [
    "*  asynchronous execution of a `target` region using tasks ( async_target_with_tasks )"
   ]
  },
  {
   "cell_type": "markdown",
   "metadata": {},
   "source": [
    "*  device runtime routines                ( device )"
   ]
  },
  {
   "cell_type": "markdown",
   "metadata": {},
   "source": [
    "*  Fortran ASSOCIATE construct            ( associate )"
   ]
  },
  {
   "cell_type": "markdown",
   "metadata": {},
   "source": [
    "*  cancellation constructs                ( cancellation )"
   ]
  },
  {
   "cell_type": "markdown",
   "metadata": {},
   "source": [
    ""
   ]
  },
  {
   "cell_type": "markdown",
   "metadata": {},
   "source": [
    ""
   ]
  }
 ],
 "metadata": {
  "kernelspec": {
   "display_name": "Native",
   "language": "native",
   "name": "native"
  },
  "language_info": {
   "file_extension": ".c",
   "mimetype": "text/plain",
   "name": "none"
  }
 },
 "nbformat": 4,
 "nbformat_minor": 2
}