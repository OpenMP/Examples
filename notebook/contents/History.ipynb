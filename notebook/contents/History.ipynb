{
 "cells": [
  {
   "cell_type": "markdown",
   "metadata": {},
   "source": [
    " ## Document Revision History"
   ]
  },
  {
   "cell_type": "markdown",
   "metadata": {},
   "source": [
    " ### Changes from 5.0.0 to 5.0.1"
   ]
  },
  {
   "cell_type": "markdown",
   "metadata": {},
   "source": [
    " `{itemize} \n",
"* Added version tags ({omp_} _x.y_ ) in example labels  and the corresponding source s for all examples that feature OpenMP 3.0 and later.` "
   ]
  },
  {
   "cell_type": "markdown",
   "metadata": {},
   "source": [
    " \n",
"* Included additional examples for the 5.0 features:"
   ]
  },
  {
   "cell_type": "markdown",
   "metadata": {},
   "source": [
    "  \n",
"* Extension to the  `defaultmap`  clause () \n",
"* Transferring noncontiguous data with the  `target` ~ `update`  directive in Fortran () \n",
"*  `conditional`  modifier for the  `lastprivate`  clause                             () \n",
"*  `task`  modifier for the  `reduction`  clause                                      () \n",
"* Reduction on combined target constructs                                                     () \n",
"* Task reduction with target constructs     () \n",
"*  `scan`  directive for returning the {prefix sum} of a reduction                  ()"
   ]
  },
  {
   "cell_type": "markdown",
   "metadata": {},
   "source": [
    " "
   ]
  },
  {
   "cell_type": "markdown",
   "metadata": {},
   "source": [
    " \n",
"* Included additional examples for the 4.x features:"
   ]
  },
  {
   "cell_type": "markdown",
   "metadata": {},
   "source": [
    "  \n",
"* Dependence for undeferred tasks () \n",
"*  `ref` ,  `val` ,  `uval`  modifiers for  `linear`  clause ()"
   ]
  },
  {
   "cell_type": "markdown",
   "metadata": {},
   "source": [
    " "
   ]
  },
  {
   "cell_type": "markdown",
   "metadata": {},
   "source": [
    " \n",
"* Clarified the description of pointer mapping and pointer attachment in  . \n",
"* Clarified the description of memory model examples in ."
   ]
  },
  {
   "cell_type": "markdown",
   "metadata": {},
   "source": [
    " "
   ]
  },
  {
   "cell_type": "markdown",
   "metadata": {},
   "source": [
    " ### Changes from 4.5.0 to 5.0.0"
   ]
  },
  {
   "cell_type": "markdown",
   "metadata": {},
   "source": [
    "  \n",
"* Added the following examples for the 5.0 features:"
   ]
  },
  {
   "cell_type": "markdown",
   "metadata": {},
   "source": [
    "  \n",
"* Extended  `teams`  construct for host execution     () \n",
"*  `loop`  and  `teams` ~ `loop`  constructs specify loop iterations that can execute concurrently                                                               () \n",
"* Task data affinity is indicated by  `affinity`  clause of  `task`  construct                                                              () \n",
"* Display thread affinity with  `OMP_DISPLAY_AFFINITY`  environment variable or  `omp_display_affinity()`  API routine                                                              () \n",
"*  `taskwait`  with dependences                       () \n",
"*  `mutexinoutset`  task dependences                  () \n",
"* Multidependence Iterators (in  `depend`  clauses)   () \n",
"* Combined constructs:  `parallel` ~ `master` ~ `taskloop`  and  `parallel` ~ `master` ~ `taskloop` ~ `simd`                                                                                    () \n",
"* Reverse Offload through  _ancestor_  modifier of  `device`  clause.    () \n",
"* Pointer Mapping  - behavior of mapped pointers                              ()   \n",
"Example_target_ptr_map* \n",
"* Structure Mapping  - behavior of mapped structures                          () \n",
"Examples_target_structure_mapping.tex target_struct_map* \n",
"* Array Shaping with the  _shape-operator_                                  () \n",
"* The  `declare` ~ `mapper`  construct                                  () \n",
"* Acquire and Release Semantics Synchronization: Memory ordering        clauses  `acquire` ,  `release` , and  `acq_rel`  were added       to flush and atomic constructs                                                                                   () \n",
"*  `depobj`  construct provides dependence objects for subsequent use in  `depend`  clauses                                                                                   () \n",
"*  `reduction`  clause for  `task`  construct                           () \n",
"*  `reduction`  clause for  `taskloop`  construct                       () \n",
"*  `reduction`  clause for  `taskloop` ~ `simd`  construct           () \n",
"* Memory Allocators for making OpenMP memory requests with traits             () \n",
"*  `requires`  directive specifies required features of implementation     () \n",
"*  `declare` ~ `variant`  directive - for function variants             () \n",
"*  `metadirective`  directive  - for directive variants                    () \n",
"*  `OMP_TARGET_OFFLOAD`  Environment Variable  - controls offload behavior () "
   ]
  },
  {
   "cell_type": "markdown",
   "metadata": {},
   "source": [
    " \n",
"* Included the following additional examples for the 4.x features:  \n",
"* more taskloop examples () \n",
"* user-defined reduction (UDR) () \n",
"NEW 5.0 \n",
"\n",
"*  `target`   `enter`  and  `exit`   `data`  unstructured data constructs  () \n",
"Example_target_unstructured_data.* ?"
   ]
  },
  {
   "cell_type": "markdown",
   "metadata": {},
   "source": [
    "  "
   ]
  },
  {
   "cell_type": "markdown",
   "metadata": {},
   "source": [
    " ### Changes from 4.0.2 to 4.5.0"
   ]
  },
  {
   "cell_type": "markdown",
   "metadata": {},
   "source": [
    "  \n",
"* Reorganized into chapters of major topics \n",
"* Included file extensions in example labels to indicate source type \n",
"* Applied the explicit  `map(tofrom)`  for scalar variables        in a number of examples to comply with        the change of the default behavior for scalar variables from         `map(tofrom)`  to  `firstprivate`  in the 4.5 specification \n",
"* Added the following new examples:"
   ]
  },
  {
   "cell_type": "markdown",
   "metadata": {},
   "source": [
    "  \n",
"*  `linear`  clause in loop constructs     () \n",
"*  `priority`  clause for  `task`  construct () \n",
"*  `taskloop`  construct                   () \n",
"*  _directive-name_  modifier in multiple  `if`  clauses on a combined construct                              () \n",
"* unstructured data mapping                   () \n",
"*  `link`  clause for  `declare` ~ `target`  directive                                                    () \n",
"* asynchronous target execution with  `nowait`  clause () \n",
"* device memory routines and device pointers  () \n",
"* doacross loop nest                          () \n",
"* locks with hints                            () \n",
"* C/C++ array reduction                       () \n",
"* C++ reference types in data sharing clauses () "
   ]
  },
  {
   "cell_type": "markdown",
   "metadata": {},
   "source": [
    " "
   ]
  },
  {
   "cell_type": "markdown",
   "metadata": {},
   "source": [
    " ### Changes from 4.0.1 to 4.0.2"
   ]
  },
  {
   "cell_type": "markdown",
   "metadata": {},
   "source": [
    "  \n",
"* Names of examples were changed from numbers to mnemonics \n",
"* Added SIMD examples                         () \n",
"* Applied miscellaneous fixes in several source s \n",
"* Added the revision history "
   ]
  },
  {
   "cell_type": "markdown",
   "metadata": {},
   "source": [
    " ### Changes from 4.0 to 4.0.1"
   ]
  },
  {
   "cell_type": "markdown",
   "metadata": {},
   "source": [
    " Added the following new examples:  \n",
"* the  `proc_bind`  clause   () \n",
"* the  `taskgroup`  construct () "
   ]
  },
  {
   "cell_type": "markdown",
   "metadata": {},
   "source": [
    " ### Changes from 3.1 to 4.0"
   ]
  },
  {
   "cell_type": "markdown",
   "metadata": {},
   "source": [
    "  \n",
"* Beginning with OpenMP 4.0, examples were placed in a separate document       from the specification document. \n",
"* Version 4.0 added the following new examples:"
   ]
  },
  {
   "cell_type": "markdown",
   "metadata": {},
   "source": [
    "  \n",
"* task dependences                       () \n",
"*  `target`  construct                () \n",
"* array sections in device constructs    () \n",
"*  `target` ~ `data`  construct    () \n",
"*  `target` ~ `update`  construct  () \n",
"*  `declare` ~ `target`  construct () \n",
"*  `teams`  constructs                () \n",
"* asynchronous execution of a  `target`  region using tasks () \n",
"* device runtime routines                () \n",
"* Fortran ASSOCIATE construct            () \n",
"* cancellation constructs                () "
   ]
  },
  {
   "cell_type": "markdown",
   "metadata": {},
   "source": [
    " "
   ]
  },
  {
   "cell_type": "markdown",
   "metadata": {},
   "source": [
    ""
   ]
  }
 ],
 "metadata": {
  "kernelspec": {
   "display_name": "Native",
   "language": "native",
   "name": "native"
  },
  "language_info": {
   "file_extension": ".c",
   "mimetype": "text/plain",
   "name": "c"
  }
 },
 "nbformat": 4,
 "nbformat_minor": 2
}