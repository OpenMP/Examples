{
 "cells": [
  {
   "cell_type": "markdown",
   "metadata": {},
   "source": [
    ""
   ]
  },
  {
   "cell_type": "markdown",
   "metadata": {},
   "source": [
    "# OpenMP Affinity"
   ]
  },
  {
   "cell_type": "markdown",
   "metadata": {},
   "source": [
    "{affinity}"
   ]
  },
  {
   "cell_type": "markdown",
   "metadata": {},
   "source": [
    "OpenMP Affinity consists of a `proc_bind` policy (thread affinity policy) and a specification of places ( **\"** location units **\"**  or  _processors_  that may be cores, hardware threads, sockets, etc.).   OpenMP Affinity enables users to bind computations on specific places. The placement will hold for the duration of the parallel region.  However, the runtime is free to migrate the OpenMP threads  to different cores (hardware threads, sockets, etc.) prescribed within a given place,  if two or more cores (hardware threads, sockets, etc.) have been assigned to a given place."
   ]
  },
  {
   "cell_type": "markdown",
   "metadata": {},
   "source": [
    "Often the binding can be managed without resorting to explicitly setting places. Without the specification of places in the `OMP_PLACES` variable,  the OpenMP runtime will distribute and bind threads using the entire range of processors for  the OpenMP program, according to the `OMP_PROC_BIND` environment variable or the `proc_bind` clause.  When places are specified, the OMP runtime binds threads to the places according to a default distribution policy, or those specified in the `OMP_PROC_BIND` environment variable or the `proc_bind` clause."
   ]
  },
  {
   "cell_type": "markdown",
   "metadata": {},
   "source": [
    "In the OpenMP Specifications document a processor refers to an execution unit that is enabled for an OpenMP thread to use.  A processor is a core when there is no SMT (Simultaneous Multi-Threading) support or SMT is disabled.  When  SMT is enabled, a processor is a hardware thread (HW-thread). (This is the usual case; but actually, the execution unit is implementation defined.) Processor numbers are numbered sequentially from 0 to the number of cores less one (without SMT), or 0 to the number HW-threads less one (with SMT). OpenMP places use the processor number to designate binding locations (unless an  **\"** abstract name **\"**  is used.)"
   ]
  },
  {
   "cell_type": "markdown",
   "metadata": {},
   "source": [
    ""
   ]
  },
  {
   "cell_type": "markdown",
   "metadata": {},
   "source": [
    "The processors available to a process may be a subset of the system's processors.  This restriction may be the result of a  wrapper process controlling the execution (such as `numactl` on Linux systems),  compiler options, library-specific environment variables, or default kernel settings.  For instance, the execution of multiple MPI processes, launched on a single compute node, will each have a subset of processors as determined by the MPI launcher or set by MPI affinity environment  variables for the MPI library."
   ]
  },
  {
   "cell_type": "markdown",
   "metadata": {},
   "source": [
    ""
   ]
  },
  {
   "cell_type": "markdown",
   "metadata": {},
   "source": [
    "Threads of a team are positioned onto places in a compact manner, a  scattered distribution, or onto the primary thread's place, by setting the  `OMP_PROC_BIND` environment variable or the `proc_bind` clause  to  `close`, `spread`, or `primary` (`master` has been deprecated), respectively.  When  `OMP_PROC_BIND` is set to FALSE no binding is enforced; and  when the value is TRUE, the binding is implementation defined to  a set of places in the `OMP_PLACES` variable or to places  defined by the implementation if the `OMP_PLACES` variable  is not set."
   ]
  },
  {
   "cell_type": "markdown",
   "metadata": {},
   "source": [
    "The `OMP_PLACES` variable can also be set to an abstract name  (`threads`, `cores`, `sockets`) to specify that a place is either a single hardware thread, a core, or a socket, respectively.  This description of the `OMP_PLACES` is most useful when the  number of threads is equal to the number of hardware thread, cores or sockets.  It can also be used with a `close` or `spread`  distribution policy when the equality doesn't hold."
   ]
  },
  {
   "cell_type": "markdown",
   "metadata": {},
   "source": [
    ""
   ]
  },
  {
   "cell_type": "markdown",
   "metadata": {},
   "source": [
    ""
   ]
  },
  {
   "cell_type": "markdown",
   "metadata": {},
   "source": [
    ""
   ]
  },
  {
   "cell_type": "markdown",
   "metadata": {},
   "source": [
    ""
   ]
  },
  {
   "cell_type": "markdown",
   "metadata": {},
   "source": [
    ""
   ]
  },
  {
   "cell_type": "markdown",
   "metadata": {},
   "source": [
    ""
   ]
  },
  {
   "cell_type": "markdown",
   "metadata": {},
   "source": [
    ""
   ]
  },
  {
   "cell_type": "markdown",
   "metadata": {},
   "source": [
    ""
   ]
  },
  {
   "cell_type": "markdown",
   "metadata": {},
   "source": [
    ""
   ]
  },
  {
   "cell_type": "markdown",
   "metadata": {},
   "source": [
    "## `proc_bind` Clause"
   ]
  },
  {
   "cell_type": "markdown",
   "metadata": {},
   "source": [
    "\index{affinity!proc_bind clause@\scode{proc_bind} clause} \index{clauses!proc_bind@\scode{proc_bind}} \index{proc_bind clause@\scode{proc_bind} clause}"
   ]
  },
  {
   "cell_type": "markdown",
   "metadata": {},
   "source": [
    "The following examples demonstrate how to use the `proc_bind` clause to  control the thread binding for a team of threads in a `parallel` region.  The machine architecture is depicted in Figure \ref{fig:mach_arch}. It consists of two sockets,  each equipped with a quad-core processor and configured to execute two hardware  threads simultaneously on each core. These examples assume a contiguous core numbering  starting from 0, such that the hardware threads 0,1 form the first physical core."
   ]
  },
  {
   "cell_type": "markdown",
   "metadata": {},
   "source": [
    "The following equivalent place list declarations consist of eight places (which  we designate as p0 to p7):"
   ]
  },
  {
   "cell_type": "markdown",
   "metadata": {},
   "source": [
    "{OMP_PLACES= **\"** {0,1},{2,3},{4,5},{6,7},{8,9},{10,11},{12,13},{14,15} **\"** }"
   ]
  },
  {
   "cell_type": "markdown",
   "metadata": {},
   "source": [
    "or"
   ]
  },
  {
   "cell_type": "markdown",
   "metadata": {},
   "source": [
    "{OMP_PLACES= **\"** {0:2}:8:2 **\"** }"
   ]
  },
  {
   "cell_type": "markdown",
   "metadata": {},
   "source": [
    ""
   ]
  },
  {
   "cell_type": "markdown",
   "metadata": {},
   "source": [
    "### Spread Affinity Policy"
   ]
  },
  {
   "cell_type": "markdown",
   "metadata": {},
   "source": [
    "\index{affinity!spread policy@`spread` policy} \index{spread policy@`spread` policy}"
   ]
  },
  {
   "cell_type": "markdown",
   "metadata": {},
   "source": [
    ""
   ]
  },
  {
   "cell_type": "markdown",
   "metadata": {},
   "source": [
    "The following example shows the result of the `spread` affinity policy on  the partition list when the number of threads is less than or equal to the number  of places in the parent's place partition, for the machine architecture depicted  above. Note that the threads are bound to the first place of each subpartition."
   ]
  },
  {
   "cell_type": "markdown",
   "metadata": {},
   "source": [
    ""
   ]
  },
  {
   "cell_type": "code",
   "execution_count": null,
   "metadata": {},
   "outputs": [],
   "source": [
    "//%compiler: clang\n",
 "//%cflags: -fopenmp\n",
 "\n",
    "/*\n",
    "* name: affinity.1\n",
    "* type: C\n",
    "* version: omp_4.0\n",
    "*/\n",
    "\n",
    "void work();\n",
    "\n",
    "int main()\n",
    "{\n",
    "\n",
    "#pragma omp parallel proc_bind(spread) num_threads(4)\n",
    "   {\n",
    "      work();\n",
    "   }\n",
    "\n",
    "   return 0;\n",
    "\n",
    "}\n",
    "\n"
   ]
  },
  {
   "cell_type": "markdown",
   "metadata": {},
   "source": [
    ""
   ]
  },
  {
   "cell_type": "markdown",
   "metadata": {},
   "source": [
    ""
   ]
  },
  {
   "cell_type": "code",
   "execution_count": null,
   "metadata": {},
   "outputs": [],
   "source": [
    "\n",
    "! name: affinity.1\n",
    "! type: F-fixed\n",
    "! version: omp_4.0\n",
    "      PROGRAM EXAMPLE\n",
    "!$OMP PARALLEL PROC_BIND(SPREAD) NUM_THREADS(4)\n",
    "      CALL WORK()\n",
    "!$OMP END PARALLEL\n",
    "      END PROGRAM EXAMPLE\n",
    "\n"
   ]
  },
  {
   "cell_type": "markdown",
   "metadata": {},
   "source": [
    ""
   ]
  },
  {
   "cell_type": "markdown",
   "metadata": {},
   "source": [
    "It is unspecified on which place the primary thread is initially started. If the  primary thread is initially started on p0, the following placement of threads will  be applied in the parallel region:"
   ]
  },
  {
   "cell_type": "markdown",
   "metadata": {},
   "source": [
    ""
   ]
  },
  {
   "cell_type": "markdown",
   "metadata": {},
   "source": [
    "*  thread 0 executes on p0 with the place partition p0,p1"
   ]
  },
  {
   "cell_type": "markdown",
   "metadata": {},
   "source": [
    ""
   ]
  },
  {
   "cell_type": "markdown",
   "metadata": {},
   "source": [
    "*  thread 1 executes on p2 with the place partition p2,p3"
   ]
  },
  {
   "cell_type": "markdown",
   "metadata": {},
   "source": [
    ""
   ]
  },
  {
   "cell_type": "markdown",
   "metadata": {},
   "source": [
    "*  thread 2 executes on p4 with the place partition p4,p5"
   ]
  },
  {
   "cell_type": "markdown",
   "metadata": {},
   "source": [
    ""
   ]
  },
  {
   "cell_type": "markdown",
   "metadata": {},
   "source": [
    "*  thread 3 executes on p6 with the place partition p6,p7"
   ]
  },
  {
   "cell_type": "markdown",
   "metadata": {},
   "source": [
    ""
   ]
  },
  {
   "cell_type": "markdown",
   "metadata": {},
   "source": [
    "If the primary thread would initially be started on p2, the placement of threads  and distribution of the place partition would be as follows:"
   ]
  },
  {
   "cell_type": "markdown",
   "metadata": {},
   "source": [
    ""
   ]
  },
  {
   "cell_type": "markdown",
   "metadata": {},
   "source": [
    "*  thread 0 executes on p2 with the place partition p2,p3"
   ]
  },
  {
   "cell_type": "markdown",
   "metadata": {},
   "source": [
    ""
   ]
  },
  {
   "cell_type": "markdown",
   "metadata": {},
   "source": [
    "*  thread 1 executes on p4 with the place partition p4,p5"
   ]
  },
  {
   "cell_type": "markdown",
   "metadata": {},
   "source": [
    ""
   ]
  },
  {
   "cell_type": "markdown",
   "metadata": {},
   "source": [
    "*  thread 2 executes on p6 with the place partition p6,p7"
   ]
  },
  {
   "cell_type": "markdown",
   "metadata": {},
   "source": [
    ""
   ]
  },
  {
   "cell_type": "markdown",
   "metadata": {},
   "source": [
    "*  thread 3 executes on p0 with the place partition p0,p1"
   ]
  },
  {
   "cell_type": "markdown",
   "metadata": {},
   "source": [
    "The following example illustrates the `spread` thread affinity policy when  the number of threads is greater than the number of places in the parent's place  partition."
   ]
  },
  {
   "cell_type": "markdown",
   "metadata": {},
   "source": [
    "Let  _T_  be the number of threads in the team, and  _P_  be the number of places in the  parent's place partition. The first  _T/P_  threads of the team (including the primary thread) execute on the parent's place. The next  _T/P_  threads execute on the next  place in the place partition, and so on, with wrap around."
   ]
  },
  {
   "cell_type": "markdown",
   "metadata": {},
   "source": [
    ""
   ]
  },
  {
   "cell_type": "code",
   "execution_count": null,
   "metadata": {},
   "outputs": [],
   "source": [
    "//%compiler: clang\n",
 "//%cflags: -fopenmp\n",
 "\n",
    "/*\n",
    "* name: affinity.2\n",
    "* type: C\n",
    "* version: omp_4.0\n",
    "*/\n",
    "void work();\n",
    "void foo()\n",
    "{\n",
    "  #pragma omp parallel num_threads(16) proc_bind(spread)\n",
    "  {\n",
    "    work();\n",
    "  }\n",
    "}\n",
    "\n"
   ]
  },
  {
   "cell_type": "markdown",
   "metadata": {},
   "source": [
    ""
   ]
  },
  {
   "cell_type": "markdown",
   "metadata": {},
   "source": [
    ""
   ]
  },
  {
   "cell_type": "code",
   "execution_count": null,
   "metadata": {},
   "outputs": [],
   "source": [
    "\n",
    "! name: affinity.2\n",
    "! type: F-free\n",
    "! version: omp_4.0\n",
    "subroutine foo\n",
    "!$omp parallel num_threads(16) proc_bind(spread)\n",
    "      call work()\n",
    "!$omp end parallel\n",
    "end subroutine\n",
    "\n"
   ]
  },
  {
   "cell_type": "markdown",
   "metadata": {},
   "source": [
    ""
   ]
  },
  {
   "cell_type": "markdown",
   "metadata": {},
   "source": [
    "It is unspecified on which place the primary thread is initially started. If the  primary thread is initially started on p0, the following placement of threads will  be applied in the parallel region:"
   ]
  },
  {
   "cell_type": "markdown",
   "metadata": {},
   "source": [
    ""
   ]
  },
  {
   "cell_type": "markdown",
   "metadata": {},
   "source": [
    "*  threads 0,1 execute on p0 with the place partition p0"
   ]
  },
  {
   "cell_type": "markdown",
   "metadata": {},
   "source": [
    ""
   ]
  },
  {
   "cell_type": "markdown",
   "metadata": {},
   "source": [
    "*  threads 2,3 execute on p1 with the place partition p1"
   ]
  },
  {
   "cell_type": "markdown",
   "metadata": {},
   "source": [
    ""
   ]
  },
  {
   "cell_type": "markdown",
   "metadata": {},
   "source": [
    "*  threads 4,5 execute on p2 with the place partition p2"
   ]
  },
  {
   "cell_type": "markdown",
   "metadata": {},
   "source": [
    ""
   ]
  },
  {
   "cell_type": "markdown",
   "metadata": {},
   "source": [
    "*  threads 6,7 execute on p3 with the place partition p3"
   ]
  },
  {
   "cell_type": "markdown",
   "metadata": {},
   "source": [
    ""
   ]
  },
  {
   "cell_type": "markdown",
   "metadata": {},
   "source": [
    "*  threads 8,9 execute on p4 with the place partition p4"
   ]
  },
  {
   "cell_type": "markdown",
   "metadata": {},
   "source": [
    ""
   ]
  },
  {
   "cell_type": "markdown",
   "metadata": {},
   "source": [
    "*  threads 10,11 execute on p5 with the place partition p5"
   ]
  },
  {
   "cell_type": "markdown",
   "metadata": {},
   "source": [
    ""
   ]
  },
  {
   "cell_type": "markdown",
   "metadata": {},
   "source": [
    "*  threads 12,13 execute on p6 with the place partition p6"
   ]
  },
  {
   "cell_type": "markdown",
   "metadata": {},
   "source": [
    ""
   ]
  },
  {
   "cell_type": "markdown",
   "metadata": {},
   "source": [
    "*  threads 14,15 execute on p7 with the place partition p7"
   ]
  },
  {
   "cell_type": "markdown",
   "metadata": {},
   "source": [
    "If the primary thread would initially be started on p2, the placement of threads  and distribution of the place partition would be as follows:"
   ]
  },
  {
   "cell_type": "markdown",
   "metadata": {},
   "source": [
    ""
   ]
  },
  {
   "cell_type": "markdown",
   "metadata": {},
   "source": [
    "*  threads 0,1 execute on p2 with the place partition p2"
   ]
  },
  {
   "cell_type": "markdown",
   "metadata": {},
   "source": [
    ""
   ]
  },
  {
   "cell_type": "markdown",
   "metadata": {},
   "source": [
    "*  threads 2,3 execute on p3 with the place partition p3"
   ]
  },
  {
   "cell_type": "markdown",
   "metadata": {},
   "source": [
    ""
   ]
  },
  {
   "cell_type": "markdown",
   "metadata": {},
   "source": [
    "*  threads 4,5 execute on p4 with the place partition p4"
   ]
  },
  {
   "cell_type": "markdown",
   "metadata": {},
   "source": [
    ""
   ]
  },
  {
   "cell_type": "markdown",
   "metadata": {},
   "source": [
    "*  threads 6,7 execute on p5 with the place partition p5"
   ]
  },
  {
   "cell_type": "markdown",
   "metadata": {},
   "source": [
    ""
   ]
  },
  {
   "cell_type": "markdown",
   "metadata": {},
   "source": [
    "*  threads 8,9 execute on p6 with the place partition p6"
   ]
  },
  {
   "cell_type": "markdown",
   "metadata": {},
   "source": [
    ""
   ]
  },
  {
   "cell_type": "markdown",
   "metadata": {},
   "source": [
    "*  threads 10,11 execute on p7 with the place partition p7"
   ]
  },
  {
   "cell_type": "markdown",
   "metadata": {},
   "source": [
    ""
   ]
  },
  {
   "cell_type": "markdown",
   "metadata": {},
   "source": [
    "*  threads 12,13 execute on p0 with the place partition p0"
   ]
  },
  {
   "cell_type": "markdown",
   "metadata": {},
   "source": [
    ""
   ]
  },
  {
   "cell_type": "markdown",
   "metadata": {},
   "source": [
    "*  threads 14,15 execute on p1 with the place partition p1"
   ]
  },
  {
   "cell_type": "markdown",
   "metadata": {},
   "source": [
    ""
   ]
  },
  {
   "cell_type": "markdown",
   "metadata": {},
   "source": [
    "### Close Affinity Policy"
   ]
  },
  {
   "cell_type": "markdown",
   "metadata": {},
   "source": [
    "\index{affinity!close policy@`close` policy} \index{close policy@`close` policy}"
   ]
  },
  {
   "cell_type": "markdown",
   "metadata": {},
   "source": [
    "The following example shows the result of the `close` affinity policy on  the partition list when the number of threads is less than or equal to the number  of places in parent's place partition, for the machine architecture depicted above.  The place partition is not changed by the `close` policy."
   ]
  },
  {
   "cell_type": "markdown",
   "metadata": {},
   "source": [
    ""
   ]
  },
  {
   "cell_type": "code",
   "execution_count": null,
   "metadata": {},
   "outputs": [],
   "source": [
    "//%compiler: clang\n",
 "//%cflags: -fopenmp\n",
 "\n",
    "/*\n",
    "* name: affinity.3\n",
    "* type: C\n",
    "* version: omp_4.0\n",
    "*/\n",
    "void work();\n",
    "int main()\n",
    "{\n",
    "#pragma omp parallel proc_bind(close) num_threads(4)\n",
    "   {\n",
    "      work();\n",
    "   }\n",
    "   return 0;\n",
    "}\n",
    "\n"
   ]
  },
  {
   "cell_type": "markdown",
   "metadata": {},
   "source": [
    ""
   ]
  },
  {
   "cell_type": "markdown",
   "metadata": {},
   "source": [
    ""
   ]
  },
  {
   "cell_type": "code",
   "execution_count": null,
   "metadata": {},
   "outputs": [],
   "source": [
    "\n",
    "! name: affinity.3\n",
    "! type: F-fixed\n",
    "! version: omp_4.0\n",
    "      PROGRAM EXAMPLE\n",
    "!$OMP PARALLEL PROC_BIND(CLOSE) NUM_THREADS(4)\n",
    "      CALL WORK()\n",
    "!$OMP END PARALLEL\n",
    "      END PROGRAM EXAMPLE\n",
    "\n"
   ]
  },
  {
   "cell_type": "markdown",
   "metadata": {},
   "source": [
    ""
   ]
  },
  {
   "cell_type": "markdown",
   "metadata": {},
   "source": [
    "It is unspecified on which place the primary thread is initially started. If the  primary thread is initially started on p0, the following placement of threads will  be applied in the `parallel` region:"
   ]
  },
  {
   "cell_type": "markdown",
   "metadata": {},
   "source": [
    ""
   ]
  },
  {
   "cell_type": "markdown",
   "metadata": {},
   "source": [
    "*  thread 0 executes on p0 with the place partition p0-p7"
   ]
  },
  {
   "cell_type": "markdown",
   "metadata": {},
   "source": [
    ""
   ]
  },
  {
   "cell_type": "markdown",
   "metadata": {},
   "source": [
    "*  thread 1 executes on p1 with the place partition p0-p7"
   ]
  },
  {
   "cell_type": "markdown",
   "metadata": {},
   "source": [
    ""
   ]
  },
  {
   "cell_type": "markdown",
   "metadata": {},
   "source": [
    "*  thread 2 executes on p2 with the place partition p0-p7"
   ]
  },
  {
   "cell_type": "markdown",
   "metadata": {},
   "source": [
    ""
   ]
  },
  {
   "cell_type": "markdown",
   "metadata": {},
   "source": [
    "*  thread 3 executes on p3 with the place partition p0-p7"
   ]
  },
  {
   "cell_type": "markdown",
   "metadata": {},
   "source": [
    "If the primary thread would initially be started on p2, the placement of threads  and distribution of the place partition would be as follows:"
   ]
  },
  {
   "cell_type": "markdown",
   "metadata": {},
   "source": [
    ""
   ]
  },
  {
   "cell_type": "markdown",
   "metadata": {},
   "source": [
    "*  thread 0 executes on p2 with the place partition p0-p7"
   ]
  },
  {
   "cell_type": "markdown",
   "metadata": {},
   "source": [
    ""
   ]
  },
  {
   "cell_type": "markdown",
   "metadata": {},
   "source": [
    "*  thread 1 executes on p3 with the place partition p0-p7"
   ]
  },
  {
   "cell_type": "markdown",
   "metadata": {},
   "source": [
    ""
   ]
  },
  {
   "cell_type": "markdown",
   "metadata": {},
   "source": [
    "*  thread 2 executes on p4 with the place partition p0-p7"
   ]
  },
  {
   "cell_type": "markdown",
   "metadata": {},
   "source": [
    ""
   ]
  },
  {
   "cell_type": "markdown",
   "metadata": {},
   "source": [
    "*  thread 3 executes on p5 with the place partition p0-p7"
   ]
  },
  {
   "cell_type": "markdown",
   "metadata": {},
   "source": [
    "The following example illustrates the `close` thread affinity policy when  the number of threads is greater than the number of places in the parent's place  partition."
   ]
  },
  {
   "cell_type": "markdown",
   "metadata": {},
   "source": [
    "Let  _T_  be the number of threads in the team, and  _P_  be the number of places in the  parent's place partition. The first  _T/P_  threads of the team (including the primary thread) execute on the parent's place. The next  _T/P_  threads execute on the next  place in the place partition, and so on, with wrap around. The place partition  is not changed by the `close` policy."
   ]
  },
  {
   "cell_type": "markdown",
   "metadata": {},
   "source": [
    ""
   ]
  },
  {
   "cell_type": "code",
   "execution_count": null,
   "metadata": {},
   "outputs": [],
   "source": [
    "//%compiler: clang\n",
 "//%cflags: -fopenmp\n",
 "\n",
    "/*\n",
    "* name: affinity.4\n",
    "* type: C\n",
    "* version: omp_4.0\n",
    "*/\n",
    "void work();\n",
    "void foo()\n",
    "{\n",
    "  #pragma omp parallel num_threads(16) proc_bind(close)\n",
    "  {\n",
    "    work();\n",
    "  }\n",
    "}\n",
    "\n"
   ]
  },
  {
   "cell_type": "markdown",
   "metadata": {},
   "source": [
    ""
   ]
  },
  {
   "cell_type": "markdown",
   "metadata": {},
   "source": [
    ""
   ]
  },
  {
   "cell_type": "code",
   "execution_count": null,
   "metadata": {},
   "outputs": [],
   "source": [
    "\n",
    "! name: affinity.4\n",
    "! type: F-free\n",
    "! version: omp_4.0\n",
    "subroutine foo\n",
    "!$omp parallel num_threads(16) proc_bind(close)\n",
    "      call work()\n",
    "!$omp end parallel\n",
    "end subroutine\n",
    "\n"
   ]
  },
  {
   "cell_type": "markdown",
   "metadata": {},
   "source": [
    ""
   ]
  },
  {
   "cell_type": "markdown",
   "metadata": {},
   "source": [
    "It is unspecified on which place the primary thread is initially started. If the  primary thread is initially running on p0, the following placement of threads will  be applied in the parallel region:"
   ]
  },
  {
   "cell_type": "markdown",
   "metadata": {},
   "source": [
    ""
   ]
  },
  {
   "cell_type": "markdown",
   "metadata": {},
   "source": [
    "*  threads 0,1 execute on p0 with the place partition p0-p7"
   ]
  },
  {
   "cell_type": "markdown",
   "metadata": {},
   "source": [
    ""
   ]
  },
  {
   "cell_type": "markdown",
   "metadata": {},
   "source": [
    "*  threads 2,3 execute on p1 with the place partition p0-p7"
   ]
  },
  {
   "cell_type": "markdown",
   "metadata": {},
   "source": [
    ""
   ]
  },
  {
   "cell_type": "markdown",
   "metadata": {},
   "source": [
    "*  threads 4,5 execute on p2 with the place partition p0-p7"
   ]
  },
  {
   "cell_type": "markdown",
   "metadata": {},
   "source": [
    ""
   ]
  },
  {
   "cell_type": "markdown",
   "metadata": {},
   "source": [
    "*  threads 6,7 execute on p3 with the place partition p0-p7"
   ]
  },
  {
   "cell_type": "markdown",
   "metadata": {},
   "source": [
    ""
   ]
  },
  {
   "cell_type": "markdown",
   "metadata": {},
   "source": [
    "*  threads 8,9 execute on p4 with the place partition p0-p7"
   ]
  },
  {
   "cell_type": "markdown",
   "metadata": {},
   "source": [
    ""
   ]
  },
  {
   "cell_type": "markdown",
   "metadata": {},
   "source": [
    "*  threads 10,11 execute on p5 with the place partition p0-p7"
   ]
  },
  {
   "cell_type": "markdown",
   "metadata": {},
   "source": [
    ""
   ]
  },
  {
   "cell_type": "markdown",
   "metadata": {},
   "source": [
    "*  threads 12,13 execute on p6 with the place partition p0-p7"
   ]
  },
  {
   "cell_type": "markdown",
   "metadata": {},
   "source": [
    ""
   ]
  },
  {
   "cell_type": "markdown",
   "metadata": {},
   "source": [
    "*  threads 14,15 execute on p7 with the place partition p0-p7"
   ]
  },
  {
   "cell_type": "markdown",
   "metadata": {},
   "source": [
    "If the primary thread would initially be started on p2, the placement of threads  and distribution of the place partition would be as follows:"
   ]
  },
  {
   "cell_type": "markdown",
   "metadata": {},
   "source": [
    ""
   ]
  },
  {
   "cell_type": "markdown",
   "metadata": {},
   "source": [
    "*  threads 0,1 execute on p2 with the place partition p0-p7"
   ]
  },
  {
   "cell_type": "markdown",
   "metadata": {},
   "source": [
    ""
   ]
  },
  {
   "cell_type": "markdown",
   "metadata": {},
   "source": [
    "*  threads 2,3 execute on p3 with the place partition p0-p7"
   ]
  },
  {
   "cell_type": "markdown",
   "metadata": {},
   "source": [
    ""
   ]
  },
  {
   "cell_type": "markdown",
   "metadata": {},
   "source": [
    "*  threads 4,5 execute on p4 with the place partition p0-p7"
   ]
  },
  {
   "cell_type": "markdown",
   "metadata": {},
   "source": [
    ""
   ]
  },
  {
   "cell_type": "markdown",
   "metadata": {},
   "source": [
    "*  threads 6,7 execute on p5 with the place partition p0-p7"
   ]
  },
  {
   "cell_type": "markdown",
   "metadata": {},
   "source": [
    ""
   ]
  },
  {
   "cell_type": "markdown",
   "metadata": {},
   "source": [
    "*  threads 8,9 execute on p6 with the place partition p0-p7"
   ]
  },
  {
   "cell_type": "markdown",
   "metadata": {},
   "source": [
    ""
   ]
  },
  {
   "cell_type": "markdown",
   "metadata": {},
   "source": [
    "*  threads 10,11 execute on p7 with the place partition p0-p7"
   ]
  },
  {
   "cell_type": "markdown",
   "metadata": {},
   "source": [
    ""
   ]
  },
  {
   "cell_type": "markdown",
   "metadata": {},
   "source": [
    "*  threads 12,13 execute on p0 with the place partition p0-p7"
   ]
  },
  {
   "cell_type": "markdown",
   "metadata": {},
   "source": [
    ""
   ]
  },
  {
   "cell_type": "markdown",
   "metadata": {},
   "source": [
    "*  threads 14,15 execute on p1 with the place partition p0-p7"
   ]
  },
  {
   "cell_type": "markdown",
   "metadata": {},
   "source": [
    ""
   ]
  },
  {
   "cell_type": "markdown",
   "metadata": {},
   "source": [
    "### Primary Affinity Policy"
   ]
  },
  {
   "cell_type": "markdown",
   "metadata": {},
   "source": [
    "\index{affinity!primary policy@`primary` policy} \index{primary policy@`primary` policy}"
   ]
  },
  {
   "cell_type": "markdown",
   "metadata": {},
   "source": [
    "The following example shows the result of the `primary` affinity policy on  the partition list for the machine architecture depicted above. The place partition  is not changed by the primary policy."
   ]
  },
  {
   "cell_type": "markdown",
   "metadata": {},
   "source": [
    ""
   ]
  },
  {
   "cell_type": "code",
   "execution_count": null,
   "metadata": {},
   "outputs": [],
   "source": [
    "//%compiler: clang\n",
 "//%cflags: -fopenmp\n",
 "\n",
    "/*\n",
    "* name: affinity.5\n",
    "* type: C\n",
    "* version: omp_5.1\n",
    "*/\n",
    "void work();\n",
    "int main()\n",
    "{\n",
    "#pragma omp parallel proc_bind(primary) num_threads(4)\n",
    "   {\n",
    "      work();\n",
    "   }\n",
    "   return 0;\n",
    "}\n",
    "\n"
   ]
  },
  {
   "cell_type": "markdown",
   "metadata": {},
   "source": [
    ""
   ]
  },
  {
   "cell_type": "markdown",
   "metadata": {},
   "source": [
    ""
   ]
  },
  {
   "cell_type": "code",
   "execution_count": null,
   "metadata": {},
   "outputs": [],
   "source": [
    "\n",
    "! name: affinity.5\n",
    "! type: F-fixed\n",
    "! version: omp_5.1\n",
    "      PROGRAM EXAMPLE\n",
    "!$OMP PARALLEL PROC_BIND(primary) NUM_THREADS(4)\n",
    "      CALL WORK()\n",
    "!$OMP END PARALLEL\n",
    "      END PROGRAM EXAMPLE\n",
    "\n"
   ]
  },
  {
   "cell_type": "markdown",
   "metadata": {},
   "source": [
    ""
   ]
  },
  {
   "cell_type": "markdown",
   "metadata": {},
   "source": [
    "It is unspecified on which place the primary thread is initially started. If the  primary thread is initially running on p0, the following placement of threads will  be applied in the parallel region:"
   ]
  },
  {
   "cell_type": "markdown",
   "metadata": {},
   "source": [
    ""
   ]
  },
  {
   "cell_type": "markdown",
   "metadata": {},
   "source": [
    "*  threads 0-3 execute on p0 with the place partition p0-p7"
   ]
  },
  {
   "cell_type": "markdown",
   "metadata": {},
   "source": [
    "If the primary thread would initially be started on p2, the placement of threads  and distribution of the place partition would be as follows:"
   ]
  },
  {
   "cell_type": "markdown",
   "metadata": {},
   "source": [
    ""
   ]
  },
  {
   "cell_type": "markdown",
   "metadata": {},
   "source": [
    "*  threads 0-3 execute on p2 with the place partition p0-p7"
   ]
  },
  {
   "cell_type": "markdown",
   "metadata": {},
   "source": [
    ""
   ]
  },
  {
   "cell_type": "markdown",
   "metadata": {},
   "source": [
    "../../affinity/affinity.tex"
   ]
  },
  {
   "cell_type": "markdown",
   "metadata": {},
   "source": [
    ""
   ]
  },
  {
   "cell_type": "markdown",
   "metadata": {},
   "source": [
    "## Task Affinity"
   ]
  },
  {
   "cell_type": "markdown",
   "metadata": {},
   "source": [
    "\index{affinity!task affinity} \index{affinity!affinity clause@`affinity` clause} \index{clauses!affinity@`affinity`} \index{affinity clause@`affinity` clause}"
   ]
  },
  {
   "cell_type": "markdown",
   "metadata": {},
   "source": [
    "The next example illustrates the use of the `affinity` clause with a `task` construct. The variables in the `affinity` clause provide a hint to the runtime that the task should execute \"close\" to the physical storage location of the variables. For example, on a two-socket platform with a local memory component close to each processor socket, the runtime will attempt to schedule the task execution on the socket where the storage is located."
   ]
  },
  {
   "cell_type": "markdown",
   "metadata": {},
   "source": [
    "Because the C/C++ code employs a pointer, an array section is used in the `affinity` clause. Fortran code can use an array reference to specify the storage, as shown here."
   ]
  },
  {
   "cell_type": "markdown",
   "metadata": {},
   "source": [
    "Note, in the second task of the C/C++ code the  _B_  pointer is declared shared.  Otherwise, by default, it would be firstprivate since it is a local variable, and would probably be saved for the second task before being assigned a storage address by the first task.  Also, one might think it reasonable to use the `affinity` clause  _affinity(B[:N])_  on the second `task` construct. However, the storage behind  _B_  is created in the first task, and the  array section reference may not be valid when the second task is generated. The use of the  _A_  array is sufficient for this case, because one would expect the storage for  _A_  and  _B_  would be physically \"close\" (as provided by the hint in the first task)."
   ]
  },
  {
   "cell_type": "markdown",
   "metadata": {},
   "source": [
    ""
   ]
  },
  {
   "cell_type": "code",
   "execution_count": null,
   "metadata": {},
   "outputs": [],
   "source": [
    "//%compiler: clang\n",
 "//%cflags: -fopenmp\n",
 "\n",
    "/*\n",
    "* name: affinity.6\n",
    "* type: C\n",
    "* version: omp_5.0\n",
    "*/\n",
    "double * alloc_init_B(double *A, int N);\n",
    "void     compute_on_B(double *B, int N);\n",
    "\n",
    "void task_affinity(double *A, int N)\n",
    "{\n",
    "   double * B;\n",
    "   #pragma omp task depend(out:B) shared(B) affinity(A[0:N])\n",
    "   {\n",
    "     B = alloc_init_B(A,N);\n",
    "   }\n",
    "\n",
    "   #pragma omp task depend( in:B) shared(B) affinity(A[0:N])\n",
    "   {\n",
    "     compute_on_B(B,N);\n",
    "   }\n",
    "\n",
    "   #pragma omp taskwait\n",
    "}\n",
    "\n",
    "\n"
   ]
  },
  {
   "cell_type": "markdown",
   "metadata": {},
   "source": [
    ""
   ]
  },
  {
   "cell_type": "markdown",
   "metadata": {},
   "source": [
    ""
   ]
  },
  {
   "cell_type": "code",
   "execution_count": null,
   "metadata": {},
   "outputs": [],
   "source": [
    "\n",
    "! name:       affinity.6\n",
    "! type:       F-free\n",
    "! version: omp_5.0\n",
    "subroutine task_affinity(A, N)\n",
    "\n",
    "  external alloc_init_B\n",
    "  external compute_on_B\n",
    "  double precision, allocatable :: B(:)\n",
    "\n",
    "   !$omp task depend(out:B) shared(B) affinity(A)\n",
    "     call alloc_init_B(B,A)\n",
    "   !$omp end task\n",
    "\n",
    "   !$omp task depend(in:B) shared(B) affinity(A)\n",
    "     call compute_on_B(B)\n",
    "   !$omp end task\n",
    "\n",
    "   !$omp taskwait\n",
    "\n",
    "end subroutine\n",
    "\n",
    "\n"
   ]
  },
  {
   "cell_type": "markdown",
   "metadata": {},
   "source": [
    ""
   ]
  },
  {
   "cell_type": "markdown",
   "metadata": {},
   "source": [
    "../../affinity/task_affinity.tex"
   ]
  },
  {
   "cell_type": "markdown",
   "metadata": {},
   "source": [
    ""
   ]
  },
  {
   "cell_type": "markdown",
   "metadata": {},
   "source": [
    "## Affinity Display"
   ]
  },
  {
   "cell_type": "markdown",
   "metadata": {},
   "source": [
    "\index{affinity display!OMP_DISPLAY_AFFINITY@\scode{OMP_DISPLAY_AFFINITY}} \index{environment variables!OMP_DISPLAY_AFFINITY@\scode{OMP_DISPLAY_AFFINITY}} \index{OMP_DISPLAY_AFFINITY@\scode{OMP_DISPLAY_AFFINITY}} \index{affinity display!OMP_AFFINITY_FORMAT@\scode{OMP_AFFINITY_FORMAT}} \index{environment variables!OMP_AFFINITY_FORMAT@\scode{OMP_AFFINITY_FORMAT}} \index{OMP_AFFINITY_FORMAT@\scode{OMP_AFFINITY_FORMAT}} \index{affinity display!omp_display_affinity routine@\scode{omp_display_affinity} routine} \index{routines!omp_display_affinity@\scode{omp_display_affinity}} \index{omp_display_affinity routine@\scode{omp_display_affinity} routine}"
   ]
  },
  {
   "cell_type": "markdown",
   "metadata": {},
   "source": [
    "The following examples illustrate ways to display thread affinity. Automatic display of affinity can be invoked by setting the `OMP_DISPLAY_AFFINITY` environment variable to `TRUE`.   The format of the output can be customized by setting the  `OMP_AFFINITY_FORMAT` environment variable to an appropriate string.   Also, there are API calls for the user to display thread affinity  at selected locations within code."
   ]
  },
  {
   "cell_type": "markdown",
   "metadata": {},
   "source": [
    "For the first example the environment variable `OMP_DISPLAY_AFFINITY` has been set to `TRUE`, and execution occurs on an 8-core system with `OMP_NUM_THREADS` set to 8."
   ]
  },
  {
   "cell_type": "markdown",
   "metadata": {},
   "source": [
    "The affinity for the primary thread is reported through a call to the API `omp_display_affinity()` routine. For default affinity settings the report shows that the primary thread can execute on any of the cores.  In the following parallel region the affinity for each of the team threads is reported automatically since the `OMP_DISPLAY_AFFINITY` environment variable has been set to `TRUE`."
   ]
  },
  {
   "cell_type": "markdown",
   "metadata": {},
   "source": [
    "These two reports are often useful (as in hybrid codes using both MPI and OpenMP)  to observe the affinity (for an MPI task) before the parallel region, and during an OpenMP parallel region. Note: the next parallel region uses the  same number of threads as in the previous parallel region and affinities are  not changed, so affinity is NOT reported."
   ]
  },
  {
   "cell_type": "markdown",
   "metadata": {},
   "source": [
    "In the last parallel region, the thread affinities are reported because the thread affinity has changed."
   ]
  },
  {
   "cell_type": "markdown",
   "metadata": {},
   "source": [
    ""
   ]
  },
  {
   "cell_type": "code",
   "execution_count": null,
   "metadata": {},
   "outputs": [],
   "source": [
    "//%compiler: clang\n",
 "//%cflags: -fopenmp\n",
 "\n",
    "/*\n",
    "* name: affinity_display.1\n",
    "* type: C\n",
    "* version: omp_5.0\n",
    "*/\n",
    "#include <stdio.h>\n",
    "#include <omp.h>\n",
    "\n",
    "int main(void){                  //MAX threads = 8, single socket system\n",
    "\n",
    "   //API call-- Displays Affinity of Primary Thread\n",
    "   omp_display_affinity(NULL);\n",
    "\n",
    "   // API CALL OUTPUT (default format):\n",
    "   // team_num= 0, nesting_level= 0, thread_num= 0,\n",
    "   // thread_affinity= 0,1,2,3,4,5,6,7\n",
    "\n",
    "   // OMP_DISPLAY_AFFINITY=TRUE, OMP_NUM_THREADS=8\n",
    "   #pragma omp parallel num_threads(omp_get_num_procs())\n",
    "   {\n",
    "     if(omp_get_thread_num()==0)\n",
    "        printf(\"1st Parallel Region -- Affinity Reported \\n\");\n",
    "\n",
    "   // DISPLAY OUTPUT (default format) has been sorted:\n",
    "   // team_num= 0, nesting_level= 1, thread_num= 0, thread_affinity= 0\n",
    "   // team_num= 0, nesting_level= 1, thread_num= 1, thread_affinity= 1\n",
    "   // ...\n",
    "   // team_num= 0, nesting_level= 1, thread_num= 7, thread_affinity= 7\n",
    "\n",
    "      // doing work here\n",
    "   }\n",
    "\n",
    "   #pragma omp parallel num_threads( omp_get_num_procs() )\n",
    "   {\n",
    "      if(omp_get_thread_num()==0)\n",
    "         printf(\"%s%s\\n\",\"Same Affinity as in Previous Parallel Region\",\n",
    "                         \" -- no Affinity Reported\\n\");\n",
    "\n",
    "   // NO AFFINITY OUTPUT:\n",
    "   //(output in 1st parallel region only for OMP_DISPLAY_AFFINITY=TRUE)\n",
    "\n",
    "      // doing more work here\n",
    "   }\n",
    "\n",
    "   // Report Affinity for 1/2 number of threads\n",
    "   #pragma omp parallel num_threads( omp_get_num_procs()/2 )\n",
    "   {\n",
    "     if(omp_get_thread_num()==0)\n",
    "        printf(\"Report Affinity for using 1/2 of max threads.\\n\");\n",
    "\n",
    "   // DISPLAY OUTPUT (default format) has been sorted:\n",
    "   // team_num= 0, nesting_level= 1, thread_num= 0, thread_affinity= 0,1\n",
    "   // team_num= 0, nesting_level= 1, thread_num= 1, thread_affinity= 2,3\n",
    "   // team_num= 0, nesting_level= 1, thread_num= 2, thread_affinity= 4,5\n",
    "   // team_num= 0, nesting_level= 1, thread_num= 3, thread_affinity= 6,7\n",
    "\n",
    "     // do work\n",
    "   }\n",
    "\n",
    "   return 0;\n",
    "}\n",
    "\n"
   ]
  },
  {
   "cell_type": "markdown",
   "metadata": {},
   "source": [
    ""
   ]
  },
  {
   "cell_type": "markdown",
   "metadata": {},
   "source": [
    ""
   ]
  },
  {
   "cell_type": "code",
   "execution_count": null,
   "metadata": {},
   "outputs": [],
   "source": [
    "\n",
    "! name: affinity_display.1\n",
    "! type: F-free\n",
    "! version: omp_5.0\n",
    "program affinity_display        ! MAX threads = 8, single socket system\n",
    "\n",
    "   use omp_lib\n",
    "   implicit none\n",
    "   character(len=0) :: null\n",
    "\n",
    "   ! API call - Displays Affinity of Primary Thread\n",
    "   call omp_display_affinity(null)\n",
    "\n",
    "   ! API CALL OUTPUT (default format):\n",
    "   ! team_num= 0, nesting_level= 0, thread_num= 0, &\n",
    "   !   thread_affinity= 0,1,2,3,4,5,6,7\n",
    "\n",
    "\n",
    "   ! OMP_DISPLAY_AFFINITY=TRUE, OMP_NUM_THREADS=8\n",
    "\n",
    "   !$omp parallel num_threads(omp_get_num_procs())\n",
    "\n",
    "     if(omp_get_thread_num()==0) then\n",
    "        print*, \"1st Parallel Region  -- Affinity Reported\"\n",
    "     endif\n",
    "\n",
    "     ! DISPLAY OUTPUT (default format) has been sorted:\n",
    "     ! team_num= 0, nesting_level= 1, thread_num= 0, thread_affinity= 0\n",
    "     ! team_num= 0, nesting_level= 1, thread_num= 1, thread_affinity= 1\n",
    "     ! ...\n",
    "     ! team_num= 0, nesting_level= 1, thread_num= 7, thread_affinity= 7\n",
    "\n",
    "      ! doing work here\n",
    "\n",
    "   !$omp end parallel\n",
    "\n",
    "   !$omp parallel num_threads( omp_get_num_procs() )\n",
    "\n",
    "     if(omp_get_thread_num()==0) then\n",
    "        print*, \"Same Affinity in Parallel Region -- no Affinity Reported\"\n",
    "     endif\n",
    "\n",
    "     ! NO AFFINITY OUTPUT:\n",
    "     ! (output in 1st parallel region only for\n",
    "     !  OMP_DISPLAY_AFFINITY=TRUE)\n",
    "\n",
    "      ! doing more work here\n",
    "\n",
    "   !$omp end parallel\n",
    "\n",
    "   ! Report Affinity for 1/2 number of threads\n",
    "   !$omp parallel num_threads( omp_get_num_procs()/2 )\n",
    "\n",
    "     if(omp_get_thread_num()==0) then\n",
    "        print*, \"Altered Affinity in Parallel Region -- Affinity Reported\"\n",
    "     endif\n",
    "\n",
    "     ! DISPLAY OUTPUT (default format) has been sorted:\n",
    "     ! team_num= 0, nesting_level= 1, thread_num= 0, &\n",
    "     !   thread_affinity= 0,1\n",
    "     ! team_num= 0, nesting_level= 1, thread_num= 1, &\n",
    "     !   thread_affinity= 2,3\n",
    "     ! team_num= 0, nesting_level= 1, thread_num= 2, &\n",
    "     !   thread_affinity= 4,5\n",
    "     ! team_num= 0, nesting_level= 1, thread_num= 3, &\n",
    "     !   thread_affinity= 6,7\n",
    "\n",
    "      ! do work\n",
    "\n",
    "   !$omp end parallel\n",
    "\n",
    "end program\n",
    "\n"
   ]
  },
  {
   "cell_type": "markdown",
   "metadata": {},
   "source": [
    ""
   ]
  },
  {
   "cell_type": "markdown",
   "metadata": {},
   "source": [
    ""
   ]
  },
  {
   "cell_type": "markdown",
   "metadata": {},
   "source": [
    "In the following example 2 threads are forked, and each executes on a socket. Next, a nested parallel region runs half of the available threads on each socket."
   ]
  },
  {
   "cell_type": "markdown",
   "metadata": {},
   "source": [
    "These OpenMP environment variables have been set:"
   ]
  },
  {
   "cell_type": "markdown",
   "metadata": {},
   "source": [
    ""
   ]
  },
  {
   "cell_type": "markdown",
   "metadata": {},
   "source": [
    "*  `OMP_PROC_BIND`=\"TRUE\""
   ]
  },
  {
   "cell_type": "markdown",
   "metadata": {},
   "source": [
    "*  `OMP_NUM_THREADS`=\"2,4\""
   ]
  },
  {
   "cell_type": "markdown",
   "metadata": {},
   "source": [
    "*  `OMP_PLACES`=\"{0,2,4,6},{1,3,5,7}\""
   ]
  },
  {
   "cell_type": "markdown",
   "metadata": {},
   "source": [
    "*  `OMP_AFFINITY_FORMAT`=\"nest_level= L, parent_thrd_num= a, thrd_num= n, thrd_affinity= A\""
   ]
  },
  {
   "cell_type": "markdown",
   "metadata": {},
   "source": [
    "where the numbers correspond to core ids for the system. Note, `OMP_DISPLAY_AFFINITY` is not set and is `FALSE` by default.  This example shows how to use API routines to perform affinity display operations."
   ]
  },
  {
   "cell_type": "markdown",
   "metadata": {},
   "source": [
    "\index{environment variables!OMP_PLACES@\scode{OMP_PLACES}} \index{OMP_PLACES@\scode{OMP_PLACES}} For each of the two first-level threads the `OMP_PLACES` variable specifies a place with all the core-ids of the socket ({0,2,4,6} for one thread and {1,3,5,7} for the other). (As is sometimes the case in 2-socket systems, one socket may consist of the even id numbers, while the other may have the odd id numbers.)  The affinities are printed according to the `OMP_AFFINITY_FORMAT` format: providing the parallel nesting level (L), the ancestor thread number (a), the thread number (n) and the thread affinity (A). In the nested parallel region within the  _socket_work_  routine the affinities for the threads on each socket are printed according to this format."
   ]
  },
  {
   "cell_type": "markdown",
   "metadata": {},
   "source": [
    ""
   ]
  },
  {
   "cell_type": "code",
   "execution_count": null,
   "metadata": {},
   "outputs": [],
   "source": [
    "//%compiler: clang\n",
 "//%cflags: -fopenmp\n",
 "\n",
    "/*\n",
    "* name:       affinity_display.2\n",
    "* type:       C\n",
    "* version: omp_5.0\n",
    "*/\n",
    "#include <stdio.h>\n",
    "#include <stdlib.h>\n",
    "#include <omp.h>\n",
    "\n",
    "void socket_work(int socket_num, int n_thrds);\n",
    "\n",
    "int main(void)\n",
    "{\n",
    "   int n_sockets, socket_num, n_thrds_on_socket;\n",
    "\n",
    "   omp_set_nested(1);            // or env var= OMP_NESTED=true\n",
    "   omp_set_max_active_levels(2); // or env var= OMP_MAX_ACTIVE_LEVELS=2\n",
    "\n",
    "   n_sockets         = omp_get_num_places();\n",
    "   n_thrds_on_socket = omp_get_place_num_procs(0);\n",
    "\n",
    "// OMP_NUM_THREADS=2,4\n",
    "// OMP_PLACES=\"{0,2,4,6},{1,3,5,7}\"  #2 sockets; even/odd proc-ids\n",
    "// OMP_AFFINITY_FORMAT=\\\n",
    "// \"nest_level= %L, parent_thrd_num= %a, thrd_num= %n, thrd_affinity= %A\"\n",
    "\n",
    "   #pragma omp parallel num_threads(n_sockets) private(socket_num)\n",
    "   {\n",
    "      socket_num = omp_get_place_num();\n",
    "\n",
    "      if(socket_num==0)\n",
    "         printf(\" LEVEL 1 AFFINITIES 1 thread/socket, %d sockets:\\n\\n\",\n",
    "                n_sockets);\n",
    "\n",
    "      // not needed if OMP_DISPLAY_AFFINITY=TRUE\n",
    "      omp_display_affinity(NULL);\n",
    "\n",
    "// OUTPUT:\n",
    "// LEVEL 1 AFFINITIES 1 thread/socket, 2 sockets:\n",
    "// nest_level= 1, parent_thrd_num= 0, thrd_num= 0, thrd_affinity= 0,2,4,6\n",
    "// nest_level= 1, parent_thrd_num= 0, thrd_num= 1, thrd_affinity= 1,3,5,7\n",
    "\n",
    "      socket_work(socket_num, n_thrds_on_socket);\n",
    "   }\n",
    "\n",
    " return 0;\n",
    "}\n",
    "\n",
    "void socket_work(int socket_num, int n_thrds)\n",
    "{\n",
    "   #pragma omp parallel num_threads(n_thrds)\n",
    "   {\n",
    "      if(omp_get_thread_num()==0)\n",
    "         printf(\" LEVEL 2 AFFINITIES, %d threads on socket %d\\n\",\n",
    "                n_thrds, socket_num);\n",
    "\n",
    "         // not needed if OMP_DISPLAY_AFFINITY=TRUE\n",
    "         omp_display_affinity(NULL);\n",
    "\n",
    " // OUTPUT:\n",
    " // LEVEL 2 AFFINITIES, 4 threads on socket 0\n",
    " // nest_level= 2, parent_thrd_num= 0, thrd_num= 0, thrd_affinity= 0\n",
    " // nest_level= 2, parent_thrd_num= 0, thrd_num= 1, thrd_affinity= 2\n",
    " // nest_level= 2, parent_thrd_num= 0, thrd_num= 2, thrd_affinity= 4\n",
    " // nest_level= 2, parent_thrd_num= 0, thrd_num= 3, thrd_affinity= 6\n",
    "\n",
    " // LEVEL 2 AFFINITIES, 4 threads on socket 1\n",
    " // nest_level= 2, parent_thrd_num= 1, thrd_num= 0, thrd_affinity= 1\n",
    " // nest_level= 2, parent_thrd_num= 1, thrd_num= 1, thrd_affinity= 3\n",
    " // nest_level= 2, parent_thrd_num= 1, thrd_num= 2, thrd_affinity= 5\n",
    " // nest_level= 2, parent_thrd_num= 1, thrd_num= 3, thrd_affinity= 7\n",
    "\n",
    "    // ... Do Some work on Socket\n",
    "   }\n",
    "}\n",
    "\n"
   ]
  },
  {
   "cell_type": "markdown",
   "metadata": {},
   "source": [
    ""
   ]
  },
  {
   "cell_type": "markdown",
   "metadata": {},
   "source": [
    ""
   ]
  },
  {
   "cell_type": "code",
   "execution_count": null,
   "metadata": {},
   "outputs": [],
   "source": [
    "\n",
    "! name: affinity_display.2\n",
    "! type: F-free\n",
    "! version: omp_5.0\n",
    "program affinity_display\n",
    "\n",
    "   use omp_lib\n",
    "   implicit none\n",
    "   character(len=0) :: null\n",
    "   integer          :: n_sockets, socket_num, n_thrds_on_socket;\n",
    "\n",
    "   call omp_set_nested(.true.)        ! or env var= OMP_NESTED=true\n",
    "   call omp_set_max_active_levels(2)  ! or env var= OMP_MAX_ACTIVE_LEVELS=2\n",
    "\n",
    "   n_sockets         = omp_get_num_places()\n",
    "   n_thrds_on_socket = omp_get_place_num_procs(0)\n",
    "\n",
    "    ! OMP_NUM_THREADS=2,4\n",
    "    ! OMP_PLACES=\"{0,2,4,6},{1,3,5,7}\"  #2 sockets; even/odd proc-ids\n",
    "    ! OMP_AFFINITY_FORMAT=\\\n",
    "    !\"nest_level= %L, parent_thrd_num= %a, thrd_num= %n, thrd_affinity= %A\"\n",
    "\n",
    "   !$omp parallel num_threads(n_sockets) private(socket_num)\n",
    "\n",
    "     socket_num = omp_get_place_num()\n",
    "\n",
    "     if(socket_num==0) then\n",
    "       write(*,'(\"LEVEL 1 AFFINITIES 1 thread/socket \",i0,\" sockets\")') &\n",
    "             n_sockets\n",
    "     endif\n",
    "\n",
    "     call omp_display_affinity(null)  ! not needed\n",
    "                                      ! if OMP_DISPLAY_AFFINITY=TRUE\n",
    "\n",
    "       ! OUTPUT:\n",
    "       ! LEVEL 1 AFFINITIES 1 thread/socket, 2 sockets:\n",
    "       ! nest_level= 1, parent_thrd_num= 0, thrd_num= 0, &\n",
    "       !   thrd_affinity= 0,2,4,6\n",
    "       ! nest_level= 1, parent_thrd_num= 0, thrd_num= 1, &\n",
    "       !   thrd_affinity= 1,3,5,7\n",
    "\n",
    "     call socket_work(socket_num, n_thrds_on_socket)\n",
    "\n",
    "   !$omp end parallel\n",
    "\n",
    "end program\n",
    "\n",
    "subroutine socket_work(socket_num, n_thrds)\n",
    "   use omp_lib\n",
    "   implicit none\n",
    "   integer :: socket_num, n_thrds\n",
    "   character(len=0) :: null\n",
    "\n",
    "   !$omp parallel num_threads(n_thrds)\n",
    "\n",
    "      if(omp_get_thread_num()==0) then\n",
    "      write(*,'(\"LEVEL 2 AFFINITIES, \",i0,\" threads on socket \",i0)') &\n",
    "            n_thrds,socket_num\n",
    "      endif\n",
    "\n",
    "      call omp_display_affinity(null)  ! not needed\n",
    "                                       ! if OMP_DISPLAY_AFFINITY=TRUE\n",
    "\n",
    "      ! OUTPUT:\n",
    "      ! LEVEL 2 AFFINITIES, 4 threads on socket 0\n",
    "      ! nest_level= 2, parent_thrd_num= 0, thrd_num= 0, thrd_affinity= 0\n",
    "      ! nest_level= 2, parent_thrd_num= 0, thrd_num= 1, thrd_affinity= 2\n",
    "      ! nest_level= 2, parent_thrd_num= 0, thrd_num= 2, thrd_affinity= 4\n",
    "      ! nest_level= 2, parent_thrd_num= 0, thrd_num= 3, thrd_affinity= 6\n",
    "\n",
    "      ! LEVEL 2 AFFINITIES, 4 thrds on socket 1\n",
    "      ! nest_level= 2, parent_thrd_num= 1, thrd_num= 0, thrd_affinity= 1\n",
    "      ! nest_level= 2, parent_thrd_num= 1, thrd_num= 1, thrd_affinity= 3\n",
    "      ! nest_level= 2, parent_thrd_num= 1, thrd_num= 2, thrd_affinity= 5\n",
    "      ! nest_level= 2, parent_thrd_num= 1, thrd_num= 3, thrd_affinity= 7\n",
    "\n",
    "      ! ... Do Some work on Socket\n",
    "\n",
    "   !$omp end parallel\n",
    "\n",
    "end subroutine\n",
    "\n"
   ]
  },
  {
   "cell_type": "markdown",
   "metadata": {},
   "source": [
    ""
   ]
  },
  {
   "cell_type": "markdown",
   "metadata": {},
   "source": [
    "\index{affinity display!omp_get_affinity_format routine@\scode{omp_get_affinity_format} routine} \index{routines!omp_get_affinity_format@\scode{omp_get_affinity_format}} \index{omp_get_affinity_format routine@\scode{omp_get_affinity_format} routine} \index{affinity display!omp_set_affinity_format routine@\scode{omp_set_affinity_format} routine} \index{routines!omp_set_affinity_format@\scode{omp_set_affinity_format}} \index{omp_set_affinity_format routine@\scode{omp_set_affinity_format} routine} The next example illustrates more details about affinity formatting. First, the `omp_get_affinity_format()` API routine is used to  obtain the default format. The code checks to make sure the storage  provides enough space to hold the format.   Next, the `omp_set_affinity_format()` API routine sets a user-defined  format:  _host=20H thrd_num=0.4n binds_to=A_ ."
   ]
  },
  {
   "cell_type": "markdown",
   "metadata": {},
   "source": [
    "The host, thread number and affinity fields are specified by  _20H_ ,   _0.4n_  and  _A_ :  _H_ ,  _n_  and  _A_  are single character \"short names\"  for the host, thread_num and thread_affinity data to be printed, with format sizes of  _20_ ,  _4_ , and \"size as needed\".  The period (.) indicates that the field is displayed right-justified (default is left-justified)  and the \"0\" indicates that any unused space is to be prefixed with zeros  (e.g. instead of \"1\", \"0001\" is displayed for the field size of 4)."
   ]
  },
  {
   "cell_type": "markdown",
   "metadata": {},
   "source": [
    ""
   ]
  },
  {
   "cell_type": "markdown",
   "metadata": {},
   "source": [
    ""
   ]
  },
  {
   "cell_type": "markdown",
   "metadata": {},
   "source": [
    "\index{affinity display!omp_capture_affinity routine@\scode{omp_capture_affinity} routine} \index{routines!omp_capture_affinity@\scode{omp_capture_affinity}} \index{omp_capture_affinity routine@\scode{omp_capture_affinity} routine} Within the parallel region the affinity for each thread is captured by  `omp_capture_affinity()` into a buffer array with elements indexed  by the thread number ( _thrd_num_ ). After the parallel region, the thread affinities are printed in thread-number order."
   ]
  },
  {
   "cell_type": "markdown",
   "metadata": {},
   "source": [
    "If the storage area in buffer is inadequate for holding the affinity data, the stored affinity data is truncated.   The maximum value for the number of characters ( _nchars_ ) returned by  `omp_capture_affinity` is captured by the `reduction(max:max_req_store)` clause and the  _if(nchars >= max_req_store) max_req_store=nchars_  statement.  It is used to report possible truncation (if  _max_req_store_  >  _buffer_store_ )."
   ]
  },
  {
   "cell_type": "markdown",
   "metadata": {},
   "source": [
    "\newpage"
   ]
  },
  {
   "cell_type": "code",
   "execution_count": null,
   "metadata": {},
   "outputs": [],
   "source": [
    "//%compiler: clang\n",
 "//%cflags: -fopenmp\n",
 "\n",
    "/*\n",
    "* name: affinity_display.3\n",
    "* type: C\n",
    "* version: omp_5.0\n",
    "*/\n",
    "#include <stdio.h>\n",
    "#include <stdlib.h>  // also null is in <stddef.h>\n",
    "#include <stddef.h>\n",
    "#include <string.h>\n",
    "#include <omp.h>\n",
    "\n",
    "#define FORMAT_STORE   80\n",
    "#define BUFFER_STORE   80\n",
    "\n",
    "int main(void){\n",
    "\n",
    "   int i, n, thrd_num, max_req_store;\n",
    "   size_t nchars;\n",
    "\n",
    "   char default_format[FORMAT_STORE];\n",
    "   char my_format[]  = \"host=%20H thrd_num=%0.4n binds_to=%A\";\n",
    "   char **buffer;\n",
    "\n",
    "\n",
    "   // CODE SEGMENT 1         AFFINITY FORMAT\n",
    "\n",
    "   // Get and Display Default Affinity Format\n",
    "\n",
    "   nchars = omp_get_affinity_format(default_format,(size_t)FORMAT_STORE);\n",
    "   printf(\"Default Affinity Format is: %s\\n\",default_format);\n",
    "\n",
    "   if(nchars >= FORMAT_STORE){\n",
    "      printf(\"Caution: Reported Format is truncated.  Increase\\n\");\n",
    "      printf(\"         FORMAT_STORE to %d.\\n\", nchars+1);\n",
    "   }\n",
    "\n",
    "   // Set Affinity Format\n",
    "\n",
    "   omp_set_affinity_format(my_format);\n",
    "   printf(\"Affinity Format set to: %s\\n\",my_format);\n",
    "\n",
    "\n",
    "   // CODE SEGMENT 2         CAPTURE AFFINITY\n",
    "\n",
    "   // Set up buffer for affinity of n threads\n",
    "\n",
    "   n = omp_get_num_procs();\n",
    "   buffer = (char **)malloc( sizeof(char *) * n );\n",
    "   for(i=0;i<n;i++){\n",
    "      buffer[i]=(char *)malloc( sizeof(char) * BUFFER_STORE);\n",
    "   }\n",
    "\n",
    "   // Capture Affinity using Affinity Format set above.\n",
    "   // Use max reduction to check size of buffer areas\n",
    "   max_req_store = 0;\n",
    "   #pragma omp parallel private(thrd_num,nchars) \\\n",
    "                        reduction(max:max_req_store)\n",
    "   {\n",
    "      //safety: don't exceed # of buffers\n",
    "      if(omp_get_num_threads()>n) exit(1);\n",
    "\n",
    "      thrd_num=omp_get_thread_num();\n",
    "      nchars=omp_capture_affinity(buffer[thrd_num],\n",
    "                                  (size_t)BUFFER_STORE,NULL);\n",
    "      if(nchars > max_req_store) max_req_store=nchars;\n",
    "\n",
    "      // ...\n",
    "   }\n",
    "\n",
    "   for(i=0;i<n;i++){\n",
    "      printf(\"thrd_num= %d, affinity: %s\\n\", i,buffer[i]);\n",
    "   }\n",
    "      // For 4 threads with OMP_PLACES='{0,1},{2,3},{4,5},{6,7}'\n",
    "      // Format    host=%20H thrd_num=%0.4n binds_to=%A\n",
    "\n",
    "      // affinity: host=hpc.cn567            thrd_num=0000 binds_to=0,1\n",
    "      // affinity: host=hpc.cn567            thrd_num=0001 binds_to=2,3\n",
    "      // affinity: host=hpc.cn567            thrd_num=0002 binds_to=4,5\n",
    "      // affinity: host=hpc.cn567            thrd_num=0003 binds_to=6,7\n",
    "\n",
    "\n",
    "   if(max_req_store>=BUFFER_STORE){\n",
    "      printf(\"Caution: Affinity string truncated.  Increase\\n\");\n",
    "      printf(\"         BUFFER_STORE to %d\\n\",max_req_store+1);\n",
    "   }\n",
    "\n",
    "   for(i=0;i<n;i++) free(buffer[i]);\n",
    "   free (buffer);\n",
    "\n",
    "   return 0;\n",
    "}\n",
    "\n"
   ]
  },
  {
   "cell_type": "markdown",
   "metadata": {},
   "source": [
    ""
   ]
  },
  {
   "cell_type": "markdown",
   "metadata": {},
   "source": [
    ""
   ]
  },
  {
   "cell_type": "code",
   "execution_count": null,
   "metadata": {},
   "outputs": [],
   "source": [
    "\n",
    "! name: affinity_display.3\n",
    "! type: F-free\n",
    "! version: omp_5.0\n",
    "program affinity_display\n",
    "   use omp_lib\n",
    "   implicit none\n",
    "   integer, parameter :: FORMAT_STORE=80\n",
    "   integer, parameter :: BUFFER_STORE=80\n",
    "\n",
    "   integer            :: i, n, thrd_num, nchars, max_req_store\n",
    "\n",
    "   character(FORMAT_STORE)     :: default_format\n",
    "   character(*), parameter     :: my_format = &\n",
    "                                  \"host=%20H thrd_num=%0.4n binds_to=%A\"\n",
    "   character(:), allocatable   :: buffer(:)\n",
    "   character(len=0)            :: null\n",
    "\n",
    "\n",
    "!  CODE SEGMENT 1         AFFINITY FORMAT\n",
    "\n",
    "!                         Get and Display Default Affinity Format\n",
    "\n",
    "   nchars = omp_get_affinity_format(default_format)\n",
    "   print*,\"Default Affinity Format: \", trim(default_format)\n",
    "\n",
    "   if( nchars > FORMAT_STORE) then\n",
    "      print*,\"Caution: Reported Format is truncated.  Increase\"\n",
    "      print*,\"         FORMAT_STORE to \", nchars\n",
    "   endif\n",
    "\n",
    "!                         Set Affinity Format\n",
    "\n",
    "   call omp_set_affinity_format(my_format)\n",
    "   print*,\"Affinity Format set to: \", my_format\n",
    "\n",
    "\n",
    "!  CODE SEGMENT 2         CAPTURE AFFINITY\n",
    "\n",
    "!                         Set up buffer for affinity of n threads\n",
    "\n",
    "   n = omp_get_num_procs()\n",
    "   allocate( character(len=BUFFER_STORE)::buffer(0:n-1) )\n",
    "\n",
    "!                         Capture Affinity using Affinity Format set above.\n",
    "!                         Use max reduction to check size of buffer areas\n",
    "   max_req_store = 0\n",
    "   !$omp parallel private(thrd_num,nchars) reduction(max:max_req_store)\n",
    "\n",
    "      if(omp_get_num_threads()>n) stop \"ERROR: increase buffer lines\"\n",
    "\n",
    "      thrd_num=omp_get_thread_num()\n",
    "      nchars=omp_capture_affinity(buffer(thrd_num),null)\n",
    "      if(nchars>max_req_store) max_req_store=nchars\n",
    "      !  ...\n",
    "\n",
    "   !$omp end parallel\n",
    "\n",
    "   do i = 0, n-1\n",
    "      print*, \"thrd_num= \",i,\"   affinity:\", trim(buffer(i))\n",
    "   end do\n",
    "         !  For 4 threads with OMP_PLACES='{0,1},{2,3},{4,5},{6,7}'\n",
    "         !  Format:   host=%20H thrd_num=%0.4n binds_to=%A\n",
    "\n",
    "         !  affinity: host=hpc.cn567            thrd_num=0000 binds_to=0,1\n",
    "         !  affinity: host=hpc.cn567            thrd_num=0001 binds_to=2,3\n",
    "         !  affinity: host=hpc.cn567            thrd_num=0002 binds_to=4,5\n",
    "         !  affinity: host=hpc.cn567            thrd_num=0003 binds_to=6,7\n",
    "\n",
    "   if(max_req_store > BUFFER_STORE) then\n",
    "      print*,  \"Caution: Affinity string truncated.  Increase\"\n",
    "      print*,  \"         BUFFER_STORE to \",max_req_store\n",
    "   endif\n",
    "\n",
    "   deallocate(buffer)\n",
    "end program\n",
    "\n"
   ]
  },
  {
   "cell_type": "markdown",
   "metadata": {},
   "source": [
    ""
   ]
  },
  {
   "cell_type": "markdown",
   "metadata": {},
   "source": [
    "../../affinity/affinity_display.tex"
   ]
  },
  {
   "cell_type": "markdown",
   "metadata": {},
   "source": [
    ""
   ]
  },
  {
   "cell_type": "markdown",
   "metadata": {},
   "source": [
    "## Affinity Query Functions"
   ]
  },
  {
   "cell_type": "markdown",
   "metadata": {},
   "source": [
    "\index{affinity query!omp_get_num_places routine@\scode{omp_get_num_places} routine} \index{routines!omp_get_num_places@\scode{omp_get_num_places}} \index{omp_get_num_places routine@\scode{omp_get_num_places} routine} \index{affinity query!omp_get_place_num routine@\scode{omp_get_place_num} routine} \index{routines!omp_get_place_num@\scode{omp_get_place_num}} \index{omp_get_place_num routine@\scode{omp_get_place_num} routine} \index{affinity query!omp_get_place_num_procs routine@\scode{omp_get_place_num_procs} routine} \index{routines!omp_get_place_num_procs@\scode{omp_get_place_num_procs}} \index{omp_get_place_num_procs routine@\scode{omp_get_place_num_procs} routine} \index{affinity!spread policy@`spread` policy} \index{spread policy@`spread` policy} \index{environment variables!OMP_PLACES@\scode{OMP_PLACES}} \index{OMP_PLACES@\scode{OMP_PLACES}}"
   ]
  },
  {
   "cell_type": "markdown",
   "metadata": {},
   "source": [
    "In the example below a team of threads is generated on each socket of the system, using nested parallelism. Several query functions are used to gather information to support the creation of the teams and to obtain  socket and thread numbers."
   ]
  },
  {
   "cell_type": "markdown",
   "metadata": {},
   "source": [
    "For proper execution of the code, the user must create a place partition, such that each place is a listing of the core numbers for a socket. For example, in a 2 socket system with 8 cores in each socket, and sequential numbering in the socket for the core numbers, the `OMP_PLACES` variable would be set to \"{0:8},{8:8}\", using the place syntax { _lower_bound_ : _length_ : _stride_ }, and the default stride of 1."
   ]
  },
  {
   "cell_type": "markdown",
   "metadata": {},
   "source": [
    "The code determines the number of sockets ( _n_sockets_ ) using the `omp_get_num_places()` query function. In this example each place is constructed with a list of  each socket's core numbers, hence the number of places is equal to the number of sockets."
   ]
  },
  {
   "cell_type": "markdown",
   "metadata": {},
   "source": [
    "The outer parallel region forms a team of threads, and each thread  executes on a socket (place) because the `proc_bind` clause uses  `spread` in the outer `parallel` construct. Next, in the  _socket_init_  function, an inner parallel region creates a team  of threads equal to the number of elements (core numbers) from the place of the parent thread. Because the outer `parallel` construct uses  a `spread` affinity policy, each of its threads inherits a subpartition of  the original partition.  Hence, the `omp_get_place_num_procs` query function returns the number of elements (here procs = cores) in the subpartition of the thread.   After each parent thread creates its nested parallel region on the section, the socket number and thread number are reported."
   ]
  },
  {
   "cell_type": "markdown",
   "metadata": {},
   "source": [
    "Note: Portable tools like hwloc (Portable HardWare LOCality package), which support many common operating systems, can be used to determine the configuration of a system.   On some systems there are utilities, files or user guides that provide configuration information.  For instance, the socket number and proc_id's for a socket  can be found in the /proc/cpuinfo text file on Linux systems."
   ]
  },
  {
   "cell_type": "markdown",
   "metadata": {},
   "source": [
    ""
   ]
  },
  {
   "cell_type": "code",
   "execution_count": null,
   "metadata": {},
   "outputs": [],
   "source": [
    "//%compiler: clang\n",
 "//%cflags: -fopenmp\n",
 "\n",
    "/*\n",
    "* name: affinity_query.1\n",
    "* type: C\n",
    "* version: omp_4.5\n",
    "*/\n",
    "#include <stdio.h>\n",
    "#include <omp.h>\n",
    "\n",
    "void socket_init(int socket_num)\n",
    "{\n",
    "   int n_procs;\n",
    "\n",
    "   n_procs = omp_get_place_num_procs(socket_num);\n",
    "   #pragma omp parallel num_threads(n_procs) proc_bind(close)\n",
    "   {\n",
    "      printf(\"Reporting in from socket num, thread num:  %d %d\\n\",\n",
    "                                socket_num,omp_get_thread_num() );\n",
    "   }\n",
    "}\n",
    "\n",
    "int main()\n",
    "{\n",
    "   int n_sockets, socket_num;\n",
    "\n",
    "   omp_set_nested(1);              // or export OMP_NESTED=true\n",
    "   omp_set_max_active_levels(2);   // or export OMP_MAX_ACTIVE_LEVELS=2\n",
    "\n",
    "   n_sockets = omp_get_num_places();\n",
    "   #pragma omp parallel num_threads(n_sockets) private(socket_num) \\\n",
    "                        proc_bind(spread)\n",
    "   {\n",
    "      socket_num = omp_get_place_num();\n",
    "      socket_init(socket_num);\n",
    "   }\n",
    "\n",
    "   return 0;\n",
    "}\n",
    "\n"
   ]
  },
  {
   "cell_type": "markdown",
   "metadata": {},
   "source": [
    ""
   ]
  },
  {
   "cell_type": "markdown",
   "metadata": {},
   "source": [
    ""
   ]
  },
  {
   "cell_type": "code",
   "execution_count": null,
   "metadata": {},
   "outputs": [],
   "source": [
    "\n",
    "! name: affinity_query.1\n",
    "! type: F-free\n",
    "! version: omp_4.5\n",
    "subroutine socket_init(socket_num)\n",
    "   use omp_lib\n",
    "   integer  :: socket_num, n_procs\n",
    "\n",
    "   n_procs = omp_get_place_num_procs(socket_num)\n",
    "   !$omp parallel num_threads(n_procs) proc_bind(close)\n",
    "\n",
    "      print*,\"Reporting in from socket num, thread num: \",  &\n",
    "                                socket_num,omp_get_thread_num()\n",
    "   !$omp end parallel\n",
    "end subroutine\n",
    "\n",
    "program numa_teams\n",
    "   use omp_lib\n",
    "   integer :: n_sockets, socket_num\n",
    "\n",
    "   call omp_set_nested(.true.)            ! or export OMP_NESTED=true\n",
    "   call omp_set_max_active_levels(2) ! or export OMP_MAX_ACTIVE_LEVELS=2\n",
    "\n",
    "   n_sockets = omp_get_num_places()\n",
    "   !$omp parallel num_threads(n_sockets) private(socket_num) &\n",
    "   !$omp&         proc_bind(spread)\n",
    "\n",
    "      socket_num = omp_get_place_num()\n",
    "      call socket_init(socket_num)\n",
    "\n",
    "   !$omp end parallel\n",
    "end program\n",
    "\n"
   ]
  },
  {
   "cell_type": "markdown",
   "metadata": {},
   "source": [
    ""
   ]
  },
  {
   "cell_type": "markdown",
   "metadata": {},
   "source": [
    "../../affinity/affinity_query.tex"
   ]
  },
  {
   "cell_type": "markdown",
   "metadata": {},
   "source": [
    ""
   ]
  }
 ],
 "metadata": {
  "kernelspec": {
   "display_name": "Native",
   "language": "native",
   "name": "native"
  },
  "language_info": {
   "file_extension": ".c",
   "mimetype": "text/plain",
   "name": "none"
  }
 },
 "nbformat": 4,
 "nbformat_minor": 2
}