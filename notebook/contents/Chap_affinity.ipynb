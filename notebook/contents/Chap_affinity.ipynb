{
 "cells": [
  {
   "cell_type": "markdown",
   "metadata": {},
   "source": [
    " ## OpenMP Affinity"
   ]
  },
  {
   "cell_type": "markdown",
   "metadata": {},
   "source": [
    " OpenMP Affinity consists of a  `proc_bind`  policy (thread affinity policy) and a specification of places ( ' location units '  or  _processors_  that may be cores, hardware threads, sockets, etc.).   OpenMP Affinity enables users to bind computations on specific places. The placement will hold for the duration of the parallel region.  However, the runtime is free to migrate the OpenMP threads  to different cores (hardware threads, sockets, etc.) prescribed within a given place,  if two or more cores (hardware threads, sockets, etc.) have been assigned to a given place."
   ]
  },
  {
   "cell_type": "markdown",
   "metadata": {},
   "source": [
    " Often the binding can be managed without resorting to explicitly setting places. Without the specification of places in the  `OMP_PLACES`  variable,  the OpenMP runtime will distribute and bind threads using the entire range of processors for  the OpenMP program, according to the  `OMP_PROC_BIND`  environment variable or the  `proc_bind`  clause.  When places are specified, the OMP runtime binds threads to the places according to a default distribution policy, or those specified in the  `OMP_PROC_BIND`  environment variable or the  `proc_bind`  clause."
   ]
  },
  {
   "cell_type": "markdown",
   "metadata": {},
   "source": [
    " In the OpenMP Specifications document a processor refers to an execution unit that is enabled for an OpenMP thread to use.  A processor is a core when there is no SMT (Simultaneous Multi-Threading) support or SMT is disabled.  When  SMT is enabled, a processor is a hardware thread (HW-thread). (This is the usual case; but actually, the execution unit is implementation defined.) Processor numbers are numbered sequentially from 0 to the number of cores less one (without SMT), or 0 to the number HW-threads less one (with SMT). OpenMP places use the processor number to designate binding locations (unless an  ' abstract name '  is used.) "
   ]
  },
  {
   "cell_type": "markdown",
   "metadata": {},
   "source": [
    " The processors available to a process may be a subset of the system's processors.  This restriction may be the result of a  wrapper process controlling the execution (such as  `numactl`  on Linux systems),  compiler options, library-specific environment variables, or default kernel settings.  For instance, the execution of multiple MPI processes, launched on a single compute node, will each have a subset of processors as determined by the MPI launcher or set by MPI affinity environment  variables for the MPI library.  \n",
"Forked threads within an MPI process \n",
"(for a hybrid execution of MPI and OpenMP ) inherit the valid  \n",
"processor set for execution from the parent process (the initial task region)  \n",
"when a parallel region forks threads.  The binding policy set in  \n",
" `OMP_PROC_BIND`  or the  `proc_bind`  clause will be applied to  \n",
"the subset of processors available to  _the particular_  MPI process."
   ]
  },
  {
   "cell_type": "markdown",
   "metadata": {},
   "source": [
    " \n",
"Also, setting an explicit list of processor numbers in the  `OMP_PLACES`   \n",
"variable before an MPI launch (which involves more than one MPI process) will \n",
"result in unspecified behavior (and doesn't make sense) because the set of  \n",
"processors in the places list must not contain processors outside the subset  \n",
"of processors for an MPI process. A separate  `OMP_PLACES`  variable must \n",
"be set for each MPI process, and is usually accomplished by launching a script  \n",
"which sets  `OMP_PLACES`  specifically for the MPI process. "
   ]
  },
  {
   "cell_type": "markdown",
   "metadata": {},
   "source": [
    " Threads of a team are positioned onto places in a compact manner, a  scattered distribution, or onto the master's place, by setting the   `OMP_PROC_BIND`  environment variable or the  `proc_bind`  clause  to   _close_ ,  _spread_ , or  _master_ , respectively.  When   `OMP_PROC_BIND`  is set to FALSE no binding is enforced; and  when the value is TRUE, the binding is implementation defined to  a set of places in the  `OMP_PLACES`  variable or to places  defined by the implementation if the  `OMP_PLACES`  variable  is not set."
   ]
  },
  {
   "cell_type": "markdown",
   "metadata": {},
   "source": [
    " The  `OMP_PLACES`  variable can also be set to an abstract name  ( _threads_ ,  _cores_ ,  _sockets_ ) to specify that a place is either a single hardware thread, a core, or a socket, respectively.  This description of the  `OMP_PLACES`  is most useful when the  number of threads is equal to the number of hardware thread, cores or sockets.  It can also be used with a  _close_  or  _spread_   distribution policy when the equality doesn't hold."
   ]
  },
  {
   "cell_type": "markdown",
   "metadata": {},
   "source": [
    " "
   ]
  },
  {
   "cell_type": "markdown",
   "metadata": {},
   "source": [
    " "
   ]
  },
  {
   "cell_type": "markdown",
   "metadata": {},
   "source": [
    " "
   ]
  },
  {
   "cell_type": "markdown",
   "metadata": {},
   "source": [
    " "
   ]
  },
  {
   "cell_type": "markdown",
   "metadata": {},
   "source": [
    " "
   ]
  },
  {
   "cell_type": "markdown",
   "metadata": {},
   "source": [
    ""
   ]
  }
 ],
 "metadata": {
  "kernelspec": {
   "display_name": "Native",
   "language": "native",
   "name": "native"
  },
  "language_info": {
   "file_extension": ".c",
   "mimetype": "text/plain",
   "name": "c"
  }
 },
 "nbformat": 4,
 "nbformat_minor": 2
}