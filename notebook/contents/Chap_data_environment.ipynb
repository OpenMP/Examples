{
 "cells": [
  {
   "cell_type": "markdown",
   "metadata": {},
   "source": [
    ""
   ]
  },
  {
   "cell_type": "markdown",
   "metadata": {},
   "source": [
    "# Data Environment"
   ]
  },
  {
   "cell_type": "markdown",
   "metadata": {},
   "source": [
    "{data_environment}  The OpenMP  _data environment_  contains data attributes of variables and objects.  Many constructs (such as `parallel`, `simd`, `task`)  accept clauses to control  _data-sharing_  attributes of referenced variables in the construct, where  _data-sharing_  applies to whether the attribute of the variable is  _shared_ ,  is  _private_  storage, or has special operational characteristics  (as found in the `firstprivate`, `lastprivate`, `linear`, or `reduction` clause)."
   ]
  },
  {
   "cell_type": "markdown",
   "metadata": {},
   "source": [
    "The data environment for a device (distinguished as a  _device data environment_ ) is controlled on the host by  _data-mapping_  attributes, which determine the relationship of the data on the host, the  _original_  data, and the data on the device, the  _corresponding_  data."
   ]
  },
  {
   "cell_type": "markdown",
   "metadata": {},
   "source": [
    ""
   ]
  },
  {
   "cell_type": "markdown",
   "metadata": {},
   "source": [
    ""
   ]
  },
  {
   "cell_type": "markdown",
   "metadata": {},
   "source": [
    "DATA-SHARING ATTRIBUTES"
   ]
  },
  {
   "cell_type": "markdown",
   "metadata": {},
   "source": [
    "Data-sharing attributes of variables can be classified as being  _predetermined_ ,  _explicitly determined_  or  _implicitly determined_ ."
   ]
  },
  {
   "cell_type": "markdown",
   "metadata": {},
   "source": [
    "Certain variables and objects have predetermined attributes.   A commonly found case is the loop iteration variable in associated loops  of a `for` or `do` construct. It has a private data-sharing attribute. Variables with predetermined data-sharing attributes cannot be listed in a data-sharing clause; but there are some exceptions (mainly concerning loop iteration variables)."
   ]
  },
  {
   "cell_type": "markdown",
   "metadata": {},
   "source": [
    "Variables with explicitly determined data-sharing attributes are those that are referenced in a given construct and are listed in a data-sharing attribute clause on the construct. Some of the common data-sharing clauses are: `shared`, `private`, `firstprivate`, `lastprivate`,  `linear`, and `reduction`."
   ]
  },
  {
   "cell_type": "markdown",
   "metadata": {},
   "source": [
    "Variables with implicitly determined data-sharing attributes are those that are referenced in a given construct, do not have predetermined data-sharing attributes, and are not listed in a data-sharing attribute clause of an enclosing construct. For a complete list of variables and objects with predetermined and implicitly determined attributes, please refer to the  _Data-sharing Attribute Rules for Variables Referenced in a Construct_  subsection of the OpenMP Specifications document."
   ]
  },
  {
   "cell_type": "markdown",
   "metadata": {},
   "source": [
    ""
   ]
  },
  {
   "cell_type": "markdown",
   "metadata": {},
   "source": [
    ""
   ]
  },
  {
   "cell_type": "markdown",
   "metadata": {},
   "source": [
    "DATA-MAPPING ATTRIBUTES"
   ]
  },
  {
   "cell_type": "markdown",
   "metadata": {},
   "source": [
    "The `map` clause on a device construct explicitly specifies how the list items in the clause are mapped from the encountering task's data environment (on the host) to the corresponding item in the device data environment (on the device). The common  _list items_  are arrays, array sections, scalars, pointers, and structure elements (members)."
   ]
  },
  {
   "cell_type": "markdown",
   "metadata": {},
   "source": [
    "Procedures and global variables have predetermined data mapping if they appear within the list or block of a `declare` `target` directive. Also, a C/C++ pointer is mapped as a zero-length array section, as is a C++ variable that is a reference to a pointer."
   ]
  },
  {
   "cell_type": "markdown",
   "metadata": {},
   "source": [
    "Without explicit mapping, non-scalar and non-pointer variables within the scope of the `target` construct are implicitly mapped with a  _map-type_  of `tofrom`. Without explicit mapping, scalar variables within the scope of the `target` construct are not mapped, but have an implicit firstprivate data-sharing attribute. (That is, the value of the original variable is given to a private variable of the same name on the device.) This behavior can be changed with the `defaultmap` clause."
   ]
  },
  {
   "cell_type": "markdown",
   "metadata": {},
   "source": [
    "The `map` clause can appear on `target`, `target data` and  `target enter/exit data` constructs.  The operations of creation and removal of device storage as well as assignment of the original list item  values to the corresponding list items may be complicated when the list  item appears on multiple constructs or when the host and device storage  is shared. In these cases the item's reference count, the number of times it has been referenced (+1 on entry and -1 on exited) in nested (structured) map regions and/or accumulative (unstructured) mappings, determines the operation. Details of the `map` clause and reference count operation are specified  in the  _map Clause_  subsection of the OpenMP Specifications document."
   ]
  },
  {
   "cell_type": "markdown",
   "metadata": {},
   "source": [
    ""
   ]
  },
  {
   "cell_type": "markdown",
   "metadata": {},
   "source": [
    ""
   ]
  },
  {
   "cell_type": "markdown",
   "metadata": {},
   "source": [
    ""
   ]
  },
  {
   "cell_type": "markdown",
   "metadata": {},
   "source": [
    "## `threadprivate` Directive"
   ]
  },
  {
   "cell_type": "markdown",
   "metadata": {},
   "source": [
    "\index{directives!threadprivate@`threadprivate`} \index{threadprivate directive@`threadprivate` directive}"
   ]
  },
  {
   "cell_type": "markdown",
   "metadata": {},
   "source": [
    "The following examples demonstrate how to use the `threadprivate` directive   to give each thread a separate counter."
   ]
  },
  {
   "cell_type": "markdown",
   "metadata": {},
   "source": [
    ""
   ]
  },
  {
   "cell_type": "code",
   "execution_count": null,
   "metadata": {},
   "outputs": [],
   "source": [
    "//%compiler: clang\n",
 "//%cflags: -fopenmp\n",
 "\n",
    "/*\n",
    "* name: threadprivate.1\n",
    "* type: C\n",
    "*/\n",
    "int counter = 0;\n",
    "#pragma omp threadprivate(counter)\n",
    "\n",
    "int increment_counter()\n",
    "{\n",
    "  counter++;\n",
    "  return(counter);\n",
    "}\n",
    "\n"
   ]
  },
  {
   "cell_type": "markdown",
   "metadata": {},
   "source": [
    ""
   ]
  },
  {
   "cell_type": "markdown",
   "metadata": {},
   "source": [
    ""
   ]
  },
  {
   "cell_type": "code",
   "execution_count": null,
   "metadata": {},
   "outputs": [],
   "source": [
    "\n",
    "! name: threadprivate.1\n",
    "! type: F-fixed\n",
    "      INTEGER FUNCTION INCREMENT_COUNTER()\n",
    "        COMMON/INC_COMMON/COUNTER\n",
    "!$OMP   THREADPRIVATE(/INC_COMMON/)\n",
    "\n",
    "        COUNTER = COUNTER +1\n",
    "        INCREMENT_COUNTER = COUNTER\n",
    "        RETURN\n",
    "      END FUNCTION INCREMENT_COUNTER\n",
    "\n"
   ]
  },
  {
   "cell_type": "markdown",
   "metadata": {},
   "source": [
    ""
   ]
  },
  {
   "cell_type": "markdown",
   "metadata": {},
   "source": [
    "The following example uses `threadprivate` on a static variable:"
   ]
  },
  {
   "cell_type": "markdown",
   "metadata": {},
   "source": [
    ""
   ]
  },
  {
   "cell_type": "code",
   "execution_count": null,
   "metadata": {},
   "outputs": [],
   "source": [
    "//%compiler: clang\n",
 "//%cflags: -fopenmp\n",
 "\n",
    "/*\n",
    "* name: threadprivate.2\n",
    "* type: C\n",
    "*/\n",
    "int increment_counter_2()\n",
    "{\n",
    "  static int counter = 0;\n",
    "  #pragma omp threadprivate(counter)\n",
    "  counter++;\n",
    "  return(counter);\n",
    "}\n",
    "\n"
   ]
  },
  {
   "cell_type": "markdown",
   "metadata": {},
   "source": [
    ""
   ]
  },
  {
   "cell_type": "markdown",
   "metadata": {},
   "source": [
    "The following example demonstrates unspecified behavior for the initialization  of a `threadprivate` variable. A `threadprivate`  variable is initialized  once at an unspecified point before its first reference. Because `a` is  constructed using the value of `x`  (which is modified by the statement  `x++`), the value of `a.val`  at the start of the `parallel`  region could be either 1 or 2. This problem is avoided for `b`, which uses  an auxiliary `const` variable and a copy-constructor."
   ]
  },
  {
   "cell_type": "markdown",
   "metadata": {},
   "source": [
    ""
   ]
  },
  {
   "cell_type": "code",
   "execution_count": null,
   "metadata": {},
   "outputs": [],
   "source": [
    "//%compiler: clang\n",
 "//%cflags: -fopenmp\n",
 "\n",
    "/*\n",
    "* name: threadprivate.3\n",
    "* type: C++\n",
    "*/\n",
    "class T {\n",
    "  public:\n",
    "    int val;\n",
    "    T (int);\n",
    "    T (const T&);\n",
    "};\n",
    "\n",
    "T :: T (int v){\n",
    "   val = v;\n",
    "}\n",
    "\n",
    "T :: T (const T& t) {\n",
    "   val = t.val;\n",
    "}\n",
    "\n",
    "void g(T a, T b){\n",
    "   a.val += b.val;\n",
    "}\n",
    "\n",
    "int x = 1;\n",
    "T a(x);\n",
    "const T b_aux(x); /* Capture value of x = 1 */\n",
    "T b(b_aux);\n",
    "#pragma omp threadprivate(a, b)\n",
    "\n",
    "void f(int n) {\n",
    "   x++;\n",
    "   #pragma omp parallel for\n",
    "   /* In each thread:\n",
    "    * a is constructed from x (with value 1 or 2?)\n",
    "    * b is copy-constructed from b_aux\n",
    "    */\n",
    "\n",
    "   for (int i=0; i<n; i++) {\n",
    "       g(a, b); /* Value of a is unspecified. */\n",
    "   }\n",
    "}\n",
    "\n"
   ]
  },
  {
   "cell_type": "markdown",
   "metadata": {},
   "source": [
    ""
   ]
  },
  {
   "cell_type": "markdown",
   "metadata": {},
   "source": [
    "The following examples show non-conforming uses and correct uses of the `threadprivate`  directive."
   ]
  },
  {
   "cell_type": "markdown",
   "metadata": {},
   "source": [
    "The following example is non-conforming because the common block is not declared  local to the subroutine that refers to it:"
   ]
  },
  {
   "cell_type": "markdown",
   "metadata": {},
   "source": [
    ""
   ]
  },
  {
   "cell_type": "code",
   "execution_count": null,
   "metadata": {},
   "outputs": [],
   "source": [
    "\n",
    "! name: threadprivate.2\n",
    "! type: F-fixed\n",
    "      MODULE INC_MODULE\n",
    "        COMMON /T/ A\n",
    "      END MODULE INC_MODULE\n",
    "\n",
    "      SUBROUTINE INC_MODULE_WRONG()\n",
    "        USE INC_MODULE\n",
    "!$OMP   THREADPRIVATE(/T/)\n",
    "      !non-conforming because /T/ not declared in INC_MODULE_WRONG\n",
    "      END SUBROUTINE INC_MODULE_WRONG\n",
    "\n"
   ]
  },
  {
   "cell_type": "markdown",
   "metadata": {},
   "source": [
    ""
   ]
  },
  {
   "cell_type": "markdown",
   "metadata": {},
   "source": [
    "The following example is also non-conforming because the common block is not declared  local to the subroutine that refers to it:"
   ]
  },
  {
   "cell_type": "markdown",
   "metadata": {},
   "source": [
    ""
   ]
  },
  {
   "cell_type": "code",
   "execution_count": null,
   "metadata": {},
   "outputs": [],
   "source": [
    "\n",
    "! name: threadprivate.3\n",
    "! type: F-fixed\n",
    "      SUBROUTINE INC_WRONG()\n",
    "        COMMON /T/ A\n",
    "!$OMP   THREADPRIVATE(/T/)\n",
    "\n",
    "        CONTAINS\n",
    "          SUBROUTINE INC_WRONG_SUB()\n",
    "!$OMP       PARALLEL COPYIN(/T/)\n",
    "      !non-conforming because /T/ not declared in INC_WRONG_SUB\n",
    "!$OMP       END PARALLEL\n",
    "          END SUBROUTINE INC_WRONG_SUB\n",
    "      END SUBROUTINE INC_WRONG\n",
    "\n"
   ]
  },
  {
   "cell_type": "markdown",
   "metadata": {},
   "source": [
    ""
   ]
  },
  {
   "cell_type": "markdown",
   "metadata": {},
   "source": [
    "The following example is a correct rewrite of the previous example:"
   ]
  },
  {
   "cell_type": "markdown",
   "metadata": {},
   "source": [
    ""
   ]
  },
  {
   "cell_type": "code",
   "execution_count": null,
   "metadata": {},
   "outputs": [],
   "source": [
    "\n",
    "! name: threadprivate.4\n",
    "! type: F-fixed\n",
    "       SUBROUTINE INC_GOOD()\n",
    "        COMMON /T/ A\n",
    "!$OMP   THREADPRIVATE(/T/)\n",
    "\n",
    "        CONTAINS\n",
    "          SUBROUTINE INC_GOOD_SUB()\n",
    "            COMMON /T/ A\n",
    "!$OMP       THREADPRIVATE(/T/)\n",
    "\n",
    "!$OMP       PARALLEL COPYIN(/T/)\n",
    "!$OMP       END PARALLEL\n",
    "         END SUBROUTINE INC_GOOD_SUB\n",
    "       END SUBROUTINE INC_GOOD\n",
    "\n"
   ]
  },
  {
   "cell_type": "markdown",
   "metadata": {},
   "source": [
    ""
   ]
  },
  {
   "cell_type": "markdown",
   "metadata": {},
   "source": [
    "The following is an example of the use of `threadprivate` for local variables:"
   ]
  },
  {
   "cell_type": "markdown",
   "metadata": {},
   "source": [
    ""
   ]
  },
  {
   "cell_type": "code",
   "execution_count": null,
   "metadata": {},
   "outputs": [],
   "source": [
    "\n",
    "! name: threadprivate.5\n",
    "! type: F-fixed\n",
    "      PROGRAM INC_GOOD2\n",
    "        INTEGER, ALLOCATABLE, SAVE :: A(:)\n",
    "        INTEGER, POINTER, SAVE :: PTR\n",
    "        INTEGER, SAVE :: I\n",
    "        INTEGER, TARGET :: TARG\n",
    "        LOGICAL :: FIRSTIN = .TRUE.\n",
    "!$OMP   THREADPRIVATE(A, I, PTR)\n",
    "\n",
    "        ALLOCATE (A(3))\n",
    "        A = (/1,2,3/)\n",
    "        PTR => TARG\n",
    "        I = 5\n",
    "\n",
    "!$OMP   PARALLEL COPYIN(I, PTR)\n",
    "!$OMP     CRITICAL\n",
    "            IF (FIRSTIN) THEN\n",
    "              TARG = 4           ! Update target of ptr\n",
    "              I = I + 10\n",
    "              IF (ALLOCATED(A)) A = A + 10\n",
    "              FIRSTIN = .FALSE.\n",
    "            END IF\n",
    "\n",
    "            IF (ALLOCATED(A)) THEN\n",
    "              PRINT *, 'a = ', A\n",
    "            ELSE\n",
    "              PRINT *, 'A is not allocated'\n",
    "            END IF\n",
    "\n",
    "            PRINT *, 'ptr = ', PTR\n",
    "            PRINT *, 'i = ', I\n",
    "            PRINT *\n",
    "\n",
    "!$OMP     END CRITICAL\n",
    "!$OMP   END PARALLEL\n",
    "      END PROGRAM INC_GOOD2\n",
    "\n"
   ]
  },
  {
   "cell_type": "markdown",
   "metadata": {},
   "source": [
    ""
   ]
  },
  {
   "cell_type": "markdown",
   "metadata": {},
   "source": [
    "The above program, if executed by two threads, will print one of the following  two sets of output:"
   ]
  },
  {
   "cell_type": "markdown",
   "metadata": {},
   "source": [
    "`a = 11 12 13`  `ptr = 4`  `i = 15`"
   ]
  },
  {
   "cell_type": "markdown",
   "metadata": {},
   "source": [
    "`A is not allocated`  `ptr = 4`  `i = 5`"
   ]
  },
  {
   "cell_type": "markdown",
   "metadata": {},
   "source": [
    "or"
   ]
  },
  {
   "cell_type": "markdown",
   "metadata": {},
   "source": [
    "`A is not allocated`  `ptr = 4`  `i = 15`"
   ]
  },
  {
   "cell_type": "markdown",
   "metadata": {},
   "source": [
    "`a = 1 2 3`  `ptr = 4`  `i = 5`"
   ]
  },
  {
   "cell_type": "markdown",
   "metadata": {},
   "source": [
    "The following is an example of the use of `threadprivate` for module variables:"
   ]
  },
  {
   "cell_type": "markdown",
   "metadata": {},
   "source": [
    ""
   ]
  },
  {
   "cell_type": "code",
   "execution_count": null,
   "metadata": {},
   "outputs": [],
   "source": [
    "\n",
    "! name: threadprivate.6\n",
    "! type: F-fixed\n",
    "      MODULE INC_MODULE_GOOD3\n",
    "        REAL, POINTER :: WORK(:)\n",
    "        SAVE WORK\n",
    "!$OMP   THREADPRIVATE(WORK)\n",
    "      END MODULE INC_MODULE_GOOD3\n",
    "\n",
    "      SUBROUTINE SUB1(N)\n",
    "      USE INC_MODULE_GOOD3\n",
    "!$OMP   PARALLEL PRIVATE(THE_SUM)\n",
    "        ALLOCATE(WORK(N))\n",
    "        CALL SUB2(THE_SUM)\n",
    "       WRITE(*,*)THE_SUM\n",
    "!$OMP   END PARALLEL\n",
    "      END SUBROUTINE SUB1\n",
    "\n",
    "      SUBROUTINE SUB2(THE_SUM)\n",
    "        USE INC_MODULE_GOOD3\n",
    "        WORK(:) = 10\n",
    "        THE_SUM=SUM(WORK)\n",
    "      END SUBROUTINE SUB2\n",
    "\n",
    "      PROGRAM INC_GOOD3\n",
    "        N = 10\n",
    "        CALL SUB1(N)\n",
    "      END PROGRAM INC_GOOD3\n",
    "\n"
   ]
  },
  {
   "cell_type": "markdown",
   "metadata": {},
   "source": [
    ""
   ]
  },
  {
   "cell_type": "markdown",
   "metadata": {},
   "source": [
    "The following example illustrates initialization of `threadprivate` variables  for class-type `T`. `t1` is default constructed, `t2` is constructed  taking a constructor accepting one argument of integer type, `t3` is copy  constructed with argument `f()`:"
   ]
  },
  {
   "cell_type": "markdown",
   "metadata": {},
   "source": [
    ""
   ]
  },
  {
   "cell_type": "code",
   "execution_count": null,
   "metadata": {},
   "outputs": [],
   "source": [
    "//%compiler: clang\n",
 "//%cflags: -fopenmp\n",
 "\n",
    "/*\n",
    "* name: threadprivate.4\n",
    "* type: C++\n",
    "*/\n",
    "struct T { T (); T (int); ~T (); int t; };\n",
    "int f();\n",
    "static T t1;\n",
    "#pragma omp threadprivate(t1)\n",
    "static T t2( 23 );\n",
    "#pragma omp threadprivate(t2)\n",
    "static T t3 = f();\n",
    "#pragma omp threadprivate(t3)\n",
    "\n"
   ]
  },
  {
   "cell_type": "markdown",
   "metadata": {},
   "source": [
    ""
   ]
  },
  {
   "cell_type": "markdown",
   "metadata": {},
   "source": [
    "The following example illustrates the use of `threadprivate` for static  class members. The `threadprivate` directive for a static class member must  be placed inside the class definition."
   ]
  },
  {
   "cell_type": "markdown",
   "metadata": {},
   "source": [
    ""
   ]
  },
  {
   "cell_type": "code",
   "execution_count": null,
   "metadata": {},
   "outputs": [],
   "source": [
    "//%compiler: clang\n",
 "//%cflags: -fopenmp\n",
 "\n",
    "/*\n",
    "* name: threadprivate.5\n",
    "* type: C++\n",
    "*/\n",
    "class T {\n",
    " public:\n",
    "  static int i;\n",
    "#pragma omp threadprivate(i)\n",
    "};\n",
    "\n"
   ]
  },
  {
   "cell_type": "markdown",
   "metadata": {},
   "source": [
    ""
   ]
  },
  {
   "cell_type": "markdown",
   "metadata": {},
   "source": [
    "../../data_environment/threadprivate.tex"
   ]
  },
  {
   "cell_type": "markdown",
   "metadata": {},
   "source": [
    ""
   ]
  },
  {
   "cell_type": "markdown",
   "metadata": {},
   "source": [
    "## `default(none)` Clause"
   ]
  },
  {
   "cell_type": "markdown",
   "metadata": {},
   "source": [
    "\index{clauses!default(none)@`default(none)`} \index{default(none) clause@`default(none)` clause}"
   ]
  },
  {
   "cell_type": "markdown",
   "metadata": {},
   "source": [
    "The following example distinguishes the variables that are affected by the `default(none)`  clause from those that are not."
   ]
  },
  {
   "cell_type": "markdown",
   "metadata": {},
   "source": [
    "Beginning with OpenMP 4.0, variables with `const`-qualified type and no mutable member  are no longer predetermined shared.  Thus, these variables (variable  _c_  in the example)  need to be explicitly listed in data-sharing attribute clauses when the `default(none)` clause is specified."
   ]
  },
  {
   "cell_type": "markdown",
   "metadata": {},
   "source": [
    ""
   ]
  },
  {
   "cell_type": "code",
   "execution_count": null,
   "metadata": {},
   "outputs": [],
   "source": [
    "//%compiler: clang\n",
 "//%cflags: -fopenmp\n",
 "\n",
    "/*\n",
    "* name: default_none.1\n",
    "* type: C\n",
    "*/\n",
    "#include <omp.h>\n",
    "int x, y, z[1000];\n",
    "#pragma omp threadprivate(x)\n",
    "\n",
    "void default_none(int a) {\n",
    "  const int c = 1;\n",
    "  int i = 0;\n",
    "\n",
    "  #pragma omp parallel default(none) private(a) shared(z, c)\n",
    "  {\n",
    "     int j = omp_get_num_threads();\n",
    "          /* O.K.  - j is declared within parallel region */\n",
    "     a = z[j];   /* O.K.  - a is listed in private clause */\n",
    "                 /*       - z is listed in shared clause */\n",
    "     x = c;      /* O.K.  - x is threadprivate */\n",
    "                 /*       - c has const-qualified type and\n",
    "                              is listed in shared clause */\n",
    "     z[i] = y;   /* Error - cannot reference i or y here */\n",
    "\n",
    "  #pragma omp for firstprivate(y)\n",
    "         /* Error - Cannot reference y in the firstprivate clause */\n",
    "     for (i=0; i<10 ; i++) {\n",
    "        z[i] = i; /* O.K. - i is the loop iteration variable */\n",
    "     }\n",
    "\n",
    "     z[i] = y;   /* Error - cannot reference i or y here */\n",
    "  }\n",
    "}\n",
    "\n"
   ]
  },
  {
   "cell_type": "markdown",
   "metadata": {},
   "source": [
    ""
   ]
  },
  {
   "cell_type": "markdown",
   "metadata": {},
   "source": [
    ""
   ]
  },
  {
   "cell_type": "code",
   "execution_count": null,
   "metadata": {},
   "outputs": [],
   "source": [
    "\n",
    "! name: default_none.1\n",
    "! type: F-fixed\n",
    "      SUBROUTINE DEFAULT_NONE(A)\n",
    "      INCLUDE \"omp_lib.h\"     ! or USE OMP_LIB\n",
    "\n",
    "      INTEGER A\n",
    "\n",
    "      INTEGER X, Y, Z(1000)\n",
    "      COMMON/BLOCKX/X\n",
    "      COMMON/BLOCKY/Y\n",
    "      COMMON/BLOCKZ/Z\n",
    "!$OMP THREADPRIVATE(/BLOCKX/)\n",
    "\n",
    "        INTEGER I, J\n",
    "        i = 1\n",
    "\n",
    "!$OMP   PARALLEL DEFAULT(NONE) PRIVATE(A) SHARED(Z) PRIVATE(J)\n",
    "          J = OMP_GET_NUM_THREADS();\n",
    "                   ! O.K.  - J is listed in PRIVATE clause\n",
    "          A = Z(J) ! O.K.  - A is listed in PRIVATE clause\n",
    "                   !       - Z is listed in SHARED clause\n",
    "          X = 1    ! O.K.  - X is THREADPRIVATE\n",
    "          Z(I) = Y ! Error - cannot reference I or Y here\n",
    "\n",
    "!$OMP DO firstprivate(y)\n",
    "    ! Error - Cannot reference y in the firstprivate clause\n",
    "          DO I = 1,10\n",
    "             Z(I) = I ! O.K. - I is the loop iteration variable\n",
    "          END DO\n",
    "\n",
    "\n",
    "          Z(I) = Y    ! Error - cannot reference I or Y here\n",
    "!$OMP   END PARALLEL\n",
    "      END SUBROUTINE DEFAULT_NONE\n",
    "\n"
   ]
  },
  {
   "cell_type": "markdown",
   "metadata": {},
   "source": [
    ""
   ]
  },
  {
   "cell_type": "markdown",
   "metadata": {},
   "source": [
    ""
   ]
  },
  {
   "cell_type": "markdown",
   "metadata": {},
   "source": [
    "../../data_environment/default_none.tex"
   ]
  },
  {
   "cell_type": "markdown",
   "metadata": {},
   "source": [
    ""
   ]
  },
  {
   "cell_type": "markdown",
   "metadata": {},
   "source": [
    "## `private` Clause"
   ]
  },
  {
   "cell_type": "markdown",
   "metadata": {},
   "source": [
    "\index{clauses!private@`private`} \index{private clause@`private` clause}"
   ]
  },
  {
   "cell_type": "markdown",
   "metadata": {},
   "source": [
    "In the following example, the values of original list items  _i_  and  _j_   are retained on exit from the `parallel` region, while the private list  items  _i_  and  _j_  are modified within the `parallel` construct."
   ]
  },
  {
   "cell_type": "markdown",
   "metadata": {},
   "source": [
    ""
   ]
  },
  {
   "cell_type": "code",
   "execution_count": null,
   "metadata": {},
   "outputs": [],
   "source": [
    "//%compiler: clang\n",
 "//%cflags: -fopenmp\n",
 "\n",
    "/*\n",
    "* name: private.1\n",
    "* type: C\n",
    "*/\n",
    "#include <stdio.h>\n",
    "#include <assert.h>\n",
    "\n",
    "int main()\n",
    "{\n",
    "  int i, j;\n",
    "  int *ptr_i, *ptr_j;\n",
    "\n",
    "  i = 1;\n",
    "  j = 2;\n",
    "\n",
    "  ptr_i = &i;\n",
    "  ptr_j = &j;\n",
    "\n",
    "  #pragma omp parallel private(i) firstprivate(j)\n",
    "  {\n",
    "    i = 3;\n",
    "    j = j + 2;\n",
    "    assert (*ptr_i == 1 && *ptr_j == 2);\n",
    "  }\n",
    "\n",
    "  assert(i == 1 && j == 2);\n",
    "\n",
    "  return 0;\n",
    "}\n",
    "\n"
   ]
  },
  {
   "cell_type": "markdown",
   "metadata": {},
   "source": [
    ""
   ]
  },
  {
   "cell_type": "markdown",
   "metadata": {},
   "source": [
    ""
   ]
  },
  {
   "cell_type": "code",
   "execution_count": null,
   "metadata": {},
   "outputs": [],
   "source": [
    "\n",
    "! name: private.1\n",
    "! type: F-fixed\n",
    "      PROGRAM PRIV_EXAMPLE\n",
    "        INTEGER I, J\n",
    "\n",
    "        I = 1\n",
    "        J = 2\n",
    "\n",
    "!$OMP   PARALLEL PRIVATE(I) FIRSTPRIVATE(J)\n",
    "          I = 3\n",
    "          J = J + 2\n",
    "!$OMP   END PARALLEL\n",
    "\n",
    "        PRINT *, I, J  ! I .eq. 1 .and. J .eq. 2\n",
    "      END PROGRAM PRIV_EXAMPLE\n",
    "\n"
   ]
  },
  {
   "cell_type": "markdown",
   "metadata": {},
   "source": [
    ""
   ]
  },
  {
   "cell_type": "markdown",
   "metadata": {},
   "source": [
    "In the following example, all uses of the variable  _a_  within the loop construct  in the routine  _f_  refer to a private list item  _a_ , while it is  unspecified whether references to  _a_  in the routine  _g_  are to a  private list item or the original list item."
   ]
  },
  {
   "cell_type": "markdown",
   "metadata": {},
   "source": [
    ""
   ]
  },
  {
   "cell_type": "code",
   "execution_count": null,
   "metadata": {},
   "outputs": [],
   "source": [
    "//%compiler: clang\n",
 "//%cflags: -fopenmp\n",
 "\n",
    "/*\n",
    "* name: private.2\n",
    "* type: C\n",
    "*/\n",
    "int a;\n",
    "\n",
    "void g(int k) {\n",
    "  a = k; /* Accessed in the region but outside of the construct;\n",
    "          * therefore unspecified whether original or private list\n",
    "          * item is modified. */\n",
    "}\n",
    "\n",
    "\n",
    "void f(int n) {\n",
    "  int a = 0;\n",
    "\n",
    "  #pragma omp parallel for private(a)\n",
    "   for (int i=1; i<n; i++) {\n",
    "       a = i;\n",
    "       g(a*2);     /* Private copy of \"a\" */\n",
    "    }\n",
    "}\n",
    "\n"
   ]
  },
  {
   "cell_type": "markdown",
   "metadata": {},
   "source": [
    ""
   ]
  },
  {
   "cell_type": "markdown",
   "metadata": {},
   "source": [
    ""
   ]
  },
  {
   "cell_type": "code",
   "execution_count": null,
   "metadata": {},
   "outputs": [],
   "source": [
    "\n",
    "! name: private.2\n",
    "! type: F-fixed\n",
    "      MODULE PRIV_EXAMPLE2\n",
    "        REAL A\n",
    "\n",
    "        CONTAINS\n",
    "\n",
    "          SUBROUTINE G(K)\n",
    "            REAL K\n",
    "            A = K  ! Accessed in the region but outside of the\n",
    "                   ! construct; therefore unspecified whether\n",
    "                   ! original or private list item is modified.\n",
    "          END SUBROUTINE G\n",
    "\n",
    "          SUBROUTINE F(N)\n",
    "          INTEGER N\n",
    "          REAL A\n",
    "\n",
    "            INTEGER I\n",
    "!$OMP       PARALLEL DO PRIVATE(A)\n",
    "              DO I = 1,N\n",
    "                A = I\n",
    "                CALL G(A*2)\n",
    "              ENDDO\n",
    "!$OMP       END PARALLEL DO\n",
    "          END SUBROUTINE F\n",
    "\n",
    "      END MODULE PRIV_EXAMPLE2\n",
    "\n"
   ]
  },
  {
   "cell_type": "markdown",
   "metadata": {},
   "source": [
    ""
   ]
  },
  {
   "cell_type": "markdown",
   "metadata": {},
   "source": [
    "The following example demonstrates that a list item that appears in a `private`   clause in a `parallel` construct may also appear in a `private`   clause in an enclosed worksharing construct, which results in an additional private  copy."
   ]
  },
  {
   "cell_type": "markdown",
   "metadata": {},
   "source": [
    ""
   ]
  },
  {
   "cell_type": "code",
   "execution_count": null,
   "metadata": {},
   "outputs": [],
   "source": [
    "//%compiler: clang\n",
 "//%cflags: -fopenmp\n",
 "\n",
    "/*\n",
    "* name: private.3\n",
    "* type: C\n",
    "*/\n",
    "#include <assert.h>\n",
    "void priv_example3()\n",
    "{\n",
    "  int i, a;\n",
    "\n",
    "  #pragma omp parallel private(a)\n",
    "  {\n",
    "     a = 1;\n",
    "    #pragma omp parallel for private(a)\n",
    "      for (i=0; i<10; i++)\n",
    "     {\n",
    "       a = 2;\n",
    "     }\n",
    "    assert(a == 1);\n",
    "  }\n",
    "}\n",
    "\n"
   ]
  },
  {
   "cell_type": "markdown",
   "metadata": {},
   "source": [
    ""
   ]
  },
  {
   "cell_type": "markdown",
   "metadata": {},
   "source": [
    ""
   ]
  },
  {
   "cell_type": "code",
   "execution_count": null,
   "metadata": {},
   "outputs": [],
   "source": [
    "\n",
    "! name: private.3\n",
    "! type: F-fixed\n",
    "      SUBROUTINE PRIV_EXAMPLE3()\n",
    "        INTEGER I, A\n",
    "\n",
    "!$OMP   PARALLEL PRIVATE(A)\n",
    "         A = 1\n",
    "!$OMP     PARALLEL DO PRIVATE(A)\n",
    "          DO I = 1, 10\n",
    "            A = 2\n",
    "          END DO\n",
    "!$OMP     END PARALLEL DO\n",
    "        PRINT *, A ! Outer A still has value 1\n",
    "!$OMP   END PARALLEL\n",
    "      END SUBROUTINE PRIV_EXAMPLE3\n",
    "\n"
   ]
  },
  {
   "cell_type": "markdown",
   "metadata": {},
   "source": [
    ""
   ]
  },
  {
   "cell_type": "markdown",
   "metadata": {},
   "source": [
    ""
   ]
  },
  {
   "cell_type": "markdown",
   "metadata": {},
   "source": [
    "../../data_environment/private.tex"
   ]
  },
  {
   "cell_type": "markdown",
   "metadata": {},
   "source": [
    ""
   ]
  },
  {
   "cell_type": "markdown",
   "metadata": {},
   "source": [
    "## Fortran Private Loop Iteration Variables"
   ]
  },
  {
   "cell_type": "markdown",
   "metadata": {},
   "source": [
    "\index{loop variables, Fortran}"
   ]
  },
  {
   "cell_type": "markdown",
   "metadata": {},
   "source": [
    "In general loop iteration variables will be private, when used in the  _do-loop_   of a `do` and `parallel do` construct or in sequential loops in a  `parallel` construct (see Section 2.7.1 and Section 2.14.1 of  the OpenMP 4.0 specification). In the following example of a sequential  loop in a `parallel` construct the loop iteration variable  _I_  will  be private."
   ]
  },
  {
   "cell_type": "markdown",
   "metadata": {},
   "source": [
    ""
   ]
  },
  {
   "cell_type": "code",
   "execution_count": null,
   "metadata": {},
   "outputs": [],
   "source": [
    "\n",
    "! name: fort_loopvar.1\n",
    "! type: F-free\n",
    "SUBROUTINE PLOOP_1(A,N)\n",
    "INCLUDE \"omp_lib.h\"      ! or USE OMP_LIB\n",
    "\n",
    "REAL A(*)\n",
    "INTEGER I, MYOFFSET, N\n",
    "\n",
    "!$OMP PARALLEL PRIVATE(MYOFFSET)\n",
    "       MYOFFSET = OMP_GET_THREAD_NUM()*N\n",
    "       DO I = 1, N\n",
    "         A(MYOFFSET+I) = FLOAT(I)\n",
    "       ENDDO\n",
    "!$OMP END PARALLEL\n",
    "\n",
    "END SUBROUTINE PLOOP_1\n",
    "\n"
   ]
  },
  {
   "cell_type": "markdown",
   "metadata": {},
   "source": [
    ""
   ]
  },
  {
   "cell_type": "markdown",
   "metadata": {},
   "source": [
    "In exceptional cases, loop iteration variables can be made shared, as in the following  example:"
   ]
  },
  {
   "cell_type": "markdown",
   "metadata": {},
   "source": [
    ""
   ]
  },
  {
   "cell_type": "code",
   "execution_count": null,
   "metadata": {},
   "outputs": [],
   "source": [
    "\n",
    "! name: fort_loopvar.2\n",
    "! type: F-free\n",
    "SUBROUTINE PLOOP_2(A,B,N,I1,I2)\n",
    "REAL A(*), B(*)\n",
    "INTEGER I1, I2, N\n",
    "\n",
    "!$OMP PARALLEL SHARED(A,B,I1,I2)\n",
    "!$OMP SECTIONS\n",
    "!$OMP SECTION\n",
    "     DO I1 = I1, N\n",
    "       IF (A(I1).NE.0.0) EXIT\n",
    "     ENDDO\n",
    "!$OMP SECTION\n",
    "     DO I2 = I2, N\n",
    "       IF (B(I2).NE.0.0) EXIT\n",
    "     ENDDO\n",
    "!$OMP END SECTIONS\n",
    "!$OMP SINGLE\n",
    "    IF (I1.LE.N) PRINT *, 'ITEMS IN A UP TO ', I1, 'ARE ALL ZERO.'\n",
    "    IF (I2.LE.N) PRINT *, 'ITEMS IN B UP TO ', I2, 'ARE ALL ZERO.'\n",
    "!$OMP END SINGLE\n",
    "!$OMP END PARALLEL\n",
    "\n",
    "END SUBROUTINE PLOOP_2\n",
    "\n"
   ]
  },
  {
   "cell_type": "markdown",
   "metadata": {},
   "source": [
    ""
   ]
  },
  {
   "cell_type": "markdown",
   "metadata": {},
   "source": [
    "Note however that the use of shared loop iteration variables can easily lead to  race conditions."
   ]
  },
  {
   "cell_type": "markdown",
   "metadata": {},
   "source": [
    "../../data_environment/fort_loopvar.tex"
   ]
  },
  {
   "cell_type": "markdown",
   "metadata": {},
   "source": [
    ""
   ]
  },
  {
   "cell_type": "markdown",
   "metadata": {},
   "source": [
    "## Fortran Restrictions on `shared` and `private` Clauses with Common Blocks"
   ]
  },
  {
   "cell_type": "markdown",
   "metadata": {},
   "source": [
    "\index{clauses!private@`private`} \index{clauses!shared@`shared`} \index{private clause@`private` clause!common blocks, Fortran} \index{shared clause@`shared` clause!common blocks, Fortran}"
   ]
  },
  {
   "cell_type": "markdown",
   "metadata": {},
   "source": [
    "When a named common block is specified in a `private`, `firstprivate`,  or `lastprivate` clause of a construct, none of its members may be declared  in another data-sharing attribute clause on that construct. The following examples  illustrate this point."
   ]
  },
  {
   "cell_type": "markdown",
   "metadata": {},
   "source": [
    "The following example is conforming:"
   ]
  },
  {
   "cell_type": "markdown",
   "metadata": {},
   "source": [
    ""
   ]
  },
  {
   "cell_type": "code",
   "execution_count": null,
   "metadata": {},
   "outputs": [],
   "source": [
    "\n",
    "! name: fort_sp_common.1\n",
    "! type: F-fixed\n",
    "      SUBROUTINE COMMON_GOOD()\n",
    "        COMMON /C/ X,Y\n",
    "        REAL X, Y\n",
    "\n",
    "!$OMP   PARALLEL PRIVATE (/C/)\n",
    "          ! do work here\n",
    "!$OMP   END PARALLEL\n",
    "!$OMP   PARALLEL SHARED (X,Y)\n",
    "          ! do work here\n",
    "!$OMP   END PARALLEL\n",
    "      END SUBROUTINE COMMON_GOOD\n",
    "\n"
   ]
  },
  {
   "cell_type": "markdown",
   "metadata": {},
   "source": [
    ""
   ]
  },
  {
   "cell_type": "markdown",
   "metadata": {},
   "source": [
    "The following example is also conforming:"
   ]
  },
  {
   "cell_type": "markdown",
   "metadata": {},
   "source": [
    ""
   ]
  },
  {
   "cell_type": "code",
   "execution_count": null,
   "metadata": {},
   "outputs": [],
   "source": [
    "\n",
    "! name: fort_sp_common.2\n",
    "! type: F-fixed\n",
    "      SUBROUTINE COMMON_GOOD2()\n",
    "        COMMON /C/ X,Y\n",
    "        REAL X, Y\n",
    "        INTEGER I\n",
    "!$OMP   PARALLEL\n",
    "!$OMP     DO PRIVATE(/C/)\n",
    "          DO I=1,1000\n",
    "            ! do work here\n",
    "          ENDDO\n",
    "!$OMP     END DO\n",
    "!$OMP     DO PRIVATE(X)\n",
    "          DO I=1,1000\n",
    "            ! do work here\n",
    "          ENDDO\n",
    "!$OMP     END DO\n",
    "!$OMP   END PARALLEL\n",
    "      END SUBROUTINE COMMON_GOOD2\n",
    "\n"
   ]
  },
  {
   "cell_type": "markdown",
   "metadata": {},
   "source": [
    ""
   ]
  },
  {
   "cell_type": "markdown",
   "metadata": {},
   "source": [
    "The following example is conforming:"
   ]
  },
  {
   "cell_type": "markdown",
   "metadata": {},
   "source": [
    ""
   ]
  },
  {
   "cell_type": "code",
   "execution_count": null,
   "metadata": {},
   "outputs": [],
   "source": [
    "\n",
    "! name: fort_sp_common.3\n",
    "! type: F-fixed\n",
    "      SUBROUTINE COMMON_GOOD3()\n",
    "        COMMON /C/ X,Y\n",
    "!$OMP   PARALLEL PRIVATE (/C/)\n",
    "          ! do work here\n",
    "!$OMP   END PARALLEL\n",
    "!$OMP   PARALLEL SHARED (/C/)\n",
    "          ! do work here\n",
    "!$OMP   END PARALLEL\n",
    "      END SUBROUTINE COMMON_GOOD3\n",
    "\n"
   ]
  },
  {
   "cell_type": "markdown",
   "metadata": {},
   "source": [
    ""
   ]
  },
  {
   "cell_type": "markdown",
   "metadata": {},
   "source": [
    "The following example is non-conforming because `x` is a constituent element  of `c`:"
   ]
  },
  {
   "cell_type": "markdown",
   "metadata": {},
   "source": [
    ""
   ]
  },
  {
   "cell_type": "code",
   "execution_count": null,
   "metadata": {},
   "outputs": [],
   "source": [
    "\n",
    "! name: fort_sp_common.4\n",
    "! type: F-fixed\n",
    "      SUBROUTINE COMMON_WRONG()\n",
    "        COMMON /C/ X,Y\n",
    "! Incorrect because X is a constituent element of C\n",
    "!$OMP   PARALLEL PRIVATE(/C/), SHARED(X)\n",
    "          ! do work here\n",
    "!$OMP   END PARALLEL\n",
    "      END SUBROUTINE COMMON_WRONG\n",
    "\n"
   ]
  },
  {
   "cell_type": "markdown",
   "metadata": {},
   "source": [
    ""
   ]
  },
  {
   "cell_type": "markdown",
   "metadata": {},
   "source": [
    "The following example is non-conforming because a common block may not be declared  both shared and private:"
   ]
  },
  {
   "cell_type": "markdown",
   "metadata": {},
   "source": [
    ""
   ]
  },
  {
   "cell_type": "code",
   "execution_count": null,
   "metadata": {},
   "outputs": [],
   "source": [
    "\n",
    "! name: fort_sp_common.5\n",
    "! type: F-fixed\n",
    "      SUBROUTINE COMMON_WRONG2()\n",
    "        COMMON /C/ X,Y\n",
    "! Incorrect: common block C cannot be declared both\n",
    "! shared and private\n",
    "!$OMP   PARALLEL PRIVATE (/C/), SHARED(/C/)\n",
    "          ! do work here\n",
    "!$OMP   END PARALLEL\n",
    "\n",
    "      END SUBROUTINE COMMON_WRONG2\n",
    "\n"
   ]
  },
  {
   "cell_type": "markdown",
   "metadata": {},
   "source": [
    ""
   ]
  },
  {
   "cell_type": "markdown",
   "metadata": {},
   "source": [
    ""
   ]
  },
  {
   "cell_type": "markdown",
   "metadata": {},
   "source": [
    "../../data_environment/fort_sp_common.tex"
   ]
  },
  {
   "cell_type": "markdown",
   "metadata": {},
   "source": [
    ""
   ]
  },
  {
   "cell_type": "markdown",
   "metadata": {},
   "source": [
    "## Fortran Restrictions on Storage Association with the `private` Clause"
   ]
  },
  {
   "cell_type": "markdown",
   "metadata": {},
   "source": [
    "\index{clauses!private@`private`} \index{private clause@`private` clause!storage association, Fortran}"
   ]
  },
  {
   "cell_type": "markdown",
   "metadata": {},
   "source": [
    "The following non-conforming examples illustrate the implications of the `private`  clause rules with regard to storage association."
   ]
  },
  {
   "cell_type": "markdown",
   "metadata": {},
   "source": [
    ""
   ]
  },
  {
   "cell_type": "code",
   "execution_count": null,
   "metadata": {},
   "outputs": [],
   "source": [
    "\n",
    "! name: fort_sa_private.1\n",
    "! type: F-fixed\n",
    "       SUBROUTINE SUB()\n",
    "       COMMON /BLOCK/ X\n",
    "       PRINT *,X             ! X is undefined\n",
    "       END SUBROUTINE SUB\n",
    "\n",
    "       PROGRAM PRIV_RESTRICT\n",
    "         COMMON /BLOCK/ X\n",
    "         X = 1.0\n",
    "!$OMP    PARALLEL PRIVATE (X)\n",
    "         X = 2.0\n",
    "         CALL SUB()\n",
    "!$OMP    END PARALLEL\n",
    "      END PROGRAM PRIV_RESTRICT\n",
    "\n"
   ]
  },
  {
   "cell_type": "markdown",
   "metadata": {},
   "source": [
    ""
   ]
  },
  {
   "cell_type": "markdown",
   "metadata": {},
   "source": [
    ""
   ]
  },
  {
   "cell_type": "code",
   "execution_count": null,
   "metadata": {},
   "outputs": [],
   "source": [
    "\n",
    "! name: fort_sa_private.2\n",
    "! type: F-fixed\n",
    "      PROGRAM PRIV_RESTRICT2\n",
    "        COMMON /BLOCK2/ X\n",
    "        X = 1.0\n",
    "\n",
    "!$OMP   PARALLEL PRIVATE (X)\n",
    "          X = 2.0\n",
    "          CALL SUB()\n",
    "!$OMP   END PARALLEL\n",
    "\n",
    "       CONTAINS\n",
    "\n",
    "          SUBROUTINE SUB()\n",
    "          COMMON /BLOCK2/ Y\n",
    "\n",
    "          PRINT *,X               ! X is undefined\n",
    "          PRINT *,Y               ! Y is undefined\n",
    "          END SUBROUTINE SUB\n",
    "\n",
    "       END PROGRAM PRIV_RESTRICT2\n",
    "\n"
   ]
  },
  {
   "cell_type": "markdown",
   "metadata": {},
   "source": [
    ""
   ]
  },
  {
   "cell_type": "markdown",
   "metadata": {},
   "source": [
    ""
   ]
  },
  {
   "cell_type": "code",
   "execution_count": null,
   "metadata": {},
   "outputs": [],
   "source": [
    "\n",
    "! name: fort_sa_private.3\n",
    "! type: F-fixed\n",
    "      PROGRAM PRIV_RESTRICT3\n",
    "        EQUIVALENCE (X,Y)\n",
    "        X = 1.0\n",
    "\n",
    "!$OMP   PARALLEL PRIVATE(X)\n",
    "          PRINT *,Y                  ! Y is undefined\n",
    "          Y = 10\n",
    "          PRINT *,X                  ! X is undefined\n",
    "!$OMP   END PARALLEL\n",
    "      END PROGRAM PRIV_RESTRICT3\n",
    "\n"
   ]
  },
  {
   "cell_type": "markdown",
   "metadata": {},
   "source": [
    ""
   ]
  },
  {
   "cell_type": "markdown",
   "metadata": {},
   "source": [
    ""
   ]
  },
  {
   "cell_type": "code",
   "execution_count": null,
   "metadata": {},
   "outputs": [],
   "source": [
    "\n",
    "! name: fort_sa_private.4\n",
    "! type: F-fixed\n",
    "      PROGRAM PRIV_RESTRICT4\n",
    "        INTEGER I, J\n",
    "        INTEGER A(100), B(100)\n",
    "        EQUIVALENCE (A(51), B(1))\n",
    "\n",
    "!$OMP PARALLEL DO DEFAULT(PRIVATE) PRIVATE(I,J) LASTPRIVATE(A)\n",
    "          DO I=1,100\n",
    "             DO J=1,100\n",
    "               B(J) = J - 1\n",
    "             ENDDO\n",
    "\n",
    "             DO J=1,100\n",
    "               A(J) = J   ! B becomes undefined at this point\n",
    "             ENDDO\n",
    "\n",
    "             DO J=1,50\n",
    "               B(J) = B(J) + 1  ! B is undefined\n",
    "                         ! A becomes undefined at this point\n",
    "             ENDDO\n",
    "          ENDDO\n",
    "!$OMP END PARALLEL DO       ! The LASTPRIVATE write for A has\n",
    "                            ! undefined results\n",
    "\n",
    "         PRINT *, B    ! B is undefined since the LASTPRIVATE\n",
    "                       ! write of A was not defined\n",
    "       END PROGRAM PRIV_RESTRICT4\n",
    "\n"
   ]
  },
  {
   "cell_type": "markdown",
   "metadata": {},
   "source": [
    ""
   ]
  },
  {
   "cell_type": "markdown",
   "metadata": {},
   "source": [
    ""
   ]
  },
  {
   "cell_type": "code",
   "execution_count": null,
   "metadata": {},
   "outputs": [],
   "source": [
    "\n",
    "! name: fort_sa_private.5\n",
    "! type: F-fixed\n",
    "! version:    omp_5.1\n",
    "      SUBROUTINE SUB1(X)\n",
    "        DIMENSION X(10)\n",
    "\n",
    "        ! This use of X does not conform to the\n",
    "        ! specification. It would be legal Fortran 90,\n",
    "        ! but the OpenMP private directive allows the\n",
    "        ! compiler to break the sequence association that\n",
    "        ! A had with the rest of the common block.\n",
    "\n",
    "        FORALL (I = 1:10) X(I) = I\n",
    "      END SUBROUTINE SUB1\n",
    "\n",
    "      PROGRAM PRIV_RESTRICT5\n",
    "        COMMON /BLOCK5/ A\n",
    "\n",
    "        DIMENSION B(10)\n",
    "        EQUIVALENCE (A,B(1))\n",
    "\n",
    "        ! the common block has to be at least 10 words\n",
    "        A = 0\n",
    "\n",
    "!$OMP   PARALLEL PRIVATE(/BLOCK5/)\n",
    "\n",
    "          ! Without the private clause,\n",
    "          ! we would be passing a member of a sequence\n",
    "          ! that is at least ten elements long.\n",
    "          ! With the private clause, A may no longer be\n",
    "          ! sequence-associated.\n",
    "\n",
    "          CALL SUB1(A)\n",
    "!$OMP     MASKED\n",
    "            PRINT *, A\n",
    "!$OMP     END MASKED\n",
    "\n",
    "!$OMP   END PARALLEL\n",
    "\n"
   ]
  },
  {
   "cell_type": "markdown",
   "metadata": {},
   "source": [
    ""
   ]
  },
  {
   "cell_type": "markdown",
   "metadata": {},
   "source": [
    "../../data_environment/fort_sa_private.tex"
   ]
  },
  {
   "cell_type": "markdown",
   "metadata": {},
   "source": [
    ""
   ]
  },
  {
   "cell_type": "markdown",
   "metadata": {},
   "source": [
    "## C/C++ Arrays in a `firstprivate` Clause"
   ]
  },
  {
   "cell_type": "markdown",
   "metadata": {},
   "source": [
    "\index{clauses!firstprivate@`firstprivate`} \index{firstprivate clause@`firstprivate` clause!C/C++ arrays in}"
   ]
  },
  {
   "cell_type": "markdown",
   "metadata": {},
   "source": [
    "The following example illustrates the size and value of list items of array or  pointer type in a `firstprivate` clause . The size of new list items is  based on the type of the corresponding original list item, as determined by the  base language."
   ]
  },
  {
   "cell_type": "markdown",
   "metadata": {},
   "source": [
    "In this example:"
   ]
  },
  {
   "cell_type": "markdown",
   "metadata": {},
   "source": [
    ""
   ]
  },
  {
   "cell_type": "markdown",
   "metadata": {},
   "source": [
    "*  The type of `A` is array of two arrays of two ints."
   ]
  },
  {
   "cell_type": "markdown",
   "metadata": {},
   "source": [
    ""
   ]
  },
  {
   "cell_type": "markdown",
   "metadata": {},
   "source": [
    "*   The type of `B` is adjusted to pointer to array of `n`  ints, because it is a function parameter."
   ]
  },
  {
   "cell_type": "markdown",
   "metadata": {},
   "source": [
    ""
   ]
  },
  {
   "cell_type": "markdown",
   "metadata": {},
   "source": [
    "*   The type of `C` is adjusted to pointer to int, because  it is a function parameter."
   ]
  },
  {
   "cell_type": "markdown",
   "metadata": {},
   "source": [
    ""
   ]
  },
  {
   "cell_type": "markdown",
   "metadata": {},
   "source": [
    "*   The type of `D` is array of two arrays of two ints."
   ]
  },
  {
   "cell_type": "markdown",
   "metadata": {},
   "source": [
    ""
   ]
  },
  {
   "cell_type": "markdown",
   "metadata": {},
   "source": [
    "*   The type of `E` is array of `n` arrays of `n`  ints."
   ]
  },
  {
   "cell_type": "markdown",
   "metadata": {},
   "source": [
    "Note that  `B` and `E` involve variable length array types."
   ]
  },
  {
   "cell_type": "markdown",
   "metadata": {},
   "source": [
    "The new items of array type are initialized as if each integer element of the original  array is assigned to the corresponding element of the new array. Those of pointer  type are initialized as if by assignment from the original item to the new item."
   ]
  },
  {
   "cell_type": "markdown",
   "metadata": {},
   "source": [
    ""
   ]
  },
  {
   "cell_type": "code",
   "execution_count": null,
   "metadata": {},
   "outputs": [],
   "source": [
    "//%compiler: clang\n",
 "//%cflags: -fopenmp\n",
 "\n",
    "/*\n",
    "* name: carrays_fpriv.1\n",
    "* type: C\n",
    "*/\n",
    "#include <assert.h>\n",
    "\n",
    "int A[2][2] = {1, 2, 3, 4};\n",
    "\n",
    "void f(int n, int B[n][n], int C[])\n",
    "{\n",
    "  int D[2][2] = {1, 2, 3, 4};\n",
    "  int E[n][n];\n",
    "\n",
    "  assert(n >= 2);\n",
    "  E[1][1] = 4;\n",
    "\n",
    "  #pragma omp parallel firstprivate(B, C, D, E)\n",
    "  {\n",
    "    assert(sizeof(B) == sizeof(int (*)[n]));\n",
    "    assert(sizeof(C) == sizeof(int*));\n",
    "    assert(sizeof(D) == 4 * sizeof(int));\n",
    "    assert(sizeof(E) == n * n * sizeof(int));\n",
    "\n",
    "    /* Private B and C have values of original B and C. */\n",
    "    assert(&B[1][1] == &A[1][1]);\n",
    "    assert(&C[3] == &A[1][1]);\n",
    "    assert(D[1][1] == 4);\n",
    "    assert(E[1][1] == 4);\n",
    "  }\n",
    "}\n",
    "\n",
    "int main() {\n",
    "  f(2, A, A[0]);\n",
    "  return 0;\n",
    "}\n",
    "\n"
   ]
  },
  {
   "cell_type": "markdown",
   "metadata": {},
   "source": [
    ""
   ]
  },
  {
   "cell_type": "markdown",
   "metadata": {},
   "source": [
    ""
   ]
  },
  {
   "cell_type": "markdown",
   "metadata": {},
   "source": [
    "../../data_environment/carrays_fpriv.tex"
   ]
  },
  {
   "cell_type": "markdown",
   "metadata": {},
   "source": [
    ""
   ]
  },
  {
   "cell_type": "markdown",
   "metadata": {},
   "source": [
    "## `lastprivate` Clause"
   ]
  },
  {
   "cell_type": "markdown",
   "metadata": {},
   "source": [
    "\index{clauses!lastprivate@`lastprivate`} \index{lastprivate clause@`lastprivate` clause}"
   ]
  },
  {
   "cell_type": "markdown",
   "metadata": {},
   "source": [
    "Correct execution sometimes depends on the value that the last iteration of a loop  assigns to a variable. Such programs must list all such variables in a `lastprivate`  clause  so that the values of the variables are the same as when the loop is executed  sequentially."
   ]
  },
  {
   "cell_type": "markdown",
   "metadata": {},
   "source": [
    ""
   ]
  },
  {
   "cell_type": "code",
   "execution_count": null,
   "metadata": {},
   "outputs": [],
   "source": [
    "//%compiler: clang\n",
 "//%cflags: -fopenmp\n",
 "\n",
    "/*\n",
    "* name: lastprivate.1\n",
    "* type: C\n",
    "*/\n",
    "void lastpriv (int n, float *a, float *b)\n",
    "{\n",
    "  int i;\n",
    "\n",
    "  #pragma omp parallel\n",
    "  {\n",
    "    #pragma omp for lastprivate(i)\n",
    "    for (i=0; i<n-1; i++)\n",
    "      a[i] = b[i] + b[i+1];\n",
    "  }\n",
    "\n",
    "  a[i]=b[i];      /* i == n-1 here */\n",
    "}\n",
    "\n"
   ]
  },
  {
   "cell_type": "markdown",
   "metadata": {},
   "source": [
    ""
   ]
  },
  {
   "cell_type": "markdown",
   "metadata": {},
   "source": [
    ""
   ]
  },
  {
   "cell_type": "code",
   "execution_count": null,
   "metadata": {},
   "outputs": [],
   "source": [
    "\n",
    "! name: lastprivate.1\n",
    "! type: F-fixed\n",
    "      SUBROUTINE LASTPRIV(N, A, B)\n",
    "\n",
    "        INTEGER N\n",
    "        REAL A(*), B(*)\n",
    "        INTEGER I\n",
    "!$OMP PARALLEL\n",
    "!$OMP DO LASTPRIVATE(I)\n",
    "\n",
    "        DO I=1,N-1\n",
    "          A(I) = B(I) + B(I+1)\n",
    "        ENDDO\n",
    "\n",
    "!$OMP END PARALLEL\n",
    "        A(I) = B(I)      ! I has the value of N here\n",
    "\n",
    "      END SUBROUTINE LASTPRIV\n",
    "\n"
   ]
  },
  {
   "cell_type": "markdown",
   "metadata": {},
   "source": [
    ""
   ]
  },
  {
   "cell_type": "markdown",
   "metadata": {},
   "source": [
    "\index{lastprivate clause@`lastprivate` clause!conditional modifier@`conditional` modifier} \index{conditional modifier@`conditional` modifier} The next example illustrates the use of the `conditional` modifier in a `lastprivate` clause to return the last value when it may not come from the last iteration of a loop. That is, users can preserve the serial equivalence semantics of the loop. The conditional lastprivate ensures the final value of the variable after the loop  is as if the loop iterations were executed in a sequential order."
   ]
  },
  {
   "cell_type": "markdown",
   "metadata": {},
   "source": [
    ""
   ]
  },
  {
   "cell_type": "code",
   "execution_count": null,
   "metadata": {},
   "outputs": [],
   "source": [
    "//%compiler: clang\n",
 "//%cflags: -fopenmp\n",
 "\n",
    "/*\n",
    "* name: lastprivate.2\n",
    "* type: C\n",
    "* version: omp_5.0\n",
    "*/\n",
    "#include <math.h>\n",
    "\n",
    "float condlastprivate(float *a, int n)\n",
    "{\n",
    "   float x = 0.0f;\n",
    "\n",
    "   #pragma omp parallel for simd lastprivate(conditional: x)\n",
    "   for (int k = 0; k < n; k++) {\n",
    "      if (a[k] < 108.5 || a[k] > 208.5) {\n",
    "         x = sinf(a[k]);\n",
    "      }\n",
    "   }\n",
    "\n",
    "   return x;\n",
    "}\n",
    "\n"
   ]
  },
  {
   "cell_type": "markdown",
   "metadata": {},
   "source": [
    ""
   ]
  },
  {
   "cell_type": "markdown",
   "metadata": {},
   "source": [
    ""
   ]
  },
  {
   "cell_type": "code",
   "execution_count": null,
   "metadata": {},
   "outputs": [],
   "source": [
    "\n",
    "! name: lastprivate.2\n",
    "! type: F-free\n",
    "! version: omp_5.0\n",
    "function condlastprivate(a, n) result(x)\n",
    "   implicit none\n",
    "   real a(*), x\n",
    "   integer n, k\n",
    "\n",
    "   x = 0.0\n",
    "\n",
    "   !$omp parallel do simd lastprivate(conditional: x)\n",
    "   do k = 1, n\n",
    "      if (a(k) < 108.5 .or. a(k) > 208.5) then\n",
    "         x = sin(a(k))\n",
    "      endif\n",
    "   end do\n",
    "\n",
    "end function condlastprivate\n",
    "\n"
   ]
  },
  {
   "cell_type": "markdown",
   "metadata": {},
   "source": [
    "../../data_environment/lastprivate.tex"
   ]
  },
  {
   "cell_type": "markdown",
   "metadata": {},
   "source": [
    ""
   ]
  },
  {
   "cell_type": "markdown",
   "metadata": {},
   "source": [
    ""
   ]
  },
  {
   "cell_type": "markdown",
   "metadata": {},
   "source": [
    "## Reduction"
   ]
  },
  {
   "cell_type": "markdown",
   "metadata": {},
   "source": [
    ""
   ]
  },
  {
   "cell_type": "markdown",
   "metadata": {},
   "source": [
    "This section covers ways to perform reductions in parallel, task, taskloop, and SIMD regions."
   ]
  },
  {
   "cell_type": "markdown",
   "metadata": {},
   "source": [
    ""
   ]
  },
  {
   "cell_type": "markdown",
   "metadata": {},
   "source": [
    "### `reduction` Clause"
   ]
  },
  {
   "cell_type": "markdown",
   "metadata": {},
   "source": [
    "\index{clauses!reduction@`reduction`} \index{reduction clause@`reduction` clause} \index{reductions!reduction clause@`reduction` clause}"
   ]
  },
  {
   "cell_type": "markdown",
   "metadata": {},
   "source": [
    "The following example demonstrates the `reduction` clause; note that some  reductions can be expressed in the loop in several ways, as shown for the `max`  and `min` reductions below:"
   ]
  },
  {
   "cell_type": "markdown",
   "metadata": {},
   "source": [
    ""
   ]
  },
  {
   "cell_type": "code",
   "execution_count": null,
   "metadata": {},
   "outputs": [],
   "source": [
    "//%compiler: clang\n",
 "//%cflags: -fopenmp\n",
 "\n",
    "/*\n",
    "* name: reduction.1\n",
    "* type: C\n",
    "* version: omp_3.1\n",
    "*/\n",
    "#include <math.h>\n",
    "void reduction1(float *x, int *y, int n)\n",
    "{\n",
    "  int i, b, c;\n",
    "  float a, d;\n",
    "  a = 0.0;\n",
    "  b = 0;\n",
    "  c = y[0];\n",
    "  d = x[0];\n",
    "  #pragma omp parallel for private(i) shared(x, y, n) \\\n",
    "                          reduction(+:a) reduction(^:b) \\\n",
    "                          reduction(min:c) reduction(max:d)\n",
    "    for (i=0; i<n; i++) {\n",
    "      a += x[i];\n",
    "      b ^= y[i];\n",
    "      if (c > y[i]) c = y[i];\n",
    "      d = fmaxf(d,x[i]);\n",
    "    }\n",
    "}\n",
    "\n"
   ]
  },
  {
   "cell_type": "markdown",
   "metadata": {},
   "source": [
    ""
   ]
  },
  {
   "cell_type": "markdown",
   "metadata": {},
   "source": [
    ""
   ]
  },
  {
   "cell_type": "markdown",
   "metadata": {},
   "source": [
    ""
   ]
  },
  {
   "cell_type": "code",
   "execution_count": null,
   "metadata": {},
   "outputs": [],
   "source": [
    "\n",
    "! name: reduction.1\n",
    "! type: F-free\n",
    "SUBROUTINE REDUCTION1(A, B, C, D, X, Y, N)\n",
    "    REAL :: X(*), A, D\n",
    "    INTEGER :: Y(*), N, B, C\n",
    "    INTEGER :: I\n",
    "    A = 0\n",
    "    B = 0\n",
    "    C = Y(1)\n",
    "    D = X(1)\n",
    "    !$OMP PARALLEL DO PRIVATE(I) SHARED(X, Y, N) REDUCTION(+:A) &\n",
    "    !$OMP& REDUCTION(IEOR:B) REDUCTION(MIN:C)  REDUCTION(MAX:D)\n",
    "      DO I=1,N\n",
    "        A = A + X(I)\n",
    "        B = IEOR(B, Y(I))\n",
    "        C = MIN(C, Y(I))\n",
    "        IF (D < X(I)) D = X(I)\n",
    "      END DO\n",
    "\n",
    "END SUBROUTINE REDUCTION1\n",
    "\n"
   ]
  },
  {
   "cell_type": "markdown",
   "metadata": {},
   "source": [
    ""
   ]
  },
  {
   "cell_type": "markdown",
   "metadata": {},
   "source": [
    "A common implementation of the preceding example is to treat it as if it had been  written as follows:"
   ]
  },
  {
   "cell_type": "markdown",
   "metadata": {},
   "source": [
    ""
   ]
  },
  {
   "cell_type": "code",
   "execution_count": null,
   "metadata": {},
   "outputs": [],
   "source": [
    "//%compiler: clang\n",
 "//%cflags: -fopenmp\n",
 "\n",
    "/*\n",
    "* name: reduction.2\n",
    "* type: C\n",
    "*/\n",
    "#include <limits.h>\n",
    "#include <math.h>\n",
    "void reduction2(float *x, int *y, int n)\n",
    "{\n",
    "  int i, b, b_p, c, c_p;\n",
    "  float a, a_p, d, d_p;\n",
    "  a = 0.0f;\n",
    "  b = 0;\n",
    "  c = y[0];\n",
    "  d = x[0];\n",
    "  #pragma omp parallel shared(a, b, c, d, x, y, n) \\\n",
    "                          private(a_p, b_p, c_p, d_p)\n",
    "  {\n",
    "    a_p = 0.0f;\n",
    "    b_p = 0;\n",
    "    c_p = INT_MAX;\n",
    "    d_p = -HUGE_VALF;\n",
    "    #pragma omp for private(i)\n",
    "    for (i=0; i<n; i++) {\n",
    "      a_p += x[i];\n",
    "      b_p ^= y[i];\n",
    "      if (c_p > y[i]) c_p = y[i];\n",
    "      d_p = fmaxf(d_p,x[i]);\n",
    "    }\n",
    "    #pragma omp critical\n",
    "    {\n",
    "      a += a_p;\n",
    "      b ^= b_p;\n",
    "      if( c > c_p ) c = c_p;\n",
    "      d = fmaxf(d,d_p);\n",
    "    }\n",
    "  }\n",
    "}\n",
    "\n"
   ]
  },
  {
   "cell_type": "markdown",
   "metadata": {},
   "source": [
    ""
   ]
  },
  {
   "cell_type": "markdown",
   "metadata": {},
   "source": [
    ""
   ]
  },
  {
   "cell_type": "code",
   "execution_count": null,
   "metadata": {},
   "outputs": [],
   "source": [
    "\n",
    "! name: reduction.2\n",
    "! type: F-free\n",
    "  SUBROUTINE REDUCTION2(A, B, C, D, X, Y, N)\n",
    "    REAL :: X(*), A, D\n",
    "    INTEGER :: Y(*), N, B, C\n",
    "    REAL :: A_P, D_P\n",
    "    INTEGER :: I, B_P, C_P\n",
    "    A = 0\n",
    "    B = 0\n",
    "    C = Y(1)\n",
    "    D = X(1)\n",
    "    !$OMP PARALLEL SHARED(X, Y, A, B, C, D, N) &\n",
    "    !$OMP&         PRIVATE(A_P, B_P, C_P, D_P)\n",
    "      A_P = 0.0\n",
    "      B_P = 0\n",
    "      C_P = HUGE(C_P)\n",
    "      D_P = -HUGE(D_P)\n",
    "      !$OMP DO PRIVATE(I)\n",
    "      DO I=1,N\n",
    "        A_P = A_P + X(I)\n",
    "        B_P = IEOR(B_P, Y(I))\n",
    "        C_P = MIN(C_P, Y(I))\n",
    "        IF (D_P < X(I)) D_P = X(I)\n",
    "      END DO\n",
    "      !$OMP CRITICAL\n",
    "        A = A + A_P\n",
    "        B = IEOR(B, B_P)\n",
    "        C = MIN(C, C_P)\n",
    "        D = MAX(D, D_P)\n",
    "      !$OMP END CRITICAL\n",
    "    !$OMP END PARALLEL\n",
    "  END SUBROUTINE REDUCTION2\n",
    "\n"
   ]
  },
  {
   "cell_type": "markdown",
   "metadata": {},
   "source": [
    ""
   ]
  },
  {
   "cell_type": "markdown",
   "metadata": {},
   "source": [
    "The following program is non-conforming because the reduction is on the  **intrinsic procedure name** `MAX` but that name has been redefined to be the variable  named `MAX`."
   ]
  },
  {
   "cell_type": "markdown",
   "metadata": {},
   "source": [
    ""
   ]
  },
  {
   "cell_type": "code",
   "execution_count": null,
   "metadata": {},
   "outputs": [],
   "source": [
    "\n",
    "! name: reduction.3\n",
    "! type: F-free\n",
    " PROGRAM REDUCTION_WRONG\n",
    " MAX = HUGE(0)\n",
    " M = 0\n",
    "\n",
    " !$OMP PARALLEL DO REDUCTION(MAX: M)\n",
    "! MAX is no longer the intrinsic so this is non-conforming\n",
    " DO I = 1, 100\n",
    "    CALL SUB(M,I)\n",
    " END DO\n",
    "\n",
    " END PROGRAM REDUCTION_WRONG\n",
    "\n",
    " SUBROUTINE SUB(M,I)\n",
    "    M = MAX(M,I)\n",
    " END SUBROUTINE SUB\n",
    "\n"
   ]
  },
  {
   "cell_type": "markdown",
   "metadata": {},
   "source": [
    ""
   ]
  },
  {
   "cell_type": "markdown",
   "metadata": {},
   "source": [
    "The following conforming program performs the reduction using the  **intrinsic procedure name** `MAX` even though the intrinsic `MAX` has been renamed  to `REN`."
   ]
  },
  {
   "cell_type": "markdown",
   "metadata": {},
   "source": [
    ""
   ]
  },
  {
   "cell_type": "code",
   "execution_count": null,
   "metadata": {},
   "outputs": [],
   "source": [
    "\n",
    "! name: reduction.4\n",
    "! type: F-free\n",
    "MODULE M\n",
    "   INTRINSIC MAX\n",
    "END MODULE M\n",
    "\n",
    "PROGRAM REDUCTION3\n",
    "   USE M, REN => MAX\n",
    "   N = 0\n",
    "!$OMP PARALLEL DO REDUCTION(REN: N)     ! still does MAX\n",
    "   DO I = 1, 100\n",
    "      N = MAX(N,I)\n",
    "   END DO\n",
    "END PROGRAM REDUCTION3\n",
    "\n"
   ]
  },
  {
   "cell_type": "markdown",
   "metadata": {},
   "source": [
    ""
   ]
  },
  {
   "cell_type": "markdown",
   "metadata": {},
   "source": [
    "The following conforming program performs the reduction using   _intrinsic procedure name_  `MAX` even though the intrinsic `MAX` has been renamed  to `MIN`."
   ]
  },
  {
   "cell_type": "markdown",
   "metadata": {},
   "source": [
    ""
   ]
  },
  {
   "cell_type": "code",
   "execution_count": null,
   "metadata": {},
   "outputs": [],
   "source": [
    "\n",
    "! name: reduction.5\n",
    "! type: F-free\n",
    "MODULE MOD\n",
    "   INTRINSIC MAX, MIN\n",
    "END MODULE MOD\n",
    "\n",
    "PROGRAM REDUCTION4\n",
    "   USE MOD, MIN=>MAX, MAX=>MIN\n",
    "   REAL :: R\n",
    "   R = -HUGE(0.0)\n",
    "\n",
    "!$OMP PARALLEL DO REDUCTION(MIN: R)     ! still does MAX\n",
    "   DO I = 1, 1000\n",
    "      R = MIN(R, SIN(REAL(I)))\n",
    "   END DO\n",
    "   PRINT *, R\n",
    "END PROGRAM REDUCTION4\n",
    "\n"
   ]
  },
  {
   "cell_type": "markdown",
   "metadata": {},
   "source": [
    ""
   ]
  },
  {
   "cell_type": "markdown",
   "metadata": {},
   "source": [
    "The following example is non-conforming because the initialization (`a =  0`) of the original list item `a` is not synchronized with the update of  `a` as a result of the reduction computation in the `for` loop. Therefore,  the example may print an incorrect value for `a`."
   ]
  },
  {
   "cell_type": "markdown",
   "metadata": {},
   "source": [
    "To avoid this problem, the initialization of the original list item `a`  should complete before any update of `a` as a result of the `reduction`  clause. This can be achieved by adding an explicit barrier after the assignment  `a = 0`, or by enclosing the assignment `a = 0` in a `single`  directive (which has an implied barrier), or by initializing `a` before  the start of the `parallel` region."
   ]
  },
  {
   "cell_type": "markdown",
   "metadata": {},
   "source": [
    ""
   ]
  },
  {
   "cell_type": "code",
   "execution_count": null,
   "metadata": {},
   "outputs": [],
   "source": [
    "//%compiler: clang\n",
 "//%cflags: -fopenmp\n",
 "\n",
    "/*\n",
    "* name: reduction.6\n",
    "* type: C\n",
    "* version:    omp_5.1\n",
    "*/\n",
    "#include <stdio.h>\n",
    "\n",
    "int main (void)\n",
    "{\n",
    "  int a, i;\n",
    "\n",
    "  #pragma omp parallel shared(a) private(i)\n",
    "  {\n",
    "    #pragma omp masked\n",
    "    a = 0;\n",
    "\n",
    "    // To avoid race conditions, add a barrier here.\n",
    "\n",
    "    #pragma omp for reduction(+:a)\n",
    "    for (i = 0; i < 10; i++) {\n",
    "        a += i;\n",
    "    }\n",
    "\n",
    "    #pragma omp single\n",
    "    printf (\"Sum is %d\\n\", a);\n",
    "  }\n",
    "  return 0;\n",
    "}\n",
    "\n"
   ]
  },
  {
   "cell_type": "markdown",
   "metadata": {},
   "source": [
    ""
   ]
  },
  {
   "cell_type": "markdown",
   "metadata": {},
   "source": [
    ""
   ]
  },
  {
   "cell_type": "code",
   "execution_count": null,
   "metadata": {},
   "outputs": [],
   "source": [
    "\n",
    "! name: reduction.6\n",
    "! type: F-fixed\n",
    "! version:    omp_5.1\n",
    "      INTEGER A, I\n",
    "\n",
    "!$OMP PARALLEL SHARED(A) PRIVATE(I)\n",
    "\n",
    "!$OMP MASKED\n",
    "      A = 0\n",
    "!$OMP END MASKED\n",
    "\n",
    "      ! To avoid race conditions, add a barrier here.\n",
    "\n",
    "!$OMP DO REDUCTION(+:A)\n",
    "      DO I= 0, 9\n",
    "         A = A + I\n",
    "      END DO\n",
    "\n",
    "!$OMP SINGLE\n",
    "      PRINT *, \"Sum is \", A\n",
    "!$OMP END SINGLE\n",
    "\n",
    "!$OMP END PARALLEL\n",
    "\n",
    "      END\n",
    "\n"
   ]
  },
  {
   "cell_type": "markdown",
   "metadata": {},
   "source": [
    ""
   ]
  },
  {
   "cell_type": "markdown",
   "metadata": {},
   "source": [
    "The following example demonstrates the reduction of array  _a_ .  In C/C++ this is illustrated by the explicit use of an array section  _a[0:N]_  in the `reduction` clause.  The corresponding Fortran example uses array syntax supported in the base language.  As of the OpenMP 4.5 specification the explicit use of array section in the `reduction` clause in Fortran is not permitted.  But this oversight has been fixed in the OpenMP 5.0 specification."
   ]
  },
  {
   "cell_type": "markdown",
   "metadata": {},
   "source": [
    ""
   ]
  },
  {
   "cell_type": "markdown",
   "metadata": {},
   "source": [
    ""
   ]
  },
  {
   "cell_type": "code",
   "execution_count": null,
   "metadata": {},
   "outputs": [],
   "source": [
    "//%compiler: clang\n",
 "//%cflags: -fopenmp\n",
 "\n",
    "/*\n",
    "* name: reduction.7\n",
    "* type: C\n",
    "* version: omp_4.5\n",
    "*/\n",
    "#include <stdio.h>\n",
    "\n",
    "#define N 100\n",
    "void init(int n, float (*b)[N]);\n",
    "\n",
    "int main(){\n",
    "\n",
    "  int i,j;\n",
    "  float a[N], b[N][N];\n",
    "\n",
    "  init(N,b);\n",
    "\n",
    "  for(i=0; i<N; i++) a[i]=0.0e0;\n",
    "\n",
    "  #pragma omp parallel for reduction(+:a[0:N]) private(j)\n",
    "  for(i=0; i<N; i++){\n",
    "    for(j=0; j<N; j++){\n",
    "       a[j] +=  b[i][j];\n",
    "    }\n",
    "  }\n",
    "  printf(\" a[0] a[N-1]: %f %f\\n\", a[0], a[N-1]);\n",
    "\n",
    "  return 0;\n",
    "}\n",
    "\n"
   ]
  },
  {
   "cell_type": "markdown",
   "metadata": {},
   "source": [
    ""
   ]
  },
  {
   "cell_type": "markdown",
   "metadata": {},
   "source": [
    ""
   ]
  },
  {
   "cell_type": "code",
   "execution_count": null,
   "metadata": {},
   "outputs": [],
   "source": [
    "\n",
    "! name: reduction.7\n",
    "! type: F-free\n",
    "program array_red\n",
    "\n",
    "  integer,parameter :: n=100\n",
    "  integer           :: j\n",
    "  real              :: a(n), b(n,n)\n",
    "\n",
    "  call init(n,b)\n",
    "\n",
    "  a(:) = 0.0e0\n",
    "\n",
    "  !$omp parallel do reduction(+:a)\n",
    "  do j = 1, n\n",
    "     a(:) = a(:) + b(:,j)\n",
    "  end do\n",
    "\n",
    "  print*, \" a(1) a(n): \", a(1), a(n)\n",
    "\n",
    "end program\n",
    "\n"
   ]
  },
  {
   "cell_type": "markdown",
   "metadata": {},
   "source": [
    ""
   ]
  },
  {
   "cell_type": "markdown",
   "metadata": {},
   "source": [
    ""
   ]
  },
  {
   "cell_type": "markdown",
   "metadata": {},
   "source": [
    "### Task Reduction"
   ]
  },
  {
   "cell_type": "markdown",
   "metadata": {},
   "source": [
    "\index{clauses!task_reduction@\scode{task_reduction}} \index{task_reduction clause@\scode{task_reduction} clause} \index{reductions!task_reduction clause@\scode{task_reduction} clause} \index{clauses!in_reduction@\scode{in_reduction}} \index{in_reduction clause@\scode{in_reduction} clause} \index{reductions!in_reduction clause@\scode{in_reduction} clause}"
   ]
  },
  {
   "cell_type": "markdown",
   "metadata": {},
   "source": [
    "In OpenMP 5.0 the `task_reduction` clause was created for the `taskgroup` construct,  to allow reductions among explicit tasks that have an `in_reduction` clause."
   ]
  },
  {
   "cell_type": "markdown",
   "metadata": {},
   "source": [
    "In the  _task_reduction.1_  example below a reduction is performed as the algorithm traverses a linked list. The reduction statement is assigned to be an explicit task using a `task` construct and is specified to be a reduction participant with  the `in_reduction` clause. A `taskgroup` construct encloses the tasks participating in the reduction, and specifies, with the `task_reduction` clause, that the taskgroup has tasks participating in a reduction.  After the `taskgroup` region the original variable will contain  the final value of the reduction."
   ]
  },
  {
   "cell_type": "markdown",
   "metadata": {},
   "source": [
    "Note: The  _res_  variable is private in the  _linked_list_sum_  routine and is not required to be shared (as in the case of a `parallel` construct reduction)."
   ]
  },
  {
   "cell_type": "markdown",
   "metadata": {},
   "source": [
    ""
   ]
  },
  {
   "cell_type": "markdown",
   "metadata": {},
   "source": [
    ""
   ]
  },
  {
   "cell_type": "code",
   "execution_count": null,
   "metadata": {},
   "outputs": [],
   "source": [
    "//%compiler: clang\n",
 "//%cflags: -fopenmp\n",
 "\n",
    "/*\n",
    "* name:       task_reduction.1\n",
    "* type:       C\n",
    "*/\n",
    "\n",
    "#include<stdlib.h>\n",
    "#include<stdio.h>\n",
    "#define N 10\n",
    "\n",
    "typedef struct node_tag {\n",
    "    int val;\n",
    "    struct node_tag *next;\n",
    "} node_t;\n",
    "\n",
    "int linked_list_sum(node_t *p)\n",
    "{\n",
    "    int res = 0;\n",
    "\n",
    "    #pragma omp taskgroup task_reduction(+: res)\n",
    "    {\n",
    "        node_t* aux = p;\n",
    "        while(aux != 0)\n",
    "        {\n",
    "            #pragma omp task in_reduction(+: res)\n",
    "            res += aux->val;\n",
    "\n",
    "            aux = aux->next;\n",
    "        }\n",
    "    }\n",
    "    return res;\n",
    "}\n",
    "\n",
    "\n",
    "int main(int argc, char *argv[]) {\n",
    "    int i;\n",
    "//                           Create the root node.\n",
    "    node_t* root = (node_t*) malloc(sizeof(node_t));\n",
    "    root->val = 1;\n",
    "\n",
    "    node_t* aux = root;\n",
    "\n",
    "//                           Create N-1 more nodes.\n",
    "    for(i=2;i<=N;++i){\n",
    "        aux->next = (node_t*) malloc(sizeof(node_t));\n",
    "        aux = aux->next;\n",
    "        aux->val = i;\n",
    "    }\n",
    "\n",
    "    aux->next = 0;\n",
    "\n",
    "    #pragma omp parallel\n",
    "    #pragma omp single\n",
    "    {\n",
    "        int result = linked_list_sum(root);\n",
    "        printf( \"Calculated: %d  Analytic:%d\\n\", result, (N*(N+1)/2) );\n",
    "    }\n",
    "\n",
    "    return 0;\n",
    "}\n",
    "\n",
    "\n"
   ]
  },
  {
   "cell_type": "markdown",
   "metadata": {},
   "source": [
    ""
   ]
  },
  {
   "cell_type": "markdown",
   "metadata": {},
   "source": [
    ""
   ]
  },
  {
   "cell_type": "code",
   "execution_count": null,
   "metadata": {},
   "outputs": [],
   "source": [
    "\n",
    "! name:       task_reduction.1\n",
    "! type:       F-free\n",
    "\n",
    "module m\n",
    "    type node_t\n",
    "        integer :: val\n",
    "        type(node_t), pointer :: next\n",
    "    end type\n",
    "end module m\n",
    "\n",
    "function linked_list_sum(p) result(res)\n",
    "    use m\n",
    "    implicit none\n",
    "    type(node_t), pointer :: p\n",
    "    type(node_t), pointer :: aux\n",
    "    integer :: res\n",
    "\n",
    "    res = 0\n",
    "\n",
    "    !$omp taskgroup task_reduction(+: res)\n",
    "        aux => p\n",
    "        do while (associated(aux))\n",
    "            !$omp task in_reduction(+: res)\n",
    "                res = res + aux%val\n",
    "            !$omp end task\n",
    "            aux => aux%next\n",
    "        end do\n",
    "    !$omp end taskgroup\n",
    "end function linked_list_sum\n",
    "\n",
    "\n",
    "program main\n",
    "    use m\n",
    "    implicit none\n",
    "    type(node_t), pointer :: root, aux\n",
    "    integer :: res, i\n",
    "    integer, parameter :: N=10\n",
    "\n",
    "    interface\n",
    "        function linked_list_sum(p) result(res)\n",
    "            use m\n",
    "            implicit none\n",
    "            type(node_t), pointer :: p\n",
    "            integer :: res\n",
    "        end function\n",
    "    end interface\n",
    "!                       Create the root node.\n",
    "    allocate(root)\n",
    "    root%val = 1\n",
    "    aux => root\n",
    "\n",
    "!                       Create N-1 more nodes.\n",
    "    do i = 2,N\n",
    "        allocate(aux%next)\n",
    "        aux => aux%next\n",
    "        aux%val = i\n",
    "    end do\n",
    "\n",
    "    aux%next => null()\n",
    "\n",
    "    !$omp parallel\n",
    "    !$omp single\n",
    "        res = linked_list_sum(root)\n",
    "        print *, \"Calculated:\", res, \" Analytic:\", (N*(N+1))/2\n",
    "    !$omp end single\n",
    "    !$omp end parallel\n",
    "\n",
    "end program main\n",
    "\n",
    "\n"
   ]
  },
  {
   "cell_type": "markdown",
   "metadata": {},
   "source": [
    ""
   ]
  },
  {
   "cell_type": "markdown",
   "metadata": {},
   "source": [
    "\index{reduction clause@`reduction` clause!task modifier@`task` modifier} \index{task modifier@`task` modifier} In OpenMP 5.0 the `task`  _reduction-modifier_  for the `reduction` clause was introduced to provide a means of performing reductions among implicit and explicit tasks."
   ]
  },
  {
   "cell_type": "markdown",
   "metadata": {},
   "source": [
    "The `reduction` clause of a `parallel` or worksharing construct may specify the `task`  _reduction-modifier_  to include explicit task reductions within their region, provided the reduction operators ( _reduction-identifiers_ ) and variables ( _list items_ ) of the participating tasks match those of the implicit tasks."
   ]
  },
  {
   "cell_type": "markdown",
   "metadata": {},
   "source": [
    "There are 2 reduction use cases (identified by USE CASE #) in the  _task_reduction.2_  example below."
   ]
  },
  {
   "cell_type": "markdown",
   "metadata": {},
   "source": [
    "In USE CASE 1 a `task` modifier in the `reduction` clause  of the `parallel` construct is used to include the reductions of any  participating tasks, those with an `in_reduction` clause and matching   _reduction-identifiers_  (`+`) and list items (`x`)."
   ]
  },
  {
   "cell_type": "markdown",
   "metadata": {},
   "source": [
    "Note, a `taskgroup` construct (with a `task_reduction` clause) in not necessary to scope the explicit task reduction (as seen in the example above).  Hence, even without the implicit task reduction statement (without the C `x++`   and Fortran `x=x+1` statements), the `task`  _reduction-modifier_   in a `reduction` clause of the `parallel` construct can be used to avoid having to create a `taskgroup` construct  (and its `task_reduction` clause) around the task generating structure."
   ]
  },
  {
   "cell_type": "markdown",
   "metadata": {},
   "source": [
    "In USE CASE 2 tasks participating in the reduction are within a worksharing region (a parallel worksharing-loop construct). Here, too, no `taskgroup` is required, and the  _reduction-identifier_  (`+`) and list item (variable `x`) match as required."
   ]
  },
  {
   "cell_type": "markdown",
   "metadata": {},
   "source": [
    ""
   ]
  },
  {
   "cell_type": "markdown",
   "metadata": {},
   "source": [
    ""
   ]
  },
  {
   "cell_type": "code",
   "execution_count": null,
   "metadata": {},
   "outputs": [],
   "source": [
    "//%compiler: clang\n",
 "//%cflags: -fopenmp\n",
 "\n",
    "/*\n",
    "* name:       task_reduction.2\n",
    "* type:       C\n",
    "* version: omp_5.0\n",
    "*/\n",
    "#include <stdio.h>\n",
    "int main(void){\n",
    "   int N=100, M=10;\n",
    "   int i, x;\n",
    "\n",
    "// USE CASE 1  explicit-task reduction + parallel reduction clause\n",
    "   x=0;\n",
    "   #pragma omp parallel num_threads(M) reduction(task,+:x)\n",
    "   {\n",
    "\n",
    "     x++;                // implicit task reduction statement\n",
    "\n",
    "     #pragma omp single\n",
    "     for(i=0;i<N;i++)\n",
    "       #pragma omp task in_reduction(+:x)\n",
    "       x++;\n",
    "\n",
    "   }\n",
    "   printf(\"x=%d  =M+N\\n\",x);  // x= 110  =M+N\n",
    "\n",
    "\n",
    "// USE CASE 2  task reduction +  worksharing reduction clause\n",
    "   x=0;\n",
    "   #pragma omp parallel for num_threads(M) reduction(task,+:x)\n",
    "   for(i=0; i< N; i++){\n",
    "\n",
    "      x++;\n",
    "\n",
    "      if( i%2 == 0){\n",
    "       #pragma omp task in_reduction(+:x)\n",
    "       x--;\n",
    "      }\n",
    "   }\n",
    "   printf(\"x=%d  =N-N/2\\n\",x);  // x= 50  =N-N/2\n",
    "\n",
    "   return 0;\n",
    "}\n",
    "\n"
   ]
  },
  {
   "cell_type": "markdown",
   "metadata": {},
   "source": [
    ""
   ]
  },
  {
   "cell_type": "markdown",
   "metadata": {},
   "source": [
    ""
   ]
  },
  {
   "cell_type": "code",
   "execution_count": null,
   "metadata": {},
   "outputs": [],
   "source": [
    "\n",
    "! name:       task_reduction.2\n",
    "! type:       F-free\n",
    "! version:    omp_5.0\n",
    "\n",
    "program task_modifier\n",
    "\n",
    "   integer :: N=100, M=10\n",
    "   integer :: i, x\n",
    "\n",
    "! USE CASE 1  explicit-task reduction + parallel reduction clause\n",
    "   x=0\n",
    "   !$omp parallel num_threads(M) reduction(task,+:x)\n",
    "\n",
    "     x=x+1                   !! implicit task reduction statement\n",
    "\n",
    "     !$omp single\n",
    "       do i = 1,N\n",
    "         !$omp task in_reduction(+:x)\n",
    "           x=x+1\n",
    "         !$omp end task\n",
    "       end do\n",
    "     !$omp end single\n",
    "\n",
    "   !$omp end parallel\n",
    "   write(*,'(\"x=\",I0,\" =M+N\")') x   ! x= 110 =M+N\n",
    "\n",
    "\n",
    "! USE CASE 2  task reduction +  worksharing reduction clause\n",
    "   x=0\n",
    "   !$omp parallel do num_threads(M) reduction(task,+:x)\n",
    "     do i = 1,N\n",
    "\n",
    "        x=x+1\n",
    "\n",
    "        if( mod(i,2) == 0) then\n",
    "           !$omp task in_reduction(+:x)\n",
    "             x=x-1\n",
    "           !$omp end task\n",
    "        endif\n",
    "\n",
    "     end do\n",
    "   write(*,'(\"x=\",I0,\"  =N-N/2\")') x   ! x= 50 =N-N/2\n",
    "\n",
    "end program\n",
    "\n"
   ]
  },
  {
   "cell_type": "markdown",
   "metadata": {},
   "source": [
    ""
   ]
  },
  {
   "cell_type": "markdown",
   "metadata": {},
   "source": [
    ""
   ]
  },
  {
   "cell_type": "markdown",
   "metadata": {},
   "source": [
    ""
   ]
  },
  {
   "cell_type": "markdown",
   "metadata": {},
   "source": [
    "### Reduction on Combined Target Constructs"
   ]
  },
  {
   "cell_type": "markdown",
   "metadata": {},
   "source": [
    "\index{reduction clause@`reduction` clause!on target construct@on `target` construct} \index{constructs!target@`target`} \index{target construct@`target` construct}"
   ]
  },
  {
   "cell_type": "markdown",
   "metadata": {},
   "source": [
    "When a `reduction` clause appears on a combined construct that combines  a `target` construct with another construct, there is an implicit map  of the list items with a `tofrom` map type for the `target` construct.  Otherwise, the list items (if they are scalar variables) would be  treated as firstprivate by default in the `target` construct, which  is unlikely to provide the intended behavior since the result of the reduction that is in the firstprivate variable would be discarded  at the end of the `target` region."
   ]
  },
  {
   "cell_type": "markdown",
   "metadata": {},
   "source": [
    "In the following example, the use of the `reduction` clause on `sum1` or `sum2` should, by default, result in an implicit `tofrom` map for that variable. So long as neither `sum1` nor `sum2` were already present on the device, the mapping behavior ensures the value for `sum1` computed in the first `target` construct is used in the second `target` construct."
   ]
  },
  {
   "cell_type": "markdown",
   "metadata": {},
   "source": [
    ""
   ]
  },
  {
   "cell_type": "code",
   "execution_count": null,
   "metadata": {},
   "outputs": [],
   "source": [
    "//%compiler: clang\n",
 "//%cflags: -fopenmp\n",
 "\n",
    "/*\n",
    "* name: target_reduction.1\n",
    "* type: C\n",
    "* version: omp_5.0\n",
    "*/\n",
    "#include <stdio.h>\n",
    "int f(int);\n",
    "int g(int);\n",
    "int main()\n",
    "{\n",
    "   int sum1=0, sum2=0;\n",
    "   int i;\n",
    "   const int n = 100;\n",
    "\n",
    "   #pragma omp target teams distribute reduction(+:sum1)\n",
    "   for (int i = 0; i < n; i++) {\n",
    "      sum1 += f(i);\n",
    "   }\n",
    "\n",
    "   #pragma omp target teams distribute reduction(+:sum2)\n",
    "   for (int i = 0; i < n; i++) {\n",
    "      sum2 += g(i) * sum1;\n",
    "   }\n",
    "\n",
    "   printf(  \"sum1 = %d, sum2 = %d\\n\", sum1, sum2);\n",
    "   //OUTPUT: sum1 = 9900, sum2 = 147015000\n",
    "   return 0;\n",
    "}\n",
    "\n",
    "int f(int res){ return res*2; }\n",
    "int g(int res){ return res*3; }\n",
    "\n"
   ]
  },
  {
   "cell_type": "markdown",
   "metadata": {},
   "source": [
    ""
   ]
  },
  {
   "cell_type": "markdown",
   "metadata": {},
   "source": [
    ""
   ]
  },
  {
   "cell_type": "code",
   "execution_count": null,
   "metadata": {},
   "outputs": [],
   "source": [
    "\n",
    "! name: target_reduction.1\n",
    "! type: F-free\n",
    "! version: omp_5.0\n",
    "program target_reduction_ex1\n",
    "   interface\n",
    "      function f(res)\n",
    "             integer :: f, res\n",
    "          end function\n",
    "      function g(res)\n",
    "             integer :: g, res\n",
    "          end function\n",
    "   end interface\n",
    "   integer :: sum1, sum2, i\n",
    "   integer, parameter :: n = 100\n",
    "   sum1 = 0\n",
    "   sum2 = 0\n",
    "   !$omp target teams distribute reduction(+:sum1)\n",
    "       do i=1,n\n",
    "          sum1 = sum1 + f(i)\n",
    "       end do\n",
    "   !$omp target teams distribute reduction(+:sum2)\n",
    "       do i=1,n\n",
    "          sum2 = sum2 + g(i)*sum1\n",
    "       end do\n",
    "   print *, \"sum1 = \", sum1, \", sum2 = \", sum2\n",
    "   !!OUTPUT: sum1 =     10100 , sum2 = 153015000\n",
    "end program\n",
    "\n",
    "\n",
    "integer function f(res)\n",
    "   integer :: res\n",
    "   f = res*2\n",
    "end function\n",
    "integer function g(res)\n",
    "   integer :: res\n",
    "   g = res*3\n",
    "end function\n",
    "\n"
   ]
  },
  {
   "cell_type": "markdown",
   "metadata": {},
   "source": [
    ""
   ]
  },
  {
   "cell_type": "markdown",
   "metadata": {},
   "source": [
    "In next example,  the variables `sum1` and `sum2` remain on the device for the duration of the `target` `data` region so that it is their device copies that are updated by the reductions. Note the significance of mapping `sum1` on the second `target` construct; otherwise, it would be treated by default as firstprivate and the result computed for `sum1` in the prior `target` region may not be used. Alternatively, a `target` `update` construct could be used between the two `target` constructs to update the host version of `sum1` with the value that is in the corresponding device version after the completion of the first construct."
   ]
  },
  {
   "cell_type": "markdown",
   "metadata": {},
   "source": [
    ""
   ]
  },
  {
   "cell_type": "code",
   "execution_count": null,
   "metadata": {},
   "outputs": [],
   "source": [
    "//%compiler: clang\n",
 "//%cflags: -fopenmp\n",
 "\n",
    "/*\n",
    "* name: target_reduction.2\n",
    "* type: C\n",
    "* version: omp_5.0\n",
    "*/\n",
    "#include <stdio.h>\n",
    "int f(int);\n",
    "int g(int);\n",
    "int main()\n",
    "{\n",
    "   int sum1=0, sum2=0;\n",
    "   int i;\n",
    "   const int n = 100;\n",
    "\n",
    "   #pragma omp target data map(sum1,sum2)\n",
    "   {\n",
    "      #pragma omp target teams distribute reduction(+:sum1)\n",
    "      for (int i = 0; i < n; i++) {\n",
    "         sum1 += f(i);\n",
    "      }\n",
    "\n",
    "      #pragma omp target teams distribute map(sum1) reduction(+:sum2)\n",
    "      for (int i = 0; i < n; i++) {\n",
    "         sum2 += g(i) * sum1;\n",
    "      }\n",
    "   }\n",
    "   printf(  \"sum1 = %d, sum2 = %d\\n\", sum1, sum2);\n",
    "   //OUTPUT: sum1 = 9900, sum2 = 147015000\n",
    "   return 0;\n",
    "}\n",
    "\n",
    "int f(int res){ return res*2; }\n",
    "int g(int res){ return res*3; }\n",
    "\n"
   ]
  },
  {
   "cell_type": "markdown",
   "metadata": {},
   "source": [
    ""
   ]
  },
  {
   "cell_type": "markdown",
   "metadata": {},
   "source": [
    ""
   ]
  },
  {
   "cell_type": "code",
   "execution_count": null,
   "metadata": {},
   "outputs": [],
   "source": [
    "\n",
    "! name: target_reduction.2\n",
    "! type: F-free\n",
    "! version: omp_5.0\n",
    "\n",
    "program target_reduction_ex2\n",
    "   interface\n",
    "      function f(res)\n",
    "             integer :: f, res\n",
    "          end function\n",
    "      function g(res)\n",
    "             integer :: g, res\n",
    "          end function\n",
    "   end interface\n",
    "   integer :: sum1, sum2, i\n",
    "   integer, parameter :: n = 100\n",
    "   sum1 = 0\n",
    "   sum2 = 0\n",
    "   !$omp target data map(sum1, sum2)\n",
    "       !$omp target teams distribute reduction(+:sum1)\n",
    "           do i=1,n\n",
    "              sum1 = sum1 + f(i)\n",
    "           end do\n",
    "       !$omp target teams distribute map(sum1) reduction(+:sum2)\n",
    "           do i=1,n\n",
    "              sum2 = sum2 + g(i)*sum1\n",
    "           end do\n",
    "   !$omp end target data\n",
    "   print *, \"sum1 = \", sum1, \", sum2 = \", sum2\n",
    "   !!OUTPUT: sum1 =     10100 , sum2 = 153015000\n",
    "end program\n",
    "\n",
    "\n",
    "integer function f(res)\n",
    "   integer :: res\n",
    "   f = res*2\n",
    "end function\n",
    "integer function g(res)\n",
    "   integer :: res\n",
    "   g = res*3\n",
    "end function\n",
    "\n"
   ]
  },
  {
   "cell_type": "markdown",
   "metadata": {},
   "source": [
    ""
   ]
  },
  {
   "cell_type": "markdown",
   "metadata": {},
   "source": [
    ""
   ]
  },
  {
   "cell_type": "markdown",
   "metadata": {},
   "source": [
    ""
   ]
  },
  {
   "cell_type": "markdown",
   "metadata": {},
   "source": [
    "### Task Reduction with Target Constructs"
   ]
  },
  {
   "cell_type": "markdown",
   "metadata": {},
   "source": [
    "\index{in_reduction clause@\scode{in_reduction} clause} \index{constructs!target@`target`} \index{target construct@`target` construct}"
   ]
  },
  {
   "cell_type": "markdown",
   "metadata": {},
   "source": [
    "\index{clauses!enter@`enter`} \index{enter clause@`enter` clause}"
   ]
  },
  {
   "cell_type": "markdown",
   "metadata": {},
   "source": [
    "The following examples illustrate how task reductions can apply to target tasks that result from a `target` construct with the `in_reduction` clause. Here, the `in_reduction` clause specifies that the target task participates in the task reduction defined in the scope of the enclosing `taskgroup` construct. Partial results from all tasks participating in the task reduction will be combined (in some order) into the original variable listed in the `task_reduction` clause before exiting the `taskgroup` region."
   ]
  },
  {
   "cell_type": "markdown",
   "metadata": {},
   "source": [
    ""
   ]
  },
  {
   "cell_type": "code",
   "execution_count": null,
   "metadata": {},
   "outputs": [],
   "source": [
    "//%compiler: clang\n",
 "//%cflags: -fopenmp\n",
 "\n",
    "/*\n",
    "* name: target_task_reduction.1\n",
    "* type: C\n",
    "* version: omp_5.2\n",
    "*/\n",
    "\n",
    "#include <stdio.h>\n",
    "#pragma omp declare target enter(device_compute)\n",
    "void device_compute(int *);\n",
    "void host_compute(int *);\n",
    "int main()\n",
    "{\n",
    "   int sum = 0;\n",
    "\n",
    "   #pragma omp parallel masked\n",
    "   #pragma omp taskgroup task_reduction(+:sum)\n",
    "   {\n",
    "      #pragma omp target in_reduction(+:sum) nowait\n",
    "          device_compute(&sum);\n",
    "\n",
    "      #pragma omp task in_reduction(+:sum)\n",
    "          host_compute(&sum);\n",
    "   }\n",
    "   printf(  \"sum = %d\\n\", sum);\n",
    "   //OUTPUT: sum = 2\n",
    "   return 0;\n",
    "}\n",
    "\n",
    "void device_compute(int *sum){ *sum = 1; }\n",
    "void   host_compute(int *sum){ *sum = 1; }\n",
    "\n"
   ]
  },
  {
   "cell_type": "markdown",
   "metadata": {},
   "source": [
    ""
   ]
  },
  {
   "cell_type": "markdown",
   "metadata": {},
   "source": [
    ""
   ]
  },
  {
   "cell_type": "code",
   "execution_count": null,
   "metadata": {},
   "outputs": [],
   "source": [
    "\n",
    "! name: target_task_reduction.1\n",
    "! type: F-free\n",
    "! version: omp_5.2\n",
    "\n",
    "program target_task_reduction_ex1\n",
    "   interface\n",
    "      subroutine device_compute(res)\n",
    "      !$omp declare target enter(device_compute)\n",
    "        integer :: res\n",
    "      end subroutine device_compute\n",
    "      subroutine host_compute(res)\n",
    "        integer :: res\n",
    "      end subroutine host_compute\n",
    "   end interface\n",
    "   integer :: sum\n",
    "   sum = 0\n",
    "   !$omp parallel masked\n",
    "      !$omp taskgroup task_reduction(+:sum)\n",
    "         !$omp target in_reduction(+:sum) nowait\n",
    "            call device_compute(sum)\n",
    "         !$omp end target\n",
    "         !$omp task in_reduction(+:sum)\n",
    "            call host_compute(sum)\n",
    "         !$omp end task\n",
    "      !$omp end taskgroup\n",
    "   !$omp end parallel masked\n",
    "   print *, \"sum = \", sum\n",
    "   !!OUTPUT: sum = 2\n",
    "end program\n",
    "\n",
    "subroutine device_compute(sum)\n",
    "   integer :: sum\n",
    "   sum = 1\n",
    "end subroutine\n",
    "subroutine host_compute(sum)\n",
    "   integer :: sum\n",
    "   sum = 1\n",
    "end subroutine\n",
    "\n"
   ]
  },
  {
   "cell_type": "markdown",
   "metadata": {},
   "source": [
    ""
   ]
  },
  {
   "cell_type": "markdown",
   "metadata": {},
   "source": [
    "\index{reduction clause@`reduction` clause!task modifier@`task` modifier} \index{task modifier@`task` modifier} In the next pair of examples, the task reduction is defined by a `reduction` clause with the `task` modifier, rather than a `task_reduction` clause on a `taskgroup` construct. Again, the partial results from the participating tasks will be combined in some order into the original reduction variable, `sum`."
   ]
  },
  {
   "cell_type": "markdown",
   "metadata": {},
   "source": [
    ""
   ]
  },
  {
   "cell_type": "code",
   "execution_count": null,
   "metadata": {},
   "outputs": [],
   "source": [
    "//%compiler: clang\n",
 "//%cflags: -fopenmp\n",
 "\n",
    "/*\n",
    "* name: target_task_reduction.2a\n",
    "* type: C\n",
    "* version: omp_5.2\n",
    "*/\n",
    "#include <stdio.h>\n",
    "#pragma omp declare target enter(device_compute)\n",
    "extern void device_compute(int *);\n",
    "extern void host_compute(int *);\n",
    "int main()\n",
    "{\n",
    "   int sum = 0;\n",
    "\n",
    "   #pragma omp parallel sections reduction(task, +:sum)\n",
    "   {\n",
    "      #pragma omp section\n",
    "          {\n",
    "             #pragma omp target in_reduction(+:sum)\n",
    "             device_compute(&sum);\n",
    "          }\n",
    "      #pragma omp section\n",
    "          {\n",
    "             host_compute(&sum);\n",
    "          }\n",
    "   }\n",
    "   printf(  \"sum = %d\\n\", sum);\n",
    "   //OUTPUT: sum = 2\n",
    "   return 0;\n",
    "}\n",
    "\n",
    "void device_compute(int *sum){ *sum = 1; }\n",
    "void   host_compute(int *sum){ *sum = 1; }\n",
    "\n"
   ]
  },
  {
   "cell_type": "markdown",
   "metadata": {},
   "source": [
    ""
   ]
  },
  {
   "cell_type": "markdown",
   "metadata": {},
   "source": [
    ""
   ]
  },
  {
   "cell_type": "code",
   "execution_count": null,
   "metadata": {},
   "outputs": [],
   "source": [
    "\n",
    "! name: target_task_reduction.2a\n",
    "! type: F-free\n",
    "! version: omp_5.2\n",
    "\n",
    "program target_task_reduction_ex2\n",
    "   interface\n",
    "      subroutine device_compute(res)\n",
    "      !$omp declare target enter(device_compute)\n",
    "        integer :: res\n",
    "      end subroutine device_compute\n",
    "      subroutine host_compute(res)\n",
    "        integer :: res\n",
    "      end subroutine host_compute\n",
    "   end interface\n",
    "   integer :: sum\n",
    "   sum = 0\n",
    "   !$omp parallel sections reduction(task,+:sum)\n",
    "      !$omp section\n",
    "         !$omp target in_reduction(+:sum) nowait\n",
    "           call device_compute(sum)\n",
    "         !$omp end target\n",
    "      !$omp section\n",
    "         call host_compute(sum)\n",
    "   !$omp end parallel sections\n",
    "   print *, \"sum = \", sum\n",
    "   !!OUTPUT: sum = 2\n",
    "end program\n",
    "\n",
    "subroutine device_compute(sum)\n",
    "   integer :: sum\n",
    "   sum = 1\n",
    "end subroutine\n",
    "subroutine host_compute(sum)\n",
    "   integer :: sum\n",
    "   sum = 1\n",
    "end subroutine\n",
    "\n"
   ]
  },
  {
   "cell_type": "markdown",
   "metadata": {},
   "source": [
    ""
   ]
  },
  {
   "cell_type": "markdown",
   "metadata": {},
   "source": [
    "\index{in_reduction clause@\scode{in_reduction} clause!with target construct@with `target` construct} \index{constructs!target@`target`} \index{target construct@`target` construct} Next, the `task` modifier is again used to define a task reduction over participating tasks. This time, the participating tasks are a target task resulting from a `target` construct with the `in_reduction` clause, and the implicit task (executing on the primary thread) that calls `host_compute`. As before, the partial results from these participating tasks are combined in some order into the original reduction variable."
   ]
  },
  {
   "cell_type": "markdown",
   "metadata": {},
   "source": [
    ""
   ]
  },
  {
   "cell_type": "code",
   "execution_count": null,
   "metadata": {},
   "outputs": [],
   "source": [
    "//%compiler: clang\n",
 "//%cflags: -fopenmp\n",
 "\n",
    "/*\n",
    "* name: target_task_reduction.2b\n",
    "* type: C\n",
    "* version: omp_5.2\n",
    "*/\n",
    "#include <stdio.h>\n",
    "#pragma omp declare target enter(device_compute)\n",
    "extern void device_compute(int *);\n",
    "extern void host_compute(int *);\n",
    "int main()\n",
    "{\n",
    "   int sum = 0;\n",
    "\n",
    "   #pragma omp parallel masked reduction(task, +:sum)\n",
    "   {\n",
    "       #pragma omp target in_reduction(+:sum) nowait\n",
    "       device_compute(&sum);\n",
    "\n",
    "       host_compute(&sum);\n",
    "   }\n",
    "   printf(  \"sum = %d\\n\", sum);\n",
    "   //OUTPUT: sum = 2\n",
    "   return 0;\n",
    "}\n",
    "\n",
    "void device_compute(int *sum){ *sum = 1; }\n",
    "void   host_compute(int *sum){ *sum = 1; }\n",
    "\n"
   ]
  },
  {
   "cell_type": "markdown",
   "metadata": {},
   "source": [
    ""
   ]
  },
  {
   "cell_type": "markdown",
   "metadata": {},
   "source": [
    ""
   ]
  },
  {
   "cell_type": "code",
   "execution_count": null,
   "metadata": {},
   "outputs": [],
   "source": [
    "\n",
    "! name: target_task_reduction.2b\n",
    "! type: F-free\n",
    "! version: omp_5.2\n",
    "\n",
    "program target_task_reduction_ex2b\n",
    "   interface\n",
    "      subroutine device_compute(res)\n",
    "      !$omp declare target enter(device_compute)\n",
    "        integer :: res\n",
    "      end subroutine device_compute\n",
    "      subroutine host_compute(res)\n",
    "        integer :: res\n",
    "      end subroutine host_compute\n",
    "   end interface\n",
    "   integer :: sum\n",
    "   sum = 0\n",
    "   !$omp parallel masked reduction(task,+:sum)\n",
    "         !$omp target in_reduction(+:sum) nowait\n",
    "           call device_compute(sum)\n",
    "         !$omp end target\n",
    "         call host_compute(sum)\n",
    "   !$omp end parallel masked\n",
    "   print *, \"sum = \", sum\n",
    "   !!OUTPUT: sum = 2\n",
    "end program\n",
    "\n",
    "\n",
    "subroutine device_compute(sum)\n",
    "   integer :: sum\n",
    "   sum = 1\n",
    "end subroutine\n",
    "subroutine host_compute(sum)\n",
    "   integer :: sum\n",
    "   sum = 1\n",
    "end subroutine\n",
    "\n",
    "\n"
   ]
  },
  {
   "cell_type": "markdown",
   "metadata": {},
   "source": [
    ""
   ]
  },
  {
   "cell_type": "markdown",
   "metadata": {},
   "source": [
    ""
   ]
  },
  {
   "cell_type": "markdown",
   "metadata": {},
   "source": [
    ""
   ]
  },
  {
   "cell_type": "markdown",
   "metadata": {},
   "source": [
    "### Taskloop Reduction"
   ]
  },
  {
   "cell_type": "markdown",
   "metadata": {},
   "source": [
    "\index{reduction clause@`reduction` clause!on taskloop construct@on `taskloop` construct} \index{constructs!taskloop@`taskloop`} \index{taskloop construct@`taskloop` construct}"
   ]
  },
  {
   "cell_type": "markdown",
   "metadata": {},
   "source": [
    "In the OpenMP 5.0 Specification the `taskloop` construct was extended to include the reductions."
   ]
  },
  {
   "cell_type": "markdown",
   "metadata": {},
   "source": [
    "The following two examples show how to implement a reduction over an array using taskloop reduction in two different ways. In the first example we apply the `reduction` clause to the `taskloop` construct. As it was explained above in the task reduction examples, a reduction over tasks is divided in two components: the scope of the reduction, which is defined by a `taskgroup` region, and the tasks that participate in the reduction. In this example, the `reduction` clause defines both semantics. First, it specifies that the implicit `taskgroup` region associated with the `taskloop` construct is the scope of the reduction, and second, it defines all tasks created by the `taskloop` construct as participants of the reduction. About the first property, it is important to note that if we add the `nogroup` clause to the `taskloop` construct the code will be nonconforming, basically because we have a set of tasks that participate in a reduction that has not been defined."
   ]
  },
  {
   "cell_type": "markdown",
   "metadata": {},
   "source": [
    ""
   ]
  },
  {
   "cell_type": "code",
   "execution_count": null,
   "metadata": {},
   "outputs": [],
   "source": [
    "//%compiler: clang\n",
 "//%cflags: -fopenmp\n",
 "\n",
    "/*\n",
    "* name:       taskloop_reduction.1\n",
    "* type:       C\n",
    "* version:    omp_5.0\n",
    "*/\n",
    "#include <stdio.h>\n",
    "\n",
    "int array_sum(int n, int *v) {\n",
    "    int i;\n",
    "    int res = 0;\n",
    "\n",
    "    #pragma omp taskloop reduction(+: res)\n",
    "    for(i = 0; i < n; ++i)\n",
    "        res += v[i];\n",
    "\n",
    "    return res;\n",
    "}\n",
    "\n",
    "int main(int argc, char *argv[]) {\n",
    "    int n = 10;\n",
    "    int v[10] = {1,2,3,4,5,6,7,8,9,10};\n",
    "\n",
    "    #pragma omp parallel\n",
    "    #pragma omp single\n",
    "    {\n",
    "        int res = array_sum(n, v);\n",
    "        printf(\"The result is %d\\n\", res);\n",
    "    }\n",
    "    return 0;\n",
    "}\n",
    "\n"
   ]
  },
  {
   "cell_type": "markdown",
   "metadata": {},
   "source": [
    ""
   ]
  },
  {
   "cell_type": "code",
   "execution_count": null,
   "metadata": {},
   "outputs": [],
   "source": [
    "\n",
    "! name: taskloop_reduction.1\n",
    "! type: F-free\n",
    "! version:    omp_5.0\n",
    "function array_sum(n, v) result(res)\n",
    "    implicit none\n",
    "    integer :: n, v(n), res\n",
    "    integer :: i\n",
    "\n",
    "    res = 0\n",
    "    !$omp taskloop reduction(+: res)\n",
    "    do i=1, n\n",
    "        res = res + v(i)\n",
    "    end do\n",
    "    !$omp end taskloop\n",
    "\n",
    "end function array_sum\n",
    "\n",
    "program main\n",
    "    implicit none\n",
    "    integer :: n, v(10), res\n",
    "    integer :: i\n",
    "\n",
    "    integer, external :: array_sum\n",
    "\n",
    "    n = 10\n",
    "    do i=1, n\n",
    "        v(i) = i\n",
    "    end do\n",
    "\n",
    "    !$omp parallel\n",
    "    !$omp single\n",
    "    res = array_sum(n, v)\n",
    "    print *, \"The result is\", res\n",
    "    !$omp end single\n",
    "    !$omp end parallel\n",
    "end program main\n",
    "\n"
   ]
  },
  {
   "cell_type": "markdown",
   "metadata": {},
   "source": [
    ""
   ]
  },
  {
   "cell_type": "markdown",
   "metadata": {},
   "source": [
    ""
   ]
  },
  {
   "cell_type": "markdown",
   "metadata": {},
   "source": [
    "The second example computes exactly the same value as in the preceding  _taskloop_reduction.1_  code section, but in a very different way. First, in the  _array_sum_  function a `taskgroup` region is created  that defines the scope of a new reduction using the `task_reduction` clause. After that, a task and also the tasks generated by a taskloop participate in  that reduction by using the `in_reduction` clause on the `task` and `taskloop` constructs, respectively.  Note that the `nogroup` clause was added to the `taskloop` construct. This is allowed because what is expressed with the `in_reduction` clause is different from what is expressed with the `reduction` clause. In one case the generated tasks are specified to participate in a previously  declared reduction (`in_reduction` clause) whereas in the other case creation of a new reduction is specified and also all tasks generated  by the taskloop will participate on it."
   ]
  },
  {
   "cell_type": "markdown",
   "metadata": {},
   "source": [
    ""
   ]
  },
  {
   "cell_type": "code",
   "execution_count": null,
   "metadata": {},
   "outputs": [],
   "source": [
    "//%compiler: clang\n",
 "//%cflags: -fopenmp\n",
 "\n",
    "/*\n",
    "* name:       taskloop_reduction.2\n",
    "* type:       C\n",
    "* version:    omp_5.0\n",
    "*/\n",
    "#include <stdio.h>\n",
    "\n",
    "int array_sum(int n, int *v) {\n",
    "    int i;\n",
    "    int res = 0;\n",
    "\n",
    "    #pragma omp taskgroup task_reduction(+: res)\n",
    "    {\n",
    "        if (n > 0) {\n",
    "            #pragma omp task in_reduction(+: res)\n",
    "            res = res + v[0];\n",
    "\n",
    "            #pragma omp taskloop in_reduction(+: res) nogroup\n",
    "            for(i = 1; i < n; ++i)\n",
    "                res += v[i];\n",
    "        }\n",
    "    }\n",
    "\n",
    "    return res;\n",
    "}\n",
    "\n",
    "int main(int argc, char *argv[]) {\n",
    "    int n = 10;\n",
    "    int v[10] = {1,2,3,4,5,6,7,8,9,10};\n",
    "\n",
    "    #pragma omp parallel\n",
    "    #pragma omp single\n",
    "    {\n",
    "        int res = array_sum(n, v);\n",
    "        printf(\"The result is %d\\n\", res);\n",
    "    }\n",
    "    return 0;\n",
    "}\n",
    "\n"
   ]
  },
  {
   "cell_type": "markdown",
   "metadata": {},
   "source": [
    ""
   ]
  },
  {
   "cell_type": "code",
   "execution_count": null,
   "metadata": {},
   "outputs": [],
   "source": [
    "\n",
    "! name: taskloop_reduction.2\n",
    "! type: F-free\n",
    "! version:    omp_5.0\n",
    "function array_sum(n, v) result(res)\n",
    "    implicit none\n",
    "    integer :: n, v(n), res\n",
    "    integer :: i\n",
    "\n",
    "    res = 0\n",
    "    !$omp taskgroup task_reduction(+: res)\n",
    "    if (n > 0) then\n",
    "        !$omp task in_reduction(+: res)\n",
    "        res = res + v(1)\n",
    "        !$omp end task\n",
    "\n",
    "        !$omp taskloop in_reduction(+: res) nogroup\n",
    "        do i=2, n\n",
    "            res = res + v(i)\n",
    "        end do\n",
    "        !$omp end taskloop\n",
    "    endif\n",
    "    !$omp end taskgroup\n",
    "\n",
    "end function array_sum\n",
    "\n",
    "program main\n",
    "    implicit none\n",
    "    integer :: n, v(10), res\n",
    "    integer :: i\n",
    "\n",
    "    integer, external :: array_sum\n",
    "\n",
    "    n = 10\n",
    "    do i=1, n\n",
    "        v(i) = i\n",
    "    end do\n",
    "\n",
    "    !$omp parallel\n",
    "    !$omp single\n",
    "    res = array_sum(n, v)\n",
    "    print *, \"The result is\", res\n",
    "    !$omp end single\n",
    "    !$omp end parallel\n",
    "end program main\n",
    "\n"
   ]
  },
  {
   "cell_type": "markdown",
   "metadata": {},
   "source": [
    ""
   ]
  },
  {
   "cell_type": "markdown",
   "metadata": {},
   "source": [
    "In the OpenMP 5.0 Specification, `reduction` clauses for the `taskloop` ` simd` construct were also added."
   ]
  },
  {
   "cell_type": "markdown",
   "metadata": {},
   "source": [
    "\index{reduction clause@`reduction` clause!on taskloop simd construct@on `taskloop` `simd` construct} \index{combined constructs!taskloop simd@`taskloop` `simd`} \index{taskloop simd construct@`taskloop` `simd` construct} The examples below compare reductions for the `taskloop` and the `taskloop` `simd` constructs. These examples illustrate the use of `reduction` clauses within  \"stand-alone\" `taskloop` constructs, and the use of `in_reduction` clauses for tasks of taskloops to participate with other reductions within the scope of a parallel region."
   ]
  },
  {
   "cell_type": "markdown",
   "metadata": {},
   "source": [
    "**taskloop reductions:**"
   ]
  },
  {
   "cell_type": "markdown",
   "metadata": {},
   "source": [
    "In the  _taskloop reductions_  section of the example below,   _taskloop 1_  uses the `reduction` clause  in a `taskloop` construct for a sum reduction, accumulated in  _asum_ .  The behavior is as though a `taskgroup` construct encloses the  taskloop region with a `task_reduction` clause, and each taskloop task has an `in_reduction` clause with the specifications  of the `reduction` clause. At the end of the taskloop region  _asum_  contains the result of the reduction."
   ]
  },
  {
   "cell_type": "markdown",
   "metadata": {},
   "source": [
    "The next taskloop,  _taskloop 2_ , illustrates the use of the  `in_reduction` clause to participate in a previously defined reduction scope of a `parallel` construct."
   ]
  },
  {
   "cell_type": "markdown",
   "metadata": {},
   "source": [
    "The task reductions of  _task 2_  and  _taskloop 2_  are combined across the `taskloop` construct and the single `task` construct, as specified in the `reduction(task,` `+:asum)` clause of the `parallel` construct. At the end of the parallel region  _asum_  contains the combined result of all reductions."
   ]
  },
  {
   "cell_type": "markdown",
   "metadata": {},
   "source": [
    "**taskloop simd reductions:**"
   ]
  },
  {
   "cell_type": "markdown",
   "metadata": {},
   "source": [
    "Reductions for the `taskloop` `simd` construct are shown in the second half of the code. Since each component construct, `taskloop` and `simd`,  can accept a reduction-type clause, the `taskloop` `simd` construct is a composite construct, and the specific application of the reduction clause is defined within the `taskloop` `simd` construct section of the OpenMP 5.0 Specification. The code below illustrates use cases for these reductions."
   ]
  },
  {
   "cell_type": "markdown",
   "metadata": {},
   "source": [
    "In the  _taskloop simd reduction_  section of the example below,  _taskloop simd 3_  uses the `reduction` clause  in a `taskloop` `simd` construct for a sum reduction within a loop. For this case a `reduction` clause is used, as one would use  for a `simd` construct. The SIMD reductions of each task are combined, and the results of these tasks are further  combined just as in the `taskloop` construct with the `reduction` clause for  _taskloop 1_ . At the end of the taskloop region  _asum_  contains the combined result of all reductions."
   ]
  },
  {
   "cell_type": "markdown",
   "metadata": {},
   "source": [
    "If a `taskloop` `simd` construct is to participate in a previously defined  reduction scope, the reduction participation should be specified with a `in_reduction` clause, as shown in the `parallel` region enclosing  _task 4_  and  _taskloop simd 4_  code sections."
   ]
  },
  {
   "cell_type": "markdown",
   "metadata": {},
   "source": [
    "Here the `taskloop` `simd` construct's  `in_reduction` clause specifies participation of the construct's tasks as  a task reduction within the scope of the parallel region.   That is, the results of each task of the `taskloop` construct component  contribute to the reduction in a broader level, just as in  _parallel reduction a_  code section above. Also, each `simd`-component construct occurs as if it has a `reduction` clause, and the SIMD results of each task are combined as though to form a single result for each task (that participates in the `in_reduction` clause). At the end of the parallel region  _asum_  contains the combined result of all reductions."
   ]
  },
  {
   "cell_type": "markdown",
   "metadata": {},
   "source": [
    ""
   ]
  },
  {
   "cell_type": "markdown",
   "metadata": {},
   "source": [
    ""
   ]
  },
  {
   "cell_type": "markdown",
   "metadata": {},
   "source": [
    ""
   ]
  },
  {
   "cell_type": "code",
   "execution_count": null,
   "metadata": {},
   "outputs": [],
   "source": [
    "//%compiler: clang\n",
 "//%cflags: -fopenmp\n",
 "\n",
    "/*\n",
    "* name: taskloop_simd_reduction.1\n",
    "* type: C\n",
    "* version: omp_5.1\n",
    "*/\n",
    "#include <stdio.h>\n",
    "#define N 100\n",
    "\n",
    "int main(){\n",
    "   int i, a[N], asum=0;\n",
    "\n",
    "   for(i=0;i<N;i++) a[i]=i;\n",
    "\n",
    "   // taskloop reductions\n",
    "\n",
    "   #pragma omp parallel masked\n",
    "   #pragma omp taskloop reduction(+:asum) // taskloop 1\n",
    "      for(i=0;i<N;i++){ asum += a[i]; }\n",
    "\n",
    "\n",
    "   #pragma omp parallel reduction(task, +:asum) // parallel reduction a\n",
    "   {\n",
    "      #pragma omp masked\n",
    "      #pragma omp task            in_reduction(+:asum) // task 2\n",
    "         for(i=0;i<N;i++){ asum += a[i]; }\n",
    "\n",
    "      #pragma omp masked taskloop in_reduction(+:asum) // taskloop 2\n",
    "         for(i=0;i<N;i++){ asum += a[i]; }\n",
    "   }\n",
    "\n",
    "   // taskloop simd reductions\n",
    "\n",
    "   #pragma omp parallel masked\n",
    "   #pragma omp taskloop simd reduction(+:asum) // taskloop simd 3\n",
    "     for(i=0;i<N;i++){ asum += a[i]; }\n",
    "\n",
    "\n",
    "   #pragma omp parallel reduction(task, +:asum) // parallel reduction b\n",
    "   {\n",
    "      #pragma omp masked\n",
    "      #pragma omp task                 in_reduction(+:asum) // task 4\n",
    "         for(i=0;i<N;i++){ asum += a[i]; }\n",
    "\n",
    "      #pragma omp masked taskloop simd in_reduction(+:asum) // taskloop\n",
    "         for(i=0;i<N;i++){ asum += a[i]; }                  // simd 4\n",
    "\n",
    "  }\n",
    "\n",
    "  printf(\"asum=%d \\n\",asum); // output: asum=29700\n",
    "}\n",
    "\n"
   ]
  },
  {
   "cell_type": "markdown",
   "metadata": {},
   "source": [
    ""
   ]
  },
  {
   "cell_type": "markdown",
   "metadata": {},
   "source": [
    ""
   ]
  },
  {
   "cell_type": "code",
   "execution_count": null,
   "metadata": {},
   "outputs": [],
   "source": [
    "\n",
    "! name: taskloop_simd_reduction.1\n",
    "! type: F-free\n",
    "! version: omp_5.1\n",
    "program main\n",
    "\n",
    "  use omp_lib\n",
    "  integer, parameter ::  N=100\n",
    "  integer            :: i, a(N), asum=0\n",
    "\n",
    "  a = [( i, i=1,N )]    !! initialize\n",
    "\n",
    "!! taskloop reductions\n",
    "\n",
    "  !$omp parallel masked\n",
    "  !$omp taskloop reduction(+:asum)                  !! taskloop 1\n",
    "    do i=1,N;  asum = asum + a(i);  enddo\n",
    "  !$omp end taskloop\n",
    "  !$omp end parallel masked\n",
    "\n",
    "\n",
    "  !$omp parallel reduction(task, +:asum)            !! parallel reduction a\n",
    "\n",
    "     !$omp masked\n",
    "     !$omp task            in_reduction(+:asum)     !! task 2\n",
    "       do i=1,N;  asum = asum + a(i);  enddo\n",
    "     !$omp end task\n",
    "     !$omp end masked\n",
    "\n",
    "     !$omp masked taskloop in_reduction(+:asum)     !! taskloop 2\n",
    "       do i=1,N;  asum = asum + a(i);  enddo\n",
    "     !$omp end masked taskloop\n",
    "\n",
    "  !$omp end parallel\n",
    "\n",
    "!! taskloop simd reductions\n",
    "\n",
    "  !$omp parallel masked\n",
    "  !$omp taskloop simd reduction(+:asum)             !! taskloop simd 3\n",
    "    do i=1,N;  asum = asum + a(i);  enddo\n",
    "  !$omp end taskloop simd\n",
    "  !$omp end parallel masked\n",
    "\n",
    "\n",
    "  !$omp parallel reduction(task, +:asum)            !! parallel reduction b\n",
    "\n",
    "    !$omp masked\n",
    "    !$omp task                 in_reduction(+:asum) !! task 4\n",
    "       do i=1,N;  asum = asum + a(i);  enddo\n",
    "    !$omp end task\n",
    "    !$omp end masked\n",
    "\n",
    "    !$omp masked taskloop simd in_reduction(+:asum) !! taskloop simd 4\n",
    "       do i=1,N;  asum = asum + a(i);  enddo\n",
    "    !$omp end masked taskloop simd\n",
    "\n",
    "  !$omp end parallel\n",
    "\n",
    "  print*,\"asum=\",asum   !! output: asum=30300\n",
    "\n",
    "end program\n",
    "\n"
   ]
  },
  {
   "cell_type": "markdown",
   "metadata": {},
   "source": [
    ""
   ]
  },
  {
   "cell_type": "markdown",
   "metadata": {},
   "source": [
    ""
   ]
  },
  {
   "cell_type": "markdown",
   "metadata": {},
   "source": [
    ""
   ]
  },
  {
   "cell_type": "markdown",
   "metadata": {},
   "source": [
    "### Reduction with the `scope` Construct"
   ]
  },
  {
   "cell_type": "markdown",
   "metadata": {},
   "source": [
    "\index{reduction clause@`reduction` clause!on scope construct@on `scope` construct} \index{constructs!scope@`scope`} \index{scope construct@`scope` construct}"
   ]
  },
  {
   "cell_type": "markdown",
   "metadata": {},
   "source": [
    "The following example illustrates the use of the `scope` construct  to perform a reduction in a `parallel` region. The case is useful for  producing a reduction and accessing reduction variables inside a `parallel` region  without using a worksharing-loop construct."
   ]
  },
  {
   "cell_type": "markdown",
   "metadata": {},
   "source": [
    ""
   ]
  },
  {
   "cell_type": "code",
   "execution_count": null,
   "metadata": {},
   "outputs": [],
   "source": [
    "//%compiler: clang\n",
 "//%cflags: -fopenmp\n",
 "\n",
    "/*\n",
    "* name: scope_reduction.1\n",
    "* type: C++\n",
    "* version: omp_5.1\n",
    "*/\n",
    "#include <stdio.h>\n",
    "void do_work(int n, float a[], float &s)\n",
    "{\n",
    "   float loc_s = 0.0f;        // local sum\n",
    "   static int nthrs;\n",
    "   #pragma omp for\n",
    "      for (int i = 0; i < n; i++)\n",
    "         loc_s += a[i];\n",
    "   #pragma omp single\n",
    "   {\n",
    "      s = 0.0f;               // total sum\n",
    "      nthrs = 0;\n",
    "   }\n",
    "   #pragma omp scope reduction(+:s,nthrs)\n",
    "   {\n",
    "      s += loc_s;\n",
    "      nthrs++;\n",
    "   }\n",
    "   #pragma omp masked\n",
    "      printf(\"total sum = %f, nthrs = %d\\n\", s, nthrs);\n",
    "}\n",
    "\n",
    "float work(int n, float a[])\n",
    "{\n",
    "   float s;\n",
    "   #pragma omp parallel\n",
    "   {\n",
    "      do_work(n, a, s);\n",
    "   }\n",
    "   return s;\n",
    "}\n",
    "\n"
   ]
  },
  {
   "cell_type": "markdown",
   "metadata": {},
   "source": [
    ""
   ]
  },
  {
   "cell_type": "markdown",
   "metadata": {},
   "source": [
    ""
   ]
  },
  {
   "cell_type": "code",
   "execution_count": null,
   "metadata": {},
   "outputs": [],
   "source": [
    "\n",
    "! name: scope_reduction.1\n",
    "! type: F-free\n",
    "! version: omp_5.1\n",
    "subroutine do_work(n, a, s)\n",
    "   implicit none\n",
    "   integer n, i\n",
    "   real a(*), s, loc_s\n",
    "   integer, save :: nthrs\n",
    "\n",
    "   loc_s = 0.0                ! local sum\n",
    "   !$omp do\n",
    "      do i = 1, n\n",
    "         loc_s = loc_s + a(i)\n",
    "      end do\n",
    "   !$omp single\n",
    "      s = 0.0                 ! total sum\n",
    "      nthrs = 0\n",
    "   !$omp end single\n",
    "   !$omp scope reduction(+:s,nthrs)\n",
    "      s = s + loc_s\n",
    "      nthrs = nthrs + 1\n",
    "   !$omp end scope\n",
    "   !$omp masked\n",
    "      print *, \"total sum = \", s, \", nthrs = \", nthrs\n",
    "   !$omp end masked\n",
    "end subroutine\n",
    "\n",
    "function work(n, a) result(s)\n",
    "   implicit none\n",
    "   integer n\n",
    "   real a(*), s\n",
    "\n",
    "   !$omp parallel\n",
    "      call do_work(n, a, s)\n",
    "   !$omp end parallel\n",
    "end function\n",
    "\n"
   ]
  },
  {
   "cell_type": "markdown",
   "metadata": {},
   "source": [
    ""
   ]
  },
  {
   "cell_type": "markdown",
   "metadata": {},
   "source": [
    "../../data_environment/reduction.tex"
   ]
  },
  {
   "cell_type": "markdown",
   "metadata": {},
   "source": [
    ""
   ]
  },
  {
   "cell_type": "markdown",
   "metadata": {},
   "source": [
    "### User-Defined Reduction"
   ]
  },
  {
   "cell_type": "markdown",
   "metadata": {},
   "source": [
    "\index{reductions!user-defined} \index{reductions!declare reduction directive@`declare` `reduction` directive} \index{declare reduction directive@`declare` `reduction` directive} \index{directives!declare reduction@`declare` `reduction`} \index{declare reduction directive@`declare` `reduction` directive!initializer clause@`initializer` clause} \index{declare reduction directive@`declare` `reduction` directive!combiner} \index{declare reduction directive@`declare` `reduction` directive!OpenMP variable identifiers} \index{OpenMP variable identifiers!omp_in@\scode{omp_in}} \index{OpenMP variable identifiers!omp_out@\scode{omp_out}} \index{OpenMP variable identifiers!omp_priv@\scode{omp_priv}} \index{combiner} \index{clauses!initializer@`initializer`} \index{initializer clause@`initializer` clause}"
   ]
  },
  {
   "cell_type": "markdown",
   "metadata": {},
   "source": [
    "The `declare` `reduction` directive can be used to specify  user-defined reductions (UDR) for user data types."
   ]
  },
  {
   "cell_type": "markdown",
   "metadata": {},
   "source": [
    ""
   ]
  },
  {
   "cell_type": "markdown",
   "metadata": {},
   "source": [
    ""
   ]
  },
  {
   "cell_type": "markdown",
   "metadata": {},
   "source": [
    ""
   ]
  },
  {
   "cell_type": "markdown",
   "metadata": {},
   "source": [
    "In the following example, `declare` `reduction` directives are used to define  _min_  and  _max_  operations for the  _point_  data structure for computing the rectangle that encloses a set of 2-D points."
   ]
  },
  {
   "cell_type": "markdown",
   "metadata": {},
   "source": [
    "Each `declare` `reduction` directive defines new reduction identifiers,  _min_  and  _max_ , to be used in a `reduction` clause. The next item in the declaration list is the data type ( _struct_   _point_ ) used in the reduction, followed by the combiner, here the functions  _minproc_  and  _maxproc_  perform the min and max operations, respectively, on the user data (of type  _struct_   _point_ ). In the function argument list are two special OpenMP variable identifiers, `omp_in` and `omp_out`, that denote the two values to be combined in the \"real\" function; the `omp_out` identifier indicates which one is to hold the result."
   ]
  },
  {
   "cell_type": "markdown",
   "metadata": {},
   "source": [
    "The initializer of the `declare` `reduction` directive specifies the initial value for the private variable of each implicit task. The `omp_priv` identifier is used to denote the private variable."
   ]
  },
  {
   "cell_type": "markdown",
   "metadata": {},
   "source": [
    ""
   ]
  },
  {
   "cell_type": "code",
   "execution_count": null,
   "metadata": {},
   "outputs": [],
   "source": [
    "//%compiler: clang\n",
 "//%cflags: -fopenmp\n",
 "\n",
    "/*\n",
    "* name: udr.1\n",
    "* type: C\n",
    "* version: omp_4.0\n",
    "*/\n",
    "#include <stdio.h>\n",
    "#include <limits.h>\n",
    "\n",
    "struct point {\n",
    "  int x;\n",
    "  int y;\n",
    "};\n",
    "\n",
    "void minproc ( struct point *out, struct point *in )\n",
    "{\n",
    "  if ( in->x < out->x ) out->x = in->x;\n",
    "  if ( in->y < out->y ) out->y = in->y;\n",
    "}\n",
    "\n",
    "void maxproc ( struct point *out, struct point *in )\n",
    "{\n",
    "  if ( in->x > out->x ) out->x = in->x;\n",
    "  if ( in->y > out->y ) out->y = in->y;\n",
    "}\n",
    "\n",
    "#pragma omp declare reduction(min : struct point : \\\n",
    "        minproc(&omp_out, &omp_in)) \\\n",
    " initializer( omp_priv = { INT_MAX, INT_MAX } )\n",
    "\n",
    "#pragma omp declare reduction(max : struct point : \\\n",
    "        maxproc(&omp_out, &omp_in)) \\\n",
    " initializer( omp_priv = { 0, 0 } )\n",
    "\n",
    "void find_enclosing_rectangle ( int n, struct point points[] )\n",
    "{\n",
    "  struct point minp = { INT_MAX, INT_MAX }, maxp = {0,0};\n",
    "  int i;\n",
    "\n",
    "#pragma omp parallel for reduction(min:minp) reduction(max:maxp)\n",
    "  for ( i = 0; i < n; i++ ) {\n",
    "     minproc(&minp, &points[i]);\n",
    "     maxproc(&maxp, &points[i]);\n",
    "  }\n",
    "  printf(\"min = (%d, %d)\\n\", minp.x, minp.y);\n",
    "  printf(\"max = (%d, %d)\\n\", maxp.x, maxp.y);\n",
    "}\n",
    "\n"
   ]
  },
  {
   "cell_type": "markdown",
   "metadata": {},
   "source": [
    ""
   ]
  },
  {
   "cell_type": "markdown",
   "metadata": {},
   "source": [
    "The following example shows the corresponding code in Fortran.  The `declare` `reduction` directives are specified as part of  the declaration in subroutine  _find_enclosing_rectangle_  and  the procedures that perform the min and max operations are specified as subprograms."
   ]
  },
  {
   "cell_type": "markdown",
   "metadata": {},
   "source": [
    ""
   ]
  },
  {
   "cell_type": "code",
   "execution_count": null,
   "metadata": {},
   "outputs": [],
   "source": [
    "\n",
    "! name: udr.1\n",
    "! type: F-free\n",
    "! version: omp_4.0\n",
    "module data_type\n",
    "\n",
    "  type :: point\n",
    "    integer :: x\n",
    "    integer :: y\n",
    "  end type\n",
    "\n",
    "end module data_type\n",
    "\n",
    "subroutine find_enclosing_rectangle ( n, points )\n",
    "  use data_type\n",
    "  implicit none\n",
    "  integer :: n\n",
    "  type(point) :: points(*)\n",
    "\n",
    "  !$omp declare reduction(min : point : minproc(omp_out, omp_in)) &\n",
    "  !$omp&  initializer( omp_priv = point( HUGE(0), HUGE(0) ) )\n",
    "\n",
    "  !$omp declare reduction(max : point : maxproc(omp_out, omp_in)) &\n",
    "  !$omp&  initializer( omp_priv = point( 0, 0 ) )\n",
    "\n",
    "  type(point) :: minp = point( HUGE(0), HUGE(0) ), maxp = point( 0, 0 )\n",
    "  integer :: i\n",
    "\n",
    "  !$omp parallel do reduction(min:minp) reduction(max:maxp)\n",
    "  do i = 1, n\n",
    "     call minproc(minp, points(i))\n",
    "     call maxproc(maxp, points(i))\n",
    "  end do\n",
    "  print *, \"min = (\", minp%x, minp%y, \")\"\n",
    "  print *, \"max = (\", maxp%x, maxp%y, \")\"\n",
    "\n",
    " contains\n",
    "  subroutine minproc ( out, in )\n",
    "    implicit none\n",
    "    type(point), intent(inout) :: out\n",
    "    type(point), intent(in) :: in\n",
    "\n",
    "    out%x = min( out%x, in%x )\n",
    "    out%y = min( out%y, in%y )\n",
    "  end subroutine minproc\n",
    "\n",
    "  subroutine maxproc ( out, in )\n",
    "    implicit none\n",
    "    type(point), intent(inout) :: out\n",
    "    type(point), intent(in) :: in\n",
    "\n",
    "    out%x = max( out%x, in%x )\n",
    "    out%y = max( out%y, in%y )\n",
    "  end subroutine maxproc\n",
    "\n",
    "end subroutine\n",
    "\n"
   ]
  },
  {
   "cell_type": "markdown",
   "metadata": {},
   "source": [
    ""
   ]
  },
  {
   "cell_type": "markdown",
   "metadata": {},
   "source": [
    ""
   ]
  },
  {
   "cell_type": "markdown",
   "metadata": {},
   "source": [
    "The following example shows the same computation as  _udr.1_  but it illustrates that you can craft complex expressions in the user-defined reduction declaration. In this case, instead of calling the  _minproc_  and  _maxproc_  functions we inline the code in a single expression."
   ]
  },
  {
   "cell_type": "markdown",
   "metadata": {},
   "source": [
    ""
   ]
  },
  {
   "cell_type": "code",
   "execution_count": null,
   "metadata": {},
   "outputs": [],
   "source": [
    "//%compiler: clang\n",
 "//%cflags: -fopenmp\n",
 "\n",
    "/*\n",
    "* name: udr.2\n",
    "* type: C\n",
    "* version: omp_4.0\n",
    "*/\n",
    "#include <stdio.h>\n",
    "#include <limits.h>\n",
    "\n",
    "struct point {\n",
    "  int x;\n",
    "  int y;\n",
    "};\n",
    "\n",
    "#pragma omp declare reduction(min : struct point : \\\n",
    "        omp_out.x = omp_in.x > omp_out.x  ? omp_out.x : omp_in.x, \\\n",
    "        omp_out.y = omp_in.y > omp_out.y  ? omp_out.y : omp_in.y ) \\\n",
    "        initializer( omp_priv = { INT_MAX, INT_MAX } )\n",
    "\n",
    "#pragma omp declare reduction(max : struct point : \\\n",
    "        omp_out.x = omp_in.x < omp_out.x  ? omp_out.x : omp_in.x,  \\\n",
    "        omp_out.y = omp_in.y < omp_out.y  ? omp_out.y : omp_in.y ) \\\n",
    "        initializer( omp_priv = { 0, 0 } )\n",
    "\n",
    "void find_enclosing_rectangle ( int n, struct point points[] )\n",
    "{\n",
    "  struct point minp = { INT_MAX, INT_MAX }, maxp = {0,0};\n",
    "  int i;\n",
    "\n",
    "#pragma omp parallel for reduction(min:minp) reduction(max:maxp)\n",
    "  for ( i = 0; i < n; i++ ) {\n",
    "    if ( points[i].x < minp.x ) minp.x = points[i].x;\n",
    "    if ( points[i].y < minp.y ) minp.y = points[i].y;\n",
    "    if ( points[i].x > maxp.x ) maxp.x = points[i].x;\n",
    "    if ( points[i].y > maxp.y ) maxp.y = points[i].y;\n",
    "  }\n",
    "  printf(\"min = (%d, %d)\\n\", minp.x, minp.y);\n",
    "  printf(\"max = (%d, %d)\\n\", maxp.x, maxp.y);\n",
    "}\n",
    "\n"
   ]
  },
  {
   "cell_type": "markdown",
   "metadata": {},
   "source": [
    ""
   ]
  },
  {
   "cell_type": "markdown",
   "metadata": {},
   "source": [
    "The corresponding code of the same example in Fortran is very similar except that the assignment expression in the `declare` `reduction` directive can only be used for a single variable, in this case through a type structure constructor  _point( ... )_ ."
   ]
  },
  {
   "cell_type": "markdown",
   "metadata": {},
   "source": [
    ""
   ]
  },
  {
   "cell_type": "code",
   "execution_count": null,
   "metadata": {},
   "outputs": [],
   "source": [
    "\n",
    "! name: udr.2\n",
    "! type: F-free\n",
    "! version: omp_4.0\n",
    "module data_type\n",
    "\n",
    "  type :: point\n",
    "    integer :: x\n",
    "    integer :: y\n",
    "  end type\n",
    "\n",
    "end module data_type\n",
    "\n",
    "subroutine find_enclosing_rectangle ( n, points )\n",
    "  use data_type\n",
    "  implicit none\n",
    "  integer :: n\n",
    "  type(point) :: points(*)\n",
    "\n",
    "  !$omp declare reduction( min : point :  &\n",
    "  !$omp&   omp_out = point(min( omp_out%x, omp_in%x ), &\n",
    "  !$omp&                   min( omp_out%y, omp_in%y )) ) &\n",
    "  !$omp&   initializer( omp_priv = point( HUGE(0), HUGE(0) ) )\n",
    "\n",
    "  !$omp declare reduction( max : point :  &\n",
    "  !$omp&   omp_out = point(max( omp_out%x, omp_in%x ), &\n",
    "  !$omp&                   max( omp_out%y, omp_in%y )) ) &\n",
    "  !$omp&   initializer( omp_priv = point( 0, 0 ) )\n",
    "\n",
    "  type(point) :: minp = point( HUGE(0), HUGE(0) ), maxp = point( 0, 0 )\n",
    "  integer :: i\n",
    "\n",
    "  !$omp parallel do reduction(min: minp) reduction(max: maxp)\n",
    "  do i = 1, n\n",
    "     minp%x = min(minp%x, points(i)%x)\n",
    "     minp%y = min(minp%y, points(i)%y)\n",
    "     maxp%x = max(maxp%x, points(i)%x)\n",
    "     maxp%y = max(maxp%y, points(i)%y)\n",
    "  end do\n",
    "  print *, \"min = (\", minp%x, minp%y, \")\"\n",
    "  print *, \"max = (\", maxp%x, maxp%y, \")\"\n",
    "\n",
    "end subroutine\n",
    "\n"
   ]
  },
  {
   "cell_type": "markdown",
   "metadata": {},
   "source": [
    ""
   ]
  },
  {
   "cell_type": "markdown",
   "metadata": {},
   "source": [
    ""
   ]
  },
  {
   "cell_type": "markdown",
   "metadata": {},
   "source": [
    "\index{OpenMP variable identifiers!omp_orig@\scode{omp_orig}} The following example shows the use of special variables in arguments for combiner (`omp_in` and `omp_out`) and initializer (`omp_priv` and `omp_orig`) routines.  This example returns the maximum value of an array and the corresponding index value. The `declare` `reduction` directive specifies a user-defined reduction operation  _maxloc_  for data type  _struct_   _mx_s_ . The function  _mx_combine_  is the combiner and the function  _mx_init_  is the initializer."
   ]
  },
  {
   "cell_type": "markdown",
   "metadata": {},
   "source": [
    ""
   ]
  },
  {
   "cell_type": "code",
   "execution_count": null,
   "metadata": {},
   "outputs": [],
   "source": [
    "//%compiler: clang\n",
 "//%cflags: -fopenmp\n",
 "\n",
    "/*\n",
    "* name: udr.3\n",
    "* type: C\n",
    "* version: omp_4.0\n",
    "*/\n",
    "\n",
    "#include <stdio.h>\n",
    "#define N 100\n",
    "\n",
    "struct mx_s {\n",
    "   float value;\n",
    "   int index;\n",
    "};\n",
    "\n",
    "/* prototype functions for combiner and initializer in\n",
    "   the declare reduction */\n",
    "void mx_combine(struct mx_s *out, struct mx_s *in);\n",
    "void mx_init(struct mx_s *priv, struct mx_s *orig);\n",
    "\n",
    "#pragma omp declare reduction(maxloc: struct mx_s: \\\n",
    "        mx_combine(&omp_out, &omp_in)) \\\n",
    "        initializer(mx_init(&omp_priv, &omp_orig))\n",
    "\n",
    "void mx_combine(struct mx_s *out, struct mx_s *in)\n",
    "{\n",
    "   if ( out->value < in->value ) {\n",
    "      out->value = in->value;\n",
    "      out->index = in->index;\n",
    "   }\n",
    "}\n",
    "\n",
    "void mx_init(struct mx_s *priv, struct mx_s *orig)\n",
    "{\n",
    "   priv->value = orig->value;\n",
    "   priv->index = orig->index;\n",
    "}\n",
    "\n",
    "int main(void)\n",
    "{\n",
    "   struct mx_s mx;\n",
    "   float val[N], d;\n",
    "   int i, count = N;\n",
    "\n",
    "   for (i = 0; i < count; i++) {\n",
    "      d = (N*0.8f - i);\n",
    "      val[i] = N * N - d * d;\n",
    "   }\n",
    "\n",
    "   mx.value = val[0];\n",
    "   mx.index = 0;\n",
    "   #pragma omp parallel for reduction(maxloc: mx)\n",
    "   for (i = 1; i < count; i++) {\n",
    "      if (mx.value < val[i])\n",
    "      {\n",
    "         mx.value = val[i];\n",
    "         mx.index = i;\n",
    "      }\n",
    "   }\n",
    "\n",
    "   printf(\"max value = %g, index = %d\\n\", mx.value, mx.index);\n",
    "   /* prints 10000, 80 */\n",
    "\n",
    "   return 0;\n",
    "}\n",
    "\n"
   ]
  },
  {
   "cell_type": "markdown",
   "metadata": {},
   "source": [
    ""
   ]
  },
  {
   "cell_type": "markdown",
   "metadata": {},
   "source": [
    "Below is the corresponding Fortran version of the above example.  The `declare` `reduction` directive specifies the user-defined operation  _maxloc_  for user-derived type  _mx_s_ .  The combiner  _mx_combine_  and the initializer  _mx_init_  are specified as subprograms."
   ]
  },
  {
   "cell_type": "markdown",
   "metadata": {},
   "source": [
    ""
   ]
  },
  {
   "cell_type": "code",
   "execution_count": null,
   "metadata": {},
   "outputs": [],
   "source": [
    "\n",
    "! name: udr.3\n",
    "! type: F-free\n",
    "! version: omp_4.0\n",
    "program max_loc\n",
    "   implicit none\n",
    "\n",
    "   type :: mx_s\n",
    "      real value\n",
    "      integer index\n",
    "   end type\n",
    "\n",
    "   !$omp declare reduction(maxloc: mx_s: &\n",
    "   !$omp&        mx_combine(omp_out, omp_in)) &\n",
    "   !$omp&        initializer(mx_init(omp_priv, omp_orig))\n",
    "\n",
    "   integer, parameter :: N = 100\n",
    "   type(mx_s) :: mx\n",
    "   real :: val(N), d\n",
    "   integer :: i, count\n",
    "\n",
    "   count = N\n",
    "   do i = 1, count\n",
    "      d = N*0.8 - i + 1\n",
    "      val(i) = N * N - d * d\n",
    "   enddo\n",
    "\n",
    "   mx%value = val(1)\n",
    "   mx%index = 1\n",
    "   !$omp parallel do reduction(maxloc: mx)\n",
    "   do i = 2, count\n",
    "      if (mx%value < val(i)) then\n",
    "         mx%value = val(i)\n",
    "         mx%index = i\n",
    "      endif\n",
    "   enddo\n",
    "\n",
    "   print *, 'max value = ', mx%value, ' index = ', mx%index\n",
    "   ! prints 10000, 81\n",
    "\n",
    " contains\n",
    "\n",
    " subroutine mx_combine(out, in)\n",
    "   implicit none\n",
    "   type(mx_s), intent(inout) :: out\n",
    "   type(mx_s), intent(in) :: in\n",
    "\n",
    "   if ( out%value < in%value ) then\n",
    "      out%value = in%value\n",
    "      out%index = in%index\n",
    "   endif\n",
    " end subroutine mx_combine\n",
    "\n",
    " subroutine mx_init(priv, orig)\n",
    "   implicit none\n",
    "   type(mx_s), intent(out) :: priv\n",
    "   type(mx_s), intent(in) :: orig\n",
    "\n",
    "   priv%value = orig%value\n",
    "   priv%index = orig%index\n",
    " end subroutine mx_init\n",
    "\n",
    "end program\n",
    "\n"
   ]
  },
  {
   "cell_type": "markdown",
   "metadata": {},
   "source": [
    ""
   ]
  },
  {
   "cell_type": "markdown",
   "metadata": {},
   "source": [
    ""
   ]
  },
  {
   "cell_type": "markdown",
   "metadata": {},
   "source": [
    "The following example explains a few details of the user-defined reduction  in Fortran through modules. The `declare` `reduction` directive is declared in a module ( _data_red_ ).  The reduction-identifier  _.add._  is a user-defined operator that is to allow accessibility in the scope that performs the reduction operation. The user-defined operator  _.add._  and the subroutine  _dt_init_  specified in the `initializer` clause are defined in the same subprogram."
   ]
  },
  {
   "cell_type": "markdown",
   "metadata": {},
   "source": [
    "The reduction operation (that is, the `reduction` clause) is in the main program. The reduction identifier  _.add._  is accessible by use association. Since  _.add._  is a user-defined operator, the explicit interface should also be accessible by use association in the current program unit. Since the `declare` `reduction` associated to this `reduction` clause has the `initializer` clause, the subroutine specified on the clause must be accessible in the current scoping unit.  In this case, the subroutine  _dt_init_  is accessible by use association."
   ]
  },
  {
   "cell_type": "markdown",
   "metadata": {},
   "source": [
    ""
   ]
  },
  {
   "cell_type": "code",
   "execution_count": null,
   "metadata": {},
   "outputs": [],
   "source": [
    "\n",
    "! name: udr.4\n",
    "! type: F-free\n",
    "! version: omp_4.0\n",
    "module data_red\n",
    "! Declare data type.\n",
    "  type dt\n",
    "    real :: r1\n",
    "    real :: r2\n",
    "  end type\n",
    "\n",
    "! Declare the user-defined operator .add.\n",
    "  interface operator(.add.)\n",
    "    module procedure addc\n",
    "  end interface\n",
    "\n",
    "! Declare the user-defined reduction operator .add.\n",
    "!$omp declare reduction(.add.:dt:omp_out=omp_out.add.omp_in) &\n",
    "!$omp& initializer(dt_init(omp_priv))\n",
    "\n",
    " contains\n",
    "! Declare the initialization routine.\n",
    "  subroutine dt_init(u)\n",
    "    type(dt) :: u\n",
    "    u%r1 = 0.0\n",
    "    u%r2 = 0.0\n",
    "  end subroutine\n",
    "\n",
    "! Declare the specific procedure for the .add. operator.\n",
    "  function addc(x1, x2) result(xresult)\n",
    "    type(dt), intent(in) :: x1, x2\n",
    "    type(dt) :: xresult\n",
    "    xresult%r1 = x1%r1 + x2%r2\n",
    "    xresult%r2 = x1%r2 + x2%r1\n",
    "  end function\n",
    "\n",
    "end module data_red\n",
    "\n",
    "program main\n",
    "  use data_red, only : dt, dt_init, operator(.add.)\n",
    "\n",
    "  type(dt) :: xdt1, xdt2\n",
    "  integer :: i\n",
    "\n",
    "  xdt1 = dt(1.0,2.0)\n",
    "  xdt2 = dt(2.0,3.0)\n",
    "\n",
    "! The reduction operation\n",
    "!$omp parallel do reduction(.add.: xdt1)\n",
    "  do i = 1, 10\n",
    "    xdt1 = xdt1 .add. xdt2\n",
    "  end do\n",
    "!$omp end parallel do\n",
    "\n",
    "  print *, xdt1\n",
    "\n",
    "end program\n",
    "\n"
   ]
  },
  {
   "cell_type": "markdown",
   "metadata": {},
   "source": [
    ""
   ]
  },
  {
   "cell_type": "markdown",
   "metadata": {},
   "source": [
    ""
   ]
  },
  {
   "cell_type": "markdown",
   "metadata": {},
   "source": [
    "The following example uses user-defined reductions to declare a plus (+) reduction for a C++ class. As the `declare` `reduction` directive is inside the context of the  _V_  class the expressions in the `declare` `reduction` directive are resolved in the context of the class. Also, note that the `initializer` clause uses a copy constructor to initialize the private variables of the reduction and it uses as parameter to its original variable by using the special variable `omp_orig`."
   ]
  },
  {
   "cell_type": "markdown",
   "metadata": {},
   "source": [
    ""
   ]
  },
  {
   "cell_type": "code",
   "execution_count": null,
   "metadata": {},
   "outputs": [],
   "source": [
    "//%compiler: clang\n",
 "//%cflags: -fopenmp\n",
 "\n",
    "/*\n",
    "* name: udr.5\n",
    "* type: C++\n",
    "* version: omp_4.0\n",
    "*/\n",
    "class V {\n",
    "   float *p;\n",
    "   int n;\n",
    "\n",
    "public:\n",
    "   V( int _n )     : n(_n)  { p = new float[n]; }\n",
    "   V( const V& m ) : n(m.n) { p = new float[n]; }\n",
    "   ~V() { delete[] p; }\n",
    "\n",
    "   V& operator+= ( const V& );\n",
    "\n",
    "   #pragma omp declare reduction( + : V : omp_out += omp_in ) \\\n",
    "           initializer(omp_priv(omp_orig))\n",
    "};\n",
    "\n"
   ]
  },
  {
   "cell_type": "markdown",
   "metadata": {},
   "source": [
    ""
   ]
  },
  {
   "cell_type": "markdown",
   "metadata": {},
   "source": [
    "The following examples shows how user-defined reductions can be defined for some STL containers. The first `declare` `reduction` defines the plus (+) operation for  _std::vector<int>_  by making use of the  _std::transform_  algorithm. The second and third define the merge (or concatenation) operation for  _std::vector<int>_  and  _std::list<int>_ .  It shows how the user-defined reduction operation can be applied to specific data types of an STL."
   ]
  },
  {
   "cell_type": "markdown",
   "metadata": {},
   "source": [
    ""
   ]
  },
  {
   "cell_type": "code",
   "execution_count": null,
   "metadata": {},
   "outputs": [],
   "source": [
    "//%compiler: clang\n",
 "//%cflags: -fopenmp\n",
 "\n",
    "/*\n",
    "* name: udr.6\n",
    "* type: C++\n",
    "* version: omp_4.0\n",
    "*/\n",
    "#include <algorithm>\n",
    "#include <list>\n",
    "#include <vector>\n",
    "\n",
    "#pragma omp declare reduction( + : std::vector<int> : \\\n",
    "     std::transform (omp_out.begin(), omp_out.end(),  \\\n",
    "        omp_in.begin(), omp_in.end(),std::plus<int>()))\n",
    "\n",
    "#pragma omp declare reduction( merge : std::vector<int> : \\\n",
    "     omp_out.insert(omp_out.end(), omp_in.begin(), omp_in.end()))\n",
    "\n",
    "#pragma omp declare reduction( merge : std::list<int> : \\\n",
    "     omp_out.merge(omp_in))\n",
    "\n"
   ]
  },
  {
   "cell_type": "markdown",
   "metadata": {},
   "source": [
    ""
   ]
  },
  {
   "cell_type": "markdown",
   "metadata": {},
   "source": [
    "../../data_environment/udr.tex"
   ]
  },
  {
   "cell_type": "markdown",
   "metadata": {},
   "source": [
    ""
   ]
  },
  {
   "cell_type": "markdown",
   "metadata": {},
   "source": [
    "## `scan` Directive"
   ]
  },
  {
   "cell_type": "markdown",
   "metadata": {},
   "source": [
    "\index{directives!scan@`scan`} \index{scan directive@`scan` directive} \index{reduction clause@`reduction` clause!inscan modifier@`inscan` modifier} \index{inscan modifier@`inscan` modifier}"
   ]
  },
  {
   "cell_type": "markdown",
   "metadata": {},
   "source": [
    "The following examples illustrate how to parallelize a loop that saves  the **prefix sum** of a reduction. This is accomplished by using  the `inscan` modifier in the `reduction` clause for the input  variable of the scan, and specifying with a `scan` directive whether  the storage statement includes or excludes the scan input of the present  iteration ( **k** )."
   ]
  },
  {
   "cell_type": "markdown",
   "metadata": {},
   "source": [
    "\index{scan directive@`scan` directive!inclusive clause@`inclusive` clause} \index{scan directive@`scan` directive!exclusive clause@`exclusive` clause} \index{clauses!inclusive@`inclusive`} \index{inclusive clause@`inclusive` clause} \index{clauses!exclusive@`exclusive`} \index{exclusive clause@`exclusive` clause} Basically, the `inscan` modifier connects a loop and/or SIMD reduction to  the scan operation, and a `scan` construct with an `inclusive` or  `exclusive` clause specifies whether the \"scan phase'' (lexical block  before and after the directive, respectively) is to use an  _inclusive_  or   _exclusive_  scan value for the list item ( **x** )."
   ]
  },
  {
   "cell_type": "markdown",
   "metadata": {},
   "source": [
    "The first example uses the  _inclusive_  scan operation on a composite loop-SIMD construct. The `scan` directive separates the reduction  statement on variable  **x**  from the use of  **x**  (saving to array  **b** ). The order of the statements in this example indicates that value  **a[k]**  ( **a(k)**  in Fortran) is included in the computation of  the prefix sum  **b[k]**  ( **b(k)**  in Fortran) for iteration  **k** ."
   ]
  },
  {
   "cell_type": "markdown",
   "metadata": {},
   "source": [
    ""
   ]
  },
  {
   "cell_type": "code",
   "execution_count": null,
   "metadata": {},
   "outputs": [],
   "source": [
    "//%compiler: clang\n",
 "//%cflags: -fopenmp\n",
 "\n",
    "/*\n",
    "* name:       scan.1\n",
    "* type:       C\n",
    "* version: omp_5.0\n",
    "*/\n",
    "#include <stdio.h>\n",
    "#define N 100\n",
    "\n",
    "int main(void)\n",
    "{\n",
    "   int a[N], b[N];\n",
    "   int x = 0;\n",
    "\n",
    "   // initialization\n",
    "   for (int k = 0; k < N; k++)\n",
    "      a[k] = k + 1;\n",
    "\n",
    "   // a[k] is included in the computation of producing results in b[k]\n",
    "   #pragma omp parallel for simd reduction(inscan,+: x)\n",
    "   for (int k = 0; k < N; k++) {\n",
    "      x += a[k];\n",
    "      #pragma omp scan inclusive(x)\n",
    "      b[k] = x;\n",
    "   }\n",
    "\n",
    "   printf(\"x = %d, b[0:3] = %d %d %d\\n\", x, b[0], b[1], b[2]);\n",
    "   //           5050,        1  3  6\n",
    "\n",
    "   return 0;\n",
    "}\n",
    "\n"
   ]
  },
  {
   "cell_type": "markdown",
   "metadata": {},
   "source": [
    ""
   ]
  },
  {
   "cell_type": "markdown",
   "metadata": {},
   "source": [
    ""
   ]
  },
  {
   "cell_type": "code",
   "execution_count": null,
   "metadata": {},
   "outputs": [],
   "source": [
    "\n",
    "! name:       scan.1\n",
    "! type:       F-free\n",
    "! version: omp_5.0\n",
    "program inclusive_scan\n",
    "   implicit none\n",
    "   integer, parameter :: n = 100\n",
    "   integer a(n), b(n)\n",
    "   integer x, k\n",
    "\n",
    "   ! initialization\n",
    "   x = 0\n",
    "   do k = 1, n\n",
    "      a(k) = k\n",
    "   end do\n",
    "\n",
    "   ! a(k) is included in the computation of producing results in b(k)\n",
    "   !$omp parallel do simd reduction(inscan,+: x)\n",
    "   do k = 1, n\n",
    "      x = x + a(k)\n",
    "      !$omp scan inclusive(x)\n",
    "      b(k) = x\n",
    "   end do\n",
    "\n",
    "   print *,'x =', x, ', b(1:3) =', b(1:3)\n",
    "   !           5050,            1  3  6\n",
    "\n",
    "end program\n",
    "\n"
   ]
  },
  {
   "cell_type": "markdown",
   "metadata": {},
   "source": [
    ""
   ]
  },
  {
   "cell_type": "markdown",
   "metadata": {},
   "source": [
    "The second example uses the  _exclusive_  scan operation on a composite loop-SIMD construct. The `scan` directive separates the use of  **x**   (saving to array  **b** ) from the reduction statement on variable  **x** . The order of the statements in this example indicates that value  **a[k]**  ( **a(k)**  in Fortran) is excluded from the computation  of the prefix sum  **b[k]**  ( **b(k)**  in Fortran) for iteration  **k** ."
   ]
  },
  {
   "cell_type": "markdown",
   "metadata": {},
   "source": [
    ""
   ]
  },
  {
   "cell_type": "code",
   "execution_count": null,
   "metadata": {},
   "outputs": [],
   "source": [
    "//%compiler: clang\n",
 "//%cflags: -fopenmp\n",
 "\n",
    "/*\n",
    "* name:       scan.2\n",
    "* type:       C\n",
    "* version: omp_5.0\n",
    "*/\n",
    "#include <stdio.h>\n",
    "#define N 100\n",
    "\n",
    "int main(void)\n",
    "{\n",
    "   int a[N], b[N];\n",
    "   int x = 0;\n",
    "\n",
    "   // initialization\n",
    "   for (int k = 0; k < N; k++)\n",
    "      a[k] = k + 1;\n",
    "\n",
    "   // a[k] is not included in the computation of producing\n",
    "   // results in b[k]\n",
    "   #pragma omp parallel for simd reduction(inscan,+: x)\n",
    "   for (int k = 0; k < N; k++) {\n",
    "      b[k] = x;\n",
    "      #pragma omp scan exclusive(x)\n",
    "      x += a[k];\n",
    "   }\n",
    "\n",
    "   printf(\"x = %d, b[0:3] = %d %d %d\\n\", x, b[0], b[1], b[2]);\n",
    "   //           5050,        0  1  3\n",
    "\n",
    "   return 0;\n",
    "}\n",
    "\n"
   ]
  },
  {
   "cell_type": "markdown",
   "metadata": {},
   "source": [
    ""
   ]
  },
  {
   "cell_type": "markdown",
   "metadata": {},
   "source": [
    ""
   ]
  },
  {
   "cell_type": "code",
   "execution_count": null,
   "metadata": {},
   "outputs": [],
   "source": [
    "\n",
    "! name:       scan.2\n",
    "! type:       F-free\n",
    "! version: omp_5.0\n",
    "program exclusive_scan\n",
    "   implicit none\n",
    "   integer, parameter :: n = 100\n",
    "   integer a(n), b(n)\n",
    "   integer x, k\n",
    "\n",
    "   ! initialization\n",
    "   x = 0\n",
    "   do k = 1, n\n",
    "      a(k) = k\n",
    "   end do\n",
    "\n",
    "   ! a(k) is not included in the computation of producing results in b(k)\n",
    "   !$omp parallel do simd reduction(inscan,+: x)\n",
    "   do k = 1, n\n",
    "      b(k) = x\n",
    "      !$omp scan exclusive(x)\n",
    "      x = x + a(k)\n",
    "   end do\n",
    "\n",
    "   print *,'x =', x, ', b(1:3) =', b(1:3)\n",
    "   !           5050,            0  1  3\n",
    "\n",
    "end program\n",
    "\n"
   ]
  },
  {
   "cell_type": "markdown",
   "metadata": {},
   "source": [
    "../../data_environment/scan.tex"
   ]
  },
  {
   "cell_type": "markdown",
   "metadata": {},
   "source": [
    ""
   ]
  },
  {
   "cell_type": "markdown",
   "metadata": {},
   "source": [
    "## `copyin` Clause"
   ]
  },
  {
   "cell_type": "markdown",
   "metadata": {},
   "source": [
    "\index{clauses!copyin@`copyin`} \index{copyin clause@`copyin` clause} \index{directives!threadprivate@`threadprivate`} \index{threadprivate directive@`threadprivate` directive}"
   ]
  },
  {
   "cell_type": "markdown",
   "metadata": {},
   "source": [
    "The `copyin` clause is used to initialize threadprivate data upon entry  to a `parallel` region. The value of the threadprivate variable in the primary thread is copied to the threadprivate variable of each other team member."
   ]
  },
  {
   "cell_type": "markdown",
   "metadata": {},
   "source": [
    ""
   ]
  },
  {
   "cell_type": "code",
   "execution_count": null,
   "metadata": {},
   "outputs": [],
   "source": [
    "//%compiler: clang\n",
 "//%cflags: -fopenmp\n",
 "\n",
    "/*\n",
    "* name: copyin.1\n",
    "* type: C\n",
    "*/\n",
    "#include <stdlib.h>\n",
    "\n",
    "float* work;\n",
    "int size;\n",
    "float tol;\n",
    "\n",
    "#pragma omp threadprivate(work,size,tol)\n",
    "\n",
    "void build()\n",
    "{\n",
    "  int i;\n",
    "  work = (float*)malloc( sizeof(float)*size );\n",
    "  for( i = 0; i < size; ++i ) work[i] = tol;\n",
    "}\n",
    "\n",
    "void copyin_example( float t, int n )\n",
    "{\n",
    "  tol = t;\n",
    "  size = n;\n",
    "  #pragma omp parallel copyin(tol,size)\n",
    "  {\n",
    "    build();\n",
    "  }\n",
    "}\n",
    "\n"
   ]
  },
  {
   "cell_type": "markdown",
   "metadata": {},
   "source": [
    ""
   ]
  },
  {
   "cell_type": "markdown",
   "metadata": {},
   "source": [
    ""
   ]
  },
  {
   "cell_type": "code",
   "execution_count": null,
   "metadata": {},
   "outputs": [],
   "source": [
    "\n",
    "! name: copyin.1\n",
    "! type: F-fixed\n",
    "      MODULE M\n",
    "        REAL, POINTER, SAVE :: WORK(:)\n",
    "        INTEGER :: SIZE\n",
    "        REAL :: TOL\n",
    "!$OMP   THREADPRIVATE(WORK,SIZE,TOL)\n",
    "      END MODULE M\n",
    "\n",
    "      SUBROUTINE COPYIN_EXAMPLE( T, N )\n",
    "        USE M\n",
    "        REAL :: T\n",
    "        INTEGER :: N\n",
    "        TOL = T\n",
    "        SIZE = N\n",
    "!$OMP   PARALLEL COPYIN(TOL,SIZE)\n",
    "        CALL BUILD\n",
    "!$OMP   END PARALLEL\n",
    "      END SUBROUTINE COPYIN_EXAMPLE\n",
    "\n",
    "      SUBROUTINE BUILD\n",
    "        USE M\n",
    "        ALLOCATE(WORK(SIZE))\n",
    "        WORK = TOL\n",
    "      END SUBROUTINE BUILD\n",
    "\n"
   ]
  },
  {
   "cell_type": "markdown",
   "metadata": {},
   "source": [
    ""
   ]
  },
  {
   "cell_type": "markdown",
   "metadata": {},
   "source": [
    ""
   ]
  },
  {
   "cell_type": "markdown",
   "metadata": {},
   "source": [
    "../../data_environment/copyin.tex"
   ]
  },
  {
   "cell_type": "markdown",
   "metadata": {},
   "source": [
    ""
   ]
  },
  {
   "cell_type": "markdown",
   "metadata": {},
   "source": [
    "## `copyprivate` Clause"
   ]
  },
  {
   "cell_type": "markdown",
   "metadata": {},
   "source": [
    "\index{clauses!copyprivate@`copyprivate`} \index{copyprivate clause@`copyprivate` clause}"
   ]
  },
  {
   "cell_type": "markdown",
   "metadata": {},
   "source": [
    "The `copyprivate` clause can be used to broadcast values acquired by a single  thread directly to all instances of the private variables in the other threads.  In this example, if the routine is called from the sequential part, its behavior  is not affected by the presence of the directives. If it is called from a `parallel`  region, then the actual arguments with which `a` and `b` are associated  must be private."
   ]
  },
  {
   "cell_type": "markdown",
   "metadata": {},
   "source": [
    "\index{constructs!single@`single`} \index{single construct@`single` construct} The thread that executes the structured block associated with the `single`   construct broadcasts the values of the private variables `a`, `b`,  `x`, and  `y` from its implicit task's data environment to the data environments  of the other implicit tasks in the thread team. The broadcast completes before  any of the threads have left the barrier at the end of the construct."
   ]
  },
  {
   "cell_type": "markdown",
   "metadata": {},
   "source": [
    ""
   ]
  },
  {
   "cell_type": "code",
   "execution_count": null,
   "metadata": {},
   "outputs": [],
   "source": [
    "//%compiler: clang\n",
 "//%cflags: -fopenmp\n",
 "\n",
    "/*\n",
    "* name: copyprivate.1\n",
    "* type: C\n",
    "*/\n",
    "#include <stdio.h>\n",
    "float x, y;\n",
    "#pragma omp threadprivate(x, y)\n",
    "\n",
    "void init(float a, float b ) {\n",
    "    #pragma omp single copyprivate(a,b,x,y)\n",
    "    {\n",
    "        scanf(\"%f %f %f %f\", &a, &b, &x, &y);\n",
    "    }\n",
    "}\n",
    "\n"
   ]
  },
  {
   "cell_type": "markdown",
   "metadata": {},
   "source": [
    ""
   ]
  },
  {
   "cell_type": "markdown",
   "metadata": {},
   "source": [
    ""
   ]
  },
  {
   "cell_type": "code",
   "execution_count": null,
   "metadata": {},
   "outputs": [],
   "source": [
    "\n",
    "! name: copyprivate.1\n",
    "! type: F-fixed\n",
    "      SUBROUTINE INIT(A,B)\n",
    "      REAL A, B\n",
    "        COMMON /XY/ X,Y\n",
    "!$OMP   THREADPRIVATE (/XY/)\n",
    "\n",
    "!$OMP   SINGLE\n",
    "          READ (11) A,B,X,Y\n",
    "!$OMP   END SINGLE COPYPRIVATE (A,B,/XY/)\n",
    "\n",
    "      END SUBROUTINE INIT\n",
    "\n"
   ]
  },
  {
   "cell_type": "markdown",
   "metadata": {},
   "source": [
    ""
   ]
  },
  {
   "cell_type": "markdown",
   "metadata": {},
   "source": [
    "\index{constructs!masked@`masked`} \index{masked construct@`masked` construct} In this example, assume that the input must be performed by the primary thread.  Since the `masked` construct does not support the `copyprivate` clause,  it cannot broadcast the input value that is read. However, `copyprivate`  is used to broadcast an address where the input value is stored."
   ]
  },
  {
   "cell_type": "markdown",
   "metadata": {},
   "source": [
    ""
   ]
  },
  {
   "cell_type": "code",
   "execution_count": null,
   "metadata": {},
   "outputs": [],
   "source": [
    "//%compiler: clang\n",
 "//%cflags: -fopenmp\n",
 "\n",
    "/*\n",
    "* name: copyprivate.2\n",
    "* type: C\n",
    "* version:    omp_5.1\n",
    "*/\n",
    "#include <stdio.h>\n",
    "#include <stdlib.h>\n",
    "\n",
    "float read_next( ) {\n",
    "  float * tmp;\n",
    "  float return_val;\n",
    "\n",
    "  #pragma omp single copyprivate(tmp)\n",
    "  {\n",
    "    tmp = (float *) malloc(sizeof(float));\n",
    "  }  /* copies the pointer only */\n",
    "\n",
    "\n",
    "  #pragma omp masked\n",
    "  {\n",
    "    scanf(\"%f\", tmp);\n",
    "  }\n",
    "\n",
    "  #pragma omp barrier\n",
    "  return_val = *tmp;\n",
    "  #pragma omp barrier\n",
    "\n",
    "  #pragma omp single nowait\n",
    "  {\n",
    "    free(tmp);\n",
    "  }\n",
    "\n",
    "  return return_val;\n",
    "}\n",
    "\n"
   ]
  },
  {
   "cell_type": "markdown",
   "metadata": {},
   "source": [
    ""
   ]
  },
  {
   "cell_type": "markdown",
   "metadata": {},
   "source": [
    ""
   ]
  },
  {
   "cell_type": "code",
   "execution_count": null,
   "metadata": {},
   "outputs": [],
   "source": [
    "\n",
    "! name: copyprivate.2\n",
    "! type: F-fixed\n",
    "! version:    omp_5.1\n",
    "        REAL FUNCTION READ_NEXT()\n",
    "        REAL, POINTER :: TMP\n",
    "\n",
    "!$OMP   SINGLE\n",
    "          ALLOCATE (TMP)\n",
    "!$OMP   END SINGLE COPYPRIVATE (TMP)  ! copies the pointer only\n",
    "\n",
    "!$OMP   MASKED\n",
    "          READ (11) TMP\n",
    "!$OMP   END MASKED\n",
    "\n",
    "!$OMP   BARRIER\n",
    "          READ_NEXT = TMP\n",
    "!$OMP   BARRIER\n",
    "\n",
    "!$OMP   SINGLE\n",
    "          DEALLOCATE (TMP)\n",
    "!$OMP   END SINGLE NOWAIT\n",
    "        END FUNCTION READ_NEXT\n",
    "\n"
   ]
  },
  {
   "cell_type": "markdown",
   "metadata": {},
   "source": [
    ""
   ]
  },
  {
   "cell_type": "markdown",
   "metadata": {},
   "source": [
    "Suppose that the number of lock variables required within a `parallel` region  cannot easily be determined prior to entering it. The `copyprivate` clause  can be used to provide access to shared lock variables that are allocated within  that `parallel` region."
   ]
  },
  {
   "cell_type": "markdown",
   "metadata": {},
   "source": [
    ""
   ]
  },
  {
   "cell_type": "code",
   "execution_count": null,
   "metadata": {},
   "outputs": [],
   "source": [
    "//%compiler: clang\n",
 "//%cflags: -fopenmp\n",
 "\n",
    "/*\n",
    "* name: copyprivate.3\n",
    "* type: C\n",
    "*/\n",
    "#include <stdio.h>\n",
    "#include <stdlib.h>\n",
    "#include <omp.h>\n",
    "\n",
    "omp_lock_t *new_lock()\n",
    "{\n",
    "  omp_lock_t *lock_ptr;\n",
    "\n",
    "  #pragma omp single copyprivate(lock_ptr)\n",
    "  {\n",
    "    lock_ptr = (omp_lock_t *) malloc(sizeof(omp_lock_t));\n",
    "    omp_init_lock( lock_ptr );\n",
    "  }\n",
    "\n",
    "  return lock_ptr;\n",
    "}\n",
    "\n"
   ]
  },
  {
   "cell_type": "markdown",
   "metadata": {},
   "source": [
    ""
   ]
  },
  {
   "cell_type": "markdown",
   "metadata": {},
   "source": [
    ""
   ]
  },
  {
   "cell_type": "code",
   "execution_count": null,
   "metadata": {},
   "outputs": [],
   "source": [
    "\n",
    "! name: copyprivate.3\n",
    "! type: F-fixed\n",
    "      FUNCTION NEW_LOCK()\n",
    "      USE OMP_LIB       ! or INCLUDE \"omp_lib.h\"\n",
    "        INTEGER(OMP_LOCK_KIND), POINTER :: NEW_LOCK\n",
    "\n",
    "!$OMP   SINGLE\n",
    "          ALLOCATE(NEW_LOCK)\n",
    "          CALL OMP_INIT_LOCK(NEW_LOCK)\n",
    "!$OMP   END SINGLE COPYPRIVATE(NEW_LOCK)\n",
    "      END FUNCTION NEW_LOCK\n",
    "\n"
   ]
  },
  {
   "cell_type": "markdown",
   "metadata": {},
   "source": [
    ""
   ]
  },
  {
   "cell_type": "markdown",
   "metadata": {},
   "source": [
    "Note that the effect of the `copyprivate` clause on a variable with the  `allocatable` attribute is different than on a variable with the `pointer`  attribute. The value of `A` is copied (as if by intrinsic assignment) and  the pointer `B` is copied (as if by pointer assignment) to the corresponding  list items in the other implicit tasks belonging to the `parallel` region."
   ]
  },
  {
   "cell_type": "markdown",
   "metadata": {},
   "source": [
    ""
   ]
  },
  {
   "cell_type": "code",
   "execution_count": null,
   "metadata": {},
   "outputs": [],
   "source": [
    "\n",
    "! name: copyprivate.4\n",
    "! type: F-fixed\n",
    "      SUBROUTINE S(N)\n",
    "      INTEGER N\n",
    "\n",
    "        REAL, DIMENSION(:), ALLOCATABLE :: A\n",
    "        REAL, DIMENSION(:), POINTER :: B\n",
    "\n",
    "        ALLOCATE (A(N))\n",
    "!$OMP   SINGLE\n",
    "          ALLOCATE (B(N))\n",
    "          READ (11) A,B\n",
    "!$OMP   END SINGLE COPYPRIVATE(A,B)\n",
    "        ! Variable A is private and is\n",
    "        ! assigned the same value in each thread\n",
    "        ! Variable B is shared\n",
    "\n",
    "!$OMP   BARRIER\n",
    "!$OMP   SINGLE\n",
    "          DEALLOCATE (B)\n",
    "!$OMP   END SINGLE NOWAIT\n",
    "      END SUBROUTINE S\n",
    "\n"
   ]
  },
  {
   "cell_type": "markdown",
   "metadata": {},
   "source": [
    ""
   ]
  },
  {
   "cell_type": "markdown",
   "metadata": {},
   "source": [
    ""
   ]
  },
  {
   "cell_type": "markdown",
   "metadata": {},
   "source": [
    "../../data_environment/copyprivate.tex"
   ]
  },
  {
   "cell_type": "markdown",
   "metadata": {},
   "source": [
    ""
   ]
  },
  {
   "cell_type": "markdown",
   "metadata": {},
   "source": [
    "## C++ Reference in Data-Sharing Clauses"
   ]
  },
  {
   "cell_type": "markdown",
   "metadata": {},
   "source": [
    "\index{clauses!data-sharing, C++ reference in} \index{data-sharing clauses, C++ reference in}"
   ]
  },
  {
   "cell_type": "markdown",
   "metadata": {},
   "source": [
    "C++ reference types are allowed in data-sharing attribute clauses as of OpenMP 4.5, except for the `threadprivate`, `copyin` and `copyprivate` clauses.   (See the Data-Sharing Attribute Clauses Section of the 4.5 OpenMP specification.) When a variable with C++ reference type is privatized, the object the reference refers to is privatized in addition to the reference itself. The following example shows the use of reference types in data-sharing clauses in the usual way. Additionally it shows how the data-sharing of formal arguments with a C++ reference type on an orphaned task generating construct is determined implicitly. (See the Data-sharing Attribute Rules for Variables Referenced in a Construct Section of the 4.5 OpenMP specification.)"
   ]
  },
  {
   "cell_type": "markdown",
   "metadata": {},
   "source": [
    ""
   ]
  },
  {
   "cell_type": "markdown",
   "metadata": {},
   "source": [
    ""
   ]
  },
  {
   "cell_type": "code",
   "execution_count": null,
   "metadata": {},
   "outputs": [],
   "source": [
    "//%compiler: clang\n",
 "//%cflags: -fopenmp\n",
 "\n",
    "/*\n",
    "* name: cpp_reference.1\n",
    "* type: C++\n",
    "* version: omp_4.5\n",
    "*/\n",
    "\n",
    "void task_body (int &);\n",
    "void gen_task (int &x) { // on orphaned task construct reference argument\n",
    "  #pragma omp task // x is implicitly determined firstprivate(x)\n",
    "  task_body (x);\n",
    "}\n",
    "void test (int &y, int &z) {\n",
    "  #pragma omp parallel private(y)\n",
    "  {\n",
    "    y = z + 2;\n",
    "    gen_task (y); // no matter if the argument is determined private\n",
    "    gen_task (z); // or shared in the enclosing context.\n",
    "\n",
    "    y++;          // each thread has its own int object y refers to\n",
    "    gen_task (y);\n",
    "  }\n",
    "}\n",
    "\n",
    "\n"
   ]
  },
  {
   "cell_type": "markdown",
   "metadata": {},
   "source": [
    "../../data_environment/cpp_reference.tex"
   ]
  },
  {
   "cell_type": "markdown",
   "metadata": {},
   "source": [
    ""
   ]
  },
  {
   "cell_type": "markdown",
   "metadata": {},
   "source": [
    "## Fortran `ASSOCIATE` Construct"
   ]
  },
  {
   "cell_type": "markdown",
   "metadata": {},
   "source": [
    "\index{ASSOCIATE construct, Fortran@`ASSOCIATE` construct, Fortran}"
   ]
  },
  {
   "cell_type": "markdown",
   "metadata": {},
   "source": [
    "The following is an invalid example of specifying an associate name on a data-sharing attribute  clause. The constraint in the Data Sharing Attribute Rules section in the OpenMP  4.0 API Specifications states that an associate name preserves the association  with the selector established at the `ASSOCIATE` statement. The associate  name  _b_  is associated with the shared variable  _a_ . With the predetermined data-sharing  attribute rule, the associate name  _b_  is not allowed to be specified on the `private`  clause."
   ]
  },
  {
   "cell_type": "markdown",
   "metadata": {},
   "source": [
    ""
   ]
  },
  {
   "cell_type": "code",
   "execution_count": null,
   "metadata": {},
   "outputs": [],
   "source": [
    "\n",
    "! name: associate.1\n",
    "! type: F-fixed\n",
    "! version: omp_4.0\n",
    "      program example_broken\n",
    "      real :: a, c\n",
    "      associate (b => a)\n",
    "!$omp parallel private(b, c)        ! invalid to privatize b\n",
    "      c = 2.0*b\n",
    "!$omp end parallel\n",
    "      end associate\n",
    "      end program\n",
    "\n"
   ]
  },
  {
   "cell_type": "markdown",
   "metadata": {},
   "source": [
    ""
   ]
  },
  {
   "cell_type": "markdown",
   "metadata": {},
   "source": [
    "In next example, within the `parallel` construct, the association name  _thread_id_   is associated with the private copy of  _i_ . The print statement should output the  unique thread number."
   ]
  },
  {
   "cell_type": "markdown",
   "metadata": {},
   "source": [
    ""
   ]
  },
  {
   "cell_type": "code",
   "execution_count": null,
   "metadata": {},
   "outputs": [],
   "source": [
    "\n",
    "! name: associate.2\n",
    "! type: F-fixed\n",
    "! version: omp_4.0\n",
    "      program example\n",
    "      use omp_lib\n",
    "      integer  i\n",
    "!$omp parallel private(i)\n",
    "      i = omp_get_thread_num()\n",
    "      associate(thread_id => i)\n",
    "        print *, thread_id       ! print private i value\n",
    "      end associate\n",
    "!$omp end parallel\n",
    "      end program\n",
    "\n"
   ]
  },
  {
   "cell_type": "markdown",
   "metadata": {},
   "source": [
    ""
   ]
  },
  {
   "cell_type": "markdown",
   "metadata": {},
   "source": [
    "The following example illustrates the effect of specifying a selector name on a data-sharing  attribute clause. The associate name  _u_  is associated with  _v_  and the variable  _v_   is specified on the `private` clause of the `parallel` construct.  The construct association is established prior to the `parallel` region.  The association between  _u_  and the original  _v_  is retained (see the Data Sharing  Attribute Rules section in the OpenMP 4.0 API Specifications). Inside the `parallel`  region,  _v_  has the value of -1 and  _u_  has the value of the original  _v_ ."
   ]
  },
  {
   "cell_type": "markdown",
   "metadata": {},
   "source": [
    ""
   ]
  },
  {
   "cell_type": "code",
   "execution_count": null,
   "metadata": {},
   "outputs": [],
   "source": [
    "\n",
    "! name: associate.3\n",
    "! type: F-free\n",
    "! version: omp_4.0\n",
    "program example\n",
    "  integer :: v\n",
    "  v = 15\n",
    "associate(u => v)\n",
    "!$omp parallel private(v)\n",
    "  v = -1\n",
    "  print *, v               ! private v=-1\n",
    "  print *, u               ! original v=15\n",
    "!$omp end parallel\n",
    "end associate\n",
    "end program\n",
    "\n"
   ]
  },
  {
   "cell_type": "markdown",
   "metadata": {},
   "source": [
    ""
   ]
  },
  {
   "cell_type": "markdown",
   "metadata": {},
   "source": [
    ""
   ]
  },
  {
   "cell_type": "markdown",
   "metadata": {},
   "source": [
    ""
   ]
  },
  {
   "cell_type": "markdown",
   "metadata": {},
   "source": [
    ""
   ]
  },
  {
   "cell_type": "markdown",
   "metadata": {},
   "source": [
    "The following example illustrates mapping behavior for a Fortran associate name and its selector for a \scode{target} construct."
   ]
  },
  {
   "cell_type": "markdown",
   "metadata": {},
   "source": [
    "For the first 3 \scode{target} constructs the associate name \splc{a_aray} is associated with the selector \splc{aray}, an array.   For the \scode{target} construct of code block TARGET 1 just the selector \splc{aray} is used and is implicitly mapped, likewise for the associate name \splc{a_aray} in the TARGET 2 block.   However, mapping an associate name and its selector is not valid for the same \scode{target} construct.  Hence the TARGET 3 block is non-conforming."
   ]
  },
  {
   "cell_type": "markdown",
   "metadata": {},
   "source": [
    ""
   ]
  },
  {
   "cell_type": "markdown",
   "metadata": {},
   "source": [
    "In TARGET 4, the \splc{scalr} selector used in the \scode{target} region  has an implicit data-sharing attribute of firstprivate since it is a scalar. Hence, the assigned value is not returned. In TARGET 5, the associate name \splc{a_scalr} is implicitly mapped and the assigned value is returned to the host (default \scode{tofrom} mapping behavior). In TARGET 6, the use of the associate name and its selector in the \scode{target} region is conforming because the scalar firstprivate behavior of the selector  and the implicit mapping of the associate name are allowed.   At the end of the \scode{target} region only the  associate name's value is returned to the host.  In TARGET 7, the selector and associate name appear in an explicit mapping for the same \scode{target} construct,  hence the code block is non-conforming."
   ]
  },
  {
   "cell_type": "markdown",
   "metadata": {},
   "source": [
    ""
   ]
  },
  {
   "cell_type": "code",
   "execution_count": null,
   "metadata": {},
   "outputs": [],
   "source": [
    "\n",
    "! name: associate.4\n",
    "! type: F-free\n",
    "! version: omp_5.1\n",
    "program main\n",
    "  integer :: scalr, aray(3)\n",
    "  scalr = -1 ; aray = -1\n",
    "\n",
    "  associate(a_scalr=>scalr, a_aray=>aray)\n",
    "\n",
    " !$omp target            !! TARGET 1\n",
    "    aray = [1,2,3]\n",
    "  !$omp end target\n",
    "  print *, a_aray, aray  !!  1 2 3   1 2 3\n",
    "\n",
    "  !$omp target           !! TARGET 2\n",
    "    a_aray = [4,5,6]\n",
    "  !$omp end target\n",
    "  print *, a_aray, aray  !! 4 5 6   4 5 6\n",
    "\n",
    "!!!$omp target           !! TARGET 3\n",
    "!!                       !! mapping, in this case implicit,\n",
    "!!                       !! of aray AND a_aray NOT ALLOWED\n",
    "!!    aray = [4,5,6]\n",
    "!!  a_aray = [1,2,3]\n",
    "!!!$omp end target\n",
    "\n",
    "\n",
    "  !$omp target              !! TARGET 4\n",
    "    scalr = 1               !! scalr is firstprivate\n",
    "  !$omp end target\n",
    "  print *, a_scalr, scalr   !! -1  -1\n",
    "\n",
    "  !$omp target              !! TARGET 5\n",
    "    a_scalr = 2             !! a_scalr implicitly mapped\n",
    "  !$omp end target\n",
    "  print *, a_scalr, scalr   !!  2   2\n",
    "\n",
    "  !$omp target              !! TARGET 6\n",
    "    scalr = 3               !!          scalr is firstprivate\n",
    "    print *, a_scalr, scalr !!  2   3\n",
    "    a_scalr = 4             !!          a_scalr implicitly mapped\n",
    "    print *, a_scalr, scalr !!  4   3\n",
    "  !$omp end target\n",
    "  print *, a_scalr, scalr   !!  4   4\n",
    "\n",
    "!!!$omp target map(a_scalr,scalr)  !! TARGET 7\n",
    "                                   !! mapping, in this case explicit,\n",
    "                                   !! of scalr AND a_sclar NOT ALLOWED\n",
    "!!    scalr = 5\n",
    "!!  a_scalr = 5\n",
    "!!!$omp end target\n",
    "\n",
    "  end associate\n",
    "\n",
    "end program\n",
    "\n"
   ]
  },
  {
   "cell_type": "markdown",
   "metadata": {},
   "source": [
    ""
   ]
  },
  {
   "cell_type": "markdown",
   "metadata": {},
   "source": [
    "../../data_environment/associate.tex"
   ]
  },
  {
   "cell_type": "markdown",
   "metadata": {},
   "source": [
    ""
   ]
  }
 ],
 "metadata": {
  "kernelspec": {
   "display_name": "Native",
   "language": "native",
   "name": "native"
  },
  "language_info": {
   "file_extension": ".c",
   "mimetype": "text/plain",
   "name": "none"
  }
 },
 "nbformat": 4,
 "nbformat_minor": 2
}