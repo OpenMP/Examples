{
 "cells": [
  {
   "cell_type": "markdown",
   "metadata": {},
   "source": [
    ""
   ]
  },
  {
   "cell_type": "markdown",
   "metadata": {},
   "source": [
    "# Tasking"
   ]
  },
  {
   "cell_type": "markdown",
   "metadata": {},
   "source": [
    "{tasking}"
   ]
  },
  {
   "cell_type": "markdown",
   "metadata": {},
   "source": [
    "Tasking constructs provide units of work to a thread for execution.   Worksharing constructs do this, too (e.g. `for`, `do`,  `sections`, and `singles` constructs);  but the work units are tightly controlled by an iteration limit and limited  scheduling, or a limited number of `sections` or `single` regions.  Worksharing was designed  with  **\"** data parallel **\"**  computing in mind.  Tasking was designed for   **\"** task parallel **\"**  computing and often involves non-locality or irregularity  in memory access."
   ]
  },
  {
   "cell_type": "markdown",
   "metadata": {},
   "source": [
    "The `task` construct can be used to execute work chunks: in a while loop;  while traversing nodes in a list; at nodes in a tree graph;  or in a normal loop (with a `taskloop` construct).   Unlike the statically scheduled loop iterations of worksharing, a task is  often enqueued, and then dequeued for execution by any of the threads of the team within a parallel region. The generation of tasks can be from a single  generating thread (creating sibling tasks), or from multiple generators in a recursive graph tree traversals.  A `taskloop` construct bundles iterations of an associated loop into tasks, and provides  similar controls found in the `task` construct."
   ]
  },
  {
   "cell_type": "markdown",
   "metadata": {},
   "source": [
    "Sibling tasks are synchronized by the `taskwait` construct, and tasks and their descendent tasks can be synchronized by containing them in a `taskgroup` region.  Ordered execution is accomplished by specifying dependences with a `depend` clause. Also, priorities can be specified as hints to the scheduler through a `priority` clause."
   ]
  },
  {
   "cell_type": "markdown",
   "metadata": {},
   "source": [
    "Various clauses can be used to manage and optimize task generation, as well as reduce the overhead of execution and to relinquish  control of threads for work balance and forward progress."
   ]
  },
  {
   "cell_type": "markdown",
   "metadata": {},
   "source": [
    "Once a thread starts executing a task, it is the designated thread  for executing the task to completion, even though it may leave the execution at a scheduling point and return later.  The thread is tied to the task.  Scheduling points can be introduced with the `taskyield` construct.  With an `untied` clause any other thread is allowed to continue the task.  An `if` clause with an expression that evaluates to  _false_   results in an **undeferred** task, which instructs the runtime to suspend the generating task until the undeferred task completes its execution. By including the data environment of the generating task into the generated task with the  `mergeable` and `final` clauses, task generation overhead can be reduced."
   ]
  },
  {
   "cell_type": "markdown",
   "metadata": {},
   "source": [
    "A complete list of the tasking constructs and details of their clauses can be found in the  _Tasking Constructs_  chapter of the OpenMP Specifications, in the  _OpenMP Application Programming Interface_  section."
   ]
  },
  {
   "cell_type": "markdown",
   "metadata": {},
   "source": [
    ""
   ]
  },
  {
   "cell_type": "markdown",
   "metadata": {},
   "source": [
    ""
   ]
  },
  {
   "cell_type": "markdown",
   "metadata": {},
   "source": [
    ""
   ]
  },
  {
   "cell_type": "markdown",
   "metadata": {},
   "source": [
    "## `task` and `taskwait` Constructs"
   ]
  },
  {
   "cell_type": "markdown",
   "metadata": {},
   "source": [
    "\index{constructs!task@`task`} \index{task construct@`task` construct} \index{constructs!taskwait@`taskwait`} \index{taskwait construct@`taskwait` construct}"
   ]
  },
  {
   "cell_type": "markdown",
   "metadata": {},
   "source": [
    "The following example shows how to traverse a tree-like structure using explicit  tasks. Note that the `traverse` function should be called from within a  parallel region for the different specified tasks to be executed in parallel. Also  note that the tasks will be executed in no specified order because there are no  synchronization directives. Thus, assuming that the traversal will be done in post  order, as in the sequential code, is wrong."
   ]
  },
  {
   "cell_type": "markdown",
   "metadata": {},
   "source": [
    ""
   ]
  },
  {
   "cell_type": "code",
   "execution_count": null,
   "metadata": {},
   "outputs": [],
   "source": [
    "//%compiler: clang\n",
 "//%cflags: -fopenmp\n",
 "\n",
    "/*\n",
    "* name: tasking.1\n",
    "* type: C\n",
    "* version: omp_3.0\n",
    "*/\n",
    "\n",
    "struct node {\n",
    "  struct node *left;\n",
    "  struct node *right;\n",
    "};\n",
    "\n",
    "extern void process(struct node *);\n",
    "\n",
    "void traverse( struct node *p )\n",
    "{\n",
    "  if (p->left)\n",
    "#pragma omp task   // p is firstprivate by default\n",
    "      traverse(p->left);\n",
    "  if (p->right)\n",
    "#pragma omp task    // p is firstprivate by default\n",
    "      traverse(p->right);\n",
    "  process(p);\n",
    "}\n",
    "\n"
   ]
  },
  {
   "cell_type": "markdown",
   "metadata": {},
   "source": [
    ""
   ]
  },
  {
   "cell_type": "markdown",
   "metadata": {},
   "source": [
    ""
   ]
  },
  {
   "cell_type": "code",
   "execution_count": null,
   "metadata": {},
   "outputs": [],
   "source": [
    "\n",
    "! name: tasking.1\n",
    "! type: F-free\n",
    "! version:    omp_3.0\n",
    "\n",
    "       RECURSIVE SUBROUTINE traverse ( P )\n",
    "          TYPE Node\n",
    "             TYPE(Node), POINTER :: left, right\n",
    "          END TYPE Node\n",
    "          TYPE(Node) :: P\n",
    "\n",
    "          IF (associated(P%left)) THEN\n",
    "             !$OMP TASK     ! P is firstprivate by default\n",
    "                 CALL traverse(P%left)\n",
    "             !$OMP END TASK\n",
    "          ENDIF\n",
    "          IF (associated(P%right)) THEN\n",
    "             !$OMP TASK     ! P is firstprivate by default\n",
    "                 CALL traverse(P%right)\n",
    "             !$OMP END TASK\n",
    "          ENDIF\n",
    "          CALL process ( P )\n",
    "\n",
    "       END SUBROUTINE\n",
    "\n"
   ]
  },
  {
   "cell_type": "markdown",
   "metadata": {},
   "source": [
    ""
   ]
  },
  {
   "cell_type": "markdown",
   "metadata": {},
   "source": [
    "In the next example, we force a postorder traversal of the tree by adding a `taskwait`  directive. Now, we can safely assume that the left and right sons have been executed  before we process the current node."
   ]
  },
  {
   "cell_type": "markdown",
   "metadata": {},
   "source": [
    ""
   ]
  },
  {
   "cell_type": "code",
   "execution_count": null,
   "metadata": {},
   "outputs": [],
   "source": [
    "//%compiler: clang\n",
 "//%cflags: -fopenmp\n",
 "\n",
    "/*\n",
    "* name: tasking.2\n",
    "* type: C\n",
    "* version: omp_3.0\n",
    "*/\n",
    "struct node {\n",
    "  struct node *left;\n",
    "  struct node *right;\n",
    "};\n",
    "extern void process(struct node *);\n",
    "void postorder_traverse( struct node *p ) {\n",
    "    if (p->left)\n",
    "       #pragma omp task    // p is firstprivate by default\n",
    "           postorder_traverse(p->left);\n",
    "    if (p->right)\n",
    "       #pragma omp task   // p is firstprivate by default\n",
    "           postorder_traverse(p->right);\n",
    "    #pragma omp taskwait\n",
    "    process(p);\n",
    "}\n",
    "\n"
   ]
  },
  {
   "cell_type": "markdown",
   "metadata": {},
   "source": [
    ""
   ]
  },
  {
   "cell_type": "markdown",
   "metadata": {},
   "source": [
    ""
   ]
  },
  {
   "cell_type": "code",
   "execution_count": null,
   "metadata": {},
   "outputs": [],
   "source": [
    "\n",
    "! name: tasking.2\n",
    "! type: F-free\n",
    "! version:    omp_3.0\n",
    "      RECURSIVE SUBROUTINE traverse ( P )\n",
    "         TYPE Node\n",
    "             TYPE(Node), POINTER :: left, right\n",
    "         END TYPE Node\n",
    "         TYPE(Node) :: P\n",
    "         IF (associated(P%left)) THEN\n",
    "             !$OMP TASK    ! P is firstprivate by default\n",
    "                 CALL traverse(P%left)\n",
    "             !$OMP END TASK\n",
    "         ENDIF\n",
    "         IF (associated(P%right)) THEN\n",
    "             !$OMP TASK    ! P is firstprivate by default\n",
    "                 CALL traverse(P%right)\n",
    "             !$OMP END TASK\n",
    "         ENDIF\n",
    "         !$OMP TASKWAIT\n",
    "         CALL process ( P )\n",
    "      END SUBROUTINE\n",
    "\n"
   ]
  },
  {
   "cell_type": "markdown",
   "metadata": {},
   "source": [
    ""
   ]
  },
  {
   "cell_type": "markdown",
   "metadata": {},
   "source": [
    "The following example demonstrates how to use the `task` construct to process  elements of a linked list in parallel. The thread executing the `single`  region generates all of the explicit tasks, which are then executed by the threads  in the current team. The pointer  _p_  is `firstprivate` by default  on the `task` construct so it is not necessary to specify it in a `firstprivate`  clause."
   ]
  },
  {
   "cell_type": "markdown",
   "metadata": {},
   "source": [
    ""
   ]
  },
  {
   "cell_type": "code",
   "execution_count": null,
   "metadata": {},
   "outputs": [],
   "source": [
    "//%compiler: clang\n",
 "//%cflags: -fopenmp\n",
 "\n",
    "/*\n",
    "* name: tasking.3\n",
    "* type: C\n",
    "* version: omp_3.0\n",
    "*/\n",
    "\n",
    "typedef struct node node;\n",
    "struct node {\n",
    "      int data;\n",
    "      node * next;\n",
    "};\n",
    "\n",
    "void process(node * p)\n",
    "{\n",
    "    /* do work here */\n",
    "}\n",
    "\n",
    "void increment_list_items(node * head)\n",
    "{\n",
    "    #pragma omp parallel\n",
    "    {\n",
    "        #pragma omp single\n",
    "            {\n",
    "               node * p = head;\n",
    "               while (p) {\n",
    "                    #pragma omp task\n",
    "                     // p is firstprivate by default\n",
    "                           process(p);\n",
    "                     p = p->next;\n",
    "                  }\n",
    "            }\n",
    "     }\n",
    "}\n",
    "\n"
   ]
  },
  {
   "cell_type": "markdown",
   "metadata": {},
   "source": [
    ""
   ]
  },
  {
   "cell_type": "markdown",
   "metadata": {},
   "source": [
    ""
   ]
  },
  {
   "cell_type": "code",
   "execution_count": null,
   "metadata": {},
   "outputs": [],
   "source": [
    "\n",
    "! name: tasking.3\n",
    "! type: F-free\n",
    "! version:    omp_3.0\n",
    "\n",
    "      MODULE LIST\n",
    "          TYPE NODE\n",
    "             INTEGER :: PAYLOAD\n",
    "             TYPE (NODE), POINTER :: NEXT\n",
    "          END TYPE NODE\n",
    "      CONTAINS\n",
    "\n",
    "          SUBROUTINE PROCESS(p)\n",
    "             TYPE (NODE), POINTER :: P\n",
    "                 ! do work here\n",
    "          END SUBROUTINE\n",
    "\n",
    "          SUBROUTINE INCREMENT_LIST_ITEMS (HEAD)\n",
    "\n",
    "             TYPE (NODE), POINTER :: HEAD\n",
    "             TYPE (NODE), POINTER :: P\n",
    "             !$OMP PARALLEL PRIVATE(P)\n",
    "                 !$OMP SINGLE\n",
    "                     P => HEAD\n",
    "                     DO\n",
    "                        !$OMP TASK\n",
    "                            ! P is firstprivate by default\n",
    "                            CALL PROCESS(P)\n",
    "                        !$OMP END TASK\n",
    "                        P => P%NEXT\n",
    "                        IF ( .NOT. ASSOCIATED (P) ) EXIT\n",
    "                     END DO\n",
    "                 !$OMP END SINGLE\n",
    "             !$OMP END PARALLEL\n",
    "\n",
    "          END SUBROUTINE\n",
    "\n",
    "      END MODULE\n",
    "\n"
   ]
  },
  {
   "cell_type": "markdown",
   "metadata": {},
   "source": [
    ""
   ]
  },
  {
   "cell_type": "markdown",
   "metadata": {},
   "source": [
    "The `fib()` function should be called from within a `parallel`  region  for the different specified tasks to be executed in parallel. Also, only one thread  of the `parallel` region should call `fib()` unless multiple concurrent  Fibonacci computations are desired."
   ]
  },
  {
   "cell_type": "markdown",
   "metadata": {},
   "source": [
    ""
   ]
  },
  {
   "cell_type": "code",
   "execution_count": null,
   "metadata": {},
   "outputs": [],
   "source": [
    "//%compiler: clang\n",
 "//%cflags: -fopenmp\n",
 "\n",
    "/*\n",
    "* name: tasking.4\n",
    "* type: C\n",
    "* version: omp_3.0\n",
    "*/\n",
    "     int fib(int n) {\n",
    "        int i, j;\n",
    "        if (n<2)\n",
    "          return n;\n",
    "        else {\n",
    "           #pragma omp task shared(i)\n",
    "              i=fib(n-1);\n",
    "           #pragma omp task shared(j)\n",
    "              j=fib(n-2);\n",
    "           #pragma omp taskwait\n",
    "              return i+j;\n",
    "        }\n",
    "     }\n",
    "\n"
   ]
  },
  {
   "cell_type": "markdown",
   "metadata": {},
   "source": [
    ""
   ]
  },
  {
   "cell_type": "markdown",
   "metadata": {},
   "source": [
    ""
   ]
  },
  {
   "cell_type": "code",
   "execution_count": null,
   "metadata": {},
   "outputs": [],
   "source": [
    "\n",
    "! name: tasking.4\n",
    "! type: F-fixed\n",
    "! version: omp_3.0\n",
    "      RECURSIVE INTEGER FUNCTION fib(n) RESULT(res)\n",
    "      INTEGER n, i, j\n",
    "      IF ( n .LT. 2) THEN\n",
    "        res = n\n",
    "      ELSE\n",
    "!$OMP TASK SHARED(i)\n",
    "        i = fib( n-1 )\n",
    "!$OMP END TASK\n",
    "!$OMP TASK SHARED(j)\n",
    "        j = fib( n-2 )\n",
    "!$OMP END TASK\n",
    "!$OMP TASKWAIT\n",
    "        res = i+j\n",
    "      END IF\n",
    "      END FUNCTION\n",
    "\n"
   ]
  },
  {
   "cell_type": "markdown",
   "metadata": {},
   "source": [
    ""
   ]
  },
  {
   "cell_type": "markdown",
   "metadata": {},
   "source": [
    "Note: There are more efficient algorithms for computing Fibonacci numbers. This  classic recursion algorithm is for illustrative purposes."
   ]
  },
  {
   "cell_type": "markdown",
   "metadata": {},
   "source": [
    "The following example demonstrates a way to generate a large number of tasks with  one thread and execute them with the threads in the team. While generating these  tasks, the implementation may reach its limit on unassigned tasks.  If it does,  the implementation is allowed to cause the thread executing the task generating  loop to suspend its task at the task scheduling point in the `task` directive,  and start executing unassigned tasks.  Once the number of unassigned tasks is sufficiently  low, the thread may resume execution of the task generating loop."
   ]
  },
  {
   "cell_type": "markdown",
   "metadata": {},
   "source": [
    ""
   ]
  },
  {
   "cell_type": "code",
   "execution_count": null,
   "metadata": {},
   "outputs": [],
   "source": [
    "//%compiler: clang\n",
 "//%cflags: -fopenmp\n",
 "\n",
    "/*\n",
    "* name: tasking.5\n",
    "* type: C\n",
    "* version: omp_3.0\n",
    "*/\n",
    "#define LARGE_NUMBER 10000000\n",
    "double item[LARGE_NUMBER];\n",
    "extern void process(double);\n",
    "\n",
    "int main()\n",
    "{\n",
    "#pragma omp parallel\n",
    "  {\n",
    "    #pragma omp single\n",
    "    {\n",
    "      int i;\n",
    "      for (i=0; i<LARGE_NUMBER; i++)\n",
    "             #pragma omp task    // i is firstprivate, item is shared\n",
    "                  process(item[i]);\n",
    "    }\n",
    "  }\n",
    "}\n",
    "\n"
   ]
  },
  {
   "cell_type": "markdown",
   "metadata": {},
   "source": [
    ""
   ]
  },
  {
   "cell_type": "markdown",
   "metadata": {},
   "source": [
    ""
   ]
  },
  {
   "cell_type": "code",
   "execution_count": null,
   "metadata": {},
   "outputs": [],
   "source": [
    "\n",
    "! name: tasking.5\n",
    "! type: F-fixed\n",
    "! version: omp_3.0\n",
    "       real*8 item(10000000)\n",
    "       integer i\n",
    "\n",
    "!$omp parallel\n",
    "!$omp single ! loop iteration variable i is private\n",
    "       do i=1,10000000\n",
    "!$omp task\n",
    "         ! i is firstprivate, item is shared\n",
    "          call process(item(i))\n",
    "!$omp end task\n",
    "       end do\n",
    "!$omp end single\n",
    "!$omp end parallel\n",
    "\n",
    "       end\n",
    "\n"
   ]
  },
  {
   "cell_type": "markdown",
   "metadata": {},
   "source": [
    ""
   ]
  },
  {
   "cell_type": "markdown",
   "metadata": {},
   "source": [
    "\index{task construct@`task` construct!untied clause@`untied` clause} \index{untied clause@`untied` clause} \index{clauses!untied@`untied`} \index{task scheduling point} The following example is the same as the previous one, except that the tasks are  generated in an untied task. While generating the tasks, the implementation may  reach its limit on unassigned tasks. If it does, the implementation is allowed  to cause the thread executing the task generating loop to suspend its task at the  task scheduling point in the `task` directive, and start executing unassigned  tasks.  If that thread begins execution of a task that takes a long time to complete,  the other threads may complete all the other tasks before it is finished."
   ]
  },
  {
   "cell_type": "markdown",
   "metadata": {},
   "source": [
    "In this case, since the loop is in an untied task, any other thread is eligible  to resume the task generating loop. In the previous examples, the other threads  would be forced to idle until the generating thread finishes its long task, since  the task generating loop was in a tied task."
   ]
  },
  {
   "cell_type": "markdown",
   "metadata": {},
   "source": [
    ""
   ]
  },
  {
   "cell_type": "code",
   "execution_count": null,
   "metadata": {},
   "outputs": [],
   "source": [
    "//%compiler: clang\n",
 "//%cflags: -fopenmp\n",
 "\n",
    "/*\n",
    "* name: tasking.6\n",
    "* type: C\n",
    "* version: omp_3.0\n",
    "*/\n",
    "#define LARGE_NUMBER 10000000\n",
    "double item[LARGE_NUMBER];\n",
    "extern void process(double);\n",
    "int main() {\n",
    "#pragma omp parallel\n",
    "  {\n",
    "    #pragma omp single\n",
    "    {\n",
    "      int i;\n",
    "      #pragma omp task untied\n",
    "      // i is firstprivate, item is shared\n",
    "      {\n",
    "         for (i=0; i<LARGE_NUMBER; i++)\n",
    "             #pragma omp task\n",
    "                  process(item[i]);\n",
    "      }\n",
    "    }\n",
    "  }\n",
    "  return 0;\n",
    "}\n",
    "\n"
   ]
  },
  {
   "cell_type": "markdown",
   "metadata": {},
   "source": [
    ""
   ]
  },
  {
   "cell_type": "markdown",
   "metadata": {},
   "source": [
    ""
   ]
  },
  {
   "cell_type": "code",
   "execution_count": null,
   "metadata": {},
   "outputs": [],
   "source": [
    "\n",
    "! name: tasking.6\n",
    "! type: F-fixed\n",
    "! version: omp_3.0\n",
    "       real*8 item(10000000)\n",
    "!$omp parallel\n",
    "!$omp single\n",
    "!$omp task untied\n",
    "       ! loop iteration variable i is private\n",
    "       do i=1,10000000\n",
    "!$omp task ! i is firstprivate, item is shared\n",
    "          call process(item(i))\n",
    "!$omp end task\n",
    "       end do\n",
    "!$omp end task\n",
    "!$omp end single\n",
    "!$omp end parallel\n",
    "       end\n",
    "\n"
   ]
  },
  {
   "cell_type": "markdown",
   "metadata": {},
   "source": [
    ""
   ]
  },
  {
   "cell_type": "markdown",
   "metadata": {},
   "source": [
    "The following two examples demonstrate how the scheduling rules illustrated in  Section 2.11.3 of the OpenMP 4.0 specification affect the usage of  `threadprivate` variables in tasks. A `threadprivate`  variable can be modified by another task that is executed by the same thread. Thus,  the value of a `threadprivate` variable cannot be assumed to be unchanged  across a task scheduling point. In untied tasks, task scheduling points may be  added in any place by the implementation."
   ]
  },
  {
   "cell_type": "markdown",
   "metadata": {},
   "source": [
    "A task switch may occur at a task scheduling point. A single thread may execute  both of the task regions that modify `tp`. The parts of these task regions  in which `tp` is modified may be executed in any order so the resulting  value of `var` can be either 1 or 2."
   ]
  },
  {
   "cell_type": "markdown",
   "metadata": {},
   "source": [
    ""
   ]
  },
  {
   "cell_type": "code",
   "execution_count": null,
   "metadata": {},
   "outputs": [],
   "source": [
    "//%compiler: clang\n",
 "//%cflags: -fopenmp\n",
 "\n",
    "/*\n",
    "* name: tasking.7\n",
    "* type: C\n",
    "* version: omp_3.0\n",
    "*/\n",
    "\n",
    "int tp;\n",
    "#pragma omp threadprivate(tp)\n",
    "int var;\n",
    "void work()\n",
    "{\n",
    "#pragma omp task\n",
    "    {\n",
    "        /* do work here */\n",
    "#pragma omp task\n",
    "        {\n",
    "            tp = 1;\n",
    "            /* do work here */\n",
    "#pragma omp task\n",
    "            {\n",
    "                /* no modification of tp */\n",
    "            }\n",
    "            var = tp; //value of tp can be 1 or 2\n",
    "        }\n",
    "        tp = 2;\n",
    "    }\n",
    "}\n",
    "\n"
   ]
  },
  {
   "cell_type": "markdown",
   "metadata": {},
   "source": [
    ""
   ]
  },
  {
   "cell_type": "markdown",
   "metadata": {},
   "source": [
    ""
   ]
  },
  {
   "cell_type": "markdown",
   "metadata": {},
   "source": [
    ""
   ]
  },
  {
   "cell_type": "code",
   "execution_count": null,
   "metadata": {},
   "outputs": [],
   "source": [
    "\n",
    "! name: tasking.7\n",
    "! type: F-fixed\n",
    "! version: omp_3.0\n",
    "      module example\n",
    "      integer tp\n",
    "!$omp threadprivate(tp)\n",
    "      integer var\n",
    "      contains\n",
    "      subroutine work\n",
    "!$omp task\n",
    "         ! do work here\n",
    "!$omp task\n",
    "         tp = 1\n",
    "         ! do work here\n",
    "!$omp task\n",
    "           ! no modification of tp\n",
    "!$omp end task\n",
    "         var = tp    ! value of var can be 1 or 2\n",
    "!$omp end task\n",
    "        tp = 2\n",
    "!$omp end task\n",
    "      end subroutine\n",
    "      end module\n",
    "\n"
   ]
  },
  {
   "cell_type": "markdown",
   "metadata": {},
   "source": [
    ""
   ]
  },
  {
   "cell_type": "markdown",
   "metadata": {},
   "source": [
    "In this example, scheduling constraints prohibit a thread in the team from executing  a new task that modifies `tp`  while another such task region tied to the  same thread is suspended. Therefore, the value written will persist across the  task scheduling point."
   ]
  },
  {
   "cell_type": "markdown",
   "metadata": {},
   "source": [
    ""
   ]
  },
  {
   "cell_type": "code",
   "execution_count": null,
   "metadata": {},
   "outputs": [],
   "source": [
    "//%compiler: clang\n",
 "//%cflags: -fopenmp\n",
 "\n",
    "/*\n",
    "* name: tasking.8\n",
    "* type: C\n",
    "* version: omp_3.0\n",
    "*/\n",
    "\n",
    "int tp;\n",
    "#pragma omp threadprivate(tp)\n",
    "int var;\n",
    "void work()\n",
    "{\n",
    "#pragma omp parallel\n",
    "    {\n",
    "        /* do work here */\n",
    "#pragma omp task\n",
    "        {\n",
    "            tp++;\n",
    "            /* do work here */\n",
    "#pragma omp task\n",
    "            {\n",
    "                /* do work here but don't modify tp */\n",
    "            }\n",
    "            var = tp; //Value does not change after write above\n",
    "        }\n",
    "    }\n",
    "}\n",
    "\n"
   ]
  },
  {
   "cell_type": "markdown",
   "metadata": {},
   "source": [
    ""
   ]
  },
  {
   "cell_type": "markdown",
   "metadata": {},
   "source": [
    ""
   ]
  },
  {
   "cell_type": "markdown",
   "metadata": {},
   "source": [
    ""
   ]
  },
  {
   "cell_type": "code",
   "execution_count": null,
   "metadata": {},
   "outputs": [],
   "source": [
    "\n",
    "! name: tasking.8\n",
    "! type: F-fixed\n",
    "! version: omp_3.0\n",
    "      module example\n",
    "      integer tp\n",
    "!$omp threadprivate(tp)\n",
    "      integer var\n",
    "      contains\n",
    "      subroutine work\n",
    "!$omp parallel\n",
    "         ! do work here\n",
    "!$omp task\n",
    "         tp = tp + 1\n",
    "         ! do work here\n",
    "!$omp task\n",
    "           ! do work here but don't modify tp\n",
    "!$omp end task\n",
    "         var = tp    ! value does not change after write above\n",
    "!$omp end task\n",
    "!$omp end parallel\n",
    "      end subroutine\n",
    "      end module\n",
    "\n"
   ]
  },
  {
   "cell_type": "markdown",
   "metadata": {},
   "source": [
    ""
   ]
  },
  {
   "cell_type": "markdown",
   "metadata": {},
   "source": [
    "The following two examples demonstrate how the scheduling rules illustrated in  Section 2.11.3 of the OpenMP 4.0 specification affect the usage of locks  and critical sections in tasks.  If a lock is held  across a task scheduling point, no attempt should be made to acquire the same lock  in any code that may be interleaved.  Otherwise, a deadlock is possible."
   ]
  },
  {
   "cell_type": "markdown",
   "metadata": {},
   "source": [
    "In the example below, suppose the thread executing task 1 defers task 2.  When  it encounters the task scheduling point at task 3, it could suspend task 1 and  begin task 2 which will result in a deadlock when it tries to enter critical region  1."
   ]
  },
  {
   "cell_type": "markdown",
   "metadata": {},
   "source": [
    ""
   ]
  },
  {
   "cell_type": "code",
   "execution_count": null,
   "metadata": {},
   "outputs": [],
   "source": [
    "//%compiler: clang\n",
 "//%cflags: -fopenmp\n",
 "\n",
    "/*\n",
    "* name: tasking.9\n",
    "* type: C\n",
    "* version: omp_3.0\n",
    "*/\n",
    "void work()\n",
    "{\n",
    "   #pragma omp task\n",
    "   { //Task 1\n",
    "       #pragma omp task\n",
    "       { //Task 2\n",
    "            #pragma omp critical //Critical region 1\n",
    "            {/*do work here */ }\n",
    "       }\n",
    "       #pragma omp critical //Critical Region 2\n",
    "       {\n",
    "           //Capture data for the following task\n",
    "           #pragma omp task\n",
    "           { /* do work here */ } //Task 3\n",
    "       }\n",
    "   }\n",
    "}\n",
    "\n"
   ]
  },
  {
   "cell_type": "markdown",
   "metadata": {},
   "source": [
    ""
   ]
  },
  {
   "cell_type": "markdown",
   "metadata": {},
   "source": [
    ""
   ]
  },
  {
   "cell_type": "markdown",
   "metadata": {},
   "source": [
    ""
   ]
  },
  {
   "cell_type": "code",
   "execution_count": null,
   "metadata": {},
   "outputs": [],
   "source": [
    "\n",
    "! name: tasking.9\n",
    "! type: F-fixed\n",
    "! version: omp_3.0\n",
    "       module example\n",
    "       contains\n",
    "       subroutine work\n",
    "!$omp task\n",
    "       ! Task 1\n",
    "!$omp task\n",
    "       ! Task 2\n",
    "!$omp critical\n",
    "       ! Critical region 1\n",
    "       ! do work here\n",
    "!$omp end critical\n",
    "!$omp end task\n",
    "!$omp critical\n",
    "       ! Critical region 2\n",
    "       ! Capture data for the following task\n",
    "!$omp task\n",
    "       !Task 3\n",
    "       ! do work here\n",
    "!$omp end task\n",
    "!$omp end critical\n",
    "!$omp end task\n",
    "      end subroutine\n",
    "      end module\n",
    "\n"
   ]
  },
  {
   "cell_type": "markdown",
   "metadata": {},
   "source": [
    ""
   ]
  },
  {
   "cell_type": "markdown",
   "metadata": {},
   "source": [
    "In the following example, `lock` is held across a task scheduling point.   However, according to the scheduling restrictions, the executing thread can't  begin executing one of the non-descendant tasks that also acquires `lock` before  the task region is complete.  Therefore, no deadlock is possible."
   ]
  },
  {
   "cell_type": "markdown",
   "metadata": {},
   "source": [
    ""
   ]
  },
  {
   "cell_type": "code",
   "execution_count": null,
   "metadata": {},
   "outputs": [],
   "source": [
    "//%compiler: clang\n",
 "//%cflags: -fopenmp\n",
 "\n",
    "/*\n",
    "* name: tasking.10\n",
    "* type: C\n",
    "* version: omp_3.0\n",
    "*/\n",
    "#include <omp.h>\n",
    "void work() {\n",
    "    omp_lock_t lock;\n",
    "    omp_init_lock(&lock);\n",
    "#pragma omp parallel\n",
    "    {\n",
    "        int i;\n",
    "#pragma omp for\n",
    "        for (i = 0; i < 100; i++) {\n",
    "#pragma omp task\n",
    "            {\n",
    " // lock is shared by default in the task\n",
    " omp_set_lock(&lock);\n",
    "                // Capture data for the following task\n",
    "#pragma omp task\n",
    " // Task Scheduling Point 1\n",
    "                { /* do work here */ }\n",
    "                omp_unset_lock(&lock);\n",
    "            }\n",
    "        }\n",
    "    }\n",
    "    omp_destroy_lock(&lock);\n",
    "}\n",
    "\n"
   ]
  },
  {
   "cell_type": "markdown",
   "metadata": {},
   "source": [
    ""
   ]
  },
  {
   "cell_type": "markdown",
   "metadata": {},
   "source": [
    ""
   ]
  },
  {
   "cell_type": "code",
   "execution_count": null,
   "metadata": {},
   "outputs": [],
   "source": [
    "\n",
    "! name: tasking.10\n",
    "! type: F-free\n",
    "! version:    omp_3.0\n",
    "      module example\n",
    "      include 'omp_lib.h'\n",
    "      integer (kind=omp_lock_kind) lock\n",
    "      integer i\n",
    "\n",
    "      contains\n",
    "\n",
    "      subroutine work\n",
    "      call omp_init_lock(lock)\n",
    "!$omp parallel\n",
    "     !$omp do\n",
    "      do i=1,100\n",
    "         !$omp task\n",
    "              ! Outer task\n",
    "              call omp_set_lock(lock)    ! lock is shared by\n",
    "                                         ! default in the task\n",
    "                     ! Capture data for the following task\n",
    "                     !$omp task     ! Task Scheduling Point 1\n",
    "                              ! do work here\n",
    "                     !$omp end task\n",
    "               call omp_unset_lock(lock)\n",
    "         !$omp end task\n",
    "      end do\n",
    "!$omp end parallel\n",
    "      call omp_destroy_lock(lock)\n",
    "      end subroutine\n",
    "\n",
    "      end module\n",
    "\n"
   ]
  },
  {
   "cell_type": "markdown",
   "metadata": {},
   "source": [
    ""
   ]
  },
  {
   "cell_type": "markdown",
   "metadata": {},
   "source": [
    "\index{task construct@`task` construct!mergeable clause@`mergeable` clause} \index{clauses!mergeable@`mergeable`} \index{mergeable clause@`mergeable` clause} The following examples illustrate the use of the `mergeable` clause in the  `task` construct. In this first example, the `task` construct has  been annotated with the `mergeable`  clause. The addition of this clause  allows the implementation to reuse the data environment (including the ICVs) of  the parent task for the task inside `foo` if the task is included or undeferred.  Thus, the result of the execution may differ depending on whether the task is merged  or not. Therefore the mergeable clause needs to be used with caution. In this example,  the use of the mergeable clause is safe. As `x` is a shared variable the  outcome does not depend on whether or not the task is merged (that is, the task  will always increment the same variable and will always compute the same value  for `x`)."
   ]
  },
  {
   "cell_type": "markdown",
   "metadata": {},
   "source": [
    ""
   ]
  },
  {
   "cell_type": "code",
   "execution_count": null,
   "metadata": {},
   "outputs": [],
   "source": [
    "//%compiler: clang\n",
 "//%cflags: -fopenmp\n",
 "\n",
    "/*\n",
    "* name: tasking.11\n",
    "* type: C\n",
    "* version: omp_3.1\n",
    "*/\n",
    "#include <stdio.h>\n",
    "void foo ( )\n",
    "{\n",
    "   int x = 2;\n",
    "   #pragma omp task shared(x) mergeable\n",
    "   {\n",
    "      x++;\n",
    "   }\n",
    "   #pragma omp taskwait\n",
    "   printf(\"%d\\n\",x);  // prints 3\n",
    "}\n",
    "\n"
   ]
  },
  {
   "cell_type": "markdown",
   "metadata": {},
   "source": [
    ""
   ]
  },
  {
   "cell_type": "markdown",
   "metadata": {},
   "source": [
    ""
   ]
  },
  {
   "cell_type": "code",
   "execution_count": null,
   "metadata": {},
   "outputs": [],
   "source": [
    "\n",
    "! name: tasking.11\n",
    "! type: F-free\n",
    "! version:    omp_3.1\n",
    "subroutine foo()\n",
    "  integer :: x\n",
    "  x = 2\n",
    "!$omp task shared(x) mergeable\n",
    "  x = x + 1\n",
    "!$omp end task\n",
    "!$omp taskwait\n",
    "  print *, x     ! prints 3\n",
    "end subroutine\n",
    "\n"
   ]
  },
  {
   "cell_type": "markdown",
   "metadata": {},
   "source": [
    ""
   ]
  },
  {
   "cell_type": "markdown",
   "metadata": {},
   "source": [
    "This second example shows an incorrect use of the `mergeable` clause. In  this example, the created task will access different instances of the variable  `x` if the task is not merged, as `x` is `firstprivate`, but  it will access the same variable `x` if the task is merged. As a result,  the behavior of the program is unspecified, and it can print two different values  for `x` depending on the decisions taken by the implementation."
   ]
  },
  {
   "cell_type": "markdown",
   "metadata": {},
   "source": [
    ""
   ]
  },
  {
   "cell_type": "code",
   "execution_count": null,
   "metadata": {},
   "outputs": [],
   "source": [
    "//%compiler: clang\n",
 "//%cflags: -fopenmp\n",
 "\n",
    "/*\n",
    "* name: tasking.12\n",
    "* type: C\n",
    "* version: omp_3.1\n",
    "*/\n",
    "#include <stdio.h>\n",
    "void foo ( )\n",
    "{\n",
    "   int x = 2;\n",
    "   #pragma omp task mergeable\n",
    "   {\n",
    "      x++;\n",
    "   }\n",
    "   #pragma omp taskwait\n",
    "   printf(\"%d\\n\",x);  // prints 2 or 3\n",
    "}\n",
    "\n"
   ]
  },
  {
   "cell_type": "markdown",
   "metadata": {},
   "source": [
    ""
   ]
  },
  {
   "cell_type": "markdown",
   "metadata": {},
   "source": [
    ""
   ]
  },
  {
   "cell_type": "code",
   "execution_count": null,
   "metadata": {},
   "outputs": [],
   "source": [
    "\n",
    "! name: tasking.12\n",
    "! type: F-free\n",
    "! version:    omp_3.1\n",
    "subroutine foo()\n",
    "  integer :: x\n",
    "  x = 2\n",
    "!$omp task mergeable\n",
    "  x = x + 1\n",
    "!$omp end task\n",
    "!$omp taskwait\n",
    "  print *, x   ! prints 2 or 3\n",
    "end subroutine\n",
    "\n"
   ]
  },
  {
   "cell_type": "markdown",
   "metadata": {},
   "source": [
    ""
   ]
  },
  {
   "cell_type": "markdown",
   "metadata": {},
   "source": [
    "\index{task construct@`task` construct!final clause@`final` clause} \index{clauses!final@`final`} \index{final clause@`final` clause} \index{routines!omp_in_final@\scode{omp_in_final}} \index{omp_in_final routine@\scode{omp_in_final} routine} The following example shows the use of the `final` clause and the `omp_in_final`  API call in a recursive binary search program. To reduce overhead, once a certain  depth of recursion is reached the program uses the `final` clause to create  only included tasks, which allow additional optimizations."
   ]
  },
  {
   "cell_type": "markdown",
   "metadata": {},
   "source": [
    "The use of the `omp_in_final` API call allows programmers to optimize  their code by specifying which parts of the program are not necessary when a task  can create only included tasks (that is, the code is inside a `final` task).  In this example, the use of a different state variable is not necessary so once  the program reaches the part of the computation that is finalized and copying from  the parent state to the new state is eliminated. The allocation of `new_state`  in the stack could also be avoided but it would make this example less clear. The  `final` clause is most effective when used in conjunction with the `mergeable`  clause since all tasks created in a `final` task region are included tasks  that can be merged if the `mergeable` clause is present."
   ]
  },
  {
   "cell_type": "markdown",
   "metadata": {},
   "source": [
    ""
   ]
  },
  {
   "cell_type": "code",
   "execution_count": null,
   "metadata": {},
   "outputs": [],
   "source": [
    "//%compiler: clang\n",
 "//%cflags: -fopenmp\n",
 "\n",
    "/*\n",
    "* name: tasking.13\n",
    "* type: C\n",
    "* version: omp_3.1\n",
    "*/\n",
    "#include <string.h>\n",
    "#include <omp.h>\n",
    "#define LIMIT  3 /* arbitrary limit on recursion depth */\n",
    "void check_solution(char *);\n",
    "void bin_search (int pos, int n, char *state)\n",
    "{\n",
    "   if ( pos == n ) {\n",
    "      check_solution(state);\n",
    "      return;\n",
    "   }\n",
    "   #pragma omp task final( pos > LIMIT ) mergeable\n",
    "   {\n",
    "      char new_state[n];\n",
    "      if (!omp_in_final() ) {\n",
    "        memcpy(new_state, state, pos );\n",
    "        state = new_state;\n",
    "      }\n",
    "      state[pos] = 0;\n",
    "      bin_search(pos+1, n, state );\n",
    "   }\n",
    "   #pragma omp task final( pos > LIMIT ) mergeable\n",
    "   {\n",
    "      char new_state[n];\n",
    "      if (! omp_in_final() ) {\n",
    "        memcpy(new_state, state, pos );\n",
    "        state = new_state;\n",
    "      }\n",
    "      state[pos] = 1;\n",
    "      bin_search(pos+1, n, state );\n",
    "   }\n",
    "   #pragma omp taskwait\n",
    "}\n",
    "\n"
   ]
  },
  {
   "cell_type": "markdown",
   "metadata": {},
   "source": [
    ""
   ]
  },
  {
   "cell_type": "markdown",
   "metadata": {},
   "source": [
    ""
   ]
  },
  {
   "cell_type": "code",
   "execution_count": null,
   "metadata": {},
   "outputs": [],
   "source": [
    "\n",
    "! name: tasking.13\n",
    "! type: F-free\n",
    "! version:    omp_3.1\n",
    "recursive subroutine bin_search(pos, n, state)\n",
    "  use omp_lib\n",
    "  integer :: pos, n\n",
    "  character, pointer :: state(:)\n",
    "  character, target, dimension(n) :: new_state1, new_state2\n",
    "  integer, parameter :: LIMIT = 3\n",
    "  if (pos .eq. n) then\n",
    "    call check_solution(state)\n",
    "    return\n",
    "  endif\n",
    "!$omp task final(pos > LIMIT) mergeable\n",
    "  if (.not. omp_in_final()) then\n",
    "    new_state1(1:pos) = state(1:pos)\n",
    "    state => new_state1\n",
    "  endif\n",
    "  state(pos+1) = 'z'\n",
    "  call bin_search(pos+1, n, state)\n",
    "!$omp end task\n",
    "!$omp task final(pos > LIMIT) mergeable\n",
    "  if (.not. omp_in_final()) then\n",
    "    new_state2(1:pos) = state(1:pos)\n",
    "    state => new_state2\n",
    "  endif\n",
    "  state(pos+1) = 'y'\n",
    "  call bin_search(pos+1, n, state)\n",
    "!$omp end task\n",
    "!$omp taskwait\n",
    "end subroutine\n",
    "\n"
   ]
  },
  {
   "cell_type": "markdown",
   "metadata": {},
   "source": [
    ""
   ]
  },
  {
   "cell_type": "markdown",
   "metadata": {},
   "source": [
    "\index{task construct@`task` construct!if clause@`if` clause} \index{clauses!if@`if`} \index{if clause@`if` clause} The following example illustrates the difference between the `if`  and the  `final` clauses. The `if` clause has a local effect. In the first  nest of tasks, the one that has the `if`  clause will be undeferred but  the task nested inside that task will not be affected by the `if` clause  and will be created as usual. Alternatively, the `final` clause affects  all `task` constructs in the `final` task region but not the `final`  task itself. In the second nest of tasks, the nested tasks will be created as included  tasks. Note also that the conditions for the `if` and `final` clauses  are usually the opposite."
   ]
  },
  {
   "cell_type": "markdown",
   "metadata": {},
   "source": [
    ""
   ]
  },
  {
   "cell_type": "code",
   "execution_count": null,
   "metadata": {},
   "outputs": [],
   "source": [
    "//%compiler: clang\n",
 "//%cflags: -fopenmp\n",
 "\n",
    "/*\n",
    "* name: tasking.14\n",
    "* type: C\n",
    "* version: omp_3.1\n",
    "*/\n",
    "void bar(void);\n",
    "\n",
    "void foo ( )\n",
    "{\n",
    "   int i;\n",
    "   #pragma omp task if(0)  // This task is undeferred\n",
    "   {\n",
    "      #pragma omp task     // This task is a regular task\n",
    "      for (i = 0; i < 3; i++) {\n",
    "          #pragma omp task     // This task is a regular task\n",
    "          bar();\n",
    "      }\n",
    "   }\n",
    "   #pragma omp task final(1) // This task is a regular task\n",
    "   {\n",
    "      #pragma omp task  // This task is included\n",
    "      for (i = 0; i < 3; i++) {\n",
    "          #pragma omp task     // This task is also included\n",
    "          bar();\n",
    "      }\n",
    "   }\n",
    "}\n",
    "\n"
   ]
  },
  {
   "cell_type": "markdown",
   "metadata": {},
   "source": [
    ""
   ]
  },
  {
   "cell_type": "markdown",
   "metadata": {},
   "source": [
    ""
   ]
  },
  {
   "cell_type": "code",
   "execution_count": null,
   "metadata": {},
   "outputs": [],
   "source": [
    "\n",
    "! name: tasking.14\n",
    "! type: F-free\n",
    "! version:    omp_3.1\n",
    "subroutine foo()\n",
    "integer i\n",
    "!$omp task if(.FALSE.) ! This task is undeferred\n",
    "!$omp task             ! This task is a regular task\n",
    "  do i = 1, 3\n",
    "    !$omp task             ! This task is a regular task\n",
    "      call bar()\n",
    "    !$omp end task\n",
    "  enddo\n",
    "!$omp end task\n",
    "!$omp end task\n",
    "!$omp task final(.TRUE.) ! This task is a regular task\n",
    "!$omp task               ! This task is included\n",
    "  do i = 1, 3\n",
    "    !$omp task               ! This task is also included\n",
    "     call bar()\n",
    "    !$omp end task\n",
    "  enddo\n",
    "!$omp end task\n",
    "!$omp end task\n",
    "end subroutine\n",
    "\n"
   ]
  },
  {
   "cell_type": "markdown",
   "metadata": {},
   "source": [
    ""
   ]
  },
  {
   "cell_type": "markdown",
   "metadata": {},
   "source": [
    "../../tasking/tasking.tex"
   ]
  },
  {
   "cell_type": "markdown",
   "metadata": {},
   "source": [
    ""
   ]
  },
  {
   "cell_type": "markdown",
   "metadata": {},
   "source": [
    "## Task Priority"
   ]
  },
  {
   "cell_type": "markdown",
   "metadata": {},
   "source": [
    "\index{task construct@`task` construct!priority clause@`priority` clause} \index{priority clause@`priority` clause} \index{clauses!priority@`priority`}"
   ]
  },
  {
   "cell_type": "markdown",
   "metadata": {},
   "source": [
    ""
   ]
  },
  {
   "cell_type": "markdown",
   "metadata": {},
   "source": [
    ""
   ]
  },
  {
   "cell_type": "markdown",
   "metadata": {},
   "source": [
    "In this example we compute arrays in a matrix through a  _compute_array_  routine. Each task has a priority value equal to the value of the loop variable  _i_  at the moment of its creation. A higher priority on a task means that a task is a candidate to run sooner."
   ]
  },
  {
   "cell_type": "markdown",
   "metadata": {},
   "source": [
    "The creation of tasks occurs in ascending order (according to the iteration space of the loop) but a hint, by means of the `priority` clause, is provided to reverse the execution order."
   ]
  },
  {
   "cell_type": "markdown",
   "metadata": {},
   "source": [
    ""
   ]
  },
  {
   "cell_type": "code",
   "execution_count": null,
   "metadata": {},
   "outputs": [],
   "source": [
    "//%compiler: clang\n",
 "//%cflags: -fopenmp\n",
 "\n",
    "/*\n",
    "* name:       task_priority.1\n",
    "* type:       C\n",
    "* version:    omp_4.5\n",
    "*/\n",
    "void compute_array (float *node, int M);\n",
    "\n",
    "void compute_matrix (float *array, int N, int M)\n",
    "{\n",
    "   int i;\n",
    "   #pragma omp parallel private(i)\n",
    "   #pragma omp single\n",
    "   {\n",
    "      for (i=0;i<N; i++) {\n",
    "         #pragma omp task priority(i)\n",
    "         compute_array(&array[i*M], M);\n",
    "      }\n",
    "   }\n",
    "}\n",
    "\n"
   ]
  },
  {
   "cell_type": "markdown",
   "metadata": {},
   "source": [
    ""
   ]
  },
  {
   "cell_type": "markdown",
   "metadata": {},
   "source": [
    ""
   ]
  },
  {
   "cell_type": "code",
   "execution_count": null,
   "metadata": {},
   "outputs": [],
   "source": [
    "\n",
    "! name: task_priority.1\n",
    "! type: F-free\n",
    "! version:    omp_4.5\n",
    "subroutine compute_matrix(matrix, M, N)\n",
    "   implicit none\n",
    "   integer :: M, N\n",
    "   real :: matrix(M, N)\n",
    "   integer :: i\n",
    "   interface\n",
    "      subroutine compute_array(node, M)\n",
    "      implicit none\n",
    "      integer :: M\n",
    "      real :: node(M)\n",
    "      end subroutine\n",
    "   end interface\n",
    "   !$omp parallel private(i)\n",
    "   !$omp single\n",
    "   do i=1,N\n",
    "      !$omp task priority(i)\n",
    "      call compute_array(matrix(:, i), M)\n",
    "      !$omp end task\n",
    "   enddo\n",
    "   !$omp end single\n",
    "   !$omp end parallel\n",
    "end subroutine compute_matrix\n",
    "\n"
   ]
  },
  {
   "cell_type": "markdown",
   "metadata": {},
   "source": [
    ""
   ]
  },
  {
   "cell_type": "markdown",
   "metadata": {},
   "source": [
    "../../tasking/task_priority.tex"
   ]
  },
  {
   "cell_type": "markdown",
   "metadata": {},
   "source": [
    ""
   ]
  },
  {
   "cell_type": "markdown",
   "metadata": {},
   "source": [
    "## Task Dependences"
   ]
  },
  {
   "cell_type": "markdown",
   "metadata": {},
   "source": [
    "\index{dependences!task dependences}"
   ]
  },
  {
   "cell_type": "markdown",
   "metadata": {},
   "source": [
    ""
   ]
  },
  {
   "cell_type": "markdown",
   "metadata": {},
   "source": [
    "### Flow Dependence"
   ]
  },
  {
   "cell_type": "markdown",
   "metadata": {},
   "source": [
    "\index{task dependences!flow dependence} \index{task construct@`task` construct!depend clause@`depend` clause} \index{task construct@`task` construct} \index{constructs!task@`task`} \index{depend clause@`depend` clause} \index{clauses!depend@`depend`}"
   ]
  },
  {
   "cell_type": "markdown",
   "metadata": {},
   "source": [
    "This example shows a simple flow dependence using a `depend`  clause on the `task` construct."
   ]
  },
  {
   "cell_type": "markdown",
   "metadata": {},
   "source": [
    ""
   ]
  },
  {
   "cell_type": "code",
   "execution_count": null,
   "metadata": {},
   "outputs": [],
   "source": [
    "//%compiler: clang\n",
 "//%cflags: -fopenmp\n",
 "\n",
    "/*\n",
    "* name: task_dep.1\n",
    "* type: C\n",
    "* version: omp_4.0\n",
    "*/\n",
    "#include <stdio.h>\n",
    "int main() {\n",
    "   int x = 1;\n",
    "   #pragma omp parallel\n",
    "   #pragma omp single\n",
    "   {\n",
    "      #pragma omp task shared(x) depend(out: x)\n",
    "         x = 2;\n",
    "      #pragma omp task shared(x) depend(in: x)\n",
    "         printf(\"x = %d\\n\", x);\n",
    "   }\n",
    "   return 0;\n",
    "}\n",
    "\n"
   ]
  },
  {
   "cell_type": "markdown",
   "metadata": {},
   "source": [
    ""
   ]
  },
  {
   "cell_type": "markdown",
   "metadata": {},
   "source": [
    ""
   ]
  },
  {
   "cell_type": "code",
   "execution_count": null,
   "metadata": {},
   "outputs": [],
   "source": [
    "\n",
    "! name: task_dep.1\n",
    "! type: F-free\n",
    "! version:    omp_4.0\n",
    "program example\n",
    "   integer :: x\n",
    "   x = 1\n",
    "   !$omp parallel\n",
    "   !$omp single\n",
    "      !$omp task shared(x) depend(out: x)\n",
    "         x = 2\n",
    "      !$omp end task\n",
    "      !$omp task shared(x) depend(in: x)\n",
    "         print*, \"x = \", x\n",
    "      !$omp end task\n",
    "   !$omp end single\n",
    "   !$omp end parallel\n",
    "end program\n",
    "\n"
   ]
  },
  {
   "cell_type": "markdown",
   "metadata": {},
   "source": [
    ""
   ]
  },
  {
   "cell_type": "markdown",
   "metadata": {},
   "source": [
    "The program will always print  **\"** x = 2 **\"** , because the `depend`  clauses enforce the ordering of the tasks. If the `depend` clauses had been  omitted, then the tasks could execute in any order and the program and the program  would have a race condition."
   ]
  },
  {
   "cell_type": "markdown",
   "metadata": {},
   "source": [
    ""
   ]
  },
  {
   "cell_type": "markdown",
   "metadata": {},
   "source": [
    "### Anti-dependence"
   ]
  },
  {
   "cell_type": "markdown",
   "metadata": {},
   "source": [
    "\index{task dependences!anti dependence}"
   ]
  },
  {
   "cell_type": "markdown",
   "metadata": {},
   "source": [
    "This example shows an anti-dependence using the `depend`  clause on the `task` construct."
   ]
  },
  {
   "cell_type": "markdown",
   "metadata": {},
   "source": [
    ""
   ]
  },
  {
   "cell_type": "code",
   "execution_count": null,
   "metadata": {},
   "outputs": [],
   "source": [
    "//%compiler: clang\n",
 "//%cflags: -fopenmp\n",
 "\n",
    "/*\n",
    "* name: task_dep.2\n",
    "* type: C\n",
    "* version: omp_4.0\n",
    "*/\n",
    "#include <stdio.h>\n",
    "int main()\n",
    "{\n",
    "   int x = 1;\n",
    "   #pragma omp parallel\n",
    "   #pragma omp single\n",
    "   {\n",
    "      #pragma omp task shared(x) depend(in: x)\n",
    "         printf(\"x = %d\\n\", x);\n",
    "      #pragma omp task shared(x) depend(out: x)\n",
    "         x = 2;\n",
    "   }\n",
    "   return 0;\n",
    "}\n",
    "\n"
   ]
  },
  {
   "cell_type": "markdown",
   "metadata": {},
   "source": [
    ""
   ]
  },
  {
   "cell_type": "markdown",
   "metadata": {},
   "source": [
    ""
   ]
  },
  {
   "cell_type": "code",
   "execution_count": null,
   "metadata": {},
   "outputs": [],
   "source": [
    "\n",
    "! name: task_dep.2\n",
    "! type: F-free\n",
    "! version:    omp_4.0\n",
    "program example\n",
    "   integer :: x\n",
    "   x = 1\n",
    "   !$omp parallel\n",
    "   !$omp single\n",
    "      !$omp task shared(x) depend(in: x)\n",
    "         print*, \"x = \", x\n",
    "      !$omp end task\n",
    "      !$omp task shared(x) depend(out: x)\n",
    "         x = 2\n",
    "      !$omp end task\n",
    "   !$omp end single\n",
    "   !$omp end parallel\n",
    "end program\n",
    "\n"
   ]
  },
  {
   "cell_type": "markdown",
   "metadata": {},
   "source": [
    ""
   ]
  },
  {
   "cell_type": "markdown",
   "metadata": {},
   "source": [
    "The program will always print  **\"** x = 1 **\"** , because the `depend`  clauses enforce the ordering of the tasks. If the `depend` clauses had been  omitted, then the tasks could execute in any order and the program would have a  race condition."
   ]
  },
  {
   "cell_type": "markdown",
   "metadata": {},
   "source": [
    ""
   ]
  },
  {
   "cell_type": "markdown",
   "metadata": {},
   "source": [
    "### Output Dependence"
   ]
  },
  {
   "cell_type": "markdown",
   "metadata": {},
   "source": [
    "\index{task dependences!output dependence}"
   ]
  },
  {
   "cell_type": "markdown",
   "metadata": {},
   "source": [
    "This example shows an output dependence using the `depend`  clause on the `task` construct."
   ]
  },
  {
   "cell_type": "markdown",
   "metadata": {},
   "source": [
    ""
   ]
  },
  {
   "cell_type": "code",
   "execution_count": null,
   "metadata": {},
   "outputs": [],
   "source": [
    "//%compiler: clang\n",
 "//%cflags: -fopenmp\n",
 "\n",
    "/*\n",
    "* name: task_dep.3\n",
    "* type: C\n",
    "* version: omp_4.0\n",
    "*/\n",
    "#include <stdio.h>\n",
    "int main() {\n",
    "   int x;\n",
    "   #pragma omp parallel\n",
    "   #pragma omp single\n",
    "   {\n",
    "      #pragma omp task shared(x) depend(out: x)\n",
    "         x = 1;\n",
    "      #pragma omp task shared(x) depend(out: x)\n",
    "         x = 2;\n",
    "      #pragma omp taskwait\n",
    "      printf(\"x = %d\\n\", x);\n",
    "   }\n",
    "   return 0;\n",
    "}\n",
    "\n"
   ]
  },
  {
   "cell_type": "markdown",
   "metadata": {},
   "source": [
    ""
   ]
  },
  {
   "cell_type": "markdown",
   "metadata": {},
   "source": [
    ""
   ]
  },
  {
   "cell_type": "code",
   "execution_count": null,
   "metadata": {},
   "outputs": [],
   "source": [
    "\n",
    "! name: task_dep.3\n",
    "! type: F-free\n",
    "! version:    omp_4.0\n",
    "program example\n",
    "   integer :: x\n",
    "   !$omp parallel\n",
    "   !$omp single\n",
    "      !$omp task shared(x) depend(out: x)\n",
    "         x = 1\n",
    "      !$omp end task\n",
    "      !$omp task shared(x) depend(out: x)\n",
    "         x = 2\n",
    "      !$omp end task\n",
    "      !$omp taskwait\n",
    "      print*, \"x = \", x\n",
    "   !$omp end single\n",
    "   !$omp end parallel\n",
    "end program\n",
    "\n"
   ]
  },
  {
   "cell_type": "markdown",
   "metadata": {},
   "source": [
    ""
   ]
  },
  {
   "cell_type": "markdown",
   "metadata": {},
   "source": [
    "The program will always print  **\"** x = 2 **\"** , because the `depend`  clauses enforce the ordering of the tasks. If the `depend` clauses had been  omitted, then the tasks could execute in any order and the program would have a  race condition."
   ]
  },
  {
   "cell_type": "markdown",
   "metadata": {},
   "source": [
    ""
   ]
  },
  {
   "cell_type": "markdown",
   "metadata": {},
   "source": [
    "### Concurrent Execution with Dependences"
   ]
  },
  {
   "cell_type": "markdown",
   "metadata": {},
   "source": [
    "\index{task dependences!concurrent execution with}"
   ]
  },
  {
   "cell_type": "markdown",
   "metadata": {},
   "source": [
    "In this example we show potentially concurrent execution of tasks using multiple  flow dependences expressed using the `depend` clause on the `task`  construct."
   ]
  },
  {
   "cell_type": "markdown",
   "metadata": {},
   "source": [
    ""
   ]
  },
  {
   "cell_type": "code",
   "execution_count": null,
   "metadata": {},
   "outputs": [],
   "source": [
    "//%compiler: clang\n",
 "//%cflags: -fopenmp\n",
 "\n",
    "/*\n",
    "* name: task_dep.4\n",
    "* type: C\n",
    "* version: omp_4.0\n",
    "*/\n",
    "#include <stdio.h>\n",
    "int main() {\n",
    "   int x = 1;\n",
    "   #pragma omp parallel\n",
    "   #pragma omp single\n",
    "   {\n",
    "      #pragma omp task shared(x) depend(out: x)\n",
    "         x = 2;\n",
    "      #pragma omp task shared(x) depend(in: x)\n",
    "         printf(\"x + 1 = %d. \", x+1);\n",
    "      #pragma omp task shared(x) depend(in: x)\n",
    "         printf(\"x + 2 = %d\\n\", x+2);\n",
    "   }\n",
    "   return 0;\n",
    "}\n",
    "\n"
   ]
  },
  {
   "cell_type": "markdown",
   "metadata": {},
   "source": [
    ""
   ]
  },
  {
   "cell_type": "markdown",
   "metadata": {},
   "source": [
    ""
   ]
  },
  {
   "cell_type": "code",
   "execution_count": null,
   "metadata": {},
   "outputs": [],
   "source": [
    "\n",
    "! name: task_dep.4\n",
    "! type: F-free\n",
    "! version:    omp_4.0\n",
    "\n",
    "program example\n",
    "   integer :: x\n",
    "\n",
    "   x = 1\n",
    "\n",
    "   !$omp parallel\n",
    "   !$omp single\n",
    "\n",
    "      !$omp task shared(x) depend(out: x)\n",
    "         x = 2\n",
    "      !$omp end task\n",
    "\n",
    "      !$omp task shared(x) depend(in: x)\n",
    "         print*, \"x + 1 = \", x+1, \".\"\n",
    "      !$omp end task\n",
    "\n",
    "      !$omp task shared(x) depend(in: x)\n",
    "         print*, \"x + 2 = \", x+2, \".\"\n",
    "      !$omp end task\n",
    "\n",
    "   !$omp end single\n",
    "   !$omp end parallel\n",
    "end program\n",
    "\n"
   ]
  },
  {
   "cell_type": "markdown",
   "metadata": {},
   "source": [
    ""
   ]
  },
  {
   "cell_type": "markdown",
   "metadata": {},
   "source": [
    "The last two tasks are dependent on the first task. However, there is no dependence  between the last two tasks, which may execute in any order (or concurrently if  more than one thread is available). Thus, the possible outputs are  **\"** x  + 1 = 3. x + 2 = 4.  **\"**  and  **\"** x + 2 = 4. x + 1 = 3.  **\"** .  If the `depend` clauses had been omitted, then all of the tasks could execute  in any order and the program would have a race condition."
   ]
  },
  {
   "cell_type": "markdown",
   "metadata": {},
   "source": [
    ""
   ]
  },
  {
   "cell_type": "markdown",
   "metadata": {},
   "source": [
    "### Matrix multiplication"
   ]
  },
  {
   "cell_type": "markdown",
   "metadata": {},
   "source": [
    "\index{task dependences!matrix multiplication}"
   ]
  },
  {
   "cell_type": "markdown",
   "metadata": {},
   "source": [
    "This example shows a task-based blocked matrix multiplication. Matrices are of  NxN elements, and the multiplication is implemented using blocks of BSxBS elements."
   ]
  },
  {
   "cell_type": "markdown",
   "metadata": {},
   "source": [
    ""
   ]
  },
  {
   "cell_type": "code",
   "execution_count": null,
   "metadata": {},
   "outputs": [],
   "source": [
    "//%compiler: clang\n",
 "//%cflags: -fopenmp\n",
 "\n",
    "/*\n",
    "* name: task_dep.5\n",
    "* type: C\n",
    "* version: omp_4.0\n",
    "*/\n",
    "// Assume BS divides N perfectly\n",
    "void matmul_depend(int N, int BS, float A[N][N], float B[N][N], float\n",
    "C[N][N] )\n",
    "{\n",
    "   int i, j, k, ii, jj, kk;\n",
    "   for (i = 0; i < N; i+=BS) {\n",
    "      for (j = 0; j < N; j+=BS) {\n",
    "         for (k = 0; k < N; k+=BS) {\n",
    "// Note 1: i, j, k, A, B, C are firstprivate by default\n",
    "// Note 2: A, B and C are just pointers\n",
    "#pragma omp task private(ii, jj, kk) \\\n",
    "            depend ( in: A[i:BS][k:BS], B[k:BS][j:BS] ) \\\n",
    "            depend ( inout: C[i:BS][j:BS] )\n",
    "            for (ii = i; ii < i+BS; ii++ )\n",
    "               for (jj = j; jj < j+BS; jj++ )\n",
    "                  for (kk = k; kk < k+BS; kk++ )\n",
    "                     C[ii][jj] = C[ii][jj] + A[ii][kk] * B[kk][jj];\n",
    "         }\n",
    "      }\n",
    "   }\n",
    "}\n",
    "\n"
   ]
  },
  {
   "cell_type": "markdown",
   "metadata": {},
   "source": [
    ""
   ]
  },
  {
   "cell_type": "markdown",
   "metadata": {},
   "source": [
    ""
   ]
  },
  {
   "cell_type": "code",
   "execution_count": null,
   "metadata": {},
   "outputs": [],
   "source": [
    "\n",
    "! name: task_dep.5\n",
    "! type: F-free\n",
    "! version:    omp_4.0\n",
    "! Assume BS divides N perfectly\n",
    "subroutine matmul_depend (N, BS, A, B, C)\n",
    "   implicit none\n",
    "   integer :: N, BS, BM\n",
    "   real, dimension(N, N) :: A, B, C\n",
    "   integer :: i, j, k, ii, jj, kk\n",
    "   BM = BS - 1\n",
    "   do i = 1, N, BS\n",
    "      do j = 1, N, BS\n",
    "         do k = 1, N, BS\n",
    "!$omp task shared(A,B,C) private(ii,jj,kk) &\n",
    "!$omp depend ( in: A(i:i+BM, k:k+BM), B(k:k+BM, j:j+BM) ) &\n",
    "!$omp depend ( inout: C(i:i+BM, j:j+BM) )\n",
    "!  I,J,K are firstprivate by default\n",
    "            do ii = i, i+BM\n",
    "               do jj = j, j+BM\n",
    "                  do kk = k, k+BM\n",
    "                     C(jj,ii) = C(jj,ii) + A(kk,ii) * B(jj,kk)\n",
    "                  end do\n",
    "               end do\n",
    "            end do\n",
    "!$omp end task\n",
    "         end do\n",
    "      end do\n",
    "   end do\n",
    "end subroutine\n",
    "\n"
   ]
  },
  {
   "cell_type": "markdown",
   "metadata": {},
   "source": [
    ""
   ]
  },
  {
   "cell_type": "markdown",
   "metadata": {},
   "source": [
    ""
   ]
  },
  {
   "cell_type": "markdown",
   "metadata": {},
   "source": [
    "### `taskwait` with Dependences"
   ]
  },
  {
   "cell_type": "markdown",
   "metadata": {},
   "source": [
    "\index{task dependences!taskwait construct with@`taskwait` construct with} \index{taskwait construct@`taskwait` construct} \index{constructs!taskwait@`taskwait`} \index{taskwait construct@`taskwait` construct!depend clause@`depend` clause} \index{depend clause@`depend` clause} \index{clauses!depend@`depend`}"
   ]
  },
  {
   "cell_type": "markdown",
   "metadata": {},
   "source": [
    "In this subsection three examples illustrate how the `depend` clause can be applied to a `taskwait` construct to make the generating task wait for specific child tasks to complete. This is an OpenMP 5.0 feature.  In the same manner that dependences can order executions among child tasks with `depend` clauses on `task` constructs, the generating task can be scheduled to wait on child tasks at a `taskwait` before it can proceed."
   ]
  },
  {
   "cell_type": "markdown",
   "metadata": {},
   "source": [
    "Note: Since the `depend` clause on a `taskwait` construct relaxes the default synchronization behavior (waiting for all children to finish), it is important to realize that child tasks that are not predecessor tasks, as determined by the `depend` clause of the `taskwait` construct, may be running concurrently while the generating task is executing after the taskwait."
   ]
  },
  {
   "cell_type": "markdown",
   "metadata": {},
   "source": [
    "In the first example the generating task waits at the `taskwait` construct for the completion of the first child task because a dependence on the first task is produced by  _x_  with an `in` dependence type within the `depend` clause of the `taskwait` construct. Immediately after the first `taskwait` construct it is safe to access the  _x_  variable by the generating task, as shown in the print statement. There is no completion restraint on the second child task. Hence, immediately after the first `taskwait` it is unsafe to access the  _y_  variable since the second child task may still be executing. The second `taskwait` ensures that the second child task has completed; hence it is safe to access the  _y_  variable in the following print statement."
   ]
  },
  {
   "cell_type": "markdown",
   "metadata": {},
   "source": [
    ""
   ]
  },
  {
   "cell_type": "code",
   "execution_count": null,
   "metadata": {},
   "outputs": [],
   "source": [
    "//%compiler: clang\n",
 "//%cflags: -fopenmp\n",
 "\n",
    "/*\n",
    "* name: task_dep.6\n",
    "* type: C\n",
    "* version: omp_5.0\n",
    "*/\n",
    "#include<stdio.h>\n",
    "\n",
    "void foo()\n",
    "{\n",
    "    int x = 0, y = 2;\n",
    "\n",
    "    #pragma omp task depend(inout: x) shared(x)\n",
    "    x++;                                        // 1st child task\n",
    "\n",
    "    #pragma omp task shared(y)\n",
    "    y--;                                        // 2nd child task\n",
    "\n",
    "    #pragma omp taskwait depend(in: x)          // 1st taskwait\n",
    "\n",
    "    printf(\"x=%d\\n\",x);\n",
    "\n",
    "    // Second task may not be finished.\n",
    "    // Accessing y here will create a race condition.\n",
    "\n",
    "    #pragma omp taskwait                        // 2nd taskwait\n",
    "\n",
    "    printf(\"y=%d\\n\",y);\n",
    "}\n",
    "\n",
    "int main()\n",
    "{\n",
    "    #pragma omp parallel\n",
    "    #pragma omp single\n",
    "    foo();\n",
    "\n",
    "    return 0;\n",
    "}\n",
    "\n"
   ]
  },
  {
   "cell_type": "markdown",
   "metadata": {},
   "source": [
    ""
   ]
  },
  {
   "cell_type": "markdown",
   "metadata": {},
   "source": [
    ""
   ]
  },
  {
   "cell_type": "code",
   "execution_count": null,
   "metadata": {},
   "outputs": [],
   "source": [
    "\n",
    "! name: task_dep.6\n",
    "! type: F-free\n",
    "! version: omp_5.0\n",
    "subroutine foo()\n",
    "    implicit none\n",
    "    integer :: x, y\n",
    "\n",
    "    x = 0\n",
    "    y = 2\n",
    "\n",
    "    !$omp task depend(inout: x) shared(x)\n",
    "        x = x + 1                         !! 1st child task\n",
    "    !$omp end task\n",
    "\n",
    "    !$omp task shared(y)\n",
    "        y = y - 1                         !! 2nd child task\n",
    "    !$omp end task\n",
    "\n",
    "    !$omp taskwait depend(in: x)          !! 1st taskwait\n",
    "\n",
    "    print*, \"x=\", x\n",
    "\n",
    "    !! Second task may not be finished.\n",
    "    !! Accessing y here will create a race condition.\n",
    "\n",
    "    !$omp taskwait                        !! 2nd taskwait\n",
    "\n",
    "    print*, \"y=\", y\n",
    "\n",
    "end subroutine foo\n",
    "\n",
    "program p\n",
    "    implicit none\n",
    "    !$omp parallel\n",
    "    !$omp single\n",
    "       call foo()\n",
    "    !$omp end single\n",
    "    !$omp end parallel\n",
    "end program p\n",
    "\n"
   ]
  },
  {
   "cell_type": "markdown",
   "metadata": {},
   "source": [
    ""
   ]
  },
  {
   "cell_type": "markdown",
   "metadata": {},
   "source": [
    "In this example the first two tasks are serialized, because a dependence on the first child is produced by  _x_  with the `in` dependence type in the `depend` clause of the second task. However, the generating task at the first `taskwait` waits only on the first child task to complete, because a dependence on only the first child task is produced by  _x_  with an `in` dependence type within the `depend` clause of the `taskwait` construct. The second `taskwait` (without a `depend` clause) is included to guarantee completion of the second task before  _y_  is accessed. (While unnecessary, the `depend(inout:` `y)` clause on the  2nd child task is included to illustrate how the child task dependences can be completely annotated in a data-flow model.)"
   ]
  },
  {
   "cell_type": "markdown",
   "metadata": {},
   "source": [
    ""
   ]
  },
  {
   "cell_type": "markdown",
   "metadata": {},
   "source": [
    ""
   ]
  },
  {
   "cell_type": "code",
   "execution_count": null,
   "metadata": {},
   "outputs": [],
   "source": [
    "//%compiler: clang\n",
 "//%cflags: -fopenmp\n",
 "\n",
    "/*\n",
    "* name: task_dep.7\n",
    "* type: C\n",
    "* version: omp_5.0\n",
    "*/\n",
    "#include<stdio.h>\n",
    "\n",
    "void foo()\n",
    "{\n",
    "    int x = 0, y = 2;\n",
    "\n",
    "    #pragma omp task depend(inout: x) shared(x)\n",
    "    x++;                                          // 1st child task\n",
    "\n",
    "    #pragma omp task depend(in: x) depend(inout: y) shared(x, y)\n",
    "    y -= x;                                       // 2nd child task\n",
    "\n",
    "    #pragma omp taskwait depend(in: x)            // 1st taskwait\n",
    "\n",
    "    printf(\"x=%d\\n\",x);\n",
    "\n",
    "    // Second task may not be finished.\n",
    "    // Accessing y here would create a race condition.\n",
    "\n",
    "    #pragma omp taskwait                          // 2nd taskwait\n",
    "\n",
    "    printf(\"y=%d\\n\",y);\n",
    "\n",
    "}\n",
    "\n",
    "int main()\n",
    "{\n",
    "    #pragma omp parallel\n",
    "    #pragma omp single\n",
    "    foo();\n",
    "\n",
    "    return 0;\n",
    "}\n",
    "\n"
   ]
  },
  {
   "cell_type": "markdown",
   "metadata": {},
   "source": [
    ""
   ]
  },
  {
   "cell_type": "markdown",
   "metadata": {},
   "source": [
    ""
   ]
  },
  {
   "cell_type": "code",
   "execution_count": null,
   "metadata": {},
   "outputs": [],
   "source": [
    "\n",
    "! name: task_dep.7\n",
    "! type: F-free\n",
    "! version: omp_5.0\n",
    "subroutine foo()\n",
    "implicit none\n",
    "integer :: x, y\n",
    "\n",
    "    x = 0\n",
    "    y = 2\n",
    "\n",
    "    !$omp task depend(inout: x) shared(x)\n",
    "        x = x + 1                         !! 1st child task\n",
    "    !$omp end task\n",
    "\n",
    "    !$omp task depend(in: x) depend(inout: y) shared(x, y)\n",
    "        y = y - x                         !! 2nd child task\n",
    "    !$omp end task\n",
    "\n",
    "    !$omp taskwait depend(in: x)          !! 1st taskwait\n",
    "\n",
    "    print*, \"x=\", x\n",
    "\n",
    "    !! Second task may not be finished.\n",
    "    !! Accessing y here would create a race condition.\n",
    "\n",
    "    !$omp taskwait                        !! 2nd taskwait\n",
    "\n",
    "    print*, \"y=\", y\n",
    "\n",
    "end subroutine foo\n",
    "\n",
    "program p\n",
    "implicit none\n",
    "    !$omp parallel\n",
    "    !$omp single\n",
    "       call foo()\n",
    "    !$omp end single\n",
    "    !$omp end parallel\n",
    "end program p\n",
    "\n"
   ]
  },
  {
   "cell_type": "markdown",
   "metadata": {},
   "source": [
    ""
   ]
  },
  {
   "cell_type": "markdown",
   "metadata": {},
   "source": [
    ""
   ]
  },
  {
   "cell_type": "markdown",
   "metadata": {},
   "source": [
    "This example is similar to the previous one, except the generating task is directed to also wait for completion of the second task."
   ]
  },
  {
   "cell_type": "markdown",
   "metadata": {},
   "source": [
    "The `depend` clause of the `taskwait` construct now includes an `in` dependence type for  _y_ .  Hence the generating task must now wait on completion of any child task having  _y_  with an `out` (here `inout`) dependence type in its `depend` clause. So, the `depend` clause of the `taskwait` construct now constrains the second task to complete at the `taskwait`, too. (This change makes the second `taskwait` of the previous example unnecessary-- it has been removed in this example.)"
   ]
  },
  {
   "cell_type": "markdown",
   "metadata": {},
   "source": [
    "Note: While a taskwait construct ensures that all child tasks have completed; a depend clause on a taskwait construct only waits for specific child tasks (prescribed by the dependence type and list items in the `taskwait`'s `depend` clause). This and the previous example illustrate the need to carefully determine the dependence type of variables in the `taskwait` `depend` clause when selecting child tasks that the generating task must wait on, so that its execution after the taskwait does not produce race conditions on variables accessed by non-completed child tasks."
   ]
  },
  {
   "cell_type": "markdown",
   "metadata": {},
   "source": [
    ""
   ]
  },
  {
   "cell_type": "code",
   "execution_count": null,
   "metadata": {},
   "outputs": [],
   "source": [
    "//%compiler: clang\n",
 "//%cflags: -fopenmp\n",
 "\n",
    "/*\n",
    "* name: task_dep.8\n",
    "* type: C\n",
    "* version: omp_5.0\n",
    "*/\n",
    "#include<stdio.h>\n",
    "\n",
    "void foo()\n",
    "{\n",
    "    int x = 0, y = 2;\n",
    "\n",
    "    #pragma omp task depend(inout: x) shared(x)\n",
    "    x++;                                          // 1st child task\n",
    "\n",
    "    #pragma omp task depend(in: x) depend(inout: y) shared(x, y)\n",
    "    y -= x;                                       // 2st child task\n",
    "\n",
    "    #pragma omp taskwait depend(in: x,y)\n",
    "\n",
    "    printf(\"x=%d\\n\",x);\n",
    "    printf(\"y=%d\\n\",y);\n",
    "\n",
    "}\n",
    "\n",
    "int main()\n",
    "{\n",
    "    #pragma omp parallel\n",
    "    #pragma omp single\n",
    "    foo();\n",
    "\n",
    "    return 0;\n",
    "}\n",
    "\n"
   ]
  },
  {
   "cell_type": "markdown",
   "metadata": {},
   "source": [
    ""
   ]
  },
  {
   "cell_type": "markdown",
   "metadata": {},
   "source": [
    ""
   ]
  },
  {
   "cell_type": "code",
   "execution_count": null,
   "metadata": {},
   "outputs": [],
   "source": [
    "\n",
    "! name: task_dep.8\n",
    "! type: F-free\n",
    "! version: omp_5.0\n",
    "subroutine foo()\n",
    "implicit nonE\n",
    "integer :: x, y\n",
    "\n",
    "    x = 0\n",
    "    y = 2\n",
    "\n",
    "    !$omp task depend(inout: x) shared(x)\n",
    "        x = x + 1                         !! 1st child task\n",
    "    !$omp end task\n",
    "\n",
    "    !$omp task depend(in: x) depend(inout: y) shared(x, y)\n",
    "        y = y - x                         !! 2nd child task\n",
    "    !$omp end task\n",
    "\n",
    "    !$omp taskwait depend(in: x,y)\n",
    "\n",
    "    print*, \"x=\", x\n",
    "    print*, \"y=\", y\n",
    "\n",
    "end subroutine foo\n",
    "\n",
    "program p\n",
    "implicit none\n",
    "    !$omp parallel\n",
    "    !$omp single\n",
    "       call foo()\n",
    "    !$omp end single\n",
    "    !$omp end parallel\n",
    "end program p\n",
    "\n"
   ]
  },
  {
   "cell_type": "markdown",
   "metadata": {},
   "source": [
    ""
   ]
  },
  {
   "cell_type": "markdown",
   "metadata": {},
   "source": [
    ""
   ]
  },
  {
   "cell_type": "markdown",
   "metadata": {},
   "source": [
    "### Mutually Exclusive Execution with Dependences"
   ]
  },
  {
   "cell_type": "markdown",
   "metadata": {},
   "source": [
    "\index{task dependences!mutually exclusive execution}"
   ]
  },
  {
   "cell_type": "markdown",
   "metadata": {},
   "source": [
    "In this example we show a series of tasks, including mutually exclusive tasks, expressing dependences using the `depend` clause on the `task` construct."
   ]
  },
  {
   "cell_type": "markdown",
   "metadata": {},
   "source": [
    "The program will always print 6. Tasks T1, T2 and T3 will be scheduled first, in any order. Task T4 will be scheduled after tasks T1 and T2 are completed. T5 will be scheduled after tasks T1 and T3 are completed. Due to the `mutexinoutset` dependence type on `c`, T4 and T5 may be scheduled in any order with respect to each other, but not at the same time. Tasks T6 will be scheduled after both T4 and T5 are completed."
   ]
  },
  {
   "cell_type": "markdown",
   "metadata": {},
   "source": [
    ""
   ]
  },
  {
   "cell_type": "code",
   "execution_count": null,
   "metadata": {},
   "outputs": [],
   "source": [
    "//%compiler: clang\n",
 "//%cflags: -fopenmp\n",
 "\n",
    "/*\n",
    "* name: task_dep.9\n",
    "* type: C\n",
    "* version: omp_5.0\n",
    "*/\n",
    "#include <stdio.h>\n",
    "int main()\n",
    "{\n",
    "   int a, b, c, d;\n",
    "   #pragma omp parallel\n",
    "   #pragma omp single\n",
    "   {\n",
    "      #pragma omp task depend(out: c)\n",
    "         c = 1;   /* Task T1 */\n",
    "      #pragma omp task depend(out: a)\n",
    "         a = 2;   /* Task T2 */\n",
    "      #pragma omp task depend(out: b)\n",
    "         b = 3;   /* Task T3 */\n",
    "      #pragma omp task depend(in: a) depend(mutexinoutset: c)\n",
    "         c += a;  /* Task T4 */\n",
    "      #pragma omp task depend(in: b) depend(mutexinoutset: c)\n",
    "         c += b;  /* Task T5 */\n",
    "      #pragma omp task depend(in: c)\n",
    "         d = c;   /* Task T6 */\n",
    "   }\n",
    "   printf(\"%d\\n\", d);\n",
    "   return 0;\n",
    "}\n",
    "\n"
   ]
  },
  {
   "cell_type": "markdown",
   "metadata": {},
   "source": [
    ""
   ]
  },
  {
   "cell_type": "markdown",
   "metadata": {},
   "source": [
    ""
   ]
  },
  {
   "cell_type": "code",
   "execution_count": null,
   "metadata": {},
   "outputs": [],
   "source": [
    "\n",
    "! name: task_dep.9\n",
    "! type: F-free\n",
    "! version:    omp_5.0\n",
    "program example\n",
    "   integer :: a, b, c, d\n",
    "   !$omp parallel\n",
    "   !$omp single\n",
    "      !$omp task depend(out: c)\n",
    "      c = 1      ! Task T1\n",
    "      !$omp end task\n",
    "      !$omp task depend(out: a)\n",
    "      a = 2      ! Task T2\n",
    "      !$omp end task\n",
    "      !$omp task depend(out: b)\n",
    "      b = 3      ! Task T3\n",
    "      !$omp end task\n",
    "      !$omp task depend(in: a) depend(mutexinoutset: c)\n",
    "      c = c + a  ! Task T4\n",
    "      !$omp end task\n",
    "      !$omp task depend(in: b) depend(mutexinoutset: c)\n",
    "      c = c + b  ! Task T5\n",
    "      !$omp end task\n",
    "      !$omp task depend(in: c)\n",
    "      d = c      ! Task T6\n",
    "      !$omp end task\n",
    "   !$omp end single\n",
    "   !$omp end parallel\n",
    "   print *, d\n",
    "end program\n",
    "\n"
   ]
  },
  {
   "cell_type": "markdown",
   "metadata": {},
   "source": [
    ""
   ]
  },
  {
   "cell_type": "markdown",
   "metadata": {},
   "source": [
    "The following example demonstrates a situation where the `mutexinoutset` dependence type is advantageous. If `shortTaskB` completes before `longTaskA`, the runtime can take advantage of this by scheduling `longTaskBC` before `shortTaskAC`."
   ]
  },
  {
   "cell_type": "markdown",
   "metadata": {},
   "source": [
    ""
   ]
  },
  {
   "cell_type": "code",
   "execution_count": null,
   "metadata": {},
   "outputs": [],
   "source": [
    "//%compiler: clang\n",
 "//%cflags: -fopenmp\n",
 "\n",
    "/*\n",
    "* name: task_dep.10\n",
    "* type: C\n",
    "* version: omp_5.0\n",
    "*/\n",
    "extern int longTaskA(), shortTaskB();\n",
    "extern int shortTaskAC(int,int), longTaskBC(int,int);\n",
    "void foo (void)\n",
    "{\n",
    "  int a, b, c;\n",
    "  c = 0;\n",
    "  #pragma omp parallel\n",
    "  #pragma omp single\n",
    "  {\n",
    "     #pragma omp task depend(out: a)\n",
    "        a = longTaskA();\n",
    "     #pragma omp task depend(out: b)\n",
    "        b = shortTaskB();\n",
    "     #pragma omp task depend(in: a) depend(mutexinoutset: c)\n",
    "        c = shortTaskAC(a,c);\n",
    "     #pragma omp task depend(in: b) depend(mutexinoutset: c)\n",
    "        c = longTaskBC(b,c);\n",
    "  }\n",
    "}\n",
    "\n"
   ]
  },
  {
   "cell_type": "markdown",
   "metadata": {},
   "source": [
    ""
   ]
  },
  {
   "cell_type": "markdown",
   "metadata": {},
   "source": [
    ""
   ]
  },
  {
   "cell_type": "code",
   "execution_count": null,
   "metadata": {},
   "outputs": [],
   "source": [
    "\n",
    "! name: task_dep.10\n",
    "! type: F-free\n",
    "! version:    omp_5.0\n",
    "subroutine foo\n",
    "   integer :: a,b,c\n",
    "   c = 0\n",
    "   !$omp parallel\n",
    "   !$omp single\n",
    "      !$omp task depend(out: a)\n",
    "         a = longTaskA()\n",
    "      !$omp end task\n",
    "      !$omp task depend(out: b)\n",
    "         b = shortTaskB()\n",
    "      !$omp end task\n",
    "      !$omp task depend(in: a) depend(mutexinoutset: c)\n",
    "         c = shortTaskAC(a,c)\n",
    "      !$omp end task\n",
    "      !$omp task depend(in: b) depend(mutexinoutset: c)\n",
    "         c = longTaskBC(b,c)\n",
    "      !$omp end task\n",
    "   !$omp end single\n",
    "   !$omp end parallel\n",
    "end subroutine foo\n",
    "\n"
   ]
  },
  {
   "cell_type": "markdown",
   "metadata": {},
   "source": [
    ""
   ]
  },
  {
   "cell_type": "markdown",
   "metadata": {},
   "source": [
    ""
   ]
  },
  {
   "cell_type": "markdown",
   "metadata": {},
   "source": [
    "### Multidependences Using Iterators"
   ]
  },
  {
   "cell_type": "markdown",
   "metadata": {},
   "source": [
    "\index{task dependences!using iterators} \index{depend clause@`depend` clause!iterator modifier@`iterator` modifier} \index{iterator modifier@`iterator` modifier}"
   ]
  },
  {
   "cell_type": "markdown",
   "metadata": {},
   "source": [
    "The following example uses an iterator to define a dynamic number of dependences."
   ]
  },
  {
   "cell_type": "markdown",
   "metadata": {},
   "source": [
    "In the `single` construct of a parallel region a loop generates n tasks and each task has an `out` dependence specified through an element of the  _v_  array.  This is followed by a single task that defines an `in` dependence on each element of the array.  This is accomplished by using the `iterator` modifier in the `depend` clause, supporting a dynamic number of dependences ( _n_  here)."
   ]
  },
  {
   "cell_type": "markdown",
   "metadata": {},
   "source": [
    "The task for the  _print_all_elements_  function is not executed until all dependences prescribed (or registered) by the iterator are fulfilled; that is, after all the tasks generated by the loop have completed."
   ]
  },
  {
   "cell_type": "markdown",
   "metadata": {},
   "source": [
    "Note, one cannot simply use an array section in the `depend` clause of the second task construct because this would violate the `depend` clause restriction:"
   ]
  },
  {
   "cell_type": "markdown",
   "metadata": {},
   "source": [
    "\"List items used in `depend` clauses of the same task or sibling tasks must indicate identical storage locations or disjoint storage locations\"."
   ]
  },
  {
   "cell_type": "markdown",
   "metadata": {},
   "source": [
    "In this case each of the loop tasks use a single disjoint (different storage) element in their `depend` clause; however, the array-section storage area prescribed in the commented directive is neither identical nor disjoint to the storage prescribed by the elements of the loop tasks.  The iterator overcomes this restriction by effectively creating n disjoint storage areas."
   ]
  },
  {
   "cell_type": "markdown",
   "metadata": {},
   "source": [
    ""
   ]
  },
  {
   "cell_type": "code",
   "execution_count": null,
   "metadata": {},
   "outputs": [],
   "source": [
    "//%compiler: clang\n",
 "//%cflags: -fopenmp\n",
 "\n",
    "/*\n",
    "* name:       task_dep.11\n",
    "* type:       C\n",
    "* version: omp_5.0\n",
    "*/\n",
    "#include<stdio.h>\n",
    "\n",
    "void set_an_element(int *p, int val) {\n",
    "    *p = val;\n",
    "}\n",
    "\n",
    "void print_all_elements(int *v, int n) {\n",
    "    int i;\n",
    "    for (i = 0; i < n; ++i) {\n",
    "        printf(\"%d, \", v[i]);\n",
    "    }\n",
    "    printf(\"\\n\");\n",
    "}\n",
    "\n",
    "void parallel_computation(int n) {\n",
    "    int v[n];\n",
    "    #pragma omp parallel\n",
    "    #pragma omp single\n",
    "    {\n",
    "        int i;\n",
    "        for (i = 0; i < n; ++i)\n",
    "            #pragma omp task depend(out: v[i])\n",
    "            set_an_element(&v[i], i);\n",
    "\n",
    "        #pragma omp task depend(iterator(it = 0:n), in: v[it])\n",
    "     // The following violates array-section restriction:\n",
    "     // #pragma omp task depend(in: v[0:n])\n",
    "        print_all_elements(v, n);\n",
    "    }\n",
    "}\n",
    "\n",
    "\n"
   ]
  },
  {
   "cell_type": "markdown",
   "metadata": {},
   "source": [
    ""
   ]
  },
  {
   "cell_type": "markdown",
   "metadata": {},
   "source": [
    ""
   ]
  },
  {
   "cell_type": "code",
   "execution_count": null,
   "metadata": {},
   "outputs": [],
   "source": [
    "\n",
    "! name: task_dep.11\n",
    "! type: F-free\n",
    "! version:    omp_5.0\n",
    "subroutine set_an_element(e, val)\n",
    "    implicit none\n",
    "    integer :: e, val\n",
    "\n",
    "    e = val\n",
    "\n",
    "end subroutine\n",
    "\n",
    "subroutine print_all_elements(v, n)\n",
    "    implicit none\n",
    "    integer :: n, v(n)\n",
    "\n",
    "    print *, v\n",
    "\n",
    "end subroutine\n",
    "\n",
    "subroutine parallel_computation(n)\n",
    "    implicit none\n",
    "    integer :: n\n",
    "    integer :: i, v(n)\n",
    "\n",
    "    !$omp parallel\n",
    "    !$omp single\n",
    "        do i=1, n\n",
    "            !$omp task depend(out: v(i))\n",
    "                 call set_an_element(v(i), i)\n",
    "            !$omp end task\n",
    "        enddo\n",
    "\n",
    "        !$omp task depend(iterator(it = 1:n), in: v(it))\n",
    "       !!$omp task depend(in: v(1:n)) Violates Array section restriction.\n",
    "            call print_all_elements(v, n)\n",
    "        !$omp end task\n",
    "\n",
    "    !$omp end single\n",
    "    !$omp end parallel\n",
    "end subroutine\n",
    "\n"
   ]
  },
  {
   "cell_type": "markdown",
   "metadata": {},
   "source": [
    ""
   ]
  },
  {
   "cell_type": "markdown",
   "metadata": {},
   "source": [
    ""
   ]
  },
  {
   "cell_type": "markdown",
   "metadata": {},
   "source": [
    "### Dependence for Undeferred Tasks"
   ]
  },
  {
   "cell_type": "markdown",
   "metadata": {},
   "source": [
    "\index{task dependences!undeferred tasks}"
   ]
  },
  {
   "cell_type": "markdown",
   "metadata": {},
   "source": [
    "In the following example, we show that even if a task is undeferred as specified by an `if` clause that evaluates to  _false_ , task dependences are still honored."
   ]
  },
  {
   "cell_type": "markdown",
   "metadata": {},
   "source": [
    "The `depend` clauses of the first and second explicit tasks specify that the first task is completed before the second task."
   ]
  },
  {
   "cell_type": "markdown",
   "metadata": {},
   "source": [
    "The second explicit task has an `if` clause that evaluates to  _false_ . This means that the execution of the generating task (the implicit task of the `single` region) must be suspended until the second explicit task is completed. But, because of the dependence, the first explicit task must complete first, then the second explicit task can execute and complete, and only then  the generating task can resume to the print statement. Thus, the program will always print \" **x = 2** \"."
   ]
  },
  {
   "cell_type": "markdown",
   "metadata": {},
   "source": [
    ""
   ]
  },
  {
   "cell_type": "code",
   "execution_count": null,
   "metadata": {},
   "outputs": [],
   "source": [
    "//%compiler: clang\n",
 "//%cflags: -fopenmp\n",
 "\n",
    "/*\n",
    "* name: task_dep.12\n",
    "* type: C\n",
    "* version: omp_4.0\n",
    "*/\n",
    "#include <stdio.h>\n",
    "int main (int argc, char *argv[])\n",
    "{\n",
    "  int x = 0;\n",
    "  #pragma omp parallel\n",
    "  #pragma omp single\n",
    "  {\n",
    "    /* first explicit task */\n",
    "    #pragma omp task shared(x) depend(out: x)\n",
    "      x = 1;\n",
    "\n",
    "    /* second explicit task */\n",
    "    #pragma omp task shared(x) depend(inout: x) if(0)\n",
    "      x = 2;\n",
    "\n",
    "    /* statement executed by parent implicit task\n",
    "       prints: x = 2 */\n",
    "    printf(\"x = %d\\n\", x);\n",
    "  }\n",
    "  return 0;\n",
    "}\n",
    "\n"
   ]
  },
  {
   "cell_type": "markdown",
   "metadata": {},
   "source": [
    ""
   ]
  },
  {
   "cell_type": "markdown",
   "metadata": {},
   "source": [
    ""
   ]
  },
  {
   "cell_type": "code",
   "execution_count": null,
   "metadata": {},
   "outputs": [],
   "source": [
    "\n",
    "! name: task_dep.12\n",
    "! type: F-free\n",
    "! version: omp_4.0\n",
    "program example\n",
    "   integer :: x\n",
    "   x = 0\n",
    "   !$omp parallel\n",
    "   !$omp single\n",
    "     !... first explicit task\n",
    "      !$omp task shared(x) depend(out: x)\n",
    "         x = 1\n",
    "      !$omp end task\n",
    "\n",
    "     !... second explicit task\n",
    "      !$omp task shared(x) depend(inout: x) if(.false.)\n",
    "         x = 2\n",
    "      !$omp end task\n",
    "\n",
    "     !... statement executed by parent implicit task\n",
    "     ! prints: x = 2\n",
    "      print*, \"x = \", x\n",
    "   !$omp end single\n",
    "   !$omp end parallel\n",
    "end program\n",
    "\n"
   ]
  },
  {
   "cell_type": "markdown",
   "metadata": {},
   "source": [
    ""
   ]
  },
  {
   "cell_type": "markdown",
   "metadata": {},
   "source": [
    ""
   ]
  },
  {
   "cell_type": "markdown",
   "metadata": {},
   "source": [
    "In OpenMP 5.1 the \scode{omp_all_memory} \splc{reserved locator} was introduced to specify storage of all objects in memory. In the following example, it is used in Task 4 as a convenient way to specify that the locator (list item) denotes the storage of all objects (locations) in memory, and  will therefore match the \splc{a} and \splc{d} locators of Task 2, Task 3 and Task 6. The dependences guarantee the ordered execution of Tasks 2 and 3 before 4, and Task 4 before Task 6. Since there are no dependences imposed on Task 1 and Task 5, they can be scheduled to execute at any time, with no ordering."
   ]
  },
  {
   "cell_type": "markdown",
   "metadata": {},
   "source": [
    ""
   ]
  },
  {
   "cell_type": "code",
   "execution_count": null,
   "metadata": {},
   "outputs": [],
   "source": [
    "//%compiler: clang\n",
 "//%cflags: -fopenmp\n",
 "\n",
    "/*\n",
    "* name:       task_dep.13\n",
    "* type:       C\n",
    "* version:    omp_5.1\n",
    "*/\n",
    "#include <stdio.h>\n",
    "\n",
    "int main(){\n",
    "   int a=1, d=1;\n",
    "\n",
    "   #pragma omp parallel masked num_threads(5)\n",
    "   {\n",
    "      #pragma omp task                               // Task 1\n",
    "      { printf(\"T1\\n\"); }\n",
    "\n",
    "      #pragma omp task depend(out: a)                // Task 2\n",
    "      { a++;\n",
    "        printf(\"T2 a=%i\\n\", a); }\n",
    "\n",
    "      #pragma omp task depend(out: d)                // Task 3\n",
    "      { d++;\n",
    "        printf(\"T3 d=%i\\n\", d); }\n",
    "\n",
    "      #pragma omp task depend(inout: omp_all_memory) // Task 4\n",
    "      { a++; d++;\n",
    "        printf(\"T4 a=%i d=%i\\n\",   a,d);}\n",
    "\n",
    "      #pragma omp task                               // Task 5\n",
    "      { printf(\"T5\\n\"); }\n",
    "\n",
    "      #pragma omp task depend(in: a,d)               // Task 6\n",
    "      { a++; d++;\n",
    "        printf(\"T6 a=%i d=%i\\n\", a,d); }\n",
    "   }\n",
    "}\n",
    "\n",
    "/* OUTPUT: ordered {T2,T3 any order}, {T4}, {T6}\n",
    "    T2 a=2\n",
    "    T3 d=2\n",
    "    T4 a=3 d=3\n",
    "    T6 a=4 d=4\n",
    "\n",
    "  OUTPUT: unordered (can appear interspersed in ordered output)\n",
    "    T1\n",
    "    T5\n",
    "*/\n",
    "\n"
   ]
  },
  {
   "cell_type": "markdown",
   "metadata": {},
   "source": [
    ""
   ]
  },
  {
   "cell_type": "code",
   "execution_count": null,
   "metadata": {},
   "outputs": [],
   "source": [
    "\n",
    "! name: task_dep.13\n",
    "! type: F-free\n",
    "! version: omp_5.1\n",
    "program main\n",
    "  integer :: a=1, d=1\n",
    "\n",
    "  !$omp parallel masked  num_threads(5)\n",
    "\n",
    "    !$omp task                                 !! Task 1\n",
    "       write(*,'(\"T1\")')\n",
    "    !$omp end task\n",
    "\n",
    "    !$omp task depend(out: a)                  !! Task 2\n",
    "       a=a+1\n",
    "       write(*,'(\"T2 a=\",i1)') a\n",
    "    !$omp end task\n",
    "\n",
    "    !$omp task depend(out: d)                  !! Task 3\n",
    "       d=d+1\n",
    "       write(*,'(\"T3 d=\",i1)') d\n",
    "    !$omp end task\n",
    "\n",
    "\n",
    "    !$omp task depend(inout: omp_all_memory)   !! Task 4\n",
    "       a=a+1; d=d+1\n",
    "       write(*,'(\"T4 a=\",i1,\" d=\",i1)') a, d\n",
    "    !$omp end task\n",
    "\n",
    "    !$omp task                                 !! Task 5\n",
    "       write(*,'(\"T5\")')\n",
    "    !$omp end task\n",
    "\n",
    "    !$omp task depend(in: a,d)                 !! Task 6\n",
    "       a=a+1; d=d+1\n",
    "       write(*,'(\"T6 a=\",i1,\" d=\",i1)') a, d\n",
    "    !$omp end task\n",
    "\n",
    "  !$omp end parallel masked\n",
    "\n",
    "end program\n",
    "\n",
    "! OUTPUT: ordered  {T2,T3 any order}, {T4}, {T6}\n",
    "! T2 a=2\n",
    "! T3 d=2\n",
    "! T4 a=3 d=3\n",
    "! T6 a=4 d=4\n",
    "! OUTPUT: unordered (can appear interspersed in ordered output)\n",
    "! T1\n",
    "! T5\n",
    "\n"
   ]
  },
  {
   "cell_type": "markdown",
   "metadata": {},
   "source": [
    "../../tasking/task_dep.tex"
   ]
  },
  {
   "cell_type": "markdown",
   "metadata": {},
   "source": [
    ""
   ]
  },
  {
   "cell_type": "markdown",
   "metadata": {},
   "source": [
    "## Task Detachment"
   ]
  },
  {
   "cell_type": "markdown",
   "metadata": {},
   "source": [
    "\index{task construct@`task` construct!detach clause@`detach` clause} \index{detach clause@`detach` clause} \index{clauses!detach@`detach`} \index{routines!omp_fulfill_event@\scode{omp_fulfill_event}} \index{omp_fulfill_event routine@\scode{omp_fulfill_event} routine}"
   ]
  },
  {
   "cell_type": "markdown",
   "metadata": {},
   "source": [
    ""
   ]
  },
  {
   "cell_type": "markdown",
   "metadata": {},
   "source": [
    "The `detach` clause on a `task` construct provides a mechanism for an asynchronous routine to be called within a task block, and for the routine's callback to signal completion to the OpenMP runtime, through an  event fulfillment, triggered by a call to the `omp_fulfill_event` routine. When a `detach` clause is used on a task construct, completion of the **detachable** task occurs when the task's structured block is completed AND an  _allow-completion_  event is fulfilled by a call to the `omp_fulfill_event`  routine with the  _event-handle_  argument."
   ]
  },
  {
   "cell_type": "markdown",
   "metadata": {},
   "source": [
    "The first example illustrates the basic components used in a detachable task. The second example is a program that executes asynchronous IO, and illustrates  methods that are also inherent in asynchronous messaging within MPI and asynchronous commands in  streams within GPU codes. Interfaces to asynchronous operations found in IO, MPI and GPU parallel computing platforms and their programming models are not standardized."
   ]
  },
  {
   "cell_type": "markdown",
   "metadata": {},
   "source": [
    "-------------------------"
   ]
  },
  {
   "cell_type": "markdown",
   "metadata": {},
   "source": [
    "The first example creates a detachable task that executes the asynchronous  _async_work_  routine, passing the  _omp_fulfill_event_  function and the (firstprivate) event handle to the function. Here, the `omp_fulfill_event` function is the \"callback'' function to be executed at the end of the  _async_work_  function's asynchronous operations, with the associated data,  _event_ ."
   ]
  },
  {
   "cell_type": "markdown",
   "metadata": {},
   "source": [
    ""
   ]
  },
  {
   "cell_type": "code",
   "execution_count": null,
   "metadata": {},
   "outputs": [],
   "source": [
    "//%compiler: clang\n",
 "//%cflags: -fopenmp\n",
 "\n",
    "/*\n",
    "* name:       task_detach.1\n",
    "* type:       C\n",
    "* version:    omp_5.0\n",
    "*/\n",
    "#include <omp.h>\n",
    "\n",
    "void async_work(void (*)(void*), void*);\n",
    "void work();\n",
    "\n",
    "int main() {\n",
    "  int async=1;\n",
    "  #pragma omp parallel\n",
    "  #pragma omp masked\n",
    "  {\n",
    "\n",
    "    omp_event_handle_t event;\n",
    "    #pragma omp task detach(event)\n",
    "    {\n",
    "      if(async) {\n",
    "        async_work( (void (*)(void*)) omp_fulfill_event, (void*) event );\n",
    "      } else {\n",
    "        work();\n",
    "        omp_fulfill_event(event);\n",
    "      }\n",
    "    }\n",
    "                  // Other work\n",
    "    #pragma omp taskwait\n",
    "  }\n",
    "  return 0;\n",
    "}\n",
    "\n"
   ]
  },
  {
   "cell_type": "markdown",
   "metadata": {},
   "source": [
    ""
   ]
  },
  {
   "cell_type": "markdown",
   "metadata": {},
   "source": [
    ""
   ]
  },
  {
   "cell_type": "code",
   "execution_count": null,
   "metadata": {},
   "outputs": [],
   "source": [
    "\n",
    "! name: task_detach.1\n",
    "! type: F-free\n",
    "! version:    omp_5.0\n",
    "program main\n",
    "  use omp_lib\n",
    "  implicit none\n",
    "\n",
    "  external :: async_work, work\n",
    "\n",
    "  logical :: async=.true.\n",
    "  integer(omp_event_handle_kind) :: event\n",
    "\n",
    "  !$omp parallel\n",
    "  !$omp masked\n",
    "\n",
    "    !$omp task detach(event)\n",
    "\n",
    "      if(async) then\n",
    "        call async_work(omp_fulfill_event, event)\n",
    "      else\n",
    "        call work()\n",
    "        call omp_fulfill_event(event)\n",
    "      endif\n",
    "\n",
    "    !$omp end task\n",
    "                  !! Other work\n",
    "\n",
    "    !$omp taskwait\n",
    "\n",
    "  !$omp end masked\n",
    "  !$omp end parallel\n",
    "\n",
    "end program\n",
    "\n"
   ]
  },
  {
   "cell_type": "markdown",
   "metadata": {},
   "source": [
    ""
   ]
  },
  {
   "cell_type": "markdown",
   "metadata": {},
   "source": [
    ""
   ]
  },
  {
   "cell_type": "markdown",
   "metadata": {},
   "source": [
    "In the following example, text data is written asynchronously to the file  _async_data_ , using POSIX asynchronous IO (aio). An aio \"control block'',  _cb_ , is set up to send a signal when IO is complete, and the  _sigaction_  function registers the signal action, a callback to  _callback_aioSigHandler_ ."
   ]
  },
  {
   "cell_type": "markdown",
   "metadata": {},
   "source": [
    "The first task (TASK1) starts the asynchronous IO and runs as a detachable task. The second and third tasks (TASK2 and TASK3) perform synchronous IO to stdout with print statements. The difference between the two types of tasks is that the thread for TASK1 is freed for  other execution within the parallel region, while the threads for TASK2 and TASK3 wait on the (synchronous) IO to complete, and cannot perform other work while the  operating system is performing the synchronous IO.  The `if` clause ensures that the detachable task is launched  and the call to the \splc{aio_write} function returns before TASK2 and TASK3 are generated (while the async IO occurs in the \"background'' and eventually executes the callback function).  The barrier at the end of the parallel region ensures that the detachable task has completed."
   ]
  },
  {
   "cell_type": "markdown",
   "metadata": {},
   "source": [
    ""
   ]
  },
  {
   "cell_type": "code",
   "execution_count": null,
   "metadata": {},
   "outputs": [],
   "source": [
    "//%compiler: clang\n",
 "//%cflags: -fopenmp\n",
 "\n",
    "/*\n",
    "* name:       task_detach.2\n",
    "* type:       C\n",
    "* version:    omp_5.0\n",
    "*/\n",
    "\n",
    "// use -lrt on loader line\n",
    "#include  <stdio.h>\n",
    "#include <unistd.h>\n",
    "#include  <fcntl.h>\n",
    "#include    <aio.h>\n",
    "#include  <errno.h>\n",
    "#include <signal.h>\n",
    "\n",
    "#include    <omp.h>\n",
    "\n",
    "#define IO_SIGNAL SIGUSR1        // Signal used to notify I/O completion\n",
    "\n",
    "                                 // Handler for I/O completion signal\n",
    "static void callback_aioSigHandler(int sig, siginfo_t *si,\n",
    "                                   void *ucontext) {\n",
    "   if (si->si_code == SI_ASYNCIO){\n",
    "      printf( \"OUT: I/O completion signal received.\\n\");\n",
    "      omp_fulfill_event( (omp_event_handle_t)(si->si_value.sival_ptr) );\n",
    "   }\n",
    "}\n",
    "\n",
    "void work(int i){ printf(\"OUT: Executing work(%d)\\n\", i);}\n",
    "\n",
    "int main() {\n",
    "   // Write \"Written Asynchronously.\" to file data, using POSIX\n",
    "   // asynchronous IO. Error checking not included for clarity\n",
    "   // and simplicity.\n",
    "\n",
    "   char      data[] = \"Written Asynchronously.\";\n",
    "\n",
    "   struct     aiocb cb;\n",
    "   struct sigaction sa;\n",
    "\n",
    "   omp_event_handle_t event;\n",
    "\n",
    "   int fd = open(  \"async_data\", O_CREAT|O_RDWR|O_TRUNC,0664);\n",
    "\n",
    "   // Setup async io (aio) control block (cb)\n",
    "   cb.aio_nbytes  = sizeof(data)-1;\n",
    "   cb.aio_fildes  = fd;\n",
    "   cb.aio_buf     = data;\n",
    "   cb.aio_reqprio = 0;\n",
    "   cb.aio_offset  = 0;\n",
    "   cb.aio_sigevent.sigev_notify = SIGEV_SIGNAL;\n",
    "   cb.aio_sigevent.sigev_signo  = IO_SIGNAL;\n",
    "\n",
    "   // Setup Signal Handler  Callback\n",
    "   sigemptyset(&sa.sa_mask);\n",
    "   sa.sa_flags = SA_RESTART | SA_SIGINFO;\n",
    "   sa.sa_sigaction = callback_aioSigHandler;   //callback\n",
    "   sigaction(IO_SIGNAL, &sa, NULL);\n",
    "\n",
    "   #pragma omp parallel num_threads(2)\n",
    "   #pragma omp masked\n",
    "   {\n",
    "\n",
    "      #pragma omp task detach(event) if(0)               // TASK1\n",
    "      {\n",
    "         cb.aio_sigevent.sigev_value.sival_ptr = (void *) event;\n",
    "         aio_write(&cb);\n",
    "      }\n",
    "\n",
    "      #pragma omp task                                   // TASK2\n",
    "         work(1);\n",
    "      #pragma omp task                                   // TASK3\n",
    "         work(2);\n",
    "\n",
    "   } // Parallel region barrier ensures completion of detachable task.\n",
    "\n",
    "   // Making sure the aio operation completed.\n",
    "   // With OpenMP detachable task the condition will always be false:\n",
    "   while(aio_error(&cb) == EINPROGRESS) {\n",
    "   printf(\" INPROGRESS\\n\");} //Safeguard\n",
    "\n",
    "   close(fd);\n",
    "   return 0;\n",
    "}\n",
    "/* Any Order:\n",
    "OUT: I/O completion signal received.\n",
    "OUT: Executing work(1)\n",
    "OUT: Executing work(2)\n",
    "*/\n",
    "\n"
   ]
  },
  {
   "cell_type": "markdown",
   "metadata": {},
   "source": [
    ""
   ]
  },
  {
   "cell_type": "markdown",
   "metadata": {},
   "source": [
    "../../tasking/task_detach.tex"
   ]
  },
  {
   "cell_type": "markdown",
   "metadata": {},
   "source": [
    ""
   ]
  },
  {
   "cell_type": "markdown",
   "metadata": {},
   "source": [
    "## `taskgroup` Construct"
   ]
  },
  {
   "cell_type": "markdown",
   "metadata": {},
   "source": [
    "\index{constructs!taskgroup@`taskgroup`} \index{taskgroup construct@`taskgroup` construct}"
   ]
  },
  {
   "cell_type": "markdown",
   "metadata": {},
   "source": [
    "In this example, tasks are grouped and synchronized using the `taskgroup`  construct."
   ]
  },
  {
   "cell_type": "markdown",
   "metadata": {},
   "source": [
    "Initially, one task (the task executing the `start_background_work()`  call) is created in the `parallel` region, and later a parallel tree traversal  is started (the task executing the root of the recursive `compute_tree()`  calls). While synchronizing tasks at the end of each tree traversal, using the  `taskgroup` construct ensures that the formerly started background task  does not participate in the synchronization and is left free to execute in parallel.  This is opposed to the behavior of the `taskwait` construct, which would  include the background tasks in the synchronization."
   ]
  },
  {
   "cell_type": "markdown",
   "metadata": {},
   "source": [
    ""
   ]
  },
  {
   "cell_type": "code",
   "execution_count": null,
   "metadata": {},
   "outputs": [],
   "source": [
    "//%compiler: clang\n",
 "//%cflags: -fopenmp\n",
 "\n",
    "/*\n",
    "* name: taskgroup.1\n",
    "* type: C\n",
    "* version: omp_4.0\n",
    "*/\n",
    "extern void start_background_work(void);\n",
    "extern void check_step(void);\n",
    "extern void print_results(void);\n",
    "struct tree_node\n",
    "{\n",
    "   struct tree_node *left;\n",
    "   struct tree_node *right;\n",
    "};\n",
    "typedef struct tree_node* tree_type;\n",
    "extern void init_tree(tree_type);\n",
    "#define max_steps 100\n",
    "void compute_something(tree_type tree)\n",
    "{\n",
    "   // some computation\n",
    "}\n",
    "void compute_tree(tree_type tree)\n",
    "{\n",
    "   if (tree->left)\n",
    "   {\n",
    "     #pragma omp task\n",
    "       compute_tree(tree->left);\n",
    "   }\n",
    "   if (tree->right)\n",
    "   {\n",
    "     #pragma omp task\n",
    "       compute_tree(tree->right);\n",
    "   }\n",
    "   #pragma omp task\n",
    "   compute_something(tree);\n",
    "}\n",
    "int main()\n",
    "{\n",
    "  int i;\n",
    "  tree_type tree;\n",
    "  init_tree(tree);\n",
    "  #pragma omp parallel\n",
    "  #pragma omp single\n",
    "  {\n",
    "    #pragma omp task\n",
    "      start_background_work();\n",
    "    for (i = 0; i < max_steps; i++)\n",
    "    {\n",
    "        #pragma omp taskgroup\n",
    "        {\n",
    "           #pragma omp task\n",
    "             compute_tree(tree);\n",
    "        } // wait on tree traversal in this step\n",
    "        check_step();\n",
    "    }\n",
    "  } // only now is background work required to be complete\n",
    "  print_results();\n",
    "  return 0;\n",
    "}\n",
    "\n"
   ]
  },
  {
   "cell_type": "markdown",
   "metadata": {},
   "source": [
    ""
   ]
  },
  {
   "cell_type": "markdown",
   "metadata": {},
   "source": [
    ""
   ]
  },
  {
   "cell_type": "code",
   "execution_count": null,
   "metadata": {},
   "outputs": [],
   "source": [
    "\n",
    "! name: taskgroup.1\n",
    "! type: F-free\n",
    "! version:    omp_4.0\n",
    "module tree_type_mod\n",
    "  integer, parameter :: max_steps=100\n",
    "  type tree_type\n",
    "    type(tree_type), pointer :: left, right\n",
    "  end type\n",
    "  contains\n",
    "    subroutine compute_something(tree)\n",
    "      type(tree_type), pointer :: tree\n",
    "! some computation\n",
    "    end subroutine\n",
    "    recursive subroutine compute_tree(tree)\n",
    "      type(tree_type), pointer :: tree\n",
    "      if (associated(tree%left)) then\n",
    "!$omp task\n",
    "        call compute_tree(tree%left)\n",
    "!$omp end task\n",
    "      endif\n",
    "      if (associated(tree%right)) then\n",
    "!$omp task\n",
    "        call compute_tree(tree%right)\n",
    "!$omp end task\n",
    "      endif\n",
    "!$omp task\n",
    "      call compute_something(tree)\n",
    "!$omp end task\n",
    "    end subroutine\n",
    "end module\n",
    "program main\n",
    "  use tree_type_mod\n",
    "  type(tree_type), pointer :: tree\n",
    "  call init_tree(tree);\n",
    "!$omp parallel\n",
    "!$omp single\n",
    "!$omp task\n",
    "  call start_background_work()\n",
    "!$omp end task\n",
    "  do i=1, max_steps\n",
    "!$omp taskgroup\n",
    "!$omp task\n",
    "    call compute_tree(tree)\n",
    "!$omp end task\n",
    "!$omp end taskgroup ! wait on tree traversal in this step\n",
    "    call check_step()\n",
    "  enddo\n",
    "!$omp end single\n",
    "!$omp end parallel    ! only now is background work required to be complete\n",
    "  call print_results()\n",
    "end program\n",
    "\n"
   ]
  },
  {
   "cell_type": "markdown",
   "metadata": {},
   "source": [
    ""
   ]
  },
  {
   "cell_type": "markdown",
   "metadata": {},
   "source": [
    "../../tasking/taskgroup.tex"
   ]
  },
  {
   "cell_type": "markdown",
   "metadata": {},
   "source": [
    ""
   ]
  },
  {
   "cell_type": "markdown",
   "metadata": {},
   "source": [
    "## `taskyield` Construct"
   ]
  },
  {
   "cell_type": "markdown",
   "metadata": {},
   "source": [
    "\index{constructs!taskyield@`taskyield`} \index{taskyield construct@`taskyield` construct}"
   ]
  },
  {
   "cell_type": "markdown",
   "metadata": {},
   "source": [
    "The following example illustrates the use of the `taskyield`  directive.  The tasks in the example compute something useful and then do some computation  that must be done in a critical region. By using `taskyield` when a task  cannot get access to the `critical` region the implementation can suspend  the current task and schedule some other task that can do something useful."
   ]
  },
  {
   "cell_type": "markdown",
   "metadata": {},
   "source": [
    ""
   ]
  },
  {
   "cell_type": "code",
   "execution_count": null,
   "metadata": {},
   "outputs": [],
   "source": [
    "//%compiler: clang\n",
 "//%cflags: -fopenmp\n",
 "\n",
    "/*\n",
    "* name: taskyield.1\n",
    "* type: C\n",
    "* version: omp_3.1\n",
    "*/\n",
    "#include <omp.h>\n",
    "\n",
    "void something_useful ( void );\n",
    "void something_critical ( void );\n",
    "void foo ( omp_lock_t * lock, int n )\n",
    "{\n",
    "   int i;\n",
    "\n",
    "   for ( i = 0; i < n; i++ )\n",
    "      #pragma omp task\n",
    "      {\n",
    "          something_useful();\n",
    "          while ( !omp_test_lock(lock) ) {\n",
    "             #pragma omp taskyield\n",
    "          }\n",
    "          something_critical();\n",
    "          omp_unset_lock(lock);\n",
    "      }\n",
    "}\n",
    "\n"
   ]
  },
  {
   "cell_type": "markdown",
   "metadata": {},
   "source": [
    ""
   ]
  },
  {
   "cell_type": "markdown",
   "metadata": {},
   "source": [
    ""
   ]
  },
  {
   "cell_type": "code",
   "execution_count": null,
   "metadata": {},
   "outputs": [],
   "source": [
    "\n",
    "! name: taskyield.1\n",
    "! type: F-free\n",
    "! version:    omp_3.1\n",
    "subroutine foo ( lock, n )\n",
    "   use omp_lib\n",
    "   integer (kind=omp_lock_kind) :: lock\n",
    "   integer n\n",
    "   integer i\n",
    "\n",
    "   do i = 1, n\n",
    "     !$omp task\n",
    "       call something_useful()\n",
    "       do while ( .not. omp_test_lock(lock) )\n",
    "         !$omp taskyield\n",
    "       end do\n",
    "       call something_critical()\n",
    "       call omp_unset_lock(lock)\n",
    "     !$omp end task\n",
    "   end do\n",
    "\n",
    "end subroutine\n",
    "\n"
   ]
  },
  {
   "cell_type": "markdown",
   "metadata": {},
   "source": [
    ""
   ]
  },
  {
   "cell_type": "markdown",
   "metadata": {},
   "source": [
    "../../tasking/taskyield.tex"
   ]
  },
  {
   "cell_type": "markdown",
   "metadata": {},
   "source": [
    ""
   ]
  },
  {
   "cell_type": "markdown",
   "metadata": {},
   "source": [
    "## `taskloop` Construct"
   ]
  },
  {
   "cell_type": "markdown",
   "metadata": {},
   "source": [
    "\index{constructs!taskloop@`taskloop`} \index{taskloop construct@`taskloop` construct} \index{taskloop construct@`taskloop` construct!grainsize clause@`grainsize` clause} \index{taskloop construct@`taskloop` construct!nogroup clause@`nogroup` clause} \index{clauses!grainsize@`grainsize`} \index{grainsize clause@`grainsize` clause} \index{clauses!nogroup@`nogroup`} \index{nogroup clause@`nogroup` clause}"
   ]
  },
  {
   "cell_type": "markdown",
   "metadata": {},
   "source": [
    "The following example illustrates how to execute a long running task concurrently with tasks created with a `taskloop` directive for a loop having unbalanced amounts of work for its iterations."
   ]
  },
  {
   "cell_type": "markdown",
   "metadata": {},
   "source": [
    "The `grainsize` clause specifies that each task is to execute at least 500 iterations of the loop."
   ]
  },
  {
   "cell_type": "markdown",
   "metadata": {},
   "source": [
    "The `nogroup` clause removes the implicit taskgroup of the `taskloop` construct; the explicit `taskgroup` construct in the example ensures that the function is not exited before the long-running task and the loops have finished execution."
   ]
  },
  {
   "cell_type": "markdown",
   "metadata": {},
   "source": [
    ""
   ]
  },
  {
   "cell_type": "code",
   "execution_count": null,
   "metadata": {},
   "outputs": [],
   "source": [
    "//%compiler: clang\n",
 "//%cflags: -fopenmp\n",
 "\n",
    "/*\n",
    "* name: taskloop.1\n",
    "* type: C\n",
    "* version: omp_4.5\n",
    "*/\n",
    "void long_running_task(void);\n",
    "void loop_body(int i, int j);\n",
    "\n",
    "void parallel_work(void) {\n",
    "   int i, j;\n",
    "#pragma omp taskgroup\n",
    "   {\n",
    "#pragma omp task\n",
    "      long_running_task(); // can execute concurrently\n",
    "\n",
    "#pragma omp taskloop private(j) grainsize(500) nogroup\n",
    "      for (i = 0; i < 10000; i++) { // can execute concurrently\n",
    "         for (j = 0; j < i; j++) {\n",
    "            loop_body(i, j);\n",
    "         }\n",
    "      }\n",
    "   }\n",
    "}\n",
    "\n"
   ]
  },
  {
   "cell_type": "markdown",
   "metadata": {},
   "source": [
    ""
   ]
  },
  {
   "cell_type": "markdown",
   "metadata": {},
   "source": [
    ""
   ]
  },
  {
   "cell_type": "code",
   "execution_count": null,
   "metadata": {},
   "outputs": [],
   "source": [
    "\n",
    "! name: taskloop.1\n",
    "! type: F-free\n",
    "! version:    omp_4.5\n",
    "subroutine parallel_work\n",
    "   integer i\n",
    "   integer j\n",
    "!$omp taskgroup\n",
    "\n",
    "!$omp task\n",
    "   call long_running_task()\n",
    "!$omp end task\n",
    "\n",
    "!$omp taskloop private(j) grainsize(500) nogroup\n",
    "   do i=1,10000\n",
    "      do j=1,i\n",
    "         call loop_body(i, j)\n",
    "      end do\n",
    "   end do\n",
    "!$omp end taskloop\n",
    "\n",
    "!$omp end taskgroup\n",
    "end subroutine\n",
    "\n"
   ]
  },
  {
   "cell_type": "markdown",
   "metadata": {},
   "source": [
    ""
   ]
  },
  {
   "cell_type": "markdown",
   "metadata": {},
   "source": [
    ""
   ]
  },
  {
   "cell_type": "markdown",
   "metadata": {},
   "source": [
    "Because a `taskloop` construct encloses a loop, it is often incorrectly  perceived as a worksharing construct (when it is directly nested in  a `parallel` region)."
   ]
  },
  {
   "cell_type": "markdown",
   "metadata": {},
   "source": [
    "While a worksharing construct distributes the loop iterations across all threads in a team, the entire loop of a `taskloop` construct is executed by every thread of the team."
   ]
  },
  {
   "cell_type": "markdown",
   "metadata": {},
   "source": [
    "In the example below the first taskloop occurs closely nested within  a `parallel` region and the entire loop is executed by each of the  _T_  threads;  hence the reduction sum is executed  _T_ * _N_  times."
   ]
  },
  {
   "cell_type": "markdown",
   "metadata": {},
   "source": [
    "The loop of the second taskloop is within a `single` region and is executed by a single thread so that only  _N_  reduction sums occur.  (The other  _N_ -1 threads of the `parallel` region will participate in executing the  tasks. This is the common use case for the `taskloop` construct.)"
   ]
  },
  {
   "cell_type": "markdown",
   "metadata": {},
   "source": [
    "In the example, the code thus prints `x1 = 16384` ( _T_ * _N_ ) and  `x2 = 1024` ( _N_ )."
   ]
  },
  {
   "cell_type": "markdown",
   "metadata": {},
   "source": [
    ""
   ]
  },
  {
   "cell_type": "code",
   "execution_count": null,
   "metadata": {},
   "outputs": [],
   "source": [
    "//%compiler: clang\n",
 "//%cflags: -fopenmp\n",
 "\n",
    "/*\n",
    "* name:   taskloop.2\n",
    "* type:   C\n",
    "* version: omp_4.5\n",
    "*/\n",
    "#include <stdio.h>\n",
    "\n",
    "#define T 16\n",
    "#define N 1024\n",
    "\n",
    "void parallel_work() {\n",
    "    int x1 = 0, x2 = 0;\n",
    "\n",
    "    #pragma omp parallel shared(x1,x2) num_threads(T)\n",
    "    {\n",
    "        #pragma omp taskloop\n",
    "        for (int i = 0; i < N; ++i) {\n",
    "            #pragma omp atomic\n",
    "            x1++;          // executed T*N times\n",
    "        }\n",
    "\n",
    "        #pragma omp single\n",
    "        #pragma omp taskloop\n",
    "        for (int i = 0; i < N; ++i) {\n",
    "            #pragma omp atomic\n",
    "            x2++;          // executed N times\n",
    "        }\n",
    "    }\n",
    "\n",
    "    printf(\"x1 = %d, x2 = %d\\n\", x1, x2);\n",
    "}\n",
    "\n"
   ]
  },
  {
   "cell_type": "markdown",
   "metadata": {},
   "source": [
    ""
   ]
  },
  {
   "cell_type": "markdown",
   "metadata": {},
   "source": [
    ""
   ]
  },
  {
   "cell_type": "code",
   "execution_count": null,
   "metadata": {},
   "outputs": [],
   "source": [
    "\n",
    "! name:   taskloop.2\n",
    "! type:   F-free\n",
    "! version: omp_4.5\n",
    "subroutine parallel_work\n",
    "    implicit none\n",
    "    integer :: x1, x2\n",
    "    integer :: i\n",
    "    integer, parameter :: T = 16\n",
    "    integer, parameter :: N = 1024\n",
    "\n",
    "    x1 = 0\n",
    "    x2 = 0\n",
    "    !$omp parallel shared(x1,x2) num_threads(T)\n",
    "    !$omp taskloop\n",
    "    do i = 1,N\n",
    "        !$omp atomic\n",
    "        x1 = x1 + 1     ! executed T*N times\n",
    "        !$omp end atomic\n",
    "    end do\n",
    "    !$omp end taskloop\n",
    "\n",
    "    !$omp single\n",
    "    !$omp taskloop\n",
    "    do i = 1,N\n",
    "        !$omp atomic\n",
    "        x2 = x2 + 1     ! executed N times\n",
    "        !$omp end atomic\n",
    "    end do\n",
    "    !$omp end taskloop\n",
    "    !$omp end single\n",
    "    !$omp end parallel\n",
    "\n",
    "    write (*,'(A,I0,A,I0)') 'x1 = ', x1, ', x2 = ',x2\n",
    "end subroutine\n",
    "\n"
   ]
  },
  {
   "cell_type": "markdown",
   "metadata": {},
   "source": [
    "../../tasking/taskloop.tex"
   ]
  },
  {
   "cell_type": "markdown",
   "metadata": {},
   "source": [
    ""
   ]
  },
  {
   "cell_type": "markdown",
   "metadata": {},
   "source": [
    "## Combined `parallel` `masked` and `taskloop` Constructs"
   ]
  },
  {
   "cell_type": "markdown",
   "metadata": {},
   "source": [
    "\index{combined constructs!parallel masked taskloop@`parallel` `masked` `taskloop`} \index{combined constructs!parallel masked taskloop simd@`parallel` `masked` `taskloop` `simd`} \index{constructs!parallel@`parallel`} \index{constructs!masked@`masked`} \index{constructs!taskloop@`taskloop`} \index{constructs!simd@`simd`} \index{parallel construct@`parallel` construct} \index{masked construct@`masked` construct} \index{taskloop construct@`taskloop` construct} \index{simd construct@`simd` construct}"
   ]
  },
  {
   "cell_type": "markdown",
   "metadata": {},
   "source": [
    "Just as the `for` and `do` constructs were combined with the `parallel` construct for convenience, so too, the combined `parallel` `masked` `taskloop` and  `parallel` `masked` `taskloop` `simd` constructs have been created for convenience when using the `taskloop` construct."
   ]
  },
  {
   "cell_type": "markdown",
   "metadata": {},
   "source": [
    "In the following example the first `taskloop` construct is enclosed by the usual `parallel` and `masked` constructs to form a team of threads, and a single task generator (primary thread) for the `taskloop` construct."
   ]
  },
  {
   "cell_type": "markdown",
   "metadata": {},
   "source": [
    "The same OpenMP operations for the first taskloop are accomplished by the second taskloop with the `parallel` `masked` `taskloop`  combined construct.  The third taskloop uses the combined `parallel` `masked` `taskloop` `simd`  construct to accomplish the same behavior as closely nested `parallel masked`, and `taskloop simd` constructs."
   ]
  },
  {
   "cell_type": "markdown",
   "metadata": {},
   "source": [
    "As with any combined construct the clauses of the components may be used with appropriate restrictions. The combination of the `parallel` `masked` construct with the `taskloop` or `taskloop` `simd` construct produces no additional  restrictions."
   ]
  },
  {
   "cell_type": "markdown",
   "metadata": {},
   "source": [
    ""
   ]
  },
  {
   "cell_type": "code",
   "execution_count": null,
   "metadata": {},
   "outputs": [],
   "source": [
    "//%compiler: clang\n",
 "//%cflags: -fopenmp\n",
 "\n",
    "/*\n",
    "* name: parallel_masked_taskloop.1\n",
    "* type: C\n",
    "* version: omp_5.1\n",
    "*/\n",
    "#include <stdio.h>\n",
    "#define N 100\n",
    "\n",
    "int main()\n",
    "{\n",
    "   int i, a[N],b[N],c[N];\n",
    "\n",
    "   for(int i=0; i<N; i++){ b[i]=i; c[i]=i; }  //init\n",
    "\n",
    "   #pragma omp parallel\n",
    "   #pragma omp masked\n",
    "   #pragma omp taskloop                      // taskloop 1\n",
    "   for(i=0;i<N;i++){ a[i] = b[i] + c[i]; }\n",
    "\n",
    "   #pragma omp parallel masked taskloop      // taskloop 2\n",
    "   for(i=0;i<N;i++){ b[i] = a[i] + c[i]; }\n",
    "\n",
    "   #pragma omp parallel masked taskloop simd // taskloop 3\n",
    "   for(i=0;i<N;i++){ c[i] = a[i] + b[i]; }\n",
    "\n",
    "   printf(\" %d %d\\n\",c[0],c[N-1]);  // 0 and 495\n",
    "}\n",
    "\n"
   ]
  },
  {
   "cell_type": "markdown",
   "metadata": {},
   "source": [
    ""
   ]
  },
  {
   "cell_type": "markdown",
   "metadata": {},
   "source": [
    ""
   ]
  },
  {
   "cell_type": "code",
   "execution_count": null,
   "metadata": {},
   "outputs": [],
   "source": [
    "\n",
    "! name:       parallel_masked_taskloop.1\n",
    "! type:       F-free\n",
    "! version:    omp_5.1\n",
    "program main\n",
    "\n",
    "   integer, parameter :: N=100\n",
    "   integer :: i, a(N),b(N),c(N)\n",
    "\n",
    "   do i=1,N                            !! initialize\n",
    "      b(i) = i\n",
    "      c(i) = i\n",
    "   enddo\n",
    "\n",
    "   !$omp parallel\n",
    "   !$omp masked\n",
    "   !$omp taskloop                      !! taskloop 1\n",
    "   do i=1,N\n",
    "      a(i) = b(i) + c(i)\n",
    "   enddo\n",
    "   !$omp end taskloop\n",
    "   !$omp end masked\n",
    "   !$omp end parallel\n",
    "\n",
    "   !$omp parallel masked taskloop      !! taskloop 2\n",
    "   do i=1,N\n",
    "      b(i) = a(i) + c(i)\n",
    "   enddo\n",
    "   !$omp end parallel masked taskloop\n",
    "\n",
    "   !$omp parallel masked taskloop simd !! taskloop 3\n",
    "   do i=1,N\n",
    "      c(i) = a(i) + b(i)\n",
    "   enddo\n",
    "   !$omp end parallel masked taskloop simd\n",
    "\n",
    "   print*,c(1),c(N)  !! 5 and 500\n",
    "\n",
    "end program\n",
    "\n"
   ]
  },
  {
   "cell_type": "markdown",
   "metadata": {},
   "source": [
    "../../tasking/parallel_masked_taskloop.tex"
   ]
  },
  {
   "cell_type": "markdown",
   "metadata": {},
   "source": [
    ""
   ]
  }
 ],
 "metadata": {
  "kernelspec": {
   "display_name": "Native",
   "language": "native",
   "name": "native"
  },
  "language_info": {
   "file_extension": ".c",
   "mimetype": "text/plain",
   "name": "none"
  }
 },
 "nbformat": 4,
 "nbformat_minor": 2
}