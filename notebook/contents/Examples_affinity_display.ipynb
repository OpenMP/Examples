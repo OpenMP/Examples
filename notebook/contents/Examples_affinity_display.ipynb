{
 "cells": [
  {
   "cell_type": "markdown",
   "metadata": {},
   "source": [
    ""
   ]
  },
  {
   "cell_type": "markdown",
   "metadata": {},
   "source": [
    "## Affinity Display"
   ]
  },
  {
   "cell_type": "markdown",
   "metadata": {},
   "source": [
    ""
   ]
  },
  {
   "cell_type": "markdown",
   "metadata": {},
   "source": [
    "The following examples illustrate ways to display thread affinity. Automatic display of affinity can be invoked by setting the `OMP_DISPLAY_AFFINITY` environment variable to `TRUE`.   The format of the output can be customized by setting the  `OMP_AFFINITY_FORMAT` environment variable to an appropriate string.   Also, there are API calls for the user to display thread affinity  at selected locations within code."
   ]
  },
  {
   "cell_type": "markdown",
   "metadata": {},
   "source": [
    "For the first example the environment variable `OMP_DISPLAY_AFFINITY` has been set to `TRUE`, and execution occurs on an 8-core system with `OMP_NUM_THREADS` set to 8."
   ]
  },
  {
   "cell_type": "markdown",
   "metadata": {},
   "source": [
    "The affinity for the master thread is reported through a call to the API `omp_display_affinity()` routine. For default affinity settings the report shows that the master thread can execute on any of the cores.  In the following parallel region the affinity for each of the team threads is reported automatically since the `OMP_DISPLAY_AFFINITY` environment variable has been set to `TRUE`."
   ]
  },
  {
   "cell_type": "markdown",
   "metadata": {},
   "source": [
    "These two reports are often useful (as in hybrid codes using both MPI and OpenMP)  to observe the affinity (for an MPI task) before the parallel region, and during an OpenMP parallel region. Note: the next parallel region uses the  same number of threads as in the previous parallel region and affinities are  not changed, so affinity is NOT reported."
   ]
  },
  {
   "cell_type": "markdown",
   "metadata": {},
   "source": [
    "In the last parallel region, the thread affinities are reported because the thread affinity has changed."
   ]
  },
  {
   "cell_type": "markdown",
   "metadata": {},
   "source": [
    ""
   ]
  },
  {
   "cell_type": "code",
   "execution_count": null,
   "metadata": {},
   "outputs": [],
   "source": [
    "//%compiler: clang\n",
 "//%cflags: -fopenmp\n",
 "\n",
    "/*\n",
    "* name: affinity_display.1.c\n",
    "* type: C\n",
    "* version: omp_5.0\n",
    "*/\n",
    "#include <stdio.h>\n",
    "#include <omp.h>\n",
    "\n",
    "int main(void){                     //MAX threads = 8, single socket system\n",
    "\n",
    "   omp_display_affinity(NULL);  //API call-- Displays Affinity of Master Thread\n",
    "\n",
    "// API CALL OUTPUT (default format):\n",
    "//team_num= 0, nesting_level= 0, thread_num= 0, thread_affinity= 0,1,2,3,4,5,6,7\n",
    "\n",
    "\n",
    "                   // OMP_DISPLAY_AFFINITY=TRUE, OMP_NUM_THREADS=8\n",
    "   #pragma omp parallel num_threads(omp_get_num_procs())\n",
    "   {\n",
    "     if(omp_get_thread_num()==0)\n",
    "        printf(\"1st Parallel Region -- Affinity Reported \\n\");\n",
    "\n",
    "         // DISPLAY OUTPUT (default format) has been sorted:\n",
    "         // team_num= 0, nesting_level= 1, thread_num= 0, thread_affinity= 0\n",
    "         // team_num= 0, nesting_level= 1, thread_num= 1, thread_affinity= 1\n",
    "         // ...\n",
    "         // team_num= 0, nesting_level= 1, thread_num= 7, thread_affinity= 7\n",
    "\n",
    "     // doing work here\n",
    "   }\n",
    "\n",
    "   #pragma omp parallel num_threads( omp_get_num_procs() )\n",
    "   {\n",
    "     if(omp_get_thread_num()==0)\n",
    "        printf(\"%s%s\\n\",\"Same Affinity as in Previous Parallel Region\",\n",
    "                        \" -- no Affinity Reported\\n\");\n",
    "\n",
    "         // NO AFFINITY OUTPUT:\n",
    "         //(output in 1st parallel region only for OMP_DISPLAY_AFFINITY=TRUE)\n",
    "\n",
    "     // doing more work here\n",
    "   }\n",
    "\n",
    "                       // Report Affinity for 1/2 number of threads\n",
    "   #pragma omp parallel num_threads( omp_get_num_procs()/2 )\n",
    "   {\n",
    "     if(omp_get_thread_num()==0)\n",
    "        printf(\"Report Affinity for using 1/2 of max threads.\\n\");\n",
    "\n",
    "         // DISPLAY OUTPUT (default format) has been sorted:\n",
    "         // team_num= 0, nesting_level= 1, thread_num= 0, thread_affinity= 0,1\n",
    "         // team_num= 0, nesting_level= 1, thread_num= 1, thread_affinity= 2,3\n",
    "         // team_num= 0, nesting_level= 1, thread_num= 2, thread_affinity= 4,5\n",
    "         // team_num= 0, nesting_level= 1, thread_num= 3, thread_affinity= 6,7\n",
    "\n",
    "     // do work\n",
    "   }\n",
    "\n",
    "   return 0;\n",
    "}\n",
    "\n"
   ]
  },
  {
   "cell_type": "markdown",
   "metadata": {},
   "source": [
    ""
   ]
  },
  {
   "cell_type": "markdown",
   "metadata": {},
   "source": [
    ""
   ]
  },
  {
   "cell_type": "code",
   "execution_count": null,
   "metadata": {},
   "outputs": [],
   "source": [
    "\n",
    "! name: affinity_display.1.f90\n",
    "! type: F-free\n",
    "! version: omp_5.0\n",
    "\n",
    "program affinity_display        ! MAX threads = 8, single socket system\n",
    "\n",
    "   use omp_lib\n",
    "   implicit none\n",
    "   character(len=0) :: null\n",
    "\n",
    "   call omp_display_affinity(null) !API call- Displays Affinity of Master Thread\n",
    "\n",
    "! API CALL OUTPUT (default format):\n",
    "! team_num= 0, nesting_level= 0, thread_num= 0, thread_affinity= 0,1,2,3,4,5,6,7\n",
    "\n",
    "\n",
    "                       ! OMP_DISPLAY_AFFINITY=TRUE, OMP_NUM_THREADS=8\n",
    "\n",
    "   !$omp parallel num_threads(omp_get_num_procs())\n",
    "\n",
    "     if(omp_get_thread_num()==0) then\n",
    "        print*, \"1st Parallel Region  -- Affinity Reported\"\n",
    "     endif\n",
    "\n",
    "          ! DISPLAY OUTPUT (default format) has been sorted:\n",
    "          ! team_num= 0, nesting_level= 1, thread_num= 0, thread_affinity= 0\n",
    "          ! team_num= 0, nesting_level= 1, thread_num= 1, thread_affinity= 1\n",
    "          ! ...\n",
    "          ! team_num= 0, nesting_level= 1, thread_num= 7, thread_affinity= 7\n",
    "\n",
    "      ! doing work here\n",
    "\n",
    "   !$omp end parallel\n",
    "\n",
    "   !$omp parallel num_threads( omp_get_num_procs() )\n",
    "\n",
    "     if(omp_get_thread_num()==0) then\n",
    "        print*, \"Same Affinity in Parallel Region -- no Affinity Reported\"\n",
    "     endif\n",
    "\n",
    "          ! NO AFFINITY OUTPUT:\n",
    "          !(output in 1st parallel region only for OMP_DISPLAY_AFFINITY=TRUE)\n",
    "\n",
    "      ! doing more work here\n",
    "\n",
    "   !$omp end parallel\n",
    "\n",
    "                       ! Report Affinity for 1/2 number of threads\n",
    "   !$omp parallel num_threads( omp_get_num_procs()/2 )\n",
    "\n",
    "     if(omp_get_thread_num()==0) then\n",
    "        print*, \"Different Affinity in Parallel Region -- Affinity Reported\"\n",
    "     endif\n",
    "\n",
    "         ! DISPLAY OUTPUT (default format) has been sorted:\n",
    "         ! team_num= 0, nesting_level= 1, thread_num= 0, thread_affinity= 0,1\n",
    "         ! team_num= 0, nesting_level= 1, thread_num= 1, thread_affinity= 2,3\n",
    "         ! team_num= 0, nesting_level= 1, thread_num= 2, thread_affinity= 4,5\n",
    "         ! team_num= 0, nesting_level= 1, thread_num= 3, thread_affinity= 6,7\n",
    "\n",
    "      ! do work\n",
    "\n",
    "   !$omp end parallel\n",
    "\n",
    "end program\n",
    "\n"
   ]
  },
  {
   "cell_type": "markdown",
   "metadata": {},
   "source": [
    ""
   ]
  },
  {
   "cell_type": "markdown",
   "metadata": {},
   "source": [
    ""
   ]
  },
  {
   "cell_type": "markdown",
   "metadata": {},
   "source": [
    "In the following example 2 threads are forked, and each executes on a socket. Next, a nested parallel region runs half of the available threads on each socket."
   ]
  },
  {
   "cell_type": "markdown",
   "metadata": {},
   "source": [
    "These OpenMP environment variables have been set:"
   ]
  },
  {
   "cell_type": "markdown",
   "metadata": {},
   "source": [
    ""
   ]
  },
  {
   "cell_type": "markdown",
   "metadata": {},
   "source": [
    "*  `OMP_PROC_BIND`=\"TRUE\""
   ]
  },
  {
   "cell_type": "markdown",
   "metadata": {},
   "source": [
    "*  `OMP_NUM_THREADS`=\"2,4\""
   ]
  },
  {
   "cell_type": "markdown",
   "metadata": {},
   "source": [
    "*  `OMP_PLACES`=\"{0,2,4,6},{1,3,5,7}\""
   ]
  },
  {
   "cell_type": "markdown",
   "metadata": {},
   "source": [
    "*  `OMP_AFFINITY_FORMAT`=\"nest_level= L, parent_thrd_num= a, thrd_num= n, thrd_affinity= A\""
   ]
  },
  {
   "cell_type": "markdown",
   "metadata": {},
   "source": [
    "where the numbers correspond to core ids for the system. Note, `OMP_DISPLAY_AFFINITY` is not set and is `FALSE` by default.  This example shows how to use API routines to perform affinity display operations."
   ]
  },
  {
   "cell_type": "markdown",
   "metadata": {},
   "source": [
    "For each of the two first-level threads the `OMP_PLACES` variable specifies a place with all the core-ids of the socket ({0,2,4,6} for one thread and {1,3,5,7} for the other). (As is sometimes the case in 2-socket systems, one socket may consist of the even id numbers, while the other may have the odd id numbers.)  The affinities are printed according to the `OMP_AFFINITY_FORMAT` format: providing the parallel nesting level (L), the ancestor thread number (a), the thread number (n) and the thread affinity (A). In the nested parallel region within the  _socket_work_  routine the affinities for the threads on each socket are printed according to this format."
   ]
  },
  {
   "cell_type": "markdown",
   "metadata": {},
   "source": [
    ""
   ]
  },
  {
   "cell_type": "code",
   "execution_count": null,
   "metadata": {},
   "outputs": [],
   "source": [
    "//%compiler: clang\n",
 "//%cflags: -fopenmp\n",
 "\n",
    "/*\n",
    "* name:       affinity_display.2c\n",
    "* type:       C\n",
    "* version: omp_5.0\n",
    "*/\n",
    "#include <stdio.h>\n",
    "#include <stdlib.h>\n",
    "#include <omp.h>\n",
    "\n",
    "void socket_work(int socket_num, int n_thrds);\n",
    "\n",
    "int main(void)\n",
    "{\n",
    " int n_sockets, socket_num, n_thrds_on_socket;\n",
    "\n",
    " omp_set_nested(1);            // or env var= OMP_NESTED=true\n",
    " omp_set_max_active_levels(2); // or env var= OMP_MAX_ACTIVE_LEVELS=2\n",
    "\n",
    "  n_sockets         = omp_get_num_places();\n",
    "  n_thrds_on_socket = omp_get_place_num_procs(0);\n",
    "\n",
    "     // OMP_NUM_THREADS=2,4\n",
    "     // OMP_PLACES=\"{0,2,4,6},{1,3,5,7}\"  #2 sockets; even/odd proc-ids\n",
    "     // OMP_AFFINITY_FORMAT=\\\n",
    "     // \"nest_level= %L, parent_thrd_num= %a, thrd_num= %n, thrd_affinity= %A\"\n",
    "\n",
    "  #pragma omp parallel num_threads(n_sockets) private(socket_num)\n",
    "  {\n",
    "    socket_num = omp_get_place_num();\n",
    "\n",
    "    if(socket_num==0)\n",
    "       printf(\" LEVEL 1 AFFINITIES 1 thread/socket, %d sockets:\\n\\n\", n_sockets);\n",
    "\n",
    "    omp_display_affinity(NULL);   // not needed if OMP_DISPLAY_AFFINITY=TRUE\n",
    "\n",
    "     // OUTPUT:\n",
    "     // LEVEL 1 AFFINITIES 1 thread/socket, 2 sockets:\n",
    "     // nest_level= 1, parent_thrd_num= 0, thrd_num= 0, thrd_affinity= 0,2,4,6\n",
    "     // nest_level= 1, parent_thrd_num= 0, thrd_num= 1, thrd_affinity= 1,3,5,7\n",
    "\n",
    "    socket_work(socket_num, n_thrds_on_socket);\n",
    "  }\n",
    "\n",
    "  return 0;\n",
    "}\n",
    "\n",
    "void socket_work(int socket_num, int n_thrds)\n",
    "{\n",
    "  #pragma omp parallel num_threads(n_thrds)\n",
    "  {\n",
    "    if(omp_get_thread_num()==0)\n",
    "  printf(\" LEVEL 2 AFFINITIES, %d threads on socket %d\\n\",n_thrds, socket_num);\n",
    "\n",
    "    omp_display_affinity(NULL);   // not needed if OMP_DISPLAY_AFFINITY=TRUE\n",
    "\n",
    "    // OUTPUT:\n",
    "    // LEVEL 2 AFFINITIES, 4 threads on socket 0\n",
    "    // nest_level= 2, parent_thrd_num= 0, thrd_num= 0, thrd_affinity= 0\n",
    "    // nest_level= 2, parent_thrd_num= 0, thrd_num= 1, thrd_affinity= 2\n",
    "    // nest_level= 2, parent_thrd_num= 0, thrd_num= 2, thrd_affinity= 4\n",
    "    // nest_level= 2, parent_thrd_num= 0, thrd_num= 3, thrd_affinity= 6\n",
    "\n",
    "    // LEVEL 2 AFFINITIES, 4 threads on socket 1\n",
    "    // nest_level= 2, parent_thrd_num= 1, thrd_num= 0, thrd_affinity= 1\n",
    "    // nest_level= 2, parent_thrd_num= 1, thrd_num= 1, thrd_affinity= 3\n",
    "    // nest_level= 2, parent_thrd_num= 1, thrd_num= 2, thrd_affinity= 5\n",
    "    // nest_level= 2, parent_thrd_num= 1, thrd_num= 3, thrd_affinity= 7\n",
    "\n",
    "    // ... Do Some work on Socket\n",
    "\n",
    "  }\n",
    "}\n",
    "\n"
   ]
  },
  {
   "cell_type": "markdown",
   "metadata": {},
   "source": [
    ""
   ]
  },
  {
   "cell_type": "markdown",
   "metadata": {},
   "source": [
    ""
   ]
  },
  {
   "cell_type": "code",
   "execution_count": null,
   "metadata": {},
   "outputs": [],
   "source": [
    "\n",
    "! name: affinity_display.2.f90\n",
    "! type: F-free\n",
    "! version: omp_5.0\n",
    "\n",
    "program affinity_display\n",
    "\n",
    "   use omp_lib\n",
    "   implicit none\n",
    "   character(len=0) :: null\n",
    "   integer          :: n_sockets, socket_num, n_thrds_on_socket;\n",
    "\n",
    "   call omp_set_nested(.true.)        ! or env var= OMP_NESTED=true\n",
    "   call omp_set_max_active_levels(2)  ! or env var= OMP_MAX_ACTIVE_LEVELS=2\n",
    "\n",
    "   n_sockets         = omp_get_num_places()\n",
    "   n_thrds_on_socket = omp_get_place_num_procs(0)\n",
    "\n",
    "    ! OMP_NUM_THREADS=2,4\n",
    "    ! OMP_PLACES=\"{0,2,4,6},{1,3,5,7}\"  #2 sockets; even/odd proc-ids\n",
    "    ! OMP_AFFINITY_FORMAT=\\\n",
    "    !     \"nest_level= %L, parent_thrd_num= %a, thrd_num= %n, thrd_affinity= %A\"\n",
    "\n",
    "   !$omp parallel num_threads(n_sockets) private(socket_num)\n",
    "\n",
    "     socket_num = omp_get_place_num()\n",
    "\n",
    "     if(socket_num==0) then\n",
    "       write(*,'(\"LEVEL 1 AFFINITIES 1 thread/socket \",i0,\" sockets\")')n_sockets\n",
    "     endif\n",
    "\n",
    "     call omp_display_affinity(null)  !not needed if OMP_DISPLAY_AFFINITY=TRUE\n",
    "\n",
    "       ! OUTPUT:\n",
    "       ! LEVEL 1 AFFINITIES 1 thread/socket, 2 sockets:\n",
    "       ! nest_level= 1, parent_thrd_num= 0, thrd_num= 0, thrd_affinity= 0,2,4,6\n",
    "       ! nest_level= 1, parent_thrd_num= 0, thrd_num= 1, thrd_affinity= 1,3,5,7\n",
    "\n",
    "     call socket_work(socket_num, n_thrds_on_socket)\n",
    "\n",
    "   !$omp end parallel\n",
    "\n",
    "end program\n",
    "\n",
    "subroutine socket_work(socket_num, n_thrds)\n",
    "   use omp_lib\n",
    "   implicit none\n",
    "   integer :: socket_num, n_thrds\n",
    "   character(len=0) :: null\n",
    "\n",
    "   !$omp parallel num_threads(n_thrds)\n",
    "\n",
    "      if(omp_get_thread_num()==0) then\n",
    "      write(*,'(\"LEVEL 2 AFFINITIES, \",i0,\" threads on socket \",i0)') &\n",
    "            n_thrds,socket_num\n",
    "      endif\n",
    "\n",
    "      call omp_display_affinity(null);  !not needed if OMP_DISPLAY_AFFINITY=TRUE\n",
    "\n",
    "      ! OUTPUT:\n",
    "      ! LEVEL 2 AFFINITIES, 4 threads on socket 0\n",
    "      ! nest_level= 2, parent_thrd_num= 0, thrd_num= 0, thrd_affinity= 0\n",
    "      ! nest_level= 2, parent_thrd_num= 0, thrd_num= 1, thrd_affinity= 2\n",
    "      ! nest_level= 2, parent_thrd_num= 0, thrd_num= 2, thrd_affinity= 4\n",
    "      ! nest_level= 2, parent_thrd_num= 0, thrd_num= 3, thrd_affinity= 6\n",
    "\n",
    "      ! LEVEL 2 AFFINITIES, 4 thrds on socket 1\n",
    "      ! nest_level= 2, parent_thrd_num= 1, thrd_num= 0, thrd_affinity= 1\n",
    "      ! nest_level= 2, parent_thrd_num= 1, thrd_num= 1, thrd_affinity= 3\n",
    "      ! nest_level= 2, parent_thrd_num= 1, thrd_num= 2, thrd_affinity= 5\n",
    "      ! nest_level= 2, parent_thrd_num= 1, thrd_num= 3, thrd_affinity= 7\n",
    "\n",
    "      ! ... Do Some work on Socket\n",
    "\n",
    "   !$omp end parallel\n",
    "\n",
    "end subroutine\n",
    "\n"
   ]
  },
  {
   "cell_type": "markdown",
   "metadata": {},
   "source": [
    ""
   ]
  },
  {
   "cell_type": "markdown",
   "metadata": {},
   "source": [
    "The next example illustrates more details about affinity formatting. First, the `omp_get_affininity_format()` API routine is used to  obtain the default format. The code checks to make sure the storage  provides enough space to hold the format.   Next, the `omp_set_affinity_format()` API routine sets a user-defined  format:  _host=20H thrd_num=0.4n binds_to=A_ ."
   ]
  },
  {
   "cell_type": "markdown",
   "metadata": {},
   "source": [
    "The host, thread number and affinity fields are specified by  _20H_ ,   _0.4n_  and  _A_ :  _H_ ,  _n_  and  _A_  are single character \"short names\"  for the host, thread_num and thread_affinity data to be printed, with format sizes of  _20_ ,  _4_ , and \"size as needed\".  The period (.) indicates that the field is displayed right-justified (default is left-justified)  and the \"0\" indicates that any unused space is to be prefixed with zeros  (e.g. instead of \"1\", \"0001\" is displayed for the field size of 4)."
   ]
  },
  {
   "cell_type": "markdown",
   "metadata": {},
   "source": [
    ""
   ]
  },
  {
   "cell_type": "markdown",
   "metadata": {},
   "source": [
    ""
   ]
  },
  {
   "cell_type": "markdown",
   "metadata": {},
   "source": [
    "Within the parallel region the affinity for each thread is captured by  `omp_capture_affinity()` into a buffer array with elements indexed  by the thread number ( _thrd_num_ ). After the parallel region, the thread affinities are printed in thread-number order."
   ]
  },
  {
   "cell_type": "markdown",
   "metadata": {},
   "source": [
    "If the storage area in buffer is inadequate for holding the affinity data, the stored affinity data is truncated.   The maximum value for the number of characters ( _nchars_ ) returned by  `omp_capture_affinity` is captured by the `reduction(max:max_req_store)` clause and the  _if(nchars >= max_req_store) max_req_store=nchars_  statement.  It is used to report possible truncation (if  _max_req_store_  >  _buffer_store_ )."
   ]
  },
  {
   "cell_type": "markdown",
   "metadata": {},
   "source": [
    ""
   ]
  },
  {
   "cell_type": "code",
   "execution_count": null,
   "metadata": {},
   "outputs": [],
   "source": [
    "//%compiler: clang\n",
 "//%cflags: -fopenmp\n",
 "\n",
    "/*\n",
    "* name: affinity_display.3.c\n",
    "* type: C\n",
    "* version: omp_5.0\n",
    "*/\n",
    "#include <stdio.h>\n",
    "#include <stdlib.h>  // also null is in <stddef.h>\n",
    "#include <stddef.h>\n",
    "#include <string.h>\n",
    "#include <omp.h>\n",
    "\n",
    "#define FORMAT_STORE   80\n",
    "#define BUFFER_STORE   80\n",
    "\n",
    "int main(void){\n",
    "\n",
    "   int i, n, thrd_num, max_req_store;\n",
    "   size_t nchars;\n",
    "\n",
    "   char default_format[FORMAT_STORE];\n",
    "   char my_format[]  = \"host=%20H thrd_num=%0.4n binds_to=%A\";\n",
    "   char **buffer;\n",
    "\n",
    "\n",
    "// CODE SEGMENT 1         AFFINITY FORMAT\n",
    "\n",
    "//                        Get and Display Default Affinity Format\n",
    "\n",
    "   nchars = omp_get_affinity_format(default_format,(size_t)FORMAT_STORE);\n",
    "   printf(\"Default Affinity Format is: %s\\n\",default_format);\n",
    "\n",
    "   if(nchars >= FORMAT_STORE){\n",
    "      printf(\"Caution: Reported Format is truncated.  Increase\\n\");\n",
    "      printf(\"         FORMAT_STORE to %d.\\n\", nchars+1);\n",
    "   }\n",
    "\n",
    "//                        Set Affinity Format\n",
    "\n",
    "   omp_set_affinity_format(my_format);\n",
    "   printf(\"Affinity Format set to: %s\\n\",my_format);\n",
    "\n",
    "\n",
    "// CODE SEGMENT 2         CAPTURE AFFINITY\n",
    "\n",
    "//                        Set up buffer for affinity of n threads\n",
    "\n",
    "   n = omp_get_num_procs();\n",
    "   buffer = (char **)malloc( sizeof(char *) * n );\n",
    "   for(i=0;i<n;i++){ buffer[i]=(char *)malloc( sizeof(char) * BUFFER_STORE); }\n",
    "\n",
    "//                        Capture Affinity using Affinity Format set above.\n",
    "//                        Use max reduction to check size of buffer areas\n",
    "   max_req_store = 0;\n",
    "   #pragma omp parallel private(thrd_num,nchars) reduction(max:max_req_store)\n",
    "   {\n",
    "      if(omp_get_num_threads()>n) exit(1); //safety: don't exceed # of buffers\n",
    "\n",
    "      thrd_num=omp_get_thread_num();\n",
    "      nchars=omp_capture_affinity(buffer[thrd_num],(size_t)BUFFER_STORE,NULL);\n",
    "      if(nchars > max_req_store) max_req_store=nchars;\n",
    "\n",
    "      // ...\n",
    "   }\n",
    "\n",
    "   for(i=0;i<n;i++){\n",
    "      printf(\"thrd_num= %d, affinity: %s\\n\", i,buffer[i]);\n",
    "   }\n",
    "         // For 4 threads with OMP_PLACES='{0,1},{2,3},{4,5},{6,7}'\n",
    "         // Format    host=%20H thrd_num=%0.4n binds_to=%A\n",
    "\n",
    "         // affinity: host=hpc.cn567            thrd_num=0000 binds_to=0,1\n",
    "         // affinity: host=hpc.cn567            thrd_num=0001 binds_to=2,3\n",
    "         // affinity: host=hpc.cn567            thrd_num=0002 binds_to=4,5\n",
    "         // affinity: host=hpc.cn567            thrd_num=0003 binds_to=6,7\n",
    "\n",
    "\n",
    "   if(max_req_store>=BUFFER_STORE){\n",
    "      printf(\"Caution: Affinity string truncated.  Increase\\n\");\n",
    "      printf(\"         BUFFER_STORE to %d\\n\",max_req_store+1);\n",
    "   }\n",
    "\n",
    "   for(i=0;i<n;i++) free(buffer[i]);\n",
    "   free (buffer);\n",
    "\n",
    "   return 0;\n",
    "}\n",
    "\n"
   ]
  },
  {
   "cell_type": "markdown",
   "metadata": {},
   "source": [
    ""
   ]
  },
  {
   "cell_type": "markdown",
   "metadata": {},
   "source": [
    ""
   ]
  },
  {
   "cell_type": "code",
   "execution_count": null,
   "metadata": {},
   "outputs": [],
   "source": [
    "\n",
    "! name: affinity_display.3.f90\n",
    "! type: F-free\n",
    "! version: omp_5.0\n",
    "\n",
    "program affinity_display\n",
    "   use omp_lib\n",
    "   implicit none\n",
    "   integer, parameter :: FORMAT_STORE=80\n",
    "   integer, parameter :: BUFFER_STORE=80\n",
    "\n",
    "   integer            :: i, n, thrd_num, nchars, max_req_store\n",
    "\n",
    "   character(FORMAT_STORE)     :: default_format\n",
    "   character(*), parameter     :: my_format = &\n",
    "                                  \"host=%20H thrd_num=%0.4n binds_to=%A\"\n",
    "   character(:), allocatable   :: buffer(:)\n",
    "   character(len=0)            :: null\n",
    "\n",
    "\n",
    "!  CODE SEGMENT 1         AFFINITY FORMAT\n",
    "\n",
    "!                         Get and Display Default Affinity Format\n",
    "\n",
    "   nchars = omp_get_affinity_format(default_format)\n",
    "   print*,\"Default Affinity Format: \", trim(default_format)\n",
    "\n",
    "   if( nchars > FORMAT_STORE) then\n",
    "      print*,\"Caution: Reported Format is truncated.  Increase\"\n",
    "      print*,\"         FORMAT_STORE to \", nchars\n",
    "   endif\n",
    "\n",
    "!                         Set Affinity Format\n",
    "\n",
    "   call omp_set_affinity_format(my_format)\n",
    "   print*,\"Affinity Format set to: \", my_format\n",
    "\n",
    "\n",
    "!  CODE SEGMENT 2         CAPTURE AFFINITY\n",
    "\n",
    "!                         Set up buffer for affinity of n threads\n",
    "\n",
    "   n = omp_get_num_procs()\n",
    "   allocate( character(len=BUFFER_STORE)::buffer(0:n-1) )\n",
    "\n",
    "!                         Capture Affinity using Affinity Format set above.\n",
    "!                         Use max reduction to check size of buffer areas\n",
    "   max_req_store = 0\n",
    "   !$omp parallel private(thrd_num,nchars) reduction(max:max_req_store)\n",
    "\n",
    "      if(omp_get_num_threads()>n) stop \"ERROR: increase buffer lines\"\n",
    "\n",
    "      thrd_num=omp_get_thread_num()\n",
    "      nchars=omp_capture_affinity(buffer(thrd_num),null)\n",
    "      if(nchars>max_req_store) max_req_store=nchars\n",
    "      !  ...\n",
    "\n",
    "   !$omp end parallel\n",
    "\n",
    "   do i = 0, n-1\n",
    "      print*, \"thrd_num= \",i,\"   affinity:\", trim(buffer(i))\n",
    "   end do\n",
    "         !  For 4 threads with OMP_PLACES='{0,1},{2,3},{4,5},{6,7}'\n",
    "         !  Format:   host=%20H thrd_num=%0.4n binds_to=%A\n",
    "\n",
    "         !  affinity: host=hpc.cn567            thrd_num=0000 binds_to=0,1\n",
    "         !  affinity: host=hpc.cn567            thrd_num=0001 binds_to=2,3\n",
    "         !  affinity: host=hpc.cn567            thrd_num=0002 binds_to=4,5\n",
    "         !  affinity: host=hpc.cn567            thrd_num=0003 binds_to=6,7\n",
    "\n",
    "   if(max_req_store > BUFFER_STORE) then\n",
    "      print*,  \"Caution: Affinity string truncated.  Increase\"\n",
    "      print*,  \"         BUFFER_STORE to \",max_req_store\n",
    "   endif\n",
    "\n",
    "   deallocate(buffer)\n",
    "end program\n",
    "\n"
   ]
  },
  {
   "cell_type": "markdown",
   "metadata": {},
   "source": [
    ""
   ]
  },
  {
   "cell_type": "markdown",
   "metadata": {},
   "source": [
    ""
   ]
  }
 ],
 "metadata": {
  "kernelspec": {
   "display_name": "Native",
   "language": "native",
   "name": "native"
  },
  "language_info": {
   "file_extension": ".c",
   "mimetype": "text/plain",
   "name": "none"
  }
 },
 "nbformat": 4,
 "nbformat_minor": 2
}