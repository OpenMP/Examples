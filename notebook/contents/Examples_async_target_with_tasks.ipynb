{
 "cells": [
  {
   "cell_type": "markdown",
   "metadata": {},
   "source": [
    ""
   ]
  },
  {
   "cell_type": "markdown",
   "metadata": {},
   "source": [
    "### Asynchronous `target` with Tasks"
   ]
  },
  {
   "cell_type": "markdown",
   "metadata": {},
   "source": [
    ""
   ]
  },
  {
   "cell_type": "markdown",
   "metadata": {},
   "source": [
    "The following example shows how the `task` and `target` constructs  are used to execute multiple `target` regions asynchronously. The task that  encounters the `task` construct generates an explicit task that contains  a `target` region. The thread executing the explicit task encounters a task  scheduling point while waiting for the execution of the `target` region  to complete, allowing the thread to switch back to the execution of the encountering  task or one of the previously generated explicit tasks."
   ]
  },
  {
   "cell_type": "markdown",
   "metadata": {},
   "source": [
    ""
   ]
  },
  {
   "cell_type": "code",
   "execution_count": null,
   "metadata": {},
   "outputs": [],
   "source": [
    "//%compiler: clang\n",
 "//%cflags: -fopenmp\n",
 "\n",
    "/*\n",
    "* name: async_target.1c\n",
    "* type: C\n",
    "* version: omp_4.0\n",
    "*/\n",
    "#pragma omp declare target\n",
    "float F(float);\n",
    "#pragma omp end declare target\n",
    "#define N 1000000000\n",
    "#define CHUNKSZ 1000000\n",
    "void init(float *, int);\n",
    "float Z[N];\n",
    "void pipedF(){\n",
    "   int C, i;\n",
    "   init(Z, N);\n",
    "   for (C=0; C<N; C+=CHUNKSZ){\n",
    "      #pragma omp task shared(Z)\n",
    "      #pragma omp target map(Z[C:CHUNKSZ])\n",
    "      #pragma omp parallel for\n",
    "      for (i=0; i<CHUNKSZ; i++) Z[i] = F(Z[i]);\n",
    "   }\n",
    "   #pragma omp taskwait\n",
    "}\n",
    "\n"
   ]
  },
  {
   "cell_type": "markdown",
   "metadata": {},
   "source": [
    ""
   ]
  },
  {
   "cell_type": "markdown",
   "metadata": {},
   "source": [
    "The Fortran version has an interface block that contains the `declare` `target`.  An identical statement exists in the function declaration (not shown here)."
   ]
  },
  {
   "cell_type": "markdown",
   "metadata": {},
   "source": [
    ""
   ]
  },
  {
   "cell_type": "code",
   "execution_count": null,
   "metadata": {},
   "outputs": [],
   "source": [
    "\n",
    "! name: async_target.1f\n",
    "! type: F-free\n",
    "! version: omp_4.0\n",
    "module parameters\n",
    "integer, parameter :: N=1000000000, CHUNKSZ=1000000\n",
    "end module\n",
    "subroutine pipedF()\n",
    "use parameters, ONLY: N, CHUNKSZ\n",
    "integer            :: C, i\n",
    "real               :: z(N)\n",
    "\n",
    "interface\n",
    "   function F(z)\n",
    "   !$omp declare target\n",
    "     real, intent(IN) ::z\n",
    "     real             ::F\n",
    "   end function F\n",
    "end interface\n",
    "\n",
    "   call init(z,N)\n",
    "\n",
    "   do C=1,N,CHUNKSZ\n",
    "\n",
    "      !$omp task shared(z)\n",
    "      !$omp target map(z(C:C+CHUNKSZ-1))\n",
    "      !$omp parallel do\n",
    "         do i=C,C+CHUNKSZ-1\n",
    "            z(i) = F(z(i))\n",
    "         end do\n",
    "      !$omp end target\n",
    "      !$omp end task\n",
    "\n",
    "   end do\n",
    "   !$omp taskwait\n",
    "   print*, z\n",
    "\n",
    "end subroutine pipedF\n",
    "\n"
   ]
  },
  {
   "cell_type": "markdown",
   "metadata": {},
   "source": [
    ""
   ]
  },
  {
   "cell_type": "markdown",
   "metadata": {},
   "source": [
    "The following example shows how the `task` and `target` constructs  are used to execute multiple `target` regions asynchronously. The task dependence  ensures that the storage is allocated and initialized on the device before it is  accessed."
   ]
  },
  {
   "cell_type": "markdown",
   "metadata": {},
   "source": [
    ""
   ]
  },
  {
   "cell_type": "code",
   "execution_count": null,
   "metadata": {},
   "outputs": [],
   "source": [
    "//%compiler: clang\n",
 "//%cflags: -fopenmp\n",
 "\n",
    "/*\n",
    "* name: async_target.2c\n",
    "* type: C\n",
    "* version: omp_4.0\n",
    "*/\n",
    "#include <stdlib.h>\n",
    "#include <omp.h>\n",
    "#pragma omp declare target\n",
    "extern void init(float *, float *, int);\n",
    "#pragma omp end declare target\n",
    "extern void foo();\n",
    "extern void output(float *, int);\n",
    "void vec_mult(float *p, int N, int dev)\n",
    "{\n",
    "   float *v1, *v2;\n",
    "   int i;\n",
    "   #pragma omp task shared(v1, v2) depend(out: v1, v2)\n",
    "   #pragma omp target device(dev) map(v1, v2)\n",
    "   {\n",
    "       // check whether on device dev\n",
    "       if (omp_is_initial_device())\n",
    "   abort();\n",
    "       v1 = (float *)malloc(N*sizeof(float));\n",
    "       v2 = (float *)malloc(N*sizeof(float));\n",
    "       init(v1, v2, N);\n",
    "   }\n",
    "   foo(); // execute other work asychronously\n",
    "   #pragma omp task shared(v1, v2, p) depend(in: v1, v2)\n",
    "   #pragma omp target device(dev) map(to: v1, v2) map(from: p[0:N])\n",
    "   {\n",
    "       // check whether on device dev\n",
    "       if (omp_is_initial_device())\n",
    "   abort();\n",
    "       #pragma omp parallel for\n",
    "       for (i=0; i<N; i++)\n",
    "  p[i] = v1[i] * v2[i];\n",
    "       free(v1);\n",
    "       free(v2);\n",
    "   }\n",
    "   #pragma omp taskwait\n",
    "   output(p, N);\n",
    "}\n",
    "\n"
   ]
  },
  {
   "cell_type": "markdown",
   "metadata": {},
   "source": [
    ""
   ]
  },
  {
   "cell_type": "markdown",
   "metadata": {},
   "source": [
    "The Fortran example below is similar to the C version above. Instead of pointers, though, it uses the convenience of Fortran allocatable arrays on the device. In order to preserve the arrays  allocated on the device across multiple `target` regions, a `target` `data` region  is used in this case."
   ]
  },
  {
   "cell_type": "markdown",
   "metadata": {},
   "source": [
    "If there is no shape specified for an allocatable array in a `map` clause, only the array descriptor (also called a dope vector) is mapped. That is, device space is created for the descriptor, and it is initially populated with host values. In this case, the  _v1_  and  _v2_  arrays will be in a non-associated state on the device. When space for  _v1_  and  _v2_  is allocated on the device in the first `target` region the addresses to the space will be included in their descriptors."
   ]
  },
  {
   "cell_type": "markdown",
   "metadata": {},
   "source": [
    "At the end of the first `target` region, the arrays  _v1_  and  _v2_  are preserved on the device  for access in the second `target` region. At the end of the second `target` region, the data  in array  _p_  is copied back, the arrays  _v1_  and  _v2_  are not."
   ]
  },
  {
   "cell_type": "markdown",
   "metadata": {},
   "source": [
    "A `depend` clause is used in the `task` directive to provide a wait at the beginning of the second  `target` region, to insure that there is no race condition with  _v1_  and  _v2_  in the two tasks. It would be noncompliant to use  _v1_  and/or  _v2_  in lieu of  _N_  in the `depend` clauses,  because the use of non-allocated allocatable arrays as list items in a `depend` clause would  lead to unspecified behavior."
   ]
  },
  {
   "cell_type": "markdown",
   "metadata": {},
   "source": [
    "This example is not strictly compliant with the OpenMP 4.5 specification since the allocation status of allocatable arrays  _v1_  and  _v2_  is changed inside the `target` region, which is not allowed. (See the restrictions for the `map` clause in the  _Data-mapping Attribute Rules and Clauses_   section of the specification.) However, the intention is to relax the restrictions on mapping of allocatable variables in the next release of the specification so that the example will be compliant."
   ]
  },
  {
   "cell_type": "markdown",
   "metadata": {},
   "source": [
    ""
   ]
  },
  {
   "cell_type": "code",
   "execution_count": null,
   "metadata": {},
   "outputs": [],
   "source": [
    "\n",
    "! name: async_target.2f\n",
    "! type: F-free\n",
    "! version: omp_4.0\n",
    " subroutine mult(p,  N, idev)\n",
    "   use omp_lib, ONLY: omp_is_initial_device\n",
    "   real             :: p(N)\n",
    "   real,allocatable :: v1(:), v2(:)\n",
    "   integer ::  i, idev\n",
    "   !$omp declare target (init)\n",
    "\n",
    "   !$omp target data map(v1,v2)\n",
    "\n",
    "   !$omp task shared(v1,v2) depend(out: N)\n",
    "      !$omp target device(idev)\n",
    "         if( omp_is_initial_device() ) &\n",
    "            stop \"not executing on target device\"\n",
    "         allocate(v1(N), v2(N))\n",
    "         call init(v1,v2,N)\n",
    "      !$omp end target\n",
    "   !$omp end task\n",
    "\n",
    "   call foo()  ! execute other work asychronously\n",
    "\n",
    "   !$omp task shared(v1,v2,p) depend(in: N)\n",
    "      !$omp target device(idev) map(from: p)\n",
    "         if( omp_is_initial_device() ) &\n",
    "            stop \"not executing on target device\"\n",
    "         !$omp parallel do\n",
    "            do i = 1,N\n",
    "               p(i) = v1(i) * v2(i)\n",
    "            end do\n",
    "         deallocate(v1,v2)\n",
    "\n",
    "      !$omp end target\n",
    "   !$omp end task\n",
    "\n",
    "   !$omp taskwait\n",
    "\n",
    "   !$omp end target data\n",
    "\n",
    "   call output(p, N)\n",
    "\n",
    "end subroutine\n",
    "\n"
   ]
  },
  {
   "cell_type": "markdown",
   "metadata": {},
   "source": [
    ""
   ]
  },
  {
   "cell_type": "markdown",
   "metadata": {},
   "source": [
    ""
   ]
  }
 ],
 "metadata": {
  "kernelspec": {
   "display_name": "Native",
   "language": "native",
   "name": "native"
  },
  "language_info": {
   "file_extension": ".c",
   "mimetype": "text/plain",
   "name": "none"
  }
 },
 "nbformat": 4,
 "nbformat_minor": 2
}