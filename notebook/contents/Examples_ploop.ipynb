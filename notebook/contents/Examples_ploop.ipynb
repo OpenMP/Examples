{
 "cells": [
  {
   "cell_type": "markdown",
   "metadata": {},
   "source": [
    ""
   ]
  },
  {
   "cell_type": "markdown",
   "metadata": {},
   "source": [
    "## A Simple Parallel Loop"
   ]
  },
  {
   "cell_type": "markdown",
   "metadata": {},
   "source": [
    ""
   ]
  },
  {
   "cell_type": "markdown",
   "metadata": {},
   "source": [
    "The following example demonstrates how to parallelize a simple loop using the parallel  loop construct. The loop iteration variable is private by default, so it is not  necessary to specify it explicitly in a `private` clause."
   ]
  },
  {
   "cell_type": "markdown",
   "metadata": {},
   "source": [
    ""
   ]
  },
  {
   "cell_type": "code",
   "execution_count": null,
   "metadata": {},
   "outputs": [],
   "source": [
    "//%compiler: clang\n",
 "//%cflags: -fopenmp\n",
 "\n",
    "/*\n",
    "* name: ploop.1c\n",
    "* type: C\n",
    "*/\n",
    "void simple(int n, float *a, float *b)\n",
    "{\n",
    "    int i;\n",
    "\n",
    "#pragma omp parallel for\n",
    "    for (i=1; i<n; i++) /* i is private by default */\n",
    "        b[i] = (a[i] + a[i-1]) / 2.0;\n",
    "}\n",
    "\n"
   ]
  },
  {
   "cell_type": "markdown",
   "metadata": {},
   "source": [
    ""
   ]
  },
  {
   "cell_type": "markdown",
   "metadata": {},
   "source": [
    ""
   ]
  },
  {
   "cell_type": "code",
   "execution_count": null,
   "metadata": {},
   "outputs": [],
   "source": [
    "\n",
    "! name: ploop.1f\n",
    "! type: F-fixed\n",
    "      SUBROUTINE SIMPLE(N, A, B)\n",
    "\n",
    "      INTEGER I, N\n",
    "      REAL B(N), A(N)\n",
    "\n",
    "!$OMP PARALLEL DO  !I is private by default\n",
    "      DO I=2,N\n",
    "          B(I) = (A(I) + A(I-1)) / 2.0\n",
    "      ENDDO\n",
    "!$OMP END PARALLEL DO\n",
    "\n",
    "      END SUBROUTINE SIMPLE\n",
    "\n"
   ]
  },
  {
   "cell_type": "markdown",
   "metadata": {},
   "source": [
    ""
   ]
  },
  {
   "cell_type": "markdown",
   "metadata": {},
   "source": [
    ""
   ]
  }
 ],
 "metadata": {
  "kernelspec": {
   "display_name": "Native",
   "language": "native",
   "name": "native"
  },
  "language_info": {
   "file_extension": ".c",
   "mimetype": "text/plain",
   "name": "none"
  }
 },
 "nbformat": 4,
 "nbformat_minor": 2
}