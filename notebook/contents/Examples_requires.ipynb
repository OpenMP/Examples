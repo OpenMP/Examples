{
 "cells": [
  {
   "cell_type": "markdown",
   "metadata": {},
   "source": [
    ""
   ]
  },
  {
   "cell_type": "markdown",
   "metadata": {},
   "source": [
    "## The `requires` Directive"
   ]
  },
  {
   "cell_type": "markdown",
   "metadata": {},
   "source": [
    ""
   ]
  },
  {
   "cell_type": "markdown",
   "metadata": {},
   "source": [
    "The declarative `requires` directive can be used to  specify features that an implementation must provide to compile and  execute correctly."
   ]
  },
  {
   "cell_type": "markdown",
   "metadata": {},
   "source": [
    "In the following example the `unified_shared_memory` clause  of the `requires` directive ensures that the host and all  devices accessible through OpenMP provide a  _unified address_  space for memory that is shared by all devices."
   ]
  },
  {
   "cell_type": "markdown",
   "metadata": {},
   "source": [
    "The example illustrates the use of the `requires` directive specifying  _unified shared memory_  in file scope, before any device  directives or device routines. No `map` clause is needed for the  _p_  structure on the device (and its address  _&p_ , for the C++ code, is the same address on the host and device). However, scalar variables referenced within the `target` construct still have a default data-sharing attribute of firstprivate. The  _q_  scalar is incremented on the device, and its change is not updated on the host."
   ]
  },
  {
   "cell_type": "markdown",
   "metadata": {},
   "source": [
    ""
   ]
  },
  {
   "cell_type": "markdown",
   "metadata": {},
   "source": [
    ""
   ]
  },
  {
   "cell_type": "code",
   "execution_count": null,
   "metadata": {},
   "outputs": [],
   "source": [
    "//%compiler: clang\n",
 "//%cflags: -fopenmp\n",
 "\n",
    "/*\n",
    "* name:       requires.1cpp\n",
    "* type:       C++\n",
    "* version:    omp_5.0\n",
    "*/\n",
    "\n",
    "#include <iostream>\n",
    "using namespace std;\n",
    "\n",
    "#pragma omp requires unified_shared_memory\n",
    "\n",
    "typedef struct mypoints\n",
    "{\n",
    "   double res;\n",
    "   double data[500];\n",
    "} mypoints_t;\n",
    "\n",
    "void do_something_with_p(mypoints_t *p, int q);\n",
    "\n",
    "int main()\n",
    "{\n",
    "  mypoints_t p;\n",
    "  int q=0;\n",
    "\n",
    "  #pragma omp target // no map clauses needed\n",
    "  {                  // q is firstprivate\n",
    "     q++;\n",
    "     do_something_with_p(&p,q);\n",
    "  }\n",
    "  cout<< p.res << \" \" << q << endl;  // output 1 0\n",
    "  return 0;\n",
    "}\n",
    "void do_something_with_p(mypoints_t *p, int q)\n",
    "{\n",
    "  p->res = q;\n",
    "  for(int i=0;i<sizeof(p->data)/sizeof(double);i++)\n",
    "      p->data[i]=q*i;\n",
    "}\n",
    "\n"
   ]
  },
  {
   "cell_type": "markdown",
   "metadata": {},
   "source": [
    ""
   ]
  },
  {
   "cell_type": "markdown",
   "metadata": {},
   "source": [
    ""
   ]
  },
  {
   "cell_type": "code",
   "execution_count": null,
   "metadata": {},
   "outputs": [],
   "source": [
    "\n",
    "! name:       requires.1f90\n",
    "! type:       F-free\n",
    "! version:    omp_5.0\n",
    "\n",
    "module data\n",
    "!$omp requires unified_shared_memory\n",
    "  type,public :: mypoints\n",
    "     double precision :: res\n",
    "     double precision :: data(500)\n",
    "  end type\n",
    "end module\n",
    "\n",
    "program main\n",
    "  use data\n",
    "  type(mypoints) :: p\n",
    "  integer        :: q=0\n",
    "\n",
    "  !$omp target    !! no map clauses needed\n",
    "     q = q + 1    !! q is firstprivate\n",
    "     call do_something_with_p(p,q)\n",
    "  !$omp end target\n",
    "\n",
    "  write(*,'(f5.0,i5)') p%res, q    !! output 1.   0\n",
    "\n",
    "end program\n",
    "\n",
    "subroutine do_something_with_p(p,q)\n",
    "  use data\n",
    "  type(mypoints) :: p\n",
    "  integer        :: q\n",
    "\n",
    "  p%res = q;\n",
    "  do i=1,size(p%data)\n",
    "     p%data(i)=q*i\n",
    "  enddo\n",
    "\n",
    "end subroutine\n",
    "\n"
   ]
  },
  {
   "cell_type": "markdown",
   "metadata": {},
   "source": [
    ""
   ]
  },
  {
   "cell_type": "markdown",
   "metadata": {},
   "source": [
    ""
   ]
  }
 ],
 "metadata": {
  "kernelspec": {
   "display_name": "Native",
   "language": "native",
   "name": "native"
  },
  "language_info": {
   "file_extension": ".c",
   "mimetype": "text/plain",
   "name": "none"
  }
 },
 "nbformat": 4,
 "nbformat_minor": 2
}