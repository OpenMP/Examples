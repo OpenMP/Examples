{
 "cells": [
  {
   "cell_type": "markdown",
   "metadata": {},
   "source": [
    ""
   ]
  },
  {
   "cell_type": "markdown",
   "metadata": {},
   "source": [
    "## The `copyin` Clause"
   ]
  },
  {
   "cell_type": "markdown",
   "metadata": {},
   "source": [
    ""
   ]
  },
  {
   "cell_type": "markdown",
   "metadata": {},
   "source": [
    "The `copyin` clause is used to initialize threadprivate data upon entry  to a `parallel` region. The value of the threadprivate variable in the master  thread is copied to the threadprivate variable of each other team member."
   ]
  },
  {
   "cell_type": "markdown",
   "metadata": {},
   "source": [
    ""
   ]
  },
  {
   "cell_type": "code",
   "execution_count": null,
   "metadata": {},
   "outputs": [],
   "source": [
    "//%compiler: clang\n",
 "//%cflags: -fopenmp\n",
 "\n",
    "/*\n",
    "* name: copyin.1c\n",
    "* type: C\n",
    "*/\n",
    "#include <stdlib.h>\n",
    "\n",
    "float* work;\n",
    "int size;\n",
    "float tol;\n",
    "\n",
    "#pragma omp threadprivate(work,size,tol)\n",
    "\n",
    "void build()\n",
    "{\n",
    "  int i;\n",
    "  work = (float*)malloc( sizeof(float)*size );\n",
    "  for( i = 0; i < size; ++i ) work[i] = tol;\n",
    "}\n",
    "\n",
    "void copyin_example( float t, int n )\n",
    "{\n",
    "  tol = t;\n",
    "  size = n;\n",
    "  #pragma omp parallel copyin(tol,size)\n",
    "  {\n",
    "    build();\n",
    "  }\n",
    "}\n",
    "\n"
   ]
  },
  {
   "cell_type": "markdown",
   "metadata": {},
   "source": [
    ""
   ]
  },
  {
   "cell_type": "markdown",
   "metadata": {},
   "source": [
    ""
   ]
  },
  {
   "cell_type": "code",
   "execution_count": null,
   "metadata": {},
   "outputs": [],
   "source": [
    "\n",
    "! name: copyin.1f\n",
    "! type: F-fixed\n",
    "      MODULE M\n",
    "        REAL, POINTER, SAVE :: WORK(:)\n",
    "        INTEGER :: SIZE\n",
    "        REAL :: TOL\n",
    "!$OMP   THREADPRIVATE(WORK,SIZE,TOL)\n",
    "      END MODULE M\n",
    "\n",
    "      SUBROUTINE COPYIN_EXAMPLE( T, N )\n",
    "        USE M\n",
    "        REAL :: T\n",
    "        INTEGER :: N\n",
    "        TOL = T\n",
    "        SIZE = N\n",
    "!$OMP   PARALLEL COPYIN(TOL,SIZE)\n",
    "        CALL BUILD\n",
    "!$OMP   END PARALLEL\n",
    "      END SUBROUTINE COPYIN_EXAMPLE\n",
    "\n",
    "      SUBROUTINE BUILD\n",
    "        USE M\n",
    "        ALLOCATE(WORK(SIZE))\n",
    "        WORK = TOL\n",
    "      END SUBROUTINE BUILD\n",
    "\n"
   ]
  },
  {
   "cell_type": "markdown",
   "metadata": {},
   "source": [
    ""
   ]
  },
  {
   "cell_type": "markdown",
   "metadata": {},
   "source": [
    ""
   ]
  },
  {
   "cell_type": "markdown",
   "metadata": {},
   "source": [
    ""
   ]
  }
 ],
 "metadata": {
  "kernelspec": {
   "display_name": "Native",
   "language": "native",
   "name": "native"
  },
  "language_info": {
   "file_extension": ".c",
   "mimetype": "text/plain",
   "name": "none"
  }
 },
 "nbformat": 4,
 "nbformat_minor": 2
}