{
 "cells": [
  {
   "cell_type": "markdown",
   "metadata": {},
   "source": [
    ""
   ]
  },
  {
   "cell_type": "markdown",
   "metadata": {},
   "source": [
    "## Worksharing Constructs Inside a `critical` Construct"
   ]
  },
  {
   "cell_type": "markdown",
   "metadata": {},
   "source": [
    ""
   ]
  },
  {
   "cell_type": "markdown",
   "metadata": {},
   "source": [
    "The following example demonstrates using a worksharing construct inside a `critical`  construct. This example is conforming because the worksharing `single`   region is not closely nested inside the `critical` region. A single thread  executes the one and only section in the `sections` region, and executes  the `critical` region. The same thread encounters the nested `parallel`  region, creates a new team of threads, and becomes the master of the new team.  One of the threads in the new team enters the `single` region and increments  `i` by `1`. At the end of this example `i` is equal to `2`."
   ]
  },
  {
   "cell_type": "markdown",
   "metadata": {},
   "source": [
    ""
   ]
  },
  {
   "cell_type": "code",
   "execution_count": null,
   "metadata": {},
   "outputs": [],
   "source": [
    "//%compiler: clang\n",
 "//%cflags: -fopenmp\n",
 "\n",
    "/*\n",
    "* name: worksharing_critical.1c\n",
    "* type: C\n",
    "*/\n",
    "void critical_work()\n",
    "{\n",
    "  int i = 1;\n",
    "  #pragma omp parallel sections\n",
    "  {\n",
    "    #pragma omp section\n",
    "    {\n",
    "      #pragma omp critical (name)\n",
    "      {\n",
    "        #pragma omp parallel\n",
    "        {\n",
    "          #pragma omp single\n",
    "          {\n",
    "            i++;\n",
    "          }\n",
    "        }\n",
    "      }\n",
    "    }\n",
    "  }\n",
    "}\n",
    "\n"
   ]
  },
  {
   "cell_type": "markdown",
   "metadata": {},
   "source": [
    ""
   ]
  },
  {
   "cell_type": "markdown",
   "metadata": {},
   "source": [
    ""
   ]
  },
  {
   "cell_type": "code",
   "execution_count": null,
   "metadata": {},
   "outputs": [],
   "source": [
    "\n",
    "! name: worksharing_critical.1f\n",
    "! type: F-fixed\n",
    "      SUBROUTINE CRITICAL_WORK()\n",
    "\n",
    "        INTEGER I\n",
    "        I = 1\n",
    "\n",
    "!$OMP   PARALLEL SECTIONS\n",
    "!$OMP     SECTION\n",
    "!$OMP       CRITICAL (NAME)\n",
    "!$OMP         PARALLEL\n",
    "!$OMP           SINGLE\n",
    "                  I = I + 1\n",
    "!$OMP           END SINGLE\n",
    "!$OMP         END PARALLEL\n",
    "!$OMP       END CRITICAL (NAME)\n",
    "!$OMP   END PARALLEL SECTIONS\n",
    "      END SUBROUTINE CRITICAL_WORK\n",
    "\n"
   ]
  },
  {
   "cell_type": "markdown",
   "metadata": {},
   "source": [
    ""
   ]
  },
  {
   "cell_type": "markdown",
   "metadata": {},
   "source": [
    ""
   ]
  },
  {
   "cell_type": "markdown",
   "metadata": {},
   "source": [
    ""
   ]
  }
 ],
 "metadata": {
  "kernelspec": {
   "display_name": "Native",
   "language": "native",
   "name": "native"
  },
  "language_info": {
   "file_extension": ".c",
   "mimetype": "text/plain",
   "name": "none"
  }
 },
 "nbformat": 4,
 "nbformat_minor": 2
}