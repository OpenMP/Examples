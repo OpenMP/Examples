{
 "cells": [
  {
   "cell_type": "markdown",
   "metadata": {},
   "source": [
    ""
   ]
  },
  {
   "cell_type": "markdown",
   "metadata": {},
   "source": [
    "## The `flush` Construct without a List"
   ]
  },
  {
   "cell_type": "markdown",
   "metadata": {},
   "source": [
    ""
   ]
  },
  {
   "cell_type": "markdown",
   "metadata": {},
   "source": [
    "The following example distinguishes the shared variables affected by a `flush`  construct with no list from the shared objects that are not affected:"
   ]
  },
  {
   "cell_type": "markdown",
   "metadata": {},
   "source": [
    ""
   ]
  },
  {
   "cell_type": "code",
   "execution_count": null,
   "metadata": {},
   "outputs": [],
   "source": [
    "//%compiler: clang\n",
 "//%cflags: -fopenmp\n",
 "\n",
    "/*\n",
    "* name: flush_nolist.1c\n",
    "* type: C\n",
    "*/\n",
    "int x, *p = &x;\n",
    "\n",
    "void f1(int *q)\n",
    "{\n",
    "  *q = 1;\n",
    "  #pragma omp flush\n",
    "  /* x, p, and *q are flushed */\n",
    "  /* because they are shared and accessible */\n",
    "  /* q is not flushed because it is not shared. */\n",
    "}\n",
    "\n",
    "void f2(int *q)\n",
    "{\n",
    "  #pragma omp barrier\n",
    "  *q = 2;\n",
    "  #pragma omp barrier\n",
    "\n",
    "  /* a barrier implies a flush */\n",
    "  /* x, p, and *q are flushed */\n",
    "  /* because they are shared and accessible */\n",
    "  /* q is not flushed because it is not shared. */\n",
    "}\n",
    "\n",
    "int g(int n)\n",
    "{\n",
    "  int i = 1, j, sum = 0;\n",
    "  *p = 1;\n",
    "  #pragma omp parallel reduction(+: sum) num_threads(10)\n",
    "  {\n",
    "    f1(&j);\n",
    "\n",
    "    /* i, n and sum were not flushed */\n",
    "    /* because they were not accessible in f1 */\n",
    "    /* j was flushed because it was accessible */\n",
    "    sum += j;\n",
    "\n",
    "    f2(&j);\n",
    "\n",
    "    /* i, n, and sum were not flushed */\n",
    "    /* because they were not accessible in f2 */\n",
    "    /* j was flushed because it was accessible */\n",
    "    sum += i + j + *p + n;\n",
    "  }\n",
    "  return sum;\n",
    "}\n",
    "\n",
    "int main()\n",
    "{\n",
    "  int result = g(7);\n",
    "  return result;\n",
    "}\n",
    "\n"
   ]
  },
  {
   "cell_type": "markdown",
   "metadata": {},
   "source": [
    ""
   ]
  },
  {
   "cell_type": "markdown",
   "metadata": {},
   "source": [
    ""
   ]
  },
  {
   "cell_type": "code",
   "execution_count": null,
   "metadata": {},
   "outputs": [],
   "source": [
    "\n",
    "! name: flush_nolist.1f\n",
    "! type: F-fixed\n",
    "      SUBROUTINE F1(Q)\n",
    "        COMMON /DATA/ X, P\n",
    "        INTEGER, TARGET  :: X\n",
    "        INTEGER, POINTER :: P\n",
    "        INTEGER Q\n",
    "\n",
    "        Q = 1\n",
    "!$OMP   FLUSH\n",
    "        ! X, P and Q are flushed\n",
    "        ! because they are shared and accessible\n",
    "      END SUBROUTINE F1\n",
    "\n",
    "      SUBROUTINE F2(Q)\n",
    "        COMMON /DATA/ X, P\n",
    "        INTEGER, TARGET  :: X\n",
    "        INTEGER, POINTER :: P\n",
    "        INTEGER Q\n",
    "\n",
    "!$OMP   BARRIER\n",
    "          Q = 2\n",
    "!$OMP   BARRIER\n",
    "          ! a barrier implies a flush\n",
    "          ! X, P and Q are flushed\n",
    "          ! because they are shared and accessible\n",
    "      END SUBROUTINE F2\n",
    "\n",
    "      INTEGER FUNCTION G(N)\n",
    "        COMMON /DATA/ X, P\n",
    "        INTEGER, TARGET  :: X\n",
    "        INTEGER, POINTER :: P\n",
    "        INTEGER N\n",
    "        INTEGER I, J, SUM\n",
    "\n",
    "        I = 1\n",
    "        SUM = 0\n",
    "        P = 1\n",
    "!$OMP   PARALLEL REDUCTION(+: SUM) NUM_THREADS(10)\n",
    "          CALL F1(J)\n",
    "            ! I, N and SUM were not flushed\n",
    "            !   because they were not accessible in F1\n",
    "            ! J was flushed because it was accessible\n",
    "          SUM = SUM + J\n",
    "\n",
    "          CALL F2(J)\n",
    "            ! I, N, and SUM were not flushed\n",
    "            !   because they were not accessible in f2\n",
    "            ! J was flushed because it was accessible\n",
    "          SUM = SUM + I + J + P + N\n",
    "!$OMP   END PARALLEL\n",
    "\n",
    "        G = SUM\n",
    "      END FUNCTION G\n",
    "\n",
    "      PROGRAM FLUSH_NOLIST\n",
    "        COMMON /DATA/ X, P\n",
    "        INTEGER, TARGET  :: X\n",
    "        INTEGER, POINTER :: P\n",
    "        INTEGER RESULT, G\n",
    "\n",
    "        P => X\n",
    "        RESULT = G(7)\n",
    "        PRINT *, RESULT\n",
    "      END PROGRAM FLUSH_NOLIST\n",
    "\n"
   ]
  },
  {
   "cell_type": "markdown",
   "metadata": {},
   "source": [
    ""
   ]
  },
  {
   "cell_type": "markdown",
   "metadata": {},
   "source": [
    ""
   ]
  },
  {
   "cell_type": "markdown",
   "metadata": {},
   "source": [
    ""
   ]
  }
 ],
 "metadata": {
  "kernelspec": {
   "display_name": "Native",
   "language": "native",
   "name": "native"
  },
  "language_info": {
   "file_extension": ".c",
   "mimetype": "text/plain",
   "name": "none"
  }
 },
 "nbformat": 4,
 "nbformat_minor": 2
}