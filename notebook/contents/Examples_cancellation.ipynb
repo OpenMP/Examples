{
 "cells": [
  {
   "cell_type": "markdown",
   "metadata": {},
   "source": [
    ""
   ]
  },
  {
   "cell_type": "markdown",
   "metadata": {},
   "source": [
    "## Cancellation Constructs"
   ]
  },
  {
   "cell_type": "markdown",
   "metadata": {},
   "source": [
    ""
   ]
  },
  {
   "cell_type": "markdown",
   "metadata": {},
   "source": [
    "The following example shows how the `cancel` directive can be used to terminate  an OpenMP region. Although the `cancel` construct terminates the OpenMP  worksharing region, programmers must still track the exception through the pointer  ex and issue a cancellation for the `parallel` region if an exception has  been raised. The master thread checks the exception pointer to make sure that the  exception is properly handled in the sequential part. If cancellation of the `parallel`  region has been requested, some threads might have executed `phase_1()`.  However, it is guaranteed that none of the threads executed `phase_2()`."
   ]
  },
  {
   "cell_type": "markdown",
   "metadata": {},
   "source": [
    ""
   ]
  },
  {
   "cell_type": "code",
   "execution_count": null,
   "metadata": {},
   "outputs": [],
   "source": [
    "//%compiler: clang\n",
 "//%cflags: -fopenmp\n",
 "\n",
    "/*\n",
    "* name: cancellation.1c\n",
    "* type: C++\n",
    "* version: omp_4.0\n",
    "*/\n",
    "#include <iostream>\n",
    "#include <exception>\n",
    "#include <cstddef>\n",
    "\n",
    "#define N 10000\n",
    "\n",
    "extern void causes_an_exception();\n",
    "extern void phase_1();\n",
    "extern void phase_2();\n",
    "\n",
    "void example() {\n",
    "    std::exception *ex = NULL;\n",
    "#pragma omp parallel shared(ex)\n",
    "    {\n",
    "#pragma omp for\n",
    "        for (int i = 0; i < N; i++) {\n",
    "            // no 'if' that prevents compiler optimizations\n",
    "            try {\n",
    "                causes_an_exception();\n",
    "            }\n",
    "            catch (std::exception *e) {\n",
    "                // still must remember exception for later handling\n",
    "#pragma omp atomic write\n",
    "                ex = e;\n",
    "    // cancel worksharing construct\n",
    "#pragma omp cancel for\n",
    "            }\n",
    "        }\n",
    "   // if an exception has been raised, cancel parallel region\n",
    "        if (ex) {\n",
    "#pragma omp cancel parallel\n",
    "        }\n",
    "        phase_1();\n",
    "#pragma omp barrier\n",
    "        phase_2();\n",
    "    }\n",
    "    // continue here if an exception has been thrown in the worksharing loop\n",
    "    if (ex) {\n",
    "        // handle exception stored in ex\n",
    "    }\n",
    "}\n",
    "\n"
   ]
  },
  {
   "cell_type": "markdown",
   "metadata": {},
   "source": [
    ""
   ]
  },
  {
   "cell_type": "markdown",
   "metadata": {},
   "source": [
    ""
   ]
  },
  {
   "cell_type": "markdown",
   "metadata": {},
   "source": [
    "The following example illustrates the use of the `cancel` construct in error  handling. If there is an error condition from the `allocate` statement,  the cancellation is activated. The encountering thread sets the shared variable  `err` and other threads of the binding thread set proceed to the end of  the worksharing construct after the cancellation has been activated."
   ]
  },
  {
   "cell_type": "markdown",
   "metadata": {},
   "source": [
    ""
   ]
  },
  {
   "cell_type": "code",
   "execution_count": null,
   "metadata": {},
   "outputs": [],
   "source": [
    "\n",
    "! name: cancellation.1f\n",
    "! type: F-free\n",
    "! version: omp_4.0\n",
    "subroutine example(n, dim)\n",
    "  integer, intent(in) :: n, dim(n)\n",
    "  integer :: i, s, err\n",
    "  real, allocatable :: B(:)\n",
    "  err = 0\n",
    "!$omp parallel shared(err)\n",
    "! ...\n",
    "!$omp do private(s, B)\n",
    "  do i=1, n\n",
    "!$omp cancellation point do\n",
    "    allocate(B(dim(i)), stat=s)\n",
    "    if (s .gt. 0) then\n",
    "!$omp atomic write\n",
    "      err = s\n",
    "!$omp cancel do\n",
    "    endif\n",
    "!   ...\n",
    "! deallocate private array B\n",
    "    if (allocated(B)) then\n",
    "      deallocate(B)\n",
    "    endif\n",
    "  enddo\n",
    "!$omp end parallel\n",
    "end subroutine\n",
    "\n"
   ]
  },
  {
   "cell_type": "markdown",
   "metadata": {},
   "source": [
    ""
   ]
  },
  {
   "cell_type": "markdown",
   "metadata": {},
   "source": [
    ""
   ]
  },
  {
   "cell_type": "markdown",
   "metadata": {},
   "source": [
    "The following example shows how to cancel a parallel search on a binary tree as  soon as the search value has been detected. The code creates a task to descend  into the child nodes of the current tree node. If the search value has been found,  the code remembers the tree node with the found value through an `atomic`  write to the result variable and then cancels execution of all search tasks. The  function `search_tree_parallel` groups all search tasks into a single  task group to control the effect of the `cancel taskgroup` directive. The   _level_  argument is used to create undeferred tasks after the first ten  levels of the tree."
   ]
  },
  {
   "cell_type": "markdown",
   "metadata": {},
   "source": [
    ""
   ]
  },
  {
   "cell_type": "code",
   "execution_count": null,
   "metadata": {},
   "outputs": [],
   "source": [
    "//%compiler: clang\n",
 "//%cflags: -fopenmp\n",
 "\n",
    "/*\n",
    "* name: cancellation.2c\n",
    "* type: C\n",
    "* version: omp_4.0\n",
    "*/\n",
    "#include <stddef.h>\n",
    "\n",
    "typedef struct binary_tree_s {\n",
    "   int value;\n",
    "   struct binary_tree_s *left, *right;\n",
    "} binary_tree_t;\n",
    "\n",
    "binary_tree_t *search_tree(binary_tree_t *tree, int value, int level) {\n",
    "    binary_tree_t *found = NULL;\n",
    "    if (tree) {\n",
    "        if (tree->value == value) {\n",
    "            found = tree;\n",
    "        }\n",
    "        else {\n",
    "#pragma omp task shared(found) if(level < 10)\n",
    "            {\n",
    "                binary_tree_t *found_left = NULL;\n",
    "                found_left = search_tree(tree->left, value, level + 1);\n",
    "                if (found_left) {\n",
    "#pragma omp atomic write\n",
    "                    found = found_left;\n",
    "#pragma omp cancel taskgroup\n",
    "                }\n",
    "            }\n",
    "#pragma omp task shared(found) if(level < 10)\n",
    "            {\n",
    "                binary_tree_t *found_right = NULL;\n",
    "                found_right = search_tree(tree->right, value, level + 1);\n",
    "                if (found_right) {\n",
    "#pragma omp atomic write\n",
    "                    found = found_right;\n",
    "#pragma omp cancel taskgroup\n",
    "                }\n",
    "            }\n",
    "#pragma omp taskwait\n",
    "        }\n",
    "    }\n",
    "    return found;\n",
    "}\n",
    "binary_tree_t *search_tree_parallel(binary_tree_t *tree, int value) {\n",
    "    binary_tree_t *found = NULL;\n",
    "#pragma omp parallel shared(found, tree, value)\n",
    "    {\n",
    "#pragma omp master\n",
    "        {\n",
    "#pragma omp taskgroup\n",
    "            {\n",
    "                found = search_tree(tree, value, 0);\n",
    "            }\n",
    "        }\n",
    "    }\n",
    "    return found;\n",
    "}\n",
    "\n"
   ]
  },
  {
   "cell_type": "markdown",
   "metadata": {},
   "source": [
    ""
   ]
  },
  {
   "cell_type": "markdown",
   "metadata": {},
   "source": [
    ""
   ]
  },
  {
   "cell_type": "markdown",
   "metadata": {},
   "source": [
    "The following is the equivalent parallel search example in Fortran."
   ]
  },
  {
   "cell_type": "markdown",
   "metadata": {},
   "source": [
    ""
   ]
  },
  {
   "cell_type": "code",
   "execution_count": null,
   "metadata": {},
   "outputs": [],
   "source": [
    "\n",
    "! name: cancellation.2f\n",
    "! type: F-free\n",
    "! version: omp_4.0\n",
    "module parallel_search\n",
    "  type binary_tree\n",
    "    integer :: value\n",
    "    type(binary_tree), pointer :: right\n",
    "    type(binary_tree), pointer :: left\n",
    "  end type\n",
    "\n",
    "contains\n",
    "  recursive subroutine search_tree(tree, value, level, found)\n",
    "    type(binary_tree), intent(in), pointer :: tree\n",
    "    integer, intent(in) :: value, level\n",
    "    type(binary_tree), pointer :: found\n",
    "    type(binary_tree), pointer :: found_left => NULL(), found_right => NULL()\n",
    "\n",
    "    if (associated(tree)) then\n",
    "      if (tree%value .eq. value) then\n",
    "        found => tree\n",
    "      else\n",
    "!$omp task shared(found) if(level<10)\n",
    "        call search_tree(tree%left, value, level+1, found_left)\n",
    "        if (associated(found_left)) then\n",
    "!$omp critical\n",
    "          found => found_left\n",
    "!$omp end critical\n",
    "\n",
    "!$omp cancel taskgroup\n",
    "        endif\n",
    "!$omp end task\n",
    "\n",
    "!$omp task shared(found) if(level<10)\n",
    "        call search_tree(tree%right, value, level+1, found_right)\n",
    "        if (associated(found_right)) then\n",
    "!$omp critical\n",
    "          found => found_right\n",
    "!$omp end critical\n",
    "\n",
    "!$omp cancel taskgroup\n",
    "        endif\n",
    "!$omp end task\n",
    "\n",
    "!$omp taskwait\n",
    "      endif\n",
    "    endif\n",
    "  end subroutine\n",
    "\n",
    "  subroutine search_tree_parallel(tree, value, found)\n",
    "    type(binary_tree), intent(in), pointer :: tree\n",
    "    integer, intent(in) :: value\n",
    "    type(binary_tree), pointer :: found\n",
    "\n",
    "    found => NULL()\n",
    "!$omp parallel shared(found, tree, value)\n",
    "!$omp master\n",
    "!$omp taskgroup\n",
    "    call search_tree(tree, value, 0, found)\n",
    "!$omp end taskgroup\n",
    "!$omp end master\n",
    "!$omp end parallel\n",
    "  end subroutine\n",
    "\n",
    "end module parallel_search\n",
    "\n"
   ]
  },
  {
   "cell_type": "markdown",
   "metadata": {},
   "source": [
    ""
   ]
  },
  {
   "cell_type": "markdown",
   "metadata": {},
   "source": [
    ""
   ]
  },
  {
   "cell_type": "markdown",
   "metadata": {},
   "source": [
    ""
   ]
  }
 ],
 "metadata": {
  "kernelspec": {
   "display_name": "Native",
   "language": "native",
   "name": "native"
  },
  "language_info": {
   "file_extension": ".c",
   "mimetype": "text/plain",
   "name": "none"
  }
 },
 "nbformat": 4,
 "nbformat_minor": 2
}