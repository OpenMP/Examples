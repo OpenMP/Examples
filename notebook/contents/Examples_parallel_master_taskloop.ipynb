{
 "cells": [
  {
   "cell_type": "markdown",
   "metadata": {},
   "source": [
    ""
   ]
  },
  {
   "cell_type": "markdown",
   "metadata": {},
   "source": [
    "## The `parallel master taskloop` Construct"
   ]
  },
  {
   "cell_type": "markdown",
   "metadata": {},
   "source": [
    ""
   ]
  },
  {
   "cell_type": "markdown",
   "metadata": {},
   "source": [
    "In the OpenMP 5.0 Specification several combined constructs containing the `taskloop` construct were added."
   ]
  },
  {
   "cell_type": "markdown",
   "metadata": {},
   "source": [
    "Just as the `for` and `do` constructs have been combined with the `parallel` construct for convenience, so too, the combined `parallel` `master` `taskloop` and  `parallel` `master` `taskloop` `simd` constructs have been created for convenience."
   ]
  },
  {
   "cell_type": "markdown",
   "metadata": {},
   "source": [
    "In the following example the first `taskloop` construct is enclosed by the usual `parallel` and `master` constructs to form a team of threads, and a single task generator (master thread) for the `taskloop` construct."
   ]
  },
  {
   "cell_type": "markdown",
   "metadata": {},
   "source": [
    "The same OpenMP operations for the first taskloop are accomplished by the second taskloop with the `parallel` `master` `taskloop`  combined construct.  The third taskloop uses the combined `parallel` `master` `taskloop` `simd`  construct to accomplish the same behavior as closely nested `parallel master`, and `taskloop simd` constructs."
   ]
  },
  {
   "cell_type": "markdown",
   "metadata": {},
   "source": [
    "As with any combined construct the clauses of the components may be used with appropriate restrictions. The combination of the `parallel` `master` construct with the `taskloop` or `taskloop` `simd` construct produces no additional  restrictions."
   ]
  },
  {
   "cell_type": "markdown",
   "metadata": {},
   "source": [
    ""
   ]
  },
  {
   "cell_type": "code",
   "execution_count": null,
   "metadata": {},
   "outputs": [],
   "source": [
    "//%compiler: clang\n",
 "//%cflags: -fopenmp\n",
 "\n",
    "/*\n",
    "* name: parallel_master_taskloop.1c\n",
    "* type: C\n",
    "* version: omp_5.0\n",
    "*/\n",
    "\n",
    "#include <stdio.h>\n",
    "#define N 100\n",
    "\n",
    "int main()\n",
    "{\n",
    "   int i, a[N],b[N],c[N];\n",
    "\n",
    "   for(int i=0; i<N; i++){ b[i]=i; c[i]=i; }  //init\n",
    "\n",
    "   #pragma omp parallel\n",
    "   #pragma omp master\n",
    "   #pragma omp taskloop                      // taskloop 1\n",
    "   for(i=0;i<N;i++){ a[i] = b[i] + c[i]; }\n",
    "\n",
    "   #pragma omp parallel master taskloop      // taskloop 2\n",
    "   for(i=0;i<N;i++){ b[i] = a[i] + c[i]; }\n",
    "\n",
    "   #pragma omp parallel master taskloop simd // taskloop 3\n",
    "   for(i=0;i<N;i++){ c[i] = a[i] + b[i]; }\n",
    "\n",
    "\n",
    "   printf(\" %d %d\\n\",c[0],c[N-1]);  // 0 and 495\n",
    "}\n",
    "\n"
   ]
  },
  {
   "cell_type": "markdown",
   "metadata": {},
   "source": [
    ""
   ]
  },
  {
   "cell_type": "markdown",
   "metadata": {},
   "source": [
    ""
   ]
  },
  {
   "cell_type": "code",
   "execution_count": null,
   "metadata": {},
   "outputs": [],
   "source": [
    "\n",
    "! name:       parallel_master_taskloop.1.f\n",
    "! type:       F-free\n",
    "! version:     omp_5.0\n",
    "\n",
    "program main\n",
    "\n",
    "   integer, parameter :: N=100\n",
    "   integer :: i, a(N),b(N),c(N)\n",
    "\n",
    "   do i=1,N                            !! initialize\n",
    "      b(i) = i\n",
    "      c(i) = i\n",
    "   enddo\n",
    "\n",
    "   !$omp parallel\n",
    "   !$omp master\n",
    "   !$omp taskloop                      !! taskloop 1\n",
    "   do i=1,N\n",
    "      a(i) = b(i) + c(i)\n",
    "   enddo\n",
    "   !$omp end taskloop\n",
    "   !$omp end master\n",
    "   !$omp end parallel\n",
    "\n",
    "   !$omp parallel master taskloop      !! taskloop 2\n",
    "   do i=1,N\n",
    "      b(i) = a(i) + c(i)\n",
    "   enddo\n",
    "   !$omp end parallel master taskloop\n",
    "\n",
    "   !$omp parallel master taskloop simd !! taskloop 3\n",
    "   do i=1,N\n",
    "      c(i) = a(i) + b(i)\n",
    "   enddo\n",
    "   !$omp end parallel master taskloop simd\n",
    "\n",
    "   print*,c(1),c(N)  !! 5 and 500\n",
    "\n",
    "end program\n",
    "\n"
   ]
  },
  {
   "cell_type": "markdown",
   "metadata": {},
   "source": [
    ""
   ]
  },
  {
   "cell_type": "markdown",
   "metadata": {},
   "source": [
    ""
   ]
  }
 ],
 "metadata": {
  "kernelspec": {
   "display_name": "Native",
   "language": "native",
   "name": "native"
  },
  "language_info": {
   "file_extension": ".c",
   "mimetype": "text/plain",
   "name": "none"
  }
 },
 "nbformat": 4,
 "nbformat_minor": 2
}