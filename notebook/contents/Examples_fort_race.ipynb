{
 "cells": [
  {
   "cell_type": "markdown",
   "metadata": {},
   "source": [
    ""
   ]
  },
  {
   "cell_type": "markdown",
   "metadata": {},
   "source": [
    "## Race Conditions Caused by Implied Copies of Shared Variables in Fortran"
   ]
  },
  {
   "cell_type": "markdown",
   "metadata": {},
   "source": [
    ""
   ]
  },
  {
   "cell_type": "markdown",
   "metadata": {},
   "source": [
    "The following example contains a race condition, because the shared variable, which  is an array section, is passed as an actual argument to a routine that has an assumed-size  array as its dummy argument. The subroutine call passing an array section argument  may cause the compiler to copy the argument into a temporary location prior to  the call and copy from the temporary location into the original variable when the  subroutine returns. This copying would cause races in the `parallel` region."
   ]
  },
  {
   "cell_type": "markdown",
   "metadata": {},
   "source": [
    ""
   ]
  },
  {
   "cell_type": "code",
   "execution_count": null,
   "metadata": {},
   "outputs": [],
   "source": [
    "\n",
    "! name: fort_race.1f\n",
    "! type: F-free\n",
    "SUBROUTINE SHARED_RACE\n",
    "\n",
    "  INCLUDE \"omp_lib.h\"      ! or USE OMP_LIB\n",
    "\n",
    "  REAL A(20)\n",
    "  INTEGER MYTHREAD\n",
    "\n",
    "!$OMP PARALLEL SHARED(A) PRIVATE(MYTHREAD)\n",
    "\n",
    "  MYTHREAD = OMP_GET_THREAD_NUM()\n",
    "  IF (MYTHREAD .EQ. 0) THEN\n",
    "     CALL SUB(A(1:10)) ! compiler may introduce writes to A(6:10)\n",
    "  ELSE\n",
    "     A(6:10) = 12\n",
    "  ENDIF\n",
    "\n",
    "!$OMP END PARALLEL\n",
    "\n",
    "END SUBROUTINE SHARED_RACE\n",
    "\n",
    "SUBROUTINE SUB(X)\n",
    "  REAL X(*)\n",
    "  X(1:5) = 4\n",
    "END SUBROUTINE SUB\n",
    "\n"
   ]
  },
  {
   "cell_type": "markdown",
   "metadata": {},
   "source": [
    ""
   ]
  },
  {
   "cell_type": "markdown",
   "metadata": {},
   "source": [
    ""
   ]
  },
  {
   "cell_type": "markdown",
   "metadata": {},
   "source": [
    ""
   ]
  }
 ],
 "metadata": {
  "kernelspec": {
   "display_name": "Native",
   "language": "native",
   "name": "native"
  },
  "language_info": {
   "file_extension": ".c",
   "mimetype": "text/plain",
   "name": "none"
  }
 },
 "nbformat": 4,
 "nbformat_minor": 2
}