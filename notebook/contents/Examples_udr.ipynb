{
 "cells": [
  {
   "cell_type": "markdown",
   "metadata": {},
   "source": [
    ""
   ]
  },
  {
   "cell_type": "markdown",
   "metadata": {},
   "source": [
    "### User-Defined Reduction"
   ]
  },
  {
   "cell_type": "markdown",
   "metadata": {},
   "source": [
    ""
   ]
  },
  {
   "cell_type": "markdown",
   "metadata": {},
   "source": [
    "The `declare` `reduction` directive can be used to specify  user-defined reductions (UDR) for user data types."
   ]
  },
  {
   "cell_type": "markdown",
   "metadata": {},
   "source": [
    ""
   ]
  },
  {
   "cell_type": "markdown",
   "metadata": {},
   "source": [
    ""
   ]
  },
  {
   "cell_type": "markdown",
   "metadata": {},
   "source": [
    ""
   ]
  },
  {
   "cell_type": "markdown",
   "metadata": {},
   "source": [
    "In the following example, `declare` `reduction` directives are used to define  _min_  and  _max_  operations for the  _point_  data structure for computing the rectangle that encloses a set of 2-D points."
   ]
  },
  {
   "cell_type": "markdown",
   "metadata": {},
   "source": [
    "Each `declare` `reduction` directive defines new reduction identifiers,  _min_  and  _max_ , to be used in a `reduction` clause. The next item in the declaration list is the data type ( _struct_   _point_ ) used in the reduction, followed by the combiner, here the functions  _minproc_  and  _maxproc_  perform the min and max operations, respectively, on the user data (of type  _struct_   _point_ ). In the function argument list are two special OpenMP variable identifiers, `omp_in` and `omp_out`, that denote the two values to be combined in the \"real\" function; the `omp_out` identifier indicates which one is to hold the result."
   ]
  },
  {
   "cell_type": "markdown",
   "metadata": {},
   "source": [
    "The initializer of the `declare` `reduction` directive specifies the initial value for the private variable of each implicit task. The `omp_priv` identifier is used to denote the private variable."
   ]
  },
  {
   "cell_type": "markdown",
   "metadata": {},
   "source": [
    ""
   ]
  },
  {
   "cell_type": "code",
   "execution_count": null,
   "metadata": {},
   "outputs": [],
   "source": [
    "//%compiler: clang\n",
 "//%cflags: -fopenmp\n",
 "\n",
    "/*\n",
    "* name: udr.1.c\n",
    "* type: C\n",
    "* version: omp_4.0\n",
    "*/\n",
    "#include <stdio.h>\n",
    "#include <limits.h>\n",
    "\n",
    "struct point {\n",
    "  int x;\n",
    "  int y;\n",
    "};\n",
    "\n",
    "void minproc ( struct point *out, struct point *in )\n",
    "{\n",
    "  if ( in->x < out->x ) out->x = in->x;\n",
    "  if ( in->y < out->y ) out->y = in->y;\n",
    "}\n",
    "\n",
    "void maxproc ( struct point *out, struct point *in )\n",
    "{\n",
    "  if ( in->x > out->x ) out->x = in->x;\n",
    "  if ( in->y > out->y ) out->y = in->y;\n",
    "}\n",
    "\n",
    "#pragma omp declare reduction(min : struct point : \\\n",
    "        minproc(&omp_out, &omp_in)) \\\n",
    " initializer( omp_priv = { INT_MAX, INT_MAX } )\n",
    "\n",
    "#pragma omp declare reduction(max : struct point : \\\n",
    "        maxproc(&omp_out, &omp_in)) \\\n",
    " initializer( omp_priv = { 0, 0 } )\n",
    "\n",
    "void find_enclosing_rectangle ( int n, struct point points[] )\n",
    "{\n",
    "  struct point minp = { INT_MAX, INT_MAX }, maxp = {0,0};\n",
    "  int i;\n",
    "\n",
    "#pragma omp parallel for reduction(min:minp) reduction(max:maxp)\n",
    "  for ( i = 0; i < n; i++ ) {\n",
    "     minproc(&minp, &points[i]);\n",
    "     maxproc(&maxp, &points[i]);\n",
    "  }\n",
    "  printf(\"min = (%d, %d)\\n\", minp.x, minp.y);\n",
    "  printf(\"max = (%d, %d)\\n\", maxp.x, maxp.y);\n",
    "}\n",
    "\n"
   ]
  },
  {
   "cell_type": "markdown",
   "metadata": {},
   "source": [
    ""
   ]
  },
  {
   "cell_type": "markdown",
   "metadata": {},
   "source": [
    "The following example shows the corresponding code in Fortran.  The `declare` `reduction` directives are specified as part of  the declaration in subroutine  _find_enclosing_rectangle_  and  the procedures that perform the min and max operations are specified as subprograms."
   ]
  },
  {
   "cell_type": "markdown",
   "metadata": {},
   "source": [
    ""
   ]
  },
  {
   "cell_type": "code",
   "execution_count": null,
   "metadata": {},
   "outputs": [],
   "source": [
    "\n",
    "! name: udr.1.f90\n",
    "! type: F-free\n",
    "! version: omp_4.0\n",
    "module data_type\n",
    "\n",
    "  type :: point\n",
    "    integer :: x\n",
    "    integer :: y\n",
    "  end type\n",
    "\n",
    "end module data_type\n",
    "\n",
    "subroutine find_enclosing_rectangle ( n, points )\n",
    "  use data_type\n",
    "  implicit none\n",
    "  integer :: n\n",
    "  type(point) :: points(*)\n",
    "\n",
    "  !$omp declare reduction(min : point : minproc(omp_out, omp_in)) &\n",
    "  !$omp&  initializer( omp_priv = point( HUGE(0), HUGE(0) ) )\n",
    "\n",
    "  !$omp declare reduction(max : point : maxproc(omp_out, omp_in)) &\n",
    "  !$omp&  initializer( omp_priv = point( 0, 0 ) )\n",
    "\n",
    "  type(point) :: minp = point( HUGE(0), HUGE(0) ), maxp = point( 0, 0 )\n",
    "  integer :: i\n",
    "\n",
    "  !$omp parallel do reduction(min:minp) reduction(max:maxp)\n",
    "  do i = 1, n\n",
    "     call minproc(minp, points(i))\n",
    "     call maxproc(maxp, points(i))\n",
    "  end do\n",
    "  print *, \"min = (\", minp%x, minp%y, \")\"\n",
    "  print *, \"max = (\", maxp%x, maxp%y, \")\"\n",
    "\n",
    " contains\n",
    "  subroutine minproc ( out, in )\n",
    "    implicit none\n",
    "    type(point), intent(inout) :: out\n",
    "    type(point), intent(in) :: in\n",
    "\n",
    "    out%x = min( out%x, in%x )\n",
    "    out%y = min( out%y, in%y )\n",
    "  end subroutine minproc\n",
    "\n",
    "  subroutine maxproc ( out, in )\n",
    "    implicit none\n",
    "    type(point), intent(inout) :: out\n",
    "    type(point), intent(in) :: in\n",
    "\n",
    "    out%x = max( out%x, in%x )\n",
    "    out%y = max( out%y, in%y )\n",
    "  end subroutine maxproc\n",
    "\n",
    "end subroutine\n",
    "\n"
   ]
  },
  {
   "cell_type": "markdown",
   "metadata": {},
   "source": [
    ""
   ]
  },
  {
   "cell_type": "markdown",
   "metadata": {},
   "source": [
    ""
   ]
  },
  {
   "cell_type": "markdown",
   "metadata": {},
   "source": [
    "The following example shows the same computation as  _udr.1_  but it illustrates that you can craft complex expressions in the user-defined reduction declaration. In this case, instead of calling the  _minproc_  and  _maxproc_  functions we inline the code in a single expression."
   ]
  },
  {
   "cell_type": "markdown",
   "metadata": {},
   "source": [
    ""
   ]
  },
  {
   "cell_type": "code",
   "execution_count": null,
   "metadata": {},
   "outputs": [],
   "source": [
    "//%compiler: clang\n",
 "//%cflags: -fopenmp\n",
 "\n",
    "/*\n",
    "* name: udr.2.c\n",
    "* type: C\n",
    "* version: omp_4.0\n",
    "*/\n",
    "#include <stdio.h>\n",
    "#include <limits.h>\n",
    "\n",
    "struct point {\n",
    "  int x;\n",
    "  int y;\n",
    "};\n",
    "\n",
    "#pragma omp declare reduction(min : struct point : \\\n",
    "        omp_out.x = omp_in.x > omp_out.x  ? omp_out.x : omp_in.x, \\\n",
    "        omp_out.y = omp_in.y > omp_out.y  ? omp_out.y : omp_in.y ) \\\n",
    "        initializer( omp_priv = { INT_MAX, INT_MAX } )\n",
    "\n",
    "#pragma omp declare reduction(max : struct point : \\\n",
    "        omp_out.x = omp_in.x < omp_out.x  ? omp_out.x : omp_in.x,  \\\n",
    "        omp_out.y = omp_in.y < omp_out.y  ? omp_out.y : omp_in.y ) \\\n",
    "        initializer( omp_priv = { 0, 0 } )\n",
    "\n",
    "void find_enclosing_rectangle ( int n, struct point points[] )\n",
    "{\n",
    "  struct point minp = { INT_MAX, INT_MAX }, maxp = {0,0};\n",
    "  int i;\n",
    "\n",
    "#pragma omp parallel for reduction(min:minp) reduction(max:maxp)\n",
    "  for ( i = 0; i < n; i++ ) {\n",
    "    if ( points[i].x < minp.x ) minp.x = points[i].x;\n",
    "    if ( points[i].y < minp.y ) minp.y = points[i].y;\n",
    "    if ( points[i].x > maxp.x ) maxp.x = points[i].x;\n",
    "    if ( points[i].y > maxp.y ) maxp.y = points[i].y;\n",
    "  }\n",
    "  printf(\"min = (%d, %d)\\n\", minp.x, minp.y);\n",
    "  printf(\"max = (%d, %d)\\n\", maxp.x, maxp.y);\n",
    "}\n",
    "\n"
   ]
  },
  {
   "cell_type": "markdown",
   "metadata": {},
   "source": [
    ""
   ]
  },
  {
   "cell_type": "markdown",
   "metadata": {},
   "source": [
    "The corresponding code of the same example in Fortran is very similar except that the assignment expression in the `declare` `reduction` directive can only be used for a single variable, in this case through a type structure constructor  _point( ... )_ ."
   ]
  },
  {
   "cell_type": "markdown",
   "metadata": {},
   "source": [
    ""
   ]
  },
  {
   "cell_type": "code",
   "execution_count": null,
   "metadata": {},
   "outputs": [],
   "source": [
    "\n",
    "! name: udr.2.f90\n",
    "! type: F-free\n",
    "! version: omp_4.0\n",
    "module data_type\n",
    "\n",
    "  type :: point\n",
    "    integer :: x\n",
    "    integer :: y\n",
    "  end type\n",
    "\n",
    "end module data_type\n",
    "\n",
    "subroutine find_enclosing_rectangle ( n, points )\n",
    "  use data_type\n",
    "  implicit none\n",
    "  integer :: n\n",
    "  type(point) :: points(*)\n",
    "\n",
    "  !$omp declare reduction( min : point :  &\n",
    "  !$omp&   omp_out = point(min( omp_out%x, omp_in%x ), &\n",
    "  !$omp&                   min( omp_out%y, omp_in%y )) ) &\n",
    "  !$omp&   initializer( omp_priv = point( HUGE(0), HUGE(0) ) )\n",
    "\n",
    "  !$omp declare reduction( max : point :  &\n",
    "  !$omp&   omp_out = point(max( omp_out%x, omp_in%x ), &\n",
    "  !$omp&                   max( omp_out%y, omp_in%y )) ) &\n",
    "  !$omp&   initializer( omp_priv = point( 0, 0 ) )\n",
    "\n",
    "  type(point) :: minp = point( HUGE(0), HUGE(0) ), maxp = point( 0, 0 )\n",
    "  integer :: i\n",
    "\n",
    "  !$omp parallel do reduction(min: minp) reduction(max: maxp)\n",
    "  do i = 1, n\n",
    "     minp%x = min(minp%x, points(i)%x)\n",
    "     minp%y = min(minp%y, points(i)%y)\n",
    "     maxp%x = max(maxp%x, points(i)%x)\n",
    "     maxp%y = max(maxp%y, points(i)%y)\n",
    "  end do\n",
    "  print *, \"min = (\", minp%x, minp%y, \")\"\n",
    "  print *, \"max = (\", maxp%x, maxp%y, \")\"\n",
    "\n",
    "end subroutine\n",
    "\n"
   ]
  },
  {
   "cell_type": "markdown",
   "metadata": {},
   "source": [
    ""
   ]
  },
  {
   "cell_type": "markdown",
   "metadata": {},
   "source": [
    ""
   ]
  },
  {
   "cell_type": "markdown",
   "metadata": {},
   "source": [
    "The following example shows the use of special variables in arguments for combiner (`omp_in` and `omp_out`) and initializer (`omp_priv` and `omp_orig`) routines.  This example returns the maximum value of an array and the corresponding index value. The `declare` `reduction` directive specifies a user-defined reduction operation  _maxloc_  for data type  _struct_   _mx_s_ . The function  _mx_combine_  is the combiner and the function  _mx_init_  is the initializer."
   ]
  },
  {
   "cell_type": "markdown",
   "metadata": {},
   "source": [
    ""
   ]
  },
  {
   "cell_type": "code",
   "execution_count": null,
   "metadata": {},
   "outputs": [],
   "source": [
    "//%compiler: clang\n",
 "//%cflags: -fopenmp\n",
 "\n",
    "/*\n",
    "* name: udr.3.c\n",
    "* type: C\n",
    "* version: omp_4.0\n",
    "*/\n",
    "\n",
    "#include <stdio.h>\n",
    "#define N 100\n",
    "\n",
    "struct mx_s {\n",
    "   float value;\n",
    "   int index;\n",
    "};\n",
    "\n",
    "/* prototype functions for combiner and initializer in\n",
    "   the declare reduction */\n",
    "void mx_combine(struct mx_s *out, struct mx_s *in);\n",
    "void mx_init(struct mx_s *priv, struct mx_s *orig);\n",
    "\n",
    "#pragma omp declare reduction(maxloc: struct mx_s: \\\n",
    "        mx_combine(&omp_out, &omp_in)) \\\n",
    "        initializer(mx_init(&omp_priv, &omp_orig))\n",
    "\n",
    "void mx_combine(struct mx_s *out, struct mx_s *in)\n",
    "{\n",
    "   if ( out->value < in->value ) {\n",
    "      out->value = in->value;\n",
    "      out->index = in->index;\n",
    "   }\n",
    "}\n",
    "\n",
    "void mx_init(struct mx_s *priv, struct mx_s *orig)\n",
    "{\n",
    "   priv->value = orig->value;\n",
    "   priv->index = orig->index;\n",
    "}\n",
    "\n",
    "int main(void)\n",
    "{\n",
    "   struct mx_s mx;\n",
    "   float val[N], d;\n",
    "   int i, count = N;\n",
    "\n",
    "   for (i = 0; i < count; i++) {\n",
    "      d = (N*0.8f - i);\n",
    "      val[i] = N * N - d * d;\n",
    "   }\n",
    "\n",
    "   mx.value = val[0];\n",
    "   mx.index = 0;\n",
    "   #pragma omp parallel for reduction(maxloc: mx)\n",
    "   for (i = 1; i < count; i++) {\n",
    "      if (mx.value < val[i])\n",
    "      {\n",
    "         mx.value = val[i];\n",
    "         mx.index = i;\n",
    "      }\n",
    "   }\n",
    "\n",
    "   printf(\"max value = %g, index = %d\\n\", mx.value, mx.index);\n",
    "   /* prints 10000, 80 */\n",
    "\n",
    "   return 0;\n",
    "}\n",
    "\n"
   ]
  },
  {
   "cell_type": "markdown",
   "metadata": {},
   "source": [
    ""
   ]
  },
  {
   "cell_type": "markdown",
   "metadata": {},
   "source": [
    "Below is the corresponding Fortran version of the above example.  The `declare` `reduction` directive specifies the user-defined operation  _maxloc_  for user-derived type  _mx_s_ .  The combiner  _mx_combine_  and the initializer  _mx_init_  are specified as subprograms."
   ]
  },
  {
   "cell_type": "markdown",
   "metadata": {},
   "source": [
    ""
   ]
  },
  {
   "cell_type": "code",
   "execution_count": null,
   "metadata": {},
   "outputs": [],
   "source": [
    "\n",
    "! name: udr.3.f90\n",
    "! type: F-free\n",
    "! version: omp_4.0\n",
    "program max_loc\n",
    "   implicit none\n",
    "\n",
    "   type :: mx_s\n",
    "      real value\n",
    "      integer index\n",
    "   end type\n",
    "\n",
    "   !$omp declare reduction(maxloc: mx_s: &\n",
    "   !$omp&        mx_combine(omp_out, omp_in)) &\n",
    "   !$omp&        initializer(mx_init(omp_priv, omp_orig))\n",
    "\n",
    "   integer, parameter :: N = 100\n",
    "   type(mx_s) :: mx\n",
    "   real :: val(N), d\n",
    "   integer :: i, count\n",
    "\n",
    "   count = N\n",
    "   do i = 1, count\n",
    "      d = N*0.8 - i + 1\n",
    "      val(i) = N * N - d * d\n",
    "   enddo\n",
    "\n",
    "   mx%value = val(1)\n",
    "   mx%index = 1\n",
    "   !$omp parallel do reduction(maxloc: mx)\n",
    "   do i = 2, count\n",
    "      if (mx%value < val(i)) then\n",
    "         mx%value = val(i)\n",
    "         mx%index = i\n",
    "      endif\n",
    "   enddo\n",
    "\n",
    "   print *, 'max value = ', mx%value, ' index = ', mx%index\n",
    "   ! prints 10000, 81\n",
    "\n",
    " contains\n",
    "\n",
    " subroutine mx_combine(out, in)\n",
    "   implicit none\n",
    "   type(mx_s), intent(inout) :: out\n",
    "   type(mx_s), intent(in) :: in\n",
    "\n",
    "   if ( out%value < in%value ) then\n",
    "      out%value = in%value\n",
    "      out%index = in%index\n",
    "   endif\n",
    " end subroutine mx_combine\n",
    "\n",
    " subroutine mx_init(priv, orig)\n",
    "   implicit none\n",
    "   type(mx_s), intent(out) :: priv\n",
    "   type(mx_s), intent(in) :: orig\n",
    "\n",
    "   priv%value = orig%value\n",
    "   priv%index = orig%index\n",
    " end subroutine mx_init\n",
    "\n",
    "end program\n",
    "\n"
   ]
  },
  {
   "cell_type": "markdown",
   "metadata": {},
   "source": [
    ""
   ]
  },
  {
   "cell_type": "markdown",
   "metadata": {},
   "source": [
    ""
   ]
  },
  {
   "cell_type": "markdown",
   "metadata": {},
   "source": [
    "The following example explains a few details of the user-defined reduction  in Fortran through modules. The `declare` `reduction` directive is declared in a module ( _data_red_ ).  The reduction-identifier  _.add._  is a user-defined operator that is to allow accessibility in the scope that performs the reduction operation. The user-defined operator  _.add._  and the subroutine  _dt_init_  specified in the `initializer` clause are defined in the same subprogram."
   ]
  },
  {
   "cell_type": "markdown",
   "metadata": {},
   "source": [
    "The reduction operation (that is, the `reduction` clause) is in the main program. The reduction identifier  _.add._  is accessible by use association. Since  _.add._  is a user-defined operator, the explicit interface should also be accessible by use association in the current program unit. Since the `declare` `reduction` associated to this `reduction` clause has the `initializer` clause, the subroutine specified on the clause must be accessible in the current scoping unit.  In this case, the subroutine  _dt_init_  is accessible by use association."
   ]
  },
  {
   "cell_type": "markdown",
   "metadata": {},
   "source": [
    ""
   ]
  },
  {
   "cell_type": "code",
   "execution_count": null,
   "metadata": {},
   "outputs": [],
   "source": [
    "\n",
    "! name: udr.4.f90\n",
    "! type: F-free\n",
    "! version: omp_4.0\n",
    "module data_red\n",
    "! Declare data type.\n",
    "  type dt\n",
    "    real :: r1\n",
    "    real :: r2\n",
    "  end type\n",
    "\n",
    "! Declare the user-defined operator .add.\n",
    "  interface operator(.add.)\n",
    "    module procedure addc\n",
    "  end interface\n",
    "\n",
    "! Declare the user-defined reduction operator .add.\n",
    "!$omp declare reduction(.add.:dt:omp_out=omp_out.add.omp_in) &\n",
    "!$omp& initializer(dt_init(omp_priv))\n",
    "\n",
    " contains\n",
    "! Declare the initialization routine.\n",
    "  subroutine dt_init(u)\n",
    "    type(dt) :: u\n",
    "    u%r1 = 0.0\n",
    "    u%r2 = 0.0\n",
    "  end subroutine\n",
    "\n",
    "! Declare the specific procedure for the .add. operator.\n",
    "  function addc(x1, x2) result(xresult)\n",
    "    type(dt), intent(in) :: x1, x2\n",
    "    type(dt) :: xresult\n",
    "    xresult%r1 = x1%r1 + x2%r2\n",
    "    xresult%r2 = x1%r2 + x2%r1\n",
    "  end function\n",
    "\n",
    "end module data_red\n",
    "\n",
    "program main\n",
    "  use data_red, only : dt, dt_init, operator(.add.)\n",
    "\n",
    "  type(dt) :: xdt1, xdt2\n",
    "  integer :: i\n",
    "\n",
    "  xdt1 = dt(1.0,2.0)\n",
    "  xdt2 = dt(2.0,3.0)\n",
    "\n",
    "! The reduction operation\n",
    "!$omp parallel do reduction(.add.: xdt1)\n",
    "  do i = 1, 10\n",
    "    xdt1 = xdt1 .add. xdt2\n",
    "  end do\n",
    "!$omp end parallel do\n",
    "\n",
    "  print *, xdt1\n",
    "\n",
    "end program\n",
    "\n"
   ]
  },
  {
   "cell_type": "markdown",
   "metadata": {},
   "source": [
    ""
   ]
  },
  {
   "cell_type": "markdown",
   "metadata": {},
   "source": [
    ""
   ]
  },
  {
   "cell_type": "markdown",
   "metadata": {},
   "source": [
    "The following example uses user-defined reductions to declare a plus (+) reduction for a C++ class. As the `declare` `reduction` directive is inside the context of the  _V_  class the expressions in the `declare` `reduction` directive are resolved in the context of the class. Also, note that the `initializer` clause uses a copy constructor to initialize the private variables of the reduction and it uses as parameter to its original variable by using the special variable `omp_orig`."
   ]
  },
  {
   "cell_type": "markdown",
   "metadata": {},
   "source": [
    ""
   ]
  },
  {
   "cell_type": "code",
   "execution_count": null,
   "metadata": {},
   "outputs": [],
   "source": [
    "//%compiler: clang\n",
 "//%cflags: -fopenmp\n",
 "\n",
    "/*\n",
    "* name: udr.5.cpp\n",
    "* type: C++\n",
    "* version: omp_4.0\n",
    "*/\n",
    "class V {\n",
    "   float *p;\n",
    "   int n;\n",
    "\n",
    "public:\n",
    "   V( int _n )     : n(_n)  { p = new float[n]; }\n",
    "   V( const V& m ) : n(m.n) { p = new float[n]; }\n",
    "   ~V() { delete[] p; }\n",
    "\n",
    "   V& operator+= ( const V& );\n",
    "\n",
    "   #pragma omp declare reduction( + : V : omp_out += omp_in ) \\\n",
    "           initializer(omp_priv(omp_orig))\n",
    "};\n",
    "\n"
   ]
  },
  {
   "cell_type": "markdown",
   "metadata": {},
   "source": [
    ""
   ]
  },
  {
   "cell_type": "markdown",
   "metadata": {},
   "source": [
    "The following examples shows how user-defined reductions can be defined for some STL containers. The first `declare` `reduction` defines the plus (+) operation for  _std::vector<int>_  by making use of the  _std::transform_  algorithm. The second and third define the merge (or concatenation) operation for  _std::vector<int>_  and  _std::list<int>_ .  It shows how the user-defined reduction operation can be applied to specific data types of an STL."
   ]
  },
  {
   "cell_type": "markdown",
   "metadata": {},
   "source": [
    ""
   ]
  },
  {
   "cell_type": "code",
   "execution_count": null,
   "metadata": {},
   "outputs": [],
   "source": [
    "//%compiler: clang\n",
 "//%cflags: -fopenmp\n",
 "\n",
    "/*\n",
    "* name: udr.6.cpp\n",
    "* type: C++\n",
    "* version: omp_4.0\n",
    "*/\n",
    "#include <algorithm>\n",
    "#include <list>\n",
    "#include <vector>\n",
    "\n",
    "#pragma omp declare reduction( + : std::vector<int> : \\\n",
    "     std::transform (omp_out.begin(), omp_out.end(),  \\\n",
    "        omp_in.begin(), omp_in.end(),std::plus<int>()))\n",
    "\n",
    "#pragma omp declare reduction( merge : std::vector<int> : \\\n",
    "     omp_out.insert(omp_out.end(), omp_in.begin(), omp_in.end()))\n",
    "\n",
    "#pragma omp declare reduction( merge : std::list<int> : \\\n",
    "     omp_out.merge(omp_in))\n",
    "\n"
   ]
  },
  {
   "cell_type": "markdown",
   "metadata": {},
   "source": [
    ""
   ]
  },
  {
   "cell_type": "markdown",
   "metadata": {},
   "source": [
    ""
   ]
  }
 ],
 "metadata": {
  "kernelspec": {
   "display_name": "Native",
   "language": "native",
   "name": "native"
  },
  "language_info": {
   "file_extension": ".c",
   "mimetype": "text/plain",
   "name": "none"
  }
 },
 "nbformat": 4,
 "nbformat_minor": 2
}