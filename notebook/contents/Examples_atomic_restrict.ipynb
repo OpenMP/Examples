{
 "cells": [
  {
   "cell_type": "markdown",
   "metadata": {},
   "source": [
    ""
   ]
  },
  {
   "cell_type": "markdown",
   "metadata": {},
   "source": [
    "## Restrictions on the `atomic` Construct"
   ]
  },
  {
   "cell_type": "markdown",
   "metadata": {},
   "source": [
    ""
   ]
  },
  {
   "cell_type": "markdown",
   "metadata": {},
   "source": [
    "The following non-conforming examples illustrate the restrictions on the `atomic`  construct."
   ]
  },
  {
   "cell_type": "markdown",
   "metadata": {},
   "source": [
    ""
   ]
  },
  {
   "cell_type": "code",
   "execution_count": null,
   "metadata": {},
   "outputs": [],
   "source": [
    "//%compiler: clang\n",
 "//%cflags: -fopenmp\n",
 "\n",
    "/*\n",
    "* name: atomic_restrict.1c\n",
    "* type: C\n",
    "* version: omp_3.1\n",
    "*/\n",
    "void atomic_wrong ()\n",
    "{\n",
    " union {int n; float x;} u;\n",
    "\n",
    "#pragma omp parallel\n",
    "  {\n",
    "#pragma omp atomic update\n",
    "    u.n++;\n",
    "\n",
    "#pragma omp atomic update\n",
    "    u.x += 1.0;\n",
    "\n",
    "/* Incorrect because the atomic constructs reference the same location\n",
    "   through incompatible types */\n",
    "  }\n",
    "}\n",
    "\n"
   ]
  },
  {
   "cell_type": "markdown",
   "metadata": {},
   "source": [
    ""
   ]
  },
  {
   "cell_type": "markdown",
   "metadata": {},
   "source": [
    ""
   ]
  },
  {
   "cell_type": "code",
   "execution_count": null,
   "metadata": {},
   "outputs": [],
   "source": [
    "\n",
    "! name: atomic_restrict.1f\n",
    "! type: F-fixed\n",
    "! version: omp_3.1\n",
    "      SUBROUTINE ATOMIC_WRONG()\n",
    "        INTEGER:: I\n",
    "        REAL:: R\n",
    "        EQUIVALENCE(I,R)\n",
    "\n",
    "!$OMP   PARALLEL\n",
    "!$OMP     ATOMIC UPDATE\n",
    "            I = I + 1\n",
    "!$OMP     ATOMIC UPDATE\n",
    "            R = R + 1.0\n",
    "! incorrect because I and R reference the same location\n",
    "! but have different types\n",
    "!$OMP   END PARALLEL\n",
    "      END SUBROUTINE ATOMIC_WRONG\n",
    "\n"
   ]
  },
  {
   "cell_type": "markdown",
   "metadata": {},
   "source": [
    ""
   ]
  },
  {
   "cell_type": "markdown",
   "metadata": {},
   "source": [
    ""
   ]
  },
  {
   "cell_type": "code",
   "execution_count": null,
   "metadata": {},
   "outputs": [],
   "source": [
    "//%compiler: clang\n",
 "//%cflags: -fopenmp\n",
 "\n",
    "/*\n",
    "* name: atomic_restrict.2c\n",
    "* type: C\n",
    "* version: omp_3.1\n",
    "*/\n",
    "void atomic_wrong2 ()\n",
    "{\n",
    " int  x;\n",
    " int *i;\n",
    " float   *r;\n",
    "\n",
    " i = &x;\n",
    " r = (float *)&x;\n",
    "\n",
    "#pragma omp parallel\n",
    "  {\n",
    "#pragma omp atomic update\n",
    "    *i += 1;\n",
    "\n",
    "#pragma omp atomic update\n",
    "    *r += 1.0;\n",
    "\n",
    "/* Incorrect because the atomic constructs reference the same location\n",
    "   through incompatible types */\n",
    "\n",
    "  }\n",
    "}\n",
    "\n"
   ]
  },
  {
   "cell_type": "markdown",
   "metadata": {},
   "source": [
    ""
   ]
  },
  {
   "cell_type": "markdown",
   "metadata": {},
   "source": [
    "The following example is non-conforming because `I` and `R` reference  the same location but have different types."
   ]
  },
  {
   "cell_type": "markdown",
   "metadata": {},
   "source": [
    ""
   ]
  },
  {
   "cell_type": "code",
   "execution_count": null,
   "metadata": {},
   "outputs": [],
   "source": [
    "\n",
    "! name: atomic_restrict.2f\n",
    "! type: F-fixed\n",
    "! version: omp_3.1\n",
    "      SUBROUTINE SUB()\n",
    "        COMMON /BLK/ R\n",
    "        REAL R\n",
    "\n",
    "!$OMP   ATOMIC UPDATE\n",
    "          R = R + 1.0\n",
    "      END SUBROUTINE SUB\n",
    "\n",
    "      SUBROUTINE ATOMIC_WRONG2()\n",
    "        COMMON /BLK/ I\n",
    "        INTEGER I\n",
    "\n",
    "!$OMP   PARALLEL\n",
    "\n",
    "!$OMP     ATOMIC UPDATE\n",
    "            I = I + 1\n",
    "          CALL SUB()\n",
    "!$OMP   END PARALLEL\n",
    "      END SUBROUTINE ATOMIC_WRONG2\n",
    "\n"
   ]
  },
  {
   "cell_type": "markdown",
   "metadata": {},
   "source": [
    ""
   ]
  },
  {
   "cell_type": "markdown",
   "metadata": {},
   "source": [
    "Although the following example might work on some implementations, this is also  non-conforming:"
   ]
  },
  {
   "cell_type": "markdown",
   "metadata": {},
   "source": [
    ""
   ]
  },
  {
   "cell_type": "code",
   "execution_count": null,
   "metadata": {},
   "outputs": [],
   "source": [
    "\n",
    "! name: atomic_restrict.3f\n",
    "! type: F-fixed\n",
    "! version: omp_3.1\n",
    "      SUBROUTINE ATOMIC_WRONG3\n",
    "        INTEGER:: I\n",
    "        REAL:: R\n",
    "        EQUIVALENCE(I,R)\n",
    "\n",
    "!$OMP   PARALLEL\n",
    "!$OMP     ATOMIC UPDATE\n",
    "            I = I + 1\n",
    "! incorrect because I and R reference the same location\n",
    "! but have different types\n",
    "!$OMP   END PARALLEL\n",
    "\n",
    "!$OMP   PARALLEL\n",
    "!$OMP     ATOMIC UPDATE\n",
    "            R = R + 1.0\n",
    "! incorrect because I and R reference the same location\n",
    "! but have different types\n",
    "!$OMP   END PARALLEL\n",
    "\n",
    "      END SUBROUTINE ATOMIC_WRONG3\n",
    "\n"
   ]
  },
  {
   "cell_type": "markdown",
   "metadata": {},
   "source": [
    ""
   ]
  },
  {
   "cell_type": "markdown",
   "metadata": {},
   "source": [
    ""
   ]
  }
 ],
 "metadata": {
  "kernelspec": {
   "display_name": "Native",
   "language": "native",
   "name": "native"
  },
  "language_info": {
   "file_extension": ".c",
   "mimetype": "text/plain",
   "name": "none"
  }
 },
 "nbformat": 4,
 "nbformat_minor": 2
}