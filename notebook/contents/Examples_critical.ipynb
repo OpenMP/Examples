{
 "cells": [
  {
   "cell_type": "markdown",
   "metadata": {},
   "source": [
    ""
   ]
  },
  {
   "cell_type": "markdown",
   "metadata": {},
   "source": [
    "## The `critical` Construct"
   ]
  },
  {
   "cell_type": "markdown",
   "metadata": {},
   "source": [
    ""
   ]
  },
  {
   "cell_type": "markdown",
   "metadata": {},
   "source": [
    "The following example includes several `critical` constructs. The example  illustrates a queuing model in which a task is dequeued and worked on. To guard  against multiple threads dequeuing the same task, the dequeuing operation must  be in a `critical` region. Because the two queues in this example are independent,  they are protected by `critical` constructs with different names,  _xaxis_   and  _yaxis_ ."
   ]
  },
  {
   "cell_type": "markdown",
   "metadata": {},
   "source": [
    ""
   ]
  },
  {
   "cell_type": "code",
   "execution_count": null,
   "metadata": {},
   "outputs": [],
   "source": [
    "//%compiler: clang\n",
 "//%cflags: -fopenmp\n",
 "\n",
    "/*\n",
    "* name: critical.1c\n",
    "* type: C\n",
    "*/\n",
    "int dequeue(float *a);\n",
    "void work(int i, float *a);\n",
    "\n",
    "void critical_example(float *x, float *y)\n",
    "{\n",
    "  int ix_next, iy_next;\n",
    "\n",
    "  #pragma omp parallel shared(x, y) private(ix_next, iy_next)\n",
    "  {\n",
    "    #pragma omp critical (xaxis)\n",
    "      ix_next = dequeue(x);\n",
    "    work(ix_next, x);\n",
    "\n",
    "    #pragma omp critical (yaxis)\n",
    "      iy_next = dequeue(y);\n",
    "    work(iy_next, y);\n",
    "  }\n",
    "\n",
    "}\n",
    "\n"
   ]
  },
  {
   "cell_type": "markdown",
   "metadata": {},
   "source": [
    ""
   ]
  },
  {
   "cell_type": "markdown",
   "metadata": {},
   "source": [
    ""
   ]
  },
  {
   "cell_type": "code",
   "execution_count": null,
   "metadata": {},
   "outputs": [],
   "source": [
    "\n",
    "! name: critical.1f\n",
    "! type: F-fixed\n",
    "      SUBROUTINE CRITICAL_EXAMPLE(X, Y)\n",
    "\n",
    "        REAL X(*), Y(*)\n",
    "        INTEGER IX_NEXT, IY_NEXT\n",
    "\n",
    "!$OMP PARALLEL SHARED(X, Y) PRIVATE(IX_NEXT, IY_NEXT)\n",
    "\n",
    "!$OMP CRITICAL(XAXIS)\n",
    "        CALL DEQUEUE(IX_NEXT, X)\n",
    "!$OMP END CRITICAL(XAXIS)\n",
    "        CALL WORK(IX_NEXT, X)\n",
    "\n",
    "!$OMP CRITICAL(YAXIS)\n",
    "        CALL DEQUEUE(IY_NEXT,Y)\n",
    "!$OMP END CRITICAL(YAXIS)\n",
    "        CALL WORK(IY_NEXT, Y)\n",
    "\n",
    "!$OMP END PARALLEL\n",
    "\n",
    "      END SUBROUTINE CRITICAL_EXAMPLE\n",
    "\n"
   ]
  },
  {
   "cell_type": "markdown",
   "metadata": {},
   "source": [
    ""
   ]
  },
  {
   "cell_type": "markdown",
   "metadata": {},
   "source": [
    "The following example extends the previous example by adding the `hint` clause to the `critical` constructs."
   ]
  },
  {
   "cell_type": "markdown",
   "metadata": {},
   "source": [
    ""
   ]
  },
  {
   "cell_type": "code",
   "execution_count": null,
   "metadata": {},
   "outputs": [],
   "source": [
    "//%compiler: clang\n",
 "//%cflags: -fopenmp\n",
 "\n",
    "/*\n",
    "* name: critical.1c\n",
    "* type: C\n",
    "*/\n",
    "#include <omp.h>\n",
    "\n",
    "int dequeue(float *a);\n",
    "void work(int i, float *a);\n",
    "\n",
    "void critical_example(float *x, float *y)\n",
    "{\n",
    "  int ix_next, iy_next;\n",
    "\n",
    "  #pragma omp parallel shared(x, y) private(ix_next, iy_next)\n",
    "  {\n",
    "    #pragma omp critical (xaxis) hint(omp_lock_hint_contended)\n",
    "      ix_next = dequeue(x);\n",
    "    work(ix_next, x);\n",
    "\n",
    "    #pragma omp critical (yaxis) hint(omp_lock_hint_contended)\n",
    "      iy_next = dequeue(y);\n",
    "    work(iy_next, y);\n",
    "  }\n",
    "\n",
    "}\n",
    "\n"
   ]
  },
  {
   "cell_type": "markdown",
   "metadata": {},
   "source": [
    ""
   ]
  },
  {
   "cell_type": "markdown",
   "metadata": {},
   "source": [
    ""
   ]
  },
  {
   "cell_type": "code",
   "execution_count": null,
   "metadata": {},
   "outputs": [],
   "source": [
    "\n",
    "! name: critical.1f\n",
    "! type: F-fixed\n",
    "! version: omp_4.5\n",
    "      SUBROUTINE CRITICAL_EXAMPLE(X, Y)\n",
    "        USE OMP_LIB        ! or INCLUDE \"omp_lib.h\"\n",
    "\n",
    "        REAL X(*), Y(*)\n",
    "        INTEGER IX_NEXT, IY_NEXT\n",
    "\n",
    "!$OMP PARALLEL SHARED(X, Y) PRIVATE(IX_NEXT, IY_NEXT)\n",
    "\n",
    "!$OMP CRITICAL(XAXIS) HINT(OMP_LOCK_HINT_CONTENDED)\n",
    "        CALL DEQUEUE(IX_NEXT, X)\n",
    "!$OMP END CRITICAL(XAXIS)\n",
    "        CALL WORK(IX_NEXT, X)\n",
    "\n",
    "!$OMP CRITICAL(YAXIS) HINT(OMP_LOCK_HINT_CONTENDED)\n",
    "        CALL DEQUEUE(IY_NEXT,Y)\n",
    "!$OMP END CRITICAL(YAXIS)\n",
    "        CALL WORK(IY_NEXT, Y)\n",
    "\n",
    "!$OMP END PARALLEL\n",
    "\n",
    "      END SUBROUTINE CRITICAL_EXAMPLE\n",
    "\n"
   ]
  },
  {
   "cell_type": "markdown",
   "metadata": {},
   "source": [
    ""
   ]
  },
  {
   "cell_type": "markdown",
   "metadata": {},
   "source": [
    ""
   ]
  }
 ],
 "metadata": {
  "kernelspec": {
   "display_name": "Native",
   "language": "native",
   "name": "native"
  },
  "language_info": {
   "file_extension": ".c",
   "mimetype": "text/plain",
   "name": "none"
  }
 },
 "nbformat": 4,
 "nbformat_minor": 2
}