{
 "cells": [
  {
   "cell_type": "markdown",
   "metadata": {},
   "source": [
    ""
   ]
  },
  {
   "cell_type": "markdown",
   "metadata": {},
   "source": [
    ""
   ]
  },
  {
   "cell_type": "markdown",
   "metadata": {},
   "source": [
    "## Reduction"
   ]
  },
  {
   "cell_type": "markdown",
   "metadata": {},
   "source": [
    ""
   ]
  },
  {
   "cell_type": "markdown",
   "metadata": {},
   "source": [
    "This section covers ways to perform reductions in parallel, task, taskloop, and SIMD regions."
   ]
  },
  {
   "cell_type": "markdown",
   "metadata": {},
   "source": [
    ""
   ]
  },
  {
   "cell_type": "markdown",
   "metadata": {},
   "source": [
    "### The `reduction` Clause"
   ]
  },
  {
   "cell_type": "markdown",
   "metadata": {},
   "source": [
    ""
   ]
  },
  {
   "cell_type": "markdown",
   "metadata": {},
   "source": [
    "The following example demonstrates the `reduction` clause; note that some  reductions can be expressed in the loop in several ways, as shown for the `max`  and `min` reductions below:"
   ]
  },
  {
   "cell_type": "markdown",
   "metadata": {},
   "source": [
    ""
   ]
  },
  {
   "cell_type": "code",
   "execution_count": null,
   "metadata": {},
   "outputs": [],
   "source": [
    "//%compiler: clang\n",
 "//%cflags: -fopenmp\n",
 "\n",
    "/*\n",
    "* name: reduction.1c\n",
    "* type: C\n",
    "* version: omp_3.1\n",
    "*/\n",
    "#include <math.h>\n",
    "void reduction1(float *x, int *y, int n)\n",
    "{\n",
    "  int i, b, c;\n",
    "  float a, d;\n",
    "  a = 0.0;\n",
    "  b = 0;\n",
    "  c = y[0];\n",
    "  d = x[0];\n",
    "  #pragma omp parallel for private(i) shared(x, y, n) \\\n",
    "                          reduction(+:a) reduction(^:b) \\\n",
    "                          reduction(min:c) reduction(max:d)\n",
    "    for (i=0; i<n; i++) {\n",
    "      a += x[i];\n",
    "      b ^= y[i];\n",
    "      if (c > y[i]) c = y[i];\n",
    "      d = fmaxf(d,x[i]);\n",
    "    }\n",
    "}\n",
    "\n"
   ]
  },
  {
   "cell_type": "markdown",
   "metadata": {},
   "source": [
    ""
   ]
  },
  {
   "cell_type": "markdown",
   "metadata": {},
   "source": [
    ""
   ]
  },
  {
   "cell_type": "markdown",
   "metadata": {},
   "source": [
    ""
   ]
  },
  {
   "cell_type": "code",
   "execution_count": null,
   "metadata": {},
   "outputs": [],
   "source": [
    "\n",
    "! name: reduction.1f\n",
    "! type: F-free\n",
    "SUBROUTINE REDUCTION1(A, B, C, D, X, Y, N)\n",
    "    REAL :: X(*), A, D\n",
    "    INTEGER :: Y(*), N, B, C\n",
    "    INTEGER :: I\n",
    "    A = 0\n",
    "    B = 0\n",
    "    C = Y(1)\n",
    "    D = X(1)\n",
    "    !$OMP PARALLEL DO PRIVATE(I) SHARED(X, Y, N) REDUCTION(+:A) &\n",
    "    !$OMP& REDUCTION(IEOR:B) REDUCTION(MIN:C)  REDUCTION(MAX:D)\n",
    "      DO I=1,N\n",
    "        A = A + X(I)\n",
    "        B = IEOR(B, Y(I))\n",
    "        C = MIN(C, Y(I))\n",
    "        IF (D < X(I)) D = X(I)\n",
    "      END DO\n",
    "\n",
    "END SUBROUTINE REDUCTION1\n",
    "\n"
   ]
  },
  {
   "cell_type": "markdown",
   "metadata": {},
   "source": [
    ""
   ]
  },
  {
   "cell_type": "markdown",
   "metadata": {},
   "source": [
    "A common implementation of the preceding example is to treat it as if it had been  written as follows:"
   ]
  },
  {
   "cell_type": "markdown",
   "metadata": {},
   "source": [
    ""
   ]
  },
  {
   "cell_type": "code",
   "execution_count": null,
   "metadata": {},
   "outputs": [],
   "source": [
    "//%compiler: clang\n",
 "//%cflags: -fopenmp\n",
 "\n",
    "/*\n",
    "* name: reduction.2c\n",
    "* type: C\n",
    "*/\n",
    "#include <limits.h>\n",
    "#include <math.h>\n",
    "void reduction2(float *x, int *y, int n)\n",
    "{\n",
    "  int i, b, b_p, c, c_p;\n",
    "  float a, a_p, d, d_p;\n",
    "  a = 0.0f;\n",
    "  b = 0;\n",
    "  c = y[0];\n",
    "  d = x[0];\n",
    "  #pragma omp parallel shared(a, b, c, d, x, y, n) \\\n",
    "                          private(a_p, b_p, c_p, d_p)\n",
    "  {\n",
    "    a_p = 0.0f;\n",
    "    b_p = 0;\n",
    "    c_p = INT_MAX;\n",
    "    d_p = -HUGE_VALF;\n",
    "    #pragma omp for private(i)\n",
    "    for (i=0; i<n; i++) {\n",
    "      a_p += x[i];\n",
    "      b_p ^= y[i];\n",
    "      if (c_p > y[i]) c_p = y[i];\n",
    "      d_p = fmaxf(d_p,x[i]);\n",
    "    }\n",
    "    #pragma omp critical\n",
    "    {\n",
    "      a += a_p;\n",
    "      b ^= b_p;\n",
    "      if( c > c_p ) c = c_p;\n",
    "      d = fmaxf(d,d_p);\n",
    "    }\n",
    "  }\n",
    "}\n",
    "\n"
   ]
  },
  {
   "cell_type": "markdown",
   "metadata": {},
   "source": [
    ""
   ]
  },
  {
   "cell_type": "markdown",
   "metadata": {},
   "source": [
    ""
   ]
  },
  {
   "cell_type": "code",
   "execution_count": null,
   "metadata": {},
   "outputs": [],
   "source": [
    "\n",
    "! name: reduction.2f\n",
    "! type: F-free\n",
    "  SUBROUTINE REDUCTION2(A, B, C, D, X, Y, N)\n",
    "    REAL :: X(*), A, D\n",
    "    INTEGER :: Y(*), N, B, C\n",
    "    REAL :: A_P, D_P\n",
    "    INTEGER :: I, B_P, C_P\n",
    "    A = 0\n",
    "    B = 0\n",
    "    C = Y(1)\n",
    "    D = X(1)\n",
    "    !$OMP PARALLEL SHARED(X, Y, A, B, C, D, N) &\n",
    "    !$OMP&         PRIVATE(A_P, B_P, C_P, D_P)\n",
    "      A_P = 0.0\n",
    "      B_P = 0\n",
    "      C_P = HUGE(C_P)\n",
    "      D_P = -HUGE(D_P)\n",
    "      !$OMP DO PRIVATE(I)\n",
    "      DO I=1,N\n",
    "        A_P = A_P + X(I)\n",
    "        B_P = IEOR(B_P, Y(I))\n",
    "        C_P = MIN(C_P, Y(I))\n",
    "        IF (D_P < X(I)) D_P = X(I)\n",
    "      END DO\n",
    "      !$OMP CRITICAL\n",
    "        A = A + A_P\n",
    "        B = IEOR(B, B_P)\n",
    "        C = MIN(C, C_P)\n",
    "        D = MAX(D, D_P)\n",
    "      !$OMP END CRITICAL\n",
    "    !$OMP END PARALLEL\n",
    "  END SUBROUTINE REDUCTION2\n",
    "\n"
   ]
  },
  {
   "cell_type": "markdown",
   "metadata": {},
   "source": [
    ""
   ]
  },
  {
   "cell_type": "markdown",
   "metadata": {},
   "source": [
    "The following program is non-conforming because the reduction is on the  **intrinsic procedure name** `MAX` but that name has been redefined to be the variable  named `MAX`."
   ]
  },
  {
   "cell_type": "markdown",
   "metadata": {},
   "source": [
    ""
   ]
  },
  {
   "cell_type": "code",
   "execution_count": null,
   "metadata": {},
   "outputs": [],
   "source": [
    "\n",
    "! name: reduction.3f\n",
    "! type: F-free\n",
    " PROGRAM REDUCTION_WRONG\n",
    " MAX = HUGE(0)\n",
    " M = 0\n",
    "\n",
    " !$OMP PARALLEL DO REDUCTION(MAX: M)\n",
    "! MAX is no longer the intrinsic so this is non-conforming\n",
    " DO I = 1, 100\n",
    "    CALL SUB(M,I)\n",
    " END DO\n",
    "\n",
    " END PROGRAM REDUCTION_WRONG\n",
    "\n",
    " SUBROUTINE SUB(M,I)\n",
    "    M = MAX(M,I)\n",
    " END SUBROUTINE SUB\n",
    "\n"
   ]
  },
  {
   "cell_type": "markdown",
   "metadata": {},
   "source": [
    ""
   ]
  },
  {
   "cell_type": "markdown",
   "metadata": {},
   "source": [
    "The following conforming program performs the reduction using the  **intrinsic procedure name** `MAX` even though the intrinsic `MAX` has been renamed  to `REN`."
   ]
  },
  {
   "cell_type": "markdown",
   "metadata": {},
   "source": [
    ""
   ]
  },
  {
   "cell_type": "code",
   "execution_count": null,
   "metadata": {},
   "outputs": [],
   "source": [
    "\n",
    "! name: reduction.4f\n",
    "! type: F-free\n",
    "MODULE M\n",
    "   INTRINSIC MAX\n",
    "END MODULE M\n",
    "\n",
    "PROGRAM REDUCTION3\n",
    "   USE M, REN => MAX\n",
    "   N = 0\n",
    "!$OMP PARALLEL DO REDUCTION(REN: N)     ! still does MAX\n",
    "   DO I = 1, 100\n",
    "      N = MAX(N,I)\n",
    "   END DO\n",
    "END PROGRAM REDUCTION3\n",
    "\n"
   ]
  },
  {
   "cell_type": "markdown",
   "metadata": {},
   "source": [
    ""
   ]
  },
  {
   "cell_type": "markdown",
   "metadata": {},
   "source": [
    "The following conforming program performs the reduction using   _intrinsic procedure name_  `MAX` even though the intrinsic `MAX` has been renamed  to `MIN`."
   ]
  },
  {
   "cell_type": "markdown",
   "metadata": {},
   "source": [
    ""
   ]
  },
  {
   "cell_type": "code",
   "execution_count": null,
   "metadata": {},
   "outputs": [],
   "source": [
    "\n",
    "! name: reduction.5f\n",
    "! type: F-free\n",
    "MODULE MOD\n",
    "   INTRINSIC MAX, MIN\n",
    "END MODULE MOD\n",
    "\n",
    "PROGRAM REDUCTION4\n",
    "   USE MOD, MIN=>MAX, MAX=>MIN\n",
    "   REAL :: R\n",
    "   R = -HUGE(0.0)\n",
    "\n",
    "!$OMP PARALLEL DO REDUCTION(MIN: R)     ! still does MAX\n",
    "   DO I = 1, 1000\n",
    "      R = MIN(R, SIN(REAL(I)))\n",
    "   END DO\n",
    "   PRINT *, R\n",
    "END PROGRAM REDUCTION4\n",
    "\n"
   ]
  },
  {
   "cell_type": "markdown",
   "metadata": {},
   "source": [
    ""
   ]
  },
  {
   "cell_type": "markdown",
   "metadata": {},
   "source": [
    "The following example is non-conforming because the initialization (`a =  0`) of the original list item `a` is not synchronized with the update of  `a` as a result of the reduction computation in the `for` loop. Therefore,  the example may print an incorrect value for `a`."
   ]
  },
  {
   "cell_type": "markdown",
   "metadata": {},
   "source": [
    "To avoid this problem, the initialization of the original list item `a`  should complete before any update of `a` as a result of the `reduction`  clause. This can be achieved by adding an explicit barrier after the assignment  `a = 0`, or by enclosing the assignment `a = 0` in a `single`  directive (which has an implied barrier), or by initializing `a` before  the start of the `parallel` region."
   ]
  },
  {
   "cell_type": "markdown",
   "metadata": {},
   "source": [
    ""
   ]
  },
  {
   "cell_type": "code",
   "execution_count": null,
   "metadata": {},
   "outputs": [],
   "source": [
    "//%compiler: clang\n",
 "//%cflags: -fopenmp\n",
 "\n",
    "/*\n",
    "* name: reduction.6c\n",
    "* type: C\n",
    "*/\n",
    "#include <stdio.h>\n",
    "\n",
    "int main (void)\n",
    "{\n",
    "  int a, i;\n",
    "\n",
    "  #pragma omp parallel shared(a) private(i)\n",
    "  {\n",
    "    #pragma omp master\n",
    "    a = 0;\n",
    "\n",
    "    // To avoid race conditions, add a barrier here.\n",
    "\n",
    "    #pragma omp for reduction(+:a)\n",
    "    for (i = 0; i < 10; i++) {\n",
    "        a += i;\n",
    "    }\n",
    "\n",
    "    #pragma omp single\n",
    "    printf (\"Sum is %d\\n\", a);\n",
    "  }\n",
    "  return 0;\n",
    "}\n",
    "\n"
   ]
  },
  {
   "cell_type": "markdown",
   "metadata": {},
   "source": [
    ""
   ]
  },
  {
   "cell_type": "markdown",
   "metadata": {},
   "source": [
    ""
   ]
  },
  {
   "cell_type": "code",
   "execution_count": null,
   "metadata": {},
   "outputs": [],
   "source": [
    "\n",
    "! name: reduction.6f\n",
    "! type: F-fixed\n",
    "      INTEGER A, I\n",
    "\n",
    "!$OMP PARALLEL SHARED(A) PRIVATE(I)\n",
    "\n",
    "!$OMP MASTER\n",
    "      A = 0\n",
    "!$OMP END MASTER\n",
    "\n",
    "      ! To avoid race conditions, add a barrier here.\n",
    "\n",
    "!$OMP DO REDUCTION(+:A)\n",
    "      DO I= 0, 9\n",
    "         A = A + I\n",
    "      END DO\n",
    "\n",
    "!$OMP SINGLE\n",
    "      PRINT *, \"Sum is \", A\n",
    "!$OMP END SINGLE\n",
    "\n",
    "!$OMP END PARALLEL\n",
    "      END\n",
    "\n"
   ]
  },
  {
   "cell_type": "markdown",
   "metadata": {},
   "source": [
    ""
   ]
  },
  {
   "cell_type": "markdown",
   "metadata": {},
   "source": [
    "The following example demonstrates the reduction of array  _a_ .  In C/C++ this is illustrated by the explicit use of an array section  _a[0:N]_  in the `reduction` clause.  The corresponding Fortran example uses array syntax supported in the base language.  As of the OpenMP 4.5 specification the explicit use of array section in the `reduction` clause in Fortran is not permitted.  But this oversight has been fixed in the OpenMP 5.0 specification."
   ]
  },
  {
   "cell_type": "markdown",
   "metadata": {},
   "source": [
    ""
   ]
  },
  {
   "cell_type": "markdown",
   "metadata": {},
   "source": [
    ""
   ]
  },
  {
   "cell_type": "code",
   "execution_count": null,
   "metadata": {},
   "outputs": [],
   "source": [
    "//%compiler: clang\n",
 "//%cflags: -fopenmp\n",
 "\n",
    "/*\n",
    "* name: reduction.7c\n",
    "* type: C\n",
    "* version: omp_4.5\n",
    "*/\n",
    "#include <stdio.h>\n",
    "\n",
    "#define N 100\n",
    "void init(int n, float (*b)[N]);\n",
    "\n",
    "int main(){\n",
    "\n",
    "  int i,j;\n",
    "  float a[N], b[N][N];\n",
    "\n",
    "  init(N,b);\n",
    "\n",
    "  for(i=0; i<N; i++) a[i]=0.0e0;\n",
    "\n",
    "  #pragma omp parallel for reduction(+:a[0:N]) private(j)\n",
    "  for(i=0; i<N; i++){\n",
    "    for(j=0; j<N; j++){\n",
    "       a[j] +=  b[i][j];\n",
    "    }\n",
    "  }\n",
    "  printf(\" a[0] a[N-1]: %f %f\\n\", a[0], a[N-1]);\n",
    "\n",
    "  return 0;\n",
    "}\n",
    "\n"
   ]
  },
  {
   "cell_type": "markdown",
   "metadata": {},
   "source": [
    ""
   ]
  },
  {
   "cell_type": "markdown",
   "metadata": {},
   "source": [
    ""
   ]
  },
  {
   "cell_type": "code",
   "execution_count": null,
   "metadata": {},
   "outputs": [],
   "source": [
    "\n",
    "! name: reduction.7f\n",
    "! type: F-free\n",
    "program array_red\n",
    "\n",
    "  integer,parameter :: n=100\n",
    "  integer           :: j\n",
    "  real              :: a(n), b(n,n)\n",
    "\n",
    "  call init(n,b)\n",
    "\n",
    "  a(:) = 0.0e0\n",
    "\n",
    "  !$omp parallel do reduction(+:a)\n",
    "  do j = 1, n\n",
    "     a(:) = a(:) + b(:,j)\n",
    "  end do\n",
    "\n",
    "  print*, \" a(1) a(n): \", a(1), a(n)\n",
    "\n",
    "end program\n",
    "\n"
   ]
  },
  {
   "cell_type": "markdown",
   "metadata": {},
   "source": [
    ""
   ]
  },
  {
   "cell_type": "markdown",
   "metadata": {},
   "source": [
    ""
   ]
  },
  {
   "cell_type": "markdown",
   "metadata": {},
   "source": [
    "### Task Reduction"
   ]
  },
  {
   "cell_type": "markdown",
   "metadata": {},
   "source": [
    ""
   ]
  },
  {
   "cell_type": "markdown",
   "metadata": {},
   "source": [
    "In OpenMP 5.0 the `task_reduction` clause was created for the `taskgroup` construct,  to allow reductions among explicit tasks that have an `in_reduction` clause."
   ]
  },
  {
   "cell_type": "markdown",
   "metadata": {},
   "source": [
    "In the  _task_reduction.1_  example below a reduction is performed as the algorithm traverses a linked list. The reduction statement is assigned to be an explicit task using a `task` construct and is specified to be a reduction participant with  the `in_reduction` clause. A `taskgroup` construct encloses the tasks participating in the reduction, and specifies, with the `task_reduction` clause, that the taskgroup has tasks participating in a reduction.  After the `taskgroup` region the original variable will contain  the final value of the reduction."
   ]
  },
  {
   "cell_type": "markdown",
   "metadata": {},
   "source": [
    "Note: The  _res_  variable is private in the  _linked_list_sum_  routine and is not required to be shared (as in the case of a `parallel` construct reduction)."
   ]
  },
  {
   "cell_type": "markdown",
   "metadata": {},
   "source": [
    ""
   ]
  },
  {
   "cell_type": "markdown",
   "metadata": {},
   "source": [
    ""
   ]
  },
  {
   "cell_type": "code",
   "execution_count": null,
   "metadata": {},
   "outputs": [],
   "source": [
    "//%compiler: clang\n",
 "//%cflags: -fopenmp\n",
 "\n",
    "/*\n",
    "* name:       task_reduction.1c\n",
    "* type:       C\n",
    "*/\n",
    "\n",
    "#include<stdlib.h>\n",
    "#include<stdio.h>\n",
    "#define N 10\n",
    "\n",
    "typedef struct node_tag {\n",
    "    int val;\n",
    "    struct node_tag *next;\n",
    "} node_t;\n",
    "\n",
    "int linked_list_sum(node_t *p)\n",
    "{\n",
    "    int res = 0;\n",
    "\n",
    "    #pragma omp taskgroup task_reduction(+: res)\n",
    "    {\n",
    "        node_t* aux = p;\n",
    "        while(aux != 0)\n",
    "        {\n",
    "            #pragma omp task in_reduction(+: res)\n",
    "            res += aux->val;\n",
    "\n",
    "            aux = aux->next;\n",
    "        }\n",
    "    }\n",
    "    return res;\n",
    "}\n",
    "\n",
    "\n",
    "int main(int argc, char *argv[]) {\n",
    "    int i;\n",
    "//                           Create the root node.\n",
    "    node_t* root = (node_t*) malloc(sizeof(node_t));\n",
    "    root->val = 1;\n",
    "\n",
    "    node_t* aux = root;\n",
    "\n",
    "//                           Create N-1 more nodes.\n",
    "    for(i=2;i<=N;++i){\n",
    "        aux->next = (node_t*) malloc(sizeof(node_t));\n",
    "        aux = aux->next;\n",
    "        aux->val = i;\n",
    "    }\n",
    "\n",
    "    aux->next = 0;\n",
    "\n",
    "    #pragma omp parallel\n",
    "    #pragma omp single\n",
    "    {\n",
    "        int result = linked_list_sum(root);\n",
    "        printf( \"Calculated: %d  Analytic:%d\\n\", result, (N*(N+1)/2) );\n",
    "    }\n",
    "\n",
    "    return 0;\n",
    "}\n",
    "\n",
    "\n"
   ]
  },
  {
   "cell_type": "markdown",
   "metadata": {},
   "source": [
    ""
   ]
  },
  {
   "cell_type": "markdown",
   "metadata": {},
   "source": [
    ""
   ]
  },
  {
   "cell_type": "code",
   "execution_count": null,
   "metadata": {},
   "outputs": [],
   "source": [
    "\n",
    "! name:       task_reduction.1f90\n",
    "! type:       F-free\n",
    "\n",
    "module m\n",
    "    type node_t\n",
    "        integer :: val\n",
    "        type(node_t), pointer :: next\n",
    "    end type\n",
    "end module m\n",
    "\n",
    "function linked_list_sum(p) result(res)\n",
    "    use m\n",
    "    implicit none\n",
    "    type(node_t), pointer :: p\n",
    "    type(node_t), pointer :: aux\n",
    "    integer :: res\n",
    "\n",
    "    res = 0\n",
    "\n",
    "    !$omp taskgroup task_reduction(+: res)\n",
    "        aux => p\n",
    "        do while (associated(aux))\n",
    "            !$omp task in_reduction(+: res)\n",
    "                res = res + aux%val\n",
    "            !$omp end task\n",
    "            aux => aux%next\n",
    "        end do\n",
    "    !$omp end taskgroup\n",
    "end function linked_list_sum\n",
    "\n",
    "\n",
    "program main\n",
    "    use m\n",
    "    implicit none\n",
    "    type(node_t), pointer :: root, aux\n",
    "    integer :: res, i\n",
    "    integer, parameter :: N=10\n",
    "\n",
    "    interface\n",
    "        function linked_list_sum(p) result(res)\n",
    "            use m\n",
    "            implicit none\n",
    "            type(node_t), pointer :: p\n",
    "            integer :: res\n",
    "        end function\n",
    "    end interface\n",
    "!                       Create the root node.\n",
    "    allocate(root)\n",
    "    root%val = 1\n",
    "    aux => root\n",
    "\n",
    "!                       Create N-1 more nodes.\n",
    "    do i = 2,N\n",
    "        allocate(aux%next)\n",
    "        aux => aux%next\n",
    "        aux%val = i\n",
    "    end do\n",
    "\n",
    "    aux%next => null()\n",
    "\n",
    "    !$omp parallel\n",
    "    !$omp single\n",
    "        res = linked_list_sum(root)\n",
    "        print *, \"Calculated:\", res, \" Analytic:\", (N*(N+1))/2\n",
    "    !$omp end single\n",
    "    !$omp end parallel\n",
    "\n",
    "end program main\n",
    "\n",
    "\n"
   ]
  },
  {
   "cell_type": "markdown",
   "metadata": {},
   "source": [
    ""
   ]
  },
  {
   "cell_type": "markdown",
   "metadata": {},
   "source": [
    "In OpenMP 5.0 the `task`  _reduction-modifier_  for the `reduction` clause was introduced to provide a means of performing reductions among implicit and explicit tasks."
   ]
  },
  {
   "cell_type": "markdown",
   "metadata": {},
   "source": [
    "The `reduction` clause of a `parallel` or worksharing construct may specify the `task`  _reduction-modifier_  to include explicit task reductions within their region, provided the reduction operators ( _reduction-identifiers_ ) and variables ( _list items_ ) of the participating tasks match those of the implicit tasks."
   ]
  },
  {
   "cell_type": "markdown",
   "metadata": {},
   "source": [
    "There are 2 reduction use cases (identified by USE CASE #) in the  _task_reduction.2_  example below."
   ]
  },
  {
   "cell_type": "markdown",
   "metadata": {},
   "source": [
    "In USE CASE 1 a `task` modifier in the `reduction` clause  of the `parallel` construct is used to include the reductions of any  participating tasks, those with an `in_reduction` clause and matching   _reduction-identifiers_  (`+`) and list items (`x`)."
   ]
  },
  {
   "cell_type": "markdown",
   "metadata": {},
   "source": [
    "Note, a `taskgroup` construct (with a `task_reduction` clause) in not necessary to scope the explicit task reduction (as seen in the example above).  Hence, even without the implicit task reduction statement (without the C `x++`   and Fortran `x=x+1` statements), the `task`  _reduction-modifier_   in a `reduction` clause of the `parallel` construct can be used to avoid having to create a `taskgroup` construct  (and its `task_reduction` clause) around the task generating structure."
   ]
  },
  {
   "cell_type": "markdown",
   "metadata": {},
   "source": [
    "In USE CASE 2 tasks participating in the reduction are within a worksharing region (a parallel worksharing-loop construct). Here, too, no `taskgroup` is required, and the  _reduction-identifier_  (`+`) and list item (variable `x`) match as required."
   ]
  },
  {
   "cell_type": "markdown",
   "metadata": {},
   "source": [
    ""
   ]
  },
  {
   "cell_type": "markdown",
   "metadata": {},
   "source": [
    ""
   ]
  },
  {
   "cell_type": "code",
   "execution_count": null,
   "metadata": {},
   "outputs": [],
   "source": [
    "//%compiler: clang\n",
 "//%cflags: -fopenmp\n",
 "\n",
    "/*\n",
    "* name:       task_reduction.2.c\n",
    "* type:       C\n",
    "* version: omp_5.0\n",
    "*/\n",
    "#include <stdio.h>\n",
    "int main(void){\n",
    "   int N=100, M=10;\n",
    "   int i, x;\n",
    "\n",
    "// USE CASE 1  explicit-task reduction + parallel reduction clause\n",
    "   x=0;\n",
    "   #pragma omp parallel num_threads(M) reduction(task,+:x)\n",
    "   {\n",
    "\n",
    "     x++;                // implicit task reduction statement\n",
    "\n",
    "     #pragma omp single\n",
    "     for(i=0;i<N;i++)\n",
    "       #pragma omp task in_reduction(+:x)\n",
    "       x++;\n",
    "\n",
    "   }\n",
    "   printf(\"x=%d  =M+N\\n\",x);  // x= 110  =M+N\n",
    "\n",
    "\n",
    "// USE CASE 2  task reduction +  worksharing reduction clause\n",
    "   x=0;\n",
    "   #pragma omp parallel for num_threads(M) reduction(task,+:x)\n",
    "   for(i=0; i< N; i++){\n",
    "\n",
    "      x++;\n",
    "\n",
    "      if( i%2 == 0){\n",
    "       #pragma omp task in_reduction(+:x)\n",
    "       x--;\n",
    "      }\n",
    "   }\n",
    "   printf(\"x=%d  =N-N/2\\n\",x);  // x= 50  =N-N/2\n",
    "\n",
    "   return 0;\n",
    "}\n",
    "\n"
   ]
  },
  {
   "cell_type": "markdown",
   "metadata": {},
   "source": [
    ""
   ]
  },
  {
   "cell_type": "markdown",
   "metadata": {},
   "source": [
    ""
   ]
  },
  {
   "cell_type": "code",
   "execution_count": null,
   "metadata": {},
   "outputs": [],
   "source": [
    "\n",
    "! name:       task_reduction.2.f90\n",
    "! type:       F-free\n",
    "! version:    omp_5.0\n",
    "\n",
    "program task_modifier\n",
    "\n",
    "   integer :: N=100, M=10\n",
    "   integer :: i, x\n",
    "\n",
    "! USE CASE 1  explicit-task reduction + parallel reduction clause\n",
    "   x=0\n",
    "   !$omp parallel num_threads(M) reduction(task,+:x)\n",
    "\n",
    "     x=x+1                   !! implicit task reduction statement\n",
    "\n",
    "     !$omp single\n",
    "       do i = 1,N\n",
    "         !$omp task in_reduction(+:x)\n",
    "           x=x+1\n",
    "         !$omp end task\n",
    "       end do\n",
    "     !$omp end single\n",
    "\n",
    "   !$omp end parallel\n",
    "   write(*,'(\"x=\",I0,\" =M+N\")') x   ! x= 110 =M+N\n",
    "\n",
    "\n",
    "! USE CASE 2  task reduction +  worksharing reduction clause\n",
    "   x=0\n",
    "   !$omp parallel do num_threads(M) reduction(task,+:x)\n",
    "     do i = 1,N\n",
    "\n",
    "        x=x+1\n",
    "\n",
    "        if( mod(i,2) == 0) then\n",
    "           !$omp task in_reduction(+:x)\n",
    "             x=x-1\n",
    "           !$omp end task\n",
    "        endif\n",
    "\n",
    "     end do\n",
    "   write(*,'(\"x=\",I0,\"  =N-N/2\")') x   ! x= 50 =N-N/2\n",
    "\n",
    "end program\n",
    "\n"
   ]
  },
  {
   "cell_type": "markdown",
   "metadata": {},
   "source": [
    ""
   ]
  },
  {
   "cell_type": "markdown",
   "metadata": {},
   "source": [
    ""
   ]
  },
  {
   "cell_type": "markdown",
   "metadata": {},
   "source": [
    ""
   ]
  },
  {
   "cell_type": "markdown",
   "metadata": {},
   "source": [
    "### Reduction on Combined Target Constructs"
   ]
  },
  {
   "cell_type": "markdown",
   "metadata": {},
   "source": [
    ""
   ]
  },
  {
   "cell_type": "markdown",
   "metadata": {},
   "source": [
    "When a `reduction` clause appears on a combined construct that combines  a `target` construct with another construct, there is an implicit map  of the list items with a `tofrom` map type for the `target` construct.  Otherwise, the list items (if they are scalar variables) would be  treated as firstprivate by default in the `target` construct, which  is unlikely to provide the intended behavior since the result of the reduction that is in the firstprivate variable would be discarded  at the end of the `target` region."
   ]
  },
  {
   "cell_type": "markdown",
   "metadata": {},
   "source": [
    "In the following example, the use of the `reduction` clause on `sum1` or `sum2` should, by default, result in an implicit `tofrom` map for that variable. So long as neither `sum1` nor `sum2` were already present on the device, the mapping behavior ensures the value for `sum1` computed in the first `target` construct is used in the second `target` construct."
   ]
  },
  {
   "cell_type": "markdown",
   "metadata": {},
   "source": [
    ""
   ]
  },
  {
   "cell_type": "code",
   "execution_count": null,
   "metadata": {},
   "outputs": [],
   "source": [
    "//%compiler: clang\n",
 "//%cflags: -fopenmp\n",
 "\n",
    "/*\n",
    "* name: target_reduction.1.c\n",
    "* type: C\n",
    "* version: omp_5.0\n",
    "*/\n",
    "#include <stdio.h>\n",
    "int f(int);\n",
    "int g(int);\n",
    "int main()\n",
    "{\n",
    "   int sum1=0, sum2=0;\n",
    "   int i;\n",
    "   const int n = 100;\n",
    "\n",
    "   #pragma omp target teams distribute reduction(+:sum1)\n",
    "   for (int i = 0; i < n; i++) {\n",
    "      sum1 += f(i);\n",
    "   }\n",
    "\n",
    "   #pragma omp target teams distribute reduction(+:sum2)\n",
    "   for (int i = 0; i < n; i++) {\n",
    "      sum2 += g(i) * sum1;\n",
    "   }\n",
    "\n",
    "   printf(  \"sum1 = %d, sum2 = %d\\n\", sum1, sum2);\n",
    "   //OUTPUT: sum1 = 9900, sum2 = 147015000\n",
    "   return 0;\n",
    "}\n",
    "\n",
    "int f(int res){ return res*2; }\n",
    "int g(int res){ return res*3; }\n",
    "\n"
   ]
  },
  {
   "cell_type": "markdown",
   "metadata": {},
   "source": [
    ""
   ]
  },
  {
   "cell_type": "markdown",
   "metadata": {},
   "source": [
    ""
   ]
  },
  {
   "cell_type": "code",
   "execution_count": null,
   "metadata": {},
   "outputs": [],
   "source": [
    "\n",
    "! name: target_reduction.1.f90\n",
    "! type: F-free\n",
    "! version: omp_5.0\n",
    "program target_reduction_ex1\n",
    "   interface\n",
    "      function f(res)\n",
    "             integer :: f, res\n",
    "          end function\n",
    "      function g(res)\n",
    "             integer :: g, res\n",
    "          end function\n",
    "   end interface\n",
    "   integer :: sum1, sum2, i\n",
    "   integer, parameter :: n = 100\n",
    "   sum1 = 0\n",
    "   sum2 = 0\n",
    "   !$omp target teams distribute reduction(+:sum1)\n",
    "       do i=1,n\n",
    "          sum1 = sum1 + f(i)\n",
    "       end do\n",
    "   !$omp target teams distribute reduction(+:sum2)\n",
    "       do i=1,n\n",
    "          sum2 = sum2 + g(i)*sum1\n",
    "       end do\n",
    "   print *, \"sum1 = \", sum1, \", sum2 = \", sum2\n",
    "   !!OUTPUT: sum1 =     10100 , sum2 = 153015000\n",
    "end program\n",
    "\n",
    "\n",
    "integer function f(res)\n",
    "   integer :: res\n",
    "   f = res*2\n",
    "end function\n",
    "integer function g(res)\n",
    "   integer :: res\n",
    "   g = res*3\n",
    "end function\n",
    "\n"
   ]
  },
  {
   "cell_type": "markdown",
   "metadata": {},
   "source": [
    ""
   ]
  },
  {
   "cell_type": "markdown",
   "metadata": {},
   "source": [
    "In next example,  the variables `sum1` and `sum2` remain on the device for the duration of the `target` `data` region so that it is their device copies that are updated by the reductions. Note the significance of mapping `sum1` on the second `target` construct; otherwise, it would be treated by default as firstprivate and the result computed for `sum1` in the prior `target` region may not be used. Alternatively, a `target` `update` construct could be used between the two `target` constructs to update the host version of `sum1` with the value that is in the corresponding device version after the completion of the first construct."
   ]
  },
  {
   "cell_type": "markdown",
   "metadata": {},
   "source": [
    ""
   ]
  },
  {
   "cell_type": "code",
   "execution_count": null,
   "metadata": {},
   "outputs": [],
   "source": [
    "//%compiler: clang\n",
 "//%cflags: -fopenmp\n",
 "\n",
    "/*\n",
    "* name: target_reduction.2.c\n",
    "* type: C\n",
    "* version: omp_5.0\n",
    "*/\n",
    "#include <stdio.h>\n",
    "int f(int);\n",
    "int g(int);\n",
    "int main()\n",
    "{\n",
    "   int sum1=0, sum2=0;\n",
    "   int i;\n",
    "   const int n = 100;\n",
    "\n",
    "   #pragma omp target data map(sum1,sum2)\n",
    "   {\n",
    "      #pragma omp target teams distribute reduction(+:sum1)\n",
    "      for (int i = 0; i < n; i++) {\n",
    "         sum1 += f(i);\n",
    "      }\n",
    "\n",
    "      #pragma omp target teams distribute map(sum1) reduction(+:sum2)\n",
    "      for (int i = 0; i < n; i++) {\n",
    "         sum2 += g(i) * sum1;\n",
    "      }\n",
    "   }\n",
    "   printf(  \"sum1 = %d, sum2 = %d\\n\", sum1, sum2);\n",
    "   //OUTPUT: sum1 = 9900, sum2 = 147015000\n",
    "   return 0;\n",
    "}\n",
    "\n",
    "int f(int res){ return res*2; }\n",
    "int g(int res){ return res*3; }\n",
    "\n"
   ]
  },
  {
   "cell_type": "markdown",
   "metadata": {},
   "source": [
    ""
   ]
  },
  {
   "cell_type": "markdown",
   "metadata": {},
   "source": [
    ""
   ]
  },
  {
   "cell_type": "code",
   "execution_count": null,
   "metadata": {},
   "outputs": [],
   "source": [
    "\n",
    "! name: target_reduction.2.f90\n",
    "! type: F-free\n",
    "! version: omp_5.0\n",
    "\n",
    "program target_reduction_ex2\n",
    "   interface\n",
    "      function f(res)\n",
    "             integer :: f, res\n",
    "          end function\n",
    "      function g(res)\n",
    "             integer :: g, res\n",
    "          end function\n",
    "   end interface\n",
    "   integer :: sum1, sum2, i\n",
    "   integer, parameter :: n = 100\n",
    "   sum1 = 0\n",
    "   sum2 = 0\n",
    "   !$omp target data map(sum1, sum2)\n",
    "       !$omp target teams distribute reduction(+:sum1)\n",
    "           do i=1,n\n",
    "              sum1 = sum1 + f(i)\n",
    "           end do\n",
    "       !$omp target teams distribute map(sum1) reduction(+:sum2)\n",
    "           do i=1,n\n",
    "              sum2 = sum2 + g(i)*sum1\n",
    "           end do\n",
    "   !$omp end target data\n",
    "   print *, \"sum1 = \", sum1, \", sum2 = \", sum2\n",
    "   !!OUTPUT: sum1 =     10100 , sum2 = 153015000\n",
    "end program\n",
    "\n",
    "\n",
    "integer function f(res)\n",
    "   integer :: res\n",
    "   f = res*2\n",
    "end function\n",
    "integer function g(res)\n",
    "   integer :: res\n",
    "   g = res*3\n",
    "end function\n",
    "\n"
   ]
  },
  {
   "cell_type": "markdown",
   "metadata": {},
   "source": [
    ""
   ]
  },
  {
   "cell_type": "markdown",
   "metadata": {},
   "source": [
    ""
   ]
  },
  {
   "cell_type": "markdown",
   "metadata": {},
   "source": [
    ""
   ]
  },
  {
   "cell_type": "markdown",
   "metadata": {},
   "source": [
    "### Task Reduction with Target Constructs"
   ]
  },
  {
   "cell_type": "markdown",
   "metadata": {},
   "source": [
    ""
   ]
  },
  {
   "cell_type": "markdown",
   "metadata": {},
   "source": [
    "The following examples illustrate how task reductions can apply to target tasks that result from a `target` construct with the `in_reduction` clause. Here, the `in_reduction` clause specifies that the target task participates in the task reduction defined in the scope of the enclosing `taskgroup` construct. Partial results from all tasks participating in the task reduction will be combined (in some order) into the original variable listed in the `task_reduction` clause before exiting the `taskgroup` region."
   ]
  },
  {
   "cell_type": "markdown",
   "metadata": {},
   "source": [
    ""
   ]
  },
  {
   "cell_type": "code",
   "execution_count": null,
   "metadata": {},
   "outputs": [],
   "source": [
    "//%compiler: clang\n",
 "//%cflags: -fopenmp\n",
 "\n",
    "/*\n",
    "* name: target_task_reduction.1.c\n",
    "* type: C\n",
    "* version: omp_5.0\n",
    "*/\n",
    "#include <stdio.h>\n",
    "#pragma omp declare target to(device_compute)\n",
    "void device_compute(int *);\n",
    "void host_compute(int *);\n",
    "int main()\n",
    "{\n",
    "   int sum = 0;\n",
    "\n",
    "   #pragma omp parallel master\n",
    "   #pragma omp taskgroup task_reduction(+:sum)\n",
    "   {\n",
    "      #pragma omp target in_reduction(+:sum) nowait\n",
    "          device_compute(&sum);\n",
    "\n",
    "      #pragma omp task in_reduction(+:sum)\n",
    "          host_compute(&sum);\n",
    "   }\n",
    "   printf(  \"sum = %d\\n\", sum);\n",
    "   //OUTPUT: sum = 2\n",
    "   return 0;\n",
    "}\n",
    "\n",
    "void device_compute(int *sum){ *sum = 1; }\n",
    "void   host_compute(int *sum){ *sum = 1; }\n",
    "\n"
   ]
  },
  {
   "cell_type": "markdown",
   "metadata": {},
   "source": [
    ""
   ]
  },
  {
   "cell_type": "markdown",
   "metadata": {},
   "source": [
    ""
   ]
  },
  {
   "cell_type": "code",
   "execution_count": null,
   "metadata": {},
   "outputs": [],
   "source": [
    "\n",
    "! name: target_task_reduction.1.f90\n",
    "! type: F-free\n",
    "! version: omp_5.0\n",
    "program target_task_reduction_ex1\n",
    "   interface\n",
    "      subroutine device_compute(res)\n",
    "      !$omp declare target to(device_compute)\n",
    "        integer :: res\n",
    "      end subroutine device_compute\n",
    "      subroutine host_compute(res)\n",
    "        integer :: res\n",
    "      end subroutine host_compute\n",
    "   end interface\n",
    "   integer :: sum\n",
    "   sum = 0\n",
    "   !$omp parallel master\n",
    "      !$omp taskgroup task_reduction(+:sum)\n",
    "         !$omp target in_reduction(+:sum) nowait\n",
    "            call device_compute(sum)\n",
    "         !$omp end target\n",
    "         !$omp task in_reduction(+:sum)\n",
    "            call host_compute(sum)\n",
    "         !$omp end task\n",
    "      !$omp end taskgroup\n",
    "   !$omp end parallel master\n",
    "   print *, \"sum = \", sum\n",
    "   !!OUTPUT: sum = 2\n",
    "end program\n",
    "\n",
    "subroutine device_compute(sum)\n",
    "   integer :: sum\n",
    "   sum = 1\n",
    "end subroutine\n",
    "subroutine host_compute(sum)\n",
    "   integer :: sum\n",
    "   sum = 1\n",
    "end subroutine\n",
    "\n"
   ]
  },
  {
   "cell_type": "markdown",
   "metadata": {},
   "source": [
    ""
   ]
  },
  {
   "cell_type": "markdown",
   "metadata": {},
   "source": [
    "In the next pair of examples, the task reduction is defined by a `reduction` clause with the `task` modifier, rather than a `task_reduction` clause on a `taskgroup` construct. Again, the partial results from the participating tasks will be combined in some order into the original reduction variable, `sum`."
   ]
  },
  {
   "cell_type": "markdown",
   "metadata": {},
   "source": [
    ""
   ]
  },
  {
   "cell_type": "code",
   "execution_count": null,
   "metadata": {},
   "outputs": [],
   "source": [
    "//%compiler: clang\n",
 "//%cflags: -fopenmp\n",
 "\n",
    "/*\n",
    "* name: target_task_reduction.2.c\n",
    "* type: C\n",
    "* version: omp_5.0\n",
    "*/\n",
    "#include <stdio.h>\n",
    "#pragma omp declare target to(device_compute)\n",
    "extern void device_compute(int *);\n",
    "extern void host_compute(int *);\n",
    "int main()\n",
    "{\n",
    "   int sum = 0;\n",
    "\n",
    "   #pragma omp parallel sections reduction(task, +:sum)\n",
    "   {\n",
    "      #pragma omp section\n",
    "          {\n",
    "             #pragma omp target in_reduction(+:sum)\n",
    "             device_compute(&sum);\n",
    "          }\n",
    "      #pragma omp section\n",
    "          {\n",
    "             host_compute(&sum);\n",
    "          }\n",
    "   }\n",
    "   printf(  \"sum = %d\\n\", sum);\n",
    "   //OUTPUT: sum = 2\n",
    "   return 0;\n",
    "}\n",
    "\n",
    "void device_compute(int *sum){ *sum = 1; }\n",
    "void   host_compute(int *sum){ *sum = 1; }\n",
    "\n"
   ]
  },
  {
   "cell_type": "markdown",
   "metadata": {},
   "source": [
    ""
   ]
  },
  {
   "cell_type": "markdown",
   "metadata": {},
   "source": [
    ""
   ]
  },
  {
   "cell_type": "code",
   "execution_count": null,
   "metadata": {},
   "outputs": [],
   "source": [
    "\n",
    "! name: target_task_reduction.2.f90\n",
    "! type: F-free\n",
    "! version: omp_5.0\n",
    "program target_task_reduction_ex2\n",
    "   interface\n",
    "      subroutine device_compute(res)\n",
    "      !$omp declare target to(device_compute)\n",
    "        integer :: res\n",
    "      end subroutine device_compute\n",
    "      subroutine host_compute(res)\n",
    "        integer :: res\n",
    "      end subroutine host_compute\n",
    "   end interface\n",
    "   integer :: sum\n",
    "   sum = 0\n",
    "   !$omp parallel sections reduction(task,+:sum)\n",
    "      !$omp section\n",
    "         !$omp target in_reduction(+:sum) nowait\n",
    "           call device_compute(sum)\n",
    "         !$omp end target\n",
    "      !$omp section\n",
    "         call host_compute(sum)\n",
    "   !$omp end parallel sections\n",
    "   print *, \"sum = \", sum\n",
    "   !!OUTPUT: sum = 2\n",
    "end program\n",
    "\n",
    "subroutine device_compute(sum)\n",
    "   integer :: sum\n",
    "   sum = 1\n",
    "end subroutine\n",
    "subroutine host_compute(sum)\n",
    "   integer :: sum\n",
    "   sum = 1\n",
    "end subroutine\n",
    "\n"
   ]
  },
  {
   "cell_type": "markdown",
   "metadata": {},
   "source": [
    ""
   ]
  },
  {
   "cell_type": "markdown",
   "metadata": {},
   "source": [
    "Next, the `task` modifier is again used to define a task reduction over participating tasks. This time, the participating tasks are a target task resulting from a `target` construct with the `in_reduction` clause, and the implicit task (executing on the master thread) that calls `host_compute`. As before, the partial results from these paricipating tasks are combined in some order into the original reduction variable."
   ]
  },
  {
   "cell_type": "markdown",
   "metadata": {},
   "source": [
    ""
   ]
  },
  {
   "cell_type": "code",
   "execution_count": null,
   "metadata": {},
   "outputs": [],
   "source": [
    "//%compiler: clang\n",
 "//%cflags: -fopenmp\n",
 "\n",
    "/*\n",
    "* name: target_task_reduction.2b.c\n",
    "* type: C\n",
    "* version: omp_5.0\n",
    "*/\n",
    "#include <stdio.h>\n",
    "#pragma omp declare target to(device_compute)\n",
    "extern void device_compute(int *);\n",
    "extern void host_compute(int *);\n",
    "int main()\n",
    "{\n",
    "   int sum = 0;\n",
    "\n",
    "   #pragma omp parallel master reduction(task, +:sum)\n",
    "   {\n",
    "       #pragma omp target in_reduction(+:sum) nowait\n",
    "       device_compute(&sum);\n",
    "\n",
    "       host_compute(&sum);\n",
    "   }\n",
    "   printf(  \"sum = %d\\n\", sum);\n",
    "   //OUTPUT: sum = 2\n",
    "   return 0;\n",
    "}\n",
    "\n",
    "void device_compute(int *sum){ *sum = 1; }\n",
    "void   host_compute(int *sum){ *sum = 1; }\n",
    "\n"
   ]
  },
  {
   "cell_type": "markdown",
   "metadata": {},
   "source": [
    ""
   ]
  },
  {
   "cell_type": "markdown",
   "metadata": {},
   "source": [
    ""
   ]
  },
  {
   "cell_type": "code",
   "execution_count": null,
   "metadata": {},
   "outputs": [],
   "source": [
    "\n",
    "! name: target_task_reduction.2b.f90\n",
    "! type: F-free\n",
    "! version: omp_5.0\n",
    "program target_task_reduction_ex2b\n",
    "   interface\n",
    "      subroutine device_compute(res)\n",
    "      !$omp declare target to(device_compute)\n",
    "        integer :: res\n",
    "      end subroutine device_compute\n",
    "      subroutine host_compute(res)\n",
    "        integer :: res\n",
    "      end subroutine host_compute\n",
    "   end interface\n",
    "   integer :: sum\n",
    "   sum = 0\n",
    "   !$omp parallel master reduction(task,+:sum)\n",
    "         !$omp target in_reduction(+:sum) nowait\n",
    "           call device_compute(sum)\n",
    "         !$omp end target\n",
    "         call host_compute(sum)\n",
    "   !$omp end parallel sections\n",
    "   print *, \"sum = \", sum\n",
    "   !!OUTPUT: sum = 2\n",
    "end program\n",
    "\n",
    "\n",
    "subroutine device_compute(sum)\n",
    "   integer :: sum\n",
    "   sum = 1\n",
    "end subroutine\n",
    "subroutine host_compute(sum)\n",
    "   integer :: sum\n",
    "   sum = 1\n",
    "end subroutine\n",
    "\n",
    "\n"
   ]
  },
  {
   "cell_type": "markdown",
   "metadata": {},
   "source": [
    ""
   ]
  },
  {
   "cell_type": "markdown",
   "metadata": {},
   "source": [
    ""
   ]
  },
  {
   "cell_type": "markdown",
   "metadata": {},
   "source": [
    ""
   ]
  },
  {
   "cell_type": "markdown",
   "metadata": {},
   "source": [
    "### Taskloop Reduction"
   ]
  },
  {
   "cell_type": "markdown",
   "metadata": {},
   "source": [
    ""
   ]
  },
  {
   "cell_type": "markdown",
   "metadata": {},
   "source": [
    "In the OpenMP 5.0 Specification the `taskloop` construct was extended to include the reductions."
   ]
  },
  {
   "cell_type": "markdown",
   "metadata": {},
   "source": [
    "The following two examples show how to implement a reduction over an array using taskloop reduction in two different ways. In the first example we apply the `reduction` clause to the `taskloop` construct. As it was explained above in the task reduction examples, a reduction over tasks is divided in two components: the scope of the reduction, which is defined by a `taskgroup` region, and the tasks that participate in the reduction. In this example, the `reduction` clause defines both semantics. First, it specifies that the implicit `taskgroup` region associated with the `taskloop` construct is the scope of the reduction, and second, it defines all tasks created by the `taskloop` construct as participants of the reduction. About the first property, it is important to note that if we add the `nogroup` clause to the `taskloop` construct the code will be nonconforming, basically because we have a set of tasks that participate in a reduction that has not been defined."
   ]
  },
  {
   "cell_type": "markdown",
   "metadata": {},
   "source": [
    ""
   ]
  },
  {
   "cell_type": "code",
   "execution_count": null,
   "metadata": {},
   "outputs": [],
   "source": [
    "//%compiler: clang\n",
 "//%cflags: -fopenmp\n",
 "\n",
    "/*\n",
    "* name:       taskloop_reduction.1.c\n",
    "* type:       C\n",
    "* version:    omp_5.0\n",
    "*/\n",
    "#include <stdio.h>\n",
    "\n",
    "int array_sum(int n, int *v) {\n",
    "    int i;\n",
    "    int res = 0;\n",
    "\n",
    "    #pragma omp taskloop reduction(+: res)\n",
    "    for(i = 0; i < n; ++i)\n",
    "        res += v[i];\n",
    "\n",
    "    return res;\n",
    "}\n",
    "\n",
    "int main(int argc, char *argv[]) {\n",
    "    int n = 10;\n",
    "    int v[10] = {1,2,3,4,5,6,7,8,9,10};\n",
    "\n",
    "    #pragma omp parallel\n",
    "    #pragma omp single\n",
    "    {\n",
    "        int res = array_sum(n, v);\n",
    "        printf(\"The result is %d\\n\", res);\n",
    "    }\n",
    "    return 0;\n",
    "}\n",
    "\n"
   ]
  },
  {
   "cell_type": "markdown",
   "metadata": {},
   "source": [
    ""
   ]
  },
  {
   "cell_type": "code",
   "execution_count": null,
   "metadata": {},
   "outputs": [],
   "source": [
    "\n",
    "! name: taskloop_reduction.1.f90\n",
    "! type: F-free\n",
    "! version:    omp_5.0\n",
    "\n",
    "function array_sum(n, v) result(res)\n",
    "    implicit none\n",
    "    integer :: n, v(n), res\n",
    "    integer :: i\n",
    "\n",
    "    res = 0\n",
    "    !$omp taskloop reduction(+: res)\n",
    "    do i=1, n\n",
    "        res = res + v(i)\n",
    "    end do\n",
    "    !$omp end taskoop\n",
    "\n",
    "end function array_sum\n",
    "\n",
    "program main\n",
    "    implicit none\n",
    "    integer :: n, v(10), res\n",
    "    integer :: i\n",
    "\n",
    "    integer, external :: array_sum\n",
    "\n",
    "    n = 10\n",
    "    do i=1, n\n",
    "        v(i) = i\n",
    "    end do\n",
    "\n",
    "    !$omp parallel\n",
    "    !$omp single\n",
    "    res = array_sum(n, v)\n",
    "    print *, \"The result is\", res\n",
    "    !$omp end single\n",
    "    !$omp end parallel\n",
    "end program main\n",
    "\n"
   ]
  },
  {
   "cell_type": "markdown",
   "metadata": {},
   "source": [
    ""
   ]
  },
  {
   "cell_type": "markdown",
   "metadata": {},
   "source": [
    ""
   ]
  },
  {
   "cell_type": "markdown",
   "metadata": {},
   "source": [
    "The second example computes exactly the same value as in the preceding _taskloop_reduction.1_  code section, but in a very different way. First, in the  _array_sum_  function a `taskgroup` region is created  that defines the scope of a new reduction using the `task_reduction` clause. After that, a task and also the tasks generated by a taskloop participate in  that reduction by using the `in_reduction` clause on the `task` and `taskloop` constructs, respectively.  Note that the `nogroup` clause was added to the `taskloop` construct. This is allowed because what is expressed with the `in_reduction` clause is different from what is expressed with the `reduction` clause. In one case the generated tasks are specified to participate in a previously  declared reduction (`in_reduction` clause) whereas in the other case creation of a new reduction is specified and also that all tasks generated  by the taskloop will participate on it."
   ]
  },
  {
   "cell_type": "markdown",
   "metadata": {},
   "source": [
    ""
   ]
  },
  {
   "cell_type": "code",
   "execution_count": null,
   "metadata": {},
   "outputs": [],
   "source": [
    "//%compiler: clang\n",
 "//%cflags: -fopenmp\n",
 "\n",
    "/*\n",
    "* name:       taskloop_reduction.2.c\n",
    "* type:       C\n",
    "* version:    omp_5.0\n",
    "*/\n",
    "#include <stdio.h>\n",
    "\n",
    "int array_sum(int n, int *v) {\n",
    "    int i;\n",
    "    int res = 0;\n",
    "\n",
    "    #pragma omp taskgroup task_reduction(+: res)\n",
    "    {\n",
    "        if (n > 0) {\n",
    "            #pragma omp task in_reduction(+: res)\n",
    "            res = res + v[0];\n",
    "\n",
    "            #pragma omp taskloop in_reduction(+: res) nogroup\n",
    "            for(i = 1; i < n; ++i)\n",
    "                res += v[i];\n",
    "        }\n",
    "    }\n",
    "\n",
    "    return res;\n",
    "}\n",
    "\n",
    "int main(int argc, char *argv[]) {\n",
    "    int n = 10;\n",
    "    int v[10] = {1,2,3,4,5,6,7,8,9,10};\n",
    "\n",
    "    #pragma omp parallel\n",
    "    #pragma omp single\n",
    "    {\n",
    "        int res = array_sum(n, v);\n",
    "        printf(\"The result is %d\\n\", res);\n",
    "    }\n",
    "    return 0;\n",
    "}\n",
    "\n"
   ]
  },
  {
   "cell_type": "markdown",
   "metadata": {},
   "source": [
    ""
   ]
  },
  {
   "cell_type": "code",
   "execution_count": null,
   "metadata": {},
   "outputs": [],
   "source": [
    "\n",
    "! name: taskloop_reduction.2.f90\n",
    "! type: F-free\n",
    "! version:    omp_5.0\n",
    "\n",
    "function array_sum(n, v) result(res)\n",
    "    implicit none\n",
    "    integer :: n, v(n), res\n",
    "    integer :: i\n",
    "\n",
    "    res = 0\n",
    "    !$omp taskgroup task_reduction(+: res)\n",
    "    if (n > 0) then\n",
    "        !$omp task in_reduction(+: res)\n",
    "        res = res + v(1)\n",
    "        !$omp end task\n",
    "\n",
    "        !$omp taskloop in_reduction(+: res) nogroup\n",
    "        do i=2, n\n",
    "            res = res + v(i)\n",
    "        end do\n",
    "        !$omp end taskoop\n",
    "    endif\n",
    "    !$omp end taskgroup\n",
    "\n",
    "end function array_sum\n",
    "\n",
    "program main\n",
    "    implicit none\n",
    "    integer :: n, v(10), res\n",
    "    integer :: i\n",
    "\n",
    "    integer, external :: array_sum\n",
    "\n",
    "    n = 10\n",
    "    do i=1, n\n",
    "        v(i) = i\n",
    "    end do\n",
    "\n",
    "    !$omp parallel\n",
    "    !$omp single\n",
    "    res = array_sum(n, v)\n",
    "    print *, \"The result is\", res\n",
    "    !$omp end single\n",
    "    !$omp end parallel\n",
    "end program main\n",
    "\n"
   ]
  },
  {
   "cell_type": "markdown",
   "metadata": {},
   "source": [
    ""
   ]
  },
  {
   "cell_type": "markdown",
   "metadata": {},
   "source": [
    "In the OpenMP 5.0 Specification, `reduction` clauses for the `taskloop` ` simd` construct were also added."
   ]
  },
  {
   "cell_type": "markdown",
   "metadata": {},
   "source": [
    "The examples below compare reductions for the `taskloop` and the `taskloop` `simd` constructs. These examples illustrate the use of `reduction` clauses within  \"stand-alone\" `taskloop` constructs, and the use of `in_reduction` clauses for tasks of taskloops to participate with other reductions within the scope of a parallel region."
   ]
  },
  {
   "cell_type": "markdown",
   "metadata": {},
   "source": [
    "**taskloop reductions:**"
   ]
  },
  {
   "cell_type": "markdown",
   "metadata": {},
   "source": [
    "In the  _taskloop reductions_  section of the example below,   _taskloop 1_  uses the `reduction` clause  in a `taskloop` construct for a sum reduction, accumulated in  _asum_ .  The behavior is as though a `taskgroup` construct encloses the  taskloop region with a `task_reduction` clause, and each taskloop task has an `in_reduction` clause with the specifications  of the `reduction` clause. At the end of the taskloop region  _asum_  contains the result of the reduction."
   ]
  },
  {
   "cell_type": "markdown",
   "metadata": {},
   "source": [
    "The next taskloop,  _taskloop 2_ , illustrates the use of the  `in_reduction` clause to participate in a previously defined reduction scope of a `parallel` construct."
   ]
  },
  {
   "cell_type": "markdown",
   "metadata": {},
   "source": [
    "The task reductions of  _task 2_  and  _taskloop 2_  are combined across the `taskloop` construct and the single `task` construct, as specified in the `reduction(task,` `+:asum)` clause of the `parallel` construct. At the end of the parallel region  _asum_  contains the combined result of all reductions."
   ]
  },
  {
   "cell_type": "markdown",
   "metadata": {},
   "source": [
    "**taskloop simd reductions:**"
   ]
  },
  {
   "cell_type": "markdown",
   "metadata": {},
   "source": [
    "Reductions for the `taskloop` `simd` construct are shown in the second half of the code. Since each component construct, `taskloop` and `simd`,  can accept a reduction-type clause, the `taskloop` `simd` construct is a composite construct, and the specific application of the reduction clause is defined within the `taskloop` `simd` construct section of the OpenMP 5.0 Specification. The code below illustrates use cases for these reductions."
   ]
  },
  {
   "cell_type": "markdown",
   "metadata": {},
   "source": [
    "In the  _taskloop simd reduction_  section of the example below,  _taskloop simd 3_  uses the `reduction` clause  in a `taskloop` `simd` construct for a sum reduction within a loop. For this case a `reduction` clause is used, as one would use  for a `simd` construct. The SIMD reductions of each task are combined, and the results of these tasks are further  combined just as in the `taskloop` construct with the `reduction` clause for  _taskloop 1_ . At the end of the taskloop region  _asum_  contains the combined result of all reductions."
   ]
  },
  {
   "cell_type": "markdown",
   "metadata": {},
   "source": [
    "If a `taskloop` `simd` construct is to participate in a previously defined  reduction scope, the reduction participation should be specified with a `in_reduction` clause, as shown in the `parallel` region enclosing  _task 4_  and  _taskloop simd 4_  code sections."
   ]
  },
  {
   "cell_type": "markdown",
   "metadata": {},
   "source": [
    "Here the `taskloop` `simd` construct's  `in_reduction` clause specifies participation of the construct's tasks as  a task reduction within the scope of the parallel region.   That is, the results of each task of the `taskloop` construct component  contribute to the reduction in a broader level, just as in  _parallel reduction a_  code section above. Also, each `simd`-component construct occurs as if it has a `reduction` clause, and the SIMD results of each task are combined as though to form a single result for each task (that participates in the `in_reduction` clause). At the end of the parallel region  _asum_  contains the combined result of all reductions."
   ]
  },
  {
   "cell_type": "markdown",
   "metadata": {},
   "source": [
    ""
   ]
  },
  {
   "cell_type": "markdown",
   "metadata": {},
   "source": [
    ""
   ]
  },
  {
   "cell_type": "markdown",
   "metadata": {},
   "source": [
    ""
   ]
  },
  {
   "cell_type": "code",
   "execution_count": null,
   "metadata": {},
   "outputs": [],
   "source": [
    "//%compiler: clang\n",
 "//%cflags: -fopenmp\n",
 "\n",
    "/*\n",
    "* name: taskloop_simd_reduction.1c\n",
    "* type: C\n",
    "* version: omp_5.0\n",
    "*/\n",
    "\n",
    "#include <stdio.h>\n",
    "#define N 100\n",
    "\n",
    "int main(){\n",
    "  int i, a[N], asum=0;\n",
    "\n",
    "  for(i=0;i<N;i++) a[i]=i;\n",
    "\n",
    "// taskloop reductions\n",
    "\n",
    "  #pragma omp parallel master\n",
    "  #pragma omp taskloop reduction(+:asum)                //taskloop 1\n",
    "    for(i=0;i<N;i++){ asum += a[i]; }\n",
    "\n",
    "\n",
    "  #pragma omp parallel reduction(task, +:asum)          // parallel reduction a\n",
    "  {\n",
    "     #pragma omp master\n",
    "     #pragma omp task            in_reduction(+:asum)    //task 2\n",
    "       for(i=0;i<N;i++){ asum += a[i]; }\n",
    "\n",
    "     #pragma omp master taskloop in_reduction(+:asum)    //taskloop 2\n",
    "       for(i=0;i<N;i++){ asum += a[i]; }\n",
    "  }\n",
    "\n",
    "// taskloop simd reductions\n",
    "\n",
    "  #pragma omp parallel master\n",
    "  #pragma omp taskloop simd reduction(+:asum)            //taskloop simd 3\n",
    "    for(i=0;i<N;i++){ asum += a[i]; }\n",
    "\n",
    "\n",
    "  #pragma omp parallel reduction(task, +:asum)          // parallel reduction b\n",
    "  {\n",
    "     #pragma omp master\n",
    "     #pragma omp task                 in_reduction(+:asum) //task 4\n",
    "       for(i=0;i<N;i++){ asum += a[i]; }\n",
    "\n",
    "     #pragma omp master taskloop simd in_reduction(+:asum) //taskloop simd 4\n",
    "       for(i=0;i<N;i++){ asum += a[i]; }\n",
    "\n",
    "  }\n",
    "\n",
    "  printf(\"asum=%d \\n\",asum); // output: asum=29700\n",
    "}\n",
    "\n"
   ]
  },
  {
   "cell_type": "markdown",
   "metadata": {},
   "source": [
    ""
   ]
  },
  {
   "cell_type": "markdown",
   "metadata": {},
   "source": [
    ""
   ]
  },
  {
   "cell_type": "code",
   "execution_count": null,
   "metadata": {},
   "outputs": [],
   "source": [
    "\n",
    "! name: taskloop_simd_reduction.1f90\n",
    "! type:       F-free\n",
    "! version:    omp_5.0\n",
    "\n",
    "program main\n",
    "\n",
    "  use omp_lib\n",
    "  integer, parameter ::  N=100\n",
    "  integer            :: i, a(N), asum=0\n",
    "\n",
    "  a = [( i, i=1,N )]    !! initialize\n",
    "\n",
    "!! taskloop reductions\n",
    "\n",
    "  !$omp parallel master\n",
    "  !$omp taskloop reduction(+:asum)                     !! taskloop 1\n",
    "    do i=1,N;  asum = asum + a(i);  enddo\n",
    "  !$omp end taskloop\n",
    "  !$omp end parallel master\n",
    "\n",
    "\n",
    "  !$omp parallel reduction(task, +:asum)               !! parallel reduction a\n",
    "\n",
    "     !$omp master\n",
    "     !$omp task            in_reduction(+:asum)        !! task 2\n",
    "       do i=1,N;  asum = asum + a(i);  enddo\n",
    "     !$omp end task\n",
    "     !$omp end master\n",
    "\n",
    "     !$omp master taskloop in_reduction(+:asum)        !! taskloop 2\n",
    "       do i=1,N;  asum = asum + a(i);  enddo\n",
    "     !$omp end master taskloop\n",
    "\n",
    "  !$omp end parallel\n",
    "\n",
    "!! taskloop simd reductions\n",
    "\n",
    "  !$omp parallel master\n",
    "  !$omp taskloop simd reduction(+:asum)                !! taskloop simd 3\n",
    "    do i=1,N;  asum = asum + a(i);  enddo\n",
    "  !$omp end taskloop simd\n",
    "  !$omp end parallel master\n",
    "\n",
    "\n",
    "  !$omp parallel reduction(task, +:asum)               !! parallel reduction b\n",
    "\n",
    "    !$omp master\n",
    "    !$omp task                 in_reduction(+:asum)    !! task 4\n",
    "       do i=1,N;  asum = asum + a(i);  enddo\n",
    "    !$omp end task\n",
    "    !$omp end master\n",
    "\n",
    "    !$omp master taskloop simd in_reduction(+:asum)    !! taskloop simd 4\n",
    "       do i=1,N;  asum = asum + a(i);  enddo\n",
    "    !$omp end master taskloop simd\n",
    "\n",
    "  !$omp end parallel\n",
    "\n",
    "  print*,\"asum=\",asum   !! output: asum=30300\n",
    "\n",
    "end program\n",
    "\n"
   ]
  },
  {
   "cell_type": "markdown",
   "metadata": {},
   "source": [
    ""
   ]
  },
  {
   "cell_type": "markdown",
   "metadata": {},
   "source": [
    ""
   ]
  },
  {
   "cell_type": "markdown",
   "metadata": {},
   "source": [
    ""
   ]
  }
 ],
 "metadata": {
  "kernelspec": {
   "display_name": "Native",
   "language": "native",
   "name": "native"
  },
  "language_info": {
   "file_extension": ".c",
   "mimetype": "text/plain",
   "name": "none"
  }
 },
 "nbformat": 4,
 "nbformat_minor": 2
}