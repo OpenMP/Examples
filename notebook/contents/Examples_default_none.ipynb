{
 "cells": [
  {
   "cell_type": "markdown",
   "metadata": {},
   "source": [
    ""
   ]
  },
  {
   "cell_type": "markdown",
   "metadata": {},
   "source": [
    "## The `default(none)` Clause"
   ]
  },
  {
   "cell_type": "markdown",
   "metadata": {},
   "source": [
    ""
   ]
  },
  {
   "cell_type": "markdown",
   "metadata": {},
   "source": [
    "The following example distinguishes the variables that are affected by the `default(none)`  clause from those that are not."
   ]
  },
  {
   "cell_type": "markdown",
   "metadata": {},
   "source": [
    "Beginning with OpenMP 4.0, variables with `const`-qualified type and no mutable member  are no longer predetermined shared.  Thus, these variables (variable  _c_  in the example)  need to be explicitly listed in data-sharing attribute clauses when the `default(none)` clause is specified."
   ]
  },
  {
   "cell_type": "markdown",
   "metadata": {},
   "source": [
    ""
   ]
  },
  {
   "cell_type": "code",
   "execution_count": null,
   "metadata": {},
   "outputs": [],
   "source": [
    "//%compiler: clang\n",
 "//%cflags: -fopenmp\n",
 "\n",
    "/*\n",
    "* name: default_none.1c\n",
    "* type: C\n",
    "*/\n",
    "#include <omp.h>\n",
    "int x, y, z[1000];\n",
    "#pragma omp threadprivate(x)\n",
    "\n",
    "void default_none(int a) {\n",
    "  const int c = 1;\n",
    "  int i = 0;\n",
    "\n",
    "  #pragma omp parallel default(none) private(a) shared(z, c)\n",
    "  {\n",
    "     int j = omp_get_num_threads();\n",
    "          /* O.K.  - j is declared within parallel region */\n",
    "     a = z[j];   /* O.K.  - a is listed in private clause */\n",
    "                 /*       - z is listed in shared clause */\n",
    "     x = c;      /* O.K.  - x is threadprivate */\n",
    "                 /*       - c has const-qualified type and\n",
    "                              is listed in shared clause */\n",
    "     z[i] = y;   /* Error - cannot reference i or y here */\n",
    "\n",
    "  #pragma omp for firstprivate(y)\n",
    "         /* Error - Cannot reference y in the firstprivate clause */\n",
    "     for (i=0; i<10 ; i++) {\n",
    "        z[i] = i; /* O.K. - i is the loop iteration variable */\n",
    "     }\n",
    "\n",
    "     z[i] = y;   /* Error - cannot reference i or y here */\n",
    "  }\n",
    "}\n",
    "\n"
   ]
  },
  {
   "cell_type": "markdown",
   "metadata": {},
   "source": [
    ""
   ]
  },
  {
   "cell_type": "markdown",
   "metadata": {},
   "source": [
    ""
   ]
  },
  {
   "cell_type": "code",
   "execution_count": null,
   "metadata": {},
   "outputs": [],
   "source": [
    "\n",
    "! name: default_none.1f\n",
    "! type: F-fixed\n",
    "      SUBROUTINE DEFAULT_NONE(A)\n",
    "      INCLUDE \"omp_lib.h\"     ! or USE OMP_LIB\n",
    "\n",
    "      INTEGER A\n",
    "\n",
    "      INTEGER X, Y, Z(1000)\n",
    "      COMMON/BLOCKX/X\n",
    "      COMMON/BLOCKY/Y\n",
    "      COMMON/BLOCKZ/Z\n",
    "!$OMP THREADPRIVATE(/BLOCKX/)\n",
    "\n",
    "        INTEGER I, J\n",
    "        i = 1\n",
    "\n",
    "!$OMP   PARALLEL DEFAULT(NONE) PRIVATE(A) SHARED(Z) PRIVATE(J)\n",
    "          J = OMP_GET_NUM_THREADS();\n",
    "                   ! O.K.  - J is listed in PRIVATE clause\n",
    "          A = Z(J) ! O.K.  - A is listed in PRIVATE clause\n",
    "                   !       - Z is listed in SHARED clause\n",
    "          X = 1    ! O.K.  - X is THREADPRIVATE\n",
    "          Z(I) = Y ! Error - cannot reference I or Y here\n",
    "\n",
    "!$OMP DO firstprivate(y)\n",
    "    ! Error - Cannot reference y in the firstprivate clause\n",
    "          DO I = 1,10\n",
    "             Z(I) = I ! O.K. - I is the loop iteration variable\n",
    "          END DO\n",
    "\n",
    "\n",
    "          Z(I) = Y    ! Error - cannot reference I or Y here\n",
    "!$OMP   END PARALLEL\n",
    "      END SUBROUTINE DEFAULT_NONE\n",
    "\n"
   ]
  },
  {
   "cell_type": "markdown",
   "metadata": {},
   "source": [
    ""
   ]
  },
  {
   "cell_type": "markdown",
   "metadata": {},
   "source": [
    ""
   ]
  },
  {
   "cell_type": "markdown",
   "metadata": {},
   "source": [
    ""
   ]
  }
 ],
 "metadata": {
  "kernelspec": {
   "display_name": "Native",
   "language": "native",
   "name": "native"
  },
  "language_info": {
   "file_extension": ".c",
   "mimetype": "text/plain",
   "name": "none"
  }
 },
 "nbformat": 4,
 "nbformat_minor": 2
}