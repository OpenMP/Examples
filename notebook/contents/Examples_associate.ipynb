{
 "cells": [
  {
   "cell_type": "markdown",
   "metadata": {},
   "source": [
    ""
   ]
  },
  {
   "cell_type": "markdown",
   "metadata": {},
   "source": [
    "## Fortran `ASSOCIATE` Construct"
   ]
  },
  {
   "cell_type": "markdown",
   "metadata": {},
   "source": [
    ""
   ]
  },
  {
   "cell_type": "markdown",
   "metadata": {},
   "source": [
    "The following is an invalid example of specifying an associate name on a data-sharing attribute  clause. The constraint in the Data Sharing Attribute Rules section in the OpenMP  4.0 API Specifications states that an associate name preserves the association  with the selector established at the `ASSOCIATE` statement. The associate  name  _b_  is associated with the shared variable  _a_ . With the predetermined data-sharing  attribute rule, the associate name  _b_  is not allowed to be specified on the `private`  clause."
   ]
  },
  {
   "cell_type": "markdown",
   "metadata": {},
   "source": [
    ""
   ]
  },
  {
   "cell_type": "code",
   "execution_count": null,
   "metadata": {},
   "outputs": [],
   "source": [
    "\n",
    "! name: associate.1f\n",
    "! type: F-fixed\n",
    "! version: omp_4.0\n",
    "      program example_broken\n",
    "      real :: a, c\n",
    "      associate (b => a)\n",
    "!$omp parallel private(b, c)        ! invalid to privatize b\n",
    "      c = 2.0*b\n",
    "!$omp end parallel\n",
    "      end associate\n",
    "      end program\n",
    "\n"
   ]
  },
  {
   "cell_type": "markdown",
   "metadata": {},
   "source": [
    ""
   ]
  },
  {
   "cell_type": "markdown",
   "metadata": {},
   "source": [
    "In next example, within the `parallel` construct, the association name  _thread_id_   is associated with the private copy of  _i_ . The print statement should output the  unique thread number."
   ]
  },
  {
   "cell_type": "markdown",
   "metadata": {},
   "source": [
    ""
   ]
  },
  {
   "cell_type": "code",
   "execution_count": null,
   "metadata": {},
   "outputs": [],
   "source": [
    "\n",
    "! name: associate.2f\n",
    "! type: F-fixed\n",
    "! version: omp_4.0\n",
    "      program example\n",
    "      use omp_lib\n",
    "      integer  i\n",
    "!$omp parallel private(i)\n",
    "      i = omp_get_thread_num()\n",
    "      associate(thread_id => i)\n",
    "        print *, thread_id       ! print private i value\n",
    "      end associate\n",
    "!$omp end parallel\n",
    "      end program\n",
    "\n"
   ]
  },
  {
   "cell_type": "markdown",
   "metadata": {},
   "source": [
    ""
   ]
  },
  {
   "cell_type": "markdown",
   "metadata": {},
   "source": [
    "The following example illustrates the effect of specifying a selector name on a data-sharing  attribute clause. The associate name  _u_  is associated with  _v_  and the variable  _v_   is specified on the `private` clause of the `parallel` construct.  The construct association is established prior to the `parallel` region.  The association between  _u_  and the original  _v_  is retained (see the Data Sharing  Attribute Rules section in the OpenMP 4.0 API Specifications). Inside the `parallel`  region,  _v_  has the value of -1 and  _u_  has the value of the original  _v_ ."
   ]
  },
  {
   "cell_type": "markdown",
   "metadata": {},
   "source": [
    ""
   ]
  },
  {
   "cell_type": "code",
   "execution_count": null,
   "metadata": {},
   "outputs": [],
   "source": [
    "\n",
    "! name: associate.3f\n",
    "! type: F-free\n",
    "! version: omp_4.0\n",
    "program example\n",
    "  integer :: v\n",
    "  v = 15\n",
    "associate(u => v)\n",
    "!$omp parallel private(v)\n",
    "  v = -1\n",
    "  print *, v               ! private v=-1\n",
    "  print *, u               ! original v=15\n",
    "!$omp end parallel\n",
    "end associate\n",
    "end program\n",
    "\n"
   ]
  },
  {
   "cell_type": "markdown",
   "metadata": {},
   "source": [
    ""
   ]
  },
  {
   "cell_type": "markdown",
   "metadata": {},
   "source": [
    ""
   ]
  }
 ],
 "metadata": {
  "kernelspec": {
   "display_name": "Native",
   "language": "native",
   "name": "native"
  },
  "language_info": {
   "file_extension": ".c",
   "mimetype": "text/plain",
   "name": "none"
  }
 },
 "nbformat": 4,
 "nbformat_minor": 2
}