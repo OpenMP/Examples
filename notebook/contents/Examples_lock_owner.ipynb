{
 "cells": [
  {
   "cell_type": "markdown",
   "metadata": {},
   "source": [
    ""
   ]
  },
  {
   "cell_type": "markdown",
   "metadata": {},
   "source": [
    "### Ownership of Locks"
   ]
  },
  {
   "cell_type": "markdown",
   "metadata": {},
   "source": [
    ""
   ]
  },
  {
   "cell_type": "markdown",
   "metadata": {},
   "source": [
    "Ownership of locks has changed since OpenMP 2.5. In OpenMP 2.5, locks are owned  by threads; so a lock released by the `omp_unset_lock` routine must be  owned by the same thread executing the routine.  Beginning with OpenMP 3.0, locks are owned  by task regions; so a lock released by the `omp_unset_lock` routine in  a task region must be owned by the same task region."
   ]
  },
  {
   "cell_type": "markdown",
   "metadata": {},
   "source": [
    "This change in ownership requires extra care when using locks. The following program  is conforming in OpenMP 2.5 because the thread that releases the lock `lck`  in the parallel region is the same thread that acquired the lock in the sequential  part of the program (master thread of parallel region and the initial thread are  the same). However, it is not conforming beginning with OpenMP 3.0, because the task  region that releases the lock `lck` is different from the task region that  acquires the lock."
   ]
  },
  {
   "cell_type": "markdown",
   "metadata": {},
   "source": [
    ""
   ]
  },
  {
   "cell_type": "code",
   "execution_count": null,
   "metadata": {},
   "outputs": [],
   "source": [
    "//%compiler: clang\n",
 "//%cflags: -fopenmp\n",
 "\n",
    "/*\n",
    "* name: lock_owner.1c\n",
    "* type: C\n",
    "*/\n",
    "#include <stdlib.h>\n",
    "#include <stdio.h>\n",
    "#include <omp.h>\n",
    "\n",
    "int main()\n",
    "{\n",
    "  int x;\n",
    "  omp_lock_t lck;\n",
    "\n",
    "  omp_init_lock (&lck);\n",
    "  omp_set_lock (&lck);\n",
    "  x = 0;\n",
    "\n",
    "#pragma omp parallel shared (x)\n",
    "  {\n",
    "    #pragma omp master\n",
    "      {\n",
    "        x = x + 1;\n",
    "        omp_unset_lock (&lck);\n",
    "      }\n",
    "\n",
    "    /* Some more stuff. */\n",
    "  }\n",
    "  omp_destroy_lock (&lck);\n",
    "  return 0;\n",
    "}\n",
    "\n"
   ]
  },
  {
   "cell_type": "markdown",
   "metadata": {},
   "source": [
    ""
   ]
  },
  {
   "cell_type": "markdown",
   "metadata": {},
   "source": [
    ""
   ]
  },
  {
   "cell_type": "code",
   "execution_count": null,
   "metadata": {},
   "outputs": [],
   "source": [
    "\n",
    "! name: lock_owner.1f\n",
    "! type: F-fixed\n",
    "        program lock\n",
    "        use omp_lib\n",
    "        integer :: x\n",
    "        integer (kind=omp_lock_kind) :: lck\n",
    "\n",
    "        call omp_init_lock (lck)\n",
    "        call omp_set_lock(lck)\n",
    "        x = 0\n",
    "\n",
    "!$omp parallel shared (x)\n",
    "!$omp master\n",
    "        x = x + 1\n",
    "        call omp_unset_lock(lck)\n",
    "!$omp end master\n",
    "\n",
    "!       Some more stuff.\n",
    "!$omp end parallel\n",
    "\n",
    "        call omp_destroy_lock(lck)\n",
    "        end\n",
    "\n"
   ]
  },
  {
   "cell_type": "markdown",
   "metadata": {},
   "source": [
    ""
   ]
  },
  {
   "cell_type": "markdown",
   "metadata": {},
   "source": [
    ""
   ]
  },
  {
   "cell_type": "markdown",
   "metadata": {},
   "source": [
    ""
   ]
  }
 ],
 "metadata": {
  "kernelspec": {
   "display_name": "Native",
   "language": "native",
   "name": "native"
  },
  "language_info": {
   "file_extension": ".c",
   "mimetype": "text/plain",
   "name": "none"
  }
 },
 "nbformat": 4,
 "nbformat_minor": 2
}