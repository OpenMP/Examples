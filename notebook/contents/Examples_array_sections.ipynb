{
 "cells": [
  {
   "cell_type": "markdown",
   "metadata": {},
   "source": [
    ""
   ]
  },
  {
   "cell_type": "markdown",
   "metadata": {},
   "source": [
    "## Array Sections in Device Constructs"
   ]
  },
  {
   "cell_type": "markdown",
   "metadata": {},
   "source": [
    ""
   ]
  },
  {
   "cell_type": "markdown",
   "metadata": {},
   "source": [
    "The following examples show the usage of array sections in `map` clauses  on `target` and `target` `data` constructs."
   ]
  },
  {
   "cell_type": "markdown",
   "metadata": {},
   "source": [
    "This example shows the invalid usage of two separate sections of the same array  inside of a `target` construct."
   ]
  },
  {
   "cell_type": "markdown",
   "metadata": {},
   "source": [
    ""
   ]
  },
  {
   "cell_type": "code",
   "execution_count": null,
   "metadata": {},
   "outputs": [],
   "source": [
    "//%compiler: clang\n",
 "//%cflags: -fopenmp\n",
 "\n",
    "/*\n",
    "* name: array_sections.1c\n",
    "* type: C\n",
    "* version: omp_4.0\n",
    "*/\n",
    "void foo ()\n",
    "{\n",
    "   int A[30];\n",
    "#pragma omp target data map( A[0:4] )\n",
    "{\n",
    "   /* Cannot map distinct parts of the same array */\n",
    "   #pragma omp target map( A[7:20] )\n",
    "   {\n",
    "      A[2] = 0;\n",
    "   }\n",
    "}\n",
    "}\n",
    "\n"
   ]
  },
  {
   "cell_type": "markdown",
   "metadata": {},
   "source": [
    ""
   ]
  },
  {
   "cell_type": "markdown",
   "metadata": {},
   "source": [
    ""
   ]
  },
  {
   "cell_type": "code",
   "execution_count": null,
   "metadata": {},
   "outputs": [],
   "source": [
    "\n",
    "! name: array_sections.1f\n",
    "! type: F-free\n",
    "! version: omp_4.0\n",
    "subroutine foo()\n",
    "integer :: A(30)\n",
    "   A = 1\n",
    "   !$omp target data map( A(1:4) )\n",
    "     ! Cannot map distinct parts of the same array\n",
    "     !$omp target map( A(8:27) )\n",
    "        A(3) = 0\n",
    "     !$omp end target\n",
    "   !$omp end target data\n",
    "end subroutine\n",
    "\n"
   ]
  },
  {
   "cell_type": "markdown",
   "metadata": {},
   "source": [
    ""
   ]
  },
  {
   "cell_type": "markdown",
   "metadata": {},
   "source": [
    "This example shows the invalid usage of two separate sections of the same array  inside of a `target` construct."
   ]
  },
  {
   "cell_type": "markdown",
   "metadata": {},
   "source": [
    ""
   ]
  },
  {
   "cell_type": "code",
   "execution_count": null,
   "metadata": {},
   "outputs": [],
   "source": [
    "//%compiler: clang\n",
 "//%cflags: -fopenmp\n",
 "\n",
    "/*\n",
    "* name: array_sections.2c\n",
    "* type: C\n",
    "* version: omp_4.0\n",
    "*/\n",
    "void foo ()\n",
    "{\n",
    "   int A[30], *p;\n",
    "#pragma omp target data map( A[0:4] )\n",
    "{\n",
    "   p = &A[0];\n",
    "   /* invalid because p[3] and A[3] are the same\n",
    "    * location on the host but the array section\n",
    "    * specified via p[...] is not a subset of A[0:4] */\n",
    "   #pragma omp target map( p[3:20] )\n",
    "   {\n",
    "      A[2] = 0;\n",
    "      p[8] = 0;\n",
    "   }\n",
    "}\n",
    "}\n",
    "\n"
   ]
  },
  {
   "cell_type": "markdown",
   "metadata": {},
   "source": [
    ""
   ]
  },
  {
   "cell_type": "markdown",
   "metadata": {},
   "source": [
    ""
   ]
  },
  {
   "cell_type": "code",
   "execution_count": null,
   "metadata": {},
   "outputs": [],
   "source": [
    "\n",
    "! name: array_sections.2f\n",
    "! type: F-free\n",
    "! version: omp_4.0\n",
    "subroutine foo()\n",
    "integer,target  :: A(30)\n",
    "integer,pointer :: p(:)\n",
    "   A=1\n",
    "   !$omp target data map( A(1:4) )\n",
    "     p=>A\n",
    "     ! invalid because p(4) and A(4) are the same\n",
    "     ! location on the host but the array section\n",
    "     ! specified via p(...) is not a subset of A(1:4)\n",
    "     !$omp target map( p(4:23) )\n",
    "        A(3) = 0\n",
    "        p(9) = 0\n",
    "     !$omp end target\n",
    "   !$omp end target data\n",
    "end subroutine\n",
    "\n"
   ]
  },
  {
   "cell_type": "markdown",
   "metadata": {},
   "source": [
    ""
   ]
  },
  {
   "cell_type": "markdown",
   "metadata": {},
   "source": [
    "This example shows the valid usage of two separate sections of the same array inside  of a `target` construct."
   ]
  },
  {
   "cell_type": "markdown",
   "metadata": {},
   "source": [
    ""
   ]
  },
  {
   "cell_type": "code",
   "execution_count": null,
   "metadata": {},
   "outputs": [],
   "source": [
    "//%compiler: clang\n",
 "//%cflags: -fopenmp\n",
 "\n",
    "/*\n",
    "* name: array_sections.3c\n",
    "* type: C\n",
    "* version: omp_4.0\n",
    "*/\n",
    "void foo ()\n",
    "{\n",
    "   int A[30], *p;\n",
    "#pragma omp target data map( A[0:4] )\n",
    "{\n",
    "   p = &A[0];\n",
    "   #pragma omp target map( p[7:20] )\n",
    "   {\n",
    "      A[2] = 0;\n",
    "      p[8] = 0;\n",
    "   }\n",
    "}\n",
    "}\n",
    "\n"
   ]
  },
  {
   "cell_type": "markdown",
   "metadata": {},
   "source": [
    ""
   ]
  },
  {
   "cell_type": "markdown",
   "metadata": {},
   "source": [
    ""
   ]
  },
  {
   "cell_type": "code",
   "execution_count": null,
   "metadata": {},
   "outputs": [],
   "source": [
    "\n",
    "! name: array_sections.3f\n",
    "! type: F-free\n",
    "! version: omp_4.0\n",
    "subroutine foo()\n",
    "integer,target  :: A(30)\n",
    "integer,pointer :: p(:)\n",
    "   !$omp target data map( A(1:4) )\n",
    "     p=>A\n",
    "     !$omp target map( p(8:27) )\n",
    "        A(3) = 0\n",
    "        p(9) = 0\n",
    "     !$omp end target\n",
    "   !$omp end target data\n",
    "end subroutine\n",
    "\n"
   ]
  },
  {
   "cell_type": "markdown",
   "metadata": {},
   "source": [
    ""
   ]
  },
  {
   "cell_type": "markdown",
   "metadata": {},
   "source": [
    "This example shows the valid usage of a wholly contained array section of an already  mapped array section inside of a `target` construct."
   ]
  },
  {
   "cell_type": "markdown",
   "metadata": {},
   "source": [
    ""
   ]
  },
  {
   "cell_type": "code",
   "execution_count": null,
   "metadata": {},
   "outputs": [],
   "source": [
    "//%compiler: clang\n",
 "//%cflags: -fopenmp\n",
 "\n",
    "/*\n",
    "* name: array_sections.4c\n",
    "* type: C\n",
    "* version: omp_4.0\n",
    "*/\n",
    "void foo ()\n",
    "{\n",
    "   int A[30], *p;\n",
    "#pragma omp target data map( A[0:10] )\n",
    "{\n",
    "   p = &A[0];\n",
    "   #pragma omp target map( p[3:7] )\n",
    "   {\n",
    "      A[2] = 0;\n",
    "      p[8] = 0;\n",
    "      A[8] = 1;\n",
    "   }\n",
    "}\n",
    "}\n",
    "\n"
   ]
  },
  {
   "cell_type": "markdown",
   "metadata": {},
   "source": [
    ""
   ]
  },
  {
   "cell_type": "markdown",
   "metadata": {},
   "source": [
    ""
   ]
  },
  {
   "cell_type": "code",
   "execution_count": null,
   "metadata": {},
   "outputs": [],
   "source": [
    "\n",
    "! name: array_sections.4f\n",
    "! type: F-free\n",
    "! version: omp_4.0\n",
    "subroutine foo()\n",
    "integer,target  :: A(30)\n",
    "integer,pointer :: p(:)\n",
    "   !$omp target data map( A(1:10) )\n",
    "     p=>A\n",
    "     !$omp target map( p(4:10) )\n",
    "        A(3) = 0\n",
    "        p(9) = 0\n",
    "        A(9) = 1\n",
    "     !$omp end target\n",
    "   !$omp end target data\n",
    "end subroutine\n",
    "\n"
   ]
  },
  {
   "cell_type": "markdown",
   "metadata": {},
   "source": [
    ""
   ]
  },
  {
   "cell_type": "markdown",
   "metadata": {},
   "source": [
    ""
   ]
  }
 ],
 "metadata": {
  "kernelspec": {
   "display_name": "Native",
   "language": "native",
   "name": "native"
  },
  "language_info": {
   "file_extension": ".c",
   "mimetype": "text/plain",
   "name": "none"
  }
 },
 "nbformat": 4,
 "nbformat_minor": 2
}