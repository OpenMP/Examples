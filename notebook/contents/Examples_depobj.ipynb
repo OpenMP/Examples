{
 "cells": [
  {
   "cell_type": "markdown",
   "metadata": {},
   "source": [
    ""
   ]
  },
  {
   "cell_type": "markdown",
   "metadata": {},
   "source": [
    "## The `depobj` Construct"
   ]
  },
  {
   "cell_type": "markdown",
   "metadata": {},
   "source": [
    ""
   ]
  },
  {
   "cell_type": "markdown",
   "metadata": {},
   "source": [
    "The stand-alone `depobj` construct provides a mechanism  to create a  _depend object_  that expresses a dependence to be  used subsequently in the `depend` clause of another construct. The dependence is created from a dependence type and a storage location, within a `depend` clause of an `depobj` construct;  and it is stored in the depend object. The depend object is represented by a variable of type `omp_depend_t`  in C/C++ (by a scalar variable of integer kind `omp_depend_kind` in Fortran)."
   ]
  },
  {
   "cell_type": "markdown",
   "metadata": {},
   "source": [
    "In the example below the stand-alone `depobj` construct uses the  `depend`, `update` and `destroy` clauses to   _initialize_ ,  _update_  and  _uninitialize_  a depend object (`obj`)."
   ]
  },
  {
   "cell_type": "markdown",
   "metadata": {},
   "source": [
    "The first `depobj` construct initializes the `obj`  depend object with  an `inout` dependence type with a storage  location defined by variable `a`.   This dependence is passed into the  _driver_   routine via the `obj` depend object."
   ]
  },
  {
   "cell_type": "markdown",
   "metadata": {},
   "source": [
    "In the first  _driver_  routine call, **Task 1** uses the dependence of the object (`inout`),  while **Task 2** uses an `in` dependence specified  directly in a `depend` clause. For these task dependences **Task 1** must execute and  complete before **Task 2** begins."
   ]
  },
  {
   "cell_type": "markdown",
   "metadata": {},
   "source": [
    "Before the second call to  _driver_ , `obj` is updated  using the `depobj` construct to represent an `in` dependence.  Hence, in the second call to  _driver_ , **Task 1** will have an `in` dependence; and **Task 1** and  **Task 2** can execute simultaneously. Note: in an `update` clause, only the dependence type can be (is) updated."
   ]
  },
  {
   "cell_type": "markdown",
   "metadata": {},
   "source": [
    "The third `depobj` construct uses the `destroy` clause. It frees resources as it puts the depend object in an uninitialized state-- effectively destroying the depend object. After an object has been uninitialized it can be initialized again with a new dependence type **and** a new variable."
   ]
  },
  {
   "cell_type": "markdown",
   "metadata": {},
   "source": [
    ""
   ]
  },
  {
   "cell_type": "code",
   "execution_count": null,
   "metadata": {},
   "outputs": [],
   "source": [
    "//%compiler: clang\n",
 "//%cflags: -fopenmp\n",
 "\n",
    "/*\n",
    "* name:       depobj.1c\n",
    "* type:       C\n",
    "* version:    omp_5.0\n",
    "*/\n",
    "\n",
    "#include <stdio.h>\n",
    "#include <omp.h>\n",
    "\n",
    "#define N 100\n",
    "#define TRUE  1\n",
    "#define FALSE 0\n",
    "\n",
    "void driver(int update, float a[], float b[], int n, omp_depend_t *obj);\n",
    "\n",
    "void update_copy(int update, float a[], float b[], int n);\n",
    "void checkpoint(float a[],int n);\n",
    "void init(float a[], int n);\n",
    "\n",
    "\n",
    "int main(){\n",
    "\n",
    "   float a[N],b[N];\n",
    "   omp_depend_t obj;\n",
    "\n",
    "   init(a, N);\n",
    "\n",
    "   #pragma omp depobj(obj) depend(inout: a)\n",
    "\n",
    "   driver(TRUE,  a,b,N, &obj);  // updating a occurs\n",
    "\n",
    "   #pragma omp depobj(obj) update(in)\n",
    "\n",
    "   driver(FALSE, a,b,N, &obj);  // no updating of a\n",
    "\n",
    "   #pragma omp depobj(obj) destroy  // obj is set to uninitilized state,\n",
    "                                    // resources are freed\n",
    "   return 0;\n",
    "\n",
    "}\n",
    "\n",
    "void driver(int update, float a[], float b[], int n, omp_depend_t *obj)\n",
    "{\n",
    "   #pragma omp parallel num_threads(2)\n",
    "   #pragma omp single\n",
    "   {\n",
    "\n",
    "     #pragma omp task depend(depobj: *obj) // Task 1, uses depend object\n",
    "       update_copy(update, a,b,n);       // update a or not, always copy a to b\n",
    "\n",
    "     #pragma omp task depend(in: a[:n])    // Task 2, only read a\n",
    "       checkpoint(a,n);\n",
    "\n",
    "   }\n",
    "}\n",
    "\n",
    "void update_copy(int update, float a[], float b[], int n)\n",
    "{\n",
    "   if(update) for(int i=0;i<n;i++) a[i]+=1.0f;\n",
    "\n",
    "   for(int i=0;i<n;i++) b[i]=a[i];\n",
    "}\n",
    "\n",
    "void checkpoint(float a[], int n)\n",
    "{\n",
    "   for(int i=0;i<n;i++) printf(\" %f \",a[i]);\n",
    "   printf(\"\\n\");\n",
    "}\n",
    "\n",
    "void init(float a[], int n)\n",
    "{\n",
    "   for(int i=0;i<n;i++) a[i]=i;\n",
    "}\n",
    "\n",
    "\n"
   ]
  },
  {
   "cell_type": "markdown",
   "metadata": {},
   "source": [
    ""
   ]
  },
  {
   "cell_type": "markdown",
   "metadata": {},
   "source": [
    ""
   ]
  },
  {
   "cell_type": "code",
   "execution_count": null,
   "metadata": {},
   "outputs": [],
   "source": [
    "\n",
    "! name:       depobj.1f90\n",
    "! type:       F-free\n",
    "! version: omp_5.0\n",
    "\n",
    "program main\n",
    "    use omp_lib\n",
    "    implicit none\n",
    "\n",
    "    integer,parameter        :: N=100\n",
    "    real                     :: a(N),b(N)\n",
    "    integer(omp_depend_kind) :: obj\n",
    "\n",
    "    call init(a, N)\n",
    "\n",
    "    !$omp depobj(obj) depend(inout: a)\n",
    "\n",
    "    call driver(.true.,  a,b,N, obj)  !! updating occurs\n",
    "\n",
    "    !$omp depobj(obj) update(in)\n",
    "\n",
    "    call driver(.false., a,b,N, obj)  !! no updating\n",
    "\n",
    "    !$omp depobj(obj) destroy    !! obj is set to uninitilized state,\n",
    "                                 !! resources are freed\n",
    "\n",
    "end program\n",
    "\n",
    "subroutine driver(update, a, b, n, obj)\n",
    "   use omp_lib\n",
    "   implicit none\n",
    "   logical :: update\n",
    "   real    :: a(n), b(n)\n",
    "   integer :: n\n",
    "   integer(omp_depend_kind) :: obj\n",
    "\n",
    "   !$omp parallel num_threads(2)\n",
    "\n",
    "     !$omp single\n",
    "\n",
    "       !$omp task depend(depobj: obj)       !! Task 1, uses depend object\n",
    "         call update_copy(update, a,b,n)  !! update a or not, always copy a to b\n",
    "       !$omp end task\n",
    "\n",
    "       !$omp task depend(in: a)             !! Task 2, only read a\n",
    "         call checkpoint(a,n)\n",
    "       !$omp end task\n",
    "\n",
    "     !$omp end single\n",
    "\n",
    "   !$omp end parallel\n",
    "\n",
    "end subroutine\n",
    "\n",
    "subroutine update_copy(update, a, b, n)\n",
    "   implicit none\n",
    "   logical :: update\n",
    "   real    :: a(n), b(n)\n",
    "   integer :: n\n",
    "\n",
    "   if (update) a = a + 1.0\n",
    "\n",
    "   b = a\n",
    "\n",
    "end subroutine\n",
    "\n",
    "subroutine checkpoint( a, n)\n",
    "   implicit none\n",
    "   integer :: n\n",
    "   real    :: a(n)\n",
    "   integer :: i\n",
    "\n",
    "   write(*,'( *(f5.0) )') (a(i), i=1,n)\n",
    "end subroutine\n",
    "\n",
    "subroutine init(a,n)\n",
    "   implicit none\n",
    "   integer :: n\n",
    "   real    :: a(n)\n",
    "   integer :: i\n",
    "\n",
    "   a=[ (i, i=1,n) ]\n",
    "end subroutine\n",
    "\n"
   ]
  },
  {
   "cell_type": "markdown",
   "metadata": {},
   "source": [
    ""
   ]
  },
  {
   "cell_type": "markdown",
   "metadata": {},
   "source": [
    ""
   ]
  }
 ],
 "metadata": {
  "kernelspec": {
   "display_name": "Native",
   "language": "native",
   "name": "native"
  },
  "language_info": {
   "file_extension": ".c",
   "mimetype": "text/plain",
   "name": "none"
  }
 },
 "nbformat": 4,
 "nbformat_minor": 2
}