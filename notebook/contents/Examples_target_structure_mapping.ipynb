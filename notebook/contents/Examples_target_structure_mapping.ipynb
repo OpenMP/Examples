{
 "cells": [
  {
   "cell_type": "markdown",
   "metadata": {},
   "source": [
    ""
   ]
  },
  {
   "cell_type": "markdown",
   "metadata": {},
   "source": [
    "## Structure mapping"
   ]
  },
  {
   "cell_type": "markdown",
   "metadata": {},
   "source": [
    ""
   ]
  },
  {
   "cell_type": "markdown",
   "metadata": {},
   "source": [
    ""
   ]
  },
  {
   "cell_type": "markdown",
   "metadata": {},
   "source": [
    "In the example below, only structure elements  _S.a_ ,  _S.b_  and  _S.p_   of the  _S_  structure appear in `map` clauses of a `target` construct. Only these components have corresponding variables and storage on the device.   Hence, the large arrays,  _S.buffera_  and  _S.bufferb_ , and the  _S.x_  component have no storage  on the device and cannot be accessed."
   ]
  },
  {
   "cell_type": "markdown",
   "metadata": {},
   "source": [
    "Also, since the pointer member  _S.p_  is used in an array section of a  `map` clause, the array storage of the array section on the device,   _S.p[:N]_ , is **attached** to the pointer member  _S.p_  on the device. Explicitly mapping the pointer member  _S.p_  is optional in this case."
   ]
  },
  {
   "cell_type": "markdown",
   "metadata": {},
   "source": [
    "Note: The buffer arrays and the  _x_  variable have been grouped together, so that the components that will reside on the device are all together (without gaps). This allows the runtime to optimize the transfer and the storage footprint on the device."
   ]
  },
  {
   "cell_type": "markdown",
   "metadata": {},
   "source": [
    ""
   ]
  },
  {
   "cell_type": "code",
   "execution_count": null,
   "metadata": {},
   "outputs": [],
   "source": [
    "//%compiler: clang\n",
 "//%cflags: -fopenmp\n",
 "\n",
    "/*\n",
    "* name:       target_struct_map.1c\n",
    "* type:       C\n",
    "* version: omp_5.0\n",
    "*/\n",
    "#include <stdio.h>\n",
    "#include <stdlib.h>\n",
    "#define N 100\n",
    "#define BAZILLION 2000000\n",
    "\n",
    "struct foo {\n",
    "  char buffera[BAZILLION];\n",
    "  char bufferb[BAZILLION];\n",
    "  float x;\n",
    "  float a, b;\n",
    "  float *p;\n",
    "};\n",
    "\n",
    "#pragma omp declare target\n",
    "void saxpyfun(struct foo *S)\n",
    "{\n",
    "  int i;\n",
    "  for(i=0; i<N; i++)\n",
    "    S->p[i] = S->p[i]*S->a + S->b;\n",
    "}\n",
    "#pragma omp end declare target\n",
    "\n",
    "int main()\n",
    "{\n",
    "  struct foo S;\n",
    "  int i;\n",
    "\n",
    "  S.a = 2.0;\n",
    "  S.b = 4.0;\n",
    "  S.p = (float *)malloc(sizeof(float)*N);\n",
    "  for(i=0; i<N; i++) S.p[i] = i;\n",
    "\n",
    "  #pragma omp target map(alloc:S.p) map(S.p[:N]) map(to:S.a, S.b)\n",
    "  saxpyfun(&S);\n",
    "\n",
    "  printf(\" %4.0f %4.0f\\n\", S.p[0], S.p[N-1]);\n",
    "        //     4  202  <- output\n",
    "  return 0;\n",
    "}\n",
    "\n"
   ]
  },
  {
   "cell_type": "markdown",
   "metadata": {},
   "source": [
    ""
   ]
  },
  {
   "cell_type": "markdown",
   "metadata": {},
   "source": [
    ""
   ]
  },
  {
   "cell_type": "markdown",
   "metadata": {},
   "source": [
    "The following example is a slight modification of the above example for  a C++ class.  In the member function  _SAXPY::driver_   the array section  _p[:N]_  is **attached** to the pointer member  _p_  on the device."
   ]
  },
  {
   "cell_type": "markdown",
   "metadata": {},
   "source": [
    ""
   ]
  },
  {
   "cell_type": "code",
   "execution_count": null,
   "metadata": {},
   "outputs": [],
   "source": [
    "//%compiler: clang\n",
 "//%cflags: -fopenmp\n",
 "\n",
    "/*\n",
    "* name:       target_struct_map.2cpp\n",
    "* type:       C++\n",
    "* version: omp_5.0\n",
    "*/\n",
    "#include <cstdio>\n",
    "#include <cstdlib>\n",
    "#define N 100\n",
    "\n",
    "class SAXPY {\n",
    "  private:\n",
    "   float a, b, *p;\n",
    "  public:\n",
    "   float buffer[N];\n",
    "\n",
    "   SAXPY(float arg_a, float arg_b){ a=arg_a; b=arg_b; }\n",
    "   void driver();\n",
    "   void saxpyfun(float *p);\n",
    "};\n",
    "\n",
    "#pragma omp declare target\n",
    "void SAXPY::saxpyfun(float *q)\n",
    "{\n",
    "  for(int i=0; i<N; i++)\n",
    "    buffer[i] = q[i]*a + b;\n",
    "}\n",
    "#pragma omp end declare target\n",
    "\n",
    "void SAXPY::driver()\n",
    "{\n",
    "  p = (float *) malloc(N*sizeof(float));\n",
    "  for(int i=0; i<N; i++) p[i]=i;\n",
    "\n",
    "  #pragma omp target map(alloc:p) map(to:p[:N]) map(to:a,b) \\\n",
    "              map(from:buffer[:N])   // attach(p) to device_malloc()\n",
    "  {\n",
    "    saxpyfun(p);\n",
    "  }\n",
    "\n",
    "  free(p);\n",
    "}\n",
    "\n",
    "int main()\n",
    "{\n",
    "  SAXPY my_saxpy(2.0,4.0);\n",
    "\n",
    "  my_saxpy.driver();\n",
    "\n",
    "  printf(\" %4.0f %4.0f\\n\", my_saxpy.buffer[0], my_saxpy.buffer[N-1]);\n",
    "         //   4   202     <- output\n",
    "\n",
    "  return 0;\n",
    "}\n",
    "\n"
   ]
  },
  {
   "cell_type": "markdown",
   "metadata": {},
   "source": [
    ""
   ]
  },
  {
   "cell_type": "markdown",
   "metadata": {},
   "source": [
    ""
   ]
  },
  {
   "cell_type": "markdown",
   "metadata": {},
   "source": [
    ""
   ]
  }
 ],
 "metadata": {
  "kernelspec": {
   "display_name": "Native",
   "language": "native",
   "name": "native"
  },
  "language_info": {
   "file_extension": ".c",
   "mimetype": "text/plain",
   "name": "none"
  }
 },
 "nbformat": 4,
 "nbformat_minor": 2
}