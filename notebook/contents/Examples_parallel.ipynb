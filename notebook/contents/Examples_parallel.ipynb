{
 "cells": [
  {
   "cell_type": "markdown",
   "metadata": {},
   "source": [
    ""
   ]
  },
  {
   "cell_type": "markdown",
   "metadata": {},
   "source": [
    "## The `parallel` Construct"
   ]
  },
  {
   "cell_type": "markdown",
   "metadata": {},
   "source": [
    ""
   ]
  },
  {
   "cell_type": "markdown",
   "metadata": {},
   "source": [
    "The `parallel` construct  can be used in coarse-grain parallel programs.  In the following example, each thread in the `parallel` region decides what  part of the global array  _x_  to work on, based on the thread number:"
   ]
  },
  {
   "cell_type": "markdown",
   "metadata": {},
   "source": [
    ""
   ]
  },
  {
   "cell_type": "code",
   "execution_count": null,
   "metadata": {},
   "outputs": [],
   "source": [
    "//%compiler: clang\n",
 "//%cflags: -fopenmp\n",
 "\n",
    "/*\n",
    "* name: parallel.1c\n",
    "* type: C\n",
    "*/\n",
    "#include <omp.h>\n",
    "\n",
    "void subdomain(float *x, int istart, int ipoints)\n",
    "{\n",
    "  int i;\n",
    "\n",
    "  for (i = 0; i < ipoints; i++)\n",
    "      x[istart+i] = 123.456;\n",
    "}\n",
    "\n",
    "void sub(float *x, int npoints)\n",
    "{\n",
    "    int iam, nt, ipoints, istart;\n",
    "\n",
    "#pragma omp parallel default(shared) private(iam,nt,ipoints,istart)\n",
    "    {\n",
    "        iam = omp_get_thread_num();\n",
    "        nt =  omp_get_num_threads();\n",
    "        ipoints = npoints / nt;    /* size of partition */\n",
    "        istart = iam * ipoints;  /* starting array index */\n",
    "        if (iam == nt-1)     /* last thread may do more */\n",
    "          ipoints = npoints - istart;\n",
    "        subdomain(x, istart, ipoints);\n",
    "    }\n",
    "}\n",
    "\n",
    "int main()\n",
    "{\n",
    "    float array[10000];\n",
    "\n",
    "    sub(array, 10000);\n",
    "\n",
    "    return 0;\n",
    "}\n",
    "\n"
   ]
  },
  {
   "cell_type": "markdown",
   "metadata": {},
   "source": [
    ""
   ]
  },
  {
   "cell_type": "markdown",
   "metadata": {},
   "source": [
    ""
   ]
  },
  {
   "cell_type": "code",
   "execution_count": null,
   "metadata": {},
   "outputs": [],
   "source": [
    "\n",
    "! name: parallel.1f\n",
    "! type: F-fixed\n",
    "      SUBROUTINE SUBDOMAIN(X, ISTART, IPOINTS)\n",
    "          INTEGER ISTART, IPOINTS\n",
    "          REAL X(*)\n",
    "\n",
    "          INTEGER I\n",
    "\n",
    "          DO 100 I=1,IPOINTS\n",
    "             X(ISTART+I) = 123.456\n",
    " 100      CONTINUE\n",
    "\n",
    "      END SUBROUTINE SUBDOMAIN\n",
    "\n",
    "      SUBROUTINE SUB(X, NPOINTS)\n",
    "          INCLUDE \"omp_lib.h\"     ! or USE OMP_LIB\n",
    "\n",
    "          REAL X(*)\n",
    "          INTEGER NPOINTS\n",
    "          INTEGER IAM, NT, IPOINTS, ISTART\n",
    "\n",
    "!$OMP PARALLEL DEFAULT(PRIVATE) SHARED(X,NPOINTS)\n",
    "\n",
    "          IAM = OMP_GET_THREAD_NUM()\n",
    "          NT =  OMP_GET_NUM_THREADS()\n",
    "          IPOINTS = NPOINTS/NT\n",
    "          ISTART = IAM * IPOINTS\n",
    "          IF (IAM .EQ. NT-1) THEN\n",
    "              IPOINTS = NPOINTS - ISTART\n",
    "          ENDIF\n",
    "          CALL SUBDOMAIN(X,ISTART,IPOINTS)\n",
    "\n",
    "!$OMP END PARALLEL\n",
    "      END SUBROUTINE SUB\n",
    "\n",
    "      PROGRAM PAREXAMPLE\n",
    "          REAL ARRAY(10000)\n",
    "          CALL SUB(ARRAY, 10000)\n",
    "      END PROGRAM PAREXAMPLE\n",
    "\n"
   ]
  },
  {
   "cell_type": "markdown",
   "metadata": {},
   "source": [
    ""
   ]
  },
  {
   "cell_type": "markdown",
   "metadata": {},
   "source": [
    ""
   ]
  }
 ],
 "metadata": {
  "kernelspec": {
   "display_name": "Native",
   "language": "native",
   "name": "native"
  },
  "language_info": {
   "file_extension": ".c",
   "mimetype": "text/plain",
   "name": "none"
  }
 },
 "nbformat": 4,
 "nbformat_minor": 2
}