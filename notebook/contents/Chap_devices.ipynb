{
 "cells": [
  {
   "cell_type": "markdown",
   "metadata": {},
   "source": [
    ""
   ]
  },
  {
   "cell_type": "markdown",
   "metadata": {},
   "source": [
    "# Devices"
   ]
  },
  {
   "cell_type": "markdown",
   "metadata": {},
   "source": [
    "{devices}"
   ]
  },
  {
   "cell_type": "markdown",
   "metadata": {},
   "source": [
    "The `target` construct consists of a `target` directive  and an execution region. The `target` region is executed on the default device or the device specified in the `device`  clause."
   ]
  },
  {
   "cell_type": "markdown",
   "metadata": {},
   "source": [
    "In OpenMP version 4.0, by default, all variables within the lexical scope of the construct are copied  _to_  and  _from_  the device, unless the device is the host, or the data exists on the device from a previously executed data-type construct that has created space on the device and possibly copied host data to the device storage."
   ]
  },
  {
   "cell_type": "markdown",
   "metadata": {},
   "source": [
    "The constructs that explicitly create storage, transfer data, and free storage on the device are categorized as structured and unstructured. The `target` `data` construct is structured. It creates a data region around `target` constructs, and is convenient for providing persistent data throughout multiple `target` regions. The `target` `enter` `data` and  `target` `exit` `data` constructs are unstructured, because  they can occur anywhere and do not support a \"structure\"  (a region) for enclosing `target` constructs, as does the `target` `data` construct."
   ]
  },
  {
   "cell_type": "markdown",
   "metadata": {},
   "source": [
    "The `map` clause is used on `target`  constructs and the data-type constructs to map host data. It  specifies the device storage and data movement `to` and `from` the device, and controls on the storage duration."
   ]
  },
  {
   "cell_type": "markdown",
   "metadata": {},
   "source": [
    "There is an important change in the OpenMP 4.5 specification that alters the data model for scalar variables and C/C++ pointer variables. The default behavior for scalar variables and C/C++ pointer variables in a 4.5 compliant code is `firstprivate`. Example codes that have been updated to reflect this new behavior are annotated with a description that describes changes required for correct execution. Often it is a simple matter of mapping the variable as `tofrom` to obtain the intended 4.0 behavior."
   ]
  },
  {
   "cell_type": "markdown",
   "metadata": {},
   "source": [
    "In OpenMP version 4.5 the mechanism for target execution is specified as occurring through a  _target task_ .  When the `target` construct is encountered a new   _target task_  is generated. The  _target task_   completes after the `target` region has executed and all data  transfers have finished."
   ]
  },
  {
   "cell_type": "markdown",
   "metadata": {},
   "source": [
    "This new specification does not affect the execution of  pre-4.5 code; it is a necessary element for asynchronous  execution of the `target` region when using the new `nowait`  clause introduced in OpenMP 4.5."
   ]
  },
  {
   "cell_type": "markdown",
   "metadata": {},
   "source": [
    ""
   ]
  },
  {
   "cell_type": "markdown",
   "metadata": {},
   "source": [
    ""
   ]
  },
  {
   "cell_type": "markdown",
   "metadata": {},
   "source": [
    ""
   ]
  },
  {
   "cell_type": "markdown",
   "metadata": {},
   "source": [
    "## `target` Construct"
   ]
  },
  {
   "cell_type": "markdown",
   "metadata": {},
   "source": [
    ""
   ]
  },
  {
   "cell_type": "markdown",
   "metadata": {},
   "source": [
    ""
   ]
  },
  {
   "cell_type": "markdown",
   "metadata": {},
   "source": [
    "### `target` Construct on `parallel` Construct"
   ]
  },
  {
   "cell_type": "markdown",
   "metadata": {},
   "source": [
    "\index{constructs!target@`target`} \index{target construct@`target` construct} \index{target construct@`target` construct!implicit mapping}"
   ]
  },
  {
   "cell_type": "markdown",
   "metadata": {},
   "source": [
    "This following example shows how the `target` construct offloads a code  region to a target device. The variables  _p_ ,  _v1_ ,  _v2_ , and  _N_  are implicitly mapped  to the target device."
   ]
  },
  {
   "cell_type": "markdown",
   "metadata": {},
   "source": [
    ""
   ]
  },
  {
   "cell_type": "code",
   "execution_count": null,
   "metadata": {},
   "outputs": [],
   "source": [
    "//%compiler: clang\n",
 "//%cflags: -fopenmp\n",
 "\n",
    "/*\n",
    "* name: target.1\n",
    "* type: C\n",
    "* version: omp_4.0\n",
    "*/\n",
    "extern void init(float*, float*, int);\n",
    "extern void output(float*, int);\n",
    "void vec_mult(int N)\n",
    "{\n",
    "   int i;\n",
    "   float p[N], v1[N], v2[N];\n",
    "   init(v1, v2, N);\n",
    "   #pragma omp target\n",
    "   #pragma omp parallel for private(i)\n",
    "   for (i=0; i<N; i++)\n",
    "     p[i] = v1[i] * v2[i];\n",
    "   output(p, N);\n",
    "}\n",
    "\n"
   ]
  },
  {
   "cell_type": "markdown",
   "metadata": {},
   "source": [
    ""
   ]
  },
  {
   "cell_type": "markdown",
   "metadata": {},
   "source": [
    ""
   ]
  },
  {
   "cell_type": "code",
   "execution_count": null,
   "metadata": {},
   "outputs": [],
   "source": [
    "\n",
    "! name: target.1\n",
    "! type: F-free\n",
    "! version:    omp_4.0\n",
    "subroutine vec_mult(N)\n",
    "   integer ::  i,N\n",
    "   real    ::  p(N), v1(N), v2(N)\n",
    "   call init(v1, v2, N)\n",
    "   !$omp target\n",
    "   !$omp parallel do\n",
    "   do i=1,N\n",
    "      p(i) = v1(i) * v2(i)\n",
    "   end do\n",
    "   !$omp end target\n",
    "   call output(p, N)\n",
    "end subroutine\n",
    "\n"
   ]
  },
  {
   "cell_type": "markdown",
   "metadata": {},
   "source": [
    ""
   ]
  },
  {
   "cell_type": "markdown",
   "metadata": {},
   "source": [
    ""
   ]
  },
  {
   "cell_type": "markdown",
   "metadata": {},
   "source": [
    "### `target` Construct with `map` Clause"
   ]
  },
  {
   "cell_type": "markdown",
   "metadata": {},
   "source": [
    "\index{target construct@`target` construct!map clause@`map` clause} \index{clauses!map@`map`} \index{map clause@`map` clause}"
   ]
  },
  {
   "cell_type": "markdown",
   "metadata": {},
   "source": [
    "This following example shows how the `target` construct offloads a code  region to a target device. The variables  _p_ ,  _v1_  and  _v2_  are explicitly mapped to the  target device using the `map` clause. The variable  _N_  is implicitly mapped to  the target device."
   ]
  },
  {
   "cell_type": "markdown",
   "metadata": {},
   "source": [
    ""
   ]
  },
  {
   "cell_type": "code",
   "execution_count": null,
   "metadata": {},
   "outputs": [],
   "source": [
    "//%compiler: clang\n",
 "//%cflags: -fopenmp\n",
 "\n",
    "/*\n",
    "* name: target.2\n",
    "* type: C\n",
    "* version: omp_4.0\n",
    "*/\n",
    "extern void init(float*, float*, int);\n",
    "extern void output(float*, int);\n",
    "void vec_mult(int N)\n",
    "{\n",
    "   int i;\n",
    "   float p[N], v1[N], v2[N];\n",
    "   init(v1, v2, N);\n",
    "   #pragma omp target map(v1, v2, p)\n",
    "   #pragma omp parallel for\n",
    "   for (i=0; i<N; i++)\n",
    "     p[i] = v1[i] * v2[i];\n",
    "   output(p, N);\n",
    "}\n",
    "\n"
   ]
  },
  {
   "cell_type": "markdown",
   "metadata": {},
   "source": [
    ""
   ]
  },
  {
   "cell_type": "markdown",
   "metadata": {},
   "source": [
    ""
   ]
  },
  {
   "cell_type": "code",
   "execution_count": null,
   "metadata": {},
   "outputs": [],
   "source": [
    "\n",
    "! name: target.2\n",
    "! type: F-free\n",
    "! version:    omp_4.0\n",
    "subroutine vec_mult(N)\n",
    "   integer ::  i,N\n",
    "   real    ::  p(N), v1(N), v2(N)\n",
    "   call init(v1, v2, N)\n",
    "   !$omp target map(v1,v2,p)\n",
    "   !$omp parallel do\n",
    "   do i=1,N\n",
    "      p(i) = v1(i) * v2(i)\n",
    "   end do\n",
    "   !$omp end target\n",
    "   call output(p, N)\n",
    "end subroutine\n",
    "\n"
   ]
  },
  {
   "cell_type": "markdown",
   "metadata": {},
   "source": [
    ""
   ]
  },
  {
   "cell_type": "markdown",
   "metadata": {},
   "source": [
    ""
   ]
  },
  {
   "cell_type": "markdown",
   "metadata": {},
   "source": [
    "### `map` Clause with `to`/`from` map-types"
   ]
  },
  {
   "cell_type": "markdown",
   "metadata": {},
   "source": [
    "\index{map clause@`map` clause!to map-type@`to` map-type} \index{map clause@`map` clause!from map-type@`from` map-type}"
   ]
  },
  {
   "cell_type": "markdown",
   "metadata": {},
   "source": [
    "The following example shows how the `target` construct offloads a code region  to a target device. In the `map` clause, the `to` and `from`  map-types define the mapping between the original (host) data and the target (device)  data. The `to` map-type specifies that the data will only be read on the  device, and the `from` map-type specifies that the data will only be written  to on the device. By specifying a guaranteed access on the device, data transfers  can be reduced for the `target` region."
   ]
  },
  {
   "cell_type": "markdown",
   "metadata": {},
   "source": [
    "The `to` map-type indicates that at the start of the `target` region  the variables  _v1_  and  _v2_  are initialized with the values of the corresponding variables  on the host device, and at the end of the `target` region the variables   _v1_  and  _v2_  are not assigned to their corresponding variables on the host device."
   ]
  },
  {
   "cell_type": "markdown",
   "metadata": {},
   "source": [
    "The `from` map-type indicates that at the start of the `target` region  the variable  _p_  is not initialized with the value of the corresponding variable  on the host device, and at the end of the `target` region the variable  _p_   is assigned to the corresponding variable on the host device."
   ]
  },
  {
   "cell_type": "markdown",
   "metadata": {},
   "source": [
    ""
   ]
  },
  {
   "cell_type": "code",
   "execution_count": null,
   "metadata": {},
   "outputs": [],
   "source": [
    "//%compiler: clang\n",
 "//%cflags: -fopenmp\n",
 "\n",
    "/*\n",
    "* name: target.3\n",
    "* type: C\n",
    "* version: omp_4.0\n",
    "*/\n",
    "extern void init(float*, float*, int);\n",
    "extern void output(float*, int);\n",
    "void vec_mult(int N)\n",
    "{\n",
    "   int i;\n",
    "   float p[N], v1[N], v2[N];\n",
    "   init(v1, v2, N);\n",
    "   #pragma omp target map(to: v1, v2) map(from: p)\n",
    "   #pragma omp parallel for\n",
    "   for (i=0; i<N; i++)\n",
    "     p[i] = v1[i] * v2[i];\n",
    "   output(p, N);\n",
    "}\n",
    "\n"
   ]
  },
  {
   "cell_type": "markdown",
   "metadata": {},
   "source": [
    ""
   ]
  },
  {
   "cell_type": "markdown",
   "metadata": {},
   "source": [
    "The `to` and `from` map-types allow programmers to optimize data  motion. Since data for the  _v_  arrays are not returned, and data for the  _p_  array  are not transferred to the device, only one-half of the data is moved, compared  to the default behavior of an implicit mapping."
   ]
  },
  {
   "cell_type": "markdown",
   "metadata": {},
   "source": [
    ""
   ]
  },
  {
   "cell_type": "code",
   "execution_count": null,
   "metadata": {},
   "outputs": [],
   "source": [
    "\n",
    "! name: target.3\n",
    "! type: F-free\n",
    "! version:    omp_4.0\n",
    "subroutine vec_mult(N)\n",
    "   integer ::  i,N\n",
    "   real    ::  p(N), v1(N), v2(N)\n",
    "   call init(v1, v2, N)\n",
    "   !$omp target map(to: v1,v2) map(from: p)\n",
    "   !$omp parallel do\n",
    "   do i=1,N\n",
    "      p(i) = v1(i) * v2(i)\n",
    "   end do\n",
    "   !$omp end target\n",
    "   call output(p, N)\n",
    "end subroutine\n",
    "\n"
   ]
  },
  {
   "cell_type": "markdown",
   "metadata": {},
   "source": [
    ""
   ]
  },
  {
   "cell_type": "markdown",
   "metadata": {},
   "source": [
    ""
   ]
  },
  {
   "cell_type": "markdown",
   "metadata": {},
   "source": [
    "### `map` Clause with Array Sections"
   ]
  },
  {
   "cell_type": "markdown",
   "metadata": {},
   "source": [
    "\index{map clause@`map` clause!array sections in}"
   ]
  },
  {
   "cell_type": "markdown",
   "metadata": {},
   "source": [
    "The following example shows how the `target` construct offloads a code region  to a target device. In the `map` clause, map-types are used to optimize  the mapping of variables to the target device. Because variables  _p_ ,  _v1_  and  _v2_  are  pointers, array section notation must be used to map the arrays. The notation `:N`  is equivalent to `0:N`."
   ]
  },
  {
   "cell_type": "markdown",
   "metadata": {},
   "source": [
    ""
   ]
  },
  {
   "cell_type": "code",
   "execution_count": null,
   "metadata": {},
   "outputs": [],
   "source": [
    "//%compiler: clang\n",
 "//%cflags: -fopenmp\n",
 "\n",
    "/*\n",
    "* name: target.4\n",
    "* type: C\n",
    "* version: omp_4.0\n",
    "*/\n",
    "extern void init(float*, float*, int);\n",
    "extern void output(float*, int);\n",
    "void vec_mult(float *p, float *v1, float *v2, int N)\n",
    "{\n",
    "   int i;\n",
    "   init(v1, v2, N);\n",
    "   #pragma omp target map(to: v1[0:N], v2[:N]) map(from: p[0:N])\n",
    "   #pragma omp parallel for\n",
    "   for (i=0; i<N; i++)\n",
    "     p[i] = v1[i] * v2[i];\n",
    "   output(p, N);\n",
    "}\n",
    "\n"
   ]
  },
  {
   "cell_type": "markdown",
   "metadata": {},
   "source": [
    ""
   ]
  },
  {
   "cell_type": "markdown",
   "metadata": {},
   "source": [
    "In C, the length of the pointed-to array must be specified. In Fortran the extent  of the array is known and the length need not be specified. A section of the array  can be specified with the usual Fortran syntax, as shown in the following example.  The value 1 is assumed for the lower bound for array section  _v2(:N)_ ."
   ]
  },
  {
   "cell_type": "markdown",
   "metadata": {},
   "source": [
    ""
   ]
  },
  {
   "cell_type": "code",
   "execution_count": null,
   "metadata": {},
   "outputs": [],
   "source": [
    "\n",
    "! name: target.4\n",
    "! type: F-free\n",
    "! version:    omp_4.0\n",
    "module mults\n",
    "contains\n",
    "subroutine vec_mult(p,v1,v2,N)\n",
    "   real,pointer,dimension(:) :: p, v1, v2\n",
    "   integer                   :: N,i\n",
    "   call init(v1, v2, N)\n",
    "   !$omp target map(to: v1(1:N), v2(:N)) map(from: p(1:N))\n",
    "   !$omp parallel do\n",
    "   do i=1,N\n",
    "      p(i) = v1(i) * v2(i)\n",
    "   end do\n",
    "   !$omp end target\n",
    "   call output(p, N)\n",
    "end subroutine\n",
    "end module\n",
    "\n"
   ]
  },
  {
   "cell_type": "markdown",
   "metadata": {},
   "source": [
    ""
   ]
  },
  {
   "cell_type": "markdown",
   "metadata": {},
   "source": [
    "A more realistic situation in which an assumed-size array is passed to `vec_mult`  requires that the length of the arrays be specified, because the compiler does  not know the size of the storage. A section of the array must be specified with  the usual Fortran syntax, as shown in the following example. The value 1 is assumed  for the lower bound for array section  _v2(:N)_ ."
   ]
  },
  {
   "cell_type": "markdown",
   "metadata": {},
   "source": [
    ""
   ]
  },
  {
   "cell_type": "code",
   "execution_count": null,
   "metadata": {},
   "outputs": [],
   "source": [
    "\n",
    "! name: target.4b\n",
    "! type: F-free\n",
    "! version:    omp_4.0\n",
    "module mults\n",
    "contains\n",
    "subroutine vec_mult(p,v1,v2,N)\n",
    "   real,dimension(*) :: p, v1, v2\n",
    "   integer           :: N,i\n",
    "   call init(v1, v2, N)\n",
    "   !$omp target map(to: v1(1:N), v2(:N)) map(from: p(1:N))\n",
    "   !$omp parallel do\n",
    "   do i=1,N\n",
    "      p(i) = v1(i) * v2(i)\n",
    "   end do\n",
    "   !$omp end target\n",
    "   call output(p, N)\n",
    "end subroutine\n",
    "end module\n",
    "\n"
   ]
  },
  {
   "cell_type": "markdown",
   "metadata": {},
   "source": [
    ""
   ]
  },
  {
   "cell_type": "markdown",
   "metadata": {},
   "source": [
    ""
   ]
  },
  {
   "cell_type": "markdown",
   "metadata": {},
   "source": [
    "### `target` Construct with `if` Clause"
   ]
  },
  {
   "cell_type": "markdown",
   "metadata": {},
   "source": [
    "\index{target construct@`target` construct!if clause@`if` clause} \index{clauses!if@`if`} \index{if clause@`if` clause}"
   ]
  },
  {
   "cell_type": "markdown",
   "metadata": {},
   "source": [
    "The following example shows how the `target` construct offloads a code region  to a target device."
   ]
  },
  {
   "cell_type": "markdown",
   "metadata": {},
   "source": [
    "The `if` clause on the `target` construct indicates that if the variable   _N_  is smaller than a given threshold, then the `target` region will be executed  by the host device."
   ]
  },
  {
   "cell_type": "markdown",
   "metadata": {},
   "source": [
    "The `if` clause on the `parallel` construct indicates that if the  variable  _N_  is smaller than a second threshold then the `parallel` region  is inactive."
   ]
  },
  {
   "cell_type": "markdown",
   "metadata": {},
   "source": [
    ""
   ]
  },
  {
   "cell_type": "code",
   "execution_count": null,
   "metadata": {},
   "outputs": [],
   "source": [
    "//%compiler: clang\n",
 "//%cflags: -fopenmp\n",
 "\n",
    "/*\n",
    "* name: target.5\n",
    "* type: C\n",
    "* version: omp_4.0\n",
    "*/\n",
    "#define THRESHOLD1 1000000\n",
    "#define THRESHOLD2 1000\n",
    "\n",
    "extern void init(float*, float*, int);\n",
    "extern void output(float*, int);\n",
    "\n",
    "void vec_mult(float *p, float *v1, float *v2, int N)\n",
    "{\n",
    "   int i;\n",
    "\n",
    "   init(v1, v2, N);\n",
    "\n",
    "   #pragma omp target if(N>THRESHOLD1) map(to: v1[0:N], v2[:N])\\\n",
    " map(from: p[0:N])\n",
    "   #pragma omp parallel for if(N>THRESHOLD2)\n",
    "   for (i=0; i<N; i++)\n",
    "     p[i] = v1[i] * v2[i];\n",
    "\n",
    "   output(p, N);\n",
    "}\n",
    "\n"
   ]
  },
  {
   "cell_type": "markdown",
   "metadata": {},
   "source": [
    ""
   ]
  },
  {
   "cell_type": "markdown",
   "metadata": {},
   "source": [
    ""
   ]
  },
  {
   "cell_type": "code",
   "execution_count": null,
   "metadata": {},
   "outputs": [],
   "source": [
    "\n",
    "! name: target.5\n",
    "! type: F-free\n",
    "! version:    omp_4.0\n",
    "module params\n",
    "integer,parameter :: THRESHOLD1=1000000, THRESHHOLD2=1000\n",
    "end module\n",
    "\n",
    "subroutine vec_mult(p, v1, v2, N)\n",
    "   use params\n",
    "   real    ::  p(N), v1(N), v2(N)\n",
    "   integer ::  i\n",
    "\n",
    "   call init(v1, v2, N)\n",
    "\n",
    "   !$omp target if(N>THRESHHOLD1) map(to: v1, v2 ) map(from: p)\n",
    "      !$omp parallel do if(N>THRESHOLD2)\n",
    "      do i=1,N\n",
    "  p(i) = v1(i) * v2(i)\n",
    "      end do\n",
    "   !$omp end target\n",
    "\n",
    "   call output(p, N)\n",
    "end subroutine\n",
    "\n"
   ]
  },
  {
   "cell_type": "markdown",
   "metadata": {},
   "source": [
    ""
   ]
  },
  {
   "cell_type": "markdown",
   "metadata": {},
   "source": [
    "The following example is a modification of the above  _target.5_  code to show the combined `target` and parallel loop directives. It uses the  _directive-name_  modifier in multiple `if` clauses to specify the component directive to which it applies."
   ]
  },
  {
   "cell_type": "markdown",
   "metadata": {},
   "source": [
    "The `if` clause with the `target` modifier applies to the `target` component of the  combined directive, and the `if` clause with the `parallel` modifier applies  to the `parallel` component of the combined directive."
   ]
  },
  {
   "cell_type": "markdown",
   "metadata": {},
   "source": [
    ""
   ]
  },
  {
   "cell_type": "code",
   "execution_count": null,
   "metadata": {},
   "outputs": [],
   "source": [
    "//%compiler: clang\n",
 "//%cflags: -fopenmp\n",
 "\n",
    "/*\n",
    "* name: target.6\n",
    "* type: C\n",
    "* version: omp_4.5\n",
    "*/\n",
    "#define THRESHOLD1 1000000\n",
    "#define THRESHOLD2 1000\n",
    "\n",
    "extern void init(float*, float*, int);\n",
    "extern void output(float*, int);\n",
    "\n",
    "void vec_mult(float *p, float *v1, float *v2, int N)\n",
    "{\n",
    "   int i;\n",
    "\n",
    "   init(v1, v2, N);\n",
    "\n",
    "   #pragma omp target parallel for \\\n",
    "        if(target: N>THRESHOLD1) if(parallel: N>THRESHOLD2) \\\n",
    "        map(to: v1[0:N], v2[:N]) map(from: p[0:N])\n",
    "   for (i=0; i<N; i++)\n",
    "     p[i] = v1[i] * v2[i];\n",
    "\n",
    "   output(p, N);\n",
    "}\n",
    "\n"
   ]
  },
  {
   "cell_type": "markdown",
   "metadata": {},
   "source": [
    ""
   ]
  },
  {
   "cell_type": "markdown",
   "metadata": {},
   "source": [
    ""
   ]
  },
  {
   "cell_type": "code",
   "execution_count": null,
   "metadata": {},
   "outputs": [],
   "source": [
    "\n",
    "! name: target.6\n",
    "! type: F-free\n",
    "! version:    omp_4.5\n",
    "module params\n",
    "integer,parameter :: THRESHOLD1=1000000, THRESHHOLD2=1000\n",
    "end module\n",
    "\n",
    "subroutine vec_mult(p, v1, v2, N)\n",
    "   use params\n",
    "   real    ::  p(N), v1(N), v2(N)\n",
    "   integer ::  i\n",
    "\n",
    "   call init(v1, v2, N)\n",
    "\n",
    "   !$omp target parallel do  &\n",
    "   !$omp&   if(target: N>THRESHHOLD1) if(parallel: N>THRESHOLD2) &\n",
    "   !$omp&   map(to: v1, v2 ) map(from: p)\n",
    "      do i=1,N\n",
    "  p(i) = v1(i) * v2(i)\n",
    "      end do\n",
    "   !$omp end target parallel do\n",
    "\n",
    "   call output(p, N)\n",
    "end subroutine\n",
    "\n"
   ]
  },
  {
   "cell_type": "markdown",
   "metadata": {},
   "source": [
    ""
   ]
  },
  {
   "cell_type": "markdown",
   "metadata": {},
   "source": [
    ""
   ]
  },
  {
   "cell_type": "markdown",
   "metadata": {},
   "source": [
    "### Target Reverse Offload"
   ]
  },
  {
   "cell_type": "markdown",
   "metadata": {},
   "source": [
    "\index{target reverse offload!reverse_offload clause@\scode{reverse_offload} clause} \index{target reverse offload!requires directive@`requires` directive} \index{requires directive@`requires` directive!reverse_offload clause@\scode{reverse_offload} clause} \index{directives!requires@`requires`} \index{clauses!reverse_offload@\scode{reverse_offload}} \index{reverse_offload clause@\scode{reverse_offload} clause} \index{target construct@`target` construct!device clause@`device` clause} \index{clauses!device@`device`} \index{device clause@`device` clause!ancestor modifier@`ancestor` modifier} \index{ancestor modifier@`ancestor` modifier} \index{declare target directive@`declare` `target` directive!device_type clause@\scode{device_type} clause} \index{clauses!device_type@\scode{device_type}} \index{device_type clause@\scode{device_type} clause} \index{clauses!enter@`enter`} \index{enter clause@`enter` clause}"
   ]
  },
  {
   "cell_type": "markdown",
   "metadata": {},
   "source": [
    "\index{directives!declare target@`declare` `target`} \index{declare target directive@`declare` `target` directive}"
   ]
  },
  {
   "cell_type": "markdown",
   "metadata": {},
   "source": [
    "Beginning with OpenMP 5.0, implementations are allowed to offload back to the host (reverse offload)."
   ]
  },
  {
   "cell_type": "markdown",
   "metadata": {},
   "source": [
    "In the example below the  _error_handler_  function is executed back on the host, if an erroneous value is detected in the  _A_  array on the device."
   ]
  },
  {
   "cell_type": "markdown",
   "metadata": {},
   "source": [
    "This is accomplished by specifying the  _device-modifier_  `ancestor` modifier, along with a device number of `1`, to indicate that the execution is to be performed on the immediate parent ( _1st ancestor_ )-- the host."
   ]
  },
  {
   "cell_type": "markdown",
   "metadata": {},
   "source": [
    "The `requires` directive (another 5.0 feature) uses the `reverse_offload` clause to guarantee that the reverse offload is implemented."
   ]
  },
  {
   "cell_type": "markdown",
   "metadata": {},
   "source": [
    "Note that the `declare` `target` directive uses the `device_type` clause (another 5.0 feature) to specify that the  _error_handler_  function is compiled to execute on the  _host_  only. This ensures that no attempt will be made to create a device version of the function.  This feature may be necessary if the function exists in another compile unit."
   ]
  },
  {
   "cell_type": "markdown",
   "metadata": {},
   "source": [
    ""
   ]
  },
  {
   "cell_type": "markdown",
   "metadata": {},
   "source": [
    ""
   ]
  },
  {
   "cell_type": "code",
   "execution_count": null,
   "metadata": {},
   "outputs": [],
   "source": [
    "//%compiler: clang\n",
 "//%cflags: -fopenmp\n",
 "\n",
    "/*\n",
    "* name: target_reverse_offload.7\n",
    "* type: C\n",
    "* version: omp_5.2\n",
    "*/\n",
    "\n",
    "#include <stdio.h>\n",
    "#include <stdlib.h>\n",
    "\n",
    "#define N 100\n",
    "\n",
    "#pragma omp requires reverse_offload\n",
    "\n",
    "void error_handler(int wrong_value, int index)\n",
    "{\n",
    "   printf(\" Error in offload: A[%d]=%d\\n\", index,wrong_value);\n",
    "   printf(\"        Expecting: A[i ]=i\\n\");\n",
    "   exit(1);\n",
    "// output:  Error in offload: A[99]=-1\n",
    "//                 Expecting: A[i ]=i\n",
    "\n",
    "}\n",
    "#pragma omp declare target device_type(host) enter(error_handler)\n",
    "\n",
    "int main()\n",
    "{\n",
    "   int A[N];\n",
    "\n",
    "   for (int i=0; i<N; i++) A[i] = i;\n",
    "\n",
    "   A[N-1]=-1;\n",
    "\n",
    "   #pragma omp target map(A)\n",
    "   {\n",
    "      for (int i=0; i<N; i++)\n",
    "      {\n",
    "         if (A[i] != i)\n",
    "         {\n",
    "            #pragma omp target device(ancestor: 1) map(always,to: A[i:1])\n",
    "               error_handler(A[i], i);\n",
    "         }\n",
    "      }\n",
    "   }\n",
    "   return 0;\n",
    "}\n",
    "\n"
   ]
  },
  {
   "cell_type": "markdown",
   "metadata": {},
   "source": [
    ""
   ]
  },
  {
   "cell_type": "markdown",
   "metadata": {},
   "source": [
    ""
   ]
  },
  {
   "cell_type": "code",
   "execution_count": null,
   "metadata": {},
   "outputs": [],
   "source": [
    "\n",
    "! name:       target_reverse_offload.7\n",
    "! type:       F-free\n",
    "! version:    omp_5.0\n",
    "\n",
    "!$omp requires reverse_offload\n",
    "\n",
    "subroutine error_handler(wrong_value, index)\n",
    "  integer :: wrong_value,index\n",
    "  !$omp declare target device_type(host)\n",
    "\n",
    "   write( *,'(\"Error in offload: A(\",i3,\")=\",i3)' ) index,wrong_value\n",
    "   write( *,'(\"       Expecting: A(  i)=  i\")'    )\n",
    "   stop\n",
    "     !!output: Error in offload: A( 99)= -1\n",
    "     !!               Expecting: A(  i)=  i\n",
    "end subroutine\n",
    "\n",
    "program rev_off\n",
    "  use omp_lib\n",
    "  integer, parameter :: N=100\n",
    "  integer            :: A(N) = (/ (i, i=1,100) /)\n",
    "\n",
    "   A(N-1)=-1\n",
    "\n",
    "   !$omp target map(A)\n",
    "      do i=1,N\n",
    "         if (A(i) /= i)  then\n",
    "           !$omp target device(ancestor: 1) map(always,to :A(i))\n",
    "               call error_handler(A(i), i)\n",
    "           !$omp end target\n",
    "         endif\n",
    "      end do\n",
    "   !$omp end target\n",
    "\n",
    "end program\n",
    "\n"
   ]
  },
  {
   "cell_type": "markdown",
   "metadata": {},
   "source": [
    "../../devices/target.tex"
   ]
  },
  {
   "cell_type": "markdown",
   "metadata": {},
   "source": [
    ""
   ]
  },
  {
   "cell_type": "markdown",
   "metadata": {},
   "source": [
    "## `defaultmap` Clause"
   ]
  },
  {
   "cell_type": "markdown",
   "metadata": {},
   "source": [
    "\index{target construct@`target` construct!defaultmap clause@`defaultmap` clause} \index{clauses!defaultmap@`defaultmap`} \index{defaultmap clause@`defaultmap` clause} \index{defaultmap clause@`defaultmap` clause!implicit behavior} \index{defaultmap clause@`defaultmap` clause!variable category}"
   ]
  },
  {
   "cell_type": "markdown",
   "metadata": {},
   "source": [
    "The implicitly-determined, data-mapping and data-sharing attribute rules of variables referenced in a `target` construct can be changed by the `defaultmap` clause introduced in OpenMP 5.0. The implicit behavior is specified as `alloc`, `to`, `from`, `tofrom`, `firstprivate`, `none`, `default` or `present`, and is applied to a variable-category, where `scalar`, `aggregate`, `allocatable`, and `pointer` are the variable categories."
   ]
  },
  {
   "cell_type": "markdown",
   "metadata": {},
   "source": [
    "In OpenMP, a \"category'' has a common data-mapping and data-sharing  behavior for variable types within the category. In C/C++, `scalar` refers to base-language scalar variables, except pointers. In Fortran it refers to a scalar variable, as defined by the base language,  with intrinsic type, and excludes character type."
   ]
  },
  {
   "cell_type": "markdown",
   "metadata": {},
   "source": [
    "Also, `aggregate` refers to arrays and structures (C/C++) and derived types (Fortran). Fortran has the additional category of `allocatable`."
   ]
  },
  {
   "cell_type": "markdown",
   "metadata": {},
   "source": [
    "In the example below, the first `target` construct uses  `defaultmap` clauses to set data-mapping and possibly data-sharing attributes that reproduce  the default implicit mapping (data-mapping and data-sharing attributes).  That is,  if the `defaultmap` clauses were removed, the results would be identical."
   ]
  },
  {
   "cell_type": "markdown",
   "metadata": {},
   "source": [
    "In the second `target` construct all implicit behavior is removed by specifying the `none` implicit behavior in the `defaultmap` clause. Hence, all variables must be explicitly mapped.   In the C/C++ code a scalar ( **s** ), an array ( **A** ) and a structure  ( **S** ) are explicitly mapped `tofrom`.   The Fortran code uses a derived type ( **D** ) in lieu of structure."
   ]
  },
  {
   "cell_type": "markdown",
   "metadata": {},
   "source": [
    "The third `target` construct shows another usual case for using the `defaultmap` clause. The default mapping for (non-pointer) scalar variables is specified as `tofrom`. Here, the default implicit mapping for  **s3**  is `tofrom` as specified  in the `defaultmap` clause, and  **s1**  and  **s2**  are explicitly  mapped with the `firstprivate` data-sharing attribute."
   ]
  },
  {
   "cell_type": "markdown",
   "metadata": {},
   "source": [
    "In the fourth `target` construct all arrays, structures (C/C++) and derived  types (Fortran) are mapped with `firstprivate` data-sharing behavior by a  `defaultmap` clause with an `aggregate` variable category. For the  **H**  allocated array in the Fortran code, the `allocable`  category must be used in a separate `defaultmap` clause to acquire  `firsprivate` data-sharing behavior ( **H**  has the Fortran allocatable attribute)."
   ]
  },
  {
   "cell_type": "markdown",
   "metadata": {},
   "source": [
    ""
   ]
  },
  {
   "cell_type": "code",
   "execution_count": null,
   "metadata": {},
   "outputs": [],
   "source": [
    "//%compiler: clang\n",
 "//%cflags: -fopenmp\n",
 "\n",
    "/*\n",
    "* name:       target_defaultmap.1\n",
    "* type:       C\n",
    "* version: omp_5.0\n",
    "*/\n",
    "#include <stdlib.h>\n",
    "#include <stdio.h>\n",
    "#define N 2\n",
    "\n",
    "int main(){\n",
    "  typedef struct S_struct { int s; int A[N]; } S_struct_t;\n",
    "\n",
    "\n",
    "  int         s;       //scalar int variable (scalar)\n",
    "  int         A[N];    //aggregate variable  (array)\n",
    "  S_struct_t  S;       //aggregate variable  (structure)\n",
    "  int         *ptr;    //scalar, pointer variable (pointer)\n",
    "\n",
    "  int         s1, s2, s3;\n",
    "\n",
    "// Initialize everything to zero;\n",
    "   s=2; s1=s2=s3=0;\n",
    "   A[0]=0; A[1]=0;\n",
    "   S.s=0; S.A[0]=0; S.A[1]=0;\n",
    "\n",
    "// Target Region 1\n",
    "                   // Uses defaultmap to set scalars, aggregates &\n",
    "                   // pointers to normal defaults.\n",
    "    #pragma omp target \\\n",
    "            defaultmap(firstprivate: scalar)   //could also be default \\\n",
    "            defaultmap(tofrom:       aggregate)//could also be default \\\n",
    "            defaultmap(default:      pointer)  //must be default       \\\n",
    "            map(ptr2m[:N])\n",
    "    {\n",
    "        s       = 3;            //SCALAR firstprivate, value not returned\n",
    "\n",
    "        A[0]    = 3;  A[1] = 3; //AGGREGATE array, default map tofrom\n",
    "\n",
    "                                //AGGREGATE structure, default tofrom\n",
    "        S.s     = 2;\n",
    "        S.A[0]  = 2;  S.A[1] = 2;\n",
    "\n",
    "        ptr = &A[0];            //POINTER is private\n",
    "        ptr[0] = 2;   ptr[1] = 2;\n",
    "\n",
    "    }\n",
    "   if(s==2 && A[0]==2 && S.s==2 && S.A[0]==2)\n",
    "      printf(\" PASSED 1 of 4\\n\");\n",
    "\n",
    "\n",
    "// Target Region 2\n",
    "                   // no implicit mapping allowed.\n",
    "    #pragma omp target defaultmap(none) map(tofrom: s, A, S)\n",
    "    {\n",
    "        s     +=5;           // All variables must be explicitly mapped\n",
    "        A[0]  +=5; A[1]+=5;\n",
    "        S.s   +=5;\n",
    "        S.A[0]+=5; S.A[1]+=5;\n",
    "    }\n",
    "    if(s==7 && A[0]==7 && S.s==7 && S.A[0]==7)\n",
    "        printf(\" PASSED 2 of 4\\n\");\n",
    "\n",
    "\n",
    "// Target Region 3\n",
    "            // defaultmap & explicit map with variables in same category\n",
    "    s1=s2=s3=1;\n",
    "    #pragma  omp defaultmap(tofrom: scalar) map(firstprivate: s1,s2)\n",
    "    {\n",
    "        s1 += 5;         // firstprivate (s1 value not returned to host)\n",
    "        s2 += 5;         // firstprivate (s2 value not returned to host)\n",
    "        s3 += s1 + s2;   // mapped as tofrom\n",
    "    }\n",
    "    if(s1==1 && s2==1 && s3==13 ) printf(\" PASSED 3 of 4\\n\");\n",
    "\n",
    "\n",
    "// Target Region 4\n",
    "    A[0]=0; A[1]=0;\n",
    "    S.A[0]=0; S.A[1]=0;\n",
    "\n",
    "    // arrays and structure are firstprivate, and scalars are from\n",
    "    #pragma omp target defaultmap(firstprivate: aggregate) \\\n",
    "                       map(from: s1, s2)\n",
    "    {\n",
    "\n",
    "        A[0]+=1; S.A[0]+=1; //Aggregate changes not returned to host\n",
    "        A[1]+=1; S.A[1]+=1; //Aggregate changes not returned to host\n",
    "        s1 = A[0]+S.A[0]; //s1 value returned to host\n",
    "        s2 = A[1]+S.A[1]; //s1 value returned to host\n",
    "    }\n",
    "    if( A[0]==0 && S.A[0]==0 && s1==2 ) printf(\" PASSED 4 of 4\\n\");\n",
    "\n",
    "}\n",
    "\n"
   ]
  },
  {
   "cell_type": "markdown",
   "metadata": {},
   "source": [
    ""
   ]
  },
  {
   "cell_type": "markdown",
   "metadata": {},
   "source": [
    ""
   ]
  },
  {
   "cell_type": "code",
   "execution_count": null,
   "metadata": {},
   "outputs": [],
   "source": [
    "\n",
    "! name:       target_defaultmap.1\n",
    "! type:       F-free\n",
    "! version:    omp_5.0\n",
    "program defaultmap\n",
    "  integer, parameter :: N=2\n",
    "\n",
    "  type DDT_sA\n",
    "    integer  :: s\n",
    "    integer  :: A(N)\n",
    "  end type\n",
    "\n",
    "  integer             :: s,s1,s2,s3 !! SCALAR: variable (integer)\n",
    "\n",
    "  integer,target      :: A(N)       !! AGGREGATE: Array\n",
    "  type(DDT_sA)        :: D          !! AGGREGATE: Derived Data Type (D)\n",
    "\n",
    "  integer,allocatable :: H(:)       !! ALLOCATABLE: Heap allocated array\n",
    "\n",
    "  integer,pointer     :: ptrA(:)    !! POINTER: points to Array\n",
    "\n",
    "  ! Assign vaues to scalar, Array, Allocatable, and Pointers\n",
    "\n",
    "    s=2;\n",
    "    s1=0;   s2=0;     s3=0\n",
    "    D%s=0;  D%A(1)=0; D%A(2)=0\n",
    "    A(1)=0; A(2)=0\n",
    "\n",
    "    allocate( H(2) )\n",
    "    H(1)=0; H(2)=0\n",
    "\n",
    "!! Target Region 1\n",
    "                   !! Using defaultmap to set scalars, aggregates &\n",
    "                   !! pointers and allocatables to normal defaults.\n",
    "    !$omp target                                        &\n",
    "    !$omp&       defaultmap( firstprivate: scalar)      &\n",
    "    !$omp&       defaultmap( tofrom:       aggregate)   &\n",
    "    !$omp&       defaultmap( tofrom:       allocatable) &\n",
    "    !$omp&       defaultmap( default:      pointer)\n",
    "\n",
    "        s = 3                     !! SCALAR firstprivate, val not returned\n",
    "\n",
    "        A(1) = 3                  !! AGGREGATE array, default map tofrom\n",
    "        A(2) = 3\n",
    "\n",
    "        D%s = 2                   !! AGGR. Derived Type, default map tofrom\n",
    "        D%A(1) = 2;  D%A(2) = 2\n",
    "\n",
    "        H(1) = 2;    H(2) = 2     !! ALLOCATABLE, default map tofrom\n",
    "\n",
    "        ptrA=>A                   !! POINTER is private\n",
    "        ptrA(1) = 2; ptrA(2) = 2\n",
    "\n",
    "    !$omp end target\n",
    "\n",
    "    if(s==2 .and. A(1)==2 .and. D%s==2 .and. D%A(1)==2 .and. H(1) == 2) &\n",
    "       print*,\" PASSED 1 of 4\"\n",
    "\n",
    "!! Target Region 2\n",
    "                   !! no implicit mapping allowed\n",
    "    !$omp target defaultmap(none) map(tofrom: s, A, D)\n",
    "\n",
    "        s=s+5                 !! All variables must be explicitly mapped\n",
    "        A(1)=A(1)+5;       A(2)=A(2)+5\n",
    "        D%s=D%s+5\n",
    "        D%A(1)=D%A(1)+5; D%A(2)=D%A(2)+5\n",
    "\n",
    "    !$omp end target\n",
    "    if(s==7 .and. A(1)==7 .and. D%s==7 .and. D%A(1)==7) &\n",
    "        print*,\" PASSED 2 of 4\"\n",
    "\n",
    "!! Target Region 3\n",
    "                !!defaultmap & explicit map with variables in same category\n",
    "    s1=1; s2=1; s3=1\n",
    "    !$omp defaultmap(tofrom: scalar) map(firstprivate: s1,s2)\n",
    "\n",
    "        s1 = s1+5;          !! firstprivate (s1 value not returned to host)\n",
    "        s2 = s2+5;          !! firstprivate (s2 value not returned to host)\n",
    "        s3 = s3 +s1 + s2;   !! mapped as tofrom\n",
    "\n",
    "    !$omp end target\n",
    "    if(s1==1 .and. s2==1 .and. s3==13) print*,\" PASSED 3 of 4\"\n",
    "\n",
    "!! Target Region 4\n",
    "    A(1)=0;   A(2)=0\n",
    "    D%A(1)=0; D%A(2)=0\n",
    "    H(1)=0;   H(2)=0\n",
    "              !! non-allocated arrays & derived types are in AGGREGATE cat.\n",
    "              !! Allocatable Arrays are in ALLOCATABLE category\n",
    "              !! Scalars are explicitly mapped from\n",
    "    !$omp target defaultmap(firstprivate: aggregate )  &\n",
    "    !$omp&       defaultmap(firstprivate: allocatable) &\n",
    "    !$omp&       map(from: s1, s2)\n",
    "\n",
    "        A(1)=A(1)+1; D%A(1)=D%A(1)+1; H(1)=H(1)+1 !! changes to A, D%A, H\n",
    "        A(2)=A(2)+1; D%A(2)=D%A(2)+1; H(2)=H(2)+1 !!   not returned to host\n",
    "        s1 = A(1)+D%A(1)+H(1)                     !! s1 returned to host\n",
    "        s2 = A(2)+D%A(2)+H(1)                     !! s2 returned to host\n",
    "\n",
    "    !$omp end target\n",
    "    if(A(1)==0 .and. D%A(1)==0 .and. H(1)==0 .and. s1==3) &\n",
    "       print*,\" PASSED 4 of 4\"\n",
    "\n",
    "    deallocate(H)\n",
    "\n",
    "end program\n",
    "\n"
   ]
  },
  {
   "cell_type": "markdown",
   "metadata": {},
   "source": [
    "../../devices/target_defaultmap.tex"
   ]
  },
  {
   "cell_type": "markdown",
   "metadata": {},
   "source": [
    ""
   ]
  },
  {
   "cell_type": "markdown",
   "metadata": {},
   "source": [
    "## Pointer Mapping"
   ]
  },
  {
   "cell_type": "markdown",
   "metadata": {},
   "source": [
    "\index{mapping!pointer} \index{mapping!pointer attachment} \index{pointer attachment}"
   ]
  },
  {
   "cell_type": "markdown",
   "metadata": {},
   "source": [
    "Pointers that contain host addresses require that those addresses are translated to device addresses for them to be useful in the context of a device data environment. Broadly speaking, there are two scenarios where this is important."
   ]
  },
  {
   "cell_type": "markdown",
   "metadata": {},
   "source": [
    "The first scenario is where the pointer is mapped to the device data environment, such that references to the pointer inside a `target` region are to the corresponding pointer. Pointer attachment ensures that the corresponding pointer will contain a device address when all of the following conditions are true:"
   ]
  },
  {
   "cell_type": "markdown",
   "metadata": {},
   "source": [
    "*  the pointer is mapped by directive  A  to a device;"
   ]
  },
  {
   "cell_type": "markdown",
   "metadata": {},
   "source": [
    "*  a list item that uses the pointer as its base pointer (call it the **pointee**) is mapped, to the same device, by directive  B , which may be the same as  A ;"
   ]
  },
  {
   "cell_type": "markdown",
   "metadata": {},
   "source": [
    "*  the effect of directive  B  is to create either the corresponding pointer or pointee in the device data environment of the device."
   ]
  },
  {
   "cell_type": "markdown",
   "metadata": {},
   "source": [
    "Given the above conditions, pointer attachment is initiated as a result of directive  B  and subsequent references to the pointee list item in a target region that use the pointer will access the corresponding pointee. The corresponding pointer remains in this **attached** state until it is removed from the device data environment."
   ]
  },
  {
   "cell_type": "markdown",
   "metadata": {},
   "source": [
    "The second scenario, which is only applicable for C/C++, is where the pointer is implicitly privatized inside a `target` construct when it appears as the base pointer to a list item on the construct and does not appear explicitly as a list item in a `map` clause, `is_device_ptr` clause, or data-sharing attribute clause. This scenario can be further split into two cases: the list item is a zero-length array section (e.g.,  _p[:0]_ ) or it is not."
   ]
  },
  {
   "cell_type": "markdown",
   "metadata": {},
   "source": [
    "If it is a zero-length array section, this will trigger a runtime check on entry to the `target` region for a previously mapped list item where the value of the pointer falls within the range of its base address and ending address. If such a match is found the private pointer is initialized to the device address corresponding to the value of the original pointer, and otherwise it is initialized to NULL (or retains its original value if the `unified_address` requirement is specified for that compilation unit)."
   ]
  },
  {
   "cell_type": "markdown",
   "metadata": {},
   "source": [
    "If the list item (again, call it the **pointee**) is not a zero-length array section, the private pointer will be initialized such that references in the `target` region to the pointee list item that use the pointer will access the corresponding pointee."
   ]
  },
  {
   "cell_type": "markdown",
   "metadata": {},
   "source": [
    "The following example shows the basics of mapping pointers with and without associated storage on the host."
   ]
  },
  {
   "cell_type": "markdown",
   "metadata": {},
   "source": [
    "Storage for pointers  _ptr1_  and  _ptr2_  is created on the host.  To map storage that is associated with a pointer on the host, the data can be explicitly mapped as an array section so that the compiler knows  the amount of data to be assigned in the device (to the \"corresponding\" data storage area). On the `target` construct array sections are mapped; however, the pointer  _ptr1_  is mapped, while  _ptr2_  is not. Since  _ptr2_  is not explicitly mapped, it is firstprivate.  This creates a subtle difference in the way these pointers can be used."
   ]
  },
  {
   "cell_type": "markdown",
   "metadata": {},
   "source": [
    "As a firstprivate pointer,  _ptr2_  can be manipulated on the device; however, as an explicitly mapped pointer,   _ptr1_  becomes an **attached** pointer and cannot be manipulated. In both cases the host pointer is not updated with the device pointer  address---as one would expect for distributed memory.  The storage data on the host is updated from the corresponding device data at the end of the `target` region."
   ]
  },
  {
   "cell_type": "markdown",
   "metadata": {},
   "source": [
    "As a comparison, note that the  _aray_  array is automatically mapped,  since the compiler knows the extent of the array."
   ]
  },
  {
   "cell_type": "markdown",
   "metadata": {},
   "source": [
    "The pointer  _ptr3_  is used inside the `target` construct, but it does not appear in a data-mapping or data-sharing clause. Nor is there a `defaultmap` clause on the construct to indicate what its implicit data-mapping or data-sharing attribute should be. For such a case,  _ptr3_  will be implicitly privatized within the construct and there will be a runtime check to see if the host memory to which it is pointing has corresponding memory in the device data environment. If this runtime check passes, the private  _ptr3_  would be initialized to point to the corresponding memory. But in this case the check does not pass and so it is initialized to null. Since  _ptr3_  is private, the value to which it is assigned in the `target` region is not returned into the original  _ptr3_  on the host."
   ]
  },
  {
   "cell_type": "markdown",
   "metadata": {},
   "source": [
    ""
   ]
  },
  {
   "cell_type": "code",
   "execution_count": null,
   "metadata": {},
   "outputs": [],
   "source": [
    "//%compiler: clang\n",
 "//%cflags: -fopenmp\n",
 "\n",
    "/*\n",
    "* name:       target_ptr_map.1\n",
    "* type:       C\n",
    "* version: omp_5.0\n",
    "*/\n",
    "#include <stdio.h>\n",
    "#include <stdlib.h>\n",
    "#define N 100\n",
    "\n",
    "int main()\n",
    "{\n",
    "  int *ptr1;\n",
    "  int *ptr2;\n",
    "  int *ptr3;\n",
    "  int aray[N];\n",
    "\n",
    "  ptr1 = (int *)malloc(sizeof(int)*N);\n",
    "  ptr2 = (int *)malloc(sizeof(int)*N);\n",
    "\n",
    "  #pragma omp target map(ptr1, ptr1[:N]) map(ptr2[:N] )\n",
    "  {\n",
    "     for (int i=0; i<N; i++)\n",
    "     {\n",
    "         ptr1[i] = i;\n",
    "         ptr2[i] = i;\n",
    "         aray[i] = i;\n",
    "     }\n",
    "\n",
    "   //*(++ptr1) = 9;  //NOT ALLOWED since ptr1 is an attached pointer\n",
    "     *(++ptr2) = 9;  //    allowed since ptr2 is firstprivate\n",
    "\n",
    "     ptr3=(int *)malloc(sizeof(int)*N); // ptr3 is firstprivate\n",
    "                                        // ptr3 value not returned\n",
    "     for (int i=0; i<N; i++) ptr3[i] = 5;\n",
    "\n",
    "     for (int i=0; i<N; i++) ptr1[i] += ptr3[i];\n",
    "\n",
    "     free(ptr3);     // explicitly free allocated storage on device\n",
    "   }\n",
    "\n",
    "   printf(\" %d %d\\n\",ptr1[1],ptr2[1]);\n",
    "   //        6  9\n",
    "\n",
    "   free(ptr1);\n",
    "   free(ptr2);\n",
    "   return 0;\n",
    "}\n",
    "\n"
   ]
  },
  {
   "cell_type": "markdown",
   "metadata": {},
   "source": [
    ""
   ]
  },
  {
   "cell_type": "markdown",
   "metadata": {},
   "source": [
    "\index{directives!begin declare target@`begin` `declare` `target`} \index{begin declare target directive@`begin` `declare` `target` directive}"
   ]
  },
  {
   "cell_type": "markdown",
   "metadata": {},
   "source": [
    "In the following example the global pointer  _p_  appears in a declare target directive.  Hence, the pointer  _p_  will  persist on the device throughout executions in all `target` regions."
   ]
  },
  {
   "cell_type": "markdown",
   "metadata": {},
   "source": [
    "The pointer is also used in an array section of a `map` clause on  a `target` construct.  When the pointer of storage associated with  a declare target directive is mapped, as for the array section  _p[:N]_  in the `target` construct, the array section on the device is **attached** to the device pointer  _p_  on entry to the construct, and the value of the device pointer  _p_  becomes undefined on exit.  (Of course, storage allocation for the array section on the device will occur before the  pointer on the device is **attached**.)"
   ]
  },
  {
   "cell_type": "markdown",
   "metadata": {},
   "source": [
    ""
   ]
  },
  {
   "cell_type": "code",
   "execution_count": null,
   "metadata": {},
   "outputs": [],
   "source": [
    "//%compiler: clang\n",
 "//%cflags: -fopenmp\n",
 "\n",
    "/*\n",
    "* name:       target_ptr_map.2\n",
    "* type:       C\n",
    "* version: omp_5.1\n",
    "*/\n",
    "#include <stdio.h>\n",
    "#include <stdlib.h>\n",
    "#define N 100\n",
    "\n",
    "#pragma omp begin declare target\n",
    "  int *p;\n",
    "  extern void use_arg_p(int *p, int n);\n",
    "  extern void use_global_p(     int n);\n",
    "#pragma omp end declare target\n",
    "\n",
    "int main()\n",
    "{\n",
    "  int i;\n",
    "  p = (int *)malloc(sizeof(int)*N);\n",
    "\n",
    "  #pragma omp target map(p[:N])  // device p attached to array section\n",
    "  {\n",
    "    for (i=0; i<N; i++) p[i] = i;\n",
    "    use_arg_p(p, N);\n",
    "    use_global_p(N);\n",
    "  }                              // value of host p is preserved\n",
    "\n",
    "  printf(\" %3.3d %3.3d\\n\", p[1], p[N-1]);\n",
    "         // 003   297   <- output\n",
    "\n",
    "  free(p);\n",
    "  return 0;\n",
    "}\n",
    "\n",
    "// A #pragma omp begin declare target is optional here\n",
    "// because of prototype spec\n",
    "void use_arg_p(int *q, int n)\n",
    "{\n",
    "  int i;\n",
    "  for (i=0; i<n; i++)\n",
    "    q[i] *= 2;\n",
    "}\n",
    "\n",
    "void use_global_p(int n)\n",
    "{\n",
    "  int i;\n",
    "  for (i=0; i<n; i++)\n",
    "    p[i] += i;   // valid since p is in declare target and called from\n",
    "                 // inside target region where p was attached to\n",
    "                 // valid memory\n",
    "}\n",
    "// A #pragma omp end declare target is optional here\n",
    "// because of prototype spec\n",
    "\n"
   ]
  },
  {
   "cell_type": "markdown",
   "metadata": {},
   "source": [
    ""
   ]
  },
  {
   "cell_type": "markdown",
   "metadata": {},
   "source": [
    "\index{directives!begin declare target@`begin` `declare` `target`} \index{begin declare target directive@`begin` `declare` `target` directive}"
   ]
  },
  {
   "cell_type": "markdown",
   "metadata": {},
   "source": [
    "The following two examples illustrate subtle differences in pointer attachment to device address because of the order of data mapping."
   ]
  },
  {
   "cell_type": "markdown",
   "metadata": {},
   "source": [
    "In example  _target_ptr_map.3a_   the global pointer  _p1_  points to array  _x_  and  _p2_  points to array  _y_  on the host. The array section  _x[:N]_  is mapped by the `target` `enter` `data` directive while array  _y_  is mapped on the `target` construct.  Since the `begin` `declare` `target` directive is applied to the declaration of  _p1_ ,  _p1_  is a treated like a mapped variable on the `target` construct and references to  _p1_  inside the construct will be to the corresponding  _p1_  that exists on the device.  However, the corresponding  _p1_  will be undefined since there is no pointer attachment for it. Pointer attachment for  _p1_  would require that (1)  _p1_  (or an lvalue expression that refers to the same storage as  _p1_ ) appears as a base pointer to a list item in a `map` clause, and (2) the construct that has the `map` clause causes the list item to transition from **not mapped** to **mapped**. The conditions are clearly not satisfied for this example."
   ]
  },
  {
   "cell_type": "markdown",
   "metadata": {},
   "source": [
    "The problem for  _p2_  in this example is also subtle. It will be privatized inside the `target` construct, with a runtime check for whether the memory to which it is pointing has corresponding memory that is accessible on the device. If this check is successful, then the  _p2_  inside the construct would be appropriately initialized to point to that corresponding memory. Unfortunately, despite there being an implicit map of the array  _y_  (to which  _p2_  is pointing) on the construct, the order of this map relative to the initialization of  _p2_  is unspecified. Therefore, the initial value of  _p2_  will also be undefined."
   ]
  },
  {
   "cell_type": "markdown",
   "metadata": {},
   "source": [
    "Thus, referencing values via either  _p1_  or  _p2_  inside the `target` region would be invalid."
   ]
  },
  {
   "cell_type": "markdown",
   "metadata": {},
   "source": [
    ""
   ]
  },
  {
   "cell_type": "code",
   "execution_count": null,
   "metadata": {},
   "outputs": [],
   "source": [
    "//%compiler: clang\n",
 "//%cflags: -fopenmp\n",
 "\n",
    "/*\n",
    "* name:       target_ptr_map.3a\n",
    "* type:       C\n",
    "* version: omp_5.1\n",
    "*/\n",
    "#define N 100\n",
    "\n",
    "int x[N], y[N];\n",
    "#pragma omp begin declare target\n",
    "int *p1;\n",
    "#pragma omp end declare target\n",
    "int *p2;\n",
    "\n",
    "int foo()\n",
    "{\n",
    "  p1 = &x[0];\n",
    "  p2 = &y[0];\n",
    "\n",
    "  // Explicitly map array section x[:N]\n",
    "  #pragma omp target enter data map(x[:N])\n",
    "\n",
    "  #pragma omp target  // as if .. map(p1) map(p1[:0]) map(p2[:0]) map(y)\n",
    "  {\n",
    "    // Accessing the mapped arrays x,y is OK here.\n",
    "    x[0] = 1;\n",
    "    y[1] = 2;\n",
    "\n",
    "    // Pointer attachment for p1 does not occur here\n",
    "    //   because p1[:0] does not allocate a new array section and\n",
    "    //   array x is present on the target construct as it was mapped\n",
    "    //   before by the target enter data directive.\n",
    "    p1[0] = 3;      // accessing p1 is undefined\n",
    "\n",
    "    // The initial value of p2 in the target region is undefined\n",
    "    //   because map(y) may occur after map(p2[:0]).\n",
    "    p2[1] = 4;      // accessing p2 is undefined\n",
    "  }\n",
    "\n",
    "  return 0;\n",
    "}\n",
    "\n"
   ]
  },
  {
   "cell_type": "markdown",
   "metadata": {},
   "source": [
    ""
   ]
  },
  {
   "cell_type": "markdown",
   "metadata": {},
   "source": [
    "In example  _target_ptr_map.3b_  the mapping orders for arrays  _x_  and  _y_  were rearranged to allow proper pointer attachments. On the `target` construct, the `map(x)` clause triggers pointer attachment for  _p1_  to the device address of  _x_ .  Pointer  _p2_  is assigned the device address of the previously mapped  array  _y_ . Referencing values via either  _p1_  or  _p2_  inside the `target` region is now valid."
   ]
  },
  {
   "cell_type": "markdown",
   "metadata": {},
   "source": [
    ""
   ]
  },
  {
   "cell_type": "code",
   "execution_count": null,
   "metadata": {},
   "outputs": [],
   "source": [
    "//%compiler: clang\n",
 "//%cflags: -fopenmp\n",
 "\n",
    "/*\n",
    "* name:       target_ptr_map.3b\n",
    "* type:       C\n",
    "* version: omp_5.1\n",
    "*/\n",
    "#define N 100\n",
    "\n",
    "int x[N], y[N];\n",
    "#pragma omp begin declare target\n",
    "int *p1;\n",
    "#pragma omp end declare target\n",
    "int *p2;\n",
    "\n",
    "int foo()\n",
    "{\n",
    "  p1 = &x[0];\n",
    "  p2 = &y[0];\n",
    "\n",
    "  // Explicitly map array section y[:N]\n",
    "  #pragma omp target enter data map(y[:N])\n",
    "\n",
    "  #pragma omp target map(x[:N]) map(p1[:N]) map(p2[:0])\n",
    "  {\n",
    "    // Accessing the mapped arrays x,y is OK here.\n",
    "    x[0] = 1;\n",
    "    y[1] = 2;\n",
    "\n",
    "    // Pointer attachment for p1 occurs here when array x is mapped\n",
    "    //   on the target construct (as p1 = &x[0] on the device)\n",
    "    p1[0] = 3;      // accessing p1 is OK\n",
    "\n",
    "    // p2 in the target region is initialized to &y[0]\n",
    "    p2[1] = 4;      // accessing p2 is OK\n",
    "  }\n",
    "\n",
    "  return 0;\n",
    "}\n",
    "\n"
   ]
  },
  {
   "cell_type": "markdown",
   "metadata": {},
   "source": [
    ""
   ]
  },
  {
   "cell_type": "markdown",
   "metadata": {},
   "source": [
    "\index{routines!omp_target_is_accessible@\scode{omp_target_is_accessible}} \index{omp_target_is_accessible routine@\scode{omp_target_is_accessible} routine} In the following example, storage allocated on the host is not mapped in a `target` region if it is determined that the host memory is accessible from the device. On platforms that support host memory access from a target device,  it may be more efficient to omit map clauses and avoid the potential memory allocation  and data transfers that may result from the map. The `omp_target_is_accessible` API routine is used to determine if the  host storage of size  _buf_size_  is accessible on the device, and a metadirective is used to select the directive variant (a `target` with/without a `map` clause)."
   ]
  },
  {
   "cell_type": "markdown",
   "metadata": {},
   "source": [
    "The `omp_target_is_accessible` routine will return true if the storage indicated  by the first and second arguments is accessible on the target device. In this case,  the host pointer  _ptr_  may be directly dereferenced in the subsequent  `target` region to access this storage, rather than mapping an array section based  off the pointer. By explicitly specifying the host pointer in a `firstprivate`  clause on the construct, its original value will be used directly in the `target` region.  In OpenMP 5.1, removing the `firstprivate` clause will result in an implicit presence  check of the storage to which  _ptr_  points, and since this storage is not mapped by the  program,  _ptr_  will be NULL-initialized in the `target` region.  In the next version of the OpenMP Specification, a false presence check without  the `firstprivate` clause will cause the pointer to retain its original value."
   ]
  },
  {
   "cell_type": "markdown",
   "metadata": {},
   "source": [
    ""
   ]
  },
  {
   "cell_type": "code",
   "execution_count": null,
   "metadata": {},
   "outputs": [],
   "source": [
    "//%compiler: clang\n",
 "//%cflags: -fopenmp\n",
 "\n",
    "/*\n",
    "* name:       target_ptr_map.4\n",
    "* type:       C\n",
    "* version: omp_5.2\n",
    "*/\n",
    "#include <stdio.h>\n",
    "#include <stdlib.h>\n",
    "#include <omp.h>\n",
    "\n",
    "void do_work(int *ptr, const int size);\n",
    "\n",
    "int main()\n",
    "{\n",
    "   const int n = 1000;\n",
    "   const int buf_size = sizeof(int) * n;\n",
    "   const int dev = omp_get_default_device();\n",
    "\n",
    "   int *ptr = (int *) malloc(buf_size); // possibly compiled on\n",
    "                                        // Unified Shared Memory system\n",
    "   const int accessible = omp_target_is_accessible(ptr, buf_size, dev);\n",
    "\n",
    "   #pragma omp metadirective \\\n",
    "      when(user={condition(accessible)}: target firstprivate(ptr) ) \\\n",
    "      otherwise(                         target map(ptr[:n])      )\n",
    "   {\n",
    "      do_work(ptr, n);\n",
    "   }\n",
    "\n",
    "   free(ptr);\n",
    "   return 0;\n",
    "}\n",
    "\n"
   ]
  },
  {
   "cell_type": "markdown",
   "metadata": {},
   "source": [
    ""
   ]
  },
  {
   "cell_type": "markdown",
   "metadata": {},
   "source": [
    "\index{mapping!deep copy} Similar to the previous example, the `omp_target_is_accessible` routine is used to discover if a deep copy is required for the platform.  Here, the  _deep_copy_  map, defined in the `declare` `mapper` directive, is used if the host storage referenced by   _s.ptr_  (or  _sptr_  in Fortran) is not accessible from the device."
   ]
  },
  {
   "cell_type": "markdown",
   "metadata": {},
   "source": [
    ""
   ]
  },
  {
   "cell_type": "code",
   "execution_count": null,
   "metadata": {},
   "outputs": [],
   "source": [
    "//%compiler: clang\n",
 "//%cflags: -fopenmp\n",
 "\n",
    "/*\n",
    "* name:       target_ptr_map.5\n",
    "* type:       C\n",
    "* version: omp_5.2\n",
    "*/\n",
    "#include <stdio.h>\n",
    "#include <stdlib.h>\n",
    "#include <omp.h>\n",
    "\n",
    "typedef struct {\n",
    "   int *ptr;\n",
    "   int buf_size;\n",
    "} T;\n",
    "\n",
    "#pragma omp declare mapper(deep_copy: T s) map(s, s.ptr[:s.buf_size])\n",
    "\n",
    "void do_work(int *ptr, const int size);\n",
    "\n",
    "int main()\n",
    "{\n",
    "   const int n = 1000;\n",
    "   const int buf_size = sizeof(int) * n;\n",
    "   T s = { 0, buf_size };\n",
    "   const int dev = omp_get_default_device();\n",
    "   s.ptr = (int *)malloc(buf_size);\n",
    "   const int accessible =\n",
    "      omp_target_is_accessible(s.ptr, s.buf_size, dev);\n",
    "\n",
    "   #pragma omp metadirective \\\n",
    "      when(user={condition(accessible)}: target) \\\n",
    "      otherwise(target map(mapper(deep_copy),tofrom:s) )\n",
    "   {\n",
    "      do_work(s.ptr, n);\n",
    "   }\n",
    "\n",
    "   free(s.ptr);\n",
    "   return 0;\n",
    "}\n",
    "\n"
   ]
  },
  {
   "cell_type": "markdown",
   "metadata": {},
   "source": [
    ""
   ]
  },
  {
   "cell_type": "code",
   "execution_count": null,
   "metadata": {},
   "outputs": [],
   "source": [
    "\n",
    "! name:       target_ptr_map.5\n",
    "! type:       F-free\n",
    "! version:    omp_5.2\n",
    "program main\n",
    "   use omp_lib\n",
    "\n",
    "   use, intrinsic :: iso_c_binding, only : c_loc, c_size_t, c_sizeof, c_int\n",
    "   implicit none\n",
    "   external :: do_work\n",
    "\n",
    "   type T\n",
    "     integer,pointer :: ptr(:)\n",
    "     integer         :: buf_size\n",
    "   end type\n",
    "\n",
    "   !$omp declare mapper(deep_copy: T :: s) map(s, s%ptr(:s%buf_size))\n",
    "\n",
    "   integer,parameter :: n = 1000\n",
    "   integer(c_int)    :: dev, accessible\n",
    "   integer(c_size_t) :: buf_size\n",
    "\n",
    "   type(T) s\n",
    "\n",
    "   allocate(s%ptr(n))\n",
    "\n",
    "   buf_size = c_sizeof(s%ptr(1))*n\n",
    "   dev = omp_get_default_device()\n",
    "\n",
    "   accessible = omp_target_is_accessible(c_loc(s%ptr(1)), buf_size, dev)\n",
    "\n",
    "   !$omp  begin metadirective                              &\n",
    "   !$omp&       when(user={condition(accessible)}: target) &\n",
    "   !$omp&       otherwise( target map(mapper(deep_copy),tofrom:s) )\n",
    "\n",
    "      call do_work(s, n)\n",
    "\n",
    "   !$omp  end   metadirective\n",
    "\n",
    "   deallocate(s%ptr)\n",
    "\n",
    "end program\n",
    "\n"
   ]
  },
  {
   "cell_type": "markdown",
   "metadata": {},
   "source": [
    "../../devices/target_pointer_mapping.tex"
   ]
  },
  {
   "cell_type": "markdown",
   "metadata": {},
   "source": [
    ""
   ]
  },
  {
   "cell_type": "markdown",
   "metadata": {},
   "source": [
    "## Structure Mapping"
   ]
  },
  {
   "cell_type": "markdown",
   "metadata": {},
   "source": [
    "\index{mapping!structure}"
   ]
  },
  {
   "cell_type": "markdown",
   "metadata": {},
   "source": [
    "\index{directives!begin declare target@`begin` `declare` `target`} \index{begin declare target directive@`begin` `declare` `target` directive}"
   ]
  },
  {
   "cell_type": "markdown",
   "metadata": {},
   "source": [
    ""
   ]
  },
  {
   "cell_type": "markdown",
   "metadata": {},
   "source": [
    "In the example below, only structure elements  _S.a_ ,  _S.b_  and  _S.p_   of the  _S_  structure appear in `map` clauses of a `target` construct. Only these components have corresponding variables and storage on the device.   Hence, the large arrays,  _S.buffera_  and  _S.bufferb_ , and the  _S.x_  component have no storage  on the device and cannot be accessed."
   ]
  },
  {
   "cell_type": "markdown",
   "metadata": {},
   "source": [
    "Also, since the pointer member  _S.p_  is used in an array section of a  `map` clause, the array storage of the array section on the device,   _S.p[:N]_ , is **attached** to the pointer member  _S.p_  on the device. Explicitly mapping the pointer member  _S.p_  is optional in this case."
   ]
  },
  {
   "cell_type": "markdown",
   "metadata": {},
   "source": [
    "Note: The buffer arrays and the  _x_  variable have been grouped together, so that the components that will reside on the device are all together (without gaps). This allows the runtime to optimize the transfer and the storage footprint on the device."
   ]
  },
  {
   "cell_type": "markdown",
   "metadata": {},
   "source": [
    ""
   ]
  },
  {
   "cell_type": "code",
   "execution_count": null,
   "metadata": {},
   "outputs": [],
   "source": [
    "//%compiler: clang\n",
 "//%cflags: -fopenmp\n",
 "\n",
    "/*\n",
    "* name:       target_struct_map.1\n",
    "* type:       C\n",
    "* version: omp_5.1\n",
    "*/\n",
    "#include <stdio.h>\n",
    "#include <stdlib.h>\n",
    "#define N 100\n",
    "#define BAZILLION 2000000\n",
    "\n",
    "struct foo {\n",
    "  char buffera[BAZILLION];\n",
    "  char bufferb[BAZILLION];\n",
    "  float x;\n",
    "  float a, b;\n",
    "  float *p;\n",
    "};\n",
    "\n",
    "#pragma omp begin declare target\n",
    "void saxpyfun(struct foo *S)\n",
    "{\n",
    "  int i;\n",
    "  for(i=0; i<N; i++)\n",
    "    S->p[i] = S->p[i]*S->a + S->b;\n",
    "}\n",
    "#pragma omp end declare target\n",
    "\n",
    "int main()\n",
    "{\n",
    "  struct foo S;\n",
    "  int i;\n",
    "\n",
    "  S.a = 2.0;\n",
    "  S.b = 4.0;\n",
    "  S.p = (float *)malloc(sizeof(float)*N);\n",
    "  for(i=0; i<N; i++) S.p[i] = i;\n",
    "\n",
    "  #pragma omp target map(alloc:S.p) map(S.p[:N]) map(to:S.a, S.b)\n",
    "  saxpyfun(&S);\n",
    "\n",
    "  printf(\" %4.0f %4.0f\\n\", S.p[0], S.p[N-1]);\n",
    "        //     4  202  <- output\n",
    "\n",
    "  free(S.p);\n",
    "  return 0;\n",
    "}\n",
    "\n"
   ]
  },
  {
   "cell_type": "markdown",
   "metadata": {},
   "source": [
    ""
   ]
  },
  {
   "cell_type": "markdown",
   "metadata": {},
   "source": [
    ""
   ]
  },
  {
   "cell_type": "markdown",
   "metadata": {},
   "source": [
    "The following example is a slight modification of the above example for  a C++ class.  In the member function  _SAXPY::driver_   the array section  _p[:N]_  is **attached** to the pointer member  _p_  on the device."
   ]
  },
  {
   "cell_type": "markdown",
   "metadata": {},
   "source": [
    ""
   ]
  },
  {
   "cell_type": "code",
   "execution_count": null,
   "metadata": {},
   "outputs": [],
   "source": [
    "//%compiler: clang\n",
 "//%cflags: -fopenmp\n",
 "\n",
    "/*\n",
    "* name:       target_struct_map.2\n",
    "* type:       C++\n",
    "* version: omp_5.1\n",
    "*/\n",
    "#include <cstdio>\n",
    "#include <cstdlib>\n",
    "#define N 100\n",
    "\n",
    "class SAXPY {\n",
    "  private:\n",
    "   float a, b, *p;\n",
    "  public:\n",
    "   float buffer[N];\n",
    "\n",
    "   SAXPY(float arg_a, float arg_b){ a=arg_a; b=arg_b; }\n",
    "   void driver();\n",
    "   void saxpyfun(float *p);\n",
    "};\n",
    "\n",
    "#pragma omp begin declare target\n",
    "void SAXPY::saxpyfun(float *q)\n",
    "{\n",
    "  for(int i=0; i<N; i++)\n",
    "    buffer[i] = q[i]*a + b;\n",
    "}\n",
    "#pragma omp end declare target\n",
    "\n",
    "void SAXPY::driver()\n",
    "{\n",
    "  p = (float *) malloc(N*sizeof(float));\n",
    "  for(int i=0; i<N; i++) p[i]=i;\n",
    "\n",
    "  #pragma omp target map(alloc:p) map(to:p[:N]) map(to:a,b) \\\n",
    "              map(from:buffer[:N])   // attach(p) to device_malloc()\n",
    "  {\n",
    "    saxpyfun(p);\n",
    "  }\n",
    "\n",
    "  free(p);\n",
    "}\n",
    "\n",
    "int main()\n",
    "{\n",
    "  SAXPY my_saxpy(2.0,4.0);\n",
    "\n",
    "  my_saxpy.driver();\n",
    "\n",
    "  printf(\" %4.0f %4.0f\\n\", my_saxpy.buffer[0], my_saxpy.buffer[N-1]);\n",
    "         //   4   202     <- output\n",
    "\n",
    "  return 0;\n",
    "}\n",
    "\n"
   ]
  },
  {
   "cell_type": "markdown",
   "metadata": {},
   "source": [
    ""
   ]
  },
  {
   "cell_type": "markdown",
   "metadata": {},
   "source": [
    ""
   ]
  },
  {
   "cell_type": "markdown",
   "metadata": {},
   "source": [
    ""
   ]
  },
  {
   "cell_type": "markdown",
   "metadata": {},
   "source": [
    ""
   ]
  },
  {
   "cell_type": "markdown",
   "metadata": {},
   "source": [
    "The next example shows two ways in which the structure may be **incorrectly** mapped."
   ]
  },
  {
   "cell_type": "markdown",
   "metadata": {},
   "source": [
    "In Case 1, the array section  _S1.p[:N]_  is first mapped in an enclosing `target` `data` construct, and the `target` construct then implicitly maps the structure  _S1_ . The initial map of the array section does not map the base pointer  _S1.p_  -- it only maps the elements of the array section.  Furthermore, the implicit map is not sufficient to ensure pointer attachment for the structure member  _S1.p_  (refer to the conditions for pointer attachment described in Section \ref{sec:pointer_mapping}). Consequentially, the dereference operation  _S1.p[i]_  in the call to  _saxpyfun_  will probably fail because  _S1.p_  contains a host address."
   ]
  },
  {
   "cell_type": "markdown",
   "metadata": {},
   "source": [
    "In Case 2, again an array section is mapped on an enclosing `target` `data` construct. This time, the nested `target` construct explicitly maps  _S2.p_ ,  _S2.a_ , and  _S2.b_ . But as in Case 1, this does not satisfy the conditions for pointer attachment since the construct must map a list item for which \splc{S2.p} is a base pointer, and it must do so when the \splc{S2.p} is already present on the device or will be created on the device as a result of the same construct."
   ]
  },
  {
   "cell_type": "markdown",
   "metadata": {},
   "source": [
    ""
   ]
  },
  {
   "cell_type": "markdown",
   "metadata": {},
   "source": [
    ""
   ]
  },
  {
   "cell_type": "code",
   "execution_count": null,
   "metadata": {},
   "outputs": [],
   "source": [
    "//%compiler: clang\n",
 "//%cflags: -fopenmp\n",
 "\n",
    "/*\n",
    "* name:       target_struct_map.3\n",
    "* type:       C\n",
    "* version: omp_5.1\n",
    "*/\n",
    "#include <stdio.h>\n",
    "#include <stdlib.h>\n",
    "#define N 100\n",
    "#define BAZILLION 2000000\n",
    "\n",
    "struct foo {\n",
    "  char buffera[BAZILLION];\n",
    "  char bufferb[BAZILLION];\n",
    "  float x;\n",
    "  float a, b;\n",
    "  float *p;\n",
    "};\n",
    "\n",
    "#pragma omp begin declare target\n",
    "void saxpyfun(struct foo *S)\n",
    "{\n",
    "  int i;\n",
    "  for(i=0; i<N; i++)\n",
    "    S->p[i] = S->p[i] * S->a + S->b; // S->p[i] invalid\n",
    "}\n",
    "#pragma omp end declare target\n",
    "\n",
    "int main()\n",
    "{\n",
    "  struct foo S1, S2;\n",
    "  int i;\n",
    "\n",
    "  // Case 1\n",
    "\n",
    "  S1.a = 2.0;\n",
    "  S1.b = 4.0;\n",
    "  S1.p = (float *)malloc(sizeof(float)*N);\n",
    "  for(i=0; i<N; i++) S1.p[i] = i;\n",
    "\n",
    "  // No pointer attachment for S1.p here\n",
    "  #pragma omp target data map(S1.p[:N])\n",
    "  #pragma omp target // implicit map of S1\n",
    "  saxpyfun(&S1);\n",
    "\n",
    "  // Case 2\n",
    "\n",
    "  S2.a = 2.0;\n",
    "  S2.b = 4.0;\n",
    "  S2.p = (float *)malloc(sizeof(float)*N);\n",
    "  for(i=0; i<N; i++) S2.p[i] = i;\n",
    "\n",
    "  // No pointer attachment for S2.p here either\n",
    "  #pragma omp target data map(S2.p[:N])\n",
    "  #pragma omp target map(S2.p, S2.a, S2.b) // implicit map of S2\n",
    "  saxpyfun(&S2);\n",
    "\n",
    "  // These print statement may not execute because the\n",
    "  // above code is invalid\n",
    "  printf(\" %4.0f %4.0f\\n\", S1.p[0], S1.p[N-1]);\n",
    "  printf(\" %4.0f %4.0f\\n\", S2.p[0], S2.p[N-1]);\n",
    "\n",
    "  free(S1.p);\n",
    "  free(S2.p);\n",
    "  return 0;\n",
    "}\n",
    "\n"
   ]
  },
  {
   "cell_type": "markdown",
   "metadata": {},
   "source": [
    ""
   ]
  },
  {
   "cell_type": "markdown",
   "metadata": {},
   "source": [
    ""
   ]
  },
  {
   "cell_type": "markdown",
   "metadata": {},
   "source": [
    "The following example correctly implements pointer attachment cases that involve implicit structure maps."
   ]
  },
  {
   "cell_type": "markdown",
   "metadata": {},
   "source": [
    "In Case 1, members \splc{p}, \splc{a}, and \splc{b} of the structure \splc{S1} are explicitly mapped by the `target` `data` construct, to avoid mapping parts of \splc{S1} that aren't required on the device. The mapped \splc{S1.p} is attached to the array section \splc{S1.p[:N]}, and remains attached while it exists on the device (for the duration of `target` `data` region).  Due to the \splc{S1} reference inside the nested `target` construct, the construct implicitly maps \splc{S1} so that the reference refers to the corresponding storage created by the enclosing `target` `data` region. Note that only the members \splc{a}, \splc{b}, and \splc{p} may be accessed from this storage."
   ]
  },
  {
   "cell_type": "markdown",
   "metadata": {},
   "source": [
    "In Case 2, only the storage for the array section \splc{S2.p[:N]} is mapped by the `target` `data` construct.  The nested `target` construct explicitly maps \splc{S2.a} and \splc{S2.b} and explicitly maps an array section for which \splc{S2.p} is a base pointer. This satisfies the conditions for \splc{S2.p} becoming an attached pointer. The array section in this case is zero-length, but the effect would be the same if the length was a positive integer less than or equal to \splc{N}. There is also an implicit map of the containing structure \splc{S2}, again due to the reference to \splc{S2} inside the construct. The effect of this implicit map permits access only to members \splc{a}, \splc{b}, and \splc{p}, as for Case 1."
   ]
  },
  {
   "cell_type": "markdown",
   "metadata": {},
   "source": [
    "In Case 3, there is no `target` `data` construct. The `target` construct explicitly maps \splc{S3.a} and \splc{S3.b} and explicitly maps an array section for which \splc{S3.p} is a base pointer. Again, there is an implicit map of the structure referenced in the construct, \splc{S3}. This implicit map also causes \splc{S3.p} to be implicitly mapped, because no other part of \splc{S3} is present prior to the construct being encountered. The result is an attached pointer \splc{S3.p} on the device. As for Cases 1 and 2, this implicit map only ensures that storage for the members \splc{a}, \splc{b}, and \splc{p} are accessible within the corresponding \splc{S3} that is created on the device."
   ]
  },
  {
   "cell_type": "markdown",
   "metadata": {},
   "source": [
    ""
   ]
  },
  {
   "cell_type": "code",
   "execution_count": null,
   "metadata": {},
   "outputs": [],
   "source": [
    "//%compiler: clang\n",
 "//%cflags: -fopenmp\n",
 "\n",
    "/*\n",
    "* name:       target_struct_map.4\n",
    "* type:       C\n",
    "* version: omp_5.1\n",
    "*/\n",
    "#include <stdio.h>\n",
    "#include <stdlib.h>\n",
    "#define N 100\n",
    "#define BAZILLION 2000000\n",
    "\n",
    "struct foo {\n",
    "  char buffera[BAZILLION];\n",
    "  char bufferb[BAZILLION];\n",
    "  float x;\n",
    "  float a, b;\n",
    "  float *p;\n",
    "};\n",
    "\n",
    "#pragma omp begin declare target\n",
    "void saxpyfun(struct foo *S)\n",
    "{\n",
    "  int i;\n",
    "  for(i=0; i<N; i++)\n",
    "    S->p[i] = S->p[i]*S->a + S->b;\n",
    "}\n",
    "#pragma omp end declare target\n",
    "\n",
    "int main()\n",
    "{\n",
    "  struct foo S1, S2, S3;\n",
    "  int i;\n",
    "\n",
    "  // Case 1\n",
    "\n",
    "  S1.a = 2.0;\n",
    "  S1.b = 4.0;\n",
    "  S1.p = (float *)malloc(sizeof(float)*N);\n",
    "  for(i=0; i<N; i++) S1.p[i] = i;\n",
    "\n",
    "  // The target data construct results in pointer attachment for S1.p.\n",
    "  // Explicitly mapping S1.p, S1.a, and S1.b rather than S1 avoids\n",
    "  // mapping the entire structure (including members buffera, bufferb,\n",
    "  // and x).\n",
    "  #pragma omp target data map(S1.p[:N],S1.p,S1.a,S1.b)\n",
    "  #pragma omp target //implicit map of S1\n",
    "  saxpyfun(&S1);\n",
    "\n",
    "\n",
    "  // Case 2\n",
    "\n",
    "  S2.a = 2.0;\n",
    "  S2.b = 4.0;\n",
    "  S2.p = (float *)malloc(sizeof(float)*N);\n",
    "  for(i=0; i<N; i++) S2.p[i] = i;\n",
    "\n",
    "  // The target construct results in pointer attachment for S2.p.\n",
    "  #pragma omp target data map(S2.p[:N])\n",
    "  #pragma omp target map(S2.p[:0], S2.a, S2.b) // implicit map of S2\n",
    "  saxpyfun(&S2);\n",
    "\n",
    "  // Case 3\n",
    "\n",
    "  S3.a = 2.0;\n",
    "  S3.b = 4.0;\n",
    "  S3.p = (float *)malloc(sizeof(float)*N);\n",
    "  for(i=0; i<N; i++) S3.p[i] = i;\n",
    "\n",
    "  // The target construct results in pointer attachment for S3.p.\n",
    "  // Note that S3.p is implicitly mapped due to the implicit map of S3\n",
    "  // (but corresponding storage is NOT created for members buffera,\n",
    "  // bufferb, and x).\n",
    "  #pragma omp target map(S3.p[:N], S3.a, S3.b)  // implicit map of S3\n",
    "  saxpyfun(&S3);\n",
    "\n",
    "  printf(\" %4.0f %4.0f\\n\", S1.p[0], S1.p[N-1]);  //OUT1 4 202\n",
    "  printf(\" %4.0f %4.0f\\n\", S2.p[0], S2.p[N-1]);  //OUT2 4 202\n",
    "  printf(\" %4.0f %4.0f\\n\", S3.p[0], S3.p[N-1]);  //OUT3 4 202\n",
    "\n",
    "  free(S1.p);\n",
    "  free(S2.p);\n",
    "  free(S3.p);\n",
    "  return 0;\n",
    "}\n",
    "\n",
    "\n"
   ]
  },
  {
   "cell_type": "markdown",
   "metadata": {},
   "source": [
    ""
   ]
  },
  {
   "cell_type": "markdown",
   "metadata": {},
   "source": [
    "../../devices/target_structure_mapping.tex"
   ]
  },
  {
   "cell_type": "markdown",
   "metadata": {},
   "source": [
    "../../devices/target_fort_allocatable_array_mapping.tex"
   ]
  },
  {
   "cell_type": "markdown",
   "metadata": {},
   "source": [
    ""
   ]
  },
  {
   "cell_type": "markdown",
   "metadata": {},
   "source": [
    "## Array Sections in Device Constructs"
   ]
  },
  {
   "cell_type": "markdown",
   "metadata": {},
   "source": [
    "\index{array sections!in map clause@in `map` clause} \index{map clause@`map` clause} \index{clauses!map@`map`} \index{target construct@`target` construct} \index{constructs!target@`target`} \index{target data construct@`target` `data` construct} \index{constructs!target data@`target` `data`}"
   ]
  },
  {
   "cell_type": "markdown",
   "metadata": {},
   "source": [
    "The following examples show the usage of array sections in `map` clauses  on `target` and `target` `data` constructs."
   ]
  },
  {
   "cell_type": "markdown",
   "metadata": {},
   "source": [
    "This example shows the invalid usage of two separate sections of the same array  inside of a `target` construct."
   ]
  },
  {
   "cell_type": "markdown",
   "metadata": {},
   "source": [
    ""
   ]
  },
  {
   "cell_type": "code",
   "execution_count": null,
   "metadata": {},
   "outputs": [],
   "source": [
    "//%compiler: clang\n",
 "//%cflags: -fopenmp\n",
 "\n",
    "/*\n",
    "* name: array_sections.1\n",
    "* type: C\n",
    "* version: omp_4.0\n",
    "*/\n",
    "void foo ()\n",
    "{\n",
    "   int A[30];\n",
    "#pragma omp target data map( A[0:4] )\n",
    "{\n",
    "   /* Cannot map distinct parts of the same array */\n",
    "   #pragma omp target map( A[7:20] )\n",
    "   {\n",
    "      A[2] = 0;\n",
    "   }\n",
    "}\n",
    "}\n",
    "\n"
   ]
  },
  {
   "cell_type": "markdown",
   "metadata": {},
   "source": [
    ""
   ]
  },
  {
   "cell_type": "markdown",
   "metadata": {},
   "source": [
    ""
   ]
  },
  {
   "cell_type": "code",
   "execution_count": null,
   "metadata": {},
   "outputs": [],
   "source": [
    "\n",
    "! name: array_sections.1\n",
    "! type: F-free\n",
    "! version: omp_4.0\n",
    "subroutine foo()\n",
    "integer :: A(30)\n",
    "   A = 1\n",
    "   !$omp target data map( A(1:4) )\n",
    "     ! Cannot map distinct parts of the same array\n",
    "     !$omp target map( A(8:27) )\n",
    "        A(3) = 0\n",
    "     !$omp end target\n",
    "   !$omp end target data\n",
    "end subroutine\n",
    "\n"
   ]
  },
  {
   "cell_type": "markdown",
   "metadata": {},
   "source": [
    ""
   ]
  },
  {
   "cell_type": "markdown",
   "metadata": {},
   "source": [
    "This example shows the invalid usage of two separate sections of the same array  inside of a `target` construct."
   ]
  },
  {
   "cell_type": "markdown",
   "metadata": {},
   "source": [
    ""
   ]
  },
  {
   "cell_type": "code",
   "execution_count": null,
   "metadata": {},
   "outputs": [],
   "source": [
    "//%compiler: clang\n",
 "//%cflags: -fopenmp\n",
 "\n",
    "/*\n",
    "* name: array_sections.2\n",
    "* type: C\n",
    "* version: omp_4.0\n",
    "*/\n",
    "void foo ()\n",
    "{\n",
    "   int A[30], *p;\n",
    "#pragma omp target data map( A[0:4] )\n",
    "{\n",
    "   p = &A[0];\n",
    "   /* invalid because p[3] and A[3] are the same\n",
    "    * location on the host but the array section\n",
    "    * specified via p[...] is not a subset of A[0:4] */\n",
    "   #pragma omp target map( p[3:20] )\n",
    "   {\n",
    "      A[2] = 0;\n",
    "      p[8] = 0;\n",
    "   }\n",
    "}\n",
    "}\n",
    "\n"
   ]
  },
  {
   "cell_type": "markdown",
   "metadata": {},
   "source": [
    ""
   ]
  },
  {
   "cell_type": "markdown",
   "metadata": {},
   "source": [
    ""
   ]
  },
  {
   "cell_type": "code",
   "execution_count": null,
   "metadata": {},
   "outputs": [],
   "source": [
    "\n",
    "! name: array_sections.2\n",
    "! type: F-free\n",
    "! version: omp_4.0\n",
    "subroutine foo()\n",
    "integer,target  :: A(30)\n",
    "integer,pointer :: p(:)\n",
    "   A=1\n",
    "   !$omp target data map( A(1:4) )\n",
    "     p=>A\n",
    "     ! invalid because p(4) and A(4) are the same\n",
    "     ! location on the host but the array section\n",
    "     ! specified via p(...) is not a subset of A(1:4)\n",
    "     !$omp target map( p(4:23) )\n",
    "        A(3) = 0\n",
    "        p(9) = 0\n",
    "     !$omp end target\n",
    "   !$omp end target data\n",
    "end subroutine\n",
    "\n"
   ]
  },
  {
   "cell_type": "markdown",
   "metadata": {},
   "source": [
    ""
   ]
  },
  {
   "cell_type": "markdown",
   "metadata": {},
   "source": [
    "This example shows the valid usage of two separate sections of the same array inside  of a `target` construct."
   ]
  },
  {
   "cell_type": "markdown",
   "metadata": {},
   "source": [
    ""
   ]
  },
  {
   "cell_type": "code",
   "execution_count": null,
   "metadata": {},
   "outputs": [],
   "source": [
    "//%compiler: clang\n",
 "//%cflags: -fopenmp\n",
 "\n",
    "/*\n",
    "* name: array_sections.3\n",
    "* type: C\n",
    "* version: omp_4.0\n",
    "*/\n",
    "void foo ()\n",
    "{\n",
    "   int A[30], *p;\n",
    "#pragma omp target data map( A[0:4] )\n",
    "{\n",
    "   p = &A[0];\n",
    "   #pragma omp target map( p[7:20] )\n",
    "   {\n",
    "      A[2] = 0;\n",
    "      p[8] = 0;\n",
    "   }\n",
    "}\n",
    "}\n",
    "\n"
   ]
  },
  {
   "cell_type": "markdown",
   "metadata": {},
   "source": [
    ""
   ]
  },
  {
   "cell_type": "markdown",
   "metadata": {},
   "source": [
    ""
   ]
  },
  {
   "cell_type": "code",
   "execution_count": null,
   "metadata": {},
   "outputs": [],
   "source": [
    "\n",
    "! name: array_sections.3\n",
    "! type: F-free\n",
    "! version: omp_4.0\n",
    "subroutine foo()\n",
    "integer,target  :: A(30)\n",
    "integer,pointer :: p(:)\n",
    "   !$omp target data map( A(1:4) )\n",
    "     p=>A\n",
    "     !$omp target map( p(8:27) )\n",
    "        A(3) = 0\n",
    "        p(9) = 0\n",
    "     !$omp end target\n",
    "   !$omp end target data\n",
    "end subroutine\n",
    "\n"
   ]
  },
  {
   "cell_type": "markdown",
   "metadata": {},
   "source": [
    ""
   ]
  },
  {
   "cell_type": "markdown",
   "metadata": {},
   "source": [
    "This example shows the valid usage of a wholly contained array section of an already  mapped array section inside of a `target` construct."
   ]
  },
  {
   "cell_type": "markdown",
   "metadata": {},
   "source": [
    ""
   ]
  },
  {
   "cell_type": "code",
   "execution_count": null,
   "metadata": {},
   "outputs": [],
   "source": [
    "//%compiler: clang\n",
 "//%cflags: -fopenmp\n",
 "\n",
    "/*\n",
    "* name: array_sections.4\n",
    "* type: C\n",
    "* version: omp_4.0\n",
    "*/\n",
    "void foo ()\n",
    "{\n",
    "   int A[30], *p;\n",
    "#pragma omp target data map( A[0:10] )\n",
    "{\n",
    "   p = &A[0];\n",
    "   #pragma omp target map( p[3:7] )\n",
    "   {\n",
    "      A[2] = 0;\n",
    "      p[8] = 0;\n",
    "      A[8] = 1;\n",
    "   }\n",
    "}\n",
    "}\n",
    "\n"
   ]
  },
  {
   "cell_type": "markdown",
   "metadata": {},
   "source": [
    ""
   ]
  },
  {
   "cell_type": "markdown",
   "metadata": {},
   "source": [
    ""
   ]
  },
  {
   "cell_type": "code",
   "execution_count": null,
   "metadata": {},
   "outputs": [],
   "source": [
    "\n",
    "! name: array_sections.4\n",
    "! type: F-free\n",
    "! version: omp_4.0\n",
    "subroutine foo()\n",
    "integer,target  :: A(30)\n",
    "integer,pointer :: p(:)\n",
    "   !$omp target data map( A(1:10) )\n",
    "     p=>A\n",
    "     !$omp target map( p(4:10) )\n",
    "        A(3) = 0\n",
    "        p(9) = 0\n",
    "        A(9) = 1\n",
    "     !$omp end target\n",
    "   !$omp end target data\n",
    "end subroutine\n",
    "\n"
   ]
  },
  {
   "cell_type": "markdown",
   "metadata": {},
   "source": [
    ""
   ]
  },
  {
   "cell_type": "markdown",
   "metadata": {},
   "source": [
    "../../devices/array_sections.tex \input{devices/C++_virtual_functions}"
   ]
  },
  {
   "cell_type": "markdown",
   "metadata": {},
   "source": [
    ""
   ]
  },
  {
   "cell_type": "markdown",
   "metadata": {},
   "source": [
    "## Array Shaping"
   ]
  },
  {
   "cell_type": "markdown",
   "metadata": {},
   "source": [
    "\index{array shaping!in motion-clause@in  _motion-clause_ } \index{constructs!target update@`target` `update`} \index{target update construct@`target` `update` construct!to clause@`to` clause} \index{target update construct@`target` `update` construct!from clause@`from` clause}"
   ]
  },
  {
   "cell_type": "markdown",
   "metadata": {},
   "source": [
    "\index{directives!declare target@`declare` `target`} \index{declare target directive@`declare` `target` directive}"
   ]
  },
  {
   "cell_type": "markdown",
   "metadata": {},
   "source": [
    "\index{directives!begin declare target@`begin` `declare` `target`} \index{begin declare target directive@`begin` `declare` `target` directive}"
   ]
  },
  {
   "cell_type": "markdown",
   "metadata": {},
   "source": [
    "A pointer variable can be shaped to a multi-dimensional array to facilitate data access. This is achieved by a  _shape-operator_  casted in front of  a pointer (lvalue expression):  `([ s_1 ][ s_2 ]...[ s_n ])` _pointer_   where each  s_i  is an integral-type expression of positive value. The shape-operator can appear in either the  _motion-clause_  of the `target` `update` directive or the `depend` clause."
   ]
  },
  {
   "cell_type": "markdown",
   "metadata": {},
   "source": [
    "The following example shows the use of the shape-operator in the  `target` `update` directive. The shape-operator `([nx][ny+2])` casts pointer variable  a  to a 2-dimentional array of size  _nx_  x  _(ny+2)_ .  The resulting array is then accessed as array sections (such as `[0:nx][1]` and `[0:nx][ny]`)  in the `from` or `to` clause for transferring two columns of  noncontiguous boundary data from or to the device.   Note the use of additional parentheses around the shape-operator and  a  to ensure the correct precedence  over array-section operations."
   ]
  },
  {
   "cell_type": "markdown",
   "metadata": {},
   "source": [
    ""
   ]
  },
  {
   "cell_type": "code",
   "execution_count": null,
   "metadata": {},
   "outputs": [],
   "source": [
    "//%compiler: clang\n",
 "//%cflags: -fopenmp\n",
 "\n",
    "/*\n",
    "* name: array_shaping.1\n",
    "* type: C\n",
    "* version: omp_5.1\n",
    "*/\n",
    "#pragma omp begin declare target\n",
    "  int do_work(double *a, int nx, int ny);\n",
    "  int other_work(double *a, int nx, int ny);\n",
    "#pragma omp end declare target\n",
    "\n",
    "void exch_data(double *a, int nx, int ny);\n",
    "\n",
    "void array_shaping(double *a, int nx, int ny)\n",
    "{\n",
    "   // map data to device and do work\n",
    "   #pragma omp target data map(a[0:nx*(ny+2)])\n",
    "   {\n",
    "      // do work on the device\n",
    "      #pragma omp target  // map(a[0:nx*(ny+2)]) is optional here\n",
    "      do_work(a, nx, ny);\n",
    "\n",
    "      // update boundary points (two columns of 2D array) on the host\n",
    "      // pointer is shaped to 2D array using the shape-operator\n",
    "      #pragma omp target update from( (([nx][ny+2])a)[0:nx][1], \\\n",
    "                                      (([nx][ny+2])a)[0:nx][ny] )\n",
    "\n",
    "      // exchange ghost points with neighbors\n",
    "      exch_data(a, nx, ny);\n",
    "\n",
    "      // update ghost points (two columns of 2D array) on the device\n",
    "      // pointer is shaped to 2D array using the shape-operator\n",
    "      #pragma omp target update to( (([nx][ny+2])a)[0:nx][0], \\\n",
    "                                    (([nx][ny+2])a)[0:nx][ny+1] )\n",
    "\n",
    "      // perform other work on the device\n",
    "      #pragma omp target  // map(a[0:nx*(ny+2)]) is optional here\n",
    "      other_work(a, nx, ny);\n",
    "   }\n",
    "}\n",
    "\n"
   ]
  },
  {
   "cell_type": "markdown",
   "metadata": {},
   "source": [
    ""
   ]
  },
  {
   "cell_type": "markdown",
   "metadata": {},
   "source": [
    "The shape operator is not defined for Fortran.  Explicit array shaping of procedure arguments can be used instead to achieve a similar goal. Below is the Fortran-equivalent of the above example that illustrates the support of transferring two rows of noncontiguous boundary data in the `target` `update` directive."
   ]
  },
  {
   "cell_type": "markdown",
   "metadata": {},
   "source": [
    ""
   ]
  },
  {
   "cell_type": "code",
   "execution_count": null,
   "metadata": {},
   "outputs": [],
   "source": [
    "\n",
    "! name: array_shaping.1\n",
    "! type: F-free\n",
    "! version: omp_5.2\n",
    "\n",
    "module m\n",
    "   interface\n",
    "      subroutine do_work(a, nx, ny)\n",
    "         !$omp declare target enter(do_work)\n",
    "         integer, intent(in) :: nx, ny\n",
    "         double precision a(0:nx+1,ny)\n",
    "      end subroutine do_work\n",
    "\n",
    "      subroutine other_work(a, nx, ny)\n",
    "         !$omp declare target enter(other_work)\n",
    "         integer, intent(in) :: nx, ny\n",
    "         double precision a(0:nx+1,ny)\n",
    "      end subroutine other_work\n",
    "\n",
    "      subroutine exch_data(a, nx, ny)\n",
    "         integer, intent(in) :: nx, ny\n",
    "         double precision a(0:nx+1,ny)\n",
    "      end subroutine exch_data\n",
    "   end interface\n",
    "end module m\n",
    "\n",
    "subroutine array_shaping(a, nx, ny)\n",
    "   use m\n",
    "   implicit none\n",
    "   integer, intent(in) :: nx, ny\n",
    "   double precision a(0:nx+1,ny)\n",
    "\n",
    "   ! map data to device and do work\n",
    "   !$omp target data map(a)\n",
    "\n",
    "      ! do work on the device\n",
    "      !$omp target      ! map(a) is optional here\n",
    "      call do_work(a, nx, ny)\n",
    "      !$omp end target\n",
    "\n",
    "      ! update boundary points (two rows of 2D array) on the host.\n",
    "      ! data transferred are noncontiguous\n",
    "      !$omp target update from( a(1,1:ny), a(nx,1:ny) )\n",
    "\n",
    "      ! exchange ghost points with neighbors\n",
    "      call exch_data(a, nx, ny)\n",
    "\n",
    "      ! update ghost points (two rows of 2D array) on the device.\n",
    "      ! data transferred are noncontiguous\n",
    "      !$omp target update to( a(0,1:ny), a(nx+1,1:ny) )\n",
    "\n",
    "      ! perform other work on the device\n",
    "      !$omp target      ! map(a) is optional here\n",
    "      call other_work(a, nx, ny)\n",
    "      !$omp end target\n",
    "\n",
    "   !$omp end target data\n",
    "\n",
    "end subroutine\n",
    "\n"
   ]
  },
  {
   "cell_type": "markdown",
   "metadata": {},
   "source": [
    "../../devices/array_shaping.tex"
   ]
  },
  {
   "cell_type": "markdown",
   "metadata": {},
   "source": [
    ""
   ]
  },
  {
   "cell_type": "markdown",
   "metadata": {},
   "source": [
    "## `declare mapper` Directive"
   ]
  },
  {
   "cell_type": "markdown",
   "metadata": {},
   "source": [
    "\index{directives!declare mapper@`declare` `mapper`} \index{declare mapper directive@`declare` `mapper` directive}"
   ]
  },
  {
   "cell_type": "markdown",
   "metadata": {},
   "source": [
    "The following examples show how to use the `declare mapper` directive to prescribe a map for later use. It is also quite useful for pre-defining partitioned and nested  structure elements."
   ]
  },
  {
   "cell_type": "markdown",
   "metadata": {},
   "source": [
    "In the first example the `declare mapper` directive specifies  that any structure of type  _myvec_t_  for which implicit data-mapping rules apply will be mapped according to its `map` clause. The variable  _v_  is used for referencing the structure and its  elements within the `map` clause.  Within the `map` clause the  _v_  variable specifies that all elements of the structure are to be mapped.  Additionally, the array section  _v.data[0:v.len]_  specifies that the dynamic  storage for data is to be mapped."
   ]
  },
  {
   "cell_type": "markdown",
   "metadata": {},
   "source": [
    "Within the main program the  _s_  variable is typed as  _myvec_t_ . Since the variable is found within the target region and the type has a mapping prescribed by a `declare mapper` directive, it will be automatically mapped according to its prescription:  full structure, plus the dynamic storage of the  _data_  element."
   ]
  },
  {
   "cell_type": "markdown",
   "metadata": {},
   "source": [
    ""
   ]
  },
  {
   "cell_type": "markdown",
   "metadata": {},
   "source": [
    ""
   ]
  },
  {
   "cell_type": "code",
   "execution_count": null,
   "metadata": {},
   "outputs": [],
   "source": [
    "//%compiler: clang\n",
 "//%cflags: -fopenmp\n",
 "\n",
    "/*\n",
    "* name: target_mapper.1\n",
    "* type: C\n",
    "* version: omp_5.0\n",
    "*/\n",
    "#include  <stdlib.h>\n",
    "#include   <stdio.h>\n",
    "#define N 100\n",
    "\n",
    "typedef struct myvec{\n",
    "    size_t len;\n",
    "    double *data;\n",
    "} myvec_t;\n",
    "\n",
    "#pragma omp declare mapper(myvec_t v) \\\n",
    "                    map(v, v.data[0:v.len])\n",
    "void init(myvec_t *s);\n",
    "\n",
    "int main(){\n",
    "   myvec_t s;\n",
    "\n",
    "   s.data = (double *)calloc(N,sizeof(double));\n",
    "   s.len  = N;\n",
    "\n",
    "   #pragma omp target\n",
    "   init(&s);\n",
    "\n",
    "   printf(\"s.data[%d]=%lf\\n\",N-1,s.data[N-1]);  //s.data[99]=99.000000\n",
    "}\n",
    "\n",
    "void init(myvec_t *s)\n",
    "{ for(int i=0; i<s->len; i++) s->data[i]=i; }\n",
    "\n"
   ]
  },
  {
   "cell_type": "markdown",
   "metadata": {},
   "source": [
    ""
   ]
  },
  {
   "cell_type": "markdown",
   "metadata": {},
   "source": [
    ""
   ]
  },
  {
   "cell_type": "code",
   "execution_count": null,
   "metadata": {},
   "outputs": [],
   "source": [
    "\n",
    "! name:       target_mapper.1\n",
    "! type:       F-free\n",
    "! version:    omp_5.0\n",
    "\n",
    "module my_structures\n",
    "  type myvec_t\n",
    "    integer                     :: len\n",
    "    double precision, pointer   :: data(:)\n",
    "  end type\n",
    "end module\n",
    "\n",
    "program main\n",
    "  use my_structures\n",
    "  integer, parameter :: N=100\n",
    "\n",
    "  !$omp  declare mapper(myvec_t :: v) &\n",
    "  !$omp&         map(v, v%data(1:v%len))\n",
    "\n",
    "  type(myvec_t) :: s\n",
    "\n",
    "  allocate(s%data(N))\n",
    "  s%data(1:N) = 0.0d0\n",
    "  s%len = N\n",
    "\n",
    "  !$omp target\n",
    "  call init(s)\n",
    "  !$omp end target\n",
    "\n",
    "  print*,\"s%data(\",N,\")=\",s%data(N)  !! s%data( 100 )=100.000000000000\n",
    "end program\n",
    "\n",
    "subroutine init(s)\n",
    "  use my_structures\n",
    "  type(myvec_t) :: s\n",
    "\n",
    "  s%data = [ (i, i=1,s%len) ]\n",
    "end subroutine\n",
    "\n"
   ]
  },
  {
   "cell_type": "markdown",
   "metadata": {},
   "source": [
    ""
   ]
  },
  {
   "cell_type": "markdown",
   "metadata": {},
   "source": [
    "\index{mapping!deep copy} \index{map clause@`map` clause!mapper modifier@`mapper` modifier} \index{mapper modifier@`mapper` modifier} The next example illustrates the use of the  _mapper-identifier_  and deep copy within a structure.  The structure,  _dzmat_t_ ,  represents a complex matrix,  with separate real ( _r_m_ ) and imaginary ( _i_m_ ) elements. Two map identifiers are created for partitioning the  _dzmat_t_  structure."
   ]
  },
  {
   "cell_type": "markdown",
   "metadata": {},
   "source": [
    "For the C/C++ code the first identifier is named  _top_id_  and maps the top half of two matrices of type  _dzmat_t_ ; while the second identifier,  _bottom_id_ , maps the lower half of two matrices.  Each identifier is applied to a different `target` construct, as  `map(mapper(top_id), tofrom: a,b)`  and `map(mapper(bottom_id), tofrom: a,b)`. Each target offload is allowed to execute concurrently on two different devices  ( _0_  and  _1_ ) through the `nowait` clause."
   ]
  },
  {
   "cell_type": "markdown",
   "metadata": {},
   "source": [
    "The Fortran code uses the  _left_id_  and  _right_id_  map identifiers in the `map(mapper(left_id),tofrom: a,b)` and `map(mapper(right_id),tofrom: a,b)` map clauses.   The array sections for these left and right contiguous portions of the matrices  were defined previously in the `declare mapper` directive."
   ]
  },
  {
   "cell_type": "markdown",
   "metadata": {},
   "source": [
    "Note, the  _is_  and  _ie_  scalars are firstprivate  by default for a target region, but are declared firstprivate anyway to remind the user of important firstprivate data-sharing properties required here."
   ]
  },
  {
   "cell_type": "markdown",
   "metadata": {},
   "source": [
    ""
   ]
  },
  {
   "cell_type": "code",
   "execution_count": null,
   "metadata": {},
   "outputs": [],
   "source": [
    "//%compiler: clang\n",
 "//%cflags: -fopenmp\n",
 "\n",
    "/*\n",
    "* name: target_mapper.2\n",
    "* type: C\n",
    "* version: omp_5.0\n",
    "*/\n",
    "#include <stdio.h>\n",
    "//                   N MUST BE EVEN\n",
    "#define N  100\n",
    "\n",
    "  typedef struct dzmat\n",
    "  {\n",
    "     double r_m[N][N];\n",
    "     double i_m[N][N];\n",
    "  } dzmat_t;\n",
    "\n",
    "  #pragma omp declare mapper( top_id: dzmat_t v) \\\n",
    "                      map(v.r_m[0:N/2][0:N],     \\\n",
    "                          v.i_m[0:N/2][0:N]      )\n",
    "\n",
    "  #pragma omp declare mapper(bottom_id: dzmat_t v) \\\n",
    "                      map(v.r_m[N/2:N/2][0:N],     \\\n",
    "                          v.i_m[N/2:N/2][0:N]      )\n",
    "//initialization\n",
    "void dzmat_init(dzmat_t *z, int is, int ie, int n);\n",
    "//matrix add: c=a+b\n",
    "void host_add(  dzmat_t *a, dzmat_t *b, dzmat_t *c, int n);\n",
    "\n",
    "\n",
    "int main()\n",
    "{\n",
    "  dzmat_t a,b,c;\n",
    "  int     is,ie;\n",
    "\n",
    "  is=0; ie=N/2-1;       //top N/2 rows on device 0\n",
    "  #pragma omp target map(mapper(top_id), tofrom: a,b) device(0) \\\n",
    "                     firstprivate(is,ie) nowait\n",
    "  {\n",
    "    dzmat_init(&a,is,ie,N);\n",
    "    dzmat_init(&b,is,ie,N);\n",
    "  }\n",
    "\n",
    "  is=N/2; ie=N-1;       //bottom N/2 rows on device 1\n",
    "  #pragma omp target map(mapper(bottom_id), tofrom: a,b) device(1) \\\n",
    "                     firstprivate(is,ie) nowait\n",
    "  {\n",
    "    dzmat_init(&a,is,ie,N);\n",
    "    dzmat_init(&b,is,ie,N);\n",
    "  }\n",
    "\n",
    "  #pragma omp taskwait\n",
    "\n",
    "  host_add(&a,&b,&c,N);\n",
    "}\n",
    "\n"
   ]
  },
  {
   "cell_type": "markdown",
   "metadata": {},
   "source": [
    ""
   ]
  },
  {
   "cell_type": "markdown",
   "metadata": {},
   "source": [
    ""
   ]
  },
  {
   "cell_type": "code",
   "execution_count": null,
   "metadata": {},
   "outputs": [],
   "source": [
    "\n",
    "! name:       target_mapper.2\n",
    "! type:       F-free\n",
    "! version:    omp_5.0\n",
    "module complex_mats\n",
    "\n",
    "   integer, parameter :: N=100    !N must be even\n",
    "   type dzmat_t\n",
    "     double precision ::  r_m(N,N), i_m(N,N)\n",
    "   end type\n",
    "\n",
    "   !$omp  declare mapper( left_id: dzmat_t :: v) map( v%r_m(N,  1:N/2), &\n",
    "   !$omp&                                             v%i_m(N,  1:N/2))\n",
    "\n",
    "   !$omp  declare mapper(right_id: dzmat_t :: v) map( v%r_m(N,N/2+1:N), &\n",
    "   !$omp&                                             v%i_m(N,N/2+1:N))\n",
    "\n",
    "end module\n",
    "\n",
    "\n",
    "program main\n",
    "  use  complex_mats\n",
    "  type(dzmat_t) :: a,b,c\n",
    "  external dzmat_init, host_add  !initialization and matrix add: a=b+c\n",
    "\n",
    "  integer :: is,ie\n",
    "\n",
    "\n",
    "  is=1; ie=N/2            !left N/2 columns on device 0\n",
    "  !$omp target map(mapper( left_id), tofrom: a,b) device(0) &\n",
    "  !$omp&       firstprivate(is,ie) nowait\n",
    "    call dzmat_init(a,is,ie)\n",
    "    call dzmat_init(b,is,ie)\n",
    "  !$omp end target\n",
    "\n",
    "  is=N/2+1; ie=N         !right N/2 columns on device 1\n",
    "  !$omp target map(mapper(right_id), tofrom: a,b) device(1) &\n",
    "  !$omp&       firstprivate(is,ie) nowait\n",
    "    call dzmat_init(a,is,ie)\n",
    "    call dzmat_init(b,is,ie)\n",
    "  !$omp end target\n",
    "\n",
    "  !$omp taskwait\n",
    "\n",
    "  call host_add(a,b,c)\n",
    "\n",
    "end program main\n",
    "\n"
   ]
  },
  {
   "cell_type": "markdown",
   "metadata": {},
   "source": [
    ""
   ]
  },
  {
   "cell_type": "markdown",
   "metadata": {},
   "source": [
    "In the third example  _myvec_  structures are nested within a  _mypoints_  structure. The  _myvec_t_  type is mapped as in the first example.  Following the  _mypoints_  structure declaration,  the  _mypoints_t_  type is mapped by a `declare mapper` directive.  For this structure the  _hostonly_data_  element will not be mapped; also the array section of  _x_  ( _v.x[:1]_ ) and  _x_  will be mapped; and  _scratch_  will be allocated and used as scratch storage on the device. The default map-type mapping, `tofrom`, applies to the  _x_  array section, but not to  _scratch_  which is explicitly mapped with the `alloc` map-type.  Note: the variable  _v_  is not included in the map list (otherwise the  _hostonly_data_  would be mapped)-- just the elements  to be mapped are listed."
   ]
  },
  {
   "cell_type": "markdown",
   "metadata": {},
   "source": [
    "The two mappers are combined when a  _mypoints_t_  structure type is mapped, because the mapper  _myvec_t_  structure type is used within a  _mypoints_t_  type structure."
   ]
  },
  {
   "cell_type": "markdown",
   "metadata": {},
   "source": [
    ""
   ]
  },
  {
   "cell_type": "code",
   "execution_count": null,
   "metadata": {},
   "outputs": [],
   "source": [
    "//%compiler: clang\n",
 "//%cflags: -fopenmp\n",
 "\n",
    "/*\n",
    "* name: target_mapper.3\n",
    "* type: C\n",
    "* version: omp_5.0\n",
    "*/\n",
    "\n",
    "#include <stdlib.h>\n",
    "#include  <stdio.h>\n",
    "\n",
    "#define N 100\n",
    "\n",
    "typedef struct myvec {\n",
    "    size_t len;\n",
    "    double *data;\n",
    "} myvec_t;\n",
    "\n",
    "#pragma omp declare mapper(myvec_t v) \\\n",
    "                    map(v, v.data[0:v.len])\n",
    "\n",
    "typedef struct mypoints {\n",
    "    struct myvec scratch;\n",
    "    struct myvec *x;\n",
    "    double hostonly_data[500000];\n",
    "} mypoints_t;\n",
    "\n",
    "#pragma omp declare mapper(mypoints_t v)  \\\n",
    "                    map(v.x, v.x[0] ) map(alloc:v.scratch)\n",
    "\n",
    "void init_mypts_array(mypoints_t *P, int n);\n",
    "void eval_mypts_array(mypoints_t *P, int n);\n",
    "\n",
    "int main(){\n",
    "\n",
    "   mypoints_t P;\n",
    "\n",
    "   init_mypts_array(&P, N);\n",
    "\n",
    "   #pragma omp target map(P)\n",
    "   eval_mypts_array(&P, N);\n",
    "\n",
    "}\n",
    "\n"
   ]
  },
  {
   "cell_type": "markdown",
   "metadata": {},
   "source": [
    ""
   ]
  },
  {
   "cell_type": "markdown",
   "metadata": {},
   "source": [
    ""
   ]
  },
  {
   "cell_type": "code",
   "execution_count": null,
   "metadata": {},
   "outputs": [],
   "source": [
    "\n",
    "! name:       target_mapper.3\n",
    "! type:       F-free\n",
    "! version:    omp_5.0\n",
    "\n",
    "module my_structures\n",
    "  type myvec_t\n",
    "    integer                   :: len\n",
    "    double precision, pointer :: data(:)\n",
    "  end type\n",
    "  !$omp  declare mapper(myvec_t :: v) &\n",
    "  !$omp&         map(v)\n",
    "\n",
    "  type mypoints_t\n",
    "     type(myvec_t)            :: scratch\n",
    "     type(myvec_t), pointer   :: x(:)\n",
    "     double precision         :: hostonly_data(500000)\n",
    "  end  type\n",
    " !$omp  declare mapper(mypoints_t :: v)  &\n",
    " !$omp&         map(v%x, v%x(1)) map(alloc:v%scratch)\n",
    "\n",
    "end module\n",
    "\n",
    "\n",
    "program main\n",
    "  use my_structures\n",
    "  external  init_mypts_array, eval_mypts_array\n",
    "\n",
    "  type(mypoints_t) :: P\n",
    "\n",
    "   call init_mypts_array(P)\n",
    "\n",
    "   !$omp target map(P)\n",
    "   call eval_mypts_array(P)\n",
    "\n",
    "end program\n",
    "\n",
    "\n"
   ]
  },
  {
   "cell_type": "markdown",
   "metadata": {},
   "source": [
    ""
   ]
  },
  {
   "cell_type": "markdown",
   "metadata": {},
   "source": [
    "../../devices/target_mapper.tex"
   ]
  },
  {
   "cell_type": "markdown",
   "metadata": {},
   "source": [
    ""
   ]
  },
  {
   "cell_type": "markdown",
   "metadata": {},
   "source": [
    "## `target` `data` Construct"
   ]
  },
  {
   "cell_type": "markdown",
   "metadata": {},
   "source": [
    ""
   ]
  },
  {
   "cell_type": "markdown",
   "metadata": {},
   "source": [
    ""
   ]
  },
  {
   "cell_type": "markdown",
   "metadata": {},
   "source": [
    "### Simple `target` `data` Construct"
   ]
  },
  {
   "cell_type": "markdown",
   "metadata": {},
   "source": [
    "\index{constructs!target data@`target` `data`} \index{target data construct@`target` `data` construct}"
   ]
  },
  {
   "cell_type": "markdown",
   "metadata": {},
   "source": [
    "This example shows how the `target` `data` construct maps variables  to a device data environment. The `target` `data` construct creates  a new device data environment and maps the variables  _v1_ ,  _v2_ , and  _p_  to the new device  data environment. The `target` construct enclosed in the `target`  `data` region creates a new device data environment, which inherits the  variables  _v1_ ,  _v2_ , and  _p_  from the enclosing device data environment. The variable   _N_  is mapped into the new device data environment from the encountering task's data  environment."
   ]
  },
  {
   "cell_type": "markdown",
   "metadata": {},
   "source": [
    ""
   ]
  },
  {
   "cell_type": "code",
   "execution_count": null,
   "metadata": {},
   "outputs": [],
   "source": [
    "//%compiler: clang\n",
 "//%cflags: -fopenmp\n",
 "\n",
    "/*\n",
    "* name: target_data.1\n",
    "* type: C\n",
    "* version: omp_4.0\n",
    "*/\n",
    "extern void init(float*, float*, int);\n",
    "extern void output(float*, int);\n",
    "void vec_mult(float *p, float *v1, float *v2, int N)\n",
    "{\n",
    "   int i;\n",
    "   init(v1, v2, N);\n",
    "   #pragma omp target data map(to: v1[0:N], v2[:N]) map(from: p[0:N])\n",
    "   {\n",
    "      #pragma omp target\n",
    "      #pragma omp parallel for\n",
    "      for (i=0; i<N; i++)\n",
    " p[i] = v1[i] * v2[i];\n",
    "   }\n",
    "   output(p, N);\n",
    "}\n",
    "\n"
   ]
  },
  {
   "cell_type": "markdown",
   "metadata": {},
   "source": [
    ""
   ]
  },
  {
   "cell_type": "markdown",
   "metadata": {},
   "source": [
    "The Fortran code passes a reference and specifies the extent of the arrays in the  declaration. No length information is necessary in the map clause, as is required  with C/C++ pointers."
   ]
  },
  {
   "cell_type": "markdown",
   "metadata": {},
   "source": [
    ""
   ]
  },
  {
   "cell_type": "code",
   "execution_count": null,
   "metadata": {},
   "outputs": [],
   "source": [
    "\n",
    "! name: target_data.1\n",
    "! type: F-free\n",
    "! version:    omp_4.0\n",
    "subroutine vec_mult(p, v1, v2, N)\n",
    "   real    ::  p(N), v1(N), v2(N)\n",
    "   integer ::  i\n",
    "   call init(v1, v2, N)\n",
    "   !$omp target data map(to: v1, v2) map(from: p)\n",
    "   !$omp target\n",
    "   !$omp parallel do\n",
    "      do i=1,N\n",
    "  p(i) = v1(i) * v2(i)\n",
    "      end do\n",
    "   !$omp end target\n",
    "   !$omp end target data\n",
    "   call output(p, N)\n",
    "end subroutine\n",
    "\n"
   ]
  },
  {
   "cell_type": "markdown",
   "metadata": {},
   "source": [
    ""
   ]
  },
  {
   "cell_type": "markdown",
   "metadata": {},
   "source": [
    ""
   ]
  },
  {
   "cell_type": "markdown",
   "metadata": {},
   "source": [
    "### `target` `data` Region Enclosing Multiple `target` Regions"
   ]
  },
  {
   "cell_type": "markdown",
   "metadata": {},
   "source": [
    ""
   ]
  },
  {
   "cell_type": "markdown",
   "metadata": {},
   "source": [
    "The following examples show how the `target` `data` construct maps  variables to a device data environment of a `target` region. The `target`  `data` construct creates a device data environment and encloses `target`  regions, which have their own device data environments. The device data environment  of the `target` `data` region is inherited by the device data environment  of an enclosed `target` region. The `target` `data` construct  is used to create variables that will persist throughout the `target` `data`  region."
   ]
  },
  {
   "cell_type": "markdown",
   "metadata": {},
   "source": [
    "In the following example the variables  _v1_  and  _v2_  are mapped at each `target`  construct. Instead of mapping the variable  _p_  twice, once at each `target`  construct,  _p_  is mapped once by the `target` `data` construct."
   ]
  },
  {
   "cell_type": "markdown",
   "metadata": {},
   "source": [
    ""
   ]
  },
  {
   "cell_type": "code",
   "execution_count": null,
   "metadata": {},
   "outputs": [],
   "source": [
    "//%compiler: clang\n",
 "//%cflags: -fopenmp\n",
 "\n",
    "/*\n",
    "* name: target_data.2\n",
    "* type: C\n",
    "* version: omp_4.0\n",
    "*/\n",
    "extern void init(float*, float*, int);\n",
    "extern void init_again(float*, float*, int);\n",
    "extern void output(float*, int);\n",
    "void vec_mult(float *p, float *v1, float *v2, int N)\n",
    "{\n",
    "   int i;\n",
    "   init(v1, v2, N);\n",
    "   #pragma omp target data map(from: p[0:N])\n",
    "   {\n",
    "      #pragma omp target map(to: v1[:N], v2[:N])\n",
    "      #pragma omp parallel for\n",
    "      for (i=0; i<N; i++)\n",
    " p[i] = v1[i] * v2[i];\n",
    "      init_again(v1, v2, N);\n",
    "      #pragma omp target map(to: v1[:N], v2[:N])\n",
    "      #pragma omp parallel for\n",
    "      for (i=0; i<N; i++)\n",
    " p[i] = p[i] + (v1[i] * v2[i]);\n",
    "   }\n",
    "   output(p, N);\n",
    "}\n",
    "\n"
   ]
  },
  {
   "cell_type": "markdown",
   "metadata": {},
   "source": [
    ""
   ]
  },
  {
   "cell_type": "markdown",
   "metadata": {},
   "source": [
    ""
   ]
  },
  {
   "cell_type": "markdown",
   "metadata": {},
   "source": [
    "The Fortran code uses reference and specifies the extent of the  _p_ ,  _v1_  and  _v2_  arrays.  No length information is necessary in the `map` clause, as is required with  C/C++ pointers. The arrays  _v1_  and  _v2_  are mapped at each `target` construct.  Instead of mapping the array  _p_  twice, once at each target construct,  _p_  is mapped  once by the `target` `data` construct."
   ]
  },
  {
   "cell_type": "markdown",
   "metadata": {},
   "source": [
    ""
   ]
  },
  {
   "cell_type": "code",
   "execution_count": null,
   "metadata": {},
   "outputs": [],
   "source": [
    "\n",
    "! name: target_data.2\n",
    "! type: F-free\n",
    "! version:    omp_4.0\n",
    "subroutine vec_mult(p, v1, v2, N)\n",
    "   real    ::  p(N), v1(N), v2(N)\n",
    "   integer ::  i\n",
    "   call init(v1, v2, N)\n",
    "   !$omp target data map(from: p)\n",
    "      !$omp target map(to: v1, v2 )\n",
    "         !$omp parallel do\n",
    "         do i=1,N\n",
    "            p(i) = v1(i) * v2(i)\n",
    "         end do\n",
    "      !$omp end target\n",
    "      call init_again(v1, v2, N)\n",
    "      !$omp target map(to: v1, v2 )\n",
    "         !$omp parallel do\n",
    "         do i=1,N\n",
    "            p(i) = p(i) + v1(i) * v2(i)\n",
    "         end do\n",
    "      !$omp end target\n",
    "   !$omp end target data\n",
    "   call output(p, N)\n",
    "end subroutine\n",
    "\n"
   ]
  },
  {
   "cell_type": "markdown",
   "metadata": {},
   "source": [
    ""
   ]
  },
  {
   "cell_type": "markdown",
   "metadata": {},
   "source": [
    "\index{target data construct@`target` `data` construct!map clause@`map` clause} \index{target construct@`target` construct!map clause@`map` clause} \index{target construct@`target` construct!implicit mapping} \index{map clause@`map` clause!tofrom map-type@`tofrom` map-type} In the following example, the array  _Q_  is mapped once at the enclosing  `target` `data` region instead of at each `target` construct.  In OpenMP 4.0, a scalar variable is implicitly mapped with the `tofrom` map-type. But since OpenMP 4.5, a scalar variable, such as the  _tmp_  variable, has to be explicitly mapped with  the `tofrom` map-type at the first `target` construct in order to return  its reduced value from the parallel loop construct to the host. The variable defaults to firstprivate at the second `target` construct."
   ]
  },
  {
   "cell_type": "markdown",
   "metadata": {},
   "source": [
    ""
   ]
  },
  {
   "cell_type": "code",
   "execution_count": null,
   "metadata": {},
   "outputs": [],
   "source": [
    "//%compiler: clang\n",
 "//%cflags: -fopenmp\n",
 "\n",
    "/*\n",
    "* name: target_data.3\n",
    "* type: C\n",
    "* version: omp_4.0\n",
    "*/\n",
    "\n",
    "#include <math.h>\n",
    "#define COLS 100\n",
    "\n",
    "void gramSchmidt(float Q[][COLS], const int rows)\n",
    "{\n",
    "    int cols = COLS;\n",
    "    #pragma omp target data map(Q[0:rows][0:cols])\n",
    "    for(int k=0; k < cols; k++)\n",
    "    {\n",
    "        double tmp = 0.0;\n",
    "\n",
    "        #pragma omp target map(tofrom: tmp)\n",
    "        #pragma omp parallel for reduction(+:tmp)\n",
    "        for(int i=0; i < rows; i++)\n",
    "            tmp += (Q[i][k] * Q[i][k]);\n",
    "\n",
    "        tmp = 1/sqrt(tmp);\n",
    "\n",
    "        #pragma omp target\n",
    "        #pragma omp parallel for\n",
    "        for(int i=0; i < rows; i++)\n",
    "            Q[i][k] *= tmp;\n",
    "    }\n",
    "}\n",
    "\n",
    "/* Note:  The variable tmp is now mapped with tofrom, for correct\n",
    "          execution with 4.5 (and pre-4.5) compliant compilers.\n",
    "          See Devices Intro.\n",
    " */\n",
    "\n"
   ]
  },
  {
   "cell_type": "markdown",
   "metadata": {},
   "source": [
    ""
   ]
  },
  {
   "cell_type": "markdown",
   "metadata": {},
   "source": [
    ""
   ]
  },
  {
   "cell_type": "code",
   "execution_count": null,
   "metadata": {},
   "outputs": [],
   "source": [
    "\n",
    "! name: target_data.3\n",
    "! type: F-free\n",
    "! version:    omp_4.0\n",
    "subroutine gramSchmidt(Q,rows,cols)\n",
    "integer             ::   rows,cols,  i,k\n",
    "double precision    :: Q(rows,cols), tmp\n",
    "      !$omp target data map(Q)\n",
    "      do k=1,cols\n",
    "         tmp = 0.0d0\n",
    "        !$omp target map(tofrom: tmp)\n",
    "           !$omp parallel do reduction(+:tmp)\n",
    "           do i=1,rows\n",
    "              tmp = tmp + (Q(i,k) * Q(i,k))\n",
    "           end do\n",
    "        !$omp end target\n",
    "\n",
    "          tmp = 1.0d0/sqrt(tmp)\n",
    "\n",
    "        !$omp target\n",
    "           !$omp parallel do\n",
    "           do i=1,rows\n",
    "               Q(i,k) = Q(i,k)*tmp\n",
    "           enddo\n",
    "        !$omp end target\n",
    "      end do\n",
    "      !$omp end target data\n",
    "end subroutine\n",
    "\n",
    "! Note:  The variable tmp is now mapped with tofrom, for correct\n",
    "! execution with 4.5 (and pre-4.5) compliant compilers. See Devices Intro.\n",
    "\n"
   ]
  },
  {
   "cell_type": "markdown",
   "metadata": {},
   "source": [
    ""
   ]
  },
  {
   "cell_type": "markdown",
   "metadata": {},
   "source": [
    ""
   ]
  },
  {
   "cell_type": "markdown",
   "metadata": {},
   "source": [
    "### `target` `data` Construct with Orphaned Call"
   ]
  },
  {
   "cell_type": "markdown",
   "metadata": {},
   "source": [
    ""
   ]
  },
  {
   "cell_type": "markdown",
   "metadata": {},
   "source": [
    "The following two examples show how the `target` `data` construct  maps variables to a device data environment. The `target` `data`  construct's device data environment encloses the `target` construct's device  data environment in the function `vec_mult()`."
   ]
  },
  {
   "cell_type": "markdown",
   "metadata": {},
   "source": [
    "\index{map clause@`map` clause!alloc map-type@`alloc` map-type} When the type of the variable appearing in an array section is pointer, the pointer  variable and the storage location of the corresponding array section are mapped  to the device data environment. The pointer variable is treated as if it had appeared  in a `map` clause with a map-type of `alloc`. The array section's  storage location is mapped according to the map-type in the `map` clause  (the default map-type is `tofrom`)."
   ]
  },
  {
   "cell_type": "markdown",
   "metadata": {},
   "source": [
    "The `target` construct's device data environment inherits the storage locations  of the array sections  _v1[0:N]_ ,  _v2[:n]_ , and  _p0[0:N]_  from the enclosing `target` `data` construct's device data environment. Neither initialization nor assignment is performed  for the array sections in the new device data environment."
   ]
  },
  {
   "cell_type": "markdown",
   "metadata": {},
   "source": [
    "The pointer variables  _p1_ ,  _v3_ , and  _v4_  are mapped into the `target` construct's device  data environment with an implicit map-type of alloc and they are assigned the address  of the storage location associated with their corresponding array sections. Note  that the following pairs of array section storage locations are equivalent ( _p0[:N]_ ,   _p1[:N]_ ), ( _v1[:N]_ , _v3[:N]_ ), and ( _v2[:N]_ , _v4[:N]_ )."
   ]
  },
  {
   "cell_type": "markdown",
   "metadata": {},
   "source": [
    ""
   ]
  },
  {
   "cell_type": "code",
   "execution_count": null,
   "metadata": {},
   "outputs": [],
   "source": [
    "//%compiler: clang\n",
 "//%cflags: -fopenmp\n",
 "\n",
    "/*\n",
    "* name: target_data.4\n",
    "* type: C\n",
    "* version: omp_4.0\n",
    "*/\n",
    "void vec_mult(float*, float*, float*, int);\n",
    "\n",
    "extern void init(float*, float*, int);\n",
    "extern void output(float*, int);\n",
    "\n",
    "\n",
    "void foo(float *p0, float *v1, float *v2, int N)\n",
    "{\n",
    "   init(v1, v2, N);\n",
    "\n",
    "   #pragma omp target data map(to: v1[0:N], v2[:N]) map(from: p0[0:N])\n",
    "   {\n",
    "      vec_mult(p0, v1, v2, N);\n",
    "   }\n",
    "\n",
    "   output(p0, N);\n",
    "}\n",
    "\n",
    "\n",
    "void vec_mult(float *p1, float *v3, float *v4, int N)\n",
    "{\n",
    "   int i;\n",
    "   #pragma omp target map(to: v3[0:N], v4[:N]) map(from: p1[0:N])\n",
    "   #pragma omp parallel for\n",
    "   for (i=0; i<N; i++)\n",
    "   {\n",
    "     p1[i] = v3[i] * v4[i];\n",
    "   }\n",
    "}\n",
    "\n"
   ]
  },
  {
   "cell_type": "markdown",
   "metadata": {},
   "source": [
    ""
   ]
  },
  {
   "cell_type": "markdown",
   "metadata": {},
   "source": [
    "The Fortran code maps the pointers and storage in an identical manner (same extent,  but uses indices from 1 to  _N_ )."
   ]
  },
  {
   "cell_type": "markdown",
   "metadata": {},
   "source": [
    "The `target` construct's device data environment inherits the storage locations  of the arrays  _v1_ ,  _v2_  and  _p0_  from the enclosing `target` `data` constructs's  device data environment. However, in Fortran the associated data of the pointer  is known, and the shape is not required."
   ]
  },
  {
   "cell_type": "markdown",
   "metadata": {},
   "source": [
    "The pointer variables  _p1_ ,  _v3_ , and  _v4_  are mapped into the `target` construct's  device data environment with an implicit map-type of `alloc` and they are  assigned the address of the storage location associated with their corresponding  array sections. Note that the following pair of array storage locations are equivalent  ( _p0_ , _p1_ ), ( _v1_ , _v3_ ), and ( _v2_ , _v4_ )."
   ]
  },
  {
   "cell_type": "markdown",
   "metadata": {},
   "source": [
    ""
   ]
  },
  {
   "cell_type": "code",
   "execution_count": null,
   "metadata": {},
   "outputs": [],
   "source": [
    "\n",
    "! name: target_data.4\n",
    "! type: F-free\n",
    "! version:    omp_4.0\n",
    "module mults\n",
    "contains\n",
    "subroutine foo(p0,v1,v2,N)\n",
    "real,pointer,dimension(:) :: p0, v1, v2\n",
    "integer                   :: N,i\n",
    "\n",
    "   call init(v1, v2, N)\n",
    "\n",
    "   !$omp target data map(to: v1, v2) map(from: p0)\n",
    "    call vec_mult(p0,v1,v2,N)\n",
    "   !$omp end target data\n",
    "\n",
    "   call output(p0, N)\n",
    "\n",
    "end subroutine\n",
    "\n",
    "subroutine vec_mult(p1,v3,v4,N)\n",
    "real,pointer,dimension(:) :: p1, v3, v4\n",
    "integer                   :: N,i\n",
    "\n",
    "   !$omp target map(to: v3, v4) map(from: p1)\n",
    "   !$omp parallel do\n",
    "   do i=1,N\n",
    "      p1(i) = v3(i) * v4(i)\n",
    "   end do\n",
    "   !$omp end target\n",
    "\n",
    "end subroutine\n",
    "end module\n",
    "\n"
   ]
  },
  {
   "cell_type": "markdown",
   "metadata": {},
   "source": [
    ""
   ]
  },
  {
   "cell_type": "markdown",
   "metadata": {},
   "source": [
    ""
   ]
  },
  {
   "cell_type": "markdown",
   "metadata": {},
   "source": [
    "In the following example, the variables  _p1_ ,  _v3_ , and  _v4_  are references to the pointer  variables  _p0_ ,  _v1_  and  _v2_  respectively. The `target` construct's device data  environment inherits the pointer variables  _p0_ ,  _v1_ , and  _v2_  from the enclosing `target`  `data` construct's device data environment. Thus,  _p1_ ,  _v3_ , and  _v4_  are already  present in the device data environment."
   ]
  },
  {
   "cell_type": "markdown",
   "metadata": {},
   "source": [
    ""
   ]
  },
  {
   "cell_type": "code",
   "execution_count": null,
   "metadata": {},
   "outputs": [],
   "source": [
    "//%compiler: clang\n",
 "//%cflags: -fopenmp\n",
 "\n",
    "/*\n",
    "* name: target_data.5\n",
    "* type: C++\n",
    "* version: omp_4.0\n",
    "*/\n",
    "void vec_mult(float* &, float* &, float* &, int &);\n",
    "extern void init(float*, float*, int);\n",
    "extern void output(float*, int);\n",
    "void foo(float *p0, float *v1, float *v2, int N)\n",
    "{\n",
    "   init(v1, v2, N);\n",
    "   #pragma omp target data map(to: v1[0:N], v2[:N]) map(from: p0[0:N])\n",
    "   {\n",
    "      vec_mult(p0, v1, v2, N);\n",
    "   }\n",
    "   output(p0, N);\n",
    "}\n",
    "void vec_mult(float* &p1, float* &v3, float* &v4, int &N)\n",
    "{\n",
    "   int i;\n",
    "   #pragma omp target map(to: v3[0:N], v4[:N]) map(from: p1[0:N])\n",
    "   #pragma omp parallel for\n",
    "   for (i=0; i<N; i++)\n",
    "     p1[i] = v3[i] * v4[i];\n",
    "}\n",
    "\n"
   ]
  },
  {
   "cell_type": "markdown",
   "metadata": {},
   "source": [
    ""
   ]
  },
  {
   "cell_type": "markdown",
   "metadata": {},
   "source": [
    "In the following example, the usual Fortran approach is used for dynamic memory.  The  _p0_ ,  _v1_ , and  _v2_  arrays are allocated in the main program and passed as references  from one routine to another. In `vec_mult`,  _p1_ ,  _v3_  and  _v4_  are references to the   _p0_ ,  _v1_ , and  _v2_  arrays, respectively. The `target` construct's device data  environment inherits the arrays  _p0_ ,  _v1_ , and  _v2_  from the enclosing target data construct's  device data environment. Thus,  _p1_ ,  _v3_ , and  _v4_  are already present in the device  data environment."
   ]
  },
  {
   "cell_type": "markdown",
   "metadata": {},
   "source": [
    ""
   ]
  },
  {
   "cell_type": "code",
   "execution_count": null,
   "metadata": {},
   "outputs": [],
   "source": [
    "\n",
    "! name: target_data.5\n",
    "! type: F-free\n",
    "! version:    omp_4.0\n",
    "module my_mult\n",
    "contains\n",
    "subroutine foo(p0,v1,v2,N)\n",
    "real,dimension(:) :: p0, v1, v2\n",
    "integer           :: N,i\n",
    "   call init(v1, v2, N)\n",
    "   !$omp target data map(to: v1, v2) map(from: p0)\n",
    "    call vec_mult(p0,v1,v2,N)\n",
    "   !$omp end target data\n",
    "   call output(p0, N)\n",
    "end subroutine\n",
    "subroutine vec_mult(p1,v3,v4,N)\n",
    "real,dimension(:) :: p1, v3, v4\n",
    "integer           :: N,i\n",
    "   !$omp target map(to: v3, v4) map(from: p1)\n",
    "   !$omp parallel do\n",
    "   do i=1,N\n",
    "      p1(i) = v3(i) * v4(i)\n",
    "   end do\n",
    "   !$omp end target\n",
    "end subroutine\n",
    "end module\n",
    "program main\n",
    "use my_mult\n",
    "integer, parameter :: N=1024\n",
    "real,allocatable, dimension(:) :: p, v1, v2\n",
    "   allocate( p(N), v1(N), v2(N) )\n",
    "   call foo(p,v1,v2,N)\n",
    "   deallocate( p, v1, v2 )\n",
    "end program\n",
    "\n"
   ]
  },
  {
   "cell_type": "markdown",
   "metadata": {},
   "source": [
    ""
   ]
  },
  {
   "cell_type": "markdown",
   "metadata": {},
   "source": [
    ""
   ]
  },
  {
   "cell_type": "markdown",
   "metadata": {},
   "source": [
    "### `target` `data` Construct with `if` Clause"
   ]
  },
  {
   "cell_type": "markdown",
   "metadata": {},
   "source": [
    "\index{target data construct@`target` `data` construct!if clause@`if` clause} \index{clauses!if@`if`} \index{if clause@`if` clause}"
   ]
  },
  {
   "cell_type": "markdown",
   "metadata": {},
   "source": [
    "The following two examples show how the `target` `data` construct  maps variables to a device data environment."
   ]
  },
  {
   "cell_type": "markdown",
   "metadata": {},
   "source": [
    "In the following example, the if clause on the `target` `data` construct  indicates that if the variable  _N_  is smaller than a given threshold, then the `target`  `data` construct will not create a device data environment."
   ]
  },
  {
   "cell_type": "markdown",
   "metadata": {},
   "source": [
    "The `target` constructs enclosed in the `target` `data` region  must also use an `if` clause on the same condition, otherwise the pointer  variable  _p_  is implicitly mapped with a map-type of `tofrom`, but the storage  location for the array section  _p[0:N]_  will not be mapped in the device data environments  of the `target` constructs."
   ]
  },
  {
   "cell_type": "markdown",
   "metadata": {},
   "source": [
    ""
   ]
  },
  {
   "cell_type": "code",
   "execution_count": null,
   "metadata": {},
   "outputs": [],
   "source": [
    "//%compiler: clang\n",
 "//%cflags: -fopenmp\n",
 "\n",
    "/*\n",
    "* name: target_data.6\n",
    "* type: C\n",
    "* version: omp_4.0\n",
    "*/\n",
    "#define THRESHOLD 1000000\n",
    "extern void init(float*, float*, int);\n",
    "extern void init_again(float*, float*, int);\n",
    "extern void output(float*, int);\n",
    "void vec_mult(float *p, float *v1, float *v2, int N)\n",
    "{\n",
    "   int i;\n",
    "   init(v1, v2, N);\n",
    "   #pragma omp target data if(N>THRESHOLD) map(from: p[0:N])\n",
    "   {\n",
    "      #pragma omp target if (N>THRESHOLD) map(to: v1[:N], v2[:N])\n",
    "      #pragma omp parallel for\n",
    "      for (i=0; i<N; i++)\n",
    "        p[i] = v1[i] * v2[i];\n",
    "      init_again(v1, v2, N);\n",
    "      #pragma omp target if (N>THRESHOLD) map(to: v1[:N], v2[:N])\n",
    "      #pragma omp parallel for\n",
    "      for (i=0; i<N; i++)\n",
    "        p[i] = p[i] + (v1[i] * v2[i]);\n",
    "   }\n",
    "   output(p, N);\n",
    "}\n",
    "\n"
   ]
  },
  {
   "cell_type": "markdown",
   "metadata": {},
   "source": [
    ""
   ]
  },
  {
   "cell_type": "markdown",
   "metadata": {},
   "source": [
    "The `if` clauses work the same way for the following Fortran code. The `target`  constructs enclosed in the `target` `data` region should also use  an `if` clause with the same condition, so that the `target` `data`  region and the `target` region are either both created for the device, or  are both ignored."
   ]
  },
  {
   "cell_type": "markdown",
   "metadata": {},
   "source": [
    ""
   ]
  },
  {
   "cell_type": "code",
   "execution_count": null,
   "metadata": {},
   "outputs": [],
   "source": [
    "\n",
    "! name: target_data.6\n",
    "! type: F-free\n",
    "! version:    omp_4.0\n",
    "module params\n",
    "integer,parameter :: THRESHOLD=1000000\n",
    "end module\n",
    "subroutine vec_mult(p, v1, v2, N)\n",
    "   use params\n",
    "   real    ::  p(N), v1(N), v2(N)\n",
    "   integer ::  i\n",
    "   call init(v1, v2, N)\n",
    "   !$omp target data if(N>THRESHOLD) map(from: p)\n",
    "      !$omp target if(N>THRESHOLD) map(to: v1, v2)\n",
    "         !$omp parallel do\n",
    "         do i=1,N\n",
    "            p(i) = v1(i) * v2(i)\n",
    "         end do\n",
    "      !$omp end target\n",
    "      call init_again(v1, v2, N)\n",
    "      !$omp target if(N>THRESHOLD) map(to: v1, v2)\n",
    "         !$omp parallel do\n",
    "         do i=1,N\n",
    "            p(i) = p(i) + v1(i) * v2(i)\n",
    "         end do\n",
    "      !$omp end target\n",
    "   !$omp end target data\n",
    "   call output(p, N)\n",
    "end subroutine\n",
    "\n"
   ]
  },
  {
   "cell_type": "markdown",
   "metadata": {},
   "source": [
    ""
   ]
  },
  {
   "cell_type": "markdown",
   "metadata": {},
   "source": [
    "In the following example, when the `if` clause conditional expression on  the `target` construct evaluates to  _false_ , the target region will  execute on the host device. However, the `target` `data` construct  created an enclosing device data environment that mapped  _p[0:N]_  to a device data  environment on the default device. At the end of the `target` `data`  region the array section  _p[0:N]_  will be assigned from the device data environment  to the corresponding variable in the data environment of the task that encountered  the `target` `data` construct, resulting in undefined values in  _p[0:N]_ ."
   ]
  },
  {
   "cell_type": "markdown",
   "metadata": {},
   "source": [
    ""
   ]
  },
  {
   "cell_type": "code",
   "execution_count": null,
   "metadata": {},
   "outputs": [],
   "source": [
    "//%compiler: clang\n",
 "//%cflags: -fopenmp\n",
 "\n",
    "/*\n",
    "* name: target_data.7\n",
    "* type: C\n",
    "* version: omp_4.0\n",
    "*/\n",
    "#define THRESHOLD 1000000\n",
    "extern void init(float*, float*, int);\n",
    "extern void output(float*, int);\n",
    "void vec_mult(float *p, float *v1, float *v2, int N)\n",
    "{\n",
    "   int i;\n",
    "   init(v1, v2, N);\n",
    "   #pragma omp target data map(from: p[0:N])\n",
    "   {\n",
    "      #pragma omp target if (N>THRESHOLD) map(to: v1[:N], v2[:N])\n",
    "      #pragma omp parallel for\n",
    "      for (i=0; i<N; i++)\n",
    "        p[i] = v1[i] * v2[i];\n",
    "   } /* UNDEFINED behavior if N<=THRESHOLD */\n",
    "   output(p, N);\n",
    "}\n",
    "\n"
   ]
  },
  {
   "cell_type": "markdown",
   "metadata": {},
   "source": [
    ""
   ]
  },
  {
   "cell_type": "markdown",
   "metadata": {},
   "source": [
    "The `if` clauses work the same way for the following Fortran code. When  the `if` clause conditional expression on the `target` construct  evaluates to  _false_ , the `target` region will execute on the host  device. However, the `target` `data` construct created an enclosing  device data environment that mapped the  _p_  array (and  _v1_  and  _v2_ ) to a device data  environment on the default target device. At the end of the `target` `data`  region the  _p_  array will be assigned from the device data environment to the corresponding  variable in the data environment of the task that encountered the `target`  `data` construct, resulting in undefined values in  _p_ ."
   ]
  },
  {
   "cell_type": "markdown",
   "metadata": {},
   "source": [
    ""
   ]
  },
  {
   "cell_type": "code",
   "execution_count": null,
   "metadata": {},
   "outputs": [],
   "source": [
    "\n",
    "! name: target_data.7\n",
    "! type: F-free\n",
    "! version:    omp_4.0\n",
    "module params\n",
    "integer, parameter :: THRESHOLD=1000000\n",
    "end module\n",
    "subroutine vec_mult(p, v1, v2, N)\n",
    "   use params\n",
    "   real    ::  p(N), v1(N), v2(N)\n",
    "   integer ::  i\n",
    "   call init(v1, v2, N)\n",
    "   !$omp target data map(from: p)\n",
    "      !$omp target if(N>THRESHOLD) map(to: v1, v2)\n",
    "         !$omp parallel do\n",
    "         do i=1,N\n",
    "            p(i) = v1(i) * v2(i)\n",
    "         end do\n",
    "      !$omp end target\n",
    "   !$omp end target data\n",
    "   call output(p, N)  !*** UNDEFINED behavior if N<=THRESHOLD\n",
    "end subroutine\n",
    "\n"
   ]
  },
  {
   "cell_type": "markdown",
   "metadata": {},
   "source": [
    ""
   ]
  },
  {
   "cell_type": "markdown",
   "metadata": {},
   "source": [
    "../../devices/target_data.tex"
   ]
  },
  {
   "cell_type": "markdown",
   "metadata": {},
   "source": [
    ""
   ]
  },
  {
   "cell_type": "markdown",
   "metadata": {},
   "source": [
    "## `target` `enter` `data` and `target` `exit` `data` Constructs"
   ]
  },
  {
   "cell_type": "markdown",
   "metadata": {},
   "source": [
    "\index{constructs!target enter data@`target` `enter` `data`} \index{constructs!target exit data@`target` `exit` `data`} \index{target enter data construct@`target` `enter` `data` construct} \index{target exit data construct@`target` `exit` `data` construct}"
   ]
  },
  {
   "cell_type": "markdown",
   "metadata": {},
   "source": [
    "The structured data construct (`target` `data`) provides persistent data on a device for subsequent `target` constructs as shown in the  `target` `data` examples above. This is accomplished by creating a single `target` `data` region containing `target` constructs."
   ]
  },
  {
   "cell_type": "markdown",
   "metadata": {},
   "source": [
    "The unstructured data constructs allow the creation and deletion of data on the device at any appropriate point within the host code, as shown below  with the `target` `enter` `data` and `target` `exit` `data` constructs."
   ]
  },
  {
   "cell_type": "markdown",
   "metadata": {},
   "source": [
    "\index{map clause@`map` clause!alloc map-type@`alloc` map-type} \index{map clause@`map` clause!delete map-type@`delete` map-type} \index{alloc map-type@`alloc` map-type} \index{delete map-type@`delete` map-type} The following C++ code creates/deletes a vector in a constructor/destructor  of a class. The constructor creates a vector with `target` `enter` `data` and uses an `alloc` modifier in the `map` clause to avoid copying values to the device. The destructor deletes the data (`target` `exit` `data`) and uses the `delete` modifier in the `map` clause to avoid copying data back to the host. Note, the stand-alone `target` `enter` `data` occurs  after the host vector is created, and the `target` `exit` `data` construct occurs before the host data is deleted."
   ]
  },
  {
   "cell_type": "markdown",
   "metadata": {},
   "source": [
    ""
   ]
  },
  {
   "cell_type": "code",
   "execution_count": null,
   "metadata": {},
   "outputs": [],
   "source": [
    "//%compiler: clang\n",
 "//%cflags: -fopenmp\n",
 "\n",
    "/*\n",
    "* name:        target_unstructured_data.1\n",
    "* type:        C++\n",
    "* version:     omp_4.5\n",
    "*/\n",
    "class Matrix\n",
    "{\n",
    "\n",
    "  Matrix(int n) {\n",
    "    len = n;\n",
    "    v = new double[len];\n",
    "    #pragma omp target enter data map(alloc:v[0:len])\n",
    "  }\n",
    "\n",
    "  ~Matrix() {\n",
    "    // NOTE: delete map type should be used, since the corresponding\n",
    "    // host data will cease to exist after the deconstructor is called.\n",
    "\n",
    "    #pragma omp target exit data map(delete:v[0:len])\n",
    "    delete[] v;\n",
    "  }\n",
    "\n",
    "  private:\n",
    "  double* v;\n",
    "  int len;\n",
    "\n",
    "};\n",
    "\n"
   ]
  },
  {
   "cell_type": "markdown",
   "metadata": {},
   "source": [
    ""
   ]
  },
  {
   "cell_type": "markdown",
   "metadata": {},
   "source": [
    "The following C code allocates and frees the data member of a Matrix structure. The `init_matrix` function allocates the memory used in the structure and uses the `target` `enter` `data` directive to map it to the target device. The `free_matrix` function removes the mapped array from the target device and then frees the memory on the host.  Note, the stand-alone  `target` `enter` `data` occurs after the host memory is allocated, and the  `target` `exit` `data` construct occurs before the host data is freed."
   ]
  },
  {
   "cell_type": "markdown",
   "metadata": {},
   "source": [
    ""
   ]
  },
  {
   "cell_type": "code",
   "execution_count": null,
   "metadata": {},
   "outputs": [],
   "source": [
    "//%compiler: clang\n",
 "//%cflags: -fopenmp\n",
 "\n",
    "/*\n",
    " * name:        target_unstructured_data.1\n",
    " * type:        C\n",
    " * version:     omp_4.5\n",
    " */\n",
    "#include <stdlib.h>\n",
    "typedef struct {\n",
    "  double *A;\n",
    "  int N;\n",
    "} Matrix;\n",
    "\n",
    "void init_matrix(Matrix *mat, int n)\n",
    "{\n",
    "  mat->A = (double *)malloc(n*sizeof(double));\n",
    "  mat->N = n;\n",
    "  #pragma omp target enter data map(alloc:mat->A[:n])\n",
    "}\n",
    "\n",
    "void free_matrix(Matrix *mat)\n",
    "{\n",
    "  #pragma omp target exit data map(delete:mat->A[:mat->N])\n",
    "  mat->N = 0;\n",
    "  free(mat->A);\n",
    "  mat->A = NULL;\n",
    "}\n",
    "\n"
   ]
  },
  {
   "cell_type": "markdown",
   "metadata": {},
   "source": [
    ""
   ]
  },
  {
   "cell_type": "markdown",
   "metadata": {},
   "source": [
    "The following Fortran code allocates and deallocates a module array.  The `initialize` subroutine allocates the module array and uses the `target` `enter` `data` directive to map it to the target device. The `finalize` subroutine removes the mapped array from the target device and then deallocates the array on the host.  Note, the stand-alone  `target` `enter` `data` occurs after the host memory is allocated, and the  `target` `exit` `data` construct occurs before the host data is deallocated."
   ]
  },
  {
   "cell_type": "markdown",
   "metadata": {},
   "source": [
    ""
   ]
  },
  {
   "cell_type": "code",
   "execution_count": null,
   "metadata": {},
   "outputs": [],
   "source": [
    "\n",
    "! name:        target_unstructured_data.1\n",
    "! type:        F-free\n",
    "! version:     omp_4.5\n",
    "module example\n",
    "  real(8), allocatable :: A(:)\n",
    "\n",
    "  contains\n",
    "    subroutine initialize(N)\n",
    "      integer :: N\n",
    "\n",
    "      allocate(A(N))\n",
    "      !$omp target enter data map(alloc:A)\n",
    "\n",
    "    end subroutine initialize\n",
    "\n",
    "    subroutine finalize()\n",
    "\n",
    "      !$omp target exit data map(delete:A)\n",
    "      deallocate(A)\n",
    "\n",
    "    end subroutine finalize\n",
    "end module example\n",
    "\n"
   ]
  },
  {
   "cell_type": "markdown",
   "metadata": {},
   "source": [
    ""
   ]
  },
  {
   "cell_type": "markdown",
   "metadata": {},
   "source": [
    "../../devices/target_unstructured_data.tex"
   ]
  },
  {
   "cell_type": "markdown",
   "metadata": {},
   "source": [
    ""
   ]
  },
  {
   "cell_type": "markdown",
   "metadata": {},
   "source": [
    "## `target` `update` Construct"
   ]
  },
  {
   "cell_type": "markdown",
   "metadata": {},
   "source": [
    ""
   ]
  },
  {
   "cell_type": "markdown",
   "metadata": {},
   "source": [
    ""
   ]
  },
  {
   "cell_type": "markdown",
   "metadata": {},
   "source": [
    "### Simple `target` `data` and `target` `update` Constructs"
   ]
  },
  {
   "cell_type": "markdown",
   "metadata": {},
   "source": [
    "\index{constructs!target data@`target` `data`} \index{target data construct@`target` `data` construct} \index{constructs!target update@`target` `update`} \index{target update construct@`target` `update` construct} \index{target update construct@`target` `update` construct!to clause@`to` clause} \index{target update construct@`target` `update` construct!from clause@`from` clause} \index{target update construct@`target` `update` construct!motion-clause@ _motion-clause_ } \index{clauses!motion-clause@ _motion-clause_ } \index{clauses!to@`to`} \index{clauses!from@`from`} \index{motion-clause@ _motion-clause_ !to clause@`to` clause} \index{motion-clause@ _motion-clause_ !from clause@`from` clause}"
   ]
  },
  {
   "cell_type": "markdown",
   "metadata": {},
   "source": [
    "The following example shows how the `target` `update` construct updates  variables in a device data environment."
   ]
  },
  {
   "cell_type": "markdown",
   "metadata": {},
   "source": [
    "The `target` `data` construct maps array sections  _v1[:N]_  and  _v2[:N]_   (arrays  _v1_  and  _v2_  in the Fortran code) into a device data environment."
   ]
  },
  {
   "cell_type": "markdown",
   "metadata": {},
   "source": [
    "The task executing on the host device encounters the first `target` region  and waits for the completion of the region."
   ]
  },
  {
   "cell_type": "markdown",
   "metadata": {},
   "source": [
    "After the execution of the first `target` region, the task executing on  the host device then assigns new values to  _v1[:N]_  and  _v2[:N]_  ( _v1_  and  _v2_  arrays  in Fortran code) in the task's data environment by calling the function `init_again()`."
   ]
  },
  {
   "cell_type": "markdown",
   "metadata": {},
   "source": [
    "The `target` `update` construct assigns the new values of  _v1_  and   _v2_  from the task's data environment to the corresponding mapped array sections  in the device data environment of the `target` `data` construct."
   ]
  },
  {
   "cell_type": "markdown",
   "metadata": {},
   "source": [
    "The task executing on the host device then encounters the second `target`  region and waits for the completion of the region."
   ]
  },
  {
   "cell_type": "markdown",
   "metadata": {},
   "source": [
    "The second `target` region uses the updated values of  _v1[:N]_  and  _v2[:N]_ ."
   ]
  },
  {
   "cell_type": "markdown",
   "metadata": {},
   "source": [
    ""
   ]
  },
  {
   "cell_type": "code",
   "execution_count": null,
   "metadata": {},
   "outputs": [],
   "source": [
    "//%compiler: clang\n",
 "//%cflags: -fopenmp\n",
 "\n",
    "/*\n",
    "* name: target_update.1\n",
    "* type: C\n",
    "* version: omp_4.0\n",
    "*/\n",
    "extern void init(float *, float *, int);\n",
    "extern void init_again(float *, float *, int);\n",
    "extern void output(float *, int);\n",
    "void vec_mult(float *p, float *v1, float *v2, int N)\n",
    "{\n",
    "   int i;\n",
    "   init(v1, v2, N);\n",
    "   #pragma omp target data map(to: v1[:N], v2[:N]) map(from: p[0:N])\n",
    "   {\n",
    "      #pragma omp target\n",
    "      #pragma omp parallel for\n",
    "      for (i=0; i<N; i++)\n",
    " p[i] = v1[i] * v2[i];\n",
    "      init_again(v1, v2, N);\n",
    "      #pragma omp target update to(v1[:N], v2[:N])\n",
    "      #pragma omp target\n",
    "      #pragma omp parallel for\n",
    "      for (i=0; i<N; i++)\n",
    " p[i] = p[i] + (v1[i] * v2[i]);\n",
    "   }\n",
    "   output(p, N);\n",
    "}\n",
    "\n"
   ]
  },
  {
   "cell_type": "markdown",
   "metadata": {},
   "source": [
    ""
   ]
  },
  {
   "cell_type": "markdown",
   "metadata": {},
   "source": [
    ""
   ]
  },
  {
   "cell_type": "code",
   "execution_count": null,
   "metadata": {},
   "outputs": [],
   "source": [
    "\n",
    "! name: target_update.1\n",
    "! type: F-free\n",
    "! version:     omp_4.0\n",
    "subroutine vec_mult(p, v1, v2, N)\n",
    "   real    ::  p(N), v1(N), v2(N)\n",
    "   integer ::  i\n",
    "   call init(v1, v2, N)\n",
    "   !$omp target data map(to: v1, v2) map(from: p)\n",
    "      !$omp target\n",
    "      !$omp parallel do\n",
    "         do i=1,N\n",
    "            p(i) = v1(i) * v2(i)\n",
    "         end do\n",
    "      !$omp end target\n",
    "      call init_again(v1, v2, N)\n",
    "      !$omp target update to(v1, v2)\n",
    "      !$omp target\n",
    "      !$omp parallel do\n",
    "         do i=1,N\n",
    "            p(i) = p(i) + v1(i) * v2(i)\n",
    "         end do\n",
    "      !$omp end target\n",
    "   !$omp end target data\n",
    "   call output(p, N)\n",
    "end subroutine\n",
    "\n"
   ]
  },
  {
   "cell_type": "markdown",
   "metadata": {},
   "source": [
    ""
   ]
  },
  {
   "cell_type": "markdown",
   "metadata": {},
   "source": [
    ""
   ]
  },
  {
   "cell_type": "markdown",
   "metadata": {},
   "source": [
    "### `target` `update` Construct with `if` Clause"
   ]
  },
  {
   "cell_type": "markdown",
   "metadata": {},
   "source": [
    "\index{target update construct@`target` `update` construct!if clause@`if` clause} \index{clauses!if@`if`} \index{if clause@`if` clause}"
   ]
  },
  {
   "cell_type": "markdown",
   "metadata": {},
   "source": [
    "The following example shows how the `target` `update` construct updates  variables in a device data environment."
   ]
  },
  {
   "cell_type": "markdown",
   "metadata": {},
   "source": [
    "The `target` `data` construct maps array sections  _v1[:N]_  and  _v2[:N]_   (arrays  _v1_  and  _v2_  in the Fortran code) into a device data environment. In between  the two `target` regions, the task executing on the host device conditionally  assigns new values to  _v1_  and  _v2_  in the task's data environment. The function `maybe_init_again()`  returns  _true_  if new data is written."
   ]
  },
  {
   "cell_type": "markdown",
   "metadata": {},
   "source": [
    "When the conditional expression (the return value of `maybe_init_again()`) in the  `if` clause is  _true_ , the `target` `update` construct  assigns the new values of  _v1_  and  _v2_  from the task's data environment to the corresponding  mapped array sections in the `target` `data` construct's device data  environment."
   ]
  },
  {
   "cell_type": "markdown",
   "metadata": {},
   "source": [
    ""
   ]
  },
  {
   "cell_type": "code",
   "execution_count": null,
   "metadata": {},
   "outputs": [],
   "source": [
    "//%compiler: clang\n",
 "//%cflags: -fopenmp\n",
 "\n",
    "/*\n",
    "* name: target_update.2\n",
    "* type: C\n",
    "* version: omp_4.0\n",
    "*/\n",
    "extern void init(float *, float *, int);\n",
    "extern int maybe_init_again(float *, int);\n",
    "extern void output(float *, int);\n",
    "void vec_mult(float *p, float *v1, float *v2, int N)\n",
    "{\n",
    "   int i;\n",
    "   init(v1, v2, N);\n",
    "   #pragma omp target data map(to: v1[:N], v2[:N]) map(from: p[0:N])\n",
    "   {\n",
    "      int changed;\n",
    "      #pragma omp target\n",
    "      #pragma omp parallel for\n",
    "      for (i=0; i<N; i++)\n",
    "        p[i] = v1[i] * v2[i];\n",
    "      changed = maybe_init_again(v1,  N);\n",
    "      #pragma omp target update if (changed) to(v1[:N])\n",
    "      changed = maybe_init_again(v2,  N);\n",
    "      #pragma omp target update if (changed) to(v2[:N])\n",
    "      #pragma omp target\n",
    "      #pragma omp parallel for\n",
    "      for (i=0; i<N; i++)\n",
    "        p[i] = p[i] + (v1[i] * v2[i]);\n",
    "   }\n",
    "   output(p, N);\n",
    "}\n",
    "\n"
   ]
  },
  {
   "cell_type": "markdown",
   "metadata": {},
   "source": [
    ""
   ]
  },
  {
   "cell_type": "markdown",
   "metadata": {},
   "source": [
    ""
   ]
  },
  {
   "cell_type": "code",
   "execution_count": null,
   "metadata": {},
   "outputs": [],
   "source": [
    "\n",
    "! name: target_update.2\n",
    "! type: F-free\n",
    "! version:     omp_4.0\n",
    "subroutine vec_mult(p, v1, v2, N)\n",
    "   interface\n",
    "      logical function maybe_init_again (v1, N)\n",
    "      real :: v1(N)\n",
    "      integer :: N\n",
    "      end function\n",
    "   end interface\n",
    "   real    ::  p(N), v1(N), v2(N)\n",
    "   integer ::  i\n",
    "   logical :: changed\n",
    "   call init(v1, v2, N)\n",
    "   !$omp target data map(to: v1, v2) map(from: p)\n",
    "      !$omp target\n",
    "         !$omp parallel do\n",
    "         do i=1, N\n",
    "            p(i) = v1(i) * v2(i)\n",
    "         end do\n",
    "      !$omp end target\n",
    "      changed = maybe_init_again(v1, N)\n",
    "      !$omp target update if(changed) to(v1(:N))\n",
    "      changed = maybe_init_again(v2, N)\n",
    "      !$omp target update if(changed) to(v2(:N))\n",
    "      !$omp target\n",
    "         !$omp parallel do\n",
    "         do i=1, N\n",
    "            p(i) = p(i) + v1(i) * v2(i)\n",
    "         end do\n",
    "      !$omp end target\n",
    "   !$omp end target data\n",
    "   call output(p, N)\n",
    "end subroutine\n",
    "\n"
   ]
  },
  {
   "cell_type": "markdown",
   "metadata": {},
   "source": [
    ""
   ]
  },
  {
   "cell_type": "markdown",
   "metadata": {},
   "source": [
    "../../devices/target_update.tex"
   ]
  },
  {
   "cell_type": "markdown",
   "metadata": {},
   "source": [
    ""
   ]
  },
  {
   "cell_type": "markdown",
   "metadata": {},
   "source": [
    "## Declare Target Directive"
   ]
  },
  {
   "cell_type": "markdown",
   "metadata": {},
   "source": [
    ""
   ]
  },
  {
   "cell_type": "markdown",
   "metadata": {},
   "source": [
    ""
   ]
  },
  {
   "cell_type": "markdown",
   "metadata": {},
   "source": [
    ""
   ]
  },
  {
   "cell_type": "markdown",
   "metadata": {},
   "source": [
    "### Declare Target Directive for a Procedure"
   ]
  },
  {
   "cell_type": "markdown",
   "metadata": {},
   "source": [
    ""
   ]
  },
  {
   "cell_type": "markdown",
   "metadata": {},
   "source": [
    ""
   ]
  },
  {
   "cell_type": "markdown",
   "metadata": {},
   "source": [
    "\index{directives!declare target@`declare` `target`} \index{declare target directive@`declare` `target` directive}"
   ]
  },
  {
   "cell_type": "markdown",
   "metadata": {},
   "source": [
    "\index{directives!begin declare target@`begin` `declare` `target`} \index{begin declare target directive@`begin` `declare` `target` directive}"
   ]
  },
  {
   "cell_type": "markdown",
   "metadata": {},
   "source": [
    "The following example shows how the declare target directive  is used to indicate that the corresponding call inside a `target` region  is to a `fib` function that can execute on the default target device."
   ]
  },
  {
   "cell_type": "markdown",
   "metadata": {},
   "source": [
    "A version of the function is also available on the host device. When the `if`  clause conditional expression on the `target` construct evaluates to  _false_ ,  the `target` region (thus `fib`) will execute on the host device."
   ]
  },
  {
   "cell_type": "markdown",
   "metadata": {},
   "source": [
    "For the following C/C++ code the declaration of the function `fib` appears between the  `begin` `declare` `target` and `end` `declare` `target` directives.  In the corresponding Fortran code, the `declare` `target` directive appears at the end of the specification part of the subroutine."
   ]
  },
  {
   "cell_type": "markdown",
   "metadata": {},
   "source": [
    ""
   ]
  },
  {
   "cell_type": "code",
   "execution_count": null,
   "metadata": {},
   "outputs": [],
   "source": [
    "//%compiler: clang\n",
 "//%cflags: -fopenmp\n",
 "\n",
    "/*\n",
    "* name: declare_target.1\n",
    "* type: C\n",
    "* version: omp_5.1\n",
    "*/\n",
    "#pragma omp begin declare target\n",
    "extern void fib(int N);\n",
    "#pragma omp end declare target\n",
    "\n",
    "#define THRESHOLD 1000000\n",
    "void fib_wrapper(int n)\n",
    "{\n",
    "   #pragma omp target if(n > THRESHOLD)\n",
    "   {\n",
    "      fib(n);\n",
    "   }\n",
    "}\n",
    "\n"
   ]
  },
  {
   "cell_type": "markdown",
   "metadata": {},
   "source": [
    ""
   ]
  },
  {
   "cell_type": "markdown",
   "metadata": {},
   "source": [
    "The Fortran `fib` subroutine contains a `declare` `target` declaration  to indicate to the compiler to create an device executable version of the procedure.  The subroutine name has not been included on the `declare` `target`  directive and is, therefore, implicitly assumed."
   ]
  },
  {
   "cell_type": "markdown",
   "metadata": {},
   "source": [
    "The program uses the `module_fib` module, which presents an explicit interface to  the compiler with the `declare` `target` declarations for processing  the `fib` call."
   ]
  },
  {
   "cell_type": "markdown",
   "metadata": {},
   "source": [
    ""
   ]
  },
  {
   "cell_type": "code",
   "execution_count": null,
   "metadata": {},
   "outputs": [],
   "source": [
    "\n",
    "! name: declare_target.1\n",
    "! type: F-free\n",
    "! version: omp_4.0\n",
    "module module_fib\n",
    "contains\n",
    "   subroutine fib(N)\n",
    "      integer :: N\n",
    "      !$omp declare target\n",
    "      !...\n",
    "   end subroutine\n",
    "end module\n",
    "module params\n",
    "integer :: THRESHOLD=1000000\n",
    "end module\n",
    "program my_fib\n",
    "use params\n",
    "use module_fib\n",
    "   !$omp target if( N > THRESHOLD )\n",
    "      call fib(N)\n",
    "   !$omp end target\n",
    "end program\n",
    "\n"
   ]
  },
  {
   "cell_type": "markdown",
   "metadata": {},
   "source": [
    ""
   ]
  },
  {
   "cell_type": "markdown",
   "metadata": {},
   "source": [
    "The next Fortran example shows the use of an external subroutine. As the subroutine is neither use associated nor an internal procedure, the `declare` `target` declarations within a external subroutine are unknown to the main program unit;  therefore, a `declare` `target` must be provided within the program scope for the compiler to determine that a target binary should be available."
   ]
  },
  {
   "cell_type": "markdown",
   "metadata": {},
   "source": [
    ""
   ]
  },
  {
   "cell_type": "code",
   "execution_count": null,
   "metadata": {},
   "outputs": [],
   "source": [
    "\n",
    "! name: declare_target.2\n",
    "! type: F-free\n",
    "! version: omp_4.0\n",
    "program my_fib\n",
    "integer :: N = 8\n",
    "interface\n",
    "  subroutine fib(N)\n",
    "    !$omp declare target\n",
    "    integer :: N\n",
    "  end subroutine fib\n",
    "end interface\n",
    "   !$omp target\n",
    "      call fib(N)\n",
    "   !$omp end target\n",
    "end program\n",
    "subroutine fib(N)\n",
    "integer :: N\n",
    "!$omp declare target\n",
    "     print*,\"hello from fib\"\n",
    "     !...\n",
    "end subroutine\n",
    "\n"
   ]
  },
  {
   "cell_type": "markdown",
   "metadata": {},
   "source": [
    ""
   ]
  },
  {
   "cell_type": "markdown",
   "metadata": {},
   "source": [
    ""
   ]
  },
  {
   "cell_type": "markdown",
   "metadata": {},
   "source": [
    "### Declare Target Directive for Class Type"
   ]
  },
  {
   "cell_type": "markdown",
   "metadata": {},
   "source": [
    ""
   ]
  },
  {
   "cell_type": "markdown",
   "metadata": {},
   "source": [
    "\index{directives!begin declare target@`begin` `declare` `target`} \index{begin declare target directive@`begin` `declare` `target` directive}"
   ]
  },
  {
   "cell_type": "markdown",
   "metadata": {},
   "source": [
    "The following example shows the use of the `begin` `declare` `target` and `end` `declare` `target` pair to designate the beginning and end of the affected declarations, as introduced in OpenMP 5.1. The `begin` `declare` `target` directive was defined to symmetrically complement the terminating (\"end'') directive."
   ]
  },
  {
   "cell_type": "markdown",
   "metadata": {},
   "source": [
    ""
   ]
  },
  {
   "cell_type": "markdown",
   "metadata": {},
   "source": [
    "The example also shows 3 different ways to use a declare target directive for a  class and an external member-function definition (for the  _XOR1_ ,  _XOR2_ ,  and  _XOR3_  classes and definitions for their corresponding  _foo_  member functions)."
   ]
  },
  {
   "cell_type": "markdown",
   "metadata": {},
   "source": [
    "For  _XOR1_ , a `begin` `declare` `target` and  `end` `declare` `target` directive enclose both the class and its member function definition. The compiler immediately knows to create a device version of the function for execution in a `target` region."
   ]
  },
  {
   "cell_type": "markdown",
   "metadata": {},
   "source": [
    "For  _XOR2_ , the class member function definition is not specified with a declare target directive. An implicit declare target is created for the member function definition. The same applies if this declaration arrangement for the class and function  are included through a header file."
   ]
  },
  {
   "cell_type": "markdown",
   "metadata": {},
   "source": [
    "For  _XOR3_ , the class and its member function are not enclosed by `begin` `declare` `target` and `end` `declare` `target` directives, but there is an implicit declare target since the class, its function and the `target` construct are in the same file scope. That is, the class and its function are treated as if delimited by a declare target directive. The same applies if the class and function are included through a header file."
   ]
  },
  {
   "cell_type": "markdown",
   "metadata": {},
   "source": [
    ""
   ]
  },
  {
   "cell_type": "code",
   "execution_count": null,
   "metadata": {},
   "outputs": [],
   "source": [
    "//%compiler: clang\n",
 "//%cflags: -fopenmp\n",
 "\n",
    "/*\n",
    "* name:       declare_target.2a\n",
    "* type:       C++\n",
    "* version:    omp_5.1\n",
    "*/\n",
    "#include <iostream>\n",
    "using namespace std;\n",
    "\n",
    "  #pragma omp begin declare target // declare target--class and function\n",
    "  class XOR1\n",
    "  {\n",
    "      int a;\n",
    "    public:\n",
    "      XOR1(int arg): a(arg) {};\n",
    "      int foo();\n",
    "  }\n",
    "  int XOR1::foo() { return a^0x01;}\n",
    "  #pragma omp end declare target\n",
    "\n",
    "  #pragma omp begin declare target // declare target--class, not function\n",
    "  class XOR2\n",
    "  {\n",
    "      int a;\n",
    "    public:\n",
    "      XOR2(int arg): a(arg) {};\n",
    "      int foo();\n",
    "  };\n",
    "  #pragma omp end declare target\n",
    "\n",
    "  int XOR2::foo() { return a^0x01;}\n",
    "\n",
    "  class XOR3                // declare target--neither class nor function\n",
    "  {\n",
    "      int a;\n",
    "    public:\n",
    "      XOR3(int arg): a(arg) {};\n",
    "      int foo();\n",
    "  };\n",
    "  int XOR3::foo() { return a^0x01;}\n",
    "\n",
    "int main (){\n",
    "\n",
    "    XOR1 my_XOR1(3);\n",
    "    XOR2 my_XOR2(3);\n",
    "    XOR3 my_XOR3(3);\n",
    "    int res1, res2, res3;\n",
    "\n",
    "    #pragma omp target map(tofrom:res1)\n",
    "    res1=my_XOR1.foo();\n",
    "\n",
    "    #pragma omp target map(tofrom:res2)\n",
    "    res2=my_XOR2.foo();\n",
    "\n",
    "    #pragma omp target map(tofrom:res3)\n",
    "    res3=my_XOR3.foo();\n",
    "\n",
    "    cout << res1 << endl;  // OUT1: 2\n",
    "    cout << res2 << endl;  // OUT2: 2\n",
    "    cout << res3 << endl;  // OUT3: 2\n",
    "}\n",
    "\n"
   ]
  },
  {
   "cell_type": "markdown",
   "metadata": {},
   "source": [
    ""
   ]
  },
  {
   "cell_type": "markdown",
   "metadata": {},
   "source": [
    ""
   ]
  },
  {
   "cell_type": "markdown",
   "metadata": {},
   "source": [
    "Often class definitions and their function definitions are included in separate files, as shown in \splc{declare_target.2b_classes.hpp} and \splc{declare_target.2b_functions.cpp} below. In this case, it is necessary to specify in a declare target directive for the classes. However, as long as the \splc{2b_functions.cpp} file includes the corresponding declare target classes, there is no need to specify the functions with a declare target directive. The functions are treated as if they are specified with a declare target directive. Compiling the \splc{declare_target.2b_functions.cpp} and \splc{declare_target.2b_main.cpp} files  separately and linking them, will create appropriate executable device functions for the target device."
   ]
  },
  {
   "cell_type": "markdown",
   "metadata": {},
   "source": [
    "\srcnexample[5.1]{declare_target}{2b_classes}{hpp}"
   ]
  },
  {
   "cell_type": "markdown",
   "metadata": {},
   "source": [
    ""
   ]
  },
  {
   "cell_type": "code",
   "execution_count": null,
   "metadata": {},
   "outputs": [],
   "source": [
    "//%compiler: clang\n",
 "//%cflags: -fopenmp\n",
 "\n",
    "/*\n",
    "* name:       declare_target.2b_functions\n",
    "* type:       C++\n",
    "* version:    omp_5.1\n",
    "*/\n",
    "#include \"classes.hpp\"\n",
    "int XOR1::foo() { return a^0x01;}\n",
    "\n"
   ]
  },
  {
   "cell_type": "markdown",
   "metadata": {},
   "source": [
    ""
   ]
  },
  {
   "cell_type": "markdown",
   "metadata": {},
   "source": [
    ""
   ]
  },
  {
   "cell_type": "code",
   "execution_count": null,
   "metadata": {},
   "outputs": [],
   "source": [
    "//%compiler: clang\n",
 "//%cflags: -fopenmp\n",
 "\n",
    "/*\n",
    "* name:       declare_target.2b_main\n",
    "* type:       C++\n",
    "* version:    omp_5.1\n",
    "*/\n",
    "#include <iostream>\n",
    "using namespace std;\n",
    "\n",
    "#include \"classes.hpp\"\n",
    "\n",
    "int main (){\n",
    "\n",
    "   XOR1 my_XOR1(3);\n",
    "   int res1;\n",
    "\n",
    "   #pragma omp target map(from: res1)\n",
    "   res1=my_XOR1.foo();\n",
    "\n",
    "   cout << res1 << endl;  // OUT1: 2\n",
    "}\n",
    "\n"
   ]
  },
  {
   "cell_type": "markdown",
   "metadata": {},
   "source": [
    ""
   ]
  },
  {
   "cell_type": "markdown",
   "metadata": {},
   "source": [
    ""
   ]
  },
  {
   "cell_type": "markdown",
   "metadata": {},
   "source": [
    "The following example shows how the `begin` `declare` `target` and `end`  `declare` `target` directives are used to enclose the declaration  of a variable  _varY_  with a class type `typeY`."
   ]
  },
  {
   "cell_type": "markdown",
   "metadata": {},
   "source": [
    "This example shows pre-OpenMP 5.0 behavior for the  _varY.foo()_  function call (an error). The member function `typeY::foo()` cannot be accessed on a target device because its  declaration does not appear between `begin` `declare` `target` and  `end` `declare` `target` directives. As of OpenMP 5.0, the function is implicitly declared with a declare target directive  and will successfully execute the function on the device.  See previous examples."
   ]
  },
  {
   "cell_type": "markdown",
   "metadata": {},
   "source": [
    ""
   ]
  },
  {
   "cell_type": "code",
   "execution_count": null,
   "metadata": {},
   "outputs": [],
   "source": [
    "//%compiler: clang\n",
 "//%cflags: -fopenmp\n",
 "\n",
    "/*\n",
    "* name: declare_target.2c\n",
    "* type: C++\n",
    "* version: omp_5.2\n",
    "*/\n",
    "struct typeX\n",
    "{\n",
    "   int a;\n",
    "};\n",
    "class typeY\n",
    "{\n",
    "   int a;\n",
    "  public:\n",
    "   int foo() { return a^0x01;}\n",
    "};\n",
    "\n",
    "#pragma omp begin declare target\n",
    "  struct typeX varX;  // ok\n",
    "  class typeY varY; // ok if varY.foo() not called on target device\n",
    "#pragma omp end declare target\n",
    "\n",
    "void foo()\n",
    "{\n",
    "   #pragma omp target\n",
    "   {\n",
    "      varX.a = 100; // ok\n",
    "      varY.foo(); // error foo() is not available on a target device\n",
    "   }\n",
    "}\n",
    "\n"
   ]
  },
  {
   "cell_type": "markdown",
   "metadata": {},
   "source": [
    ""
   ]
  },
  {
   "cell_type": "markdown",
   "metadata": {},
   "source": [
    ""
   ]
  },
  {
   "cell_type": "markdown",
   "metadata": {},
   "source": [
    "### Declare Target Directive for Variables"
   ]
  },
  {
   "cell_type": "markdown",
   "metadata": {},
   "source": [
    ""
   ]
  },
  {
   "cell_type": "markdown",
   "metadata": {},
   "source": [
    "\index{directives!declare target@`declare` `target`} \index{declare target directive@`declare` `target` directive}"
   ]
  },
  {
   "cell_type": "markdown",
   "metadata": {},
   "source": [
    "\index{directives!begin declare target@`begin` `declare` `target`} \index{begin declare target directive@`begin` `declare` `target` directive}"
   ]
  },
  {
   "cell_type": "markdown",
   "metadata": {},
   "source": [
    "The following examples show how the declare target directive is used to indicate that global variables are mapped to the implicit device data environment of each target device."
   ]
  },
  {
   "cell_type": "markdown",
   "metadata": {},
   "source": [
    "In the following example, the declarations of the variables  _p_ ,  _v1_ , and  _v2_  appear  between `begin` `declare` `target` and `end` `declare` `target`  directives indicating that the variables are mapped to the implicit device data  environment of each target device. The `target` `update` directive  is then used to manage the consistency of the variables  _p_ ,  _v1_ , and  _v2_  between the  data environment of the encountering host device task and the implicit device data  environment of the default target device."
   ]
  },
  {
   "cell_type": "markdown",
   "metadata": {},
   "source": [
    ""
   ]
  },
  {
   "cell_type": "code",
   "execution_count": null,
   "metadata": {},
   "outputs": [],
   "source": [
    "//%compiler: clang\n",
 "//%cflags: -fopenmp\n",
 "\n",
    "/*\n",
    "* name: declare_target.3\n",
    "* type: C\n",
    "* version: omp_5.1\n",
    "*/\n",
    "#define N 1000\n",
    "\n",
    "#pragma omp begin declare target\n",
    "float p[N], v1[N], v2[N];\n",
    "#pragma omp end declare target\n",
    "\n",
    "extern void init(float *, float *, int);\n",
    "extern void output(float *, int);\n",
    "\n",
    "void vec_mult()\n",
    "{\n",
    "   int i;\n",
    "   init(v1, v2, N);\n",
    "   #pragma omp target update to(v1, v2)\n",
    "   #pragma omp target\n",
    "   #pragma omp parallel for\n",
    "   for (i=0; i<N; i++)\n",
    "     p[i] = v1[i] * v2[i];\n",
    "   #pragma omp target update from(p)\n",
    "   output(p, N);\n",
    "}\n",
    "\n"
   ]
  },
  {
   "cell_type": "markdown",
   "metadata": {},
   "source": [
    ""
   ]
  },
  {
   "cell_type": "markdown",
   "metadata": {},
   "source": [
    "The Fortran version of the above C code uses a different syntax. Fortran modules  use a list syntax on the `declare` `target` directive to declare  mapped variables."
   ]
  },
  {
   "cell_type": "markdown",
   "metadata": {},
   "source": [
    ""
   ]
  },
  {
   "cell_type": "code",
   "execution_count": null,
   "metadata": {},
   "outputs": [],
   "source": [
    "\n",
    "! name: declare_target.3\n",
    "! type: F-free\n",
    "! version: omp_4.0\n",
    "module my_arrays\n",
    "!$omp declare target (N, p, v1, v2)\n",
    "integer, parameter :: N=1000\n",
    "real               :: p(N), v1(N), v2(N)\n",
    "end module\n",
    "subroutine vec_mult()\n",
    "use my_arrays\n",
    "   integer :: i\n",
    "   call init(v1, v2, N);\n",
    "   !$omp target update to(v1, v2)\n",
    "   !$omp target\n",
    "   !$omp parallel do\n",
    "   do i = 1,N\n",
    "     p(i) = v1(i) * v2(i)\n",
    "   end do\n",
    "   !$omp end target\n",
    "   !$omp target update from (p)\n",
    "   call output(p, N)\n",
    "end subroutine\n",
    "\n"
   ]
  },
  {
   "cell_type": "markdown",
   "metadata": {},
   "source": [
    ""
   ]
  },
  {
   "cell_type": "markdown",
   "metadata": {},
   "source": [
    "The following example also indicates that the function  _Pfun()_  is available on the  target device, as well as the variable  _Q_ , which is mapped to the implicit device  data environment of each target device. The `target` `update` directive  is then used to manage the consistency of the variable  _Q_  between the data environment  of the encountering host device task and the implicit device data environment of  the default target device."
   ]
  },
  {
   "cell_type": "markdown",
   "metadata": {},
   "source": [
    "In the following example, the function and variable declarations appear between  the `begin` `declare` `target` and `end` `declare` `target`  directives."
   ]
  },
  {
   "cell_type": "markdown",
   "metadata": {},
   "source": [
    ""
   ]
  },
  {
   "cell_type": "code",
   "execution_count": null,
   "metadata": {},
   "outputs": [],
   "source": [
    "//%compiler: clang\n",
 "//%cflags: -fopenmp\n",
 "\n",
    "/*\n",
    "* name: declare_target.4\n",
    "* type: C\n",
    "* version: omp_5.1\n",
    "*/\n",
    "#define N 10000\n",
    "\n",
    "#pragma omp begin declare target\n",
    "  float Q[N][N];\n",
    "  float Pfun(const int i, const int k) { return Q[i][k] * Q[k][i]; }\n",
    "#pragma omp end declare target\n",
    "\n",
    "float accum(int k)\n",
    "{\n",
    "    float tmp = 0.0;\n",
    "    #pragma omp target update to(Q)\n",
    "    #pragma omp target map(tofrom: tmp)\n",
    "    #pragma omp parallel for reduction(+:tmp)\n",
    "    for(int i=0; i < N; i++)\n",
    "        tmp += Pfun(i,k);\n",
    "    return tmp;\n",
    "}\n",
    "\n",
    "/* Note:  The variable tmp is now mapped with tofrom, for correct\n",
    "          execution with 4.5 (and pre-4.5) compliant compilers.\n",
    "          See Devices Intro.\n",
    " */\n",
    "\n"
   ]
  },
  {
   "cell_type": "markdown",
   "metadata": {},
   "source": [
    ""
   ]
  },
  {
   "cell_type": "markdown",
   "metadata": {},
   "source": [
    "The Fortran version of the above C code uses a different syntax. In Fortran modules  a list syntax on the `declare` `target` directive is used to declare  mapped variables and procedures. The  _N_  and  _Q_  variables are declared as a comma  separated list. When the `declare` `target` directive is used to  declare just the procedure, the procedure name need not be listed -- it is implicitly  assumed, as illustrated in the  _Pfun()_  function."
   ]
  },
  {
   "cell_type": "markdown",
   "metadata": {},
   "source": [
    ""
   ]
  },
  {
   "cell_type": "code",
   "execution_count": null,
   "metadata": {},
   "outputs": [],
   "source": [
    "\n",
    "! name: declare_target.4\n",
    "! type: F-free\n",
    "! version: omp_4.0\n",
    "module my_global_array\n",
    "!$omp declare target (N,Q)\n",
    "integer, parameter :: N=10\n",
    "real               :: Q(N,N)\n",
    "contains\n",
    "function Pfun(i,k)\n",
    "!$omp declare target\n",
    "real               :: Pfun\n",
    "integer,intent(in) :: i,k\n",
    "   Pfun=(Q(i,k) * Q(k,i))\n",
    "end function\n",
    "end module\n",
    "\n",
    "function accum(k) result(tmp)\n",
    "use my_global_array\n",
    "real    :: tmp\n",
    "integer :: i, k\n",
    "   tmp = 0.0e0\n",
    "   !$omp target map(tofrom: tmp)\n",
    "   !$omp parallel do reduction(+:tmp)\n",
    "   do i=1,N\n",
    "      tmp = tmp + Pfun(k,i)\n",
    "   end do\n",
    "   !$omp end target\n",
    "end function\n",
    "\n",
    "! Note:  The variable tmp is now mapped with tofrom, for correct\n",
    "! execution with 4.5 (and pre-4.5) compliant compilers. See Devices Intro.\n",
    "\n"
   ]
  },
  {
   "cell_type": "markdown",
   "metadata": {},
   "source": [
    ""
   ]
  },
  {
   "cell_type": "markdown",
   "metadata": {},
   "source": [
    ""
   ]
  },
  {
   "cell_type": "markdown",
   "metadata": {},
   "source": [
    "### Declare Target Directive with `declare` `simd`"
   ]
  },
  {
   "cell_type": "markdown",
   "metadata": {},
   "source": [
    ""
   ]
  },
  {
   "cell_type": "markdown",
   "metadata": {},
   "source": [
    "\index{directives!declare target@`declare` `target`} \index{declare target directive@`declare` `target` directive}"
   ]
  },
  {
   "cell_type": "markdown",
   "metadata": {},
   "source": [
    "\index{directives!begin declare target@`begin` `declare` `target`} \index{begin declare target directive@`begin` `declare` `target` directive}"
   ]
  },
  {
   "cell_type": "markdown",
   "metadata": {},
   "source": [
    "\index{directives!declare simd@`declare` `simd`} \index{declare simd directive@`declare` `simd` directive}"
   ]
  },
  {
   "cell_type": "markdown",
   "metadata": {},
   "source": [
    "The following example shows how the `begin` `declare` `target` and  `end` `declare` `target` directives are used to indicate that a function  is available on a target device. The `declare` `simd` directive indicates  that there is a SIMD version of the function  _P()_  that is available on the target  device as well as one that is available on the host device."
   ]
  },
  {
   "cell_type": "markdown",
   "metadata": {},
   "source": [
    ""
   ]
  },
  {
   "cell_type": "code",
   "execution_count": null,
   "metadata": {},
   "outputs": [],
   "source": [
    "//%compiler: clang\n",
 "//%cflags: -fopenmp\n",
 "\n",
    "/*\n",
    "* name: declare_target.5\n",
    "* type: C\n",
    "* version: omp_5.1\n",
    "*/\n",
    "#define N 10000\n",
    "#define M 1024\n",
    "\n",
    "#pragma omp begin declare target\n",
    "float Q[N][N];\n",
    "\n",
    "#pragma omp declare simd uniform(i) linear(k) notinbranch\n",
    "float P(const int i, const int k)\n",
    "{\n",
    "  return Q[i][k] * Q[k][i];\n",
    "}\n",
    "#pragma omp end declare target\n",
    "\n",
    "float accum(void)\n",
    "{\n",
    "  float tmp = 0.0;\n",
    "  int i, k;\n",
    "#pragma omp target map(tofrom: tmp)\n",
    "#pragma omp parallel for reduction(+:tmp)\n",
    "  for (i=0; i < N; i++) {\n",
    "    float tmp1 = 0.0;\n",
    "#pragma omp simd reduction(+:tmp1)\n",
    "    for (k=0; k < M; k++) {\n",
    "      tmp1 += P(i,k);\n",
    "    }\n",
    "    tmp += tmp1;\n",
    "  }\n",
    "  return tmp;\n",
    "}\n",
    "\n",
    "/* Note:  The variable tmp is now mapped with tofrom, for correct\n",
    "          execution with 4.5 (and pre-4.5) compliant compilers.\n",
    "          See Devices Intro.\n",
    " */\n",
    "\n"
   ]
  },
  {
   "cell_type": "markdown",
   "metadata": {},
   "source": [
    ""
   ]
  },
  {
   "cell_type": "markdown",
   "metadata": {},
   "source": [
    "The Fortran version of the above C code uses a different syntax. Fortran modules  use a list syntax of the `declare` `target` declaration for the mapping.  Here the  _N_  and  _Q_  variables are declared in the list form as a comma separated list.  The function declaration does not use a list and implicitly assumes the function  name. In this Fortran example row and column indices are reversed relative to the  C/C++ example, as is usual for codes optimized for memory access."
   ]
  },
  {
   "cell_type": "markdown",
   "metadata": {},
   "source": [
    ""
   ]
  },
  {
   "cell_type": "code",
   "execution_count": null,
   "metadata": {},
   "outputs": [],
   "source": [
    "\n",
    "! name: declare_target.5\n",
    "! type: F-free\n",
    "! version: omp_4.0\n",
    "module my_global_array\n",
    "!$omp declare target (N,Q)\n",
    "integer, parameter :: N=10000, M=1024\n",
    "real               :: Q(N,N)\n",
    "contains\n",
    "function P(k,i)\n",
    "!$omp declare simd uniform(i) linear(k) notinbranch\n",
    "!$omp declare target\n",
    "real               :: P\n",
    "integer,intent(in) :: k,i\n",
    "   P=(Q(k,i) * Q(i,k))\n",
    "end function\n",
    "end module\n",
    "\n",
    "function accum() result(tmp)\n",
    "use my_global_array\n",
    "real    :: tmp, tmp1\n",
    "integer :: i\n",
    "   tmp = 0.0e0\n",
    "   !$omp target map(tofrom: tmp)\n",
    "   !$omp parallel do private(tmp1) reduction(+:tmp)\n",
    "   do i=1,N\n",
    "      tmp1 = 0.0e0\n",
    "      !$omp simd reduction(+:tmp1)\n",
    "      do k = 1,M\n",
    "         tmp1 = tmp1 + P(k,i)\n",
    "      end do\n",
    "      tmp = tmp + tmp1\n",
    "   end do\n",
    "   !$omp end target\n",
    "end function\n",
    "\n",
    "! Note:  The variable tmp is now mapped with tofrom, for correct\n",
    "! execution with 4.5 (and pre-4.5) compliant compilers. See Devices Intro.\n",
    "\n"
   ]
  },
  {
   "cell_type": "markdown",
   "metadata": {},
   "source": [
    ""
   ]
  },
  {
   "cell_type": "markdown",
   "metadata": {},
   "source": [
    ""
   ]
  },
  {
   "cell_type": "markdown",
   "metadata": {},
   "source": [
    ""
   ]
  },
  {
   "cell_type": "markdown",
   "metadata": {},
   "source": [
    "### Declare Target Directive with `link` Clause"
   ]
  },
  {
   "cell_type": "markdown",
   "metadata": {},
   "source": [
    ""
   ]
  },
  {
   "cell_type": "markdown",
   "metadata": {},
   "source": [
    "\index{directives!declare target@`declare` `target`} \index{declare target directive@`declare` `target` directive}"
   ]
  },
  {
   "cell_type": "markdown",
   "metadata": {},
   "source": [
    "\index{directives!begin declare target@`begin` `declare` `target`} \index{begin declare target directive@`begin` `declare` `target` directive}"
   ]
  },
  {
   "cell_type": "markdown",
   "metadata": {},
   "source": [
    "\index{clauses!link@`link`} \index{link clause@`link` clause}"
   ]
  },
  {
   "cell_type": "markdown",
   "metadata": {},
   "source": [
    "In the OpenMP 4.5 standard the declare target directive was extended to allow static data to be mapped, **when needed**, through a `link` clause."
   ]
  },
  {
   "cell_type": "markdown",
   "metadata": {},
   "source": [
    "Data storage for items listed in the `link` clause becomes available on the device when it is mapped implicitly or explicitly in a `map` clause, and it persists for the scope of the mapping (as specified by a `target` construct,  a `target` `data` construct, or  `target` `enter/exit` `data` constructs)."
   ]
  },
  {
   "cell_type": "markdown",
   "metadata": {},
   "source": [
    "Tip: When all the global data items will not fit on a device and are not needed simultaneously, use the `link` clause and map the data only when it is needed."
   ]
  },
  {
   "cell_type": "markdown",
   "metadata": {},
   "source": [
    "The following C and Fortran examples show two sets of data (single precision and double precision) that are global on the host for the entire execution on the host; but are only used globally on the device for part of the program execution. The single precision data are allocated and persist only for the first `target` region. Similarly, the double precision data are in scope on the device only for the second `target` region."
   ]
  },
  {
   "cell_type": "markdown",
   "metadata": {},
   "source": [
    ""
   ]
  },
  {
   "cell_type": "code",
   "execution_count": null,
   "metadata": {},
   "outputs": [],
   "source": [
    "//%compiler: clang\n",
 "//%cflags: -fopenmp\n",
 "\n",
    "/*\n",
    "* name: declare_target.6\n",
    "* type: C\n",
    "* version: omp_5.1\n",
    "*/\n",
    "#define N 100000000\n",
    "\n",
    "float  sp[N], sv1[N], sv2[N];\n",
    "double dp[N], dv1[N], dv2[N];\n",
    "#pragma omp declare target link(sp,sv1,sv2) \\\n",
    "                           link(dp,dv1,dv2)\n",
    "\n",
    "void s_init(float *, float *, int);\n",
    "void d_init(double *, double *, int);\n",
    "void s_output(float *, int);\n",
    "void d_output(double *, int);\n",
    "\n",
    "#pragma omp begin declare target\n",
    "\n",
    "void s_vec_mult_accum()\n",
    "{\n",
    "   int i;\n",
    "\n",
    "   #pragma omp parallel for\n",
    "   for (i=0; i<N; i++)\n",
    "     sp[i] = sv1[i] * sv2[i];\n",
    "}\n",
    "\n",
    "void d_vec_mult_accum()\n",
    "{\n",
    "   int i;\n",
    "\n",
    "   #pragma omp parallel for\n",
    "   for (i=0; i<N; i++)\n",
    "     dp[i] = dv1[i] * dv2[i];\n",
    "}\n",
    "#pragma omp end declare target\n",
    "\n",
    "int main()\n",
    "{\n",
    "   s_init(sv1, sv2, N);\n",
    "   #pragma omp target map(to:sv1,sv2) map(from:sp)\n",
    "      s_vec_mult_accum();\n",
    "   s_output(sp, N);\n",
    "\n",
    "   d_init(dv1, dv2, N);\n",
    "   #pragma omp target map(to:dv1,dv2) map(from:dp)\n",
    "      d_vec_mult_accum();\n",
    "   d_output(dp, N);\n",
    "\n",
    "  return 0;\n",
    "}\n",
    "\n"
   ]
  },
  {
   "cell_type": "markdown",
   "metadata": {},
   "source": [
    ""
   ]
  },
  {
   "cell_type": "code",
   "execution_count": null,
   "metadata": {},
   "outputs": [],
   "source": [
    "\n",
    "! name: declare_target.6\n",
    "! type: F-free\n",
    "! version: omp_4.5\n",
    "module m_dat\n",
    "   integer, parameter :: N=100000000\n",
    "   !$omp declare target link(sp,sv1,sv2)\n",
    "   real :: sp(N), sv1(N), sv2(N)\n",
    "\n",
    "   !$omp declare target link(dp,dv1,dv2)\n",
    "   double precision :: dp(N), dv1(N), dv2(N)\n",
    "\n",
    "contains\n",
    "   subroutine s_vec_mult_accum()\n",
    "   !$omp declare target\n",
    "      integer :: i\n",
    "\n",
    "      !$omp parallel do\n",
    "      do i = 1,N\n",
    "        sp(i) = sv1(i) * sv2(i)\n",
    "      end do\n",
    "\n",
    "   end subroutine s_vec_mult_accum\n",
    "\n",
    "   subroutine d_vec_mult_accum()\n",
    "   !$omp declare target\n",
    "      integer :: i\n",
    "\n",
    "      !$omp parallel do\n",
    "      do i = 1,N\n",
    "        dp(i) = dv1(i) * dv2(i)\n",
    "      end do\n",
    "\n",
    "   end subroutine\n",
    "end module m_dat\n",
    "\n",
    "program prec_vec_mult\n",
    "   use m_dat\n",
    "\n",
    "   call s_init(sv1, sv2, N)\n",
    "   !$omp target map(to:sv1,sv2) map(from:sp)\n",
    "     call s_vec_mult_accum()\n",
    "   !$omp end target\n",
    "   call s_output(sp, N)\n",
    "\n",
    "   call d_init(dv1, dv2, N)\n",
    "   !$omp target map(to:dv1,dv2) map(from:dp)\n",
    "     call d_vec_mult_accum()\n",
    "   !$omp end target\n",
    "   call d_output(dp, N)\n",
    "\n",
    "end program\n",
    "\n"
   ]
  },
  {
   "cell_type": "markdown",
   "metadata": {},
   "source": [
    ""
   ]
  },
  {
   "cell_type": "markdown",
   "metadata": {},
   "source": [
    "../../devices/declare_target.tex"
   ]
  },
  {
   "cell_type": "markdown",
   "metadata": {},
   "source": [
    ""
   ]
  },
  {
   "cell_type": "markdown",
   "metadata": {},
   "source": [
    "## Lambda Expressions"
   ]
  },
  {
   "cell_type": "markdown",
   "metadata": {},
   "source": [
    ""
   ]
  },
  {
   "cell_type": "markdown",
   "metadata": {},
   "source": [
    "\index{lambda expressions}"
   ]
  },
  {
   "cell_type": "markdown",
   "metadata": {},
   "source": [
    ""
   ]
  },
  {
   "cell_type": "markdown",
   "metadata": {},
   "source": [
    "The following example illustrates the usage of lambda expressions and their corresponding closure objects within a \scode{target} region."
   ]
  },
  {
   "cell_type": "markdown",
   "metadata": {},
   "source": [
    "In CASE 1, a lambda expression is defined inside a \scode{target} construct that implicitly maps the structure \textit{s}. Inside the construct, the lambda captures (by reference) the corresponding \textit{s}, and the resulting closure object is assigned to \textit{lambda1}.  When the call operator is invoked on \textit{lambda1}, the captured reference to \textit{s} is used in the call.  The modified \textit{s} is then copied back to the host device on exit from the \scode{target} construct."
   ]
  },
  {
   "cell_type": "markdown",
   "metadata": {},
   "source": [
    "In CASE 2, a lambda expression is instead defined before the \scode{target} construct and captures (by copy) the pointer \textit{sp}. A \scode{target} \scode{data} construct is used to first map the structure, and then the \scode{target} construct implicitly maps the closure object referenced by \textit{lambda2}, a zero-length array section based on the structure pointer \textit{sp}, and a zero-length array section based on the captured pointer in the closure object. The implicit maps result in attached pointers to the corresponding structure. The call for \textit{lambda2} inside the \scode{target} construct will access \textit{sp->a} and \textit{sp->b} from the corresponding structure."
   ]
  },
  {
   "cell_type": "markdown",
   "metadata": {},
   "source": [
    "CASE 3 is similar to CASE 2, except \textit{s} is instead captured by reference by the lambda expression. As for CASE 2, the structure is first mapped by an enclosing \scode{target} \scode{data} construct, and then the \scode{target} construct implicitly maps \textit{s} and the closure object referenced by \textit{lambda3}. The effect of the map is to make the the call for \textit{lambda3} refer to the corresponding \textit{s} inside the \scode{target} construct rather than the original \textit{s}."
   ]
  },
  {
   "cell_type": "markdown",
   "metadata": {},
   "source": [
    "In CASE 4, the program defines a static variable \textit{ss} of the same structure type as \textit{s}. While the body of the lambda expression refers to \textit{ss}, it is not captured. In order for \textit{lambda4} to be callable in the \scode{target} region, the reference to \textit{ss} should be to a device copy of \textit{ss} that also has static storage. This is achieved with the use of the \scode{declare} \scode{target} directive.  Inside the \scode{target} construct, all references to \textit{ss}, including in the \textit{lambda4()} call, will refer to the corresponding \textit{ss} that results from the \scode{declare} \scode{target} directive. The \scode{always} modifier is used on the \scode{map} clause to transfer the updated values for the structure back to the host device."
   ]
  },
  {
   "cell_type": "markdown",
   "metadata": {},
   "source": [
    ""
   ]
  },
  {
   "cell_type": "code",
   "execution_count": null,
   "metadata": {},
   "outputs": [],
   "source": [
    "//%compiler: clang\n",
 "//%cflags: -fopenmp\n",
 "\n",
    "/*\n",
    "* name:       lambda_expressions.1\n",
    "* type:       C++\n",
    "* version:   omp_5.0\n",
    "*/\n",
    "#include <iostream>\n",
    "using namespace std;\n",
    "\n",
    "struct S { int a; int b; };\n",
    "\n",
    "int main()\n",
    "{\n",
    "\n",
    "// CASE 1 Lambda defined in target region\n",
    "\n",
    "   S s = S {0,1};\n",
    "\n",
    "   #pragma omp target\n",
    "   {\n",
    "      auto lambda1 = [&s]() { s.a = s.b * 2; };\n",
    "      s.b += 2;\n",
    "      lambda1(); // s.a = 3 * 2\n",
    "   }\n",
    "   cout << s.a << \" \" << s.b << endl; //OUT 6 3\n",
    "\n",
    "// CASE 2 Host defined lambda, Capture pointer to s\n",
    "\n",
    "   s = {0,1};\n",
    "   S *sp = &s;\n",
    "   auto lambda2 = [sp]() {sp->a = sp->b * 2; };\n",
    "\n",
    "   // closure object's sp attaches to corresponding s on target\n",
    "   // construct\n",
    "   #pragma omp target data map(sp[0])\n",
    "   #pragma omp target\n",
    "   {\n",
    "      sp->b += 2;\n",
    "      lambda2();\n",
    "   }\n",
    "   cout << s.a << \" \" << s.b << endl; //OUT 6 3\n",
    "\n",
    "// CASE 3 Host defined lambda, Capture s by reference\n",
    "\n",
    "   s = {0,1};\n",
    "   auto lambda3 = [&s]() {s.a = s.b * 2; };\n",
    "\n",
    "   // closure object's s refers to corresponding s in target\n",
    "   // construct\n",
    "   #pragma omp target data map(s)\n",
    "   #pragma omp target\n",
    "   {\n",
    "      s.b += 2;\n",
    "      lambda3();\n",
    "   }\n",
    "   cout << s.a << \" \" << s.b << endl; //OUT 6 3\n",
    "\n",
    "// CASE 4 Host defined lambda, references static variable\n",
    "\n",
    "   static S ss = {0,1};\n",
    "   #pragma omp declare target enter(ss)\n",
    "   auto lambda4 = [&]() {ss.a = ss.b * 2; };\n",
    "\n",
    "   #pragma omp target map(always,from:ss)\n",
    "   {\n",
    "      ss.b += 2;\n",
    "      lambda4();\n",
    "   }\n",
    "   cout << ss.a << \" \" << ss.b << endl; //OUT 6 3\n",
    "\n",
    "   return 0;\n",
    "}\n",
    "\n"
   ]
  },
  {
   "cell_type": "markdown",
   "metadata": {},
   "source": [
    "../../devices/lambda_expressions.tex"
   ]
  },
  {
   "cell_type": "markdown",
   "metadata": {},
   "source": [
    ""
   ]
  },
  {
   "cell_type": "markdown",
   "metadata": {},
   "source": [
    "## `teams` Construct and Related Combined Constructs"
   ]
  },
  {
   "cell_type": "markdown",
   "metadata": {},
   "source": [
    ""
   ]
  },
  {
   "cell_type": "markdown",
   "metadata": {},
   "source": [
    ""
   ]
  },
  {
   "cell_type": "markdown",
   "metadata": {},
   "source": [
    "### `target` and `teams` Constructs with `omp_get_num_teams` and `omp_get_team_num` Routines"
   ]
  },
  {
   "cell_type": "markdown",
   "metadata": {},
   "source": [
    "\index{constructs!target@`target`} \index{target construct@`target` construct} \index{constructs!teams@`teams`} \index{teams construct@`teams` construct} \index{combined constructs!target teams@`target` `teams`} \index{teams construct@`teams` construct!num_teams clause@\scode{num_teams} clause} \index{clauses!num_teams@\scode{num_teams}} \index{num_teams clause@\scode{num_teams} clause} \index{routines!omp_get_num_teams@\scode{omp_get_num_teams}} \index{routines!omp_get_team_num@\scode{omp_get_team_num}} \index{omp_get_num_teams routine@\scode{omp_get_num_teams} routine} \index{omp_get_team_num routine@\scode{omp_get_team_num} routine}"
   ]
  },
  {
   "cell_type": "markdown",
   "metadata": {},
   "source": [
    "The following example shows how the `target` and `teams` constructs  are used to create a league of thread teams that execute a region. The `teams`  construct creates a league of at most two teams where the primary thread of each  team executes the `teams` region."
   ]
  },
  {
   "cell_type": "markdown",
   "metadata": {},
   "source": [
    "The `omp_get_num_teams` routine returns the number of teams executing in a `teams`  region. The `omp_get_team_num` routine returns the team number, which is an integer  between 0 and one less than the value returned by `omp_get_num_teams`. The following  example manually distributes a loop across two teams."
   ]
  },
  {
   "cell_type": "markdown",
   "metadata": {},
   "source": [
    ""
   ]
  },
  {
   "cell_type": "code",
   "execution_count": null,
   "metadata": {},
   "outputs": [],
   "source": [
    "//%compiler: clang\n",
 "//%cflags: -fopenmp\n",
 "\n",
    "/*\n",
    "* name: teams.1\n",
    "* type: C\n",
    "* version: omp_4.0\n",
    "*/\n",
    "#include <stdlib.h>\n",
    "#include <omp.h>\n",
    "float dotprod(float B[], float C[], int N)\n",
    "{\n",
    "   float sum0 = 0.0;\n",
    "   float sum1 = 0.0;\n",
    "   #pragma omp target map(to: B[:N], C[:N]) map(tofrom: sum0, sum1)\n",
    "   #pragma omp teams num_teams(2)\n",
    "   {\n",
    "      int i;\n",
    "      if (omp_get_num_teams() != 2)\n",
    "         abort();\n",
    "      if (omp_get_team_num() == 0)\n",
    "      {\n",
    "  #pragma omp parallel for reduction(+:sum0)\n",
    "  for (i=0; i<N/2; i++)\n",
    "     sum0 += B[i] * C[i];\n",
    "      }\n",
    "      else if (omp_get_team_num() == 1)\n",
    "      {\n",
    "  #pragma omp parallel for reduction(+:sum1)\n",
    "  for (i=N/2; i<N; i++)\n",
    "     sum1 += B[i] * C[i];\n",
    "      }\n",
    "   }\n",
    "   return sum0 + sum1;\n",
    "}\n",
    "\n",
    "/* Note:  The variables sum0,sum1 are now mapped with tofrom, for\n",
    "          correct execution with 4.5 (and pre-4.5) compliant compilers.\n",
    "          See Devices Intro.\n",
    " */\n",
    "\n"
   ]
  },
  {
   "cell_type": "markdown",
   "metadata": {},
   "source": [
    ""
   ]
  },
  {
   "cell_type": "markdown",
   "metadata": {},
   "source": [
    ""
   ]
  },
  {
   "cell_type": "code",
   "execution_count": null,
   "metadata": {},
   "outputs": [],
   "source": [
    "\n",
    "! name: teams.1\n",
    "! type: F-free\n",
    "! version:    omp_4.0\n",
    "function dotprod(B,C,N) result(sum)\n",
    "use omp_lib, ONLY : omp_get_num_teams, omp_get_team_num\n",
    "    real    :: B(N), C(N), sum,sum0, sum1\n",
    "    integer :: N, i\n",
    "    sum0 = 0.0e0\n",
    "    sum1 = 0.0e0\n",
    "    !$omp target map(to: B, C) map(tofrom: sum0, sum1)\n",
    "    !$omp teams num_teams(2)\n",
    "      if (omp_get_num_teams() /= 2) stop \"2 teams required\"\n",
    "      if (omp_get_team_num() == 0) then\n",
    "         !$omp parallel do reduction(+:sum0)\n",
    "         do i=1,N/2\n",
    "            sum0 = sum0 + B(i) * C(i)\n",
    "         end do\n",
    "      else if (omp_get_team_num() == 1) then\n",
    "         !$omp parallel do reduction(+:sum1)\n",
    "         do i=N/2+1,N\n",
    "            sum1 = sum1 + B(i) * C(i)\n",
    "         end do\n",
    "      end if\n",
    "    !$omp end teams\n",
    "    !$omp end target\n",
    "    sum = sum0 + sum1\n",
    "end function\n",
    "\n",
    "! Note:  The variables sum0,sum1 are now mapped with tofrom, for correct\n",
    "! execution with 4.5 (and pre-4.5) compliant compilers. See Devices Intro.\n",
    "\n"
   ]
  },
  {
   "cell_type": "markdown",
   "metadata": {},
   "source": [
    ""
   ]
  },
  {
   "cell_type": "markdown",
   "metadata": {},
   "source": [
    ""
   ]
  },
  {
   "cell_type": "markdown",
   "metadata": {},
   "source": [
    "### `target`, `teams`, and `distribute` Constructs"
   ]
  },
  {
   "cell_type": "markdown",
   "metadata": {},
   "source": [
    "\index{constructs!distribute@`distribute`} \index{distribute construct@`distribute` construct}"
   ]
  },
  {
   "cell_type": "markdown",
   "metadata": {},
   "source": [
    "The following example shows how the `target`, `teams`, and `distribute`  constructs are used to execute a loop nest in a `target` region. The `teams`  construct creates a league and the primary thread of each team executes the `teams`  region. The `distribute` construct schedules the subsequent loop iterations  across the primary threads of each team."
   ]
  },
  {
   "cell_type": "markdown",
   "metadata": {},
   "source": [
    "The number of teams in the league is less than or equal to the variable  _num_blocks_ .  Each team in the league has a number of threads less than or equal to the variable   _block_threads_ . The iterations in the outer loop are distributed among the primary  threads of each team."
   ]
  },
  {
   "cell_type": "markdown",
   "metadata": {},
   "source": [
    "When a team's primary thread encounters the parallel loop construct before the inner  loop, the other threads in its team are activated. The team executes the `parallel`  region and then workshares the execution of the loop."
   ]
  },
  {
   "cell_type": "markdown",
   "metadata": {},
   "source": [
    "\index{reduction clause@`reduction` clause!on teams construct@on `teams` construct} Each primary thread executing the `teams` region has a private copy of the  variable  _sum_  that is created by the `reduction` clause on the `teams` construct.  The primary thread and all threads in its team have a private copy of the variable   _sum_  that is created by the `reduction` clause on the parallel loop construct.  The second private  _sum_  is reduced into the primary thread's private copy of  _sum_   created by the `teams` construct. At the end of the `teams` region,  each primary thread's private copy of  _sum_  is reduced into the final  _sum_  that is  implicitly mapped into the `target` region."
   ]
  },
  {
   "cell_type": "markdown",
   "metadata": {},
   "source": [
    ""
   ]
  },
  {
   "cell_type": "code",
   "execution_count": null,
   "metadata": {},
   "outputs": [],
   "source": [
    "//%compiler: clang\n",
 "//%cflags: -fopenmp\n",
 "\n",
    "/*\n",
    "* name: teams.2\n",
    "* type: C\n",
    "* version: omp_4.0\n",
    "*/\n",
    "#define min(x, y) (((x) < (y)) ? (x) : (y))\n",
    "\n",
    "float dotprod(float B[], float C[], int N, int block_size,\n",
    "  int num_teams, int block_threads)\n",
    "{\n",
    "    float sum = 0.0;\n",
    "    int i, i0;\n",
    "    #pragma omp target map(to: B[0:N], C[0:N]) map(tofrom: sum)\n",
    "    #pragma omp teams num_teams(num_teams) thread_limit(block_threads) \\\n",
    "      reduction(+:sum)\n",
    "    #pragma omp distribute\n",
    "    for (i0=0; i0<N; i0 += block_size)\n",
    "       #pragma omp parallel for reduction(+:sum)\n",
    "       for (i=i0; i< min(i0+block_size,N); i++)\n",
    "           sum += B[i] * C[i];\n",
    "    return sum;\n",
    "}\n",
    "/* Note:  The variable sum is now mapped with tofrom, for correct\n",
    "   execution with 4.5 (and pre-4.5) compliant compilers. See\n",
    "   Devices Intro.\n",
    " */\n",
    "\n"
   ]
  },
  {
   "cell_type": "markdown",
   "metadata": {},
   "source": [
    ""
   ]
  },
  {
   "cell_type": "markdown",
   "metadata": {},
   "source": [
    ""
   ]
  },
  {
   "cell_type": "code",
   "execution_count": null,
   "metadata": {},
   "outputs": [],
   "source": [
    "\n",
    "! name: teams.2\n",
    "! type: F-free\n",
    "! version: omp_4.0\n",
    "function dotprod(B,C,N, block_size, num_teams, block_threads) result(sum)\n",
    "implicit none\n",
    "    real    :: B(N), C(N), sum\n",
    "    integer :: N, block_size, num_teams, block_threads, i, i0\n",
    "    sum = 0.0e0\n",
    "    !$omp target map(to: B, C) map(tofrom: sum)\n",
    "    !$omp teams num_teams(num_teams) thread_limit(block_threads) &\n",
    "    !$omp&  reduction(+:sum)\n",
    "    !$omp distribute\n",
    "       do i0=1,N, block_size\n",
    "          !$omp parallel do reduction(+:sum)\n",
    "          do i = i0, min(i0+block_size,N)\n",
    "             sum = sum + B(i) * C(i)\n",
    "          end do\n",
    "       end do\n",
    "    !$omp end teams\n",
    "    !$omp end target\n",
    "end function\n",
    "\n",
    "! Note:  The variable sum is now mapped with tofrom, for correct\n",
    "! execution with 4.5 (and pre-4.5) compliant compilers. See Devices Intro.\n",
    "\n"
   ]
  },
  {
   "cell_type": "markdown",
   "metadata": {},
   "source": [
    ""
   ]
  },
  {
   "cell_type": "markdown",
   "metadata": {},
   "source": [
    ""
   ]
  },
  {
   "cell_type": "markdown",
   "metadata": {},
   "source": [
    "### `target` `teams`, and Distribute Parallel Loop Constructs"
   ]
  },
  {
   "cell_type": "markdown",
   "metadata": {},
   "source": [
    ""
   ]
  },
  {
   "cell_type": "markdown",
   "metadata": {},
   "source": [
    "The following example shows how the `target` `teams` and distribute  parallel loop constructs are used to execute a `target` region. The `target`  `teams` construct creates a league of teams where the primary thread of each  team executes the `teams` region."
   ]
  },
  {
   "cell_type": "markdown",
   "metadata": {},
   "source": [
    "The distribute parallel loop construct schedules the loop iterations across the  primary threads of each team and then across the threads of each team."
   ]
  },
  {
   "cell_type": "markdown",
   "metadata": {},
   "source": [
    ""
   ]
  },
  {
   "cell_type": "code",
   "execution_count": null,
   "metadata": {},
   "outputs": [],
   "source": [
    "//%compiler: clang\n",
 "//%cflags: -fopenmp\n",
 "\n",
    "/*\n",
    "* name: teams.3\n",
    "* type: C\n",
    "* version: omp_4.5\n",
    "*/\n",
    "float dotprod(float B[], float C[], int N)\n",
    "{\n",
    "   float sum = 0;\n",
    "   int i;\n",
    "   #pragma omp target teams map(to: B[0:N], C[0:N]) \\\n",
    "                            defaultmap(tofrom:scalar) reduction(+:sum)\n",
    "   #pragma omp distribute parallel for reduction(+:sum)\n",
    "   for (i=0; i<N; i++)\n",
    "      sum += B[i] * C[i];\n",
    "   return sum;\n",
    "}\n",
    "\n",
    "/* Note:  The variable sum is now mapped with tofrom from the defaultmap\n",
    "          clause on the combined target teams construct, for correct\n",
    "          execution with 4.5 (and pre-4.5) compliant compilers.\n",
    "          See Devices Intro.\n",
    " */\n",
    "\n"
   ]
  },
  {
   "cell_type": "markdown",
   "metadata": {},
   "source": [
    ""
   ]
  },
  {
   "cell_type": "markdown",
   "metadata": {},
   "source": [
    ""
   ]
  },
  {
   "cell_type": "code",
   "execution_count": null,
   "metadata": {},
   "outputs": [],
   "source": [
    "\n",
    "! name: teams.3\n",
    "! type: F-free\n",
    "! version: omp_4.5\n",
    "function dotprod(B,C,N) result(sum)\n",
    "   real    :: B(N), C(N), sum\n",
    "   integer :: N, i\n",
    "   sum = 0.0e0\n",
    "   !$omp target teams map(to: B, C)  &\n",
    "   !$omp&             defaultmap(tofrom:scalar) reduction(+:sum)\n",
    "   !$omp distribute parallel do reduction(+:sum)\n",
    "      do i = 1,N\n",
    "         sum = sum + B(i) * C(i)\n",
    "      end do\n",
    "   !$omp end target teams\n",
    "end function\n",
    "\n",
    "! Note:  The variable sum is now mapped with tofrom from the defaultmap\n",
    "!  clause on the combined target teams construct, for correct\n",
    "!  execution with 4.5 (and pre-4.5) compliant compilers. See Devices Intro.\n",
    "\n"
   ]
  },
  {
   "cell_type": "markdown",
   "metadata": {},
   "source": [
    ""
   ]
  },
  {
   "cell_type": "markdown",
   "metadata": {},
   "source": [
    ""
   ]
  },
  {
   "cell_type": "markdown",
   "metadata": {},
   "source": [
    "### `target` `teams` and Distribute Parallel Loop  Constructs with Scheduling Clauses"
   ]
  },
  {
   "cell_type": "markdown",
   "metadata": {},
   "source": [
    "\index{distribute construct@`distribute` construct!dist_schedule clause@\scode{dist_schedule} clause} \index{clauses!dist_schedule@\scode{dist_schedule}} \index{dist_schedule clause@\scode{dist_schedule} clause} \index{worksharing-loop constructs!schedule clause@`schedule` clause} \index{clauses!schedule@`schedule`} \index{schedule clause@`schedule` clause}"
   ]
  },
  {
   "cell_type": "markdown",
   "metadata": {},
   "source": [
    "The following example shows how the `target` `teams` and distribute  parallel loop constructs are used to execute a `target` region. The `teams`  construct creates a league of at most eight teams where the primary thread of each  team executes the `teams` region. The number of threads in each team is  less than or equal to 16."
   ]
  },
  {
   "cell_type": "markdown",
   "metadata": {},
   "source": [
    "The `distribute` parallel loop construct schedules the subsequent loop iterations  across the primary threads of each team and then across the threads of each team."
   ]
  },
  {
   "cell_type": "markdown",
   "metadata": {},
   "source": [
    "The `dist_schedule` clause on the distribute parallel loop construct indicates  that loop iterations are distributed to the primary thread of each team in chunks  of 1024 iterations."
   ]
  },
  {
   "cell_type": "markdown",
   "metadata": {},
   "source": [
    "The `schedule` clause indicates that the 1024 iterations distributed to  a primary thread are then assigned to the threads in its associated team in chunks  of 64 iterations."
   ]
  },
  {
   "cell_type": "markdown",
   "metadata": {},
   "source": [
    ""
   ]
  },
  {
   "cell_type": "code",
   "execution_count": null,
   "metadata": {},
   "outputs": [],
   "source": [
    "//%compiler: clang\n",
 "//%cflags: -fopenmp\n",
 "\n",
    "/*\n",
    "* name: teams.4\n",
    "* type: C\n",
    "* version: omp_4.0\n",
    "*/\n",
    "#define N 1024*1024\n",
    "float dotprod(float B[], float C[])\n",
    "{\n",
    "    float sum = 0.0;\n",
    "    int i;\n",
    "    #pragma omp target map(to: B[0:N], C[0:N]) map(tofrom: sum)\n",
    "    #pragma omp teams num_teams(8) thread_limit(16) reduction(+:sum)\n",
    "    #pragma omp distribute parallel for reduction(+:sum) \\\n",
    "                dist_schedule(static, 1024) schedule(static, 64)\n",
    "    for (i=0; i<N; i++)\n",
    "        sum += B[i] * C[i];\n",
    "    return sum;\n",
    "}\n",
    "\n",
    "/* Note:  The variable sum is now mapped with tofrom, for correct\n",
    "          execution with 4.5 (and pre-4.5) compliant compilers.\n",
    "          See Devices Intro.\n",
    " */\n",
    "\n"
   ]
  },
  {
   "cell_type": "markdown",
   "metadata": {},
   "source": [
    ""
   ]
  },
  {
   "cell_type": "markdown",
   "metadata": {},
   "source": [
    ""
   ]
  },
  {
   "cell_type": "code",
   "execution_count": null,
   "metadata": {},
   "outputs": [],
   "source": [
    "\n",
    "! name: teams.4\n",
    "! type: F-free\n",
    "! version: omp_4.0\n",
    "module arrays\n",
    "integer,parameter :: N=1024*1024\n",
    "real :: B(N), C(N)\n",
    "end module\n",
    "function dotprod() result(sum)\n",
    "use arrays\n",
    "   real    :: sum\n",
    "   integer :: i\n",
    "   sum = 0.0e0\n",
    "   !$omp target map(to: B, C) map(tofrom: sum)\n",
    "   !$omp teams num_teams(8) thread_limit(16) reduction(+:sum)\n",
    "   !$omp distribute parallel do reduction(+:sum) &\n",
    "   !$omp&  dist_schedule(static, 1024) schedule(static, 64)\n",
    "      do i = 1,N\n",
    "         sum = sum + B(i) * C(i)\n",
    "      end do\n",
    "   !$omp end teams\n",
    "   !$omp end target\n",
    "end function\n",
    "\n",
    "! Note:  The variable sum is now mapped with tofrom, for correct\n",
    "! execution with 4.5 (and pre-4.5) compliant compilers. See Devices Intro.\n",
    "\n"
   ]
  },
  {
   "cell_type": "markdown",
   "metadata": {},
   "source": [
    ""
   ]
  },
  {
   "cell_type": "markdown",
   "metadata": {},
   "source": [
    ""
   ]
  },
  {
   "cell_type": "markdown",
   "metadata": {},
   "source": [
    "### `target` `teams` and `distribute` `simd` Constructs"
   ]
  },
  {
   "cell_type": "markdown",
   "metadata": {},
   "source": [
    ""
   ]
  },
  {
   "cell_type": "markdown",
   "metadata": {},
   "source": [
    "The following example shows how the `target` `teams` and `distribute`  `simd` constructs are used to execute a loop in a `target` region.  The `target` `teams` construct creates a league of teams where the  primary thread of each team executes the `teams` region."
   ]
  },
  {
   "cell_type": "markdown",
   "metadata": {},
   "source": [
    "The `distribute` `simd` construct schedules the loop iterations across  the primary thread of each team and then uses SIMD parallelism to execute the iterations."
   ]
  },
  {
   "cell_type": "markdown",
   "metadata": {},
   "source": [
    ""
   ]
  },
  {
   "cell_type": "code",
   "execution_count": null,
   "metadata": {},
   "outputs": [],
   "source": [
    "//%compiler: clang\n",
 "//%cflags: -fopenmp\n",
 "\n",
    "/*\n",
    "* name: teams.5\n",
    "* type: C\n",
    "* version: omp_4.0\n",
    "*/\n",
    "extern void init(float *, float *, int);\n",
    "extern void output(float *, int);\n",
    "void vec_mult(float *p, float *v1, float *v2, int N)\n",
    "{\n",
    "   int i;\n",
    "   init(v1, v2, N);\n",
    "   #pragma omp target teams map(to: v1[0:N], v2[:N]) map(from: p[0:N])\n",
    "   #pragma omp distribute simd\n",
    "   for (i=0; i<N; i++)\n",
    "     p[i] = v1[i] * v2[i];\n",
    "   output(p, N);\n",
    "}\n",
    "\n"
   ]
  },
  {
   "cell_type": "markdown",
   "metadata": {},
   "source": [
    ""
   ]
  },
  {
   "cell_type": "markdown",
   "metadata": {},
   "source": [
    ""
   ]
  },
  {
   "cell_type": "code",
   "execution_count": null,
   "metadata": {},
   "outputs": [],
   "source": [
    "\n",
    "! name: teams.5\n",
    "! type: F-free\n",
    "! version: omp_4.0\n",
    "subroutine vec_mult(p, v1, v2, N)\n",
    "   real    ::  p(N), v1(N), v2(N)\n",
    "   integer ::  i\n",
    "   call init(v1, v2, N)\n",
    "   !$omp target teams map(to: v1, v2) map(from: p)\n",
    "      !$omp distribute simd\n",
    "         do i=1,N\n",
    "            p(i) = v1(i) * v2(i)\n",
    "         end do\n",
    "   !$omp end target teams\n",
    "   call output(p, N)\n",
    "end subroutine\n",
    "\n"
   ]
  },
  {
   "cell_type": "markdown",
   "metadata": {},
   "source": [
    ""
   ]
  },
  {
   "cell_type": "markdown",
   "metadata": {},
   "source": [
    ""
   ]
  },
  {
   "cell_type": "markdown",
   "metadata": {},
   "source": [
    "### `target` `teams` and Distribute Parallel Loop SIMD Constructs"
   ]
  },
  {
   "cell_type": "markdown",
   "metadata": {},
   "source": [
    ""
   ]
  },
  {
   "cell_type": "markdown",
   "metadata": {},
   "source": [
    "The following example shows how the `target` `teams` and the distribute  parallel loop SIMD constructs are used to execute a loop in a `target` `teams`  region. The `target` `teams` construct creates a league of teams  where the primary thread of each team executes the `teams` region."
   ]
  },
  {
   "cell_type": "markdown",
   "metadata": {},
   "source": [
    "The distribute parallel loop SIMD construct schedules the loop iterations across  the primary thread of each team and then across the threads of each team where each  thread uses SIMD parallelism."
   ]
  },
  {
   "cell_type": "markdown",
   "metadata": {},
   "source": [
    ""
   ]
  },
  {
   "cell_type": "code",
   "execution_count": null,
   "metadata": {},
   "outputs": [],
   "source": [
    "//%compiler: clang\n",
 "//%cflags: -fopenmp\n",
 "\n",
    "/*\n",
    "* name: teams.6\n",
    "* type: C\n",
    "* version: omp_4.0\n",
    "*/\n",
    "extern void init(float *, float *, int);\n",
    "extern void output(float *, int);\n",
    "void vec_mult(float *p, float *v1, float *v2, int N)\n",
    "{\n",
    "   int i;\n",
    "   init(v1, v2, N);\n",
    "   #pragma omp target teams map(to: v1[0:N], v2[:N]) map(from: p[0:N])\n",
    "   #pragma omp distribute parallel for simd\n",
    "   for (i=0; i<N; i++)\n",
    "     p[i] = v1[i] * v2[i];\n",
    "   output(p, N);\n",
    "}\n",
    "\n"
   ]
  },
  {
   "cell_type": "markdown",
   "metadata": {},
   "source": [
    ""
   ]
  },
  {
   "cell_type": "markdown",
   "metadata": {},
   "source": [
    ""
   ]
  },
  {
   "cell_type": "code",
   "execution_count": null,
   "metadata": {},
   "outputs": [],
   "source": [
    "\n",
    "! name: teams.6\n",
    "! type: F-free\n",
    "! version: omp_4.0\n",
    "subroutine vec_mult(p, v1, v2, N)\n",
    "   real    ::  p(N), v1(N), v2(N)\n",
    "   integer ::  i\n",
    "   call init(v1, v2, N)\n",
    "   !$omp target teams map(to: v1, v2) map(from: p)\n",
    "      !$omp distribute parallel do simd\n",
    "         do i=1,N\n",
    "            p(i) = v1(i) * v2(i)\n",
    "         end do\n",
    "   !$omp end target teams\n",
    "   call output(p, N)\n",
    "end subroutine\n",
    "\n"
   ]
  },
  {
   "cell_type": "markdown",
   "metadata": {},
   "source": [
    ""
   ]
  },
  {
   "cell_type": "markdown",
   "metadata": {},
   "source": [
    "../../devices/teams.tex"
   ]
  },
  {
   "cell_type": "markdown",
   "metadata": {},
   "source": [
    ""
   ]
  },
  {
   "cell_type": "markdown",
   "metadata": {},
   "source": [
    "## Asynchronous `target` Execution and Dependences"
   ]
  },
  {
   "cell_type": "markdown",
   "metadata": {},
   "source": [
    ""
   ]
  },
  {
   "cell_type": "markdown",
   "metadata": {},
   "source": [
    "Asynchronous execution of a `target` region can be accomplished by creating an explicit task around the `target` region. Examples with explicit tasks are shown at the beginning of this section."
   ]
  },
  {
   "cell_type": "markdown",
   "metadata": {},
   "source": [
    "As of OpenMP 4.5 and beyond the `nowait` clause can be used on the `target` directive for asynchronous execution. Examples with  `nowait` clauses follow the explicit `task` examples."
   ]
  },
  {
   "cell_type": "markdown",
   "metadata": {},
   "source": [
    "This section also shows the use of `depend` clauses to order  executions through dependences. ../../devices/async_target_depend.tex"
   ]
  },
  {
   "cell_type": "markdown",
   "metadata": {},
   "source": [
    ""
   ]
  },
  {
   "cell_type": "markdown",
   "metadata": {},
   "source": [
    "### Asynchronous `target` with Tasks"
   ]
  },
  {
   "cell_type": "markdown",
   "metadata": {},
   "source": [
    "\index{target construct@`target` construct} \index{task construct@`task` construct}"
   ]
  },
  {
   "cell_type": "markdown",
   "metadata": {},
   "source": [
    "\index{directives!declare target@`declare` `target`} \index{declare target directive@`declare` `target` directive}"
   ]
  },
  {
   "cell_type": "markdown",
   "metadata": {},
   "source": [
    "\index{directives!begin declare target@`begin` `declare` `target`} \index{begin declare target directive@`begin` `declare` `target` directive}"
   ]
  },
  {
   "cell_type": "markdown",
   "metadata": {},
   "source": [
    "The following example shows how the `task` and `target` constructs  are used to execute multiple `target` regions asynchronously. The task that  encounters the `task` construct generates an explicit task that contains  a `target` region. The thread executing the explicit task encounters a task  scheduling point while waiting for the execution of the `target` region  to complete, allowing the thread to switch back to the execution of the encountering  task or one of the previously generated explicit tasks."
   ]
  },
  {
   "cell_type": "markdown",
   "metadata": {},
   "source": [
    ""
   ]
  },
  {
   "cell_type": "code",
   "execution_count": null,
   "metadata": {},
   "outputs": [],
   "source": [
    "//%compiler: clang\n",
 "//%cflags: -fopenmp\n",
 "\n",
    "/*\n",
    "* name: async_target.1\n",
    "* type: C\n",
    "* version: omp_5.1\n",
    "*/\n",
    "#pragma omp begin declare target\n",
    "float F(float);\n",
    "#pragma omp end declare target\n",
    "\n",
    "#define N 1000000000\n",
    "#define CHUNKSZ 1000000\n",
    "void init(float *, int);\n",
    "float Z[N];\n",
    "void pipedF(){\n",
    "   int C, i;\n",
    "   init(Z, N);\n",
    "   for (C=0; C<N; C+=CHUNKSZ){\n",
    "      #pragma omp task shared(Z)\n",
    "      #pragma omp target map(Z[C:CHUNKSZ])\n",
    "      #pragma omp parallel for\n",
    "      for (i=0; i<CHUNKSZ; i++) Z[i] = F(Z[i]);\n",
    "   }\n",
    "   #pragma omp taskwait\n",
    "}\n",
    "\n"
   ]
  },
  {
   "cell_type": "markdown",
   "metadata": {},
   "source": [
    ""
   ]
  },
  {
   "cell_type": "markdown",
   "metadata": {},
   "source": [
    "\index{directives!declare target@`declare` `target`} \index{declare target directive@`declare` `target` directive} The Fortran version has an interface block that contains the `declare` `target`.  An identical statement exists in the function declaration (not shown here)."
   ]
  },
  {
   "cell_type": "markdown",
   "metadata": {},
   "source": [
    ""
   ]
  },
  {
   "cell_type": "code",
   "execution_count": null,
   "metadata": {},
   "outputs": [],
   "source": [
    "\n",
    "! name: async_target.1\n",
    "! type: F-free\n",
    "! version: omp_4.0\n",
    "module parameters\n",
    "integer, parameter :: N=1000000000, CHUNKSZ=1000000\n",
    "end module\n",
    "subroutine pipedF()\n",
    "use parameters, ONLY: N, CHUNKSZ\n",
    "integer            :: C, i\n",
    "real               :: z(N)\n",
    "\n",
    "interface\n",
    "   function F(z)\n",
    "   !$omp declare target\n",
    "     real, intent(IN) ::z\n",
    "     real             ::F\n",
    "   end function F\n",
    "end interface\n",
    "\n",
    "   call init(z,N)\n",
    "\n",
    "   do C=1,N,CHUNKSZ\n",
    "\n",
    "      !$omp task shared(z)\n",
    "      !$omp target map(z(C:C+CHUNKSZ-1))\n",
    "      !$omp parallel do\n",
    "         do i=C,C+CHUNKSZ-1\n",
    "            z(i) = F(z(i))\n",
    "         end do\n",
    "      !$omp end target\n",
    "      !$omp end task\n",
    "\n",
    "   end do\n",
    "   !$omp taskwait\n",
    "   print*, z\n",
    "\n",
    "end subroutine pipedF\n",
    "\n"
   ]
  },
  {
   "cell_type": "markdown",
   "metadata": {},
   "source": [
    ""
   ]
  },
  {
   "cell_type": "markdown",
   "metadata": {},
   "source": [
    "The following example shows how the `task` and `target` constructs  are used to execute multiple `target` regions asynchronously. The task dependence  ensures that the storage is allocated and initialized on the device before it is  accessed."
   ]
  },
  {
   "cell_type": "markdown",
   "metadata": {},
   "source": [
    ""
   ]
  },
  {
   "cell_type": "code",
   "execution_count": null,
   "metadata": {},
   "outputs": [],
   "source": [
    "//%compiler: clang\n",
 "//%cflags: -fopenmp\n",
 "\n",
    "/*\n",
    "* name: async_target.2\n",
    "* type: C\n",
    "* version: omp_5.1\n",
    "*/\n",
    "#include <stdlib.h>\n",
    "#include <omp.h>\n",
    "\n",
    "#pragma omp begin declare target\n",
    "extern void init(float *, float *, int);\n",
    "#pragma omp end declare target\n",
    "\n",
    "extern void foo();\n",
    "extern void output(float *, int);\n",
    "void vec_mult(float *p, int N, int dev)\n",
    "{\n",
    "   float *v1, *v2;\n",
    "   int i;\n",
    "   #pragma omp task shared(v1, v2) depend(out: v1, v2)\n",
    "   #pragma omp target device(dev) map(v1, v2)\n",
    "   {\n",
    "       // check whether on device dev\n",
    "       if (omp_is_initial_device())\n",
    "   abort();\n",
    "       v1 = (float *)malloc(N*sizeof(float));\n",
    "       v2 = (float *)malloc(N*sizeof(float));\n",
    "       init(v1, v2, N);\n",
    "   }\n",
    "   foo(); // execute other work asychronously\n",
    "   #pragma omp task shared(v1, v2, p) depend(in: v1, v2)\n",
    "   #pragma omp target device(dev) map(to: v1, v2) map(from: p[0:N])\n",
    "   {\n",
    "       // check whether on device dev\n",
    "       if (omp_is_initial_device())\n",
    "   abort();\n",
    "       #pragma omp parallel for\n",
    "       for (i=0; i<N; i++)\n",
    "  p[i] = v1[i] * v2[i];\n",
    "       free(v1);\n",
    "       free(v2);\n",
    "   }\n",
    "   #pragma omp taskwait\n",
    "   output(p, N);\n",
    "}\n",
    "\n"
   ]
  },
  {
   "cell_type": "markdown",
   "metadata": {},
   "source": [
    ""
   ]
  },
  {
   "cell_type": "markdown",
   "metadata": {},
   "source": [
    "The Fortran example below is similar to the C version above. Instead of pointers, though, it uses the convenience of Fortran allocatable arrays on the device. In order to preserve the arrays  allocated on the device across multiple `target` regions, a `target` `data` region  is used in this case."
   ]
  },
  {
   "cell_type": "markdown",
   "metadata": {},
   "source": [
    "If there is no shape specified for an allocatable array in a `map` clause, only the array descriptor (also called a dope vector) is mapped. That is, device space is created for the descriptor, and it is initially populated with host values. In this case, the  _v1_  and  _v2_  arrays will be in a non-associated state on the device. When space for  _v1_  and  _v2_  is allocated on the device in the first `target` region the addresses to the space will be included in their descriptors."
   ]
  },
  {
   "cell_type": "markdown",
   "metadata": {},
   "source": [
    "At the end of the first `target` region, the arrays  _v1_  and  _v2_  are preserved on the device  for access in the second `target` region. At the end of the second `target` region, the data  in array  _p_  is copied back, the arrays  _v1_  and  _v2_  are not."
   ]
  },
  {
   "cell_type": "markdown",
   "metadata": {},
   "source": [
    "\index{task construct@`task` construct!depend clause@`depend` clause} \index{clauses!depend@`depend`} \index{depend clause@`depend` clause} A `depend` clause is used in the `task` directive to provide a wait at the beginning of the second  `target` region, to insure that there is no race condition with  _v1_  and  _v2_  in the two tasks. It would be noncompliant to use  _v1_  and/or  _v2_  in lieu of  _N_  in the `depend` clauses,  because the use of non-allocated allocatable arrays as list items in a `depend` clause would  lead to unspecified behavior."
   ]
  },
  {
   "cell_type": "markdown",
   "metadata": {},
   "source": [
    "This example is not strictly compliant with the OpenMP 4.5 specification since the allocation status of allocatable arrays  _v1_  and  _v2_  is changed inside the `target` region, which is not allowed. (See the restrictions for the `map` clause in the  _Data-mapping Attribute Rules and Clauses_   section of the specification.) However, the intention is to relax the restrictions on mapping of allocatable variables in the next release of the specification so that the example will be compliant."
   ]
  },
  {
   "cell_type": "markdown",
   "metadata": {},
   "source": [
    ""
   ]
  },
  {
   "cell_type": "code",
   "execution_count": null,
   "metadata": {},
   "outputs": [],
   "source": [
    "\n",
    "! name: async_target.2\n",
    "! type: F-free\n",
    "! version: omp_4.0\n",
    " subroutine mult(p,  N, idev)\n",
    "   use omp_lib, ONLY: omp_is_initial_device\n",
    "   real             :: p(N)\n",
    "   real,allocatable :: v1(:), v2(:)\n",
    "   integer ::  i, idev\n",
    "   !$omp declare target (init)\n",
    "\n",
    "   !$omp target data map(v1,v2)\n",
    "\n",
    "   !$omp task shared(v1,v2) depend(out: N)\n",
    "      !$omp target device(idev)\n",
    "         if( omp_is_initial_device() ) &\n",
    "            stop \"not executing on target device\"\n",
    "         allocate(v1(N), v2(N))\n",
    "         call init(v1,v2,N)\n",
    "      !$omp end target\n",
    "   !$omp end task\n",
    "\n",
    "   call foo()  ! execute other work asychronously\n",
    "\n",
    "   !$omp task shared(v1,v2,p) depend(in: N)\n",
    "      !$omp target device(idev) map(from: p)\n",
    "         if( omp_is_initial_device() ) &\n",
    "            stop \"not executing on target device\"\n",
    "         !$omp parallel do\n",
    "            do i = 1,N\n",
    "               p(i) = v1(i) * v2(i)\n",
    "            end do\n",
    "         deallocate(v1,v2)\n",
    "\n",
    "      !$omp end target\n",
    "   !$omp end task\n",
    "\n",
    "   !$omp taskwait\n",
    "\n",
    "   !$omp end target data\n",
    "\n",
    "   call output(p, N)\n",
    "\n",
    "end subroutine\n",
    "\n"
   ]
  },
  {
   "cell_type": "markdown",
   "metadata": {},
   "source": [
    "../../devices/async_target_with_tasks.tex"
   ]
  },
  {
   "cell_type": "markdown",
   "metadata": {},
   "source": [
    ""
   ]
  },
  {
   "cell_type": "markdown",
   "metadata": {},
   "source": [
    "### `nowait` Clause on `target` Construct"
   ]
  },
  {
   "cell_type": "markdown",
   "metadata": {},
   "source": [
    "\index{target construct@`target` construct!nowait clause@`nowait` clause} \index{clauses!nowait@`nowait`} \index{nowait clause@`nowait` clause}"
   ]
  },
  {
   "cell_type": "markdown",
   "metadata": {},
   "source": [
    "The following example shows how to execute code asynchronously on a  device without an explicit task. The `nowait` clause on a `target`  construct allows the thread of the  _target task_  to perform other work while waiting for the `target` region execution to complete.  Hence, the `target` region can execute asynchronously on the  device (without requiring a host thread to idle while waiting for  the  _target task_  execution to complete)."
   ]
  },
  {
   "cell_type": "markdown",
   "metadata": {},
   "source": [
    "In this example the product of two vectors (arrays),  _v1_  and  _v2_ , is formed. One half of the operations is performed on the device, and the last half on the host, concurrently."
   ]
  },
  {
   "cell_type": "markdown",
   "metadata": {},
   "source": [
    "After a team of threads is formed the primary thread generates  the  _target task_  while the other threads can continue on, without a barrier, to the execution of the host portion of the vector product. The completion of the  _target task_  (asynchronous target execution) is  guaranteed by the synchronization in the implicit barrier at the end of the  host vector-product worksharing loop region. See the `barrier`  glossary entry in the OpenMP specification for details."
   ]
  },
  {
   "cell_type": "markdown",
   "metadata": {},
   "source": [
    "The host loop scheduling is `dynamic`, to balance the host thread executions, since  one thread is being used for offload generation. In the situation where  little time is spent by the  _target task_  in setting  up and tearing down the target execution, `static` scheduling may be desired."
   ]
  },
  {
   "cell_type": "markdown",
   "metadata": {},
   "source": [
    ""
   ]
  },
  {
   "cell_type": "code",
   "execution_count": null,
   "metadata": {},
   "outputs": [],
   "source": [
    "//%compiler: clang\n",
 "//%cflags: -fopenmp\n",
 "\n",
    "/*\n",
    "* name: async_target.3\n",
    "* type: C\n",
    "* version: omp_5.1\n",
    "*/\n",
    "#include <stdio.h>\n",
    "\n",
    "#define N 1000000      //N must be even\n",
    "void init(int n, float *v1, float *v2);\n",
    "\n",
    "int main(){\n",
    "   int   i, n=N;\n",
    "   int   chunk=1000;\n",
    "   float v1[N],v2[N],vxv[N];\n",
    "\n",
    "   init(n, v1,v2);\n",
    "\n",
    "   #pragma omp parallel\n",
    "   {\n",
    "\n",
    "      #pragma omp masked\n",
    "      #pragma omp target teams distribute parallel for nowait \\\n",
    "                                map(to: v1[0:n/2]) \\\n",
    "                                map(to: v2[0:n/2]) \\\n",
    "                                map(from: vxv[0:n/2])\n",
    "      for(i=0; i<n/2; i++){ vxv[i] = v1[i]*v2[i]; }\n",
    "\n",
    "      #pragma omp for schedule(dynamic,chunk)\n",
    "      for(i=n/2; i<n; i++){ vxv[i] = v1[i]*v2[i]; }\n",
    "\n",
    "   }\n",
    "   printf(\" vxv[0] vxv[n-1] %f %f\\n\", vxv[0], vxv[n-1]);\n",
    "   return 0;\n",
    "}\n",
    "\n"
   ]
  },
  {
   "cell_type": "markdown",
   "metadata": {},
   "source": [
    ""
   ]
  },
  {
   "cell_type": "markdown",
   "metadata": {},
   "source": [
    ""
   ]
  },
  {
   "cell_type": "code",
   "execution_count": null,
   "metadata": {},
   "outputs": [],
   "source": [
    "\n",
    "! name: async_target.3\n",
    "! type: F-free\n",
    "! version: omp_5.1\n",
    "program concurrent_async\n",
    "   use omp_lib\n",
    "   integer,parameter :: n=1000000  !!n must be even\n",
    "   integer           :: i, chunk=1000\n",
    "   real              :: v1(n),v2(n),vxv(n)\n",
    "\n",
    "   call init(n, v1,v2)\n",
    "\n",
    "   !$omp parallel\n",
    "\n",
    "      !$omp masked\n",
    "      !$omp target teams distribute parallel do nowait &\n",
    "      !$omp&                    map(to: v1(1:n/2))   &\n",
    "      !$omp&                    map(to: v2(1:n/2))   &\n",
    "      !$omp&                    map(from: vxv(1:n/2))\n",
    "      do i = 1,n/2;    vxv(i) = v1(i)*v2(i); end do\n",
    "      !$omp end masked\n",
    "\n",
    "      !$omp do schedule(dynamic,chunk)\n",
    "      do i = n/2+1,n;  vxv(i) = v1(i)*v2(i); end do\n",
    "\n",
    "   !$omp end parallel\n",
    "\n",
    "   print*, \" vxv(1) vxv(n) :\", vxv(1), vxv(n)\n",
    "\n",
    "end program\n",
    "\n"
   ]
  },
  {
   "cell_type": "markdown",
   "metadata": {},
   "source": [
    "../../devices/async_target_nowait.tex"
   ]
  },
  {
   "cell_type": "markdown",
   "metadata": {},
   "source": [
    ""
   ]
  },
  {
   "cell_type": "markdown",
   "metadata": {},
   "source": [
    "### Asynchronous `target` with `nowait` and `depend` Clauses"
   ]
  },
  {
   "cell_type": "markdown",
   "metadata": {},
   "source": [
    "\index{target construct@`target` construct!nowait clause@`nowait` clause} \index{target construct@`target` construct!depend clause@`depend` clause} \index{nowait clause@`nowait` clause} \index{depend clause@`depend` clause} \index{clauses!nowait@`nowait`} \index{clauses!depend@`depend`}"
   ]
  },
  {
   "cell_type": "markdown",
   "metadata": {},
   "source": [
    "More details on dependences can be found in  task_depend , Task  Dependences. In this example, there are three flow dependences.  In the first two dependences the target task does not execute until the preceding explicit tasks have finished.   These  dependences are produced by arrays  _v1_  and  _v2_   with the `out` dependence type in the first two tasks, and the `in` dependence type in the target task."
   ]
  },
  {
   "cell_type": "markdown",
   "metadata": {},
   "source": [
    "The last dependence is produced by array  _p_   with the `out` dependence type in the target task, and the `in` dependence type in the last task.  The last task does not execute until the target task finishes."
   ]
  },
  {
   "cell_type": "markdown",
   "metadata": {},
   "source": [
    "The `nowait` clause on the `target` construct creates a deferrable  _target task_ , allowing the encountering task to continue execution without waiting for the completion of the  _target task_ ."
   ]
  },
  {
   "cell_type": "markdown",
   "metadata": {},
   "source": [
    ""
   ]
  },
  {
   "cell_type": "code",
   "execution_count": null,
   "metadata": {},
   "outputs": [],
   "source": [
    "//%compiler: clang\n",
 "//%cflags: -fopenmp\n",
 "\n",
    "/*\n",
    "* name: async_target.4\n",
    "* type: C\n",
    "* version: omp_4.5\n",
    "*/\n",
    "\n",
    "extern void init(  float*, int);\n",
    "extern void output(float*, int);\n",
    "\n",
    "void vec_mult(int N)\n",
    "{\n",
    "   int i;\n",
    "   float p[N], v1[N], v2[N];\n",
    "\n",
    "   #pragma omp parallel num_threads(2)\n",
    "   {\n",
    "      #pragma omp single\n",
    "      {\n",
    "         #pragma omp task depend(out:v1)\n",
    "         init(v1, N);\n",
    "\n",
    "         #pragma omp task depend(out:v2)\n",
    "         init(v2, N);\n",
    "\n",
    "         #pragma omp target nowait depend(in:v1,v2) depend(out:p) \\\n",
    "                                      map(to:v1,v2) map( from: p)\n",
    "         #pragma omp parallel for private(i)\n",
    "         for (i=0; i<N; i++)\n",
    "            p[i] = v1[i] * v2[i];\n",
    "\n",
    "         #pragma omp task depend(in:p)\n",
    "         output(p, N);\n",
    "      }\n",
    "   }\n",
    "}\n",
    "\n"
   ]
  },
  {
   "cell_type": "markdown",
   "metadata": {},
   "source": [
    ""
   ]
  },
  {
   "cell_type": "markdown",
   "metadata": {},
   "source": [
    ""
   ]
  },
  {
   "cell_type": "code",
   "execution_count": null,
   "metadata": {},
   "outputs": [],
   "source": [
    "\n",
    "! name: async_target.4\n",
    "! type: F-free\n",
    "! version: omp_4.5\n",
    "\n",
    "subroutine vec_mult(N)\n",
    "   implicit none\n",
    "   integer           :: i, N\n",
    "   real, allocatable :: p(:), v1(:), v2(:)\n",
    "   allocate( p(N), v1(N), v2(N) )\n",
    "\n",
    "   !$omp parallel num_threads(2)\n",
    "\n",
    "      !$omp single\n",
    "\n",
    "         !$omp task depend(out:v1)\n",
    "         call init(v1, N)\n",
    "         !$omp end task\n",
    "\n",
    "         !$omp task depend(out:v2)\n",
    "         call init(v2, N)\n",
    "         !$omp end task\n",
    "\n",
    "         !$omp target nowait depend(in:v1,v2) depend(out:p) &\n",
    "         !$omp&                 map(to:v1,v2)  map(from: p)\n",
    "         !$omp parallel do\n",
    "         do i=1,N\n",
    "            p(i) = v1(i) * v2(i)\n",
    "         end do\n",
    "         !$omp end target\n",
    "\n",
    "\n",
    "         !$omp task depend(in:p)\n",
    "         call output(p, N)\n",
    "         !$omp end task\n",
    "\n",
    "     !$omp end single\n",
    "   !$omp end parallel\n",
    "\n",
    "   deallocate( p, v1, v2 )\n",
    "\n",
    "end subroutine\n",
    "\n"
   ]
  },
  {
   "cell_type": "markdown",
   "metadata": {},
   "source": [
    ""
   ]
  },
  {
   "cell_type": "markdown",
   "metadata": {},
   "source": [
    "../../devices/async_target_nowait_depend.tex"
   ]
  },
  {
   "cell_type": "markdown",
   "metadata": {},
   "source": [
    ""
   ]
  },
  {
   "cell_type": "markdown",
   "metadata": {},
   "source": [
    "## Device Routines"
   ]
  },
  {
   "cell_type": "markdown",
   "metadata": {},
   "source": [
    ""
   ]
  },
  {
   "cell_type": "markdown",
   "metadata": {},
   "source": [
    ""
   ]
  },
  {
   "cell_type": "markdown",
   "metadata": {},
   "source": [
    "### `omp_is_initial_device` Routine"
   ]
  },
  {
   "cell_type": "markdown",
   "metadata": {},
   "source": [
    "\index{routines!omp_is_initial_device@\scode{omp_is_initial_device}} \index{omp_is_initial_device routine@\scode{omp_is_initial_device} routine}"
   ]
  },
  {
   "cell_type": "markdown",
   "metadata": {},
   "source": [
    "\index{directives!declare target@`declare` `target`} \index{declare target directive@`declare` `target` directive}"
   ]
  },
  {
   "cell_type": "markdown",
   "metadata": {},
   "source": [
    "\index{directives!begin declare target@`begin` `declare` `target`} \index{begin declare target directive@`begin` `declare` `target` directive}"
   ]
  },
  {
   "cell_type": "markdown",
   "metadata": {},
   "source": [
    "The following example shows how the `omp_is_initial_device` runtime library routine  can be used to query if a code is executing on the initial host device or on a  target device. The example then sets the number of threads in the `parallel`  region based on where the code is executing."
   ]
  },
  {
   "cell_type": "markdown",
   "metadata": {},
   "source": [
    ""
   ]
  },
  {
   "cell_type": "code",
   "execution_count": null,
   "metadata": {},
   "outputs": [],
   "source": [
    "//%compiler: clang\n",
 "//%cflags: -fopenmp\n",
 "\n",
    "/*\n",
    "* name: device.1\n",
    "* type: C\n",
    "* version: omp_5.1\n",
    "*/\n",
    "#include <stdio.h>\n",
    "#include <omp.h>\n",
    "\n",
    "#pragma omp begin declare target\n",
    "   void vec_mult(float *p, float *v1, float *v2, int N);\n",
    "   extern float *p, *v1, *v2;\n",
    "   extern int N;\n",
    "#pragma omp end declare target\n",
    "\n",
    "extern void init_vars(float *, float *, int);\n",
    "extern void output(float *, int);\n",
    "\n",
    "void foo()\n",
    "{\n",
    "   init_vars(v1, v2, N);\n",
    "   #pragma omp target device(42) map(p[:N], v1[:N], v2[:N])\n",
    "   {\n",
    "      vec_mult(p, v1, v2, N);\n",
    "   }\n",
    "   output(p, N);\n",
    "}\n",
    "\n",
    "void vec_mult(float *p, float *v1, float *v2, int N)\n",
    "{\n",
    "   int i;\n",
    "   int nthreads;\n",
    "   if (!omp_is_initial_device())\n",
    "   {\n",
    "      printf(\"1024 threads on target device\\n\");\n",
    "      nthreads = 1024;\n",
    "   }\n",
    "   else\n",
    "   {\n",
    "      printf(\"8 threads on initial device\\n\");\n",
    "      nthreads = 8;\n",
    "   }\n",
    "   #pragma omp parallel for private(i) num_threads(nthreads)\n",
    "   for (i=0; i<N; i++)\n",
    "     p[i] = v1[i] * v2[i];\n",
    "}\n",
    "\n"
   ]
  },
  {
   "cell_type": "markdown",
   "metadata": {},
   "source": [
    ""
   ]
  },
  {
   "cell_type": "markdown",
   "metadata": {},
   "source": [
    ""
   ]
  },
  {
   "cell_type": "code",
   "execution_count": null,
   "metadata": {},
   "outputs": [],
   "source": [
    "\n",
    "! name: device.1\n",
    "! type: F-free\n",
    "! version:    omp_4.0\n",
    "module params\n",
    "   integer,parameter :: N=1024\n",
    "end module params\n",
    "module vmult\n",
    "contains\n",
    "   subroutine vec_mult(p, v1, v2, N)\n",
    "   use omp_lib, ONLY : omp_is_initial_device\n",
    "   !$omp declare target\n",
    "   real    :: p(N), v1(N), v2(N)\n",
    "   integer :: i, nthreads, N\n",
    "      if (.not. omp_is_initial_device()) then\n",
    "         print*, \"1024 threads on target device\"\n",
    "         nthreads = 1024\n",
    "      else\n",
    "         print*, \"8 threads on initial device\"\n",
    "         nthreads = 8\n",
    "      endif\n",
    "      !$omp parallel do private(i) num_threads(nthreads)\n",
    "      do i = 1,N\n",
    "        p(i) = v1(i) * v2(i)\n",
    "      end do\n",
    "   end subroutine vec_mult\n",
    "end module vmult\n",
    "program prog_vec_mult\n",
    "use params\n",
    "use vmult\n",
    "real :: p(N), v1(N), v2(N)\n",
    "   call init(v1,v2,N)\n",
    "   !$omp target device(42) map(p, v1, v2)\n",
    "      call vec_mult(p, v1, v2, N)\n",
    "   !$omp end target\n",
    "   call output(p, N)\n",
    "end program\n",
    "\n"
   ]
  },
  {
   "cell_type": "markdown",
   "metadata": {},
   "source": [
    ""
   ]
  },
  {
   "cell_type": "markdown",
   "metadata": {},
   "source": [
    ""
   ]
  },
  {
   "cell_type": "markdown",
   "metadata": {},
   "source": [
    "### `omp_get_num_devices` Routine"
   ]
  },
  {
   "cell_type": "markdown",
   "metadata": {},
   "source": [
    ""
   ]
  },
  {
   "cell_type": "markdown",
   "metadata": {},
   "source": [
    "The following example shows how the `omp_get_num_devices` runtime library routine  can be used to determine the number of devices."
   ]
  },
  {
   "cell_type": "markdown",
   "metadata": {},
   "source": [
    ""
   ]
  },
  {
   "cell_type": "code",
   "execution_count": null,
   "metadata": {},
   "outputs": [],
   "source": [
    "//%compiler: clang\n",
 "//%cflags: -fopenmp\n",
 "\n",
    "/*\n",
    "* name: device.2\n",
    "* type: C\n",
    "* version: omp_4.0\n",
    "*/\n",
    "#include <omp.h>\n",
    "extern void init(float *, float *, int);\n",
    "extern void output(float *, int);\n",
    "void vec_mult(float *p, float *v1, float *v2, int N)\n",
    "{\n",
    "   int i;\n",
    "   init(v1, v2, N);\n",
    "   int ndev = omp_get_num_devices();\n",
    "   int do_offload = (ndev>0 && N>1000000);\n",
    "   #pragma omp target if(do_offload) \\\n",
    "                      map(to: v1[0:N], v2[:N]) \\\n",
    "                      map(from: p[0:N])\n",
    "   #pragma omp parallel for if(N>1000) private(i)\n",
    "   for (i=0; i<N; i++)\n",
    "     p[i] = v1[i] * v2[i];\n",
    "   output(p, N);\n",
    "}\n",
    "\n"
   ]
  },
  {
   "cell_type": "markdown",
   "metadata": {},
   "source": [
    ""
   ]
  },
  {
   "cell_type": "markdown",
   "metadata": {},
   "source": [
    ""
   ]
  },
  {
   "cell_type": "code",
   "execution_count": null,
   "metadata": {},
   "outputs": [],
   "source": [
    "\n",
    "! name: device.2\n",
    "! type: F-free\n",
    "! version:    omp_4.0\n",
    "subroutine vec_mult(p, v1, v2, N)\n",
    "use omp_lib, ONLY : omp_get_num_devices\n",
    "real    :: p(N), v1(N), v2(N)\n",
    "integer :: N, i, ndev\n",
    "logical :: do_offload\n",
    "   call init(v1, v2, N)\n",
    "   ndev = omp_get_num_devices()\n",
    "   do_offload = (ndev>0) .and. (N>1000000)\n",
    "   !$omp target if(do_offload) map(to: v1, v2) map(from: p)\n",
    "   !$omp parallel do if(N>1000)\n",
    "      do i=1,N\n",
    "         p(i) = v1(i) * v2(i)\n",
    "      end do\n",
    "   !$omp end target\n",
    "   call output(p, N)\n",
    "end subroutine\n",
    "\n"
   ]
  },
  {
   "cell_type": "markdown",
   "metadata": {},
   "source": [
    ""
   ]
  },
  {
   "cell_type": "markdown",
   "metadata": {},
   "source": [
    ""
   ]
  },
  {
   "cell_type": "markdown",
   "metadata": {},
   "source": [
    "### `omp_set_default_device` and  `omp_get_default_device` Routines"
   ]
  },
  {
   "cell_type": "markdown",
   "metadata": {},
   "source": [
    "\index{routines!omp_set_default_device@\scode{omp_set_default_device}} \index{omp_set_default_device routine@\scode{omp_set_default_device} routine}"
   ]
  },
  {
   "cell_type": "markdown",
   "metadata": {},
   "source": [
    "The following example shows how the `omp_set_default_device` and `omp_get_default_device`  runtime library routines can be used to set the default device and determine the  default device respectively."
   ]
  },
  {
   "cell_type": "markdown",
   "metadata": {},
   "source": [
    ""
   ]
  },
  {
   "cell_type": "code",
   "execution_count": null,
   "metadata": {},
   "outputs": [],
   "source": [
    "//%compiler: clang\n",
 "//%cflags: -fopenmp\n",
 "\n",
    "/*\n",
    "* name: device.3\n",
    "* type: C\n",
    "* version: omp_4.0\n",
    "*/\n",
    "#include <omp.h>\n",
    "#include <stdio.h>\n",
    "void foo(void)\n",
    "{\n",
    "   int default_device = omp_get_default_device();\n",
    "   printf(\"Default device = %d\\n\", default_device);\n",
    "   omp_set_default_device(default_device+1);\n",
    "   if (omp_get_default_device() != default_device+1)\n",
    "      printf(\"Default device is still = %d\\n\", default_device);\n",
    "}\n",
    "\n"
   ]
  },
  {
   "cell_type": "markdown",
   "metadata": {},
   "source": [
    ""
   ]
  },
  {
   "cell_type": "markdown",
   "metadata": {},
   "source": [
    ""
   ]
  },
  {
   "cell_type": "code",
   "execution_count": null,
   "metadata": {},
   "outputs": [],
   "source": [
    "\n",
    "! name: device.3\n",
    "! type: F-free\n",
    "! version:    omp_4.0\n",
    "program foo\n",
    "use omp_lib, ONLY : omp_get_default_device, omp_set_default_device\n",
    "integer :: old_default_device, new_default_device\n",
    "   old_default_device = omp_get_default_device()\n",
    "   print*, \"Default device = \", old_default_device\n",
    "   new_default_device = old_default_device + 1\n",
    "   call omp_set_default_device(new_default_device)\n",
    "   if (omp_get_default_device() == old_default_device) &\n",
    "      print*,\"Default device is STILL = \", old_default_device\n",
    "end program\n",
    "\n"
   ]
  },
  {
   "cell_type": "markdown",
   "metadata": {},
   "source": [
    ""
   ]
  },
  {
   "cell_type": "markdown",
   "metadata": {},
   "source": [
    ""
   ]
  },
  {
   "cell_type": "markdown",
   "metadata": {},
   "source": [
    ""
   ]
  },
  {
   "cell_type": "markdown",
   "metadata": {},
   "source": [
    "../../devices/target_associate_ptr.tex"
   ]
  },
  {
   "cell_type": "markdown",
   "metadata": {},
   "source": [
    ""
   ]
  },
  {
   "cell_type": "markdown",
   "metadata": {},
   "source": [
    "### Target Memory and Device Pointers Routines"
   ]
  },
  {
   "cell_type": "markdown",
   "metadata": {},
   "source": [
    "\index{routines!omp_target_alloc@\scode{omp_target_alloc}} \index{omp_target_alloc routine@\scode{omp_target_alloc} routine} \index{routines!omp_target_memcpy@\scode{omp_target_memcpy}} \index{omp_target_memcpy routine@\scode{omp_target_memcpy} routine} \index{routines!omp_target_free@\scode{omp_target_free}} \index{omp_target_free routine@\scode{omp_target_free} routine}"
   ]
  },
  {
   "cell_type": "markdown",
   "metadata": {},
   "source": [
    "The following example shows how to create space on a device, transfer data to and from that space, and free the space, using API calls. The API calls directly execute allocation, copy and free operations on the device, without invoking any mapping through a `target` directive. The `omp_target_alloc` routine allocates space and returns a device pointer for referencing the space in the `omp_target_memcpy` API routine on the host. The `omp_target_free` routine frees the space on the device."
   ]
  },
  {
   "cell_type": "markdown",
   "metadata": {},
   "source": [
    "\index{target construct@`target` construct!is_device_ptr clause@\scode{is_device_ptr} clause} \index{is_device_ptr clause@\scode{is_device_ptr} clause} \index{clauses!is_device_ptr@\scode{is_device_ptr}} The example also illustrates how to access that space in a `target` region by exposing the device pointer in an `is_device_ptr` clause."
   ]
  },
  {
   "cell_type": "markdown",
   "metadata": {},
   "source": [
    "The example creates an array of cosine values on the default device, to be used on the host device. The function fails if a default device is not available."
   ]
  },
  {
   "cell_type": "markdown",
   "metadata": {},
   "source": [
    ""
   ]
  },
  {
   "cell_type": "code",
   "execution_count": null,
   "metadata": {},
   "outputs": [],
   "source": [
    "//%compiler: clang\n",
 "//%cflags: -fopenmp\n",
 "\n",
    "/*\n",
    "* name: device.4\n",
    "* type: C\n",
    "* version: omp_4.5\n",
    "*/\n",
    "#include <stdio.h>\n",
    "#include <math.h>\n",
    "#include <stdlib.h>\n",
    "#include <omp.h>\n",
    "\n",
    "void get_dev_cos(double *mem, size_t s)\n",
    "{\n",
    "   int h, t, i;\n",
    "   double * mem_dev_cpy;\n",
    "   h = omp_get_initial_device();\n",
    "   t = omp_get_default_device();\n",
    "\n",
    "   if (omp_get_num_devices() < 1 || t < 0){\n",
    "      printf(\" ERROR: No device found.\\n\");\n",
    "      exit(1);\n",
    "   }\n",
    "\n",
    "   mem_dev_cpy = (double *)omp_target_alloc( sizeof(double) * s, t);\n",
    "   if(mem_dev_cpy == NULL){\n",
    "      printf(\" ERROR: No space left on device.\\n\");\n",
    "      exit(1);\n",
    "   }\n",
    "\n",
    "                          /* dst  src */\n",
    "   omp_target_memcpy(mem_dev_cpy, mem, sizeof(double)*s,\n",
    "                              0,    0,\n",
    "                              t,   h);\n",
    "\n",
    "   #pragma omp target is_device_ptr(mem_dev_cpy) device(t)\n",
    "   #pragma omp teams distribute parallel for\n",
    "     for(i=0;i<s;i++){ mem_dev_cpy[i] = cos((double)i); } /* init data */\n",
    "\n",
    "                   /* dst  src */\n",
    "    omp_target_memcpy(mem, mem_dev_cpy, sizeof(double)*s,\n",
    "                      0,             0,\n",
    "                      h,             t);\n",
    "\n",
    "    omp_target_free(mem_dev_cpy, t);\n",
    "}\n",
    "\n"
   ]
  },
  {
   "cell_type": "markdown",
   "metadata": {},
   "source": [
    ""
   ]
  },
  {
   "cell_type": "markdown",
   "metadata": {},
   "source": [
    "\index{routines!omp_target_is_present@\scode{omp_target_is_present}} \index{omp_target_is_present routine@\scode{omp_target_is_present} routine} \index{routines!omp_target_associate_ptr@\scode{omp_target_associate_ptr}} \index{omp_target_associate_ptr routine@\scode{omp_target_associate_ptr} routine} The following Fortran example illustrates how to use the `omp_target_alloc` and `omp_target_memcpy` functions to directly allocate device storage and transfer data to and from a device. It also shows how to check for the presence of device data with the `omp_target_is_present` function and to associate host and device storage with the `omp_target_associate_ptr` function."
   ]
  },
  {
   "cell_type": "markdown",
   "metadata": {},
   "source": [
    "In Section 1 of the code, 40 bytes of storage are allocated on the default device with the `omp_target_alloc` function, which returns a value (of type  **C_PTR** ) that contains the device address of the storage. In the subsequent `target` construct,  **cp**  is specified on the `is_device_ptr` clause to instruct the compiler that  **cp**  is a device pointer. The device pointer ( **cp** ) is then associated with the Fortran pointer ( **fp** ) via the  **c_f_pointer**  routine inside the `target` construct. As a result,  **fp**  points to the storage on the device that is allocated by the `omp_target_alloc` routine. In the `target` region, the value 4 is assigned to the storage on the device, using the Fortran pointer. A trivial test checks that all values were correctly assigned. The Fortran pointer ( **fp** ) is nullified before the end of the `target` region. After the `target` construct, the space on the device is freed with the `omp_target_free` function, using the device  **cp**  pointer which is set to null after the call."
   ]
  },
  {
   "cell_type": "markdown",
   "metadata": {},
   "source": [
    "In Section 2, the content of the storage allocated on the host is directly copied to the OpenMP allocated storage on the device. First, storage is allocated for the device and host using `omp_target_alloc`. Next, on the host the device pointer, returned from the allocation `omp_target_alloc` function, is associated with a Fortran pointer, and values are assigned to the storage. Similarly, values are assigned on the device to the device storage, after associating a Fortran pointer ( **fp_dst** ) with the device's storage pointer ( **cp_dst** )."
   ]
  },
  {
   "cell_type": "markdown",
   "metadata": {},
   "source": [
    "Next the `omp_target_memcpy` function directly copies the host data to the device storage, specified by the respective host and device pointers. This copy will overwrite -1 values in the device storage, and is checked in the next `target` construct. Keyword arguments are used here for clarity. (A positional argument list is used in the next Section.)"
   ]
  },
  {
   "cell_type": "markdown",
   "metadata": {},
   "source": [
    "In Section 3, space is allocated (with a Fortran ALLOCATE statement) and initialized using a host Fortran pointer ( **h_fp** ), and the address of the storage is directly assigned to a host C pointer ( **h_cp** ). The following `omp_target_is_present` function returns  **0**  (false, of integer(C_INT) type) to indicate that  **h_cp**  does not have any corresponding storage on the default device."
   ]
  },
  {
   "cell_type": "markdown",
   "metadata": {},
   "source": [
    "Next, the same amount of space is allocated on the default device with the `omp_target_alloc` function, which returns a device pointer ( **d_cp** ). The device pointer  **d_cp**  and host pointer  **h_cp**  are then associated using the `omp_target_associate_ptr` function. The device storage to which  **d_cp**  points becomes the corresponding storage of the host storage to which  **h_cp**  points. The following `omp_target_is_present` call confirms this, by returning a non-zero value of integer(C_INT) type for true."
   ]
  },
  {
   "cell_type": "markdown",
   "metadata": {},
   "source": [
    "After the association, the content of the  host storage is copied to the device using the `omp_target_memcpy` function. In the final `target` construct an array section of  **h_fp**   is mapped to the device, and evaluated for correctness. The mapping establishes a connection of  **h_fp**  with the corresponding device data in the `target` construct, but does not produce an update on the device because the previous \scode{omp_target_associate_ptr} routine sets the  reference count of the mapped object to infinity, meaning a mapping  without the `always` modifier will not  update the device object."
   ]
  },
  {
   "cell_type": "markdown",
   "metadata": {},
   "source": [
    ""
   ]
  },
  {
   "cell_type": "code",
   "execution_count": null,
   "metadata": {},
   "outputs": [],
   "source": [
    "\n",
    "! name: device.4\n",
    "! type: F-free\n",
    "! version: omp_5.0\n",
    "program device_mem\n",
    "  use omp_lib\n",
    "  use, intrinsic            :: iso_c_binding\n",
    "\n",
    "  integer(kind=4),parameter :: N = 10\n",
    "  type(c_ptr)               :: cp\n",
    "  integer(c_int), pointer   :: fp(:)\n",
    "  integer(c_int)            :: rc, host_dev, targ_dev\n",
    "  integer(c_size_t)         :: int_bytes\n",
    "\n",
    "  integer, pointer  :: fp_src(:), fp_dst(:)    ! Section 2 vars\n",
    "  type(c_ptr)       :: cp_src,    cp_dst       ! Section 2 vars\n",
    "\n",
    "  integer, pointer  :: h_fp(:)                 ! Section 3 vars\n",
    "  type(c_ptr)       :: h_cp,    d_cp           ! Section 3 vars\n",
    "\n",
    "  integer :: i\n",
    "\n",
    "  host_dev  = omp_get_initial_device()\n",
    "  targ_dev  = omp_get_default_device()\n",
    "  int_bytes = C_SIZEOF(rc)\n",
    "\n",
    "!------------------------------------------------Section 1 vv-----------\n",
    "  cp = omp_target_alloc(N*int_bytes, targ_dev)\n",
    "\n",
    "  !$omp target is_device_ptr(cp) device(targ_dev) !fp implicit map\n",
    "     call c_f_pointer(cp, fp, [ N ])              !fp becomes associated\n",
    "     fp(:) = 4\n",
    "     if( all(fp == 4) ) print*,\"PASSED 1 of 5\"\n",
    "     nullify(fp)                   !fp must be returned as disassociated\n",
    "  !$omp end target\n",
    "\n",
    "  call omp_target_free(cp, targ_dev)\n",
    "  cp = c_null_ptr\n",
    "\n",
    "!------------------------------------------------Section 2 vv-----------\n",
    "\n",
    "   cp_src = omp_target_alloc((N+1)*int_bytes, host_dev)\n",
    "   cp_dst = omp_target_alloc(  N  *int_bytes, targ_dev)\n",
    "\n",
    "!           Initialize host array (src)\n",
    "   call c_f_pointer(cp_src, fp_src, [N+1])\n",
    "   fp_src = [(i,i=1,N+1)]\n",
    "\n",
    "   !$omp target device(targ_dev) is_device_ptr(cp_dst)\n",
    "     call c_f_pointer(cp_dst, fp_dst, [N])   ! fp_dst becomes associated\n",
    "     fp_dst(:) = -1                          ! Initial device storage\n",
    "     nullify(fp_dst)                         ! return as disassociated\n",
    "   !$omp end target\n",
    "\n",
    "!  Copy subset of host (src) array to device (dst) array\n",
    "   rc = omp_target_memcpy(                                             &\n",
    "            dst=cp_dst,             src=cp_src,    length=N*int_bytes, &\n",
    "            dst_offset=0_c_size_t,  src_offset=int_bytes,              &\n",
    "            dst_device_num=targ_dev,src_device_num=host_dev)\n",
    "\n",
    "!  Check dst array on device\n",
    "\n",
    "   !$omp target device(targ_dev) is_device_ptr(cp_dst)\n",
    "     call c_f_pointer(cp_dst, fp_dst, [N])\n",
    "     if ( all(fp_dst == [(i,i=1,N)]) ) print*,\"PASSED 2 of 5\"\n",
    "     nullify(fp_dst)\n",
    "   !$omp end target\n",
    "\n",
    "!------------------------------------------------Section 3 vv-----------\n",
    "\n",
    "   !allocate host memory and initialize.\n",
    "   allocate(h_fp(N), source=[(i,i=1,N)])\n",
    "\n",
    "   h_cp = c_loc(h_fp)\n",
    "             ! Device is not aware of allocation on host\n",
    "   if(omp_target_is_present(h_cp, targ_dev) == 0) &\n",
    "      print*, \"PASSED 3 of 5\"\n",
    "\n",
    "             ! Allocate device memory\n",
    "   d_cp = omp_target_alloc(c_sizeof(h_fp(1))*size(h_fp), targ_dev)\n",
    "\n",
    "             ! now associate host and device storage\n",
    "   rc=omp_target_associate_ptr(h_cp,d_cp,c_sizeof(h_fp(1))*size(h_fp), &\n",
    "                               0_c_size_t,targ_dev)\n",
    "\n",
    "             ! check presence of device data, associated w. host pointer\n",
    "   if(omp_target_is_present(h_cp, targ_dev) /= 0) &\n",
    "      print*,\"PASSED 4 of 5\"\n",
    "\n",
    "             ! copy from host to device via C pointers\n",
    "   rc=omp_target_memcpy(d_cp,       h_cp,c_sizeof(h_fp(1))*size(h_fp), &\n",
    "                        0_c_size_t, 0_c_size_t,                        &\n",
    "                        targ_dev,   host_dev)\n",
    "\n",
    "             ! validate the device data in the target region\n",
    "             ! no data copy here since the reference count is infinity\n",
    "   !$omp target device(targ_dev) map(h_fp)\n",
    "     if ( all(h_fp == [(i,i=1,N)]) ) print*, \"PASSED 5 of 5\"\n",
    "   !$omp end target\n",
    "\n",
    "   call omp_target_free(d_cp,targ_dev)\n",
    "   deallocate(h_fp)\n",
    "end program\n",
    "\n"
   ]
  },
  {
   "cell_type": "markdown",
   "metadata": {},
   "source": [
    "../../devices/device.tex"
   ]
  },
  {
   "cell_type": "markdown",
   "metadata": {},
   "source": [
    ""
   ]
  }
 ],
 "metadata": {
  "kernelspec": {
   "display_name": "Native",
   "language": "native",
   "name": "native"
  },
  "language_info": {
   "file_extension": ".c",
   "mimetype": "text/plain",
   "name": "none"
  }
 },
 "nbformat": 4,
 "nbformat_minor": 2
}