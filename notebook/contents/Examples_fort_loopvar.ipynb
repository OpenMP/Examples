{
 "cells": [
  {
   "cell_type": "markdown",
   "metadata": {},
   "source": [
    ""
   ]
  },
  {
   "cell_type": "markdown",
   "metadata": {},
   "source": [
    "## Fortran Private Loop Iteration Variables"
   ]
  },
  {
   "cell_type": "markdown",
   "metadata": {},
   "source": [
    ""
   ]
  },
  {
   "cell_type": "markdown",
   "metadata": {},
   "source": [
    "In general loop iteration variables will be private, when used in the  _do-loop_   of a `do` and `parallel do` construct or in sequential loops in a  `parallel` construct (see Section 2.7.1 and Section 2.14.1 of  the OpenMP 4.0 specification). In the following example of a sequential  loop in a `parallel` construct the loop iteration variable  _I_  will  be private."
   ]
  },
  {
   "cell_type": "markdown",
   "metadata": {},
   "source": [
    ""
   ]
  },
  {
   "cell_type": "code",
   "execution_count": null,
   "metadata": {},
   "outputs": [],
   "source": [
    "\n",
    "! name: fort_loopvar.1f\n",
    "! type: F-free\n",
    "SUBROUTINE PLOOP_1(A,N)\n",
    "INCLUDE \"omp_lib.h\"      ! or USE OMP_LIB\n",
    "\n",
    "REAL A(*)\n",
    "INTEGER I, MYOFFSET, N\n",
    "\n",
    "!$OMP PARALLEL PRIVATE(MYOFFSET)\n",
    "       MYOFFSET = OMP_GET_THREAD_NUM()*N\n",
    "       DO I = 1, N\n",
    "         A(MYOFFSET+I) = FLOAT(I)\n",
    "       ENDDO\n",
    "!$OMP END PARALLEL\n",
    "\n",
    "END SUBROUTINE PLOOP_1\n",
    "\n"
   ]
  },
  {
   "cell_type": "markdown",
   "metadata": {},
   "source": [
    ""
   ]
  },
  {
   "cell_type": "markdown",
   "metadata": {},
   "source": [
    "In exceptional cases, loop iteration variables can be made shared, as in the following  example:"
   ]
  },
  {
   "cell_type": "markdown",
   "metadata": {},
   "source": [
    ""
   ]
  },
  {
   "cell_type": "code",
   "execution_count": null,
   "metadata": {},
   "outputs": [],
   "source": [
    "\n",
    "! name: fort_loopvar.2f\n",
    "! type: F-free\n",
    "SUBROUTINE PLOOP_2(A,B,N,I1,I2)\n",
    "REAL A(*), B(*)\n",
    "INTEGER I1, I2, N\n",
    "\n",
    "!$OMP PARALLEL SHARED(A,B,I1,I2)\n",
    "!$OMP SECTIONS\n",
    "!$OMP SECTION\n",
    "     DO I1 = I1, N\n",
    "       IF (A(I1).NE.0.0) EXIT\n",
    "     ENDDO\n",
    "!$OMP SECTION\n",
    "     DO I2 = I2, N\n",
    "       IF (B(I2).NE.0.0) EXIT\n",
    "     ENDDO\n",
    "!$OMP END SECTIONS\n",
    "!$OMP SINGLE\n",
    "    IF (I1.LE.N) PRINT *, 'ITEMS IN A UP TO ', I1, 'ARE ALL ZERO.'\n",
    "    IF (I2.LE.N) PRINT *, 'ITEMS IN B UP TO ', I2, 'ARE ALL ZERO.'\n",
    "!$OMP END SINGLE\n",
    "!$OMP END PARALLEL\n",
    "\n",
    "END SUBROUTINE PLOOP_2\n",
    "\n"
   ]
  },
  {
   "cell_type": "markdown",
   "metadata": {},
   "source": [
    ""
   ]
  },
  {
   "cell_type": "markdown",
   "metadata": {},
   "source": [
    "Note however that the use of shared loop iteration variables can easily lead to  race conditions."
   ]
  },
  {
   "cell_type": "markdown",
   "metadata": {},
   "source": [
    ""
   ]
  }
 ],
 "metadata": {
  "kernelspec": {
   "display_name": "Native",
   "language": "native",
   "name": "native"
  },
  "language_info": {
   "file_extension": ".c",
   "mimetype": "text/plain",
   "name": "none"
  }
 },
 "nbformat": 4,
 "nbformat_minor": 2
}