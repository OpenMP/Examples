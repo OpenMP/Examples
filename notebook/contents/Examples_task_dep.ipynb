{
 "cells": [
  {
   "cell_type": "markdown",
   "metadata": {},
   "source": [
    ""
   ]
  },
  {
   "cell_type": "markdown",
   "metadata": {},
   "source": [
    "## Task Dependences"
   ]
  },
  {
   "cell_type": "markdown",
   "metadata": {},
   "source": [
    ""
   ]
  },
  {
   "cell_type": "markdown",
   "metadata": {},
   "source": [
    ""
   ]
  },
  {
   "cell_type": "markdown",
   "metadata": {},
   "source": [
    "### Flow Dependence"
   ]
  },
  {
   "cell_type": "markdown",
   "metadata": {},
   "source": [
    ""
   ]
  },
  {
   "cell_type": "markdown",
   "metadata": {},
   "source": [
    "This example shows a simple flow dependence using a `depend`  clause on the `task` construct."
   ]
  },
  {
   "cell_type": "markdown",
   "metadata": {},
   "source": [
    ""
   ]
  },
  {
   "cell_type": "code",
   "execution_count": null,
   "metadata": {},
   "outputs": [],
   "source": [
    "//%compiler: clang\n",
 "//%cflags: -fopenmp\n",
 "\n",
    "/*\n",
    "* name: task_dep.1c\n",
    "* type: C\n",
    "* version: omp_4.0\n",
    "*/\n",
    "#include <stdio.h>\n",
    "int main() {\n",
    "   int x = 1;\n",
    "   #pragma omp parallel\n",
    "   #pragma omp single\n",
    "   {\n",
    "      #pragma omp task shared(x) depend(out: x)\n",
    "         x = 2;\n",
    "      #pragma omp task shared(x) depend(in: x)\n",
    "         printf(\"x = %d\\n\", x);\n",
    "   }\n",
    "   return 0;\n",
    "}\n",
    "\n"
   ]
  },
  {
   "cell_type": "markdown",
   "metadata": {},
   "source": [
    ""
   ]
  },
  {
   "cell_type": "markdown",
   "metadata": {},
   "source": [
    ""
   ]
  },
  {
   "cell_type": "code",
   "execution_count": null,
   "metadata": {},
   "outputs": [],
   "source": [
    "\n",
    "! name: task_dep.1f\n",
    "! type: F-free\n",
    "! version:    omp_4.0\n",
    "program example\n",
    "   integer :: x\n",
    "   x = 1\n",
    "   !$omp parallel\n",
    "   !$omp single\n",
    "      !$omp task shared(x) depend(out: x)\n",
    "         x = 2\n",
    "      !$omp end task\n",
    "      !$omp task shared(x) depend(in: x)\n",
    "         print*, \"x = \", x\n",
    "      !$omp end task\n",
    "   !$omp end single\n",
    "   !$omp end parallel\n",
    "end program\n",
    "\n"
   ]
  },
  {
   "cell_type": "markdown",
   "metadata": {},
   "source": [
    ""
   ]
  },
  {
   "cell_type": "markdown",
   "metadata": {},
   "source": [
    "The program will always print  **\"** x = 2 **\"** , because the `depend`  clauses enforce the ordering of the tasks. If the `depend` clauses had been  omitted, then the tasks could execute in any order and the program and the program  would have a race condition."
   ]
  },
  {
   "cell_type": "markdown",
   "metadata": {},
   "source": [
    ""
   ]
  },
  {
   "cell_type": "markdown",
   "metadata": {},
   "source": [
    "### Anti-dependence"
   ]
  },
  {
   "cell_type": "markdown",
   "metadata": {},
   "source": [
    ""
   ]
  },
  {
   "cell_type": "markdown",
   "metadata": {},
   "source": [
    "This example shows an anti-dependence using the `depend`  clause on the `task` construct."
   ]
  },
  {
   "cell_type": "markdown",
   "metadata": {},
   "source": [
    ""
   ]
  },
  {
   "cell_type": "code",
   "execution_count": null,
   "metadata": {},
   "outputs": [],
   "source": [
    "//%compiler: clang\n",
 "//%cflags: -fopenmp\n",
 "\n",
    "/*\n",
    "* name: task_dep.2c\n",
    "* type: C\n",
    "* version: omp_4.0\n",
    "*/\n",
    "#include <stdio.h>\n",
    "int main()\n",
    "{\n",
    "   int x = 1;\n",
    "   #pragma omp parallel\n",
    "   #pragma omp single\n",
    "   {\n",
    "      #pragma omp task shared(x) depend(in: x)\n",
    "         printf(\"x = %d\\n\", x);\n",
    "      #pragma omp task shared(x) depend(out: x)\n",
    "         x = 2;\n",
    "   }\n",
    "   return 0;\n",
    "}\n",
    "\n"
   ]
  },
  {
   "cell_type": "markdown",
   "metadata": {},
   "source": [
    ""
   ]
  },
  {
   "cell_type": "markdown",
   "metadata": {},
   "source": [
    ""
   ]
  },
  {
   "cell_type": "code",
   "execution_count": null,
   "metadata": {},
   "outputs": [],
   "source": [
    "\n",
    "! name: task_dep.2f\n",
    "! type: F-free\n",
    "! version:    omp_4.0\n",
    "program example\n",
    "   integer :: x\n",
    "   x = 1\n",
    "   !$omp parallel\n",
    "   !$omp single\n",
    "      !$omp task shared(x) depend(in: x)\n",
    "         print*, \"x = \", x\n",
    "      !$omp end task\n",
    "      !$omp task shared(x) depend(out: x)\n",
    "         x = 2\n",
    "      !$omp end task\n",
    "   !$omp end single\n",
    "   !$omp end parallel\n",
    "end program\n",
    "\n"
   ]
  },
  {
   "cell_type": "markdown",
   "metadata": {},
   "source": [
    ""
   ]
  },
  {
   "cell_type": "markdown",
   "metadata": {},
   "source": [
    "The program will always print  **\"** x = 1 **\"** , because the `depend`  clauses enforce the ordering of the tasks. If the `depend` clauses had been  omitted, then the tasks could execute in any order and the program would have a  race condition."
   ]
  },
  {
   "cell_type": "markdown",
   "metadata": {},
   "source": [
    ""
   ]
  },
  {
   "cell_type": "markdown",
   "metadata": {},
   "source": [
    "### Output Dependence"
   ]
  },
  {
   "cell_type": "markdown",
   "metadata": {},
   "source": [
    ""
   ]
  },
  {
   "cell_type": "markdown",
   "metadata": {},
   "source": [
    "This example shows an output dependence using the `depend`  clause on the `task` construct."
   ]
  },
  {
   "cell_type": "markdown",
   "metadata": {},
   "source": [
    ""
   ]
  },
  {
   "cell_type": "code",
   "execution_count": null,
   "metadata": {},
   "outputs": [],
   "source": [
    "//%compiler: clang\n",
 "//%cflags: -fopenmp\n",
 "\n",
    "/*\n",
    "* name: task_dep.3c\n",
    "* type: C\n",
    "* version: omp_4.0\n",
    "*/\n",
    "#include <stdio.h>\n",
    "int main() {\n",
    "   int x;\n",
    "   #pragma omp parallel\n",
    "   #pragma omp single\n",
    "   {\n",
    "      #pragma omp task shared(x) depend(out: x)\n",
    "         x = 1;\n",
    "      #pragma omp task shared(x) depend(out: x)\n",
    "         x = 2;\n",
    "      #pragma omp taskwait\n",
    "      printf(\"x = %d\\n\", x);\n",
    "   }\n",
    "   return 0;\n",
    "}\n",
    "\n"
   ]
  },
  {
   "cell_type": "markdown",
   "metadata": {},
   "source": [
    ""
   ]
  },
  {
   "cell_type": "markdown",
   "metadata": {},
   "source": [
    ""
   ]
  },
  {
   "cell_type": "code",
   "execution_count": null,
   "metadata": {},
   "outputs": [],
   "source": [
    "\n",
    "! name: task_dep.3f\n",
    "! type: F-free\n",
    "! version:    omp_4.0\n",
    "program example\n",
    "   integer :: x\n",
    "   !$omp parallel\n",
    "   !$omp single\n",
    "      !$omp task shared(x) depend(out: x)\n",
    "         x = 1\n",
    "      !$omp end task\n",
    "      !$omp task shared(x) depend(out: x)\n",
    "         x = 2\n",
    "      !$omp end task\n",
    "      !$omp taskwait\n",
    "      print*, \"x = \", x\n",
    "   !$omp end single\n",
    "   !$omp end parallel\n",
    "end program\n",
    "\n"
   ]
  },
  {
   "cell_type": "markdown",
   "metadata": {},
   "source": [
    ""
   ]
  },
  {
   "cell_type": "markdown",
   "metadata": {},
   "source": [
    "The program will always print  **\"** x = 2 **\"** , because the `depend`  clauses enforce the ordering of the tasks. If the `depend` clauses had been  omitted, then the tasks could execute in any order and the program would have a  race condition."
   ]
  },
  {
   "cell_type": "markdown",
   "metadata": {},
   "source": [
    ""
   ]
  },
  {
   "cell_type": "markdown",
   "metadata": {},
   "source": [
    "### Concurrent Execution with Dependences"
   ]
  },
  {
   "cell_type": "markdown",
   "metadata": {},
   "source": [
    ""
   ]
  },
  {
   "cell_type": "markdown",
   "metadata": {},
   "source": [
    "In this example we show potentially concurrent execution of tasks using multiple  flow dependences expressed using the `depend` clause on the `task`  construct."
   ]
  },
  {
   "cell_type": "markdown",
   "metadata": {},
   "source": [
    ""
   ]
  },
  {
   "cell_type": "code",
   "execution_count": null,
   "metadata": {},
   "outputs": [],
   "source": [
    "//%compiler: clang\n",
 "//%cflags: -fopenmp\n",
 "\n",
    "/*\n",
    "* name: task_dep.4c\n",
    "* type: C\n",
    "* version: omp_4.0\n",
    "*/\n",
    "#include <stdio.h>\n",
    "int main() {\n",
    "   int x = 1;\n",
    "   #pragma omp parallel\n",
    "   #pragma omp single\n",
    "   {\n",
    "      #pragma omp task shared(x) depend(out: x)\n",
    "         x = 2;\n",
    "      #pragma omp task shared(x) depend(in: x)\n",
    "         printf(\"x + 1 = %d. \", x+1);\n",
    "      #pragma omp task shared(x) depend(in: x)\n",
    "         printf(\"x + 2 = %d\\n\", x+2);\n",
    "   }\n",
    "   return 0;\n",
    "}\n",
    "\n"
   ]
  },
  {
   "cell_type": "markdown",
   "metadata": {},
   "source": [
    ""
   ]
  },
  {
   "cell_type": "markdown",
   "metadata": {},
   "source": [
    ""
   ]
  },
  {
   "cell_type": "code",
   "execution_count": null,
   "metadata": {},
   "outputs": [],
   "source": [
    "\n",
    "! name: task_dep.4f\n",
    "! type: F-free\n",
    "! version:    omp_4.0\n",
    "\n",
    "program example\n",
    "   integer :: x\n",
    "\n",
    "   x = 1\n",
    "\n",
    "   !$omp parallel\n",
    "   !$omp single\n",
    "\n",
    "      !$omp task shared(x) depend(out: x)\n",
    "         x = 2\n",
    "      !$omp end task\n",
    "\n",
    "      !$omp task shared(x) depend(in: x)\n",
    "         print*, \"x + 1 = \", x+1, \".\"\n",
    "      !$omp end task\n",
    "\n",
    "      !$omp task shared(x) depend(in: x)\n",
    "         print*, \"x + 2 = \", x+2, \".\"\n",
    "      !$omp end task\n",
    "\n",
    "   !$omp end single\n",
    "   !$omp end parallel\n",
    "end program\n",
    "\n"
   ]
  },
  {
   "cell_type": "markdown",
   "metadata": {},
   "source": [
    ""
   ]
  },
  {
   "cell_type": "markdown",
   "metadata": {},
   "source": [
    "The last two tasks are dependent on the first task. However there is no dependence  between the last two tasks, which may execute in any order (or concurrently if  more than one thread is available). Thus, the possible outputs are  **\"** x  + 1 = 3. x + 2 = 4.  **\"**  and  **\"** x + 2 = 4. x + 1 = 3.  **\"** .  If the `depend` clauses had been omitted, then all of the tasks could execute  in any order and the program would have a race condition."
   ]
  },
  {
   "cell_type": "markdown",
   "metadata": {},
   "source": [
    ""
   ]
  },
  {
   "cell_type": "markdown",
   "metadata": {},
   "source": [
    "### Matrix multiplication"
   ]
  },
  {
   "cell_type": "markdown",
   "metadata": {},
   "source": [
    ""
   ]
  },
  {
   "cell_type": "markdown",
   "metadata": {},
   "source": [
    "This example shows a task-based blocked matrix multiplication. Matrices are of  NxN elements, and the multiplication is implemented using blocks of BSxBS elements."
   ]
  },
  {
   "cell_type": "markdown",
   "metadata": {},
   "source": [
    ""
   ]
  },
  {
   "cell_type": "code",
   "execution_count": null,
   "metadata": {},
   "outputs": [],
   "source": [
    "//%compiler: clang\n",
 "//%cflags: -fopenmp\n",
 "\n",
    "/*\n",
    "* name: task_dep.5c\n",
    "* type: C\n",
    "* version: omp_4.0\n",
    "*/\n",
    "// Assume BS divides N perfectly\n",
    "void matmul_depend(int N, int BS, float A[N][N], float B[N][N], float\n",
    "C[N][N] )\n",
    "{\n",
    "   int i, j, k, ii, jj, kk;\n",
    "   for (i = 0; i < N; i+=BS) {\n",
    "      for (j = 0; j < N; j+=BS) {\n",
    "         for (k = 0; k < N; k+=BS) {\n",
    "// Note 1: i, j, k, A, B, C are firstprivate by default\n",
    "// Note 2: A, B and C are just pointers\n",
    "#pragma omp task private(ii, jj, kk) \\\n",
    "            depend ( in: A[i:BS][k:BS], B[k:BS][j:BS] ) \\\n",
    "            depend ( inout: C[i:BS][j:BS] )\n",
    "            for (ii = i; ii < i+BS; ii++ )\n",
    "               for (jj = j; jj < j+BS; jj++ )\n",
    "                  for (kk = k; kk < k+BS; kk++ )\n",
    "                     C[ii][jj] = C[ii][jj] + A[ii][kk] * B[kk][jj];\n",
    "         }\n",
    "      }\n",
    "   }\n",
    "}\n",
    "\n"
   ]
  },
  {
   "cell_type": "markdown",
   "metadata": {},
   "source": [
    ""
   ]
  },
  {
   "cell_type": "markdown",
   "metadata": {},
   "source": [
    ""
   ]
  },
  {
   "cell_type": "code",
   "execution_count": null,
   "metadata": {},
   "outputs": [],
   "source": [
    "\n",
    "! name: task_dep.5f\n",
    "! type: F-free\n",
    "! version:    omp_4.0\n",
    "! Assume BS divides N perfectly\n",
    "subroutine matmul_depend (N, BS, A, B, C)\n",
    "   implicit none\n",
    "   integer :: N, BS, BM\n",
    "   real, dimension(N, N) :: A, B, C\n",
    "   integer :: i, j, k, ii, jj, kk\n",
    "   BM = BS - 1\n",
    "   do i = 1, N, BS\n",
    "      do j = 1, N, BS\n",
    "         do k = 1, N, BS\n",
    "!$omp task shared(A,B,C) private(ii,jj,kk) & ! I,J,K are firstprivate by default\n",
    "!$omp depend ( in: A(i:i+BM, k:k+BM), B(k:k+BM, j:j+BM) ) &\n",
    "!$omp depend ( inout: C(i:i+BM, j:j+BM) )\n",
    "            do ii = i, i+BM\n",
    "               do jj = j, j+BM\n",
    "                  do kk = k, k+BM\n",
    "                     C(jj,ii) = C(jj,ii) + A(kk,ii) * B(jj,kk)\n",
    "                  end do\n",
    "               end do\n",
    "            end do\n",
    "!$omp end task\n",
    "         end do\n",
    "      end do\n",
    "   end do\n",
    "end subroutine\n",
    "\n"
   ]
  },
  {
   "cell_type": "markdown",
   "metadata": {},
   "source": [
    ""
   ]
  },
  {
   "cell_type": "markdown",
   "metadata": {},
   "source": [
    ""
   ]
  },
  {
   "cell_type": "markdown",
   "metadata": {},
   "source": [
    "### `taskwait` with Dependences"
   ]
  },
  {
   "cell_type": "markdown",
   "metadata": {},
   "source": [
    ""
   ]
  },
  {
   "cell_type": "markdown",
   "metadata": {},
   "source": [
    "In this subsection three examples illustrate how the `depend` clause can be applied to a `taskwait` construct to make the generating task wait for specific child tasks to complete. This is an OpenMP 5.0 feature.  In the same manner that dependences can order executions among child tasks with `depend` clauses on `task` constructs, the generating task can be scheduled to wait on child tasks at a `taskwait` before it can proceed."
   ]
  },
  {
   "cell_type": "markdown",
   "metadata": {},
   "source": [
    "Note: Since the `depend` clause on a `taskwait` construct relaxes the default synchronization behavior (waiting for all children to finish), it is important to realize that child tasks that are not predecessor tasks, as determined by the `depend` clause of the `taskwait` construct, may be running concurrently while the generating task is executing after the taskwait."
   ]
  },
  {
   "cell_type": "markdown",
   "metadata": {},
   "source": [
    "In the first example the generating task waits at the `taskwait` construct for the completion of the first child task because a dependence on the first task is produced by  _x_  with an `in` dependence type within the `depend` clause of the `taskwait` construct. Immediately after the first `taskwait` construct it is safe to access the  _x_  variable by the generating task, as shown in the print statement. There is no completion restraint on the second child task. Hence, immediately after the first `taskwait` it is unsafe to access the  _y_  variable since the second child task may still be executing. The second `taskwait` ensures that the second child task has completed; hence it is safe to access the  _y_  variable in the following print statement."
   ]
  },
  {
   "cell_type": "markdown",
   "metadata": {},
   "source": [
    ""
   ]
  },
  {
   "cell_type": "code",
   "execution_count": null,
   "metadata": {},
   "outputs": [],
   "source": [
    "//%compiler: clang\n",
 "//%cflags: -fopenmp\n",
 "\n",
    "/*\n",
    "* name: task_depend.6.c\n",
    "* type: C\n",
    "* version: omp_5.0\n",
    "*/\n",
    "\n",
    "#include<stdio.h>\n",
    "\n",
    "void foo()\n",
    "{\n",
    "    int x = 0, y = 2;\n",
    "\n",
    "    #pragma omp task depend(inout: x) shared(x)\n",
    "    x++;                                        // 1st child task\n",
    "\n",
    "    #pragma omp task shared(y)\n",
    "    y--;                                        // 2nd child task\n",
    "\n",
    "    #pragma omp taskwait depend(in: x)          // 1st taskwait\n",
    "\n",
    "    printf(\"x=%d\\n\",x);\n",
    "\n",
    "    // Second task may not be finished.\n",
    "    // Accessing y here will create a race condition.\n",
    "\n",
    "    #pragma omp taskwait                        // 2nd taskwait\n",
    "\n",
    "    printf(\"y=%d\\n\",y);\n",
    "}\n",
    "\n",
    "int main()\n",
    "{\n",
    "    #pragma omp parallel\n",
    "    #pragma omp single\n",
    "    foo();\n",
    "\n",
    "    return 0;\n",
    "}\n",
    "\n"
   ]
  },
  {
   "cell_type": "markdown",
   "metadata": {},
   "source": [
    ""
   ]
  },
  {
   "cell_type": "markdown",
   "metadata": {},
   "source": [
    ""
   ]
  },
  {
   "cell_type": "code",
   "execution_count": null,
   "metadata": {},
   "outputs": [],
   "source": [
    "\n",
    "! name: task_depend.6.f90\n",
    "! type: F-free\n",
    "! version: omp_5.0\n",
    "\n",
    "\n",
    "subroutine foo()\n",
    "    implicit none\n",
    "    integer :: x, y\n",
    "\n",
    "    x = 0\n",
    "    y = 2\n",
    "\n",
    "    !$omp task depend(inout: x) shared(x)\n",
    "        x = x + 1                         !! 1st child task\n",
    "    !$omp end task\n",
    "\n",
    "    !$omp task shared(y)\n",
    "        y = y - 1                         !! 2nd child task\n",
    "    !$omp end task\n",
    "\n",
    "    !$omp taskwait depend(in: x)          !! 1st taskwait\n",
    "\n",
    "    print*, \"x=\", x\n",
    "\n",
    "    !! Second task may not be finished.\n",
    "    !! Accessing y here will create a race condition.\n",
    "\n",
    "    !$omp taskwait                        !! 2nd taskwait\n",
    "\n",
    "    print*, \"y=\", y\n",
    "\n",
    "end subroutine foo\n",
    "\n",
    "program p\n",
    "    implicit none\n",
    "    !$omp parallel\n",
    "    !$omp single\n",
    "       call foo()\n",
    "    !$omp end single\n",
    "    !$omp end parallel\n",
    "end program p\n",
    "\n"
   ]
  },
  {
   "cell_type": "markdown",
   "metadata": {},
   "source": [
    ""
   ]
  },
  {
   "cell_type": "markdown",
   "metadata": {},
   "source": [
    "In this example the first two tasks are serialized, because a dependence on the first child is produced by  _x_  with the `in` dependence type in the `depend` clause of the second task. However, the generating task at the first `taskwait` waits only on the first child task to complete, because a dependence on only the first child task is produced by  _x_  with an `in` dependence type within the `depend` clause of the `taskwait` construct. The second `taskwait` (without a `depend` clause) is included to guarantee completion of the second task before  _y_  is accessed. (While unnecessary, the `depend(inout:` `y)` clause on the  2nd child task is included to illustrate how the child task dependences can be completely annotated in a data-flow model.)"
   ]
  },
  {
   "cell_type": "markdown",
   "metadata": {},
   "source": [
    ""
   ]
  },
  {
   "cell_type": "markdown",
   "metadata": {},
   "source": [
    ""
   ]
  },
  {
   "cell_type": "code",
   "execution_count": null,
   "metadata": {},
   "outputs": [],
   "source": [
    "//%compiler: clang\n",
 "//%cflags: -fopenmp\n",
 "\n",
    "/*\n",
    "* name: task_depend.7.c\n",
    "* type: C\n",
    "* version: omp_5.0\n",
    "*/\n",
    "\n",
    "#include<stdio.h>\n",
    "\n",
    "void foo()\n",
    "{\n",
    "    int x = 0, y = 2;\n",
    "\n",
    "    #pragma omp task depend(inout: x) shared(x)\n",
    "    x++;                                          // 1st child task\n",
    "\n",
    "    #pragma omp task depend(in: x) depend(inout: y) shared(x, y)\n",
    "    y -= x;                                       // 2nd child task\n",
    "\n",
    "    #pragma omp taskwait depend(in: x)            // 1st taskwait\n",
    "\n",
    "    printf(\"x=%d\\n\",x);\n",
    "\n",
    "    // Second task may not be finished.\n",
    "    // Accessing y here would create a race condition.\n",
    "\n",
    "    #pragma omp taskwait                          // 2nd taskwait\n",
    "\n",
    "    printf(\"y=%d\\n\",y);\n",
    "\n",
    "}\n",
    "\n",
    "int main()\n",
    "{\n",
    "    #pragma omp parallel\n",
    "    #pragma omp single\n",
    "    foo();\n",
    "\n",
    "    return 0;\n",
    "}\n",
    "\n"
   ]
  },
  {
   "cell_type": "markdown",
   "metadata": {},
   "source": [
    ""
   ]
  },
  {
   "cell_type": "markdown",
   "metadata": {},
   "source": [
    ""
   ]
  },
  {
   "cell_type": "code",
   "execution_count": null,
   "metadata": {},
   "outputs": [],
   "source": [
    "\n",
    "! name: task_depend.7.f90\n",
    "! type: F-free\n",
    "! version: omp_5.0\n",
    "\n",
    "\n",
    "subroutine foo()\n",
    "implicit none\n",
    "integer :: x, y\n",
    "\n",
    "    x = 0\n",
    "    y = 2\n",
    "\n",
    "    !$omp task depend(inout: x) shared(x)\n",
    "        x = x + 1                         !! 1st child task\n",
    "    !$omp end task\n",
    "\n",
    "    !$omp task depend(in: x) depend(inout: y) shared(x, y)\n",
    "        y = y - x                         !! 2nd child task\n",
    "    !$omp end task\n",
    "\n",
    "    !$omp taskwait depend(in: x)          !! 1st taskwait\n",
    "\n",
    "    print*, \"x=\", x\n",
    "\n",
    "    !! Second task may not be finished.\n",
    "    !! Accessing y here would create a race condition.\n",
    "\n",
    "    !$omp taskwait                        !! 2nd taskwait\n",
    "\n",
    "    print*, \"y=\", y\n",
    "\n",
    "end subroutine foo\n",
    "\n",
    "program p\n",
    "implicit none\n",
    "    !$omp parallel\n",
    "    !$omp single\n",
    "       call foo()\n",
    "    !$omp end single\n",
    "    !$omp end parallel\n",
    "end program p\n",
    "\n"
   ]
  },
  {
   "cell_type": "markdown",
   "metadata": {},
   "source": [
    ""
   ]
  },
  {
   "cell_type": "markdown",
   "metadata": {},
   "source": [
    ""
   ]
  },
  {
   "cell_type": "markdown",
   "metadata": {},
   "source": [
    "This example is similar to the previous one, except the generating task is directed to also wait for completion of the second task."
   ]
  },
  {
   "cell_type": "markdown",
   "metadata": {},
   "source": [
    "The `depend` clause of the `taskwait` construct now includes an `in` dependence type for  _y_ .  Hence the generating task must now wait on completion of any child task having  _y_  with an `out` (here `inout`) dependence type in its `depend` clause. So, the `depend` clause of the `taskwait` construct now constrains the second task to complete at the `taskwait`, too. (This change makes the second `taskwait` of the previous example unnecessary-- it has been removed in this example.)"
   ]
  },
  {
   "cell_type": "markdown",
   "metadata": {},
   "source": [
    "Note: While a taskwait construct ensures that all child tasks have completed; a depend clause on a taskwait construct only waits for specific child tasks (prescribed by the dependence type and list items in the `taskwait`'s `depend` clause). This and the previous example illustrate the need to carefully determine the dependence type of variables in the `taskwait` `depend` clause when selecting child tasks that the generating task must wait on, so that its execution after the taskwait does not produce race conditions on variables accessed by non-completed child tasks."
   ]
  },
  {
   "cell_type": "markdown",
   "metadata": {},
   "source": [
    ""
   ]
  },
  {
   "cell_type": "code",
   "execution_count": null,
   "metadata": {},
   "outputs": [],
   "source": [
    "//%compiler: clang\n",
 "//%cflags: -fopenmp\n",
 "\n",
    "/*\n",
    "* name: task_depend.8.c\n",
    "* type: C\n",
    "* version: omp_5.0\n",
    "*/\n",
    "\n",
    "#include<stdio.h>\n",
    "\n",
    "void foo()\n",
    "{\n",
    "    int x = 0, y = 2;\n",
    "\n",
    "    #pragma omp task depend(inout: x) shared(x)\n",
    "    x++;                                          // 1st child task\n",
    "\n",
    "    #pragma omp task depend(in: x) depend(inout: y) shared(x, y)\n",
    "    y -= x;                                       // 2st child task\n",
    "\n",
    "    #pragma omp taskwait depend(in: x,y)\n",
    "\n",
    "    printf(\"x=%d\\n\",x);\n",
    "    printf(\"y=%d\\n\",y);\n",
    "\n",
    "}\n",
    "\n",
    "int main()\n",
    "{\n",
    "    #pragma omp parallel\n",
    "    #pragma omp single\n",
    "    foo();\n",
    "\n",
    "    return 0;\n",
    "}\n",
    "\n"
   ]
  },
  {
   "cell_type": "markdown",
   "metadata": {},
   "source": [
    ""
   ]
  },
  {
   "cell_type": "markdown",
   "metadata": {},
   "source": [
    ""
   ]
  },
  {
   "cell_type": "code",
   "execution_count": null,
   "metadata": {},
   "outputs": [],
   "source": [
    "\n",
    "! name: task_depend.8.f90\n",
    "! type: F-free\n",
    "! version: omp_5.0\n",
    "\n",
    "\n",
    "subroutine foo()\n",
    "implicit nonE\n",
    "integer :: x, y\n",
    "\n",
    "    x = 0\n",
    "    y = 2\n",
    "\n",
    "    !$omp task depend(inout: x) shared(x)\n",
    "        x = x + 1                         !! 1st child task\n",
    "    !$omp end task\n",
    "\n",
    "    !$omp task depend(in: x) depend(inout: y) shared(x, y)\n",
    "        y = y - x                         !! 2nd child task\n",
    "    !$omp end task\n",
    "\n",
    "    !$omp taskwait depend(in: x,y)\n",
    "\n",
    "    print*, \"x=\", x\n",
    "    print*, \"y=\", y\n",
    "\n",
    "end subroutine foo\n",
    "\n",
    "program p\n",
    "implicit none\n",
    "    !$omp parallel\n",
    "    !$omp single\n",
    "       call foo()\n",
    "    !$omp end single\n",
    "    !$omp end parallel\n",
    "end program p\n",
    "\n"
   ]
  },
  {
   "cell_type": "markdown",
   "metadata": {},
   "source": [
    ""
   ]
  },
  {
   "cell_type": "markdown",
   "metadata": {},
   "source": [
    ""
   ]
  },
  {
   "cell_type": "markdown",
   "metadata": {},
   "source": [
    "### Mutually Exclusive Execution with Dependences"
   ]
  },
  {
   "cell_type": "markdown",
   "metadata": {},
   "source": [
    ""
   ]
  },
  {
   "cell_type": "markdown",
   "metadata": {},
   "source": [
    "In this example we show a series of tasks, including mutually exclusive tasks, expressing dependences using the `depend` clause on the `task` construct."
   ]
  },
  {
   "cell_type": "markdown",
   "metadata": {},
   "source": [
    "The program will always print 6. Tasks T1, T2 and T3 will be scheduled first, in any order. Task T4 will be scheduled after tasks T1 and T2 are completed. T5 will be scheduled after tasks T1 and T3 are completed. Due to the `mutexinoutset` dependence type on `c`, T4 and T5 may be scheduled in any order with respect to each other, but not at the same time. Tasks T6 will be scheduled after both T4 and T5 are completed."
   ]
  },
  {
   "cell_type": "markdown",
   "metadata": {},
   "source": [
    ""
   ]
  },
  {
   "cell_type": "code",
   "execution_count": null,
   "metadata": {},
   "outputs": [],
   "source": [
    "//%compiler: clang\n",
 "//%cflags: -fopenmp\n",
 "\n",
    "/*\n",
    "* name: task_dep.6c\n",
    "* type: C\n",
    "* version: omp_5.0\n",
    "*/\n",
    "#include <stdio.h>\n",
    "int main()\n",
    "{\n",
    "   int a, b, c, d;\n",
    "   #pragma omp parallel\n",
    "   #pragma omp single\n",
    "   {\n",
    "      #pragma omp task depend(out: c)\n",
    "         c = 1;   /* Task T1 */\n",
    "      #pragma omp task depend(out: a)\n",
    "         a = 2;   /* Task T2 */\n",
    "      #pragma omp task depend(out: b)\n",
    "         b = 3;   /* Task T3 */\n",
    "      #pragma omp task depend(in: a) depend(mutexinoutset: c)\n",
    "         c += a;  /* Task T4 */\n",
    "      #pragma omp task depend(in: b) depend(mutexinoutset: c)\n",
    "         c += b;  /* Task T5 */\n",
    "      #pragma omp task depend(in: c)\n",
    "         d = c;   /* Task T6 */\n",
    "   }\n",
    "   printf(\"%d\\n\", d);\n",
    "   return 0;\n",
    "}\n",
    "\n"
   ]
  },
  {
   "cell_type": "markdown",
   "metadata": {},
   "source": [
    ""
   ]
  },
  {
   "cell_type": "markdown",
   "metadata": {},
   "source": [
    ""
   ]
  },
  {
   "cell_type": "code",
   "execution_count": null,
   "metadata": {},
   "outputs": [],
   "source": [
    "\n",
    "! name: task_dep.6f\n",
    "! type: F-free\n",
    "! version:    omp_5.0\n",
    "program example\n",
    "   integer :: a, b, c, d\n",
    "   !$omp parallel\n",
    "   !$omp single\n",
    "      !$omp task depend(out: c)\n",
    "      c = 1      ! Task T1\n",
    "      !$omp end task\n",
    "      !$omp task depend(out: a)\n",
    "      a = 2      ! Task T2\n",
    "      !$omp end task\n",
    "      !$omp task depend(out: b)\n",
    "      b = 3      ! Task T3\n",
    "      !$omp end task\n",
    "      !$omp task depend(in: a) depend(mutexinoutset: c)\n",
    "      c = c + a  ! Task T4\n",
    "      !$omp end task\n",
    "      !$omp task depend(in: b) depend(mutexinoutset: c)\n",
    "      c = c + b  ! Task T5\n",
    "      !$omp end task\n",
    "      !$omp task depend(in: c)\n",
    "      d = c      ! Task T6\n",
    "      !$omp end task\n",
    "   !$omp end single\n",
    "   !$omp end parallel\n",
    "   print *, d\n",
    "end program\n",
    "\n"
   ]
  },
  {
   "cell_type": "markdown",
   "metadata": {},
   "source": [
    ""
   ]
  },
  {
   "cell_type": "markdown",
   "metadata": {},
   "source": [
    "The following example demonstrates a situation where the `mutexinoutset` dependence type is advantageous. If `shortTaskB` completes before `longTaskA`, the runtime can take advantage of this by scheduling `longTaskBC` before `shortTaskAC`."
   ]
  },
  {
   "cell_type": "markdown",
   "metadata": {},
   "source": [
    ""
   ]
  },
  {
   "cell_type": "code",
   "execution_count": null,
   "metadata": {},
   "outputs": [],
   "source": [
    "//%compiler: clang\n",
 "//%cflags: -fopenmp\n",
 "\n",
    "/*\n",
    "* name: task_dep.7c\n",
    "* type: C\n",
    "* version: omp_5.0\n",
    "*/\n",
    "extern int longTaskA(), shortTaskB();\n",
    "extern int shortTaskAC(int,int), longTaskBC(int,int);\n",
    "void foo (void)\n",
    "{\n",
    "  int a, b, c;\n",
    "  c = 0;\n",
    "  #pragma omp parallel\n",
    "  #pragma omp single\n",
    "  {\n",
    "     #pragma omp task depend(out: a)\n",
    "        a = longTaskA();\n",
    "     #pragma omp task depend(out: b)\n",
    "        b = shortTaskB();\n",
    "     #pragma omp task depend(in: a) depend(mutexinoutset: c)\n",
    "        c = shortTaskAC(a,c);\n",
    "     #pragma omp task depend(in: b) depend(mutexinoutset: c)\n",
    "        c = longTaskBC(b,c);\n",
    "  }\n",
    "}\n",
    "\n"
   ]
  },
  {
   "cell_type": "markdown",
   "metadata": {},
   "source": [
    ""
   ]
  },
  {
   "cell_type": "markdown",
   "metadata": {},
   "source": [
    ""
   ]
  },
  {
   "cell_type": "code",
   "execution_count": null,
   "metadata": {},
   "outputs": [],
   "source": [
    "\n",
    "! name: task_dep.7f\n",
    "! type: F-free\n",
    "! version:    omp_5.0\n",
    "subroutine foo\n",
    "   integer :: a,b,c\n",
    "   c = 0\n",
    "   !$omp parallel\n",
    "   !$omp single\n",
    "      !$omp task depend(out: a)\n",
    "         a = longTaskA()\n",
    "      !$omp end task\n",
    "      !$omp task depend(out: b)\n",
    "         b = shortTaskB()\n",
    "      !$omp end task\n",
    "      !$omp task depend(in: a) depend(mutexinoutset: c)\n",
    "         c = shortTaskAC(a,c)\n",
    "      !$omp end task\n",
    "      !$omp task depend(in: b) depend(mutexinoutset: c)\n",
    "         c = longTaskBC(b,c)\n",
    "      !$omp end task\n",
    "   !$omp end single\n",
    "   !$omp end parallel\n",
    "end subroutine foo\n",
    "\n"
   ]
  },
  {
   "cell_type": "markdown",
   "metadata": {},
   "source": [
    ""
   ]
  },
  {
   "cell_type": "markdown",
   "metadata": {},
   "source": [
    ""
   ]
  },
  {
   "cell_type": "markdown",
   "metadata": {},
   "source": [
    "### Multidependences Using Iterators"
   ]
  },
  {
   "cell_type": "markdown",
   "metadata": {},
   "source": [
    ""
   ]
  },
  {
   "cell_type": "markdown",
   "metadata": {},
   "source": [
    "The following example uses an iterator to define a dynamic number of dependences."
   ]
  },
  {
   "cell_type": "markdown",
   "metadata": {},
   "source": [
    "In the `single` construct of a parallel region a loop generates n tasks and each task has an `out` dependence specified through an element of the  _v_  array.  This is followed by a single task that defines an `in` dependence on each element of the array.  This is accomplished by using the `iterator` modifier in the `depend` clause, supporting a dynamic number of dependences ( _n_  here)."
   ]
  },
  {
   "cell_type": "markdown",
   "metadata": {},
   "source": [
    "The task for the  _print_all_elements_  function is not executed until all dependences prescribed (or registered) by the iterator are fulfilled; that is, after all the tasks generated by the loop have completed."
   ]
  },
  {
   "cell_type": "markdown",
   "metadata": {},
   "source": [
    "Note, one cannot simply use an array section in the `depend` clause of the second task construct because this would violate the `depend` clause restriction:"
   ]
  },
  {
   "cell_type": "markdown",
   "metadata": {},
   "source": [
    "\"List items used in `depend` clauses of the same task or sibling tasks must indicate identical storage locations or disjoint storage locations\"."
   ]
  },
  {
   "cell_type": "markdown",
   "metadata": {},
   "source": [
    "In this case each of the loop tasks use a single disjoint (different storage) element in their `depend` clause; however, the array-section storage area prescribed in the commented directive is neither identical nor disjoint to the storage prescibed by the elements of the loop tasks.  The iterator overcomes this restriction by effectively creating n disjoint storage areas."
   ]
  },
  {
   "cell_type": "markdown",
   "metadata": {},
   "source": [
    ""
   ]
  },
  {
   "cell_type": "code",
   "execution_count": null,
   "metadata": {},
   "outputs": [],
   "source": [
    "//%compiler: clang\n",
 "//%cflags: -fopenmp\n",
 "\n",
    "/*\n",
    "* name:       task_dep.11c\n",
    "* type:       C\n",
    "* version: omp_5.0\n",
    "*/\n",
    "#include<stdio.h>\n",
    "\n",
    "void set_an_element(int *p, int val) {\n",
    "    *p = val;\n",
    "}\n",
    "\n",
    "void print_all_elements(int *v, int n) {\n",
    "    int i;\n",
    "    for (i = 0; i < n; ++i) {\n",
    "        printf(\"%d, \", v[i]);\n",
    "    }\n",
    "    printf(\"\\n\");\n",
    "}\n",
    "\n",
    "void parallel_computation(int n) {\n",
    "    int v[n];\n",
    "    #pragma omp parallel\n",
    "    #pragma omp single\n",
    "    {\n",
    "        int i;\n",
    "        for (i = 0; i < n; ++i)\n",
    "            #pragma omp task depend(out: v[i])\n",
    "            set_an_element(&v[i], i);\n",
    "\n",
    "        #pragma omp task depend(iterator(it = 0:n), in: v[it])\n",
    "     // #pragma omp task depend(in: v[0:n]) Violates Array section restriction.\n",
    "        print_all_elements(v, n);\n",
    "\n",
    "    }\n",
    "}\n",
    "\n",
    "\n"
   ]
  },
  {
   "cell_type": "markdown",
   "metadata": {},
   "source": [
    ""
   ]
  },
  {
   "cell_type": "markdown",
   "metadata": {},
   "source": [
    ""
   ]
  },
  {
   "cell_type": "code",
   "execution_count": null,
   "metadata": {},
   "outputs": [],
   "source": [
    "\n",
    "! name: task_dep.11f90\n",
    "! type: F-free\n",
    "! version:    omp_5.0\n",
    "subroutine set_an_element(e, val)\n",
    "    implicit none\n",
    "    integer :: e, val\n",
    "\n",
    "    e = val\n",
    "\n",
    "end subroutine\n",
    "\n",
    "subroutine print_all_elements(v, n)\n",
    "    implicit none\n",
    "    integer :: n, v(n)\n",
    "\n",
    "    print *, v\n",
    "\n",
    "end subroutine\n",
    "\n",
    "subroutine parallel_computation(n)\n",
    "    implicit none\n",
    "    integer :: n\n",
    "    integer :: i, v(n)\n",
    "\n",
    "    !$omp parallel\n",
    "    !$omp single\n",
    "        do i=1, n\n",
    "            !$omp task depend(out: v(i))\n",
    "                 call set_an_element(v(i), i)\n",
    "            !$omp end task\n",
    "        enddo\n",
    "\n",
    "        !$omp task depend(iterator(it = 1:n), in: v(it))\n",
    "       !!$omp task depend(in: v(1:n)) Violates Array section restriction.\n",
    "            call print_all_elements(v, n)\n",
    "        !$omp end task\n",
    "\n",
    "    !$omp end single\n",
    "    !$omp end parallel\n",
    "end subroutine\n",
    "\n"
   ]
  },
  {
   "cell_type": "markdown",
   "metadata": {},
   "source": [
    ""
   ]
  },
  {
   "cell_type": "markdown",
   "metadata": {},
   "source": [
    ""
   ]
  },
  {
   "cell_type": "markdown",
   "metadata": {},
   "source": [
    "### Dependence for Undeferred Tasks"
   ]
  },
  {
   "cell_type": "markdown",
   "metadata": {},
   "source": [
    ""
   ]
  },
  {
   "cell_type": "markdown",
   "metadata": {},
   "source": [
    "In the following example, we show that even if a task is undeferred as specified by an `if` clause that evaluates to  _false_ , task dependences are still honored."
   ]
  },
  {
   "cell_type": "markdown",
   "metadata": {},
   "source": [
    "The `depend` clauses of the first and second explicit tasks specify that the first task is completed before the second task."
   ]
  },
  {
   "cell_type": "markdown",
   "metadata": {},
   "source": [
    "The second explicit task has an `if` clause that evaluates to  _false_ . This means that the execution of the generating task (the implicit task of the `single` region) must be suspended until the second explict task is completed. But, because of the dependence, the first explicit task must complete first, then the second explicit task can execute and complete, and only then  the generating task can resume to the print statement. Thus, the program will always print \" **x = 2** \"."
   ]
  },
  {
   "cell_type": "markdown",
   "metadata": {},
   "source": [
    ""
   ]
  },
  {
   "cell_type": "code",
   "execution_count": null,
   "metadata": {},
   "outputs": [],
   "source": [
    "//%compiler: clang\n",
 "//%cflags: -fopenmp\n",
 "\n",
    "/*\n",
    "* name: task_dep.12c\n",
    "* type: C\n",
    "* version: omp_4.0\n",
    "*/\n",
    "#include <stdio.h>\n",
    "int main (int argc, char *argv[])\n",
    "{\n",
    "  int x = 0;\n",
    "  #pragma omp parallel\n",
    "  #pragma omp single\n",
    "  {\n",
    "    /* first explicit task */\n",
    "    #pragma omp task shared(x) depend(out: x)\n",
    "      x = 1;\n",
    "\n",
    "    /* second explicit task */\n",
    "    #pragma omp task shared(x) depend(inout: x) if(0)\n",
    "      x = 2;\n",
    "\n",
    "    /* statement executed by parent implicit task\n",
    "       prints: x = 2 */\n",
    "    printf(\"x = %d\\n\", x);\n",
    "  }\n",
    "  return 0;\n",
    "}\n",
    "\n"
   ]
  },
  {
   "cell_type": "markdown",
   "metadata": {},
   "source": [
    ""
   ]
  },
  {
   "cell_type": "markdown",
   "metadata": {},
   "source": [
    ""
   ]
  },
  {
   "cell_type": "code",
   "execution_count": null,
   "metadata": {},
   "outputs": [],
   "source": [
    "\n",
    "! name: task_dep.12f\n",
    "! type: F-free\n",
    "! version: omp_4.0\n",
    "program example\n",
    "   integer :: x\n",
    "   x = 0\n",
    "   !$omp parallel\n",
    "   !$omp single\n",
    "     !... first explicit task\n",
    "      !$omp task shared(x) depend(out: x)\n",
    "         x = 1\n",
    "      !$omp end task\n",
    "\n",
    "     !... second explicit task\n",
    "      !$omp task shared(x) depend(inout: x) if(.false.)\n",
    "         x = 2\n",
    "      !$omp end task\n",
    "\n",
    "     !... statement executed by parent implicit task\n",
    "     ! prints: x = 2\n",
    "      print*, \"x = \", x\n",
    "   !$omp end single\n",
    "   !$omp end parallel\n",
    "end program\n",
    "\n"
   ]
  },
  {
   "cell_type": "markdown",
   "metadata": {},
   "source": [
    ""
   ]
  },
  {
   "cell_type": "markdown",
   "metadata": {},
   "source": [
    ""
   ]
  }
 ],
 "metadata": {
  "kernelspec": {
   "display_name": "Native",
   "language": "native",
   "name": "native"
  },
  "language_info": {
   "file_extension": ".c",
   "mimetype": "text/plain",
   "name": "none"
  }
 },
 "nbformat": 4,
 "nbformat_minor": 2
}