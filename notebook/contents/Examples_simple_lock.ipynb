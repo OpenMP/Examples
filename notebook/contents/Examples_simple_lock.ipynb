{
 "cells": [
  {
   "cell_type": "markdown",
   "metadata": {},
   "source": [
    ""
   ]
  },
  {
   "cell_type": "markdown",
   "metadata": {},
   "source": [
    "### Simple Lock Routines"
   ]
  },
  {
   "cell_type": "markdown",
   "metadata": {},
   "source": [
    ""
   ]
  },
  {
   "cell_type": "markdown",
   "metadata": {},
   "source": [
    "In the following example, the lock routines cause the threads to be idle while  waiting for entry to the first critical section, but to do other work while waiting  for entry to the second. The `omp_set_lock` function blocks, but the `omp_test_lock`  function does not, allowing the work in `skip` to be done."
   ]
  },
  {
   "cell_type": "markdown",
   "metadata": {},
   "source": [
    "Note that the argument to the lock routines should have type `omp_lock_t`,  and that there is no need to flush it."
   ]
  },
  {
   "cell_type": "markdown",
   "metadata": {},
   "source": [
    ""
   ]
  },
  {
   "cell_type": "code",
   "execution_count": null,
   "metadata": {},
   "outputs": [],
   "source": [
    "//%compiler: clang\n",
 "//%cflags: -fopenmp\n",
 "\n",
    "/*\n",
    "* name: simple_lock.1c\n",
    "* type: C\n",
    "*/\n",
    "#include <stdio.h>\n",
    "#include <omp.h>\n",
    "void skip(int i) {}\n",
    "void work(int i) {}\n",
    "int main()\n",
    "{\n",
    "  omp_lock_t lck;\n",
    "  int id;\n",
    "  omp_init_lock(&lck);\n",
    "\n",
    "  #pragma omp parallel shared(lck) private(id)\n",
    "  {\n",
    "    id = omp_get_thread_num();\n",
    "\n",
    "    omp_set_lock(&lck);\n",
    "    /*  only one thread at a time can execute this printf */\n",
    "    printf(\"My thread id is %d.\\n\", id);\n",
    "    omp_unset_lock(&lck);\n",
    "\n",
    "    while (! omp_test_lock(&lck)) {\n",
    "      skip(id);   /* we do not yet have the lock,\n",
    "                     so we must do something else */\n",
    "    }\n",
    "\n",
    "    work(id);      /* we now have the lock\n",
    "                      and can do the work */\n",
    "\n",
    "    omp_unset_lock(&lck);\n",
    "  }\n",
    "  omp_destroy_lock(&lck);\n",
    "\n",
    "  return 0;\n",
    "}\n",
    "\n"
   ]
  },
  {
   "cell_type": "markdown",
   "metadata": {},
   "source": [
    ""
   ]
  },
  {
   "cell_type": "markdown",
   "metadata": {},
   "source": [
    "Note that there is no need to flush the lock variable."
   ]
  },
  {
   "cell_type": "markdown",
   "metadata": {},
   "source": [
    ""
   ]
  },
  {
   "cell_type": "code",
   "execution_count": null,
   "metadata": {},
   "outputs": [],
   "source": [
    "\n",
    "! name: simple_lock.1f\n",
    "! type: F-fixed\n",
    "      SUBROUTINE SKIP(ID)\n",
    "      END SUBROUTINE SKIP\n",
    "\n",
    "      SUBROUTINE WORK(ID)\n",
    "      END SUBROUTINE WORK\n",
    "\n",
    "      PROGRAM SIMPLELOCK\n",
    "\n",
    "        INCLUDE \"omp_lib.h\"     ! or USE OMP_LIB\n",
    "\n",
    "        INTEGER(OMP_LOCK_KIND) LCK\n",
    "        INTEGER ID\n",
    "\n",
    "        CALL OMP_INIT_LOCK(LCK)\n",
    "\n",
    "!$OMP   PARALLEL SHARED(LCK) PRIVATE(ID)\n",
    "          ID = OMP_GET_THREAD_NUM()\n",
    "          CALL OMP_SET_LOCK(LCK)\n",
    "          PRINT *, 'My thread id is ', ID\n",
    "          CALL OMP_UNSET_LOCK(LCK)\n",
    "\n",
    "          DO WHILE (.NOT. OMP_TEST_LOCK(LCK))\n",
    "            CALL SKIP(ID)     ! We do not yet have the lock\n",
    "                              ! so we must do something else\n",
    "          END DO\n",
    "\n",
    "          CALL WORK(ID)       ! We now have the lock\n",
    "                              ! and can do the work\n",
    "\n",
    "          CALL OMP_UNSET_LOCK( LCK )\n",
    "\n",
    "!$OMP   END PARALLEL\n",
    "\n",
    "        CALL OMP_DESTROY_LOCK( LCK )\n",
    "\n",
    "      END PROGRAM SIMPLELOCK\n",
    "\n"
   ]
  },
  {
   "cell_type": "markdown",
   "metadata": {},
   "source": [
    ""
   ]
  },
  {
   "cell_type": "markdown",
   "metadata": {},
   "source": [
    ""
   ]
  },
  {
   "cell_type": "markdown",
   "metadata": {},
   "source": [
    ""
   ]
  }
 ],
 "metadata": {
  "kernelspec": {
   "display_name": "Native",
   "language": "native",
   "name": "native"
  },
  "language_info": {
   "file_extension": ".c",
   "mimetype": "text/plain",
   "name": "none"
  }
 },
 "nbformat": 4,
 "nbformat_minor": 2
}