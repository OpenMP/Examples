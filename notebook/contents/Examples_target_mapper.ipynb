{
 "cells": [
  {
   "cell_type": "markdown",
   "metadata": {},
   "source": [
    ""
   ]
  },
  {
   "cell_type": "markdown",
   "metadata": {},
   "source": [
    "##  `declare mapper` Construct"
   ]
  },
  {
   "cell_type": "markdown",
   "metadata": {},
   "source": [
    ""
   ]
  },
  {
   "cell_type": "markdown",
   "metadata": {},
   "source": [
    "The following examples show how to use the `declare mapper` directive to prescribe a map for later use. It is also quite useful for pre-defining partitioned and nested  structure elements."
   ]
  },
  {
   "cell_type": "markdown",
   "metadata": {},
   "source": [
    "In the first example the `declare mapper` directive specifies  that any structure of type  _myvec_t_  for which implicit data-mapping rules apply will be mapped according to its `map` clause. The variable  _v_  is used for referencing the structure and its  elements within the `map` clause.  Within the `map` clause the  _v_  variable specifies that all elements of the structure are to be mapped.  Additionally, the array section  _v.data[0:v.len]_  specifies that the dynamic  storage for data is to be mapped."
   ]
  },
  {
   "cell_type": "markdown",
   "metadata": {},
   "source": [
    "Within the main program the  _s_  variable is typed as  _myvec_t_ . Since the variable is found within the target region and the type has a mapping prescribed by a `declare mapper` directive, it will be automatically mapped according to its prescription:  full structure, plus the dynamic storage of the  _data_  element."
   ]
  },
  {
   "cell_type": "markdown",
   "metadata": {},
   "source": [
    ""
   ]
  },
  {
   "cell_type": "markdown",
   "metadata": {},
   "source": [
    ""
   ]
  },
  {
   "cell_type": "code",
   "execution_count": null,
   "metadata": {},
   "outputs": [],
   "source": [
    "//%compiler: clang\n",
 "//%cflags: -fopenmp\n",
 "\n",
    "/*\n",
    "* name: target_mapper_map.1c\n",
    "* type: C\n",
    "* version: omp_5.0\n",
    "*/\n",
    "#include  <stdlib.h>\n",
    "#include   <stdio.h>\n",
    "#define N 100\n",
    "\n",
    "typedef struct myvec{\n",
    "    size_t len;\n",
    "    double *data;\n",
    "} myvec_t;\n",
    "\n",
    "#pragma omp declare mapper(myvec_t v) \\\n",
    "                    map(v, v.data[0:v.len])\n",
    "void init(myvec_t *s);\n",
    "\n",
    "int main(){\n",
    "   myvec_t s;\n",
    "\n",
    "   s.data = (double *)calloc(N,sizeof(double));\n",
    "   s.len  = N;\n",
    "\n",
    "   #pragma omp target\n",
    "   init(&s);\n",
    "\n",
    "   printf(\"s.data[%d]=%lf\\n\",N-1,s.data[N-1]);  //s.data[99]=99.000000\n",
    "}\n",
    "\n",
    "void init(myvec_t *s)\n",
    "{ for(int i=0; i<s->len; i++) s->data[i]=i; }\n",
    "\n"
   ]
  },
  {
   "cell_type": "markdown",
   "metadata": {},
   "source": [
    ""
   ]
  },
  {
   "cell_type": "markdown",
   "metadata": {},
   "source": [
    ""
   ]
  },
  {
   "cell_type": "code",
   "execution_count": null,
   "metadata": {},
   "outputs": [],
   "source": [
    "\n",
    "! name:       target_mapper.1.f90\n",
    "! type:       F-free\n",
    "! version:    omp_5.0\n",
    "\n",
    "module my_structures\n",
    "  type myvec_t\n",
    "    integer                     :: len\n",
    "    double precision, pointer   :: data(:)\n",
    "  end type\n",
    "end module\n",
    "\n",
    "program main\n",
    "  use my_structures\n",
    "  integer, parameter :: N=100\n",
    "\n",
    "  !$omp  declare mapper(myvec_t :: v) &\n",
    "  !$omp&         map(v, v%data(1:v%len))\n",
    "\n",
    "  type(myvec_t) :: s\n",
    "\n",
    "  allocate(s%data(N))\n",
    "  s%data(1:N) = 0.0d0\n",
    "  s%len = N\n",
    "\n",
    "  !$omp target\n",
    "  call init(s)\n",
    "  !$omp end target\n",
    "\n",
    "  print*,\"s%data(\",N,\")=\",s%data(N)  !! s%data( 100 )=100.000000000000\n",
    "end program\n",
    "\n",
    "subroutine init(s)\n",
    "  use my_structures\n",
    "  type(myvec_t) :: s\n",
    "\n",
    "  s%data = [ (i, i=1,s%len) ]\n",
    "end subroutine\n",
    "\n"
   ]
  },
  {
   "cell_type": "markdown",
   "metadata": {},
   "source": [
    ""
   ]
  },
  {
   "cell_type": "markdown",
   "metadata": {},
   "source": [
    "The next example illustrates the use of the  _mapper-identifier_  and deep copy within a structure.  The structure,  _dzmat_t_ ,  represents a complex matrix,  with separate real ( _r_m_ ) and imaginary ( _i_m_ ) elements. Two map identifiers are created for partitioning the  _dzmat_t_  structure."
   ]
  },
  {
   "cell_type": "markdown",
   "metadata": {},
   "source": [
    "For the C/C++ code the first identifier is named  _top_id_  and maps the top half of two matrices of type  _dzmat_t_ ; while the second identifier,  _bottom_id_ , maps the lower half of two matrices.  Each identifier is applied to a different `target` construct, as  `map(mapper(top_id), tofrom: a,b)`  and `map(mapper(bottom_id), tofrom: a,b)`. Each target offload is allowed to execute concurrently on two different devices  ( _0_  and  _1_ ) through the `nowait` clause. The OpenMP 5.0 `parallel master` construct creates a region of two threads for these `target` constructs, with a single thread ( _master_ ) generator."
   ]
  },
  {
   "cell_type": "markdown",
   "metadata": {},
   "source": [
    "The Fortran code uses the  _left_id_  and  _right_id_  map identifiers in the `map(mapper(left_id),tofrom: a,b)` and `map(mapper(right_id),tofrom: a,b)` map clauses.   The array sections for these left and right contiguous portions of the matrices  were defined previously in the `declare mapper` directive."
   ]
  },
  {
   "cell_type": "markdown",
   "metadata": {},
   "source": [
    "Note, the  _is_  and  _ie_  scalars are firstprivate  by default for a target region, but are declared firstprivate anyway to remind the user of important firstprivate data-sharing properties required here."
   ]
  },
  {
   "cell_type": "markdown",
   "metadata": {},
   "source": [
    ""
   ]
  },
  {
   "cell_type": "code",
   "execution_count": null,
   "metadata": {},
   "outputs": [],
   "source": [
    "//%compiler: clang\n",
 "//%cflags: -fopenmp\n",
 "\n",
    "/*\n",
    "* name: target_mapper_map.2.c\n",
    "* type: C\n",
    "* version: omp_5.0\n",
    "*/\n",
    "#include <stdio.h>\n",
    "//                   N MUST BE EVEN\n",
    "#define N  100\n",
    "\n",
    "  typedef struct dzmat\n",
    "  {\n",
    "     double r_m[N][N];\n",
    "     double i_m[N][N];\n",
    "  } dzmat_t;\n",
    "\n",
    "  #pragma omp declare mapper( top_id: dzmat_t v) \\\n",
    "                      map(v.r_m[0:N/2][0:N],     \\\n",
    "                          v.i_m[0:N/2][0:N]      )\n",
    "\n",
    "  #pragma omp declare mapper(bottom_id: dzmat_t v) \\\n",
    "                      map(v.r_m[N/2:N/2][0:N],     \\\n",
    "                          v.i_m[N/2:N/2][0:N]      )\n",
    "\n",
    "void dzmat_init(dzmat_t *z, int is, int ie, int n);         //initialization\n",
    "void host_add(  dzmat_t *a, dzmat_t *b, dzmat_t *c, int n); //matrix add: c=a+b\n",
    "\n",
    "\n",
    "int main()\n",
    "{\n",
    "  dzmat_t a,b,c;\n",
    "  int     is,ie;\n",
    "\n",
    "  is=0; ie=N/2-1;       //top N/2 rows on device 0\n",
    "  #pragma omp target map(mapper(top_id), tofrom: a,b) device(0) \\\n",
    "                     firstprivate(is,ie) nowait\n",
    "  {\n",
    "    dzmat_init(&a,is,ie,N);\n",
    "    dzmat_init(&b,is,ie,N);\n",
    "  }\n",
    "\n",
    "  is=N/2; ie=N-1;       //bottom N/2 rows on device 1\n",
    "  #pragma omp target map(mapper(bottom_id), tofrom: a,b) device(1) \\\n",
    "                     firstprivate(is,ie) nowait\n",
    "  {\n",
    "    dzmat_init(&a,is,ie,N);\n",
    "    dzmat_init(&b,is,ie,N);\n",
    "  }\n",
    "\n",
    "  #pragma omp taskwait\n",
    "\n",
    "  host_add(&a,&b,&c,N);\n",
    "}\n",
    "\n"
   ]
  },
  {
   "cell_type": "markdown",
   "metadata": {},
   "source": [
    ""
   ]
  },
  {
   "cell_type": "markdown",
   "metadata": {},
   "source": [
    ""
   ]
  },
  {
   "cell_type": "code",
   "execution_count": null,
   "metadata": {},
   "outputs": [],
   "source": [
    "\n",
    "! name:       target_mapper.2.f90\n",
    "! type:       F-free\n",
    "! version:    omp_5.0\n",
    "module complex_mats\n",
    "\n",
    "   integer, parameter :: N=100    !N must be even\n",
    "   type dzmat_t\n",
    "     double precision ::  r_m(N,N), i_m(N,N)\n",
    "   end type\n",
    "\n",
    "   !$omp  declare mapper( left_id: dzmat_t :: v) map( v%r_m(N,  1:N/2), &\n",
    "   !$omp&                                             v%i_m(N,  1:N/2))\n",
    "\n",
    "   !$omp  declare mapper(right_id: dzmat_t :: v) map( v%r_m(N,N/2+1:N), &\n",
    "   !$omp&                                             v%i_m(N,N/2+1:N))\n",
    "\n",
    "end module\n",
    "\n",
    "\n",
    "program main\n",
    "  use  complex_mats\n",
    "  type(dzmat_t) :: a,b,c\n",
    "  external dzmat_init, host_add  !initialization and matrix add: a=b+c\n",
    "\n",
    "  integer :: is,ie\n",
    "\n",
    "\n",
    "  is=1; ie=N/2            !left N/2 columns on device 0\n",
    "  !$omp target map(mapper( left_id), tofrom: a,b) device(0) &\n",
    "  !$omp&       firstprivate(is,ie) nowait\n",
    "    call dzmat_init(a,is,ie)\n",
    "    call dzmat_init(b,is,ie)\n",
    "  !$omp end target\n",
    "\n",
    "  is=N/2+1; ie=N         !right N/2 columns on device 1\n",
    "  !$omp target map(mapper(right_id), tofrom: a,b) device(1) &\n",
    "  !$omp&       firstprivate(is,ie) nowait\n",
    "    call dzmat_init(a,is,ie)\n",
    "    call dzmat_init(b,is,ie)\n",
    "  !$omp end target\n",
    "\n",
    "  !omp taskwait\n",
    "\n",
    "  call host_add(a,b,c)\n",
    "\n",
    "end program main\n",
    "\n"
   ]
  },
  {
   "cell_type": "markdown",
   "metadata": {},
   "source": [
    ""
   ]
  },
  {
   "cell_type": "markdown",
   "metadata": {},
   "source": [
    "In the third example  _myvec_  structures are nested within a  _mypoints_  structure. The  _myvec_t_  type is mapped as in the first example.  Following the  _mypoints_  structure declaration,  the  _mypoints_t_  type is mapped by a `declare mapper` directive.  For this structure the  _hostonly_data_  element will not be mapped; also the array section of  _x_  ( _v.x[:1]_ ) and  _x_  will be mapped; and  _scratch_  will be allocated and used as scratch storage on the device. The default map-type mapping, `tofrom`, applies to the  _x_  array section, but not to  _scratch_  which is explicitly mapped with the `alloc` map-type.  Note: the variable  _v_  is not included in the map list (otherwise the  _hostonly_data_  would be mapped)-- just the elements  to be mapped are listed."
   ]
  },
  {
   "cell_type": "markdown",
   "metadata": {},
   "source": [
    "The two mappers are combined when a  _mypoints_t_  structure type is mapped, because the mapper  _myvec_t_  structure type is used within a  _mypoints_t_  type structure."
   ]
  },
  {
   "cell_type": "markdown",
   "metadata": {},
   "source": [
    ""
   ]
  },
  {
   "cell_type": "code",
   "execution_count": null,
   "metadata": {},
   "outputs": [],
   "source": [
    "//%compiler: clang\n",
 "//%cflags: -fopenmp\n",
 "\n",
    "/*\n",
    "* name: target_mapper_map.3.c\n",
    "* type: C\n",
    "* version: omp_5.0\n",
    "*/\n",
    "\n",
    "#include <stdlib.h>\n",
    "#include  <stdio.h>\n",
    "\n",
    "#define N 100\n",
    "\n",
    "typedef struct myvec {\n",
    "    size_t len;\n",
    "    double *data;\n",
    "} myvec_t;\n",
    "\n",
    "#pragma omp declare mapper(myvec_t v) \\\n",
    "                    map(v, v.data[0:v.len])\n",
    "\n",
    "typedef struct mypoints {\n",
    "    struct myvec scratch;\n",
    "    struct myvec *x;\n",
    "    double hostonly_data[500000];\n",
    "} mypoints_t;\n",
    "\n",
    "#pragma omp declare mapper(mypoints_t v)  \\\n",
    "                    map(v.x, v.x[0] ) map(alloc:v.scratch)\n",
    "\n",
    "void init_mypts_array(mypoints_t *P, int n);\n",
    "void eval_mypts_array(mypoints_t *P, int n);\n",
    "\n",
    "int main(){\n",
    "\n",
    "   mypoints_t P;\n",
    "\n",
    "   init_mypts_array(&P, N);\n",
    "\n",
    "   #pragma omp target map(P)\n",
    "   eval_mypts_array(&P, N);\n",
    "\n",
    "}\n",
    "\n"
   ]
  },
  {
   "cell_type": "markdown",
   "metadata": {},
   "source": [
    ""
   ]
  },
  {
   "cell_type": "markdown",
   "metadata": {},
   "source": [
    ""
   ]
  },
  {
   "cell_type": "code",
   "execution_count": null,
   "metadata": {},
   "outputs": [],
   "source": [
    "\n",
    "! name:       target_mapper.3.f90\n",
    "! type:       F-free\n",
    "! version:    omp_5.0\n",
    "\n",
    "module my_structures\n",
    "  type myvec_t\n",
    "    integer                   :: len\n",
    "    double precision, pointer :: data(:)\n",
    "  end type\n",
    "  !$omp  declare mapper(myvec_t :: v) &\n",
    "  !$omp&         map(v)\n",
    "\n",
    "  type mypoints_t\n",
    "     type(myvec_t)            :: scratch\n",
    "     type(myvec_t), pointer   :: x(:)\n",
    "     double precision         :: hostonly_data(500000)\n",
    "  end  type\n",
    " !$omp  declare mapper(mypoints_t :: v)  &\n",
    " !$omp&         map(v%x, v%x(1)) map(alloc:v%scratch)\n",
    "\n",
    "end module\n",
    "\n",
    "\n",
    "program main\n",
    "  use my_structures\n",
    "  external  init_mypts_array, eval_mypts_array\n",
    "\n",
    "  type(mypoints_t) :: P\n",
    "\n",
    "   call init_mypts_array(P)\n",
    "\n",
    "   !$omp target map(P)\n",
    "   call eval_mypts_array(P)\n",
    "\n",
    "end program\n",
    "\n",
    "\n"
   ]
  },
  {
   "cell_type": "markdown",
   "metadata": {},
   "source": [
    ""
   ]
  },
  {
   "cell_type": "markdown",
   "metadata": {},
   "source": [
    ""
   ]
  }
 ],
 "metadata": {
  "kernelspec": {
   "display_name": "Native",
   "language": "native",
   "name": "native"
  },
  "language_info": {
   "file_extension": ".c",
   "mimetype": "text/plain",
   "name": "none"
  }
 },
 "nbformat": 4,
 "nbformat_minor": 2
}