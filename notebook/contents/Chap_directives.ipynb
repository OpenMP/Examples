{
 "cells": [
  {
   "cell_type": "markdown",
   "metadata": {},
   "source": [
    ""
   ]
  },
  {
   "cell_type": "markdown",
   "metadata": {},
   "source": [
    "# OpenMP Directive Syntax"
   ]
  },
  {
   "cell_type": "markdown",
   "metadata": {},
   "source": [
    "{directives}  \index{directive syntax}"
   ]
  },
  {
   "cell_type": "markdown",
   "metadata": {},
   "source": [
    "OpenMP **directives** use base-language mechanisms to specify OpenMP program behavior. In C code, the directives are formed exclusively with pragmas, whereas in C++ code, directives are formed from either pragmas or attributes. Fortran directives are formed with comments in free form and fixed form sources (codes). All of these mechanisms allow the compilation to ignore the OpenMP directives if OpenMP is not supported or enabled."
   ]
  },
  {
   "cell_type": "markdown",
   "metadata": {},
   "source": [
    ""
   ]
  },
  {
   "cell_type": "markdown",
   "metadata": {},
   "source": [
    "The OpenMP directive is a combination of the base-language mechanism and a  _directive-specification_ , as shown below. The  _directive-specification_  consists of the  _directive-name_  which may seldomly have arguments,  followed by optional  _clauses_ . Full details of the syntax can be found in the OpenMP Specification. Illustrations of the syntax is given in the examples."
   ]
  },
  {
   "cell_type": "markdown",
   "metadata": {},
   "source": [
    "The formats for combining a base-language mechanism and a  _directive-specification_  are:"
   ]
  },
  {
   "cell_type": "markdown",
   "metadata": {},
   "source": [
    "C/C++ pragmas  `#pragma omp`  _directive-specification_"
   ]
  },
  {
   "cell_type": "markdown",
   "metadata": {},
   "source": [
    "C++ attributes  `[[omp :: directive(`  _directive-specification_  `)]]` `[[using omp : directive(`  _directive-specification_  `)]]`"
   ]
  },
  {
   "cell_type": "markdown",
   "metadata": {},
   "source": [
    "Fortran comments  `!$omp`  _directive-specification_"
   ]
  },
  {
   "cell_type": "markdown",
   "metadata": {},
   "source": [
    "where `c$omp` and `*$omp` may be used in Fortran fixed form sources."
   ]
  },
  {
   "cell_type": "markdown",
   "metadata": {},
   "source": [
    "Most OpenMP directives accept clauses that alter the semantics of the directive in some way,  and some directives also accept parenthesized arguments that follow the directive name.  A clause may just be a keyword (e.g., \scode{untied}) or it may also accept argument lists  (e.g., \scode{shared(x,y,z)}) and/or optional modifiers (e.g., \scode{tofrom} in  \scode{map(tofrom:} \scode{x,y,z)}). Clause modifiers may be \"simple\" or \"complex\" -- a complex modifier consists of a  keyword followed by one or more parameters, bracketed by parentheses, while a simple  modifier does not. An example of a complex modifier is the \scode{iterator} modifier,  as in \scode{map(iterator(i=0:n),} \scode{tofrom:} \scode{p[i])}, or the \scode{step} modifier, as in  \scode{linear(x:} \scode{ref,} \scode{step(4))}.  In the preceding examples, \scode{tofrom} and \scode{ref} are simple modifiers."
   ]
  },
  {
   "cell_type": "markdown",
   "metadata": {},
   "source": [
    ""
   ]
  },
  {
   "cell_type": "markdown",
   "metadata": {},
   "source": [
    ""
   ]
  },
  {
   "cell_type": "markdown",
   "metadata": {},
   "source": [
    "../../directives/pragmas.tex"
   ]
  },
  {
   "cell_type": "markdown",
   "metadata": {},
   "source": [
    "../../directives/attributes.tex"
   ]
  },
  {
   "cell_type": "markdown",
   "metadata": {},
   "source": [
    "../../directives/fixed_format_comments.tex"
   ]
  },
  {
   "cell_type": "markdown",
   "metadata": {},
   "source": [
    "../../directives/free_format_comments.tex"
   ]
  },
  {
   "cell_type": "markdown",
   "metadata": {},
   "source": [
    ""
   ]
  },
  {
   "cell_type": "markdown",
   "metadata": {},
   "source": [
    ""
   ]
  }
 ],
 "metadata": {
  "kernelspec": {
   "display_name": "Native",
   "language": "native",
   "name": "native"
  },
  "language_info": {
   "file_extension": ".c",
   "mimetype": "text/plain",
   "name": "none"
  }
 },
 "nbformat": 4,
 "nbformat_minor": 2
}