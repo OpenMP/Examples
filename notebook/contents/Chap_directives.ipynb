{
 "cells": [
  {
   "cell_type": "markdown",
   "metadata": {},
   "source": [
    ""
   ]
  },
  {
   "cell_type": "markdown",
   "metadata": {},
   "source": [
    "# OpenMP Directive Syntax"
   ]
  },
  {
   "cell_type": "markdown",
   "metadata": {},
   "source": [
    "{directives}  \index{directive syntax}"
   ]
  },
  {
   "cell_type": "markdown",
   "metadata": {},
   "source": [
    "OpenMP **directives** use base-language mechanisms to specify OpenMP program behavior. In C code, the directives are formed exclusively with pragmas, whereas in C++ code, directives are formed from either pragmas or attributes. Fortran directives are formed with comments in free form and fixed form sources (codes). All of these mechanisms allow the compilation to ignore the OpenMP directives if OpenMP is not supported or enabled."
   ]
  },
  {
   "cell_type": "markdown",
   "metadata": {},
   "source": [
    ""
   ]
  },
  {
   "cell_type": "markdown",
   "metadata": {},
   "source": [
    "The OpenMP directive is a combination of the base-language mechanism and a  _directive-specification_ , as shown below. The  _directive-specification_  consists of the  _directive-name_  which may seldomly have arguments,  followed by optional  _clauses_ . Full details of the syntax can be found in the OpenMP Specification. Illustrations of the syntax is given in the examples."
   ]
  },
  {
   "cell_type": "markdown",
   "metadata": {},
   "source": [
    "The formats for combining a base-language mechanism and a  _directive-specification_  are:"
   ]
  },
  {
   "cell_type": "markdown",
   "metadata": {},
   "source": [
    "C/C++ pragmas  `#pragma omp`  _directive-specification_"
   ]
  },
  {
   "cell_type": "markdown",
   "metadata": {},
   "source": [
    "C++ attributes  `[[omp :: directive(`  _directive-specification_  `)]]` `[[using omp : directive(`  _directive-specification_  `)]]`"
   ]
  },
  {
   "cell_type": "markdown",
   "metadata": {},
   "source": [
    "Fortran comments  `!$omp`  _directive-specification_"
   ]
  },
  {
   "cell_type": "markdown",
   "metadata": {},
   "source": [
    "where `c$omp` and `*$omp` may be used in Fortran fixed form sources."
   ]
  },
  {
   "cell_type": "markdown",
   "metadata": {},
   "source": [
    "Most OpenMP directives accept clauses that alter the semantics of the directive in some way,  and some directives also accept parenthesized arguments that follow the directive name.  A clause may just be a keyword (e.g., \scode{untied}) or it may also accept argument lists  (e.g., \scode{shared(x,y,z)}) and/or optional modifiers (e.g., \scode{tofrom} in  \scode{map(tofrom:} \scode{x,y,z)}). Clause modifiers may be \"simple\" or \"complex\" -- a complex modifier consists of a  keyword followed by one or more parameters, bracketed by parentheses, while a simple  modifier does not. An example of a complex modifier is the \scode{iterator} modifier,  as in \scode{map(iterator(i=0:n),} \scode{tofrom:} \scode{p[i])}, or the \scode{step} modifier, as in  \scode{linear(x:} \scode{ref,} \scode{step(4))}.  In the preceding examples, \scode{tofrom} and \scode{ref} are simple modifiers."
   ]
  },
  {
   "cell_type": "markdown",
   "metadata": {},
   "source": [
    ""
   ]
  },
  {
   "cell_type": "markdown",
   "metadata": {},
   "source": [
    ""
   ]
  },
  {
   "cell_type": "markdown",
   "metadata": {},
   "source": [
    ""
   ]
  },
  {
   "cell_type": "markdown",
   "metadata": {},
   "source": [
    "## C/C++ Pragmas"
   ]
  },
  {
   "cell_type": "markdown",
   "metadata": {},
   "source": [
    "\index{directive syntax!pragma, C/C++} \index{pragma syntax, C/C++}"
   ]
  },
  {
   "cell_type": "markdown",
   "metadata": {},
   "source": [
    "OpenMP C and C++ directives can be specified with the C/C++ `#pragma` directive. An OpenMP directive begins with `#pragma` `omp` and is followed by the  OpenMP directive name, and required and optional clauses. Lines are continued in the  usual manner, and comments may be included at the end. Directives are case sensitive."
   ]
  },
  {
   "cell_type": "markdown",
   "metadata": {},
   "source": [
    "The example below illustrates the use of the OpenMP pragma form. The first pragma (PRAG 1) specifies a combined `parallel` `for`  directive, with a `num_threads` clause, and a comment.  The second pragma (PRAG 2) shows the same directive split across two lines. The next nested pragmas (PRAG 3 and 4) show the previous combined directive as  two separate directives. The executable directives above all apply to the next  statement. The `parallel` directive can be applied to a  _structured_   _block_  as shown in PRAG 5."
   ]
  },
  {
   "cell_type": "markdown",
   "metadata": {},
   "source": [
    ""
   ]
  },
  {
   "cell_type": "code",
   "execution_count": null,
   "metadata": {},
   "outputs": [],
   "source": [
    "//%compiler: clang\n",
 "//%cflags: -fopenmp\n",
 "\n",
    "/*\n",
    "* name:       directive_syntax_pragma.1\n",
    "* type:       C\n",
    "*/\n",
    "#include   <omp.h>\n",
    "#include <stdio.h>\n",
    "#define NT 4\n",
    "#define thrd_no omp_get_thread_num\n",
    "\n",
    "int main(){\n",
    "    #pragma omp parallel for num_threads(NT)                 // PRAG 1\n",
    "    for(int i=0; i<NT; i++) printf(\"thrd no %d\\n\",thrd_no());\n",
    "\n",
    "    #pragma omp parallel for \\\n",
    "                num_threads(NT)                              // PRAG 2\n",
    "    for(int i=0; i<NT; i++) printf(\"thrd no %d\\n\",thrd_no());\n",
    "\n",
    "    #pragma omp parallel num_threads(NT)                     // PRAG 3-4\n",
    "    #pragma omp for\n",
    "    for(int i=0; i<NT; i++) printf(\"thrd no %d\\n\",thrd_no());\n",
    "\n",
    "    #pragma omp parallel num_threads(NT)                     // PRAG 5\n",
    "    {\n",
    "       int no = thrd_no();\n",
    "       if (no%2) { printf(\"thrd no %d is Odd \\n\",no);}\n",
    "       else      { printf(\"thrd no %d is Even\\n\",no);}\n",
    "\n",
    "       #pragma omp for\n",
    "       for(int i=0; i<NT; i++) printf(\"thrd no %d\\n\",thrd_no());\n",
    "    }\n",
    "}\n",
    "/*\n",
    "      repeated 4 times, any order\n",
    "      OUTPUT: thrd no 0\n",
    "      OUTPUT: thrd no 1\n",
    "      OUTPUT: thrd no 2\n",
    "      OUTPUT: thrd no 3\n",
    "\n",
    "      any order\n",
    "      OUTPUT: thrd no 0 is Even\n",
    "      OUTPUT: thrd no 2 is Even\n",
    "      OUTPUT: thrd no 1 is Odd\n",
    "      OUTPUT: thrd no 3 is Odd\n",
    "*/\n",
    "\n"
   ]
  },
  {
   "cell_type": "markdown",
   "metadata": {},
   "source": [
    "../../directives/pragmas.tex"
   ]
  },
  {
   "cell_type": "markdown",
   "metadata": {},
   "source": [
    ""
   ]
  },
  {
   "cell_type": "markdown",
   "metadata": {},
   "source": [
    "## C++ Attributes"
   ]
  },
  {
   "cell_type": "markdown",
   "metadata": {},
   "source": [
    "\index{directive syntax!attribute, C++} \index{attribute syntax, C++}"
   ]
  },
  {
   "cell_type": "markdown",
   "metadata": {},
   "source": [
    "OpenMP directives for C++ can also be specified with  the `directive` extension for the C++11 standard  _attributes_ ."
   ]
  },
  {
   "cell_type": "markdown",
   "metadata": {},
   "source": [
    "The C++ example below shows two ways to parallelize a `for` loop using the `#pragma` syntax. The first pragma uses the combined `parallel` `for` directive, and the second applies the uncombined closely nested directives, `parallel` and `for`, directly to the same statement.  These are labeled PRAG 1-3."
   ]
  },
  {
   "cell_type": "markdown",
   "metadata": {},
   "source": [
    "Using the attribute syntax, the same construct in PRAG 1 is applied two different ways in attribute form, as shown in the ATTR 1 and ATTR 2 sections. In ATTR 1 the attribute syntax is used with the `omp ::` namespace form. In ATTR 2 the attribute syntax is used with the `using omp :` namespace form."
   ]
  },
  {
   "cell_type": "markdown",
   "metadata": {},
   "source": [
    "Next, parallelization is attempted by applying directives using two different syntaxes. For ATTR 3 and PRAG 4, the loop parallelization will fail to compile because multiple directives that apply to the same statement must all use either the attribute syntax or the pragma syntax. The lines have been commented out and labeled INVALID."
   ]
  },
  {
   "cell_type": "markdown",
   "metadata": {},
   "source": [
    "While multiple attributes may be applied to the same statement, compilation may fail if the ordering of the directive matters. For the ATTR 4-5 loop parallelization, the `parallel` directive precedes  the `for` directive, but the compiler may reorder consecutive attributes. If the directives are reversed, compilation will fail."
   ]
  },
  {
   "cell_type": "markdown",
   "metadata": {},
   "source": [
    "The attribute directive of the ATTR 6 section resolves the previous problem (in ATTR 4-5). Here, the `sequence` attribute is used to apply ordering to the directives of ATTR 4-5, using the `omp` `::` namespace qualifier. (The `using omp :` namespace form is not available for the `sequence` attribute.)  Note, for the `sequence` attribute a comma must separate the `directive` extensions."
   ]
  },
  {
   "cell_type": "markdown",
   "metadata": {},
   "source": [
    ""
   ]
  },
  {
   "cell_type": "markdown",
   "metadata": {},
   "source": [
    "The last 3 pairs of sections (PRAG DECL 1-2, 3-4, and 5-6) show cases where  directive ordering does not matter for `declare` `simd` directives."
   ]
  },
  {
   "cell_type": "markdown",
   "metadata": {},
   "source": [
    "In section PRAG DECL 1-2, the two loops use different SIMD forms of the  _P_  function (one with `simdlen(4)` and the other with `simdlen(8)`),  as prescribed by the two different `declare` `simd` directives applied to the  _P_  function definitions (at the beginning of the code).  The directives use the pragma syntax, and order is not important.  For the next set of loops  (PRAG DECL 3-4) that use the  _Q_  function, the attribute syntax is  used for the `declare` `simd` directives.  The result is compliant code since directive order is irrelevant. Sections ATTR DECL 5-6 are included for completeness. Here, the attribute  form of the `simd` directive is used for loops calling the  _Q_  function,  in combination with the attribute form of the `declare` `simd`  directives declaring the variants for  _Q_ ."
   ]
  },
  {
   "cell_type": "markdown",
   "metadata": {},
   "source": [
    ""
   ]
  },
  {
   "cell_type": "code",
   "execution_count": null,
   "metadata": {},
   "outputs": [],
   "source": [
    "//%compiler: clang\n",
 "//%cflags: -fopenmp\n",
 "\n",
    "/*\n",
    "* name:       directive_syntax_attribute.1\n",
    "* type:       C++\n",
    "* version:    omp_5.0\n",
    "*/\n",
    "#include <stdio.h>\n",
    "#include <omp.h>\n",
    "#define NT 4\n",
    "#define thrd_no omp_get_thread_num\n",
    "\n",
    "#pragma omp declare simd linear(i) simdlen(4)\n",
    "#pragma omp declare simd linear(i) simdlen(8)\n",
    "double P(int i){ return (double)i * (double)i; }\n",
    "\n",
    "[[omp::directive(declare simd linear(i) simdlen(4))]]\n",
    "[[omp::directive(declare simd linear(i) simdlen(8))]]\n",
    "double Q(int i){ return (double)i * (double)i; }\n",
    "\n",
    "int main() {\n",
    "\n",
    "    #pragma omp parallel for num_threads(NT)                 // PRAG 1\n",
    "    for(int i=0; i<NT; i++) printf(\"thrd no %d\\n\",thrd_no());\n",
    "\n",
    "    #pragma omp parallel num_threads(NT)                     // PRAG 2\n",
    "    #pragma omp for                                          // PRAG 3\n",
    "    for(int i=0; i<NT; i++) printf(\"thrd no %d\\n\",thrd_no());\n",
    "\n",
    "                                                             // ATTR 1\n",
    "    [[omp::directive( parallel for num_threads(NT))]]\n",
    "    for(int i=0; i<NT; i++) printf(\"thrd no %d\\n\",thrd_no());\n",
    "\n",
    "                                                             // ATTR 2\n",
    "    [[using omp : directive( parallel for num_threads(NT))]]\n",
    "    for(int i=0; i<NT; i++) printf(\"thrd no %d\\n\",thrd_no());\n",
    "\n",
    " // INVALID-- attribute and non-attribute on same statement\n",
    " // [[ omp :: directive( parallel num_threads(NT) ) ]]          ATTR 3\n",
    " // #pragma omp for                                             PRAG 4\n",
    " // for(int i=0; i<NT; i++) printf(\"thrd no %d\\n\",thrd_no());\n",
    "\n",
    "\n",
    " // INVALID-- directive order not guaranteed\n",
    " // [[ omp :: directive( parallel num_threads(NT) ) ]]          ATTR 4\n",
    " // [[ omp :: directive( for                      ) ]]          ATTR 5\n",
    " // for(int i=0; i<NT; i++) printf(\"thrd no %d\\n\",thrd_no());\n",
    "\n",
    "                                                             // ATTR 6\n",
    "    [[omp::sequence(directive(parallel num_threads(NT)),directive(for))]]\n",
    "    for(int i=0; i<NT; i++) printf(\"thrd no %d\\n\",thrd_no());\n",
    "\n",
    "    double tmp=0.0f;\n",
    "    #pragma omp simd reduction(+:tmp) simdlen(4)\n",
    "    for(int i=0;i<100;i++) tmp += P(i);                 // PRAG DECL 1\n",
    "    #pragma omp simd reduction(+:tmp) simdlen(8)\n",
    "    for(int i=0;i<100;i++) tmp += P(i);                 // PRAG DECL 2\n",
    "    printf(\"%f\\n\",tmp);\n",
    "\n",
    "    tmp=0.0f;\n",
    "    #pragma omp simd reduction(+:tmp) simdlen(4)\n",
    "    for(int i=0;i<100;i++) tmp += Q(i);                 // ATTR DECL 3\n",
    "    #pragma omp simd reduction(+:tmp) simdlen(8)\n",
    "    for(int i=0;i<100;i++) tmp += Q(i);                 // ATTR DECL 4\n",
    "    printf(\"%f\\n\",tmp);\n",
    "\n",
    "    tmp=0.0f;\n",
    "    [[ omp :: directive(simd reduction(+:tmp) simdlen(4))]]\n",
    "    for(int i=0;i<100;i++) tmp += Q(i);                 // ATTR DECL 5\n",
    "    [[ omp :: directive(simd reduction(+:tmp) simdlen(8))]]\n",
    "    for(int i=0;i<100;i++) tmp += Q(i);                 // ATTR DECL 6\n",
    "    printf(\"%f\\n\",tmp);\n",
    "}\n",
    "//    repeated 5 times, any order:\n",
    "//    OUTPUT: thrd no  0\n",
    "//    OUTPUT: thrd no  1\n",
    "//    OUTPUT: thrd no  2\n",
    "//    OUTPUT: thrd no  3\n",
    "\n",
    "//    repeated 3 time:\n",
    "//    OUTPUT: 656700.000000\n",
    "\n",
    "\n"
   ]
  },
  {
   "cell_type": "markdown",
   "metadata": {},
   "source": [
    "../../directives/attributes.tex"
   ]
  },
  {
   "cell_type": "markdown",
   "metadata": {},
   "source": [
    ""
   ]
  },
  {
   "cell_type": "markdown",
   "metadata": {},
   "source": [
    "## Fortran Comments (Fixed Source Form)"
   ]
  },
  {
   "cell_type": "markdown",
   "metadata": {},
   "source": [
    "\index{directive syntax!fixed form, Fortran} \index{fixed form syntax, Fortran}"
   ]
  },
  {
   "cell_type": "markdown",
   "metadata": {},
   "source": [
    "OpenMP directives in Fortran codes with fixed source form are specified as comments with one of the `!$omp`, `c$omp`, and `*$omp` sentinels, followed by a directive name, and required and optional clauses.  The sentinel must begin in column 1."
   ]
  },
  {
   "cell_type": "markdown",
   "metadata": {},
   "source": [
    "In the example below the first directive (DIR 1) specifies the `parallel` `do` combined directive, with a `num_threads` clause, and a comment. The second directive (DIR 2) shows the same directive split across two lines. The next nested directives (DIR 3 and 4) show the previous combined directive as two separate directives.  Here, an `end` directive (`end` `parallel`) must be specified to demarcate the range (region) of the `parallel` directive."
   ]
  },
  {
   "cell_type": "markdown",
   "metadata": {},
   "source": [
    ""
   ]
  },
  {
   "cell_type": "code",
   "execution_count": null,
   "metadata": {},
   "outputs": [],
   "source": [
    "\n",
    "! name:       directive_syntax_F_fixed_comment.1\n",
    "! type:       F-fixed\n",
    "      program main\n",
    "      include 'omp_lib.h'\n",
    "      integer NT\n",
    "\n",
    "      NT =4\n",
    "\n",
    "c     sentinel c$omp or *$omp can also be used\n",
    "\n",
    "c$omp parallel do num_threads(NT) !comments allowed here   DIR 1\n",
    "      do i = 1,NT\n",
    "        write(*,'(\"thrd no\", i2)') omp_get_thread_num()\n",
    "      end do\n",
    "\n",
    "!$omp parallel do\n",
    "!$omp+ num_threads(NT)          !cont. w. char in col. 6   DIR 2\n",
    "      do i = 1,NT\n",
    "        write(*,'(\"thrd no\", i2)') omp_get_thread_num()\n",
    "      end do\n",
    "\n",
    "*$omp parallel num_threads(NT)  !multi-directive form      DIR 3\n",
    "*$omp do                        !                          DIR 4\n",
    "      do i = 1,NT\n",
    "         write(*,'(\"thrd no\", i2)') omp_get_thread_num()\n",
    "      end do\n",
    "*$omp end parallel\n",
    "      end\n",
    "!     repeated 3 times, any order\n",
    "!     OUTPUT: thrd no  0\n",
    "!     OUTPUT: thrd no  1\n",
    "!     OUTPUT: thrd no  2\n",
    "!     OUTPUT: thrd no  3\n",
    "\n"
   ]
  },
  {
   "cell_type": "markdown",
   "metadata": {},
   "source": [
    "../../directives/fixed_format_comments.tex"
   ]
  },
  {
   "cell_type": "markdown",
   "metadata": {},
   "source": [
    ""
   ]
  },
  {
   "cell_type": "markdown",
   "metadata": {},
   "source": [
    "## Fortran Comments (Free Source Form)"
   ]
  },
  {
   "cell_type": "markdown",
   "metadata": {},
   "source": [
    "\index{directive syntax!free form, Fortran} \index{free form syntax, Fortran}"
   ]
  },
  {
   "cell_type": "markdown",
   "metadata": {},
   "source": [
    "OpenMP directives in Fortran codes with free source form are specified as comments that use the `!$omp` sentinel, followed by the directive name, and required and optional clauses.  Lines are continued with an ending ampersand (`&`), and the continued line begins with `!$omp` or `!$omp&`. Comments may appear on the same line as the directive.  Directives are case insensitive."
   ]
  },
  {
   "cell_type": "markdown",
   "metadata": {},
   "source": [
    "In the example below the first directive (DIR 1) specifies the `parallel` `do` combined directive, with a `num_threads` clause, and a comment. The second directive (DIR 2) shows the same directive split across two lines.  The next nested directives (DIR 3 and 4) show the previous combined directive as two separate directives.  Here, an `end` directive (`end` `parallel`) must be specified to demarcate the range (region) of the `parallel` directive."
   ]
  },
  {
   "cell_type": "markdown",
   "metadata": {},
   "source": [
    ""
   ]
  },
  {
   "cell_type": "code",
   "execution_count": null,
   "metadata": {},
   "outputs": [],
   "source": [
    "\n",
    "! name:       directive_syntax_F_free_comment.1\n",
    "! type:       F-free\n",
    "  program main\n",
    "     use omp_lib\n",
    "     integer,parameter :: NT = 4\n",
    "\n",
    "     !$omp parallel do num_threads(NT)                !DIR 1\n",
    "     do i = 1,NT\n",
    "       write(*,'(\"thrd no\", i2)') omp_get_thread_num()\n",
    "     end do\n",
    "\n",
    "     !$omp  parallel do  &     !continue line         !DIR 2\n",
    "     !$omp num_threads(NT)     !or !$omp&\n",
    "     do i = 1,NT\n",
    "       write(*,'(\"thrd no\", i2)') omp_get_thread_num()\n",
    "     end do\n",
    "\n",
    "     !$omp parallel num_threads(NT)                   !DIR 3\n",
    "     !$omp do                                         !DIR 4\n",
    "     do i = 1,NT\n",
    "        write(*,'(\"thrd no\", i2)') omp_get_thread_num()\n",
    "     end do\n",
    "     !$omp end parallel\n",
    "\n",
    "  end program\n",
    "\n",
    "!     repeated 3 times, any order\n",
    "!     OUTPUT: thrd no  0\n",
    "!     OUTPUT: thrd no  1\n",
    "!     OUTPUT: thrd no  2\n",
    "!     OUTPUT: thrd no  3\n",
    "\n"
   ]
  },
  {
   "cell_type": "markdown",
   "metadata": {},
   "source": [
    ""
   ]
  },
  {
   "cell_type": "markdown",
   "metadata": {},
   "source": [
    "As of OpenMP 5.1, `block` and `end` `block` statements can be used to designate  a structured block for an OpenMP region, and any paired OpenMP `end` directive becomes optional, as shown in the next example.  Note, the variables  _i_  and  _thrd_no_  are declared within the  block structure and are hence private. It was necessary to explicitly declare the  _i_  variable, due to the `implicit none` statement;  it could have also been declared outside the structured block."
   ]
  },
  {
   "cell_type": "markdown",
   "metadata": {},
   "source": [
    ""
   ]
  },
  {
   "cell_type": "code",
   "execution_count": null,
   "metadata": {},
   "outputs": [],
   "source": [
    "\n",
    "! name:       directive_syntax_F_block.1\n",
    "! type:       F-free\n",
    "! version:    omp_5.1\n",
    "  program main\n",
    "\n",
    "     use omp_lib\n",
    "     implicit none\n",
    "     integer,parameter :: NT = 2, chunks=3\n",
    "\n",
    "    !$omp parallel num_threads(NT)\n",
    "     block                          ! Fortran 2008 OMP 5.1\n",
    "       integer :: thrd_no,i\n",
    "       thrd_no= omp_get_thread_num()\n",
    "        !$omp do schedule(static,chunks)\n",
    "        do i = 1,NT*chunks\n",
    "           write(*,'(\"ndx=\",i0.2,\" thrd_no=\", i0.2)') i,thrd_no\n",
    "        end do\n",
    "     end block\n",
    "  end program\n",
    "\n",
    "! any order\n",
    "! OUTPUT: ndx=01 thrd_no=00\n",
    "! OUTPUT: ndx=02 thrd_no=00\n",
    "! OUTPUT: ndx=03 thrd_no=00\n",
    "! OUTPUT: ndx=04 thrd_no=01\n",
    "! OUTPUT: ndx=05 thrd_no=01\n",
    "! OUTPUT: ndx=06 thrd_no=01\n",
    "\n"
   ]
  },
  {
   "cell_type": "markdown",
   "metadata": {},
   "source": [
    ""
   ]
  },
  {
   "cell_type": "markdown",
   "metadata": {},
   "source": [
    "A Fortran BLOCK construct may eliminate the need for a paired \scode{end} directive for an OpenMP construct,  as illustrated in the following example."
   ]
  },
  {
   "cell_type": "markdown",
   "metadata": {},
   "source": [
    "The first `parallel` construct is specified with an OpenMP loosely structured block  (where the first executable construct is not a Fortran 2008 BLOCK construct).  A paired \scode{end} directive must end the OpenMP construct. The second `parallel` construct is specified with an OpenMP strictly structured block  (consists only of a single Fortran BLOCK construct).  The paired \scode{end} directive is optional in this case, and is not used here."
   ]
  },
  {
   "cell_type": "markdown",
   "metadata": {},
   "source": [
    "The next two `parallel` directives form an enclosing outer `parallel` construct  and a nested inner `parallel` construct. The first `end` `parallel` directive that subsequently appears terminates the inner `parallel` construct,  because a paired \scode{end} directive immediately following a BLOCK construct that is  a strictly structured block of an OpenMP construct is treated as the terminating end directive  of that construct.  The next `end` `parallel` directive is required to terminate the outer `parallel` construct."
   ]
  },
  {
   "cell_type": "markdown",
   "metadata": {},
   "source": [
    ""
   ]
  },
  {
   "cell_type": "code",
   "execution_count": null,
   "metadata": {},
   "outputs": [],
   "source": [
    "\n",
    "! name:       directive_syntax_F_block.2\n",
    "! type:       F-free\n",
    "! version:    omp_5.1\n",
    "program main\n",
    "\n",
    "   use omp_lib\n",
    "   implicit none\n",
    "\n",
    "  !$omp parallel num_threads(2)\n",
    "     if( omp_get_thread_num() == 0 ) &\n",
    "         print*, \"Loosely  structured block  -- end required.\"\n",
    "     block                                ! BLOCK Fortran 2008\n",
    "       if( omp_get_thread_num() == 0 ) &\n",
    "           print*, \"                           --\"\n",
    "     end block\n",
    "  !$omp end parallel\n",
    "\n",
    "  !$omp parallel num_threads(2)\n",
    "     block\n",
    "       if( omp_get_thread_num() == 0 ) &\n",
    "           print*, \"Strictly structured block  -- end not required.\"\n",
    "     end block\n",
    " !!$omp end parallel !is optional for strictly structured block\n",
    "\n",
    "  print*, \"Sequential part\"\n",
    "\n",
    "  !$omp parallel num_threads(2)                      !outer parallel\n",
    "     if( omp_get_thread_num() == 0 ) &\n",
    "         print*, \"Outer, loosely  structured block.\"\n",
    "     !$omp parallel num_threads(2)                   !inner parallel\n",
    "        block\n",
    "          if( omp_get_thread_num() == 0 ) &\n",
    "          print*, \"Inner, strictly structured block.\"\n",
    "        end block\n",
    "     !$omp end parallel\n",
    "  !$omp end parallel\n",
    "  ! Two end directives are required here.\n",
    "  ! A single \"!$omp end parallel\" terminator will fail.\n",
    "  ! 1st end directive is assumed to be for inner parallel construct.\n",
    "  ! 2nd end directive applies to outer parallel construct.\n",
    "\n",
    "end program\n",
    "\n",
    "!OUTPUT, in order:\n",
    "! Loosely  structured block  -- end required.\n",
    "!                            --\n",
    "! Strictly structured block  -- end not required.\n",
    "! Sequential part\n",
    "! Outer, loosely  structured block.\n",
    "! Inner, strictly structured block.\n",
    "! Inner, strictly structured block.\n",
    "\n"
   ]
  },
  {
   "cell_type": "markdown",
   "metadata": {},
   "source": [
    "../../directives/free_format_comments.tex"
   ]
  },
  {
   "cell_type": "markdown",
   "metadata": {},
   "source": [
    ""
   ]
  },
  {
   "cell_type": "markdown",
   "metadata": {},
   "source": [
    ""
   ]
  }
 ],
 "metadata": {
  "kernelspec": {
   "display_name": "Native",
   "language": "native",
   "name": "native"
  },
  "language_info": {
   "file_extension": ".c",
   "mimetype": "text/plain",
   "name": "none"
  }
 },
 "nbformat": 4,
 "nbformat_minor": 2
}