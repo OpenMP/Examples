{
 "cells": [
  {
   "cell_type": "markdown",
   "metadata": {},
   "source": [
    ""
   ]
  },
  {
   "cell_type": "markdown",
   "metadata": {},
   "source": [
    "## `simd` and `declare` `simd` Constructs"
   ]
  },
  {
   "cell_type": "markdown",
   "metadata": {},
   "source": [
    ""
   ]
  },
  {
   "cell_type": "markdown",
   "metadata": {},
   "source": [
    "The following example illustrates the basic use of the `simd` construct  to assure the compiler that the loop can be vectorized."
   ]
  },
  {
   "cell_type": "markdown",
   "metadata": {},
   "source": [
    ""
   ]
  },
  {
   "cell_type": "code",
   "execution_count": null,
   "metadata": {},
   "outputs": [],
   "source": [
    "//%compiler: clang\n",
 "//%cflags: -fopenmp\n",
 "\n",
    "/*\n",
    "* name: SIMD.1c\n",
    "* type: C\n",
    "* version: omp_4.0\n",
    "*/\n",
    "void star( double *a, double *b, double *c, int n, int *ioff )\n",
    "{\n",
    "   int i;\n",
    "   #pragma omp simd\n",
    "   for ( i = 0; i < n; i++ )\n",
    "      a[i] *= b[i] * c[i+ *ioff];\n",
    "}\n",
    "\n"
   ]
  },
  {
   "cell_type": "markdown",
   "metadata": {},
   "source": [
    ""
   ]
  },
  {
   "cell_type": "markdown",
   "metadata": {},
   "source": [
    ""
   ]
  },
  {
   "cell_type": "code",
   "execution_count": null,
   "metadata": {},
   "outputs": [],
   "source": [
    "\n",
    "! name: SIMD.1f\n",
    "! type: F-free\n",
    "! version: omp_4.0\n",
    "subroutine star(a,b,c,n,ioff_ptr)\n",
    "   implicit none\n",
    "   double precision :: a(*),b(*),c(*)\n",
    "   integer          :: n, i\n",
    "   integer, pointer :: ioff_ptr\n",
    "\n",
    "   !$omp simd\n",
    "   do i = 1,n\n",
    "      a(i) = a(i) * b(i) * c(i+ioff_ptr)\n",
    "   end do\n",
    "\n",
    "end subroutine\n",
    "\n"
   ]
  },
  {
   "cell_type": "markdown",
   "metadata": {},
   "source": [
    ""
   ]
  },
  {
   "cell_type": "markdown",
   "metadata": {},
   "source": [
    ""
   ]
  },
  {
   "cell_type": "markdown",
   "metadata": {},
   "source": [
    ""
   ]
  },
  {
   "cell_type": "markdown",
   "metadata": {},
   "source": [
    "When a function can be inlined within a loop the compiler has an opportunity to  vectorize the loop. By guaranteeing SIMD behavior of a function's operations,  characterizing the arguments of the function and privatizing temporary  variables of the loop, the compiler can often create faster, vector code for  the loop. In the examples below the `declare` `simd` construct is  used on the  _add1_  and  _add2_  functions to enable creation of their  corresponding SIMD function versions for execution within the associated SIMD  loop. The functions characterize two different approaches of accessing data  within the function: by a single variable and as an element in a data array,  respectively. The  _add3_  C function uses dereferencing."
   ]
  },
  {
   "cell_type": "markdown",
   "metadata": {},
   "source": [
    "The `declare` `simd` constructs also illustrate the use of  `uniform` and `linear` clauses.  The `uniform(fact)` clause  indicates that the variable  _fact_  is invariant across the SIMD lanes. In  the  _add2_  function  _a_  and  _b_  are included in the `uniform`  list because the C pointer and the Fortran array references are constant.  The   _i_  index used in the  _add2_  function is included in a `linear`  clause with a constant-linear-step of 1, to guarantee a unity increment of the  associated loop. In the `declare` `simd` construct for the  _add3_   C function the  `linear(a,b:1)` clause instructs the compiler to generate  unit-stride loads across the SIMD lanes; otherwise,  costly **gather**  instructions would be generated for the unknown sequence of access of the  pointer dereferences."
   ]
  },
  {
   "cell_type": "markdown",
   "metadata": {},
   "source": [
    "In the `simd` constructs for the loops the `private(tmp)` clause is  necessary to assure that the each vector operation has its own  _tmp_   variable."
   ]
  },
  {
   "cell_type": "markdown",
   "metadata": {},
   "source": [
    ""
   ]
  },
  {
   "cell_type": "code",
   "execution_count": null,
   "metadata": {},
   "outputs": [],
   "source": [
    "//%compiler: clang\n",
 "//%cflags: -fopenmp\n",
 "\n",
    "/*\n",
    "* name: SIMD.2c\n",
    "* type: C\n",
    "* version: omp_4.0\n",
    "*/\n",
    "#include <stdio.h>\n",
    "\n",
    "#pragma omp declare simd uniform(fact)\n",
    "double add1(double a, double b, double fact)\n",
    "{\n",
    "   double c;\n",
    "   c = a + b + fact;\n",
    "   return c;\n",
    "}\n",
    "\n",
    "#pragma omp declare simd uniform(a,b,fact) linear(i:1)\n",
    "double add2(double *a, double *b, int i, double fact)\n",
    "{\n",
    "   double c;\n",
    "   c = a[i] + b[i] + fact;\n",
    "   return c;\n",
    "}\n",
    "\n",
    "#pragma omp declare simd uniform(fact) linear(a,b:1)\n",
    "double add3(double *a, double *b, double fact)\n",
    "{\n",
    "   double c;\n",
    "   c = *a + *b + fact;\n",
    "   return c;\n",
    "}\n",
    "\n",
    "void work( double *a, double *b, int n )\n",
    "{\n",
    "   int i;\n",
    "   double tmp;\n",
    "   #pragma omp simd private(tmp)\n",
    "   for ( i = 0; i < n; i++ ) {\n",
    "      tmp  = add1( a[i],  b[i], 1.0);\n",
    "      a[i] = add2( a,     b, i, 1.0) + tmp;\n",
    "      a[i] = add3(&a[i], &b[i], 1.0);\n",
    "   }\n",
    "}\n",
    "\n",
    "int main(){\n",
    "   int i;\n",
    "   const int N=32;\n",
    "   double a[N], b[N];\n",
    "\n",
    "   for ( i=0; i<N; i++ ) {\n",
    "      a[i] = i; b[i] = N-i;\n",
    "   }\n",
    "\n",
    "   work(a, b, N );\n",
    "\n",
    "   for ( i=0; i<N; i++ ) {\n",
    "      printf(\"%d %f\\n\", i, a[i]);\n",
    "   }\n",
    "\n",
    "   return 0;\n",
    "}\n",
    "\n"
   ]
  },
  {
   "cell_type": "markdown",
   "metadata": {},
   "source": [
    ""
   ]
  },
  {
   "cell_type": "markdown",
   "metadata": {},
   "source": [
    ""
   ]
  },
  {
   "cell_type": "code",
   "execution_count": null,
   "metadata": {},
   "outputs": [],
   "source": [
    "\n",
    "! name: SIMD.2f\n",
    "! type: F-free\n",
    "! version: omp_4.0\n",
    "program main\n",
    "   implicit none\n",
    "   integer, parameter :: N=32\n",
    "   integer :: i\n",
    "   double precision   :: a(N), b(N)\n",
    "   do i = 1,N\n",
    "      a(i) = i-1\n",
    "      b(i) = N-(i-1)\n",
    "   end do\n",
    "   call work(a, b, N )\n",
    "   do i = 1,N\n",
    "      print*, i,a(i)\n",
    "   end do\n",
    "end program\n",
    "\n",
    "function add1(a,b,fact) result(c)\n",
    "   implicit none\n",
    "!$omp declare simd(add1) uniform(fact)\n",
    "   double precision :: a,b,fact, c\n",
    "   c = a + b + fact\n",
    "end function\n",
    "\n",
    "function add2(a,b,i, fact) result(c)\n",
    "   implicit none\n",
    "!$omp declare simd(add2) uniform(a,b,fact) linear(i:1)\n",
    "   integer          :: i\n",
    "   double precision :: a(*),b(*),fact, c\n",
    "   c = a(i) + b(i) + fact\n",
    "end function\n",
    "\n",
    "subroutine work(a, b, n )\n",
    "   implicit none\n",
    "   double precision           :: a(n),b(n), tmp\n",
    "   integer                    :: n, i\n",
    "   double precision, external :: add1, add2\n",
    "\n",
    "   !$omp simd private(tmp)\n",
    "   do i = 1,n\n",
    "      tmp  = add1(a(i), b(i), 1.0d0)\n",
    "      a(i) = add2(a,    b, i, 1.0d0) + tmp\n",
    "      a(i) = a(i) + b(i) + 1.0d0\n",
    "   end do\n",
    "end subroutine\n",
    "\n"
   ]
  },
  {
   "cell_type": "markdown",
   "metadata": {},
   "source": [
    ""
   ]
  },
  {
   "cell_type": "markdown",
   "metadata": {},
   "source": [
    "A thread that encounters a SIMD construct executes a vectorized code of the  iterations. Similar to the concerns of a worksharing loop a loop vectorized  with a SIMD construct must assure that temporary and reduction variables are  privatized and declared as reductions with clauses.  The example below  illustrates the use of `private` and `reduction` clauses in a SIMD  construct."
   ]
  },
  {
   "cell_type": "markdown",
   "metadata": {},
   "source": [
    ""
   ]
  },
  {
   "cell_type": "code",
   "execution_count": null,
   "metadata": {},
   "outputs": [],
   "source": [
    "//%compiler: clang\n",
 "//%cflags: -fopenmp\n",
 "\n",
    "/*\n",
    "* name: SIMD.3c\n",
    "* type: C\n",
    "* version: omp_4.0\n",
    "*/\n",
    "double work( double *a, double *b, int n )\n",
    "{\n",
    "   int i;\n",
    "   double tmp, sum;\n",
    "   sum = 0.0;\n",
    "   #pragma omp simd private(tmp) reduction(+:sum)\n",
    "   for (i = 0; i < n; i++) {\n",
    "      tmp = a[i] + b[i];\n",
    "      sum += tmp;\n",
    "   }\n",
    "   return sum;\n",
    "}\n",
    "\n"
   ]
  },
  {
   "cell_type": "markdown",
   "metadata": {},
   "source": [
    ""
   ]
  },
  {
   "cell_type": "markdown",
   "metadata": {},
   "source": [
    ""
   ]
  },
  {
   "cell_type": "code",
   "execution_count": null,
   "metadata": {},
   "outputs": [],
   "source": [
    "\n",
    "! name: SIMD.3f\n",
    "! type: F-free\n",
    "! version: omp_4.0\n",
    "subroutine work( a, b, n, sum )\n",
    "   implicit none\n",
    "   integer :: i, n\n",
    "   double precision :: a(n), b(n), sum, tmp\n",
    "\n",
    "   sum = 0.0d0\n",
    "   !$omp simd private(tmp) reduction(+:sum)\n",
    "   do i = 1,n\n",
    "      tmp = a(i) + b(i)\n",
    "      sum = sum + tmp\n",
    "   end do\n",
    "\n",
    "end subroutine work\n",
    "\n"
   ]
  },
  {
   "cell_type": "markdown",
   "metadata": {},
   "source": [
    ""
   ]
  },
  {
   "cell_type": "markdown",
   "metadata": {},
   "source": [
    ""
   ]
  },
  {
   "cell_type": "markdown",
   "metadata": {},
   "source": [
    "A `safelen(N)` clause in a `simd` construct assures the compiler that  there are no loop-carried dependencies for vectors of size  _N_  or below. If  the `safelen` clause is not specified, then the default safelen value is  the number of loop iterations."
   ]
  },
  {
   "cell_type": "markdown",
   "metadata": {},
   "source": [
    "The `safelen(16)` clause in the example below guarantees that the vector  code is safe for vectors up to and including size 16.  In the loop,  _m_  can  be 16 or greater, for correct code execution.  If the value of  _m_  is less  than 16, the behavior is undefined."
   ]
  },
  {
   "cell_type": "markdown",
   "metadata": {},
   "source": [
    ""
   ]
  },
  {
   "cell_type": "code",
   "execution_count": null,
   "metadata": {},
   "outputs": [],
   "source": [
    "//%compiler: clang\n",
 "//%cflags: -fopenmp\n",
 "\n",
    "/*\n",
    "* name: SIMD.4c\n",
    "* type: C\n",
    "* version: omp_4.0\n",
    "*/\n",
    "void work( float *b, int n, int m )\n",
    "{\n",
    "   int i;\n",
    "   #pragma omp simd safelen(16)\n",
    "   for (i = m; i < n; i++)\n",
    "      b[i] = b[i-m] - 1.0f;\n",
    "}\n",
    "\n"
   ]
  },
  {
   "cell_type": "markdown",
   "metadata": {},
   "source": [
    ""
   ]
  },
  {
   "cell_type": "markdown",
   "metadata": {},
   "source": [
    ""
   ]
  },
  {
   "cell_type": "code",
   "execution_count": null,
   "metadata": {},
   "outputs": [],
   "source": [
    "\n",
    "! name: SIMD.4f\n",
    "! type: F-free\n",
    "! version: omp_4.0\n",
    "subroutine work( b, n, m )\n",
    "   implicit none\n",
    "   real       :: b(n)\n",
    "   integer    :: i,n,m\n",
    "\n",
    "   !$omp simd safelen(16)\n",
    "   do i = m+1, n\n",
    "      b(i) = b(i-m) - 1.0\n",
    "   end do\n",
    "end subroutine work\n",
    "\n"
   ]
  },
  {
   "cell_type": "markdown",
   "metadata": {},
   "source": [
    ""
   ]
  },
  {
   "cell_type": "markdown",
   "metadata": {},
   "source": [
    "The following SIMD construct instructs the compiler to collapse the  _i_  and   _j_  loops into a single SIMD loop in which SIMD chunks are executed by  threads of the team. Within the workshared loop chunks of a thread, the SIMD  chunks are executed in the lanes of the vector units."
   ]
  },
  {
   "cell_type": "markdown",
   "metadata": {},
   "source": [
    ""
   ]
  },
  {
   "cell_type": "code",
   "execution_count": null,
   "metadata": {},
   "outputs": [],
   "source": [
    "//%compiler: clang\n",
 "//%cflags: -fopenmp\n",
 "\n",
    "/*\n",
    "* name: SIMD.5c\n",
    "* type: C\n",
    "* version: omp_4.0\n",
    "*/\n",
    "void work( double **a, double **b, double **c, int n )\n",
    "{\n",
    "   int i, j;\n",
    "   double tmp;\n",
    "   #pragma omp for simd collapse(2) private(tmp)\n",
    "   for (i = 0; i < n; i++) {\n",
    "      for (j = 0; j < n; j++) {\n",
    "         tmp = a[i][j] + b[i][j];\n",
    "         c[i][j] = tmp;\n",
    "      }\n",
    "   }\n",
    "}\n",
    "\n"
   ]
  },
  {
   "cell_type": "markdown",
   "metadata": {},
   "source": [
    ""
   ]
  },
  {
   "cell_type": "markdown",
   "metadata": {},
   "source": [
    ""
   ]
  },
  {
   "cell_type": "code",
   "execution_count": null,
   "metadata": {},
   "outputs": [],
   "source": [
    "\n",
    "! name: SIMD.5f\n",
    "! type: F-free\n",
    "! version: omp_4.0\n",
    "subroutine work( a, b, c,  n )\n",
    "   implicit none\n",
    "   integer :: i,j,n\n",
    "   double precision :: a(n,n), b(n,n), c(n,n), tmp\n",
    "\n",
    "   !$omp do simd collapse(2) private(tmp)\n",
    "   do j = 1,n\n",
    "      do i = 1,n\n",
    "         tmp = a(i,j) + b(i,j)\n",
    "         c(i,j) = tmp\n",
    "      end do\n",
    "   end do\n",
    "\n",
    "end subroutine work\n",
    "\n"
   ]
  },
  {
   "cell_type": "markdown",
   "metadata": {},
   "source": [
    ""
   ]
  },
  {
   "cell_type": "markdown",
   "metadata": {},
   "source": [
    ""
   ]
  },
  {
   "cell_type": "markdown",
   "metadata": {},
   "source": [
    ""
   ]
  },
  {
   "cell_type": "markdown",
   "metadata": {},
   "source": [
    "## `inbranch` and `notinbranch` Clauses"
   ]
  },
  {
   "cell_type": "markdown",
   "metadata": {},
   "source": [
    ""
   ]
  },
  {
   "cell_type": "markdown",
   "metadata": {},
   "source": [
    "The following examples illustrate the use of the `declare` `simd`  construct with the `inbranch` and `notinbranch` clauses. The  `notinbranch` clause informs the compiler that the function  _foo_  is  never called conditionally in the SIMD loop of the function  _myaddint_ . On  the other hand, the `inbranch` clause for the function goo indicates that  the function is always called conditionally in the SIMD loop inside  the function  _myaddfloat_ ."
   ]
  },
  {
   "cell_type": "markdown",
   "metadata": {},
   "source": [
    ""
   ]
  },
  {
   "cell_type": "code",
   "execution_count": null,
   "metadata": {},
   "outputs": [],
   "source": [
    "//%compiler: clang\n",
 "//%cflags: -fopenmp\n",
 "\n",
    "/*\n",
    "* name: SIMD.6c\n",
    "* type: C\n",
    "* version: omp_4.0\n",
    "*/\n",
    "#pragma omp declare simd linear(p:1) notinbranch\n",
    "int foo(int *p){\n",
    "  *p = *p + 10;\n",
    "  return *p;\n",
    "}\n",
    "\n",
    "int myaddint(int *a, int *b, int n)\n",
    "{\n",
    "#pragma omp simd\n",
    "  for (int i=0; i<n; i++){\n",
    "      a[i]  = foo(&b[i]);  /* foo is not called under a condition */\n",
    "  }\n",
    "  return a[n-1];\n",
    "}\n",
    "\n",
    "#pragma omp declare simd linear(p:1) inbranch\n",
    "float goo(float *p){\n",
    "  *p = *p + 18.5f;\n",
    "  return *p;\n",
    "}\n",
    "\n",
    "int myaddfloat(float *x, float *y, int n)\n",
    "{\n",
    "#pragma omp simd\n",
    "  for (int i=0; i<n; i++){\n",
    "     x[i] = (x[i] > y[i]) ? goo(&y[i]) : y[i];\n",
    "       /* goo is called under the condition (or within a branch) */\n",
    "  }\n",
    "  return x[n-1];\n",
    "}\n",
    "\n"
   ]
  },
  {
   "cell_type": "markdown",
   "metadata": {},
   "source": [
    ""
   ]
  },
  {
   "cell_type": "markdown",
   "metadata": {},
   "source": [
    ""
   ]
  },
  {
   "cell_type": "code",
   "execution_count": null,
   "metadata": {},
   "outputs": [],
   "source": [
    "\n",
    "! name: SIMD.6f\n",
    "! type: F-free\n",
    "! version: omp_4.0\n",
    "function foo(p) result(r)\n",
    "  implicit none\n",
    "!$omp declare simd(foo) notinbranch\n",
    "  integer :: p, r\n",
    "  p = p + 10\n",
    "  r = p\n",
    "end function foo\n",
    "\n",
    "function myaddint(a, b,  n) result(r)\n",
    "  implicit none\n",
    "  integer :: a(*), b(*), n, r\n",
    "  integer :: i\n",
    "  integer, external :: foo\n",
    "\n",
    "  !$omp simd\n",
    "  do i=1, n\n",
    "      a(i) = foo(b(i))  ! foo is not called under a condition\n",
    "  end do\n",
    "  r = a(n)\n",
    "\n",
    "end function myaddint\n",
    "\n",
    "function goo(p) result(r)\n",
    "  implicit none\n",
    "!$omp declare simd(goo) inbranch\n",
    "  real :: p, r\n",
    "  p = p + 18.5\n",
    "  r = p\n",
    "end function goo\n",
    "\n",
    "function myaddfloat(x, y, n) result(r)\n",
    "  implicit none\n",
    "  real :: x(*), y(*), r\n",
    "  integer :: n\n",
    "  integer :: i\n",
    "  real, external :: goo\n",
    "\n",
    "  !$omp simd\n",
    "  do i=1, n\n",
    "     if (x(i) > y(i)) then\n",
    "        x(i) = goo(y(i))\n",
    "        ! goo is called under the condition (or within a branch)\n",
    "     else\n",
    "        x(i) = y(i)\n",
    "     endif\n",
    "  end do\n",
    "\n",
    "  r = x(n)\n",
    "end function myaddfloat\n",
    "\n"
   ]
  },
  {
   "cell_type": "markdown",
   "metadata": {},
   "source": [
    ""
   ]
  },
  {
   "cell_type": "markdown",
   "metadata": {},
   "source": [
    ""
   ]
  },
  {
   "cell_type": "markdown",
   "metadata": {},
   "source": [
    "In the code below, the function  _fib()_  is called in the main program and  also recursively called in the function  _fib()_  within an `if`  condition. The compiler creates a masked vector version and a non-masked vector  version for the function  _fib()_  while retaining the original scalar  version of the  _fib()_  function."
   ]
  },
  {
   "cell_type": "markdown",
   "metadata": {},
   "source": [
    ""
   ]
  },
  {
   "cell_type": "code",
   "execution_count": null,
   "metadata": {},
   "outputs": [],
   "source": [
    "//%compiler: clang\n",
 "//%cflags: -fopenmp\n",
 "\n",
    "/*\n",
    "* name: SIMD.7c\n",
    "* type: C\n",
    "* version: omp_4.0\n",
    "*/\n",
    "#include <stdio.h>\n",
    "#include <stdlib.h>\n",
    "\n",
    "#define N 45\n",
    "int a[N], b[N], c[N];\n",
    "\n",
    "#pragma omp declare simd inbranch\n",
    "int fib( int n )\n",
    "{\n",
    "   if (n <= 1)\n",
    "      return n;\n",
    "   else {\n",
    "      return fib(n-1) + fib(n-2);\n",
    "   }\n",
    "}\n",
    "\n",
    "int main(void)\n",
    "{\n",
    "   int i;\n",
    "\n",
    "   #pragma omp simd\n",
    "   for (i=0; i < N; i++) b[i] = i;\n",
    "\n",
    "   #pragma omp simd\n",
    "   for (i=0; i < N; i++) {\n",
    "      a[i] = fib(b[i]);\n",
    "   }\n",
    "   printf(\"Done a[%d] = %d\\n\", N-1, a[N-1]);\n",
    "   return 0;\n",
    "}\n",
    "\n"
   ]
  },
  {
   "cell_type": "markdown",
   "metadata": {},
   "source": [
    ""
   ]
  },
  {
   "cell_type": "markdown",
   "metadata": {},
   "source": [
    ""
   ]
  },
  {
   "cell_type": "code",
   "execution_count": null,
   "metadata": {},
   "outputs": [],
   "source": [
    "\n",
    "! name: SIMD.7f\n",
    "! type: F-free\n",
    "! version: omp_4.0\n",
    "program fibonacci\n",
    "   implicit none\n",
    "   integer,parameter :: N=45\n",
    "   integer           :: a(0:N-1), b(0:N-1)\n",
    "   integer           :: i\n",
    "   integer, external :: fib\n",
    "\n",
    "   !$omp simd\n",
    "   do i = 0,N-1\n",
    "      b(i) = i\n",
    "   end do\n",
    "\n",
    "   !$omp simd\n",
    "   do i=0,N-1\n",
    "      a(i) = fib(b(i))\n",
    "   end do\n",
    "\n",
    "   write(*,*) \"Done a(\", N-1, \") = \", a(N-1)\n",
    "                        ! 44  701408733\n",
    "end program\n",
    "\n",
    "recursive function fib(n) result(r)\n",
    "   implicit none\n",
    "!$omp declare simd(fib) inbranch\n",
    "   integer  :: n, r\n",
    "\n",
    "   if (n <= 1) then\n",
    "      r = n\n",
    "   else\n",
    "      r = fib(n-1) + fib(n-2)\n",
    "   endif\n",
    "\n",
    "end function fib\n",
    "\n"
   ]
  },
  {
   "cell_type": "markdown",
   "metadata": {},
   "source": [
    ""
   ]
  },
  {
   "cell_type": "markdown",
   "metadata": {},
   "source": [
    ""
   ]
  },
  {
   "cell_type": "markdown",
   "metadata": {},
   "source": [
    ""
   ]
  },
  {
   "cell_type": "markdown",
   "metadata": {},
   "source": [
    ""
   ]
  },
  {
   "cell_type": "markdown",
   "metadata": {},
   "source": [
    "## Loop-Carried Lexical Forward Dependence"
   ]
  },
  {
   "cell_type": "markdown",
   "metadata": {},
   "source": [
    ""
   ]
  },
  {
   "cell_type": "markdown",
   "metadata": {},
   "source": [
    ""
   ]
  },
  {
   "cell_type": "markdown",
   "metadata": {},
   "source": [
    "The following example tests the restriction on an SIMD loop with the loop-carried lexical forward-dependence. This dependence must be preserved for the correct execution of SIMD loops."
   ]
  },
  {
   "cell_type": "markdown",
   "metadata": {},
   "source": [
    "A loop can be vectorized even though the iterations are not completely independent when it has loop-carried dependences that are forward lexical dependences, indicated in the code below by the read of  _A[j+1]_  and the write to  _A[j]_  in C/C++ code (or  _A(j+1)_  and  _A(j)_  in Fortran). That is, the read of  _A[j+1]_  (or  _A(j+1)_  in Fortran) before the write to  _A[j]_  (or  _A(j)_  in Fortran) ordering must be preserved for each iteration in  _j_  for valid SIMD code generation."
   ]
  },
  {
   "cell_type": "markdown",
   "metadata": {},
   "source": [
    "This test assures that the compiler preserves the loop carried lexical forward-dependence for generating a correct SIMD code."
   ]
  },
  {
   "cell_type": "markdown",
   "metadata": {},
   "source": [
    ""
   ]
  },
  {
   "cell_type": "code",
   "execution_count": null,
   "metadata": {},
   "outputs": [],
   "source": [
    "//%compiler: clang\n",
 "//%cflags: -fopenmp\n",
 "\n",
    "/*\n",
    "* name: SIMD.8c\n",
    "* type: C\n",
    "* version: omp_4.0\n",
    "*/\n",
    "#include <stdio.h>\n",
    "#include <math.h>\n",
    "\n",
    "int   P[1000];\n",
    "float A[1000];\n",
    "\n",
    "float do_work(float *arr)\n",
    "{\n",
    "  float pri;\n",
    "  int i;\n",
    "#pragma omp simd lastprivate(pri)\n",
    "  for (i = 0; i < 999; ++i) {\n",
    "    int j = P[i];\n",
    "\n",
    "    pri = 0.5f;\n",
    "    if (j % 2 == 0) {\n",
    "      pri = A[j+1] + arr[i];\n",
    "    }\n",
    "    A[j] = pri * 1.5f;\n",
    "    pri = pri + A[j];\n",
    "  }\n",
    "  return pri;\n",
    "}\n",
    "\n",
    "int main(void)\n",
    "{\n",
    "  float pri, arr[1000];\n",
    "  int i;\n",
    "\n",
    "  for (i = 0; i < 1000; ++i) {\n",
    "     P[i]   = i;\n",
    "     A[i]   = i * 1.5f;\n",
    "     arr[i] = i * 1.8f;\n",
    "  }\n",
    "  pri = do_work(&arr[0]);\n",
    "  if (pri == 8237.25) {\n",
    "    printf(\"passed: result pri = %7.2f (8237.25) \\n\", pri);\n",
    "  }\n",
    "  else {\n",
    "    printf(\"failed: result pri = %7.2f (8237.25) \\n\", pri);\n",
    "  }\n",
    "  return 0;\n",
    "}\n",
    "\n"
   ]
  },
  {
   "cell_type": "markdown",
   "metadata": {},
   "source": [
    ""
   ]
  },
  {
   "cell_type": "markdown",
   "metadata": {},
   "source": [
    ""
   ]
  },
  {
   "cell_type": "code",
   "execution_count": null,
   "metadata": {},
   "outputs": [],
   "source": [
    "\n",
    "! name: SIMD.8f\n",
    "! type: F-free\n",
    "! version: omp_4.0\n",
    "module work\n",
    "\n",
    "integer :: P(1000)\n",
    "real    :: A(1000)\n",
    "\n",
    "contains\n",
    "function do_work(arr) result(pri)\n",
    "  implicit none\n",
    "  real, dimension(*) :: arr\n",
    "\n",
    "  real :: pri\n",
    "  integer :: i, j\n",
    "\n",
    "  !$omp simd private(j) lastprivate(pri)\n",
    "  do i = 1, 999\n",
    "    j = P(i)\n",
    "\n",
    "    pri = 0.5\n",
    "    if (mod(j-1, 2) == 0) then\n",
    "      pri = A(j+1) + arr(i)\n",
    "    endif\n",
    "    A(j) = pri * 1.5\n",
    "    pri = pri + A(j)\n",
    "  end do\n",
    "\n",
    "end function do_work\n",
    "\n",
    "end module work\n",
    "\n",
    "program simd_8f\n",
    "  use work\n",
    "  implicit none\n",
    "  real :: pri, arr(1000)\n",
    "  integer :: i\n",
    "\n",
    "  do i = 1, 1000\n",
    "     P(i)   = i\n",
    "     A(i)   = (i-1) * 1.5\n",
    "     arr(i) = (i-1) * 1.8\n",
    "  end do\n",
    "  pri = do_work(arr)\n",
    "  if (pri == 8237.25) then\n",
    "    print 2, \"passed\", pri\n",
    "  else\n",
    "    print 2, \"failed\", pri\n",
    "  endif\n",
    "2 format(a, \": result pri = \", f7.2, \" (8237.25)\")\n",
    "\n",
    "end program\n",
    "\n"
   ]
  },
  {
   "cell_type": "markdown",
   "metadata": {},
   "source": [
    ""
   ]
  },
  {
   "cell_type": "markdown",
   "metadata": {},
   "source": [
    ""
   ]
  }
 ],
 "metadata": {
  "kernelspec": {
   "display_name": "Native",
   "language": "native",
   "name": "native"
  },
  "language_info": {
   "file_extension": ".c",
   "mimetype": "text/plain",
   "name": "none"
  }
 },
 "nbformat": 4,
 "nbformat_minor": 2
}