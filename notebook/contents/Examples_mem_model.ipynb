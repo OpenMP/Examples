{
 "cells": [
  {
   "cell_type": "markdown",
   "metadata": {},
   "source": [
    ""
   ]
  },
  {
   "cell_type": "markdown",
   "metadata": {},
   "source": [
    ""
   ]
  },
  {
   "cell_type": "markdown",
   "metadata": {},
   "source": [
    "## The OpenMP Memory Model"
   ]
  },
  {
   "cell_type": "markdown",
   "metadata": {},
   "source": [
    ""
   ]
  },
  {
   "cell_type": "markdown",
   "metadata": {},
   "source": [
    "The following examples illustrate two major concerns for concurrent thread execution: ordering of thread execution and memory accesses that may or may not lead to race conditions."
   ]
  },
  {
   "cell_type": "markdown",
   "metadata": {},
   "source": [
    "In the following example, at Print 1, the value of `xval` could be either 2 or 5, depending on the timing of the threads. The `atomic` directives are necessary for the accesses to `x` by threads 1 and 2 to avoid a data race. If the atomic write completes before the atomic read, thread 1 is guaranteed to see 5 in `xval`. Otherwise, thread 1 is guaranteed to see 2 in `xval`."
   ]
  },
  {
   "cell_type": "markdown",
   "metadata": {},
   "source": [
    "The barrier after Print 1 contains implicit flushes on all threads, as well as a thread synchronization, so the programmer is guaranteed that the value 5 will be printed by both Print 2 and Print 3. Since neither Print 2 or Print 3 are modifying `x`, they may concurrently access `x` without requiring `atomic` directives to avoid a data race."
   ]
  },
  {
   "cell_type": "markdown",
   "metadata": {},
   "source": [
    ""
   ]
  },
  {
   "cell_type": "code",
   "execution_count": null,
   "metadata": {},
   "outputs": [],
   "source": [
    "//%compiler: clang\n",
 "//%cflags: -fopenmp\n",
 "\n",
    "/*\n",
    "* name: mem_model.1c\n",
    "* type: C\n",
    "* version: omp_3.1\n",
    "*/\n",
    "#include <stdio.h>\n",
    "#include <omp.h>\n",
    "\n",
    "int main(){\n",
    "  int x;\n",
    "\n",
    "  x = 2;\n",
    "  #pragma omp parallel num_threads(2) shared(x)\n",
    "  {\n",
    "\n",
    "    if (omp_get_thread_num() == 0) {\n",
    "       #pragma omp atomic write\n",
    "       x = 5;\n",
    "    } else {\n",
    "      int xval;\n",
    "      #pragma omp atomic read\n",
    "      xval = x;\n",
    "    /* Print 1: xval can be 2 or 5 */\n",
    "      printf(\"1: Thread# %d: x = %d\\n\", omp_get_thread_num(), xval);\n",
    "    }\n",
    "\n",
    "    #pragma omp barrier\n",
    "\n",
    "    if (omp_get_thread_num() == 0) {\n",
    "    /* Print 2 */\n",
    "      printf(\"2: Thread# %d: x = %d\\n\", omp_get_thread_num(), x);\n",
    "    } else {\n",
    "    /* Print 3 */\n",
    "      printf(\"3: Thread# %d: x = %d\\n\", omp_get_thread_num(), x);\n",
    "    }\n",
    "  }\n",
    "  return 0;\n",
    "}\n",
    "\n"
   ]
  },
  {
   "cell_type": "markdown",
   "metadata": {},
   "source": [
    ""
   ]
  },
  {
   "cell_type": "markdown",
   "metadata": {},
   "source": [
    ""
   ]
  },
  {
   "cell_type": "code",
   "execution_count": null,
   "metadata": {},
   "outputs": [],
   "source": [
    "\n",
    "! name: mem_model.1f\n",
    "! type: F-free\n",
    "! version: omp_3.1\n",
    "PROGRAM MEMMODEL\n",
    "  INCLUDE \"omp_lib.h\"      ! or USE OMP_LIB\n",
    "  INTEGER X, XVAL\n",
    "\n",
    "  X = 2\n",
    "!$OMP PARALLEL NUM_THREADS(2) SHARED(X)\n",
    "\n",
    "    IF (OMP_GET_THREAD_NUM() .EQ. 0) THEN\n",
    "    !$OMP ATOMIC WRITE\n",
    "       X = 5\n",
    "    ELSE\n",
    "    !$OMP ATOMIC READ\n",
    "      XVAL = X\n",
    "    ! PRINT 1: XVAL can be 2 or 5\n",
    "      PRINT *,\"1: THREAD# \", OMP_GET_THREAD_NUM(), \"X = \", XVAL\n",
    "    ENDIF\n",
    "\n",
    " !$OMP BARRIER\n",
    "\n",
    "    IF (OMP_GET_THREAD_NUM() .EQ. 0) THEN\n",
    "    ! PRINT 2\n",
    "      PRINT *,\"2: THREAD# \", OMP_GET_THREAD_NUM(), \"X = \", X\n",
    "    ELSE\n",
    "    ! PRINT 3\n",
    "      PRINT *,\"3: THREAD# \", OMP_GET_THREAD_NUM(), \"X = \", X\n",
    "    ENDIF\n",
    "\n",
    "!$OMP END PARALLEL\n",
    "\n",
    "END PROGRAM MEMMODEL\n",
    "\n"
   ]
  },
  {
   "cell_type": "markdown",
   "metadata": {},
   "source": [
    ""
   ]
  },
  {
   "cell_type": "markdown",
   "metadata": {},
   "source": [
    "The following example demonstrates why synchronization is difficult to perform correctly through variables. The write to `flag` on thread 0 and the read from `flag` in the loop on thread 1 must be atomic to avoid a data race. When thread 1 breaks out of the loop, `flag` will have the value of 1. However, `data` will still be undefined at the first print statement. Only after the flush of both `flag` and `data` after the first print statement will `data` have the well-defined value of 42."
   ]
  },
  {
   "cell_type": "markdown",
   "metadata": {},
   "source": [
    ""
   ]
  },
  {
   "cell_type": "code",
   "execution_count": null,
   "metadata": {},
   "outputs": [],
   "source": [
    "//%compiler: clang\n",
 "//%cflags: -fopenmp\n",
 "\n",
    "/*\n",
    "* name: mem_model.2c\n",
    "* type: C\n",
    "* version: omp_3.1\n",
    "*/\n",
    "#include <omp.h>\n",
    "#include <stdio.h>\n",
    "int main()\n",
    "{\n",
    "    int data;\n",
    "    int flag=0;\n",
    "    #pragma omp parallel num_threads(2)\n",
    "    {\n",
    "      if (omp_get_thread_num()==0)\n",
    "      {\n",
    "      /* Write to the data buffer that will be\n",
    "       * read by thread */\n",
    "          data = 42;\n",
    "      /* Flush data to thread 1 and strictly order\n",
    "       * the write to data relative to the write to the flag */\n",
    "          #pragma omp flush(flag, data)\n",
    "      /* Set flag to release thread 1 */\n",
    "          #pragma omp atomic write\n",
    "          flag = 1;\n",
    "      }\n",
    "      else if(omp_get_thread_num()==1)\n",
    "      {\n",
    "      /* Loop until we see the update to the flag */\n",
    "          #pragma omp flush(flag, data)\n",
    "          int flag_val = 0;\n",
    "          while (flag_val < 1)\n",
    "          {\n",
    "             #pragma omp atomic read\n",
    "             flag_val = flag;\n",
    "          }\n",
    "      /* Value of flag is 1; value of data is undefined */\n",
    "          printf(\"flag=%d data=%d\\n\", flag, data);\n",
    "          #pragma omp flush(flag, data)\n",
    "      /* Value of flag is 1; value of data is 42 */\n",
    "          printf(\"flag=%d data=%d\\n\", flag, data);\n",
    "      }\n",
    "    }\n",
    "    return 0;\n",
    "}\n",
    "\n"
   ]
  },
  {
   "cell_type": "markdown",
   "metadata": {},
   "source": [
    ""
   ]
  },
  {
   "cell_type": "markdown",
   "metadata": {},
   "source": [
    ""
   ]
  },
  {
   "cell_type": "code",
   "execution_count": null,
   "metadata": {},
   "outputs": [],
   "source": [
    "\n",
    "! name: mem_model.2f\n",
    "! type: F-fixed\n",
    "! version: omp_3.1\n",
    "       PROGRAM EXAMPLE\n",
    "       INCLUDE \"omp_lib.h\" ! or USE OMP_LIB\n",
    "       INTEGER DATA\n",
    "       INTEGER FLAG, FLAG_VAL\n",
    "\n",
    "       FLAG = 0\n",
    "!$OMP  PARALLEL NUM_THREADS(2)\n",
    "         IF(OMP_GET_THREAD_NUM() .EQ. 0) THEN\n",
    "         ! Write to the data buffer that will be read by thread 1\n",
    "            DATA = 42\n",
    "\n",
    "         ! Flush DATA to thread 1 and strictly order the write to DATA\n",
    "         ! relative to the write to the FLAG\n",
    "!$OMP       FLUSH(FLAG, DATA)\n",
    "\n",
    "         ! Set FLAG to release thread 1\n",
    "!$OMP       ATOMIC WRITE\n",
    "            FLAG = 1\n",
    "\n",
    "         ELSE IF(OMP_GET_THREAD_NUM() .EQ. 1) THEN\n",
    "         ! Loop until we see the update to the FLAG\n",
    "!$OMP       FLUSH(FLAG, DATA)\n",
    "            FLAG_VAL = 0\n",
    "            DO WHILE(FLAG_VAL .LT. 1)\n",
    "!$OMP          ATOMIC READ\n",
    "               FLAG_VAL = FLAG\n",
    "            ENDDO\n",
    "\n",
    "         ! Value of FLAG is 1; value of DATA is undefined\n",
    "            PRINT *, 'FLAG=', FLAG, ' DATA=', DATA\n",
    "\n",
    "!$OMP       FLUSH(FLAG, DATA)\n",
    "         ! Value of FLAG is 1; value of DATA is 42\n",
    "            PRINT *, 'FLAG=', FLAG, ' DATA=', DATA\n",
    "\n",
    "         ENDIF\n",
    "!$OMP  END PARALLEL\n",
    "       END\n",
    "\n"
   ]
  },
  {
   "cell_type": "markdown",
   "metadata": {},
   "source": [
    ""
   ]
  },
  {
   "cell_type": "markdown",
   "metadata": {},
   "source": [
    "The next example demonstrates why synchronization is difficult to perform correctly through variables. As in the preceding example, the updates to `flag` and the reading of `flag` in the loops on threads 1 and 2 are performed atomically to avoid data races on `flag`. However, the code still contains data race due to the incorrect use of \"flush with a list'' after the assignment to `data1` on thread 1. By not including `flag` in the flush-set of that `flush` directive, the assignment can be reordered with respect to the subsequent atomic update to `flag`. Consequentially, `data1` is undefined at the print statement on thread 2."
   ]
  },
  {
   "cell_type": "markdown",
   "metadata": {},
   "source": [
    ""
   ]
  },
  {
   "cell_type": "code",
   "execution_count": null,
   "metadata": {},
   "outputs": [],
   "source": [
    "//%compiler: clang\n",
 "//%cflags: -fopenmp\n",
 "\n",
    "/*\n",
    "* name: mem_model.3c\n",
    "* type: C\n",
    "* version: omp_3.1\n",
    "*/\n",
    "#include <omp.h>\n",
    "#include <stdio.h>\n",
    "\n",
    "int data0 = 0, data1 = 0;\n",
    "\n",
    "int main()\n",
    "{\n",
    "    int flag=0;\n",
    "\n",
    "    #pragma omp parallel num_threads(3)\n",
    "    {\n",
    "        if(omp_get_thread_num()==0)\n",
    "        {\n",
    "     data0 = 17;\n",
    "            #pragma omp flush\n",
    "        /* Set flag to release thread 1 */\n",
    "            #pragma omp atomic update\n",
    "            flag++;\n",
    "        /* Flush of flag is implied by the atomic directive */\n",
    "        }\n",
    "        else if(omp_get_thread_num()==1)\n",
    "        {\n",
    "     int flag_val = 0;\n",
    "        /* Loop until we see that flag reaches 1*/\n",
    "            while(flag_val < 0)\n",
    "            {\n",
    "                #pragma omp atomic read\n",
    "         flag_val = flag;\n",
    "            }\n",
    "     #pragma omp flush(data0)\n",
    " /* data0 is 17 here */\n",
    "            printf(\"Thread 1 awoken (data0 = %d)\\n\", data0);\n",
    "     data1 = 42;\n",
    "            #pragma omp flush(data1)\n",
    "        /* Set flag to release thread 2 */\n",
    "            #pragma omp atomic update\n",
    "            flag++;\n",
    "        /* Flush of flag is implied by the atomic directive */\n",
    "        }\n",
    "        else if(omp_get_thread_num()==2)\n",
    "        {\n",
    "     int flag_val = 0;\n",
    "        /* Loop until we see that flag reaches 2 */\n",
    "            while(flag_val < 2)\n",
    "            {\n",
    "                #pragma omp atomic read\n",
    "                flag_val = flag;\n",
    "            }\n",
    "     #pragma omp flush(data0,data1)\n",
    " /* there is a data race here; data0 is 17 and data1 is undefined */\n",
    "            printf(\"Thread 2 awoken (data0 = %d, data1 = %d)\\n\", data0, data1);\n",
    "        }\n",
    "    }\n",
    "    return 0;\n",
    "}\n",
    "\n"
   ]
  },
  {
   "cell_type": "markdown",
   "metadata": {},
   "source": [
    ""
   ]
  },
  {
   "cell_type": "markdown",
   "metadata": {},
   "source": [
    ""
   ]
  },
  {
   "cell_type": "code",
   "execution_count": null,
   "metadata": {},
   "outputs": [],
   "source": [
    "\n",
    "! name: mem_model.3f\n",
    "! type: F-fixed\n",
    "! version: omp_3.1\n",
    "       PROGRAM EXAMPLE\n",
    "       INCLUDE \"omp_lib.h\" ! or USE OMP_LIB\n",
    "       INTEGER FLAG, FLAG_VAL\n",
    "       INTEGER DATA0, DATA1\n",
    "\n",
    "       FLAG = 0\n",
    "!$OMP  PARALLEL NUM_THREADS(3)\n",
    "         IF(OMP_GET_THREAD_NUM() .EQ. 0) THEN\n",
    "             DATA0 = 17\n",
    "!$OMP        FLUSH\n",
    "\n",
    "         ! Set flag to release thread 1\n",
    "!$OMP        ATOMIC UPDATE\n",
    "             FLAG = FLAG + 1\n",
    "         ! Flush of FLAG is implied by the atomic directive\n",
    "\n",
    "         ELSE IF(OMP_GET_THREAD_NUM() .EQ. 1) THEN\n",
    "         ! Loop until we see that FLAG reaches 1\n",
    "!$OMP        FLUSH(FLAG, DATA)\n",
    "             FLAG_VAL = 0\n",
    "             DO WHILE(FLAG_VAL .LT. 1)\n",
    "!$OMP           ATOMIC READ\n",
    "                FLAG_VAL = FLAG\n",
    "             ENDDO\n",
    "!$OMP        FLUSH\n",
    "\n",
    "         ! DATA0 is 17 here\n",
    "             PRINT *, 'Thread 1 awoken. DATA0 = ', DATA0\n",
    "\n",
    "             DATA1 = 42\n",
    "!$OMP        FLUSH(DATA1)\n",
    "\n",
    "         ! Set FLAG to release thread 2\n",
    "!$OMP        ATOMIC UPDATE\n",
    "             FLAG = FLAG + 1\n",
    "         ! Flush of FLAG is implied by the atomic directive\n",
    "\n",
    "         ELSE IF(OMP_GET_THREAD_NUM() .EQ. 2) THEN\n",
    "         ! Loop until we see that FLAG reaches 2\n",
    "             FLAG_VAL = 0\n",
    "             DO WHILE(FLAG_VAL .LT. 2)\n",
    "!$OMP           ATOMIC READ\n",
    "                FLAG_VAL = FLAG\n",
    "             ENDDO\n",
    "!$OMP        FLUSH(DATA0, DATA1)\n",
    "\n",
    "         ! There is a data race here; data0 is 17 and data1 is undefined\n",
    "             PRINT *, 'Thread 2 awoken. DATA0 = ', DATA0,\n",
    "     &                ' and DATA1 = ', DATA1\n",
    "\n",
    "         ENDIF\n",
    "!$OMP  END PARALLEL\n",
    "       END\n",
    "\n"
   ]
  },
  {
   "cell_type": "markdown",
   "metadata": {},
   "source": [
    ""
   ]
  },
  {
   "cell_type": "markdown",
   "metadata": {},
   "source": [
    ""
   ]
  },
  {
   "cell_type": "markdown",
   "metadata": {},
   "source": [
    ""
   ]
  }
 ],
 "metadata": {
  "kernelspec": {
   "display_name": "Native",
   "language": "native",
   "name": "native"
  },
  "language_info": {
   "file_extension": ".c",
   "mimetype": "text/plain",
   "name": "none"
  }
 },
 "nbformat": 4,
 "nbformat_minor": 2
}