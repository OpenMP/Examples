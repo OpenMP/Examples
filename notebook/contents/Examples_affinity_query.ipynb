{
 "cells": [
  {
   "cell_type": "markdown",
   "metadata": {},
   "source": [
    ""
   ]
  },
  {
   "cell_type": "markdown",
   "metadata": {},
   "source": [
    "## Affinity Query Functions"
   ]
  },
  {
   "cell_type": "markdown",
   "metadata": {},
   "source": [
    ""
   ]
  },
  {
   "cell_type": "markdown",
   "metadata": {},
   "source": [
    "In the example below a team of threads is generated on each socket of the system, using nested parallelism. Several query functions are used to gather information to support the creation of the teams and to obtain  socket and thread numbers."
   ]
  },
  {
   "cell_type": "markdown",
   "metadata": {},
   "source": [
    "For proper execution of the code, the user must create a place partition, such that each place is a listing of the core numbers for a socket. For example, in a 2 socket system with 8 cores in each socket, and sequential numbering in the socket for the core numbers, the `OMP_PLACES` variable would be set to \"{0:8},{8:8}\", using the place syntax { _lower_bound_ : _length_ : _stride_ }, and the default stride of 1."
   ]
  },
  {
   "cell_type": "markdown",
   "metadata": {},
   "source": [
    "The code determines the number of sockets ( _n_sockets_ ) using the `omp_get_num_places()` query function. In this example each place is constructed with a list of  each socket's core numbers, hence the number of places is equal to the number of sockets."
   ]
  },
  {
   "cell_type": "markdown",
   "metadata": {},
   "source": [
    "The outer parallel region forms a team of threads, and each thread  executes on a socket (place) because the `proc_bind` clause uses  `spread` in the outer `parallel` construct. Next, in the  _socket_init_  function, an inner parallel region creates a team  of threads equal to the number of elements (core numbers) from the place of the parent thread. Because the outer `parallel` construct uses  a `spread` affinity policy, each of its threads inherits a subpartition of  the original partition.  Hence, the `omp_get_place_num_procs` query function returns the number of elements (here procs = cores) in the subpartition of the thread.   After each parent thread creates its nested parallel region on the section, the socket number and thread number are reported."
   ]
  },
  {
   "cell_type": "markdown",
   "metadata": {},
   "source": [
    "Note: Portable tools like hwloc (Portable HardWare LOCality package), which support many common operating systems, can be used to determine the configuration of a system.   On some systems there are utilities, files or user guides that provide configuration information.  For instance, the socket number and proc_id's for a socket  can be found in the /proc/cpuinfo text file on Linux systems."
   ]
  },
  {
   "cell_type": "markdown",
   "metadata": {},
   "source": [
    ""
   ]
  },
  {
   "cell_type": "code",
   "execution_count": null,
   "metadata": {},
   "outputs": [],
   "source": [
    "//%compiler: clang\n",
 "//%cflags: -fopenmp\n",
 "\n",
    "/*\n",
    "* name: affinity_query.1c\n",
    "* type: C\n",
    "* version: omp_4.5\n",
    "*/\n",
    "#include <stdio.h>\n",
    "#include <omp.h>\n",
    "\n",
    "void socket_init(int socket_num)\n",
    "{\n",
    "   int n_procs;\n",
    "\n",
    "   n_procs = omp_get_place_num_procs(socket_num);\n",
    "   #pragma omp parallel num_threads(n_procs) proc_bind(close)\n",
    "   {\n",
    "      printf(\"Reporting in from socket num, thread num:  %d %d\\n\",\n",
    "                                socket_num,omp_get_thread_num() );\n",
    "   }\n",
    "}\n",
    "\n",
    "int main()\n",
    "{\n",
    "   int n_sockets, socket_num;\n",
    "\n",
    "   omp_set_nested(1);              // or export OMP_NESTED=true\n",
    "   omp_set_max_active_levels(2);   // or export OMP_MAX_ACTIVE_LEVELS=2\n",
    "\n",
    "   n_sockets = omp_get_num_places();\n",
    "   #pragma omp parallel num_threads(n_sockets) private(socket_num) \\\n",
    "                        proc_bind(spread)\n",
    "   {\n",
    "      socket_num = omp_get_place_num();\n",
    "      socket_init(socket_num);\n",
    "   }\n",
    "\n",
    "   return 0;\n",
    "}\n",
    "\n"
   ]
  },
  {
   "cell_type": "markdown",
   "metadata": {},
   "source": [
    ""
   ]
  },
  {
   "cell_type": "markdown",
   "metadata": {},
   "source": [
    ""
   ]
  },
  {
   "cell_type": "code",
   "execution_count": null,
   "metadata": {},
   "outputs": [],
   "source": [
    "\n",
    "! name: affinity_query.1f\n",
    "! type: F-free\n",
    "! version: omp_4.5\n",
    "\n",
    "subroutine socket_init(socket_num)\n",
    "   use omp_lib\n",
    "   integer  :: socket_num, n_procs\n",
    "\n",
    "   n_procs = omp_get_place_num_procs(socket_num)\n",
    "   !$omp parallel num_threads(n_procs) proc_bind(close)\n",
    "\n",
    "      print*,\"Reporting in from socket num, thread num: \",  &\n",
    "                                socket_num,omp_get_thread_num()\n",
    "   !$omp end parallel\n",
    "end subroutine\n",
    "\n",
    "program numa_teams\n",
    "   use omp_lib\n",
    "   integer :: n_sockets, socket_num\n",
    "\n",
    "   call omp_set_nested(.true.)            ! or export OMP_NESTED=true\n",
    "   call omp_set_max_active_levels(2) ! or export OMP_MAX_ACTIVE_LEVELS=2\n",
    "\n",
    "   n_sockets = omp_get_num_places()\n",
    "   !$omp parallel num_threads(n_sockets) private(socket_num) &\n",
    "   !$omp&         proc_bind(spread)\n",
    "\n",
    "      socket_num = omp_get_place_num()\n",
    "      call socket_init(socket_num)\n",
    "\n",
    "   !$omp end parallel\n",
    "end program\n",
    "\n"
   ]
  },
  {
   "cell_type": "markdown",
   "metadata": {},
   "source": [
    ""
   ]
  },
  {
   "cell_type": "markdown",
   "metadata": {},
   "source": [
    ""
   ]
  }
 ],
 "metadata": {
  "kernelspec": {
   "display_name": "Native",
   "language": "native",
   "name": "native"
  },
  "language_info": {
   "file_extension": ".c",
   "mimetype": "text/plain",
   "name": "none"
  }
 },
 "nbformat": 4,
 "nbformat_minor": 2
}