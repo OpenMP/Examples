{
 "cells": [
  {
   "cell_type": "markdown",
   "metadata": {},
   "source": [
    ""
   ]
  },
  {
   "cell_type": "markdown",
   "metadata": {},
   "source": [
    "## The `nowait` Clause"
   ]
  },
  {
   "cell_type": "markdown",
   "metadata": {},
   "source": [
    ""
   ]
  },
  {
   "cell_type": "markdown",
   "metadata": {},
   "source": [
    "If there are multiple independent loops within a `parallel` region, you  can use the `nowait` clause to avoid the implied barrier at the end of the  loop construct, as follows:"
   ]
  },
  {
   "cell_type": "markdown",
   "metadata": {},
   "source": [
    ""
   ]
  },
  {
   "cell_type": "code",
   "execution_count": null,
   "metadata": {},
   "outputs": [],
   "source": [
    "//%compiler: clang\n",
 "//%cflags: -fopenmp\n",
 "\n",
    "/*\n",
    "* name: nowait.1c\n",
    "* type: C\n",
    "*/\n",
    "#include <math.h>\n",
    "\n",
    "void nowait_example(int n, int m, float *a, float *b, float *y, float *z)\n",
    "{\n",
    "  int i;\n",
    "  #pragma omp parallel\n",
    "  {\n",
    "    #pragma omp for nowait\n",
    "      for (i=1; i<n; i++)\n",
    "        b[i] = (a[i] + a[i-1]) / 2.0;\n",
    "\n",
    "    #pragma omp for nowait\n",
    "      for (i=0; i<m; i++)\n",
    "        y[i] = sqrt(z[i]);\n",
    "  }\n",
    "}\n",
    "\n"
   ]
  },
  {
   "cell_type": "markdown",
   "metadata": {},
   "source": [
    ""
   ]
  },
  {
   "cell_type": "markdown",
   "metadata": {},
   "source": [
    ""
   ]
  },
  {
   "cell_type": "code",
   "execution_count": null,
   "metadata": {},
   "outputs": [],
   "source": [
    "\n",
    "! name: nowait.1f\n",
    "! type: F-fixed\n",
    "        SUBROUTINE NOWAIT_EXAMPLE(N, M, A, B, Y, Z)\n",
    "\n",
    "        INTEGER N, M\n",
    "        REAL A(*), B(*), Y(*), Z(*)\n",
    "\n",
    "        INTEGER I\n",
    "\n",
    "!$OMP PARALLEL\n",
    "\n",
    "!$OMP DO\n",
    "        DO I=2,N\n",
    "          B(I) = (A(I) + A(I-1)) / 2.0\n",
    "        ENDDO\n",
    "!$OMP END DO NOWAIT\n",
    "\n",
    "!$OMP DO\n",
    "        DO I=1,M\n",
    "          Y(I) = SQRT(Z(I))\n",
    "        ENDDO\n",
    "!$OMP END DO NOWAIT\n",
    "\n",
    "!$OMP END PARALLEL\n",
    "\n",
    "        END SUBROUTINE NOWAIT_EXAMPLE\n",
    "\n"
   ]
  },
  {
   "cell_type": "markdown",
   "metadata": {},
   "source": [
    ""
   ]
  },
  {
   "cell_type": "markdown",
   "metadata": {},
   "source": [
    "In the following example, static scheduling distributes the same logical iteration  numbers to the threads that execute the three loop regions. This allows the `nowait`  clause to be used, even though there is a data dependence between the loops. The  dependence is satisfied as long the same thread executes the same logical iteration  numbers in each loop."
   ]
  },
  {
   "cell_type": "markdown",
   "metadata": {},
   "source": [
    "Note that the iteration count of the loops must be the same. The example satisfies  this requirement, since the iteration space of the first two loops is from `0`  to `n-1` (from `1` to `N` in the Fortran version), while the  iteration space of the last loop is from `1` to `n` (`2` to  `N+1` in the Fortran version)."
   ]
  },
  {
   "cell_type": "markdown",
   "metadata": {},
   "source": [
    ""
   ]
  },
  {
   "cell_type": "code",
   "execution_count": null,
   "metadata": {},
   "outputs": [],
   "source": [
    "//%compiler: clang\n",
 "//%cflags: -fopenmp\n",
 "\n",
    "/*\n",
    "* name: nowait.2c\n",
    "* type: C\n",
    "*/\n",
    "\n",
    "#include <math.h>\n",
    "void nowait_example2(int n, float *a, float *b, float *c, float *y, float\n",
    "*z)\n",
    "{\n",
    "   int i;\n",
    "#pragma omp parallel\n",
    "   {\n",
    "#pragma omp for schedule(static) nowait\n",
    "   for (i=0; i<n; i++)\n",
    "      c[i] = (a[i] + b[i]) / 2.0f;\n",
    "#pragma omp for schedule(static) nowait\n",
    "   for (i=0; i<n; i++)\n",
    "      z[i] = sqrtf(c[i]);\n",
    "#pragma omp for schedule(static) nowait\n",
    "   for (i=1; i<=n; i++)\n",
    "      y[i] = z[i-1] + a[i];\n",
    "   }\n",
    "}\n",
    "\n"
   ]
  },
  {
   "cell_type": "markdown",
   "metadata": {},
   "source": [
    ""
   ]
  },
  {
   "cell_type": "markdown",
   "metadata": {},
   "source": [
    ""
   ]
  },
  {
   "cell_type": "code",
   "execution_count": null,
   "metadata": {},
   "outputs": [],
   "source": [
    "\n",
    "! name: nowait.2f\n",
    "! type: F-free\n",
    "   SUBROUTINE NOWAIT_EXAMPLE2(N, A, B, C, Y, Z)\n",
    "   INTEGER N\n",
    "   REAL A(*), B(*), C(*), Y(*), Z(*)\n",
    "   INTEGER I\n",
    "!$OMP PARALLEL\n",
    "!$OMP DO SCHEDULE(STATIC)\n",
    "   DO I=1,N\n",
    "      C(I) = (A(I) + B(I)) / 2.0\n",
    "   ENDDO\n",
    "!$OMP END DO NOWAIT\n",
    "!$OMP DO SCHEDULE(STATIC)\n",
    "   DO I=1,N\n",
    "      Z(I) = SQRT(C(I))\n",
    "   ENDDO\n",
    "!$OMP END DO NOWAIT\n",
    "!$OMP DO SCHEDULE(STATIC)\n",
    "   DO I=2,N+1\n",
    "      Y(I) = Z(I-1) + A(I)\n",
    "   ENDDO\n",
    "!$OMP END DO NOWAIT\n",
    "!$OMP END PARALLEL\n",
    "   END SUBROUTINE NOWAIT_EXAMPLE2\n",
    "\n"
   ]
  },
  {
   "cell_type": "markdown",
   "metadata": {},
   "source": [
    ""
   ]
  },
  {
   "cell_type": "markdown",
   "metadata": {},
   "source": [
    ""
   ]
  }
 ],
 "metadata": {
  "kernelspec": {
   "display_name": "Native",
   "language": "native",
   "name": "native"
  },
  "language_info": {
   "file_extension": ".c",
   "mimetype": "text/plain",
   "name": "none"
  }
 },
 "nbformat": 4,
 "nbformat_minor": 2
}