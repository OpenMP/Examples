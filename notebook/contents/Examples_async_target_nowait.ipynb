{
 "cells": [
  {
   "cell_type": "markdown",
   "metadata": {},
   "source": [
    ""
   ]
  },
  {
   "cell_type": "markdown",
   "metadata": {},
   "source": [
    "### `nowait` Clause on `target` Construct"
   ]
  },
  {
   "cell_type": "markdown",
   "metadata": {},
   "source": [
    ""
   ]
  },
  {
   "cell_type": "markdown",
   "metadata": {},
   "source": [
    "The following example shows how to execute code asynchronously on a  device without an explicit task. The `nowait` clause on a `target`  construct allows the thread of the  _target task_  to perform other work while waiting for the `target` region execution to complete.  Hence, the the `target` region can execute asynchronously on the  device (without requiring a host thread to idle while waiting for  the  _target task_  execution to complete)."
   ]
  },
  {
   "cell_type": "markdown",
   "metadata": {},
   "source": [
    "In this example the product of two vectors (arrays),  _v1_  and  _v2_ , is formed. One half of the operations is performed on the device, and the last half on the host, concurrently."
   ]
  },
  {
   "cell_type": "markdown",
   "metadata": {},
   "source": [
    "After a team of threads is formed the master thread generates  the  _target task_  while the other threads can continue on, without a barrier, to the execution of the host portion of the vector product. The completion of the  _target task_  (asynchronous target execution) is  guaranteed by the synchronization in the implicit barrier at the end of the  host vector-product worksharing loop region. See the `barrier`  glossary entry in the OpenMP specification for details."
   ]
  },
  {
   "cell_type": "markdown",
   "metadata": {},
   "source": [
    "The host loop scheduling is `dynamic`, to balance the host thread executions, since  one thread is being used for offload generation. In the situation where  little time is spent by the  _target task_  in setting  up and tearing down the the target execution, `static` scheduling may be desired."
   ]
  },
  {
   "cell_type": "markdown",
   "metadata": {},
   "source": [
    ""
   ]
  },
  {
   "cell_type": "code",
   "execution_count": null,
   "metadata": {},
   "outputs": [],
   "source": [
    "//%compiler: clang\n",
 "//%cflags: -fopenmp\n",
 "\n",
    "/*\n",
    "* name: async_target.3c\n",
    "* type: C\n",
    "* version: omp_4.5\n",
    "*/\n",
    "\n",
    "#include <stdio.h>\n",
    "\n",
    "#define N 1000000      //N must be even\n",
    "void init(int n, float *v1, float *v2);\n",
    "\n",
    "int main(){\n",
    "   int   i, n=N;\n",
    "   int   chunk=1000;\n",
    "   float v1[N],v2[N],vxv[N];\n",
    "\n",
    "   init(n, v1,v2);\n",
    "\n",
    "   #pragma omp parallel\n",
    "   {\n",
    "\n",
    "      #pragma omp master\n",
    "      #pragma omp target teams distribute parallel for nowait \\\n",
    "                                map(to: v1[0:n/2]) \\\n",
    "                                map(to: v2[0:n/2]) \\\n",
    "                                map(from: vxv[0:n/2])\n",
    "      for(i=0; i<n/2; i++){ vxv[i] = v1[i]*v2[i]; }\n",
    "\n",
    "      #pragma omp for schedule(dynamic,chunk)\n",
    "      for(i=n/2; i<n; i++){ vxv[i] = v1[i]*v2[i]; }\n",
    "\n",
    "   }\n",
    "   printf(\" vxv[0] vxv[n-1] %f %f\\n\", vxv[0], vxv[n-1]);\n",
    "   return 0;\n",
    "}\n",
    "\n"
   ]
  },
  {
   "cell_type": "markdown",
   "metadata": {},
   "source": [
    ""
   ]
  },
  {
   "cell_type": "markdown",
   "metadata": {},
   "source": [
    ""
   ]
  },
  {
   "cell_type": "code",
   "execution_count": null,
   "metadata": {},
   "outputs": [],
   "source": [
    "\n",
    "! name: async_target.3f\n",
    "! type: F-free\n",
    "! version: omp_4.5\n",
    "\n",
    "program concurrent_async\n",
    "   use omp_lib\n",
    "   integer,parameter :: n=1000000  !!n must be even\n",
    "   integer           :: i, chunk=1000\n",
    "   real              :: v1(n),v2(n),vxv(n)\n",
    "\n",
    "   call init(n, v1,v2)\n",
    "\n",
    "   !$omp parallel\n",
    "\n",
    "      !$omp master\n",
    "      !$omp target teams distribute parallel do nowait &\n",
    "      !$omp&                    map(to: v1(1:n/2))   &\n",
    "      !$omp&                    map(to: v2(1:n/2))   &\n",
    "      !$omp&                    map(from: vxv(1:n/2))\n",
    "      do i = 1,n/2;    vxv(i) = v1(i)*v2(i); end do\n",
    "      !$omp end master\n",
    "\n",
    "      !$omp do schedule(dynamic,chunk)\n",
    "      do i = n/2+1,n;  vxv(i) = v1(i)*v2(i); end do\n",
    "\n",
    "   !$omp end parallel\n",
    "\n",
    "   print*, \" vxv(1) vxv(n) :\", vxv(1), vxv(n)\n",
    "\n",
    "end program\n",
    "\n"
   ]
  },
  {
   "cell_type": "markdown",
   "metadata": {},
   "source": [
    ""
   ]
  },
  {
   "cell_type": "markdown",
   "metadata": {},
   "source": [
    ""
   ]
  }
 ],
 "metadata": {
  "kernelspec": {
   "display_name": "Native",
   "language": "native",
   "name": "native"
  },
  "language_info": {
   "file_extension": ".c",
   "mimetype": "text/plain",
   "name": "none"
  }
 },
 "nbformat": 4,
 "nbformat_minor": 2
}