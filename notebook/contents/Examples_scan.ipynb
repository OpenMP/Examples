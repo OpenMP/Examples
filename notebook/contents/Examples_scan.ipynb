{
 "cells": [
  {
   "cell_type": "markdown",
   "metadata": {},
   "source": [
    ""
   ]
  },
  {
   "cell_type": "markdown",
   "metadata": {},
   "source": [
    "## The `scan` Directive"
   ]
  },
  {
   "cell_type": "markdown",
   "metadata": {},
   "source": [
    ""
   ]
  },
  {
   "cell_type": "markdown",
   "metadata": {},
   "source": [
    "The following examples illustrate how to parallelize a loop that saves  the **prefix sum** of a reduction. This is accomplished by using  the `inscan` modifier in the `reduction` clause for the input  variable of the scan, and specifying with a `scan` directive whether  the storage statement includes or excludes the scan input of the present  iteration ( **k** )."
   ]
  },
  {
   "cell_type": "markdown",
   "metadata": {},
   "source": [
    "Basically, the `inscan` modifier connects a loop and/or SIMD reduction to  the scan operation, and a `scan` construct with an `inclusive` or  `exclusive` clause specifies whether the \"scan phase'' (lexical block  before and after the directive, respectively) is to use an  _inclusive_  or   _exclusive_  scan value for the list item ( **x** )."
   ]
  },
  {
   "cell_type": "markdown",
   "metadata": {},
   "source": [
    "The first example uses the  _inclusive_  scan operation on a composite loop-SIMD construct. The `scan` directive separates the reduction  statement on variable  **x**  from the use of  **x**  (saving to array  **b** ). The order of the statements in this example indicates that value  **a[k]**  ( **a(k)**  in Fortran) is included in the computation of  the prefix sum  **b[k]**  ( **b(k)**  in Fortran) for iteration  **k** ."
   ]
  },
  {
   "cell_type": "markdown",
   "metadata": {},
   "source": [
    ""
   ]
  },
  {
   "cell_type": "code",
   "execution_count": null,
   "metadata": {},
   "outputs": [],
   "source": [
    "//%compiler: clang\n",
 "//%cflags: -fopenmp\n",
 "\n",
    "/*\n",
    "* name:       scan.1.c\n",
    "* type:       C\n",
    "* version: omp_5.0\n",
    "*/\n",
    "#include <stdio.h>\n",
    "#define N 100\n",
    "\n",
    "int main(void)\n",
    "{\n",
    "   int a[N], b[N];\n",
    "   int x = 0;\n",
    "\n",
    "   // initialization\n",
    "   for (int k = 0; k < N; k++)\n",
    "      a[k] = k + 1;\n",
    "\n",
    "   // a[k] is included in the computation of producing results in b[k]\n",
    "   #pragma omp parallel for simd reduction(inscan,+: x)\n",
    "   for (int k = 0; k < N; k++) {\n",
    "      x += a[k];\n",
    "      #pragma omp scan inclusive(x)\n",
    "      b[k] = x;\n",
    "   }\n",
    "\n",
    "   printf(\"x = %d, b[0:3] = %d %d %d\\n\", x, b[0], b[1], b[2]);\n",
    "   //           5050,        1  3  6\n",
    "\n",
    "   return 0;\n",
    "}\n",
    "\n"
   ]
  },
  {
   "cell_type": "markdown",
   "metadata": {},
   "source": [
    ""
   ]
  },
  {
   "cell_type": "markdown",
   "metadata": {},
   "source": [
    ""
   ]
  },
  {
   "cell_type": "code",
   "execution_count": null,
   "metadata": {},
   "outputs": [],
   "source": [
    "\n",
    "! name:       scan.1.f\n",
    "! type:       F-free\n",
    "! version: omp_5.0\n",
    "program inclusive_scan\n",
    "   implicit none\n",
    "   integer, parameter :: n = 100\n",
    "   integer a(n), b(n)\n",
    "   integer x, k\n",
    "\n",
    "   ! initialization\n",
    "   x = 0\n",
    "   do k = 1, n\n",
    "      a(k) = k\n",
    "   end do\n",
    "\n",
    "   ! a(k) is included in the computation of producing results in b(k)\n",
    "   !$omp parallel do simd reduction(inscan,+: x)\n",
    "   do k = 1, n\n",
    "      x = x + a(k)\n",
    "      !$omp scan inclusive(x)\n",
    "      b(k) = x\n",
    "   end do\n",
    "\n",
    "   print *,'x =', x, ', b(1:3) =', b(1:3)\n",
    "   !           5050,            1  3  6\n",
    "\n",
    "end program\n",
    "\n"
   ]
  },
  {
   "cell_type": "markdown",
   "metadata": {},
   "source": [
    ""
   ]
  },
  {
   "cell_type": "markdown",
   "metadata": {},
   "source": [
    "The second example uses the  _exclusive_  scan operation on a composite loop-SIMD construct. The `scan` directive separates the use of  **x**   (saving to array  **b** ) from the reduction statement on variable  **x** . The order of the statements in this example indicates that value  **a[k]**  ( **a(k)**  in Fortran) is excluded from the computation  of the prefix sum  **b[k]**  ( **b(k)**  in Fortran) for iteration  **k** ."
   ]
  },
  {
   "cell_type": "markdown",
   "metadata": {},
   "source": [
    ""
   ]
  },
  {
   "cell_type": "code",
   "execution_count": null,
   "metadata": {},
   "outputs": [],
   "source": [
    "//%compiler: clang\n",
 "//%cflags: -fopenmp\n",
 "\n",
    "/*\n",
    "* name:       scan.2.c\n",
    "* type:       C\n",
    "* version: omp_5.0\n",
    "*/\n",
    "#include <stdio.h>\n",
    "#define N 100\n",
    "\n",
    "int main(void)\n",
    "{\n",
    "   int a[N], b[N];\n",
    "   int x = 0;\n",
    "\n",
    "   // initialization\n",
    "   for (int k = 0; k < N; k++)\n",
    "      a[k] = k + 1;\n",
    "\n",
    "   // a[k] is not included in the computation of producing results in b[k]\n",
    "   #pragma omp parallel for simd reduction(inscan,+: x)\n",
    "   for (int k = 0; k < N; k++) {\n",
    "      b[k] = x;\n",
    "      #pragma omp scan exclusive(x)\n",
    "      x += a[k];\n",
    "   }\n",
    "\n",
    "   printf(\"x = %d, b[0:3] = %d %d %d\\n\", x, b[0], b[1], b[2]);\n",
    "   //           5050,        0  1  3\n",
    "\n",
    "   return 0;\n",
    "}\n",
    "\n"
   ]
  },
  {
   "cell_type": "markdown",
   "metadata": {},
   "source": [
    ""
   ]
  },
  {
   "cell_type": "markdown",
   "metadata": {},
   "source": [
    ""
   ]
  },
  {
   "cell_type": "code",
   "execution_count": null,
   "metadata": {},
   "outputs": [],
   "source": [
    "\n",
    "! name:       scan.2.f\n",
    "! type:       F-free\n",
    "! version: omp_5.0\n",
    "program exclusive_scan\n",
    "   implicit none\n",
    "   integer, parameter :: n = 100\n",
    "   integer a(n), b(n)\n",
    "   integer x, k\n",
    "\n",
    "   ! initialization\n",
    "   x = 0\n",
    "   do k = 1, n\n",
    "      a(k) = k\n",
    "   end do\n",
    "\n",
    "   ! a(k) is not included in the computation of producing results in b(k)\n",
    "   !$omp parallel do simd reduction(inscan,+: x)\n",
    "   do k = 1, n\n",
    "      b(k) = x\n",
    "      !$omp scan exclusive(x)\n",
    "      x = x + a(k)\n",
    "   end do\n",
    "\n",
    "   print *,'x =', x, ', b(1:3) =', b(1:3)\n",
    "   !           5050,            0  1  3\n",
    "\n",
    "end program\n",
    "\n"
   ]
  },
  {
   "cell_type": "markdown",
   "metadata": {},
   "source": [
    ""
   ]
  },
  {
   "cell_type": "markdown",
   "metadata": {},
   "source": [
    ""
   ]
  }
 ],
 "metadata": {
  "kernelspec": {
   "display_name": "Native",
   "language": "native",
   "name": "native"
  },
  "language_info": {
   "file_extension": ".c",
   "mimetype": "text/plain",
   "name": "none"
  }
 },
 "nbformat": 4,
 "nbformat_minor": 2
}