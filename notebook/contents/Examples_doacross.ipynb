{
 "cells": [
  {
   "cell_type": "markdown",
   "metadata": {},
   "source": [
    ""
   ]
  },
  {
   "cell_type": "markdown",
   "metadata": {},
   "source": [
    "## Doacross Loop Nest"
   ]
  },
  {
   "cell_type": "markdown",
   "metadata": {},
   "source": [
    ""
   ]
  },
  {
   "cell_type": "markdown",
   "metadata": {},
   "source": [
    "An `ordered` clause can be used on a loop construct with an integer parameter argument to define the number of associated loops within  a  _doacross loop nest_  where cross-iteration dependences exist. A `depend` clause on an `ordered` construct within an ordered  loop describes the dependences of the  _doacross_  loops."
   ]
  },
  {
   "cell_type": "markdown",
   "metadata": {},
   "source": [
    "In the code below, the `depend(sink:i-1)` clause defines an  _i-1_   to  _i_  cross-iteration dependence that specifies a wait point for  the completion of computation from iteration  _i-1_  before proceeding  to the subsequent statements. The `depend(source)` clause indicates  the completion of computation from the current iteration ( _i_ )  to satisfy the cross-iteration dependence that arises from the iteration. For this example the same sequential ordering could have been achieved  with an `ordered` clause without a parameter, on the loop directive,  and a single `ordered` directive without the `depend` clause specified for the statement executing the  _bar_  function."
   ]
  },
  {
   "cell_type": "markdown",
   "metadata": {},
   "source": [
    ""
   ]
  },
  {
   "cell_type": "code",
   "execution_count": null,
   "metadata": {},
   "outputs": [],
   "source": [
    "//%compiler: clang\n",
 "//%cflags: -fopenmp\n",
 "\n",
    "/*\n",
    "* name: doacross.1c\n",
    "* type: C\n",
    "* version: omp_4.5\n",
    "*/\n",
    "float foo(int i);\n",
    "float bar(float a, float b);\n",
    "float baz(float b);\n",
    "\n",
    "void work( int N, float *A, float *B, float *C )\n",
    "{\n",
    "  int i;\n",
    "\n",
    "  #pragma omp for ordered(1)\n",
    "  for (i=1; i<N; i++)\n",
    "  {\n",
    "    A[i] = foo(i);\n",
    "\n",
    "  #pragma omp ordered depend(sink: i-1)\n",
    "    B[i] = bar(A[i], B[i-1]);\n",
    "  #pragma omp ordered depend(source)\n",
    "\n",
    "    C[i] = baz(B[i]);\n",
    "  }\n",
    "}\n",
    "\n"
   ]
  },
  {
   "cell_type": "markdown",
   "metadata": {},
   "source": [
    ""
   ]
  },
  {
   "cell_type": "markdown",
   "metadata": {},
   "source": [
    ""
   ]
  },
  {
   "cell_type": "code",
   "execution_count": null,
   "metadata": {},
   "outputs": [],
   "source": [
    "\n",
    "! name: doacross.1f\n",
    "! type: F-free\n",
    "! version:    omp_4.5\n",
    "subroutine work( N, A, B, C )\n",
    "  integer :: N, i\n",
    "  real, dimension(N) :: A, B, C\n",
    "  real, external :: foo, bar, baz\n",
    "\n",
    "  !$omp do ordered(1)\n",
    "  do i=2, N\n",
    "    A(i) = foo(i)\n",
    "\n",
    "  !$omp ordered depend(sink: i-1)\n",
    "    B(i) = bar(A(i), B(i-1))\n",
    "  !$omp ordered depend(source)\n",
    "\n",
    "    C(i) = baz(B(i))\n",
    "  end do\n",
    "end subroutine\n",
    "\n"
   ]
  },
  {
   "cell_type": "markdown",
   "metadata": {},
   "source": [
    ""
   ]
  },
  {
   "cell_type": "markdown",
   "metadata": {},
   "source": [
    "The following code is similar to the previous example but with   _doacross loop nest_  extended to two nested loops,  _i_  and  _j_ ,  as specified by the `ordered(2)` clause on the loop directive.  In the C/C++ code, the  _i_  and  _j_  loops are the first and second associated loops, respectively, whereas in the Fortran code, the  _j_  and  _i_  loops are the first and second associated loops, respectively. The `depend(sink:i-1,j)` and `depend(sink:i,j-1)` clauses in  the C/C++ code define cross-iteration dependences in two dimensions from  iterations ( _i-1, j_ ) and ( _i, j-1_ ) to iteration ( _i, j_ ).   Likewise, the `depend(sink:j-1,i)` and `depend(sink:j,i-1)` clauses  in the Fortran code define cross-iteration dependences from iterations  ( _j-1, i_ ) and ( _j, i-1_ ) to iteration ( _j, i_ )."
   ]
  },
  {
   "cell_type": "markdown",
   "metadata": {},
   "source": [
    ""
   ]
  },
  {
   "cell_type": "code",
   "execution_count": null,
   "metadata": {},
   "outputs": [],
   "source": [
    "//%compiler: clang\n",
 "//%cflags: -fopenmp\n",
 "\n",
    "/*\n",
    "* name: doacross.2c\n",
    "* type: C\n",
    "* version: omp_4.5\n",
    "*/\n",
    "float foo(int i, int j);\n",
    "float bar(float a, float b, float c);\n",
    "float baz(float b);\n",
    "\n",
    "void work( int N, int M, float **A, float **B, float **C )\n",
    "{\n",
    "  int i, j;\n",
    "\n",
    "  #pragma omp for ordered(2)\n",
    "  for (i=1; i<N; i++)\n",
    "  {\n",
    "    for (j=1; j<M; j++)\n",
    "    {\n",
    "      A[i][j] = foo(i, j);\n",
    "\n",
    "  #pragma omp ordered depend(sink: i-1,j) depend(sink: i,j-1)\n",
    "      B[i][j] = bar(A[i][j], B[i-1][j], B[i][j-1]);\n",
    "  #pragma omp ordered depend(source)\n",
    "\n",
    "      C[i][j] = baz(B[i][j]);\n",
    "    }\n",
    "  }\n",
    "}\n",
    "\n"
   ]
  },
  {
   "cell_type": "markdown",
   "metadata": {},
   "source": [
    ""
   ]
  },
  {
   "cell_type": "markdown",
   "metadata": {},
   "source": [
    ""
   ]
  },
  {
   "cell_type": "code",
   "execution_count": null,
   "metadata": {},
   "outputs": [],
   "source": [
    "\n",
    "! name: doacross.2f\n",
    "! type: F-free\n",
    "! version:    omp_4.5\n",
    "subroutine work( N, M, A, B, C )\n",
    "  integer :: N, M, i, j\n",
    "  real, dimension(M,N) :: A, B, C\n",
    "  real, external :: foo, bar, baz\n",
    "\n",
    "  !$omp do ordered(2)\n",
    "  do j=2, N\n",
    "    do i=2, M\n",
    "      A(i,j) = foo(i, j)\n",
    "\n",
    "    !$omp ordered depend(sink: j-1,i) depend(sink: j,i-1)\n",
    "      B(i,j) = bar(A(i,j), B(i-1,j), B(i,j-1))\n",
    "    !$omp ordered depend(source)\n",
    "\n",
    "      C(i,j) = baz(B(i,j))\n",
    "    end do\n",
    "  end do\n",
    "end subroutine\n",
    "\n"
   ]
  },
  {
   "cell_type": "markdown",
   "metadata": {},
   "source": [
    ""
   ]
  },
  {
   "cell_type": "markdown",
   "metadata": {},
   "source": [
    ""
   ]
  },
  {
   "cell_type": "markdown",
   "metadata": {},
   "source": [
    "The following example shows the incorrect use of the `ordered`  directive with a `depend` clause.  There are two issues with the code.   The first issue is a missing `ordered` `depend(source)` directive, which could cause a deadlock.   The second issue is the `depend(sink:i+1,j)` and `depend(sink:i,j+1)`  clauses define dependences on lexicographically later  source iterations ( _i+1, j_ ) and ( _i, j+1_ ), which could cause  a deadlock as well since they may not start to execute until the current iteration completes."
   ]
  },
  {
   "cell_type": "markdown",
   "metadata": {},
   "source": [
    ""
   ]
  },
  {
   "cell_type": "code",
   "execution_count": null,
   "metadata": {},
   "outputs": [],
   "source": [
    "//%compiler: clang\n",
 "//%cflags: -fopenmp\n",
 "\n",
    "/*\n",
    "* name: doacross.3c\n",
    "* type: C\n",
    "* version: omp_4.5\n",
    "*/\n",
    "#define N 100\n",
    "\n",
    "void work_wrong(double p[][N][N])\n",
    "{\n",
    "  int i, j, k;\n",
    "\n",
    "#pragma omp parallel for ordered(2) private(i,j,k)\n",
    "  for (i=1; i<N-1; i++)\n",
    "  {\n",
    "    for (j=1; j<N-1; j++)\n",
    "    {\n",
    "#pragma omp ordered depend(sink: i-1,j) depend(sink: i+1,j) \\\n",
    "                    depend(sink: i,j-1) depend(sink: i,j+1)\n",
    "      for (k=1; k<N-1; k++)\n",
    "      {\n",
    "        double tmp1 = p[i-1][j][k] + p[i+1][j][k];\n",
    "        double tmp2 = p[i][j-1][k] + p[i][j+1][k];\n",
    "        double tmp3 = p[i][j][k-1] + p[i][j][k+1];\n",
    "        p[i][j][k] = (tmp1 + tmp2 + tmp3) / 6.0;\n",
    "      }\n",
    "/* missing #pragma omp ordered depend(source) */\n",
    "    }\n",
    "  }\n",
    "}\n",
    "\n"
   ]
  },
  {
   "cell_type": "markdown",
   "metadata": {},
   "source": [
    ""
   ]
  },
  {
   "cell_type": "markdown",
   "metadata": {},
   "source": [
    ""
   ]
  },
  {
   "cell_type": "code",
   "execution_count": null,
   "metadata": {},
   "outputs": [],
   "source": [
    "\n",
    "! name: doacross.3f\n",
    "! type: F-free\n",
    "! version:    omp_4.5\n",
    "subroutine work_wrong(N, p)\n",
    "  integer :: N\n",
    "  real(8), dimension(N,N,N) :: p\n",
    "  integer :: i, j, k\n",
    "  real(8) :: tmp1, tmp2, tmp3\n",
    "\n",
    "!$omp parallel do ordered(2) private(i,j,k,tmp1,tmp2,tmp3)\n",
    "  do i=2, N-1\n",
    "    do j=2, N-1\n",
    "    !$omp ordered depend(sink: i-1,j) depend(sink: i+1,j) &\n",
    "    !$omp&        depend(sink: i,j-1) depend(sink: i,j+1)\n",
    "      do k=2, N-1\n",
    "        tmp1 = p(k-1,j,i) + p(k+1,j,i)\n",
    "        tmp2 = p(k,j-1,i) + p(k,j+1,i)\n",
    "        tmp3 = p(k,j,i-1) + p(k,j,i+1)\n",
    "        p(k,j,i) = (tmp1 + tmp2 + tmp3) / 6.0\n",
    "      end do\n",
    "! missing !$omp ordered depend(source)\n",
    "    end do\n",
    "  end do\n",
    "end subroutine\n",
    "\n"
   ]
  },
  {
   "cell_type": "markdown",
   "metadata": {},
   "source": [
    ""
   ]
  },
  {
   "cell_type": "markdown",
   "metadata": {},
   "source": [
    ""
   ]
  },
  {
   "cell_type": "markdown",
   "metadata": {},
   "source": [
    "The following example illustrates the use of the `collapse` clause for a  _doacross loop nest_ .  The  _i_  and  _j_  loops are the associated loops for the collapsed loop as well as for the  _doacross loop nest_ . The example also shows a compliant usage of the dependence source directive placed before the corresponding sink directive. Checking the completion of computation from previous iterations at the sink point can occur after the source statement."
   ]
  },
  {
   "cell_type": "markdown",
   "metadata": {},
   "source": [
    ""
   ]
  },
  {
   "cell_type": "code",
   "execution_count": null,
   "metadata": {},
   "outputs": [],
   "source": [
    "//%compiler: clang\n",
 "//%cflags: -fopenmp\n",
 "\n",
    "/*\n",
    "* name: doacross.4c\n",
    "* type: C\n",
    "* version: omp_4.5\n",
    "*/\n",
    "double foo(int i, int j);\n",
    "\n",
    "void work( int N, int M, double **A, double **B, double **C )\n",
    "{\n",
    "  int i, j;\n",
    "  double alpha = 1.2;\n",
    "\n",
    "  #pragma omp for collapse(2) ordered(2)\n",
    "  for (i = 1; i < N-1; i++)\n",
    "  {\n",
    "    for (j = 1; j < M-1; j++)\n",
    "    {\n",
    "      A[i][j] = foo(i, j);\n",
    "  #pragma omp ordered depend(source)\n",
    "\n",
    "      B[i][j] = alpha * A[i][j];\n",
    "\n",
    "  #pragma omp ordered depend(sink: i-1,j) depend(sink: i,j-1)\n",
    "      C[i][j] = 0.2 * (A[i-1][j] + A[i+1][j] +\n",
    "                A[i][j-1] + A[i][j+1] + A[i][j]);\n",
    "    }\n",
    "  }\n",
    "}\n",
    "\n"
   ]
  },
  {
   "cell_type": "markdown",
   "metadata": {},
   "source": [
    ""
   ]
  },
  {
   "cell_type": "markdown",
   "metadata": {},
   "source": [
    ""
   ]
  },
  {
   "cell_type": "code",
   "execution_count": null,
   "metadata": {},
   "outputs": [],
   "source": [
    "\n",
    "! name: doacross.4f\n",
    "! type: F-free\n",
    "! version:    omp_4.5\n",
    "subroutine work( N, M, A, B, C )\n",
    "  integer :: N, M\n",
    "  real(8), dimension(M, N) :: A, B, C\n",
    "  real(8), external :: foo\n",
    "  integer :: i, j\n",
    "  real(8) :: alpha = 1.2\n",
    "\n",
    "  !$omp do collapse(2) ordered(2)\n",
    "  do j=2, N-1\n",
    "    do i=2, M-1\n",
    "      A(i,j) = foo(i, j)\n",
    "    !$omp ordered depend(source)\n",
    "\n",
    "      B(i,j) = alpha * A(i,j)\n",
    "\n",
    "    !$omp ordered depend(sink: j,i-1) depend(sink: j-1,i)\n",
    "      C(i,j) = 0.2 * (A(i-1,j) + A(i+1,j) +  &\n",
    "               A(i,j-1) + A(i,j+1) + A(i,j))\n",
    "    end do\n",
    "  end do\n",
    "end subroutine\n",
    "\n"
   ]
  },
  {
   "cell_type": "markdown",
   "metadata": {},
   "source": [
    ""
   ]
  },
  {
   "cell_type": "markdown",
   "metadata": {},
   "source": [
    ""
   ]
  }
 ],
 "metadata": {
  "kernelspec": {
   "display_name": "Native",
   "language": "native",
   "name": "native"
  },
  "language_info": {
   "file_extension": ".c",
   "mimetype": "text/plain",
   "name": "none"
  }
 },
 "nbformat": 4,
 "nbformat_minor": 2
}