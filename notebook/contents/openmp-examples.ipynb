{
 "cells": [
  {
   "cell_type": "markdown",
   "metadata": {},
   "source": [
    ""
   ]
  },
  {
   "cell_type": "markdown",
   "metadata": {},
   "source": [
    "\documentclass[10pt,letterpaper,twoside,makeidx,hidelinks]{scrreprt}"
   ]
  },
  {
   "cell_type": "markdown",
   "metadata": {},
   "source": [
    "\newcommand{5.0.1}{5.2}   \newcommand{\PVER}{5.2}  \newcommand{5.0.1DATE}{April 2022} \newcommand{\footerText}{OpenMP Examples Version \PVER{} - 5.0.1DATE}"
   ]
  },
  {
   "cell_type": "markdown",
   "metadata": {},
   "source": [
    "\input{generated-include}"
   ]
  },
  {
   "cell_type": "markdown",
   "metadata": {},
   "source": [
    "\input{openmp.sty}"
   ]
  },
  {
   "cell_type": "markdown",
   "metadata": {},
   "source": [
    "\makeindex"
   ]
  },
  {
   "cell_type": "markdown",
   "metadata": {},
   "source": [
    "\pagenumbering{roman}"
   ]
  },
  {
   "cell_type": "markdown",
   "metadata": {},
   "source": [
    ""
   ]
  },
  {
   "cell_type": "markdown",
   "metadata": {},
   "source": [
    "\hspace{-6em} \includegraphics[width=0.4\textwidth]{openmp-logo.png}"
   ]
  },
  {
   "cell_type": "markdown",
   "metadata": {},
   "source": [
    "{-0.75in}{0in}            \Huge       \textsf{OpenMPApplication ProgrammingInterface}"
   ]
  },
  {
   "cell_type": "markdown",
   "metadata": {},
   "source": [
    "\vspace{0.5in}\textsf{Examples}\vspace{-0.7in}       \normalsize"
   ]
  },
  {
   "cell_type": "markdown",
   "metadata": {},
   "source": [
    "\vspace{1.0in}"
   ]
  },
  {
   "cell_type": "markdown",
   "metadata": {},
   "source": [
    "\texttt{Version \PVER{} -- 5.0.1DATE}"
   ]
  },
  {
   "cell_type": "markdown",
   "metadata": {},
   "source": [
    "\vspace{2.3in}"
   ]
  },
  {
   "cell_type": "markdown",
   "metadata": {},
   "source": [
    "Source codes for OpenMP 5.0.1 Examples are available at  [https://github.com/OpenMP/Examples/tree/v5.0.1] {github (https://github.com/OpenMP/Examples/tree/v5.0.1)}."
   ]
  },
  {
   "cell_type": "markdown",
   "metadata": {},
   "source": [
    "{0pt}{1em}\setlength{\parskip}{0.25\baselineskip}Copyright \copyright{} 1997-2022 OpenMP Architecture Review Board. Permission to copy without fee all or part of this material is granted, provided the OpenMP Architecture Review Board copyright notice and the title of this document appear. Notice is given that copying is by permission of OpenMP Architecture Review Board."
   ]
  },
  {
   "cell_type": "markdown",
   "metadata": {},
   "source": [
    ""
   ]
  },
  {
   "cell_type": "markdown",
   "metadata": {},
   "source": [
    ""
   ]
  },
  {
   "cell_type": "markdown",
   "metadata": {},
   "source": [
    ""
   ]
  },
  {
   "cell_type": "markdown",
   "metadata": {},
   "source": [
    ""
   ]
  },
  {
   "cell_type": "markdown",
   "metadata": {},
   "source": [
    "../../Title_Page.tex"
   ]
  },
  {
   "cell_type": "markdown",
   "metadata": {},
   "source": [
    ""
   ]
  },
  {
   "cell_type": "markdown",
   "metadata": {},
   "source": [
    ""
   ]
  },
  {
   "cell_type": "markdown",
   "metadata": {},
   "source": [
    "# Foreword"
   ]
  },
  {
   "cell_type": "markdown",
   "metadata": {},
   "source": [
    ""
   ]
  },
  {
   "cell_type": "markdown",
   "metadata": {},
   "source": [
    "The OpenMP Examples document has been updated with new features found in the OpenMP 5.0.1\ Specification. The additional examples and updates are referenced in the Document Revision History of the Appendix on page  **history** ."
   ]
  },
  {
   "cell_type": "markdown",
   "metadata": {},
   "source": [
    "Text describing an example with a 5.0.1\ feature specifically states that the feature support begins in the OpenMP 5.0.1\ Specification.  Also, an ` omp_5.0.1` keyword is included in the  metadata of the source code. These distinctions are presented to remind readers that a 5.0.1\ compliant  OpenMP implementation is necessary to use these features in codes."
   ]
  },
  {
   "cell_type": "markdown",
   "metadata": {},
   "source": [
    "Examples for most of the 5.0.1\ features are included in this document, and incremental releases will become available as more feature examples and updates are submitted and approved by the OpenMP Examples Subcommittee."
   ]
  },
  {
   "cell_type": "markdown",
   "metadata": {},
   "source": [
    "Examples are accepted for this document after discussions, revisions and reviews in the Examples Subcommittee, and two reviews/discussions and two votes in the OpenMP Language Committee. Draft examples are often derived from case studies for new features in the language, and are revised to illustrate the basic application of the features with code comments, and a text description. We are grateful to the numerous members of the Language Committee  who took the time to prepare codes and descriptions, and shepherd them through the acceptance process. We sincerely appreciate the Example Subcommittee members, who  actively participated and contributed in weekly meetings over the years."
   ]
  },
  {
   "cell_type": "markdown",
   "metadata": {},
   "source": [
    ""
   ]
  },
  {
   "cell_type": "markdown",
   "metadata": {},
   "source": [
    ""
   ]
  },
  {
   "cell_type": "markdown",
   "metadata": {},
   "source": [
    "Examples Subcommittee Co-chairs:"
   ]
  },
  {
   "cell_type": "markdown",
   "metadata": {},
   "source": [
    ""
   ]
  },
  {
   "cell_type": "markdown",
   "metadata": {},
   "source": [
    "Henry Jin ( **NASA**  Ames Research Center)"
   ]
  },
  {
   "cell_type": "markdown",
   "metadata": {},
   "source": [
    "Kent Milfeld ( **TACC** , Texas Advanced Computing Center)"
   ]
  },
  {
   "cell_type": "markdown",
   "metadata": {},
   "source": [
    ""
   ]
  },
  {
   "cell_type": "markdown",
   "metadata": {},
   "source": [
    "../../Foreword_Chapt.tex     \thispagestyle{empty}     \newpage"
   ]
  },
  {
   "cell_type": "markdown",
   "metadata": {},
   "source": [
    "\setcounter{page}{1}     \setcounter{tocdepth}{2}"
   ]
  },
  {
   "cell_type": "markdown",
   "metadata": {},
   "source": [
    "{1.3}         \tableofcontents                  \listoffigures         \vspace*{5ex}         \listoftables"
   ]
  },
  {
   "cell_type": "markdown",
   "metadata": {},
   "source": [
    "\linenumbers\pagewiselinenumbers"
   ]
  },
  {
   "cell_type": "markdown",
   "metadata": {},
   "source": [
    "\cleardoublepage     \pagenumbering{arabic}"
   ]
  },
  {
   "cell_type": "markdown",
   "metadata": {},
   "source": [
    "\setcounter{chapter}{0}"
   ]
  },
  {
   "cell_type": "markdown",
   "metadata": {},
   "source": [
    ""
   ]
  },
  {
   "cell_type": "markdown",
   "metadata": {},
   "source": [
    ""
   ]
  },
  {
   "cell_type": "markdown",
   "metadata": {},
   "source": [
    ""
   ]
  },
  {
   "cell_type": "markdown",
   "metadata": {},
   "source": [
    "# Introduction"
   ]
  },
  {
   "cell_type": "markdown",
   "metadata": {},
   "source": [
    "{introduction}"
   ]
  },
  {
   "cell_type": "markdown",
   "metadata": {},
   "source": [
    "This collection of programming examples supplements the OpenMP API for Shared Memory Parallelization specifications, and is not part of the formal specifications. It assumes familiarity with the OpenMP specifications, and shares the typographical conventions used in that document."
   ]
  },
  {
   "cell_type": "markdown",
   "metadata": {},
   "source": [
    "The OpenMP API specification provides a model for parallel programming that is portable across shared memory architectures from different vendors. Compilers from numerous vendors support the OpenMP API."
   ]
  },
  {
   "cell_type": "markdown",
   "metadata": {},
   "source": [
    "The directives, library routines, and environment variables demonstrated in this document allow users to create and manage parallel programs while permitting portability. The directives extend the C, C++ and Fortran base languages with single program multiple data (SPMD) constructs, tasking constructs, device constructs, worksharing constructs, and synchronization constructs, and they provide support for sharing and privatizing data. The functionality to control the runtime environment is provided by library routines and environment variables. Compilers that support the OpenMP API often include a command line option to the compiler that activates and allows interpretation of all OpenMP directives."
   ]
  },
  {
   "cell_type": "markdown",
   "metadata": {},
   "source": [
    "The documents and source codes for OpenMP Examples can be downloaded from [https://github.com/OpenMP/Examples](https://github.com/OpenMP/Examples). Each directory holds the contents of a chapter and has a \splc{sources} subdirectory of its codes.  The codes for this OpenMP 5.0.1 Examples document have the tag  [https://github.com/OpenMP/Examples/tree/v5.0.1]{ _v\PVER_ }."
   ]
  },
  {
   "cell_type": "markdown",
   "metadata": {},
   "source": [
    "Complete information about the OpenMP API and a list of the compilers that support the OpenMP API can be found at the OpenMP.org web site"
   ]
  },
  {
   "cell_type": "markdown",
   "metadata": {},
   "source": [
    "`https://www.openmp.org`"
   ]
  },
  {
   "cell_type": "markdown",
   "metadata": {},
   "source": [
    ""
   ]
  },
  {
   "cell_type": "markdown",
   "metadata": {},
   "source": [
    ""
   ]
  },
  {
   "cell_type": "markdown",
   "metadata": {},
   "source": [
    "../../introduction/Examples.tex"
   ]
  },
  {
   "cell_type": "markdown",
   "metadata": {},
   "source": [
    ""
   ]
  },
  {
   "cell_type": "markdown",
   "metadata": {},
   "source": [
    "../../Chap_introduction.tex"
   ]
  },
  {
   "cell_type": "markdown",
   "metadata": {},
   "source": [
    ""
   ]
  },
  {
   "cell_type": "markdown",
   "metadata": {},
   "source": [
    "# OpenMP Directive Syntax"
   ]
  },
  {
   "cell_type": "markdown",
   "metadata": {},
   "source": [
    "{directives}  \index{directive syntax}"
   ]
  },
  {
   "cell_type": "markdown",
   "metadata": {},
   "source": [
    "OpenMP **directives** use base-language mechanisms to specify OpenMP program behavior. In C code, the directives are formed exclusively with pragmas, whereas in C++ code, directives are formed from either pragmas or attributes. Fortran directives are formed with comments in free form and fixed form sources (codes). All of these mechanisms allow the compilation to ignore the OpenMP directives if OpenMP is not supported or enabled."
   ]
  },
  {
   "cell_type": "markdown",
   "metadata": {},
   "source": [
    ""
   ]
  },
  {
   "cell_type": "markdown",
   "metadata": {},
   "source": [
    "The OpenMP directive is a combination of the base-language mechanism and a  _directive-specification_ , as shown below. The  _directive-specification_  consists of the  _directive-name_  which may seldomly have arguments,  followed by optional  _clauses_ . Full details of the syntax can be found in the OpenMP Specification. Illustrations of the syntax is given in the examples."
   ]
  },
  {
   "cell_type": "markdown",
   "metadata": {},
   "source": [
    "The formats for combining a base-language mechanism and a  _directive-specification_  are:"
   ]
  },
  {
   "cell_type": "markdown",
   "metadata": {},
   "source": [
    "C/C++ pragmas  `#pragma omp`  _directive-specification_"
   ]
  },
  {
   "cell_type": "markdown",
   "metadata": {},
   "source": [
    "C++ attributes  `[[omp :: directive(`  _directive-specification_  `)]]` `[[using omp : directive(`  _directive-specification_  `)]]`"
   ]
  },
  {
   "cell_type": "markdown",
   "metadata": {},
   "source": [
    "Fortran comments  `!$omp`  _directive-specification_"
   ]
  },
  {
   "cell_type": "markdown",
   "metadata": {},
   "source": [
    "where `c$omp` and `*$omp` may be used in Fortran fixed form sources."
   ]
  },
  {
   "cell_type": "markdown",
   "metadata": {},
   "source": [
    "Most OpenMP directives accept clauses that alter the semantics of the directive in some way,  and some directives also accept parenthesized arguments that follow the directive name.  A clause may just be a keyword (e.g., \scode{untied}) or it may also accept argument lists  (e.g., \scode{shared(x,y,z)}) and/or optional modifiers (e.g., \scode{tofrom} in  \scode{map(tofrom:} \scode{x,y,z)}). Clause modifiers may be \"simple\" or \"complex\" -- a complex modifier consists of a  keyword followed by one or more parameters, bracketed by parentheses, while a simple  modifier does not. An example of a complex modifier is the \scode{iterator} modifier,  as in \scode{map(iterator(i=0:n),} \scode{tofrom:} \scode{p[i])}, or the \scode{step} modifier, as in  \scode{linear(x:} \scode{ref,} \scode{step(4))}.  In the preceding examples, \scode{tofrom} and \scode{ref} are simple modifiers."
   ]
  },
  {
   "cell_type": "markdown",
   "metadata": {},
   "source": [
    ""
   ]
  },
  {
   "cell_type": "markdown",
   "metadata": {},
   "source": [
    ""
   ]
  },
  {
   "cell_type": "markdown",
   "metadata": {},
   "source": [
    "../../directives/pragmas.tex"
   ]
  },
  {
   "cell_type": "markdown",
   "metadata": {},
   "source": [
    "../../directives/attributes.tex"
   ]
  },
  {
   "cell_type": "markdown",
   "metadata": {},
   "source": [
    "../../directives/fixed_format_comments.tex"
   ]
  },
  {
   "cell_type": "markdown",
   "metadata": {},
   "source": [
    "../../directives/free_format_comments.tex"
   ]
  },
  {
   "cell_type": "markdown",
   "metadata": {},
   "source": [
    ""
   ]
  },
  {
   "cell_type": "markdown",
   "metadata": {},
   "source": [
    "../../Chap_directives.tex"
   ]
  },
  {
   "cell_type": "markdown",
   "metadata": {},
   "source": [
    ""
   ]
  },
  {
   "cell_type": "markdown",
   "metadata": {},
   "source": [
    "# Parallel Execution"
   ]
  },
  {
   "cell_type": "markdown",
   "metadata": {},
   "source": [
    "{parallel_execution}"
   ]
  },
  {
   "cell_type": "markdown",
   "metadata": {},
   "source": [
    "A single thread, the  _initial thread_ , begins sequential execution of  an OpenMP enabled program, as if the whole program is in an implicit parallel region consisting of an implicit task executed by the  _initial thread_ ."
   ]
  },
  {
   "cell_type": "markdown",
   "metadata": {},
   "source": [
    "A `parallel` construct encloses code,  forming a parallel region.  An  _initial thread_  encountering a `parallel`  region forks (creates) a team of threads at the beginning of the  `parallel` region, and joins them (removes from execution) at the  end of the region.  The initial thread becomes the primary thread of the team in a  `parallel` region with a  _thread_  number equal to zero, the other  threads are numbered from 1 to number of threads minus 1.  A team may be comprised of just a single thread."
   ]
  },
  {
   "cell_type": "markdown",
   "metadata": {},
   "source": [
    "Each thread of a team is assigned an implicit task consisting of code within the  parallel region. The task that creates a parallel region is suspended while the tasks of the team are executed.  A thread is tied to its task; that is, only the thread assigned to the task can execute that task.  After completion  of the `parallel` region, the primary thread resumes execution of the generating task."
   ]
  },
  {
   "cell_type": "markdown",
   "metadata": {},
   "source": [
    ""
   ]
  },
  {
   "cell_type": "markdown",
   "metadata": {},
   "source": [
    "Any task within a `parallel` region is allowed to encounter another `parallel` region to form a nested `parallel` region. The  parallelism of a nested `parallel` region (whether it forks additional  threads, or is executed serially by the encountering task) can be controlled by the `OMP_NESTED` environment variable or the `omp_set_nested()`  API routine with arguments indicating true or false."
   ]
  },
  {
   "cell_type": "markdown",
   "metadata": {},
   "source": [
    "The number of threads of a `parallel` region can be set by the `OMP_NUM_THREADS` environment variable, the `omp_set_num_threads()` routine, or on the `parallel`  directive with the `num_threads` clause. The routine overrides the environment variable, and the clause overrides all.  Use the `OMP_DYNAMIC` or the `omp_set_dynamic()` function to specify that the OpenMP implementation dynamically adjust the number of threads for `parallel` regions.  The default setting for dynamic adjustment is implementation defined. When dynamic adjustment is on and the number of threads is specified, the number of threads becomes an upper limit for the number of threads to be provided by the OpenMP runtime."
   ]
  },
  {
   "cell_type": "markdown",
   "metadata": {},
   "source": [
    ""
   ]
  },
  {
   "cell_type": "markdown",
   "metadata": {},
   "source": [
    ""
   ]
  },
  {
   "cell_type": "markdown",
   "metadata": {},
   "source": [
    "WORKSHARING CONSTRUCTS"
   ]
  },
  {
   "cell_type": "markdown",
   "metadata": {},
   "source": [
    "A worksharing construct distributes the execution of the associated region among the members of the team that encounter it.  There is an implied barrier at the end of the worksharing region (there is no barrier at the beginning). The worksharing constructs are:"
   ]
  },
  {
   "cell_type": "markdown",
   "metadata": {},
   "source": [
    ""
   ]
  },
  {
   "cell_type": "markdown",
   "metadata": {},
   "source": [
    ""
   ]
  },
  {
   "cell_type": "markdown",
   "metadata": {},
   "source": [
    "*  loop constructs: {`for` and `do` }"
   ]
  },
  {
   "cell_type": "markdown",
   "metadata": {},
   "source": [
    "*  `sections`"
   ]
  },
  {
   "cell_type": "markdown",
   "metadata": {},
   "source": [
    "*  `single`"
   ]
  },
  {
   "cell_type": "markdown",
   "metadata": {},
   "source": [
    "*  `workshare`"
   ]
  },
  {
   "cell_type": "markdown",
   "metadata": {},
   "source": [
    ""
   ]
  },
  {
   "cell_type": "markdown",
   "metadata": {},
   "source": [
    "The `for` and `do` constructs (loop constructs) create a region  consisting of a loop.  A loop controlled by a loop construct is called  an  _associated_  loop.  Nested loops can form a single region when the  `collapse` clause (with an integer argument) designates the number of   _associated_  loops to be executed in parallel, by forming a  \"single iteration space\" for the specified number of nested loops.   The `ordered` clause can also control multiple associated loops."
   ]
  },
  {
   "cell_type": "markdown",
   "metadata": {},
   "source": [
    "An associated loop must adhere to a \"canonical form\" (specified in the   _Canonical Loop Form_  of the OpenMP Specifications document) which allows the  iteration count (of all associated loops) to be computed before the  (outermost) loop is executed. Most common loops comply with the canonical form, including C++ iterators."
   ]
  },
  {
   "cell_type": "markdown",
   "metadata": {},
   "source": [
    "A `single` construct forms a region in which only one thread (any one  of the team) executes the region.  The other threads wait at the implied  barrier at the end, unless the `nowait` clause is specified."
   ]
  },
  {
   "cell_type": "markdown",
   "metadata": {},
   "source": [
    "The `sections` construct forms a region that contains one or more  structured blocks.  Each block of a `sections` directive is  constructed with a `section` construct, and executed once by  one of the threads (any one) in the team.  (If only one block is  formed in the region, the `section` construct, which is used to separate blocks, is not required.) The other threads wait at the implied  barrier at the end, unless the `nowait` clause is specified."
   ]
  },
  {
   "cell_type": "markdown",
   "metadata": {},
   "source": [
    ""
   ]
  },
  {
   "cell_type": "markdown",
   "metadata": {},
   "source": [
    "The `workshare` construct is a Fortran feature that consists of a region with a single structure block (section of code). Statements in the `workshare` region are divided into units of work, and executed (once) by threads of the team."
   ]
  },
  {
   "cell_type": "markdown",
   "metadata": {},
   "source": [
    ""
   ]
  },
  {
   "cell_type": "markdown",
   "metadata": {},
   "source": [
    ""
   ]
  },
  {
   "cell_type": "markdown",
   "metadata": {},
   "source": [
    "MASKED CONSTRUCT"
   ]
  },
  {
   "cell_type": "markdown",
   "metadata": {},
   "source": [
    "The `masked` construct is not a worksharing construct.  The `masked` region is executed only by the primary thread. There is no implicit barrier (and flush)  at the end of the `masked` region; hence the other threads of the team continue execution beyond code statements beyond the `masked` region. The `master` construct, which has been deprecated in OpenMP 5.1, has identical semantics to the `masked` construct with no `filter` clause."
   ]
  },
  {
   "cell_type": "markdown",
   "metadata": {},
   "source": [
    ""
   ]
  },
  {
   "cell_type": "markdown",
   "metadata": {},
   "source": [
    ""
   ]
  },
  {
   "cell_type": "markdown",
   "metadata": {},
   "source": [
    "../../parallel_execution/ploop.tex"
   ]
  },
  {
   "cell_type": "markdown",
   "metadata": {},
   "source": [
    "../../parallel_execution/parallel.tex"
   ]
  },
  {
   "cell_type": "markdown",
   "metadata": {},
   "source": [
    "../../parallel_execution/host_teams.tex"
   ]
  },
  {
   "cell_type": "markdown",
   "metadata": {},
   "source": [
    "../../parallel_execution/nthrs_nesting.tex"
   ]
  },
  {
   "cell_type": "markdown",
   "metadata": {},
   "source": [
    "../../parallel_execution/nthrs_dynamic.tex"
   ]
  },
  {
   "cell_type": "markdown",
   "metadata": {},
   "source": [
    "../../parallel_execution/fort_do.tex"
   ]
  },
  {
   "cell_type": "markdown",
   "metadata": {},
   "source": [
    "../../parallel_execution/nowait.tex"
   ]
  },
  {
   "cell_type": "markdown",
   "metadata": {},
   "source": [
    "../../parallel_execution/collapse.tex"
   ]
  },
  {
   "cell_type": "markdown",
   "metadata": {},
   "source": [
    "../../parallel_execution/linear_in_loop.tex"
   ]
  },
  {
   "cell_type": "markdown",
   "metadata": {},
   "source": [
    "../../parallel_execution/psections.tex"
   ]
  },
  {
   "cell_type": "markdown",
   "metadata": {},
   "source": [
    "../../parallel_execution/fpriv_sections.tex"
   ]
  },
  {
   "cell_type": "markdown",
   "metadata": {},
   "source": [
    "../../parallel_execution/single.tex"
   ]
  },
  {
   "cell_type": "markdown",
   "metadata": {},
   "source": [
    "../../parallel_execution/workshare.tex"
   ]
  },
  {
   "cell_type": "markdown",
   "metadata": {},
   "source": [
    "../../parallel_execution/masked.tex"
   ]
  },
  {
   "cell_type": "markdown",
   "metadata": {},
   "source": [
    "../../parallel_execution/loop.tex"
   ]
  },
  {
   "cell_type": "markdown",
   "metadata": {},
   "source": [
    "../../parallel_execution/pra_iterator.tex"
   ]
  },
  {
   "cell_type": "markdown",
   "metadata": {},
   "source": [
    "../../parallel_execution/set_dynamic_nthrs.tex"
   ]
  },
  {
   "cell_type": "markdown",
   "metadata": {},
   "source": [
    "../../parallel_execution/get_nthrs.tex"
   ]
  },
  {
   "cell_type": "markdown",
   "metadata": {},
   "source": [
    "../../Chap_parallel_execution.tex"
   ]
  },
  {
   "cell_type": "markdown",
   "metadata": {},
   "source": [
    ""
   ]
  },
  {
   "cell_type": "markdown",
   "metadata": {},
   "source": [
    "# OpenMP Affinity"
   ]
  },
  {
   "cell_type": "markdown",
   "metadata": {},
   "source": [
    "{affinity}"
   ]
  },
  {
   "cell_type": "markdown",
   "metadata": {},
   "source": [
    "OpenMP Affinity consists of a `proc_bind` policy (thread affinity policy) and a specification of places ( **\"** location units **\"**  or  _processors_  that may be cores, hardware threads, sockets, etc.).   OpenMP Affinity enables users to bind computations on specific places. The placement will hold for the duration of the parallel region.  However, the runtime is free to migrate the OpenMP threads  to different cores (hardware threads, sockets, etc.) prescribed within a given place,  if two or more cores (hardware threads, sockets, etc.) have been assigned to a given place."
   ]
  },
  {
   "cell_type": "markdown",
   "metadata": {},
   "source": [
    "Often the binding can be managed without resorting to explicitly setting places. Without the specification of places in the `OMP_PLACES` variable,  the OpenMP runtime will distribute and bind threads using the entire range of processors for  the OpenMP program, according to the `OMP_PROC_BIND` environment variable or the `proc_bind` clause.  When places are specified, the OMP runtime binds threads to the places according to a default distribution policy, or those specified in the `OMP_PROC_BIND` environment variable or the `proc_bind` clause."
   ]
  },
  {
   "cell_type": "markdown",
   "metadata": {},
   "source": [
    "In the OpenMP Specifications document a processor refers to an execution unit that is enabled for an OpenMP thread to use.  A processor is a core when there is no SMT (Simultaneous Multi-Threading) support or SMT is disabled.  When  SMT is enabled, a processor is a hardware thread (HW-thread). (This is the usual case; but actually, the execution unit is implementation defined.) Processor numbers are numbered sequentially from 0 to the number of cores less one (without SMT), or 0 to the number HW-threads less one (with SMT). OpenMP places use the processor number to designate binding locations (unless an  **\"** abstract name **\"**  is used.)"
   ]
  },
  {
   "cell_type": "markdown",
   "metadata": {},
   "source": [
    ""
   ]
  },
  {
   "cell_type": "markdown",
   "metadata": {},
   "source": [
    "The processors available to a process may be a subset of the system's processors.  This restriction may be the result of a  wrapper process controlling the execution (such as `numactl` on Linux systems),  compiler options, library-specific environment variables, or default kernel settings.  For instance, the execution of multiple MPI processes, launched on a single compute node, will each have a subset of processors as determined by the MPI launcher or set by MPI affinity environment  variables for the MPI library."
   ]
  },
  {
   "cell_type": "markdown",
   "metadata": {},
   "source": [
    ""
   ]
  },
  {
   "cell_type": "markdown",
   "metadata": {},
   "source": [
    "Threads of a team are positioned onto places in a compact manner, a  scattered distribution, or onto the primary thread's place, by setting the  `OMP_PROC_BIND` environment variable or the `proc_bind` clause  to  `close`, `spread`, or `primary` (`master` has been deprecated), respectively.  When  `OMP_PROC_BIND` is set to FALSE no binding is enforced; and  when the value is TRUE, the binding is implementation defined to  a set of places in the `OMP_PLACES` variable or to places  defined by the implementation if the `OMP_PLACES` variable  is not set."
   ]
  },
  {
   "cell_type": "markdown",
   "metadata": {},
   "source": [
    "The `OMP_PLACES` variable can also be set to an abstract name  (`threads`, `cores`, `sockets`) to specify that a place is either a single hardware thread, a core, or a socket, respectively.  This description of the `OMP_PLACES` is most useful when the  number of threads is equal to the number of hardware thread, cores or sockets.  It can also be used with a `close` or `spread`  distribution policy when the equality doesn't hold."
   ]
  },
  {
   "cell_type": "markdown",
   "metadata": {},
   "source": [
    ""
   ]
  },
  {
   "cell_type": "markdown",
   "metadata": {},
   "source": [
    ""
   ]
  },
  {
   "cell_type": "markdown",
   "metadata": {},
   "source": [
    ""
   ]
  },
  {
   "cell_type": "markdown",
   "metadata": {},
   "source": [
    ""
   ]
  },
  {
   "cell_type": "markdown",
   "metadata": {},
   "source": [
    ""
   ]
  },
  {
   "cell_type": "markdown",
   "metadata": {},
   "source": [
    ""
   ]
  },
  {
   "cell_type": "markdown",
   "metadata": {},
   "source": [
    ""
   ]
  },
  {
   "cell_type": "markdown",
   "metadata": {},
   "source": [
    ""
   ]
  },
  {
   "cell_type": "markdown",
   "metadata": {},
   "source": [
    "../../affinity/affinity.tex"
   ]
  },
  {
   "cell_type": "markdown",
   "metadata": {},
   "source": [
    "../../affinity/task_affinity.tex"
   ]
  },
  {
   "cell_type": "markdown",
   "metadata": {},
   "source": [
    "../../affinity/affinity_display.tex"
   ]
  },
  {
   "cell_type": "markdown",
   "metadata": {},
   "source": [
    "../../affinity/affinity_query.tex"
   ]
  },
  {
   "cell_type": "markdown",
   "metadata": {},
   "source": [
    "../../Chap_affinity.tex"
   ]
  },
  {
   "cell_type": "markdown",
   "metadata": {},
   "source": [
    ""
   ]
  },
  {
   "cell_type": "markdown",
   "metadata": {},
   "source": [
    "# Tasking"
   ]
  },
  {
   "cell_type": "markdown",
   "metadata": {},
   "source": [
    "{tasking}"
   ]
  },
  {
   "cell_type": "markdown",
   "metadata": {},
   "source": [
    "Tasking constructs provide units of work to a thread for execution.   Worksharing constructs do this, too (e.g. `for`, `do`,  `sections`, and `singles` constructs);  but the work units are tightly controlled by an iteration limit and limited  scheduling, or a limited number of `sections` or `single` regions.  Worksharing was designed  with  **\"** data parallel **\"**  computing in mind.  Tasking was designed for   **\"** task parallel **\"**  computing and often involves non-locality or irregularity  in memory access."
   ]
  },
  {
   "cell_type": "markdown",
   "metadata": {},
   "source": [
    "The `task` construct can be used to execute work chunks: in a while loop;  while traversing nodes in a list; at nodes in a tree graph;  or in a normal loop (with a `taskloop` construct).   Unlike the statically scheduled loop iterations of worksharing, a task is  often enqueued, and then dequeued for execution by any of the threads of the team within a parallel region. The generation of tasks can be from a single  generating thread (creating sibling tasks), or from multiple generators in a recursive graph tree traversals.  A `taskloop` construct bundles iterations of an associated loop into tasks, and provides  similar controls found in the `task` construct."
   ]
  },
  {
   "cell_type": "markdown",
   "metadata": {},
   "source": [
    "Sibling tasks are synchronized by the `taskwait` construct, and tasks and their descendent tasks can be synchronized by containing them in a `taskgroup` region.  Ordered execution is accomplished by specifying dependences with a `depend` clause. Also, priorities can be specified as hints to the scheduler through a `priority` clause."
   ]
  },
  {
   "cell_type": "markdown",
   "metadata": {},
   "source": [
    "Various clauses can be used to manage and optimize task generation, as well as reduce the overhead of execution and to relinquish  control of threads for work balance and forward progress."
   ]
  },
  {
   "cell_type": "markdown",
   "metadata": {},
   "source": [
    "Once a thread starts executing a task, it is the designated thread  for executing the task to completion, even though it may leave the execution at a scheduling point and return later.  The thread is tied to the task.  Scheduling points can be introduced with the `taskyield` construct.  With an `untied` clause any other thread is allowed to continue the task.  An `if` clause with an expression that evaluates to  _false_   results in an **undeferred** task, which instructs the runtime to suspend the generating task until the undeferred task completes its execution. By including the data environment of the generating task into the generated task with the  `mergeable` and `final` clauses, task generation overhead can be reduced."
   ]
  },
  {
   "cell_type": "markdown",
   "metadata": {},
   "source": [
    "A complete list of the tasking constructs and details of their clauses can be found in the  _Tasking Constructs_  chapter of the OpenMP Specifications, in the  _OpenMP Application Programming Interface_  section."
   ]
  },
  {
   "cell_type": "markdown",
   "metadata": {},
   "source": [
    ""
   ]
  },
  {
   "cell_type": "markdown",
   "metadata": {},
   "source": [
    ""
   ]
  },
  {
   "cell_type": "markdown",
   "metadata": {},
   "source": [
    "../../tasking/tasking.tex"
   ]
  },
  {
   "cell_type": "markdown",
   "metadata": {},
   "source": [
    "../../tasking/task_priority.tex"
   ]
  },
  {
   "cell_type": "markdown",
   "metadata": {},
   "source": [
    "../../tasking/task_dep.tex"
   ]
  },
  {
   "cell_type": "markdown",
   "metadata": {},
   "source": [
    "../../tasking/task_detach.tex"
   ]
  },
  {
   "cell_type": "markdown",
   "metadata": {},
   "source": [
    "../../tasking/taskgroup.tex"
   ]
  },
  {
   "cell_type": "markdown",
   "metadata": {},
   "source": [
    "../../tasking/taskyield.tex"
   ]
  },
  {
   "cell_type": "markdown",
   "metadata": {},
   "source": [
    "../../tasking/taskloop.tex"
   ]
  },
  {
   "cell_type": "markdown",
   "metadata": {},
   "source": [
    "../../tasking/parallel_masked_taskloop.tex"
   ]
  },
  {
   "cell_type": "markdown",
   "metadata": {},
   "source": [
    "../../Chap_tasking.tex"
   ]
  },
  {
   "cell_type": "markdown",
   "metadata": {},
   "source": [
    ""
   ]
  },
  {
   "cell_type": "markdown",
   "metadata": {},
   "source": [
    "# Devices"
   ]
  },
  {
   "cell_type": "markdown",
   "metadata": {},
   "source": [
    "{devices}"
   ]
  },
  {
   "cell_type": "markdown",
   "metadata": {},
   "source": [
    "The `target` construct consists of a `target` directive  and an execution region. The `target` region is executed on the default device or the device specified in the `device`  clause."
   ]
  },
  {
   "cell_type": "markdown",
   "metadata": {},
   "source": [
    "In OpenMP version 4.0, by default, all variables within the lexical scope of the construct are copied  _to_  and  _from_  the device, unless the device is the host, or the data exists on the device from a previously executed data-type construct that has created space on the device and possibly copied host data to the device storage."
   ]
  },
  {
   "cell_type": "markdown",
   "metadata": {},
   "source": [
    "The constructs that explicitly create storage, transfer data, and free storage on the device are categorized as structured and unstructured. The `target` `data` construct is structured. It creates a data region around `target` constructs, and is convenient for providing persistent data throughout multiple `target` regions. The `target` `enter` `data` and  `target` `exit` `data` constructs are unstructured, because  they can occur anywhere and do not support a \"structure\"  (a region) for enclosing `target` constructs, as does the `target` `data` construct."
   ]
  },
  {
   "cell_type": "markdown",
   "metadata": {},
   "source": [
    "The `map` clause is used on `target`  constructs and the data-type constructs to map host data. It  specifies the device storage and data movement `to` and `from` the device, and controls on the storage duration."
   ]
  },
  {
   "cell_type": "markdown",
   "metadata": {},
   "source": [
    "There is an important change in the OpenMP 4.5 specification that alters the data model for scalar variables and C/C++ pointer variables. The default behavior for scalar variables and C/C++ pointer variables in a 4.5 compliant code is `firstprivate`. Example codes that have been updated to reflect this new behavior are annotated with a description that describes changes required for correct execution. Often it is a simple matter of mapping the variable as `tofrom` to obtain the intended 4.0 behavior."
   ]
  },
  {
   "cell_type": "markdown",
   "metadata": {},
   "source": [
    "In OpenMP version 4.5 the mechanism for target execution is specified as occurring through a  _target task_ .  When the `target` construct is encountered a new   _target task_  is generated. The  _target task_   completes after the `target` region has executed and all data  transfers have finished."
   ]
  },
  {
   "cell_type": "markdown",
   "metadata": {},
   "source": [
    "This new specification does not affect the execution of  pre-4.5 code; it is a necessary element for asynchronous  execution of the `target` region when using the new `nowait`  clause introduced in OpenMP 4.5."
   ]
  },
  {
   "cell_type": "markdown",
   "metadata": {},
   "source": [
    ""
   ]
  },
  {
   "cell_type": "markdown",
   "metadata": {},
   "source": [
    ""
   ]
  },
  {
   "cell_type": "markdown",
   "metadata": {},
   "source": [
    "../../devices/target.tex"
   ]
  },
  {
   "cell_type": "markdown",
   "metadata": {},
   "source": [
    "../../devices/target_defaultmap.tex"
   ]
  },
  {
   "cell_type": "markdown",
   "metadata": {},
   "source": [
    "../../devices/target_pointer_mapping.tex"
   ]
  },
  {
   "cell_type": "markdown",
   "metadata": {},
   "source": [
    "../../devices/target_structure_mapping.tex"
   ]
  },
  {
   "cell_type": "markdown",
   "metadata": {},
   "source": [
    "../../devices/target_fort_allocatable_array_mapping.tex"
   ]
  },
  {
   "cell_type": "markdown",
   "metadata": {},
   "source": [
    "../../devices/array_sections.tex \input{devices/C++_virtual_functions}"
   ]
  },
  {
   "cell_type": "markdown",
   "metadata": {},
   "source": [
    "../../devices/array_shaping.tex"
   ]
  },
  {
   "cell_type": "markdown",
   "metadata": {},
   "source": [
    "../../devices/target_mapper.tex"
   ]
  },
  {
   "cell_type": "markdown",
   "metadata": {},
   "source": [
    "../../devices/target_data.tex"
   ]
  },
  {
   "cell_type": "markdown",
   "metadata": {},
   "source": [
    "../../devices/target_unstructured_data.tex"
   ]
  },
  {
   "cell_type": "markdown",
   "metadata": {},
   "source": [
    "../../devices/target_update.tex"
   ]
  },
  {
   "cell_type": "markdown",
   "metadata": {},
   "source": [
    "../../devices/declare_target.tex"
   ]
  },
  {
   "cell_type": "markdown",
   "metadata": {},
   "source": [
    "../../devices/lambda_expressions.tex"
   ]
  },
  {
   "cell_type": "markdown",
   "metadata": {},
   "source": [
    "../../devices/teams.tex"
   ]
  },
  {
   "cell_type": "markdown",
   "metadata": {},
   "source": [
    "../../devices/async_target_depend.tex"
   ]
  },
  {
   "cell_type": "markdown",
   "metadata": {},
   "source": [
    "../../devices/async_target_with_tasks.tex"
   ]
  },
  {
   "cell_type": "markdown",
   "metadata": {},
   "source": [
    "../../devices/async_target_nowait.tex"
   ]
  },
  {
   "cell_type": "markdown",
   "metadata": {},
   "source": [
    "../../devices/async_target_nowait_depend.tex"
   ]
  },
  {
   "cell_type": "markdown",
   "metadata": {},
   "source": [
    "../../devices/device.tex"
   ]
  },
  {
   "cell_type": "markdown",
   "metadata": {},
   "source": [
    "../../Chap_devices.tex"
   ]
  },
  {
   "cell_type": "markdown",
   "metadata": {},
   "source": [
    ""
   ]
  },
  {
   "cell_type": "markdown",
   "metadata": {},
   "source": [
    "# SIMD"
   ]
  },
  {
   "cell_type": "markdown",
   "metadata": {},
   "source": [
    "{SIMD}"
   ]
  },
  {
   "cell_type": "markdown",
   "metadata": {},
   "source": [
    "Single instruction, multiple data (SIMD) is a form of parallel execution  in which the same operation is performed on multiple data elements  independently in hardware vector processing units (VPU), also called SIMD units. The addition of two vectors to form a third vector is a SIMD operation. Many processors have SIMD (vector) units that can perform simultaneously  2, 4, 8 or more executions of the same operation (by a single SIMD unit)."
   ]
  },
  {
   "cell_type": "markdown",
   "metadata": {},
   "source": [
    "Loops without loop-carried backward dependency (or with dependency preserved using  ordered simd) are candidates for vectorization by the compiler for  execution with SIMD units. In addition, with state-of-the-art vectorization  technology and `declare simd` directive extensions for function vectorization in the OpenMP 4.5 specification, loops with function calls can be vectorized as well.  The basic idea is that a scalar function call in a loop can be replaced by a vector version  of the function, and the loop can be vectorized simultaneously by combining a loop  vectorization (`simd` directive on the loop) and a function  vectorization (`declare simd` directive on the function)."
   ]
  },
  {
   "cell_type": "markdown",
   "metadata": {},
   "source": [
    "A `simd` construct states that SIMD operations be performed on the data within the loop.  A number of clauses are available to provide data-sharing attributes (`private`, `linear`, `reduction` and  `lastprivate`).  Other clauses provide vector length preference/restrictions  (`simdlen` / `safelen`), loop fusion (`collapse`), and data  alignment (`aligned`)."
   ]
  },
  {
   "cell_type": "markdown",
   "metadata": {},
   "source": [
    "The `declare simd` directive designates that a vector version of the function should also be constructed for  execution within loops that contain the function and have a `simd`  directive.  Clauses provide argument specifications (`linear`, `uniform`, and `aligned`), a requested vector length  (`simdlen`), and designate whether the function is always/never  called conditionally in a loop (`notinbranch`/`inbranch`).  The latter is for optimizing performance."
   ]
  },
  {
   "cell_type": "markdown",
   "metadata": {},
   "source": [
    "Also, the `simd` construct has been combined with the worksharing loop  constructs (`for simd` and `do simd`) to enable simultaneous thread  execution in different SIMD units."
   ]
  },
  {
   "cell_type": "markdown",
   "metadata": {},
   "source": [
    ""
   ]
  },
  {
   "cell_type": "markdown",
   "metadata": {},
   "source": [
    ""
   ]
  },
  {
   "cell_type": "markdown",
   "metadata": {},
   "source": [
    "../../SIMD/SIMD.tex"
   ]
  },
  {
   "cell_type": "markdown",
   "metadata": {},
   "source": [
    "../../SIMD/linear_modifier.tex"
   ]
  },
  {
   "cell_type": "markdown",
   "metadata": {},
   "source": [
    ""
   ]
  },
  {
   "cell_type": "markdown",
   "metadata": {},
   "source": [
    "../../Chap_SIMD.tex"
   ]
  },
  {
   "cell_type": "markdown",
   "metadata": {},
   "source": [
    ""
   ]
  },
  {
   "cell_type": "markdown",
   "metadata": {},
   "source": [
    "# Loop Transformations"
   ]
  },
  {
   "cell_type": "markdown",
   "metadata": {},
   "source": [
    "{loop_transformations}"
   ]
  },
  {
   "cell_type": "markdown",
   "metadata": {},
   "source": [
    "To obtain better performance on a platform, code may need to be restructured  relative to the way it is written (which is often for best readability). User-directed loop transformations accomplish this goal by providing a means  to separate code semantics and its optimization."
   ]
  },
  {
   "cell_type": "markdown",
   "metadata": {},
   "source": [
    "A loop transformation construct states that a transformation operation is to be  performed on set of nested loops.  This directive approach can target specific loops for transformation, rather than applying more time-consuming general compiler  heuristics methods with compiler options that may not be able to discover  optimal transformations."
   ]
  },
  {
   "cell_type": "markdown",
   "metadata": {},
   "source": [
    "Loop transformations can be augmented by preprocessor support or OpenMP `metadirective`  directives, to select optimal dimension and size parameters for specific platforms, facilitating a single code base for multiple platforms. Moreover, directive-based transformations make experimenting easier:  whereby specific hot spots can be affected by transformation directives."
   ]
  },
  {
   "cell_type": "markdown",
   "metadata": {},
   "source": [
    ""
   ]
  },
  {
   "cell_type": "markdown",
   "metadata": {},
   "source": [
    ""
   ]
  },
  {
   "cell_type": "markdown",
   "metadata": {},
   "source": [
    "../../loop_transformations/tile.tex"
   ]
  },
  {
   "cell_type": "markdown",
   "metadata": {},
   "source": [
    "../../loop_transformations/unroll.tex"
   ]
  },
  {
   "cell_type": "markdown",
   "metadata": {},
   "source": [
    "../../loop_transformations/partial_tile.tex"
   ]
  },
  {
   "cell_type": "markdown",
   "metadata": {},
   "source": [
    "../../Chap_loop_transformations.tex"
   ]
  },
  {
   "cell_type": "markdown",
   "metadata": {},
   "source": [
    ""
   ]
  },
  {
   "cell_type": "markdown",
   "metadata": {},
   "source": [
    "# Synchronization"
   ]
  },
  {
   "cell_type": "markdown",
   "metadata": {},
   "source": [
    "{synchronization}"
   ]
  },
  {
   "cell_type": "markdown",
   "metadata": {},
   "source": [
    "The `barrier` construct is a stand-alone directive that requires all threads of a team (within a contention group) to execute the barrier and complete execution of all tasks within the region, before continuing past the barrier."
   ]
  },
  {
   "cell_type": "markdown",
   "metadata": {},
   "source": [
    "The `critical` construct is a directive that contains a structured block.  The construct allows only a single thread at a time to execute the structured block (region). Multiple critical regions may exist in a parallel region, and may act cooperatively (only one thread at a time in all `critical` regions), or separately (only one thread at a time in each `critical` regions when a unique name is supplied on each `critical` construct). An optional (lock) `hint` clause may be specified on a named `critical`  construct to provide the OpenMP runtime guidance in selection a locking  mechanism."
   ]
  },
  {
   "cell_type": "markdown",
   "metadata": {},
   "source": [
    "On a finer scale the `atomic` construct allows only a single thread at  a time to have atomic access to a storage location involving a single read,  write, update or capture statement, and a limited number of combinations  when specifying the `capture`  _atomic-clause_  clause.  The  _atomic-clause_  clause is required for some expression statements, but is not required for `update` statements. The  _memory-order_  clause can be used to specify the degree of memory ordering enforced by an `atomic` construct. From weakest to strongest, they are `relaxed` (the default), acquire and/or release clauses (specified with `acquire`, `release`, or `acq_rel`), and `seq_cst`.  Please see the details in the  _atomic Construct_  subsection of the  _Directives_  chapter in the OpenMP Specifications document."
   ]
  },
  {
   "cell_type": "markdown",
   "metadata": {},
   "source": [
    "The `ordered` construct either specifies a structured block in a loop,  simd, or loop SIMD region that will be executed in the order of the loop  iterations.  The ordered construct sequentializes and orders the execution  of ordered regions while allowing code outside the region to run in parallel."
   ]
  },
  {
   "cell_type": "markdown",
   "metadata": {},
   "source": [
    "Since OpenMP 4.5 the `ordered` construct can also be a stand-alone  directive that specifies cross-iteration dependences in a doacross loop nest.   The `depend` clause uses a `sink`  _dependence-type_ , along with an  iteration vector argument (vec) to indicate the iteration that satisfies the  dependence.  The `depend` clause with a `source`  _dependence-type_  specifies dependence satisfaction."
   ]
  },
  {
   "cell_type": "markdown",
   "metadata": {},
   "source": [
    "The `flush` directive is a stand-alone construct for enforcing consistency between a thread's view of memory and the view of memory for other threads (see the Memory Model chapter of this document for more details). When the construct is used with an explicit variable list, a  _strong flush_  that forces a thread's temporary view of memory to be consistent with the actual memory is applied to all listed variables. When the construct is used without an explicit variable list and without a  _memory-order_  clause, a strong flush is applied to all locally thread-visible data as defined by the base language, and additionally the construct provides both acquire and release memory ordering semantics.  When an explicit variable list is not present and a  _memory-order_  clause is present, the construct provides acquire and/or release memory ordering semantics according to the  _memory-order_  clause, but no strong flush is performed. A resulting strong flush that applies to a set of variables effectively ensures that no memory (load or store) operation for the affected variables may be reordered across the `flush` directive."
   ]
  },
  {
   "cell_type": "markdown",
   "metadata": {},
   "source": [
    "General-purpose routines provide mutual exclusion semantics through locks,  represented by lock variables.   The semantics allows a task to  _set_ , and hence   _own_  a lock, until it is  _unset_  by the task that set it. A   _nestable_  lock can be set multiple times by a task, and is used when in code requires nested control of locks.  A  _simple lock_  can only be set once by the owning task. There are specific calls for the two types of locks, and the variable of a specific lock type cannot be used by the other lock type."
   ]
  },
  {
   "cell_type": "markdown",
   "metadata": {},
   "source": [
    "Any explicit task will observe the synchronization prescribed in a  `barrier` construct and an implied barrier.  Also, additional synchronizations  are available for tasks.  All children of a task will wait at a `taskwait` (for  their siblings to complete).  A `taskgroup` construct creates a region in which the current task is suspended at the end of the region until all sibling tasks,  and their descendants, have completed.  Scheduling constraints on task execution can be prescribed by the `depend` clause to enforce dependence on previously generated tasks. More details on controlling task executions can be found in the  _Tasking_  Chapter in the OpenMP Specifications document."
   ]
  },
  {
   "cell_type": "markdown",
   "metadata": {},
   "source": [
    ""
   ]
  },
  {
   "cell_type": "markdown",
   "metadata": {},
   "source": [
    ""
   ]
  },
  {
   "cell_type": "markdown",
   "metadata": {},
   "source": [
    "../../synchronization/critical.tex"
   ]
  },
  {
   "cell_type": "markdown",
   "metadata": {},
   "source": [
    "../../synchronization/worksharing_critical.tex"
   ]
  },
  {
   "cell_type": "markdown",
   "metadata": {},
   "source": [
    "../../synchronization/barrier_regions.tex"
   ]
  },
  {
   "cell_type": "markdown",
   "metadata": {},
   "source": [
    "../../synchronization/atomic.tex"
   ]
  },
  {
   "cell_type": "markdown",
   "metadata": {},
   "source": [
    "../../synchronization/atomic_restrict.tex"
   ]
  },
  {
   "cell_type": "markdown",
   "metadata": {},
   "source": [
    "../../synchronization/flush_nolist.tex"
   ]
  },
  {
   "cell_type": "markdown",
   "metadata": {},
   "source": [
    "../../synchronization/acquire_release.tex"
   ]
  },
  {
   "cell_type": "markdown",
   "metadata": {},
   "source": [
    "../../synchronization/ordered.tex"
   ]
  },
  {
   "cell_type": "markdown",
   "metadata": {},
   "source": [
    "../../synchronization/depobj.tex"
   ]
  },
  {
   "cell_type": "markdown",
   "metadata": {},
   "source": [
    "../../synchronization/doacross.tex"
   ]
  },
  {
   "cell_type": "markdown",
   "metadata": {},
   "source": [
    "../../synchronization/locks.tex"
   ]
  },
  {
   "cell_type": "markdown",
   "metadata": {},
   "source": [
    "../../synchronization/init_lock.tex"
   ]
  },
  {
   "cell_type": "markdown",
   "metadata": {},
   "source": [
    "../../synchronization/init_lock_with_hint.tex"
   ]
  },
  {
   "cell_type": "markdown",
   "metadata": {},
   "source": [
    "../../synchronization/lock_owner.tex"
   ]
  },
  {
   "cell_type": "markdown",
   "metadata": {},
   "source": [
    "../../synchronization/simple_lock.tex"
   ]
  },
  {
   "cell_type": "markdown",
   "metadata": {},
   "source": [
    "../../synchronization/nestable_lock.tex"
   ]
  },
  {
   "cell_type": "markdown",
   "metadata": {},
   "source": [
    "../../Chap_synchronization.tex"
   ]
  },
  {
   "cell_type": "markdown",
   "metadata": {},
   "source": [
    ""
   ]
  },
  {
   "cell_type": "markdown",
   "metadata": {},
   "source": [
    "# Data Environment"
   ]
  },
  {
   "cell_type": "markdown",
   "metadata": {},
   "source": [
    "{data_environment}  The OpenMP  _data environment_  contains data attributes of variables and objects.  Many constructs (such as `parallel`, `simd`, `task`)  accept clauses to control  _data-sharing_  attributes of referenced variables in the construct, where  _data-sharing_  applies to whether the attribute of the variable is  _shared_ ,  is  _private_  storage, or has special operational characteristics  (as found in the `firstprivate`, `lastprivate`, `linear`, or `reduction` clause)."
   ]
  },
  {
   "cell_type": "markdown",
   "metadata": {},
   "source": [
    "The data environment for a device (distinguished as a  _device data environment_ ) is controlled on the host by  _data-mapping_  attributes, which determine the relationship of the data on the host, the  _original_  data, and the data on the device, the  _corresponding_  data."
   ]
  },
  {
   "cell_type": "markdown",
   "metadata": {},
   "source": [
    ""
   ]
  },
  {
   "cell_type": "markdown",
   "metadata": {},
   "source": [
    ""
   ]
  },
  {
   "cell_type": "markdown",
   "metadata": {},
   "source": [
    "DATA-SHARING ATTRIBUTES"
   ]
  },
  {
   "cell_type": "markdown",
   "metadata": {},
   "source": [
    "Data-sharing attributes of variables can be classified as being  _predetermined_ ,  _explicitly determined_  or  _implicitly determined_ ."
   ]
  },
  {
   "cell_type": "markdown",
   "metadata": {},
   "source": [
    "Certain variables and objects have predetermined attributes.   A commonly found case is the loop iteration variable in associated loops  of a `for` or `do` construct. It has a private data-sharing attribute. Variables with predetermined data-sharing attributes cannot be listed in a data-sharing clause; but there are some exceptions (mainly concerning loop iteration variables)."
   ]
  },
  {
   "cell_type": "markdown",
   "metadata": {},
   "source": [
    "Variables with explicitly determined data-sharing attributes are those that are referenced in a given construct and are listed in a data-sharing attribute clause on the construct. Some of the common data-sharing clauses are: `shared`, `private`, `firstprivate`, `lastprivate`,  `linear`, and `reduction`."
   ]
  },
  {
   "cell_type": "markdown",
   "metadata": {},
   "source": [
    "Variables with implicitly determined data-sharing attributes are those that are referenced in a given construct, do not have predetermined data-sharing attributes, and are not listed in a data-sharing attribute clause of an enclosing construct. For a complete list of variables and objects with predetermined and implicitly determined attributes, please refer to the  _Data-sharing Attribute Rules for Variables Referenced in a Construct_  subsection of the OpenMP Specifications document."
   ]
  },
  {
   "cell_type": "markdown",
   "metadata": {},
   "source": [
    ""
   ]
  },
  {
   "cell_type": "markdown",
   "metadata": {},
   "source": [
    ""
   ]
  },
  {
   "cell_type": "markdown",
   "metadata": {},
   "source": [
    "DATA-MAPPING ATTRIBUTES"
   ]
  },
  {
   "cell_type": "markdown",
   "metadata": {},
   "source": [
    "The `map` clause on a device construct explicitly specifies how the list items in the clause are mapped from the encountering task's data environment (on the host) to the corresponding item in the device data environment (on the device). The common  _list items_  are arrays, array sections, scalars, pointers, and structure elements (members)."
   ]
  },
  {
   "cell_type": "markdown",
   "metadata": {},
   "source": [
    "Procedures and global variables have predetermined data mapping if they appear within the list or block of a `declare` `target` directive. Also, a C/C++ pointer is mapped as a zero-length array section, as is a C++ variable that is a reference to a pointer."
   ]
  },
  {
   "cell_type": "markdown",
   "metadata": {},
   "source": [
    "Without explicit mapping, non-scalar and non-pointer variables within the scope of the `target` construct are implicitly mapped with a  _map-type_  of `tofrom`. Without explicit mapping, scalar variables within the scope of the `target` construct are not mapped, but have an implicit firstprivate data-sharing attribute. (That is, the value of the original variable is given to a private variable of the same name on the device.) This behavior can be changed with the `defaultmap` clause."
   ]
  },
  {
   "cell_type": "markdown",
   "metadata": {},
   "source": [
    "The `map` clause can appear on `target`, `target data` and  `target enter/exit data` constructs.  The operations of creation and removal of device storage as well as assignment of the original list item  values to the corresponding list items may be complicated when the list  item appears on multiple constructs or when the host and device storage  is shared. In these cases the item's reference count, the number of times it has been referenced (+1 on entry and -1 on exited) in nested (structured) map regions and/or accumulative (unstructured) mappings, determines the operation. Details of the `map` clause and reference count operation are specified  in the  _map Clause_  subsection of the OpenMP Specifications document."
   ]
  },
  {
   "cell_type": "markdown",
   "metadata": {},
   "source": [
    ""
   ]
  },
  {
   "cell_type": "markdown",
   "metadata": {},
   "source": [
    ""
   ]
  },
  {
   "cell_type": "markdown",
   "metadata": {},
   "source": [
    "../../data_environment/threadprivate.tex"
   ]
  },
  {
   "cell_type": "markdown",
   "metadata": {},
   "source": [
    "../../data_environment/default_none.tex"
   ]
  },
  {
   "cell_type": "markdown",
   "metadata": {},
   "source": [
    "../../data_environment/private.tex"
   ]
  },
  {
   "cell_type": "markdown",
   "metadata": {},
   "source": [
    "../../data_environment/fort_loopvar.tex"
   ]
  },
  {
   "cell_type": "markdown",
   "metadata": {},
   "source": [
    "../../data_environment/fort_sp_common.tex"
   ]
  },
  {
   "cell_type": "markdown",
   "metadata": {},
   "source": [
    "../../data_environment/fort_sa_private.tex"
   ]
  },
  {
   "cell_type": "markdown",
   "metadata": {},
   "source": [
    "../../data_environment/carrays_fpriv.tex"
   ]
  },
  {
   "cell_type": "markdown",
   "metadata": {},
   "source": [
    "../../data_environment/lastprivate.tex"
   ]
  },
  {
   "cell_type": "markdown",
   "metadata": {},
   "source": [
    "../../data_environment/reduction.tex"
   ]
  },
  {
   "cell_type": "markdown",
   "metadata": {},
   "source": [
    "../../data_environment/udr.tex"
   ]
  },
  {
   "cell_type": "markdown",
   "metadata": {},
   "source": [
    "../../data_environment/scan.tex"
   ]
  },
  {
   "cell_type": "markdown",
   "metadata": {},
   "source": [
    "../../data_environment/copyin.tex"
   ]
  },
  {
   "cell_type": "markdown",
   "metadata": {},
   "source": [
    "../../data_environment/copyprivate.tex"
   ]
  },
  {
   "cell_type": "markdown",
   "metadata": {},
   "source": [
    "../../data_environment/cpp_reference.tex"
   ]
  },
  {
   "cell_type": "markdown",
   "metadata": {},
   "source": [
    "../../data_environment/associate.tex"
   ]
  },
  {
   "cell_type": "markdown",
   "metadata": {},
   "source": [
    "../../Chap_data_environment.tex"
   ]
  },
  {
   "cell_type": "markdown",
   "metadata": {},
   "source": [
    ""
   ]
  },
  {
   "cell_type": "markdown",
   "metadata": {},
   "source": [
    "# Memory Model"
   ]
  },
  {
   "cell_type": "markdown",
   "metadata": {},
   "source": [
    "{memory_model}"
   ]
  },
  {
   "cell_type": "markdown",
   "metadata": {},
   "source": [
    "OpenMP provides a shared-memory model that allows all threads on a given device shared access to **memory**. For a given OpenMP region that may be executed by more than one thread or SIMD lane, variables in memory may be **shared** or **private** with respect to those threads or SIMD lanes. A variable's data-sharing attribute indicates whether it is shared (the **shared** attribute) or private (the **private**, **firstprivate**, **lastprivate**, **linear**, and **reduction** attributes) in the data environment of an OpenMP region. While private variables in an OpenMP region are new copies of the original variable (with same name) that may then be concurrently accessed or modified by their respective threads or SIMD lanes, a shared variable in an OpenMP region is the same as the variable of the same name in the enclosing region. Concurrent accesses or modifications to a shared variable may therefore require synchronization to avoid data races."
   ]
  },
  {
   "cell_type": "markdown",
   "metadata": {},
   "source": [
    "OpenMP's memory model also includes a **temporary view** of memory that is associated with each thread. Two different threads may see different values for a given variable in their respective temporary views. Threads may employ flush operations for the purposes of making their temporary view of a variable consistent with the value of the variable in memory. The effect of a given flush operation is characterized by its flush properties -- some combination of **strong**, **release**, and **acquire** -- and, for **strong** flushes, a **flush-set**."
   ]
  },
  {
   "cell_type": "markdown",
   "metadata": {},
   "source": [
    "A **strong** flush will force consistency between the temporary view and the memory for all variables in its **flush-set**.  Furthermore, all strong flushes in a program that have intersecting flush-sets will execute in some total order, and within a thread strong flushes may not be reordered with respect to other memory operations on variables in its flush-set. **Release** and **acquire** flushes operate in pairs. A release flush may \"synchronize'' with an acquire flush, and when it does so the local memory operations that precede the release flush will appear to have been completed before the local memory operations on the same variables that follow the acquire flush."
   ]
  },
  {
   "cell_type": "markdown",
   "metadata": {},
   "source": [
    "Flush operations arise from explicit `flush` directives, implicit `flush` directives, and also from the execution of `atomic` constructs. The `flush` directive forces a  consistent view of local variables of the thread executing the `flush`.  When a list is supplied on the directive, only the items (variables) in the list are guaranteed to be flushed.  Implied flushes exist at prescribed locations of certain constructs. For the complete list of these locations and associated constructs, please refer to the  _flush Construct_  section of the OpenMP Specifications document."
   ]
  },
  {
   "cell_type": "markdown",
   "metadata": {},
   "source": [
    "In this chapter, examples illustrate how race conditions may arise for accesses to variables with a  _shared_  data-sharing attribute when flush operations are not properly employed.  A race condition can exist when two or more threads are involved in accessing a variable and at least one of the accesses modifies the variable.  In particular, a data race will arise when conflicting accesses do not have a well-defined **completion order**.  The existence of data races in OpenMP programs result in undefined behavior, and so they should generally be avoided for programs to be correct.  The completion order of accesses to a shared variable is guaranteed in OpenMP through a set of memory consistency rules that are described in the  _OpenMP Memory Consistency_  section of the OpenMP Specifications document."
   ]
  },
  {
   "cell_type": "markdown",
   "metadata": {},
   "source": [
    ""
   ]
  },
  {
   "cell_type": "markdown",
   "metadata": {},
   "source": [
    ""
   ]
  },
  {
   "cell_type": "markdown",
   "metadata": {},
   "source": [
    ""
   ]
  },
  {
   "cell_type": "markdown",
   "metadata": {},
   "source": [
    ""
   ]
  },
  {
   "cell_type": "markdown",
   "metadata": {},
   "source": [
    ""
   ]
  },
  {
   "cell_type": "markdown",
   "metadata": {},
   "source": [
    ""
   ]
  },
  {
   "cell_type": "markdown",
   "metadata": {},
   "source": [
    ""
   ]
  },
  {
   "cell_type": "markdown",
   "metadata": {},
   "source": [
    "../../memory_model/mem_model.tex"
   ]
  },
  {
   "cell_type": "markdown",
   "metadata": {},
   "source": [
    "../../memory_model/allocators.tex"
   ]
  },
  {
   "cell_type": "markdown",
   "metadata": {},
   "source": [
    "../../memory_model/fort_race.tex"
   ]
  },
  {
   "cell_type": "markdown",
   "metadata": {},
   "source": [
    "../../Chap_memory_model.tex"
   ]
  },
  {
   "cell_type": "markdown",
   "metadata": {},
   "source": [
    ""
   ]
  },
  {
   "cell_type": "markdown",
   "metadata": {},
   "source": [
    "# Program Control"
   ]
  },
  {
   "cell_type": "markdown",
   "metadata": {},
   "source": [
    "{program_control}"
   ]
  },
  {
   "cell_type": "markdown",
   "metadata": {},
   "source": [
    "Basic concepts and mechanisms for directing and controlling a program compilation and execution are provided in this introduction and illustrated in subsequent examples."
   ]
  },
  {
   "cell_type": "markdown",
   "metadata": {},
   "source": [
    ""
   ]
  },
  {
   "cell_type": "markdown",
   "metadata": {},
   "source": [
    ""
   ]
  },
  {
   "cell_type": "markdown",
   "metadata": {},
   "source": [
    "CONDITIONAL COMPILATION and EXECUTION"
   ]
  },
  {
   "cell_type": "markdown",
   "metadata": {},
   "source": [
    "Conditional compilation can be performed with conventional #ifdef directives in C, C++, and Fortran, and additionally with OpenMP sentinel (`!$`) in Fortran.  The `if` clause on some directives can direct the runtime to ignore or alter the behavior of the construct. Of course, the base-language `if` statements can be used to control the execution of stand-alone directives (such as `flush`, `barrier`, `taskwait`,  and  `taskyield`). However, the directives must appear in a block structure, and not as a substatement. The `metadirective` and `declare` `variant` directives provide conditional  selection of directives and routines for compilation (and use), respectively. The `assume` and `requires` directives provide invariants for optimizing compilation, and essential features for compilation  and correct execution, respectively."
   ]
  },
  {
   "cell_type": "markdown",
   "metadata": {},
   "source": [
    ""
   ]
  },
  {
   "cell_type": "markdown",
   "metadata": {},
   "source": [
    ""
   ]
  },
  {
   "cell_type": "markdown",
   "metadata": {},
   "source": [
    ""
   ]
  },
  {
   "cell_type": "markdown",
   "metadata": {},
   "source": [
    "CANCELLATION"
   ]
  },
  {
   "cell_type": "markdown",
   "metadata": {},
   "source": [
    "Cancellation (termination) of the normal sequence of execution for the threads in an OpenMP region can be  accomplished with the `cancel` construct.  The construct uses a  _construct-type-clause_  to set the region-type to activate for the cancellation.  That is, inclusion  of one of the  _construct-type-clause_  names `parallel`, `for`,  `do`, `sections` or `taskgroup` on the directive line  activates the corresponding region.   The `cancel` construct is activated by the first encountering thread,  and it continues execution at the end of the named region. The `cancel` construct is also a cancellation point for any other thread of the team  to also continue execution at the end of the named region."
   ]
  },
  {
   "cell_type": "markdown",
   "metadata": {},
   "source": [
    "Also, once the specified region has been activated for cancellation any thread that encounnters  a `cancellation` `point` construct with the same named region ( _construct-type-clause_ ), continues execution at the end of the region."
   ]
  },
  {
   "cell_type": "markdown",
   "metadata": {},
   "source": [
    "For an activated `cancel taskgroup` construct, the tasks that belong to the taskgroup set of the innermost enclosing taskgroup region will be canceled."
   ]
  },
  {
   "cell_type": "markdown",
   "metadata": {},
   "source": [
    "A task that encounters a `cancel` `taskgroup` construct continues execution at the end of its task region. Any task of the taskgroup that has already begun execution will run to completion, unless it encounters a `cancellation` `point`; tasks that have not begun execution may be discarded as completed tasks."
   ]
  },
  {
   "cell_type": "markdown",
   "metadata": {},
   "source": [
    ""
   ]
  },
  {
   "cell_type": "markdown",
   "metadata": {},
   "source": [
    ""
   ]
  },
  {
   "cell_type": "markdown",
   "metadata": {},
   "source": [
    "CONTROL VARIABLES"
   ]
  },
  {
   "cell_type": "markdown",
   "metadata": {},
   "source": [
    "Internal control variables (ICV) are used by implementations to hold values which control the execution   of OpenMP regions.  Control (and hence the ICVs) may be set as implementation defaults,    or set and adjusted through environment variables, clauses, and API functions.      Initial ICV values are reported by the runtime   if the `OMP_DISPLAY_ENV` environment variable has been set to `TRUE` or `VERBOSE`."
   ]
  },
  {
   "cell_type": "markdown",
   "metadata": {},
   "source": [
    ""
   ]
  },
  {
   "cell_type": "markdown",
   "metadata": {},
   "source": [
    ""
   ]
  },
  {
   "cell_type": "markdown",
   "metadata": {},
   "source": [
    ""
   ]
  },
  {
   "cell_type": "markdown",
   "metadata": {},
   "source": [
    "NESTED CONSTRUCTS"
   ]
  },
  {
   "cell_type": "markdown",
   "metadata": {},
   "source": [
    "Certain combinations of nested constructs are permitted, giving rise to  _combined_  constructs consisting of two or more directives.  These can be used when the two (or several) constructs would be used immediately in succession (closely nested). A  _combined_  construct can use the clauses of the component constructs without restrictions. A  _composite_  construct is a combined construct which has one or more clauses with (an often obviously) modified or restricted meaning, relative to when the constructs are uncombined."
   ]
  },
  {
   "cell_type": "markdown",
   "metadata": {},
   "source": [
    ""
   ]
  },
  {
   "cell_type": "markdown",
   "metadata": {},
   "source": [
    "Certain nestings are forbidden, and often the reasoning is obvious.  For example, worksharing constructs cannot be nested, and the `barrier` construct cannot be nested inside a worksharing construct, or a `critical` construct.  Also, `target` constructs cannot be nested, unless the nested target is a reverse offload."
   ]
  },
  {
   "cell_type": "markdown",
   "metadata": {},
   "source": [
    "The `parallel` construct can be nested, as well as the `task` construct.   The parallel execution in the nested parallel construct(s) is controlled by the  `OMP_MAX_ACTIVE_LEVELS` environment variable, and the `omp_set_max_active_levels` routine.  Use the `omp_get_max_active_levels` routine to determine the maximum levels provided by an implementation. As of OpenMP 5.0, use of the `OMP_NESTED` environment variable and the `omp_set_nested` routine  has been deprecated."
   ]
  },
  {
   "cell_type": "markdown",
   "metadata": {},
   "source": [
    "More details on nesting can be found in the  _Nesting of Regions_  of the  _Directives_   chapter in the OpenMP Specifications document."
   ]
  },
  {
   "cell_type": "markdown",
   "metadata": {},
   "source": [
    ""
   ]
  },
  {
   "cell_type": "markdown",
   "metadata": {},
   "source": [
    ""
   ]
  },
  {
   "cell_type": "markdown",
   "metadata": {},
   "source": [
    "../../program_control/cond_comp.tex"
   ]
  },
  {
   "cell_type": "markdown",
   "metadata": {},
   "source": [
    "../../program_control/icv.tex"
   ]
  },
  {
   "cell_type": "markdown",
   "metadata": {},
   "source": [
    "../../program_control/standalone.tex"
   ]
  },
  {
   "cell_type": "markdown",
   "metadata": {},
   "source": [
    "../../program_control/cancellation.tex"
   ]
  },
  {
   "cell_type": "markdown",
   "metadata": {},
   "source": [
    "../../program_control/requires.tex"
   ]
  },
  {
   "cell_type": "markdown",
   "metadata": {},
   "source": [
    "../../program_control/variant.tex"
   ]
  },
  {
   "cell_type": "markdown",
   "metadata": {},
   "source": [
    "../../program_control/metadirective.tex"
   ]
  },
  {
   "cell_type": "markdown",
   "metadata": {},
   "source": [
    "../../program_control/nested_loop.tex"
   ]
  },
  {
   "cell_type": "markdown",
   "metadata": {},
   "source": [
    "../../program_control/nesting_restrict.tex"
   ]
  },
  {
   "cell_type": "markdown",
   "metadata": {},
   "source": [
    "../../program_control/target_offload.tex"
   ]
  },
  {
   "cell_type": "markdown",
   "metadata": {},
   "source": [
    "../../program_control/reproducible.tex"
   ]
  },
  {
   "cell_type": "markdown",
   "metadata": {},
   "source": [
    "../../program_control/interop.tex"
   ]
  },
  {
   "cell_type": "markdown",
   "metadata": {},
   "source": [
    "../../program_control/utilities.tex"
   ]
  },
  {
   "cell_type": "markdown",
   "metadata": {},
   "source": [
    "../../Chap_program_control.tex"
   ]
  },
  {
   "cell_type": "markdown",
   "metadata": {},
   "source": [
    ""
   ]
  },
  {
   "cell_type": "markdown",
   "metadata": {},
   "source": [
    "# OMPT Interface"
   ]
  },
  {
   "cell_type": "markdown",
   "metadata": {},
   "source": [
    "{ompt_interface}  OMPT defines mechanisms and an API for interfacing with tools in the OpenMP program."
   ]
  },
  {
   "cell_type": "markdown",
   "metadata": {},
   "source": [
    "The OMPT API provides the following functionality:    \addtolength{"
   ]
  },
  {
   "cell_type": "markdown",
   "metadata": {},
   "source": [
    "* indent}{1cm}"
   ]
  },
  {
   "cell_type": "markdown",
   "metadata": {},
   "source": [
    "*   examines the state associated with an OpenMP thread"
   ]
  },
  {
   "cell_type": "markdown",
   "metadata": {},
   "source": [
    "*   interprets the call stack of an OpenMP thread"
   ]
  },
  {
   "cell_type": "markdown",
   "metadata": {},
   "source": [
    "*   receives notification about OpenMP events"
   ]
  },
  {
   "cell_type": "markdown",
   "metadata": {},
   "source": [
    "*   traces activity on OpenMP target devices"
   ]
  },
  {
   "cell_type": "markdown",
   "metadata": {},
   "source": [
    "*   assesses implementation-dependent details"
   ]
  },
  {
   "cell_type": "markdown",
   "metadata": {},
   "source": [
    "*   controls a tool from an OpenMP application"
   ]
  },
  {
   "cell_type": "markdown",
   "metadata": {},
   "source": [
    "The following sections will illustrate basic mechanisms and operations of the OMPT API."
   ]
  },
  {
   "cell_type": "markdown",
   "metadata": {},
   "source": [
    ""
   ]
  },
  {
   "cell_type": "markdown",
   "metadata": {},
   "source": [
    ""
   ]
  },
  {
   "cell_type": "markdown",
   "metadata": {},
   "source": [
    "../../ompt_interface/ompt_start.tex ../../Chap_ompt_interface.tex"
   ]
  },
  {
   "cell_type": "markdown",
   "metadata": {},
   "source": [
    ""
   ]
  },
  {
   "cell_type": "markdown",
   "metadata": {},
   "source": [
    "\setcounter{chapter}{0}      \renewcommand{\thechapter}{\Alph{chapter}}    \appendix"
   ]
  },
  {
   "cell_type": "markdown",
   "metadata": {},
   "source": [
    ""
   ]
  },
  {
   "cell_type": "markdown",
   "metadata": {},
   "source": [
    "# Feature Deprecations and Updates in Examples"
   ]
  },
  {
   "cell_type": "markdown",
   "metadata": {},
   "source": [
    "{deprecated_features}   \index{deprecated features}"
   ]
  },
  {
   "cell_type": "markdown",
   "metadata": {},
   "source": [
    "Deprecation of features began in OpenMP 5.0.  Examples that use a deprecated feature have been updated with an equivalent  replacement feature."
   ]
  },
  {
   "cell_type": "markdown",
   "metadata": {},
   "source": [
    "Table \ref{tab:Deprecated Features} summarizes deprecated features and  their replacements in each version.  Affected examples are updated  accordingly and listed in Section \ref{sec:Updated Examples}."
   ]
  },
  {
   "cell_type": "markdown",
   "metadata": {},
   "source": [
    "\nolinenumbers \renewcommand{\arraystretch}{1.4} \tablefirsthead{\hline  **Version**  &  **Deprecated Feature**  &  **Replacement**  \hline[-3.5ex] } \tablehead{\multicolumn{2}{l}{\slshape table continued from previous page} \hline  **Version**  &  **Deprecated Feature**  &  **Replacement**  \hline[-3ex] } \tabletail{\hline[-4ex] \multicolumn{2}{l}{\slshape table continued on next page} } \tablelasttail{\hline[-2ex]} \tablecaption{Deprecated Features and Their Replacements} {p{0.4in} p{2.3in} p{2.2in}} 5.2 & \scode{default} clause on metadirectives      & \scode{otherwise} clause  5.2 & delimited \scode{declare} \scode{target} directive for C/C++      & \scode{begin} \scode{declare} \scode{target} directive  5.2 & \scode{to} clause on \scode{declare} \scode{target} directive      & \scode{enter} clause  5.2 & non-argument \scode{destroy} clause on \scode{depobj} construct      & \scode{destroy(} _argument_ `)`  5.2 & \scode{allocate} construct for Fortran \scode{ALLOCATE} statements      & \scode{allocators} construct  5.2 & \scode{depend} clause on \scode{ordered} construct      & \scode{doacross} clause  5.2 & \scode{linear(} _modifier(list): linear-step_ `)` clause      & \scode{linear(} _list:_  \scode{step(} _linear-step_ \scode{)} _, modifier_ \scode{)} clause  \hline 5.1 & \scode{master} construct      & \scode{masked} construct  5.1 & \scode{master} affinity policy      & \scode{primary} affinity policy  \hline 5.0 & \scode{omp_lock_hint_*} constants      & \scode{omp_sync_hint_*} constants [2pt]"
   ]
  },
  {
   "cell_type": "markdown",
   "metadata": {},
   "source": [
    "\linenumbers These replacements appear in examples that illustrate, otherwise, earlier features. When using a compiler that is compliant with a version prior to  the indicated version, the earlier form of an example for a previous version is listed as a reference."
   ]
  },
  {
   "cell_type": "markdown",
   "metadata": {},
   "source": [
    "\newpage"
   ]
  },
  {
   "cell_type": "markdown",
   "metadata": {},
   "source": [
    "## Updated Examples for Different Versions"
   ]
  },
  {
   "cell_type": "markdown",
   "metadata": {},
   "source": [
    ""
   ]
  },
  {
   "cell_type": "markdown",
   "metadata": {},
   "source": [
    "The following tables list the updated examples for different versions as  a result of feature deprecation. The **Earlier Version** column of  the tables shows the version tag of the earlier version. It also shows the prior name of an example when it has been renamed."
   ]
  },
  {
   "cell_type": "markdown",
   "metadata": {},
   "source": [
    "Table \ref{tab:Updated Examples 5.2} lists the updated examples for OpenMP 5.2 in the Examples Document Version [https://github.com/OpenMP/Examples/tree/v5.2]{5.2}. The **Earlier Version** column of the table lists the earlier version tags of the examples that can be found in  the Examples Document Version  [https://github.com/OpenMP/Examples/tree/v5.1]{5.1}."
   ]
  },
  {
   "cell_type": "markdown",
   "metadata": {},
   "source": [
    "\index{clauses!default@`default`} \index{clauses!otherwise@`otherwise`} \index{clauses!to@`to`} \index{clauses!enter@`enter`} \index{clauses!depend@`depend`} \index{clauses!doacross@`doacross`} \index{clauses!linear@`linear`} \index{clauses!destroy@`destroy`} \index{default clause@`default` clause} \index{otherwise clause@`otherwise` clause} \index{to clause@`to` clause} \index{enter clause@`enter` clause} \index{depend clause@`depend` clause} \index{doacross clause@`doacross` clause} \index{linear clause@`linear` clause} \index{destroy clause@`destroy` clause} \index{directives!begin declare target@`begin` `declare` `target`} \index{begin declare target directive@`begin` `declare` `target` directive} \index{allocate construct@`allocate` construct} \index{allocators construct@`allocators` construct}"
   ]
  },
  {
   "cell_type": "markdown",
   "metadata": {},
   "source": [
    "\nolinenumbers \renewcommand{\arraystretch}{1.0} \tablefirsthead{\hline[-2ex]  **Example Name**  &  **Earlier Version**  &  **Feature Updated**  [2pt] \hline[-2ex] } \tablehead{\multicolumn{2}{l}{\slshape table continued from previous page}[2pt] \hline[-2ex]  **Example Name**  &  **Earlier Version**  &  **Feature Updated** [2pt] \hline[-2ex] } \tabletail{\hline[-2.5ex] \multicolumn{2}{l}{\slshape table continued on next page} } \tablelasttail{\hline[-1ex]} \tablecaption{Updated Examples for Version 5.2} {p{1.7in} p{1.2in} p{2.1in}}   \hexentry{error.1}[f90]{5.1} &      \scode{default} clause on metadirectives    \hexentry{metadirective.1}[f90]{5.0} &      replaced with \scode{otherwise} clause    \hexentry{metadirective.2}[f90]{5.0} &    \hexentry{metadirective.3}[f90]{5.0} &    \hexentry{metadirective.4}[f90]{5.1} &    \hexentry{target_ptr_map.4}{5.1} &    \hexentry{target_ptr_map.5}[f90]{5.1} & [2pt] \hline[-2ex]   \hexentry[f90]{array_shaping.1}{5.0} &     \scode{to} clause on \scode{declare} \scode{target}    \hexentry{target_reverse_offload.7}{5.0} &     directive replaced with \scode{enter} clause    \hexentry{target_task_reduction.1}[f90]{5.1} &    \hexentry{target_task_reduction.2a}[f90]{5.0} &    \hexentry{target_task_reduction.2b}[f90]{5.1} &[2pt] \hline[-2ex]   \hexentry{array_shaping.1}{5.0} &      delimited \scode{declare} \scode{target}    \hexentry{async_target.1}{4.0} &      directive replaced with    \hexentry{async_target.2}{4.0} &      \scode{begin} \scode{declare} \scode{target}    \hexentry{declare_target.1}{4.0} &      directive for C/C++    \hexentry[cpp]{declare_target.2c}{4.0} &    \hexentry{declare_target.3}{4.0} &    \hexentry{declare_target.4}{4.0} &    \hexentry{declare_target.5}{4.0} &    \hexentry{declare_target.6}{4.0} &    \hexentry{declare_variant.1}{5.0} &    \hexentry{device.1}{4.0} &    \hexentry{metadirective.3}{5.0} &    \hexentry{target_ptr_map.2}{5.0} &    \hexentry{target_ptr_map.3a}{5.0} &    \hexentry{target_ptr_map.3b}{5.0} &    \hexentry{target_struct_map.1}{5.0} &    \hexentry[cpp]{target_struct_map.2}{5.0} &    \hexentry{target_struct_map.3}{5.0} &    \hexentry{target_struct_map.4}{5.0} & [2pt] \hline[-2ex]   \hexentry{doacross.1}[f90]{4.5} &     \scode{depend} clause on \scode{ordered}    \hexentry{doacross.2}[f90]{4.5} &     construct replaced with \scode{doacross}    \hexentry{doacross.3}[f90]{4.5} &     clause    \hexentry{doacross.4}[f90]{4.5} & [2pt] \hline[-2ex]   \hexentry[cpp]{linear_modifier.1}[f90]{4.5} &     modifier syntax change for \scode{linear}    \hexentry[cpp]{linear_modifier.2}[f90]{4.5} &     clause on \scode{declare} \scode{simd} directive    \hexentry{linear_modifier.3}[f90]{4.5} & [2pt] \hline[-2ex]   \hexentry[f90]{allocators.1}{5.0} &     \scode{allocate} construct replaced with \scode{allocators} construct     for Fortran allocate statements [2pt] \hline[-2ex]   \hexentry{depobj.1}[f90]{5.0} &     argument added to \scode{destroy} clause on \scode{depobj}      construct [2pt]"
   ]
  },
  {
   "cell_type": "markdown",
   "metadata": {},
   "source": [
    "\linenumbers Table \ref{tab:Updated Examples 5.1} lists the updated examples for OpenMP 5.1 in the Examples Document Version [https://github.com/OpenMP/Examples/tree/v5.1]{5.1}. The **Earlier Version** column of the table lists the earlier version tags and prior names of the examples that can be found in  the Examples Document Version  [https://github.com/OpenMP/Examples/tree/v5.0.1]{5.0.1}."
   ]
  },
  {
   "cell_type": "markdown",
   "metadata": {},
   "source": [
    "\index{affinity!master policy@`master` policy} \index{affinity!primary policy@`primary` policy} \index{constructs!master@`master`} \index{constructs!masked@`masked`} \index{master construct@`master` construct} \index{masked construct@`masked` construct}"
   ]
  },
  {
   "cell_type": "markdown",
   "metadata": {},
   "source": [
    "\nolinenumbers \renewcommand{\arraystretch}{1.0} \tablefirsthead{\hline[-2ex]  **Example Name**  &  **Earlier Version**  &  **Feature Updated**  [2pt] \hline[-2ex] } \tablehead{\multicolumn{2}{l}{\slshape table continued from previous page}[2pt] \hline[-2ex]  **Example Name**  &  **Earlier Version**  &  **Feature Updated** [2pt] \hline[-2ex] } \tabletail{\hline[-2.5ex] \multicolumn{2}{l}{\slshape table continued on next page} } \tablelasttail{\hline[-1ex]} \tablecaption{Updated Examples for Version 5.1} {p{1.8in} p{1.4in} p{1.8in}}   \hexentry{affinity.5}[f]{4.0} &     \scode{master} affinity policy replaced with \scode{primary} policy [2pt] \hline[-2ex]   \hexentry{async_target.3}[f90]{5.0} &      \scode{master} construct replaced    \hexentry{cancellation.2}[f90]{4.0} &      with \scode{masked} construct    \hexentry{copyprivate.2}[f]{3.0} &    \hexentry[f]{fort_sa_private.5}{3.0} &    \hexentry{lock_owner.1}[f]{3.0} &    \hexmentry{masked.1}[f]{3.0}{master.1} &    \hexmentry{parallel_masked_taskloop.1}[f90]{5.0}{parallel_master_taskloop.1} &   \hexentry{reduction.6}[f]{3.0} &    \hexentry{target_task_reduction.1}[f90]{5.0} &    \hexentry{target_task_reduction.2b}[f90]{5.0} &    \hexentry{taskloop_simd_reduction.1}[f90]{5.0} &    \hexentry{task_detach.1}[f90]{5.0} & [2pt]"
   ]
  },
  {
   "cell_type": "markdown",
   "metadata": {},
   "source": [
    "\linenumbers Table \ref{tab:Updated Examples 5.0} lists the updated examples for OpenMP 5.0 in the Examples Document Version [https://github.com/OpenMP/Examples/tree/v5.1]{5.1}. The **Earlier Version** column of the table lists the earlier version tags of the examples that can be found in  the Examples Document Version  [https://github.com/OpenMP/Examples/tree/v5.0.1]{5.0.1}."
   ]
  },
  {
   "cell_type": "markdown",
   "metadata": {},
   "source": [
    "\nolinenumbers \renewcommand{\arraystretch}{1.0} \tablefirsthead{\hline[-2ex]  **Example Name**  &  **Earlier Version**  &  **Feature Updated**  [2pt] \hline[-2ex] } \tablehead{\multicolumn{2}{l}{\slshape table continued from previous page}[2pt] \hline[-2ex]  **Example Name**  &  **Earlier Version**  &  **Feature Updated** [2pt] \hline[-2ex] } \tabletail{\hline[-2.5ex] \multicolumn{2}{l}{\slshape table continued on next page} } \tablelasttail{\hline[-1ex]} \tablecaption{Updated Examples for Version 5.0} {p{1.6in} p{1.3in} p{2.1in}}  \hexentry{critical.2}[f]{4.5} &    \scode{omp_lock_hint_*} constants   \hexentry[cpp]{init_lock_with_hint.1}[f]{4.5} &    replaced with \scode{omp_sync_hint_*} constants [2pt]"
   ]
  },
  {
   "cell_type": "markdown",
   "metadata": {},
   "source": [
    "\linenumbers"
   ]
  },
  {
   "cell_type": "markdown",
   "metadata": {},
   "source": [
    "../../Deprecated_Features.tex"
   ]
  },
  {
   "cell_type": "markdown",
   "metadata": {},
   "source": [
    ""
   ]
  },
  {
   "cell_type": "markdown",
   "metadata": {},
   "source": [
    "# Document Revision History"
   ]
  },
  {
   "cell_type": "markdown",
   "metadata": {},
   "source": [
    "{history}"
   ]
  },
  {
   "cell_type": "markdown",
   "metadata": {},
   "source": [
    ""
   ]
  },
  {
   "cell_type": "markdown",
   "metadata": {},
   "source": [
    "## Changes from 5.1 to 5.2"
   ]
  },
  {
   "cell_type": "markdown",
   "metadata": {},
   "source": [
    ""
   ]
  },
  {
   "cell_type": "markdown",
   "metadata": {},
   "source": [
    ""
   ]
  },
  {
   "cell_type": "markdown",
   "metadata": {},
   "source": [
    "*  General changes:"
   ]
  },
  {
   "cell_type": "markdown",
   "metadata": {},
   "source": [
    "*  Included a description of the semantics for OpenMP directive syntax  (see \specref{chap:directive_syntax})"
   ]
  },
  {
   "cell_type": "markdown",
   "metadata": {},
   "source": [
    "*  Reorganized the Introduction Chapter and moved the Feature  Deprecation Chapter to Appendix \ref{chap:deprecated_features}"
   ]
  },
  {
   "cell_type": "markdown",
   "metadata": {},
   "source": [
    "*  Included a list of examples that were updated for feature deprecation and replacement in each version (see Appendix \ref{sec:Updated Examples})"
   ]
  },
  {
   "cell_type": "markdown",
   "metadata": {},
   "source": [
    "*  Added Index entries"
   ]
  },
  {
   "cell_type": "markdown",
   "metadata": {},
   "source": [
    ""
   ]
  },
  {
   "cell_type": "markdown",
   "metadata": {},
   "source": [
    "*  Updated the examples for feature deprecation and replacement in OpenMP 5.2. See Table \ref{tab:Deprecated Features} and  Table \ref{tab:Updated Examples 5.2} for details."
   ]
  },
  {
   "cell_type": "markdown",
   "metadata": {},
   "source": [
    ""
   ]
  },
  {
   "cell_type": "markdown",
   "metadata": {},
   "source": [
    "*  Added the following examples for the 5.2 features:"
   ]
  },
  {
   "cell_type": "markdown",
   "metadata": {},
   "source": [
    "*  Mapping class objects with virtual functions      ( virtual_functions )"
   ]
  },
  {
   "cell_type": "markdown",
   "metadata": {},
   "source": [
    "*  \scode{allocators} construct for Fortran `allocate` statement      ( allocators )"
   ]
  },
  {
   "cell_type": "markdown",
   "metadata": {},
   "source": [
    "*  Behavior of reallocation of variables through OpenMP allocator in      Fortran ( allocators )"
   ]
  },
  {
   "cell_type": "markdown",
   "metadata": {},
   "source": [
    ""
   ]
  },
  {
   "cell_type": "markdown",
   "metadata": {},
   "source": [
    "*  Added the following examples for the 5.1 features:"
   ]
  },
  {
   "cell_type": "markdown",
   "metadata": {},
   "source": [
    "*  Clarification of optional `end` directive for strictly structured        block in Fortran ( fortran_free_format_comments )"
   ]
  },
  {
   "cell_type": "markdown",
   "metadata": {},
   "source": [
    "*  \scode{filter} clause on \scode{masked} construct ( masked )"
   ]
  },
  {
   "cell_type": "markdown",
   "metadata": {},
   "source": [
    "*  \scode{omp_all_memory} reserved locator for specifying task dependences       ( depend_undefer_task )"
   ]
  },
  {
   "cell_type": "markdown",
   "metadata": {},
   "source": [
    "*  Behavior of Fortran allocatable variables in `target` regions       ( fort_allocatable_array_mapping )"
   ]
  },
  {
   "cell_type": "markdown",
   "metadata": {},
   "source": [
    "*  Device memory routines in Fortran       ( target_mem_and_device_ptrs )"
   ]
  },
  {
   "cell_type": "markdown",
   "metadata": {},
   "source": [
    "*  Partial tiles from \scode{tile} construct       ( incomplete_tiles )"
   ]
  },
  {
   "cell_type": "markdown",
   "metadata": {},
   "source": [
    "*  Fortran associate names and selectors in `target` region       ( associate_target )"
   ]
  },
  {
   "cell_type": "markdown",
   "metadata": {},
   "source": [
    "*  \scode{allocate} directive for variable declarations and        \scode{allocate} clause on \scode{task} constructs       ( allocators )"
   ]
  },
  {
   "cell_type": "markdown",
   "metadata": {},
   "source": [
    "*  Controlling concurrency and reproducibility with `order` clause       ( reproducible_modifier )"
   ]
  },
  {
   "cell_type": "markdown",
   "metadata": {},
   "source": [
    ""
   ]
  },
  {
   "cell_type": "markdown",
   "metadata": {},
   "source": [
    "*  Added other examples:"
   ]
  },
  {
   "cell_type": "markdown",
   "metadata": {},
   "source": [
    "*  Using lambda expressions with \scode{target} constructs      ( lambda_expressions )"
   ]
  },
  {
   "cell_type": "markdown",
   "metadata": {},
   "source": [
    "*  Target memory and device pointer routines      ( target_mem_and_device_ptrs )"
   ]
  },
  {
   "cell_type": "markdown",
   "metadata": {},
   "source": [
    "*  Examples to illustrate the ordering properties of       the  _flush_  operation ( mem_model )"
   ]
  },
  {
   "cell_type": "markdown",
   "metadata": {},
   "source": [
    "*  User selector in the `metadirective` directive      ( metadirective )"
   ]
  },
  {
   "cell_type": "markdown",
   "metadata": {},
   "source": [
    ""
   ]
  },
  {
   "cell_type": "markdown",
   "metadata": {},
   "source": [
    ""
   ]
  },
  {
   "cell_type": "markdown",
   "metadata": {},
   "source": [
    "## Changes from 5.0.1 to 5.1"
   ]
  },
  {
   "cell_type": "markdown",
   "metadata": {},
   "source": [
    ""
   ]
  },
  {
   "cell_type": "markdown",
   "metadata": {},
   "source": [
    ""
   ]
  },
  {
   "cell_type": "markdown",
   "metadata": {},
   "source": [
    "*  General changes:"
   ]
  },
  {
   "cell_type": "markdown",
   "metadata": {},
   "source": [
    "*  Replaced `master` construct example with equivalent `masked` construct example ( masked )"
   ]
  },
  {
   "cell_type": "markdown",
   "metadata": {},
   "source": [
    "*  Primary thread is now used to describe thread number 0 in the current team"
   ]
  },
  {
   "cell_type": "markdown",
   "metadata": {},
   "source": [
    "*  `primary` thread affinity policy is now used to specify that every        thread in the team is assigned to the same place as the primary thread ( affinity_primary )"
   ]
  },
  {
   "cell_type": "markdown",
   "metadata": {},
   "source": [
    "*  The \scode{omp_lock_hint_*} constants have been renamed \scode{omp_sync_hint_*} ( critical ,  locks )"
   ]
  },
  {
   "cell_type": "markdown",
   "metadata": {},
   "source": [
    ""
   ]
  },
  {
   "cell_type": "markdown",
   "metadata": {},
   "source": [
    "*  Added the following new chapters:"
   ]
  },
  {
   "cell_type": "markdown",
   "metadata": {},
   "source": [
    "*  Deprecated Features (on page  **deprecated_features** )"
   ]
  },
  {
   "cell_type": "markdown",
   "metadata": {},
   "source": [
    "*  Directive Syntax (\specref{chap:directive_syntax})"
   ]
  },
  {
   "cell_type": "markdown",
   "metadata": {},
   "source": [
    "*  Loop Transformations (\specref{chap:loop_transformations})"
   ]
  },
  {
   "cell_type": "markdown",
   "metadata": {},
   "source": [
    "*  OMPT Interface (\specref{chap:ompt_interface})"
   ]
  },
  {
   "cell_type": "markdown",
   "metadata": {},
   "source": [
    ""
   ]
  },
  {
   "cell_type": "markdown",
   "metadata": {},
   "source": [
    "*  Added the following examples for the 5.1 features:"
   ]
  },
  {
   "cell_type": "markdown",
   "metadata": {},
   "source": [
    "*  OpenMP directives in C++  _attribute_  specifiers     ( attributes )"
   ]
  },
  {
   "cell_type": "markdown",
   "metadata": {},
   "source": [
    "*  Directive syntax adjustment to allow Fortran `BLOCK` ...      `END` `BLOCK` as a structured block        ( fortran_free_format_comments )"
   ]
  },
  {
   "cell_type": "markdown",
   "metadata": {},
   "source": [
    "*  `omp_target_is_accessible` API routine       ( pointer_mapping )"
   ]
  },
  {
   "cell_type": "markdown",
   "metadata": {},
   "source": [
    "*  Fortran allocatable array mapping in `target` regions ( fort_allocatable_array_mapping )"
   ]
  },
  {
   "cell_type": "markdown",
   "metadata": {},
   "source": [
    "*  `begin` `declare` `target` (with         `end` `declare` `target`) directive       ( declare_target_class )"
   ]
  },
  {
   "cell_type": "markdown",
   "metadata": {},
   "source": [
    "*  `tile` construct             ( tile )"
   ]
  },
  {
   "cell_type": "markdown",
   "metadata": {},
   "source": [
    "*  `unroll` construct           ( unroll )"
   ]
  },
  {
   "cell_type": "markdown",
   "metadata": {},
   "source": [
    "*  Reduction with the `scope` construct       ( reduction_scope )"
   ]
  },
  {
   "cell_type": "markdown",
   "metadata": {},
   "source": [
    "*   `metadirective` directive with dynamic `condition` selector       ( metadirective )"
   ]
  },
  {
   "cell_type": "markdown",
   "metadata": {},
   "source": [
    "*  `interop` construct  ( interop )"
   ]
  },
  {
   "cell_type": "markdown",
   "metadata": {},
   "source": [
    "*  Environment display with the \scode{omp_display_env} routine       ( display_env )"
   ]
  },
  {
   "cell_type": "markdown",
   "metadata": {},
   "source": [
    "*  `error` directive  ( error )"
   ]
  },
  {
   "cell_type": "markdown",
   "metadata": {},
   "source": [
    ""
   ]
  },
  {
   "cell_type": "markdown",
   "metadata": {},
   "source": [
    "*  Included additional examples for the 5.0 features:"
   ]
  },
  {
   "cell_type": "markdown",
   "metadata": {},
   "source": [
    "*  `collapse` clause for non-rectangular loop nest       ( collapse )"
   ]
  },
  {
   "cell_type": "markdown",
   "metadata": {},
   "source": [
    "*  `detach` clause for tasks ( task_detachment )"
   ]
  },
  {
   "cell_type": "markdown",
   "metadata": {},
   "source": [
    "*  Pointer attachment for a structure member ( structure_mapping )"
   ]
  },
  {
   "cell_type": "markdown",
   "metadata": {},
   "source": [
    "*  Host and device pointer association with the \scode{omp_target_associate_ptr} routine ( target_associate_ptr )"
   ]
  },
  {
   "cell_type": "markdown",
   "metadata": {},
   "source": [
    ""
   ]
  },
  {
   "cell_type": "markdown",
   "metadata": {},
   "source": [
    "*  Sample code on activating the tool interface        ( ompt_start )"
   ]
  },
  {
   "cell_type": "markdown",
   "metadata": {},
   "source": [
    ""
   ]
  },
  {
   "cell_type": "markdown",
   "metadata": {},
   "source": [
    "*  Added other examples:"
   ]
  },
  {
   "cell_type": "markdown",
   "metadata": {},
   "source": [
    "*  The \scode{omp_get_wtime} routine ( get_wtime )"
   ]
  },
  {
   "cell_type": "markdown",
   "metadata": {},
   "source": [
    ""
   ]
  },
  {
   "cell_type": "markdown",
   "metadata": {},
   "source": [
    ""
   ]
  },
  {
   "cell_type": "markdown",
   "metadata": {},
   "source": [
    "## Changes from 5.0.0 to 5.0.1"
   ]
  },
  {
   "cell_type": "markdown",
   "metadata": {},
   "source": [
    ""
   ]
  },
  {
   "cell_type": "markdown",
   "metadata": {},
   "source": [
    ""
   ]
  },
  {
   "cell_type": "markdown",
   "metadata": {},
   "source": [
    "*  Added version tags (`omp_` _x.y_ ) in example labels  and the corresponding source codes for all examples that feature OpenMP 3.0 and later."
   ]
  },
  {
   "cell_type": "markdown",
   "metadata": {},
   "source": [
    ""
   ]
  },
  {
   "cell_type": "markdown",
   "metadata": {},
   "source": [
    "*  Included additional examples for the 5.0 features:"
   ]
  },
  {
   "cell_type": "markdown",
   "metadata": {},
   "source": [
    ""
   ]
  },
  {
   "cell_type": "markdown",
   "metadata": {},
   "source": [
    "*  Extension to the `defaultmap` clause ( defaultmap )"
   ]
  },
  {
   "cell_type": "markdown",
   "metadata": {},
   "source": [
    "*  Transferring noncontiguous data with the `target` `update` directive in Fortran ( array-shaping )"
   ]
  },
  {
   "cell_type": "markdown",
   "metadata": {},
   "source": [
    "*  `conditional` modifier for the `lastprivate` clause                             ( lastprivate )"
   ]
  },
  {
   "cell_type": "markdown",
   "metadata": {},
   "source": [
    "*  `task` modifier for the `reduction` clause                                      ( task_reduction )"
   ]
  },
  {
   "cell_type": "markdown",
   "metadata": {},
   "source": [
    "*  Reduction on combined target constructs                                                     ( target_reduction )"
   ]
  },
  {
   "cell_type": "markdown",
   "metadata": {},
   "source": [
    "*  Task reduction with `target` constructs     ( target_task_reduction )"
   ]
  },
  {
   "cell_type": "markdown",
   "metadata": {},
   "source": [
    "*  `scan` directive for returning the **prefix sum** of a reduction                  ( scan )"
   ]
  },
  {
   "cell_type": "markdown",
   "metadata": {},
   "source": [
    ""
   ]
  },
  {
   "cell_type": "markdown",
   "metadata": {},
   "source": [
    ""
   ]
  },
  {
   "cell_type": "markdown",
   "metadata": {},
   "source": [
    "*  Included additional examples for the 4.x features:"
   ]
  },
  {
   "cell_type": "markdown",
   "metadata": {},
   "source": [
    ""
   ]
  },
  {
   "cell_type": "markdown",
   "metadata": {},
   "source": [
    "*  Dependence for undeferred tasks ( depend_undefer_task )"
   ]
  },
  {
   "cell_type": "markdown",
   "metadata": {},
   "source": [
    "*  `ref`, `val`, `uval` modifiers for `linear` clause ( linear_modifier )"
   ]
  },
  {
   "cell_type": "markdown",
   "metadata": {},
   "source": [
    ""
   ]
  },
  {
   "cell_type": "markdown",
   "metadata": {},
   "source": [
    ""
   ]
  },
  {
   "cell_type": "markdown",
   "metadata": {},
   "source": [
    "*  Clarified the description of pointer mapping and pointer attachment in   pointer_mapping ."
   ]
  },
  {
   "cell_type": "markdown",
   "metadata": {},
   "source": [
    "*  Clarified the description of memory model examples in  mem_model ."
   ]
  },
  {
   "cell_type": "markdown",
   "metadata": {},
   "source": [
    ""
   ]
  },
  {
   "cell_type": "markdown",
   "metadata": {},
   "source": [
    ""
   ]
  },
  {
   "cell_type": "markdown",
   "metadata": {},
   "source": [
    ""
   ]
  },
  {
   "cell_type": "markdown",
   "metadata": {},
   "source": [
    "## Changes from 4.5.0 to 5.0.0"
   ]
  },
  {
   "cell_type": "markdown",
   "metadata": {},
   "source": [
    ""
   ]
  },
  {
   "cell_type": "markdown",
   "metadata": {},
   "source": [
    ""
   ]
  },
  {
   "cell_type": "markdown",
   "metadata": {},
   "source": [
    "*  Added the following examples for the 5.0 features:"
   ]
  },
  {
   "cell_type": "markdown",
   "metadata": {},
   "source": [
    ""
   ]
  },
  {
   "cell_type": "markdown",
   "metadata": {},
   "source": [
    "*  Extended `teams` construct for host execution     ( host_teams )"
   ]
  },
  {
   "cell_type": "markdown",
   "metadata": {},
   "source": [
    "*  `loop` and `teams` `loop` constructs specify loop iterations that can execute concurrently                                                               ( loop )"
   ]
  },
  {
   "cell_type": "markdown",
   "metadata": {},
   "source": [
    "*  Task data affinity is indicated by `affinity` clause of `task` construct                                                              (  task_affinity )"
   ]
  },
  {
   "cell_type": "markdown",
   "metadata": {},
   "source": [
    "*  Display thread affinity with `OMP_DISPLAY_AFFINITY` environment variable or `omp_display_affinity()` API routine                                                              ( affinity_display )"
   ]
  },
  {
   "cell_type": "markdown",
   "metadata": {},
   "source": [
    "*  `taskwait` with dependences                       ( taskwait_depend )"
   ]
  },
  {
   "cell_type": "markdown",
   "metadata": {},
   "source": [
    "*  `mutexinoutset` task dependences                  ( task_dep_mutexinoutset )"
   ]
  },
  {
   "cell_type": "markdown",
   "metadata": {},
   "source": [
    "*  Multidependence Iterators (in `depend` clauses)   ( depend_iterator )"
   ]
  },
  {
   "cell_type": "markdown",
   "metadata": {},
   "source": [
    "*  Combined constructs: `parallel` `master` `taskloop` and `parallel` `master` `taskloop` `simd`                                                                                   ( parallel_masked_taskloop )"
   ]
  },
  {
   "cell_type": "markdown",
   "metadata": {},
   "source": [
    "*  Reverse Offload through  _ancestor_  modifier of `device` clause.    ( target_reverse_offload )"
   ]
  },
  {
   "cell_type": "markdown",
   "metadata": {},
   "source": [
    "*  Pointer Mapping  - behavior of mapped pointers                              ( pointer_mapping )"
   ]
  },
  {
   "cell_type": "markdown",
   "metadata": {},
   "source": [
    "*  Structure Mapping  - behavior of mapped structures                          ( structure_mapping )"
   ]
  },
  {
   "cell_type": "markdown",
   "metadata": {},
   "source": [
    "*  Array Shaping with the  _shape-operator_                                  ( array-shaping )"
   ]
  },
  {
   "cell_type": "markdown",
   "metadata": {},
   "source": [
    "*  The `declare` `mapper` directive                                  ( declare_mapper )"
   ]
  },
  {
   "cell_type": "markdown",
   "metadata": {},
   "source": [
    "*  Acquire and Release Semantics Synchronization: Memory ordering        clauses `acquire`, `release`, and `acq_rel` were added       to flush and atomic constructs                                                                                   ( acquire_and_release_semantics )"
   ]
  },
  {
   "cell_type": "markdown",
   "metadata": {},
   "source": [
    "*  `depobj` construct provides dependence objects for subsequent use in `depend` clauses                                                                                   ( depobj )"
   ]
  },
  {
   "cell_type": "markdown",
   "metadata": {},
   "source": [
    "*  `reduction` clause for `task` construct                           ( task_reduction )"
   ]
  },
  {
   "cell_type": "markdown",
   "metadata": {},
   "source": [
    "*  `reduction` clause for `taskloop` construct                       ( taskloop_reduction )"
   ]
  },
  {
   "cell_type": "markdown",
   "metadata": {},
   "source": [
    "*  `reduction` clause for `taskloop` `simd` construct           ( taskloop_reduction )"
   ]
  },
  {
   "cell_type": "markdown",
   "metadata": {},
   "source": [
    "*  Memory Allocators for making OpenMP memory requests with traits             ( allocators )"
   ]
  },
  {
   "cell_type": "markdown",
   "metadata": {},
   "source": [
    "*  `requires` directive specifies required features of implementation     ( requires )"
   ]
  },
  {
   "cell_type": "markdown",
   "metadata": {},
   "source": [
    "*  `declare` `variant` directive - for function variants             ( declare_variant )"
   ]
  },
  {
   "cell_type": "markdown",
   "metadata": {},
   "source": [
    "*  `metadirective` directive  - for directive variants                    ( metadirective )"
   ]
  },
  {
   "cell_type": "markdown",
   "metadata": {},
   "source": [
    "*  `OMP_TARGET_OFFLOAD` Environment Variable  - controls offload behavior ( target_offload )"
   ]
  },
  {
   "cell_type": "markdown",
   "metadata": {},
   "source": [
    ""
   ]
  },
  {
   "cell_type": "markdown",
   "metadata": {},
   "source": [
    "*  Included the following additional examples for the 4.x features:"
   ]
  },
  {
   "cell_type": "markdown",
   "metadata": {},
   "source": [
    "*  more taskloop examples ( taskloop )"
   ]
  },
  {
   "cell_type": "markdown",
   "metadata": {},
   "source": [
    "*  user-defined reduction (UDR) ( UDR )"
   ]
  },
  {
   "cell_type": "markdown",
   "metadata": {},
   "source": [
    ""
   ]
  },
  {
   "cell_type": "markdown",
   "metadata": {},
   "source": [
    ""
   ]
  },
  {
   "cell_type": "markdown",
   "metadata": {},
   "source": [
    "## Changes from 4.0.2 to 4.5.0"
   ]
  },
  {
   "cell_type": "markdown",
   "metadata": {},
   "source": [
    ""
   ]
  },
  {
   "cell_type": "markdown",
   "metadata": {},
   "source": [
    "*  Reorganized into chapters of major topics"
   ]
  },
  {
   "cell_type": "markdown",
   "metadata": {},
   "source": [
    "*  Included file extensions in example labels to indicate source type"
   ]
  },
  {
   "cell_type": "markdown",
   "metadata": {},
   "source": [
    "*  Applied the explicit `map(tofrom)` for scalar variables        in a number of examples to comply with        the change of the default behavior for scalar variables from        `map(tofrom)` to `firstprivate` in the 4.5 specification"
   ]
  },
  {
   "cell_type": "markdown",
   "metadata": {},
   "source": [
    "*  Added the following new examples:"
   ]
  },
  {
   "cell_type": "markdown",
   "metadata": {},
   "source": [
    ""
   ]
  },
  {
   "cell_type": "markdown",
   "metadata": {},
   "source": [
    "*  `linear` clause in loop constructs     ( linear_in_loop )"
   ]
  },
  {
   "cell_type": "markdown",
   "metadata": {},
   "source": [
    "*  `priority` clause for `task` construct ( task_priority )"
   ]
  },
  {
   "cell_type": "markdown",
   "metadata": {},
   "source": [
    "*  `taskloop` construct                   ( taskloop )"
   ]
  },
  {
   "cell_type": "markdown",
   "metadata": {},
   "source": [
    "*   _directive-name_  modifier in multiple `if` clauses on a combined construct                              ( target_if )"
   ]
  },
  {
   "cell_type": "markdown",
   "metadata": {},
   "source": [
    "*  unstructured data mapping                   ( target_enter_exit_data )"
   ]
  },
  {
   "cell_type": "markdown",
   "metadata": {},
   "source": [
    "*  `link` clause for `declare` `target` directive                                                    ( declare_target_link )"
   ]
  },
  {
   "cell_type": "markdown",
   "metadata": {},
   "source": [
    "*  asynchronous target execution with `nowait` clause ( async_target_exec_depend )"
   ]
  },
  {
   "cell_type": "markdown",
   "metadata": {},
   "source": [
    "*  device memory routines and device pointers  ( target_mem_and_device_ptrs )"
   ]
  },
  {
   "cell_type": "markdown",
   "metadata": {},
   "source": [
    "*  doacross loop nest                          ( doacross )"
   ]
  },
  {
   "cell_type": "markdown",
   "metadata": {},
   "source": [
    "*  locks with hints                            ( locks )"
   ]
  },
  {
   "cell_type": "markdown",
   "metadata": {},
   "source": [
    "*  C/C++ array reduction                       ( reduction )"
   ]
  },
  {
   "cell_type": "markdown",
   "metadata": {},
   "source": [
    "*  C++ reference types in data sharing clauses ( cpp_reference )"
   ]
  },
  {
   "cell_type": "markdown",
   "metadata": {},
   "source": [
    ""
   ]
  },
  {
   "cell_type": "markdown",
   "metadata": {},
   "source": [
    ""
   ]
  },
  {
   "cell_type": "markdown",
   "metadata": {},
   "source": [
    "## Changes from 4.0.1 to 4.0.2"
   ]
  },
  {
   "cell_type": "markdown",
   "metadata": {},
   "source": [
    ""
   ]
  },
  {
   "cell_type": "markdown",
   "metadata": {},
   "source": [
    ""
   ]
  },
  {
   "cell_type": "markdown",
   "metadata": {},
   "source": [
    "*  Names of examples were changed from numbers to mnemonics"
   ]
  },
  {
   "cell_type": "markdown",
   "metadata": {},
   "source": [
    "*  Added SIMD examples                         ( SIMD )"
   ]
  },
  {
   "cell_type": "markdown",
   "metadata": {},
   "source": [
    "*  Applied miscellaneous fixes in several source codes"
   ]
  },
  {
   "cell_type": "markdown",
   "metadata": {},
   "source": [
    "*  Added the revision history"
   ]
  },
  {
   "cell_type": "markdown",
   "metadata": {},
   "source": [
    ""
   ]
  },
  {
   "cell_type": "markdown",
   "metadata": {},
   "source": [
    "## Changes from 4.0 to 4.0.1"
   ]
  },
  {
   "cell_type": "markdown",
   "metadata": {},
   "source": [
    ""
   ]
  },
  {
   "cell_type": "markdown",
   "metadata": {},
   "source": [
    "Added the following new examples:"
   ]
  },
  {
   "cell_type": "markdown",
   "metadata": {},
   "source": [
    "*  the `proc_bind` clause   ( affinity )"
   ]
  },
  {
   "cell_type": "markdown",
   "metadata": {},
   "source": [
    "*  the `taskgroup` construct ( taskgroup )"
   ]
  },
  {
   "cell_type": "markdown",
   "metadata": {},
   "source": [
    ""
   ]
  },
  {
   "cell_type": "markdown",
   "metadata": {},
   "source": [
    "## Changes from 3.1 to 4.0"
   ]
  },
  {
   "cell_type": "markdown",
   "metadata": {},
   "source": [
    ""
   ]
  },
  {
   "cell_type": "markdown",
   "metadata": {},
   "source": [
    ""
   ]
  },
  {
   "cell_type": "markdown",
   "metadata": {},
   "source": [
    "*  Beginning with OpenMP 4.0, examples were placed in a separate document       from the specification document."
   ]
  },
  {
   "cell_type": "markdown",
   "metadata": {},
   "source": [
    "*  Version 4.0 added the following new examples:"
   ]
  },
  {
   "cell_type": "markdown",
   "metadata": {},
   "source": [
    ""
   ]
  },
  {
   "cell_type": "markdown",
   "metadata": {},
   "source": [
    "*  task dependences                       ( task_depend )"
   ]
  },
  {
   "cell_type": "markdown",
   "metadata": {},
   "source": [
    "*  `target` construct                ( target )"
   ]
  },
  {
   "cell_type": "markdown",
   "metadata": {},
   "source": [
    "*  array sections in device constructs    ( array_sections )"
   ]
  },
  {
   "cell_type": "markdown",
   "metadata": {},
   "source": [
    "*  `target` `data` construct    ( target_data )"
   ]
  },
  {
   "cell_type": "markdown",
   "metadata": {},
   "source": [
    "*  `target` `update` construct  ( target_update )"
   ]
  },
  {
   "cell_type": "markdown",
   "metadata": {},
   "source": [
    "*  `declare` `target` directive ( declare_target )"
   ]
  },
  {
   "cell_type": "markdown",
   "metadata": {},
   "source": [
    "*  `teams` constructs                ( teams )"
   ]
  },
  {
   "cell_type": "markdown",
   "metadata": {},
   "source": [
    "*  asynchronous execution of a `target` region using tasks ( async_target_with_tasks )"
   ]
  },
  {
   "cell_type": "markdown",
   "metadata": {},
   "source": [
    "*  device runtime routines                ( device )"
   ]
  },
  {
   "cell_type": "markdown",
   "metadata": {},
   "source": [
    "*  Fortran ASSOCIATE construct            ( associate )"
   ]
  },
  {
   "cell_type": "markdown",
   "metadata": {},
   "source": [
    "*  cancellation constructs                ( cancellation )"
   ]
  },
  {
   "cell_type": "markdown",
   "metadata": {},
   "source": [
    "../../History.tex"
   ]
  },
  {
   "cell_type": "markdown",
   "metadata": {},
   "source": [
    "\nolinenumbers          \phantomsection         \printindex"
   ]
  },
  {
   "cell_type": "markdown",
   "metadata": {},
   "source": [
    ""
   ]
  },
  {
   "cell_type": "markdown",
   "metadata": {},
   "source": [
    ""
   ]
  }
 ],
 "metadata": {
  "kernelspec": {
   "display_name": "Native",
   "language": "native",
   "name": "native"
  },
  "language_info": {
   "file_extension": ".c",
   "mimetype": "text/plain",
   "name": "none"
  }
 },
 "nbformat": 4,
 "nbformat_minor": 2
}