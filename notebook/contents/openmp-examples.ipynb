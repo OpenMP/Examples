{
 "cells": [
  {
   "cell_type": "markdown",
   "metadata": {},
   "source": [
    ""
   ]
  },
  {
   "cell_type": "markdown",
   "metadata": {},
   "source": [
    "\documentclass[10pt,letterpaper,twoside,makeidx,hidelinks]{scrreprt}"
   ]
  },
  {
   "cell_type": "markdown",
   "metadata": {},
   "source": [
    "\newcommand{5.0.1}{5.2}   \newcommand{\PVER}{5.2}  \newcommand{5.0.1DATE}{April 2022} \newcommand{\footerText}{OpenMP Examples Version \PVER{} - 5.0.1DATE}"
   ]
  },
  {
   "cell_type": "markdown",
   "metadata": {},
   "source": [
    "\input{generated-include}"
   ]
  },
  {
   "cell_type": "markdown",
   "metadata": {},
   "source": [
    "\input{openmp.sty}"
   ]
  },
  {
   "cell_type": "markdown",
   "metadata": {},
   "source": [
    "\makeindex"
   ]
  },
  {
   "cell_type": "markdown",
   "metadata": {},
   "source": [
    "\pagenumbering{roman}     \input{Title_Page}"
   ]
  },
  {
   "cell_type": "markdown",
   "metadata": {},
   "source": [
    "\input{Foreword_Chapt}     \thispagestyle{empty}     \newpage"
   ]
  },
  {
   "cell_type": "markdown",
   "metadata": {},
   "source": [
    "\setcounter{page}{1}     \setcounter{tocdepth}{2}"
   ]
  },
  {
   "cell_type": "markdown",
   "metadata": {},
   "source": [
    "{1.3}         \tableofcontents                  \listoffigures         \vspace*{5ex}         \listoftables"
   ]
  },
  {
   "cell_type": "markdown",
   "metadata": {},
   "source": [
    "\linenumbers\pagewiselinenumbers"
   ]
  },
  {
   "cell_type": "markdown",
   "metadata": {},
   "source": [
    "\cleardoublepage     \pagenumbering{arabic}"
   ]
  },
  {
   "cell_type": "markdown",
   "metadata": {},
   "source": [
    "\setcounter{chapter}{0}"
   ]
  },
  {
   "cell_type": "markdown",
   "metadata": {},
   "source": [
    "\input{Chap_introduction}     \input{Chap_directives}     \input{Chap_parallel_execution}     \input{Chap_affinity}     \input{Chap_tasking}     \input{Chap_devices}     \input{Chap_SIMD}     \input{Chap_loop_transformations}     \input{Chap_synchronization}     \input{Chap_data_environment}     \input{Chap_memory_model}     \input{Chap_program_control}     \input{Chap_ompt_interface}"
   ]
  },
  {
   "cell_type": "markdown",
   "metadata": {},
   "source": [
    ""
   ]
  },
  {
   "cell_type": "markdown",
   "metadata": {},
   "source": [
    "\setcounter{chapter}{0}      \renewcommand{\thechapter}{\Alph{chapter}}    \appendix     \input{Deprecated_Features}     \input{History}"
   ]
  },
  {
   "cell_type": "markdown",
   "metadata": {},
   "source": [
    "\nolinenumbers          \phantomsection         \printindex"
   ]
  },
  {
   "cell_type": "markdown",
   "metadata": {},
   "source": [
    ""
   ]
  },
  {
   "cell_type": "markdown",
   "metadata": {},
   "source": [
    ""
   ]
  }
 ],
 "metadata": {
  "kernelspec": {
   "display_name": "Native",
   "language": "native",
   "name": "native"
  },
  "language_info": {
   "file_extension": ".c",
   "mimetype": "text/plain",
   "name": "none"
  }
 },
 "nbformat": 4,
 "nbformat_minor": 2
}