{
 "cells": [
  {
   "cell_type": "markdown",
   "metadata": {},
   "source": [
    ""
   ]
  },
  {
   "cell_type": "markdown",
   "metadata": {},
   "source": [
    "# Program Control"
   ]
  },
  {
   "cell_type": "markdown",
   "metadata": {},
   "source": [
    ""
   ]
  },
  {
   "cell_type": "markdown",
   "metadata": {},
   "source": [
    "Some specific and elementary concepts of controlling program execution are illustrated in the examples of this chapter.  Control can be directly managed with conditional control code (ifdef's with the `_OPENMP`  macro, and the Fortran sentinel (`!$`)  for conditionally compiling). The `if` clause on some constructs can direct the runtime to ignore or alter the behavior of the construct. Of course, the base-language `if` statements can be used to control the \"execution\"  of stand-alone directives (such as `flush`, `barrier`, `taskwait`,  and  `taskyield`). However, the directives must appear in a block structure, and not as a substatement as shown in examples 1 and 2 of this chapter."
   ]
  },
  {
   "cell_type": "markdown",
   "metadata": {},
   "source": [
    ""
   ]
  },
  {
   "cell_type": "markdown",
   "metadata": {},
   "source": [
    ""
   ]
  },
  {
   "cell_type": "markdown",
   "metadata": {},
   "source": [
    "CANCELLATION"
   ]
  },
  {
   "cell_type": "markdown",
   "metadata": {},
   "source": [
    "Cancellation (termination) of the normal sequence of execution for the threads in an OpenMP region can be  accomplished with the `cancel` construct.  The construct uses a  _construct-type-clause_  to set the region-type to activate for the cancellation.  That is, inclusion  of one of the  _construct-type-clause_  names `parallel`, `for`,  `do`, `sections` or `taskgroup` on the directive line  activates the corresponding region.   The `cancel` construct is activated by the first encountering thread,  and it continues execution at the end of the named region. The `cancel` construct is also a cancellation point for any other thread of the team  to also continue execution at the end of the named region."
   ]
  },
  {
   "cell_type": "markdown",
   "metadata": {},
   "source": [
    "Also, once the specified region has been activated for cancellation any thread that encounnters  a `cancellation point` construct with the same named region ( _construct-type-clause_ ), continues execution at the end of the region."
   ]
  },
  {
   "cell_type": "markdown",
   "metadata": {},
   "source": [
    "For an activated `cancel taskgroup` construct, the tasks that belong to the taskgroup set of the innermost enclosing taskgroup region will be canceled."
   ]
  },
  {
   "cell_type": "markdown",
   "metadata": {},
   "source": [
    "A task that encounters the cancel taskgroup construct continues execution at the end of its task region. Any task of the taskgroup that has already begun execution will run to completion, unless it encounters a `cancellation point`; tasks that have not begun execution \"may\" be discarded as completed tasks."
   ]
  },
  {
   "cell_type": "markdown",
   "metadata": {},
   "source": [
    ""
   ]
  },
  {
   "cell_type": "markdown",
   "metadata": {},
   "source": [
    ""
   ]
  },
  {
   "cell_type": "markdown",
   "metadata": {},
   "source": [
    "CONTROL VARIABLES"
   ]
  },
  {
   "cell_type": "markdown",
   "metadata": {},
   "source": [
    "Internal control variables (ICV) are used by implementations to hold values which control the execution   of OpenMP regions.  Control (and hence the ICVs) may be set as implementation defaults,    or set and adjusted through environment variables, clauses, and API functions.  Many of the ICV control   values are accessible through API function calls.  Also, initial ICV values are reported by the runtime   if the `OMP_DISPLAY_ENV` environment variable has been set to `TRUE`."
   ]
  },
  {
   "cell_type": "markdown",
   "metadata": {},
   "source": [
    ""
   ]
  },
  {
   "cell_type": "markdown",
   "metadata": {},
   "source": [
    ""
   ]
  },
  {
   "cell_type": "markdown",
   "metadata": {},
   "source": [
    ""
   ]
  },
  {
   "cell_type": "markdown",
   "metadata": {},
   "source": [
    "NESTED CONSTRUCTS"
   ]
  },
  {
   "cell_type": "markdown",
   "metadata": {},
   "source": [
    "Certain combinations of nested constructs are permitted, giving rise to a  _combined_  construct consisting of two or more constructs.  These can be used when the two (or several) constructs would be used immediately in succession (closely nested). A combined construct can use the clauses of the component constructs without restrictions. A  _composite_  construct is a combined construct which has one or more clauses with (an often obviously) modified or restricted meaning, relative to when the constructs are uncombined."
   ]
  },
  {
   "cell_type": "markdown",
   "metadata": {},
   "source": [
    ""
   ]
  },
  {
   "cell_type": "markdown",
   "metadata": {},
   "source": [
    "Certain nestings are forbidden, and often the reasoning is obvious.  Worksharing constructs cannot be nested, and the `barrier` construct cannot be nested inside a worksharing construct, or a `critical` construct.  Also, `target` constructs cannot be nested."
   ]
  },
  {
   "cell_type": "markdown",
   "metadata": {},
   "source": [
    "The `parallel` construct can be nested, as well as the `task` construct.  The parallel execution in the nested `parallel` construct(s) is control by the `OMP_NESTED` and  `OMP_MAX_ACTIVE_LEVELS` environment variables, and the `omp_set_nested()` and  `omp_set_max_active_levels()` functions."
   ]
  },
  {
   "cell_type": "markdown",
   "metadata": {},
   "source": [
    "More details on nesting can be found in the  _Nesting of Regions_  of the  _Directives_   chapter in the OpenMP Specifications document."
   ]
  },
  {
   "cell_type": "markdown",
   "metadata": {},
   "source": [
    ""
   ]
  }
 ],
 "metadata": {
  "kernelspec": {
   "display_name": "Native",
   "language": "native",
   "name": "native"
  },
  "language_info": {
   "file_extension": ".c",
   "mimetype": "text/plain",
   "name": "none"
  }
 },
 "nbformat": 4,
 "nbformat_minor": 2
}