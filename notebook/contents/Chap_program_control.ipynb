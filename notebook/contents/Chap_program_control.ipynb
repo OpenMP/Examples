{
 "cells": [
  {
   "cell_type": "markdown",
   "metadata": {},
   "source": [
    ""
   ]
  },
  {
   "cell_type": "markdown",
   "metadata": {},
   "source": [
    "# Program Control"
   ]
  },
  {
   "cell_type": "markdown",
   "metadata": {},
   "source": [
    "{program_control}"
   ]
  },
  {
   "cell_type": "markdown",
   "metadata": {},
   "source": [
    "Basic concepts and mechanisms for directing and controlling a program compilation and execution are provided in this introduction and illustrated in subsequent examples."
   ]
  },
  {
   "cell_type": "markdown",
   "metadata": {},
   "source": [
    ""
   ]
  },
  {
   "cell_type": "markdown",
   "metadata": {},
   "source": [
    ""
   ]
  },
  {
   "cell_type": "markdown",
   "metadata": {},
   "source": [
    "CONDITIONAL COMPILATION and EXECUTION"
   ]
  },
  {
   "cell_type": "markdown",
   "metadata": {},
   "source": [
    "Conditional compilation can be performed with conventional #ifdef directives in C, C++, and Fortran, and additionally with OpenMP sentinel (`!$`) in Fortran.  The `if` clause on some directives can direct the runtime to ignore or alter the behavior of the construct. Of course, the base-language `if` statements can be used to control the execution of stand-alone directives (such as `flush`, `barrier`, `taskwait`,  and  `taskyield`). However, the directives must appear in a block structure, and not as a substatement. The `metadirective` and `declare` `variant` directives provide conditional  selection of directives and routines for compilation (and use), respectively. The `assume` and `requires` directives provide invariants for optimizing compilation, and essential features for compilation  and correct execution, respectively."
   ]
  },
  {
   "cell_type": "markdown",
   "metadata": {},
   "source": [
    ""
   ]
  },
  {
   "cell_type": "markdown",
   "metadata": {},
   "source": [
    ""
   ]
  },
  {
   "cell_type": "markdown",
   "metadata": {},
   "source": [
    ""
   ]
  },
  {
   "cell_type": "markdown",
   "metadata": {},
   "source": [
    "CANCELLATION"
   ]
  },
  {
   "cell_type": "markdown",
   "metadata": {},
   "source": [
    "Cancellation (termination) of the normal sequence of execution for the threads in an OpenMP region can be  accomplished with the `cancel` construct.  The construct uses a  _construct-type-clause_  to set the region-type to activate for the cancellation.  That is, inclusion  of one of the  _construct-type-clause_  names `parallel`, `for`,  `do`, `sections` or `taskgroup` on the directive line  activates the corresponding region.   The `cancel` construct is activated by the first encountering thread,  and it continues execution at the end of the named region. The `cancel` construct is also a cancellation point for any other thread of the team  to also continue execution at the end of the named region."
   ]
  },
  {
   "cell_type": "markdown",
   "metadata": {},
   "source": [
    "Also, once the specified region has been activated for cancellation any thread that encounnters  a `cancellation` `point` construct with the same named region ( _construct-type-clause_ ), continues execution at the end of the region."
   ]
  },
  {
   "cell_type": "markdown",
   "metadata": {},
   "source": [
    "For an activated `cancel taskgroup` construct, the tasks that belong to the taskgroup set of the innermost enclosing taskgroup region will be canceled."
   ]
  },
  {
   "cell_type": "markdown",
   "metadata": {},
   "source": [
    "A task that encounters a `cancel` `taskgroup` construct continues execution at the end of its task region. Any task of the taskgroup that has already begun execution will run to completion, unless it encounters a `cancellation` `point`; tasks that have not begun execution may be discarded as completed tasks."
   ]
  },
  {
   "cell_type": "markdown",
   "metadata": {},
   "source": [
    ""
   ]
  },
  {
   "cell_type": "markdown",
   "metadata": {},
   "source": [
    ""
   ]
  },
  {
   "cell_type": "markdown",
   "metadata": {},
   "source": [
    "CONTROL VARIABLES"
   ]
  },
  {
   "cell_type": "markdown",
   "metadata": {},
   "source": [
    "Internal control variables (ICV) are used by implementations to hold values which control the execution   of OpenMP regions.  Control (and hence the ICVs) may be set as implementation defaults,    or set and adjusted through environment variables, clauses, and API functions.      Initial ICV values are reported by the runtime   if the `OMP_DISPLAY_ENV` environment variable has been set to `TRUE` or `VERBOSE`."
   ]
  },
  {
   "cell_type": "markdown",
   "metadata": {},
   "source": [
    ""
   ]
  },
  {
   "cell_type": "markdown",
   "metadata": {},
   "source": [
    ""
   ]
  },
  {
   "cell_type": "markdown",
   "metadata": {},
   "source": [
    ""
   ]
  },
  {
   "cell_type": "markdown",
   "metadata": {},
   "source": [
    "NESTED CONSTRUCTS"
   ]
  },
  {
   "cell_type": "markdown",
   "metadata": {},
   "source": [
    "Certain combinations of nested constructs are permitted, giving rise to  _combined_  constructs consisting of two or more directives.  These can be used when the two (or several) constructs would be used immediately in succession (closely nested). A  _combined_  construct can use the clauses of the component constructs without restrictions. A  _composite_  construct is a combined construct which has one or more clauses with (an often obviously) modified or restricted meaning, relative to when the constructs are uncombined."
   ]
  },
  {
   "cell_type": "markdown",
   "metadata": {},
   "source": [
    ""
   ]
  },
  {
   "cell_type": "markdown",
   "metadata": {},
   "source": [
    "Certain nestings are forbidden, and often the reasoning is obvious.  For example, worksharing constructs cannot be nested, and the `barrier` construct cannot be nested inside a worksharing construct, or a `critical` construct.  Also, `target` constructs cannot be nested, unless the nested target is a reverse offload."
   ]
  },
  {
   "cell_type": "markdown",
   "metadata": {},
   "source": [
    "The `parallel` construct can be nested, as well as the `task` construct.   The parallel execution in the nested parallel construct(s) is controlled by the  `OMP_MAX_ACTIVE_LEVELS` environment variable, and the `omp_set_max_active_levels` routine.  Use the `omp_get_max_active_levels` routine to determine the maximum levels provided by an implementation. As of OpenMP 5.0, use of the `OMP_NESTED` environment variable and the `omp_set_nested` routine  has been deprecated."
   ]
  },
  {
   "cell_type": "markdown",
   "metadata": {},
   "source": [
    "More details on nesting can be found in the  _Nesting of Regions_  of the  _Directives_   chapter in the OpenMP Specifications document."
   ]
  },
  {
   "cell_type": "markdown",
   "metadata": {},
   "source": [
    ""
   ]
  },
  {
   "cell_type": "markdown",
   "metadata": {},
   "source": [
    ""
   ]
  },
  {
   "cell_type": "markdown",
   "metadata": {},
   "source": [
    ""
   ]
  },
  {
   "cell_type": "markdown",
   "metadata": {},
   "source": [
    "## Conditional Compilation"
   ]
  },
  {
   "cell_type": "markdown",
   "metadata": {},
   "source": [
    "\index{conditional compilation!_OPENMP macro@\scode{_OPENMP} macro} \index{conditional compilation!sentinel}"
   ]
  },
  {
   "cell_type": "markdown",
   "metadata": {},
   "source": [
    "The following example illustrates the use of conditional compilation using the  OpenMP macro `_OPENMP`. With OpenMP compilation, the `_OPENMP`  macro becomes defined."
   ]
  },
  {
   "cell_type": "markdown",
   "metadata": {},
   "source": [
    ""
   ]
  },
  {
   "cell_type": "code",
   "execution_count": null,
   "metadata": {},
   "outputs": [],
   "source": [
    "//%compiler: clang\n",
 "//%cflags: -fopenmp\n",
 "\n",
    "/*\n",
    "* name: cond_comp.1\n",
    "* type: C\n",
    "*/\n",
    "#include <stdio.h>\n",
    "\n",
    "int main()\n",
    "{\n",
    "\n",
    "# ifdef _OPENMP\n",
    "    printf(\"Compiled by an OpenMP-compliant implementation.\\n\");\n",
    "# endif\n",
    "\n",
    "    return 0;\n",
    "}\n",
    "\n"
   ]
  },
  {
   "cell_type": "markdown",
   "metadata": {},
   "source": [
    ""
   ]
  },
  {
   "cell_type": "markdown",
   "metadata": {},
   "source": [
    "The following example illustrates the use of the conditional compilation sentinel.  With OpenMP compilation, the conditional compilation sentinel `!$` is recognized  and treated as two spaces. In fixed form source, statements guarded by the sentinel  must start after column 6."
   ]
  },
  {
   "cell_type": "markdown",
   "metadata": {},
   "source": [
    ""
   ]
  },
  {
   "cell_type": "code",
   "execution_count": null,
   "metadata": {},
   "outputs": [],
   "source": [
    "\n",
    "! name: cond_comp.1\n",
    "! type: F-fixed\n",
    "      PROGRAM EXAMPLE\n",
    "\n",
    "C234567890\n",
    "!$    PRINT *, \"Compiled by an OpenMP-compliant implementation.\"\n",
    "\n",
    "      END PROGRAM EXAMPLE\n",
    "\n"
   ]
  },
  {
   "cell_type": "markdown",
   "metadata": {},
   "source": [
    ""
   ]
  },
  {
   "cell_type": "markdown",
   "metadata": {},
   "source": [
    "../../program_control/cond_comp.tex"
   ]
  },
  {
   "cell_type": "markdown",
   "metadata": {},
   "source": [
    ""
   ]
  },
  {
   "cell_type": "markdown",
   "metadata": {},
   "source": [
    "## Internal Control Variables (ICVs)"
   ]
  },
  {
   "cell_type": "markdown",
   "metadata": {},
   "source": [
    "\index{internal control variables}"
   ]
  },
  {
   "cell_type": "markdown",
   "metadata": {},
   "source": [
    "According to Section 2.3 of the OpenMP 4.0 specification, an OpenMP implementation must act as if there are ICVs that control  the behavior of the program.  This example illustrates two ICVs,  _nthreads-var_   and  _max-active-levels-var_ . The  _nthreads-var_  ICV controls the  number of threads requested for encountered parallel regions; there is one copy  of this ICV per task. The  _max-active-levels-var_  ICV controls the maximum  number of nested active parallel regions; there is one copy of this ICV for the  whole program."
   ]
  },
  {
   "cell_type": "markdown",
   "metadata": {},
   "source": [
    "In the following example, the  _nest-var_ ,  _max-active-levels-var_ ,   _dyn-var_ , and  _nthreads-var_  ICVs are modified through calls to  the runtime library routines `omp_set_nested`, `omp_set_max_active_levels`,`  omp_set_dynamic`, and `omp_set_num_threads` respectively. These ICVs  affect the operation of `parallel` regions. Each implicit task generated  by a `parallel` region has its own copy of the  _nest-var, dyn-var_ ,  and  _nthreads-var_  ICVs."
   ]
  },
  {
   "cell_type": "markdown",
   "metadata": {},
   "source": [
    "In the following example, the new value of  _nthreads-var_  applies only to  the implicit tasks that execute the call to `omp_set_num_threads`. There  is one copy of the  _max-active-levels-var_  ICV for the whole program and  its value is the same for all tasks. This example assumes that nested parallelism  is supported."
   ]
  },
  {
   "cell_type": "markdown",
   "metadata": {},
   "source": [
    "The outer `parallel` region creates a team of two threads; each of the threads  will execute one of the two implicit tasks generated by the outer `parallel`  region."
   ]
  },
  {
   "cell_type": "markdown",
   "metadata": {},
   "source": [
    "Each implicit task generated by the outer `parallel` region calls `omp_set_num_threads(3)`,  assigning the value 3 to its respective copy of  _nthreads-var_ . Then each  implicit task encounters an inner `parallel` region that creates a team  of three threads; each of the threads will execute one of the three implicit tasks  generated by that inner `parallel` region."
   ]
  },
  {
   "cell_type": "markdown",
   "metadata": {},
   "source": [
    "Since the outer `parallel` region is executed by 2 threads, and the inner  by 3, there will be a total of 6 implicit tasks generated by the two inner `parallel`  regions."
   ]
  },
  {
   "cell_type": "markdown",
   "metadata": {},
   "source": [
    "Each implicit task generated by an inner `parallel` region will execute  the call to `omp_set_num_threads(4)`, assigning the value 4 to its respective  copy of  _nthreads-var_ ."
   ]
  },
  {
   "cell_type": "markdown",
   "metadata": {},
   "source": [
    "The print statement in the outer `parallel` region is executed by only one  of the threads in the team. So it will be executed only once."
   ]
  },
  {
   "cell_type": "markdown",
   "metadata": {},
   "source": [
    "The print statement in an inner `parallel` region is also executed by only  one of the threads in the team. Since we have a total of two inner `parallel`  regions, the print statement will be executed twice -- once per inner `parallel`  region."
   ]
  },
  {
   "cell_type": "markdown",
   "metadata": {},
   "source": [
    ""
   ]
  },
  {
   "cell_type": "code",
   "execution_count": null,
   "metadata": {},
   "outputs": [],
   "source": [
    "//%compiler: clang\n",
 "//%cflags: -fopenmp\n",
 "\n",
    "/*\n",
    "* name: icv.1\n",
    "* type: C\n",
    "*/\n",
    "#include <stdio.h>\n",
    "#include <omp.h>\n",
    "\n",
    "int main (void)\n",
    "{\n",
    "  omp_set_nested(1);\n",
    "  omp_set_max_active_levels(8);\n",
    "  omp_set_dynamic(0);\n",
    "  omp_set_num_threads(2);\n",
    "  #pragma omp parallel\n",
    "    {\n",
    "      omp_set_num_threads(3);\n",
    "\n",
    "      #pragma omp parallel\n",
    "        {\n",
    "          omp_set_num_threads(4);\n",
    "          #pragma omp single\n",
    "            {\n",
    "                 // The following should print:\n",
    "                 // Inner: max_act_lev=8, num_thds=3, max_thds=4\n",
    "                 // Inner: max_act_lev=8, num_thds=3, max_thds=4\n",
    "              printf (\"Inner: max_act_lev=%d, num_thds=%d, max_thds=%d\\n\",\n",
    "              omp_get_max_active_levels(), omp_get_num_threads(),\n",
    "              omp_get_max_threads());\n",
    "            }\n",
    "        }\n",
    "\n",
    "      #pragma omp barrier\n",
    "      #pragma omp single\n",
    "        {\n",
    "                 // The following should print:\n",
    "                 // Outer: max_act_lev=8, num_thds=2, max_thds=3\n",
    "          printf (\"Outer: max_act_lev=%d, num_thds=%d, max_thds=%d\\n\",\n",
    "                  omp_get_max_active_levels(), omp_get_num_threads(),\n",
    "                  omp_get_max_threads());\n",
    "        }\n",
    "    }\n",
    "    return 0;\n",
    "}\n",
    "\n"
   ]
  },
  {
   "cell_type": "markdown",
   "metadata": {},
   "source": [
    ""
   ]
  },
  {
   "cell_type": "markdown",
   "metadata": {},
   "source": [
    ""
   ]
  },
  {
   "cell_type": "code",
   "execution_count": null,
   "metadata": {},
   "outputs": [],
   "source": [
    "\n",
    "! name: icv.1\n",
    "! type: F-fixed\n",
    "      program icv\n",
    "      use omp_lib\n",
    "\n",
    "      call omp_set_nested(.true.)\n",
    "      call omp_set_max_active_levels(8)\n",
    "      call omp_set_dynamic(.false.)\n",
    "      call omp_set_num_threads(2)\n",
    "\n",
    "!$omp parallel\n",
    "      call omp_set_num_threads(3)\n",
    "\n",
    "!$omp parallel\n",
    "      call omp_set_num_threads(4)\n",
    "!$omp single\n",
    "!      The following should print:\n",
    "!      Inner: max_act_lev= 8 , num_thds= 3 , max_thds= 4\n",
    "!      Inner: max_act_lev= 8 , num_thds= 3 , max_thds= 4\n",
    "       print *, \"Inner: max_act_lev=\", omp_get_max_active_levels(),\n",
    "     &           \", num_thds=\", omp_get_num_threads(),\n",
    "     &           \", max_thds=\", omp_get_max_threads()\n",
    "!$omp end single\n",
    "!$omp end parallel\n",
    "\n",
    "!$omp barrier\n",
    "!$omp single\n",
    "!      The following should print:\n",
    "!      Outer: max_act_lev= 8 , num_thds= 2 , max_thds= 3\n",
    "       print *, \"Outer: max_act_lev=\", omp_get_max_active_levels(),\n",
    "     &           \", num_thds=\", omp_get_num_threads(),\n",
    "     &           \", max_thds=\", omp_get_max_threads()\n",
    "!$omp end single\n",
    "!$omp end parallel\n",
    "       end\n",
    "\n"
   ]
  },
  {
   "cell_type": "markdown",
   "metadata": {},
   "source": [
    ""
   ]
  },
  {
   "cell_type": "markdown",
   "metadata": {},
   "source": [
    "../../program_control/icv.tex"
   ]
  },
  {
   "cell_type": "markdown",
   "metadata": {},
   "source": [
    ""
   ]
  },
  {
   "cell_type": "markdown",
   "metadata": {},
   "source": [
    "## Placement of `flush`, `barrier`, `taskwait`  and `taskyield` Directives"
   ]
  },
  {
   "cell_type": "markdown",
   "metadata": {},
   "source": [
    "\index{standalone directive placement} \index{constructs!flush@`flush`} \index{constructs!barrier@`barrier`} \index{constructs!taskwait@`taskwait`} \index{constructs!taskyield@`taskyield`} \index{flush construct@`flush` construct} \index{barrier construct@`barrier` construct} \index{taskwait construct@`taskwait` construct} \index{taskyield construct@`taskyield` construct}"
   ]
  },
  {
   "cell_type": "markdown",
   "metadata": {},
   "source": [
    "The following example is non-conforming, because the `flush`, `barrier`,  `taskwait`, and `taskyield`  directives are stand-alone directives  and cannot be the immediate substatement of an `if` statement."
   ]
  },
  {
   "cell_type": "markdown",
   "metadata": {},
   "source": [
    ""
   ]
  },
  {
   "cell_type": "code",
   "execution_count": null,
   "metadata": {},
   "outputs": [],
   "source": [
    "//%compiler: clang\n",
 "//%cflags: -fopenmp\n",
 "\n",
    "/*\n",
    "* name: standalone.1\n",
    "* type: C\n",
    "* version: omp_3.1\n",
    "*/\n",
    "\n",
    "void standalone_wrong()\n",
    "{\n",
    "  int a = 1;\n",
    "\n",
    " if (a != 0)\n",
    "  #pragma omp flush(a)\n",
    "/* incorrect as flush cannot be immediate substatement\n",
    "   of if statement */\n",
    "\n",
    " if (a != 0)\n",
    "  #pragma omp barrier\n",
    "/* incorrect as barrier cannot be immediate substatement\n",
    "   of if statement */\n",
    "\n",
    " if (a!=0)\n",
    "  #pragma omp taskyield\n",
    "/* incorrect as taskyield cannot be immediate substatement of if statement\n",
    "*/\n",
    "\n",
    " if (a != 0)\n",
    "  #pragma omp taskwait\n",
    "/* incorrect as taskwait cannot be immediate substatement\n",
    "   of if statement */\n",
    "\n",
    "}\n",
    "\n"
   ]
  },
  {
   "cell_type": "markdown",
   "metadata": {},
   "source": [
    ""
   ]
  },
  {
   "cell_type": "markdown",
   "metadata": {},
   "source": [
    "The following example is non-conforming, because the `flush`, `barrier`,  `taskwait`, and `taskyield`  directives are stand-alone directives  and cannot be the action statement of an `if` statement or a labeled branch  target."
   ]
  },
  {
   "cell_type": "markdown",
   "metadata": {},
   "source": [
    ""
   ]
  },
  {
   "cell_type": "code",
   "execution_count": null,
   "metadata": {},
   "outputs": [],
   "source": [
    "\n",
    "! name: standalone.1\n",
    "! type: F-free\n",
    "! version:     omp_3.1\n",
    "\n",
    "\n",
    "SUBROUTINE STANDALONE_WRONG()\n",
    "\n",
    "  INTEGER  A\n",
    "\n",
    "  A = 1\n",
    "\n",
    "  ! the FLUSH directive must not be the action statement\n",
    "  ! in an IF statement\n",
    "  IF (A .NE. 0) !$OMP FLUSH(A)\n",
    "\n",
    "  ! the BARRIER directive must not be the action statement\n",
    "  ! in an IF statement\n",
    "  IF (A .NE. 0) !$OMP BARRIER\n",
    "\n",
    "  ! the TASKWAIT directive must not be the action statement\n",
    "  ! in an IF statement\n",
    "  IF (A .NE. 0) !$OMP TASKWAIT\n",
    "\n",
    "  ! the TASKYIELD directive must not be the action statement\n",
    "  ! in an IF statement\n",
    "  IF (A .NE. 0) !$OMP TASKYIELD\n",
    "\n",
    "  GOTO 100\n",
    "\n",
    "  ! the FLUSH directive must not be a labeled branch target\n",
    "  ! statement\n",
    "  100 !$OMP FLUSH(A)\n",
    "  GOTO 200\n",
    "\n",
    "  ! the BARRIER directive must not be a labeled branch target\n",
    "  ! statement\n",
    "  200 !$OMP BARRIER\n",
    "  GOTO 300\n",
    "\n",
    "  ! the TASKWAIT directive must not be a labeled branch target\n",
    "  ! statement\n",
    "  300 !$OMP TASKWAIT\n",
    "  GOTO 400\n",
    "\n",
    "  ! the TASKYIELD directive must not be a labeled branch target\n",
    "  ! statement\n",
    "  400 !$OMP TASKYIELD\n",
    "\n",
    "END SUBROUTINE\n",
    "\n"
   ]
  },
  {
   "cell_type": "markdown",
   "metadata": {},
   "source": [
    ""
   ]
  },
  {
   "cell_type": "markdown",
   "metadata": {},
   "source": [
    "The following version of the above example is conforming because the `flush`,  `barrier`, `taskwait`, and `taskyield` directives are enclosed  in a compound statement."
   ]
  },
  {
   "cell_type": "markdown",
   "metadata": {},
   "source": [
    ""
   ]
  },
  {
   "cell_type": "code",
   "execution_count": null,
   "metadata": {},
   "outputs": [],
   "source": [
    "//%compiler: clang\n",
 "//%cflags: -fopenmp\n",
 "\n",
    "/*\n",
    "* name: standalone.2\n",
    "* type: C\n",
    "* version: omp_3.1\n",
    "*/\n",
    "void standalone_ok()\n",
    "{\n",
    "  int a = 1;\n",
    "\n",
    "  #pragma omp parallel\n",
    "  {\n",
    "     if (a != 0) {\n",
    "  #pragma omp flush(a)\n",
    "     }\n",
    "     if (a != 0) {\n",
    "  #pragma omp barrier\n",
    "     }\n",
    "     if (a != 0) {\n",
    "  #pragma omp taskwait\n",
    "     }\n",
    " if (a != 0) {\n",
    "  #pragma omp taskyield\n",
    " }\n",
    "  }\n",
    "}\n",
    "\n"
   ]
  },
  {
   "cell_type": "markdown",
   "metadata": {},
   "source": [
    ""
   ]
  },
  {
   "cell_type": "markdown",
   "metadata": {},
   "source": [
    "The following example is conforming because the `flush`, `barrier`,  `taskwait`, and `taskyield` directives are enclosed in an `if`  construct or follow the labeled branch target."
   ]
  },
  {
   "cell_type": "markdown",
   "metadata": {},
   "source": [
    ""
   ]
  },
  {
   "cell_type": "code",
   "execution_count": null,
   "metadata": {},
   "outputs": [],
   "source": [
    "\n",
    "! name: standalone.2\n",
    "! type: F-free\n",
    "! version:     omp_3.1\n",
    "SUBROUTINE STANDALONE_OK()\n",
    "  INTEGER  A\n",
    "  A = 1\n",
    "  IF (A .NE. 0) THEN\n",
    "    !$OMP FLUSH(A)\n",
    "  ENDIF\n",
    "  IF (A .NE. 0) THEN\n",
    "    !$OMP BARRIER\n",
    "  ENDIF\n",
    "  IF (A .NE. 0) THEN\n",
    "    !$OMP TASKWAIT\n",
    "  ENDIF\n",
    "  IF (A .NE. 0) THEN\n",
    "    !$OMP TASKYIELD\n",
    "  ENDIF\n",
    "  GOTO 100\n",
    "  100 CONTINUE\n",
    "  !$OMP FLUSH(A)\n",
    "  GOTO 200\n",
    "  200 CONTINUE\n",
    "  !$OMP BARRIER\n",
    "  GOTO 300\n",
    "  300 CONTINUE\n",
    "  !$OMP TASKWAIT\n",
    "  GOTO 400\n",
    "  400 CONTINUE\n",
    "  !$OMP TASKYIELD\n",
    "END SUBROUTINE\n",
    "\n"
   ]
  },
  {
   "cell_type": "markdown",
   "metadata": {},
   "source": [
    ""
   ]
  },
  {
   "cell_type": "markdown",
   "metadata": {},
   "source": [
    ""
   ]
  },
  {
   "cell_type": "markdown",
   "metadata": {},
   "source": [
    "../../program_control/standalone.tex"
   ]
  },
  {
   "cell_type": "markdown",
   "metadata": {},
   "source": [
    ""
   ]
  },
  {
   "cell_type": "markdown",
   "metadata": {},
   "source": [
    "## Cancellation Constructs"
   ]
  },
  {
   "cell_type": "markdown",
   "metadata": {},
   "source": [
    "\index{cancellation!cancel construct@`cancel` construct} \index{constructs!cancel@`cancel`} \index{cancel construct@`cancel` construct}"
   ]
  },
  {
   "cell_type": "markdown",
   "metadata": {},
   "source": [
    "\index{cancellation!for parallel region@for `parallel` region} \index{cancellation!for worksharing region} The following example shows how the `cancel` directive can be used to terminate  an OpenMP region. Although the `cancel` construct terminates the OpenMP  worksharing region, programmers must still track the exception through the pointer  ex and issue a cancellation for the `parallel` region if an exception has  been raised. The primary thread checks the exception pointer to make sure that the  exception is properly handled in the sequential part. If cancellation of the `parallel`  region has been requested, some threads might have executed `phase_1()`.  However, it is guaranteed that none of the threads executed `phase_2()`."
   ]
  },
  {
   "cell_type": "markdown",
   "metadata": {},
   "source": [
    ""
   ]
  },
  {
   "cell_type": "code",
   "execution_count": null,
   "metadata": {},
   "outputs": [],
   "source": [
    "//%compiler: clang\n",
 "//%cflags: -fopenmp\n",
 "\n",
    "/*\n",
    "* name: cancellation.1\n",
    "* type: C++\n",
    "* version: omp_4.0\n",
    "*/\n",
    "#include <iostream>\n",
    "#include <exception>\n",
    "#include <cstddef>\n",
    "\n",
    "#define N 10000\n",
    "\n",
    "extern void causes_an_exception();\n",
    "extern void phase_1();\n",
    "extern void phase_2();\n",
    "\n",
    "void example() {\n",
    "    std::exception *ex = NULL;\n",
    "#pragma omp parallel shared(ex)\n",
    "    {\n",
    "#pragma omp for\n",
    "        for (int i = 0; i < N; i++) {\n",
    "            // no 'if' that prevents compiler optimizations\n",
    "            try {\n",
    "                causes_an_exception();\n",
    "            }\n",
    "            catch (std::exception *e) {\n",
    "                // still must remember exception for later handling\n",
    "#pragma omp atomic write\n",
    "                ex = e;\n",
    "  // cancel worksharing construct\n",
    "#pragma omp cancel for\n",
    "            }\n",
    "        }\n",
    "        // if an exception has been raised, cancel parallel region\n",
    "        if (ex) {\n",
    "#pragma omp cancel parallel\n",
    "        }\n",
    "        phase_1();\n",
    "#pragma omp barrier\n",
    "        phase_2();\n",
    "    }\n",
    "    // continue here if an exception has been thrown in\n",
    "    // the worksharing loop\n",
    "    if (ex) {\n",
    "        // handle exception stored in ex\n",
    "    }\n",
    "}\n",
    "\n"
   ]
  },
  {
   "cell_type": "markdown",
   "metadata": {},
   "source": [
    ""
   ]
  },
  {
   "cell_type": "markdown",
   "metadata": {},
   "source": [
    ""
   ]
  },
  {
   "cell_type": "markdown",
   "metadata": {},
   "source": [
    "\index{cancellation!cancellation point construct@`cancellation` `point` construct} \index{constructs!cancellation point@`cancellation` `point`} \index{cancellation point construct@`cancellation` `point` construct} The following example illustrates the use of the `cancel` construct in error  handling. If there is an error condition from the `allocate` statement,  the cancellation is activated. The encountering thread sets the shared variable  `err` and other threads of the binding thread set proceed to the end of  the worksharing construct after the cancellation has been activated."
   ]
  },
  {
   "cell_type": "markdown",
   "metadata": {},
   "source": [
    ""
   ]
  },
  {
   "cell_type": "code",
   "execution_count": null,
   "metadata": {},
   "outputs": [],
   "source": [
    "\n",
    "! name: cancellation.1\n",
    "! type: F-free\n",
    "! version: omp_4.0\n",
    "subroutine example(n, dim)\n",
    "  integer, intent(in) :: n, dim(n)\n",
    "  integer :: i, s, err\n",
    "  real, allocatable :: B(:)\n",
    "  err = 0\n",
    "!$omp parallel shared(err)\n",
    "! ...\n",
    "!$omp do private(s, B)\n",
    "  do i=1, n\n",
    "!$omp cancellation point do\n",
    "    allocate(B(dim(i)), stat=s)\n",
    "    if (s .gt. 0) then\n",
    "!$omp atomic write\n",
    "      err = s\n",
    "!$omp cancel do\n",
    "    endif\n",
    "!   ...\n",
    "! deallocate private array B\n",
    "    if (allocated(B)) then\n",
    "      deallocate(B)\n",
    "    endif\n",
    "  enddo\n",
    "!$omp end parallel\n",
    "end subroutine\n",
    "\n"
   ]
  },
  {
   "cell_type": "markdown",
   "metadata": {},
   "source": [
    ""
   ]
  },
  {
   "cell_type": "markdown",
   "metadata": {},
   "source": [
    ""
   ]
  },
  {
   "cell_type": "markdown",
   "metadata": {},
   "source": [
    "\index{cancellation!for taskgroup region@for `taskgroup` region} The following example shows how to cancel a parallel search on a binary tree as  soon as the search value has been detected. The code creates a task to descend  into the child nodes of the current tree node. If the search value has been found,  the code remembers the tree node with the found value through an `atomic`  write to the result variable and then cancels execution of all search tasks. The  function `search_tree_parallel` groups all search tasks into a single  task group to control the effect of the `cancel taskgroup` directive. The   _level_  argument is used to create undeferred tasks after the first ten  levels of the tree."
   ]
  },
  {
   "cell_type": "markdown",
   "metadata": {},
   "source": [
    ""
   ]
  },
  {
   "cell_type": "code",
   "execution_count": null,
   "metadata": {},
   "outputs": [],
   "source": [
    "//%compiler: clang\n",
 "//%cflags: -fopenmp\n",
 "\n",
    "/*\n",
    "* name: cancellation.2\n",
    "* type: C\n",
    "* version: omp_5.1\n",
    "*/\n",
    "#include <stddef.h>\n",
    "\n",
    "typedef struct binary_tree_s {\n",
    "   int value;\n",
    "   struct binary_tree_s *left, *right;\n",
    "} binary_tree_t;\n",
    "\n",
    "binary_tree_t *search_tree(binary_tree_t *tree, int value, int level) {\n",
    "    binary_tree_t *found = NULL;\n",
    "    if (tree) {\n",
    "        if (tree->value == value) {\n",
    "            found = tree;\n",
    "        }\n",
    "        else {\n",
    "#pragma omp task shared(found) if(level < 10)\n",
    "            {\n",
    "                binary_tree_t *found_left = NULL;\n",
    "                found_left = search_tree(tree->left, value, level + 1);\n",
    "                if (found_left) {\n",
    "#pragma omp atomic write\n",
    "                    found = found_left;\n",
    "#pragma omp cancel taskgroup\n",
    "                }\n",
    "            }\n",
    "#pragma omp task shared(found) if(level < 10)\n",
    "            {\n",
    "                binary_tree_t *found_right = NULL;\n",
    "                found_right = search_tree(tree->right, value, level + 1);\n",
    "                if (found_right) {\n",
    "#pragma omp atomic write\n",
    "                    found = found_right;\n",
    "#pragma omp cancel taskgroup\n",
    "                }\n",
    "            }\n",
    "#pragma omp taskwait\n",
    "        }\n",
    "    }\n",
    "    return found;\n",
    "}\n",
    "binary_tree_t *search_tree_parallel(binary_tree_t *tree, int value) {\n",
    "    binary_tree_t *found = NULL;\n",
    "#pragma omp parallel shared(found, tree, value)\n",
    "    {\n",
    "#pragma omp masked\n",
    "        {\n",
    "#pragma omp taskgroup\n",
    "            {\n",
    "                found = search_tree(tree, value, 0);\n",
    "            }\n",
    "        }\n",
    "    }\n",
    "    return found;\n",
    "}\n",
    "\n"
   ]
  },
  {
   "cell_type": "markdown",
   "metadata": {},
   "source": [
    ""
   ]
  },
  {
   "cell_type": "markdown",
   "metadata": {},
   "source": [
    ""
   ]
  },
  {
   "cell_type": "markdown",
   "metadata": {},
   "source": [
    "The following is the equivalent parallel search example in Fortran."
   ]
  },
  {
   "cell_type": "markdown",
   "metadata": {},
   "source": [
    ""
   ]
  },
  {
   "cell_type": "code",
   "execution_count": null,
   "metadata": {},
   "outputs": [],
   "source": [
    "\n",
    "! name: cancellation.2\n",
    "! type: F-free\n",
    "! version: omp_5.1\n",
    "module parallel_search\n",
    "  type binary_tree\n",
    "    integer :: value\n",
    "    type(binary_tree), pointer :: right\n",
    "    type(binary_tree), pointer :: left\n",
    "  end type\n",
    "\n",
    "contains\n",
    "  recursive subroutine search_tree(tree, value, level, found)\n",
    "    type(binary_tree), intent(in), pointer :: tree\n",
    "    integer, intent(in) :: value, level\n",
    "    type(binary_tree), pointer :: found\n",
    "    type(binary_tree), pointer :: found_left => NULL(), &\n",
    "                                  found_right => NULL()\n",
    "\n",
    "    if (associated(tree)) then\n",
    "      if (tree%value .eq. value) then\n",
    "        found => tree\n",
    "      else\n",
    "!$omp task shared(found) if(level<10)\n",
    "        call search_tree(tree%left, value, level+1, found_left)\n",
    "        if (associated(found_left)) then\n",
    "!$omp critical\n",
    "          found => found_left\n",
    "!$omp end critical\n",
    "\n",
    "!$omp cancel taskgroup\n",
    "        endif\n",
    "!$omp end task\n",
    "\n",
    "!$omp task shared(found) if(level<10)\n",
    "        call search_tree(tree%right, value, level+1, found_right)\n",
    "        if (associated(found_right)) then\n",
    "!$omp critical\n",
    "          found => found_right\n",
    "!$omp end critical\n",
    "\n",
    "!$omp cancel taskgroup\n",
    "        endif\n",
    "!$omp end task\n",
    "\n",
    "!$omp taskwait\n",
    "      endif\n",
    "    endif\n",
    "  end subroutine\n",
    "\n",
    "  subroutine search_tree_parallel(tree, value, found)\n",
    "    type(binary_tree), intent(in), pointer :: tree\n",
    "    integer, intent(in) :: value\n",
    "    type(binary_tree), pointer :: found\n",
    "\n",
    "    found => NULL()\n",
    "!$omp parallel shared(found, tree, value)\n",
    "!$omp masked\n",
    "!$omp taskgroup\n",
    "    call search_tree(tree, value, 0, found)\n",
    "!$omp end taskgroup\n",
    "!$omp end masked\n",
    "!$omp end parallel\n",
    "  end subroutine\n",
    "\n",
    "end module parallel_search\n",
    "\n"
   ]
  },
  {
   "cell_type": "markdown",
   "metadata": {},
   "source": [
    ""
   ]
  },
  {
   "cell_type": "markdown",
   "metadata": {},
   "source": [
    ""
   ]
  },
  {
   "cell_type": "markdown",
   "metadata": {},
   "source": [
    "../../program_control/cancellation.tex"
   ]
  },
  {
   "cell_type": "markdown",
   "metadata": {},
   "source": [
    ""
   ]
  },
  {
   "cell_type": "markdown",
   "metadata": {},
   "source": [
    "## `requires` Directive"
   ]
  },
  {
   "cell_type": "markdown",
   "metadata": {},
   "source": [
    "\index{directives!requires@`requires`} \index{requires directive@`requires` directive}"
   ]
  },
  {
   "cell_type": "markdown",
   "metadata": {},
   "source": [
    "The declarative `requires` directive can be used to  specify features that an implementation must provide to compile and  execute correctly."
   ]
  },
  {
   "cell_type": "markdown",
   "metadata": {},
   "source": [
    "\index{requires directive@`requires` directive!unified_shared_memory clause@\scode{unified_shared_memory} clause} \index{clauses!unified_shared_memory@\scode{unified_shared_memory}} \index{unified_shared_memory clause@\scode{unified_shared_memory} clause} In the following example the `unified_shared_memory` clause  of the `requires` directive ensures that the host and all  devices accessible through OpenMP provide a  _unified address_  space for memory that is shared by all devices."
   ]
  },
  {
   "cell_type": "markdown",
   "metadata": {},
   "source": [
    "The example illustrates the use of the `requires` directive specifying  _unified shared memory_  in file scope, before any device  directives or device routines. No `map` clause is needed for the  _p_  structure on the device (and its address  _&p_ , for the C++ code, is the same address on the host and device). However, scalar variables referenced within the `target` construct still have a default data-sharing attribute of firstprivate. The  _q_  scalar is incremented on the device, and its change is not updated on the host."
   ]
  },
  {
   "cell_type": "markdown",
   "metadata": {},
   "source": [
    ""
   ]
  },
  {
   "cell_type": "markdown",
   "metadata": {},
   "source": [
    ""
   ]
  },
  {
   "cell_type": "code",
   "execution_count": null,
   "metadata": {},
   "outputs": [],
   "source": [
    "//%compiler: clang\n",
 "//%cflags: -fopenmp\n",
 "\n",
    "/*\n",
    "* name:       requires.1\n",
    "* type:       C++\n",
    "* version:    omp_5.0\n",
    "*/\n",
    "\n",
    "#include <iostream>\n",
    "using namespace std;\n",
    "\n",
    "#pragma omp requires unified_shared_memory\n",
    "\n",
    "typedef struct mypoints\n",
    "{\n",
    "   double res;\n",
    "   double data[500];\n",
    "} mypoints_t;\n",
    "\n",
    "void do_something_with_p(mypoints_t *p, int q);\n",
    "\n",
    "int main()\n",
    "{\n",
    "  mypoints_t p;\n",
    "  int q=0;\n",
    "\n",
    "  #pragma omp target // no map clauses needed\n",
    "  {                  // q is firstprivate\n",
    "     q++;\n",
    "     do_something_with_p(&p,q);\n",
    "  }\n",
    "  cout<< p.res << \" \" << q << endl;  // output 1 0\n",
    "  return 0;\n",
    "}\n",
    "void do_something_with_p(mypoints_t *p, int q)\n",
    "{\n",
    "  p->res = q;\n",
    "  for(int i=0;i<sizeof(p->data)/sizeof(double);i++)\n",
    "      p->data[i]=q*i;\n",
    "}\n",
    "\n"
   ]
  },
  {
   "cell_type": "markdown",
   "metadata": {},
   "source": [
    ""
   ]
  },
  {
   "cell_type": "markdown",
   "metadata": {},
   "source": [
    ""
   ]
  },
  {
   "cell_type": "code",
   "execution_count": null,
   "metadata": {},
   "outputs": [],
   "source": [
    "\n",
    "! name:       requires.1\n",
    "! type:       F-free\n",
    "! version:    omp_5.0\n",
    "\n",
    "module data\n",
    "!$omp requires unified_shared_memory\n",
    "  type,public :: mypoints\n",
    "     double precision :: res\n",
    "     double precision :: data(500)\n",
    "  end type\n",
    "end module\n",
    "\n",
    "program main\n",
    "  use data\n",
    "  type(mypoints) :: p\n",
    "  integer        :: q=0\n",
    "\n",
    "  !$omp target    !! no map clauses needed\n",
    "     q = q + 1    !! q is firstprivate\n",
    "     call do_something_with_p(p,q)\n",
    "  !$omp end target\n",
    "\n",
    "  write(*,'(f5.0,i5)') p%res, q    !! output 1.   0\n",
    "\n",
    "end program\n",
    "\n",
    "subroutine do_something_with_p(p,q)\n",
    "  use data\n",
    "  type(mypoints) :: p\n",
    "  integer        :: q\n",
    "\n",
    "  p%res = q;\n",
    "  do i=1,size(p%data)\n",
    "     p%data(i)=q*i\n",
    "  enddo\n",
    "\n",
    "end subroutine\n",
    "\n"
   ]
  },
  {
   "cell_type": "markdown",
   "metadata": {},
   "source": [
    "../../program_control/requires.tex"
   ]
  },
  {
   "cell_type": "markdown",
   "metadata": {},
   "source": [
    ""
   ]
  },
  {
   "cell_type": "markdown",
   "metadata": {},
   "source": [
    "## `declare` `variant` Directive"
   ]
  },
  {
   "cell_type": "markdown",
   "metadata": {},
   "source": [
    "\index{directives!declare variant@`declare` `variant`} \index{declare variant directive@`declare` `variant` directive} \index{declare variant directive@`declare` `variant` directive!match clause@`match` clause} \index{clauses!match@`match`} \index{match clause@`match` clause}"
   ]
  },
  {
   "cell_type": "markdown",
   "metadata": {},
   "source": [
    "\index{directives!declare target@`declare` `target`} \index{declare target directive@`declare` `target` directive}"
   ]
  },
  {
   "cell_type": "markdown",
   "metadata": {},
   "source": [
    "\index{directives!begin declare target@`begin` `declare` `target`} \index{begin declare target directive@`begin` `declare` `target` directive}"
   ]
  },
  {
   "cell_type": "markdown",
   "metadata": {},
   "source": [
    ""
   ]
  },
  {
   "cell_type": "markdown",
   "metadata": {},
   "source": [
    "A `declare` `variant` directive specifies an alternate function,   _function variant_ , to be used in place of the  _base function_   when the trait within the `match` clause matches the OpenMP context at a given call site. The base function follows the directive in the C and C++ languages. In Fortran, either a subroutine or function may be used as the  _base function_ , and the `declare` `variant` directive must be in the specification  part of a subroutine or function (unless a  _base-proc-name_  modifier is used, as in the case of a procedure declaration statement). See the OpenMP 5.0 Specification for details on the modifier."
   ]
  },
  {
   "cell_type": "markdown",
   "metadata": {},
   "source": [
    "When multiple `declare` `variant` directives are used  a function variant becomes a candidate for replacing the base function if the context at the base function call matches the traits of all selectors in the `match` clause. If there are multiple candidates, a score is assigned with rules for each of the selector traits. The scoring algorithm can be found in the OpenMP 5.0 Specification."
   ]
  },
  {
   "cell_type": "markdown",
   "metadata": {},
   "source": [
    "In the first example the  _vxv()_  function is called within a `parallel` region, a `target` region, and in a sequential part of the program.  Two function variants,  _p_vxv()_  and  _t_vxv()_ , are defined for the first two regions by using  _parallel_  and  _target_  selectors (within the  _construct_  trait set) in a `match` clause.  The  _p_vxv()_  function variant includes a `for` construct (`do` construct for Fortran) for the `parallel` region,  while  _t_vxv()_  includes a `distribute` `simd` construct for the `target` region. The  _t_vxv()_  function is explicitly compiled for the device using a declare target directive."
   ]
  },
  {
   "cell_type": "markdown",
   "metadata": {},
   "source": [
    "Since the two `declare` `variant` directives have no selectors that match traits for the context of the base function call in the sequential part of the program, the base  _vxv()_  function is used there,  as expected. (The vectors in the  _p_vxv_  and  _t_vxv_  functions have been multiplied by 3 and 2, respectively, for checking the validity of the replacement. Normally the purpose of a function variant is to produce the same results by a different method.)"
   ]
  },
  {
   "cell_type": "markdown",
   "metadata": {},
   "source": [
    ""
   ]
  },
  {
   "cell_type": "markdown",
   "metadata": {},
   "source": [
    ""
   ]
  },
  {
   "cell_type": "code",
   "execution_count": null,
   "metadata": {},
   "outputs": [],
   "source": [
    "//%compiler: clang\n",
 "//%cflags: -fopenmp\n",
 "\n",
    "/*\n",
    "* name: declare_variant.1\n",
    "* type: C\n",
    "* version: omp_5.1\n",
    "*/\n",
    "\n",
    "#define N 100\n",
    "#include <stdio.h>\n",
    "#include <omp.h>\n",
    "\n",
    "void p_vxv(int *v1,int *v2,int *v3,int n);\n",
    "void t_vxv(int *v1,int *v2,int *v3,int n);\n",
    "\n",
    "#pragma omp declare variant( p_vxv ) match( construct={parallel} )\n",
    "#pragma omp declare variant( t_vxv ) match( construct={target}   )\n",
    "void vxv(int *v1,int *v2,int *v3,int n)     // base function\n",
    "{\n",
    "   for (int i= 0; i< n; i++)  v3[i] = v1[i] * v2[i];\n",
    "}\n",
    "\n",
    "void p_vxv(int *v1,int *v2,int *v3,int n)   // function variant\n",
    "{\n",
    "   #pragma omp for\n",
    "   for (int i= 0; i< n; i++)  v3[i] = v1[i] * v2[i]*3;\n",
    "}\n",
    "\n",
    "#pragma omp begin declare target\n",
    "void t_vxv(int *v1,int *v2,int *v3,int n)   // function variant\n",
    "{\n",
    "   #pragma omp distribute simd\n",
    "   for (int i= 0; i< n; i++)  v3[i] = v1[i] * v2[i]*2;\n",
    "}\n",
    "#pragma omp end declare target\n",
    "\n",
    "int main()\n",
    "{\n",
    "   int v1[N], v2[N], v3[N];\n",
    "   for(int i=0; i<N; i++){ v1[i]=(i+1); v2[i]=-(i+1); v3[i]=0; }   //init\n",
    "\n",
    "   #pragma omp parallel\n",
    "   {\n",
    "      vxv(v1,v2,v3,N);\n",
    "   }\n",
    "   printf(\" %d  %d\\n\",v3[0],v3[N-1]); //from p_vxv --  output: -3  -30000\n",
    "\n",
    "   #pragma omp target teams map(to: v1[:N],v2[:N]) map(from: v3[:N])\n",
    "   {\n",
    "      vxv(v1,v2,v3,N);\n",
    "   }\n",
    "   printf(\" %d  %d\\n\",v3[0],v3[N-1]); //from t_vxv --  output: -2  -20000\n",
    "\n",
    "   vxv(v1,v2,v3,N);\n",
    "   printf(\" %d  %d\\n\",v3[0],v3[N-1]); //from   vxv --  output: -1  -10000\n",
    "\n",
    "   return 0;\n",
    "}\n",
    "\n"
   ]
  },
  {
   "cell_type": "markdown",
   "metadata": {},
   "source": [
    ""
   ]
  },
  {
   "cell_type": "markdown",
   "metadata": {},
   "source": [
    ""
   ]
  },
  {
   "cell_type": "code",
   "execution_count": null,
   "metadata": {},
   "outputs": [],
   "source": [
    "\n",
    "! name: declare_variant.1\n",
    "! type: F-free\n",
    "! version: omp_5.0\n",
    "\n",
    "module subs\n",
    "  use omp_lib\n",
    "contains\n",
    "   subroutine vxv(v1, v2, v3)             !! base function\n",
    "      integer,intent(in)  :: v1(:),v2(:)\n",
    "      integer,intent(out) :: v3(:)\n",
    "      integer             :: i,n\n",
    "      !$omp  declare variant( p_vxv ) match( construct={parallel} )\n",
    "      !$omp  declare variant( t_vxv ) match( construct={target}   )\n",
    "\n",
    "      n=size(v1)\n",
    "      do i = 1,n; v3(i) = v1(i) * v2(i); enddo\n",
    "\n",
    "   end subroutine\n",
    "\n",
    "   subroutine p_vxv(v1, v2, v3)            !! function variant\n",
    "      integer,intent(in)  :: v1(:),v2(:)\n",
    "      integer,intent(out) :: v3(:)\n",
    "      integer             :: i,n\n",
    "      n=size(v1)\n",
    "\n",
    "      !$omp do\n",
    "      do i = 1,n; v3(i) = v1(i) * v2(i) * 3; enddo\n",
    "\n",
    "   end subroutine\n",
    "\n",
    "   subroutine t_vxv(v1, v2, v3)            !! function variant\n",
    "      integer,intent(in)  :: v1(:),v2(:)\n",
    "      integer,intent(out) :: v3(:)\n",
    "      integer             :: i,n\n",
    "      !$omp declare target\n",
    "      n=size(v1)\n",
    "\n",
    "      !$omp distribute simd\n",
    "      do i = 1,n; v3(i) = v1(i) * v2(i) * 2; enddo\n",
    "\n",
    "   end subroutine\n",
    "\n",
    "end module subs\n",
    "\n",
    "\n",
    "program main\n",
    "   use omp_lib\n",
    "   use subs\n",
    "   integer,parameter :: N = 100\n",
    "   integer           :: v1(N), v2(N), v3(N)\n",
    "\n",
    "   do i= 1,N; v1(i)= i; v2(i)= -i; v3(i)= 0;  enddo  !! init\n",
    "\n",
    "   !$omp parallel\n",
    "      call vxv(v1,v2,v3)\n",
    "   !$omp end parallel\n",
    "   print *, v3(1),v3(N)    !! from p_vxv -- output: -3  -30000\n",
    "\n",
    "   !$omp target teams map(to: v1,v2) map(from: v3)\n",
    "      call vxv(v1,v2,v3)\n",
    "   !$omp end target teams\n",
    "   print *, v3(1),v3(N)    !! from t_vxv -- output: -2  -20000\n",
    "\n",
    "   call vxv(v1,v2,v3)\n",
    "   print *, v3(1),v3(N)    !! from   vxv -- output: -1  -10000\n",
    "\n",
    "end program\n",
    "\n"
   ]
  },
  {
   "cell_type": "markdown",
   "metadata": {},
   "source": [
    ""
   ]
  },
  {
   "cell_type": "markdown",
   "metadata": {},
   "source": [
    ""
   ]
  },
  {
   "cell_type": "markdown",
   "metadata": {},
   "source": [
    ""
   ]
  },
  {
   "cell_type": "markdown",
   "metadata": {},
   "source": [
    "In this example, traits from the  _device_  set are used to select a function variant. In the `declare` `variant` directive, an  _isa_  selector specifies that if the implementation of the \" _core-avx512_ ''  instruction set is detected at compile time the  _avx512_saxpy()_  variant function is used for the call to  _base_saxpy()_ ."
   ]
  },
  {
   "cell_type": "markdown",
   "metadata": {},
   "source": [
    "A compilation of  _avx512_saxpy()_  is aware of the AVX-512 instruction set that supports 512-bit vector extensions (for Xeon or Xeon Phi architectures).  Within  _avx512_saxpy()_ , the `parallel` `for` `simd` construct performs parallel execution, and takes advantage of 64-byte data alignment.  When the  _avx512_saxpy()_  function variant is not selected, the base  _base_saxpy()_  function variant containing only a basic `parallel` `for` construct is used for the call to  _base_saxpy()_ ."
   ]
  },
  {
   "cell_type": "markdown",
   "metadata": {},
   "source": [
    ""
   ]
  },
  {
   "cell_type": "markdown",
   "metadata": {},
   "source": [
    ""
   ]
  },
  {
   "cell_type": "code",
   "execution_count": null,
   "metadata": {},
   "outputs": [],
   "source": [
    "//%compiler: clang\n",
 "//%cflags: -fopenmp\n",
 "\n",
    "/*\n",
    "* name: declare_variant.2\n",
    "* type: C\n",
    "* version: omp_5.0\n",
    "*/\n",
    "#include <omp.h>\n",
    "\n",
    "void   base_saxpy(int, float, float *, float *);\n",
    "void avx512_saxpy(int, float, float *, float *);\n",
    "\n",
    "#pragma omp declare variant( avx512_saxpy ) \\\n",
    "                      match( device={isa(\"core-avx512\")} )\n",
    "void base_saxpy(int n, float s, float *x, float *y)   // base function\n",
    "{\n",
    "   #pragma omp parallel for\n",
    "   for(int i=0; i<n; i++) y[i] = s*x[i] + y[i];\n",
    "}\n",
    "\n",
    "void avx512_saxpy(int n, float s, float *x, float *y) //function variant\n",
    "{\n",
    "   //assume 64-byte alignment for AVX-512\n",
    "   #pragma omp parallel for simd simdlen(16) aligned(x,y:64)\n",
    "   for(int i=0; i<n; i++) y[i] = s*x[i] + y[i];\n",
    "}\n",
    "\n",
    "// Above may be in another file scope.\n",
    "\n",
    "#include <stdio.h>\n",
    "#include <stdlib.h>\n",
    "#include <stdint.h>\n",
    "#define N 1000\n",
    "\n",
    "int main()\n",
    "{\n",
    "   static float x[N],y[N] __attribute__ ((aligned(64)));\n",
    "   float s=2.0;\n",
    "                         // Check for 64-byte aligned\n",
    "   if( ((intptr_t)y)%64 != 0 || ((intptr_t)x)%64 != 0 )\n",
    "   { printf(\"ERROR: x|y not 64-Byte aligned\\n\"); exit(1); }\n",
    "\n",
    "   for(int i=0; i<N; i++){ x[i]=i+1; y[i]=i+1; } // initialize\n",
    "\n",
    "   base_saxpy(N,s,x,y);\n",
    "\n",
    "   printf(\"y[0],y[N-1]: %5.0f %5.0f\\n\",y[0],y[N-1]);\n",
    "   //output: y[0],y[N-1]: 3  3000\n",
    "\n",
    "   return 0;\n",
    "}\n",
    "\n"
   ]
  },
  {
   "cell_type": "markdown",
   "metadata": {},
   "source": [
    ""
   ]
  },
  {
   "cell_type": "markdown",
   "metadata": {},
   "source": [
    ""
   ]
  },
  {
   "cell_type": "code",
   "execution_count": null,
   "metadata": {},
   "outputs": [],
   "source": [
    "\n",
    "! name: declare_variant.2\n",
    "! type: F-free\n",
    "! version: omp_5.0\n",
    "\n",
    "module subs\n",
    "  use omp_lib\n",
    "contains\n",
    "\n",
    "   subroutine base_saxpy(s,x,y)              !! base function\n",
    "      real,intent(inout) :: s,x(:),y(:)\n",
    "     !$omp  declare variant( avx512_saxpy ) &\n",
    "     !$omp&           match( device={isa(\"core-avx512\")} )\n",
    "\n",
    "      y = s*x + y\n",
    "\n",
    "   end subroutine\n",
    "\n",
    "   subroutine avx512_saxpy(s,x,y)               !! function variant\n",
    "      real,intent(inout) :: s,x(:),y(:)\n",
    "      integer            :: i,n\n",
    "      n=size(x)\n",
    "                             !!assume 64-byte alignment for AVX-512\n",
    "      !$omp parallel do simd simdlen(16) aligned(x,y: 64)\n",
    "      do i = 1,n\n",
    "         y(i) = s*x(i) + y(i)\n",
    "      end do\n",
    "\n",
    "   end subroutine\n",
    "\n",
    "end module subs\n",
    "\n",
    "\n",
    "program main\n",
    "   use omp_lib\n",
    "   use subs\n",
    "\n",
    "   integer, parameter :: N=1000, align=64\n",
    "   real, allocatable  :: x(:),y(:)\n",
    "   real               :: s = 2.0e0\n",
    "   integer            :: i\n",
    "\n",
    "   allocate(x(N),y(N))   !! Assumes allocation is 64-byte aligned\n",
    "                         !! (using compiler options, or another\n",
    "                         !! allocation method).\n",
    "\n",
    "                         !! loc is non-standard, but found everywhere\n",
    "                         !! remove these lines if not available\n",
    "   if(modulo(loc(x),align) /= 0 .and. modulo(loc(y),align) /=0 ) then\n",
    "      print*,\"ERROR: x|y not 64-byte aligned\"; stop\n",
    "   endif\n",
    "\n",
    "   do i=1,N  !! initialize\n",
    "     x(i)=i\n",
    "     y(i)=i\n",
    "   end do\n",
    "\n",
    "   call base_saxpy(s,x,y)\n",
    "\n",
    "   write(*,'(\"y(1),y(N):\",2f6.0)') y(1),y(N) !!output: y... 3. 3000.\n",
    "\n",
    "   deallocate(x,y)\n",
    "\n",
    "end program\n",
    "\n"
   ]
  },
  {
   "cell_type": "markdown",
   "metadata": {},
   "source": [
    "../../program_control/variant.tex"
   ]
  },
  {
   "cell_type": "markdown",
   "metadata": {},
   "source": [
    ""
   ]
  },
  {
   "cell_type": "markdown",
   "metadata": {},
   "source": [
    "## Metadirectives"
   ]
  },
  {
   "cell_type": "markdown",
   "metadata": {},
   "source": [
    "\index{directives!metadirective@`metadirective`} \index{metadirective directive@`metadirective` directive}"
   ]
  },
  {
   "cell_type": "markdown",
   "metadata": {},
   "source": [
    "\index{metadirective directive@`metadirective` directive!when clause@`when` clause} \index{metadirective directive@`metadirective` directive!otherwise clause@`otherwise` clause} \index{clauses!when@`when`} \index{when clause@`when` clause} \index{clauses!otherwise@`otherwise`} \index{otherwise clause@`otherwise` clause} A `metadirective` directive provides a mechanism to select a directive in a `when` clause to be used, depending upon one or more contexts:   implementation, available devices and the present enclosing construct.  The directive in an `otherwise` clause is used when a directive of the  `when` clause is not selected."
   ]
  },
  {
   "cell_type": "markdown",
   "metadata": {},
   "source": [
    "\index{context selector!construct@ _construct_ } In the `when` clause the  _context selector_  (or just  _selector_ ) defines traits that are evaluated for selection of the directive that follows the selector.  This \"selectable\" directive is called a  _directive variant_ . Traits are grouped by  _construct_ ,  _implementation_  and   _device_   _sets_  to be used by a selector of the same name."
   ]
  },
  {
   "cell_type": "markdown",
   "metadata": {},
   "source": [
    "\index{context selector!device@ _device_ } In the first example the architecture trait  _arch_  of the   _device_  selector set specifies that if an  _nvptx_  architecture is active in the OpenMP context, then the `teams` `loop`   _directive variant_  is selected as the directive; otherwise, the `parallel` `loop`  _directive variant_  of the `otherwise` clause is selected as the directive. That is, if a  _device_  of  _nvptx_  architecture is supported by the implementation within the enclosing `target` construct, its  _directive variant_  is selected. The architecture names, such as  _nvptx_ , are implementation defined. Also, note that  _device_  as used in a `target` construct specifies a device number, while  _device_ , as used in the `metadirective` directive as selector set, has traits of  _kind_ ,  _isa_  and  _arch_ ."
   ]
  },
  {
   "cell_type": "markdown",
   "metadata": {},
   "source": [
    ""
   ]
  },
  {
   "cell_type": "markdown",
   "metadata": {},
   "source": [
    ""
   ]
  },
  {
   "cell_type": "code",
   "execution_count": null,
   "metadata": {},
   "outputs": [],
   "source": [
    "//%compiler: clang\n",
 "//%cflags: -fopenmp\n",
 "\n",
    "/*\n",
    "* name: metadirective.1\n",
    "* type: C\n",
    "* version: omp_5.2\n",
    "*/\n",
    "\n",
    "#define N 100\n",
    "#include <stdio.h>\n",
    "\n",
    "int main()\n",
    "{\n",
    "   int v1[N], v2[N], v3[N];\n",
    "   for(int i=0; i<N; i++){ v1[i]=(i+1); v2[i]=-(i+1); }\n",
    "\n",
    "   #pragma omp target map(to:v1,v2) map(from:v3) device(0)\n",
    "   #pragma omp metadirective \\\n",
    "                   when(     device={arch(\"nvptx\")}: teams loop) \\\n",
    "                   otherwise(                     parallel loop)\n",
    "     for (int i= 0; i< N; i++)  v3[i] = v1[i] * v2[i];\n",
    "\n",
    "   printf(\" %d  %d\\n\",v3[0],v3[N-1]); //output: -1  -10000\n",
    "\n",
    "   return 0;\n",
    "}\n",
    "\n"
   ]
  },
  {
   "cell_type": "markdown",
   "metadata": {},
   "source": [
    ""
   ]
  },
  {
   "cell_type": "markdown",
   "metadata": {},
   "source": [
    ""
   ]
  },
  {
   "cell_type": "code",
   "execution_count": null,
   "metadata": {},
   "outputs": [],
   "source": [
    "\n",
    "! name: metadirective.1\n",
    "! type: F-free\n",
    "! version: omp_5.2\n",
    "program main\n",
    "   integer, parameter :: N= 100\n",
    "   integer ::  v1(N), v2(N), v3(N);\n",
    "\n",
    "   do i=1,N;  v1(i)=i; v2(i)=-i;  enddo   ! initialize\n",
    "\n",
    "   !$omp  target map(to:v1,v2) map(from:v3) device(0)\n",
    "   !$omp  metadirective &\n",
    "   !$omp&     when(     device={arch(\"nvptx\")}: teams loop) &\n",
    "   !$omp&     otherwise(                     parallel loop)\n",
    "     do i= 1,N; v3(i) = v1(i) * v2(i); enddo\n",
    "   !$omp  end target\n",
    "\n",
    "   print *, v3(1),v3(N) !!output: -1  -10000\n",
    "end program\n",
    "\n"
   ]
  },
  {
   "cell_type": "markdown",
   "metadata": {},
   "source": [
    ""
   ]
  },
  {
   "cell_type": "markdown",
   "metadata": {},
   "source": [
    "\index{context selector!implementation@ _implementation_ } In the second example, the  _implementation_  selector set is specified in the `when` clause to distinguish between platforms.  Additionally, specific architectures are specified with the  _device_   selector set."
   ]
  },
  {
   "cell_type": "markdown",
   "metadata": {},
   "source": [
    "In the code, different `teams` constructs are employed as determined by the `metadirective` directive. The number of teams is restricted by a `num_teams` clause and a thread limit is also set by a `thread_limit` clause for   _vendor_  platforms and specific architecture traits.  Otherwise, just the `teams` construct is used without any clauses, as prescribed by the `otherwise` clause."
   ]
  },
  {
   "cell_type": "markdown",
   "metadata": {},
   "source": [
    ""
   ]
  },
  {
   "cell_type": "markdown",
   "metadata": {},
   "source": [
    ""
   ]
  },
  {
   "cell_type": "code",
   "execution_count": null,
   "metadata": {},
   "outputs": [],
   "source": [
    "//%compiler: clang\n",
 "//%cflags: -fopenmp\n",
 "\n",
    "/*\n",
    "* name: metadirective.2\n",
    "* type: C\n",
    "* version: omp_5.2\n",
    "*/\n",
    "#define N 100\n",
    "#include <stdio.h>\n",
    "#include <omp.h>\n",
    "\n",
    "void work_on_chunk(int idev, int i);\n",
    "\n",
    "int main()                    //Driver\n",
    "{\n",
    "   int i,idev;\n",
    "\n",
    "   for (idev=0; idev<omp_get_num_devices(); idev++)\n",
    "   {\n",
    "      #pragma omp target device(idev)\n",
    "      #pragma omp metadirective \\\n",
    "               when( implementation={vendor(nvidia)},            \\\n",
    "                                       device={arch(\"kepler\")}:  \\\n",
    "                     teams num_teams(512) thread_limit(32) )     \\\n",
    "               when( implementation={vendor(amd)},               \\\n",
    "                                       device={arch(\"fiji\"  )}:  \\\n",
    "                     teams num_teams(512) thread_limit(64) )     \\\n",
    "               otherwise(                                        \\\n",
    "                     teams)\n",
    "      #pragma omp distribute parallel for\n",
    "      for (i=0; i<N; i++) work_on_chunk(idev,i);\n",
    "   }\n",
    "   return 0;\n",
    "}\n",
    "\n",
    "\n"
   ]
  },
  {
   "cell_type": "markdown",
   "metadata": {},
   "source": [
    ""
   ]
  },
  {
   "cell_type": "markdown",
   "metadata": {},
   "source": [
    ""
   ]
  },
  {
   "cell_type": "code",
   "execution_count": null,
   "metadata": {},
   "outputs": [],
   "source": [
    "\n",
    "! name: metadirective.2\n",
    "! type: F-free\n",
    "! version: omp_5.2\n",
    "program main                    !!Driver\n",
    "  use omp_lib\n",
    "  implicit none\n",
    "  integer, parameter :: N=1000\n",
    "  external           :: work_on_chunk\n",
    "  integer            :: i,idev\n",
    "\n",
    "  do idev=0,omp_get_num_devices()-1\n",
    "\n",
    "    !$omp target device(idev)\n",
    "    !$omp begin metadirective &\n",
    "    !$omp&  when( implementation={vendor(nvidia)},        &\n",
    "    !$omp&           device={arch(\"kepler\")}:             &\n",
    "    !$omp&        teams num_teams(512) thread_limit(32) ) &\n",
    "    !$omp&  when( implementation={vendor(amd)},           &\n",
    "    !$omp&           device={arch(\"fiji\"  )}:             &\n",
    "    !$omp&        teams num_teams(512) thread_limit(64) ) &\n",
    "    !$omp&  otherwise( teams )\n",
    "    !$omp distribute parallel do\n",
    "    do i=1,N\n",
    "       call work_on_chunk(idev,i)\n",
    "    end do\n",
    "    !$omp end metadirective\n",
    "    !$omp end target\n",
    "\n",
    "  end do\n",
    "\n",
    "end program\n",
    "\n"
   ]
  },
  {
   "cell_type": "markdown",
   "metadata": {},
   "source": [
    ""
   ]
  },
  {
   "cell_type": "markdown",
   "metadata": {},
   "source": [
    "\index{context selector!construct@ _construct_ }"
   ]
  },
  {
   "cell_type": "markdown",
   "metadata": {},
   "source": [
    "\index{directives!declare target@`declare` `target`} \index{declare target directive@`declare` `target` directive}"
   ]
  },
  {
   "cell_type": "markdown",
   "metadata": {},
   "source": [
    "\index{directives!begin declare target@`begin` `declare` `target`} \index{begin declare target directive@`begin` `declare` `target` directive}"
   ]
  },
  {
   "cell_type": "markdown",
   "metadata": {},
   "source": [
    "In the third example, a  _construct_  selector set is specified in the `when` clause.   Here, a `metadirective` directive is used within a function that is also compiled as a function for a target device as directed by a declare target directive. The  _target_  directive name of the `construct` selector ensures that the `distribute` `parallel` `for/do` construct is employed for the target compilation. Otherwise, for the host-compiled version the `parallel` `for/do` `simd` construct is used."
   ]
  },
  {
   "cell_type": "markdown",
   "metadata": {},
   "source": [
    "In the first call to the  _exp_pi_diff()_  routine the context is a `target` `teams` construct and the `distribute` `parallel` `for/do` construct version of the function is invoked, while in the second call the `parallel` `for/do` `simd` construct version is used."
   ]
  },
  {
   "cell_type": "markdown",
   "metadata": {},
   "source": [
    "This case illustrates an important point for users that may want to hoist the  `target` directive out of a function that contains the usual  `target` `teams` `distribute` `parallel` `for/do` construct (for providing alternate constructs through the `metadirective` directive as here). While this combined construct can be decomposed into a `target` and `teams distribute parallel for/do` constructs, the OpenMP 5.0 specification has the restriction: \"If a `teams` construct is nested within a `target` construct, that `target` construct must contain no statements, declarations or directives outside of the `teams` construct''. So, the `teams` construct must immediately follow the `target` construct without any intervening code statements (which includes function calls).   Since the `target` construct alone cannot be hoisted out of a function,  the `target` `teams` construct has been hoisted out of the function, and the  `distribute` `parallel` `for/do` construct is used as the  _variant_  directive of the `metadirective` directive within the function."
   ]
  },
  {
   "cell_type": "markdown",
   "metadata": {},
   "source": [
    ""
   ]
  },
  {
   "cell_type": "code",
   "execution_count": null,
   "metadata": {},
   "outputs": [],
   "source": [
    "//%compiler: clang\n",
 "//%cflags: -fopenmp\n",
 "\n",
    "/*\n",
    "* name: metadirective.3\n",
    "* type: C\n",
    "* version: omp_5.2\n",
    "*/\n",
    "#include <stdio.h>\n",
    "#include  <math.h>\n",
    "#define      N 1000\n",
    "\n",
    "#pragma omp begin declare target\n",
    "void exp_pi_diff(double *d, double my_pi){\n",
    "   #pragma omp metadirective \\\n",
    "               when(   construct={target}: distribute parallel for ) \\\n",
    "               otherwise(                  parallel for simd )\n",
    "   for(int i = 0; i<N; i++) d[i] = exp( (M_PI-my_pi)*i );\n",
    "}\n",
    "#pragma omp end declare target\n",
    "\n",
    "int main()\n",
    "{\n",
    "  //Calculates sequence of exponentials: (M_PI-my_pi) * index\n",
    "  //M_PI is from math.h, and my_pi is user provided.\n",
    "\n",
    "  double d[N];\n",
    "  double my_pi=3.14159265358979e0;\n",
    "\n",
    "      #pragma omp target teams map(tofrom: d[0:N])\n",
    "      exp_pi_diff(d,my_pi);\n",
    "                                           // value should be near 1\n",
    "      printf(\"d[N-1] = %20.14f\\n\",d[N-1]); // ...= 1.00000000000311\n",
    "\n",
    "      exp_pi_diff(d,my_pi);                // value should be near 1\n",
    "      printf(\"d[N-1] = %20.14f\\n\",d[N-1]); // ...= 1.00000000000311\n",
    "}\n",
    "\n"
   ]
  },
  {
   "cell_type": "markdown",
   "metadata": {},
   "source": [
    ""
   ]
  },
  {
   "cell_type": "markdown",
   "metadata": {},
   "source": [
    ""
   ]
  },
  {
   "cell_type": "code",
   "execution_count": null,
   "metadata": {},
   "outputs": [],
   "source": [
    "\n",
    "! name: metadirective.3\n",
    "! type: F-free\n",
    "! version: omp_5.2\n",
    "module params\n",
    "   integer, parameter :: N=1000\n",
    "   DOUBLE PRECISION, PARAMETER::M_PI=4.0d0*DATAN(1.0d0)\n",
    "                                     ! 3.1415926535897932_8\n",
    "end module\n",
    "\n",
    "\n",
    "subroutine exp_pi_diff(d,    my_pi)\n",
    "  use params\n",
    "  implicit none\n",
    "  integer          ::  i\n",
    "  double precision ::  d(N), my_pi\n",
    "  !$omp declare target\n",
    "\n",
    "  !$omp   metadirective &\n",
    "  !$omp&      when( construct={target}: distribute parallel do )  &\n",
    "  !$omp&      otherwise(                parallel do simd )\n",
    "\n",
    "  do i = 1,size(d)\n",
    "     d(i) = exp( (M_PI-my_pi)*i )\n",
    "  end do\n",
    "\n",
    "end subroutine\n",
    "\n",
    "program main\n",
    "  ! Calculates sequence of exponentials: (M_PI-my_pi) * index\n",
    "  ! M_PI is from usual way, and my_pi is user provided.\n",
    "  ! Fortran Standard does not provide PI\n",
    "\n",
    "  use params\n",
    "  implicit none\n",
    "  double precision   :: d(N)\n",
    "  double precision   :: my_pi=3.14159265358979d0\n",
    "\n",
    "      !$omp target teams map(from: d)\n",
    "      call exp_pi_diff(d,my_pi)\n",
    "      !$omp end target teams\n",
    "                                  ! value should be near 1\n",
    "      print*, \"d(N) = \",d(N)      ! 1.00000000000311\n",
    "\n",
    "      call exp_pi_diff(d,my_pi) ! value should be near 1\n",
    "      print*, \"d(N) = \",d(N)      ! 1.00000000000311\n",
    "\n",
    "end program\n",
    "\n"
   ]
  },
  {
   "cell_type": "markdown",
   "metadata": {},
   "source": [
    ""
   ]
  },
  {
   "cell_type": "markdown",
   "metadata": {},
   "source": [
    "\index{context selector!user@ _user_ } \index{context selector!condition selector@`condition` selector} The `user` selector set can be used in a metadirective to select directives at execution time when the  `condition(`  _boolean-expr_  `)` selector expression is not a constant expression. In this case it is a  _dynamic_  trait set, and the selection is made at run time, rather than at compile time."
   ]
  },
  {
   "cell_type": "markdown",
   "metadata": {},
   "source": [
    "In the following example the  _foo_  function employs the `condition` selector to choose a device for execution at run time.  In the  _bar_  routine metadirectives are nested. At the outer level a selection between serial and parallel execution in performed at run time, followed by another run time selection on the schedule kind in the inner level when the active  _construct_  trait is `parallel`."
   ]
  },
  {
   "cell_type": "markdown",
   "metadata": {},
   "source": [
    "(Note, the variable  _b_  in two of the \"selected'' constructs is declared private for the sole purpose  of detecting and reporting that the construct is used. Since the variable is private, its value  is unchanged outside of the construct region, whereas it is changed if the \"unselected'' construct is used.)"
   ]
  },
  {
   "cell_type": "markdown",
   "metadata": {},
   "source": [
    ""
   ]
  },
  {
   "cell_type": "markdown",
   "metadata": {},
   "source": [
    ""
   ]
  },
  {
   "cell_type": "markdown",
   "metadata": {},
   "source": [
    ""
   ]
  },
  {
   "cell_type": "markdown",
   "metadata": {},
   "source": [
    ""
   ]
  },
  {
   "cell_type": "code",
   "execution_count": null,
   "metadata": {},
   "outputs": [],
   "source": [
    "//%compiler: clang\n",
 "//%cflags: -fopenmp\n",
 "\n",
    "/*\n",
    "* name:       metadirective.4\n",
    "* type:       C\n",
    "* version:    omp_5.2\n",
    "*/\n",
    "#define N 100\n",
    "#include <stdbool.h>\n",
    "#include   <stdio.h>\n",
    "#include     <omp.h>\n",
    "\n",
    "void foo(int *a, int n, bool use_gpu)\n",
    "{\n",
    "   int b=0;   //  use b to detect if run on gpu\n",
    "\n",
    "   #pragma omp metadirective \\\n",
    "               when( user={condition(use_gpu)}:           \\\n",
    "                     target teams distribute parallel for \\\n",
    "                     private(b) map(from:a[0:n]) )        \\\n",
    "               otherwise(                                 \\\n",
    "                     parallel for )\n",
    "   for (int i=0; i<n; i++) {a[i]=i; if(i==n-1) b=1;}\n",
    "\n",
    "   if(b==0) printf(\"PASSED 1 of 3\\n\");\n",
    "}\n",
    "\n",
    "void bar (int *a, int n, bool run_parallel, bool unbalanced)\n",
    "{\n",
    "   int b=0;\n",
    "   #pragma omp metadirective \\\n",
    "               when(user={condition(run_parallel)}: parallel)\n",
    "   {\n",
    "      if(omp_in_parallel() == 1 && omp_get_thread_num() == 0)\n",
    "      {printf(\"PASSED 2 of 3\\n\");}\n",
    "\n",
    "      #pragma omp metadirective \\\n",
    "          when( construct={parallel}, \\\n",
    "                user={condition(unbalanced)}: for schedule(guided) \\\n",
    "                                                  private(b)) \\\n",
    "          when( construct={parallel}        : for schedule(static))\n",
    "      for (int i=0; i<n; i++) {a[i]=i; if(i==n-1) b=1;}\n",
    "   }\n",
    "   // if guided b=0, because b is private\n",
    "   if(b==0) printf(\"PASSED 3 of 3\\n\");\n",
    "}\n",
    "\n",
    "void foo(int *a, int n, bool use_gpu);\n",
    "void bar(int *a, int n, bool run_parallel, bool unbalanced);\n",
    "\n",
    "int main(){\n",
    "\n",
    "   int p[N];\n",
    "   // App normally sets these, dependent on input parameters\n",
    "   bool use_gpu=true, run_parallel=true, unbalanced=true;\n",
    "\n",
    "   // Testing: set Env Var MK_FAIL to anything to fail tests\n",
    "   if(getenv(\"MK_FAIL\")!=NULL) {\n",
    "      use_gpu=false; run_parallel=false; unbalanced=false;\n",
    "   }\n",
    "\n",
    "   foo(p, N, use_gpu);\n",
    "   bar(p, N, run_parallel,unbalanced);\n",
    "\n",
    "}\n",
    "\n"
   ]
  },
  {
   "cell_type": "markdown",
   "metadata": {},
   "source": [
    ""
   ]
  },
  {
   "cell_type": "markdown",
   "metadata": {},
   "source": [
    ""
   ]
  },
  {
   "cell_type": "code",
   "execution_count": null,
   "metadata": {},
   "outputs": [],
   "source": [
    "\n",
    "! name: metadirective.4\n",
    "! type: F-free\n",
    "! version: omp_5.2\n",
    "subroutine foo(a, n, use_gpu)\n",
    "   integer :: n, a(n)\n",
    "   logical :: use_gpu\n",
    "\n",
    "   integer :: b=0   !! use b to detect if run on gpu\n",
    "\n",
    "   !$omp metadirective &\n",
    "   !$omp&            when(user={condition(use_gpu)}:           &\n",
    "   !$omp&                 target teams distribute parallel for &\n",
    "   !$omp&                 private(b) map(from:a(1:n)) )        &\n",
    "   !$omp&            otherwise(                                &\n",
    "   !$omp&                 parallel do)\n",
    "   do i = 1,n; a(i)=i; if(i==n) b=1; end do\n",
    "\n",
    "   if(b==0) print *, \"PASSED 1 of 3\"  ! bc b is firstprivate for gpu run\n",
    "end subroutine\n",
    "\n",
    "subroutine bar (a, n, run_parallel, unbalanced)\n",
    "   use omp_lib, only : omp_get_thread_num\n",
    "   integer :: n, a(n)\n",
    "   logical :: run_parallel, unbalanced\n",
    "\n",
    "   integer :: b=0\n",
    "   !$omp begin metadirective when(user={condition(run_parallel)}: parallel)\n",
    "\n",
    "    if(omp_in_parallel() == 1 .and. omp_get_thread_num() == 0) &\n",
    "       print *,\"PASSED 2 of 3\"\n",
    "\n",
    "    !$omp metadirective &\n",
    "    !$omp&  when(construct={parallel}, user={condition(unbalanced)}: &\n",
    "    !$omp&         for schedule(guided) private(b)) &\n",
    "    !$omp&  when(construct={parallel}: for schedule(static))\n",
    "    do i = 1,n; a(i)=i; if(i==n) b=1; end do\n",
    "\n",
    "   !$omp end metadirective\n",
    "\n",
    "   if(b==0) print *, \"PASSED 3 of 3\"   !!if guided, b=0 since b is private\n",
    "end subroutine\n",
    "\n",
    "program meta\n",
    "   use omp_lib\n",
    "   integer, parameter :: N=100\n",
    "   integer :: p(N)\n",
    "   integer :: env_stat\n",
    "                !! App normally sets these, dependent on input parameters\n",
    "   logical ::  use_gpu=.true., run_parallel=.true., unbalanced=.true.\n",
    "\n",
    "                !! Testing: set Env Var MK_FAIL to anything to fail tests\n",
    "   call get_environment_variable('MK_FAIL',status=env_stat)\n",
    "   if(env_stat /= 1) then                ! status =1 when not set!\n",
    "      use_gpu=.false.; run_parallel=.false.; unbalanced=.false.\n",
    "   endif\n",
    "\n",
    "\n",
    "   call foo(p, N, use_gpu)\n",
    "   call bar(p, N, run_parallel,unbalanced)\n",
    "\n",
    "end program\n",
    "\n"
   ]
  },
  {
   "cell_type": "markdown",
   "metadata": {},
   "source": [
    ""
   ]
  },
  {
   "cell_type": "markdown",
   "metadata": {},
   "source": [
    "Metadirectives can be used in conjunction with templates as shown in the C++ code below. Here the template definition generates two versions of the Fibonacci function. The \splc{tasking} boolean is used in the \scode{condition} selector to enable tasking. The true form implements a parallel version with \scode{task} and \scode{taskwait} constructs as in the \splc{tasking.4.c} code in Section \ref{sec:task_taskwait}.  The false form implements a serial version without any tasking constructs. Note that the serial version is used in the parallel function for optimally processing numbers less than 8."
   ]
  },
  {
   "cell_type": "markdown",
   "metadata": {},
   "source": [
    ""
   ]
  },
  {
   "cell_type": "code",
   "execution_count": null,
   "metadata": {},
   "outputs": [],
   "source": [
    "//%compiler: clang\n",
 "//%cflags: -fopenmp\n",
 "\n",
    "/*\n",
    "* name:       metadirective.5\n",
    "* type:       C++\n",
    "* version:    omp_5.0\n",
    "*/\n",
    "#include <stdio.h>\n",
    "\n",
    "// revised Fibonacci from tasking.4.c example\n",
    "\n",
    "template <bool tasking>\n",
    "int fib(int n) {\n",
    "  int i, j;\n",
    "  if (n<2) {\n",
    "    return n;\n",
    "  } else if ( tasking && n<8 ) { // serial/taskless cutoff for n<8\n",
    "    return fib<false>(n);\n",
    "  } else {\n",
    "    #pragma omp metadirective \\\n",
    "                when(user={condition(tasking)}: task shared(i))\n",
    "    {\n",
    "      i=fib<tasking>(n-1);\n",
    "    }\n",
    "    #pragma omp metadirective \\\n",
    "                when(user={condition(tasking)}: task shared(j))\n",
    "    {\n",
    "      j=fib<tasking>(n-2);\n",
    "    }\n",
    "    #pragma omp metadirective \\\n",
    "                when(user={condition(tasking)}: taskwait)\n",
    "    return i+j;\n",
    "  }\n",
    "}\n",
    "\n",
    "int main(int argc, char** argv) {\n",
    "  int n = 15;\n",
    "  #pragma omp parallel\n",
    "  #pragma omp single\n",
    "  {\n",
    "    printf(\"fib(%i) = %i\\n\", n, fib<true>(n));\n",
    "  }\n",
    "  return 0;\n",
    "}\n",
    "// OUTPUT:\n",
    "// fib(15) = 610\n",
    "\n"
   ]
  },
  {
   "cell_type": "markdown",
   "metadata": {},
   "source": [
    ""
   ]
  },
  {
   "cell_type": "markdown",
   "metadata": {},
   "source": [
    "../../program_control/metadirective.tex"
   ]
  },
  {
   "cell_type": "markdown",
   "metadata": {},
   "source": [
    ""
   ]
  },
  {
   "cell_type": "markdown",
   "metadata": {},
   "source": [
    "## Nested Loop Constructs"
   ]
  },
  {
   "cell_type": "markdown",
   "metadata": {},
   "source": [
    "\index{nested loop constructs}"
   ]
  },
  {
   "cell_type": "markdown",
   "metadata": {},
   "source": [
    "The following example of loop construct nesting is conforming because the inner  and outer loop regions bind to different `parallel` regions:"
   ]
  },
  {
   "cell_type": "markdown",
   "metadata": {},
   "source": [
    ""
   ]
  },
  {
   "cell_type": "code",
   "execution_count": null,
   "metadata": {},
   "outputs": [],
   "source": [
    "//%compiler: clang\n",
 "//%cflags: -fopenmp\n",
 "\n",
    "/*\n",
    "* name: nested_loop.1\n",
    "* type: C\n",
    "*/\n",
    "void work(int i, int j) {}\n",
    "\n",
    "void good_nesting(int n)\n",
    "{\n",
    "  int i, j;\n",
    "  #pragma omp parallel default(shared)\n",
    "  {\n",
    "    #pragma omp for\n",
    "    for (i=0; i<n; i++) {\n",
    "      #pragma omp parallel shared(i, n)\n",
    "      {\n",
    "        #pragma omp for\n",
    "        for (j=0; j < n; j++)\n",
    "          work(i, j);\n",
    "      }\n",
    "    }\n",
    "  }\n",
    "}\n",
    "\n"
   ]
  },
  {
   "cell_type": "markdown",
   "metadata": {},
   "source": [
    ""
   ]
  },
  {
   "cell_type": "markdown",
   "metadata": {},
   "source": [
    ""
   ]
  },
  {
   "cell_type": "code",
   "execution_count": null,
   "metadata": {},
   "outputs": [],
   "source": [
    "\n",
    "! name: nested_loop.1\n",
    "! type: F-fixed\n",
    "      SUBROUTINE WORK(I, J)\n",
    "      INTEGER I, J\n",
    "      END SUBROUTINE WORK\n",
    "\n",
    "      SUBROUTINE GOOD_NESTING(N)\n",
    "      INTEGER N\n",
    "\n",
    "        INTEGER I\n",
    "!$OMP   PARALLEL DEFAULT(SHARED)\n",
    "!$OMP     DO\n",
    "          DO I = 1, N\n",
    "!$OMP       PARALLEL SHARED(I,N)\n",
    "!$OMP         DO\n",
    "              DO J = 1, N\n",
    "                CALL WORK(I,J)\n",
    "              END DO\n",
    "!$OMP       END PARALLEL\n",
    "          END DO\n",
    "!$OMP   END PARALLEL\n",
    "      END SUBROUTINE GOOD_NESTING\n",
    "\n"
   ]
  },
  {
   "cell_type": "markdown",
   "metadata": {},
   "source": [
    ""
   ]
  },
  {
   "cell_type": "markdown",
   "metadata": {},
   "source": [
    "The following variation of the preceding example is also conforming:"
   ]
  },
  {
   "cell_type": "markdown",
   "metadata": {},
   "source": [
    ""
   ]
  },
  {
   "cell_type": "code",
   "execution_count": null,
   "metadata": {},
   "outputs": [],
   "source": [
    "//%compiler: clang\n",
 "//%cflags: -fopenmp\n",
 "\n",
    "/*\n",
    "* name: nested_loop.2\n",
    "* type: C\n",
    "*/\n",
    "void work(int i, int j) {}\n",
    "\n",
    "\n",
    "void work1(int i, int n)\n",
    "{\n",
    "  int j;\n",
    "  #pragma omp parallel default(shared)\n",
    "  {\n",
    "    #pragma omp for\n",
    "    for (j=0; j<n; j++)\n",
    "      work(i, j);\n",
    "  }\n",
    "}\n",
    "\n",
    "\n",
    "void good_nesting2(int n)\n",
    "{\n",
    "  int i;\n",
    "  #pragma omp parallel default(shared)\n",
    "  {\n",
    "    #pragma omp for\n",
    "    for (i=0; i<n; i++)\n",
    "      work1(i, n);\n",
    "  }\n",
    "}\n",
    "\n"
   ]
  },
  {
   "cell_type": "markdown",
   "metadata": {},
   "source": [
    ""
   ]
  },
  {
   "cell_type": "markdown",
   "metadata": {},
   "source": [
    ""
   ]
  },
  {
   "cell_type": "code",
   "execution_count": null,
   "metadata": {},
   "outputs": [],
   "source": [
    "\n",
    "! name: nested_loop.2\n",
    "! type: F-fixed\n",
    "      SUBROUTINE WORK(I, J)\n",
    "      INTEGER I, J\n",
    "      END SUBROUTINE WORK\n",
    "\n",
    "      SUBROUTINE WORK1(I, N)\n",
    "      INTEGER J\n",
    "!$OMP PARALLEL DEFAULT(SHARED)\n",
    "!$OMP DO\n",
    "        DO J = 1, N\n",
    "          CALL WORK(I,J)\n",
    "        END DO\n",
    "!$OMP END PARALLEL\n",
    "      END SUBROUTINE WORK1\n",
    "\n",
    "      SUBROUTINE GOOD_NESTING2(N)\n",
    "      INTEGER N\n",
    "!$OMP PARALLEL DEFAULT(SHARED)\n",
    "!$OMP DO\n",
    "      DO I = 1, N\n",
    "         CALL WORK1(I, N)\n",
    "      END DO\n",
    "!$OMP END PARALLEL\n",
    "      END SUBROUTINE GOOD_NESTING2\n",
    "\n"
   ]
  },
  {
   "cell_type": "markdown",
   "metadata": {},
   "source": [
    ""
   ]
  },
  {
   "cell_type": "markdown",
   "metadata": {},
   "source": [
    ""
   ]
  },
  {
   "cell_type": "markdown",
   "metadata": {},
   "source": [
    "../../program_control/nested_loop.tex"
   ]
  },
  {
   "cell_type": "markdown",
   "metadata": {},
   "source": [
    ""
   ]
  },
  {
   "cell_type": "markdown",
   "metadata": {},
   "source": [
    "## Restrictions on Nesting of Regions"
   ]
  },
  {
   "cell_type": "markdown",
   "metadata": {},
   "source": [
    ""
   ]
  },
  {
   "cell_type": "markdown",
   "metadata": {},
   "source": [
    "\index{region nesting rules} The examples in this section illustrate the region nesting rules."
   ]
  },
  {
   "cell_type": "markdown",
   "metadata": {},
   "source": [
    "The following example is non-conforming because the inner and outer loop regions  are closely nested:"
   ]
  },
  {
   "cell_type": "markdown",
   "metadata": {},
   "source": [
    ""
   ]
  },
  {
   "cell_type": "code",
   "execution_count": null,
   "metadata": {},
   "outputs": [],
   "source": [
    "//%compiler: clang\n",
 "//%cflags: -fopenmp\n",
 "\n",
    "/*\n",
    "* name: nesting_restrict.1\n",
    "* type: C\n",
    "*/\n",
    "\n",
    "void work(int i, int j) {}\n",
    "\n",
    "void wrong1(int n)\n",
    "{\n",
    "\n",
    "  #pragma omp parallel default(shared)\n",
    "  {\n",
    "    int i, j;\n",
    "    #pragma omp for\n",
    "    for (i=0; i<n; i++) {\n",
    "       /* incorrect nesting of loop regions */\n",
    "       #pragma omp for\n",
    "         for (j=0; j<n; j++)\n",
    "           work(i, j);\n",
    "    }\n",
    "  }\n",
    "\n",
    "}\n",
    "\n"
   ]
  },
  {
   "cell_type": "markdown",
   "metadata": {},
   "source": [
    ""
   ]
  },
  {
   "cell_type": "markdown",
   "metadata": {},
   "source": [
    ""
   ]
  },
  {
   "cell_type": "code",
   "execution_count": null,
   "metadata": {},
   "outputs": [],
   "source": [
    "\n",
    "! name: nesting_restrict.1\n",
    "! type: F-fixed\n",
    "\n",
    "      SUBROUTINE WORK(I, J)\n",
    "      INTEGER I, J\n",
    "\n",
    "      END SUBROUTINE WORK\n",
    "\n",
    "      SUBROUTINE WRONG1(N)\n",
    "\n",
    "      INTEGER N\n",
    "      INTEGER I,J\n",
    "!$OMP   PARALLEL DEFAULT(SHARED)\n",
    "!$OMP     DO\n",
    "          DO I = 1, N\n",
    "!$OMP       DO             ! incorrect nesting of loop regions\n",
    "            DO J = 1, N\n",
    "              CALL WORK(I,J)\n",
    "            END DO\n",
    "          END DO\n",
    "!$OMP   END PARALLEL\n",
    "\n",
    "      END SUBROUTINE WRONG1\n",
    "\n"
   ]
  },
  {
   "cell_type": "markdown",
   "metadata": {},
   "source": [
    ""
   ]
  },
  {
   "cell_type": "markdown",
   "metadata": {},
   "source": [
    "The following orphaned version of the preceding example is also non-conforming:"
   ]
  },
  {
   "cell_type": "markdown",
   "metadata": {},
   "source": [
    ""
   ]
  },
  {
   "cell_type": "code",
   "execution_count": null,
   "metadata": {},
   "outputs": [],
   "source": [
    "//%compiler: clang\n",
 "//%cflags: -fopenmp\n",
 "\n",
    "/*\n",
    "* name: nesting_restrict.2\n",
    "* type: C\n",
    "*/\n",
    "void work(int i, int j) {}\n",
    "void work1(int i, int n)\n",
    "{\n",
    "  int j;\n",
    "/* incorrect nesting of loop regions */\n",
    "  #pragma omp for\n",
    "    for (j=0; j<n; j++)\n",
    "      work(i, j);\n",
    "}\n",
    "\n",
    "void wrong2(int n)\n",
    "{\n",
    "  #pragma omp parallel default(shared)\n",
    "  {\n",
    "    int i;\n",
    "    #pragma omp for\n",
    "      for (i=0; i<n; i++)\n",
    "         work1(i, n);\n",
    "  }\n",
    "}\n",
    "\n"
   ]
  },
  {
   "cell_type": "markdown",
   "metadata": {},
   "source": [
    ""
   ]
  },
  {
   "cell_type": "markdown",
   "metadata": {},
   "source": [
    ""
   ]
  },
  {
   "cell_type": "code",
   "execution_count": null,
   "metadata": {},
   "outputs": [],
   "source": [
    "\n",
    "! name: nesting_restrict.2\n",
    "! type: F-fixed\n",
    "       SUBROUTINE WORK1(I,N)\n",
    "       INTEGER I, N\n",
    "       INTEGER J\n",
    "!$OMP   DO      ! incorrect nesting of loop regions\n",
    "        DO J = 1, N\n",
    "          CALL WORK(I,J)\n",
    "        END DO\n",
    "       END SUBROUTINE WORK1\n",
    "       SUBROUTINE WRONG2(N)\n",
    "       INTEGER N\n",
    "       INTEGER I\n",
    "!$OMP   PARALLEL DEFAULT(SHARED)\n",
    "!$OMP     DO\n",
    "          DO I = 1, N\n",
    "            CALL WORK1(I,N)\n",
    "          END DO\n",
    "!$OMP   END PARALLEL\n",
    "       END SUBROUTINE WRONG2\n",
    "\n"
   ]
  },
  {
   "cell_type": "markdown",
   "metadata": {},
   "source": [
    ""
   ]
  },
  {
   "cell_type": "markdown",
   "metadata": {},
   "source": [
    "The following example is non-conforming because the loop and `single` regions  are closely nested:"
   ]
  },
  {
   "cell_type": "markdown",
   "metadata": {},
   "source": [
    ""
   ]
  },
  {
   "cell_type": "code",
   "execution_count": null,
   "metadata": {},
   "outputs": [],
   "source": [
    "//%compiler: clang\n",
 "//%cflags: -fopenmp\n",
 "\n",
    "/*\n",
    "* name: nesting_restrict.3\n",
    "* type: C\n",
    "*/\n",
    "void work(int i, int j) {}\n",
    "void wrong3(int n)\n",
    "{\n",
    "  #pragma omp parallel default(shared)\n",
    "  {\n",
    "    int i;\n",
    "    #pragma omp for\n",
    "      for (i=0; i<n; i++) {\n",
    "/* incorrect nesting of regions */\n",
    "        #pragma omp single\n",
    "          work(i, 0);\n",
    "      }\n",
    "  }\n",
    "}\n",
    "\n"
   ]
  },
  {
   "cell_type": "markdown",
   "metadata": {},
   "source": [
    ""
   ]
  },
  {
   "cell_type": "markdown",
   "metadata": {},
   "source": [
    ""
   ]
  },
  {
   "cell_type": "code",
   "execution_count": null,
   "metadata": {},
   "outputs": [],
   "source": [
    "\n",
    "! name: nesting_restrict.3\n",
    "! type: F-fixed\n",
    "      SUBROUTINE WRONG3(N)\n",
    "      INTEGER N\n",
    "\n",
    "        INTEGER I\n",
    "!$OMP   PARALLEL DEFAULT(SHARED)\n",
    "!$OMP     DO\n",
    "          DO I = 1, N\n",
    "!$OMP       SINGLE            ! incorrect nesting of regions\n",
    "              CALL WORK(I, 1)\n",
    "!$OMP       END SINGLE\n",
    "          END DO\n",
    "!$OMP   END PARALLEL\n",
    "      END SUBROUTINE WRONG3\n",
    "\n"
   ]
  },
  {
   "cell_type": "markdown",
   "metadata": {},
   "source": [
    ""
   ]
  },
  {
   "cell_type": "markdown",
   "metadata": {},
   "source": [
    "The following example is non-conforming because a `barrier` region cannot  be closely nested inside a loop region:"
   ]
  },
  {
   "cell_type": "markdown",
   "metadata": {},
   "source": [
    ""
   ]
  },
  {
   "cell_type": "code",
   "execution_count": null,
   "metadata": {},
   "outputs": [],
   "source": [
    "//%compiler: clang\n",
 "//%cflags: -fopenmp\n",
 "\n",
    "/*\n",
    "* name: nesting_restrict.4\n",
    "* type: C\n",
    "*/\n",
    "void work(int i, int j) {}\n",
    "void wrong4(int n)\n",
    "{\n",
    "\n",
    "  #pragma omp parallel default(shared)\n",
    "  {\n",
    "    int i;\n",
    "    #pragma omp for\n",
    "      for (i=0; i<n; i++) {\n",
    "        work(i, 0);\n",
    "/* incorrect nesting of barrier region in a loop region */\n",
    "        #pragma omp barrier\n",
    "        work(i, 1);\n",
    "      }\n",
    "  }\n",
    "}\n",
    "\n"
   ]
  },
  {
   "cell_type": "markdown",
   "metadata": {},
   "source": [
    ""
   ]
  },
  {
   "cell_type": "markdown",
   "metadata": {},
   "source": [
    ""
   ]
  },
  {
   "cell_type": "code",
   "execution_count": null,
   "metadata": {},
   "outputs": [],
   "source": [
    "\n",
    "! name: nesting_restrict.4\n",
    "! type: F-fixed\n",
    "      SUBROUTINE WRONG4(N)\n",
    "      INTEGER N\n",
    "\n",
    "        INTEGER I\n",
    "!$OMP   PARALLEL DEFAULT(SHARED)\n",
    "!$OMP     DO\n",
    "          DO I = 1, N\n",
    "            CALL WORK(I, 1)\n",
    "! incorrect nesting of barrier region in a loop region\n",
    "!$OMP       BARRIER\n",
    "            CALL WORK(I, 2)\n",
    "          END DO\n",
    "!$OMP   END PARALLEL\n",
    "      END SUBROUTINE WRONG4\n",
    "\n"
   ]
  },
  {
   "cell_type": "markdown",
   "metadata": {},
   "source": [
    ""
   ]
  },
  {
   "cell_type": "markdown",
   "metadata": {},
   "source": [
    "The following example is non-conforming because the `barrier` region cannot  be closely nested inside the `critical` region. If this were permitted,  it would result in deadlock due to the fact that only one thread at a time can  enter the `critical` region:"
   ]
  },
  {
   "cell_type": "markdown",
   "metadata": {},
   "source": [
    ""
   ]
  },
  {
   "cell_type": "code",
   "execution_count": null,
   "metadata": {},
   "outputs": [],
   "source": [
    "//%compiler: clang\n",
 "//%cflags: -fopenmp\n",
 "\n",
    "/*\n",
    "* name: nesting_restrict.5\n",
    "* type: C\n",
    "*/\n",
    "void work(int i, int j) {}\n",
    "void wrong5(int n)\n",
    "{\n",
    "  #pragma omp parallel\n",
    "  {\n",
    "    #pragma omp critical\n",
    "    {\n",
    "       work(n, 0);\n",
    "/* incorrect nesting of barrier region in a critical region */\n",
    "       #pragma omp barrier\n",
    "       work(n, 1);\n",
    "    }\n",
    "  }\n",
    "}\n",
    "\n"
   ]
  },
  {
   "cell_type": "markdown",
   "metadata": {},
   "source": [
    ""
   ]
  },
  {
   "cell_type": "markdown",
   "metadata": {},
   "source": [
    ""
   ]
  },
  {
   "cell_type": "code",
   "execution_count": null,
   "metadata": {},
   "outputs": [],
   "source": [
    "\n",
    "! name: nesting_restrict.5\n",
    "! type: F-fixed\n",
    "      SUBROUTINE WRONG5(N)\n",
    "      INTEGER N\n",
    "\n",
    "!$OMP   PARALLEL DEFAULT(SHARED)\n",
    "!$OMP     CRITICAL\n",
    "            CALL WORK(N,1)\n",
    "! incorrect nesting of barrier region in a critical region\n",
    "!$OMP       BARRIER\n",
    "            CALL WORK(N,2)\n",
    "!$OMP     END CRITICAL\n",
    "!$OMP   END PARALLEL\n",
    "      END SUBROUTINE WRONG5\n",
    "\n"
   ]
  },
  {
   "cell_type": "markdown",
   "metadata": {},
   "source": [
    ""
   ]
  },
  {
   "cell_type": "markdown",
   "metadata": {},
   "source": [
    "The following example is non-conforming because the `barrier` region cannot  be closely nested inside the `single` region. If this were permitted, it  would result in deadlock due to the fact that only one thread executes the `single`  region:"
   ]
  },
  {
   "cell_type": "markdown",
   "metadata": {},
   "source": [
    ""
   ]
  },
  {
   "cell_type": "code",
   "execution_count": null,
   "metadata": {},
   "outputs": [],
   "source": [
    "//%compiler: clang\n",
 "//%cflags: -fopenmp\n",
 "\n",
    "/*\n",
    "* name: nesting_restrict.6\n",
    "* type: C\n",
    "*/\n",
    "void work(int i, int j) {}\n",
    "void wrong6(int n)\n",
    "{\n",
    "  #pragma omp parallel\n",
    "  {\n",
    "    #pragma omp single\n",
    "    {\n",
    "      work(n, 0);\n",
    "/* incorrect nesting of barrier region in a single region */\n",
    "      #pragma omp barrier\n",
    "      work(n, 1);\n",
    "    }\n",
    "  }\n",
    "}\n",
    "\n"
   ]
  },
  {
   "cell_type": "markdown",
   "metadata": {},
   "source": [
    ""
   ]
  },
  {
   "cell_type": "markdown",
   "metadata": {},
   "source": [
    ""
   ]
  },
  {
   "cell_type": "code",
   "execution_count": null,
   "metadata": {},
   "outputs": [],
   "source": [
    "\n",
    "! name: nesting_restrict.6\n",
    "! type: F-fixed\n",
    "      SUBROUTINE WRONG6(N)\n",
    "      INTEGER N\n",
    "\n",
    "!$OMP   PARALLEL DEFAULT(SHARED)\n",
    "!$OMP     SINGLE\n",
    "            CALL WORK(N,1)\n",
    "! incorrect nesting of barrier region in a single region\n",
    "!$OMP       BARRIER\n",
    "            CALL WORK(N,2)\n",
    "!$OMP     END SINGLE\n",
    "!$OMP   END PARALLEL\n",
    "      END SUBROUTINE WRONG6\n",
    "\n"
   ]
  },
  {
   "cell_type": "markdown",
   "metadata": {},
   "source": [
    ""
   ]
  },
  {
   "cell_type": "markdown",
   "metadata": {},
   "source": [
    ""
   ]
  },
  {
   "cell_type": "markdown",
   "metadata": {},
   "source": [
    "../../program_control/nesting_restrict.tex"
   ]
  },
  {
   "cell_type": "markdown",
   "metadata": {},
   "source": [
    ""
   ]
  },
  {
   "cell_type": "markdown",
   "metadata": {},
   "source": [
    "## Target Offload"
   ]
  },
  {
   "cell_type": "markdown",
   "metadata": {},
   "source": [
    "\index{environment variables!OMP_TARGET_OFFLOAD@\scode{OMP_TARGET_OFFLOAD}} \index{OMP_TARGET_OFFLOAD@\scode{OMP_TARGET_OFFLOAD}}"
   ]
  },
  {
   "cell_type": "markdown",
   "metadata": {},
   "source": [
    "In the OpenMP 5.0 implementation the `OMP_TARGET_OFFLOAD` environment variable was defined to change  _default_  offload behavior.  By  _default_  the target code (region) is executed on the host if the target device  does not exist or the implementation does not support the target device."
   ]
  },
  {
   "cell_type": "markdown",
   "metadata": {},
   "source": [
    "In an OpenMP 5.0 compliant implementation, setting the  `OMP_TARGET_OFFLOAD` variable to `MANDATORY` will  force the program to terminate execution when a `target`  construct is encountered and the target device is not supported or is not available. With a value `DEFAULT` the target region will execute on a device if the  device exists and is supported by the implementation, otherwise it will execute on the host. Support for the `DISABLED` value is optional; when it is supported the behavior is as if only the  host device exists (other devices are considered non-existent to the runtime),  and target regions are executed on the host."
   ]
  },
  {
   "cell_type": "markdown",
   "metadata": {},
   "source": [
    "The following example reports execution behavior for different  values of the `OMP_TARGET_OFFLOAD` variable. A handy routine  for extracting the `OMP_TARGET_OFFLOAD` environment variable value is deployed here, because the OpenMP API does not have a routine  for obtaining the value."
   ]
  },
  {
   "cell_type": "markdown",
   "metadata": {},
   "source": [
    "Note:  The example issues a warning when a pre-5.0 implementation is used, indicating that the `OMP_TARGET_OFFLOAD` is ignored. The value of the `OMP_TARGET_OFFLOAD` variable is reported  when the `OMP_DISPLAY_ENV`  environment variable is set to `TRUE` or `VERBOSE`."
   ]
  },
  {
   "cell_type": "markdown",
   "metadata": {},
   "source": [
    ""
   ]
  },
  {
   "cell_type": "code",
   "execution_count": null,
   "metadata": {},
   "outputs": [],
   "source": [
    "//%compiler: clang\n",
 "//%cflags: -fopenmp\n",
 "\n",
    "/*\n",
    "* name: target_offload_control.1\n",
    "* type: C\n",
    "* version: omp_5.0\n",
    "*/\n",
    "#include    <omp.h>\n",
    "#include  <stdio.h>\n",
    "#include  <ctype.h>\n",
    "#include <stdlib.h>\n",
    "#include <string.h>\n",
    "\n",
    "typedef enum offload_policy\n",
    "{MANDATORY, DISABLED, DEFAULT, UNKNOWN, NOTSET} offload_policy_t;\n",
    "\n",
    "\n",
    "offload_policy_t get_offload_policy()\n",
    "{\n",
    "   char *env, *end;\n",
    "   size_t n;\n",
    "\n",
    "   env = getenv(\"OMP_TARGET_OFFLOAD\");\n",
    "   if(env  == NULL) return NOTSET;\n",
    "\n",
    "   end = env + strlen(env);                //Find trimmed beginning/end\n",
    "   while (      *env && isspace(*(env  )) ) env++;\n",
    "   while (end != env && isspace(*(end-1)) ) end--;\n",
    "   n = (int)(end - env);\n",
    "\n",
    "                    //Find ONLY string -nothing more, case insensitive\n",
    "   if      (n == 9 && !strncasecmp(env, \"MANDATORY\",n)) return MANDATORY;\n",
    "   else if (n == 8 && !strncasecmp(env, \"DISABLED\" ,n)) return DISABLED ;\n",
    "   else if (n == 7 && !strncasecmp(env, \"DEFAULT\"  ,n)) return DEFAULT  ;\n",
    "   else                                                 return UNKNOWN  ;\n",
    "}\n",
    "\n",
    "\n",
    "int main()\n",
    "{\n",
    "   int i;\n",
    "   int device_num, on_init_dev;\n",
    "\n",
    "   // get policy from OMP_TARGET_OFFLOAD variable\n",
    "   offload_policy_t policy = get_offload_policy();\n",
    "\n",
    "   if(_OPENMP< 201811)\n",
    "   {\n",
    "      printf(\"Warning: OMP_TARGET_OFFLOAD NOT supported, version %d\\n\",\n",
    "             _OPENMP );\n",
    "      printf(\"         If OMP_TARGET_OFFLOAD is set, \"\n",
    "             \"it will be ignored.\\n\");\n",
    "   }\n",
    "\n",
    "   // Set target device number to an unavailable\n",
    "   // device to test offload policy.\n",
    "   device_num = omp_get_num_devices() + 1;\n",
    "\n",
    "   // Policy:\n",
    "   printf(\"OMP_TARGET_OFFLOAD Policy:  \");\n",
    "   if     (policy==MANDATORY)\n",
    "      printf(\"MANDATORY-Terminate if dev. not avail\\n\");\n",
    "   else if(policy==DISABLED )\n",
    "      printf(\"DISABLED -(if supported) Only on Host\\n\");\n",
    "   else if(policy==DEFAULT  )\n",
    "      printf(\"DEFAULT  -On host if device not avail\\n\");\n",
    "   else if(policy==UNKNOWN  )\n",
    "      printf(\"OMP_TARGET_OFFLOAD has unknown value\\n\" );\n",
    "   else if(policy==NOTSET   )\n",
    "      printf(\"OMP_TARGET_OFFLOAD not set\\n\" );\n",
    "\n",
    "\n",
    "   on_init_dev = 1;\n",
    "   // device# out of range--not supported\n",
    "   #pragma omp target device(device_num) map(tofrom: on_init_dev)\n",
    "     on_init_dev=omp_is_initial_device();\n",
    "\n",
    "   if (policy == MANDATORY && _OPENMP >= 201811)\n",
    "      printf(\"ERROR: OpenMP implementation ignored MANDATORY policy.\\n\");\n",
    "\n",
    "   printf(\"Target region executed on init dev %s\\n\",\n",
    "          on_init_dev ? \"TRUE\":\"FALSE\");\n",
    "\n",
    "   return 0;\n",
    "}\n",
    "\n"
   ]
  },
  {
   "cell_type": "markdown",
   "metadata": {},
   "source": [
    ""
   ]
  },
  {
   "cell_type": "markdown",
   "metadata": {},
   "source": [
    ""
   ]
  },
  {
   "cell_type": "code",
   "execution_count": null,
   "metadata": {},
   "outputs": [],
   "source": [
    "\n",
    "! name: target_offload_control.1\n",
    "! type: F-free\n",
    "! version: omp_5.0\n",
    "module offload_policy\n",
    "  implicit none\n",
    "  integer, parameter :: LEN_POLICY=10\n",
    "contains\n",
    "  character(LEN_POLICY) function get_offload_policy()\n",
    "     character(64) :: env\n",
    "     integer       :: length, i\n",
    "     env=repeat(' ',len(env))\n",
    "                                    !policy is blank if not found *\n",
    "     call get_environment_variable(\"OMP_TARGET_OFFLOAD\",env,length)\n",
    "\n",
    "     do i = 1,len(env)              !Makes a-z upper case\n",
    "        if(iachar(env(i:i))>96) env(i:i)=achar(iachar(env(i:i))-32)\n",
    "     end do\n",
    "\n",
    "     get_offload_policy = trim(adjustl(env)) !remove peripheral spaces\n",
    "\n",
    "     if(length==0) get_offload_policy=\"NOTSET\"\n",
    "\n",
    "     return\n",
    "\n",
    "  end function\n",
    "\n",
    "end module\n",
    "\n",
    "program policy_test\n",
    "\n",
    "  use omp_lib\n",
    "  use offload_policy\n",
    "\n",
    "  integer                :: i, device_num\n",
    "  logical                :: on_init_dev\n",
    "  character(LEN_POLICY)  :: policy\n",
    "\n",
    "  policy = get_offload_policy() !!Get OMP_TARGET_OFFLOAD value\n",
    "\n",
    "  if (OPENMP_VERSION < 201811) then\n",
    "     print*,\"Warning: OMP_TARGET_OFFLOAD NOT supported by VER.\", &\n",
    "            OPENMP_VERSION\n",
    "     print*,\"         If OMP_TARGET_OFFLOAD is set, it will be ignored.\"\n",
    "  endif\n",
    "\n",
    "     ! Set target device number to an unavailable device\n",
    "     ! to test offload policy.\n",
    "  device_num = omp_get_num_devices() + 1\n",
    "\n",
    "                      !! Report OMP_TARGET_OFFOAD value\n",
    "  select CASE (policy)\n",
    "     case(\"MANDATORY\")\n",
    "          print*,\"Policy:  MANDATORY-Terminate if dev. not avail.\"\n",
    "     case(\"DISABLED\")\n",
    "          print*,\"Policy:  DISABLED-(if supported) Only on Host.\"\n",
    "     case(\"DEFAULT\")\n",
    "          print*,\"Policy:  DEFAULT On host if device not avail.\"\n",
    "     case(\"NOTSET\")\n",
    "          print*,\"         OMP_TARGET_OFFLOAD is not set.\"\n",
    "     case DEFAULT\n",
    "          print*,\"         OMP_TARGET_OFFLOAD has unknown value.\"\n",
    "          print*,\"         UPPER CASE VALUE=\",policy\n",
    "  end select\n",
    "\n",
    "\n",
    "  on_init_dev = .FALSE.\n",
    "                      !! device# out of range--not supported\n",
    "  !$omp target  device(device_num) map(tofrom: on_init_dev)\n",
    "     on_init_dev=omp_is_initial_device()\n",
    "  !$omp end target\n",
    "\n",
    "  if (policy==\"MANDATORY\" .and. OPENMP_VERSION>=201811) then\n",
    "     print*,\"OMP ERROR: \", &\n",
    "            \"OpenMP 5.0 implementation ignored MANDATORY policy.\"\n",
    "     print*,\"           Termination should have occurred\", &\n",
    "            \" at target directive.\"\n",
    "  endif\n",
    "\n",
    "  print*, \"Target executed on init dev (T|F): \", on_init_dev\n",
    "\n",
    "end program policy_test\n",
    "\n"
   ]
  },
  {
   "cell_type": "markdown",
   "metadata": {},
   "source": [
    ""
   ]
  },
  {
   "cell_type": "markdown",
   "metadata": {},
   "source": [
    ""
   ]
  },
  {
   "cell_type": "markdown",
   "metadata": {},
   "source": [
    "../../program_control/target_offload.tex"
   ]
  },
  {
   "cell_type": "markdown",
   "metadata": {},
   "source": [
    ""
   ]
  },
  {
   "cell_type": "markdown",
   "metadata": {},
   "source": [
    "## Controlling Concurrency and Reproducibility with  the `order` Clause"
   ]
  },
  {
   "cell_type": "markdown",
   "metadata": {},
   "source": [
    ""
   ]
  },
  {
   "cell_type": "markdown",
   "metadata": {},
   "source": [
    "\index{clauses!order(concurrent)@`order(concurrent)`} \index{order(concurrent) clause@`order(concurrent)` clause}"
   ]
  },
  {
   "cell_type": "markdown",
   "metadata": {},
   "source": [
    "The `order` clause is used for controlling the parallel execution of  loop iterations for one or more loops that are associated with a directive.  It is specified with a clause argument and optional modifier.  The only supported argument, introduced in OpenMP 5.0, is the keyword  `concurrent` which indicates that the loop iterations may execute  concurrently, including iterations in the same chunk per the loop schedule.  Because of the relaxed execution permitted with an `order(concurrent)`  clause, codes must not assume that any cross-iteration data dependences  would be preserved or that any two iterations may execute on the same thread."
   ]
  },
  {
   "cell_type": "markdown",
   "metadata": {},
   "source": [
    "The following example in this section demonstrates the use of  the `order(concurrent)` clause, without any modifiers, for controlling  the parallel execution of loop iterations. The `order(concurrent)` clause cannot be used for the second and third  `parallel` `for`/`do` constructs because of either having  data dependences or accessing threadprivate variables."
   ]
  },
  {
   "cell_type": "markdown",
   "metadata": {},
   "source": [
    ""
   ]
  },
  {
   "cell_type": "code",
   "execution_count": null,
   "metadata": {},
   "outputs": [],
   "source": [
    "//%compiler: clang\n",
 "//%cflags: -fopenmp\n",
 "\n",
    "/*\n",
    "* name: reproducible.1\n",
    "* type: C\n",
    "* version: omp_5.0\n",
    "*/\n",
    "#include <stdio.h>\n",
    "#include <omp.h>\n",
    "\n",
    "int main()\n",
    "{\n",
    "   const int n = 1000;\n",
    "   int v[n], u[n];\n",
    "   static int sum;\n",
    "   #pragma omp threadprivate(sum)\n",
    "\n",
    "   // no data dependences, so can execute concurrently\n",
    "   #pragma omp parallel for order(concurrent)\n",
    "   for (int i = 0; i < n; i++) {\n",
    "      u[i] = i;\n",
    "      v[i] = i;\n",
    "      v[i] += u[i] * u[i];\n",
    "   }\n",
    "\n",
    "   // with data dependences, so cannot execute iterations\n",
    "   // concurrently with the order(concurrent) clause\n",
    "   #pragma omp parallel for ordered\n",
    "   for (int i = 1; i < n; i++) {\n",
    "      v[i] += u[i] * u[i];\n",
    "      #pragma omp ordered\n",
    "   v[i] += v[i-1];\n",
    "   }\n",
    "\n",
    "   sum = 0;\n",
    "   // accessing a threadprivate variable, which would not be\n",
    "   // permitted if the order(concurrent) clause was present\n",
    "   #pragma omp parallel for copyin(sum)\n",
    "   for (int i = 0; i < n; i++) {\n",
    "      sum += v[i];\n",
    "   }\n",
    "\n",
    "   #pragma omp parallel\n",
    "   {\n",
    "      printf(\"sum = %d on thread %d\\n\", sum, omp_get_thread_num());\n",
    "   }\n",
    "\n",
    "   return 0;\n",
    "}\n",
    "\n"
   ]
  },
  {
   "cell_type": "markdown",
   "metadata": {},
   "source": [
    ""
   ]
  },
  {
   "cell_type": "markdown",
   "metadata": {},
   "source": [
    ""
   ]
  },
  {
   "cell_type": "code",
   "execution_count": null,
   "metadata": {},
   "outputs": [],
   "source": [
    "\n",
    "! name: reproducible.1\n",
    "! type: F-free\n",
    "! version:    omp_5.0\n",
    "program main\n",
    "   use omp_lib\n",
    "   implicit none\n",
    "   integer, parameter :: n = 1000\n",
    "   integer :: v(n), u(n)\n",
    "   integer :: i\n",
    "   integer, save :: sum\n",
    "   !$omp threadprivate(sum)\n",
    "\n",
    "   !! no data dependences, so can execute concurrently\n",
    "   !$omp parallel do order(concurrent)\n",
    "   do i = 1, n\n",
    "      u(i) = i\n",
    "      v(i) = i\n",
    "      v(i) = v(i) + u(i) * u(i)\n",
    "   end do\n",
    "\n",
    "   !! with data dependences, so cannot execute iterations\n",
    "   !! concurrently with the order(concurrent) clause\n",
    "   !$omp parallel do ordered\n",
    "   do i = 2, n\n",
    "      v(i) = v(i) + u(i) * u(i)\n",
    "      !$omp ordered\n",
    "  v(i) = v(i) + v(i-1)\n",
    "      !$omp end ordered\n",
    "   end do\n",
    "\n",
    "   sum = 0\n",
    "   !! accessing a threadprivate variable, which would not be\n",
    "   !! permitted if the order(concurrent) clause was present\n",
    "   !$omp parallel do copyin(sum)\n",
    "   do i = 2, n\n",
    "      sum = sum + v(i)\n",
    "   end do\n",
    "\n",
    "   !$omp parallel\n",
    "      print *,\"sum = \",sum,\" on thread \", omp_get_thread_num()\n",
    "   !$omp end parallel\n",
    "\n",
    "end program\n",
    "\n"
   ]
  },
  {
   "cell_type": "markdown",
   "metadata": {},
   "source": [
    ""
   ]
  },
  {
   "cell_type": "markdown",
   "metadata": {},
   "source": [
    "\index{order(concurrent) clause@`order(concurrent)` clause!reproducible modifier@`reproducible` modifier} \index{order(concurrent) clause@`order(concurrent)` clause!unconstrained modifier@`unconstrained` modifier} Modifiers to the `order` clause, introduced in OpenMP 5.1, may be  specified to control the reproducibility of the loop schedule for  the associated loop(s). A reproducible loop schedule will consistently  yield the same mapping of iterations to threads (or SIMD lanes) if the  directive name, loop schedule, iteration space, and binding region remain  the same. The `reproducible` modifier indicates the loop schedule must  be reproducible, while the `unconstrained` modifier indicates that  the loop schedule is not reproducible. If a modifier is not specified, then the `order` clause does not affect  the reproducibility of the loop schedule."
   ]
  },
  {
   "cell_type": "markdown",
   "metadata": {},
   "source": [
    "The next example demonstrates the use of the `order(concurrent)` clause  with modifiers for additionally controlling the reproducibility of a loop's  schedule. The two worksharing-loop constructs in the first `parallel` construct specify that the loops have reproducible schedules, thus memory effects from iteration  _i_  from the first loop will be observable to iteration  _i_  in the second loop.  In the second `parallel` construct, the `order` clause does not  control reproducibility for the loop schedules. However, since both loops  specify the same static schedules, the schedules are reproducible and the  data dependences between the loops are preserved by the execution. In the third `parallel` construct, the `order` clause indicates  that the loops are not reproducible, overriding the default reproducibility prescribed by the specified static schedule. Consequentially,  the `nowait` clause on the first worksharing-loop construct should not  be used to ensure that the data dependences are preserved by the execution."
   ]
  },
  {
   "cell_type": "markdown",
   "metadata": {},
   "source": [
    ""
   ]
  },
  {
   "cell_type": "code",
   "execution_count": null,
   "metadata": {},
   "outputs": [],
   "source": [
    "//%compiler: clang\n",
 "//%cflags: -fopenmp\n",
 "\n",
    "/*\n",
    "* name: reproducible.2\n",
    "* type: C\n",
    "* version: omp_5.1\n",
    "*/\n",
    "#include <stdio.h>\n",
    "\n",
    "int main()\n",
    "{\n",
    "   const int n = 1000;\n",
    "   int v[n], u[n];\n",
    "\n",
    "   #pragma omp parallel\n",
    "   {\n",
    "      // reproducible schedules are used for the following two constructs\n",
    "      #pragma omp for order(reproducible: concurrent) nowait\n",
    "      for (int i = 0; i < n; i++) {\n",
    "         u[i] = i;\n",
    "         v[i] = i;\n",
    "      }\n",
    "      #pragma omp for order(reproducible: concurrent)\n",
    "      for (int i = 0; i < n; i++) {\n",
    "         v[i]  += u[i] * u[i];\n",
    "      }\n",
    "   }\n",
    "\n",
    "   #pragma omp parallel\n",
    "   {\n",
    "      // static schedules preserve data dependences between the loops\n",
    "      #pragma omp for schedule(static) order(concurrent) nowait\n",
    "      for (int i = 0; i < n; i++) {\n",
    "         u[i] = i;\n",
    "         v[i] = i;\n",
    "      }\n",
    "      #pragma omp for schedule(static) order(concurrent)\n",
    "      for (int i = 0; i < n; i++) {\n",
    "         v[i]  += u[i] * u[i];\n",
    "      }\n",
    "   }\n",
    "\n",
    "   #pragma omp parallel\n",
    "   {\n",
    "      // the default reproducibility by the static schedule is not\n",
    "      // preserved due to the unconstrained order clause.\n",
    "      // use of nowait here could result in data race.\n",
    "      #pragma omp for schedule(static) order(unconstrained: concurrent)\n",
    "      for (int i = 0; i < n; i++) {\n",
    "         u[i] = i;\n",
    "         v[i] = i;\n",
    "      }\n",
    "      #pragma omp for schedule(static) order(unconstrained: concurrent)\n",
    "      for (int i = 0; i < n; i++) {\n",
    "         v[i]  += u[i] * u[i];\n",
    "      }\n",
    "   }\n",
    "\n",
    "   return 0;\n",
    "}\n",
    "\n"
   ]
  },
  {
   "cell_type": "markdown",
   "metadata": {},
   "source": [
    ""
   ]
  },
  {
   "cell_type": "markdown",
   "metadata": {},
   "source": [
    ""
   ]
  },
  {
   "cell_type": "code",
   "execution_count": null,
   "metadata": {},
   "outputs": [],
   "source": [
    "\n",
    "! name: reproducible.2\n",
    "! type: F-free\n",
    "! version:    omp_5.1\n",
    "program main\n",
    "   implicit none\n",
    "   integer, parameter :: n = 1000\n",
    "   integer :: v(n), u(n)\n",
    "   integer :: i\n",
    "\n",
    "   !$omp parallel\n",
    "      !! reproducible schedules are used the following two constructs\n",
    "      !$omp do order(reproducible: concurrent) nowait\n",
    "      do i = 1, n\n",
    "         u(i) = i\n",
    "         v(i) = i\n",
    "      end do\n",
    "      !$omp do order(reproducible: concurrent)\n",
    "      do i = 1, n\n",
    "         v(i) = v(i) + u(i) * u(i)\n",
    "      end do\n",
    "   !$omp end parallel\n",
    "\n",
    "   !$omp parallel\n",
    "      !! static schedules preserve data dependences between the loops\n",
    "      !$omp do schedule(static) order(concurrent) nowait\n",
    "      do i = 1, n\n",
    "         u(i) = i\n",
    "         v(i) = i\n",
    "      end do\n",
    "      !$omp do schedule(static) order(concurrent)\n",
    "      do i = 1, n\n",
    "         v(i) = v(i) + u(i) * u(i)\n",
    "      end do\n",
    "   !$omp end parallel\n",
    "\n",
    "   !$omp parallel\n",
    "      !! the default reproducibility by the static schedule is not\n",
    "      !! preserved due to the unconstrained order clause.\n",
    "      !! use of nowait here could result in data race.\n",
    "      !$omp do schedule(static) order(unconstrained: concurrent)\n",
    "      do i = 1, n\n",
    "         u(i) = i\n",
    "         v(i) = i\n",
    "      end do\n",
    "      !$omp do schedule(static) order(unconstrained: concurrent)\n",
    "      do i = 1, n\n",
    "         v(i) = v(i) + u(i) * u(i)\n",
    "      end do\n",
    "   !$omp end parallel\n",
    "\n",
    "end program\n",
    "\n"
   ]
  },
  {
   "cell_type": "markdown",
   "metadata": {},
   "source": [
    ""
   ]
  },
  {
   "cell_type": "markdown",
   "metadata": {},
   "source": [
    "../../program_control/reproducible.tex"
   ]
  },
  {
   "cell_type": "markdown",
   "metadata": {},
   "source": [
    ""
   ]
  },
  {
   "cell_type": "markdown",
   "metadata": {},
   "source": [
    "## `interop` Construct"
   ]
  },
  {
   "cell_type": "markdown",
   "metadata": {},
   "source": [
    "\index{constructs!interop@`interop`} \index{interop construct@`interop` construct}"
   ]
  },
  {
   "cell_type": "markdown",
   "metadata": {},
   "source": [
    "The \scode{interop} construct allows OpenMP to interoperate with foreign runtime environments. In the example below, asynchronous cuda memory copies and a \splc{cublasDaxpy} routine are executed  in a cuda stream. Also, an asynchronous target task execution (having a \scode{nowait} clause)  and two explicit tasks are executed through OpenMP directives.  Scheduling dependences (synchronization) are imposed on the foreign stream and the OpenMP tasks through \scode{depend} clauses."
   ]
  },
  {
   "cell_type": "markdown",
   "metadata": {},
   "source": [
    "\index{interop construct@`interop` construct!init clause@`init` clause} \index{init clause@`init` clause} \index{clauses!init@`init`} \index{interop construct@`interop` construct!depend clause@`depend` clause} \index{depend clause@`depend` clause} \index{clauses!depend@`depend`} First, an interop object, \splc{obj}, is initialized for synchronization by including the \scode{targetsync} \splc{interop-type} in the interop \scode{init} clause  (\scode{init(} \scode{targetsync,obj} \scode{)}).   The object provides access to the foreign runtime. The \scode{depend} clause provides a dependence behavior for foreign tasks associated with a valid object."
   ]
  },
  {
   "cell_type": "markdown",
   "metadata": {},
   "source": [
    "\index{routines!omp_get_interop_int@\scode{omp_get_interop_int}} \index{omp_get_interop_int routine@\scode{omp_get_interop_int} routine} Next, the \scode{omp_get_interop_int} routine is used to extract the foreign  runtime id (\scode{omp_ipr_fr_id}), and a test in the next statement ensures  that the cuda runtime (\scode{omp_ifr_cuda}) is available."
   ]
  },
  {
   "cell_type": "markdown",
   "metadata": {},
   "source": [
    "\index{routines!omp_get_interop_ptr@\scode{omp_get_interop_ptr}} \index{omp_get_interop_ptr routine@\scode{omp_get_interop_ptr} routine} \index{interop construct@`interop` construct!destroy clause@`destroy` clause} \index{destroy clause@`destroy` clause} \index{clauses!destroy@`destroy`} Within the block for executing the \splc{cublasDaxpy} routine, a stream is acquired  with the \scode{omp_get_interop_ptr} routine, which returns a cuda stream (\splc{s}). The stream is included in the cublas handle, and used directly in the asynchronous memory routines.  The following \scode{interop} construct, with the \scode{destroy} clause,  ensures that the foreign tasks have completed."
   ]
  },
  {
   "cell_type": "markdown",
   "metadata": {},
   "source": [
    ""
   ]
  },
  {
   "cell_type": "code",
   "execution_count": null,
   "metadata": {},
   "outputs": [],
   "source": [
    "//%compiler: clang\n",
 "//%cflags: -fopenmp\n",
 "\n",
    "/*\n",
    "* name:       interop.1\n",
    "* type:       C\n",
    "* version:    omp_5.1\n",
    "*/\n",
    "#include <omp.h>\n",
    "#include <stdio.h>\n",
    "#include <stdlib.h>\n",
    "#include <cublas_v2.h>\n",
    "#include <cuda_runtime_api.h>\n",
    "\n",
    "#define N 16384\n",
    "\n",
    "void myVectorSet(int n, double s, double *x)\n",
    "{\n",
    "   for(int i=0; i<n; ++i) x[i] = s*(i+1);\n",
    "}\n",
    "void myDaxpy(int n, double s, double *x, double *y)\n",
    "{\n",
    "   for(int i=0; i<n; ++i) y[i] = s*x[i]+y[i];\n",
    "}\n",
    "void myDscal(int n, double s, double *x)\n",
    "{\n",
    "   for(int i=0; i<n; ++i) x[i] = s*x[i];\n",
    "}\n",
    "\n",
    "\n",
    "int main(){\n",
    "  const  double scalar=2.0;\n",
    "  double *x, *y, *d_x, *d_y;\n",
    "  int    dev;\n",
    "\n",
    "  omp_interop_t obj=omp_interop_none;\n",
    "  intptr_t  type;\n",
    "\n",
    "  // Async Memcpy requires pinned memory\n",
    "  cudaMallocHost( (void**)&x,   N*sizeof(double) );\n",
    "  cudaMallocHost( (void**)&y,   N*sizeof(double) );\n",
    "  cudaMalloc(     (void**)&d_x, N*sizeof(double) );\n",
    "  cudaMalloc(     (void**)&d_y, N*sizeof(double) );\n",
    "\n",
    "  dev = omp_get_default_device();\n",
    "  omp_target_associate_ptr(&x[0], d_x, sizeof(double)*N, 0, dev);\n",
    "  omp_target_associate_ptr(&y[0], d_y, sizeof(double)*N, 0, dev);\n",
    "\n",
    "  #pragma omp target nowait depend(out: x[0:N]) \\\n",
    "                     map(from: x[0:N]) device(dev)\n",
    "  myVectorSet(N,  1.0, x);\n",
    "\n",
    "  #pragma omp task depend(out: y[0:N])\n",
    "  myVectorSet(N, -1.0, y);\n",
    "\n",
    "  // get obj for syncing\n",
    "  #pragma omp interop init(targetsync: obj) device(dev) \\\n",
    "                 depend(in: x[0:N]) depend(inout: y[0:N])\n",
    "\n",
    "                                        //foreign rt id and string name\n",
    "  int        id = (int  )omp_get_interop_int(obj, omp_ipr_fr_id,   NULL);\n",
    "  char* rt_name = (char*)omp_get_interop_str(obj, omp_ipr_fr_name, NULL);\n",
    "\n",
    "  if(obj != omp_interop_none && id == omp_ifr_cuda) {\n",
    "\n",
    "    printf(\" OpenMP working with %s runtime to execute cublas daxpy.\\n\",\n",
    "           rt_name);\n",
    "    cublasHandle_t handle;\n",
    "    int rc;\n",
    "    cublasCreate(&handle);\n",
    "\n",
    "    cudaStream_t s=\n",
    "        (cudaStream_t)omp_get_interop_ptr(obj, omp_ipr_targetsync, &rc);\n",
    "    if(rc != omp_irc_success) {\n",
    "       fprintf(stderr,\"ERROR: Failed to get %s stream, rt error= %d.\\n\",\n",
    "               rt_name, rc);\n",
    "       if(rc == omp_irc_no_value)\n",
    "          fprintf(stderr,\n",
    "                  \"Parameters valid, no meaningful value available.\");\n",
    "       exit(1);\n",
    "    }\n",
    "\n",
    "    cublasSetStream( handle,s );\n",
    "    cudaMemcpyAsync( d_x, x, N*sizeof(double),\n",
    "                     cudaMemcpyHostToDevice, s );\n",
    "    cudaMemcpyAsync( d_y, y, N*sizeof(double),\n",
    "                     cudaMemcpyHostToDevice, s );\n",
    "    cublasDaxpy(     handle, N, &scalar, &d_x[0], 1, &d_y[0], 1 ) ;\n",
    "    cudaMemcpyAsync( y, d_y, N*sizeof(double),\n",
    "                     cudaMemcpyDeviceToHost, s );\n",
    "\n",
    "  } else {     // Execute as OpenMP offload.\n",
    "\n",
    "    printf(\" Notice: Offloading myDaxpy to perform daxpy calculation.\\n\");\n",
    "\n",
    "    #pragma omp target depend(inout: y[0:N]) depend(in: x[0:N]) nowait \\\n",
    "                       map(to: x[0:N]) map(tofrom: y[0:N]) device(dev)\n",
    "    myDaxpy(N, scalar, x, y);\n",
    "\n",
    "  }\n",
    "\n",
    "   // This also ensures foreign tasks complete.\n",
    "  #pragma omp interop destroy(obj) nowait depend(out: y[0:N])\n",
    "\n",
    "  #pragma omp target depend(inout: x[0:N])\n",
    "  myDscal(N, scalar, x);\n",
    "\n",
    "  #pragma omp taskwait\n",
    "  printf(\"(-1:-16384) %f:%f\\n\", y[0], y[N-1]);\n",
    "  printf(\"(-2:-32768) %f:%f\\n\", x[0], x[N-1]);\n",
    "\n",
    "}\n",
    "\n"
   ]
  },
  {
   "cell_type": "markdown",
   "metadata": {},
   "source": [
    "../../program_control/interop.tex"
   ]
  },
  {
   "cell_type": "markdown",
   "metadata": {},
   "source": [
    ""
   ]
  },
  {
   "cell_type": "markdown",
   "metadata": {},
   "source": [
    "## Utilities"
   ]
  },
  {
   "cell_type": "markdown",
   "metadata": {},
   "source": [
    "This section contains examples of utility routines and features."
   ]
  },
  {
   "cell_type": "markdown",
   "metadata": {},
   "source": [
    ""
   ]
  },
  {
   "cell_type": "markdown",
   "metadata": {},
   "source": [
    "### Timing Routines"
   ]
  },
  {
   "cell_type": "markdown",
   "metadata": {},
   "source": [
    "\index{routines!omp_get_wtime@\scode{omp_get_wtime}} \index{omp_get_wtime routine@\scode{omp_get_wtime} routine} \index{routines!omp_get_wtick@\scode{omp_get_wtick}} \index{omp_get_wtick routine@\scode{omp_get_wtick} routine}"
   ]
  },
  {
   "cell_type": "markdown",
   "metadata": {},
   "source": [
    "The \scode{omp_get_wtime} routine can be used to measure the elapsed wall clock time (in seconds) of code execution in a program. The routine is thread safe and can be executed by multiple threads concurrently. The precision of the timer can be obtained by a call to the \scode{omp_get_wtick} routine. The following example shows a use case."
   ]
  },
  {
   "cell_type": "markdown",
   "metadata": {},
   "source": [
    ""
   ]
  },
  {
   "cell_type": "code",
   "execution_count": null,
   "metadata": {},
   "outputs": [],
   "source": [
    "//%compiler: clang\n",
 "//%cflags: -fopenmp\n",
 "\n",
    "/*\n",
    "* name: get_wtime.1\n",
    "* type: C\n",
    "*/\n",
    "#include <stdio.h>\n",
    "#include <unistd.h>\n",
    "#include <omp.h>\n",
    "\n",
    "void work_to_be_timed()\n",
    "{\n",
    "  sleep(2);\n",
    "}\n",
    "\n",
    "int main()\n",
    "{\n",
    "  double start, end;\n",
    "\n",
    "  start = omp_get_wtime();\n",
    "  work_to_be_timed();     // any parallel or serial codes\n",
    "  end = omp_get_wtime();\n",
    "\n",
    "  printf(\"Work took %f seconds\\n\", end - start);\n",
    "  printf(\"Precision of the timer is %f (sec)\\n\", omp_get_wtick());\n",
    "  return 0;\n",
    "}\n",
    "\n"
   ]
  },
  {
   "cell_type": "markdown",
   "metadata": {},
   "source": [
    ""
   ]
  },
  {
   "cell_type": "markdown",
   "metadata": {},
   "source": [
    ""
   ]
  },
  {
   "cell_type": "code",
   "execution_count": null,
   "metadata": {},
   "outputs": [],
   "source": [
    "\n",
    "! name: get_wtime.1\n",
    "! type: F-free\n",
    "subroutine work_to_be_timed\n",
    "  use, intrinsic :: iso_c_binding, only: c_int\n",
    "  interface\n",
    "     subroutine fsleep(sec) bind(C, name=\"sleep\")\n",
    "       import c_int\n",
    "       integer(c_int), value :: sec\n",
    "     end subroutine\n",
    "  end interface\n",
    "  call fsleep(2)\n",
    "end subroutine\n",
    "\n",
    "program do_work\n",
    "  use omp_lib\n",
    "  implicit none\n",
    "  double precision :: start, end\n",
    "\n",
    "  start = omp_get_wtime()\n",
    "  call work_to_be_timed    ! any parallel or serial codes\n",
    "  end = omp_get_wtime()\n",
    "\n",
    "  print *, \"Work took\", end - start, \"seconds\"\n",
    "  print *, \"Precision of the timer is\", omp_get_wtick(), \"(sec)\"\n",
    "end program\n",
    "\n"
   ]
  },
  {
   "cell_type": "markdown",
   "metadata": {},
   "source": [
    ""
   ]
  },
  {
   "cell_type": "markdown",
   "metadata": {},
   "source": [
    ""
   ]
  },
  {
   "cell_type": "markdown",
   "metadata": {},
   "source": [
    ""
   ]
  },
  {
   "cell_type": "markdown",
   "metadata": {},
   "source": [
    "### Environment Display"
   ]
  },
  {
   "cell_type": "markdown",
   "metadata": {},
   "source": [
    "\index{environment display!OMP_DISPLAY_ENV@\scode{OMP_DISPLAY_ENV}} \index{environment variables!OMP_DISPLAY_ENV@\scode{OMP_DISPLAY_ENV}} \index{OMP_DISPLAY_ENV@\scode{OMP_DISPLAY_ENV}} \index{environment display!omp_display_env routine@\scode{omp_display_env} routine} \index{routines!omp_display_env@\scode{omp_display_env}} \index{omp_display_env routine@\scode{omp_display_env} routine}"
   ]
  },
  {
   "cell_type": "markdown",
   "metadata": {},
   "source": [
    "The OpenMP version number and the values of ICVs associated with the relevant environment variables can be displayed at runtime by setting  the \scode{OMP_DISPLAY_ENV} environment variable to either  `TRUE` or `VERBOSE`. The information is displayed once by the runtime."
   ]
  },
  {
   "cell_type": "markdown",
   "metadata": {},
   "source": [
    "A more flexible or controllable approach is to call  the \scode{omp_display_env} API routine at any desired point of a code to display the same information. This OpenMP 5.1 API routine takes a single  _verbose_  argument. A value of 0 or .false. (for C/C++ or Fortran) indicates the required OpenMP ICVs associated with environment variables be displayed, and a value of 1 or .true. (for C/C++ or Fortran) will include vendor-specific ICVs that can be modified by environment variables."
   ]
  },
  {
   "cell_type": "markdown",
   "metadata": {},
   "source": [
    "The following example illustrates the conditional execution of the API \scode{omp_display_env} routine.  Typically it would be invoked in various debug modes of an application.  An important use case is to have a single MPI process (e.g., rank = 0)  of a hybrid (MPI+OpenMP) code execute the routine, instead of all MPI processes, as would be done by  setting the \scode{OMP_DISPLAY_ENV} to `TRUE` or `VERBOSE`."
   ]
  },
  {
   "cell_type": "markdown",
   "metadata": {},
   "source": [
    ""
   ]
  },
  {
   "cell_type": "code",
   "execution_count": null,
   "metadata": {},
   "outputs": [],
   "source": [
    "//%compiler: clang\n",
 "//%cflags: -fopenmp\n",
 "\n",
    "/*\n",
    "* name: display_env.1\n",
    "* type: C\n",
    "* version: omp_5.1\n",
    "*/\n",
    "#include <omp.h>\n",
    "\n",
    "//implementers: customize debug routines for app debugging\n",
    "int debug(){ return 1; }\n",
    "int debug_omp_verbose(){ return 0; }\n",
    "\n",
    "int main()\n",
    "{\n",
    "   if( debug() ) omp_display_env( debug_omp_verbose() );\n",
    "   // ...\n",
    "   return 0;\n",
    "}\n",
    "\n"
   ]
  },
  {
   "cell_type": "markdown",
   "metadata": {},
   "source": [
    ""
   ]
  },
  {
   "cell_type": "markdown",
   "metadata": {},
   "source": [
    ""
   ]
  },
  {
   "cell_type": "code",
   "execution_count": null,
   "metadata": {},
   "outputs": [],
   "source": [
    "\n",
    "! name: display_env.1\n",
    "! type: F-free\n",
    "! version: omp_5.1\n",
    "!implementers: customize debug routines for app debugging\n",
    "function  debug()\n",
    "  logical :: debug\n",
    "  debug = .true.\n",
    "end function\n",
    "\n",
    "function debug_omp_verbose()\n",
    "  logical :: debug_omp_verbose\n",
    "  debug_omp_verbose = .false.\n",
    "end function\n",
    "\n",
    "program display_omp_environment\n",
    "  use omp_lib\n",
    "  logical :: debug, debug_omp_verbose\n",
    "\n",
    "  if( debug() ) call omp_display_env( debug_omp_verbose() )\n",
    "  !! ...\n",
    "end program\n",
    "\n",
    "\n"
   ]
  },
  {
   "cell_type": "markdown",
   "metadata": {},
   "source": [
    ""
   ]
  },
  {
   "cell_type": "markdown",
   "metadata": {},
   "source": [
    "A sample output from the execution of the code might look like: {  OPENMP DISPLAY ENVIRONMENT BEGIN     _OPENMP='202011'    [host] OMP_AFFINITY_FORMAT='(null)'    [host] OMP_ALLOCATOR='omp_default_mem_alloc'    [host] OMP_CANCELLATION='FALSE'    [host] OMP_DEFAULT_DEVICE='0'    [host] OMP_DISPLAY_AFFINITY='FALSE'    [host] OMP_DISPLAY_ENV='FALSE'    [host] OMP_DYNAMIC='FALSE'    [host] OMP_MAX_ACTIVE_LEVELS='1'    [host] OMP_MAX_TASK_PRIORITY='0'    [host] OMP_NESTED: deprecated; max-active-levels-var=1    [host] OMP_NUM_THREADS: value is not defined    [host] OMP_PLACES: value is not defined    [host] OMP_PROC_BIND: value is not defined    [host] OMP_SCHEDULE='static'    [host] OMP_STACKSIZE='4M'    [host] OMP_TARGET_OFFLOAD=DEFAULT    [host] OMP_THREAD_LIMIT='0'    [host] OMP_TOOL='enabled'    [host] OMP_TOOL_LIBRARIES: value is not defined  OPENMP DISPLAY ENVIRONMENT END }"
   ]
  },
  {
   "cell_type": "markdown",
   "metadata": {},
   "source": [
    ""
   ]
  },
  {
   "cell_type": "markdown",
   "metadata": {},
   "source": [
    ""
   ]
  },
  {
   "cell_type": "markdown",
   "metadata": {},
   "source": [
    "### `error` Directive"
   ]
  },
  {
   "cell_type": "markdown",
   "metadata": {},
   "source": [
    "\index{directives!error@`error`} \index{error directive@`error` directive} \index{error directive@`error` directive!at clause@`at` clause} \index{clauses!at@`at`} \index{at clause@`at` clause} \index{error directive@`error` directive!severity clause@`severity` clause} \index{clauses!severity@`severity`} \index{severity clause@`severity` clause}"
   ]
  },
  {
   "cell_type": "markdown",
   "metadata": {},
   "source": [
    "The `error` directive provides a consistent method for C, C++, and Fortran to emit a  _fatal_  or  _warning_  message at  _compilation_  or  _execution_  time, as determined by a `severity`  or an `at` clause, respectively. When `severity(fatal)` is present, the compilation  or execution is aborted. Without any clauses the default behavior is as if `at(compilation)`  and `severity(fatal)` were specified."
   ]
  },
  {
   "cell_type": "markdown",
   "metadata": {},
   "source": [
    "The C, C++, and Fortran examples below show all the cases for reporting messages."
   ]
  },
  {
   "cell_type": "markdown",
   "metadata": {},
   "source": [
    ""
   ]
  },
  {
   "cell_type": "code",
   "execution_count": null,
   "metadata": {},
   "outputs": [],
   "source": [
    "//%compiler: clang\n",
 "//%cflags: -fopenmp\n",
 "\n",
    "/*\n",
    "* name:       error.1\n",
    "* type:       C\n",
    "* version:    omp_5.2\n",
    "*/\n",
    "#include <stdio.h>\n",
    "#include   <omp.h>\n",
    "\n",
    "int main(){\n",
    "\n",
    "#pragma omp metadirective \\\n",
    "            when(implementation={vendor(gnu)}: nothing )   \\\n",
    "            otherwise(error at(compilation) severity(fatal) \\\n",
    "                    message(\"GNU compiler required.\"))\n",
    "\n",
    "  if( omp_get_num_procs() < 3 ){\n",
    "    #pragma omp error at(runtime) severity(fatal) \\\n",
    "                      message(\"3 or more procs required.\")\n",
    "  }\n",
    "\n",
    "  #pragma omp parallel master\n",
    "  {\n",
    "    // Give notice about master deprecation at compile time and run time.\n",
    "    #pragma omp error at(compilation) severity(warning) \\\n",
    "                      message(\"Notice: master is deprecated.\")\n",
    "    #pragma omp error at(runtime) severity(warning) \\\n",
    "                      message(\"Notice: masked used next release.\")\n",
    "\n",
    "     printf(\" Hello from thread number 0.\\n\");\n",
    "  }\n",
    "\n",
    "}\n",
    "\n"
   ]
  },
  {
   "cell_type": "markdown",
   "metadata": {},
   "source": [
    ""
   ]
  },
  {
   "cell_type": "code",
   "execution_count": null,
   "metadata": {},
   "outputs": [],
   "source": [
    "\n",
    "! name:       error.1\n",
    "! type:       F-free\n",
    "! version:    omp_5.2\n",
    "program main\n",
    "use omp_lib\n",
    "\n",
    "!$omp  metadirective  &\n",
    "!$omp&     when( implementation={vendor(gnu)}: nothing    ) &\n",
    "!$omp&     otherwise( error at(compilation) severity(fatal) &\n",
    "!$omp&                message( \"GNU compiler required.\" ) )\n",
    "\n",
    "\n",
    "if( omp_get_num_procs() < 3 ) then\n",
    "   !$omp  error at(runtime) severity(fatal) &\n",
    "   !$omp&       message(\"3 or more procs required.\")\n",
    "endif\n",
    "\n",
    "  !$omp parallel master\n",
    "\n",
    "!! Give notice about master deprecation at compile time and run time.\n",
    "  !$omp  error at(compilation) severity(warning) &\n",
    "  !$omp&       message(\"Notice: master is deprecated.\")\n",
    "  !$omp  error at(runtime) severity(warning) &\n",
    "  !$omp&       message(\"Notice: masked to be used in next release.\")\n",
    "\n",
    "  print*,\" Hello from thread number 0.\"\n",
    "\n",
    "  !$omp end parallel master\n",
    "\n",
    "end program\n",
    "\n"
   ]
  },
  {
   "cell_type": "markdown",
   "metadata": {},
   "source": [
    ""
   ]
  },
  {
   "cell_type": "markdown",
   "metadata": {},
   "source": [
    ""
   ]
  },
  {
   "cell_type": "markdown",
   "metadata": {},
   "source": [
    "../../program_control/utilities.tex"
   ]
  },
  {
   "cell_type": "markdown",
   "metadata": {},
   "source": [
    ""
   ]
  }
 ],
 "metadata": {
  "kernelspec": {
   "display_name": "Native",
   "language": "native",
   "name": "native"
  },
  "language_info": {
   "file_extension": ".c",
   "mimetype": "text/plain",
   "name": "none"
  }
 },
 "nbformat": 4,
 "nbformat_minor": 2
}