{
 "cells": [
  {
   "cell_type": "markdown",
   "metadata": {},
   "source": [
    ""
   ]
  },
  {
   "cell_type": "markdown",
   "metadata": {},
   "source": [
    "## Placement of `flush`, `barrier`, `taskwait`  and `taskyield` Directives"
   ]
  },
  {
   "cell_type": "markdown",
   "metadata": {},
   "source": [
    ""
   ]
  },
  {
   "cell_type": "markdown",
   "metadata": {},
   "source": [
    "The following example is non-conforming, because the `flush`, `barrier`,  `taskwait`, and `taskyield`  directives are stand-alone directives  and cannot be the immediate substatement of an `if` statement."
   ]
  },
  {
   "cell_type": "markdown",
   "metadata": {},
   "source": [
    ""
   ]
  },
  {
   "cell_type": "code",
   "execution_count": null,
   "metadata": {},
   "outputs": [],
   "source": [
    "//%compiler: clang\n",
 "//%cflags: -fopenmp\n",
 "\n",
    "/*\n",
    "* name: standalone.1c\n",
    "* type: C\n",
    "* version: omp_3.1\n",
    "*/\n",
    "\n",
    "void standalone_wrong()\n",
    "{\n",
    "  int a = 1;\n",
    "\n",
    " if (a != 0)\n",
    "  #pragma omp flush(a)\n",
    "/* incorrect as flush cannot be immediate substatement\n",
    "   of if statement */\n",
    "\n",
    " if (a != 0)\n",
    "  #pragma omp barrier\n",
    "/* incorrect as barrier cannot be immediate substatement\n",
    "   of if statement */\n",
    "\n",
    " if (a!=0)\n",
    "  #pragma omp taskyield\n",
    "/* incorrect as taskyield cannot be immediate substatement of if statement\n",
    "*/\n",
    "\n",
    " if (a != 0)\n",
    "  #pragma omp taskwait\n",
    "/* incorrect as taskwait cannot be immediate substatement\n",
    "   of if statement */\n",
    "\n",
    "}\n",
    "\n"
   ]
  },
  {
   "cell_type": "markdown",
   "metadata": {},
   "source": [
    ""
   ]
  },
  {
   "cell_type": "markdown",
   "metadata": {},
   "source": [
    "The following example is non-conforming, because the `flush`, `barrier`,  `taskwait`, and `taskyield`  directives are stand-alone directives  and cannot be the action statement of an `if` statement or a labeled branch  target."
   ]
  },
  {
   "cell_type": "markdown",
   "metadata": {},
   "source": [
    ""
   ]
  },
  {
   "cell_type": "code",
   "execution_count": null,
   "metadata": {},
   "outputs": [],
   "source": [
    "\n",
    "! name: standalone.1f\n",
    "! type: F-free\n",
    "! version:     omp_3.1\n",
    "\n",
    "\n",
    "SUBROUTINE STANDALONE_WRONG()\n",
    "\n",
    "  INTEGER  A\n",
    "\n",
    "  A = 1\n",
    "\n",
    "  ! the FLUSH directive must not be the action statement\n",
    "  ! in an IF statement\n",
    "  IF (A .NE. 0) !$OMP FLUSH(A)\n",
    "\n",
    "  ! the BARRIER directive must not be the action statement\n",
    "  ! in an IF statement\n",
    "  IF (A .NE. 0) !$OMP BARRIER\n",
    "\n",
    "  ! the TASKWAIT directive must not be the action statement\n",
    "  ! in an IF statement\n",
    "  IF (A .NE. 0) !$OMP TASKWAIT\n",
    "\n",
    "  ! the TASKYIELD directive must not be the action statement\n",
    "  ! in an IF statement\n",
    "  IF (A .NE. 0) !$OMP TASKYIELD\n",
    "\n",
    "  GOTO 100\n",
    "\n",
    "  ! the FLUSH directive must not be a labeled branch target\n",
    "  ! statement\n",
    "  100 !$OMP FLUSH(A)\n",
    "  GOTO 200\n",
    "\n",
    "  ! the BARRIER directive must not be a labeled branch target\n",
    "  ! statement\n",
    "  200 !$OMP BARRIER\n",
    "  GOTO 300\n",
    "\n",
    "  ! the TASKWAIT directive must not be a labeled branch target\n",
    "  ! statement\n",
    "  300 !$OMP TASKWAIT\n",
    "  GOTO 400\n",
    "\n",
    "  ! the TASKYIELD directive must not be a labeled branch target\n",
    "  ! statement\n",
    "  400 !$OMP TASKYIELD\n",
    "\n",
    "END SUBROUTINE\n",
    "\n"
   ]
  },
  {
   "cell_type": "markdown",
   "metadata": {},
   "source": [
    ""
   ]
  },
  {
   "cell_type": "markdown",
   "metadata": {},
   "source": [
    "The following version of the above example is conforming because the `flush`,  `barrier`, `taskwait`, and `taskyield` directives are enclosed  in a compound statement."
   ]
  },
  {
   "cell_type": "markdown",
   "metadata": {},
   "source": [
    ""
   ]
  },
  {
   "cell_type": "code",
   "execution_count": null,
   "metadata": {},
   "outputs": [],
   "source": [
    "//%compiler: clang\n",
 "//%cflags: -fopenmp\n",
 "\n",
    "/*\n",
    "* name: standalone.2c\n",
    "* type: C\n",
    "* version: omp_3.1\n",
    "*/\n",
    "void standalone_ok()\n",
    "{\n",
    "  int a = 1;\n",
    "\n",
    "  #pragma omp parallel\n",
    "  {\n",
    "     if (a != 0) {\n",
    "  #pragma omp flush(a)\n",
    "     }\n",
    "     if (a != 0) {\n",
    "  #pragma omp barrier\n",
    "     }\n",
    "     if (a != 0) {\n",
    "  #pragma omp taskwait\n",
    "     }\n",
    " if (a != 0) {\n",
    "  #pragma omp taskyield\n",
    " }\n",
    "  }\n",
    "}\n",
    "\n"
   ]
  },
  {
   "cell_type": "markdown",
   "metadata": {},
   "source": [
    ""
   ]
  },
  {
   "cell_type": "markdown",
   "metadata": {},
   "source": [
    "The following example is conforming because the `flush`, `barrier`,  `taskwait`, and `taskyield` directives are enclosed in an `if`  construct or follow the labeled branch target."
   ]
  },
  {
   "cell_type": "markdown",
   "metadata": {},
   "source": [
    ""
   ]
  },
  {
   "cell_type": "code",
   "execution_count": null,
   "metadata": {},
   "outputs": [],
   "source": [
    "\n",
    "! name: standalone.2f\n",
    "! type: F-free\n",
    "! version:     omp_3.1\n",
    "SUBROUTINE STANDALONE_OK()\n",
    "  INTEGER  A\n",
    "  A = 1\n",
    "  IF (A .NE. 0) THEN\n",
    "    !$OMP FLUSH(A)\n",
    "  ENDIF\n",
    "  IF (A .NE. 0) THEN\n",
    "    !$OMP BARRIER\n",
    "  ENDIF\n",
    "  IF (A .NE. 0) THEN\n",
    "    !$OMP TASKWAIT\n",
    "  ENDIF\n",
    "  IF (A .NE. 0) THEN\n",
    "    !$OMP TASKYIELD\n",
    "  ENDIF\n",
    "  GOTO 100\n",
    "  100 CONTINUE\n",
    "  !$OMP FLUSH(A)\n",
    "  GOTO 200\n",
    "  200 CONTINUE\n",
    "  !$OMP BARRIER\n",
    "  GOTO 300\n",
    "  300 CONTINUE\n",
    "  !$OMP TASKWAIT\n",
    "  GOTO 400\n",
    "  400 CONTINUE\n",
    "  !$OMP TASKYIELD\n",
    "END SUBROUTINE\n",
    "\n"
   ]
  },
  {
   "cell_type": "markdown",
   "metadata": {},
   "source": [
    ""
   ]
  },
  {
   "cell_type": "markdown",
   "metadata": {},
   "source": [
    ""
   ]
  },
  {
   "cell_type": "markdown",
   "metadata": {},
   "source": [
    ""
   ]
  }
 ],
 "metadata": {
  "kernelspec": {
   "display_name": "Native",
   "language": "native",
   "name": "native"
  },
  "language_info": {
   "file_extension": ".c",
   "mimetype": "text/plain",
   "name": "none"
  }
 },
 "nbformat": 4,
 "nbformat_minor": 2
}