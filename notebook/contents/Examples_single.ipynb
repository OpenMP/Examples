{
 "cells": [
  {
   "cell_type": "markdown",
   "metadata": {},
   "source": [
    ""
   ]
  },
  {
   "cell_type": "markdown",
   "metadata": {},
   "source": [
    "## The `single` Construct"
   ]
  },
  {
   "cell_type": "markdown",
   "metadata": {},
   "source": [
    ""
   ]
  },
  {
   "cell_type": "markdown",
   "metadata": {},
   "source": [
    "The following example demonstrates the `single` construct. In the example,  only one thread prints each of the progress messages. All other threads will skip  the `single` region and stop at the barrier at the end of the `single`  construct until all threads in the team have reached the barrier. If other threads  can proceed without waiting for the thread executing the `single` region,  a `nowait` clause can be specified, as is done in the third `single`  construct in this example. The user must not make any assumptions as to which thread  will execute a `single` region."
   ]
  },
  {
   "cell_type": "markdown",
   "metadata": {},
   "source": [
    ""
   ]
  },
  {
   "cell_type": "code",
   "execution_count": null,
   "metadata": {},
   "outputs": [],
   "source": [
    "//%compiler: clang\n",
 "//%cflags: -fopenmp\n",
 "\n",
    "/*\n",
    "* name: single.1c\n",
    "* type: C\n",
    "*/\n",
    "#include <stdio.h>\n",
    "\n",
    "void work1() {}\n",
    "void work2() {}\n",
    "\n",
    "void single_example()\n",
    "{\n",
    "  #pragma omp parallel\n",
    "  {\n",
    "    #pragma omp single\n",
    "      printf(\"Beginning work1.\\n\");\n",
    "\n",
    "    work1();\n",
    "\n",
    "    #pragma omp single\n",
    "      printf(\"Finishing work1.\\n\");\n",
    "\n",
    "    #pragma omp single nowait\n",
    "      printf(\"Finished work1 and beginning work2.\\n\");\n",
    "\n",
    "    work2();\n",
    "  }\n",
    "}\n",
    "\n"
   ]
  },
  {
   "cell_type": "markdown",
   "metadata": {},
   "source": [
    ""
   ]
  },
  {
   "cell_type": "markdown",
   "metadata": {},
   "source": [
    ""
   ]
  },
  {
   "cell_type": "code",
   "execution_count": null,
   "metadata": {},
   "outputs": [],
   "source": [
    "\n",
    "! name: single.1f\n",
    "! type: F-fixed\n",
    "      SUBROUTINE WORK1()\n",
    "      END SUBROUTINE WORK1\n",
    "\n",
    "      SUBROUTINE WORK2()\n",
    "      END SUBROUTINE WORK2\n",
    "\n",
    "      PROGRAM SINGLE_EXAMPLE\n",
    "!$OMP PARALLEL\n",
    "\n",
    "!$OMP SINGLE\n",
    "        print *, \"Beginning work1.\"\n",
    "!$OMP END SINGLE\n",
    "\n",
    "        CALL WORK1()\n",
    "\n",
    "!$OMP SINGLE\n",
    "        print *, \"Finishing work1.\"\n",
    "!$OMP END SINGLE\n",
    "\n",
    "!$OMP SINGLE\n",
    "        print *, \"Finished work1 and beginning work2.\"\n",
    "!$OMP END SINGLE NOWAIT\n",
    "\n",
    "        CALL WORK2()\n",
    "\n",
    "!$OMP END PARALLEL\n",
    "\n",
    "      END PROGRAM SINGLE_EXAMPLE\n",
    "\n"
   ]
  },
  {
   "cell_type": "markdown",
   "metadata": {},
   "source": [
    ""
   ]
  },
  {
   "cell_type": "markdown",
   "metadata": {},
   "source": [
    ""
   ]
  },
  {
   "cell_type": "markdown",
   "metadata": {},
   "source": [
    ""
   ]
  }
 ],
 "metadata": {
  "kernelspec": {
   "display_name": "Native",
   "language": "native",
   "name": "native"
  },
  "language_info": {
   "file_extension": ".c",
   "mimetype": "text/plain",
   "name": "none"
  }
 },
 "nbformat": 4,
 "nbformat_minor": 2
}