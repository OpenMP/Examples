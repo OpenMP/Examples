{
 "cells": [
  {
   "cell_type": "markdown",
   "metadata": {},
   "source": [
    " ### Restrictions on Nesting of Regions "
   ]
  },
  {
   "cell_type": "markdown",
   "metadata": {},
   "source": [
    " The examples in this section illustrate the region nesting rules.  "
   ]
  },
  {
   "cell_type": "markdown",
   "metadata": {},
   "source": [
    " The following example is non-conforming because the inner and outer loop regions  are closely nested: "
   ]
  },
  {
   "cell_type": "code",
   "execution_count": null,
   "metadata": {},
   "outputs": [],
   "source": [
    "%load ../sources/Example_nesting_restrict.1.c "
   ]
  },
  {
   "cell_type": "code",
   "execution_count": null,
   "metadata": {},
   "outputs": [],
   "source": [
    "%load ../sources/Example_nesting_restrict.1.f "
   ]
  },
  {
   "cell_type": "markdown",
   "metadata": {},
   "source": [
    " The following orphaned version of the preceding example is also non-conforming: "
   ]
  },
  {
   "cell_type": "code",
   "execution_count": null,
   "metadata": {},
   "outputs": [],
   "source": [
    "%load ../sources/Example_nesting_restrict.2.c "
   ]
  },
  {
   "cell_type": "code",
   "execution_count": null,
   "metadata": {},
   "outputs": [],
   "source": [
    "%load ../sources/Example_nesting_restrict.2.f "
   ]
  },
  {
   "cell_type": "markdown",
   "metadata": {},
   "source": [
    " The following example is non-conforming because the loop and  `single`  regions  are closely nested: "
   ]
  },
  {
   "cell_type": "code",
   "execution_count": null,
   "metadata": {},
   "outputs": [],
   "source": [
    "%load ../sources/Example_nesting_restrict.3.c "
   ]
  },
  {
   "cell_type": "code",
   "execution_count": null,
   "metadata": {},
   "outputs": [],
   "source": [
    "%load ../sources/Example_nesting_restrict.3.f "
   ]
  },
  {
   "cell_type": "markdown",
   "metadata": {},
   "source": [
    " The following example is non-conforming because a  `barrier`  region cannot  be closely nested inside a loop region: "
   ]
  },
  {
   "cell_type": "code",
   "execution_count": null,
   "metadata": {},
   "outputs": [],
   "source": [
    "%load ../sources/Example_nesting_restrict.4.c "
   ]
  },
  {
   "cell_type": "code",
   "execution_count": null,
   "metadata": {},
   "outputs": [],
   "source": [
    "%load ../sources/Example_nesting_restrict.4.f "
   ]
  },
  {
   "cell_type": "markdown",
   "metadata": {},
   "source": [
    " The following example is non-conforming because the  `barrier`  region cannot  be closely nested inside the  `critical`  region. If this were permitted,  it would result in deadlock due to the fact that only one thread at a time can  enter the  `critical`  region: "
   ]
  },
  {
   "cell_type": "code",
   "execution_count": null,
   "metadata": {},
   "outputs": [],
   "source": [
    "%load ../sources/Example_nesting_restrict.5.c "
   ]
  },
  {
   "cell_type": "code",
   "execution_count": null,
   "metadata": {},
   "outputs": [],
   "source": [
    "%load ../sources/Example_nesting_restrict.5.f "
   ]
  },
  {
   "cell_type": "markdown",
   "metadata": {},
   "source": [
    " The following example is non-conforming because the  `barrier`  region cannot  be closely nested inside the  `single`  region. If this were permitted, it  would result in deadlock due to the fact that only one thread executes the  `single`   region: "
   ]
  },
  {
   "cell_type": "code",
   "execution_count": null,
   "metadata": {},
   "outputs": [],
   "source": [
    "%load ../sources/Example_nesting_restrict.6.c "
   ]
  },
  {
   "cell_type": "code",
   "execution_count": null,
   "metadata": {},
   "outputs": [],
   "source": [
    "%load ../sources/Example_nesting_restrict.6.f "
   ]
  },
  {
   "cell_type": "markdown",
   "metadata": {},
   "source": [
    "---end--- "
   ]
  }
 ],
 "metadata": {
  "kernelspec": {
   "display_name": "C",
   "language": "c",
   "name": "c"
  },
  "language_info": {
   "file_extension": ".c",
   "mimetype": "text/plain",
   "name": "c"
  }
 },
 "nbformat": 4,
 "nbformat_minor": 2
}
