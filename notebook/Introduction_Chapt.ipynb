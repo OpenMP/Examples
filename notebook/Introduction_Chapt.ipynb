{
 "cells": [
{
 "cell_type": "markdown",
 "metadata": {},
 "source": [
  " \n",
" This is the introduction for the OpenMP Examples document. \n",
" This is an included file. See the master file (openmp-examples.tex) for more information. \n",
" \n",
" When editing this file: \n",
" \n",
"    1. To change formatting, appearance, or style, please edit openmp.sty. \n",
" \n",
"    2. Custom commands and macros are defined in openmp.sty. \n",
" \n",
"    3. Be kind to other editors -- keep a consistent style by copying-and-pasting to \n",
"       create new content. \n",
" \n",
"    4. We use semantic markup, e.g. (see openmp.sty for a full list): \n",
"          ``      \n",
" for bold monospace keywords, code, operators, etc. \n",
"          __       \n",
" for italic placeholder names, grammar, etc. \n",
" \n",
"    5. Other recommendations: \n",
"         Use the convenience macros defined in openmp.sty for the minor headers \n",
"         such as Comments, Syntax, etc. \n",
" \n",
"         To keep items together on the same page, prefer the use of  \n",
"         .... Avoid parbox for text blocks as it interrupts line numbering. \n",
"         When possible, avoid filbreak, , newpage, clearpage unless that's \n",
"         what you mean. Use needspace{} cautiously for troublesome paragraphs. \n",
" \n",
"         Avoid absolute lengths and measures in this file; use relative units when possible. \n",
"         Vertical space can be relative to baselineskip or ex units. Horizontal space \n",
"         can be relative to linewidth or em units. \n",
" \n",
"         Prefer emph{} to italicize terminology, e.g.: \n",
"             This is a emph{definition}, not a placeholder. \n",
"             This is a  _var-name_ . \n",
""
   ]
  },
{
 "cell_type": "markdown",
 "metadata": {},
 "source": [
  "chapter*{Introduction}"
   ]
  },
{
 "cell_type": "markdown",
 "metadata": {},
 "source": [
  " addcontentsline{toc}{chapter}{protectnumberline{}Introduction} This collection of programming examples supplements the OpenMP API for Shared Memory Parallelization specifications, and is not part of the formal specifications. It assumes familiarity with the OpenMP specifications, and shares the typographical conventions used in that document."
   ]
  },
{
 "cell_type": "markdown",
 "metadata": {},
 "source": [
  " notestart noteheader – This first release of the OpenMP Examples reflects the OpenMP Version 4.5 specifications. Additional examples are being developed and will be published in future releases of this document. noteend"
   ]
  },
{
 "cell_type": "markdown",
 "metadata": {},
 "source": [
  " The OpenMP API specification provides a model for parallel programming that is portable across shared memory architectures from different vendors. Compilers from numerous vendors support the OpenMP API."
   ]
  },
{
 "cell_type": "markdown",
 "metadata": {},
 "source": [
  " The directives, library routines, and environment variables demonstrated in this document allow users to create and manage parallel programs while permitting portability. The directives extend the C, C++ and Fortran base languages with single program multiple data (SPMD) constructs, tasking constructs, device constructs, worksharing constructs, and synchronization constructs, and they provide support for sharing and privatizing data. The functionality to control the runtime environment is provided by library routines and environment variables. Compilers that support the OpenMP API often include a command line option to the compiler that activates and allows interpretation of all OpenMP directives."
   ]
  },
{
 "cell_type": "markdown",
 "metadata": {},
 "source": [
  " The latest source codes for OpenMP Examples can be downloaded from the  `sources`  directory at  https://github.com/OpenMP/Examples  The codes for this OpenMP VER{} Examples document have the tag  _vVER_ ."
   ]
  },
{
 "cell_type": "markdown",
 "metadata": {},
 "source": [
  " \n",
" https://github.com/OpenMP/Examples/tree/master/sources "
   ]
  },
{
 "cell_type": "markdown",
 "metadata": {},
 "source": [
  " Complete information about the OpenMP API and a list of the compilers that support the OpenMP API can be found at the OpenMP.org web site"
   ]
  },
{
 "cell_type": "markdown",
 "metadata": {},
 "source": [
  "  `http://www.openmp.org` "
   ]
  },
{
 "cell_type": "markdown",
 "metadata": {},
 "source": [
  " \n",
" This is the end of introduction.tex of the OpenMP Examples document."
   ]
  },
{
 "cell_type": "markdown",
 "metadata": {},
 "source": [
  "---end---"
   ]
  }
],
"metadata": {
 "kernelspec": {
  "display_name": "C",
  "language": "c",
  "name": "c"
 },
 "language_info": {
  "file_extension": ".c",
  "mimetype": "text/plain",
  "name": "c"
 }
},
"nbformat": 4,
"nbformat_minor": 2
}
