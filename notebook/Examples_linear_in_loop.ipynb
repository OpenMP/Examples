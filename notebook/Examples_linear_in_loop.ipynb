{
 "cells": [
{
 "cell_type": "markdown",
 "metadata": {},
 "source": [
  " ###  `linear`  Clause in Loop Constructs"
   ]
  },
{
 "cell_type": "markdown",
 "metadata": {},
 "source": [
  " The following example shows the use of the  `linear`  clause in a loop  construct to allow the proper parallelization of a loop that contains  an induction variable ( _j_ ).  At the end of the execution of  the loop construct, the original variable  _j_  is updated with  the value  _N/2_  from the last iteration of the loop."
   ]
  },
{
 "cell_type": "code",
 "execution_count": null,
 "metadata": {},
 "outputs": [],
 "source": [
 "%load ../sources/Example_linear_in_loop.1.c"
   ]
  },
{
 "cell_type": "code",
 "execution_count": null,
 "metadata": {},
 "outputs": [],
 "source": [
 "%load ../sources/Example_linear_in_loop.1.f90"
   ]
  },
{
 "cell_type": "markdown",
 "metadata": {},
 "source": [
  "---end---"
   ]
  }
],
"metadata": {
 "kernelspec": {
  "display_name": "C",
  "language": "c",
  "name": "c"
 },
 "language_info": {
  "file_extension": ".c",
  "mimetype": "text/plain",
  "name": "c"
 }
},
"nbformat": 4,
"nbformat_minor": 2
}
