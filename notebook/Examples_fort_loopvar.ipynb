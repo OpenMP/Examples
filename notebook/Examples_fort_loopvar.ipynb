{
 "cells": [
{
 "cell_type": "markdown",
 "metadata": {},
 "source": [
  " ### Fortran Private Loop Iteration Variables"
   ]
  },
{
 "cell_type": "markdown",
 "metadata": {},
 "source": [
  " fortranspecificstart"
   ]
  },
{
 "cell_type": "markdown",
 "metadata": {},
 "source": [
  " In general loop iteration variables will be private, when used in the  _do-loop_   of a  `do`  and  `parallel do`  construct or in sequential loops in a   `parallel`  construct (see Section 2.7.1 and Section 2.14.1 of  the OpenMP 4.0 specification). In the following example of a sequential  loop in a  `parallel`  construct the loop iteration variable  _I_  will  be private."
   ]
  },
{
 "cell_type": "code",
 "execution_count": null,
 "metadata": {},
 "outputs": [],
 "source": [
 "%load ../sources/Example_ffreenexamplefort_loopvar1"
   ]
  },
{
 "cell_type": "markdown",
 "metadata": {},
 "source": [
  " In exceptional cases, loop iteration variables can be made shared, as in the following  example:"
   ]
  },
{
 "cell_type": "code",
 "execution_count": null,
 "metadata": {},
 "outputs": [],
 "source": [
 "%load ../sources/Example_ffreenexamplefort_loopvar2"
   ]
  },
{
 "cell_type": "markdown",
 "metadata": {},
 "source": [
  " Note however that the use of shared loop iteration variables can easily lead to  race conditions. fortranspecificend"
   ]
  },
{
 "cell_type": "markdown",
 "metadata": {},
 "source": [
  "---end---"
   ]
  }
],
"metadata": {
 "kernelspec": {
  "display_name": "C",
  "language": "c",
  "name": "c"
 },
 "language_info": {
  "file_extension": ".c",
  "mimetype": "text/plain",
  "name": "c"
 }
},
"nbformat": 4,
"nbformat_minor": 2
}
