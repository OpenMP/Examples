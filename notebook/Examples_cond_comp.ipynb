{
 "cells": [
{
 "cell_type": "markdown",
 "metadata": {},
 "source": [
  " ### Conditional Compilation"
   ]
  },
{
 "cell_type": "markdown",
 "metadata": {},
 "source": [
  " ccppspecificstart The following example illustrates the use of conditional compilation using the  OpenMP macro  `_OPENMP` . With OpenMP compilation, the  `_OPENMP`   macro becomes defined."
   ]
  },
{
 "cell_type": "code",
 "execution_count": null,
 "metadata": {},
 "outputs": [],
 "source": [
 "%load ../sources/Example_cond_comp.1.c"
   ]
  },
{
 "cell_type": "markdown",
 "metadata": {},
 "source": [
  " ccppspecificend"
   ]
  },
{
 "cell_type": "markdown",
 "metadata": {},
 "source": [
  " fortranspecificstart The following example illustrates the use of the conditional compilation sentinel.  With OpenMP compilation, the conditional compilation sentinel  `!$`  is recognized  and treated as two spaces. In fixed form source, statements guarded by the sentinel  must start after column 6."
   ]
  },
{
 "cell_type": "code",
 "execution_count": null,
 "metadata": {},
 "outputs": [],
 "source": [
 "%load ../sources/Example_cond_comp.1.f"
   ]
  },
{
 "cell_type": "markdown",
 "metadata": {},
 "source": [
  " fortranspecificend"
   ]
  },
{
 "cell_type": "markdown",
 "metadata": {},
 "source": [
  "---end---"
   ]
  }
],
"metadata": {
 "kernelspec": {
  "display_name": "C",
  "language": "c",
  "name": "c"
 },
 "language_info": {
  "file_extension": ".c",
  "mimetype": "text/plain",
  "name": "c"
 }
},
"nbformat": 4,
"nbformat_minor": 2
}
