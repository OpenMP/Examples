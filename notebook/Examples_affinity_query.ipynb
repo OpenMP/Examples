{
 "cells": [
  {
   "cell_type": "markdown",
   "metadata": {},
   "source": [
    " ### Affinity Query Functions "
   ]
  },
  {
   "cell_type": "markdown",
   "metadata": {},
   "source": [
    " In the example below a team of threads is generated on each socket of the system, using nested parallelism. Several query functions are used to gather information to support the creation of the teams and to obtain  socket and thread numbers. "
   ]
  },
  {
   "cell_type": "markdown",
   "metadata": {},
   "source": [
    " For proper execution of the code, the user must create a place partition, such that each place is a listing of the core numbers for a socket. For example, in a 2 socket system with 8 cores in each socket, and sequential numbering in the socket for the core numbers, the  `OMP_PLACES`  variable would be set to '{0:8},{8:8}', using the place syntax { _lower_bound_ : _length_ : _stride_ }, and the default stride of 1. "
   ]
  },
  {
   "cell_type": "markdown",
   "metadata": {},
   "source": [
    " The code determines the number of sockets ( _n_sockets_ ) using the  `omp_get_num_places()`  query function. In this example each place is constructed with a list of  each socket's core numbers, hence the number of places is equal to the number of sockets.  "
   ]
  },
  {
   "cell_type": "markdown",
   "metadata": {},
   "source": [
    " The outer parallel region forms a team of threads, and each thread  executes on a socket (place) because the  `proc_bind`  clause uses   `spread`  in the outer  `parallel`  construct. Next, in the  _socket_init_  function, an inner parallel region creates a team  of threads equal to the number of elements (core numbers) from the place of the parent thread. Because the outer  `parallel`  construct uses  a  `spread`  affinity policy, each of its threads inherits a subpartition of  the original partition.  Hence, the  `omp_get_place_num_procs`  query function returns the number of elements (here procs = cores) in the subpartition of the thread.   After each parent thread creates its nested parallel region on the section, the socket number and thread number are reported. "
   ]
  },
  {
   "cell_type": "markdown",
   "metadata": {},
   "source": [
    " Note: Portable tools like hwloc (Portable HardWare LOCality package), which support many common operating systems, can be used to determine the configuration of a system.   On some systems there are utilities, files or user guides that provide configuration information.  For instance, the socket number and proc_id's for a socket  can be found in the /proc/cpuinfo text file on Linux systems. "
   ]
  },
  {
   "cell_type": "code",
   "execution_count": null,
   "metadata": {},
   "outputs": [],
   "source": [
    "%load ../sources/Example_affinity.6.c "
   ]
  },
  {
   "cell_type": "code",
   "execution_count": null,
   "metadata": {},
   "outputs": [],
   "source": [
    "%load ../sources/Example_affinity.6.f90 "
   ]
  },
  {
   "cell_type": "markdown",
   "metadata": {},
   "source": [
    "---end--- "
   ]
  }
 ],
 "metadata": {
  "kernelspec": {
   "display_name": "C",
   "language": "c",
   "name": "c"
  },
  "language_info": {
   "file_extension": ".c",
   "mimetype": "text/plain",
   "name": "c"
  }
 },
 "nbformat": 4,
 "nbformat_minor": 2
}
