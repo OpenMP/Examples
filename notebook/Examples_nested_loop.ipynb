{
 "cells": [
  {
   "cell_type": "markdown",
   "metadata": {},
   "source": [
    " ### Nested Loop Constructs"
   ]
  },
  {
   "cell_type": "markdown",
   "metadata": {},
   "source": [
    " The following example of loop construct nesting is conforming because the inner  and outer loop regions bind to different  `parallel`  regions:"
   ]
  },
  {
   "cell_type": "code",
   "execution_count": null,
   "metadata": {},
   "outputs": [],
   "source": [
    "%load ../sources/Example_nested_loop.1.c"
   ]
  },
  {
   "cell_type": "code",
   "execution_count": null,
   "metadata": {},
   "outputs": [],
   "source": [
    "%load ../sources/Example_nested_loop.1.f"
   ]
  },
  {
   "cell_type": "markdown",
   "metadata": {},
   "source": [
    " The following variation of the preceding example is also conforming:"
   ]
  },
  {
   "cell_type": "code",
   "execution_count": null,
   "metadata": {},
   "outputs": [],
   "source": [
    "%load ../sources/Example_nested_loop.2.c"
   ]
  },
  {
   "cell_type": "code",
   "execution_count": null,
   "metadata": {},
   "outputs": [],
   "source": [
    "%load ../sources/Example_nested_loop.2.f"
   ]
  },
  {
   "cell_type": "markdown",
   "metadata": {},
   "source": [
    "---end---"
   ]
  }
 ],
 "metadata": {
  "kernelspec": {
   "display_name": "C",
   "language": "c",
   "name": "c"
  },
  "language_info": {
   "file_extension": ".c",
   "mimetype": "text/plain",
   "name": "c"
  }
 },
 "nbformat": 4,
 "nbformat_minor": 2
}