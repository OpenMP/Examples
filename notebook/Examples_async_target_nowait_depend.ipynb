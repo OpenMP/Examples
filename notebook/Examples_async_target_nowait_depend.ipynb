{
 "cells": [
  {
   "cell_type": "markdown",
   "metadata": {},
   "source": [
    " \n",
"begin  #### Asynchronous  `target`  with  `nowait`  and  `depend`  Clauses"
   ]
  },
  {
   "cell_type": "markdown",
   "metadata": {},
   "source": [
    " More details on dependences can be found in , Task  Dependences. In this example, there are three flow dependences.  In the first two dependences the target task does not execute until the preceding explicit tasks have finished.   These  dependences are produced by arrays  _v1_  and  _v2_   with the  `out`  dependence type in the first two tasks, and the  `in`  dependence type in the target task.   "
   ]
  },
  {
   "cell_type": "markdown",
   "metadata": {},
   "source": [
    " The last dependence is produced by array  _p_   with the  `out`  dependence type in the target task, and the  `in`  dependence type in the last task.  The last task does not execute until the target task finishes.  "
   ]
  },
  {
   "cell_type": "markdown",
   "metadata": {},
   "source": [
    " The  `nowait`  clause on the  `target`  construct creates a deferrable  _target task_ , allowing the encountering task to continue execution without waiting for the completion of the  _target task_ ."
   ]
  },
  {
   "cell_type": "code",
   "execution_count": null,
   "metadata": {},
   "outputs": [],
   "source": [
    "%load ../sources/Example_async_target.4.c"
   ]
  },
  {
   "cell_type": "code",
   "execution_count": null,
   "metadata": {},
   "outputs": [],
   "source": [
    "%load ../sources/Example_async_target.4.f90"
   ]
  },
  {
   "cell_type": "markdown",
   "metadata": {},
   "source": [
    " \n",
"end"
   ]
  },
  {
   "cell_type": "markdown",
   "metadata": {},
   "source": [
    "---end---"
   ]
  }
 ],
 "metadata": {
  "kernelspec": {
   "display_name": "C",
   "language": "c",
   "name": "c"
  },
  "language_info": {
   "file_extension": ".c",
   "mimetype": "text/plain",
   "name": "c"
  }
 },
 "nbformat": 4,
 "nbformat_minor": 2
}