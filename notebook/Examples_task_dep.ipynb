{
 "cells": [
 {
  "cell_type": "markdown",
  "metadata": {},
  "source": [
   " ### Task Dependences "
   ]
  },
 {
  "cell_type": "markdown",
  "metadata": {},
  "source": [
   " #### Flow Dependence "
   ]
  },
 {
  "cell_type": "markdown",
  "metadata": {},
  "source": [
   " In this example we show a simple flow dependence expressed using the  `depend`   clause on the  `task`  construct. "
   ]
  },
 {
  "cell_type": "code",
  "execution_count": null,
  "metadata": {},
  "outputs": [],
  "source": [
   "%load ../sources/Example_task_dep.1.c "
   ]
  },
 {
  "cell_type": "code",
  "execution_count": null,
  "metadata": {},
  "outputs": [],
  "source": [
   "%load ../sources/Example_task_dep.1.f90 "
   ]
  },
 {
  "cell_type": "markdown",
  "metadata": {},
  "source": [
   " The program will always print  ' x = 2 ' , because the  `depend`   clauses enforce the ordering of the tasks. If the  `depend`  clauses had been  omitted, then the tasks could execute in any order and the program and the program  would have a race condition. "
   ]
  },
 {
  "cell_type": "markdown",
  "metadata": {},
  "source": [
   " #### Anti-dependence "
   ]
  },
 {
  "cell_type": "markdown",
  "metadata": {},
  "source": [
   " In this example we show an anti-dependence expressed using the  `depend`   clause on the  `task`  construct. "
   ]
  },
 {
  "cell_type": "code",
  "execution_count": null,
  "metadata": {},
  "outputs": [],
  "source": [
   "%load ../sources/Example_task_dep.2.c "
   ]
  },
 {
  "cell_type": "code",
  "execution_count": null,
  "metadata": {},
  "outputs": [],
  "source": [
   "%load ../sources/Example_task_dep.2.f90 "
   ]
  },
 {
  "cell_type": "markdown",
  "metadata": {},
  "source": [
   " The program will always print  ' x = 1 ' , because the  `depend`   clauses enforce the ordering of the tasks. If the  `depend`  clauses had been  omitted, then the tasks could execute in any order and the program would have a  race condition. "
   ]
  },
 {
  "cell_type": "markdown",
  "metadata": {},
  "source": [
   " #### Output Dependence "
   ]
  },
 {
  "cell_type": "markdown",
  "metadata": {},
  "source": [
   " In this example we show an output dependence expressed using the  `depend`   clause on the  `task`  construct. "
   ]
  },
 {
  "cell_type": "code",
  "execution_count": null,
  "metadata": {},
  "outputs": [],
  "source": [
   "%load ../sources/Example_task_dep.3.c "
   ]
  },
 {
  "cell_type": "code",
  "execution_count": null,
  "metadata": {},
  "outputs": [],
  "source": [
   "%load ../sources/Example_task_dep.3.f90 "
   ]
  },
 {
  "cell_type": "markdown",
  "metadata": {},
  "source": [
   " The program will always print  ' x = 2 ' , because the  `depend`   clauses enforce the ordering of the tasks. If the  `depend`  clauses had been  omitted, then the tasks could execute in any order and the program would have a  race condition. "
   ]
  },
 {
  "cell_type": "markdown",
  "metadata": {},
  "source": [
   " #### Concurrent Execution with Dependences "
   ]
  },
 {
  "cell_type": "markdown",
  "metadata": {},
  "source": [
   " In this example we show potentially concurrent execution of tasks using multiple  flow dependences expressed using the  `depend`  clause on the  `task`   construct. "
   ]
  },
 {
  "cell_type": "code",
  "execution_count": null,
  "metadata": {},
  "outputs": [],
  "source": [
   "%load ../sources/Example_task_dep.4.c "
   ]
  },
 {
  "cell_type": "code",
  "execution_count": null,
  "metadata": {},
  "outputs": [],
  "source": [
   "%load ../sources/Example_task_dep.4.f90 "
   ]
  },
 {
  "cell_type": "markdown",
  "metadata": {},
  "source": [
   " The last two tasks are dependent on the first task. However there is no dependence  between the last two tasks, which may execute in any order (or concurrently if  more than one thread is available). Thus, the possible outputs are  ' x  + 1 = 3. x + 2 = 4.  '  and  ' x + 2 = 4. x + 1 = 3.  ' .  If the  `depend`  clauses had been omitted, then all of the tasks could execute  in any order and the program would have a race condition. "
   ]
  },
 {
  "cell_type": "markdown",
  "metadata": {},
  "source": [
   " #### Matrix multiplication "
   ]
  },
 {
  "cell_type": "markdown",
  "metadata": {},
  "source": [
   " This example shows a task-based blocked matrix multiplication. Matrices are of  NxN elements, and the multiplication is implemented using blocks of BSxBS elements. "
   ]
  },
 {
  "cell_type": "code",
  "execution_count": null,
  "metadata": {},
  "outputs": [],
  "source": [
   "%load ../sources/Example_task_dep.5.c "
   ]
  },
 {
  "cell_type": "code",
  "execution_count": null,
  "metadata": {},
  "outputs": [],
  "source": [
   "%load ../sources/Example_task_dep.5.f90 "
   ]
  },
 {
  "cell_type": "markdown",
  "metadata": {},
  "source": [
   "---end--- "
   ]
  }
 ],
 "metadata": {
  "kernelspec": {
   "display_name": "C",
   "language": "c",
   "name": "c"
  },
  "language_info": {
   "file_extension": ".c",
   "mimetype": "text/plain",
   "name": "c"
  }
 },
 "nbformat": 4,
 "nbformat_minor": 2
}
