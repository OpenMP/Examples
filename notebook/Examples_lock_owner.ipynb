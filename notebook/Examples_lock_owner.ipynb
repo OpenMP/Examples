{
 "cells": [
  {
   "cell_type": "markdown",
   "metadata": {},
   "source": [
    " #### Ownership of Locks"
   ]
  },
  {
   "cell_type": "markdown",
   "metadata": {},
   "source": [
    " Ownership of locks has changed since OpenMP 2.5. In OpenMP 2.5, locks are owned  by threads; so a lock released by the  `omp_unset_lock`  routine must be  owned by the same thread executing the routine.  Beginning with OpenMP 3.0, locks are owned  by task regions; so a lock released by the  `omp_unset_lock`  routine in  a task region must be owned by the same task region."
   ]
  },
  {
   "cell_type": "markdown",
   "metadata": {},
   "source": [
    " This change in ownership requires extra care when using locks. The following program  is conforming in OpenMP 2.5 because the thread that releases the lock  `lck`   in the parallel region is the same thread that acquired the lock in the sequential  part of the program (master thread of parallel region and the initial thread are  the same). However, it is not conforming beginning with OpenMP 3.0, because the task  region that releases the lock  `lck`  is different from the task region that  acquires the lock."
   ]
  },
  {
   "cell_type": "code",
   "execution_count": null,
   "metadata": {},
   "outputs": [],
   "source": [
    "%load ../sources/Example_lock_owner.1.c"
   ]
  },
  {
   "cell_type": "code",
   "execution_count": null,
   "metadata": {},
   "outputs": [],
   "source": [
    "%load ../sources/Example_lock_owner.1.f"
   ]
  },
  {
   "cell_type": "markdown",
   "metadata": {},
   "source": [
    "---end---"
   ]
  }
 ],
 "metadata": {
  "kernelspec": {
   "display_name": "C",
   "language": "c",
   "name": "c"
  },
  "language_info": {
   "file_extension": ".c",
   "mimetype": "text/plain",
   "name": "c"
  }
 },
 "nbformat": 4,
 "nbformat_minor": 2
}