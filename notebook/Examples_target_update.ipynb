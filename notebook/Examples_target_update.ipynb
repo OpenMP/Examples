{
 "cells": [
 {
  "cell_type": "markdown",
  "metadata": {},
  "source": [
   " ###  `target`   `update`  Construct "
   ]
  },
 {
  "cell_type": "markdown",
  "metadata": {},
  "source": [
   " #### Simple  `target`   `data`  and  `target`   `update`  Constructs "
   ]
  },
 {
  "cell_type": "markdown",
  "metadata": {},
  "source": [
   " The following example shows how the  `target`   `update`  construct updates  variables in a device data environment. "
   ]
  },
 {
  "cell_type": "markdown",
  "metadata": {},
  "source": [
   " The  `target`   `data`  construct maps array sections  _v1[:N]_  and  _v2[:N]_   (arrays  _v1_  and  _v2_  in the Fortran code) into a device data environment. "
   ]
  },
 {
  "cell_type": "markdown",
  "metadata": {},
  "source": [
   " The task executing on the host device encounters the first  `target`  region  and waits for the completion of the region. "
   ]
  },
 {
  "cell_type": "markdown",
  "metadata": {},
  "source": [
   " After the execution of the first  `target`  region, the task executing on  the host device then assigns new values to  _v1[:N]_  and  _v2[:N]_  ( _v1_  and  _v2_  arrays  in Fortran code) in the task's data environment by calling the function  `init_again()` . "
   ]
  },
 {
  "cell_type": "markdown",
  "metadata": {},
  "source": [
   " The  `target`   `update`  construct assigns the new values of  _v1_  and   _v2_  from the task's data environment to the corresponding mapped array sections  in the device data environment of the  `target`   `data`  construct. "
   ]
  },
 {
  "cell_type": "markdown",
  "metadata": {},
  "source": [
   " The task executing on the host device then encounters the second  `target`   region and waits for the completion of the region. "
   ]
  },
 {
  "cell_type": "markdown",
  "metadata": {},
  "source": [
   " The second  `target`  region uses the updated values of  _v1[:N]_  and  _v2[:N]_ . "
   ]
  },
 {
  "cell_type": "code",
  "execution_count": null,
  "metadata": {},
  "outputs": [],
  "source": [
  "%load ../sources/Example_target_update.1.c "
   ]
  },
 {
  "cell_type": "code",
  "execution_count": null,
  "metadata": {},
  "outputs": [],
  "source": [
  "%load ../sources/Example_target_update.1.f90 "
   ]
  },
 {
  "cell_type": "markdown",
  "metadata": {},
  "source": [
   " ####  `target`   `update`  Construct with  `if`  Clause "
   ]
  },
 {
  "cell_type": "markdown",
  "metadata": {},
  "source": [
   " The following example shows how the  `target`   `update`  construct updates  variables in a device data environment. "
   ]
  },
 {
  "cell_type": "markdown",
  "metadata": {},
  "source": [
   " The  `target`   `data`  construct maps array sections  _v1[:N]_  and  _v2[:N]_   (arrays  _v1_  and  _v2_  in the Fortran code) into a device data environment. In between  the two  `target`  regions, the task executing on the host device conditionally  assigns new values to  _v1_  and  _v2_  in the task's data environment. The function  `maybe_init_again()`   returns  _true_  if new data is written. "
   ]
  },
 {
  "cell_type": "markdown",
  "metadata": {},
  "source": [
   " When the conditional expression (the return value of  `maybe_init_again()` ) in the   `if`  clause is  _true_ , the  `target`   `update`  construct  assigns the new values of  _v1_  and  _v2_  from the task's data environment to the corresponding  mapped array sections in the  `target`   `data`  construct's device data  environment. "
   ]
  },
 {
  "cell_type": "code",
  "execution_count": null,
  "metadata": {},
  "outputs": [],
  "source": [
  "%load ../sources/Example_target_update.2.c "
   ]
  },
 {
  "cell_type": "code",
  "execution_count": null,
  "metadata": {},
  "outputs": [],
  "source": [
  "%load ../sources/Example_target_update.2.f90 "
   ]
  },
 {
  "cell_type": "markdown",
  "metadata": {},
  "source": [
   "---end--- "
   ]
  }
],
"metadata": {
 "kernelspec": {
  "display_name": "C",
  "language": "c",
  "name": "c"
 },
 "language_info": {
  "file_extension": ".c",
  "mimetype": "text/plain",
  "name": "c"
 }
},
"nbformat": 4,
"nbformat_minor": 2
}
