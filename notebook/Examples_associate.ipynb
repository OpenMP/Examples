{
 "cells": [
{
 "cell_type": "markdown",
 "metadata": {},
 "source": [
  " ### Fortran  `ASSOCIATE`  Construct"
   ]
  },
{
 "cell_type": "markdown",
 "metadata": {},
 "source": [
  " fortranspecificstart"
   ]
  },
{
 "cell_type": "markdown",
 "metadata": {},
 "source": [
  " The following is an invalid example of specifying an associate name on a data-sharing attribute  clause. The constraint in the Data Sharing Attribute Rules section in the OpenMP  4.0 API Specifications states that an associate name preserves the association  with the selector established at the  `ASSOCIATE`  statement. The associate  name  _b_  is associated with the shared variable  _a_ . With the predetermined data-sharing  attribute rule, the associate name  _b_  is not allowed to be specified on the  `private`   clause."
   ]
  },
{
 "cell_type": "code",
 "execution_count": null,
 "metadata": {},
 "outputs": [],
 "source": [
 "%load ../sources/Example_associate.1.f"
   ]
  },
{
 "cell_type": "markdown",
 "metadata": {},
 "source": [
  " In next example, within the  `parallel`  construct, the association name  _thread_id_   is associated with the private copy of  _i_ . The print statement should output the  unique thread number."
   ]
  },
{
 "cell_type": "code",
 "execution_count": null,
 "metadata": {},
 "outputs": [],
 "source": [
 "%load ../sources/Example_associate.2.f"
   ]
  },
{
 "cell_type": "markdown",
 "metadata": {},
 "source": [
  " The following example illustrates the effect of specifying a selector name on a data-sharing  attribute clause. The associate name  _u_  is associated with  _v_  and the variable  _v_   is specified on the  `private`  clause of the  `parallel`  construct.  The construct association is established prior to the  `parallel`  region.  The association between  _u_  and the original  _v_  is retained (see the Data Sharing  Attribute Rules section in the OpenMP 4.0 API Specifications). Inside the  `parallel`   region,  _v_  has the value of -1 and  _u_  has the value of the original  _v_ ."
   ]
  },
{
 "cell_type": "code",
 "execution_count": null,
 "metadata": {},
 "outputs": [],
 "source": [
 "%load ../sources/Example_ffreenexampleassociate3"
   ]
  },
{
 "cell_type": "markdown",
 "metadata": {},
 "source": [
  " fortranspecificend"
   ]
  },
{
 "cell_type": "markdown",
 "metadata": {},
 "source": [
  "---end---"
   ]
  }
],
"metadata": {
 "kernelspec": {
  "display_name": "C",
  "language": "c",
  "name": "c"
 },
 "language_info": {
  "file_extension": ".c",
  "mimetype": "text/plain",
  "name": "c"
 }
},
"nbformat": 4,
"nbformat_minor": 2
}
