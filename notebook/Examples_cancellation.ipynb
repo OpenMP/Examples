{
 "cells": [
 {
  "cell_type": "markdown",
  "metadata": {},
  "source": [
   " ### Cancellation Constructs "
   ]
  },
 {
  "cell_type": "markdown",
  "metadata": {},
  "source": [
   " The following example shows how the  `cancel`  directive can be used to terminate  an OpenMP region. Although the  `cancel`  construct terminates the OpenMP  worksharing region, programmers must still track the exception through the pointer  ex and issue a cancellation for the  `parallel`  region if an exception has  been raised. The master thread checks the exception pointer to make sure that the  exception is properly handled in the sequential part. If cancellation of the  `parallel`   region has been requested, some threads might have executed  `phase_1()` .  However, it is guaranteed that none of the threads executed  `phase_2()` . "
   ]
  },
 {
  "cell_type": "code",
  "execution_count": null,
  "metadata": {},
  "outputs": [],
  "source": [
   "%load ../sources/Example_cancellation.1.cpp "
   ]
  },
 {
  "cell_type": "markdown",
  "metadata": {},
  "source": [
   " The following example illustrates the use of the  `cancel`  construct in error  handling. If there is an error condition from the  `allocate`  statement,  the cancellation is activated. The encountering thread sets the shared variable   `err`  and other threads of the binding thread set proceed to the end of  the worksharing construct after the cancellation has been activated.  "
   ]
  },
 {
  "cell_type": "code",
  "execution_count": null,
  "metadata": {},
  "outputs": [],
  "source": [
   "%load ../sources/Example_cancellation.1.f90 "
   ]
  },
 {
  "cell_type": "markdown",
  "metadata": {},
  "source": [
   " The following example shows how to cancel a parallel search on a binary tree as  soon as the search value has been detected. The code creates a task to descend  into the child nodes of the current tree node. If the search value has been found,  the code remembers the tree node with the found value through an  `atomic`   write to the result variable and then cancels execution of all search tasks. The  function  `search_tree_parallel`  groups all search tasks into a single  task group to control the effect of the  `cancel taskgroup`  directive. The   _level_  argument is used to create undeferred tasks after the first ten  levels of the tree. "
   ]
  },
 {
  "cell_type": "code",
  "execution_count": null,
  "metadata": {},
  "outputs": [],
  "source": [
   "%load ../sources/Example_cancellation.2.c "
   ]
  },
 {
  "cell_type": "markdown",
  "metadata": {},
  "source": [
   " The following is the equivalent parallel search example in Fortran. "
   ]
  },
 {
  "cell_type": "code",
  "execution_count": null,
  "metadata": {},
  "outputs": [],
  "source": [
   "%load ../sources/Example_cancellation.2.f90 "
   ]
  },
 {
  "cell_type": "markdown",
  "metadata": {},
  "source": [
   "---end--- "
   ]
  }
 ],
 "metadata": {
  "kernelspec": {
   "display_name": "C",
   "language": "c",
   "name": "c"
  },
  "language_info": {
   "file_extension": ".c",
   "mimetype": "text/plain",
   "name": "c"
  }
 },
 "nbformat": 4,
 "nbformat_minor": 2
}
