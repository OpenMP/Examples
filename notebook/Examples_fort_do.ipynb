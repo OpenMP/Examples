{
 "cells": [
 {
  "cell_type": "markdown",
  "metadata": {},
  "source": [
   " ### Fortran Restrictions on the  `do`  Construct "
   ]
  },
 {
  "cell_type": "markdown",
  "metadata": {},
  "source": [
   " fortranspecificstart "
   ]
  },
 {
  "cell_type": "markdown",
  "metadata": {},
  "source": [
   " If an  `end do`  directive follows a  _do-construct_   in which several   `DO`  statements share a  `DO`  termination statement, then a   `do`   directive can only be specified for the outermost of these  `DO`  statements.  The following example contains correct usages of loop constructs: "
   ]
  },
 {
  "cell_type": "code",
  "execution_count": null,
  "metadata": {},
  "outputs": [],
  "source": [
  "%load ../sources/Example_fort_do.1.f "
   ]
  },
 {
  "cell_type": "markdown",
  "metadata": {},
  "source": [
   " The following example is non-conforming because the matching  `do`  directive  for the  `end do`  does not precede the outermost loop: "
   ]
  },
 {
  "cell_type": "code",
  "execution_count": null,
  "metadata": {},
  "outputs": [],
  "source": [
  "%load ../sources/Example_fort_do.2.f "
   ]
  },
 {
  "cell_type": "markdown",
  "metadata": {},
  "source": [
   " fortranspecificend "
   ]
  },
 {
  "cell_type": "markdown",
  "metadata": {},
  "source": [
   "---end--- "
   ]
  }
],
"metadata": {
 "kernelspec": {
  "display_name": "C",
  "language": "c",
  "name": "c"
 },
 "language_info": {
  "file_extension": ".c",
  "mimetype": "text/plain",
  "name": "c"
 }
},
"nbformat": 4,
"nbformat_minor": 2
}
