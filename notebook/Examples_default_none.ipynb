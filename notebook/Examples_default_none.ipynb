{
 "cells": [
{
 "cell_type": "markdown",
 "metadata": {},
 "source": [
  " ### The  `default(none)`  Clause"
   ]
  },
{
 "cell_type": "markdown",
 "metadata": {},
 "source": [
  " The following example distinguishes the variables that are affected by the  `default(none)`   clause from those that are not. "
   ]
  },
{
 "cell_type": "markdown",
 "metadata": {},
 "source": [
  " ccppspecificstart Beginning with OpenMP 4.0, variables with  `const` -qualified type and no mutable member  are no longer predetermined shared.  Thus, these variables (variable  _c_  in the example)  need to be explicitly listed in data-sharing attribute clauses when the  `default(none)`  clause is specified."
   ]
  },
{
 "cell_type": "code",
 "execution_count": null,
 "metadata": {},
 "outputs": [],
 "source": [
 "%load ../sources/Example_default_none.1.c"
   ]
  },
{
 "cell_type": "markdown",
 "metadata": {},
 "source": [
  " ccppspecificend"
   ]
  },
{
 "cell_type": "code",
 "execution_count": null,
 "metadata": {},
 "outputs": [],
 "source": [
 "%load ../sources/Example_default_none.1.f"
   ]
  },
{
 "cell_type": "markdown",
 "metadata": {},
 "source": [
  "---end---"
   ]
  }
],
"metadata": {
 "kernelspec": {
  "display_name": "C",
  "language": "c",
  "name": "c"
 },
 "language_info": {
  "file_extension": ".c",
  "mimetype": "text/plain",
  "name": "c"
 }
},
"nbformat": 4,
"nbformat_minor": 2
}
