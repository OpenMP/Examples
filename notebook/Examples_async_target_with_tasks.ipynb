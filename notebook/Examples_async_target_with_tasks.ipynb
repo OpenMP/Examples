{
 "cells": [
{
 "cell_type": "markdown",
 "metadata": {},
 "source": [
  " #### Asynchronous  `target`  with Tasks"
   ]
  },
{
 "cell_type": "markdown",
 "metadata": {},
 "source": [
  " The following example shows how the  `task`  and  `target`  constructs  are used to execute multiple  `target`  regions asynchronously. The task that  encounters the  `task`  construct generates an explicit task that contains  a  `target`  region. The thread executing the explicit task encounters a task  scheduling point while waiting for the execution of the  `target`  region  to complete, allowing the thread to switch back to the execution of the encountering  task or one of the previously generated explicit tasks."
   ]
  },
{
 "cell_type": "code",
 "execution_count": null,
 "metadata": {},
 "outputs": [],
 "source": [
 "%load ../sources/Example_async_target.1.c"
   ]
  },
{
 "cell_type": "markdown",
 "metadata": {},
 "source": [
  " The Fortran version has an interface block that contains the  `declare`   `target` .  An identical statement exists in the function declaration (not shown here)."
   ]
  },
{
 "cell_type": "code",
 "execution_count": null,
 "metadata": {},
 "outputs": [],
 "source": [
 "%load ../sources/Example_async_target.1.f90"
   ]
  },
{
 "cell_type": "markdown",
 "metadata": {},
 "source": [
  " The following example shows how the  `task`  and  `target`  constructs  are used to execute multiple  `target`  regions asynchronously. The task dependence  ensures that the storage is allocated and initialized on the device before it is  accessed."
   ]
  },
{
 "cell_type": "code",
 "execution_count": null,
 "metadata": {},
 "outputs": [],
 "source": [
 "%load ../sources/Example_async_target.2.c"
   ]
  },
{
 "cell_type": "markdown",
 "metadata": {},
 "source": [
  " The Fortran example below is similar to the C version above. Instead of pointers, though, it uses the convenience of Fortran allocatable arrays on the device. In order to preserve the arrays  allocated on the device across multiple  `target`  regions, a  `target` ~ `data`  region  is used in this case."
   ]
  },
{
 "cell_type": "markdown",
 "metadata": {},
 "source": [
  " If there is no shape specified for an allocatable array in a  `map`  clause, only the array descriptor (also called a dope vector) is mapped. That is, device space is created for the descriptor, and it is initially populated with host values. In this case, the  _v1_  and  _v2_  arrays will be in a non-associated state on the device. When space for  _v1_  and  _v2_  is allocated on the device in the first  `target`  region the addresses to the space will be included in their descriptors."
   ]
  },
{
 "cell_type": "markdown",
 "metadata": {},
 "source": [
  " At the end of the first  `target`  region, the arrays  _v1_  and  _v2_  are preserved on the device  for access in the second  `target`  region. At the end of the second  `target`  region, the data  in array  _p_  is copied back, the arrays  _v1_  and  _v2_  are not."
   ]
  },
{
 "cell_type": "markdown",
 "metadata": {},
 "source": [
  " A  `depend`  clause is used in the  `task`  directive to provide a wait at the beginning of the second   `target`  region, to insure that there is no race condition with  _v1_  and  _v2_  in the two tasks. It would be noncompliant to use  _v1_  and/or  _v2_  in lieu of  _N_  in the  `depend`  clauses,  because the use of non-allocated allocatable arrays as list items in a  `depend`  clause would  lead to unspecified behavior. "
   ]
  },
{
 "cell_type": "markdown",
 "metadata": {},
 "source": [
  " noteheader{--} This example is not strictly compliant with the OpenMP 4.5 specification since the allocation status of allocatable arrays  _v1_  and  _v2_  is changed inside the  `target`  region, which is not allowed. (See the restrictions for the  `map`  clause in the  _Data-mapping Attribute Rules and Clauses_   section of the specification.) However, the intention is to relax the restrictions on mapping of allocatable variables in the next release of the specification so that the example will be compliant."
   ]
  },
{
 "cell_type": "code",
 "execution_count": null,
 "metadata": {},
 "outputs": [],
 "source": [
 "%load ../sources/Example_async_target.2.f90"
   ]
  },
{
 "cell_type": "markdown",
 "metadata": {},
 "source": [
  "---end---"
   ]
  }
],
"metadata": {
 "kernelspec": {
  "display_name": "C",
  "language": "c",
  "name": "c"
 },
 "language_info": {
  "file_extension": ".c",
  "mimetype": "text/plain",
  "name": "c"
 }
},
"nbformat": 4,
"nbformat_minor": 2
}
