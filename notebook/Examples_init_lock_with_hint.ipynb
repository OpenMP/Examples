{
 "cells": [
 {
  "cell_type": "markdown",
  "metadata": {},
  "source": [
   " \n",
" #### The  `omp_init_lock_with_hint`  Routine "
   ]
  },
 {
  "cell_type": "markdown",
  "metadata": {},
  "source": [
   " The following example demonstrates how to initialize an array of locks in a  `parallel`  region by using  `omp_init_lock_with_hint` . Note, hints are combined with an  `|`  or  `+`  operator in C/C++ and a  `+`  operator in Fortran. "
   ]
  },
 {
  "cell_type": "code",
  "execution_count": null,
  "metadata": {},
  "outputs": [],
  "source": [
   "%load ../sources/Example_init_lock_with_hint.1.cpp "
   ]
  },
 {
  "cell_type": "code",
  "execution_count": null,
  "metadata": {},
  "outputs": [],
  "source": [
   "%load ../sources/Example_init_lock_with_hint.1.f "
   ]
  },
 {
  "cell_type": "markdown",
  "metadata": {},
  "source": [
   "---end--- "
   ]
  }
 ],
 "metadata": {
  "kernelspec": {
   "display_name": "C",
   "language": "c",
   "name": "c"
  },
  "language_info": {
   "file_extension": ".c",
   "mimetype": "text/plain",
   "name": "c"
  }
 },
 "nbformat": 4,
 "nbformat_minor": 2
}
