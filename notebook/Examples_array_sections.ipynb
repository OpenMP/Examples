{
 "cells": [
{
 "cell_type": "markdown",
 "metadata": {},
 "source": [
  " ### Array Sections in Device Constructs"
   ]
  },
{
 "cell_type": "markdown",
 "metadata": {},
 "source": [
  " The following examples show the usage of array sections in  `map`  clauses  on  `target`  and  `target`   `data`  constructs."
   ]
  },
{
 "cell_type": "markdown",
 "metadata": {},
 "source": [
  " This example shows the invalid usage of two seperate sections of the same array  inside of a  `target`  construct."
   ]
  },
{
 "cell_type": "code",
 "execution_count": null,
 "metadata": {},
 "outputs": [],
 "source": [
 "%load ../sources/Example_array_sections.1.c"
   ]
  },
{
 "cell_type": "code",
 "execution_count": null,
 "metadata": {},
 "outputs": [],
 "source": [
 "%load ../sources/Example_array_sections.1.f90"
   ]
  },
{
 "cell_type": "markdown",
 "metadata": {},
 "source": [
  " This example shows the invalid usage of two separate sections of the same array  inside of a  `target`  construct."
   ]
  },
{
 "cell_type": "code",
 "execution_count": null,
 "metadata": {},
 "outputs": [],
 "source": [
 "%load ../sources/Example_array_sections.2.c"
   ]
  },
{
 "cell_type": "code",
 "execution_count": null,
 "metadata": {},
 "outputs": [],
 "source": [
 "%load ../sources/Example_array_sections.2.f90"
   ]
  },
{
 "cell_type": "markdown",
 "metadata": {},
 "source": [
  " This example shows the valid usage of two separate sections of the same array inside  of a  `target`  construct."
   ]
  },
{
 "cell_type": "code",
 "execution_count": null,
 "metadata": {},
 "outputs": [],
 "source": [
 "%load ../sources/Example_array_sections.3.c"
   ]
  },
{
 "cell_type": "code",
 "execution_count": null,
 "metadata": {},
 "outputs": [],
 "source": [
 "%load ../sources/Example_array_sections.3.f90"
   ]
  },
{
 "cell_type": "markdown",
 "metadata": {},
 "source": [
  " This example shows the valid usage of a wholly contained array section of an already  mapped array section inside of a  `target`  construct."
   ]
  },
{
 "cell_type": "code",
 "execution_count": null,
 "metadata": {},
 "outputs": [],
 "source": [
 "%load ../sources/Example_array_sections.4.c"
   ]
  },
{
 "cell_type": "code",
 "execution_count": null,
 "metadata": {},
 "outputs": [],
 "source": [
 "%load ../sources/Example_array_sections.4.f90"
   ]
  },
{
 "cell_type": "markdown",
 "metadata": {},
 "source": [
  "---end---"
   ]
  }
],
"metadata": {
 "kernelspec": {
  "display_name": "C",
  "language": "c",
  "name": "c"
 },
 "language_info": {
  "file_extension": ".c",
  "mimetype": "text/plain",
  "name": "c"
 }
},
"nbformat": 4,
"nbformat_minor": 2
}
