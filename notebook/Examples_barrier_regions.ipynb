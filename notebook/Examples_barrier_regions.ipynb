{
 "cells": [
 {
  "cell_type": "markdown",
  "metadata": {},
  "source": [
   " ### Binding of  `barrier`  Regions "
   ]
  },
 {
  "cell_type": "markdown",
  "metadata": {},
  "source": [
   " The binding rules call for a  `barrier`  region to bind to the closest enclosing   `parallel`  region.  "
   ]
  },
 {
  "cell_type": "markdown",
  "metadata": {},
  "source": [
   " In the following example, the call from the main program to  _sub2_  is conforming  because the  `barrier`  region (in  _sub3_ ) binds to the  `parallel`   region in  _sub2_ . The call from the main program to  _sub1_  is conforming  because the  `barrier`  region binds to the  `parallel`  region in subroutine   _sub2_ . "
   ]
  },
 {
  "cell_type": "markdown",
  "metadata": {},
  "source": [
   " The call from the main program to  _sub3_  is conforming because the  `barrier`   region binds to the implicit inactive  `parallel`  region enclosing the sequential  part. Also note that the  `barrier`  region in  _sub3_  when called from   _sub2_  only synchronizes the team of threads in the enclosing  `parallel`   region and not all the threads created in  _sub1_ . "
   ]
  },
 {
  "cell_type": "code",
  "execution_count": null,
  "metadata": {},
  "outputs": [],
  "source": [
   "%load ../sources/Example_barrier_regions.1.c "
   ]
  },
 {
  "cell_type": "code",
  "execution_count": null,
  "metadata": {},
  "outputs": [],
  "source": [
   "%load ../sources/Example_barrier_regions.1.f "
   ]
  },
 {
  "cell_type": "markdown",
  "metadata": {},
  "source": [
   "---end--- "
   ]
  }
 ],
 "metadata": {
  "kernelspec": {
   "display_name": "C",
   "language": "c",
   "name": "c"
  },
  "language_info": {
   "file_extension": ".c",
   "mimetype": "text/plain",
   "name": "c"
  }
 },
 "nbformat": 4,
 "nbformat_minor": 2
}
