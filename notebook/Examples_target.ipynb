{
 "cells": [
  {
   "cell_type": "markdown",
   "metadata": {},
   "source": [
    " ###  `target`  Construct"
   ]
  },
  {
   "cell_type": "markdown",
   "metadata": {},
   "source": [
    " ####  `target`  Construct on  `parallel`  Construct"
   ]
  },
  {
   "cell_type": "markdown",
   "metadata": {},
   "source": [
    " This following example shows how the  `target`  construct offloads a code  region to a target device. The variables  _p_ ,  _v1_ ,  _v2_ , and  _N_  are implicitly mapped  to the target device."
   ]
  },
  {
   "cell_type": "code",
   "execution_count": null,
   "metadata": {},
   "outputs": [],
   "source": [
    "%load ../sources/Example_target.1.c"
   ]
  },
  {
   "cell_type": "code",
   "execution_count": null,
   "metadata": {},
   "outputs": [],
   "source": [
    "%load ../sources/Example_target.1.f90"
   ]
  },
  {
   "cell_type": "markdown",
   "metadata": {},
   "source": [
    " ####  `target`  Construct with  `map`  Clause"
   ]
  },
  {
   "cell_type": "markdown",
   "metadata": {},
   "source": [
    " This following example shows how the  `target`  construct offloads a code  region to a target device. The variables  _p_ ,  _v1_  and  _v2_  are explicitly mapped to the  target device using the  `map`  clause. The variable  _N_  is implicitly mapped to  the target device."
   ]
  },
  {
   "cell_type": "code",
   "execution_count": null,
   "metadata": {},
   "outputs": [],
   "source": [
    "%load ../sources/Example_target.2.c"
   ]
  },
  {
   "cell_type": "code",
   "execution_count": null,
   "metadata": {},
   "outputs": [],
   "source": [
    "%load ../sources/Example_target.2.f90"
   ]
  },
  {
   "cell_type": "markdown",
   "metadata": {},
   "source": [
    " ####  `map`  Clause with  `to` / `from`  map-types"
   ]
  },
  {
   "cell_type": "markdown",
   "metadata": {},
   "source": [
    " The following example shows how the  `target`  construct offloads a code region  to a target device. In the  `map`  clause, the  `to`  and  `from`   map-types define the mapping between the original (host) data and the target (device)  data. The  `to`  map-type specifies that the data will only be read on the  device, and the  `from`  map-type specifies that the data will only be written  to on the device. By specifying a guaranteed access on the device, data transfers  can be reduced for the  `target`  region."
   ]
  },
  {
   "cell_type": "markdown",
   "metadata": {},
   "source": [
    " The  `to`  map-type indicates that at the start of the  `target`  region  the variables  _v1_  and  _v2_  are initialized with the values of the corresponding variables  on the host device, and at the end of the  `target`  region the variables   _v1_  and  _v2_  are not assigned to their corresponding variables on the host device."
   ]
  },
  {
   "cell_type": "markdown",
   "metadata": {},
   "source": [
    " The  `from`  map-type indicates that at the start of the  `target`  region  the variable  _p_  is not initialized with the value of the corresponding variable  on the host device, and at the end of the  `target`  region the variable  _p_   is assigned to the corresponding variable on the host device."
   ]
  },
  {
   "cell_type": "code",
   "execution_count": null,
   "metadata": {},
   "outputs": [],
   "source": [
    "%load ../sources/Example_target.3.c"
   ]
  },
  {
   "cell_type": "markdown",
   "metadata": {},
   "source": [
    " The  `to`  and  `from`  map-types allow programmers to optimize data  motion. Since data for the  _v_  arrays are not returned, and data for the  _p_  array  are not transferred to the device, only one-half of the data is moved, compared  to the default behavior of an implicit mapping."
   ]
  },
  {
   "cell_type": "code",
   "execution_count": null,
   "metadata": {},
   "outputs": [],
   "source": [
    "%load ../sources/Example_target.3.f90"
   ]
  },
  {
   "cell_type": "markdown",
   "metadata": {},
   "source": [
    " ####  `map`  Clause with Array Sections"
   ]
  },
  {
   "cell_type": "markdown",
   "metadata": {},
   "source": [
    " The following example shows how the  `target`  construct offloads a code region  to a target device. In the  `map`  clause, map-types are used to optimize  the mapping of variables to the target device. Because variables  _p_ ,  _v1_  and  _v2_  are  pointers, array section notation must be used to map the arrays. The notation  `:N`   is equivalent to  `0:N` ."
   ]
  },
  {
   "cell_type": "code",
   "execution_count": null,
   "metadata": {},
   "outputs": [],
   "source": [
    "%load ../sources/Example_target.4.c"
   ]
  },
  {
   "cell_type": "markdown",
   "metadata": {},
   "source": [
    " In C, the length of the pointed-to array must be specified. In Fortran the extent  of the array is known and the length need not be specified. A section of the array  can be specified with the usual Fortran syntax, as shown in the following example.  The value 1 is assumed for the lower bound for array section  _v2(:N)_ ."
   ]
  },
  {
   "cell_type": "code",
   "execution_count": null,
   "metadata": {},
   "outputs": [],
   "source": [
    "%load ../sources/Example_target.4.f90"
   ]
  },
  {
   "cell_type": "markdown",
   "metadata": {},
   "source": [
    " A more realistic situation in which an assumed-size array is passed to  `vec_mult`   requires that the length of the arrays be specified, because the compiler does  not know the size of the storage. A section of the array must be specified with  the usual Fortran syntax, as shown in the following example. The value 1 is assumed  for the lower bound for array section  _v2(:N)_ ."
   ]
  },
  {
   "cell_type": "code",
   "execution_count": null,
   "metadata": {},
   "outputs": [],
   "source": [
    "%load ../sources/Example_target.4b.f90"
   ]
  },
  {
   "cell_type": "markdown",
   "metadata": {},
   "source": [
    " ####  `target`  Construct with  `if`  Clause"
   ]
  },
  {
   "cell_type": "markdown",
   "metadata": {},
   "source": [
    " The following example shows how the  `target`  construct offloads a code region  to a target device."
   ]
  },
  {
   "cell_type": "markdown",
   "metadata": {},
   "source": [
    " The  `if`  clause on the  `target`  construct indicates that if the variable   _N_  is smaller than a given threshold, then the  `target`  region will be executed  by the host device."
   ]
  },
  {
   "cell_type": "markdown",
   "metadata": {},
   "source": [
    " The  `if`  clause on the  `parallel`  construct indicates that if the  variable  _N_  is smaller than a second threshold then the  `parallel`  region  is inactive."
   ]
  },
  {
   "cell_type": "code",
   "execution_count": null,
   "metadata": {},
   "outputs": [],
   "source": [
    "%load ../sources/Example_target.5.c"
   ]
  },
  {
   "cell_type": "code",
   "execution_count": null,
   "metadata": {},
   "outputs": [],
   "source": [
    "%load ../sources/Example_target.5.f90"
   ]
  },
  {
   "cell_type": "markdown",
   "metadata": {},
   "source": [
    " The following example is a modification of the above  _target.5_  code to show the combined  `target`  and parallel loop directives. It uses the  _directive-name_  modifier in multiple  `if`  clauses to specify the component directive to which it applies. "
   ]
  },
  {
   "cell_type": "markdown",
   "metadata": {},
   "source": [
    " The  `if`  clause with the  `target`  modifier applies to the  `target`  component of the  combined directive, and the  `if`  clause with the  `parallel`  modifier applies  to the  `parallel`  component of the combined directive.    "
   ]
  },
  {
   "cell_type": "code",
   "execution_count": null,
   "metadata": {},
   "outputs": [],
   "source": [
    "%load ../sources/Example_target.6.c"
   ]
  },
  {
   "cell_type": "code",
   "execution_count": null,
   "metadata": {},
   "outputs": [],
   "source": [
    "%load ../sources/Example_target.6.f90"
   ]
  },
  {
   "cell_type": "markdown",
   "metadata": {},
   "source": [
    "---end---"
   ]
  }
 ],
 "metadata": {
  "kernelspec": {
   "display_name": "C",
   "language": "c",
   "name": "c"
  },
  "language_info": {
   "file_extension": ".c",
   "mimetype": "text/plain",
   "name": "c"
  }
 },
 "nbformat": 4,
 "nbformat_minor": 2
}