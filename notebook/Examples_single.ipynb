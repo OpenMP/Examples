{
 "cells": [
  {
   "cell_type": "markdown",
   "metadata": {},
   "source": [
    " ### The  `single`  Construct "
   ]
  },
  {
   "cell_type": "markdown",
   "metadata": {},
   "source": [
    " The following example demonstrates the  `single`  construct. In the example,  only one thread prints each of the progress messages. All other threads will skip  the  `single`  region and stop at the barrier at the end of the  `single`   construct until all threads in the team have reached the barrier. If other threads  can proceed without waiting for the thread executing the  `single`  region,  a  `nowait`  clause can be specified, as is done in the third  `single`   construct in this example. The user must not make any assumptions as to which thread  will execute a  `single`  region. "
   ]
  },
  {
   "cell_type": "code",
   "execution_count": null,
   "metadata": {},
   "outputs": [],
   "source": [
    "%load ../sources/Example_single.1.c "
   ]
  },
  {
   "cell_type": "code",
   "execution_count": null,
   "metadata": {},
   "outputs": [],
   "source": [
    "%load ../sources/Example_single.1.f "
   ]
  },
  {
   "cell_type": "markdown",
   "metadata": {},
   "source": [
    "---end--- "
   ]
  }
 ],
 "metadata": {
  "kernelspec": {
   "display_name": "C",
   "language": "c",
   "name": "c"
  },
  "language_info": {
   "file_extension": ".c",
   "mimetype": "text/plain",
   "name": "c"
  }
 },
 "nbformat": 4,
 "nbformat_minor": 2
}
