{
 "cells": [
  {
   "cell_type": "markdown",
   "metadata": {},
   "source": [
    " ### Controlling the Number of Threads on Multiple Nesting Levels "
   ]
  },
  {
   "cell_type": "markdown",
   "metadata": {},
   "source": [
    " The following examples demonstrate how to use the  `OMP_NUM_THREADS`  environment  variable  to control the number of threads on multiple nesting levels: "
   ]
  },
  {
   "cell_type": "code",
   "execution_count": null,
   "metadata": {},
   "outputs": [],
   "source": [
    "%load ../sources/Example_nthrs_nesting.1.c "
   ]
  },
  {
   "cell_type": "code",
   "execution_count": null,
   "metadata": {},
   "outputs": [],
   "source": [
    "%load ../sources/Example_nthrs_nesting.1.f "
   ]
  },
  {
   "cell_type": "markdown",
   "metadata": {},
   "source": [
    "---end--- "
   ]
  }
 ],
 "metadata": {
  "kernelspec": {
   "display_name": "C",
   "language": "c",
   "name": "c"
  },
  "language_info": {
   "file_extension": ".c",
   "mimetype": "text/plain",
   "name": "c"
  }
 },
 "nbformat": 4,
 "nbformat_minor": 2
}
