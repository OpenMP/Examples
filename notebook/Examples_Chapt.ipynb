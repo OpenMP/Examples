{
 "cells": [
  {
   "cell_type": "markdown",
   "metadata": {},
   "source": [
    "chapter*{Examples} "
   ]
  },
  {
   "cell_type": "markdown",
   "metadata": {},
   "source": [
    " addcontentsline{toc}{chapter}{protectnumberline{}Examples} The following are examples of the OpenMP API directives, constructs, and routines. ccppspecificstart A statement following a directive is compound only when necessary, and a  non-compound statement is indented with respect to a directive preceding it. ccppspecificend "
   ]
  },
  {
   "cell_type": "markdown",
   "metadata": {},
   "source": [
    " Each example is labeled as  _ename.seqno.ext_ , where  _ename_  is  the example name,  _seqno_  is the sequence number in a section, and   _ext_  is the source file extension to indicate the code type and  source form.   _ext_  is one of the following:  \n",
"*  _c_  -- C code, \n",
"*  _cpp_  -- C++ code, \n",
"*  _f_  -- Fortran code in fixed form, and \n",
"*  _f90_  -- Fortran code in free form.  "
   ]
  },
  {
   "cell_type": "markdown",
   "metadata": {},
   "source": [
    "---end--- "
   ]
  }
 ],
 "metadata": {
  "kernelspec": {
   "display_name": "C",
   "language": "c",
   "name": "c"
  },
  "language_info": {
   "file_extension": ".c",
   "mimetype": "text/plain",
   "name": "c"
  }
 },
 "nbformat": 4,
 "nbformat_minor": 2
}
