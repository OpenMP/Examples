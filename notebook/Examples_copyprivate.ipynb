{
 "cells": [
  {
   "cell_type": "markdown",
   "metadata": {},
   "source": [
    " ### The  `copyprivate`  Clause"
   ]
  },
  {
   "cell_type": "markdown",
   "metadata": {},
   "source": [
    " The  `copyprivate`  clause can be used to broadcast values acquired by a single  thread directly to all instances of the private variables in the other threads.  In this example, if the routine is called from the sequential part, its behavior  is not affected by the presence of the directives. If it is called from a  `parallel`   region, then the actual arguments with which  `a`  and  `b`  are associated  must be private. "
   ]
  },
  {
   "cell_type": "markdown",
   "metadata": {},
   "source": [
    " The thread that executes the structured block associated with the  `single`    construct broadcasts the values of the private variables  `a` ,  `b` ,   `x` , and   `y`  from its implicit task's data environment to the data environments  of the other implicit tasks in the thread team. The broadcast completes before  any of the threads have left the barrier at the end of the construct."
   ]
  },
  {
   "cell_type": "code",
   "execution_count": null,
   "metadata": {},
   "outputs": [],
   "source": [
    "%load ../sources/Example_copyprivate.1.c"
   ]
  },
  {
   "cell_type": "code",
   "execution_count": null,
   "metadata": {},
   "outputs": [],
   "source": [
    "%load ../sources/Example_copyprivate.1.f"
   ]
  },
  {
   "cell_type": "markdown",
   "metadata": {},
   "source": [
    " In this example, assume that the input must be performed by the master thread.  Since the  `master`  construct does not support the  `copyprivate`  clause,  it cannot broadcast the input value that is read. However,  `copyprivate`   is used to broadcast an address where the input value is stored."
   ]
  },
  {
   "cell_type": "code",
   "execution_count": null,
   "metadata": {},
   "outputs": [],
   "source": [
    "%load ../sources/Example_copyprivate.2.c"
   ]
  },
  {
   "cell_type": "code",
   "execution_count": null,
   "metadata": {},
   "outputs": [],
   "source": [
    "%load ../sources/Example_copyprivate.2.f"
   ]
  },
  {
   "cell_type": "markdown",
   "metadata": {},
   "source": [
    " Suppose that the number of lock variables required within a  `parallel`  region  cannot easily be determined prior to entering it. The  `copyprivate`  clause  can be used to provide access to shared lock variables that are allocated within  that  `parallel`  region."
   ]
  },
  {
   "cell_type": "code",
   "execution_count": null,
   "metadata": {},
   "outputs": [],
   "source": [
    "%load ../sources/Example_copyprivate.3.c"
   ]
  },
  {
   "cell_type": "markdown",
   "metadata": {},
   "source": [
    " fortranspecificstartfnexample{copyprivate}{3}"
   ]
  },
  {
   "cell_type": "markdown",
   "metadata": {},
   "source": [
    " Note that the effect of the  `copyprivate`  clause on a variable with the   `allocatable`  attribute is different than on a variable with the  `pointer`   attribute. The value of  `A`  is copied (as if by intrinsic assignment) and  the pointer  `B`  is copied (as if by pointer assignment) to the corresponding  list items in the other implicit tasks belonging to the  `parallel`  region. "
   ]
  },
  {
   "cell_type": "code",
   "execution_count": null,
   "metadata": {},
   "outputs": [],
   "source": [
    "%load ../sources/Example_copyprivate.4.f"
   ]
  },
  {
   "cell_type": "markdown",
   "metadata": {},
   "source": [
    " fortranspecificend"
   ]
  },
  {
   "cell_type": "markdown",
   "metadata": {},
   "source": [
    "---end---"
   ]
  }
 ],
 "metadata": {
  "kernelspec": {
   "display_name": "C",
   "language": "c",
   "name": "c"
  },
  "language_info": {
   "file_extension": ".c",
   "mimetype": "text/plain",
   "name": "c"
  }
 },
 "nbformat": 4,
 "nbformat_minor": 2
}