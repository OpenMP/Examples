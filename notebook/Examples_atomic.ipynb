{
 "cells": [
  {
   "cell_type": "markdown",
   "metadata": {},
   "source": [
    " ### The  `atomic`  Construct"
   ]
  },
  {
   "cell_type": "markdown",
   "metadata": {},
   "source": [
    " The following example avoids race conditions (simultaneous updates of an element  of  _x_  by multiple threads) by using the  `atomic`  construct ."
   ]
  },
  {
   "cell_type": "markdown",
   "metadata": {},
   "source": [
    " The advantage of using the  `atomic`  construct in this example is that it  allows updates of two different elements of  _x_  to occur in parallel. If  a  `critical`  construct were used instead, then all updates to elements of   _x_  would be executed serially (though not in any guaranteed order)."
   ]
  },
  {
   "cell_type": "markdown",
   "metadata": {},
   "source": [
    " Note that the  `atomic`  directive applies only to the statement immediately  following it. As a result, elements of  _y_  are not updated atomically in  this example."
   ]
  },
  {
   "cell_type": "code",
   "execution_count": null,
   "metadata": {},
   "outputs": [],
   "source": [
    "%load ../sources/Example_atomic.1.c"
   ]
  },
  {
   "cell_type": "code",
   "execution_count": null,
   "metadata": {},
   "outputs": [],
   "source": [
    "%load ../sources/Example_atomic.1.f"
   ]
  },
  {
   "cell_type": "markdown",
   "metadata": {},
   "source": [
    " The following example illustrates the  `read`  and  `write`   clauses  for the  `atomic`  directive. These clauses ensure that the given variable  is read or written, respectively, as a whole. Otherwise, some other thread might  read or write part of the variable while the current thread was reading or writing  another part of the variable. Note that most hardware provides atomic reads and  writes for some set of properly aligned variables of specific sizes, but not necessarily  for all the variable types supported by the OpenMP API."
   ]
  },
  {
   "cell_type": "code",
   "execution_count": null,
   "metadata": {},
   "outputs": [],
   "source": [
    "%load ../sources/Example_atomic.2.c"
   ]
  },
  {
   "cell_type": "code",
   "execution_count": null,
   "metadata": {},
   "outputs": [],
   "source": [
    "%load ../sources/Example_atomic.2.f"
   ]
  },
  {
   "cell_type": "markdown",
   "metadata": {},
   "source": [
    " The following example illustrates the  `capture`  clause for the  `atomic`   directive. In this case the value of a variable is captured, and then the variable  is incremented. These operations occur atomically. This particular example could  be implemented using the fetch-and-add instruction available on many kinds of hardware.  The example also shows a way to implement a spin lock using the  `capture`    and  `read`  clauses."
   ]
  },
  {
   "cell_type": "code",
   "execution_count": null,
   "metadata": {},
   "outputs": [],
   "source": [
    "%load ../sources/Example_atomic.3.c"
   ]
  },
  {
   "cell_type": "code",
   "execution_count": null,
   "metadata": {},
   "outputs": [],
   "source": [
    "%load ../sources/Example_atomic.3.f"
   ]
  },
  {
   "cell_type": "markdown",
   "metadata": {},
   "source": [
    "---end---"
   ]
  }
 ],
 "metadata": {
  "kernelspec": {
   "display_name": "C",
   "language": "c",
   "name": "c"
  },
  "language_info": {
   "file_extension": ".c",
   "mimetype": "text/plain",
   "name": "c"
  }
 },
 "nbformat": 4,
 "nbformat_minor": 2
}