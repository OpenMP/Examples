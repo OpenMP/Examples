{
 "cells": [
{
 "cell_type": "markdown",
 "metadata": {},
 "source": [
  " ### The  `taskgroup`  Construct"
   ]
  },
{
 "cell_type": "markdown",
 "metadata": {},
 "source": [
  " In this example, tasks are grouped and synchronized using the  `taskgroup`   construct."
   ]
  },
{
 "cell_type": "markdown",
 "metadata": {},
 "source": [
  " Initially, one task (the task executing the  `start_background_work()`   call) is created in the  `parallel`  region, and later a parallel tree traversal  is started (the task executing the root of the recursive  `compute_tree()`   calls). While synchronizing tasks at the end of each tree traversal, using the   `taskgroup`  construct ensures that the formerly started background task  does not participate in the synchronization, and is left free to execute in parallel.  This is opposed to the behaviour of the  `taskwait`  construct, which would  include the background tasks in the synchronization."
   ]
  },
{
 "cell_type": "code",
 "execution_count": null,
 "metadata": {},
 "outputs": [],
 "source": [
 "%load ../sources/Example_taskgroup.1.c"
   ]
  },
{
 "cell_type": "code",
 "execution_count": null,
 "metadata": {},
 "outputs": [],
 "source": [
 "%load ../sources/Example_taskgroup.1.f90"
   ]
  },
{
 "cell_type": "markdown",
 "metadata": {},
 "source": [
  "---end---"
   ]
  }
],
"metadata": {
 "kernelspec": {
  "display_name": "C",
  "language": "c",
  "name": "c"
 },
 "language_info": {
  "file_extension": ".c",
  "mimetype": "text/plain",
  "name": "c"
 }
},
"nbformat": 4,
"nbformat_minor": 2
}
