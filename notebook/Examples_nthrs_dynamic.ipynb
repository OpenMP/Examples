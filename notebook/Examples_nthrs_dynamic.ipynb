{
 "cells": [
 {
  "cell_type": "markdown",
  "metadata": {},
  "source": [
   " ### Interaction Between the  `num_threads`  Clause and  `omp_set_dynamic`  "
   ]
  },
 {
  "cell_type": "markdown",
  "metadata": {},
  "source": [
   " The following example demonstrates the  `num_threads`  clause  and the effect  of the   `omp_set_dynamic`  routine  on it. "
   ]
  },
 {
  "cell_type": "markdown",
  "metadata": {},
  "source": [
   " The call to the  `omp_set_dynamic`  routine with argument  `0`  in  C/C++, or  `.FALSE.`  in Fortran, disables the dynamic adjustment of the number  of threads in OpenMP implementations that support it. In this case, 10 threads  are provided. Note that in case of an error the OpenMP implementation is free to  abort the program or to supply any number of threads available. "
   ]
  },
 {
  "cell_type": "code",
  "execution_count": null,
  "metadata": {},
  "outputs": [],
  "source": [
  "%load ../sources/Example_nthrs_dynamic.1.c "
   ]
  },
 {
  "cell_type": "code",
  "execution_count": null,
  "metadata": {},
  "outputs": [],
  "source": [
  "%load ../sources/Example_nthrs_dynamic.1.f "
   ]
  },
 {
  "cell_type": "markdown",
  "metadata": {},
  "source": [
   " The call to the  `omp_set_dynamic`  routine with a non-zero argument in  C/C++, or  `.TRUE.`  in Fortran, allows the OpenMP implementation to choose  any number of threads between 1 and 10. "
   ]
  },
 {
  "cell_type": "code",
  "execution_count": null,
  "metadata": {},
  "outputs": [],
  "source": [
  "%load ../sources/Example_nthrs_dynamic.2.c "
   ]
  },
 {
  "cell_type": "code",
  "execution_count": null,
  "metadata": {},
  "outputs": [],
  "source": [
  "%load ../sources/Example_nthrs_dynamic.2.f "
   ]
  },
 {
  "cell_type": "markdown",
  "metadata": {},
  "source": [
   " It is good practice to set the  _dyn-var_  ICV explicitly by calling the  `omp_set_dynamic`   routine, as its default setting is implementation defined. "
   ]
  },
 {
  "cell_type": "markdown",
  "metadata": {},
  "source": [
   "---end--- "
   ]
  }
],
"metadata": {
 "kernelspec": {
  "display_name": "C",
  "language": "c",
  "name": "c"
 },
 "language_info": {
  "file_extension": ".c",
  "mimetype": "text/plain",
  "name": "c"
 }
},
"nbformat": 4,
"nbformat_minor": 2
}
