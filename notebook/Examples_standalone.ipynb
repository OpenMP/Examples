{
 "cells": [
 {
  "cell_type": "markdown",
  "metadata": {},
  "source": [
   "section{Placement of  `flush` ,  `barrier` ,  `taskwait`   "
   ]
  },
 {
  "cell_type": "markdown",
  "metadata": {},
  "source": [
   " and  `taskyield`  Directives} "
   ]
  },
 {
  "cell_type": "markdown",
  "metadata": {},
  "source": [
   " The following example is non-conforming, because the  `flush` ,  `barrier` ,   `taskwait` , and  `taskyield`   directives are stand-alone directives  and cannot be the immediate substatement of an  `if`  statement.  "
   ]
  },
 {
  "cell_type": "code",
  "execution_count": null,
  "metadata": {},
  "outputs": [],
  "source": [
  "%load ../sources/Example_standalone.1.c "
   ]
  },
 {
  "cell_type": "markdown",
  "metadata": {},
  "source": [
   " The following example is non-conforming, because the  `flush` ,  `barrier` ,   `taskwait` , and  `taskyield`   directives are stand-alone directives  and cannot be the action statement of an  `if`  statement or a labeled branch  target. "
   ]
  },
 {
  "cell_type": "code",
  "execution_count": null,
  "metadata": {},
  "outputs": [],
  "source": [
  "%load ../sources/Example_standalone.1.f90 "
   ]
  },
 {
  "cell_type": "markdown",
  "metadata": {},
  "source": [
   " The following version of the above example is conforming because the  `flush` ,   `barrier` ,  `taskwait` , and  `taskyield`  directives are enclosed  in a compound statement.  "
   ]
  },
 {
  "cell_type": "code",
  "execution_count": null,
  "metadata": {},
  "outputs": [],
  "source": [
  "%load ../sources/Example_standalone.2.c "
   ]
  },
 {
  "cell_type": "markdown",
  "metadata": {},
  "source": [
   " The following example is conforming because the  `flush` ,  `barrier` ,   `taskwait` , and  `taskyield`  directives are enclosed in an  `if`   construct or follow the labeled branch target. "
   ]
  },
 {
  "cell_type": "code",
  "execution_count": null,
  "metadata": {},
  "outputs": [],
  "source": [
  "%load ../sources/Example_standalone.2.f90 "
   ]
  },
 {
  "cell_type": "markdown",
  "metadata": {},
  "source": [
   "---end--- "
   ]
  }
],
"metadata": {
 "kernelspec": {
  "display_name": "C",
  "language": "c",
  "name": "c"
 },
 "language_info": {
  "file_extension": ".c",
  "mimetype": "text/plain",
  "name": "c"
 }
},
"nbformat": 4,
"nbformat_minor": 2
}
