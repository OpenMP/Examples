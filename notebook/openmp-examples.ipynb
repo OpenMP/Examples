{
 "cells": [
 {
  "cell_type": "markdown",
  "metadata": {},
  "source": [
   " \n",
" Welcome to openmp-examples.tex. \n",
" This is the master LaTex file for the OpenMP Examples document. \n",
" \n",
" The files in this set include: \n",
" \n",
"    openmp-examples.tex              - this file, the master file \n",
"    Makefile                         - makes the document \n",
"    openmp.sty                       - the main style file \n",
"    Title_Page.tex                   - the title page \n",
"    openmplogo.png                   - the logo \n",
"    Introduction_Chapt.tex           - unnumbered introductory chapter \n",
"    Examples_Chapt.tex               - unnumbered chapter \n",
"    Examples_Sects.tex               - examples \n",
"    sources/*.c, *.f                 - C/C++/Fortran example source files \n",
" \n",
" When editing this file: \n",
" \n",
"    1. To change formatting, appearance, or style, please edit openmp.sty. \n",
" \n",
"    2. Custom commands and macros are defined in openmp.sty. \n",
" \n",
"    3. Be kind to other editors -- keep a consistent style by copying-and-pasting to \n",
"       create new content. \n",
" \n",
"    4. We use semantic markup, e.g. (see openmp.sty for a full list): \n",
"          ``      \n",
" for bold monospace keywords, code, operators, etc. \n",
"          __       \n",
" for italic placeholder names, grammar, etc. \n",
" \n",
"    5. Other recommendations: \n",
"         Use the convenience macros defined in openmp.sty for the minor headers \n",
"         such as Comments, Syntax, etc. \n",
" \n",
"         To keep items together on the same page, prefer the use of  \n",
"         .... Avoid parbox for text blocks as it interrupts line numbering. \n",
"         When possible, avoid filbreak, , newpage, clearpage unless that's \n",
"         what you mean. Use needspace{} cautiously for troublesome paragraphs. \n",
" \n",
"         Avoid absolute lengths and measures in this file; use relative units when possible. \n",
"         Vertical space can be relative to baselineskip or ex units. Horizontal space \n",
"         can be relative to linewidth or em units. \n",
" \n",
"         Prefer emph{} to italicize terminology, e.g.: \n",
"             This is a emph{definition}, not a placeholder. \n",
"             This is a  _var-name_ . \n",
" "
   ]
  },
 {
  "cell_type": "markdown",
  "metadata": {},
  "source": [
   " \n",
" The following says letter size, but the style sheet may change the size documentclass[10pt,letterpaper,twoside,makeidx,hidelinks]{scrreprt} "
   ]
  },
 {
  "cell_type": "markdown",
  "metadata": {},
  "source": [
   " \n",
" Text to appear in the footer on even-numbered pages: newcommand{VER}{4.5.0} newcommand{VERDATE}{November 2016} newcommand{footerText}{OpenMP Examples Version VER{} - VERDATE} "
   ]
  },
 {
  "cell_type": "markdown",
  "metadata": {},
  "source": [
   " \n",
" Unified style sheet for OpenMP documents: input{openmp.sty} "
   ]
  },
 {
  "cell_type": "markdown",
  "metadata": {},
  "source": [
   "      pagenumbering{roman}     input{Title_Page} "
   ]
  },
 {
  "cell_type": "markdown",
  "metadata": {},
  "source": [
   "     setcounter{page}{0}     setcounter{tocdepth}{2} "
   ]
  },
 {
  "cell_type": "markdown",
  "metadata": {},
  "source": [
   "     {1.3}         tableofcontents      "
   ]
  },
 {
  "cell_type": "markdown",
  "metadata": {},
  "source": [
   "     \n",
" Uncomment the next line to enable line numbering on the main body text:     linenumberspagewiselinenumbers "
   ]
  },
 {
  "cell_type": "markdown",
  "metadata": {},
  "source": [
   "     newpagepagenumbering{arabic} "
   ]
  },
 {
  "cell_type": "markdown",
  "metadata": {},
  "source": [
   "     input{Introduction_Chapt}     input{Examples_Chapt} "
   ]
  },
 {
  "cell_type": "markdown",
  "metadata": {},
  "source": [
   "     setcounter{chapter}{0}  \n",
" start chapter numbering here "
   ]
  },
 {
  "cell_type": "markdown",
  "metadata": {},
  "source": [
   "     input{Chap_parallel_execution}        input{Examples_ploop}        input{Examples_parallel}        input{Examples_nthrs_nesting}        input{Examples_nthrs_dynamic}        input{Examples_fort_do}        input{Examples_nowait}        input{Examples_collapse}      \n",
" linear Clause 475        input{Examples_linear_in_loop}        input{Examples_psections}        input{Examples_fpriv_sections}        input{Examples_single}        input{Examples_workshare}        input{Examples_master}        input{Examples_pra_iterator}        input{Examples_set_dynamic_nthrs}        input{Examples_get_nthrs} "
   ]
  },
 {
  "cell_type": "markdown",
  "metadata": {},
  "source": [
   "     input{Chap_affinity}        input{Examples_affinity}        input{Examples_affinity_query} "
   ]
  },
 {
  "cell_type": "markdown",
  "metadata": {},
  "source": [
   "     input{Chap_tasking}        input{Examples_tasking}        input{Examples_task_priority}        input{Examples_task_dep}        input{Examples_taskgroup}        input{Examples_taskyield}        input{Examples_taskloop} "
   ]
  },
 {
  "cell_type": "markdown",
  "metadata": {},
  "source": [
   "     input{Chap_devices}        input{Examples_target}        input{Examples_target_data}        input{Examples_target_unstructured_data}        input{Examples_target_update}        input{Examples_declare_target}            \n",
" Link clause 474        input{Examples_teams}        input{Examples_async_target_depend}        input{Examples_async_target_with_tasks}            \n",
"Title change of 57.1 and 57.2            \n",
"New subsection        input{Examples_async_target_nowait}        input{Examples_async_target_nowait_depend}        input{Examples_array_sections}      \n",
" Structure Element in map 487        input{Examples_device}             \n",
" MemoryRoutine and Device ptr  473 "
   ]
  },
 {
  "cell_type": "markdown",
  "metadata": {},
  "source": [
   "     input{Chap_SIMD}        input{Examples_SIMD}       \n",
" Forward Depend 370       \n",
" simdlen  476       \n",
" simd linear modifier 480 "
   ]
  },
 {
  "cell_type": "markdown",
  "metadata": {},
  "source": [
   "     input{Chap_synchronization}        input{Examples_critical}        input{Examples_worksharing_critical}        input{Examples_barrier_regions}        input{Examples_atomic}        input{Examples_atomic_restrict}        input{Examples_flush_nolist}        input{Examples_ordered}      \n",
" Doacross loop  405        input{Examples_doacross}        input{Examples_locks}             input{Examples_init_lock}             input{Examples_init_lock_with_hint}              input{Examples_lock_owner}             input{Examples_simple_lock}             input{Examples_nestable_lock}     \n",
"  \n",
" LOCK with Hints 478     \n",
"       \n",
" Hint Clause  xxxxxx (included after init_lock)     \n",
"       \n",
" Lock routines with hint             "
   ]
  },
 {
  "cell_type": "markdown",
  "metadata": {},
  "source": [
   "     input{Chap_data_environment}        input{Examples_threadprivate}        input{Examples_default_none}        input{Examples_private}        input{Examples_fort_loopvar}        input{Examples_fort_sp_common}        input{Examples_fort_sa_private}        input{Examples_carrays_fpriv}        input{Examples_lastprivate}        input{Examples_reduction}      \n",
"  User UDR  287      \n",
"  C array reduction 377        input{Examples_copyin}        input{Examples_copyprivate}        input{Examples_cpp_reference}      \n",
"  Fortran 2003 features  482             input{Examples_associate}  \n",
"section--> subsection "
   ]
  },
 {
  "cell_type": "markdown",
  "metadata": {},
  "source": [
   "     input{Chap_memory_model}        input{Examples_mem_model}        input{Examples_fort_race} "
   ]
  },
 {
  "cell_type": "markdown",
  "metadata": {},
  "source": [
   "     input{Chap_program_control}        input{Examples_cond_comp}        input{Examples_icv}      \n",
" If multi-ifs  471        input{Examples_standalone}        input{Examples_cancellation}      \n",
" New Section Nested Regions            input{Examples_nested_loop}            input{Examples_nesting_restrict} "
   ]
  },
 {
  "cell_type": "markdown",
  "metadata": {},
  "source": [
   "     setcounter{chapter}{0}  \n",
" restart chapter numbering with 'letter A'     renewcommand{thechapter}{Alph{chapter}}\n",
"     appendix     input{History} "
   ]
  },
 {
  "cell_type": "markdown",
  "metadata": {},
  "source": [
   "  "
   ]
  },
 {
  "cell_type": "markdown",
  "metadata": {},
  "source": [
   "---end--- "
   ]
  }
 ],
 "metadata": {
  "kernelspec": {
   "display_name": "C",
   "language": "c",
   "name": "c"
  },
  "language_info": {
   "file_extension": ".c",
   "mimetype": "text/plain",
   "name": "c"
  }
 },
 "nbformat": 4,
 "nbformat_minor": 2
}
