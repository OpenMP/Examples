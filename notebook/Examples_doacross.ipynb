{
 "cells": [
 {
  "cell_type": "markdown",
  "metadata": {},
  "source": [
   " ### Doacross Loop Nest "
   ]
  },
 {
  "cell_type": "markdown",
  "metadata": {},
  "source": [
   " An  `ordered`  clause can be used on a loop construct with an integer parameter argument to define the number of associated loops within  a  _doacross loop nest_  where cross-iteration dependences exist. A  `depend`  clause on an  `ordered`  construct within an ordered  loop describes the dependences of the  _doacross_  loops.  "
   ]
  },
 {
  "cell_type": "markdown",
  "metadata": {},
  "source": [
   " In the code below, the  `depend(sink:i-1)`  clause defines an  _i-1_   to  _i_  cross-iteration dependence that specifies a wait point for  the completion of computation from iteration  _i-1_  before proceeding  to the subsequent statements. The  `depend(source)`  clause indicates  the completion of computation from the current iteration ( _i_ )  to satisfy the cross-iteration dependence that arises from the iteration. For this example the same sequential ordering could have been achieved  with an  `ordered`  clause without a parameter, on the loop directive,  and a single  `ordered`  directive without the  `depend`  clause specified for the statement executing the  _bar_  function. "
   ]
  },
 {
  "cell_type": "code",
  "execution_count": null,
  "metadata": {},
  "outputs": [],
  "source": [
   "%load ../sources/Example_doacross.1.c "
   ]
  },
 {
  "cell_type": "code",
  "execution_count": null,
  "metadata": {},
  "outputs": [],
  "source": [
   "%load ../sources/Example_doacross.1.f90 "
   ]
  },
 {
  "cell_type": "markdown",
  "metadata": {},
  "source": [
   " The following code is similar to the previous example but with   _doacross loop nest_  extended to two nested loops,  _i_  and  _j_ ,  as specified by the  `ordered(2)`  clause on the loop directive.  In the C/C++ code, the  _i_  and  _j_  loops are the first and second associated loops, respectively, whereas in the Fortran code, the  _j_  and  _i_  loops are the first and second associated loops, respectively. The  `depend(sink:i-1,j)`  and  `depend(sink:i,j-1)`  clauses in  the C/C++ code define cross-iteration dependences in two dimensions from  iterations ( _i-1, j_ ) and ( _i, j-1_ ) to iteration ( _i, j_ ).   Likewise, the  `depend(sink:j-1,i)`  and  `depend(sink:j,i-1)`  clauses  in the Fortran code define cross-iteration dependences from iterations  ( _j-1, i_ ) and ( _j, i-1_ ) to iteration ( _j, i_ ). "
   ]
  },
 {
  "cell_type": "code",
  "execution_count": null,
  "metadata": {},
  "outputs": [],
  "source": [
   "%load ../sources/Example_doacross.2.c "
   ]
  },
 {
  "cell_type": "code",
  "execution_count": null,
  "metadata": {},
  "outputs": [],
  "source": [
   "%load ../sources/Example_doacross.2.f90 "
   ]
  },
 {
  "cell_type": "markdown",
  "metadata": {},
  "source": [
   " The following example shows the incorrect use of the  `ordered`   directive with a  `depend`  clause.  There are two issues with the code.   The first issue is a missing  `ordered` ~ `depend(source)`  directive, which could cause a deadlock.   The second issue is the  `depend(sink:i+1,j)`  and  `depend(sink:i,j+1)`   clauses define dependences on lexicographically later  source iterations ( _i+1, j_ ) and ( _i, j+1_ ), which could cause  a deadlock as well since they may not start to execute until the current iteration completes. "
   ]
  },
 {
  "cell_type": "code",
  "execution_count": null,
  "metadata": {},
  "outputs": [],
  "source": [
   "%load ../sources/Example_doacross.3.c "
   ]
  },
 {
  "cell_type": "code",
  "execution_count": null,
  "metadata": {},
  "outputs": [],
  "source": [
   "%load ../sources/Example_doacross.3.f90 "
   ]
  },
 {
  "cell_type": "markdown",
  "metadata": {},
  "source": [
   " The following example illustrates the use of the  `collapse`  clause for a  _doacross loop nest_ .  The  _i_  and  _j_  loops are the associated loops for the collapsed loop as well as for the  _doacross loop nest_ . The example also shows a compliant usage of the dependence source directive placed before the corresponding sink directive. Checking the completion of computation from previous iterations at the sink point can occur after the source statement. "
   ]
  },
 {
  "cell_type": "code",
  "execution_count": null,
  "metadata": {},
  "outputs": [],
  "source": [
   "%load ../sources/Example_doacross.4.c "
   ]
  },
 {
  "cell_type": "code",
  "execution_count": null,
  "metadata": {},
  "outputs": [],
  "source": [
   "%load ../sources/Example_doacross.4.f90 "
   ]
  },
 {
  "cell_type": "markdown",
  "metadata": {},
  "source": [
   "---end--- "
   ]
  }
 ],
 "metadata": {
  "kernelspec": {
   "display_name": "C",
   "language": "c",
   "name": "c"
  },
  "language_info": {
   "file_extension": ".c",
   "mimetype": "text/plain",
   "name": "c"
  }
 },
 "nbformat": 4,
 "nbformat_minor": 2
}
