{
 "cells": [
 {
  "cell_type": "markdown",
  "metadata": {},
  "source": [
   " ### The  `collapse`  Clause "
   ]
  },
 {
  "cell_type": "markdown",
  "metadata": {},
  "source": [
   " In the following example, the  `k`  and  `j`  loops are associated with  the loop construct. So the iterations of the  `k`  and  `j`  loops are  collapsed into one loop with a larger iteration space, and that loop is then divided  among the threads in the current team. Since the  `i`  loop is not associated  with the loop construct, it is not collapsed, and the  `i`  loop is executed  sequentially in its entirety in every iteration of the collapsed  `k`  and   `j`  loop.  "
   ]
  },
 {
  "cell_type": "markdown",
  "metadata": {},
  "source": [
   " The variable  `j`  can be omitted from the  `private`   clause when the   `collapse`  clause is used since it is implicitly private. However, if the   `collapse`  clause is omitted then  `j`  will be shared if it is omitted  from the  `private`  clause. In either case,  `k`  is implicitly private  and could be omitted from the  `private`   clause. "
   ]
  },
 {
  "cell_type": "code",
  "execution_count": null,
  "metadata": {},
  "outputs": [],
  "source": [
   "%load ../sources/Example_collapse.1.c "
   ]
  },
 {
  "cell_type": "code",
  "execution_count": null,
  "metadata": {},
  "outputs": [],
  "source": [
   "%load ../sources/Example_collapse.1.f "
   ]
  },
 {
  "cell_type": "markdown",
  "metadata": {},
  "source": [
   " In the next example, the  `k`  and  `j`  loops are associated with the  loop construct. So the iterations of the  `k`  and  `j`  loops are collapsed  into one loop with a larger iteration space, and that loop is then divided among  the threads in the current team. "
   ]
  },
 {
  "cell_type": "markdown",
  "metadata": {},
  "source": [
   " The sequential execution of the iterations in the  `k`  and  `j`  loops  determines the order of the iterations in the collapsed iteration space. This implies  that in the sequentially last iteration of the collapsed iteration space,  `k`   will have the value  `2`  and  `j`  will have the value  `3` . Since   `klast`  and  `jlast`  are  `lastprivate` , their values are assigned  by the sequentially last iteration of the collapsed  `k`  and  `j`  loop.  This example prints:  `2 3` . "
   ]
  },
 {
  "cell_type": "code",
  "execution_count": null,
  "metadata": {},
  "outputs": [],
  "source": [
   "%load ../sources/Example_collapse.2.c "
   ]
  },
 {
  "cell_type": "code",
  "execution_count": null,
  "metadata": {},
  "outputs": [],
  "source": [
   "%load ../sources/Example_collapse.2.f "
   ]
  },
 {
  "cell_type": "markdown",
  "metadata": {},
  "source": [
   " The next example illustrates the interaction of the  `collapse`  and  `ordered`    clauses. "
   ]
  },
 {
  "cell_type": "markdown",
  "metadata": {},
  "source": [
   " In the example, the loop construct has both a  `collapse`  clause and an  `ordered`   clause. The  `collapse`  clause causes the iterations of the  `k`  and   `j`  loops to be collapsed into one loop with a larger iteration space, and  that loop is divided among the threads in the current team. An  `ordered`   clause is added to the loop construct, because an ordered region binds to the loop  region arising from the loop construct. "
   ]
  },
 {
  "cell_type": "markdown",
  "metadata": {},
  "source": [
   " According to Section 2.12.8 of the OpenMP 4.0 specification,  a thread must not execute more than one ordered region that binds  to the same loop region. So the  `collapse`  clause is required for the example  to be conforming. With the  `collapse`  clause, the iterations of the  `k`   and  `j`  loops are collapsed into one loop, and therefore only one ordered  region will bind to the collapsed  `k`  and  `j`  loop. Without the  `collapse`   clause, there would be two ordered regions that bind to each iteration of the  `k`   loop (one arising from the first iteration of the  `j`  loop, and the other  arising from the second iteration of the  `j`  loop). "
   ]
  },
 {
  "cell_type": "markdown",
  "metadata": {},
  "source": [
   " The code prints "
   ]
  },
 {
  "cell_type": "markdown",
  "metadata": {},
  "source": [
   "  `0 1 1`    `0 1 2`    `0 2 1`    `1 2 2`    `1 3 1`    `1 3 2`  "
   ]
  },
 {
  "cell_type": "code",
  "execution_count": null,
  "metadata": {},
  "outputs": [],
  "source": [
   "%load ../sources/Example_collapse.3.c "
   ]
  },
 {
  "cell_type": "code",
  "execution_count": null,
  "metadata": {},
  "outputs": [],
  "source": [
   "%load ../sources/Example_collapse.3.f "
   ]
  },
 {
  "cell_type": "markdown",
  "metadata": {},
  "source": [
   "---end--- "
   ]
  }
 ],
 "metadata": {
  "kernelspec": {
   "display_name": "C",
   "language": "c",
   "name": "c"
  },
  "language_info": {
   "file_extension": ".c",
   "mimetype": "text/plain",
   "name": "c"
  }
 },
 "nbformat": 4,
 "nbformat_minor": 2
}
