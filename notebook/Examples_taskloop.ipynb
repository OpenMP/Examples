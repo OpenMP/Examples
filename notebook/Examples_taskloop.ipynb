{
 "cells": [
 {
  "cell_type": "markdown",
  "metadata": {},
  "source": [
   " "
   ]
  },
 {
  "cell_type": "markdown",
  "metadata": {},
  "source": [
   " ### The  `taskloop`  Construct "
   ]
  },
 {
  "cell_type": "markdown",
  "metadata": {},
  "source": [
   " "
   ]
  },
 {
  "cell_type": "markdown",
  "metadata": {},
  "source": [
   "  The following example illustrates how to execute a long running task concurrently with tasks created with a  `taskloop`  directive for a loop having unbalanced amounts of work for its iterations.  The  `grainsize`  clause specifies that each task is to execute at least 500 iterations of the loop.   The  `nogroup`  clause removes the implicit taskgroup of the  `taskloop`  construct; the explicit  `taskgroup`  construct in the example ensures that the function is not exited before the long-running task and the loops have finished execution. cexample{taskloop}{1} "
   ]
  },
 {
  "cell_type": "markdown",
  "metadata": {},
  "source": [
   " ffreeexample{taskloop}{1} "
   ]
  },
 {
  "cell_type": "markdown",
  "metadata": {},
  "source": [
   "---end--- "
   ]
  }
],
"metadata": {
 "kernelspec": {
  "display_name": "C",
  "language": "c",
  "name": "c"
 },
 "language_info": {
  "file_extension": ".c",
  "mimetype": "text/plain",
  "name": "c"
 }
},
"nbformat": 4,
"nbformat_minor": 2
}
