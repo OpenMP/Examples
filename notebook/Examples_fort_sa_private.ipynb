{
 "cells": [
{
 "cell_type": "markdown",
 "metadata": {},
 "source": [
  " ### Fortran Restrictions on Storage Association with the  `private`  Clause"
   ]
  },
{
 "cell_type": "markdown",
 "metadata": {},
 "source": [
  " fortranspecificstart"
   ]
  },
{
 "cell_type": "markdown",
 "metadata": {},
 "source": [
  " The following non-conforming examples illustrate the implications of the  `private`   clause rules with regard to storage association. "
   ]
  },
{
 "cell_type": "code",
 "execution_count": null,
 "metadata": {},
 "outputs": [],
 "source": [
 "%load ../sources/Example_fort_sa_private.1.f"
   ]
  },
{
 "cell_type": "code",
 "execution_count": null,
 "metadata": {},
 "outputs": [],
 "source": [
 "%load ../sources/Example_fort_sa_private.2.f"
   ]
  },
{
 "cell_type": "code",
 "execution_count": null,
 "metadata": {},
 "outputs": [],
 "source": [
 "%load ../sources/Example_fort_sa_private.3.f"
   ]
  },
{
 "cell_type": "markdown",
 "metadata": {},
 "source": [
  " \n",
" blue line floater at top of this page for 'Fortran, cont.' [t!] linewitharrows{-1}{dashed}{Fortran (cont.)}{8em} "
   ]
  },
{
 "cell_type": "code",
 "execution_count": null,
 "metadata": {},
 "outputs": [],
 "source": [
 "%load ../sources/Example_fort_sa_private.4.f"
   ]
  },
{
 "cell_type": "code",
 "execution_count": null,
 "metadata": {},
 "outputs": [],
 "source": [
 "%load ../sources/Example_fort_sa_private.5.f"
   ]
  },
{
 "cell_type": "markdown",
 "metadata": {},
 "source": [
  " fortranspecificend"
   ]
  },
{
 "cell_type": "markdown",
 "metadata": {},
 "source": [
  "---end---"
   ]
  }
],
"metadata": {
 "kernelspec": {
  "display_name": "C",
  "language": "c",
  "name": "c"
 },
 "language_info": {
  "file_extension": ".c",
  "mimetype": "text/plain",
  "name": "c"
 }
},
"nbformat": 4,
"nbformat_minor": 2
}
