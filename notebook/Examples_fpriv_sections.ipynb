{
 "cells": [
{
 "cell_type": "markdown",
 "metadata": {},
 "source": [
  " ### The  `firstprivate`  Clause and the  `sections`  Construct"
   ]
  },
{
 "cell_type": "markdown",
 "metadata": {},
 "source": [
  " In the following example of the  `sections`  construct  the  `firstprivate`   clause is used to initialize the private copy of  `section_count`  of each  thread. The problem is that the  `section`  constructs modify  `section_count` ,  which breaks the independence of the  `section`  constructs. When different  threads execute each section, both sections will print the value 1. When the same  thread executes the two sections, one section will print the value 1 and the other  will print the value 2. Since the order of execution of the two sections in this  case is unspecified, it is unspecified which section prints which value. "
   ]
  },
{
 "cell_type": "code",
 "execution_count": null,
 "metadata": {},
 "outputs": [],
 "source": [
 "%load ../sources/Example_fpriv_sections.1.c"
   ]
  },
{
 "cell_type": "code",
 "execution_count": null,
 "metadata": {},
 "outputs": [],
 "source": [
 "%load ../sources/Example_fpriv_sections.1.f90"
   ]
  },
{
 "cell_type": "markdown",
 "metadata": {},
 "source": [
  "---end---"
   ]
  }
],
"metadata": {
 "kernelspec": {
  "display_name": "C",
  "language": "c",
  "name": "c"
 },
 "language_info": {
  "file_extension": ".c",
  "mimetype": "text/plain",
  "name": "c"
 }
},
"nbformat": 4,
"nbformat_minor": 2
}
