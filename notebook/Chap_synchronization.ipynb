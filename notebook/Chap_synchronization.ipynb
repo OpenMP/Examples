{
 "cells": [
  {
   "cell_type": "markdown",
   "metadata": {},
   "source": [
    " ## Synchronization"
   ]
  },
  {
   "cell_type": "markdown",
   "metadata": {},
   "source": [
    " The  `barrier`  construct is a stand-alone directive that requires all threads of a team (within a contention group) to execute the barrier and complete execution of all tasks within the region, before continuing past the barrier."
   ]
  },
  {
   "cell_type": "markdown",
   "metadata": {},
   "source": [
    " The  `critical`  construct is a directive that contains a structured block.  The construct allows only a single thread at a time to execute the structured block (region). Multiple critical regions may exist in a parallel region, and may act cooperatively (only one thread at a time in all  `critical`  regions), or separately (only one thread at a time in each  `critical`  regions when a unique name is supplied on each  `critical`  construct). An optional (lock)  `hint`  clause may be specified on a named  `critical`   construct to provide the OpenMP runtime guidance in selection a locking  mechanism."
   ]
  },
  {
   "cell_type": "markdown",
   "metadata": {},
   "source": [
    " On a finer scale the  `atomic`  construct allows only a single thread at  a time to have atomic access to a storage location involving a single read,  write, update or capture statement, and a limited number of combinations  when specifying the  `capture`   _atomic-clause_  clause.  The  _atomic-clause_  clause is required for some expression statements, but are not required for   `update`  statements. Please see the details in the  _atomic Construct_   subsection of the  _Directives_  chapter in the OpenMP Specifications document."
   ]
  },
  {
   "cell_type": "markdown",
   "metadata": {},
   "source": [
    " \n",
" The following three sentences were stolen from the spec. The  `ordered`  construct either specifies a structured block in a loop,  simd, or loop SIMD region that will be executed in the order of the loop  iterations.  The ordered construct sequentializes and orders the execution  of ordered regions while allowing code outside the region to run in parallel."
   ]
  },
  {
   "cell_type": "markdown",
   "metadata": {},
   "source": [
    " Since OpenMP 4.5 the  `ordered`  construct can also be a stand-alone  directive that specifies cross-iteration dependences in a doacross loop nest.   The  `depend`  clause uses a  `sink`   _dependence-type_ , along with a  iteration vector argument (vec) to indicate the iteration that satisfies the  dependence.  The  `depend`  clause with a  `source`   _dependence-type_  specifies dependence satisfaction."
   ]
  },
  {
   "cell_type": "markdown",
   "metadata": {},
   "source": [
    " The  `flush`  directive is a stand-alone construct that forces a thread's  temporal local storage (view) of a variable to memory where a consistent view of the variable storage can be accesses.  When the construct is used without  a variable list, all the locally thread-visible data as defined by the  base language are flushed.  A construct with a list applies the flush  operation only to the items in the list.  The  `flush`  construct also  effectively insures that no memory (load or store) operation for the variable set (list items, or default set) may be reordered across  the  `flush`  directive. "
   ]
  },
  {
   "cell_type": "markdown",
   "metadata": {},
   "source": [
    " General-purpose routines provide mutual exclusion semantics through locks,  represented by lock variables.   The semantics allows a task to  _set_ , and hence   _own_  a lock, until it is  _unset_  by the task that set it. A   _nestable_  lock can be set multiple times by a task, and is used when in code requires nested control of locks.  A  _simple lock_  can only be set once by the owning task. There are specific calls for the two types of locks, and the variable of a specific lock type cannot be used by the other lock type.  "
   ]
  },
  {
   "cell_type": "markdown",
   "metadata": {},
   "source": [
    " Any explicit task will observe the synchronization prescribed in a   `barrier`  construct and an implied barrier.  Also, additional synchronizations  are available for tasks.  All children of a task will wait at a  `taskwait`  (for  their siblings to complete).  A  `taskgroup`  construct creates a region in which the current task is suspended at the end of the region until all sibling tasks,  and their descendants, have completed.  Scheduling constraints on task execution can be prescribed by the  `depend`  clause to enforce dependence on previously generated tasks. More details on controlling task executions can be found in the  _Tasking_  Chapter in the OpenMP Specifications document. \n",
"(DO REF. RIGHT.)"
   ]
  },
  {
   "cell_type": "markdown",
   "metadata": {},
   "source": [
    "---end---"
   ]
  }
 ],
 "metadata": {
  "kernelspec": {
   "display_name": "C",
   "language": "c",
   "name": "c"
  },
  "language_info": {
   "file_extension": ".c",
   "mimetype": "text/plain",
   "name": "c"
  }
 },
 "nbformat": 4,
 "nbformat_minor": 2
}