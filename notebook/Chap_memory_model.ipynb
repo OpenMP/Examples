{
 "cells": [
  {
   "cell_type": "markdown",
   "metadata": {},
   "source": [
    " ## Memory Model"
   ]
  },
  {
   "cell_type": "markdown",
   "metadata": {},
   "source": [
    " In this chapter, examples illustrate race conditions on access to variables with shared data-sharing attributes.  A race condition can exist when two or more threads are involved in accessing a variable in which not all of the accesses are reads; that is, a WaR, RaW or WaW condition exists (R=read, a=after, W=write). A RaR does not produce a race condition.  Ensuring thread execution order at the processor level is not enough to avoid race conditions, because the local storage at the processor level (registers, caches, etc.) must be synchronized so that a consistent view of the variable in the memory hierarchy can be seen by the threads accessing the variable."
   ]
  },
  {
   "cell_type": "markdown",
   "metadata": {},
   "source": [
    " OpenMP provides a shared-memory model which allows all threads access to  _memory_  (shared data).  Each thread also has exclusive access to  _threadprivate memory_  (private data).  A private variable referenced in an OpenMP directive's structured block is a new version of the original variable (with the same name) for each task (or SIMD lane) within the code block.  A private variable is initially undefined (except for variables in  `firstprivate`  and  `linear`  clauses), and the original variable value is unaltered by assignments to the private variable, (except for  `reduction` ,  `lastprivate`  and  `linear`  clauses)."
   ]
  },
  {
   "cell_type": "markdown",
   "metadata": {},
   "source": [
    " Private variables in an outer  `parallel`  region can be shared by implicit tasks of an inner  `parallel`  region  (with a  `share`  clause on the inner  `parallel`  directive). Likewise, a private variable may be shared in the region of an explicit  `task`  (through a  `shared`  clause)."
   ]
  },
  {
   "cell_type": "markdown",
   "metadata": {},
   "source": [
    " The  `flush`  directive forces a  consistent view of local variables of the thread executing the  `flush` . When a list is supplied on the directive, only the items (variables) in the list are guaranteed to be flushed."
   ]
  },
  {
   "cell_type": "markdown",
   "metadata": {},
   "source": [
    " Implied flushes exist at prescribed locations of certain constructs.  For the complete list of these locations and associated constructs, please refer to the  _flush Construct_  section of the OpenMP  Specifications document."
   ]
  },
  {
   "cell_type": "markdown",
   "metadata": {},
   "source": [
    " \n",
" The following table lists construct in which implied flushes exist, and the \n",
" location of their execution. \n",
"  \n",
" \n",
"[hb] \n",
"  \n",
" \n",
"caption {Execution Location for Implicit Flushes. }  \n",
" { | p{0.6linewidth} | l | }  \n",
" hline \n",
"  `CONSTRUCT`                                    & makecell{ `EXECUTION`    `LOCATION` }  \n",
" hline \n",
"  `parallel`                                     & upon entry and exit  \n",
" hline \n",
" makecell[l]{worksharing  hspace{1.5em} `for` ,  `do`   \n",
"                           hspace{1.5em} `sections`   \n",
"                           hspace{1.5em} `single`   \n",
"                           hspace{1.5em} `workshare`  }   \n",
"                                                    & upon exit   \n",
" hline \n",
"  `critical`                                     & upon entry and exit  \n",
" hline \n",
"  `target`                                       & upon entry and exit  \n",
" hline \n",
"  `barrier`                                      & during  \n",
" hline \n",
"  `atomic`  operation with  _seq_cst_  clause & upon entry and exit  \n",
" hline \n",
"  `ordered` *                                    & upon entry and exit  \n",
" hline \n",
"  `cancel` ** and  `cancellation point` **    & during  \n",
" hline \n",
"  `target data`                                  & upon entry and exit  \n",
" hline \n",
"  `target update`  +  `to`  clause,    \n",
"  `target enter data`                            & on entry  \n",
" hline \n",
"  `target update`  +  `from`  clause,  \n",
"  `target exit data`                             & on exit  \n",
" hline \n",
"  `omp_set_lock`                               & during  \n",
" hline \n",
" makecell[l]{  `omp_set/unset_lock` ,  `omp_test_lock` ***  \n",
"              `omp_set/unset/test_nest_lock` *** } \n",
"                                                    & during  \n",
" hline \n",
" task scheduling point                              & makecell[l]{immediately  before and after}  \n",
" hline \n",
"  \n",
" \n",
"caption {Execution Location for Implicit Flushes. }  \n",
"  \n",
"  \n",
" \n",
" \n",
"  \n",
" * without clauses and with  `threads`  or  `depend`  clauses newline \n",
" ** when  _cancel-var_  ICV is  _true_  (cancellation is turned on) and cancellation is activated newline \n",
" *** if the region causes the lock to be set or unset \n",
"  \n",
" A flush with a list is implied for non-sequentially consistent  `atomic`  operations \n",
" ( `atomic`  directive without a  `seq_cst`  clause), where the list \n",
"* is the \n",
" specific storage location accessed atomically (specified as the  _x_  variable \n",
" in  _atomic Construct_  subsection of the OpenMP Specifications document)."
   ]
  },
  {
   "cell_type": "markdown",
   "metadata": {},
   "source": [
    " Examples 1-3 show the difficulty of synchronizing threads through  `flush`  and  `atomic`  directives."
   ]
  },
  {
   "cell_type": "markdown",
   "metadata": {},
   "source": [
    "---end---"
   ]
  }
 ],
 "metadata": {
  "kernelspec": {
   "display_name": "C",
   "language": "c",
   "name": "c"
  },
  "language_info": {
   "file_extension": ".c",
   "mimetype": "text/plain",
   "name": "c"
  }
 },
 "nbformat": 4,
 "nbformat_minor": 2
}