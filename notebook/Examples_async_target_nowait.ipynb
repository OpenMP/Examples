{
 "cells": [
{
 "cell_type": "markdown",
 "metadata": {},
 "source": [
  " ####  `nowait`  Clause on  `target`  Construct"
   ]
  },
{
 "cell_type": "markdown",
 "metadata": {},
 "source": [
  " The following example shows how to execute code asynchronously on a  device without an explicit task. The  `nowait`  clause on a  `target`   construct allows the thread of the  _target task_  to perform other work while waiting for the  `target`  region execution to complete.  Hence, the the  `target`  region can execute asynchronously on the  device (without requiring a host thread to idle while waiting for  the  _target task_  execution to complete)."
   ]
  },
{
 "cell_type": "markdown",
 "metadata": {},
 "source": [
  " In this example the product of two vectors (arrays),  _v1_  and  _v2_ , is formed. One half of the operations is performed on the device, and the last half on the host, concurrently."
   ]
  },
{
 "cell_type": "markdown",
 "metadata": {},
 "source": [
  " After a team of threads is formed the master thread generates  the  _target task_  while the other threads can continue on, without a barrier, to the execution of the host portion of the vector product. The completion of the  _target task_  (asynchronous target execution) is  guaranteed by the synchronization in the implicit barrier at the end of the  host vector-product worksharing loop region. See the  `barrier`   glossary entry in the OpenMP specification for details."
   ]
  },
{
 "cell_type": "markdown",
 "metadata": {},
 "source": [
  " The host loop scheduling is  `dynamic` , to balance the host thread executions, since  one thread is being used for offload generation. In the situation where  little time is spent by the  _target task_  in setting  up and tearing down the the target execution,  `static`  scheduling may be desired. "
   ]
  },
{
 "cell_type": "code",
 "execution_count": null,
 "metadata": {},
 "outputs": [],
 "source": [
 "%load ../sources/Example_async_target.3.c"
   ]
  },
{
 "cell_type": "code",
 "execution_count": null,
 "metadata": {},
 "outputs": [],
 "source": [
 "%load ../sources/Example_async_target.3.f90"
   ]
  },
{
 "cell_type": "markdown",
 "metadata": {},
 "source": [
  "---end---"
   ]
  }
],
"metadata": {
 "kernelspec": {
  "display_name": "C",
  "language": "c",
  "name": "c"
 },
 "language_info": {
  "file_extension": ".c",
  "mimetype": "text/plain",
  "name": "c"
 }
},
"nbformat": 4,
"nbformat_minor": 2
}
