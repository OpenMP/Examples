{
 "cells": [
 {
  "cell_type": "markdown",
  "metadata": {},
  "source": [
   " ### The OpenMP Memory Model "
   ]
  },
 {
  "cell_type": "markdown",
  "metadata": {},
  "source": [
   " In the following example, at Print 1, the value of  _x_  could be either 2  or 5, depending on the timing of the threads, and the implementation of the assignment  to  _x_ . There are two reasons that the value at Print 1 might not be 5.  First, Print 1 might be executed before the assignment to  _x_  is executed.  Second, even if Print 1 is executed after the assignment, the value 5 is not guaranteed  to be seen by thread 1 because a flush may not have been executed by thread 0 since  the assignment. "
   ]
  },
 {
  "cell_type": "markdown",
  "metadata": {},
  "source": [
   " The barrier after Print 1 contains implicit flushes on all threads, as well as  a thread synchronization, so the programmer is guaranteed that the value 5 will  be printed by both Print 2 and Print 3. "
   ]
  },
 {
  "cell_type": "code",
  "execution_count": null,
  "metadata": {},
  "outputs": [],
  "source": [
   "%load ../sources/Example_mem_model.1.c "
   ]
  },
 {
  "cell_type": "code",
  "execution_count": null,
  "metadata": {},
  "outputs": [],
  "source": [
   "%load ../sources/Example_mem_model.1.f90 "
   ]
  },
 {
  "cell_type": "markdown",
  "metadata": {},
  "source": [
   " The following example demonstrates why synchronization is difficult to perform  correctly through variables. The value of flag is undefined in both prints on thread  1 and the value of data is only well-defined in the second print. "
   ]
  },
 {
  "cell_type": "code",
  "execution_count": null,
  "metadata": {},
  "outputs": [],
  "source": [
   "%load ../sources/Example_mem_model.2.c "
   ]
  },
 {
  "cell_type": "code",
  "execution_count": null,
  "metadata": {},
  "outputs": [],
  "source": [
   "%load ../sources/Example_mem_model.2.f "
   ]
  },
 {
  "cell_type": "markdown",
  "metadata": {},
  "source": [
   " The next example demonstrates why synchronization is difficult to perform correctly  through variables. Because the  _write_ (1)- _flush_ (1)- _flush_ (2)- _read_ (2)  sequence cannot be guaranteed in the example, the statements on thread 0 and thread  1 may execute in either order. "
   ]
  },
 {
  "cell_type": "code",
  "execution_count": null,
  "metadata": {},
  "outputs": [],
  "source": [
   "%load ../sources/Example_mem_model.3.c "
   ]
  },
 {
  "cell_type": "code",
  "execution_count": null,
  "metadata": {},
  "outputs": [],
  "source": [
   "%load ../sources/Example_mem_model.3.f "
   ]
  },
 {
  "cell_type": "markdown",
  "metadata": {},
  "source": [
   "---end--- "
   ]
  }
 ],
 "metadata": {
  "kernelspec": {
   "display_name": "C",
   "language": "c",
   "name": "c"
  },
  "language_info": {
   "file_extension": ".c",
   "mimetype": "text/plain",
   "name": "c"
  }
 },
 "nbformat": 4,
 "nbformat_minor": 2
}
