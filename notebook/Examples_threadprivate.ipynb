{
 "cells": [
  {
   "cell_type": "markdown",
   "metadata": {},
   "source": [
    " ### The  `threadprivate`  Directive"
   ]
  },
  {
   "cell_type": "markdown",
   "metadata": {},
   "source": [
    " The following examples demonstrate how to use the  `threadprivate`  directive   to give each thread a separate counter."
   ]
  },
  {
   "cell_type": "code",
   "execution_count": null,
   "metadata": {},
   "outputs": [],
   "source": [
    "%load ../sources/Example_threadprivate.1.c"
   ]
  },
  {
   "cell_type": "code",
   "execution_count": null,
   "metadata": {},
   "outputs": [],
   "source": [
    "%load ../sources/Example_threadprivate.1.f"
   ]
  },
  {
   "cell_type": "markdown",
   "metadata": {},
   "source": [
    " ccppspecificstart The following example uses  `threadprivate`  on a static variable:"
   ]
  },
  {
   "cell_type": "code",
   "execution_count": null,
   "metadata": {},
   "outputs": [],
   "source": [
    "%load ../sources/Example_threadprivate.2.c"
   ]
  },
  {
   "cell_type": "markdown",
   "metadata": {},
   "source": [
    " The following example demonstrates unspecified behavior for the initialization  of a  `threadprivate`  variable. A  `threadprivate`   variable is initialized  once at an unspecified point before its first reference. Because  `a`  is  constructed using the value of  `x`   (which is modified by the statement   `x++` ), the value of  `a.val`   at the start of the  `parallel`   region could be either 1 or 2. This problem is avoided for  `b` , which uses  an auxiliary  `const`  variable and a copy-constructor."
   ]
  },
  {
   "cell_type": "code",
   "execution_count": null,
   "metadata": {},
   "outputs": [],
   "source": [
    "%load ../sources/Example_cppnexamplethreadprivate3"
   ]
  },
  {
   "cell_type": "markdown",
   "metadata": {},
   "source": [
    " ccppspecificend"
   ]
  },
  {
   "cell_type": "markdown",
   "metadata": {},
   "source": [
    " The following examples show non-conforming uses and correct uses of the  `threadprivate`   directive. "
   ]
  },
  {
   "cell_type": "markdown",
   "metadata": {},
   "source": [
    " fortranspecificstart The following example is non-conforming because the common block is not declared  local to the subroutine that refers to it:"
   ]
  },
  {
   "cell_type": "code",
   "execution_count": null,
   "metadata": {},
   "outputs": [],
   "source": [
    "%load ../sources/Example_threadprivate.2.f"
   ]
  },
  {
   "cell_type": "markdown",
   "metadata": {},
   "source": [
    " The following example is also non-conforming because the common block is not declared  local to the subroutine that refers to it:"
   ]
  },
  {
   "cell_type": "code",
   "execution_count": null,
   "metadata": {},
   "outputs": [],
   "source": [
    "%load ../sources/Example_threadprivate.3.f"
   ]
  },
  {
   "cell_type": "markdown",
   "metadata": {},
   "source": [
    " The following example is a correct rewrite of the previous example:"
   ]
  },
  {
   "cell_type": "code",
   "execution_count": null,
   "metadata": {},
   "outputs": [],
   "source": [
    "%load ../sources/Example_threadprivate.4.f"
   ]
  },
  {
   "cell_type": "markdown",
   "metadata": {},
   "source": [
    " The following is an example of the use of  `threadprivate`  for local variables: \n",
" blue line floater at top of this page for 'Fortran, cont.' [t!] linewitharrows{-1}{dashed}{Fortran (cont.)}{8em} "
   ]
  },
  {
   "cell_type": "code",
   "execution_count": null,
   "metadata": {},
   "outputs": [],
   "source": [
    "%load ../sources/Example_threadprivate.5.f"
   ]
  },
  {
   "cell_type": "markdown",
   "metadata": {},
   "source": [
    " The above program, if executed by two threads, will print one of the following  two sets of output: "
   ]
  },
  {
   "cell_type": "markdown",
   "metadata": {},
   "source": [
    "  `a = 11 12 13`    `ptr = 4`    `i = 15` "
   ]
  },
  {
   "cell_type": "markdown",
   "metadata": {},
   "source": [
    "  `A is not allocated`    `ptr = 4`    `i = 5` "
   ]
  },
  {
   "cell_type": "markdown",
   "metadata": {},
   "source": [
    " or"
   ]
  },
  {
   "cell_type": "markdown",
   "metadata": {},
   "source": [
    "  `A is not allocated`    `ptr = 4`    `i = 15` "
   ]
  },
  {
   "cell_type": "markdown",
   "metadata": {},
   "source": [
    "  `a = 1 2 3`    `ptr = 4`    `i = 5` "
   ]
  },
  {
   "cell_type": "markdown",
   "metadata": {},
   "source": [
    " The following is an example of the use of  `threadprivate`  for module variables: \n",
" blue line floater at top of this page for 'Fortran, cont.' [t!] linewitharrows{-1}{dashed}{Fortran (cont.)}{8em} "
   ]
  },
  {
   "cell_type": "code",
   "execution_count": null,
   "metadata": {},
   "outputs": [],
   "source": [
    "%load ../sources/Example_threadprivate.6.f"
   ]
  },
  {
   "cell_type": "markdown",
   "metadata": {},
   "source": [
    " fortranspecificend"
   ]
  },
  {
   "cell_type": "code",
   "execution_count": null,
   "metadata": {},
   "outputs": [],
   "source": [
    "%load ../sources/Example_cppspecificstart"
   ]
  },
  {
   "cell_type": "markdown",
   "metadata": {},
   "source": [
    " The following example illustrates initialization of  `threadprivate`  variables  for class-type  `T` .  `t1`  is default constructed,  `t2`  is constructed  taking a constructor accepting one argument of integer type,  `t3`  is copy  constructed with argument  `f()` :"
   ]
  },
  {
   "cell_type": "code",
   "execution_count": null,
   "metadata": {},
   "outputs": [],
   "source": [
    "%load ../sources/Example_cppnexamplethreadprivate4"
   ]
  },
  {
   "cell_type": "markdown",
   "metadata": {},
   "source": [
    " The following example illustrates the use of  `threadprivate`  for static  class members. The  `threadprivate`  directive for a static class member must  be placed inside the class definition."
   ]
  },
  {
   "cell_type": "code",
   "execution_count": null,
   "metadata": {},
   "outputs": [],
   "source": [
    "%load ../sources/Example_cppnexamplethreadprivate5"
   ]
  },
  {
   "cell_type": "code",
   "execution_count": null,
   "metadata": {},
   "outputs": [],
   "source": [
    "%load ../sources/Example_cppspecificend"
   ]
  },
  {
   "cell_type": "markdown",
   "metadata": {},
   "source": [
    "---end---"
   ]
  }
 ],
 "metadata": {
  "kernelspec": {
   "display_name": "C",
   "language": "c",
   "name": "c"
  },
  "language_info": {
   "file_extension": ".c",
   "mimetype": "text/plain",
   "name": "c"
  }
 },
 "nbformat": 4,
 "nbformat_minor": 2
}