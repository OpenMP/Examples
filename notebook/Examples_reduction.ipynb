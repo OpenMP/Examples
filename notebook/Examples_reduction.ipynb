{
 "cells": [
{
 "cell_type": "markdown",
 "metadata": {},
 "source": [
  " ### The  `reduction`  Clause"
   ]
  },
{
 "cell_type": "markdown",
 "metadata": {},
 "source": [
  " The following example demonstrates the  `reduction`  clause ; note that some  reductions can be expressed in the loop in several ways, as shown for the  `max`   and  `min`  reductions below:"
   ]
  },
{
 "cell_type": "code",
 "execution_count": null,
 "metadata": {},
 "outputs": [],
 "source": [
 "%load ../sources/Example_reduction.1.c"
   ]
  },
{
 "cell_type": "code",
 "execution_count": null,
 "metadata": {},
 "outputs": [],
 "source": [
 "%load ../sources/Example_reduction.1.f90"
   ]
  },
{
 "cell_type": "markdown",
 "metadata": {},
 "source": [
  " A common implementation of the preceding example is to treat it as if it had been  written as follows:"
   ]
  },
{
 "cell_type": "code",
 "execution_count": null,
 "metadata": {},
 "outputs": [],
 "source": [
 "%load ../sources/Example_reduction.2.c"
   ]
  },
{
 "cell_type": "markdown",
 "metadata": {},
 "source": [
  " fortranspecificstartffreenexample{reduction}{2}"
   ]
  },
{
 "cell_type": "markdown",
 "metadata": {},
 "source": [
  " The following program is non-conforming because the reduction is on the  emph{intrinsic procedure name}  `MAX`  but that name has been redefined to be the variable  named  `MAX` ."
   ]
  },
{
 "cell_type": "code",
 "execution_count": null,
 "metadata": {},
 "outputs": [],
 "source": [
 "%load ../sources/Example_ffreenexamplereduction3"
   ]
  },
{
 "cell_type": "markdown",
 "metadata": {},
 "source": [
  " \n",
" blue line floater at top of this page for 'Fortran, cont.' [t!] linewitharrows{-1}{dashed}{Fortran (cont.)}{8em} "
   ]
  },
{
 "cell_type": "markdown",
 "metadata": {},
 "source": [
  " The following conforming program performs the reduction using the  emph{intrinsic procedure name}  `MAX`  even though the intrinsic  `MAX`  has been renamed  to  `REN` ."
   ]
  },
{
 "cell_type": "code",
 "execution_count": null,
 "metadata": {},
 "outputs": [],
 "source": [
 "%load ../sources/Example_ffreenexamplereduction4"
   ]
  },
{
 "cell_type": "markdown",
 "metadata": {},
 "source": [
  " The following conforming program performs the reduction using   _intrinsic procedure name_   `MAX`  even though the intrinsic  `MAX`  has been renamed  to  `MIN` ."
   ]
  },
{
 "cell_type": "code",
 "execution_count": null,
 "metadata": {},
 "outputs": [],
 "source": [
 "%load ../sources/Example_ffreenexamplereduction5"
   ]
  },
{
 "cell_type": "markdown",
 "metadata": {},
 "source": [
  " fortranspecificend"
   ]
  },
{
 "cell_type": "markdown",
 "metadata": {},
 "source": [
  " The following example is non-conforming because the initialization ( `a =  0` ) of the original list \n",
"*  `a`  is not synchronized with the update of   `a`  as a result of the reduction computation in the  `for`  loop. Therefore,  the example may print an incorrect value for  `a` ."
   ]
  },
{
 "cell_type": "markdown",
 "metadata": {},
 "source": [
  " To avoid this problem, the initialization of the original list \n",
"*  `a`   should complete before any update of  `a`  as a result of the  `reduction`   clause. This can be achieved by adding an explicit barrier after the assignment   `a = 0` , or by enclosing the assignment  `a = 0`  in a  `single`   directive (which has an implied barrier), or by initializing  `a`  before  the start of the  `parallel`  region."
   ]
  },
{
 "cell_type": "code",
 "execution_count": null,
 "metadata": {},
 "outputs": [],
 "source": [
 "%load ../sources/Example_reduction.6.c"
   ]
  },
{
 "cell_type": "code",
 "execution_count": null,
 "metadata": {},
 "outputs": [],
 "source": [
 "%load ../sources/Example_reduction.6.f"
   ]
  },
{
 "cell_type": "markdown",
 "metadata": {},
 "source": [
  " The following example demonstrates the reduction of array  _a_ .  In C/C++ this is illustrated by the explicit use of an array section  _a[0:N]_  in the  `reduction`  clause.  The corresponding Fortran example uses array syntax supported in the base language.  As of the OpenMP 4.5 specification the explicit use of array section in the  `reduction`  clause in Fortran is not permitted.  But this oversight will be fixed in the next release of the specification."
   ]
  },
{
 "cell_type": "code",
 "execution_count": null,
 "metadata": {},
 "outputs": [],
 "source": [
 "%load ../sources/Example_reduction.7.c"
   ]
  },
{
 "cell_type": "code",
 "execution_count": null,
 "metadata": {},
 "outputs": [],
 "source": [
 "%load ../sources/Example_reduction.7.f90"
   ]
  },
{
 "cell_type": "markdown",
 "metadata": {},
 "source": [
  "---end---"
   ]
  }
],
"metadata": {
 "kernelspec": {
  "display_name": "C",
  "language": "c",
  "name": "c"
 },
 "language_info": {
  "file_extension": ".c",
  "mimetype": "text/plain",
  "name": "c"
 }
},
"nbformat": 4,
"nbformat_minor": 2
}
