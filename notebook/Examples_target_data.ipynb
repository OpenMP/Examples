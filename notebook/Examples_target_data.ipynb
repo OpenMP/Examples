{
 "cells": [
{
 "cell_type": "markdown",
 "metadata": {},
 "source": [
  " ###  `target`   `data`  Construct"
   ]
  },
{
 "cell_type": "markdown",
 "metadata": {},
 "source": [
  " #### Simple  `target`   `data`  Construct"
   ]
  },
{
 "cell_type": "markdown",
 "metadata": {},
 "source": [
  " This example shows how the  `target`   `data`  construct maps variables  to a device data environment. The  `target`   `data`  construct creates  a new device data environment and maps the variables  _v1_ ,  _v2_ , and  _p_  to the new device  data environment. The  `target`  construct enclosed in the  `target`    `data`  region creates a new device data environment, which inherits the  variables  _v1_ ,  _v2_ , and  _p_  from the enclosing device data environment. The variable   _N_  is mapped into the new device data environment from the encountering task's data  environment."
   ]
  },
{
 "cell_type": "code",
 "execution_count": null,
 "metadata": {},
 "outputs": [],
 "source": [
 "%load ../sources/Example_target_data.1.c"
   ]
  },
{
 "cell_type": "markdown",
 "metadata": {},
 "source": [
  " The Fortran code passes a reference and specifies the extent of the arrays in the  declaration. No length information is necessary in the map clause, as is required  with C/C++ pointers."
   ]
  },
{
 "cell_type": "code",
 "execution_count": null,
 "metadata": {},
 "outputs": [],
 "source": [
 "%load ../sources/Example_target_data.1.f90"
   ]
  },
{
 "cell_type": "markdown",
 "metadata": {},
 "source": [
  " ####  `target`   `data`  Region Enclosing Multiple  `target`  Regions"
   ]
  },
{
 "cell_type": "markdown",
 "metadata": {},
 "source": [
  " The following examples show how the  `target`   `data`  construct maps  variables to a device data environment of a  `target`  region. The  `target`    `data`  construct creates a device data environment and encloses  `target`   regions, which have their own device data environments. The device data environment  of the  `target`   `data`  region is inherited by the device data environment  of an enclosed  `target`  region. The  `target`   `data`  construct  is used to create variables that will persist throughout the  `target`   `data`   region."
   ]
  },
{
 "cell_type": "markdown",
 "metadata": {},
 "source": [
  " In the following example the variables  _v1_  and  _v2_  are mapped at each  `target`   construct. Instead of mapping the variable  _p_  twice, once at each  `target`   construct,  _p_  is mapped once by the  `target`   `data`  construct."
   ]
  },
{
 "cell_type": "code",
 "execution_count": null,
 "metadata": {},
 "outputs": [],
 "source": [
 "%load ../sources/Example_target_data.2.c"
   ]
  },
{
 "cell_type": "markdown",
 "metadata": {},
 "source": [
  " The Fortran code uses reference and specifies the extent of the  _p_ ,  _v1_  and  _v2_  arrays.  No length information is necessary in the  `map`  clause, as is required with  C/C++ pointers. The arrays  _v1_  and  _v2_  are mapped at each  `target`  construct.  Instead of mapping the array  _p_  twice, once at each target construct,  _p_  is mapped  once by the  `target`   `data`  construct."
   ]
  },
{
 "cell_type": "code",
 "execution_count": null,
 "metadata": {},
 "outputs": [],
 "source": [
 "%load ../sources/Example_target_data.2.f90"
   ]
  },
{
 "cell_type": "markdown",
 "metadata": {},
 "source": [
  " In the following example, the variable tmp defaults to  `tofrom`  map-type  and is mapped at each  `target`  construct. The array  _Q_  is mapped once at  the enclosing  `target`   `data`  region instead of at each  `target`   construct. "
   ]
  },
{
 "cell_type": "code",
 "execution_count": null,
 "metadata": {},
 "outputs": [],
 "source": [
 "%load ../sources/Example_target_data.3.c"
   ]
  },
{
 "cell_type": "markdown",
 "metadata": {},
 "source": [
  " In the following example the arrays  _v1_  and  _v2_  are mapped at each  `target`   construct. Instead of mapping the array  _Q_  twice at each  `target`  construct,   _Q_  is mapped once by the  `target`   `data`  construct. Note, the  _tmp_   variable is implicitly remapped for each  `target`  region, mapping the value  from the device to the host at the end of the first  `target`  region, and  from the host to the device for the second  `target`  region."
   ]
  },
{
 "cell_type": "code",
 "execution_count": null,
 "metadata": {},
 "outputs": [],
 "source": [
 "%load ../sources/Example_target_data.3.f90"
   ]
  },
{
 "cell_type": "markdown",
 "metadata": {},
 "source": [
  " ####  `target`   `data`  Construct with Orphaned Call"
   ]
  },
{
 "cell_type": "markdown",
 "metadata": {},
 "source": [
  " The following two examples show how the  `target`   `data`  construct  maps variables to a device data environment. The  `target`   `data`   construct's device data environment encloses the  `target`  construct's device  data environment in the function  `vec_mult()` ."
   ]
  },
{
 "cell_type": "markdown",
 "metadata": {},
 "source": [
  " When the type of the variable appearing in an array section is pointer, the pointer  variable and the storage location of the corresponding array section are mapped  to the device data environment. The pointer variable is treated as if it had appeared  in a  `map`  clause with a map-type of  `alloc` . The array section's  storage location is mapped according to the map-type in the  `map`  clause  (the default map-type is  `tofrom` )."
   ]
  },
{
 "cell_type": "markdown",
 "metadata": {},
 "source": [
  " The  `target`  construct's device data environment inherits the storage locations  of the array sections  _v1[0:N]_ ,  _v2[:n]_ , and  _p0[0:N]_  from the enclosing target data  construct's device data environment. Neither initialization nor assignment is performed  for the array sections in the new device data environment."
   ]
  },
{
 "cell_type": "markdown",
 "metadata": {},
 "source": [
  " The pointer variables  _p1_ ,  _v3_ , and  _v4_  are mapped into the target construct's device  data environment with an implicit map-type of alloc and they are assigned the address  of the storage location associated with their corresponding array sections. Note  that the following pairs of array section storage locations are equivalent ( _p0[:N]_ ,   _p1[:N]_ ), ( _v1[:N]_ , _v3[:N]_ ), and ( _v2[:N]_ , _v4[:N]_ )."
   ]
  },
{
 "cell_type": "code",
 "execution_count": null,
 "metadata": {},
 "outputs": [],
 "source": [
 "%load ../sources/Example_target_data.4.c"
   ]
  },
{
 "cell_type": "markdown",
 "metadata": {},
 "source": [
  " The Fortran code maps the pointers and storage in an identical manner (same extent,  but uses indices from 1 to  _N_ )."
   ]
  },
{
 "cell_type": "markdown",
 "metadata": {},
 "source": [
  " The  `target`  construct's device data environment inherits the storage locations  of the arrays  _v1_ ,  _v2_  and  _p0_  from the enclosing  `target`   `data`  constructs's  device data environment. However, in Fortran the associated data of the pointer  is known, and the shape is not required."
   ]
  },
{
 "cell_type": "markdown",
 "metadata": {},
 "source": [
  " The pointer variables  _p1_ ,  _v3_ , and  _v4_  are mapped into the  `target`  construct's  device data environment with an implicit map-type of  `alloc`  and they are  assigned the address of the storage location associated with their corresponding  array sections. Note that the following pair of array storage locations are equivalent  ( _p0_ , _p1_ ), ( _v1_ , _v3_ ), and ( _v2_ , _v4_ )."
   ]
  },
{
 "cell_type": "code",
 "execution_count": null,
 "metadata": {},
 "outputs": [],
 "source": [
 "%load ../sources/Example_target_data.4.f90"
   ]
  },
{
 "cell_type": "markdown",
 "metadata": {},
 "source": [
  " In the following example, the variables  _p1_ ,  _v3_ , and  _v4_  are references to the pointer  variables  _p0_ ,  _v1_  and  _v2_  respectively. The  `target`  construct's device data  environment inherits the pointer variables  _p0_ ,  _v1_ , and  _v2_  from the enclosing  `target`    `data`  construct's device data environment. Thus,  _p1_ ,  _v3_ , and  _v4_  are already  present in the device data environment."
   ]
  },
{
 "cell_type": "code",
 "execution_count": null,
 "metadata": {},
 "outputs": [],
 "source": [
 "%load ../sources/Example_target_data.5.cpp"
   ]
  },
{
 "cell_type": "markdown",
 "metadata": {},
 "source": [
  " In the following example, the usual Fortran approach is used for dynamic memory.  The  _p0_ ,  _v1_ , and  _v2_  arrays are allocated in the main program and passed as references  from one routine to another. In  `vec_mult` ,  _p1_ ,  _v3_  and  _v4_  are references to the   _p0_ ,  _v1_ , and  _v2_  arrays, respectively. The  `target`  construct's device data  environment inherits the arrays  _p0_ ,  _v1_ , and  _v2_  from the enclosing target data construct's  device data environment. Thus,  _p1_ ,  _v3_ , and  _v4_  are already present in the device  data environment."
   ]
  },
{
 "cell_type": "code",
 "execution_count": null,
 "metadata": {},
 "outputs": [],
 "source": [
 "%load ../sources/Example_target_data.5.f90"
   ]
  },
{
 "cell_type": "markdown",
 "metadata": {},
 "source": [
  " ####  `target`   `data`  Construct with  `if`  Clause"
   ]
  },
{
 "cell_type": "markdown",
 "metadata": {},
 "source": [
  " The following two examples show how the  `target`   `data`  construct  maps variables to a device data environment."
   ]
  },
{
 "cell_type": "markdown",
 "metadata": {},
 "source": [
  " In the following example, the if clause on the  `target`   `data`  construct  indicates that if the variable  _N_  is smaller than a given threshold, then the  `target`    `data`  construct will not create a device data environment."
   ]
  },
{
 "cell_type": "markdown",
 "metadata": {},
 "source": [
  " The  `target`  constructs enclosed in the  `target`   `data`  region  must also use an  `if`  clause on the same condition, otherwise the pointer  variable  _p_  is implicitly mapped with a map-type of  `tofrom` , but the storage  location for the array section  _p[0:N]_  will not be mapped in the device data environments  of the  `target`  constructs."
   ]
  },
{
 "cell_type": "code",
 "execution_count": null,
 "metadata": {},
 "outputs": [],
 "source": [
 "%load ../sources/Example_target_data.6.c"
   ]
  },
{
 "cell_type": "markdown",
 "metadata": {},
 "source": [
  " The  `if`  clauses work the same way for the following Fortran code. The  `target`   constructs enclosed in the  `target`   `data`  region should also use  an  `if`  clause with the same condition, so that the  `target`   `data`   region and the  `target`  region are either both created for the device, or  are both ignored."
   ]
  },
{
 "cell_type": "code",
 "execution_count": null,
 "metadata": {},
 "outputs": [],
 "source": [
 "%load ../sources/Example_target_data.6.f90"
   ]
  },
{
 "cell_type": "markdown",
 "metadata": {},
 "source": [
  " In the following example, when the  `if`  clause conditional expression on  the  `target`  construct evaluates to  _false_ , the target region will  execute on the host device. However, the  `target`   `data`  construct  created an enclosing device data environment that mapped  _p[0:N]_  to a device data  environment on the default device. At the end of the  `target`   `data`   region the array section  _p[0:N]_  will be assigned from the device data environment  to the corresponding variable in the data environment of the task that encountered  the  `target`   `data`  construct, resulting in undefined values in  _p[0:N]_ ."
   ]
  },
{
 "cell_type": "code",
 "execution_count": null,
 "metadata": {},
 "outputs": [],
 "source": [
 "%load ../sources/Example_target_data.7.c"
   ]
  },
{
 "cell_type": "markdown",
 "metadata": {},
 "source": [
  " The  `if`  clauses work the same way for the following Fortran code. When  the  `if`  clause conditional expression on the  `target`  construct  evaluates to  _false_ , the  `target`  region will execute on the host  device. However, the  `target`   `data`  construct created an enclosing  device data environment that mapped the  _p_  array (and  _v1_  and  _v2_ ) to a device data  environment on the default target device. At the end of the  `target`   `data`   region the  _p_  array will be assigned from the device data environment to the corresponding  variable in the data environment of the task that encountered the  `target`    `data`  construct, resulting in undefined values in  _p_ ."
   ]
  },
{
 "cell_type": "code",
 "execution_count": null,
 "metadata": {},
 "outputs": [],
 "source": [
 "%load ../sources/Example_target_data.7.f90"
   ]
  },
{
 "cell_type": "markdown",
 "metadata": {},
 "source": [
  "---end---"
   ]
  }
],
"metadata": {
 "kernelspec": {
  "display_name": "C",
  "language": "c",
  "name": "c"
 },
 "language_info": {
  "file_extension": ".c",
  "mimetype": "text/plain",
  "name": "c"
 }
},
"nbformat": 4,
"nbformat_minor": 2
}
