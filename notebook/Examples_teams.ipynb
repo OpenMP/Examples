{
 "cells": [
 {
  "cell_type": "markdown",
  "metadata": {},
  "source": [
   " ###  `teams`  Constructs "
   ]
  },
 {
  "cell_type": "markdown",
  "metadata": {},
  "source": [
   "subsection{ `target`  and  `teams`  Constructs with  `omp_get_num_teams`  "
   ]
  },
 {
  "cell_type": "markdown",
  "metadata": {},
  "source": [
   " and  `omp_get_team_num`  Routines} "
   ]
  },
 {
  "cell_type": "markdown",
  "metadata": {},
  "source": [
   " The following example shows how the  `target`  and  `teams`  constructs  are used to create a league of thread teams that execute a region. The  `teams`   construct creates a league of at most two teams where the master thread of each  team executes the  `teams`  region. "
   ]
  },
 {
  "cell_type": "markdown",
  "metadata": {},
  "source": [
   " The  `omp_get_num_teams`  routine returns the number of teams executing in a  `teams`   region. The  `omp_get_team_num`  routine returns the team number, which is an integer  between 0 and one less than the value returned by  `omp_get_num_teams` . The following  example manually distributes a loop across two teams. "
   ]
  },
 {
  "cell_type": "code",
  "execution_count": null,
  "metadata": {},
  "outputs": [],
  "source": [
   "%load ../sources/Example_teams.1.c "
   ]
  },
 {
  "cell_type": "code",
  "execution_count": null,
  "metadata": {},
  "outputs": [],
  "source": [
   "%load ../sources/Example_teams.1.f90 "
   ]
  },
 {
  "cell_type": "markdown",
  "metadata": {},
  "source": [
   " ####  `target` ,  `teams` , and  `distribute`  Constructs "
   ]
  },
 {
  "cell_type": "markdown",
  "metadata": {},
  "source": [
   " The following example shows how the  `target` ,  `teams` , and  `distribute`   constructs are used to execute a loop nest in a  `target`  region. The  `teams`   construct creates a league and the master thread of each team executes the  `teams`   region. The  `distribute`  construct schedules the subsequent loop iterations  across the master threads of each team. "
   ]
  },
 {
  "cell_type": "markdown",
  "metadata": {},
  "source": [
   " The number of teams in the league is less than or equal to the variable  _num_blocks_ .  Each team in the league has a number of threads less than or equal to the variable   _block_threads_ . The iterations in the outer loop are distributed among the master  threads of each team. "
   ]
  },
 {
  "cell_type": "markdown",
  "metadata": {},
  "source": [
   " When a team's master thread encounters the parallel loop construct before the inner  loop, the other threads in its team are activated. The team executes the  `parallel`   region and then workshares the execution of the loop. "
   ]
  },
 {
  "cell_type": "markdown",
  "metadata": {},
  "source": [
   " Each master thread executing the  `teams`  region has a private copy of the  variable  _sum_  that is created by the  `reduction`  clause on the  `teams`  construct.  The master thread and all threads in its team have a private copy of the variable   _sum_  that is created by the  `reduction`  clause on the parallel loop construct.  The second private  _sum_  is reduced into the master thread's private copy of  _sum_   created by the  `teams`  construct. At the end of the  `teams`  region,  each master thread's private copy of  _sum_  is reduced into the final  _sum_  that is  implicitly mapped into the  `target`  region. "
   ]
  },
 {
  "cell_type": "code",
  "execution_count": null,
  "metadata": {},
  "outputs": [],
  "source": [
   "%load ../sources/Example_teams.2.c "
   ]
  },
 {
  "cell_type": "code",
  "execution_count": null,
  "metadata": {},
  "outputs": [],
  "source": [
   "%load ../sources/Example_teams.2.f90 "
   ]
  },
 {
  "cell_type": "markdown",
  "metadata": {},
  "source": [
   " ####  `target`   `teams` , and Distribute Parallel Loop Constructs "
   ]
  },
 {
  "cell_type": "markdown",
  "metadata": {},
  "source": [
   " The following example shows how the  `target`   `teams`  and distribute  parallel loop constructs are used to execute a  `target`  region. The  `target`    `teams`  construct creates a league of teams where the master thread of each  team executes the  `teams`  region. "
   ]
  },
 {
  "cell_type": "markdown",
  "metadata": {},
  "source": [
   " The distribute parallel loop construct schedules the loop iterations across the  master threads of each team and then across the threads of each team. "
   ]
  },
 {
  "cell_type": "code",
  "execution_count": null,
  "metadata": {},
  "outputs": [],
  "source": [
   "%load ../sources/Example_teams.3.c "
   ]
  },
 {
  "cell_type": "code",
  "execution_count": null,
  "metadata": {},
  "outputs": [],
  "source": [
   "%load ../sources/Example_teams.3.f90 "
   ]
  },
 {
  "cell_type": "markdown",
  "metadata": {},
  "source": [
   "subsection{ `target`   `teams`  and Distribute Parallel Loop  "
   ]
  },
 {
  "cell_type": "markdown",
  "metadata": {},
  "source": [
   " Constructs with Scheduling Clauses} "
   ]
  },
 {
  "cell_type": "markdown",
  "metadata": {},
  "source": [
   " The following example shows how the  `target`   `teams`  and distribute  parallel loop constructs are used to execute a  `target`  region. The  `teams`   construct creates a league of at most eight teams where the master thread of each  team executes the  `teams`  region. The number of threads in each team is  less than or equal to 16. "
   ]
  },
 {
  "cell_type": "markdown",
  "metadata": {},
  "source": [
   " The  `distribute`  parallel loop construct schedules the subsequent loop iterations  across the master threads of each team and then across the threads of each team. "
   ]
  },
 {
  "cell_type": "markdown",
  "metadata": {},
  "source": [
   " The  `dist_schedule`  clause on the distribute parallel loop construct indicates  that loop iterations are distributed to the master thread of each team in chunks  of 1024 iterations. "
   ]
  },
 {
  "cell_type": "markdown",
  "metadata": {},
  "source": [
   " The  `schedule`  clause indicates that the 1024 iterations distributed to  a master thread are then assigned to the threads in its associated team in chunks  of 64 iterations. "
   ]
  },
 {
  "cell_type": "code",
  "execution_count": null,
  "metadata": {},
  "outputs": [],
  "source": [
   "%load ../sources/Example_teams.4.c "
   ]
  },
 {
  "cell_type": "code",
  "execution_count": null,
  "metadata": {},
  "outputs": [],
  "source": [
   "%load ../sources/Example_teams.4.f90 "
   ]
  },
 {
  "cell_type": "markdown",
  "metadata": {},
  "source": [
   " ####  `target`   `teams`  and  `distribute`   `simd`  Constructs "
   ]
  },
 {
  "cell_type": "markdown",
  "metadata": {},
  "source": [
   " The following example shows how the  `target`   `teams`  and  `distribute`    `simd`  constructs are used to execute a loop in a  `target`  region.  The  `target`   `teams`  construct creates a league of teams where the  master thread of each team executes the  `teams`  region. "
   ]
  },
 {
  "cell_type": "markdown",
  "metadata": {},
  "source": [
   " The  `distribute`   `simd`  construct schedules the loop iterations across  the master thread of each team and then uses SIMD parallelism to execute the iterations. "
   ]
  },
 {
  "cell_type": "code",
  "execution_count": null,
  "metadata": {},
  "outputs": [],
  "source": [
   "%load ../sources/Example_teams.5.c "
   ]
  },
 {
  "cell_type": "code",
  "execution_count": null,
  "metadata": {},
  "outputs": [],
  "source": [
   "%load ../sources/Example_teams.5.f90 "
   ]
  },
 {
  "cell_type": "markdown",
  "metadata": {},
  "source": [
   " ####  `target`   `teams`  and Distribute Parallel Loop SIMD Constructs "
   ]
  },
 {
  "cell_type": "markdown",
  "metadata": {},
  "source": [
   " The following example shows how the  `target`   `teams`  and the distribute  parallel loop SIMD constructs are used to execute a loop in a  `target`   `teams`   region. The  `target`   `teams`  construct creates a league of teams  where the master thread of each team executes the  `teams`  region. "
   ]
  },
 {
  "cell_type": "markdown",
  "metadata": {},
  "source": [
   " The distribute parallel loop SIMD construct schedules the loop iterations across  the master thread of each team and then across the threads of each team where each  thread uses SIMD parallelism. "
   ]
  },
 {
  "cell_type": "code",
  "execution_count": null,
  "metadata": {},
  "outputs": [],
  "source": [
   "%load ../sources/Example_teams.6.c "
   ]
  },
 {
  "cell_type": "code",
  "execution_count": null,
  "metadata": {},
  "outputs": [],
  "source": [
   "%load ../sources/Example_teams.6.f90 "
   ]
  },
 {
  "cell_type": "markdown",
  "metadata": {},
  "source": [
   "---end--- "
   ]
  }
 ],
 "metadata": {
  "kernelspec": {
   "display_name": "C",
   "language": "c",
   "name": "c"
  },
  "language_info": {
   "file_extension": ".c",
   "mimetype": "text/plain",
   "name": "c"
  }
 },
 "nbformat": 4,
 "nbformat_minor": 2
}
