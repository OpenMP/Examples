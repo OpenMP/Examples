{
 "cells": [
  {
   "cell_type": "markdown",
   "metadata": {},
   "source": [
    " ### The  `nowait`  Clause"
   ]
  },
  {
   "cell_type": "markdown",
   "metadata": {},
   "source": [
    " If there are multiple independent loops within a  `parallel`  region, you  can use the  `nowait`  clause to avoid the implied barrier at the end of the  loop construct, as follows:"
   ]
  },
  {
   "cell_type": "code",
   "execution_count": null,
   "metadata": {},
   "outputs": [],
   "source": [
    "%load ../sources/Example_nowait.1.c"
   ]
  },
  {
   "cell_type": "code",
   "execution_count": null,
   "metadata": {},
   "outputs": [],
   "source": [
    "%load ../sources/Example_nowait.1.f"
   ]
  },
  {
   "cell_type": "markdown",
   "metadata": {},
   "source": [
    " In the following example, static scheduling distributes the same logical iteration  numbers to the threads that execute the three loop regions. This allows the  `nowait`   clause to be used, even though there is a data dependence between the loops. The  dependence is satisfied as long the same thread executes the same logical iteration  numbers in each loop."
   ]
  },
  {
   "cell_type": "markdown",
   "metadata": {},
   "source": [
    " Note that the iteration count of the loops must be the same. The example satisfies  this requirement, since the iteration space of the first two loops is from  `0`   to  `n-1`  (from  `1`  to  `N`  in the Fortran version), while the  iteration space of the last loop is from  `1`  to  `n`  ( `2`  to   `N+1`  in the Fortran version)."
   ]
  },
  {
   "cell_type": "code",
   "execution_count": null,
   "metadata": {},
   "outputs": [],
   "source": [
    "%load ../sources/Example_nowait.2.c"
   ]
  },
  {
   "cell_type": "code",
   "execution_count": null,
   "metadata": {},
   "outputs": [],
   "source": [
    "%load ../sources/Example_nowait.2.f90"
   ]
  },
  {
   "cell_type": "markdown",
   "metadata": {},
   "source": [
    "---end---"
   ]
  }
 ],
 "metadata": {
  "kernelspec": {
   "display_name": "C",
   "language": "c",
   "name": "c"
  },
  "language_info": {
   "file_extension": ".c",
   "mimetype": "text/plain",
   "name": "c"
  }
 },
 "nbformat": 4,
 "nbformat_minor": 2
}