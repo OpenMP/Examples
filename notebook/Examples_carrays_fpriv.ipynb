{
 "cells": [
  {
   "cell_type": "markdown",
   "metadata": {},
   "source": [
    " ### C/C++ Arrays in a  `firstprivate`  Clause"
   ]
  },
  {
   "cell_type": "markdown",
   "metadata": {},
   "source": [
    " ccppspecificstart"
   ]
  },
  {
   "cell_type": "markdown",
   "metadata": {},
   "source": [
    " The following example illustrates the size and value of list items of array or  pointer type in a  `firstprivate`  clause . The size of new list items is  based on the type of the corresponding original list item, as determined by the  base language."
   ]
  },
  {
   "cell_type": "markdown",
   "metadata": {},
   "source": [
    " In this example:"
   ]
  },
  {
   "cell_type": "markdown",
   "metadata": {},
   "source": [
    "  \n",
"* The type of  `A`  is array of two arrays of two ints."
   ]
  },
  {
   "cell_type": "markdown",
   "metadata": {},
   "source": [
    " \n",
"*  The type of  `B`  is adjusted to pointer to array of  `n`   ints, because it is a function parameter."
   ]
  },
  {
   "cell_type": "markdown",
   "metadata": {},
   "source": [
    " \n",
"*  The type of  `C`  is adjusted to pointer to int, because  it is a function parameter."
   ]
  },
  {
   "cell_type": "markdown",
   "metadata": {},
   "source": [
    " \n",
"*  The type of  `D`  is array of two arrays of two ints."
   ]
  },
  {
   "cell_type": "markdown",
   "metadata": {},
   "source": [
    " \n",
"*  The type of  `E`  is array of  `n`  arrays of  `n`   ints. "
   ]
  },
  {
   "cell_type": "markdown",
   "metadata": {},
   "source": [
    " Note that   `B`  and  `E`  involve variable length array types."
   ]
  },
  {
   "cell_type": "markdown",
   "metadata": {},
   "source": [
    " The new items of array type are initialized as if each integer element of the original  array is assigned to the corresponding element of the new array. Those of pointer  type are initialized as if by assignment from the original \n",
"* to the new item."
   ]
  },
  {
   "cell_type": "code",
   "execution_count": null,
   "metadata": {},
   "outputs": [],
   "source": [
    "%load ../sources/Example_carrays_fpriv.1.c"
   ]
  },
  {
   "cell_type": "markdown",
   "metadata": {},
   "source": [
    " ccppspecificend"
   ]
  },
  {
   "cell_type": "markdown",
   "metadata": {},
   "source": [
    "---end---"
   ]
  }
 ],
 "metadata": {
  "kernelspec": {
   "display_name": "C",
   "language": "c",
   "name": "c"
  },
  "language_info": {
   "file_extension": ".c",
   "mimetype": "text/plain",
   "name": "c"
  }
 },
 "nbformat": 4,
 "nbformat_minor": 2
}