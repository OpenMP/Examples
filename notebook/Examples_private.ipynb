{
 "cells": [
{
 "cell_type": "markdown",
 "metadata": {},
 "source": [
  " ### The  `private`  Clause"
   ]
  },
{
 "cell_type": "markdown",
 "metadata": {},
 "source": [
  " In the following example, the values of original list items  _i_  and  _j_   are retained on exit from the  `parallel`  region, while the private list  items  _i_  and  _j_  are modified within the  `parallel`  construct. "
   ]
  },
{
 "cell_type": "code",
 "execution_count": null,
 "metadata": {},
 "outputs": [],
 "source": [
 "%load ../sources/Example_private.1.c"
   ]
  },
{
 "cell_type": "code",
 "execution_count": null,
 "metadata": {},
 "outputs": [],
 "source": [
 "%load ../sources/Example_private.1.f"
   ]
  },
{
 "cell_type": "markdown",
 "metadata": {},
 "source": [
  " In the following example, all uses of the variable  _a_  within the loop construct  in the routine  _f_  refer to a private list \n",
"*  _a_ , while it is  unspecified whether references to  _a_  in the routine  _g_  are to a  private list \n",
"* or the original list item."
   ]
  },
{
 "cell_type": "code",
 "execution_count": null,
 "metadata": {},
 "outputs": [],
 "source": [
 "%load ../sources/Example_private.2.c"
   ]
  },
{
 "cell_type": "code",
 "execution_count": null,
 "metadata": {},
 "outputs": [],
 "source": [
 "%load ../sources/Example_private.2.f"
   ]
  },
{
 "cell_type": "markdown",
 "metadata": {},
 "source": [
  " The following example demonstrates that a list \n",
"* that appears in a  `private`    clause in a  `parallel`  construct may also appear in a  `private`    clause in an enclosed worksharing construct, which results in an additional private  copy."
   ]
  },
{
 "cell_type": "code",
 "execution_count": null,
 "metadata": {},
 "outputs": [],
 "source": [
 "%load ../sources/Example_private.3.c"
   ]
  },
{
 "cell_type": "code",
 "execution_count": null,
 "metadata": {},
 "outputs": [],
 "source": [
 "%load ../sources/Example_private.3.f"
   ]
  },
{
 "cell_type": "markdown",
 "metadata": {},
 "source": [
  "---end---"
   ]
  }
],
"metadata": {
 "kernelspec": {
  "display_name": "C",
  "language": "c",
  "name": "c"
 },
 "language_info": {
  "file_extension": ".c",
  "mimetype": "text/plain",
  "name": "c"
 }
},
"nbformat": 4,
"nbformat_minor": 2
}
